{
 "cells": [
  {
   "cell_type": "code",
   "execution_count": 56,
   "id": "f12f2a28",
   "metadata": {},
   "outputs": [],
   "source": [
    "import pandas as pd\n",
    "import requests\n",
    "import datetime\n",
    "from datetime import date\n",
    "# Data from https://arbiscan.io/"
   ]
  },
  {
   "cell_type": "code",
   "execution_count": 52,
   "id": "72b6546c",
   "metadata": {},
   "outputs": [],
   "source": [
    "# Contract name = AccessControlledOffchainAggregator or AccessControlledAggregator\n",
    "addr_ids = [\n",
    "    '0x9b8DdcF800a7BfCdEbaD6D65514dE59160a2C9CC',\n",
    "    '0x3c6AbdA21358c15601A3175D8dd66D0c572cc904',\n",
    "    '0x3607e46698d218B3a5Cae44bF381475C0a5e2ca7',\n",
    "    '0x2946220288DbBF77dF0030fCecc2a8348CbBE32C',\n",
    "    '0x244ea8646Cc2342497dFD5D8f841f79e66e598cF',\n",
    "    '0x1b9749e06817433a34D7efAaa0a7f6a94a41E432',\n",
    "    '0x5E4C65194F6F33a8BF7E9B95F1D0Ca9d611F6D62',\n",
    "    '0x660e7aF290F540205A84dccC1F40D0269fC936F5'\n",
    "]\n"
   ]
  },
  {
   "cell_type": "code",
   "execution_count": 53,
   "id": "c3a1dab8",
   "metadata": {},
   "outputs": [],
   "source": [
    "df = pd.DataFrame()\n",
    "apid = []\n",
    "for addr in addr_ids:\n",
    "    api_str = 'https://api.arbiscan.io/api?module=account&action=txlist&address=' + addr + '&startblock=1&endblock=99999999&sort=asc&apikey=YourApiKeyToken'\n",
    "    r = requests.get(api_str)\n",
    "    x = r.json()\n",
    "    x = pd.DataFrame(x)\n",
    "    x = pd.json_normalize(x['result'])\n",
    "    x = x.loc[x['to'] == str.lower(addr)] #Where transactions are being sent to the addresses\n",
    "    #print(x)\n",
    "    apid.append(x)\n",
    "df = pd.concat(apid)\n",
    "#print(df)"
   ]
  },
  {
   "cell_type": "code",
   "execution_count": 58,
   "id": "16e426eb",
   "metadata": {},
   "outputs": [
    {
     "name": "stdout",
     "output_type": "stream",
     "text": [
      "arbiscan_oracle_09-06-2021.csv\n"
     ]
    }
   ],
   "source": [
    "df_export = pd.DataFrame()\n",
    "df_export['dt'] = pd.to_datetime(df['timeStamp'],unit='s') #time is in seconds\n",
    "df_export['hash'] = df['hash']\n",
    "df_export['to'] = df['to']\n",
    "df_export['gas'] = df['gas']\n",
    "df_export['gasPrice'] = df['gasPrice']\n",
    "df_export['gasUsed'] = df['gasUsed']\n",
    "\n",
    "df_export = df_export.drop_duplicates() # just in case\n",
    "export_str = 'arbiscan_oracle_' + date.today().strftime(\"%m_%d_%Y\") + '.csv'\n",
    "print(export_str)\n",
    "#df_export.to_csv('arbiscan_oracle_' + today.strftime(\"%m-%d-%Y\") + '.csv',index=False)"
   ]
  }
 ],
 "metadata": {
  "kernelspec": {
   "display_name": "Python 3",
   "language": "python",
   "name": "python3"
  },
  "language_info": {
   "codemirror_mode": {
    "name": "ipython",
    "version": 3
   },
   "file_extension": ".py",
   "mimetype": "text/x-python",
   "name": "python",
   "nbconvert_exporter": "python",
   "pygments_lexer": "ipython3",
   "version": "3.8.8"
  }
 },
 "nbformat": 4,
 "nbformat_minor": 5
}
