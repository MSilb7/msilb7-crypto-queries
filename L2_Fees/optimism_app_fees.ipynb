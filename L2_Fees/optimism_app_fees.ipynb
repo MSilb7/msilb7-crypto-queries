{
 "cells": [
  {
   "cell_type": "code",
   "execution_count": null,
   "metadata": {},
   "outputs": [],
   "source": [
    "import pandas as pd\n",
    "import requests as r\n",
    "import plotly.express as px\n",
    "import plotly.graph_objects as go\n",
    "from datetime import datetime, timedelta, date\n",
    "import numpy as np\n",
    "import time\n",
    "import os\n",
    "import asyncio, aiohttp, nest_asyncio\n",
    "from aiohttp_retry import RetryClient, ExponentialRetry\n",
    "nest_asyncio.apply()\n",
    "header = {'User-Agent': 'Mozilla/5.0 (Windows NT 10.0; Win64; x64; rv:71.0) Gecko/20100101 Firefox/71.0'}"
   ]
  },
  {
   "cell_type": "code",
   "execution_count": null,
   "metadata": {},
   "outputs": [],
   "source": [
    "#https://stackoverflow.com/questions/23267409/how-to-implement-retry-mechanism-into-python-requests-library\n",
    "\n",
    "import logging\n",
    "import requests\n",
    "\n",
    "from requests.adapters import HTTPAdapter, Retry\n",
    "\n",
    "# logging.basicConfig(level=logging.DEBUG)\n",
    "\n",
    "s = requests.Session()\n",
    "retries = Retry(total=5, backoff_factor=1, status_forcelist=[ 404, 502, 503, 504 ])\n",
    "s.mount('http://', HTTPAdapter(max_retries=retries))\n",
    "\n",
    "pwd = os.getcwd()\n",
    "if 'L2_Fees' in pwd:\n",
    "    prepend = ''\n",
    "else:\n",
    "    prepend = 'L2_Fees/'"
   ]
  },
  {
   "cell_type": "code",
   "execution_count": null,
   "metadata": {},
   "outputs": [],
   "source": [
    "trailing_num_days = 365#90\n",
    "\n",
    "start_date = date.today()-timedelta(days=trailing_num_days +1)\n",
    "\n",
    "start_date = max(start_date, date(2021,11,12))\n",
    "print(start_date)\n",
    "# start_date = datetime.strptime('2022-07-13', '%Y-%m-%d').date()"
   ]
  },
  {
   "cell_type": "code",
   "execution_count": null,
   "metadata": {},
   "outputs": [],
   "source": [
    "eth_prices = r.get(\n",
    "                'https://api.coingecko.com/api/v3/coins/ethereum/market_chart?vs_currency=usd&days='\n",
    "                + str(trailing_num_days)\n",
    "                + '&interval=daily'\n",
    "                )\n",
    "ethp = pd.DataFrame(eth_prices.json()['prices'])\n",
    "ethp.rename(columns={0:'date',1:'eth_price'},inplace=True)\n",
    "ethp['date'] = pd.to_datetime(ethp['date'], unit ='ms')\n",
    "ethp['date'] = ethp['date'].dt.strftime(\"%Y-%m-%d\")\n",
    "ethp.drop_duplicates(subset=['date'],inplace=True,keep='first')"
   ]
  },
  {
   "cell_type": "code",
   "execution_count": null,
   "metadata": {},
   "outputs": [],
   "source": [
    "statuses = {x for x in range(100, 600)}\n",
    "statuses.remove(200)\n",
    "statuses.remove(429)"
   ]
  },
  {
   "cell_type": "code",
   "execution_count": null,
   "metadata": {},
   "outputs": [],
   "source": [
    "async def get_cryptostats_api(api_core_string,dt_string ):\n",
    "        dt_string = dt_string.strftime(\"%Y-%m-%d\")\n",
    "        # print(dt_string)\n",
    "        i = 0\n",
    "        res = pd.DataFrame()\n",
    "        # #try 5 times\n",
    "        # while i < 5:\n",
    "        #         try: \n",
    "        # async with aiohttp.ClientSession() as session:\n",
    "        retry_client = RetryClient()\n",
    "        async with retry_client.get(api_core_string + dt_string, retry_options=ExponentialRetry(attempts=10), raise_for_status=statuses) as response:\n",
    "                try:\n",
    "                        prot_req = await response.json()\n",
    "                        res = pd.json_normalize(prot_req['data']).reset_index()\n",
    "                        res['date'] = dt_string\n",
    "                except Exception as e:\n",
    "                        raise Exception(\"Could not convert json\")\n",
    "        await retry_client.close()\n",
    "                \n",
    "                # prot_req = await retry_client.get(api_core_string + dt_string, headers=header)\n",
    "                # prot_req = await prot_req.json()\n",
    "        \n",
    "                # except:\n",
    "                #         i = i+1\n",
    "                #         time.sleep(1)\n",
    "                #         continue\n",
    "                # break\n",
    "        return res\n",
    "\n",
    "# async def gather_with_concurrency(n, *tasks):\n",
    "#     semaphore = asyncio.Semaphore(n)\n",
    "#     async def sem_task(task):\n",
    "#         async with semaphore:\n",
    "#             return await task\n",
    "        "
   ]
  },
  {
   "cell_type": "code",
   "execution_count": null,
   "metadata": {},
   "outputs": [],
   "source": [
    "# ALL Relevant API Strings\n",
    "# https://cryptostats.community/discover/fees\n",
    "# This is dependent on crypto stats, eventually maybe we mod this to pull from TheGraph, but this is simplest por ahora\n",
    "# https://docs.cryptostats.community/tutorial/how-to-query-with-rest-api/making-get-requests\n",
    "        #How to make a single query\n",
    "        #To make a single query on a collection. Send a GET request to\n",
    "        #https://api.cryptostats.community/api/v1/<collection-id>/<query>/<arg>\n",
    "        \n",
    "        # How to make multiple queries\n",
    "        # To make multiple queries on a collection, send a GET request to\n",
    "        # https://api.cryptostats.community/api/v1/<collection-id>/<query-1>,<query-2>/<query-1-arg>,<query-2-arg>\n",
    "\n",
    "api_core = 'https://api.cryptostats.community/api/v1/fees/oneDayTotalFees/' #Can only pull everything all at once. Odd.\n",
    "date_rng = pd.date_range(start=start_date, end=date.today()-timedelta(days=1))\n",
    "date_rng_str = ','.join(x.strftime(\"%Y-%m-%d\") for x in date_rng)\n",
    "# print(date_rng[0].strftime(\"%Y-%m-%d\"))"
   ]
  },
  {
   "cell_type": "code",
   "execution_count": null,
   "metadata": {},
   "outputs": [],
   "source": [
    "def get_range(date_range):\n",
    "        data_dfs = []\n",
    "        fee_df = []\n",
    "        # for dt in date_range:\n",
    "        #         await asyncio.gather()\n",
    "        #         data_dfs.append(res_df)\n",
    "        #         # res.columns\n",
    "        # try:\n",
    "        #         loop.close()\n",
    "        # except:\n",
    "        #         #nothing\n",
    "        loop = asyncio.get_event_loop()\n",
    "        tasks = [get_cryptostats_api(api_core,dt) for dt in date_range]\n",
    "        # print(tasks)\n",
    "        data_dfs = loop.run_until_complete(asyncio.gather(*tasks, return_exceptions=True))\n",
    "        # print(date_range)\n",
    "        # loop.close()\n",
    "        # print(data_dfs)\n",
    "        fee_df = pd.concat(data_dfs)\n",
    "        return fee_df"
   ]
  },
  {
   "cell_type": "code",
   "execution_count": null,
   "metadata": {},
   "outputs": [],
   "source": [
    "\n",
    "\n",
    "fdf = get_range(date_rng)\n",
    "# r.get('https://api.cryptostats.community/api/v1/fees/oneDayTotalFees/2022-05-21')\n",
    "# print(r)"
   ]
  },
  {
   "cell_type": "code",
   "execution_count": null,
   "metadata": {},
   "outputs": [],
   "source": [
    "fdf['results.oneDayTotalFees'] = fdf['results.oneDayTotalFees'].fillna(0)\n",
    "display(fdf)"
   ]
  },
  {
   "cell_type": "code",
   "execution_count": null,
   "metadata": {},
   "outputs": [],
   "source": [
    "data_fdf = fdf[['id','metadata.blockchain','results.oneDayTotalFees','metadata.name','metadata.category','date']]\n",
    "data_fdf = data_fdf.merge(ethp,on='date',how='left')\n",
    "\n",
    "data_fdf = data_fdf.groupby(['date','metadata.blockchain','metadata.name']).sum()\n",
    "data_fdf.reset_index(inplace=True)\n",
    "# Exclude the chain's fees\n",
    "data_fdf = data_fdf[data_fdf['metadata.blockchain'] != data_fdf['metadata.name']]\n",
    "\n",
    "data_fdf['oneDayTotalFees_ETH'] = data_fdf['results.oneDayTotalFees']/data_fdf['eth_price']\n",
    "data_fdf"
   ]
  },
  {
   "cell_type": "code",
   "execution_count": null,
   "metadata": {},
   "outputs": [],
   "source": [
    "data_fdf_op = data_fdf[data_fdf['metadata.blockchain'] == 'Optimism']\n",
    "\n",
    "# display(data_fdf_op)\n",
    "\n",
    "data_fdf_chain = data_fdf.groupby(['date','metadata.blockchain']).sum()\n",
    "data_fdf_chain.reset_index(inplace=True)\n",
    "\n",
    "data_fdf_chain = data_fdf_chain[data_fdf_chain['metadata.blockchain'] == 'Optimism']\n",
    "data_fdf_chain.reset_index(inplace=True,drop=True)\n",
    "\n",
    "data_fdf_chain.sort_values(by =['date','results.oneDayTotalFees'], ascending = [True,False],inplace = True)\n",
    "data_fdf_chain['fees_30_day_avg'] = data_fdf_chain.groupby('metadata.blockchain')['results.oneDayTotalFees'].rolling(30,min_periods=1).mean().reset_index(0,drop=True)\n",
    "data_fdf_chain['fees_90_day_avg'] = data_fdf_chain.groupby('metadata.blockchain')['results.oneDayTotalFees'].rolling(90,min_periods=1).mean().reset_index(0,drop=True)\n",
    "\n",
    "data_fdf_chain['fees_30_day_avg_eth'] = data_fdf_chain.groupby('metadata.blockchain')['oneDayTotalFees_ETH'].rolling(30,min_periods=1).mean().reset_index(0,drop=True)\n",
    "data_fdf_chain['fees_90_day_avg_eth'] = data_fdf_chain.groupby('metadata.blockchain')['oneDayTotalFees_ETH'].rolling(90,min_periods=1).mean().reset_index(0,drop=True)\n",
    "\n",
    "\n",
    "#compound monthly growth rates\n",
    "# https://velawoodlaw.com/glossary-term/compounded-monthly-growth-rate-cmgr/#:~:text=Compounded%20Monthly%20Growth%20Rate%20(CMGR)%20is%20a%20calculation%20that%20helps,of%20Months)%20-1%5D.\n",
    "# CMGR = (Latest Month/ First Month)^(1/# of Months) -1].\n",
    "data_fdf_chain['fees_1q_cmgr'] = (\n",
    "                                data_fdf_chain['fees_30_day_avg']\n",
    "                                / data_fdf_chain.groupby('metadata.blockchain')['fees_30_day_avg'].shift(30*3*1)\n",
    "                                ) ** (1/(3*1)) - 1\n",
    "\n",
    "data_fdf_chain['fees_3q_cmgr'] = (\n",
    "                                data_fdf_chain['fees_30_day_avg']\n",
    "                                / data_fdf_chain.groupby('metadata.blockchain')['fees_30_day_avg'].shift(30*3*3)\n",
    "                                ) ** (1/(3*3)) - 1\n",
    "data_fdf_chain['fees_1q_cmgr_eth'] = (\n",
    "                                data_fdf_chain['fees_30_day_avg_eth']\n",
    "                                / data_fdf_chain.groupby('metadata.blockchain')['fees_30_day_avg_eth'].shift(30*3*1)\n",
    "                                ) ** (1/(3*1)) - 1\n",
    "\n",
    "data_fdf_chain['fees_3q_cmgr_eth'] = (\n",
    "                                data_fdf_chain['fees_30_day_avg_eth']\n",
    "                                / data_fdf_chain.groupby('metadata.blockchain')['fees_30_day_avg_eth'].shift(30*3*3)\n",
    "                                ) ** (1/(3*3)) - 1\n",
    "# #if focus on op\n",
    "\n",
    "display(data_fdf_chain)"
   ]
  },
  {
   "cell_type": "code",
   "execution_count": null,
   "metadata": {},
   "outputs": [],
   "source": [
    "fig = px.line(data_fdf_op, x=\"date\", y=\"results.oneDayTotalFees\", color='metadata.name', title = 'Fees Earned on Optimism (USD)')\n",
    "fig.update_layout(yaxis_tickprefix = '$')\n",
    "# fig.show()\n",
    "\n",
    "fig.write_image(prepend + \"img_outputs/svg/app_fees_on_op.svg\") #prepend + \n",
    "fig.write_image(prepend + \"img_outputs/png/app_fees_on_op.png\") #prepend + \n",
    "fig.write_html(prepend + \"img_outputs/app_fees_on_op.html\", include_plotlyjs='cdn')"
   ]
  },
  {
   "cell_type": "code",
   "execution_count": null,
   "metadata": {},
   "outputs": [],
   "source": [
    "fig_chain = px.line(data_fdf_chain, x=\"date\", y=\"results.oneDayTotalFees\", color = \"metadata.blockchain\", title = 'Sum Fees Earned on apps by Chain (USD)')\n",
    "fig_chain.update_layout(yaxis_tickprefix = '$')\n",
    "# fig_chain.show()\n",
    "\n",
    "fig_chain.write_image(prepend + \"img_outputs/svg/app_fees_by_chain.svg\") #prepend + \n",
    "fig_chain.write_image(prepend + \"img_outputs/png/app_fees_by_chain.png\") #prepend + \n",
    "fig_chain.write_html(prepend + \"img_outputs/app_fees_by_chain.html\", include_plotlyjs='cdn')"
   ]
  },
  {
   "cell_type": "code",
   "execution_count": null,
   "metadata": {},
   "outputs": [],
   "source": [
    "fig_chain_30d = px.line(data_fdf_chain, x=\"date\", y=\"results.oneDayTotalFees\", color = \"metadata.blockchain\", title = 'Sum Fees Earned on apps by Chain (USD)')\n",
    "fig_chain_30d.update_layout(yaxis_tickprefix = '$')\n",
    "fig_chain_30d.show()"
   ]
  },
  {
   "cell_type": "code",
   "execution_count": 162,
   "metadata": {},
   "outputs": [
    {
     "name": "stdout",
     "output_type": "stream",
     "text": [
      "[NbConvertApp] Converting notebook optimism_app_fees.ipynb to python\n",
      "[NbConvertApp] Writing 9454 bytes to optimism_app_fees.py\n"
     ]
    }
   ],
   "source": [
    "# ! jupyter nbconvert --to python optimism_app_fees.ipynb"
   ]
  }
 ],
 "metadata": {
  "kernelspec": {
   "display_name": "Python 3.9.7 ('base')",
   "language": "python",
   "name": "python3"
  },
  "language_info": {
   "codemirror_mode": {
    "name": "ipython",
    "version": 3
   },
   "file_extension": ".py",
   "mimetype": "text/x-python",
   "name": "python",
   "nbconvert_exporter": "python",
   "pygments_lexer": "ipython3",
   "version": "3.9.7"
  },
  "orig_nbformat": 4,
  "vscode": {
   "interpreter": {
    "hash": "17c021eea7371cec353b12daa8dd7517ddfe82cfa4c2626e1e7d1541ccab7c49"
   }
  }
 },
 "nbformat": 4,
 "nbformat_minor": 2
}
