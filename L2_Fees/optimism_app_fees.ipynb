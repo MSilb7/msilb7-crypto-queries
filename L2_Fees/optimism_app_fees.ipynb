{
 "cells": [
  {
   "cell_type": "code",
   "execution_count": 163,
   "metadata": {},
   "outputs": [],
   "source": [
    "import pandas as pd\n",
    "import requests as r\n",
    "import plotly.express as px\n",
    "import plotly.graph_objects as go\n",
    "from datetime import datetime, timedelta, date\n",
    "import numpy as np\n",
    "import time\n",
    "import os\n",
    "import asyncio, aiohttp, nest_asyncio\n",
    "from aiohttp_retry import RetryClient, ExponentialRetry\n",
    "nest_asyncio.apply()\n",
    "header = {'User-Agent': 'Mozilla/5.0 (Windows NT 10.0; Win64; x64; rv:71.0) Gecko/20100101 Firefox/71.0'}"
   ]
  },
  {
   "cell_type": "code",
   "execution_count": 164,
   "metadata": {},
   "outputs": [],
   "source": [
    "#https://stackoverflow.com/questions/23267409/how-to-implement-retry-mechanism-into-python-requests-library\n",
    "\n",
    "import logging\n",
    "import requests\n",
    "\n",
    "from requests.adapters import HTTPAdapter, Retry\n",
    "\n",
    "# logging.basicConfig(level=logging.DEBUG)\n",
    "\n",
    "s = requests.Session()\n",
    "retries = Retry(total=5, backoff_factor=1, status_forcelist=[ 404, 502, 503, 504 ])\n",
    "s.mount('http://', HTTPAdapter(max_retries=retries))\n",
    "\n",
    "pwd = os.getcwd()\n",
    "if 'L2_Fees' in pwd:\n",
    "    prepend = ''\n",
    "else:\n",
    "    prepend = 'L2_Fees/'"
   ]
  },
  {
   "cell_type": "code",
   "execution_count": 165,
   "metadata": {},
   "outputs": [
    {
     "name": "stdout",
     "output_type": "stream",
     "text": [
      "2021-11-12\n"
     ]
    }
   ],
   "source": [
    "trailing_num_days = 365#90\n",
    "\n",
    "start_date = date.today()-timedelta(days=trailing_num_days +1)\n",
    "\n",
    "start_date = max(start_date, date(2021,11,12))\n",
    "print(start_date)\n",
    "# start_date = datetime.strptime('2022-07-13', '%Y-%m-%d').date()"
   ]
  },
  {
   "cell_type": "code",
   "execution_count": 166,
   "metadata": {},
   "outputs": [],
   "source": [
    "eth_prices = r.get(\n",
    "                'https://api.coingecko.com/api/v3/coins/ethereum/market_chart?vs_currency=usd&days='\n",
    "                + str(trailing_num_days)\n",
    "                + '&interval=daily'\n",
    "                )\n",
    "ethp = pd.DataFrame(eth_prices.json()['prices'])\n",
    "ethp.rename(columns={0:'date',1:'eth_price'},inplace=True)\n",
    "ethp['date'] = pd.to_datetime(ethp['date'], unit ='ms')\n",
    "ethp['date'] = ethp['date'].dt.strftime(\"%Y-%m-%d\")\n",
    "ethp.drop_duplicates(subset=['date'],inplace=True,keep='first')"
   ]
  },
  {
   "cell_type": "code",
   "execution_count": 167,
   "metadata": {},
   "outputs": [],
   "source": [
    "statuses = {x for x in range(100, 600)}\n",
    "statuses.remove(200)\n",
    "statuses.remove(429)"
   ]
  },
  {
   "cell_type": "code",
   "execution_count": 168,
   "metadata": {},
   "outputs": [],
   "source": [
    "async def get_cryptostats_api(api_core_string,dt_string ):\n",
    "        dt_string = dt_string.strftime(\"%Y-%m-%d\")\n",
    "        # print(dt_string)\n",
    "        i = 0\n",
    "        res = pd.DataFrame()\n",
    "        # #try 5 times\n",
    "        # while i < 5:\n",
    "        #         try: \n",
    "        # async with aiohttp.ClientSession() as session:\n",
    "        retry_client = RetryClient()\n",
    "        async with retry_client.get(api_core_string + dt_string, retry_options=ExponentialRetry(attempts=10), raise_for_status=statuses) as response:\n",
    "                try:\n",
    "                        prot_req = await response.json()\n",
    "                        res = pd.json_normalize(prot_req['data']).reset_index()\n",
    "                        res['date'] = dt_string\n",
    "                except Exception as e:\n",
    "                        raise Exception(\"Could not convert json\")\n",
    "        await retry_client.close()\n",
    "                \n",
    "                # prot_req = await retry_client.get(api_core_string + dt_string, headers=header)\n",
    "                # prot_req = await prot_req.json()\n",
    "        \n",
    "                # except:\n",
    "                #         i = i+1\n",
    "                #         time.sleep(1)\n",
    "                #         continue\n",
    "                # break\n",
    "        return res\n",
    "\n",
    "# async def gather_with_concurrency(n, *tasks):\n",
    "#     semaphore = asyncio.Semaphore(n)\n",
    "#     async def sem_task(task):\n",
    "#         async with semaphore:\n",
    "#             return await task\n",
    "        "
   ]
  },
  {
   "cell_type": "code",
   "execution_count": 169,
   "metadata": {},
   "outputs": [],
   "source": [
    "# ALL Relevant API Strings\n",
    "# https://cryptostats.community/discover/fees\n",
    "# This is dependent on crypto stats, eventually maybe we mod this to pull from TheGraph, but this is simplest por ahora\n",
    "# https://docs.cryptostats.community/tutorial/how-to-query-with-rest-api/making-get-requests\n",
    "        #How to make a single query\n",
    "        #To make a single query on a collection. Send a GET request to\n",
    "        #https://api.cryptostats.community/api/v1/<collection-id>/<query>/<arg>\n",
    "        \n",
    "        # How to make multiple queries\n",
    "        # To make multiple queries on a collection, send a GET request to\n",
    "        # https://api.cryptostats.community/api/v1/<collection-id>/<query-1>,<query-2>/<query-1-arg>,<query-2-arg>\n",
    "\n",
    "api_core = 'https://api.cryptostats.community/api/v1/fees/oneDayTotalFees/' #Can only pull everything all at once. Odd.\n",
    "date_rng = pd.date_range(start=start_date, end=date.today()-timedelta(days=1))\n",
    "date_rng_str = ','.join(x.strftime(\"%Y-%m-%d\") for x in date_rng)\n",
    "# print(date_rng[0].strftime(\"%Y-%m-%d\"))"
   ]
  },
  {
   "cell_type": "code",
   "execution_count": 170,
   "metadata": {},
   "outputs": [],
   "source": [
    "def get_range(date_range):\n",
    "        data_dfs = []\n",
    "        fee_df = []\n",
    "        # for dt in date_range:\n",
    "        #         await asyncio.gather()\n",
    "        #         data_dfs.append(res_df)\n",
    "        #         # res.columns\n",
    "        # try:\n",
    "        #         loop.close()\n",
    "        # except:\n",
    "        #         #nothing\n",
    "        loop = asyncio.get_event_loop()\n",
    "        tasks = [get_cryptostats_api(api_core,dt) for dt in date_range]\n",
    "        # print(tasks)\n",
    "        data_dfs = loop.run_until_complete(asyncio.gather(*tasks, return_exceptions=True))\n",
    "        # print(date_range)\n",
    "        # loop.close()\n",
    "        # print(data_dfs)\n",
    "        fee_df = pd.concat(data_dfs)\n",
    "        return fee_df"
   ]
  },
  {
   "cell_type": "code",
   "execution_count": 171,
   "metadata": {},
   "outputs": [],
   "source": [
    "\n",
    "\n",
    "fdf = get_range(date_rng)\n",
    "# r.get('https://api.cryptostats.community/api/v1/fees/oneDayTotalFees/2022-05-21')\n",
    "# print(r)"
   ]
  },
  {
   "cell_type": "code",
   "execution_count": 172,
   "metadata": {},
   "outputs": [
    {
     "data": {
      "text/html": [
       "<div>\n",
       "<style scoped>\n",
       "    .dataframe tbody tr th:only-of-type {\n",
       "        vertical-align: middle;\n",
       "    }\n",
       "\n",
       "    .dataframe tbody tr th {\n",
       "        vertical-align: top;\n",
       "    }\n",
       "\n",
       "    .dataframe thead th {\n",
       "        text-align: right;\n",
       "    }\n",
       "</style>\n",
       "<table border=\"1\" class=\"dataframe\">\n",
       "  <thead>\n",
       "    <tr style=\"text-align: right;\">\n",
       "      <th></th>\n",
       "      <th>index</th>\n",
       "      <th>id</th>\n",
       "      <th>bundle</th>\n",
       "      <th>results.oneDayTotalFees</th>\n",
       "      <th>metadata.source</th>\n",
       "      <th>metadata.icon</th>\n",
       "      <th>metadata.name</th>\n",
       "      <th>metadata.category</th>\n",
       "      <th>metadata.description</th>\n",
       "      <th>metadata.feeDescription</th>\n",
       "      <th>...</th>\n",
       "      <th>metadata.shortName</th>\n",
       "      <th>metadata.events</th>\n",
       "      <th>errors.oneDayTotalFees</th>\n",
       "      <th>metadata.protocolShutdown</th>\n",
       "      <th>metadata.tokenSymbol</th>\n",
       "      <th>metadata.bundle</th>\n",
       "      <th>metadata.subcategory</th>\n",
       "      <th>metadata.tokenticker</th>\n",
       "      <th>metadata.tokencoingecko</th>\n",
       "      <th>date</th>\n",
       "    </tr>\n",
       "  </thead>\n",
       "  <tbody>\n",
       "    <tr>\n",
       "      <th>0</th>\n",
       "      <td>0</td>\n",
       "      <td>compound</td>\n",
       "      <td>None</td>\n",
       "      <td>729130.234330</td>\n",
       "      <td>Messari Subgraph</td>\n",
       "      <td>data:image/svg+xml;base64,PHN2ZyB2aWV3Qm94PSIw...</td>\n",
       "      <td>Compound</td>\n",
       "      <td>lending</td>\n",
       "      <td>Compound is an open borrowing &amp; lending protocol.</td>\n",
       "      <td>Interest fees are paid from borrowers to lenders.</td>\n",
       "      <td>...</td>\n",
       "      <td>NaN</td>\n",
       "      <td>NaN</td>\n",
       "      <td>NaN</td>\n",
       "      <td>NaN</td>\n",
       "      <td>NaN</td>\n",
       "      <td>NaN</td>\n",
       "      <td>NaN</td>\n",
       "      <td>NaN</td>\n",
       "      <td>NaN</td>\n",
       "      <td>2021-11-12</td>\n",
       "    </tr>\n",
       "    <tr>\n",
       "      <th>1</th>\n",
       "      <td>1</td>\n",
       "      <td>polymarket</td>\n",
       "      <td>None</td>\n",
       "      <td>3291.721455</td>\n",
       "      <td>The Graph Protocol</td>\n",
       "      <td>data:image/svg+xml;base64,PHN2ZyB2aWV3Qm94PSIw...</td>\n",
       "      <td>Polymarket</td>\n",
       "      <td>dex</td>\n",
       "      <td>Polymarket is a prediction market.</td>\n",
       "      <td>Trading fees are paid by traders to liquidity ...</td>\n",
       "      <td>...</td>\n",
       "      <td>NaN</td>\n",
       "      <td>NaN</td>\n",
       "      <td>NaN</td>\n",
       "      <td>NaN</td>\n",
       "      <td>NaN</td>\n",
       "      <td>NaN</td>\n",
       "      <td>NaN</td>\n",
       "      <td>NaN</td>\n",
       "      <td>NaN</td>\n",
       "      <td>2021-11-12</td>\n",
       "    </tr>\n",
       "    <tr>\n",
       "      <th>2</th>\n",
       "      <td>2</td>\n",
       "      <td>balancer-v1</td>\n",
       "      <td>balancer</td>\n",
       "      <td>20082.411754</td>\n",
       "      <td>The Graph Protocol</td>\n",
       "      <td>data:image/svg+xml;base64,PHN2ZyB4bWxucz0iaHR0...</td>\n",
       "      <td>Balancer</td>\n",
       "      <td>dex</td>\n",
       "      <td>Balancer is a decentralized exchange &amp; asset p...</td>\n",
       "      <td>Trading fees are paid by traders to liquidity ...</td>\n",
       "      <td>...</td>\n",
       "      <td>NaN</td>\n",
       "      <td>NaN</td>\n",
       "      <td>NaN</td>\n",
       "      <td>NaN</td>\n",
       "      <td>NaN</td>\n",
       "      <td>NaN</td>\n",
       "      <td>NaN</td>\n",
       "      <td>NaN</td>\n",
       "      <td>NaN</td>\n",
       "      <td>2021-11-12</td>\n",
       "    </tr>\n",
       "    <tr>\n",
       "      <th>3</th>\n",
       "      <td>3</td>\n",
       "      <td>balancerv2</td>\n",
       "      <td>balancer</td>\n",
       "      <td>438497.945373</td>\n",
       "      <td>The Graph Protocol</td>\n",
       "      <td>data:image/svg+xml;base64,PHN2ZyB4bWxucz0iaHR0...</td>\n",
       "      <td>Balancer</td>\n",
       "      <td>dex</td>\n",
       "      <td>Balancer is a decentralized exchange &amp; asset p...</td>\n",
       "      <td>Trading fees are paid by traders to liquidity ...</td>\n",
       "      <td>...</td>\n",
       "      <td>NaN</td>\n",
       "      <td>NaN</td>\n",
       "      <td>NaN</td>\n",
       "      <td>NaN</td>\n",
       "      <td>NaN</td>\n",
       "      <td>NaN</td>\n",
       "      <td>NaN</td>\n",
       "      <td>NaN</td>\n",
       "      <td>NaN</td>\n",
       "      <td>2021-11-12</td>\n",
       "    </tr>\n",
       "    <tr>\n",
       "      <th>4</th>\n",
       "      <td>4</td>\n",
       "      <td>balancerv2-polygon</td>\n",
       "      <td>balancer</td>\n",
       "      <td>29861.875715</td>\n",
       "      <td>The Graph Protocol</td>\n",
       "      <td>data:image/svg+xml;base64,PHN2ZyB4bWxucz0iaHR0...</td>\n",
       "      <td>Balancer</td>\n",
       "      <td>dex</td>\n",
       "      <td>Balancer is a decentralized exchange &amp; asset p...</td>\n",
       "      <td>Trading fees are paid by traders to liquidity ...</td>\n",
       "      <td>...</td>\n",
       "      <td>NaN</td>\n",
       "      <td>NaN</td>\n",
       "      <td>NaN</td>\n",
       "      <td>NaN</td>\n",
       "      <td>NaN</td>\n",
       "      <td>NaN</td>\n",
       "      <td>NaN</td>\n",
       "      <td>NaN</td>\n",
       "      <td>NaN</td>\n",
       "      <td>2021-11-12</td>\n",
       "    </tr>\n",
       "    <tr>\n",
       "      <th>...</th>\n",
       "      <td>...</td>\n",
       "      <td>...</td>\n",
       "      <td>...</td>\n",
       "      <td>...</td>\n",
       "      <td>...</td>\n",
       "      <td>...</td>\n",
       "      <td>...</td>\n",
       "      <td>...</td>\n",
       "      <td>...</td>\n",
       "      <td>...</td>\n",
       "      <td>...</td>\n",
       "      <td>...</td>\n",
       "      <td>...</td>\n",
       "      <td>...</td>\n",
       "      <td>...</td>\n",
       "      <td>...</td>\n",
       "      <td>...</td>\n",
       "      <td>...</td>\n",
       "      <td>...</td>\n",
       "      <td>...</td>\n",
       "      <td>...</td>\n",
       "    </tr>\n",
       "    <tr>\n",
       "      <th>100</th>\n",
       "      <td>100</td>\n",
       "      <td>curve-optimism</td>\n",
       "      <td>curve</td>\n",
       "      <td>262.264780</td>\n",
       "      <td>The Graph Protocol</td>\n",
       "      <td>data:image/png;base64,iVBORw0KGgoAAAANSUhEUgAA...</td>\n",
       "      <td>Curve</td>\n",
       "      <td>dex</td>\n",
       "      <td>Curve is a community-owned permissionless, dec...</td>\n",
       "      <td>Trading fees are paid by traders to liquidity ...</td>\n",
       "      <td>...</td>\n",
       "      <td>NaN</td>\n",
       "      <td>NaN</td>\n",
       "      <td>NaN</td>\n",
       "      <td>NaN</td>\n",
       "      <td>NaN</td>\n",
       "      <td>NaN</td>\n",
       "      <td>NaN</td>\n",
       "      <td>NaN</td>\n",
       "      <td>NaN</td>\n",
       "      <td>2022-08-31</td>\n",
       "    </tr>\n",
       "    <tr>\n",
       "      <th>101</th>\n",
       "      <td>101</td>\n",
       "      <td>curve-polygon</td>\n",
       "      <td>curve</td>\n",
       "      <td>7.037025</td>\n",
       "      <td>The Graph Protocol</td>\n",
       "      <td>data:image/png;base64,iVBORw0KGgoAAAANSUhEUgAA...</td>\n",
       "      <td>Curve</td>\n",
       "      <td>dex</td>\n",
       "      <td>Curve is a community-owned permissionless, dec...</td>\n",
       "      <td>Trading fees are paid by traders to liquidity ...</td>\n",
       "      <td>...</td>\n",
       "      <td>NaN</td>\n",
       "      <td>NaN</td>\n",
       "      <td>NaN</td>\n",
       "      <td>NaN</td>\n",
       "      <td>NaN</td>\n",
       "      <td>NaN</td>\n",
       "      <td>NaN</td>\n",
       "      <td>NaN</td>\n",
       "      <td>NaN</td>\n",
       "      <td>2022-08-31</td>\n",
       "    </tr>\n",
       "    <tr>\n",
       "      <th>102</th>\n",
       "      <td>102</td>\n",
       "      <td>curve-avalanche</td>\n",
       "      <td>curve</td>\n",
       "      <td>46.920480</td>\n",
       "      <td>The Graph Protocol</td>\n",
       "      <td>data:image/png;base64,iVBORw0KGgoAAAANSUhEUgAA...</td>\n",
       "      <td>Curve</td>\n",
       "      <td>dex</td>\n",
       "      <td>Curve is a community-owned permissionless, dec...</td>\n",
       "      <td>Trading fees are paid by traders to liquidity ...</td>\n",
       "      <td>...</td>\n",
       "      <td>NaN</td>\n",
       "      <td>NaN</td>\n",
       "      <td>NaN</td>\n",
       "      <td>NaN</td>\n",
       "      <td>NaN</td>\n",
       "      <td>NaN</td>\n",
       "      <td>NaN</td>\n",
       "      <td>NaN</td>\n",
       "      <td>NaN</td>\n",
       "      <td>2022-08-31</td>\n",
       "    </tr>\n",
       "    <tr>\n",
       "      <th>103</th>\n",
       "      <td>103</td>\n",
       "      <td>curve-fantom</td>\n",
       "      <td>curve</td>\n",
       "      <td>58.497125</td>\n",
       "      <td>The Graph Protocol</td>\n",
       "      <td>data:image/png;base64,iVBORw0KGgoAAAANSUhEUgAA...</td>\n",
       "      <td>Curve</td>\n",
       "      <td>dex</td>\n",
       "      <td>Curve is a community-owned permissionless, dec...</td>\n",
       "      <td>Trading fees are paid by traders to liquidity ...</td>\n",
       "      <td>...</td>\n",
       "      <td>NaN</td>\n",
       "      <td>NaN</td>\n",
       "      <td>NaN</td>\n",
       "      <td>NaN</td>\n",
       "      <td>NaN</td>\n",
       "      <td>NaN</td>\n",
       "      <td>NaN</td>\n",
       "      <td>NaN</td>\n",
       "      <td>NaN</td>\n",
       "      <td>2022-08-31</td>\n",
       "    </tr>\n",
       "    <tr>\n",
       "      <th>104</th>\n",
       "      <td>104</td>\n",
       "      <td>ens</td>\n",
       "      <td>None</td>\n",
       "      <td>168479.879481</td>\n",
       "      <td>The Graph Protocol</td>\n",
       "      <td>data:image/svg+xml;base64,PHN2ZyB2aWV3Qm94PSIw...</td>\n",
       "      <td>Ethereum Name Service</td>\n",
       "      <td>Application Protocol</td>\n",
       "      <td>ENS is a naming protocol for wallets, websites...</td>\n",
       "      <td>Registration fees are paid to the DAO treasury.</td>\n",
       "      <td>...</td>\n",
       "      <td>NaN</td>\n",
       "      <td>[{'date': '2021-11-09', 'description': 'ENS DA...</td>\n",
       "      <td>NaN</td>\n",
       "      <td>NaN</td>\n",
       "      <td>NaN</td>\n",
       "      <td>NaN</td>\n",
       "      <td>Identity</td>\n",
       "      <td>ENS</td>\n",
       "      <td>ethereum-name-service</td>\n",
       "      <td>2022-08-31</td>\n",
       "    </tr>\n",
       "  </tbody>\n",
       "</table>\n",
       "<p>30765 rows × 28 columns</p>\n",
       "</div>"
      ],
      "text/plain": [
       "     index                  id    bundle  results.oneDayTotalFees  \\\n",
       "0        0            compound      None            729130.234330   \n",
       "1        1          polymarket      None              3291.721455   \n",
       "2        2         balancer-v1  balancer             20082.411754   \n",
       "3        3          balancerv2  balancer            438497.945373   \n",
       "4        4  balancerv2-polygon  balancer             29861.875715   \n",
       "..     ...                 ...       ...                      ...   \n",
       "100    100      curve-optimism     curve               262.264780   \n",
       "101    101       curve-polygon     curve                 7.037025   \n",
       "102    102     curve-avalanche     curve                46.920480   \n",
       "103    103        curve-fantom     curve                58.497125   \n",
       "104    104                 ens      None            168479.879481   \n",
       "\n",
       "        metadata.source                                      metadata.icon  \\\n",
       "0      Messari Subgraph  data:image/svg+xml;base64,PHN2ZyB2aWV3Qm94PSIw...   \n",
       "1    The Graph Protocol  data:image/svg+xml;base64,PHN2ZyB2aWV3Qm94PSIw...   \n",
       "2    The Graph Protocol  data:image/svg+xml;base64,PHN2ZyB4bWxucz0iaHR0...   \n",
       "3    The Graph Protocol  data:image/svg+xml;base64,PHN2ZyB4bWxucz0iaHR0...   \n",
       "4    The Graph Protocol  data:image/svg+xml;base64,PHN2ZyB4bWxucz0iaHR0...   \n",
       "..                  ...                                                ...   \n",
       "100  The Graph Protocol  data:image/png;base64,iVBORw0KGgoAAAANSUhEUgAA...   \n",
       "101  The Graph Protocol  data:image/png;base64,iVBORw0KGgoAAAANSUhEUgAA...   \n",
       "102  The Graph Protocol  data:image/png;base64,iVBORw0KGgoAAAANSUhEUgAA...   \n",
       "103  The Graph Protocol  data:image/png;base64,iVBORw0KGgoAAAANSUhEUgAA...   \n",
       "104  The Graph Protocol  data:image/svg+xml;base64,PHN2ZyB2aWV3Qm94PSIw...   \n",
       "\n",
       "             metadata.name     metadata.category  \\\n",
       "0                 Compound               lending   \n",
       "1               Polymarket                   dex   \n",
       "2                 Balancer                   dex   \n",
       "3                 Balancer                   dex   \n",
       "4                 Balancer                   dex   \n",
       "..                     ...                   ...   \n",
       "100                  Curve                   dex   \n",
       "101                  Curve                   dex   \n",
       "102                  Curve                   dex   \n",
       "103                  Curve                   dex   \n",
       "104  Ethereum Name Service  Application Protocol   \n",
       "\n",
       "                                  metadata.description  \\\n",
       "0    Compound is an open borrowing & lending protocol.   \n",
       "1                   Polymarket is a prediction market.   \n",
       "2    Balancer is a decentralized exchange & asset p...   \n",
       "3    Balancer is a decentralized exchange & asset p...   \n",
       "4    Balancer is a decentralized exchange & asset p...   \n",
       "..                                                 ...   \n",
       "100  Curve is a community-owned permissionless, dec...   \n",
       "101  Curve is a community-owned permissionless, dec...   \n",
       "102  Curve is a community-owned permissionless, dec...   \n",
       "103  Curve is a community-owned permissionless, dec...   \n",
       "104  ENS is a naming protocol for wallets, websites...   \n",
       "\n",
       "                               metadata.feeDescription  ...  \\\n",
       "0    Interest fees are paid from borrowers to lenders.  ...   \n",
       "1    Trading fees are paid by traders to liquidity ...  ...   \n",
       "2    Trading fees are paid by traders to liquidity ...  ...   \n",
       "3    Trading fees are paid by traders to liquidity ...  ...   \n",
       "4    Trading fees are paid by traders to liquidity ...  ...   \n",
       "..                                                 ...  ...   \n",
       "100  Trading fees are paid by traders to liquidity ...  ...   \n",
       "101  Trading fees are paid by traders to liquidity ...  ...   \n",
       "102  Trading fees are paid by traders to liquidity ...  ...   \n",
       "103  Trading fees are paid by traders to liquidity ...  ...   \n",
       "104    Registration fees are paid to the DAO treasury.  ...   \n",
       "\n",
       "    metadata.shortName                                    metadata.events  \\\n",
       "0                  NaN                                                NaN   \n",
       "1                  NaN                                                NaN   \n",
       "2                  NaN                                                NaN   \n",
       "3                  NaN                                                NaN   \n",
       "4                  NaN                                                NaN   \n",
       "..                 ...                                                ...   \n",
       "100                NaN                                                NaN   \n",
       "101                NaN                                                NaN   \n",
       "102                NaN                                                NaN   \n",
       "103                NaN                                                NaN   \n",
       "104                NaN  [{'date': '2021-11-09', 'description': 'ENS DA...   \n",
       "\n",
       "    errors.oneDayTotalFees metadata.protocolShutdown metadata.tokenSymbol  \\\n",
       "0                      NaN                       NaN                  NaN   \n",
       "1                      NaN                       NaN                  NaN   \n",
       "2                      NaN                       NaN                  NaN   \n",
       "3                      NaN                       NaN                  NaN   \n",
       "4                      NaN                       NaN                  NaN   \n",
       "..                     ...                       ...                  ...   \n",
       "100                    NaN                       NaN                  NaN   \n",
       "101                    NaN                       NaN                  NaN   \n",
       "102                    NaN                       NaN                  NaN   \n",
       "103                    NaN                       NaN                  NaN   \n",
       "104                    NaN                       NaN                  NaN   \n",
       "\n",
       "    metadata.bundle metadata.subcategory metadata.tokenticker  \\\n",
       "0               NaN                  NaN                  NaN   \n",
       "1               NaN                  NaN                  NaN   \n",
       "2               NaN                  NaN                  NaN   \n",
       "3               NaN                  NaN                  NaN   \n",
       "4               NaN                  NaN                  NaN   \n",
       "..              ...                  ...                  ...   \n",
       "100             NaN                  NaN                  NaN   \n",
       "101             NaN                  NaN                  NaN   \n",
       "102             NaN                  NaN                  NaN   \n",
       "103             NaN                  NaN                  NaN   \n",
       "104             NaN             Identity                  ENS   \n",
       "\n",
       "    metadata.tokencoingecko        date  \n",
       "0                       NaN  2021-11-12  \n",
       "1                       NaN  2021-11-12  \n",
       "2                       NaN  2021-11-12  \n",
       "3                       NaN  2021-11-12  \n",
       "4                       NaN  2021-11-12  \n",
       "..                      ...         ...  \n",
       "100                     NaN  2022-08-31  \n",
       "101                     NaN  2022-08-31  \n",
       "102                     NaN  2022-08-31  \n",
       "103                     NaN  2022-08-31  \n",
       "104   ethereum-name-service  2022-08-31  \n",
       "\n",
       "[30765 rows x 28 columns]"
      ]
     },
     "metadata": {},
     "output_type": "display_data"
    }
   ],
   "source": [
    "fdf['results.oneDayTotalFees'] = fdf['results.oneDayTotalFees'].fillna(0)\n",
    "display(fdf)"
   ]
  },
  {
   "cell_type": "code",
   "execution_count": 173,
   "metadata": {},
   "outputs": [
    {
     "data": {
      "text/html": [
       "<div>\n",
       "<style scoped>\n",
       "    .dataframe tbody tr th:only-of-type {\n",
       "        vertical-align: middle;\n",
       "    }\n",
       "\n",
       "    .dataframe tbody tr th {\n",
       "        vertical-align: top;\n",
       "    }\n",
       "\n",
       "    .dataframe thead th {\n",
       "        text-align: right;\n",
       "    }\n",
       "</style>\n",
       "<table border=\"1\" class=\"dataframe\">\n",
       "  <thead>\n",
       "    <tr style=\"text-align: right;\">\n",
       "      <th></th>\n",
       "      <th>date</th>\n",
       "      <th>metadata.blockchain</th>\n",
       "      <th>metadata.name</th>\n",
       "      <th>results.oneDayTotalFees</th>\n",
       "      <th>eth_price</th>\n",
       "      <th>oneDayTotalFees_ETH</th>\n",
       "    </tr>\n",
       "  </thead>\n",
       "  <tbody>\n",
       "    <tr>\n",
       "      <th>0</th>\n",
       "      <td>2021-11-12</td>\n",
       "      <td>Arbitrum One</td>\n",
       "      <td>Aave</td>\n",
       "      <td>0.000000</td>\n",
       "      <td>4732.924450</td>\n",
       "      <td>0.000000</td>\n",
       "    </tr>\n",
       "    <tr>\n",
       "      <th>1</th>\n",
       "      <td>2021-11-12</td>\n",
       "      <td>Arbitrum One</td>\n",
       "      <td>Abracadabra.money</td>\n",
       "      <td>7750.820530</td>\n",
       "      <td>4732.924450</td>\n",
       "      <td>1.637639</td>\n",
       "    </tr>\n",
       "    <tr>\n",
       "      <th>3</th>\n",
       "      <td>2021-11-12</td>\n",
       "      <td>Arbitrum One</td>\n",
       "      <td>Balancer</td>\n",
       "      <td>14351.882616</td>\n",
       "      <td>4732.924450</td>\n",
       "      <td>3.032350</td>\n",
       "    </tr>\n",
       "    <tr>\n",
       "      <th>4</th>\n",
       "      <td>2021-11-12</td>\n",
       "      <td>Arbitrum One</td>\n",
       "      <td>Curve</td>\n",
       "      <td>818.164268</td>\n",
       "      <td>4732.924450</td>\n",
       "      <td>0.172867</td>\n",
       "    </tr>\n",
       "    <tr>\n",
       "      <th>5</th>\n",
       "      <td>2021-11-12</td>\n",
       "      <td>Arbitrum One</td>\n",
       "      <td>GMX</td>\n",
       "      <td>336729.298756</td>\n",
       "      <td>4732.924450</td>\n",
       "      <td>71.146139</td>\n",
       "    </tr>\n",
       "    <tr>\n",
       "      <th>...</th>\n",
       "      <td>...</td>\n",
       "      <td>...</td>\n",
       "      <td>...</td>\n",
       "      <td>...</td>\n",
       "      <td>...</td>\n",
       "      <td>...</td>\n",
       "    </tr>\n",
       "    <tr>\n",
       "      <th>22555</th>\n",
       "      <td>2022-08-31</td>\n",
       "      <td>Polygon</td>\n",
       "      <td>Quickswap</td>\n",
       "      <td>13203.749102</td>\n",
       "      <td>1525.400116</td>\n",
       "      <td>8.655925</td>\n",
       "    </tr>\n",
       "    <tr>\n",
       "      <th>22556</th>\n",
       "      <td>2022-08-31</td>\n",
       "      <td>Polygon</td>\n",
       "      <td>SushiSwap</td>\n",
       "      <td>7229.561683</td>\n",
       "      <td>1525.400116</td>\n",
       "      <td>4.739453</td>\n",
       "    </tr>\n",
       "    <tr>\n",
       "      <th>22557</th>\n",
       "      <td>2022-08-31</td>\n",
       "      <td>Polygon</td>\n",
       "      <td>Uniswap</td>\n",
       "      <td>81240.531596</td>\n",
       "      <td>1525.400116</td>\n",
       "      <td>53.258506</td>\n",
       "    </tr>\n",
       "    <tr>\n",
       "      <th>22559</th>\n",
       "      <td>2022-08-31</td>\n",
       "      <td>Terra</td>\n",
       "      <td>Terraswap</td>\n",
       "      <td>0.000000</td>\n",
       "      <td>1525.400116</td>\n",
       "      <td>0.000000</td>\n",
       "    </tr>\n",
       "    <tr>\n",
       "      <th>22560</th>\n",
       "      <td>2022-08-31</td>\n",
       "      <td>Velas</td>\n",
       "      <td>Kyberswap</td>\n",
       "      <td>0.000000</td>\n",
       "      <td>1525.400116</td>\n",
       "      <td>0.000000</td>\n",
       "    </tr>\n",
       "  </tbody>\n",
       "</table>\n",
       "<p>19631 rows × 6 columns</p>\n",
       "</div>"
      ],
      "text/plain": [
       "             date metadata.blockchain      metadata.name  \\\n",
       "0      2021-11-12        Arbitrum One               Aave   \n",
       "1      2021-11-12        Arbitrum One  Abracadabra.money   \n",
       "3      2021-11-12        Arbitrum One           Balancer   \n",
       "4      2021-11-12        Arbitrum One              Curve   \n",
       "5      2021-11-12        Arbitrum One                GMX   \n",
       "...           ...                 ...                ...   \n",
       "22555  2022-08-31             Polygon          Quickswap   \n",
       "22556  2022-08-31             Polygon          SushiSwap   \n",
       "22557  2022-08-31             Polygon            Uniswap   \n",
       "22559  2022-08-31               Terra          Terraswap   \n",
       "22560  2022-08-31               Velas          Kyberswap   \n",
       "\n",
       "       results.oneDayTotalFees    eth_price  oneDayTotalFees_ETH  \n",
       "0                     0.000000  4732.924450             0.000000  \n",
       "1                  7750.820530  4732.924450             1.637639  \n",
       "3                 14351.882616  4732.924450             3.032350  \n",
       "4                   818.164268  4732.924450             0.172867  \n",
       "5                336729.298756  4732.924450            71.146139  \n",
       "...                        ...          ...                  ...  \n",
       "22555             13203.749102  1525.400116             8.655925  \n",
       "22556              7229.561683  1525.400116             4.739453  \n",
       "22557             81240.531596  1525.400116            53.258506  \n",
       "22559                 0.000000  1525.400116             0.000000  \n",
       "22560                 0.000000  1525.400116             0.000000  \n",
       "\n",
       "[19631 rows x 6 columns]"
      ]
     },
     "execution_count": 173,
     "metadata": {},
     "output_type": "execute_result"
    }
   ],
   "source": [
    "data_fdf = fdf[['id','metadata.blockchain','results.oneDayTotalFees','metadata.name','metadata.category','date']]\n",
    "data_fdf = data_fdf.merge(ethp,on='date',how='left')\n",
    "\n",
    "data_fdf = data_fdf.groupby(['date','metadata.blockchain','metadata.name']).sum()\n",
    "data_fdf.reset_index(inplace=True)\n",
    "# Exclude the chain's fees\n",
    "data_fdf = data_fdf[data_fdf['metadata.blockchain'] != data_fdf['metadata.name']]\n",
    "\n",
    "data_fdf['oneDayTotalFees_ETH'] = data_fdf['results.oneDayTotalFees']/data_fdf['eth_price']\n",
    "data_fdf"
   ]
  },
  {
   "cell_type": "code",
   "execution_count": 174,
   "metadata": {},
   "outputs": [
    {
     "data": {
      "text/html": [
       "<div>\n",
       "<style scoped>\n",
       "    .dataframe tbody tr th:only-of-type {\n",
       "        vertical-align: middle;\n",
       "    }\n",
       "\n",
       "    .dataframe tbody tr th {\n",
       "        vertical-align: top;\n",
       "    }\n",
       "\n",
       "    .dataframe thead th {\n",
       "        text-align: right;\n",
       "    }\n",
       "</style>\n",
       "<table border=\"1\" class=\"dataframe\">\n",
       "  <thead>\n",
       "    <tr style=\"text-align: right;\">\n",
       "      <th></th>\n",
       "      <th>date</th>\n",
       "      <th>metadata.blockchain</th>\n",
       "      <th>results.oneDayTotalFees</th>\n",
       "      <th>eth_price</th>\n",
       "      <th>oneDayTotalFees_ETH</th>\n",
       "      <th>fees_30_day_avg</th>\n",
       "      <th>fees_90_day_avg</th>\n",
       "      <th>fees_30_day_avg_eth</th>\n",
       "      <th>fees_90_day_avg_eth</th>\n",
       "      <th>fees_1q_cmgr</th>\n",
       "      <th>fees_3q_cmgr</th>\n",
       "      <th>fees_1q_cmgr_eth</th>\n",
       "      <th>fees_3q_cmgr_eth</th>\n",
       "    </tr>\n",
       "  </thead>\n",
       "  <tbody>\n",
       "    <tr>\n",
       "      <th>0</th>\n",
       "      <td>2021-11-12</td>\n",
       "      <td>Optimism</td>\n",
       "      <td>40815.985817</td>\n",
       "      <td>37863.395603</td>\n",
       "      <td>7.497568</td>\n",
       "      <td>40815.985817</td>\n",
       "      <td>40815.985817</td>\n",
       "      <td>7.497568</td>\n",
       "      <td>7.497568</td>\n",
       "      <td>NaN</td>\n",
       "      <td>NaN</td>\n",
       "      <td>NaN</td>\n",
       "      <td>NaN</td>\n",
       "    </tr>\n",
       "    <tr>\n",
       "      <th>1</th>\n",
       "      <td>2021-11-13</td>\n",
       "      <td>Optimism</td>\n",
       "      <td>49346.104574</td>\n",
       "      <td>37480.850844</td>\n",
       "      <td>9.409156</td>\n",
       "      <td>45081.045196</td>\n",
       "      <td>45081.045196</td>\n",
       "      <td>8.453362</td>\n",
       "      <td>8.453362</td>\n",
       "      <td>NaN</td>\n",
       "      <td>NaN</td>\n",
       "      <td>NaN</td>\n",
       "      <td>NaN</td>\n",
       "    </tr>\n",
       "    <tr>\n",
       "      <th>2</th>\n",
       "      <td>2021-11-14</td>\n",
       "      <td>Optimism</td>\n",
       "      <td>60655.396776</td>\n",
       "      <td>37331.987986</td>\n",
       "      <td>11.867277</td>\n",
       "      <td>50272.495723</td>\n",
       "      <td>50272.495723</td>\n",
       "      <td>9.591334</td>\n",
       "      <td>9.591334</td>\n",
       "      <td>NaN</td>\n",
       "      <td>NaN</td>\n",
       "      <td>NaN</td>\n",
       "      <td>NaN</td>\n",
       "    </tr>\n",
       "    <tr>\n",
       "      <th>3</th>\n",
       "      <td>2021-11-15</td>\n",
       "      <td>Optimism</td>\n",
       "      <td>52604.347582</td>\n",
       "      <td>37223.579154</td>\n",
       "      <td>9.760630</td>\n",
       "      <td>50855.458687</td>\n",
       "      <td>50855.458687</td>\n",
       "      <td>9.633658</td>\n",
       "      <td>9.633658</td>\n",
       "      <td>NaN</td>\n",
       "      <td>NaN</td>\n",
       "      <td>NaN</td>\n",
       "      <td>NaN</td>\n",
       "    </tr>\n",
       "    <tr>\n",
       "      <th>4</th>\n",
       "      <td>2021-11-16</td>\n",
       "      <td>Optimism</td>\n",
       "      <td>65334.882656</td>\n",
       "      <td>36665.691350</td>\n",
       "      <td>12.079934</td>\n",
       "      <td>53751.343481</td>\n",
       "      <td>53751.343481</td>\n",
       "      <td>10.122913</td>\n",
       "      <td>10.122913</td>\n",
       "      <td>NaN</td>\n",
       "      <td>NaN</td>\n",
       "      <td>NaN</td>\n",
       "      <td>NaN</td>\n",
       "    </tr>\n",
       "    <tr>\n",
       "      <th>...</th>\n",
       "      <td>...</td>\n",
       "      <td>...</td>\n",
       "      <td>...</td>\n",
       "      <td>...</td>\n",
       "      <td>...</td>\n",
       "      <td>...</td>\n",
       "      <td>...</td>\n",
       "      <td>...</td>\n",
       "      <td>...</td>\n",
       "      <td>...</td>\n",
       "      <td>...</td>\n",
       "      <td>...</td>\n",
       "      <td>...</td>\n",
       "    </tr>\n",
       "    <tr>\n",
       "      <th>288</th>\n",
       "      <td>2022-08-27</td>\n",
       "      <td>Optimism</td>\n",
       "      <td>189845.407368</td>\n",
       "      <td>12081.512892</td>\n",
       "      <td>113.253484</td>\n",
       "      <td>250986.269774</td>\n",
       "      <td>192870.851572</td>\n",
       "      <td>121.576921</td>\n",
       "      <td>94.295163</td>\n",
       "      <td>0.580142</td>\n",
       "      <td>0.191565</td>\n",
       "      <td>0.884388</td>\n",
       "      <td>0.316717</td>\n",
       "    </tr>\n",
       "    <tr>\n",
       "      <th>289</th>\n",
       "      <td>2022-08-28</td>\n",
       "      <td>Optimism</td>\n",
       "      <td>182980.083035</td>\n",
       "      <td>11968.443728</td>\n",
       "      <td>111.710524</td>\n",
       "      <td>247372.933410</td>\n",
       "      <td>194468.374386</td>\n",
       "      <td>120.686607</td>\n",
       "      <td>95.362656</td>\n",
       "      <td>0.572794</td>\n",
       "      <td>0.191301</td>\n",
       "      <td>0.873327</td>\n",
       "      <td>0.317716</td>\n",
       "    </tr>\n",
       "    <tr>\n",
       "      <th>290</th>\n",
       "      <td>2022-08-29</td>\n",
       "      <td>Optimism</td>\n",
       "      <td>257789.512770</td>\n",
       "      <td>11509.976403</td>\n",
       "      <td>148.527010</td>\n",
       "      <td>249751.418567</td>\n",
       "      <td>192600.278888</td>\n",
       "      <td>122.935399</td>\n",
       "      <td>94.678317</td>\n",
       "      <td>0.483892</td>\n",
       "      <td>0.193717</td>\n",
       "      <td>0.700106</td>\n",
       "      <td>0.321878</td>\n",
       "    </tr>\n",
       "    <tr>\n",
       "      <th>291</th>\n",
       "      <td>2022-08-30</td>\n",
       "      <td>Optimism</td>\n",
       "      <td>282284.496816</td>\n",
       "      <td>12441.419648</td>\n",
       "      <td>147.559162</td>\n",
       "      <td>251652.390553</td>\n",
       "      <td>186246.693670</td>\n",
       "      <td>124.996511</td>\n",
       "      <td>91.532808</td>\n",
       "      <td>0.343846</td>\n",
       "      <td>0.195362</td>\n",
       "      <td>0.473822</td>\n",
       "      <td>0.325603</td>\n",
       "    </tr>\n",
       "    <tr>\n",
       "      <th>292</th>\n",
       "      <td>2022-08-31</td>\n",
       "      <td>Optimism</td>\n",
       "      <td>277219.981515</td>\n",
       "      <td>12203.200930</td>\n",
       "      <td>150.474967</td>\n",
       "      <td>257390.490527</td>\n",
       "      <td>185590.987625</td>\n",
       "      <td>128.309050</td>\n",
       "      <td>91.240494</td>\n",
       "      <td>0.313314</td>\n",
       "      <td>0.198514</td>\n",
       "      <td>0.422293</td>\n",
       "      <td>0.329387</td>\n",
       "    </tr>\n",
       "  </tbody>\n",
       "</table>\n",
       "<p>293 rows × 13 columns</p>\n",
       "</div>"
      ],
      "text/plain": [
       "           date metadata.blockchain  results.oneDayTotalFees     eth_price  \\\n",
       "0    2021-11-12            Optimism             40815.985817  37863.395603   \n",
       "1    2021-11-13            Optimism             49346.104574  37480.850844   \n",
       "2    2021-11-14            Optimism             60655.396776  37331.987986   \n",
       "3    2021-11-15            Optimism             52604.347582  37223.579154   \n",
       "4    2021-11-16            Optimism             65334.882656  36665.691350   \n",
       "..          ...                 ...                      ...           ...   \n",
       "288  2022-08-27            Optimism            189845.407368  12081.512892   \n",
       "289  2022-08-28            Optimism            182980.083035  11968.443728   \n",
       "290  2022-08-29            Optimism            257789.512770  11509.976403   \n",
       "291  2022-08-30            Optimism            282284.496816  12441.419648   \n",
       "292  2022-08-31            Optimism            277219.981515  12203.200930   \n",
       "\n",
       "     oneDayTotalFees_ETH  fees_30_day_avg  fees_90_day_avg  \\\n",
       "0               7.497568     40815.985817     40815.985817   \n",
       "1               9.409156     45081.045196     45081.045196   \n",
       "2              11.867277     50272.495723     50272.495723   \n",
       "3               9.760630     50855.458687     50855.458687   \n",
       "4              12.079934     53751.343481     53751.343481   \n",
       "..                   ...              ...              ...   \n",
       "288           113.253484    250986.269774    192870.851572   \n",
       "289           111.710524    247372.933410    194468.374386   \n",
       "290           148.527010    249751.418567    192600.278888   \n",
       "291           147.559162    251652.390553    186246.693670   \n",
       "292           150.474967    257390.490527    185590.987625   \n",
       "\n",
       "     fees_30_day_avg_eth  fees_90_day_avg_eth  fees_1q_cmgr  fees_3q_cmgr  \\\n",
       "0               7.497568             7.497568           NaN           NaN   \n",
       "1               8.453362             8.453362           NaN           NaN   \n",
       "2               9.591334             9.591334           NaN           NaN   \n",
       "3               9.633658             9.633658           NaN           NaN   \n",
       "4              10.122913            10.122913           NaN           NaN   \n",
       "..                   ...                  ...           ...           ...   \n",
       "288           121.576921            94.295163      0.580142      0.191565   \n",
       "289           120.686607            95.362656      0.572794      0.191301   \n",
       "290           122.935399            94.678317      0.483892      0.193717   \n",
       "291           124.996511            91.532808      0.343846      0.195362   \n",
       "292           128.309050            91.240494      0.313314      0.198514   \n",
       "\n",
       "     fees_1q_cmgr_eth  fees_3q_cmgr_eth  \n",
       "0                 NaN               NaN  \n",
       "1                 NaN               NaN  \n",
       "2                 NaN               NaN  \n",
       "3                 NaN               NaN  \n",
       "4                 NaN               NaN  \n",
       "..                ...               ...  \n",
       "288          0.884388          0.316717  \n",
       "289          0.873327          0.317716  \n",
       "290          0.700106          0.321878  \n",
       "291          0.473822          0.325603  \n",
       "292          0.422293          0.329387  \n",
       "\n",
       "[293 rows x 13 columns]"
      ]
     },
     "metadata": {},
     "output_type": "display_data"
    }
   ],
   "source": [
    "data_fdf_op = data_fdf[data_fdf['metadata.blockchain'] == 'Optimism']\n",
    "\n",
    "# display(data_fdf_op)\n",
    "\n",
    "data_fdf_chain = data_fdf.groupby(['date','metadata.blockchain']).sum()\n",
    "data_fdf_chain.reset_index(inplace=True)\n",
    "\n",
    "data_fdf_chain = data_fdf_chain[data_fdf_chain['metadata.blockchain'] == 'Optimism']\n",
    "data_fdf_chain.reset_index(inplace=True,drop=True)\n",
    "\n",
    "data_fdf_chain.sort_values(by =['date','results.oneDayTotalFees'], ascending = [True,False],inplace = True)\n",
    "data_fdf_chain['fees_30_day_avg'] = data_fdf_chain.groupby('metadata.blockchain')['results.oneDayTotalFees'].rolling(30,min_periods=1).mean().reset_index(0,drop=True)\n",
    "data_fdf_chain['fees_90_day_avg'] = data_fdf_chain.groupby('metadata.blockchain')['results.oneDayTotalFees'].rolling(90,min_periods=1).mean().reset_index(0,drop=True)\n",
    "\n",
    "data_fdf_chain['fees_30_day_avg_eth'] = data_fdf_chain.groupby('metadata.blockchain')['oneDayTotalFees_ETH'].rolling(30,min_periods=1).mean().reset_index(0,drop=True)\n",
    "data_fdf_chain['fees_90_day_avg_eth'] = data_fdf_chain.groupby('metadata.blockchain')['oneDayTotalFees_ETH'].rolling(90,min_periods=1).mean().reset_index(0,drop=True)\n",
    "\n",
    "\n",
    "#compound monthly growth rates\n",
    "# https://velawoodlaw.com/glossary-term/compounded-monthly-growth-rate-cmgr/#:~:text=Compounded%20Monthly%20Growth%20Rate%20(CMGR)%20is%20a%20calculation%20that%20helps,of%20Months)%20-1%5D.\n",
    "# CMGR = (Latest Month/ First Month)^(1/# of Months) -1].\n",
    "data_fdf_chain['fees_1q_cmgr'] = (\n",
    "                                data_fdf_chain['fees_30_day_avg']\n",
    "                                / data_fdf_chain.groupby('metadata.blockchain')['fees_30_day_avg'].shift(30*3*1)\n",
    "                                ) ** (1/(3*1)) - 1\n",
    "\n",
    "data_fdf_chain['fees_3q_cmgr'] = (\n",
    "                                data_fdf_chain['fees_30_day_avg']\n",
    "                                / data_fdf_chain.groupby('metadata.blockchain')['fees_30_day_avg'].shift(30*3*3)\n",
    "                                ) ** (1/(3*3)) - 1\n",
    "data_fdf_chain['fees_1q_cmgr_eth'] = (\n",
    "                                data_fdf_chain['fees_30_day_avg_eth']\n",
    "                                / data_fdf_chain.groupby('metadata.blockchain')['fees_30_day_avg_eth'].shift(30*3*1)\n",
    "                                ) ** (1/(3*1)) - 1\n",
    "\n",
    "data_fdf_chain['fees_3q_cmgr_eth'] = (\n",
    "                                data_fdf_chain['fees_30_day_avg_eth']\n",
    "                                / data_fdf_chain.groupby('metadata.blockchain')['fees_30_day_avg_eth'].shift(30*3*3)\n",
    "                                ) ** (1/(3*3)) - 1\n",
    "# #if focus on op\n",
    "\n",
    "display(data_fdf_chain)"
   ]
  },
  {
   "cell_type": "code",
   "execution_count": 175,
   "metadata": {},
   "outputs": [],
   "source": [
    "fig = px.line(data_fdf_op, x=\"date\", y=\"results.oneDayTotalFees\", color='metadata.name', title = 'Fees Earned on Optimism (USD)')\n",
    "fig.update_layout(yaxis_tickprefix = '$')\n",
    "# fig.show()\n",
    "\n",
    "fig.write_image(prepend + \"img_outputs/svg/app_fees_on_op.svg\") #prepend + \n",
    "fig.write_image(prepend + \"img_outputs/png/app_fees_on_op.png\") #prepend + \n",
    "fig.write_html(prepend + \"img_outputs/app_fees_on_op.html\", include_plotlyjs='cdn')"
   ]
  },
  {
   "cell_type": "code",
   "execution_count": 176,
   "metadata": {},
   "outputs": [],
   "source": [
    "fig_chain = px.line(data_fdf_chain, x=\"date\", y=\"results.oneDayTotalFees\", color = \"metadata.blockchain\", title = 'Sum Fees Earned on apps by Chain (USD)')\n",
    "fig_chain.update_layout(yaxis_tickprefix = '$')\n",
    "# fig_chain.show()\n",
    "\n",
    "fig_chain.write_image(prepend + \"img_outputs/svg/app_fees_by_chain.svg\") #prepend + \n",
    "fig_chain.write_image(prepend + \"img_outputs/png/app_fees_by_chain.png\") #prepend + \n",
    "fig_chain.write_html(prepend + \"img_outputs/app_fees_by_chain.html\", include_plotlyjs='cdn')"
   ]
  },
  {
   "cell_type": "code",
   "execution_count": 177,
   "metadata": {},
   "outputs": [
    {
     "data": {
      "application/vnd.plotly.v1+json": {
       "config": {
        "plotlyServerURL": "https://plot.ly"
       },
       "data": [
        {
         "hovertemplate": "metadata.blockchain=Optimism<br>date=%{x}<br>results.oneDayTotalFees=%{y}<extra></extra>",
         "legendgroup": "Optimism",
         "line": {
          "color": "#636efa",
          "dash": "solid"
         },
         "mode": "lines",
         "name": "Optimism",
         "orientation": "v",
         "showlegend": true,
         "type": "scatter",
         "x": [
          "2021-11-12",
          "2021-11-13",
          "2021-11-14",
          "2021-11-15",
          "2021-11-16",
          "2021-11-17",
          "2021-11-18",
          "2021-11-19",
          "2021-11-20",
          "2021-11-21",
          "2021-11-22",
          "2021-11-23",
          "2021-11-24",
          "2021-11-25",
          "2021-11-26",
          "2021-11-27",
          "2021-11-28",
          "2021-11-29",
          "2021-11-30",
          "2021-12-01",
          "2021-12-02",
          "2021-12-03",
          "2021-12-04",
          "2021-12-05",
          "2021-12-06",
          "2021-12-07",
          "2021-12-08",
          "2021-12-09",
          "2021-12-10",
          "2021-12-11",
          "2021-12-12",
          "2021-12-13",
          "2021-12-14",
          "2021-12-15",
          "2021-12-16",
          "2021-12-17",
          "2021-12-18",
          "2021-12-19",
          "2021-12-20",
          "2021-12-21",
          "2021-12-22",
          "2021-12-23",
          "2021-12-24",
          "2021-12-25",
          "2021-12-26",
          "2021-12-27",
          "2021-12-28",
          "2021-12-29",
          "2021-12-30",
          "2021-12-31",
          "2022-01-01",
          "2022-01-02",
          "2022-01-03",
          "2022-01-04",
          "2022-01-05",
          "2022-01-06",
          "2022-01-07",
          "2022-01-08",
          "2022-01-09",
          "2022-01-10",
          "2022-01-11",
          "2022-01-12",
          "2022-01-13",
          "2022-01-14",
          "2022-01-15",
          "2022-01-16",
          "2022-01-17",
          "2022-01-18",
          "2022-01-19",
          "2022-01-20",
          "2022-01-21",
          "2022-01-22",
          "2022-01-23",
          "2022-01-24",
          "2022-01-25",
          "2022-01-26",
          "2022-01-27",
          "2022-01-28",
          "2022-01-29",
          "2022-01-30",
          "2022-01-31",
          "2022-02-01",
          "2022-02-02",
          "2022-02-03",
          "2022-02-04",
          "2022-02-05",
          "2022-02-06",
          "2022-02-07",
          "2022-02-08",
          "2022-02-09",
          "2022-02-10",
          "2022-02-11",
          "2022-02-12",
          "2022-02-13",
          "2022-02-14",
          "2022-02-15",
          "2022-02-16",
          "2022-02-17",
          "2022-02-18",
          "2022-02-19",
          "2022-02-20",
          "2022-02-21",
          "2022-02-22",
          "2022-02-23",
          "2022-02-24",
          "2022-02-25",
          "2022-02-26",
          "2022-02-27",
          "2022-02-28",
          "2022-03-01",
          "2022-03-02",
          "2022-03-03",
          "2022-03-04",
          "2022-03-05",
          "2022-03-06",
          "2022-03-07",
          "2022-03-08",
          "2022-03-09",
          "2022-03-10",
          "2022-03-11",
          "2022-03-12",
          "2022-03-13",
          "2022-03-14",
          "2022-03-15",
          "2022-03-16",
          "2022-03-17",
          "2022-03-18",
          "2022-03-19",
          "2022-03-20",
          "2022-03-21",
          "2022-03-22",
          "2022-03-23",
          "2022-03-24",
          "2022-03-25",
          "2022-03-26",
          "2022-03-27",
          "2022-03-28",
          "2022-03-29",
          "2022-03-30",
          "2022-03-31",
          "2022-04-01",
          "2022-04-02",
          "2022-04-03",
          "2022-04-04",
          "2022-04-05",
          "2022-04-06",
          "2022-04-07",
          "2022-04-08",
          "2022-04-09",
          "2022-04-10",
          "2022-04-11",
          "2022-04-12",
          "2022-04-13",
          "2022-04-14",
          "2022-04-15",
          "2022-04-16",
          "2022-04-17",
          "2022-04-18",
          "2022-04-19",
          "2022-04-20",
          "2022-04-21",
          "2022-04-22",
          "2022-04-23",
          "2022-04-24",
          "2022-04-25",
          "2022-04-26",
          "2022-04-27",
          "2022-04-28",
          "2022-04-29",
          "2022-04-30",
          "2022-05-01",
          "2022-05-02",
          "2022-05-03",
          "2022-05-04",
          "2022-05-05",
          "2022-05-06",
          "2022-05-07",
          "2022-05-08",
          "2022-05-09",
          "2022-05-10",
          "2022-05-11",
          "2022-05-12",
          "2022-05-13",
          "2022-05-14",
          "2022-05-15",
          "2022-05-16",
          "2022-05-17",
          "2022-05-18",
          "2022-05-19",
          "2022-05-20",
          "2022-05-21",
          "2022-05-22",
          "2022-05-23",
          "2022-05-24",
          "2022-05-25",
          "2022-05-26",
          "2022-05-27",
          "2022-05-28",
          "2022-05-29",
          "2022-05-30",
          "2022-05-31",
          "2022-06-01",
          "2022-06-02",
          "2022-06-03",
          "2022-06-04",
          "2022-06-05",
          "2022-06-06",
          "2022-06-07",
          "2022-06-08",
          "2022-06-09",
          "2022-06-10",
          "2022-06-11",
          "2022-06-12",
          "2022-06-13",
          "2022-06-14",
          "2022-06-15",
          "2022-06-16",
          "2022-06-17",
          "2022-06-18",
          "2022-06-19",
          "2022-06-20",
          "2022-06-21",
          "2022-06-22",
          "2022-06-23",
          "2022-06-24",
          "2022-06-25",
          "2022-06-26",
          "2022-06-27",
          "2022-06-28",
          "2022-06-29",
          "2022-06-30",
          "2022-07-01",
          "2022-07-02",
          "2022-07-03",
          "2022-07-04",
          "2022-07-05",
          "2022-07-06",
          "2022-07-07",
          "2022-07-08",
          "2022-07-09",
          "2022-07-10",
          "2022-07-11",
          "2022-07-12",
          "2022-07-13",
          "2022-07-14",
          "2022-07-15",
          "2022-07-16",
          "2022-07-17",
          "2022-07-18",
          "2022-07-19",
          "2022-07-20",
          "2022-07-21",
          "2022-07-22",
          "2022-07-23",
          "2022-07-24",
          "2022-07-25",
          "2022-07-26",
          "2022-07-27",
          "2022-07-28",
          "2022-07-29",
          "2022-07-30",
          "2022-07-31",
          "2022-08-01",
          "2022-08-02",
          "2022-08-03",
          "2022-08-04",
          "2022-08-05",
          "2022-08-06",
          "2022-08-07",
          "2022-08-08",
          "2022-08-09",
          "2022-08-10",
          "2022-08-11",
          "2022-08-12",
          "2022-08-13",
          "2022-08-14",
          "2022-08-15",
          "2022-08-16",
          "2022-08-17",
          "2022-08-18",
          "2022-08-19",
          "2022-08-20",
          "2022-08-21",
          "2022-08-22",
          "2022-08-23",
          "2022-08-24",
          "2022-08-25",
          "2022-08-26",
          "2022-08-27",
          "2022-08-28",
          "2022-08-29",
          "2022-08-30",
          "2022-08-31"
         ],
         "xaxis": "x",
         "y": [
          40815.98581688112,
          49346.10457437442,
          60655.39677644865,
          52604.34758210005,
          65334.882655706126,
          72874.96147905724,
          55277.422484963114,
          82554.41853008867,
          46018.348567202076,
          51176.03583858458,
          46780.63246350942,
          44916.47750152752,
          50353.34107917903,
          37879.61280198263,
          54607.242613492504,
          33979.41299988479,
          40278.493135211305,
          46296.86343265483,
          53040.43181332533,
          38948.96499048862,
          41914.77667526186,
          45384.58878402177,
          49162.82508797488,
          30947.4786835826,
          41217.903757020285,
          36511.4885967877,
          38511.17110651599,
          34780.48028678533,
          69927.89444928404,
          66326.4741100824,
          27585.568561240325,
          45031.83146314608,
          85447.37311456483,
          50533.59992737344,
          52861.883866681936,
          39331.94658502651,
          44998.87730955314,
          34798.13836149843,
          34695.738515290985,
          26206.858130725126,
          27231.550643310828,
          30457.598661988217,
          39162.015600004306,
          31533.74562415727,
          73816.80389671121,
          35091.26102071248,
          40475.17608771176,
          24134.677721207463,
          30316.303333489166,
          38348.88747206805,
          21598.029457189587,
          20652.878900483818,
          24042.53370826847,
          25413.178251481495,
          72885.34309258006,
          49477.37038004459,
          83565.17017368994,
          47478.189021927246,
          28814.169921144152,
          37231.76163081171,
          26555.562440321715,
          26486.821354805783,
          25950.780683463432,
          45701.35567409283,
          29977.259963347067,
          31046.737703033024,
          28288.435687504207,
          45517.38383310931,
          46225.833672438814,
          39648.90358293234,
          94939.42419460809,
          56336.09614504021,
          28265.395964529584,
          46602.925477104116,
          36433.715917959256,
          44122.8441811067,
          25883.130390049606,
          50235.79220095827,
          19354.983423154546,
          17796.36626815698,
          25104.603993626915,
          25160.951178769054,
          29984.069120415992,
          20072.575732285495,
          57577.81543340202,
          22163.76628542766,
          17311.863470002827,
          39984.35707179413,
          27025.344006736526,
          26867.263538979205,
          35646.27771884218,
          41050.83369359728,
          21853.96775722234,
          22887.088822088735,
          25082.329586878084,
          26245.018226766217,
          25632.837857377242,
          23900.405082667847,
          23086.736152234073,
          17138.810996338143,
          22712.78400493876,
          28254.500398330067,
          26693.33580642049,
          32741.156495464318,
          43538.98250647796,
          23779.056892202374,
          20221.42132842984,
          32485.313016352888,
          33003.00115036396,
          34807.088908930804,
          25340.62343710944,
          21900.77172267066,
          34068.888977793176,
          16537.504386837514,
          21444.90802626084,
          29013.336445283167,
          28706.230341488816,
          30418.527290293983,
          25400.638820455817,
          26900.9350144939,
          15804.458360562236,
          19500.32751564472,
          19283.975013761356,
          25818.882487910778,
          42003.56319148438,
          35189.47082962264,
          41944.17249354421,
          30529.358334508583,
          18309.367174267478,
          19099.105780290978,
          27091.64949309008,
          33536.532114375936,
          83748.81670640297,
          79805.35964704605,
          115776.08930119831,
          227984.51498315381,
          386634.15445238416,
          330408.30558233993,
          573333.0918857078,
          417047.58567948686,
          428301.28932563966,
          408621.95117602777,
          67730.31766853413,
          89915.5343687133,
          86297.02131214953,
          86023.54973835772,
          71162.24771606094,
          132013.81345430904,
          63230.470273739695,
          121627.38147948249,
          271405.45208627795,
          131516.4561991571,
          114200.09753440856,
          116850.05575648381,
          93429.1601829881,
          55101.73059571328,
          30843.974553272765,
          497189.3385569088,
          453296.26784256654,
          488832.098115793,
          241368.7800764493,
          55340.504056057995,
          46212.034077594515,
          181361.83500321503,
          187255.00487917822,
          63548.127094931566,
          47428.56321301032,
          176661.80832646968,
          161282.31715272582,
          40190.500424880185,
          40293.69119319534,
          36393.08595779976,
          38191.00628381129,
          63135.317601693416,
          86580.61749899668,
          79934.71301647428,
          57212.71745797127,
          65501.4449548725,
          376603.2946172122,
          102841.11205359973,
          162457.6429762246,
          131303.358011577,
          96319.64663513817,
          24544.504921722466,
          22728.308556040647,
          24308.2922796408,
          43577.259340129305,
          42114.89825708396,
          47198.47812029207,
          40891.86274590812,
          30954.485919041002,
          28182.410876443115,
          33424.09702329621,
          25447.732990149176,
          14452.306038092469,
          49641.127649102265,
          65029.26066976208,
          24229.848878744193,
          14775.810063093712,
          39203.029753381314,
          425918.1075951361,
          854107.1664499306,
          336233.5255957658,
          195849.07091229278,
          100433.95958253942,
          104391.07856797434,
          120564.95193869414,
          126430.9569997508,
          127534.07677026757,
          108996.04433165693,
          219803.9888738679,
          120177.55302753666,
          347773.8379742922,
          710113.3992075111,
          562088.2902772359,
          456944.9062329175,
          150444.00725238747,
          82210.52837502612,
          151471.63138434858,
          89230.90140501621,
          109640.20293802615,
          85043.65101121373,
          68619.89918076673,
          56944.33547473852,
          80557.58604471908,
          65913.38675818543,
          58171.40787050279,
          64364.03206681117,
          48028.90516101734,
          58452.08963020065,
          139511.02233834413,
          261225.93817146274,
          18227.58001428992,
          17901.73893546131,
          83845.9133244935,
          148643.0345142771,
          176022.44471520316,
          98411.81193822292,
          93460.27431588552,
          21539.094522233907,
          28358.89414860922,
          79919.96311922921,
          84363.92550642003,
          177100.7472606245,
          58053.74405585474,
          76085.97584655059,
          141593.08986622124,
          82843.85909051275,
          201571.57716861012,
          175208.62177333958,
          144585.2195333933,
          115263.67915101262,
          113979.26078845216,
          79093.77431600327,
          117131.80609639027,
          154794.2523770629,
          122371.86885337417,
          201218.34985817695,
          490804.57801128505,
          291380.1739648339,
          186434.95805273985,
          225255.33722721832,
          105076.98231234272,
          220471.91055419756,
          181119.72465731375,
          197072.84137290248,
          292753.4937638617,
          217769.98589858788,
          227288.24698456793,
          385432.8539095818,
          261901.5502865034,
          582671.3536097513,
          431920.42726931284,
          233867.6641182358,
          236442.72756349537,
          214483.04905347544,
          241304.5007752709,
          216424.9438635033,
          293974.68808258954,
          193576.33719567943,
          315409.36056416447,
          213443.69439148976,
          174773.81513525674,
          209673.87118462022,
          229620.365080651,
          270234.20561899437,
          196822.70863351788,
          293140.91473287053,
          189845.4073678701,
          182980.08303464935,
          257789.51277001484,
          282284.4968161109,
          277219.9815149373
         ],
         "yaxis": "y"
        }
       ],
       "layout": {
        "legend": {
         "title": {
          "text": "metadata.blockchain"
         },
         "tracegroupgap": 0
        },
        "template": {
         "data": {
          "bar": [
           {
            "error_x": {
             "color": "#2a3f5f"
            },
            "error_y": {
             "color": "#2a3f5f"
            },
            "marker": {
             "line": {
              "color": "#E5ECF6",
              "width": 0.5
             },
             "pattern": {
              "fillmode": "overlay",
              "size": 10,
              "solidity": 0.2
             }
            },
            "type": "bar"
           }
          ],
          "barpolar": [
           {
            "marker": {
             "line": {
              "color": "#E5ECF6",
              "width": 0.5
             },
             "pattern": {
              "fillmode": "overlay",
              "size": 10,
              "solidity": 0.2
             }
            },
            "type": "barpolar"
           }
          ],
          "carpet": [
           {
            "aaxis": {
             "endlinecolor": "#2a3f5f",
             "gridcolor": "white",
             "linecolor": "white",
             "minorgridcolor": "white",
             "startlinecolor": "#2a3f5f"
            },
            "baxis": {
             "endlinecolor": "#2a3f5f",
             "gridcolor": "white",
             "linecolor": "white",
             "minorgridcolor": "white",
             "startlinecolor": "#2a3f5f"
            },
            "type": "carpet"
           }
          ],
          "choropleth": [
           {
            "colorbar": {
             "outlinewidth": 0,
             "ticks": ""
            },
            "type": "choropleth"
           }
          ],
          "contour": [
           {
            "colorbar": {
             "outlinewidth": 0,
             "ticks": ""
            },
            "colorscale": [
             [
              0,
              "#0d0887"
             ],
             [
              0.1111111111111111,
              "#46039f"
             ],
             [
              0.2222222222222222,
              "#7201a8"
             ],
             [
              0.3333333333333333,
              "#9c179e"
             ],
             [
              0.4444444444444444,
              "#bd3786"
             ],
             [
              0.5555555555555556,
              "#d8576b"
             ],
             [
              0.6666666666666666,
              "#ed7953"
             ],
             [
              0.7777777777777778,
              "#fb9f3a"
             ],
             [
              0.8888888888888888,
              "#fdca26"
             ],
             [
              1,
              "#f0f921"
             ]
            ],
            "type": "contour"
           }
          ],
          "contourcarpet": [
           {
            "colorbar": {
             "outlinewidth": 0,
             "ticks": ""
            },
            "type": "contourcarpet"
           }
          ],
          "heatmap": [
           {
            "colorbar": {
             "outlinewidth": 0,
             "ticks": ""
            },
            "colorscale": [
             [
              0,
              "#0d0887"
             ],
             [
              0.1111111111111111,
              "#46039f"
             ],
             [
              0.2222222222222222,
              "#7201a8"
             ],
             [
              0.3333333333333333,
              "#9c179e"
             ],
             [
              0.4444444444444444,
              "#bd3786"
             ],
             [
              0.5555555555555556,
              "#d8576b"
             ],
             [
              0.6666666666666666,
              "#ed7953"
             ],
             [
              0.7777777777777778,
              "#fb9f3a"
             ],
             [
              0.8888888888888888,
              "#fdca26"
             ],
             [
              1,
              "#f0f921"
             ]
            ],
            "type": "heatmap"
           }
          ],
          "heatmapgl": [
           {
            "colorbar": {
             "outlinewidth": 0,
             "ticks": ""
            },
            "colorscale": [
             [
              0,
              "#0d0887"
             ],
             [
              0.1111111111111111,
              "#46039f"
             ],
             [
              0.2222222222222222,
              "#7201a8"
             ],
             [
              0.3333333333333333,
              "#9c179e"
             ],
             [
              0.4444444444444444,
              "#bd3786"
             ],
             [
              0.5555555555555556,
              "#d8576b"
             ],
             [
              0.6666666666666666,
              "#ed7953"
             ],
             [
              0.7777777777777778,
              "#fb9f3a"
             ],
             [
              0.8888888888888888,
              "#fdca26"
             ],
             [
              1,
              "#f0f921"
             ]
            ],
            "type": "heatmapgl"
           }
          ],
          "histogram": [
           {
            "marker": {
             "pattern": {
              "fillmode": "overlay",
              "size": 10,
              "solidity": 0.2
             }
            },
            "type": "histogram"
           }
          ],
          "histogram2d": [
           {
            "colorbar": {
             "outlinewidth": 0,
             "ticks": ""
            },
            "colorscale": [
             [
              0,
              "#0d0887"
             ],
             [
              0.1111111111111111,
              "#46039f"
             ],
             [
              0.2222222222222222,
              "#7201a8"
             ],
             [
              0.3333333333333333,
              "#9c179e"
             ],
             [
              0.4444444444444444,
              "#bd3786"
             ],
             [
              0.5555555555555556,
              "#d8576b"
             ],
             [
              0.6666666666666666,
              "#ed7953"
             ],
             [
              0.7777777777777778,
              "#fb9f3a"
             ],
             [
              0.8888888888888888,
              "#fdca26"
             ],
             [
              1,
              "#f0f921"
             ]
            ],
            "type": "histogram2d"
           }
          ],
          "histogram2dcontour": [
           {
            "colorbar": {
             "outlinewidth": 0,
             "ticks": ""
            },
            "colorscale": [
             [
              0,
              "#0d0887"
             ],
             [
              0.1111111111111111,
              "#46039f"
             ],
             [
              0.2222222222222222,
              "#7201a8"
             ],
             [
              0.3333333333333333,
              "#9c179e"
             ],
             [
              0.4444444444444444,
              "#bd3786"
             ],
             [
              0.5555555555555556,
              "#d8576b"
             ],
             [
              0.6666666666666666,
              "#ed7953"
             ],
             [
              0.7777777777777778,
              "#fb9f3a"
             ],
             [
              0.8888888888888888,
              "#fdca26"
             ],
             [
              1,
              "#f0f921"
             ]
            ],
            "type": "histogram2dcontour"
           }
          ],
          "mesh3d": [
           {
            "colorbar": {
             "outlinewidth": 0,
             "ticks": ""
            },
            "type": "mesh3d"
           }
          ],
          "parcoords": [
           {
            "line": {
             "colorbar": {
              "outlinewidth": 0,
              "ticks": ""
             }
            },
            "type": "parcoords"
           }
          ],
          "pie": [
           {
            "automargin": true,
            "type": "pie"
           }
          ],
          "scatter": [
           {
            "marker": {
             "colorbar": {
              "outlinewidth": 0,
              "ticks": ""
             }
            },
            "type": "scatter"
           }
          ],
          "scatter3d": [
           {
            "line": {
             "colorbar": {
              "outlinewidth": 0,
              "ticks": ""
             }
            },
            "marker": {
             "colorbar": {
              "outlinewidth": 0,
              "ticks": ""
             }
            },
            "type": "scatter3d"
           }
          ],
          "scattercarpet": [
           {
            "marker": {
             "colorbar": {
              "outlinewidth": 0,
              "ticks": ""
             }
            },
            "type": "scattercarpet"
           }
          ],
          "scattergeo": [
           {
            "marker": {
             "colorbar": {
              "outlinewidth": 0,
              "ticks": ""
             }
            },
            "type": "scattergeo"
           }
          ],
          "scattergl": [
           {
            "marker": {
             "colorbar": {
              "outlinewidth": 0,
              "ticks": ""
             }
            },
            "type": "scattergl"
           }
          ],
          "scattermapbox": [
           {
            "marker": {
             "colorbar": {
              "outlinewidth": 0,
              "ticks": ""
             }
            },
            "type": "scattermapbox"
           }
          ],
          "scatterpolar": [
           {
            "marker": {
             "colorbar": {
              "outlinewidth": 0,
              "ticks": ""
             }
            },
            "type": "scatterpolar"
           }
          ],
          "scatterpolargl": [
           {
            "marker": {
             "colorbar": {
              "outlinewidth": 0,
              "ticks": ""
             }
            },
            "type": "scatterpolargl"
           }
          ],
          "scatterternary": [
           {
            "marker": {
             "colorbar": {
              "outlinewidth": 0,
              "ticks": ""
             }
            },
            "type": "scatterternary"
           }
          ],
          "surface": [
           {
            "colorbar": {
             "outlinewidth": 0,
             "ticks": ""
            },
            "colorscale": [
             [
              0,
              "#0d0887"
             ],
             [
              0.1111111111111111,
              "#46039f"
             ],
             [
              0.2222222222222222,
              "#7201a8"
             ],
             [
              0.3333333333333333,
              "#9c179e"
             ],
             [
              0.4444444444444444,
              "#bd3786"
             ],
             [
              0.5555555555555556,
              "#d8576b"
             ],
             [
              0.6666666666666666,
              "#ed7953"
             ],
             [
              0.7777777777777778,
              "#fb9f3a"
             ],
             [
              0.8888888888888888,
              "#fdca26"
             ],
             [
              1,
              "#f0f921"
             ]
            ],
            "type": "surface"
           }
          ],
          "table": [
           {
            "cells": {
             "fill": {
              "color": "#EBF0F8"
             },
             "line": {
              "color": "white"
             }
            },
            "header": {
             "fill": {
              "color": "#C8D4E3"
             },
             "line": {
              "color": "white"
             }
            },
            "type": "table"
           }
          ]
         },
         "layout": {
          "annotationdefaults": {
           "arrowcolor": "#2a3f5f",
           "arrowhead": 0,
           "arrowwidth": 1
          },
          "autotypenumbers": "strict",
          "coloraxis": {
           "colorbar": {
            "outlinewidth": 0,
            "ticks": ""
           }
          },
          "colorscale": {
           "diverging": [
            [
             0,
             "#8e0152"
            ],
            [
             0.1,
             "#c51b7d"
            ],
            [
             0.2,
             "#de77ae"
            ],
            [
             0.3,
             "#f1b6da"
            ],
            [
             0.4,
             "#fde0ef"
            ],
            [
             0.5,
             "#f7f7f7"
            ],
            [
             0.6,
             "#e6f5d0"
            ],
            [
             0.7,
             "#b8e186"
            ],
            [
             0.8,
             "#7fbc41"
            ],
            [
             0.9,
             "#4d9221"
            ],
            [
             1,
             "#276419"
            ]
           ],
           "sequential": [
            [
             0,
             "#0d0887"
            ],
            [
             0.1111111111111111,
             "#46039f"
            ],
            [
             0.2222222222222222,
             "#7201a8"
            ],
            [
             0.3333333333333333,
             "#9c179e"
            ],
            [
             0.4444444444444444,
             "#bd3786"
            ],
            [
             0.5555555555555556,
             "#d8576b"
            ],
            [
             0.6666666666666666,
             "#ed7953"
            ],
            [
             0.7777777777777778,
             "#fb9f3a"
            ],
            [
             0.8888888888888888,
             "#fdca26"
            ],
            [
             1,
             "#f0f921"
            ]
           ],
           "sequentialminus": [
            [
             0,
             "#0d0887"
            ],
            [
             0.1111111111111111,
             "#46039f"
            ],
            [
             0.2222222222222222,
             "#7201a8"
            ],
            [
             0.3333333333333333,
             "#9c179e"
            ],
            [
             0.4444444444444444,
             "#bd3786"
            ],
            [
             0.5555555555555556,
             "#d8576b"
            ],
            [
             0.6666666666666666,
             "#ed7953"
            ],
            [
             0.7777777777777778,
             "#fb9f3a"
            ],
            [
             0.8888888888888888,
             "#fdca26"
            ],
            [
             1,
             "#f0f921"
            ]
           ]
          },
          "colorway": [
           "#636efa",
           "#EF553B",
           "#00cc96",
           "#ab63fa",
           "#FFA15A",
           "#19d3f3",
           "#FF6692",
           "#B6E880",
           "#FF97FF",
           "#FECB52"
          ],
          "font": {
           "color": "#2a3f5f"
          },
          "geo": {
           "bgcolor": "white",
           "lakecolor": "white",
           "landcolor": "#E5ECF6",
           "showlakes": true,
           "showland": true,
           "subunitcolor": "white"
          },
          "hoverlabel": {
           "align": "left"
          },
          "hovermode": "closest",
          "mapbox": {
           "style": "light"
          },
          "paper_bgcolor": "white",
          "plot_bgcolor": "#E5ECF6",
          "polar": {
           "angularaxis": {
            "gridcolor": "white",
            "linecolor": "white",
            "ticks": ""
           },
           "bgcolor": "#E5ECF6",
           "radialaxis": {
            "gridcolor": "white",
            "linecolor": "white",
            "ticks": ""
           }
          },
          "scene": {
           "xaxis": {
            "backgroundcolor": "#E5ECF6",
            "gridcolor": "white",
            "gridwidth": 2,
            "linecolor": "white",
            "showbackground": true,
            "ticks": "",
            "zerolinecolor": "white"
           },
           "yaxis": {
            "backgroundcolor": "#E5ECF6",
            "gridcolor": "white",
            "gridwidth": 2,
            "linecolor": "white",
            "showbackground": true,
            "ticks": "",
            "zerolinecolor": "white"
           },
           "zaxis": {
            "backgroundcolor": "#E5ECF6",
            "gridcolor": "white",
            "gridwidth": 2,
            "linecolor": "white",
            "showbackground": true,
            "ticks": "",
            "zerolinecolor": "white"
           }
          },
          "shapedefaults": {
           "line": {
            "color": "#2a3f5f"
           }
          },
          "ternary": {
           "aaxis": {
            "gridcolor": "white",
            "linecolor": "white",
            "ticks": ""
           },
           "baxis": {
            "gridcolor": "white",
            "linecolor": "white",
            "ticks": ""
           },
           "bgcolor": "#E5ECF6",
           "caxis": {
            "gridcolor": "white",
            "linecolor": "white",
            "ticks": ""
           }
          },
          "title": {
           "x": 0.05
          },
          "xaxis": {
           "automargin": true,
           "gridcolor": "white",
           "linecolor": "white",
           "ticks": "",
           "title": {
            "standoff": 15
           },
           "zerolinecolor": "white",
           "zerolinewidth": 2
          },
          "yaxis": {
           "automargin": true,
           "gridcolor": "white",
           "linecolor": "white",
           "ticks": "",
           "title": {
            "standoff": 15
           },
           "zerolinecolor": "white",
           "zerolinewidth": 2
          }
         }
        },
        "title": {
         "text": "Sum Fees Earned on apps by Chain (USD)"
        },
        "xaxis": {
         "anchor": "y",
         "domain": [
          0,
          1
         ],
         "title": {
          "text": "date"
         }
        },
        "yaxis": {
         "anchor": "x",
         "domain": [
          0,
          1
         ],
         "tickprefix": "$",
         "title": {
          "text": "results.oneDayTotalFees"
         }
        }
       }
      }
     },
     "metadata": {},
     "output_type": "display_data"
    }
   ],
   "source": [
    "fig_chain_30d = px.line(data_fdf_chain, x=\"date\", y=\"results.oneDayTotalFees\", color = \"metadata.blockchain\", title = 'Sum Fees Earned on apps by Chain (USD)')\n",
    "fig_chain_30d.update_layout(yaxis_tickprefix = '$')\n",
    "fig_chain_30d.show()"
   ]
  },
  {
   "cell_type": "code",
   "execution_count": 180,
   "metadata": {},
   "outputs": [
    {
     "name": "stdout",
     "output_type": "stream",
     "text": [
      "Collecting pipreqs\n",
      "  Downloading pipreqs-0.4.11-py2.py3-none-any.whl (32 kB)\n",
      "Collecting docopt\n",
      "  Downloading docopt-0.6.2.tar.gz (25 kB)\n",
      "  Preparing metadata (setup.py) ... \u001b[?25ldone\n",
      "\u001b[?25hCollecting yarg\n",
      "  Downloading yarg-0.1.9-py2.py3-none-any.whl (19 kB)\n",
      "Requirement already satisfied: requests in /Users/michaelsilberling/opt/anaconda3/lib/python3.9/site-packages (from yarg->pipreqs) (2.28.1)\n",
      "Requirement already satisfied: idna<4,>=2.5 in /Users/michaelsilberling/opt/anaconda3/lib/python3.9/site-packages (from requests->yarg->pipreqs) (3.3)\n",
      "Requirement already satisfied: certifi>=2017.4.17 in /Users/michaelsilberling/opt/anaconda3/lib/python3.9/site-packages (from requests->yarg->pipreqs) (2022.6.15)\n",
      "Requirement already satisfied: charset-normalizer<3,>=2 in /Users/michaelsilberling/opt/anaconda3/lib/python3.9/site-packages (from requests->yarg->pipreqs) (2.0.4)\n",
      "Requirement already satisfied: urllib3<1.27,>=1.21.1 in /Users/michaelsilberling/opt/anaconda3/lib/python3.9/site-packages (from requests->yarg->pipreqs) (1.26.11)\n",
      "Building wheels for collected packages: docopt\n",
      "  Building wheel for docopt (setup.py) ... \u001b[?25ldone\n",
      "\u001b[?25h  Created wheel for docopt: filename=docopt-0.6.2-py2.py3-none-any.whl size=13706 sha256=7eb964600cf0c98ac3274482cf38cfef1f8d44969479ef7839e5a6d3097eea61\n",
      "  Stored in directory: /Users/michaelsilberling/Library/Caches/pip/wheels/70/4a/46/1309fc853b8d395e60bafaf1b6df7845bdd82c95fd59dd8d2b\n",
      "Successfully built docopt\n",
      "Installing collected packages: docopt, yarg, pipreqs\n",
      "Successfully installed docopt-0.6.2 pipreqs-0.4.11 yarg-0.1.9\n",
      "INFO: Successfully saved requirements file in /Users/michaelsilberling/Documents/GitHub/msilb7-crypto-queries/L2_Fees/requirements.txt\n"
     ]
    }
   ],
   "source": [
    "# ! jupyter nbconvert --to python optimism_app_fees.ipynb"
   ]
  }
 ],
 "metadata": {
  "kernelspec": {
   "display_name": "Python 3.9.7 ('base')",
   "language": "python",
   "name": "python3"
  },
  "language_info": {
   "codemirror_mode": {
    "name": "ipython",
    "version": 3
   },
   "file_extension": ".py",
   "mimetype": "text/x-python",
   "name": "python",
   "nbconvert_exporter": "python",
   "pygments_lexer": "ipython3",
   "version": "3.9.7"
  },
  "orig_nbformat": 4,
  "vscode": {
   "interpreter": {
    "hash": "17c021eea7371cec353b12daa8dd7517ddfe82cfa4c2626e1e7d1541ccab7c49"
   }
  }
 },
 "nbformat": 4,
 "nbformat_minor": 2
}
