{
 "cells": [
  {
   "cell_type": "code",
   "execution_count": null,
   "metadata": {},
   "outputs": [],
   "source": [
    "import pandas as pd\n",
    "import requests as r\n",
    "import plotly.express as px\n",
    "import plotly.graph_objects as go\n",
    "from datetime import datetime, timedelta, date\n",
    "import numpy as np\n",
    "import time\n",
    "import os\n",
    "import asyncio, aiohttp, nest_asyncio\n",
    "from aiohttp_retry import RetryClient, ExponentialRetry\n",
    "nest_asyncio.apply()\n",
    "header = {'User-Agent': 'Mozilla/5.0 (Windows NT 10.0; Win64; x64; rv:71.0) Gecko/20100101 Firefox/71.0'}"
   ]
  },
  {
   "cell_type": "code",
   "execution_count": null,
   "metadata": {},
   "outputs": [],
   "source": [
    "#https://stackoverflow.com/questions/23267409/how-to-implement-retry-mechanism-into-python-requests-library\n",
    "\n",
    "import logging\n",
    "import requests\n",
    "\n",
    "from requests.adapters import HTTPAdapter, Retry\n",
    "\n",
    "# logging.basicConfig(level=logging.DEBUG)\n",
    "\n",
    "s = requests.Session()\n",
    "retries = Retry(total=5, backoff_factor=1, status_forcelist=[ 404, 502, 503, 504 ])\n",
    "s.mount('http://', HTTPAdapter(max_retries=retries))\n",
    "\n",
    "pwd = os.getcwd()\n",
    "if 'L2_Fees' in pwd:\n",
    "    prepend = ''\n",
    "else:\n",
    "    prepend = 'L2_Fees/'"
   ]
  },
  {
   "cell_type": "code",
   "execution_count": null,
   "metadata": {},
   "outputs": [],
   "source": [
    "trailing_num_days = 90\n",
    "\n",
    "start_date = date.today()-timedelta(days=trailing_num_days +1)\n",
    "\n",
    "# start_date = datetime.strptime('2022-07-13', '%Y-%m-%d').date()"
   ]
  },
  {
   "cell_type": "code",
   "execution_count": null,
   "metadata": {},
   "outputs": [],
   "source": [
    "statuses = {x for x in range(100, 600)}\n",
    "statuses.remove(200)\n",
    "statuses.remove(429)"
   ]
  },
  {
   "cell_type": "code",
   "execution_count": null,
   "metadata": {},
   "outputs": [],
   "source": [
    "async def get_cryptostats_api(api_core_string,dt_string ):\n",
    "        dt_string = dt_string.strftime(\"%Y-%m-%d\")\n",
    "        # print(dt_string)\n",
    "        i = 0\n",
    "        res = pd.DataFrame()\n",
    "        # #try 5 times\n",
    "        # while i < 5:\n",
    "        #         try: \n",
    "        async with aiohttp.ClientSession() as session:\n",
    "                retry_client = RetryClient(session)\n",
    "                async with retry_client.get(api_core_string + dt_string, retry_options=ExponentialRetry(attempts=3), raise_for_status=statuses) as response:\n",
    "                        try:\n",
    "                                prot_req = await response.json()\n",
    "                        except Exception as e:\n",
    "                                raise Exception(\"Could not convert json\")\n",
    "                await retry_client.close()\n",
    "                \n",
    "                # prot_req = await retry_client.get(api_core_string + dt_string, headers=header)\n",
    "                # prot_req = await prot_req.json()\n",
    "        res = pd.json_normalize(prot_req['data']).reset_index()\n",
    "        res = res[res['metadata.blockchain'] == 'Optimism']\n",
    "        res['date'] = dt_string\n",
    "                # except:\n",
    "                #         i = i+1\n",
    "                #         time.sleep(1)\n",
    "                #         continue\n",
    "                # break\n",
    "        return res\n",
    "\n",
    "# async def gather_with_concurrency(n, *tasks):\n",
    "#     semaphore = asyncio.Semaphore(n)\n",
    "#     async def sem_task(task):\n",
    "#         async with semaphore:\n",
    "#             return await task\n",
    "        "
   ]
  },
  {
   "cell_type": "code",
   "execution_count": null,
   "metadata": {},
   "outputs": [],
   "source": [
    "# ALL Relevant API Strings\n",
    "# https://cryptostats.community/discover/fees\n",
    "# This is dependent on crypto stats, eventually maybe we mod this to pull from TheGraph, but this is simplest por ahora\n",
    "# https://docs.cryptostats.community/tutorial/how-to-query-with-rest-api/making-get-requests\n",
    "        #How to make a single query\n",
    "        #To make a single query on a collection. Send a GET request to\n",
    "        #https://api.cryptostats.community/api/v1/<collection-id>/<query>/<arg>\n",
    "        \n",
    "        # How to make multiple queries\n",
    "        # To make multiple queries on a collection, send a GET request to\n",
    "        # https://api.cryptostats.community/api/v1/<collection-id>/<query-1>,<query-2>/<query-1-arg>,<query-2-arg>\n",
    "\n",
    "api_core = 'https://api.cryptostats.community/api/v1/fees/oneDayTotalFees/' #Can only pull everything all at once. Odd.\n",
    "date_rng = pd.date_range(start=start_date, end=date.today()-timedelta(days=1))\n",
    "date_rng_str = ','.join(x.strftime(\"%Y-%m-%d\") for x in date_rng)\n",
    "# print(date_rng[0].strftime(\"%Y-%m-%d\"))"
   ]
  },
  {
   "cell_type": "code",
   "execution_count": null,
   "metadata": {},
   "outputs": [],
   "source": [
    "def get_range(date_range):\n",
    "        data_dfs = []\n",
    "        fee_df = []\n",
    "        # for dt in date_range:\n",
    "        #         await asyncio.gather()\n",
    "        #         data_dfs.append(res_df)\n",
    "        #         # res.columns\n",
    "        # try:\n",
    "        #         loop.close()\n",
    "        # except:\n",
    "        #         #nothing\n",
    "        loop = asyncio.get_event_loop()\n",
    "        tasks = [get_cryptostats_api(api_core,dt) for dt in date_range]\n",
    "        # print(tasks)\n",
    "        data_dfs = loop.run_until_complete(asyncio.gather(*tasks, return_exceptions=True))\n",
    "        # print(date_range)\n",
    "        # loop.close()\n",
    "        print(data_dfs)\n",
    "        fee_df = pd.concat(data_dfs)\n",
    "        return fee_df"
   ]
  },
  {
   "cell_type": "code",
   "execution_count": null,
   "metadata": {},
   "outputs": [],
   "source": [
    "\n",
    "\n",
    "fdf = get_range(date_rng)\n",
    "# r.get('https://api.cryptostats.community/api/v1/fees/oneDayTotalFees/2022-05-21')\n",
    "# print(r)"
   ]
  },
  {
   "cell_type": "code",
   "execution_count": null,
   "metadata": {},
   "outputs": [],
   "source": [
    "display(fdf)"
   ]
  }
 ],
 "metadata": {
  "kernelspec": {
   "display_name": "Python 3.9.7 ('base')",
   "language": "python",
   "name": "python3"
  },
  "language_info": {
   "codemirror_mode": {
    "name": "ipython",
    "version": 3
   },
   "file_extension": ".py",
   "mimetype": "text/x-python",
   "name": "python",
   "nbconvert_exporter": "python",
   "pygments_lexer": "ipython3",
   "version": "3.9.7"
  },
  "orig_nbformat": 4,
  "vscode": {
   "interpreter": {
    "hash": "17c021eea7371cec353b12daa8dd7517ddfe82cfa4c2626e1e7d1541ccab7c49"
   }
  }
 },
 "nbformat": 4,
 "nbformat_minor": 2
}
