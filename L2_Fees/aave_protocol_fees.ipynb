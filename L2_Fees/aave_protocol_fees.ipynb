{
 "cells": [
  {
   "cell_type": "code",
   "execution_count": 16,
   "metadata": {},
   "outputs": [],
   "source": [
    "import pandas as pd\n",
    "\n",
    "#handle weird kaleido error\n",
    "import plotly.express as px\n",
    "import plotly.graph_objects as go\n",
    "import plotly.io as pio\n",
    "pio.kaleido.scope.chromium_args = tuple([arg for arg in pio.kaleido.scope.chromium_args if arg != \"--disable-dev-shm-usage\"])\n",
    "\n",
    "from datetime import datetime, timedelta, date\n",
    "import numpy as np\n",
    "import time\n",
    "import os\n",
    "import asyncio, aiohttp, nest_asyncio\n",
    "from aiohttp_retry import RetryClient, ExponentialRetry\n",
    "nest_asyncio.apply()\n",
    "header = {'User-Agent': 'Mozilla/5.0 (Windows NT 10.0; Win64; x64; rv:71.0) Gecko/20100101 Firefox/71.0'}"
   ]
  },
  {
   "cell_type": "code",
   "execution_count": 17,
   "metadata": {},
   "outputs": [],
   "source": [
    "#https://stackoverflow.com/questions/23267409/how-to-implement-retry-mechanism-into-python-requests-library\n",
    "\n",
    "import logging\n",
    "import requests\n",
    "\n",
    "from requests.adapters import HTTPAdapter, Retry\n",
    "\n",
    "s = requests.Session()\n",
    "retries = Retry(total=10, backoff_factor=1, status_forcelist=[ 404, 502, 503, 504 ])\n",
    "s.mount('http://', HTTPAdapter(max_retries=retries))\n",
    "\n",
    "pwd = os.getcwd()\n",
    "if 'L2_Fees' in pwd:\n",
    "    prepend = ''\n",
    "else:\n",
    "    prepend = 'L2_Fees/'"
   ]
  },
  {
   "cell_type": "code",
   "execution_count": 18,
   "metadata": {},
   "outputs": [
    {
     "name": "stdout",
     "output_type": "stream",
     "text": [
      "2022-05-24\n"
     ]
    }
   ],
   "source": [
    "statuses = {x for x in range(100, 600)}\n",
    "statuses.remove(200)\n",
    "statuses.remove(429)\n",
    "statuses.remove(500)\n",
    "\n",
    "trailing_num_days = 180#90\n",
    "\n",
    "start_date = date.today()-timedelta(days=trailing_num_days +1)\n",
    "\n",
    "start_date = max(start_date, date(2021,11,12))\n",
    "print(start_date)\n",
    "# start_date = datetime.strptime('2022-07-13', '%Y-%m-%d').date()"
   ]
  },
  {
   "cell_type": "code",
   "execution_count": 19,
   "metadata": {},
   "outputs": [],
   "source": [
    "async def get_cryptostats_api(api_core_string,dt_string ):\n",
    "        dt_string = dt_string.strftime(\"%Y-%m-%d\")\n",
    "        i = 0\n",
    "        res = pd.DataFrame()\n",
    "        retry_client = RetryClient()\n",
    "        # print(api_core_string + dt_string)\n",
    "        async with retry_client.get(api_core_string + dt_string, retry_options=ExponentialRetry(attempts=10), raise_for_status=statuses) as response:\n",
    "                try:\n",
    "                        prot_req = await response.json()\n",
    "                        res = pd.json_normalize(prot_req['data']).reset_index()\n",
    "                        res['date'] = dt_string\n",
    "                except Exception as e:\n",
    "                        raise Exception(\"Could not convert json\")\n",
    "        await retry_client.close()\n",
    "        return res\n",
    "        "
   ]
  },
  {
   "cell_type": "code",
   "execution_count": 20,
   "metadata": {},
   "outputs": [],
   "source": [
    "# https://api.cryptostats.community/api/v1/<collection-id>/<query>/<arg>\n",
    "\n",
    "api_core = 'https://api.cryptostats.community/api/v1/fees/oneDayFeeBreakdown/' #Can only pull everything all at once. Odd.\n",
    "date_rng = pd.date_range(start=start_date, end=date.today()-timedelta(days=1))\n",
    "date_rng_str = ','.join(x.strftime(\"%Y-%m-%d\") for x in date_rng)"
   ]
  },
  {
   "cell_type": "code",
   "execution_count": 25,
   "metadata": {},
   "outputs": [
    {
     "ename": "JSONDecodeError",
     "evalue": "Expecting value: line 1 column 1 (char 0)",
     "output_type": "error",
     "traceback": [
      "\u001b[0;31m---------------------------------------------------------------------------\u001b[0m",
      "\u001b[0;31mJSONDecodeError\u001b[0m                           Traceback (most recent call last)",
      "File \u001b[0;32m~/opt/anaconda3/lib/python3.9/site-packages/requests/models.py:971\u001b[0m, in \u001b[0;36mResponse.json\u001b[0;34m(self, **kwargs)\u001b[0m\n\u001b[1;32m    970\u001b[0m \u001b[39mtry\u001b[39;00m:\n\u001b[0;32m--> 971\u001b[0m     \u001b[39mreturn\u001b[39;00m complexjson\u001b[39m.\u001b[39;49mloads(\u001b[39mself\u001b[39;49m\u001b[39m.\u001b[39;49mtext, \u001b[39m*\u001b[39;49m\u001b[39m*\u001b[39;49mkwargs)\n\u001b[1;32m    972\u001b[0m \u001b[39mexcept\u001b[39;00m JSONDecodeError \u001b[39mas\u001b[39;00m e:\n\u001b[1;32m    973\u001b[0m     \u001b[39m# Catch JSON-related errors and raise as requests.JSONDecodeError\u001b[39;00m\n\u001b[1;32m    974\u001b[0m     \u001b[39m# This aliases json.JSONDecodeError and simplejson.JSONDecodeError\u001b[39;00m\n",
      "File \u001b[0;32m~/opt/anaconda3/lib/python3.9/json/__init__.py:346\u001b[0m, in \u001b[0;36mloads\u001b[0;34m(s, cls, object_hook, parse_float, parse_int, parse_constant, object_pairs_hook, **kw)\u001b[0m\n\u001b[1;32m    343\u001b[0m \u001b[39mif\u001b[39;00m (\u001b[39mcls\u001b[39m \u001b[39mis\u001b[39;00m \u001b[39mNone\u001b[39;00m \u001b[39mand\u001b[39;00m object_hook \u001b[39mis\u001b[39;00m \u001b[39mNone\u001b[39;00m \u001b[39mand\u001b[39;00m\n\u001b[1;32m    344\u001b[0m         parse_int \u001b[39mis\u001b[39;00m \u001b[39mNone\u001b[39;00m \u001b[39mand\u001b[39;00m parse_float \u001b[39mis\u001b[39;00m \u001b[39mNone\u001b[39;00m \u001b[39mand\u001b[39;00m\n\u001b[1;32m    345\u001b[0m         parse_constant \u001b[39mis\u001b[39;00m \u001b[39mNone\u001b[39;00m \u001b[39mand\u001b[39;00m object_pairs_hook \u001b[39mis\u001b[39;00m \u001b[39mNone\u001b[39;00m \u001b[39mand\u001b[39;00m \u001b[39mnot\u001b[39;00m kw):\n\u001b[0;32m--> 346\u001b[0m     \u001b[39mreturn\u001b[39;00m _default_decoder\u001b[39m.\u001b[39;49mdecode(s)\n\u001b[1;32m    347\u001b[0m \u001b[39mif\u001b[39;00m \u001b[39mcls\u001b[39m \u001b[39mis\u001b[39;00m \u001b[39mNone\u001b[39;00m:\n",
      "File \u001b[0;32m~/opt/anaconda3/lib/python3.9/json/decoder.py:337\u001b[0m, in \u001b[0;36mJSONDecoder.decode\u001b[0;34m(self, s, _w)\u001b[0m\n\u001b[1;32m    333\u001b[0m \u001b[39m\"\"\"Return the Python representation of ``s`` (a ``str`` instance\u001b[39;00m\n\u001b[1;32m    334\u001b[0m \u001b[39mcontaining a JSON document).\u001b[39;00m\n\u001b[1;32m    335\u001b[0m \n\u001b[1;32m    336\u001b[0m \u001b[39m\"\"\"\u001b[39;00m\n\u001b[0;32m--> 337\u001b[0m obj, end \u001b[39m=\u001b[39m \u001b[39mself\u001b[39;49m\u001b[39m.\u001b[39;49mraw_decode(s, idx\u001b[39m=\u001b[39;49m_w(s, \u001b[39m0\u001b[39;49m)\u001b[39m.\u001b[39;49mend())\n\u001b[1;32m    338\u001b[0m end \u001b[39m=\u001b[39m _w(s, end)\u001b[39m.\u001b[39mend()\n",
      "File \u001b[0;32m~/opt/anaconda3/lib/python3.9/json/decoder.py:355\u001b[0m, in \u001b[0;36mJSONDecoder.raw_decode\u001b[0;34m(self, s, idx)\u001b[0m\n\u001b[1;32m    354\u001b[0m \u001b[39mexcept\u001b[39;00m \u001b[39mStopIteration\u001b[39;00m \u001b[39mas\u001b[39;00m err:\n\u001b[0;32m--> 355\u001b[0m     \u001b[39mraise\u001b[39;00m JSONDecodeError(\u001b[39m\"\u001b[39m\u001b[39mExpecting value\u001b[39m\u001b[39m\"\u001b[39m, s, err\u001b[39m.\u001b[39mvalue) \u001b[39mfrom\u001b[39;00m \u001b[39mNone\u001b[39m\n\u001b[1;32m    356\u001b[0m \u001b[39mreturn\u001b[39;00m obj, end\n",
      "\u001b[0;31mJSONDecodeError\u001b[0m: Expecting value: line 1 column 1 (char 0)",
      "\nDuring handling of the above exception, another exception occurred:\n",
      "\u001b[0;31mJSONDecodeError\u001b[0m                           Traceback (most recent call last)",
      "\u001b[1;32m/Users/michaelsilberling/Documents/GitHub/msilb7-crypto-queries/L2_Fees/aave_protocol_fees.ipynb Cell 6\u001b[0m in \u001b[0;36m<cell line: 2>\u001b[0;34m()\u001b[0m\n\u001b[1;32m      <a href='vscode-notebook-cell:/Users/michaelsilberling/Documents/GitHub/msilb7-crypto-queries/L2_Fees/aave_protocol_fees.ipynb#X13sZmlsZQ%3D%3D?line=0'>1</a>\u001b[0m resp \u001b[39m=\u001b[39m s\u001b[39m.\u001b[39mget (\u001b[39m'\u001b[39m\u001b[39mhttps://api.cryptostats.community/api/v1/fees/oneDayFeeBreakdown/2022-11-18\u001b[39m\u001b[39m'\u001b[39m)\n\u001b[0;32m----> <a href='vscode-notebook-cell:/Users/michaelsilberling/Documents/GitHub/msilb7-crypto-queries/L2_Fees/aave_protocol_fees.ipynb#X13sZmlsZQ%3D%3D?line=1'>2</a>\u001b[0m \u001b[39mprint\u001b[39m(resp\u001b[39m.\u001b[39;49mjson())\n",
      "File \u001b[0;32m~/opt/anaconda3/lib/python3.9/site-packages/requests/models.py:975\u001b[0m, in \u001b[0;36mResponse.json\u001b[0;34m(self, **kwargs)\u001b[0m\n\u001b[1;32m    971\u001b[0m     \u001b[39mreturn\u001b[39;00m complexjson\u001b[39m.\u001b[39mloads(\u001b[39mself\u001b[39m\u001b[39m.\u001b[39mtext, \u001b[39m*\u001b[39m\u001b[39m*\u001b[39mkwargs)\n\u001b[1;32m    972\u001b[0m \u001b[39mexcept\u001b[39;00m JSONDecodeError \u001b[39mas\u001b[39;00m e:\n\u001b[1;32m    973\u001b[0m     \u001b[39m# Catch JSON-related errors and raise as requests.JSONDecodeError\u001b[39;00m\n\u001b[1;32m    974\u001b[0m     \u001b[39m# This aliases json.JSONDecodeError and simplejson.JSONDecodeError\u001b[39;00m\n\u001b[0;32m--> 975\u001b[0m     \u001b[39mraise\u001b[39;00m RequestsJSONDecodeError(e\u001b[39m.\u001b[39mmsg, e\u001b[39m.\u001b[39mdoc, e\u001b[39m.\u001b[39mpos)\n",
      "\u001b[0;31mJSONDecodeError\u001b[0m: Expecting value: line 1 column 1 (char 0)"
     ]
    }
   ],
   "source": [
    "# resp = s.get ('https://api.cryptostats.community/api/v1/fees/oneDayFeeBreakdown/2022-11-18')\n",
    "# print(resp.json())"
   ]
  },
  {
   "cell_type": "code",
   "execution_count": 21,
   "metadata": {},
   "outputs": [],
   "source": [
    "def get_range(date_range):\n",
    "        data_dfs = []\n",
    "        fee_df = []\n",
    " \n",
    "        loop = asyncio.get_event_loop()\n",
    "        tasks = [get_cryptostats_api(api_core,dt) for dt in date_range]\n",
    "\n",
    "        data_dfs = loop.run_until_complete(asyncio.gather(*tasks, return_exceptions=True))\n",
    "\n",
    "        data_dfs = [value for value in data_dfs if type(value) == pd.DataFrame]\n",
    "        \n",
    "        # print(data_dfs)\n",
    "\n",
    "        fee_df = pd.concat(data_dfs)\n",
    "        return fee_df"
   ]
  },
  {
   "cell_type": "code",
   "execution_count": 22,
   "metadata": {},
   "outputs": [],
   "source": [
    "fdf_raw = get_range(date_rng)"
   ]
  },
  {
   "cell_type": "code",
   "execution_count": 23,
   "metadata": {},
   "outputs": [
    {
     "data": {
      "text/plain": [
       "Index(['index', 'id', 'bundle', 'results.oneDayFeeBreakdown',\n",
       "       'metadata.source', 'metadata.icon', 'metadata.name',\n",
       "       'metadata.category', 'metadata.description', 'metadata.feeDescription',\n",
       "       'metadata.blockchain', 'metadata.website', 'metadata.tokenTicker',\n",
       "       'metadata.tokenCoingecko', 'metadata.protocolLaunch',\n",
       "       'metadata.tokenLaunch', 'metadata.bundle', 'metadata.adapter',\n",
       "       'metadata.subtitle', 'metadata.shortName', 'metadata.events',\n",
       "       'metadata.protocolShutdown', 'errors.oneDayFeeBreakdown',\n",
       "       'metadata.tokenSymbol', 'metadata.subcategory', 'metadata.tokenticker',\n",
       "       'metadata.tokencoingecko', 'date',\n",
       "       'results.oneDayFeeBreakdown.depositorInterestUSD',\n",
       "       'results.oneDayFeeBreakdown.flashloanLPPremiumUSD',\n",
       "       'results.oneDayFeeBreakdown.flashloanProtocolPremiumUSD',\n",
       "       'results.oneDayFeeBreakdown.portalLPFeeUSD',\n",
       "       'results.oneDayFeeBreakdown.portalProtocolFeeUSD',\n",
       "       'results.oneDayFeeBreakdown.treasuryIncomeUSD',\n",
       "       'results.oneDayFeeBreakdown.outstandingTreasuryIncomeUSD'],\n",
       "      dtype='object')"
      ]
     },
     "metadata": {},
     "output_type": "display_data"
    },
    {
     "data": {
      "text/html": [
       "<div>\n",
       "<style scoped>\n",
       "    .dataframe tbody tr th:only-of-type {\n",
       "        vertical-align: middle;\n",
       "    }\n",
       "\n",
       "    .dataframe tbody tr th {\n",
       "        vertical-align: top;\n",
       "    }\n",
       "\n",
       "    .dataframe thead th {\n",
       "        text-align: right;\n",
       "    }\n",
       "</style>\n",
       "<table border=\"1\" class=\"dataframe\">\n",
       "  <thead>\n",
       "    <tr style=\"text-align: right;\">\n",
       "      <th></th>\n",
       "      <th>date</th>\n",
       "      <th>metadata.name</th>\n",
       "      <th>results.oneDayFeeBreakdown.treasuryIncomeUSD</th>\n",
       "      <th>results.oneDayFeeBreakdown.outstandingTreasuryIncomeUSD</th>\n",
       "    </tr>\n",
       "  </thead>\n",
       "  <tbody>\n",
       "    <tr>\n",
       "      <th>45</th>\n",
       "      <td>2022-05-24</td>\n",
       "      <td>Aave</td>\n",
       "      <td>NaN</td>\n",
       "      <td>NaN</td>\n",
       "    </tr>\n",
       "    <tr>\n",
       "      <th>45</th>\n",
       "      <td>2022-05-25</td>\n",
       "      <td>Aave</td>\n",
       "      <td>0.000000</td>\n",
       "      <td>27.278345</td>\n",
       "    </tr>\n",
       "    <tr>\n",
       "      <th>45</th>\n",
       "      <td>2022-05-26</td>\n",
       "      <td>Aave</td>\n",
       "      <td>34.757668</td>\n",
       "      <td>19.858337</td>\n",
       "    </tr>\n",
       "    <tr>\n",
       "      <th>45</th>\n",
       "      <td>2022-05-27</td>\n",
       "      <td>Aave</td>\n",
       "      <td>NaN</td>\n",
       "      <td>NaN</td>\n",
       "    </tr>\n",
       "    <tr>\n",
       "      <th>45</th>\n",
       "      <td>2022-05-28</td>\n",
       "      <td>Aave</td>\n",
       "      <td>NaN</td>\n",
       "      <td>NaN</td>\n",
       "    </tr>\n",
       "    <tr>\n",
       "      <th>...</th>\n",
       "      <td>...</td>\n",
       "      <td>...</td>\n",
       "      <td>...</td>\n",
       "      <td>...</td>\n",
       "    </tr>\n",
       "    <tr>\n",
       "      <th>45</th>\n",
       "      <td>2022-11-16</td>\n",
       "      <td>Aave</td>\n",
       "      <td>NaN</td>\n",
       "      <td>NaN</td>\n",
       "    </tr>\n",
       "    <tr>\n",
       "      <th>45</th>\n",
       "      <td>2022-11-17</td>\n",
       "      <td>Aave</td>\n",
       "      <td>NaN</td>\n",
       "      <td>NaN</td>\n",
       "    </tr>\n",
       "    <tr>\n",
       "      <th>45</th>\n",
       "      <td>2022-11-18</td>\n",
       "      <td>Aave</td>\n",
       "      <td>NaN</td>\n",
       "      <td>NaN</td>\n",
       "    </tr>\n",
       "    <tr>\n",
       "      <th>45</th>\n",
       "      <td>2022-11-19</td>\n",
       "      <td>Aave</td>\n",
       "      <td>NaN</td>\n",
       "      <td>NaN</td>\n",
       "    </tr>\n",
       "    <tr>\n",
       "      <th>45</th>\n",
       "      <td>2022-11-20</td>\n",
       "      <td>Aave</td>\n",
       "      <td>NaN</td>\n",
       "      <td>NaN</td>\n",
       "    </tr>\n",
       "  </tbody>\n",
       "</table>\n",
       "<p>181 rows × 4 columns</p>\n",
       "</div>"
      ],
      "text/plain": [
       "          date metadata.name  results.oneDayFeeBreakdown.treasuryIncomeUSD  \\\n",
       "45  2022-05-24          Aave                                           NaN   \n",
       "45  2022-05-25          Aave                                      0.000000   \n",
       "45  2022-05-26          Aave                                     34.757668   \n",
       "45  2022-05-27          Aave                                           NaN   \n",
       "45  2022-05-28          Aave                                           NaN   \n",
       "..         ...           ...                                           ...   \n",
       "45  2022-11-16          Aave                                           NaN   \n",
       "45  2022-11-17          Aave                                           NaN   \n",
       "45  2022-11-18          Aave                                           NaN   \n",
       "45  2022-11-19          Aave                                           NaN   \n",
       "45  2022-11-20          Aave                                           NaN   \n",
       "\n",
       "    results.oneDayFeeBreakdown.outstandingTreasuryIncomeUSD  \n",
       "45                                                NaN        \n",
       "45                                          27.278345        \n",
       "45                                          19.858337        \n",
       "45                                                NaN        \n",
       "45                                                NaN        \n",
       "..                                                ...        \n",
       "45                                                NaN        \n",
       "45                                                NaN        \n",
       "45                                                NaN        \n",
       "45                                                NaN        \n",
       "45                                                NaN        \n",
       "\n",
       "[181 rows x 4 columns]"
      ]
     },
     "metadata": {},
     "output_type": "display_data"
    }
   ],
   "source": [
    "fdf = fdf_raw.copy()\n",
    "fdf = fdf[(fdf['metadata.blockchain'] == 'Optimism') & (fdf['metadata.name'] == 'Aave')]\n",
    "display(fdf.columns)\n",
    "fdf = fdf[['date','metadata.name'\n",
    "                ,'results.oneDayFeeBreakdown.treasuryIncomeUSD'\n",
    "                ,'results.oneDayFeeBreakdown.outstandingTreasuryIncomeUSD'\n",
    "                # ,'results.oneDayFeeBreakdown.lifetimeReserveFactorAccrued'\n",
    "        ]]\n",
    "\n",
    "display(fdf)\n",
    "# fdf['results.oneDayFeeBreakdown.lifetimeReserveFactorAccrued'] = fdf['results.oneDayFeeBreakdown.lifetimeReserveFactorAccrued'].fillna(0)\n",
    "\n",
    "# display(fdf)"
   ]
  }
 ],
 "metadata": {
  "kernelspec": {
   "display_name": "Python 3.9.13 ('base')",
   "language": "python",
   "name": "python3"
  },
  "language_info": {
   "codemirror_mode": {
    "name": "ipython",
    "version": 3
   },
   "file_extension": ".py",
   "mimetype": "text/x-python",
   "name": "python",
   "nbconvert_exporter": "python",
   "pygments_lexer": "ipython3",
   "version": "3.9.13"
  },
  "orig_nbformat": 4,
  "vscode": {
   "interpreter": {
    "hash": "17c021eea7371cec353b12daa8dd7517ddfe82cfa4c2626e1e7d1541ccab7c49"
   }
  }
 },
 "nbformat": 4,
 "nbformat_minor": 2
}
