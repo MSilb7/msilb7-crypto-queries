{
 "cells": [
  {
   "cell_type": "code",
   "execution_count": 1,
   "id": "0517b3d3",
   "metadata": {},
   "outputs": [],
   "source": [
    "start_date = '2021-08-31'"
   ]
  },
  {
   "cell_type": "code",
   "execution_count": 2,
   "id": "f12f2a28",
   "metadata": {},
   "outputs": [],
   "source": [
    "import pandas as pd\n",
    "import requests\n",
    "import json\n",
    "from datetime import datetime\n",
    "from datetime import date\n",
    "import time\n",
    "#config info\n",
    "from configparser import ConfigParser\n",
    "config = ConfigParser()\n",
    "config.read('../config.ini')\n",
    "etherscan_api = config.get('ETHERSCAN','etherscan_api')\n",
    "\n",
    "#header for parsing\n",
    "headers = {'User-Agent': 'Mozilla/5.0 (Macintosh; Intel Mac OS X 10_11_5) AppleWebKit/537.36 (KHTML, like Gecko) Chrome/50.0.2661.102 Safari/537.36'}\n",
    "start_time = int(datetime.strptime(start_date, \"%Y-%m-%d\").timestamp())\n",
    "\n",
    "#print(start_time)\n",
    "# Data from https://optimistic.etherscan.io/"
   ]
  },
  {
   "cell_type": "code",
   "execution_count": 3,
   "id": "74a5da14",
   "metadata": {},
   "outputs": [],
   "source": [
    "# Contract creator ids\n",
    "creator_ids = [\n",
    "    '0xdead1cb30B3CA13Cd67D1d6f4e2790d12484Fdd8',\n",
    "    '0x03863f6ad36f1fcd908517e3c56c6b3fd3f50752'\n",
    "]\n",
    "\n",
    "latest_block_str = 'https://api-optimistic.etherscan.io/api?module=proxy&action=eth_blockNumber&apikey=' + etherscan_api\n",
    "starting_block_str = 'https://api-optimistic.etherscan.io/api?module=block&action=getblocknobytime&timestamp='\\\n",
    "                + str(start_time) + '&closest=before&apikey=' + etherscan_api\n",
    "start_block = requests.get(starting_block_str,headers = headers).json()\n",
    "latest_block = requests.get(latest_block_str,headers = headers).json()\n",
    "\n",
    "start_block = int(start_block['result'])\n",
    "latest_block = int(latest_block['result'],base=16)\n",
    "\n",
    "chunk_size = 10000 #calc 10000 blocks at a time?\n",
    "\n",
    "#block_chunk\n",
    "#print(start_block)\n",
    "#print(latest_block)\n",
    "#print(latest_block-start_block)\n",
    "#print((latest_block-start_block)/chunk_size)"
   ]
  },
  {
   "cell_type": "code",
   "execution_count": 4,
   "id": "72b6546c",
   "metadata": {},
   "outputs": [],
   "source": [
    "# Get contracts\n",
    "df = pd.DataFrame()\n",
    "apid = []\n",
    "for addr in creator_ids:\n",
    "    api_str = 'https://api-optimistic.etherscan.io/api?module=account&action=txlist&address='\\\n",
    "                + addr + '&startblock=' + str(1) + '&endblock=' + str(latest_block) +'&sort=asc&apikey=' + etherscan_api\n",
    "    \n",
    "    r = requests.get(api_str, headers=headers)\n",
    "    x = r.json()\n",
    "    x = pd.DataFrame(x).reset_index()\n",
    "    if len(x.index) < 10000: #if all txs captured append\n",
    "        x = pd.json_normalize(x['result'])\n",
    "        if not x.empty:\n",
    "            y = x.loc[(x['to'] == '') & (x['contractAddress'] != '')] #Where transactions are being sent to NULL (means contract creation)\n",
    "            apid.append(y)\n",
    "    else:\n",
    "        for i in range(1, latest_block, chunk_size*10): #broader search for contract creations which should be in the earlier chunk\n",
    "            if ((i - 1)/(chunk_size*10)) % 5 == 0:\n",
    "                time.sleep(1)\n",
    "            api_str = 'https://api-optimistic.etherscan.io/api?module=account&action=txlist&address='\\\n",
    "                    + addr + '&startblock=' + str(i) + '&endblock=' + str(i+(chunk_size*10)-1) +'&sort=asc&apikey=' + etherscan_api\n",
    "            r = requests.get(api_str, headers=headers)\n",
    "            x = r.json()\n",
    "            #print(x)\n",
    "            if not x == '':\n",
    "                x = pd.DataFrame(x).reset_index()\n",
    "                x = pd.json_normalize(x['result'])\n",
    "            if not x.empty:\n",
    "                y = x.loc[(x['to'] == '') & (x['contractAddress'] != '')] #Where transactions are being sent to NULL (means contract creation)\n",
    "                apid.append(y)\n",
    "#print(apid)\n",
    "df = pd.concat(apid).reset_index()\n",
    "df = df.drop_duplicates() # just in cas\n",
    "contract_hashes = df['contractAddress'].to_numpy() #convert to an array\n",
    "#print(contract_hashes)"
   ]
  },
  {
   "cell_type": "code",
   "execution_count": 6,
   "id": "c8ed725c",
   "metadata": {},
   "outputs": [
    {
     "name": "stdout",
     "output_type": "stream",
     "text": [
      "<Response [200]>\n",
      "<Response [200]>\n",
      "<Response [200]>\n",
      "<Response [200]>\n",
      "<Response [200]>\n",
      "<Response [200]>\n",
      "<Response [200]>\n",
      "<Response [200]>\n",
      "<Response [200]>\n",
      "<Response [200]>\n",
      "<Response [200]>\n"
     ]
    }
   ],
   "source": [
    "#Get txs\n",
    "df = pd.DataFrame()\n",
    "apid = []\n",
    "for addr in contract_hashes:\n",
    "    api_str = 'https://api-optimistic.etherscan.io/api?module=account&action=txlist&address='\\\n",
    "            + addr + '&startblock=' + str(1) + '&endblock=' + str(latest_block)\\\n",
    "            + '&sort=desc&apikey=' + etherscan_api\n",
    "    r = requests.get(api_str, headers = headers)\n",
    "    x = r.json()\n",
    "    x = pd.DataFrame(x).reset_index()\n",
    "    if len(x.index) < 10000: #if all txs captured append\n",
    "        x = pd.json_normalize(x['result'])\n",
    "        if not x.empty:\n",
    "            x = x.loc[x['to'] == str.lower(addr)] #Where transactions are being sent to the addresses\n",
    "            apid.append(x)\n",
    "    else: #else go through chunks\n",
    "        for i in range(start_block, latest_block, chunk_size):\n",
    "            if ((i - start_block)/chunk_size) % 5 == 0:\n",
    "                time.sleep(1)\n",
    "            api_str = 'https://api-optimistic.etherscan.io/api?module=account&action=txlist&address='\\\n",
    "                + addr + '&startblock=' + str(i) + '&endblock=' + str(i+chunk_size-1)\\\n",
    "                + '&sort=desc&apikey=' + etherscan_api\n",
    "\n",
    "            r = requests.get(api_str, headers=headers)\n",
    "            x = r.json()\n",
    "            if not x == '':\n",
    "                x = pd.DataFrame(x).reset_index()\n",
    "                x = pd.json_normalize(x['result'])\n",
    "            if not x.empty:\n",
    "                x = x.loc[x['to'] == str.lower(addr)] #Where transactions are being sent to the addresses\n",
    "                apid.append(x)\n",
    "        \n",
    "    \n",
    "df = pd.concat(apid)\n",
    "#print(df)"
   ]
  },
  {
   "cell_type": "code",
   "execution_count": 7,
   "id": "71bf08c7",
   "metadata": {},
   "outputs": [],
   "source": [
    "#Aggregate values\n",
    "df_trunc = pd.DataFrame()\n",
    "df_trunc['dt'] = pd.to_datetime(df['timeStamp'],unit='s').dt.floor('d') #time is in seconds - trunc to day\n",
    "df_trunc['gas'] = pd.to_numeric(df['gas'])\n",
    "df_trunc['gasPrice'] = pd.to_numeric(df['gasPrice'])\n",
    "df_trunc['gasUsed'] = pd.to_numeric(df['gasUsed'])\n",
    "\n",
    "#print(df_trunc.dtypes)\n",
    "df_trunc=df_trunc.groupby('dt').agg({'dt':'count','gas':'sum', 'gasPrice':'mean','gasUsed':'sum'})\\\n",
    "            .rename(columns={\"dt\":\"num_txs\",\"gas\": \"total_gas\", \"gasPrice\":\"avg_gas_price\", \"gasUsed\":\"total_gas_used\"})"
   ]
  },
  {
   "cell_type": "code",
   "execution_count": 8,
   "id": "16e426eb",
   "metadata": {},
   "outputs": [],
   "source": [
    "#df_export = pd.DataFrame()\n",
    "#df_export['dt'] = pd.to_datetime(df['timeStamp'],unit='s') #time is in seconds\n",
    "#df_export['hash'] = df['hash']\n",
    "#df_export['to'] = df['to']\n",
    "#df_export['gas'] = df['gas']\n",
    "#df_export['gasPrice'] = df['gasPrice']\n",
    "#df_export['gasUsed'] = df['gasUsed']\n",
    "\n",
    "df_export = df_trunc\n",
    "df_export = df_export.drop_duplicates() # just in case\n",
    "export_str = 'optimism_oracle_' + date.today().strftime(\"%Y_%m_%d\") + '.csv'\n",
    "\n",
    "df_export.to_csv(export_str,index=True)"
   ]
  },
  {
   "cell_type": "code",
   "execution_count": null,
   "id": "36069147",
   "metadata": {},
   "outputs": [],
   "source": [
    "\n"
   ]
  }
 ],
 "metadata": {
  "kernelspec": {
   "display_name": "Python 3",
   "language": "python",
   "name": "python3"
  },
  "language_info": {
   "codemirror_mode": {
    "name": "ipython",
    "version": 3
   },
   "file_extension": ".py",
   "mimetype": "text/x-python",
   "name": "python",
   "nbconvert_exporter": "python",
   "pygments_lexer": "ipython3",
   "version": "3.8.8"
  }
 },
 "nbformat": 4,
 "nbformat_minor": 5
}
