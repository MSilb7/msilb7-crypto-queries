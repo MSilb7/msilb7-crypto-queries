{
 "cells": [
  {
   "cell_type": "code",
   "execution_count": 26,
   "id": "a56ba6eb",
   "metadata": {},
   "outputs": [],
   "source": [
    "from web3 import Web3\n",
    "import pandas as pd\n",
    "from indexing_functions import * #indexing_functions.py\n",
    "from configparser import ConfigParser\n",
    "import matplotlib.pyplot as plt\n",
    "import plotly.express as px\n",
    "import plotly.io as pio\n",
    "\n",
    "\n",
    "config = ConfigParser()\n",
    "config.read('../config.ini')\n",
    "etherscan_api = str(config.get('ETHERSCAN','etherscan_api'))"
   ]
  },
  {
   "cell_type": "code",
   "execution_count": 27,
   "id": "83ee1854",
   "metadata": {},
   "outputs": [],
   "source": [
    "# List of contracts. Must be in array format, even if there's only one contract\n",
    "chain_list = {\n",
    "    'Ethereum': {\n",
    "        'uniswap_v3': ['0xE592427A0AEce92De3Edee1F18E0157C05861564' \\\n",
    "                       ,'0x68b3465833fb72A70ecDF485E0e4C7bD8665Fc45'] #SwapRouter +SwapRouter2\n",
    "        ,'erc20': ['0xa0b86991c6218b36c1d19d4a2e9eb0ce3606eb48'] #USDC\n",
    "    }\n",
    "    ,'Arbitrum': {\n",
    "        'uniswap_v3': ['0xE592427A0AEce92De3Edee1F18E0157C05861564' \\\n",
    "                       ,'0x68b3465833fb72A70ecDF485E0e4C7bD8665Fc45'] #SwapRouter +SwapRouter2\n",
    "        ,'erc20': ['0xff970a61a04b1ca14834a43f5de4533ebddb5cc8'] #USDC\n",
    "    }\n",
    "    ,'Optimism': {\n",
    "        'uniswap_v3': ['0xE592427A0AEce92De3Edee1F18E0157C05861564' \\\n",
    "                       ,'0x68b3465833fb72A70ecDF485E0e4C7bD8665Fc45'] #SwapRouter +SwapRouter2\n",
    "        ,'erc20': ['0x7f5c764cbc14f9669b88837ca1490cca17c31607'], #USDC\n",
    "    }\n",
    "}"
   ]
  },
  {
   "cell_type": "code",
   "execution_count": 28,
   "id": "e6958892",
   "metadata": {},
   "outputs": [
    {
     "name": "stdout",
     "output_type": "stream",
     "text": [
      "{'Ethereum': {'uniswap_v3': ['0xE592427A0AEce92De3Edee1F18E0157C05861564', '0x68b3465833fb72A70ecDF485E0e4C7bD8665Fc45'], 'erc20': ['0xa0b86991c6218b36c1d19d4a2e9eb0ce3606eb48']}, 'Arbitrum': {'uniswap_v3': ['0xE592427A0AEce92De3Edee1F18E0157C05861564', '0x68b3465833fb72A70ecDF485E0e4C7bD8665Fc45'], 'erc20': ['0xff970a61a04b1ca14834a43f5de4533ebddb5cc8']}, 'Optimism': {'uniswap_v3': ['0xE592427A0AEce92De3Edee1F18E0157C05861564', '0x68b3465833fb72A70ecDF485E0e4C7bD8665Fc45'], 'erc20': ['0x7f5c764cbc14f9669b88837ca1490cca17c31607']}}\n"
     ]
    }
   ],
   "source": [
    "print(chain_list)"
   ]
  },
  {
   "cell_type": "code",
   "execution_count": 29,
   "id": "87793d1b",
   "metadata": {},
   "outputs": [
    {
     "name": "stdout",
     "output_type": "stream",
     "text": [
      "Ethereum\n",
      "0xE592427A0AEce92De3Edee1F18E0157C05861564\n",
      "0x68b3465833fb72A70ecDF485E0e4C7bD8665Fc45\n",
      "Ethereum\n",
      "0xa0b86991c6218b36c1d19d4a2e9eb0ce3606eb48\n",
      "Arbitrum\n",
      "0xE592427A0AEce92De3Edee1F18E0157C05861564\n",
      "0x68b3465833fb72A70ecDF485E0e4C7bD8665Fc45\n",
      "Arbitrum\n",
      "0xff970a61a04b1ca14834a43f5de4533ebddb5cc8\n",
      "Optimism\n",
      "0xE592427A0AEce92De3Edee1F18E0157C05861564\n",
      "0x68b3465833fb72A70ecDF485E0e4C7bD8665Fc45\n",
      "Optimism\n",
      "0x7f5c764cbc14f9669b88837ca1490cca17c31607\n"
     ]
    }
   ],
   "source": [
    "#print(chain_list)\n",
    "chain_blocktimes = pd.DataFrame()\n",
    "chain_transaction_data = pd.DataFrame()\n",
    "\n",
    "for chain in chain_list:\n",
    "    #set the right endpoint\n",
    "    endpoint = config.get('ENDPOINTS',str.lower(chain))\n",
    "    w3 = Web3(Web3.HTTPProvider(endpoint))\n",
    "    temp_txs = pd.DataFrame()\n",
    "    #get time range - last 24 hours\n",
    "    end_blocktime = datetime.fromtimestamp( int(get_latest_block_info(chain)['result']['timestamp'], base =16) )\n",
    "    start_blocktime =  end_blocktime - timedelta(hours = 72)\n",
    "    # convert time range to block range\n",
    "    end_block_number = int(get_latest_block(chain), base=16)\n",
    "    start_block_number = get_block_by_timestamp(round(start_blocktime.timestamp()), chain)\n",
    "    #Iterate through chains\n",
    "    for contract in chain_list[chain]:\n",
    "        contract_array_len = len(chain_list[chain][contract])\n",
    "        print(chain)\n",
    "        for i in range(contract_array_len):\n",
    "            \n",
    "            input_contract = chain_list[chain][contract][i]\n",
    "            print(input_contract)\n",
    "            result_txs = get_address_transactions_by_block_range(start_block_number,end_block_number,input_contract, chain)\n",
    "            temp_txs = pd.DataFrame(result_txs)\n",
    "            \n",
    "            temp_txs = temp_txs[temp_txs['txreceipt_status'] == '1'] #only finalized txs\n",
    "            \n",
    "            # grab erc20 transfers only - by methodid\n",
    "            if contract == 'erc20': \n",
    "                    temp_txs = temp_txs[temp_txs['input'].str[0:10] == '0xa9059cbb']\n",
    "\n",
    "            transactions = pd.DataFrame(temp_txs[['hash','timeStamp']])\n",
    "            # assign group segments\n",
    "            transactions['chain'] = chain\n",
    "            transactions['tx_type'] = contract\n",
    "        #iterrate to calculate transaction fees\n",
    "        # Ethereum: Etherscan gas price x gas used\n",
    "        # L2s - Need to call web3 since there are specialized fields\n",
    "            for index, row in transactions.iterrows(): \n",
    "                if chain == 'Ethereum':\n",
    "                    transactions.loc[index, 'tx_fee'] = \\\n",
    "                        pd.to_numeric(temp_txs.loc[index,'gasPrice']) * pd.to_numeric(temp_txs.loc[index,'gas'])\n",
    "                else:\n",
    "                    tx_receipt = w3.eth.get_transaction_receipt(row['hash'])\n",
    "                    gas_price = w3.eth.get_transaction(row['hash'])['gasPrice']\n",
    "                    if chain == 'Optimism':\n",
    "                        tx_fee = Web3.toInt(hexstr=tx_receipt['l1Fee']) +\\\n",
    "                                        tx_receipt['gasUsed'] * gas_price\n",
    "                    elif chain == 'Arbitrum':\n",
    "                        tx_fee = tx_receipt['effectiveGasPrice']*tx_receipt['gasUsed']\n",
    "                    # Assign tx fee back to transactions\n",
    "                    transactions.loc[index, 'tx_fee'] = tx_fee\n",
    "           \n",
    "        #print(transactions)    \n",
    "        chain_transaction_data = chain_transaction_data.append(transactions)\n"
   ]
  },
  {
   "cell_type": "code",
   "execution_count": 30,
   "id": "9cc9c257",
   "metadata": {},
   "outputs": [
    {
     "name": "stdout",
     "output_type": "stream",
     "text": [
      "                                                   hash   timeStamp     chain  \\\n",
      "0     0x244731d9c9232bc1d91e03d26d8f3f5bd68ced9247ef...  1642446524  Ethereum   \n",
      "1     0xcd7893ea9f6e914cce86a5f3cf52109b77a1592d287b...  1642446524  Ethereum   \n",
      "2     0x89173a48bec474c3578fbac7b0e69168306fed195c61...  1642446524  Ethereum   \n",
      "3     0x7b01ea6ca82bb92ebdfef2d706fc1bf2992ec33509a7...  1642446500  Ethereum   \n",
      "4     0x60dd255dcaf8144cd9cd75ec477c160499401de58b78...  1642446500  Ethereum   \n",
      "...                                                 ...         ...       ...   \n",
      "939   0xbc851a23a5ddb3048a81e44fe040cfafe77c0990ad2a...  1642228505  Optimism   \n",
      "945   0x8f5bc82fa54ed110d0da2f6d94a7b125a254e067a10f...  1642227390  Optimism   \n",
      "946   0x153f9266f2f9ed3a862f7f5cf8730683bb1cfc1a7a19...  1642227132  Optimism   \n",
      "1001  0x5ac1bf680b157ffe4618c32db3768a7e6f6438c2baa7...  1642207809  Optimism   \n",
      "1005  0xe764da30f86fbfeb7a52a298d8fbbd1b768954feea6b...  1642205837  Optimism   \n",
      "\n",
      "         tx_type        tx_fee  \n",
      "0     uniswap_v3  3.569602e+16  \n",
      "1     uniswap_v3  6.154357e+16  \n",
      "2     uniswap_v3  4.052018e+16  \n",
      "3     uniswap_v3  4.257738e+16  \n",
      "4     uniswap_v3  2.793961e+16  \n",
      "...          ...           ...  \n",
      "939        erc20  5.166710e+14  \n",
      "945        erc20  5.295970e+14  \n",
      "946        erc20  5.761787e+14  \n",
      "1001       erc20  1.216534e+15  \n",
      "1005       erc20  6.747378e+14  \n",
      "\n",
      "[24006 rows x 5 columns]\n"
     ]
    }
   ],
   "source": [
    "print(chain_transaction_data)\n",
    "chain_transaction_data.to_csv('t24h_tx_fees.csv')"
   ]
  },
  {
   "cell_type": "code",
   "execution_count": 31,
   "id": "eba24633",
   "metadata": {},
   "outputs": [
    {
     "name": "stdout",
     "output_type": "stream",
     "text": [
      "                                                   hash   timeStamp     chain  \\\n",
      "0     0x244731d9c9232bc1d91e03d26d8f3f5bd68ced9247ef...  1642446524  Ethereum   \n",
      "1     0xcd7893ea9f6e914cce86a5f3cf52109b77a1592d287b...  1642446524  Ethereum   \n",
      "2     0x89173a48bec474c3578fbac7b0e69168306fed195c61...  1642446524  Ethereum   \n",
      "3     0x7b01ea6ca82bb92ebdfef2d706fc1bf2992ec33509a7...  1642446500  Ethereum   \n",
      "4     0x60dd255dcaf8144cd9cd75ec477c160499401de58b78...  1642446500  Ethereum   \n",
      "...                                                 ...         ...       ...   \n",
      "939   0xbc851a23a5ddb3048a81e44fe040cfafe77c0990ad2a...  1642228505  Optimism   \n",
      "945   0x8f5bc82fa54ed110d0da2f6d94a7b125a254e067a10f...  1642227390  Optimism   \n",
      "946   0x153f9266f2f9ed3a862f7f5cf8730683bb1cfc1a7a19...  1642227132  Optimism   \n",
      "1001  0x5ac1bf680b157ffe4618c32db3768a7e6f6438c2baa7...  1642207809  Optimism   \n",
      "1005  0xe764da30f86fbfeb7a52a298d8fbbd1b768954feea6b...  1642205837  Optimism   \n",
      "\n",
      "         tx_type        tx_fee            datetime  tx_fee_eth  \n",
      "0     uniswap_v3  3.569602e+16 2022-01-17 19:08:44    0.035696  \n",
      "1     uniswap_v3  6.154357e+16 2022-01-17 19:08:44    0.061544  \n",
      "2     uniswap_v3  4.052018e+16 2022-01-17 19:08:44    0.040520  \n",
      "3     uniswap_v3  4.257738e+16 2022-01-17 19:08:20    0.042577  \n",
      "4     uniswap_v3  2.793961e+16 2022-01-17 19:08:20    0.027940  \n",
      "...          ...           ...                 ...         ...  \n",
      "939        erc20  5.166710e+14 2022-01-15 06:35:05    0.000517  \n",
      "945        erc20  5.295970e+14 2022-01-15 06:16:30    0.000530  \n",
      "946        erc20  5.761787e+14 2022-01-15 06:12:12    0.000576  \n",
      "1001       erc20  1.216534e+15 2022-01-15 00:50:09    0.001217  \n",
      "1005       erc20  6.747378e+14 2022-01-15 00:17:17    0.000675  \n",
      "\n",
      "[24006 rows x 7 columns]\n"
     ]
    }
   ],
   "source": [
    "chain_transaction_data['datetime'] = pd.to_datetime(chain_transaction_data['timeStamp'], unit = 's')\n",
    "chain_transaction_data['tx_fee_eth'] = chain_transaction_data['tx_fee']/1e18\n",
    "print(chain_transaction_data)                                             "
   ]
  },
  {
   "cell_type": "code",
   "execution_count": 32,
   "id": "7e00e6f9",
   "metadata": {},
   "outputs": [],
   "source": [
    "eth_api = 'https://api.coingecko.com/api/v3/simple/price?ids=ethereum&vs_currencies=usd' #coingecko\n",
    "eth_price = requests.get(eth_api,headers=headers).json()['ethereum']['usd']"
   ]
  },
  {
   "cell_type": "code",
   "execution_count": 33,
   "id": "6fcf2831",
   "metadata": {
    "scrolled": false
   },
   "outputs": [
    {
     "data": {
      "application/vnd.plotly.v1+json": {
       "config": {
        "plotlyServerURL": "https://plot.ly"
       },
       "data": [
        {
         "legendgroup": "Arbitrum",
         "line": {
          "color": "#636efa",
          "dash": "solid"
         },
         "marker": {
          "symbol": "circle"
         },
         "mode": "lines",
         "name": "Arbitrum",
         "orientation": "v",
         "showlegend": true,
         "type": "scatter",
         "x": [
          "2022-01-14T19:00:00",
          "2022-01-14T20:00:00",
          "2022-01-14T21:00:00",
          "2022-01-14T22:00:00",
          "2022-01-14T23:00:00",
          "2022-01-15T00:00:00",
          "2022-01-15T01:00:00",
          "2022-01-15T02:00:00",
          "2022-01-15T03:00:00",
          "2022-01-15T04:00:00",
          "2022-01-15T05:00:00",
          "2022-01-15T06:00:00",
          "2022-01-15T07:00:00",
          "2022-01-15T08:00:00",
          "2022-01-15T09:00:00",
          "2022-01-15T10:00:00",
          "2022-01-15T11:00:00",
          "2022-01-15T12:00:00",
          "2022-01-15T13:00:00",
          "2022-01-15T14:00:00",
          "2022-01-15T15:00:00",
          "2022-01-15T16:00:00",
          "2022-01-15T17:00:00",
          "2022-01-15T18:00:00",
          "2022-01-15T19:00:00",
          "2022-01-15T20:00:00",
          "2022-01-15T21:00:00",
          "2022-01-15T22:00:00",
          "2022-01-15T23:00:00",
          "2022-01-16T00:00:00",
          "2022-01-16T01:00:00",
          "2022-01-16T02:00:00",
          "2022-01-16T03:00:00",
          "2022-01-16T04:00:00",
          "2022-01-16T05:00:00",
          "2022-01-16T06:00:00",
          "2022-01-16T07:00:00",
          "2022-01-16T08:00:00",
          "2022-01-16T09:00:00",
          "2022-01-16T10:00:00",
          "2022-01-16T11:00:00",
          "2022-01-16T12:00:00",
          "2022-01-16T13:00:00",
          "2022-01-16T14:00:00",
          "2022-01-16T15:00:00",
          "2022-01-16T16:00:00",
          "2022-01-16T17:00:00",
          "2022-01-16T18:00:00",
          "2022-01-16T19:00:00",
          "2022-01-16T20:00:00",
          "2022-01-16T21:00:00",
          "2022-01-16T22:00:00",
          "2022-01-16T23:00:00",
          "2022-01-17T00:00:00",
          "2022-01-17T01:00:00",
          "2022-01-17T02:00:00",
          "2022-01-17T03:00:00",
          "2022-01-17T04:00:00",
          "2022-01-17T05:00:00",
          "2022-01-17T06:00:00",
          "2022-01-17T07:00:00",
          "2022-01-17T08:00:00",
          "2022-01-17T09:00:00",
          "2022-01-17T10:00:00",
          "2022-01-17T11:00:00",
          "2022-01-17T12:00:00",
          "2022-01-17T13:00:00",
          "2022-01-17T14:00:00",
          "2022-01-17T15:00:00",
          "2022-01-17T16:00:00",
          "2022-01-17T17:00:00",
          "2022-01-17T18:00:00",
          "2022-01-17T19:00:00"
         ],
         "xaxis": "x",
         "y": [
          5.834261404563778,
          5.756525924111736,
          5.892655574489971,
          5.74705777058889,
          5.727404989359025,
          5.79993628195652,
          5.745562880399039,
          5.979073867813243,
          5.562517421450517,
          5.937460707925905,
          5.71648225275418,
          5.600164019926789,
          5.776159518351288,
          5.690098494628685,
          5.7223797354084835,
          5.627578944545677,
          5.538493065453947,
          5.561327508522662,
          5.486035459763788,
          5.508963025945596,
          5.332673423825976,
          5.4484095003457265,
          5.549985285916309,
          5.266942400963468,
          5.440018295797868,
          5.348158945687504,
          5.337748833993335,
          5.231887737154333,
          5.116829538609179,
          5.298744363498208,
          5.052858584809512,
          5.32099548484712,
          5.240974565373143,
          5.048841342394967,
          5.029082072888281,
          5.221293524458553,
          5.014734256834367,
          4.994249818876575,
          4.977127197805882,
          4.895295299038506,
          4.749396991286647,
          4.692076226420358,
          4.674691468759172,
          4.589554608346605,
          4.490026874804053,
          4.44452810301159,
          4.4417728069997215,
          4.646133939993929,
          4.778019624710375,
          4.7459534902185565,
          4.71517099778521,
          4.882213333755606,
          4.914796865878978,
          4.896490786554971,
          4.7959801029595415,
          4.92181543316225,
          4.862342561100921,
          4.962456694120233,
          4.927798003509854,
          4.815999968147889,
          4.665526052580848,
          4.68480001206442,
          4.64344283251131,
          4.608933268570044,
          4.442219526822526,
          4.402556139878912,
          4.455793292243961,
          4.454269130541299,
          4.432805755623354,
          4.495805047716141,
          4.3625166150619155,
          4.365142608496038,
          4.237405134673351
         ],
         "yaxis": "y"
        },
        {
         "legendgroup": "Optimism",
         "line": {
          "color": "#EF553B",
          "dash": "solid"
         },
         "marker": {
          "symbol": "circle"
         },
         "mode": "lines",
         "name": "Optimism",
         "orientation": "v",
         "showlegend": true,
         "type": "scatter",
         "x": [
          "2022-01-14T19:00:00",
          "2022-01-14T20:00:00",
          "2022-01-14T21:00:00",
          "2022-01-14T22:00:00",
          "2022-01-14T23:00:00",
          "2022-01-15T00:00:00",
          "2022-01-15T01:00:00",
          "2022-01-15T02:00:00",
          "2022-01-15T03:00:00",
          "2022-01-15T04:00:00",
          "2022-01-15T05:00:00",
          "2022-01-15T06:00:00",
          "2022-01-15T07:00:00",
          "2022-01-15T08:00:00",
          "2022-01-15T09:00:00",
          "2022-01-15T10:00:00",
          "2022-01-15T11:00:00",
          "2022-01-15T12:00:00",
          "2022-01-15T13:00:00",
          "2022-01-15T14:00:00",
          "2022-01-15T15:00:00",
          "2022-01-15T16:00:00",
          "2022-01-15T17:00:00",
          "2022-01-15T18:00:00",
          "2022-01-15T19:00:00",
          "2022-01-15T20:00:00",
          "2022-01-15T21:00:00",
          "2022-01-15T22:00:00",
          "2022-01-15T23:00:00",
          "2022-01-16T00:00:00",
          "2022-01-16T01:00:00",
          "2022-01-16T02:00:00",
          "2022-01-16T03:00:00",
          "2022-01-16T04:00:00",
          "2022-01-16T05:00:00",
          "2022-01-16T06:00:00",
          "2022-01-16T07:00:00",
          "2022-01-16T08:00:00",
          "2022-01-16T09:00:00",
          "2022-01-16T10:00:00",
          "2022-01-16T11:00:00",
          "2022-01-16T12:00:00",
          "2022-01-16T13:00:00",
          "2022-01-16T14:00:00",
          "2022-01-16T15:00:00",
          "2022-01-16T16:00:00",
          "2022-01-16T17:00:00",
          "2022-01-16T18:00:00",
          "2022-01-16T19:00:00",
          "2022-01-16T20:00:00",
          "2022-01-16T21:00:00",
          "2022-01-16T22:00:00",
          "2022-01-16T23:00:00",
          "2022-01-17T00:00:00",
          "2022-01-17T01:00:00",
          "2022-01-17T02:00:00",
          "2022-01-17T03:00:00",
          "2022-01-17T04:00:00",
          "2022-01-17T05:00:00",
          "2022-01-17T06:00:00",
          "2022-01-17T07:00:00",
          "2022-01-17T08:00:00",
          "2022-01-17T09:00:00",
          "2022-01-17T10:00:00",
          "2022-01-17T11:00:00",
          "2022-01-17T12:00:00",
          "2022-01-17T13:00:00",
          "2022-01-17T14:00:00",
          "2022-01-17T15:00:00",
          "2022-01-17T16:00:00",
          "2022-01-17T17:00:00",
          "2022-01-17T18:00:00",
          "2022-01-17T19:00:00"
         ],
         "xaxis": "x",
         "y": [
          5.564838050902212,
          4.500199319255577,
          5.149902523895702,
          5.300050608584917,
          4.93299759003741,
          5.331172413945128,
          4.391580920730685,
          3.8627655156044645,
          4.214054052242532,
          3.2923012616523435,
          3.6833608881032913,
          3.374138703994564,
          3.1522933448170876,
          3.138620380119142,
          3.1182808626927945,
          3.4464646935526053,
          3.3464987408409264,
          3.4115739175815514,
          3.0164261718948833,
          3.3063685438261903,
          4.039038681437145,
          3.92345944859044,
          3.899528546414102,
          4.435652687344818,
          3.9972311182140223,
          4.029095218325784,
          3.7089903428177236,
          4.233652568064257,
          3.4529014339277952,
          3.8218380627961435,
          3.5283037445600374,
          3.56892894434748,
          3.6420025599863206,
          2.935804151190384,
          2.9149772838175925,
          3.2133133346151546,
          3.247731309956791,
          2.7237549946466015,
          3.2811046596112114,
          3.0823902585266083,
          2.789847401395613,
          2.764771560101621,
          2.832967317885813,
          2.695731399736291,
          3.415162609330423,
          4.877014172201026,
          6.674955413388918,
          6.319419213748576,
          5.123256296948268,
          4.382697895396069,
          6.115957121747656,
          3.4990946521759607,
          3.8034966404542887,
          3.674892390507839,
          5.055212689607988,
          5.025201124284394,
          5.354958327751326,
          4.249593536713743,
          3.2647531021932634,
          3.15765785359231,
          3.111463921796361,
          3.0183196959392453,
          2.840180934188151,
          2.4680407704562253,
          2.5414460314980793,
          2.5891243772064723,
          2.935675048548253,
          2.9870350185627026,
          3.985203177814679,
          3.7432637419431245,
          3.657698306660541,
          4.398956199369309,
          5.582908328657895
         ],
         "yaxis": "y"
        }
       ],
       "layout": {
        "annotations": [
         {
          "font": {},
          "showarrow": false,
          "text": "tx_type=uniswap_v3",
          "x": 0.5,
          "xanchor": "center",
          "xref": "paper",
          "y": 1,
          "yanchor": "bottom",
          "yref": "paper"
         }
        ],
        "hovermode": "x",
        "legend": {
         "title": {
          "text": "chain"
         },
         "tracegroupgap": 0
        },
        "margin": {
         "t": 60
        },
        "template": {
         "data": {
          "bar": [
           {
            "error_x": {
             "color": "#2a3f5f"
            },
            "error_y": {
             "color": "#2a3f5f"
            },
            "marker": {
             "line": {
              "color": "#E5ECF6",
              "width": 0.5
             },
             "pattern": {
              "fillmode": "overlay",
              "size": 10,
              "solidity": 0.2
             }
            },
            "type": "bar"
           }
          ],
          "barpolar": [
           {
            "marker": {
             "line": {
              "color": "#E5ECF6",
              "width": 0.5
             },
             "pattern": {
              "fillmode": "overlay",
              "size": 10,
              "solidity": 0.2
             }
            },
            "type": "barpolar"
           }
          ],
          "carpet": [
           {
            "aaxis": {
             "endlinecolor": "#2a3f5f",
             "gridcolor": "white",
             "linecolor": "white",
             "minorgridcolor": "white",
             "startlinecolor": "#2a3f5f"
            },
            "baxis": {
             "endlinecolor": "#2a3f5f",
             "gridcolor": "white",
             "linecolor": "white",
             "minorgridcolor": "white",
             "startlinecolor": "#2a3f5f"
            },
            "type": "carpet"
           }
          ],
          "choropleth": [
           {
            "colorbar": {
             "outlinewidth": 0,
             "ticks": ""
            },
            "type": "choropleth"
           }
          ],
          "contour": [
           {
            "colorbar": {
             "outlinewidth": 0,
             "ticks": ""
            },
            "colorscale": [
             [
              0,
              "#0d0887"
             ],
             [
              0.1111111111111111,
              "#46039f"
             ],
             [
              0.2222222222222222,
              "#7201a8"
             ],
             [
              0.3333333333333333,
              "#9c179e"
             ],
             [
              0.4444444444444444,
              "#bd3786"
             ],
             [
              0.5555555555555556,
              "#d8576b"
             ],
             [
              0.6666666666666666,
              "#ed7953"
             ],
             [
              0.7777777777777778,
              "#fb9f3a"
             ],
             [
              0.8888888888888888,
              "#fdca26"
             ],
             [
              1,
              "#f0f921"
             ]
            ],
            "type": "contour"
           }
          ],
          "contourcarpet": [
           {
            "colorbar": {
             "outlinewidth": 0,
             "ticks": ""
            },
            "type": "contourcarpet"
           }
          ],
          "heatmap": [
           {
            "colorbar": {
             "outlinewidth": 0,
             "ticks": ""
            },
            "colorscale": [
             [
              0,
              "#0d0887"
             ],
             [
              0.1111111111111111,
              "#46039f"
             ],
             [
              0.2222222222222222,
              "#7201a8"
             ],
             [
              0.3333333333333333,
              "#9c179e"
             ],
             [
              0.4444444444444444,
              "#bd3786"
             ],
             [
              0.5555555555555556,
              "#d8576b"
             ],
             [
              0.6666666666666666,
              "#ed7953"
             ],
             [
              0.7777777777777778,
              "#fb9f3a"
             ],
             [
              0.8888888888888888,
              "#fdca26"
             ],
             [
              1,
              "#f0f921"
             ]
            ],
            "type": "heatmap"
           }
          ],
          "heatmapgl": [
           {
            "colorbar": {
             "outlinewidth": 0,
             "ticks": ""
            },
            "colorscale": [
             [
              0,
              "#0d0887"
             ],
             [
              0.1111111111111111,
              "#46039f"
             ],
             [
              0.2222222222222222,
              "#7201a8"
             ],
             [
              0.3333333333333333,
              "#9c179e"
             ],
             [
              0.4444444444444444,
              "#bd3786"
             ],
             [
              0.5555555555555556,
              "#d8576b"
             ],
             [
              0.6666666666666666,
              "#ed7953"
             ],
             [
              0.7777777777777778,
              "#fb9f3a"
             ],
             [
              0.8888888888888888,
              "#fdca26"
             ],
             [
              1,
              "#f0f921"
             ]
            ],
            "type": "heatmapgl"
           }
          ],
          "histogram": [
           {
            "marker": {
             "pattern": {
              "fillmode": "overlay",
              "size": 10,
              "solidity": 0.2
             }
            },
            "type": "histogram"
           }
          ],
          "histogram2d": [
           {
            "colorbar": {
             "outlinewidth": 0,
             "ticks": ""
            },
            "colorscale": [
             [
              0,
              "#0d0887"
             ],
             [
              0.1111111111111111,
              "#46039f"
             ],
             [
              0.2222222222222222,
              "#7201a8"
             ],
             [
              0.3333333333333333,
              "#9c179e"
             ],
             [
              0.4444444444444444,
              "#bd3786"
             ],
             [
              0.5555555555555556,
              "#d8576b"
             ],
             [
              0.6666666666666666,
              "#ed7953"
             ],
             [
              0.7777777777777778,
              "#fb9f3a"
             ],
             [
              0.8888888888888888,
              "#fdca26"
             ],
             [
              1,
              "#f0f921"
             ]
            ],
            "type": "histogram2d"
           }
          ],
          "histogram2dcontour": [
           {
            "colorbar": {
             "outlinewidth": 0,
             "ticks": ""
            },
            "colorscale": [
             [
              0,
              "#0d0887"
             ],
             [
              0.1111111111111111,
              "#46039f"
             ],
             [
              0.2222222222222222,
              "#7201a8"
             ],
             [
              0.3333333333333333,
              "#9c179e"
             ],
             [
              0.4444444444444444,
              "#bd3786"
             ],
             [
              0.5555555555555556,
              "#d8576b"
             ],
             [
              0.6666666666666666,
              "#ed7953"
             ],
             [
              0.7777777777777778,
              "#fb9f3a"
             ],
             [
              0.8888888888888888,
              "#fdca26"
             ],
             [
              1,
              "#f0f921"
             ]
            ],
            "type": "histogram2dcontour"
           }
          ],
          "mesh3d": [
           {
            "colorbar": {
             "outlinewidth": 0,
             "ticks": ""
            },
            "type": "mesh3d"
           }
          ],
          "parcoords": [
           {
            "line": {
             "colorbar": {
              "outlinewidth": 0,
              "ticks": ""
             }
            },
            "type": "parcoords"
           }
          ],
          "pie": [
           {
            "automargin": true,
            "type": "pie"
           }
          ],
          "scatter": [
           {
            "marker": {
             "colorbar": {
              "outlinewidth": 0,
              "ticks": ""
             }
            },
            "type": "scatter"
           }
          ],
          "scatter3d": [
           {
            "line": {
             "colorbar": {
              "outlinewidth": 0,
              "ticks": ""
             }
            },
            "marker": {
             "colorbar": {
              "outlinewidth": 0,
              "ticks": ""
             }
            },
            "type": "scatter3d"
           }
          ],
          "scattercarpet": [
           {
            "marker": {
             "colorbar": {
              "outlinewidth": 0,
              "ticks": ""
             }
            },
            "type": "scattercarpet"
           }
          ],
          "scattergeo": [
           {
            "marker": {
             "colorbar": {
              "outlinewidth": 0,
              "ticks": ""
             }
            },
            "type": "scattergeo"
           }
          ],
          "scattergl": [
           {
            "marker": {
             "colorbar": {
              "outlinewidth": 0,
              "ticks": ""
             }
            },
            "type": "scattergl"
           }
          ],
          "scattermapbox": [
           {
            "marker": {
             "colorbar": {
              "outlinewidth": 0,
              "ticks": ""
             }
            },
            "type": "scattermapbox"
           }
          ],
          "scatterpolar": [
           {
            "marker": {
             "colorbar": {
              "outlinewidth": 0,
              "ticks": ""
             }
            },
            "type": "scatterpolar"
           }
          ],
          "scatterpolargl": [
           {
            "marker": {
             "colorbar": {
              "outlinewidth": 0,
              "ticks": ""
             }
            },
            "type": "scatterpolargl"
           }
          ],
          "scatterternary": [
           {
            "marker": {
             "colorbar": {
              "outlinewidth": 0,
              "ticks": ""
             }
            },
            "type": "scatterternary"
           }
          ],
          "surface": [
           {
            "colorbar": {
             "outlinewidth": 0,
             "ticks": ""
            },
            "colorscale": [
             [
              0,
              "#0d0887"
             ],
             [
              0.1111111111111111,
              "#46039f"
             ],
             [
              0.2222222222222222,
              "#7201a8"
             ],
             [
              0.3333333333333333,
              "#9c179e"
             ],
             [
              0.4444444444444444,
              "#bd3786"
             ],
             [
              0.5555555555555556,
              "#d8576b"
             ],
             [
              0.6666666666666666,
              "#ed7953"
             ],
             [
              0.7777777777777778,
              "#fb9f3a"
             ],
             [
              0.8888888888888888,
              "#fdca26"
             ],
             [
              1,
              "#f0f921"
             ]
            ],
            "type": "surface"
           }
          ],
          "table": [
           {
            "cells": {
             "fill": {
              "color": "#EBF0F8"
             },
             "line": {
              "color": "white"
             }
            },
            "header": {
             "fill": {
              "color": "#C8D4E3"
             },
             "line": {
              "color": "white"
             }
            },
            "type": "table"
           }
          ]
         },
         "layout": {
          "annotationdefaults": {
           "arrowcolor": "#2a3f5f",
           "arrowhead": 0,
           "arrowwidth": 1
          },
          "autotypenumbers": "strict",
          "coloraxis": {
           "colorbar": {
            "outlinewidth": 0,
            "ticks": ""
           }
          },
          "colorscale": {
           "diverging": [
            [
             0,
             "#8e0152"
            ],
            [
             0.1,
             "#c51b7d"
            ],
            [
             0.2,
             "#de77ae"
            ],
            [
             0.3,
             "#f1b6da"
            ],
            [
             0.4,
             "#fde0ef"
            ],
            [
             0.5,
             "#f7f7f7"
            ],
            [
             0.6,
             "#e6f5d0"
            ],
            [
             0.7,
             "#b8e186"
            ],
            [
             0.8,
             "#7fbc41"
            ],
            [
             0.9,
             "#4d9221"
            ],
            [
             1,
             "#276419"
            ]
           ],
           "sequential": [
            [
             0,
             "#0d0887"
            ],
            [
             0.1111111111111111,
             "#46039f"
            ],
            [
             0.2222222222222222,
             "#7201a8"
            ],
            [
             0.3333333333333333,
             "#9c179e"
            ],
            [
             0.4444444444444444,
             "#bd3786"
            ],
            [
             0.5555555555555556,
             "#d8576b"
            ],
            [
             0.6666666666666666,
             "#ed7953"
            ],
            [
             0.7777777777777778,
             "#fb9f3a"
            ],
            [
             0.8888888888888888,
             "#fdca26"
            ],
            [
             1,
             "#f0f921"
            ]
           ],
           "sequentialminus": [
            [
             0,
             "#0d0887"
            ],
            [
             0.1111111111111111,
             "#46039f"
            ],
            [
             0.2222222222222222,
             "#7201a8"
            ],
            [
             0.3333333333333333,
             "#9c179e"
            ],
            [
             0.4444444444444444,
             "#bd3786"
            ],
            [
             0.5555555555555556,
             "#d8576b"
            ],
            [
             0.6666666666666666,
             "#ed7953"
            ],
            [
             0.7777777777777778,
             "#fb9f3a"
            ],
            [
             0.8888888888888888,
             "#fdca26"
            ],
            [
             1,
             "#f0f921"
            ]
           ]
          },
          "colorway": [
           "#636efa",
           "#EF553B",
           "#00cc96",
           "#ab63fa",
           "#FFA15A",
           "#19d3f3",
           "#FF6692",
           "#B6E880",
           "#FF97FF",
           "#FECB52"
          ],
          "font": {
           "color": "#2a3f5f"
          },
          "geo": {
           "bgcolor": "white",
           "lakecolor": "white",
           "landcolor": "#E5ECF6",
           "showlakes": true,
           "showland": true,
           "subunitcolor": "white"
          },
          "hoverlabel": {
           "align": "left"
          },
          "hovermode": "closest",
          "mapbox": {
           "style": "light"
          },
          "paper_bgcolor": "white",
          "plot_bgcolor": "#E5ECF6",
          "polar": {
           "angularaxis": {
            "gridcolor": "white",
            "linecolor": "white",
            "ticks": ""
           },
           "bgcolor": "#E5ECF6",
           "radialaxis": {
            "gridcolor": "white",
            "linecolor": "white",
            "ticks": ""
           }
          },
          "scene": {
           "xaxis": {
            "backgroundcolor": "#E5ECF6",
            "gridcolor": "white",
            "gridwidth": 2,
            "linecolor": "white",
            "showbackground": true,
            "ticks": "",
            "zerolinecolor": "white"
           },
           "yaxis": {
            "backgroundcolor": "#E5ECF6",
            "gridcolor": "white",
            "gridwidth": 2,
            "linecolor": "white",
            "showbackground": true,
            "ticks": "",
            "zerolinecolor": "white"
           },
           "zaxis": {
            "backgroundcolor": "#E5ECF6",
            "gridcolor": "white",
            "gridwidth": 2,
            "linecolor": "white",
            "showbackground": true,
            "ticks": "",
            "zerolinecolor": "white"
           }
          },
          "shapedefaults": {
           "line": {
            "color": "#2a3f5f"
           }
          },
          "ternary": {
           "aaxis": {
            "gridcolor": "white",
            "linecolor": "white",
            "ticks": ""
           },
           "baxis": {
            "gridcolor": "white",
            "linecolor": "white",
            "ticks": ""
           },
           "bgcolor": "#E5ECF6",
           "caxis": {
            "gridcolor": "white",
            "linecolor": "white",
            "ticks": ""
           }
          },
          "title": {
           "x": 0.05
          },
          "xaxis": {
           "automargin": true,
           "gridcolor": "white",
           "linecolor": "white",
           "ticks": "",
           "title": {
            "standoff": 15
           },
           "zerolinecolor": "white",
           "zerolinewidth": 2
          },
          "yaxis": {
           "automargin": true,
           "gridcolor": "white",
           "linecolor": "white",
           "ticks": "",
           "title": {
            "standoff": 15
           },
           "zerolinecolor": "white",
           "zerolinewidth": 2
          }
         }
        },
        "xaxis": {
         "anchor": "y",
         "domain": [
          0,
          1
         ],
         "title": {
          "text": "datetime_hr"
         }
        },
        "yaxis": {
         "anchor": "x",
         "domain": [
          0,
          1
         ],
         "tickprefix": "$",
         "title": {
          "text": "tx_fee_usd"
         }
        }
       }
      },
      "text/html": [
       "<div>                            <div id=\"45b1ae3c-d66f-4825-aacb-0f25b456c730\" class=\"plotly-graph-div\" style=\"height:525px; width:100%;\"></div>            <script type=\"text/javascript\">                require([\"plotly\"], function(Plotly) {                    window.PLOTLYENV=window.PLOTLYENV || {};                                    if (document.getElementById(\"45b1ae3c-d66f-4825-aacb-0f25b456c730\")) {                    Plotly.newPlot(                        \"45b1ae3c-d66f-4825-aacb-0f25b456c730\",                        [{\"legendgroup\":\"Arbitrum\",\"line\":{\"color\":\"#636efa\",\"dash\":\"solid\"},\"marker\":{\"symbol\":\"circle\"},\"mode\":\"lines\",\"name\":\"Arbitrum\",\"orientation\":\"v\",\"showlegend\":true,\"x\":[\"2022-01-14T19:00:00\",\"2022-01-14T20:00:00\",\"2022-01-14T21:00:00\",\"2022-01-14T22:00:00\",\"2022-01-14T23:00:00\",\"2022-01-15T00:00:00\",\"2022-01-15T01:00:00\",\"2022-01-15T02:00:00\",\"2022-01-15T03:00:00\",\"2022-01-15T04:00:00\",\"2022-01-15T05:00:00\",\"2022-01-15T06:00:00\",\"2022-01-15T07:00:00\",\"2022-01-15T08:00:00\",\"2022-01-15T09:00:00\",\"2022-01-15T10:00:00\",\"2022-01-15T11:00:00\",\"2022-01-15T12:00:00\",\"2022-01-15T13:00:00\",\"2022-01-15T14:00:00\",\"2022-01-15T15:00:00\",\"2022-01-15T16:00:00\",\"2022-01-15T17:00:00\",\"2022-01-15T18:00:00\",\"2022-01-15T19:00:00\",\"2022-01-15T20:00:00\",\"2022-01-15T21:00:00\",\"2022-01-15T22:00:00\",\"2022-01-15T23:00:00\",\"2022-01-16T00:00:00\",\"2022-01-16T01:00:00\",\"2022-01-16T02:00:00\",\"2022-01-16T03:00:00\",\"2022-01-16T04:00:00\",\"2022-01-16T05:00:00\",\"2022-01-16T06:00:00\",\"2022-01-16T07:00:00\",\"2022-01-16T08:00:00\",\"2022-01-16T09:00:00\",\"2022-01-16T10:00:00\",\"2022-01-16T11:00:00\",\"2022-01-16T12:00:00\",\"2022-01-16T13:00:00\",\"2022-01-16T14:00:00\",\"2022-01-16T15:00:00\",\"2022-01-16T16:00:00\",\"2022-01-16T17:00:00\",\"2022-01-16T18:00:00\",\"2022-01-16T19:00:00\",\"2022-01-16T20:00:00\",\"2022-01-16T21:00:00\",\"2022-01-16T22:00:00\",\"2022-01-16T23:00:00\",\"2022-01-17T00:00:00\",\"2022-01-17T01:00:00\",\"2022-01-17T02:00:00\",\"2022-01-17T03:00:00\",\"2022-01-17T04:00:00\",\"2022-01-17T05:00:00\",\"2022-01-17T06:00:00\",\"2022-01-17T07:00:00\",\"2022-01-17T08:00:00\",\"2022-01-17T09:00:00\",\"2022-01-17T10:00:00\",\"2022-01-17T11:00:00\",\"2022-01-17T12:00:00\",\"2022-01-17T13:00:00\",\"2022-01-17T14:00:00\",\"2022-01-17T15:00:00\",\"2022-01-17T16:00:00\",\"2022-01-17T17:00:00\",\"2022-01-17T18:00:00\",\"2022-01-17T19:00:00\"],\"xaxis\":\"x\",\"y\":[5.834261404563778,5.756525924111736,5.892655574489971,5.74705777058889,5.727404989359025,5.79993628195652,5.745562880399039,5.979073867813243,5.562517421450517,5.937460707925905,5.71648225275418,5.600164019926789,5.776159518351288,5.690098494628685,5.7223797354084835,5.627578944545677,5.538493065453947,5.561327508522662,5.486035459763788,5.508963025945596,5.332673423825976,5.4484095003457265,5.549985285916309,5.266942400963468,5.440018295797868,5.348158945687504,5.337748833993335,5.231887737154333,5.116829538609179,5.298744363498208,5.052858584809512,5.32099548484712,5.240974565373143,5.048841342394967,5.029082072888281,5.221293524458553,5.014734256834367,4.994249818876575,4.977127197805882,4.895295299038506,4.749396991286647,4.692076226420358,4.674691468759172,4.589554608346605,4.490026874804053,4.44452810301159,4.4417728069997215,4.646133939993929,4.778019624710375,4.7459534902185565,4.71517099778521,4.882213333755606,4.914796865878978,4.896490786554971,4.7959801029595415,4.92181543316225,4.862342561100921,4.962456694120233,4.927798003509854,4.815999968147889,4.665526052580848,4.68480001206442,4.64344283251131,4.608933268570044,4.442219526822526,4.402556139878912,4.455793292243961,4.454269130541299,4.432805755623354,4.495805047716141,4.3625166150619155,4.365142608496038,4.237405134673351],\"yaxis\":\"y\",\"type\":\"scatter\"},{\"legendgroup\":\"Optimism\",\"line\":{\"color\":\"#EF553B\",\"dash\":\"solid\"},\"marker\":{\"symbol\":\"circle\"},\"mode\":\"lines\",\"name\":\"Optimism\",\"orientation\":\"v\",\"showlegend\":true,\"x\":[\"2022-01-14T19:00:00\",\"2022-01-14T20:00:00\",\"2022-01-14T21:00:00\",\"2022-01-14T22:00:00\",\"2022-01-14T23:00:00\",\"2022-01-15T00:00:00\",\"2022-01-15T01:00:00\",\"2022-01-15T02:00:00\",\"2022-01-15T03:00:00\",\"2022-01-15T04:00:00\",\"2022-01-15T05:00:00\",\"2022-01-15T06:00:00\",\"2022-01-15T07:00:00\",\"2022-01-15T08:00:00\",\"2022-01-15T09:00:00\",\"2022-01-15T10:00:00\",\"2022-01-15T11:00:00\",\"2022-01-15T12:00:00\",\"2022-01-15T13:00:00\",\"2022-01-15T14:00:00\",\"2022-01-15T15:00:00\",\"2022-01-15T16:00:00\",\"2022-01-15T17:00:00\",\"2022-01-15T18:00:00\",\"2022-01-15T19:00:00\",\"2022-01-15T20:00:00\",\"2022-01-15T21:00:00\",\"2022-01-15T22:00:00\",\"2022-01-15T23:00:00\",\"2022-01-16T00:00:00\",\"2022-01-16T01:00:00\",\"2022-01-16T02:00:00\",\"2022-01-16T03:00:00\",\"2022-01-16T04:00:00\",\"2022-01-16T05:00:00\",\"2022-01-16T06:00:00\",\"2022-01-16T07:00:00\",\"2022-01-16T08:00:00\",\"2022-01-16T09:00:00\",\"2022-01-16T10:00:00\",\"2022-01-16T11:00:00\",\"2022-01-16T12:00:00\",\"2022-01-16T13:00:00\",\"2022-01-16T14:00:00\",\"2022-01-16T15:00:00\",\"2022-01-16T16:00:00\",\"2022-01-16T17:00:00\",\"2022-01-16T18:00:00\",\"2022-01-16T19:00:00\",\"2022-01-16T20:00:00\",\"2022-01-16T21:00:00\",\"2022-01-16T22:00:00\",\"2022-01-16T23:00:00\",\"2022-01-17T00:00:00\",\"2022-01-17T01:00:00\",\"2022-01-17T02:00:00\",\"2022-01-17T03:00:00\",\"2022-01-17T04:00:00\",\"2022-01-17T05:00:00\",\"2022-01-17T06:00:00\",\"2022-01-17T07:00:00\",\"2022-01-17T08:00:00\",\"2022-01-17T09:00:00\",\"2022-01-17T10:00:00\",\"2022-01-17T11:00:00\",\"2022-01-17T12:00:00\",\"2022-01-17T13:00:00\",\"2022-01-17T14:00:00\",\"2022-01-17T15:00:00\",\"2022-01-17T16:00:00\",\"2022-01-17T17:00:00\",\"2022-01-17T18:00:00\",\"2022-01-17T19:00:00\"],\"xaxis\":\"x\",\"y\":[5.564838050902212,4.500199319255577,5.149902523895702,5.300050608584917,4.93299759003741,5.331172413945128,4.391580920730685,3.8627655156044645,4.214054052242532,3.2923012616523435,3.6833608881032913,3.374138703994564,3.1522933448170876,3.138620380119142,3.1182808626927945,3.4464646935526053,3.3464987408409264,3.4115739175815514,3.0164261718948833,3.3063685438261903,4.039038681437145,3.92345944859044,3.899528546414102,4.435652687344818,3.9972311182140223,4.029095218325784,3.7089903428177236,4.233652568064257,3.4529014339277952,3.8218380627961435,3.5283037445600374,3.56892894434748,3.6420025599863206,2.935804151190384,2.9149772838175925,3.2133133346151546,3.247731309956791,2.7237549946466015,3.2811046596112114,3.0823902585266083,2.789847401395613,2.764771560101621,2.832967317885813,2.695731399736291,3.415162609330423,4.877014172201026,6.674955413388918,6.319419213748576,5.123256296948268,4.382697895396069,6.115957121747656,3.4990946521759607,3.8034966404542887,3.674892390507839,5.055212689607988,5.025201124284394,5.354958327751326,4.249593536713743,3.2647531021932634,3.15765785359231,3.111463921796361,3.0183196959392453,2.840180934188151,2.4680407704562253,2.5414460314980793,2.5891243772064723,2.935675048548253,2.9870350185627026,3.985203177814679,3.7432637419431245,3.657698306660541,4.398956199369309,5.582908328657895],\"yaxis\":\"y\",\"type\":\"scatter\"}],                        {\"template\":{\"data\":{\"bar\":[{\"error_x\":{\"color\":\"#2a3f5f\"},\"error_y\":{\"color\":\"#2a3f5f\"},\"marker\":{\"line\":{\"color\":\"#E5ECF6\",\"width\":0.5},\"pattern\":{\"fillmode\":\"overlay\",\"size\":10,\"solidity\":0.2}},\"type\":\"bar\"}],\"barpolar\":[{\"marker\":{\"line\":{\"color\":\"#E5ECF6\",\"width\":0.5},\"pattern\":{\"fillmode\":\"overlay\",\"size\":10,\"solidity\":0.2}},\"type\":\"barpolar\"}],\"carpet\":[{\"aaxis\":{\"endlinecolor\":\"#2a3f5f\",\"gridcolor\":\"white\",\"linecolor\":\"white\",\"minorgridcolor\":\"white\",\"startlinecolor\":\"#2a3f5f\"},\"baxis\":{\"endlinecolor\":\"#2a3f5f\",\"gridcolor\":\"white\",\"linecolor\":\"white\",\"minorgridcolor\":\"white\",\"startlinecolor\":\"#2a3f5f\"},\"type\":\"carpet\"}],\"choropleth\":[{\"colorbar\":{\"outlinewidth\":0,\"ticks\":\"\"},\"type\":\"choropleth\"}],\"contour\":[{\"colorbar\":{\"outlinewidth\":0,\"ticks\":\"\"},\"colorscale\":[[0.0,\"#0d0887\"],[0.1111111111111111,\"#46039f\"],[0.2222222222222222,\"#7201a8\"],[0.3333333333333333,\"#9c179e\"],[0.4444444444444444,\"#bd3786\"],[0.5555555555555556,\"#d8576b\"],[0.6666666666666666,\"#ed7953\"],[0.7777777777777778,\"#fb9f3a\"],[0.8888888888888888,\"#fdca26\"],[1.0,\"#f0f921\"]],\"type\":\"contour\"}],\"contourcarpet\":[{\"colorbar\":{\"outlinewidth\":0,\"ticks\":\"\"},\"type\":\"contourcarpet\"}],\"heatmap\":[{\"colorbar\":{\"outlinewidth\":0,\"ticks\":\"\"},\"colorscale\":[[0.0,\"#0d0887\"],[0.1111111111111111,\"#46039f\"],[0.2222222222222222,\"#7201a8\"],[0.3333333333333333,\"#9c179e\"],[0.4444444444444444,\"#bd3786\"],[0.5555555555555556,\"#d8576b\"],[0.6666666666666666,\"#ed7953\"],[0.7777777777777778,\"#fb9f3a\"],[0.8888888888888888,\"#fdca26\"],[1.0,\"#f0f921\"]],\"type\":\"heatmap\"}],\"heatmapgl\":[{\"colorbar\":{\"outlinewidth\":0,\"ticks\":\"\"},\"colorscale\":[[0.0,\"#0d0887\"],[0.1111111111111111,\"#46039f\"],[0.2222222222222222,\"#7201a8\"],[0.3333333333333333,\"#9c179e\"],[0.4444444444444444,\"#bd3786\"],[0.5555555555555556,\"#d8576b\"],[0.6666666666666666,\"#ed7953\"],[0.7777777777777778,\"#fb9f3a\"],[0.8888888888888888,\"#fdca26\"],[1.0,\"#f0f921\"]],\"type\":\"heatmapgl\"}],\"histogram\":[{\"marker\":{\"pattern\":{\"fillmode\":\"overlay\",\"size\":10,\"solidity\":0.2}},\"type\":\"histogram\"}],\"histogram2d\":[{\"colorbar\":{\"outlinewidth\":0,\"ticks\":\"\"},\"colorscale\":[[0.0,\"#0d0887\"],[0.1111111111111111,\"#46039f\"],[0.2222222222222222,\"#7201a8\"],[0.3333333333333333,\"#9c179e\"],[0.4444444444444444,\"#bd3786\"],[0.5555555555555556,\"#d8576b\"],[0.6666666666666666,\"#ed7953\"],[0.7777777777777778,\"#fb9f3a\"],[0.8888888888888888,\"#fdca26\"],[1.0,\"#f0f921\"]],\"type\":\"histogram2d\"}],\"histogram2dcontour\":[{\"colorbar\":{\"outlinewidth\":0,\"ticks\":\"\"},\"colorscale\":[[0.0,\"#0d0887\"],[0.1111111111111111,\"#46039f\"],[0.2222222222222222,\"#7201a8\"],[0.3333333333333333,\"#9c179e\"],[0.4444444444444444,\"#bd3786\"],[0.5555555555555556,\"#d8576b\"],[0.6666666666666666,\"#ed7953\"],[0.7777777777777778,\"#fb9f3a\"],[0.8888888888888888,\"#fdca26\"],[1.0,\"#f0f921\"]],\"type\":\"histogram2dcontour\"}],\"mesh3d\":[{\"colorbar\":{\"outlinewidth\":0,\"ticks\":\"\"},\"type\":\"mesh3d\"}],\"parcoords\":[{\"line\":{\"colorbar\":{\"outlinewidth\":0,\"ticks\":\"\"}},\"type\":\"parcoords\"}],\"pie\":[{\"automargin\":true,\"type\":\"pie\"}],\"scatter\":[{\"marker\":{\"colorbar\":{\"outlinewidth\":0,\"ticks\":\"\"}},\"type\":\"scatter\"}],\"scatter3d\":[{\"line\":{\"colorbar\":{\"outlinewidth\":0,\"ticks\":\"\"}},\"marker\":{\"colorbar\":{\"outlinewidth\":0,\"ticks\":\"\"}},\"type\":\"scatter3d\"}],\"scattercarpet\":[{\"marker\":{\"colorbar\":{\"outlinewidth\":0,\"ticks\":\"\"}},\"type\":\"scattercarpet\"}],\"scattergeo\":[{\"marker\":{\"colorbar\":{\"outlinewidth\":0,\"ticks\":\"\"}},\"type\":\"scattergeo\"}],\"scattergl\":[{\"marker\":{\"colorbar\":{\"outlinewidth\":0,\"ticks\":\"\"}},\"type\":\"scattergl\"}],\"scattermapbox\":[{\"marker\":{\"colorbar\":{\"outlinewidth\":0,\"ticks\":\"\"}},\"type\":\"scattermapbox\"}],\"scatterpolar\":[{\"marker\":{\"colorbar\":{\"outlinewidth\":0,\"ticks\":\"\"}},\"type\":\"scatterpolar\"}],\"scatterpolargl\":[{\"marker\":{\"colorbar\":{\"outlinewidth\":0,\"ticks\":\"\"}},\"type\":\"scatterpolargl\"}],\"scatterternary\":[{\"marker\":{\"colorbar\":{\"outlinewidth\":0,\"ticks\":\"\"}},\"type\":\"scatterternary\"}],\"surface\":[{\"colorbar\":{\"outlinewidth\":0,\"ticks\":\"\"},\"colorscale\":[[0.0,\"#0d0887\"],[0.1111111111111111,\"#46039f\"],[0.2222222222222222,\"#7201a8\"],[0.3333333333333333,\"#9c179e\"],[0.4444444444444444,\"#bd3786\"],[0.5555555555555556,\"#d8576b\"],[0.6666666666666666,\"#ed7953\"],[0.7777777777777778,\"#fb9f3a\"],[0.8888888888888888,\"#fdca26\"],[1.0,\"#f0f921\"]],\"type\":\"surface\"}],\"table\":[{\"cells\":{\"fill\":{\"color\":\"#EBF0F8\"},\"line\":{\"color\":\"white\"}},\"header\":{\"fill\":{\"color\":\"#C8D4E3\"},\"line\":{\"color\":\"white\"}},\"type\":\"table\"}]},\"layout\":{\"annotationdefaults\":{\"arrowcolor\":\"#2a3f5f\",\"arrowhead\":0,\"arrowwidth\":1},\"autotypenumbers\":\"strict\",\"coloraxis\":{\"colorbar\":{\"outlinewidth\":0,\"ticks\":\"\"}},\"colorscale\":{\"diverging\":[[0,\"#8e0152\"],[0.1,\"#c51b7d\"],[0.2,\"#de77ae\"],[0.3,\"#f1b6da\"],[0.4,\"#fde0ef\"],[0.5,\"#f7f7f7\"],[0.6,\"#e6f5d0\"],[0.7,\"#b8e186\"],[0.8,\"#7fbc41\"],[0.9,\"#4d9221\"],[1,\"#276419\"]],\"sequential\":[[0.0,\"#0d0887\"],[0.1111111111111111,\"#46039f\"],[0.2222222222222222,\"#7201a8\"],[0.3333333333333333,\"#9c179e\"],[0.4444444444444444,\"#bd3786\"],[0.5555555555555556,\"#d8576b\"],[0.6666666666666666,\"#ed7953\"],[0.7777777777777778,\"#fb9f3a\"],[0.8888888888888888,\"#fdca26\"],[1.0,\"#f0f921\"]],\"sequentialminus\":[[0.0,\"#0d0887\"],[0.1111111111111111,\"#46039f\"],[0.2222222222222222,\"#7201a8\"],[0.3333333333333333,\"#9c179e\"],[0.4444444444444444,\"#bd3786\"],[0.5555555555555556,\"#d8576b\"],[0.6666666666666666,\"#ed7953\"],[0.7777777777777778,\"#fb9f3a\"],[0.8888888888888888,\"#fdca26\"],[1.0,\"#f0f921\"]]},\"colorway\":[\"#636efa\",\"#EF553B\",\"#00cc96\",\"#ab63fa\",\"#FFA15A\",\"#19d3f3\",\"#FF6692\",\"#B6E880\",\"#FF97FF\",\"#FECB52\"],\"font\":{\"color\":\"#2a3f5f\"},\"geo\":{\"bgcolor\":\"white\",\"lakecolor\":\"white\",\"landcolor\":\"#E5ECF6\",\"showlakes\":true,\"showland\":true,\"subunitcolor\":\"white\"},\"hoverlabel\":{\"align\":\"left\"},\"hovermode\":\"closest\",\"mapbox\":{\"style\":\"light\"},\"paper_bgcolor\":\"white\",\"plot_bgcolor\":\"#E5ECF6\",\"polar\":{\"angularaxis\":{\"gridcolor\":\"white\",\"linecolor\":\"white\",\"ticks\":\"\"},\"bgcolor\":\"#E5ECF6\",\"radialaxis\":{\"gridcolor\":\"white\",\"linecolor\":\"white\",\"ticks\":\"\"}},\"scene\":{\"xaxis\":{\"backgroundcolor\":\"#E5ECF6\",\"gridcolor\":\"white\",\"gridwidth\":2,\"linecolor\":\"white\",\"showbackground\":true,\"ticks\":\"\",\"zerolinecolor\":\"white\"},\"yaxis\":{\"backgroundcolor\":\"#E5ECF6\",\"gridcolor\":\"white\",\"gridwidth\":2,\"linecolor\":\"white\",\"showbackground\":true,\"ticks\":\"\",\"zerolinecolor\":\"white\"},\"zaxis\":{\"backgroundcolor\":\"#E5ECF6\",\"gridcolor\":\"white\",\"gridwidth\":2,\"linecolor\":\"white\",\"showbackground\":true,\"ticks\":\"\",\"zerolinecolor\":\"white\"}},\"shapedefaults\":{\"line\":{\"color\":\"#2a3f5f\"}},\"ternary\":{\"aaxis\":{\"gridcolor\":\"white\",\"linecolor\":\"white\",\"ticks\":\"\"},\"baxis\":{\"gridcolor\":\"white\",\"linecolor\":\"white\",\"ticks\":\"\"},\"bgcolor\":\"#E5ECF6\",\"caxis\":{\"gridcolor\":\"white\",\"linecolor\":\"white\",\"ticks\":\"\"}},\"title\":{\"x\":0.05},\"xaxis\":{\"automargin\":true,\"gridcolor\":\"white\",\"linecolor\":\"white\",\"ticks\":\"\",\"title\":{\"standoff\":15},\"zerolinecolor\":\"white\",\"zerolinewidth\":2},\"yaxis\":{\"automargin\":true,\"gridcolor\":\"white\",\"linecolor\":\"white\",\"ticks\":\"\",\"title\":{\"standoff\":15},\"zerolinecolor\":\"white\",\"zerolinewidth\":2}}},\"xaxis\":{\"anchor\":\"y\",\"domain\":[0.0,1.0],\"title\":{\"text\":\"datetime_hr\"}},\"yaxis\":{\"anchor\":\"x\",\"domain\":[0.0,1.0],\"title\":{\"text\":\"tx_fee_usd\"},\"tickprefix\":\"$\"},\"annotations\":[{\"font\":{},\"showarrow\":false,\"text\":\"tx_type=uniswap_v3\",\"x\":0.5,\"xanchor\":\"center\",\"xref\":\"paper\",\"y\":1.0,\"yanchor\":\"bottom\",\"yref\":\"paper\"}],\"legend\":{\"title\":{\"text\":\"chain\"},\"tracegroupgap\":0},\"margin\":{\"t\":60},\"hovermode\":\"x\"},                        {\"responsive\": true}                    ).then(function(){\n",
       "                            \n",
       "var gd = document.getElementById('45b1ae3c-d66f-4825-aacb-0f25b456c730');\n",
       "var x = new MutationObserver(function (mutations, observer) {{\n",
       "        var display = window.getComputedStyle(gd).display;\n",
       "        if (!display || display === 'none') {{\n",
       "            console.log([gd, 'removed!']);\n",
       "            Plotly.purge(gd);\n",
       "            observer.disconnect();\n",
       "        }}\n",
       "}});\n",
       "\n",
       "// Listen for the removal of the full notebook cells\n",
       "var notebookContainer = gd.closest('#notebook-container');\n",
       "if (notebookContainer) {{\n",
       "    x.observe(notebookContainer, {childList: true});\n",
       "}}\n",
       "\n",
       "// Listen for the clearing of the current output cell\n",
       "var outputEl = gd.closest('.output');\n",
       "if (outputEl) {{\n",
       "    x.observe(outputEl, {childList: true});\n",
       "}}\n",
       "\n",
       "                        })                };                });            </script>        </div>"
      ]
     },
     "metadata": {},
     "output_type": "display_data"
    },
    {
     "data": {
      "image/png": "[encoded data removed]"
     },
     "metadata": {},
     "output_type": "display_data"
    }
   ],
   "source": [
    "agg_fees = chain_transaction_data #copy\n",
    "agg_fees['chain_tx_type'] = agg_fees['chain'] + ': ' + agg_fees['tx_type']\n",
    "agg_fees['datetime_hr'] = agg_fees['datetime'].dt.floor('h')\n",
    "agg_fees = agg_fees[['chain','tx_type','datetime_hr','tx_fee_eth']]\n",
    "agg_fees = agg_fees.groupby( ['chain','tx_type','datetime_hr'] ).mean().reset_index()\n",
    "agg_fees['tx_fee_usd'] = agg_fees['tx_fee_eth']*eth_price\n",
    "# agg_fees = agg_fees[['chain', 'tx_type','datetime_hr','tx_fee_eth']]\n",
    "# agg_fees = agg_fees.pivot(index = 'datetime_hr', columns = [\"chain\",\"tx_type\"], values = 'tx_fee_eth')\n",
    "\n",
    "agg_fees = agg_fees[agg_fees['chain'] != 'Ethereum']\n",
    "swap_agg_fees = agg_fees[agg_fees['tx_type'] == 'uniswap_v3']\n",
    "\n",
    "#at current eth price\n",
    "fig = px.line(swap_agg_fees, x=\"datetime_hr\", y=\"tx_fee_usd\", color='chain', facet_col='tx_type')\n",
    "fig.update_traces(hovertemplate=None)\n",
    "fig.update_layout(yaxis_tickprefix = '$', hovermode='x')\n",
    "fig.show()\n",
    "fig.show(\"png\")\n",
    "\n",
    "#agg_fees = agg_fees[['tx_fee_eth']]\n",
    "#agg_fees.plot()"
   ]
  }
 ],
 "metadata": {
  "kernelspec": {
   "display_name": "Python 3 (ipykernel)",
   "language": "python",
   "name": "python3"
  },
  "language_info": {
   "codemirror_mode": {
    "name": "ipython",
    "version": 3
   },
   "file_extension": ".py",
   "mimetype": "text/x-python",
   "name": "python",
   "nbconvert_exporter": "python",
   "pygments_lexer": "ipython3",
   "version": "3.8.12"
  }
 },
 "nbformat": 4,
 "nbformat_minor": 5
}
