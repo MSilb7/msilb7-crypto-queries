{
 "cells": [
  {
   "cell_type": "code",
   "execution_count": 98,
   "id": "a56ba6eb",
   "metadata": {},
   "outputs": [],
   "source": [
    "from web3 import Web3, utils\n",
    "from indexing_functions import * #indexing_functions.py\n",
    "from configparser import ConfigParser\n",
    "import matplotlib.pyplot as plt\n",
    "import plotly.express as px\n",
    "import plotly.io as pio\n",
    "\n",
    "config = ConfigParser()\n",
    "config.read('../config.ini')\n",
    "etherscan_api = str(config.get('ETHERSCAN','etherscan_api'))"
   ]
  },
  {
   "cell_type": "code",
   "execution_count": 49,
   "id": "83ee1854",
   "metadata": {},
   "outputs": [],
   "source": [
    "chain_list = {\n",
    "    'Ethereum': {\n",
    "        'uniswap_v3': '0xE592427A0AEce92De3Edee1F18E0157C05861564' #SwapRouter 0x68b3465833fb72A70ecDF485E0e4C7bD8665Fc45 #SwapRouter 2 same for all\n",
    "        ,'erc20': '0xa0b86991c6218b36c1d19d4a2e9eb0ce3606eb48' #USDC\n",
    "    }\n",
    "    ,'Arbitrum': {\n",
    "        'uniswap_v3': '0xE592427A0AEce92De3Edee1F18E0157C05861564' #SwapRouter\n",
    "        ,'erc20': '0xff970a61a04b1ca14834a43f5de4533ebddb5cc8' #USDC\n",
    "    }\n",
    "    ,'Optimism': {\n",
    "        'uniswap_v3': '0xE592427A0AEce92De3Edee1F18E0157C05861564' #SwapRouter\n",
    "        ,'erc20': '0x7f5c764cbc14f9669b88837ca1490cca17c31607', #USDC\n",
    "    }\n",
    "}"
   ]
  },
  {
   "cell_type": "code",
   "execution_count": null,
   "id": "e6958892",
   "metadata": {},
   "outputs": [],
   "source": []
  },
  {
   "cell_type": "code",
   "execution_count": 50,
   "id": "87793d1b",
   "metadata": {},
   "outputs": [
    {
     "name": "stdout",
     "output_type": "stream",
     "text": [
      "                                                   hash   timeStamp     chain  \\\n",
      "0     0xf8ef2d9cef80555e02f685c48ab6ed72b30471f1db36...  1642380434  Ethereum   \n",
      "1     0x0585b2de05255ed68b5dd5b3a6cf1ee29a4f1223bf45...  1642380334  Ethereum   \n",
      "2     0xf6e37836d8719afc7f50f404e499627e63176c79abee...  1642380328  Ethereum   \n",
      "3     0x0046d5a604ab73cd102d631572585545f76f05d01b5c...  1642380328  Ethereum   \n",
      "4     0x30652bc66495e7cc585219548ff7b660ad4ea837c07f...  1642380261  Ethereum   \n",
      "...                                                 ...         ...       ...   \n",
      "3267  0xa05ba12af43c5625e1561ad2cbfa857e8f158e0e9008...  1642294153  Ethereum   \n",
      "3269  0xd1396f170e419d55c8758fea8ad94b77fc28a92b6150...  1642294117  Ethereum   \n",
      "3270  0x7cb9439bba53c9c2e375d2491369ad77cf60b6e7739e...  1642294117  Ethereum   \n",
      "3271  0xe4c595c18a4a8124a292e04dc782dd2ad197904e4f12...  1642294106  Ethereum   \n",
      "3272  0x3808dc79d793e0d682150ce171052b4b4ca36c087dc8...  1642294025  Ethereum   \n",
      "\n",
      "         tx_type        tx_fee  \n",
      "0     uniswap_v3  5.956077e+16  \n",
      "1     uniswap_v3  2.918890e+16  \n",
      "2     uniswap_v3  2.613786e+16  \n",
      "3     uniswap_v3  4.182718e+16  \n",
      "4     uniswap_v3  3.300550e+16  \n",
      "...          ...           ...  \n",
      "3267  uniswap_v3  3.474616e+16  \n",
      "3269  uniswap_v3  2.426975e+16  \n",
      "3270  uniswap_v3  2.101238e+16  \n",
      "3271  uniswap_v3  1.698476e+16  \n",
      "3272  uniswap_v3  2.341313e+16  \n",
      "\n",
      "[3074 rows x 5 columns]\n",
      "                                                   hash   timeStamp     chain  \\\n",
      "0     0xaf878ff6124c091fef045eb909a1735ca51f0fd81d5e...  1642380447  Ethereum   \n",
      "1     0x14eb1ebdf902d243aeb9af0f94faa467355334abe713...  1642380447  Ethereum   \n",
      "2     0x3c67f5ae77e0b6832090b93db49365c46ca7451da065...  1642380447  Ethereum   \n",
      "3     0xe6de86a1dbba0b8f9a691d460906d23d610aa42557c0...  1642380447  Ethereum   \n",
      "4     0x35cae3b0864d6d42c836aa013275180074bd6606521c...  1642380447  Ethereum   \n",
      "...                                                 ...         ...       ...   \n",
      "9994  0xe5571236f08f071b67c30b60dd555fb6f5eea98d0fda...  1642342837  Ethereum   \n",
      "9995  0x4ee644f8d542629b928e13ec4ca9de918aa7356a1972...  1642342837  Ethereum   \n",
      "9997  0x8b98e63199a1711a9795777283fbc9f4868982e43b76...  1642342816  Ethereum   \n",
      "9998  0xf695d464a2648e3b29590772e63a3f5d844947256359...  1642342816  Ethereum   \n",
      "9999  0xec8d924579d37b2559ebaa1b74a27d7c5d91e5cd082b...  1642342816  Ethereum   \n",
      "\n",
      "     tx_type        tx_fee  \n",
      "0      erc20  3.153925e+16  \n",
      "1      erc20  3.153925e+16  \n",
      "2      erc20  3.153925e+16  \n",
      "3      erc20  3.153925e+16  \n",
      "4      erc20  3.153925e+16  \n",
      "...      ...           ...  \n",
      "9994   erc20  9.569693e+15  \n",
      "9995   erc20  4.161891e+16  \n",
      "9997   erc20  8.898832e+15  \n",
      "9998   erc20  2.471898e+16  \n",
      "9999   erc20  9.006557e+15  \n",
      "\n",
      "[8826 rows x 5 columns]\n",
      "                                                  hash   timeStamp     chain  \\\n",
      "0    0x619df4352bf8c9afc952229a5822ba0d8bd706dc42ef...  1642380328  Arbitrum   \n",
      "1    0xd9bcc876ee625af5c28b7454b7d046aeeef5f63fc85d...  1642380328  Arbitrum   \n",
      "2    0x9c4f7787daa635d8d0e29e35a453622af1081bb52a67...  1642380328  Arbitrum   \n",
      "3    0xb4a22c115638322234bbba5c20fc35630138f62d3331...  1642380176  Arbitrum   \n",
      "4    0x5ee1e5d072fe3cb54909a3bdb8cb3e65248da9471c69...  1642379759  Arbitrum   \n",
      "..                                                 ...         ...       ...   \n",
      "888  0x177911a219277deea2d9b85e682e5bd7049248dbfd13...  1642296339  Arbitrum   \n",
      "889  0x16f11e2a78cc98fcd880fcff5155e8f78cb0f6b1d0e1...  1642296339  Arbitrum   \n",
      "890  0xe57ae20f9da634a273b6261e3823583506748fc0a2bd...  1642295847  Arbitrum   \n",
      "891  0xe8ec5456a3760e97384d049bfe2ef1bc16425b890d97...  1642295685  Arbitrum   \n",
      "892  0x6dbfde61c2dc9abf98b75c25a36173a0b9abdf609751...  1642294766  Arbitrum   \n",
      "\n",
      "        tx_type        tx_fee  \n",
      "0    uniswap_v3  1.572240e+15  \n",
      "1    uniswap_v3  1.315766e+15  \n",
      "2    uniswap_v3  1.851993e+15  \n",
      "3    uniswap_v3  1.215061e+15  \n",
      "4    uniswap_v3  1.205533e+15  \n",
      "..          ...           ...  \n",
      "888  uniswap_v3  1.308240e+15  \n",
      "889  uniswap_v3  1.309531e+15  \n",
      "890  uniswap_v3  1.309549e+15  \n",
      "891  uniswap_v3  1.311559e+15  \n",
      "892  uniswap_v3  1.317734e+15  \n",
      "\n",
      "[822 rows x 5 columns]\n",
      "                                                  hash   timeStamp     chain  \\\n",
      "18   0x910d8cf0eeba50391b17fe1b361209af6ed64b3af15c...  1642376852  Arbitrum   \n",
      "32   0x7bf0232f3a668301f24c7e858c299cb3c3d8aed29953...  1642375023  Arbitrum   \n",
      "33   0x8d857ea356782c0daff1b996b8077b020f5990888993...  1642374958  Arbitrum   \n",
      "41   0x84a99aaaff2cdf4bf32b973bfcf81bb7230173569380...  1642373703  Arbitrum   \n",
      "43   0x88951d28253ebc99c67a46139a7fc83b7d377b60ec87...  1642373042  Arbitrum   \n",
      "..                                                 ...         ...       ...   \n",
      "806  0x19aa679179b17f301ee2d815a1e7865141f034a2f39c...  1642298801  Arbitrum   \n",
      "809  0x3c7b8a1161b599af5afd56e9c98f0f4ce5268acbf166...  1642298307  Arbitrum   \n",
      "814  0x8454ccb4c0a012278fa90a22e182698f4ba6393aa9c2...  1642297746  Arbitrum   \n",
      "820  0x5ed4458a92e6fd926273b807a01d4fa3e34da0a2b121...  1642297091  Arbitrum   \n",
      "822  0x1f7165c5678627444f0862f663a2f0b99d26eabce7da...  1642296769  Arbitrum   \n",
      "\n",
      "    tx_type        tx_fee  \n",
      "18    erc20  1.119546e+15  \n",
      "32    erc20  9.781342e+14  \n",
      "33    erc20  9.800238e+14  \n",
      "41    erc20  9.756160e+14  \n",
      "43    erc20  1.112618e+15  \n",
      "..      ...           ...  \n",
      "806   erc20  1.200200e+15  \n",
      "809   erc20  1.203571e+15  \n",
      "814   erc20  1.050644e+15  \n",
      "820   erc20  1.205627e+15  \n",
      "822   erc20  1.203607e+15  \n",
      "\n",
      "[97 rows x 5 columns]\n",
      "                                                  hash   timeStamp     chain  \\\n",
      "0    0xaaf4a3150df00edaa9804fdea178789f82d1c7b4309b...  1642379773  Optimism   \n",
      "1    0xfaa884d2a7b683285bf4feb49f7f9452d6f76a720c70...  1642379773  Optimism   \n",
      "2    0x8aa398a317d89ee552067e6b51db6e8cd020fa7415da...  1642379565  Optimism   \n",
      "3    0x7b19d163b942a6c53b26c5ea357d37567db106fc660f...  1642379248  Optimism   \n",
      "4    0x98f7d36a02fb22d7da04479a6b744878196bce0cdcf0...  1642379248  Optimism   \n",
      "..                                                 ...         ...       ...   \n",
      "344  0x6398d0312114b8f638c21aaa601ddfb26cc3e87fd5f4...  1642296769  Optimism   \n",
      "345  0xcaa363a2efb607dd799404b10f016b1eb8beca6b2f0c...  1642296083  Optimism   \n",
      "347  0x2002b8faaa0610b583fa726c87e8d5d978ff35e29786...  1642295451  Optimism   \n",
      "348  0x252565c2f1f3138f853650b1c86c608395792691c5c5...  1642294059  Optimism   \n",
      "349  0x0b4467b8ba64584a53e7b75e57ba671d49d750443b78...  1642293852  Optimism   \n",
      "\n",
      "        tx_type        tx_fee  \n",
      "0    uniswap_v3  7.539200e+14  \n",
      "1    uniswap_v3  7.428068e+14  \n",
      "2    uniswap_v3  9.711209e+14  \n",
      "3    uniswap_v3  7.156076e+14  \n",
      "4    uniswap_v3  9.592245e+14  \n",
      "..          ...           ...  \n",
      "344  uniswap_v3  1.022078e+15  \n",
      "345  uniswap_v3  1.244027e+15  \n",
      "347  uniswap_v3  6.307852e+14  \n",
      "348  uniswap_v3  7.421954e+14  \n",
      "349  uniswap_v3  9.595808e+14  \n",
      "\n",
      "[334 rows x 5 columns]\n",
      "                                                  hash   timeStamp     chain  \\\n",
      "20   0x6709fe1388e6dda290342b3ea3bddc583517c1d308bc...  1642368136  Optimism   \n",
      "28   0x1f573582412fa53f0dd9d161a0d63f3e999765a32b79...  1642364685  Optimism   \n",
      "32   0xab4fad2d1572d9419ea104e71d7f3ecdadb60a22d533...  1642364184  Optimism   \n",
      "62   0x7721c565bbfea5d837904fb19b18bcd576dd84f2921c...  1642351831  Optimism   \n",
      "75   0x979d77cabee73325d8153eb6b5f14a472cda2e87b6eb...  1642349646  Optimism   \n",
      "80   0xcb2bd8d1853ab7389be835cbd2a91e9d0a260338d78c...  1642347710  Optimism   \n",
      "203  0x78828cce91bc16edc021223f6c96e702abde9d4095a2...  1642330677  Optimism   \n",
      "248  0xa7fd1e640a427b2acdc4ed9d40ecf6f24dafc3940c7d...  1642321203  Optimism   \n",
      "268  0x5150c08ac5b0f2331fce2efcef2291e1f11c80054144...  1642314096  Optimism   \n",
      "297  0x8abdc631799849aa953215a045ca701b26e5504195bf...  1642301046  Optimism   \n",
      "\n",
      "    tx_type        tx_fee  \n",
      "20    erc20  6.938576e+14  \n",
      "28    erc20  8.977446e+14  \n",
      "32    erc20  7.683371e+14  \n",
      "62    erc20  1.350651e+15  \n",
      "75    erc20  6.460513e+14  \n",
      "80    erc20  5.531939e+14  \n",
      "203   erc20  5.296987e+14  \n",
      "248   erc20  5.263718e+14  \n",
      "268   erc20  8.056975e+14  \n",
      "297   erc20  6.000234e+14  \n"
     ]
    }
   ],
   "source": [
    "#print(chain_list)\n",
    "chain_blocktimes = pd.DataFrame()\n",
    "chain_transaction_data = pd.DataFrame()\n",
    "\n",
    "for chain in chain_list:\n",
    "    #set the right endpoint\n",
    "    endpoint = config.get('ENDPOINTS',str.lower(chain))\n",
    "    w3 = Web3(Web3.HTTPProvider(endpoint))\n",
    "    temp_txs = pd.DataFrame()\n",
    "    #get time range - last 24 hours\n",
    "    end_blocktime = datetime.fromtimestamp( int(get_latest_block_info(chain)['result']['timestamp'], base =16) )\n",
    "    start_blocktime =  end_blocktime - timedelta(hours = 24)\n",
    "    # convert time range to block range\n",
    "    end_block_number = int(get_latest_block(chain), base=16)\n",
    "    start_block_number = get_block_by_timestamp(round(start_blocktime.timestamp()), chain)\n",
    "\n",
    "    #Iterate through chains\n",
    "    for contract in chain_list[chain]:\n",
    "        input_contract = chain_list[chain][contract]\n",
    "        #print(input_contract)\n",
    "        result_txs = get_address_transactions_by_block_range(start_block_number,end_block_number,input_contract, chain)\n",
    "        #print(result_txs)\n",
    "        temp_txs = pd.DataFrame(result_txs)\n",
    "        temp_txs = temp_txs[temp_txs['txreceipt_status'] == '1'] #only finalized txs\n",
    "        # grab erc20 transfers only - by methodid\n",
    "        if contract == 'erc20': \n",
    "                temp_txs = temp_txs[temp_txs['input'].str[0:10] == '0xa9059cbb']\n",
    "                \n",
    "        transactions = pd.DataFrame(temp_txs[['hash','timeStamp']])\n",
    "        # assign group segments\n",
    "        transactions['chain'] = chain\n",
    "        transactions['tx_type'] = contract\n",
    "    #iterrate to calculate transaction fees\n",
    "    # Ethereum: Etherscan gas price x gas used\n",
    "    # L2s - Need to call web3 since there are specialized fields\n",
    "        for index, row in transactions.iterrows(): \n",
    "            if chain == 'Ethereum':\n",
    "                transactions.loc[index, 'tx_fee'] = \\\n",
    "                    pd.to_numeric(temp_txs.loc[index,'gasPrice']) * pd.to_numeric(temp_txs.loc[index,'gas'])\n",
    "            else:\n",
    "                tx_receipt = w3.eth.get_transaction_receipt(row['hash'])\n",
    "                gas_price = w3.eth.get_transaction(row['hash'])['gasPrice']\n",
    "                if chain == 'Optimism':\n",
    "                    tx_fee = Web3.toInt(hexstr=tx_receipt['l1Fee']) +\\\n",
    "                                    tx_receipt['gasUsed'] * gas_price\n",
    "                elif chain == 'Arbitrum':\n",
    "                    tx_fee = tx_receipt['effectiveGasPrice']*tx_receipt['gasUsed']\n",
    "                # Assign tx fee back to transactions\n",
    "                transactions.loc[index, 'tx_fee'] = tx_fee\n",
    "           \n",
    "        print(transactions)    \n",
    "        chain_transaction_data = chain_transaction_data.append(transactions)\n"
   ]
  },
  {
   "cell_type": "code",
   "execution_count": 52,
   "id": "9cc9c257",
   "metadata": {},
   "outputs": [
    {
     "name": "stdout",
     "output_type": "stream",
     "text": [
      "                                                  hash   timeStamp     chain  \\\n",
      "0    0xf8ef2d9cef80555e02f685c48ab6ed72b30471f1db36...  1642380434  Ethereum   \n",
      "1    0x0585b2de05255ed68b5dd5b3a6cf1ee29a4f1223bf45...  1642380334  Ethereum   \n",
      "2    0xf6e37836d8719afc7f50f404e499627e63176c79abee...  1642380328  Ethereum   \n",
      "3    0x0046d5a604ab73cd102d631572585545f76f05d01b5c...  1642380328  Ethereum   \n",
      "4    0x30652bc66495e7cc585219548ff7b660ad4ea837c07f...  1642380261  Ethereum   \n",
      "..                                                 ...         ...       ...   \n",
      "80   0xcb2bd8d1853ab7389be835cbd2a91e9d0a260338d78c...  1642347710  Optimism   \n",
      "203  0x78828cce91bc16edc021223f6c96e702abde9d4095a2...  1642330677  Optimism   \n",
      "248  0xa7fd1e640a427b2acdc4ed9d40ecf6f24dafc3940c7d...  1642321203  Optimism   \n",
      "268  0x5150c08ac5b0f2331fce2efcef2291e1f11c80054144...  1642314096  Optimism   \n",
      "297  0x8abdc631799849aa953215a045ca701b26e5504195bf...  1642301046  Optimism   \n",
      "\n",
      "        tx_type        tx_fee  \n",
      "0    uniswap_v3  5.956077e+16  \n",
      "1    uniswap_v3  2.918890e+16  \n",
      "2    uniswap_v3  2.613786e+16  \n",
      "3    uniswap_v3  4.182718e+16  \n",
      "4    uniswap_v3  3.300550e+16  \n",
      "..          ...           ...  \n",
      "80        erc20  5.531939e+14  \n",
      "203       erc20  5.296987e+14  \n",
      "248       erc20  5.263718e+14  \n",
      "268       erc20  8.056975e+14  \n",
      "297       erc20  6.000234e+14  \n",
      "\n",
      "[13163 rows x 5 columns]\n"
     ]
    }
   ],
   "source": [
    "print(chain_transaction_data)\n",
    "chain_transaction_data.to_csv('t24h_tx_fees.csv')"
   ]
  },
  {
   "cell_type": "code",
   "execution_count": 57,
   "id": "eba24633",
   "metadata": {},
   "outputs": [
    {
     "name": "stdout",
     "output_type": "stream",
     "text": [
      "                                                  hash   timeStamp     chain  \\\n",
      "0    0xf8ef2d9cef80555e02f685c48ab6ed72b30471f1db36...  1642380434  Ethereum   \n",
      "1    0x0585b2de05255ed68b5dd5b3a6cf1ee29a4f1223bf45...  1642380334  Ethereum   \n",
      "2    0xf6e37836d8719afc7f50f404e499627e63176c79abee...  1642380328  Ethereum   \n",
      "3    0x0046d5a604ab73cd102d631572585545f76f05d01b5c...  1642380328  Ethereum   \n",
      "4    0x30652bc66495e7cc585219548ff7b660ad4ea837c07f...  1642380261  Ethereum   \n",
      "..                                                 ...         ...       ...   \n",
      "80   0xcb2bd8d1853ab7389be835cbd2a91e9d0a260338d78c...  1642347710  Optimism   \n",
      "203  0x78828cce91bc16edc021223f6c96e702abde9d4095a2...  1642330677  Optimism   \n",
      "248  0xa7fd1e640a427b2acdc4ed9d40ecf6f24dafc3940c7d...  1642321203  Optimism   \n",
      "268  0x5150c08ac5b0f2331fce2efcef2291e1f11c80054144...  1642314096  Optimism   \n",
      "297  0x8abdc631799849aa953215a045ca701b26e5504195bf...  1642301046  Optimism   \n",
      "\n",
      "        tx_type        tx_fee            datetime  tx_fee_eth  \n",
      "0    uniswap_v3  5.956077e+16 2022-01-17 00:47:14    0.059561  \n",
      "1    uniswap_v3  2.918890e+16 2022-01-17 00:45:34    0.029189  \n",
      "2    uniswap_v3  2.613786e+16 2022-01-17 00:45:28    0.026138  \n",
      "3    uniswap_v3  4.182718e+16 2022-01-17 00:45:28    0.041827  \n",
      "4    uniswap_v3  3.300550e+16 2022-01-17 00:44:21    0.033006  \n",
      "..          ...           ...                 ...         ...  \n",
      "80        erc20  5.531939e+14 2022-01-16 15:41:50    0.000553  \n",
      "203       erc20  5.296987e+14 2022-01-16 10:57:57    0.000530  \n",
      "248       erc20  5.263718e+14 2022-01-16 08:20:03    0.000526  \n",
      "268       erc20  8.056975e+14 2022-01-16 06:21:36    0.000806  \n",
      "297       erc20  6.000234e+14 2022-01-16 02:44:06    0.000600  \n",
      "\n",
      "[13163 rows x 7 columns]\n"
     ]
    }
   ],
   "source": [
    "chain_transaction_data['datetime'] = pd.to_datetime(chain_transaction_data['timeStamp'], unit = 's')\n",
    "chain_transaction_data['tx_fee_eth'] = chain_transaction_data['tx_fee']/1e18\n",
    "print(chain_transaction_data)                                             "
   ]
  },
  {
   "cell_type": "code",
   "execution_count": 107,
   "id": "7e00e6f9",
   "metadata": {},
   "outputs": [
    {
     "name": "stdout",
     "output_type": "stream",
     "text": [
      "3323.3\n"
     ]
    }
   ],
   "source": [
    "eth_api = 'https://api.coingecko.com/api/v3/simple/price?ids=ethereum&vs_currencies=usd' #coingecko\n",
    "eth_price = requests.get(eth_api,headers=headers).json()['ethereum']['usd']"
   ]
  },
  {
   "cell_type": "code",
   "execution_count": 113,
   "id": "6fcf2831",
   "metadata": {
    "scrolled": false
   },
   "outputs": [
    {
     "data": {
      "application/vnd.plotly.v1+json": {
       "config": {
        "plotlyServerURL": "https://plot.ly"
       },
       "data": [
        {
         "legendgroup": "Arbitrum",
         "line": {
          "color": "#636efa",
          "dash": "solid"
         },
         "marker": {
          "symbol": "circle"
         },
         "mode": "lines",
         "name": "Arbitrum",
         "orientation": "v",
         "showlegend": true,
         "type": "scatter",
         "x": [
          "2022-01-16T00:00:00",
          "2022-01-16T01:00:00",
          "2022-01-16T02:00:00",
          "2022-01-16T03:00:00",
          "2022-01-16T04:00:00",
          "2022-01-16T05:00:00",
          "2022-01-16T06:00:00",
          "2022-01-16T07:00:00",
          "2022-01-16T08:00:00",
          "2022-01-16T09:00:00",
          "2022-01-16T10:00:00",
          "2022-01-16T11:00:00",
          "2022-01-16T12:00:00",
          "2022-01-16T13:00:00",
          "2022-01-16T14:00:00",
          "2022-01-16T15:00:00",
          "2022-01-16T16:00:00",
          "2022-01-16T17:00:00",
          "2022-01-16T18:00:00",
          "2022-01-16T19:00:00",
          "2022-01-16T20:00:00",
          "2022-01-16T21:00:00",
          "2022-01-16T22:00:00",
          "2022-01-16T23:00:00",
          "2022-01-17T00:00:00"
         ],
         "xaxis": "x",
         "y": [
          4.3792269440726255,
          4.545103852937461,
          4.627086947377904,
          4.980268310442413,
          4.961568501980645,
          4.619195052869112,
          4.603814580011548,
          4.737542775644694,
          4.562161515289259,
          4.458609347326005,
          4.678195697283916,
          4.199878253734834,
          4.334513830887725,
          4.196129236402271,
          4.1484978771132495,
          4.26148394130082,
          4.475730389432322,
          4.052078404371952,
          4.223932958351093,
          4.120709100308935,
          4.369252808479832,
          4.177990520848078,
          4.615310366577432,
          4.50739675508679,
          4.3088491424910345
         ],
         "yaxis": "y"
        },
        {
         "legendgroup": "Optimism",
         "line": {
          "color": "#EF553B",
          "dash": "solid"
         },
         "marker": {
          "symbol": "circle"
         },
         "mode": "lines",
         "name": "Optimism",
         "orientation": "v",
         "showlegend": true,
         "type": "scatter",
         "x": [
          "2022-01-16T00:00:00",
          "2022-01-16T01:00:00",
          "2022-01-16T02:00:00",
          "2022-01-16T03:00:00",
          "2022-01-16T04:00:00",
          "2022-01-16T05:00:00",
          "2022-01-16T06:00:00",
          "2022-01-16T07:00:00",
          "2022-01-16T08:00:00",
          "2022-01-16T09:00:00",
          "2022-01-16T10:00:00",
          "2022-01-16T11:00:00",
          "2022-01-16T12:00:00",
          "2022-01-16T13:00:00",
          "2022-01-16T14:00:00",
          "2022-01-16T15:00:00",
          "2022-01-16T16:00:00",
          "2022-01-16T17:00:00",
          "2022-01-16T18:00:00",
          "2022-01-16T19:00:00",
          "2022-01-16T20:00:00",
          "2022-01-16T21:00:00",
          "2022-01-16T22:00:00",
          "2022-01-16T23:00:00",
          "2022-01-17T00:00:00"
         ],
         "xaxis": "x",
         "y": [
          2.827756353411153,
          3.250149973557516,
          3.547006181908287,
          2.5660448212142124,
          2.961670565492201,
          2.6442445873756193,
          3.8206871196316987,
          3.164113678819141,
          2.4099549645157268,
          2.963867743107749,
          2.3706849152910805,
          2.205070481907529,
          2.6191460491333824,
          2.7785606826446405,
          2.9140621130193063,
          3.3739064611360483,
          3.169911515519988,
          6.351269694493507,
          5.400044458585177,
          4.9672357059970516,
          3.9953215570089,
          4.666535148612372,
          3.410603780743716,
          3.4716818811563375,
          2.869140518783768
         ],
         "yaxis": "y"
        }
       ],
       "layout": {
        "annotations": [
         {
          "font": {},
          "showarrow": false,
          "text": "tx_type=uniswap_v3",
          "x": 0.5,
          "xanchor": "center",
          "xref": "paper",
          "y": 1,
          "yanchor": "bottom",
          "yref": "paper"
         }
        ],
        "hovermode": "x",
        "legend": {
         "title": {
          "text": "chain"
         },
         "tracegroupgap": 0
        },
        "margin": {
         "t": 60
        },
        "template": {
         "data": {
          "bar": [
           {
            "error_x": {
             "color": "#2a3f5f"
            },
            "error_y": {
             "color": "#2a3f5f"
            },
            "marker": {
             "line": {
              "color": "#E5ECF6",
              "width": 0.5
             },
             "pattern": {
              "fillmode": "overlay",
              "size": 10,
              "solidity": 0.2
             }
            },
            "type": "bar"
           }
          ],
          "barpolar": [
           {
            "marker": {
             "line": {
              "color": "#E5ECF6",
              "width": 0.5
             },
             "pattern": {
              "fillmode": "overlay",
              "size": 10,
              "solidity": 0.2
             }
            },
            "type": "barpolar"
           }
          ],
          "carpet": [
           {
            "aaxis": {
             "endlinecolor": "#2a3f5f",
             "gridcolor": "white",
             "linecolor": "white",
             "minorgridcolor": "white",
             "startlinecolor": "#2a3f5f"
            },
            "baxis": {
             "endlinecolor": "#2a3f5f",
             "gridcolor": "white",
             "linecolor": "white",
             "minorgridcolor": "white",
             "startlinecolor": "#2a3f5f"
            },
            "type": "carpet"
           }
          ],
          "choropleth": [
           {
            "colorbar": {
             "outlinewidth": 0,
             "ticks": ""
            },
            "type": "choropleth"
           }
          ],
          "contour": [
           {
            "colorbar": {
             "outlinewidth": 0,
             "ticks": ""
            },
            "colorscale": [
             [
              0,
              "#0d0887"
             ],
             [
              0.1111111111111111,
              "#46039f"
             ],
             [
              0.2222222222222222,
              "#7201a8"
             ],
             [
              0.3333333333333333,
              "#9c179e"
             ],
             [
              0.4444444444444444,
              "#bd3786"
             ],
             [
              0.5555555555555556,
              "#d8576b"
             ],
             [
              0.6666666666666666,
              "#ed7953"
             ],
             [
              0.7777777777777778,
              "#fb9f3a"
             ],
             [
              0.8888888888888888,
              "#fdca26"
             ],
             [
              1,
              "#f0f921"
             ]
            ],
            "type": "contour"
           }
          ],
          "contourcarpet": [
           {
            "colorbar": {
             "outlinewidth": 0,
             "ticks": ""
            },
            "type": "contourcarpet"
           }
          ],
          "heatmap": [
           {
            "colorbar": {
             "outlinewidth": 0,
             "ticks": ""
            },
            "colorscale": [
             [
              0,
              "#0d0887"
             ],
             [
              0.1111111111111111,
              "#46039f"
             ],
             [
              0.2222222222222222,
              "#7201a8"
             ],
             [
              0.3333333333333333,
              "#9c179e"
             ],
             [
              0.4444444444444444,
              "#bd3786"
             ],
             [
              0.5555555555555556,
              "#d8576b"
             ],
             [
              0.6666666666666666,
              "#ed7953"
             ],
             [
              0.7777777777777778,
              "#fb9f3a"
             ],
             [
              0.8888888888888888,
              "#fdca26"
             ],
             [
              1,
              "#f0f921"
             ]
            ],
            "type": "heatmap"
           }
          ],
          "heatmapgl": [
           {
            "colorbar": {
             "outlinewidth": 0,
             "ticks": ""
            },
            "colorscale": [
             [
              0,
              "#0d0887"
             ],
             [
              0.1111111111111111,
              "#46039f"
             ],
             [
              0.2222222222222222,
              "#7201a8"
             ],
             [
              0.3333333333333333,
              "#9c179e"
             ],
             [
              0.4444444444444444,
              "#bd3786"
             ],
             [
              0.5555555555555556,
              "#d8576b"
             ],
             [
              0.6666666666666666,
              "#ed7953"
             ],
             [
              0.7777777777777778,
              "#fb9f3a"
             ],
             [
              0.8888888888888888,
              "#fdca26"
             ],
             [
              1,
              "#f0f921"
             ]
            ],
            "type": "heatmapgl"
           }
          ],
          "histogram": [
           {
            "marker": {
             "pattern": {
              "fillmode": "overlay",
              "size": 10,
              "solidity": 0.2
             }
            },
            "type": "histogram"
           }
          ],
          "histogram2d": [
           {
            "colorbar": {
             "outlinewidth": 0,
             "ticks": ""
            },
            "colorscale": [
             [
              0,
              "#0d0887"
             ],
             [
              0.1111111111111111,
              "#46039f"
             ],
             [
              0.2222222222222222,
              "#7201a8"
             ],
             [
              0.3333333333333333,
              "#9c179e"
             ],
             [
              0.4444444444444444,
              "#bd3786"
             ],
             [
              0.5555555555555556,
              "#d8576b"
             ],
             [
              0.6666666666666666,
              "#ed7953"
             ],
             [
              0.7777777777777778,
              "#fb9f3a"
             ],
             [
              0.8888888888888888,
              "#fdca26"
             ],
             [
              1,
              "#f0f921"
             ]
            ],
            "type": "histogram2d"
           }
          ],
          "histogram2dcontour": [
           {
            "colorbar": {
             "outlinewidth": 0,
             "ticks": ""
            },
            "colorscale": [
             [
              0,
              "#0d0887"
             ],
             [
              0.1111111111111111,
              "#46039f"
             ],
             [
              0.2222222222222222,
              "#7201a8"
             ],
             [
              0.3333333333333333,
              "#9c179e"
             ],
             [
              0.4444444444444444,
              "#bd3786"
             ],
             [
              0.5555555555555556,
              "#d8576b"
             ],
             [
              0.6666666666666666,
              "#ed7953"
             ],
             [
              0.7777777777777778,
              "#fb9f3a"
             ],
             [
              0.8888888888888888,
              "#fdca26"
             ],
             [
              1,
              "#f0f921"
             ]
            ],
            "type": "histogram2dcontour"
           }
          ],
          "mesh3d": [
           {
            "colorbar": {
             "outlinewidth": 0,
             "ticks": ""
            },
            "type": "mesh3d"
           }
          ],
          "parcoords": [
           {
            "line": {
             "colorbar": {
              "outlinewidth": 0,
              "ticks": ""
             }
            },
            "type": "parcoords"
           }
          ],
          "pie": [
           {
            "automargin": true,
            "type": "pie"
           }
          ],
          "scatter": [
           {
            "marker": {
             "colorbar": {
              "outlinewidth": 0,
              "ticks": ""
             }
            },
            "type": "scatter"
           }
          ],
          "scatter3d": [
           {
            "line": {
             "colorbar": {
              "outlinewidth": 0,
              "ticks": ""
             }
            },
            "marker": {
             "colorbar": {
              "outlinewidth": 0,
              "ticks": ""
             }
            },
            "type": "scatter3d"
           }
          ],
          "scattercarpet": [
           {
            "marker": {
             "colorbar": {
              "outlinewidth": 0,
              "ticks": ""
             }
            },
            "type": "scattercarpet"
           }
          ],
          "scattergeo": [
           {
            "marker": {
             "colorbar": {
              "outlinewidth": 0,
              "ticks": ""
             }
            },
            "type": "scattergeo"
           }
          ],
          "scattergl": [
           {
            "marker": {
             "colorbar": {
              "outlinewidth": 0,
              "ticks": ""
             }
            },
            "type": "scattergl"
           }
          ],
          "scattermapbox": [
           {
            "marker": {
             "colorbar": {
              "outlinewidth": 0,
              "ticks": ""
             }
            },
            "type": "scattermapbox"
           }
          ],
          "scatterpolar": [
           {
            "marker": {
             "colorbar": {
              "outlinewidth": 0,
              "ticks": ""
             }
            },
            "type": "scatterpolar"
           }
          ],
          "scatterpolargl": [
           {
            "marker": {
             "colorbar": {
              "outlinewidth": 0,
              "ticks": ""
             }
            },
            "type": "scatterpolargl"
           }
          ],
          "scatterternary": [
           {
            "marker": {
             "colorbar": {
              "outlinewidth": 0,
              "ticks": ""
             }
            },
            "type": "scatterternary"
           }
          ],
          "surface": [
           {
            "colorbar": {
             "outlinewidth": 0,
             "ticks": ""
            },
            "colorscale": [
             [
              0,
              "#0d0887"
             ],
             [
              0.1111111111111111,
              "#46039f"
             ],
             [
              0.2222222222222222,
              "#7201a8"
             ],
             [
              0.3333333333333333,
              "#9c179e"
             ],
             [
              0.4444444444444444,
              "#bd3786"
             ],
             [
              0.5555555555555556,
              "#d8576b"
             ],
             [
              0.6666666666666666,
              "#ed7953"
             ],
             [
              0.7777777777777778,
              "#fb9f3a"
             ],
             [
              0.8888888888888888,
              "#fdca26"
             ],
             [
              1,
              "#f0f921"
             ]
            ],
            "type": "surface"
           }
          ],
          "table": [
           {
            "cells": {
             "fill": {
              "color": "#EBF0F8"
             },
             "line": {
              "color": "white"
             }
            },
            "header": {
             "fill": {
              "color": "#C8D4E3"
             },
             "line": {
              "color": "white"
             }
            },
            "type": "table"
           }
          ]
         },
         "layout": {
          "annotationdefaults": {
           "arrowcolor": "#2a3f5f",
           "arrowhead": 0,
           "arrowwidth": 1
          },
          "autotypenumbers": "strict",
          "coloraxis": {
           "colorbar": {
            "outlinewidth": 0,
            "ticks": ""
           }
          },
          "colorscale": {
           "diverging": [
            [
             0,
             "#8e0152"
            ],
            [
             0.1,
             "#c51b7d"
            ],
            [
             0.2,
             "#de77ae"
            ],
            [
             0.3,
             "#f1b6da"
            ],
            [
             0.4,
             "#fde0ef"
            ],
            [
             0.5,
             "#f7f7f7"
            ],
            [
             0.6,
             "#e6f5d0"
            ],
            [
             0.7,
             "#b8e186"
            ],
            [
             0.8,
             "#7fbc41"
            ],
            [
             0.9,
             "#4d9221"
            ],
            [
             1,
             "#276419"
            ]
           ],
           "sequential": [
            [
             0,
             "#0d0887"
            ],
            [
             0.1111111111111111,
             "#46039f"
            ],
            [
             0.2222222222222222,
             "#7201a8"
            ],
            [
             0.3333333333333333,
             "#9c179e"
            ],
            [
             0.4444444444444444,
             "#bd3786"
            ],
            [
             0.5555555555555556,
             "#d8576b"
            ],
            [
             0.6666666666666666,
             "#ed7953"
            ],
            [
             0.7777777777777778,
             "#fb9f3a"
            ],
            [
             0.8888888888888888,
             "#fdca26"
            ],
            [
             1,
             "#f0f921"
            ]
           ],
           "sequentialminus": [
            [
             0,
             "#0d0887"
            ],
            [
             0.1111111111111111,
             "#46039f"
            ],
            [
             0.2222222222222222,
             "#7201a8"
            ],
            [
             0.3333333333333333,
             "#9c179e"
            ],
            [
             0.4444444444444444,
             "#bd3786"
            ],
            [
             0.5555555555555556,
             "#d8576b"
            ],
            [
             0.6666666666666666,
             "#ed7953"
            ],
            [
             0.7777777777777778,
             "#fb9f3a"
            ],
            [
             0.8888888888888888,
             "#fdca26"
            ],
            [
             1,
             "#f0f921"
            ]
           ]
          },
          "colorway": [
           "#636efa",
           "#EF553B",
           "#00cc96",
           "#ab63fa",
           "#FFA15A",
           "#19d3f3",
           "#FF6692",
           "#B6E880",
           "#FF97FF",
           "#FECB52"
          ],
          "font": {
           "color": "#2a3f5f"
          },
          "geo": {
           "bgcolor": "white",
           "lakecolor": "white",
           "landcolor": "#E5ECF6",
           "showlakes": true,
           "showland": true,
           "subunitcolor": "white"
          },
          "hoverlabel": {
           "align": "left"
          },
          "hovermode": "closest",
          "mapbox": {
           "style": "light"
          },
          "paper_bgcolor": "white",
          "plot_bgcolor": "#E5ECF6",
          "polar": {
           "angularaxis": {
            "gridcolor": "white",
            "linecolor": "white",
            "ticks": ""
           },
           "bgcolor": "#E5ECF6",
           "radialaxis": {
            "gridcolor": "white",
            "linecolor": "white",
            "ticks": ""
           }
          },
          "scene": {
           "xaxis": {
            "backgroundcolor": "#E5ECF6",
            "gridcolor": "white",
            "gridwidth": 2,
            "linecolor": "white",
            "showbackground": true,
            "ticks": "",
            "zerolinecolor": "white"
           },
           "yaxis": {
            "backgroundcolor": "#E5ECF6",
            "gridcolor": "white",
            "gridwidth": 2,
            "linecolor": "white",
            "showbackground": true,
            "ticks": "",
            "zerolinecolor": "white"
           },
           "zaxis": {
            "backgroundcolor": "#E5ECF6",
            "gridcolor": "white",
            "gridwidth": 2,
            "linecolor": "white",
            "showbackground": true,
            "ticks": "",
            "zerolinecolor": "white"
           }
          },
          "shapedefaults": {
           "line": {
            "color": "#2a3f5f"
           }
          },
          "ternary": {
           "aaxis": {
            "gridcolor": "white",
            "linecolor": "white",
            "ticks": ""
           },
           "baxis": {
            "gridcolor": "white",
            "linecolor": "white",
            "ticks": ""
           },
           "bgcolor": "#E5ECF6",
           "caxis": {
            "gridcolor": "white",
            "linecolor": "white",
            "ticks": ""
           }
          },
          "title": {
           "x": 0.05
          },
          "xaxis": {
           "automargin": true,
           "gridcolor": "white",
           "linecolor": "white",
           "ticks": "",
           "title": {
            "standoff": 15
           },
           "zerolinecolor": "white",
           "zerolinewidth": 2
          },
          "yaxis": {
           "automargin": true,
           "gridcolor": "white",
           "linecolor": "white",
           "ticks": "",
           "title": {
            "standoff": 15
           },
           "zerolinecolor": "white",
           "zerolinewidth": 2
          }
         }
        },
        "xaxis": {
         "anchor": "y",
         "domain": [
          0,
          1
         ],
         "title": {
          "text": "datetime_hr"
         }
        },
        "yaxis": {
         "anchor": "x",
         "domain": [
          0,
          1
         ],
         "tickprefix": "$",
         "title": {
          "text": "tx_fee_usd"
         }
        }
       }
      },
      "text/html": [
       "<div>                            <div id=\"5f83aabe-c74e-4d67-9c43-5f1ccaeb6c03\" class=\"plotly-graph-div\" style=\"height:525px; width:100%;\"></div>            <script type=\"text/javascript\">                require([\"plotly\"], function(Plotly) {                    window.PLOTLYENV=window.PLOTLYENV || {};                                    if (document.getElementById(\"5f83aabe-c74e-4d67-9c43-5f1ccaeb6c03\")) {                    Plotly.newPlot(                        \"5f83aabe-c74e-4d67-9c43-5f1ccaeb6c03\",                        [{\"legendgroup\":\"Arbitrum\",\"line\":{\"color\":\"#636efa\",\"dash\":\"solid\"},\"marker\":{\"symbol\":\"circle\"},\"mode\":\"lines\",\"name\":\"Arbitrum\",\"orientation\":\"v\",\"showlegend\":true,\"x\":[\"2022-01-16T00:00:00\",\"2022-01-16T01:00:00\",\"2022-01-16T02:00:00\",\"2022-01-16T03:00:00\",\"2022-01-16T04:00:00\",\"2022-01-16T05:00:00\",\"2022-01-16T06:00:00\",\"2022-01-16T07:00:00\",\"2022-01-16T08:00:00\",\"2022-01-16T09:00:00\",\"2022-01-16T10:00:00\",\"2022-01-16T11:00:00\",\"2022-01-16T12:00:00\",\"2022-01-16T13:00:00\",\"2022-01-16T14:00:00\",\"2022-01-16T15:00:00\",\"2022-01-16T16:00:00\",\"2022-01-16T17:00:00\",\"2022-01-16T18:00:00\",\"2022-01-16T19:00:00\",\"2022-01-16T20:00:00\",\"2022-01-16T21:00:00\",\"2022-01-16T22:00:00\",\"2022-01-16T23:00:00\",\"2022-01-17T00:00:00\"],\"xaxis\":\"x\",\"y\":[4.3792269440726255,4.545103852937461,4.627086947377904,4.980268310442413,4.961568501980645,4.619195052869112,4.603814580011548,4.737542775644694,4.562161515289259,4.458609347326005,4.678195697283916,4.199878253734834,4.334513830887725,4.196129236402271,4.1484978771132495,4.26148394130082,4.475730389432322,4.052078404371952,4.223932958351093,4.120709100308935,4.369252808479832,4.177990520848078,4.615310366577432,4.50739675508679,4.3088491424910345],\"yaxis\":\"y\",\"type\":\"scatter\"},{\"legendgroup\":\"Optimism\",\"line\":{\"color\":\"#EF553B\",\"dash\":\"solid\"},\"marker\":{\"symbol\":\"circle\"},\"mode\":\"lines\",\"name\":\"Optimism\",\"orientation\":\"v\",\"showlegend\":true,\"x\":[\"2022-01-16T00:00:00\",\"2022-01-16T01:00:00\",\"2022-01-16T02:00:00\",\"2022-01-16T03:00:00\",\"2022-01-16T04:00:00\",\"2022-01-16T05:00:00\",\"2022-01-16T06:00:00\",\"2022-01-16T07:00:00\",\"2022-01-16T08:00:00\",\"2022-01-16T09:00:00\",\"2022-01-16T10:00:00\",\"2022-01-16T11:00:00\",\"2022-01-16T12:00:00\",\"2022-01-16T13:00:00\",\"2022-01-16T14:00:00\",\"2022-01-16T15:00:00\",\"2022-01-16T16:00:00\",\"2022-01-16T17:00:00\",\"2022-01-16T18:00:00\",\"2022-01-16T19:00:00\",\"2022-01-16T20:00:00\",\"2022-01-16T21:00:00\",\"2022-01-16T22:00:00\",\"2022-01-16T23:00:00\",\"2022-01-17T00:00:00\"],\"xaxis\":\"x\",\"y\":[2.827756353411153,3.250149973557516,3.547006181908287,2.5660448212142124,2.961670565492201,2.6442445873756193,3.8206871196316987,3.164113678819141,2.4099549645157268,2.963867743107749,2.3706849152910805,2.205070481907529,2.6191460491333824,2.7785606826446405,2.9140621130193063,3.3739064611360483,3.169911515519988,6.351269694493507,5.400044458585177,4.9672357059970516,3.9953215570089,4.666535148612372,3.410603780743716,3.4716818811563375,2.869140518783768],\"yaxis\":\"y\",\"type\":\"scatter\"}],                        {\"template\":{\"data\":{\"bar\":[{\"error_x\":{\"color\":\"#2a3f5f\"},\"error_y\":{\"color\":\"#2a3f5f\"},\"marker\":{\"line\":{\"color\":\"#E5ECF6\",\"width\":0.5},\"pattern\":{\"fillmode\":\"overlay\",\"size\":10,\"solidity\":0.2}},\"type\":\"bar\"}],\"barpolar\":[{\"marker\":{\"line\":{\"color\":\"#E5ECF6\",\"width\":0.5},\"pattern\":{\"fillmode\":\"overlay\",\"size\":10,\"solidity\":0.2}},\"type\":\"barpolar\"}],\"carpet\":[{\"aaxis\":{\"endlinecolor\":\"#2a3f5f\",\"gridcolor\":\"white\",\"linecolor\":\"white\",\"minorgridcolor\":\"white\",\"startlinecolor\":\"#2a3f5f\"},\"baxis\":{\"endlinecolor\":\"#2a3f5f\",\"gridcolor\":\"white\",\"linecolor\":\"white\",\"minorgridcolor\":\"white\",\"startlinecolor\":\"#2a3f5f\"},\"type\":\"carpet\"}],\"choropleth\":[{\"colorbar\":{\"outlinewidth\":0,\"ticks\":\"\"},\"type\":\"choropleth\"}],\"contour\":[{\"colorbar\":{\"outlinewidth\":0,\"ticks\":\"\"},\"colorscale\":[[0.0,\"#0d0887\"],[0.1111111111111111,\"#46039f\"],[0.2222222222222222,\"#7201a8\"],[0.3333333333333333,\"#9c179e\"],[0.4444444444444444,\"#bd3786\"],[0.5555555555555556,\"#d8576b\"],[0.6666666666666666,\"#ed7953\"],[0.7777777777777778,\"#fb9f3a\"],[0.8888888888888888,\"#fdca26\"],[1.0,\"#f0f921\"]],\"type\":\"contour\"}],\"contourcarpet\":[{\"colorbar\":{\"outlinewidth\":0,\"ticks\":\"\"},\"type\":\"contourcarpet\"}],\"heatmap\":[{\"colorbar\":{\"outlinewidth\":0,\"ticks\":\"\"},\"colorscale\":[[0.0,\"#0d0887\"],[0.1111111111111111,\"#46039f\"],[0.2222222222222222,\"#7201a8\"],[0.3333333333333333,\"#9c179e\"],[0.4444444444444444,\"#bd3786\"],[0.5555555555555556,\"#d8576b\"],[0.6666666666666666,\"#ed7953\"],[0.7777777777777778,\"#fb9f3a\"],[0.8888888888888888,\"#fdca26\"],[1.0,\"#f0f921\"]],\"type\":\"heatmap\"}],\"heatmapgl\":[{\"colorbar\":{\"outlinewidth\":0,\"ticks\":\"\"},\"colorscale\":[[0.0,\"#0d0887\"],[0.1111111111111111,\"#46039f\"],[0.2222222222222222,\"#7201a8\"],[0.3333333333333333,\"#9c179e\"],[0.4444444444444444,\"#bd3786\"],[0.5555555555555556,\"#d8576b\"],[0.6666666666666666,\"#ed7953\"],[0.7777777777777778,\"#fb9f3a\"],[0.8888888888888888,\"#fdca26\"],[1.0,\"#f0f921\"]],\"type\":\"heatmapgl\"}],\"histogram\":[{\"marker\":{\"pattern\":{\"fillmode\":\"overlay\",\"size\":10,\"solidity\":0.2}},\"type\":\"histogram\"}],\"histogram2d\":[{\"colorbar\":{\"outlinewidth\":0,\"ticks\":\"\"},\"colorscale\":[[0.0,\"#0d0887\"],[0.1111111111111111,\"#46039f\"],[0.2222222222222222,\"#7201a8\"],[0.3333333333333333,\"#9c179e\"],[0.4444444444444444,\"#bd3786\"],[0.5555555555555556,\"#d8576b\"],[0.6666666666666666,\"#ed7953\"],[0.7777777777777778,\"#fb9f3a\"],[0.8888888888888888,\"#fdca26\"],[1.0,\"#f0f921\"]],\"type\":\"histogram2d\"}],\"histogram2dcontour\":[{\"colorbar\":{\"outlinewidth\":0,\"ticks\":\"\"},\"colorscale\":[[0.0,\"#0d0887\"],[0.1111111111111111,\"#46039f\"],[0.2222222222222222,\"#7201a8\"],[0.3333333333333333,\"#9c179e\"],[0.4444444444444444,\"#bd3786\"],[0.5555555555555556,\"#d8576b\"],[0.6666666666666666,\"#ed7953\"],[0.7777777777777778,\"#fb9f3a\"],[0.8888888888888888,\"#fdca26\"],[1.0,\"#f0f921\"]],\"type\":\"histogram2dcontour\"}],\"mesh3d\":[{\"colorbar\":{\"outlinewidth\":0,\"ticks\":\"\"},\"type\":\"mesh3d\"}],\"parcoords\":[{\"line\":{\"colorbar\":{\"outlinewidth\":0,\"ticks\":\"\"}},\"type\":\"parcoords\"}],\"pie\":[{\"automargin\":true,\"type\":\"pie\"}],\"scatter\":[{\"marker\":{\"colorbar\":{\"outlinewidth\":0,\"ticks\":\"\"}},\"type\":\"scatter\"}],\"scatter3d\":[{\"line\":{\"colorbar\":{\"outlinewidth\":0,\"ticks\":\"\"}},\"marker\":{\"colorbar\":{\"outlinewidth\":0,\"ticks\":\"\"}},\"type\":\"scatter3d\"}],\"scattercarpet\":[{\"marker\":{\"colorbar\":{\"outlinewidth\":0,\"ticks\":\"\"}},\"type\":\"scattercarpet\"}],\"scattergeo\":[{\"marker\":{\"colorbar\":{\"outlinewidth\":0,\"ticks\":\"\"}},\"type\":\"scattergeo\"}],\"scattergl\":[{\"marker\":{\"colorbar\":{\"outlinewidth\":0,\"ticks\":\"\"}},\"type\":\"scattergl\"}],\"scattermapbox\":[{\"marker\":{\"colorbar\":{\"outlinewidth\":0,\"ticks\":\"\"}},\"type\":\"scattermapbox\"}],\"scatterpolar\":[{\"marker\":{\"colorbar\":{\"outlinewidth\":0,\"ticks\":\"\"}},\"type\":\"scatterpolar\"}],\"scatterpolargl\":[{\"marker\":{\"colorbar\":{\"outlinewidth\":0,\"ticks\":\"\"}},\"type\":\"scatterpolargl\"}],\"scatterternary\":[{\"marker\":{\"colorbar\":{\"outlinewidth\":0,\"ticks\":\"\"}},\"type\":\"scatterternary\"}],\"surface\":[{\"colorbar\":{\"outlinewidth\":0,\"ticks\":\"\"},\"colorscale\":[[0.0,\"#0d0887\"],[0.1111111111111111,\"#46039f\"],[0.2222222222222222,\"#7201a8\"],[0.3333333333333333,\"#9c179e\"],[0.4444444444444444,\"#bd3786\"],[0.5555555555555556,\"#d8576b\"],[0.6666666666666666,\"#ed7953\"],[0.7777777777777778,\"#fb9f3a\"],[0.8888888888888888,\"#fdca26\"],[1.0,\"#f0f921\"]],\"type\":\"surface\"}],\"table\":[{\"cells\":{\"fill\":{\"color\":\"#EBF0F8\"},\"line\":{\"color\":\"white\"}},\"header\":{\"fill\":{\"color\":\"#C8D4E3\"},\"line\":{\"color\":\"white\"}},\"type\":\"table\"}]},\"layout\":{\"annotationdefaults\":{\"arrowcolor\":\"#2a3f5f\",\"arrowhead\":0,\"arrowwidth\":1},\"autotypenumbers\":\"strict\",\"coloraxis\":{\"colorbar\":{\"outlinewidth\":0,\"ticks\":\"\"}},\"colorscale\":{\"diverging\":[[0,\"#8e0152\"],[0.1,\"#c51b7d\"],[0.2,\"#de77ae\"],[0.3,\"#f1b6da\"],[0.4,\"#fde0ef\"],[0.5,\"#f7f7f7\"],[0.6,\"#e6f5d0\"],[0.7,\"#b8e186\"],[0.8,\"#7fbc41\"],[0.9,\"#4d9221\"],[1,\"#276419\"]],\"sequential\":[[0.0,\"#0d0887\"],[0.1111111111111111,\"#46039f\"],[0.2222222222222222,\"#7201a8\"],[0.3333333333333333,\"#9c179e\"],[0.4444444444444444,\"#bd3786\"],[0.5555555555555556,\"#d8576b\"],[0.6666666666666666,\"#ed7953\"],[0.7777777777777778,\"#fb9f3a\"],[0.8888888888888888,\"#fdca26\"],[1.0,\"#f0f921\"]],\"sequentialminus\":[[0.0,\"#0d0887\"],[0.1111111111111111,\"#46039f\"],[0.2222222222222222,\"#7201a8\"],[0.3333333333333333,\"#9c179e\"],[0.4444444444444444,\"#bd3786\"],[0.5555555555555556,\"#d8576b\"],[0.6666666666666666,\"#ed7953\"],[0.7777777777777778,\"#fb9f3a\"],[0.8888888888888888,\"#fdca26\"],[1.0,\"#f0f921\"]]},\"colorway\":[\"#636efa\",\"#EF553B\",\"#00cc96\",\"#ab63fa\",\"#FFA15A\",\"#19d3f3\",\"#FF6692\",\"#B6E880\",\"#FF97FF\",\"#FECB52\"],\"font\":{\"color\":\"#2a3f5f\"},\"geo\":{\"bgcolor\":\"white\",\"lakecolor\":\"white\",\"landcolor\":\"#E5ECF6\",\"showlakes\":true,\"showland\":true,\"subunitcolor\":\"white\"},\"hoverlabel\":{\"align\":\"left\"},\"hovermode\":\"closest\",\"mapbox\":{\"style\":\"light\"},\"paper_bgcolor\":\"white\",\"plot_bgcolor\":\"#E5ECF6\",\"polar\":{\"angularaxis\":{\"gridcolor\":\"white\",\"linecolor\":\"white\",\"ticks\":\"\"},\"bgcolor\":\"#E5ECF6\",\"radialaxis\":{\"gridcolor\":\"white\",\"linecolor\":\"white\",\"ticks\":\"\"}},\"scene\":{\"xaxis\":{\"backgroundcolor\":\"#E5ECF6\",\"gridcolor\":\"white\",\"gridwidth\":2,\"linecolor\":\"white\",\"showbackground\":true,\"ticks\":\"\",\"zerolinecolor\":\"white\"},\"yaxis\":{\"backgroundcolor\":\"#E5ECF6\",\"gridcolor\":\"white\",\"gridwidth\":2,\"linecolor\":\"white\",\"showbackground\":true,\"ticks\":\"\",\"zerolinecolor\":\"white\"},\"zaxis\":{\"backgroundcolor\":\"#E5ECF6\",\"gridcolor\":\"white\",\"gridwidth\":2,\"linecolor\":\"white\",\"showbackground\":true,\"ticks\":\"\",\"zerolinecolor\":\"white\"}},\"shapedefaults\":{\"line\":{\"color\":\"#2a3f5f\"}},\"ternary\":{\"aaxis\":{\"gridcolor\":\"white\",\"linecolor\":\"white\",\"ticks\":\"\"},\"baxis\":{\"gridcolor\":\"white\",\"linecolor\":\"white\",\"ticks\":\"\"},\"bgcolor\":\"#E5ECF6\",\"caxis\":{\"gridcolor\":\"white\",\"linecolor\":\"white\",\"ticks\":\"\"}},\"title\":{\"x\":0.05},\"xaxis\":{\"automargin\":true,\"gridcolor\":\"white\",\"linecolor\":\"white\",\"ticks\":\"\",\"title\":{\"standoff\":15},\"zerolinecolor\":\"white\",\"zerolinewidth\":2},\"yaxis\":{\"automargin\":true,\"gridcolor\":\"white\",\"linecolor\":\"white\",\"ticks\":\"\",\"title\":{\"standoff\":15},\"zerolinecolor\":\"white\",\"zerolinewidth\":2}}},\"xaxis\":{\"anchor\":\"y\",\"domain\":[0.0,1.0],\"title\":{\"text\":\"datetime_hr\"}},\"yaxis\":{\"anchor\":\"x\",\"domain\":[0.0,1.0],\"title\":{\"text\":\"tx_fee_usd\"},\"tickprefix\":\"$\"},\"annotations\":[{\"font\":{},\"showarrow\":false,\"text\":\"tx_type=uniswap_v3\",\"x\":0.5,\"xanchor\":\"center\",\"xref\":\"paper\",\"y\":1.0,\"yanchor\":\"bottom\",\"yref\":\"paper\"}],\"legend\":{\"title\":{\"text\":\"chain\"},\"tracegroupgap\":0},\"margin\":{\"t\":60},\"hovermode\":\"x\"},                        {\"responsive\": true}                    ).then(function(){\n",
       "                            \n",
       "var gd = document.getElementById('5f83aabe-c74e-4d67-9c43-5f1ccaeb6c03');\n",
       "var x = new MutationObserver(function (mutations, observer) {{\n",
       "        var display = window.getComputedStyle(gd).display;\n",
       "        if (!display || display === 'none') {{\n",
       "            console.log([gd, 'removed!']);\n",
       "            Plotly.purge(gd);\n",
       "            observer.disconnect();\n",
       "        }}\n",
       "}});\n",
       "\n",
       "// Listen for the removal of the full notebook cells\n",
       "var notebookContainer = gd.closest('#notebook-container');\n",
       "if (notebookContainer) {{\n",
       "    x.observe(notebookContainer, {childList: true});\n",
       "}}\n",
       "\n",
       "// Listen for the clearing of the current output cell\n",
       "var outputEl = gd.closest('.output');\n",
       "if (outputEl) {{\n",
       "    x.observe(outputEl, {childList: true});\n",
       "}}\n",
       "\n",
       "                        })                };                });            </script>        </div>"
      ]
     },
     "metadata": {},
     "output_type": "display_data"
    },
    {
     "data": {
      "image/png": "[encoded data removed]"
     },
     "metadata": {},
     "output_type": "display_data"
    }
   ],
   "source": [
    "agg_fees = chain_transaction_data #copy\n",
    "agg_fees['chain_tx_type'] = agg_fees['chain'] + ': ' + agg_fees['tx_type']\n",
    "agg_fees['datetime_hr'] = agg_fees['datetime'].dt.floor('h')\n",
    "agg_fees = agg_fees[['chain','tx_type','datetime_hr','tx_fee_eth']]\n",
    "agg_fees = agg_fees.groupby( ['chain','tx_type','datetime_hr'] ).mean().reset_index()\n",
    "agg_fees['tx_fee_usd'] = agg_fees['tx_fee_eth']*eth_price\n",
    "# agg_fees = agg_fees[['chain', 'tx_type','datetime_hr','tx_fee_eth']]\n",
    "# agg_fees = agg_fees.pivot(index = 'datetime_hr', columns = [\"chain\",\"tx_type\"], values = 'tx_fee_eth')\n",
    "\n",
    "agg_fees = agg_fees[agg_fees['chain'] != 'Ethereum']\n",
    "swap_agg_fees = agg_fees[agg_fees['tx_type'] == 'uniswap_v3']\n",
    "\n",
    "#at current eth price\n",
    "fig = px.line(swap_agg_fees, x=\"datetime_hr\", y=\"tx_fee_usd\", color='chain', facet_col='tx_type')\n",
    "fig.update_traces(hovertemplate=None)\n",
    "fig.update_layout(yaxis_tickprefix = '$', hovermode='x')\n",
    "fig.show()\n",
    "fig.show(\"png\")\n",
    "\n",
    "#agg_fees = agg_fees[['tx_fee_eth']]\n",
    "#agg_fees.plot()"
   ]
  }
 ],
 "metadata": {
  "kernelspec": {
   "display_name": "Python 3 (ipykernel)",
   "language": "python",
   "name": "python3"
  },
  "language_info": {
   "codemirror_mode": {
    "name": "ipython",
    "version": 3
   },
   "file_extension": ".py",
   "mimetype": "text/x-python",
   "name": "python",
   "nbconvert_exporter": "python",
   "pygments_lexer": "ipython3",
   "version": "3.8.12"
  }
 },
 "nbformat": 4,
 "nbformat_minor": 5
}
