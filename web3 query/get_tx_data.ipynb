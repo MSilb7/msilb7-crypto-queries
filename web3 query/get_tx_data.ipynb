{
 "cells": [
  {
   "cell_type": "code",
   "execution_count": 3,
   "metadata": {},
   "outputs": [],
   "source": [
    "from web3 import Web3\n",
    "\n",
    "from dotenv import load_dotenv\n",
    "import os\n",
    "\n",
    "# Load environment variables from the .env file\n",
    "load_dotenv()\n",
    "\n",
    "# Get the URL of the HTTP provider from the environment variable\n",
    "http_provider = os.getenv('ALCHEMY_OPGOERLI')\n",
    "\n",
    "tx_hash = '0x238dadf95c412303f8de48c50a5fa2873cc8d7d46ce18b433e88c7a9d763c166' #random op goerli tx"
   ]
  },
  {
   "cell_type": "code",
   "execution_count": 4,
   "metadata": {},
   "outputs": [
    {
     "name": "stdout",
     "output_type": "stream",
     "text": [
      "Transaction receipt:\n",
      "AttributeDict({'transactionHash': HexBytes('0x238dadf95c412303f8de48c50a5fa2873cc8d7d46ce18b433e88c7a9d763c166'), 'blockHash': HexBytes('0xcd7c57c8f765d36c49a439c28b3c267d02e48a411774615f4c12e39b216dc2ff'), 'blockNumber': 8156568, 'logs': [AttributeDict({'transactionHash': HexBytes('0x238dadf95c412303f8de48c50a5fa2873cc8d7d46ce18b433e88c7a9d763c166'), 'address': '0x00bE1074e0D5a295831fD0Df382E536735e7C65B', 'blockHash': HexBytes('0xcd7c57c8f765d36c49a439c28b3c267d02e48a411774615f4c12e39b216dc2ff'), 'blockNumber': 8156568, 'data': '0x000000000000000000000000dac73bbc7ab317b64fd38dc1490fb33264facb4b000000000000000000000000000000000000000000000000000002ae9342e5c0000000000000000000000000000000000005ada29106d0f85382e5ad0800000000000000000000000000000000000000000000000000000000000000000050c90000000000000000000000000000000000000000000000000000000000000f69', 'logIndex': 0, 'removed': False, 'topics': [HexBytes('0x23b9387f81fca646aac1dc4487ede045c65f5f7445482906565f01e05afdb3a8')], 'transactionIndex': 1}), AttributeDict({'transactionHash': HexBytes('0x238dadf95c412303f8de48c50a5fa2873cc8d7d46ce18b433e88c7a9d763c166'), 'address': '0xd2aB0823549C9F16319276D0DAe6F3E2ED52c28D', 'blockHash': HexBytes('0xcd7c57c8f765d36c49a439c28b3c267d02e48a411774615f4c12e39b216dc2ff'), 'blockNumber': 8156568, 'data': '0x000000000000000000000000dac73bbc7ab317b64fd38dc1490fb33264facb4b000000000000000000000000000000000005ae356546e1d2851635577000000000000000000000000000000000be1074e0d5a295831fd0df382e536735e7c65b', 'logIndex': 1, 'removed': False, 'topics': [HexBytes('0xc37a77b91cc3fc2d0e4b43fd2f347ec67adda10e39215de4742836cc3e42c97a')], 'transactionIndex': 1}), AttributeDict({'transactionHash': HexBytes('0x238dadf95c412303f8de48c50a5fa2873cc8d7d46ce18b433e88c7a9d763c166'), 'address': '0x00bE1074e0D5a295831fD0Df382E536735e7C65B', 'blockHash': HexBytes('0xcd7c57c8f765d36c49a439c28b3c267d02e48a411774615f4c12e39b216dc2ff'), 'blockNumber': 8156568, 'data': '0x000000000000000000000000b9b5d39ec0a9996ec0d92f2fcf6c8b51a51b2d57000000000000000000000000000000000000000000000000000000304a0790c0000000000000000000000000000000000000665344c4d59aaafe4995f800000000000000000000000000000000000000000000000000000000000000000000000000000000000000000000000000000000000000000000000000000000001fd8', 'logIndex': 2, 'removed': False, 'topics': [HexBytes('0x23b9387f81fca646aac1dc4487ede045c65f5f7445482906565f01e05afdb3a8')], 'transactionIndex': 1}), AttributeDict({'transactionHash': HexBytes('0x238dadf95c412303f8de48c50a5fa2873cc8d7d46ce18b433e88c7a9d763c166'), 'address': '0xd2aB0823549C9F16319276D0DAe6F3E2ED52c28D', 'blockHash': HexBytes('0xcd7c57c8f765d36c49a439c28b3c267d02e48a411774615f4c12e39b216dc2ff'), 'blockNumber': 8156568, 'data': '0x000000000000000000000000b9b5d39ec0a9996ec0d92f2fcf6c8b51a51b2d5700000000000000000000000000000000000066689fea6e4af10ddc235800000000000000000000000000000000be1074e0d5a295831fd0df382e536735e7c65b', 'logIndex': 3, 'removed': False, 'topics': [HexBytes('0xc37a77b91cc3fc2d0e4b43fd2f347ec67adda10e39215de4742836cc3e42c97a')], 'transactionIndex': 1}), AttributeDict({'transactionHash': HexBytes('0x238dadf95c412303f8de48c50a5fa2873cc8d7d46ce18b433e88c7a9d763c166'), 'address': '0x00bE1074e0D5a295831fD0Df382E536735e7C65B', 'blockHash': HexBytes('0xcd7c57c8f765d36c49a439c28b3c267d02e48a411774615f4c12e39b216dc2ff'), 'blockNumber': 8156568, 'data': '0x00000000000000000000000035064d1d440fe72c08d56c502b277ca9604037ef0000000000000000000000000000000000000000000000000000000030938cb300000000000000000000000000000000000000669d72614b5b888e3fd000000000000000000000000000000000000000000000000000000000000000000051640000000000000000000000000000000000000000000000000000000000006e82', 'logIndex': 4, 'removed': False, 'topics': [HexBytes('0x23b9387f81fca646aac1dc4487ede045c65f5f7445482906565f01e05afdb3a8')], 'transactionIndex': 1}), AttributeDict({'transactionHash': HexBytes('0x238dadf95c412303f8de48c50a5fa2873cc8d7d46ce18b433e88c7a9d763c166'), 'address': '0xd2aB0823549C9F16319276D0DAe6F3E2ED52c28D', 'blockHash': HexBytes('0xcd7c57c8f765d36c49a439c28b3c267d02e48a411774615f4c12e39b216dc2ff'), 'blockNumber': 8156568, 'data': '0x00000000000000000000000035064d1d440fe72c08d56c502b277ca9604037ef0000000000000000000000000000000000000066e7c388bdb74413b8a800000000000000000000000000000000be1074e0d5a295831fd0df382e536735e7c65b', 'logIndex': 5, 'removed': False, 'topics': [HexBytes('0xc37a77b91cc3fc2d0e4b43fd2f347ec67adda10e39215de4742836cc3e42c97a')], 'transactionIndex': 1})], 'contractAddress': None, 'effectiveGasPrice': 10000000, 'cumulativeGasUsed': 240922, 'from': '0xa4424848AaD995b096Bd21704cb3b1C1BCd51147', 'gasUsed': 194009, 'logsBloom': HexBytes('0x00000000000000000000000000000002000000000000000000008000000000000000000000000000000000000000000000000000000000000000000000000000000000000000000000000000000020000000000000000000000000000000000000000000000000000000000000000000008000000000000000000000000000000000000000000010000000000000000000000000000002000000000000000000000000100000400000000000000000000000000000000000000000000000000000000000000000000000000000000000000004000000000040000000000000000000000000800000000000004000000000000000000000000000000000000000'), 'status': 1, 'to': '0x00bE1074e0D5a295831fD0Df382E536735e7C65B', 'transactionIndex': 1, 'type': '0x0', 'l1Fee': '0x120b912367418', 'l1FeeScalar': '1', 'l1GasPrice': '0x11491ab6de', 'l1GasUsed': '0x880'})\n",
      "Transaction response:\n",
      "AttributeDict({'blockHash': HexBytes('0xcd7c57c8f765d36c49a439c28b3c267d02e48a411774615f4c12e39b216dc2ff'), 'blockNumber': 8156568, 'hash': HexBytes('0x238dadf95c412303f8de48c50a5fa2873cc8d7d46ce18b433e88c7a9d763c166'), 'chainId': '0x1a4', 'from': '0xa4424848AaD995b096Bd21704cb3b1C1BCd51147', 'gas': 6696028, 'gasPrice': 10000000, 'input': '0x17835d1c000000000000000000000000000000000000000000001fd9001fb1a701c20e4600000000000000000000000000000000000000000000000000000000643d5590', 'nonce': 66105, 'r': HexBytes('0xc46d736a2bd1fdc1964b3c9a87fb96368d30b7c94f9d1aaa944aa6ed291621c8'), 's': HexBytes('0x5c994e5156d5e955c4aab5098215ba4d2c39ab66fb6d26fd96a4f71e1cfc0bd8'), 'to': '0x00bE1074e0D5a295831fD0Df382E536735e7C65B', 'transactionIndex': 1, 'type': '0x0', 'v': 875, 'value': 0})\n",
      "Block number: 8156568\n",
      "Block gas limit: 25000000\n"
     ]
    }
   ],
   "source": [
    "# Connect to an Ethereum node\n",
    "w3 = Web3(Web3.HTTPProvider(http_provider))\n",
    "\n",
    "tx_receipt = w3.eth.wait_for_transaction_receipt(tx_hash)\n",
    "tx_response = w3.eth.getTransaction(tx_hash)\n",
    "\n",
    "block_number = tx_receipt['blockNumber']\n",
    "block_gas_limit = w3.eth.getBlock(block_number)['gasLimit']\n",
    "\n",
    "print('Transaction receipt:')\n",
    "print(tx_receipt)\n",
    "print('Transaction response:')\n",
    "print(tx_response)\n",
    "\n",
    "print('Block number:', block_number)\n",
    "print('Block gas limit:', block_gas_limit)\n"
   ]
  }
 ],
 "metadata": {
  "kernelspec": {
   "display_name": "py10",
   "language": "python",
   "name": "python3"
  },
  "language_info": {
   "codemirror_mode": {
    "name": "ipython",
    "version": 3
   },
   "file_extension": ".py",
   "mimetype": "text/x-python",
   "name": "python",
   "nbconvert_exporter": "python",
   "pygments_lexer": "ipython3",
   "version": "3.10.8"
  },
  "orig_nbformat": 4
 },
 "nbformat": 4,
 "nbformat_minor": 2
}
