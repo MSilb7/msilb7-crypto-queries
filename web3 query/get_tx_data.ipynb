{
 "cells": [
  {
   "cell_type": "code",
   "execution_count": 1,
   "metadata": {},
   "outputs": [],
   "source": [
    "from web3 import Web3\n",
    "\n",
    "from dotenv import load_dotenv\n",
    "import os\n",
    "\n",
    "# Load environment variables from the .env file\n",
    "load_dotenv()\n",
    "\n",
    "# Get the URL of the HTTP provider from the environment variable\n",
    "http_provider = os.getenv('ALCHEMY_OPGOERLI')\n",
    "\n",
    "tx_hash = '0x238dadf95c412303f8de48c50a5fa2873cc8d7d46ce18b433e88c7a9d763c166'"
   ]
  },
  {
   "cell_type": "code",
   "execution_count": 2,
   "metadata": {},
   "outputs": [
    {
     "name": "stdout",
     "output_type": "stream",
     "text": [
      "Transaction receipt:\n",
      "AttributeDict({'root': '0xe3b5eb643e57157f2723d3325d66ab71c76ecd82a081ad099f49bc8a7df70f1e', 'cumulativeGasUsed': 311587, 'logsBloom': HexBytes('0x00000009000000000000000000000000000000000000000000000000008000000000000040000000400000000000000000000000000020000100000000201000000000000000000800000008800000000000000000400004000000000000000000000000000800000000280000000000000000000020040000000010000801000000000000000000200000040000000000000000200000000000000002000000020004000000000000000000000000000000000000000000000000000000000000000042001000000200080010000208000000000000000000000002000000000010000000002000004000000000000000000002000000000000000000000100'), 'logs': [AttributeDict({'address': '0x1247B70c4b41890E8c1836E88DD0C8e3B23Dd60e', 'topics': [HexBytes('0x598b9f043c813aa6be3426ca60d1c65d17256312890be5118dab55b0775ebe2a')], 'data': '0x0000000000000000000000000000000000000000000000000000000000000790', 'blockNumber': 127050, 'transactionHash': HexBytes('0x547623f4ee526c0b669d48f46f2d13b416d1c85d00e45698d27acc03ecfe3608'), 'transactionIndex': 0, 'blockHash': HexBytes('0x7ea1dfc46ef7d79f94591cf30813df314861a6efa322d5eb3dca0b9fb6de49a5'), 'logIndex': 71, 'removed': False}), AttributeDict({'address': '0xA8CE8aee21bC2A48a5EF670afCc9274C7bbbC035', 'topics': [HexBytes('0xddf252ad1be2c89b69c2b068fc378daa952ba7f163c4a11628f55a4df523b3ef'), HexBytes('0x0000000000000000000000001247b70c4b41890e8c1836e88dd0c8e3b23dd60e'), HexBytes('0x000000000000000000000000f6ad3ccf71abb3e12becf6b3d2a74c963859adcd')], 'data': '0x0000000000000000000000000000000000000000000000000000000000ff0380', 'blockNumber': 127050, 'transactionHash': HexBytes('0x547623f4ee526c0b669d48f46f2d13b416d1c85d00e45698d27acc03ecfe3608'), 'transactionIndex': 0, 'blockHash': HexBytes('0x7ea1dfc46ef7d79f94591cf30813df314861a6efa322d5eb3dca0b9fb6de49a5'), 'logIndex': 72, 'removed': False}), AttributeDict({'address': '0x68286607A1d43602d880D349187c3c48c0fD05E6', 'topics': [HexBytes('0x8c5be1e5ebec7d5bd14f71427d1e84f3dd0314c0f7b2291e5b200ac8c7c3b925'), HexBytes('0x000000000000000000000000f6d2f1025d2b78233b1ffa58f604181313d02852'), HexBytes('0x000000000000000000000000f6ad3ccf71abb3e12becf6b3d2a74c963859adcd')], 'data': '0x0000000000000000000000000000000000000000000000000000000000000000', 'blockNumber': 127050, 'transactionHash': HexBytes('0x547623f4ee526c0b669d48f46f2d13b416d1c85d00e45698d27acc03ecfe3608'), 'transactionIndex': 0, 'blockHash': HexBytes('0x7ea1dfc46ef7d79f94591cf30813df314861a6efa322d5eb3dca0b9fb6de49a5'), 'logIndex': 73, 'removed': False}), AttributeDict({'address': '0x68286607A1d43602d880D349187c3c48c0fD05E6', 'topics': [HexBytes('0xddf252ad1be2c89b69c2b068fc378daa952ba7f163c4a11628f55a4df523b3ef'), HexBytes('0x000000000000000000000000f6d2f1025d2b78233b1ffa58f604181313d02852'), HexBytes('0x0000000000000000000000001247b70c4b41890e8c1836e88dd0c8e3b23dd60e')], 'data': '0x00000000000000000000000000000000000000000000000c2698e744fccbbb76', 'blockNumber': 127050, 'transactionHash': HexBytes('0x547623f4ee526c0b669d48f46f2d13b416d1c85d00e45698d27acc03ecfe3608'), 'transactionIndex': 0, 'blockHash': HexBytes('0x7ea1dfc46ef7d79f94591cf30813df314861a6efa322d5eb3dca0b9fb6de49a5'), 'logIndex': 74, 'removed': False}), AttributeDict({'address': '0x1247B70c4b41890E8c1836E88DD0C8e3B23Dd60e', 'topics': [HexBytes('0xc42079f94a6350d7e6235f29174924f928cc2ac818eb64fed8004e115fbcca67'), HexBytes('0x000000000000000000000000f6ad3ccf71abb3e12becf6b3d2a74c963859adcd'), HexBytes('0x000000000000000000000000f6ad3ccf71abb3e12becf6b3d2a74c963859adcd')], 'data': '0x00000000000000000000000000000000000000000000000c2698e744fccbbb76ffffffffffffffffffffffffffffffffffffffffffffffffffffffffff00fc800000000000000000000000000000000000000000000004958ef169b9678e0294000000000000000000000000000000000000000000000000015b18121adc7604fffffffffffffffffffffffffffffffffffffffffffffffffffffffffffb633e', 'blockNumber': 127050, 'transactionHash': HexBytes('0x547623f4ee526c0b669d48f46f2d13b416d1c85d00e45698d27acc03ecfe3608'), 'transactionIndex': 0, 'blockHash': HexBytes('0x7ea1dfc46ef7d79f94591cf30813df314861a6efa322d5eb3dca0b9fb6de49a5'), 'logIndex': 75, 'removed': False}), AttributeDict({'address': '0x4F9A0e7FD2Bf6067db6994CF12E4495Df938E6e9', 'topics': [HexBytes('0xddf252ad1be2c89b69c2b068fc378daa952ba7f163c4a11628f55a4df523b3ef'), HexBytes('0x000000000000000000000000c44ad482f24fd750caeba387d2726d8653f8c4bb'), HexBytes('0x000000000000000000000000f6ad3ccf71abb3e12becf6b3d2a74c963859adcd')], 'data': '0x000000000000000000000000000000000000000000000000001c32832c30ce19', 'blockNumber': 127050, 'transactionHash': HexBytes('0x547623f4ee526c0b669d48f46f2d13b416d1c85d00e45698d27acc03ecfe3608'), 'transactionIndex': 0, 'blockHash': HexBytes('0x7ea1dfc46ef7d79f94591cf30813df314861a6efa322d5eb3dca0b9fb6de49a5'), 'logIndex': 76, 'removed': False}), AttributeDict({'address': '0xA8CE8aee21bC2A48a5EF670afCc9274C7bbbC035', 'topics': [HexBytes('0xddf252ad1be2c89b69c2b068fc378daa952ba7f163c4a11628f55a4df523b3ef'), HexBytes('0x000000000000000000000000f6ad3ccf71abb3e12becf6b3d2a74c963859adcd'), HexBytes('0x000000000000000000000000c44ad482f24fd750caeba387d2726d8653f8c4bb')], 'data': '0x0000000000000000000000000000000000000000000000000000000000ff0380', 'blockNumber': 127050, 'transactionHash': HexBytes('0x547623f4ee526c0b669d48f46f2d13b416d1c85d00e45698d27acc03ecfe3608'), 'transactionIndex': 0, 'blockHash': HexBytes('0x7ea1dfc46ef7d79f94591cf30813df314861a6efa322d5eb3dca0b9fb6de49a5'), 'logIndex': 77, 'removed': False}), AttributeDict({'address': '0xc44AD482f24fd750cAeBa387d2726d8653F8c4bB', 'topics': [HexBytes('0xc42079f94a6350d7e6235f29174924f928cc2ac818eb64fed8004e115fbcca67'), HexBytes('0x000000000000000000000000f6ad3ccf71abb3e12becf6b3d2a74c963859adcd'), HexBytes('0x000000000000000000000000f6ad3ccf71abb3e12becf6b3d2a74c963859adcd')], 'data': '0xffffffffffffffffffffffffffffffffffffffffffffffffffe3cd7cd3cf31e70000000000000000000000000000000000000000000000000000000000ff038000000000000000000000000000000000000000000003004f06625dd717fbad6100000000000000000000000000000000000000000000000000b4a28e7b9d67bbfffffffffffffffffffffffffffffffffffffffffffffffffffffffffffcf363', 'blockNumber': 127050, 'transactionHash': HexBytes('0x547623f4ee526c0b669d48f46f2d13b416d1c85d00e45698d27acc03ecfe3608'), 'transactionIndex': 0, 'blockHash': HexBytes('0x7ea1dfc46ef7d79f94591cf30813df314861a6efa322d5eb3dca0b9fb6de49a5'), 'logIndex': 78, 'removed': False}), AttributeDict({'address': '0x4F9A0e7FD2Bf6067db6994CF12E4495Df938E6e9', 'topics': [HexBytes('0x7fcf532c15f0a6db0bd6d0e038bea71d30d808c7d98cb3bf7268a95bf5081b65'), HexBytes('0x000000000000000000000000f6ad3ccf71abb3e12becf6b3d2a74c963859adcd')], 'data': '0x000000000000000000000000000000000000000000000000001c32832c30ce19', 'blockNumber': 127050, 'transactionHash': HexBytes('0x547623f4ee526c0b669d48f46f2d13b416d1c85d00e45698d27acc03ecfe3608'), 'transactionIndex': 0, 'blockHash': HexBytes('0x7ea1dfc46ef7d79f94591cf30813df314861a6efa322d5eb3dca0b9fb6de49a5'), 'logIndex': 79, 'removed': False})], 'status': 1, 'transactionHash': HexBytes('0x547623f4ee526c0b669d48f46f2d13b416d1c85d00e45698d27acc03ecfe3608'), 'transactionIndex': 0, 'blockHash': HexBytes('0x7ea1dfc46ef7d79f94591cf30813df314861a6efa322d5eb3dca0b9fb6de49a5'), 'blockNumber': 127050, 'gasUsed': 311587, 'from': '0xF6D2f1025d2b78233b1FFa58F604181313d02852', 'to': '0xF6Ad3CcF71Abb3E12beCf6b3D2a74C963859ADCd', 'contractAddress': None, 'type': '0x0'})\n",
      "Transaction response:\n",
      "AttributeDict({'nonce': 24, 'gasPrice': 3530000000, 'gas': 422475, 'to': '0xF6Ad3CcF71Abb3E12beCf6b3D2a74C963859ADCd', 'value': 0, 'input': '0xac9650d800000000000000000000000000000000000000000000000000000000000000200000000000000000000000000000000000000000000000000000000000000002000000000000000000000000000000000000000000000000000000000000004000000000000000000000000000000000000000000000000000000000000001a00000000000000000000000000000000000000000000000000000000000000124c04b8d59000000000000000000000000000000000000000000000000000000000000002000000000000000000000000000000000000000000000000000000000000000a00000000000000000000000000000000000000000000000000000000000000000000000000000000000000000000000000000000000000000000000006439f71700000000000000000000000000000000000000000000000c2698e744fccbbb76000000000000000000000000000000000000000000000000001c0e997205423f000000000000000000000000000000000000000000000000000000000000003c68286607a1d43602d880d349187c3c48c0fd05e6a8ce8aee21bc2a48a5ef670afcc9274c7bbbc0354f9a0e7fd2bf6067db6994cf12e4495df938e6e90000000000000000000000000000000000000000000000000000000000000000000000000000000000000000000000000000000000000000000000000000004469bc35b2000000000000000000000000000000000000000000000000001c0e997205423f000000000000000000000000f6d2f1025d2b78233b1ffa58f604181313d0285200000000000000000000000000000000000000000000000000000000', 'v': 2238, 'r': HexBytes('0x07363d683e834ae1f8d3533e704bbfbd72320fb2fb81fd3706f624fe4da9b447'), 's': HexBytes('0x44a309cb86f8d29d560041d754b21da4a7524e3794849e832be34076f81dad9f'), 'hash': HexBytes('0x547623f4ee526c0b669d48f46f2d13b416d1c85d00e45698d27acc03ecfe3608'), 'from': '0xF6D2f1025d2b78233b1FFa58F604181313d02852', 'blockHash': HexBytes('0x7ea1dfc46ef7d79f94591cf30813df314861a6efa322d5eb3dca0b9fb6de49a5'), 'blockNumber': 127050, 'transactionIndex': 0, 'chainId': '0x44d', 'type': '0x0'})\n"
     ]
    }
   ],
   "source": [
    "# Connect to an Ethereum node\n",
    "w3 = Web3(Web3.HTTPProvider(http_provider))\n",
    "\n",
    "tx_receipt = w3.eth.wait_for_transaction_receipt(tx_hash)\n",
    "tx_response = w3.eth.getTransaction(tx_hash)\n",
    "\n",
    "block_number = tx_receipt['blockNumber']\n",
    "block_gas_limit = w3.eth.getBlock(block_number)['gasLimit']\n",
    "\n",
    "print('Transaction receipt:')\n",
    "print(tx_receipt)\n",
    "print('Transaction response:')\n",
    "print(tx_response)\n",
    "\n",
    "print('Block number:', block_number)\n",
    "print('Block gas limit:', block_gas_limit)\n"
   ]
  }
 ],
 "metadata": {
  "kernelspec": {
   "display_name": "py10",
   "language": "python",
   "name": "python3"
  },
  "language_info": {
   "codemirror_mode": {
    "name": "ipython",
    "version": 3
   },
   "file_extension": ".py",
   "mimetype": "text/x-python",
   "name": "python",
   "nbconvert_exporter": "python",
   "pygments_lexer": "ipython3",
   "version": "3.10.8"
  },
  "orig_nbformat": 4
 },
 "nbformat": 4,
 "nbformat_minor": 2
}
