{
 "cells": [
  {
   "cell_type": "code",
   "execution_count": 4,
   "id": "22330ffb",
   "metadata": {},
   "outputs": [],
   "source": [
    "import requests\n",
    "import pandas as pd\n",
    "from datetime import datetime, timedelta\n",
    "from configparser import ConfigParser\n",
    "\n",
    "config = ConfigParser()\n",
    "config.read('../config.ini')\n",
    "etherscan_api = str(config.get('ETHERSCAN','etherscan_api'))\n",
    "#header for parsing\n",
    "headers = {'User-Agent': 'Mozilla/5.0 (Macintosh; Intel Mac OS X 10_11_5) AppleWebKit/537.36 (KHTML, like Gecko) Chrome/50.0.2661.102 Safari/537.36'}\n"
   ]
  },
  {
   "cell_type": "code",
   "execution_count": 5,
   "id": "4a84c95d",
   "metadata": {},
   "outputs": [],
   "source": [
    "# get latest block number #Etherscan\n",
    "def get_latest_block(chain_name):\n",
    "    block_num = ''\n",
    "    api_str = str(config.get('ETHERSCAN',chain_name)) + 'api' \\\n",
    "       '?module=proxy&action=eth_blockNumber&apikey=' + etherscan_api\n",
    "    block_num = requests.get(api_str,headers=headers).json()['result']\n",
    "    return block_num\n",
    "\n",
    "def get_latest_block_info(chain_name):\n",
    "    api_str = str(config.get('ETHERSCAN',chain_name)) + 'api' \\\n",
    "       '?module=proxy&action=eth_getBlockByNumber&tag=' + get_latest_block(chain_name) \\\n",
    "        + '&boolean=true&apikey=' + etherscan_api\n",
    "    \n",
    "    block_info = requests.get(api_str,headers=headers).json()\n",
    "    return block_info\n",
    "\n",
    "# get block from trailing time # Etherscan\n",
    "def get_block_by_timestamp(input_time, chain_name):\n",
    "    block_num = ''\n",
    "    api_str = str(config.get('ETHERSCAN',chain_name)) + 'api' + \\\n",
    "       '?module=block&action=getblocknobytime&timestamp=' + str(input_time) + \\\n",
    "       '&closest=before&apikey=' + etherscan_api\n",
    "    block_num = requests.get(api_str,headers=headers).json()['result']\n",
    "    #print(chain_name + ': ' + str(block_num))\n",
    "    return block_num\n",
    "    \n",
    "\n",
    "# get contract transactions, given a start and end block\n",
    "def get_address_transactions_by_block_range(start_block, end_block, address, chain_name):\n",
    "        transactions = ''\n",
    "        api_str = str(config.get('ETHERSCAN',chain_name)) + 'api' \\\n",
    "            '?module=account&action=txlist&address=' + str(address) + '&startblock=' \\\n",
    "            + str(start_block) + '&endblock=' + str(end_block) +'&sort=desc&apikey=' + str(etherscan_api)\n",
    "        result = requests.get(api_str,headers=headers).json()['result']\n",
    "        return result\n"
   ]
  }
 ],
 "metadata": {
  "kernelspec": {
   "display_name": "Python 3",
   "language": "python",
   "name": "python3"
  },
  "language_info": {
   "codemirror_mode": {
    "name": "ipython",
    "version": 3
   },
   "file_extension": ".py",
   "mimetype": "text/x-python",
   "name": "python",
   "nbconvert_exporter": "python",
   "pygments_lexer": "ipython3",
   "version": "3.8.8"
  }
 },
 "nbformat": 4,
 "nbformat_minor": 5
}
