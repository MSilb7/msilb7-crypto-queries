{
 "cells": [
  {
   "cell_type": "code",
   "execution_count": 1,
   "metadata": {},
   "outputs": [
    {
     "name": "stdout",
     "output_type": "stream",
     "text": [
      "     tribe                                         address  score  attempts\n",
      "0      sky  0x4DfC7EA5aC59B63223930C134796fecC4258d093:298    400         2\n",
      "1    earth  0x4DfC7EA5aC59B63223930C134796fecC4258d093:196    400         1\n",
      "2      sky  0x4DfC7EA5aC59B63223930C134796fecC4258d093:669    400         1\n",
      "3      sky   0x4DfC7EA5aC59B63223930C134796fecC4258d093:22    400         1\n",
      "4    earth  0x4DfC7EA5aC59B63223930C134796fecC4258d093:289    400         1\n",
      "..     ...                                             ...    ...       ...\n",
      "357    sun  0x4DfC7EA5aC59B63223930C134796fecC4258d093:245      0         0\n",
      "358    sun  0x4DfC7EA5aC59B63223930C134796fecC4258d093:367      0         0\n",
      "359    sun  0x4DfC7EA5aC59B63223930C134796fecC4258d093:494      0         0\n",
      "360    sun  0x4DfC7EA5aC59B63223930C134796fecC4258d093:504      0         0\n",
      "361    sun  0x4DfC7EA5aC59B63223930C134796fecC4258d093:188      0         0\n",
      "\n",
      "[362 rows x 4 columns]\n"
     ]
    }
   ],
   "source": [
    "import requests\n",
    "import pandas as pd\n",
    "\n",
    "# URL of the API\n",
    "url = 'https://www.cryptothegame.com/api/state/day/7/event/result'\n",
    "\n",
    "# Send a GET request to the API\n",
    "response = requests.get(url)\n",
    "\n",
    "# Check if the request was successful\n",
    "if response.status_code == 200:\n",
    "    # Load the JSON data\n",
    "    data = response.json()\n",
    "    \n",
    "    # Extract the leaderboard data\n",
    "    leaderboard_data = data['data']['allPlayersLeaderboard']\n",
    "    \n",
    "    # Create a DataFrame\n",
    "    df = pd.DataFrame(leaderboard_data, columns=['tribe', 'address', 'score', 'attempts'])\n",
    "    \n",
    "    # Display the DataFrame\n",
    "    print(df)\n",
    "else:\n",
    "    print(\"Failed to retrieve data: Status code\", response.status_code)\n",
    "\n",
    "df.to_csv('outputs/ctg_day_7_event_scores.csv')"
   ]
  }
 ],
 "metadata": {
  "kernelspec": {
   "display_name": "new-env",
   "language": "python",
   "name": "python3"
  },
  "language_info": {
   "codemirror_mode": {
    "name": "ipython",
    "version": 3
   },
   "file_extension": ".py",
   "mimetype": "text/x-python",
   "name": "python",
   "nbconvert_exporter": "python",
   "pygments_lexer": "ipython3",
   "version": "3.10.11"
  }
 },
 "nbformat": 4,
 "nbformat_minor": 2
}
