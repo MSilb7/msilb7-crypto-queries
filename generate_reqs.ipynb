{
 "cells": [
  {
   "cell_type": "code",
   "execution_count": null,
   "metadata": {},
   "outputs": [],
   "source": [
    "! pip install pipreqs\n",
    "! python -m  pipreqs.pipreqs\n",
    "# ! pip freeze > requirements.txt\n"
   ]
  }
 ],
 "metadata": {
  "kernelspec": {
   "display_name": "Python 3.9.7 ('ethereum-etl')",
   "language": "python",
   "name": "python3"
  },
  "language_info": {
   "codemirror_mode": {
    "name": "ipython",
    "version": 3
   },
   "file_extension": ".py",
   "mimetype": "text/x-python",
   "name": "python",
   "nbconvert_exporter": "python",
   "pygments_lexer": "ipython3",
   "version": "3.9.7"
  },
  "orig_nbformat": 4,
  "vscode": {
   "interpreter": {
    "hash": "405d2ea41d0bf976f6f78997ecaf18e9e23f670e34f9956a9292df8c83814d6e"
   }
  }
 },
 "nbformat": 4,
 "nbformat_minor": 2
}
