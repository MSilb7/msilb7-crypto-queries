{
 "cells": [
  {
   "cell_type": "code",
   "execution_count": null,
   "metadata": {},
   "outputs": [],
   "source": [
    "import pandas as pd\n",
    "import requests as r\n",
    "import json\n",
    "genesis_url = 'https://storage.googleapis.com/optimism/mainnet/genesis-berlin.json'"
   ]
  },
  {
   "cell_type": "code",
   "execution_count": null,
   "metadata": {},
   "outputs": [],
   "source": [
    "# Use State Dump: https://storage.googleapis.com/optimism/mainnet/genesis-berlin.json\n",
    "# Calculate token balances by address\n",
    "# Use this as an input in to Data Providers in order to have up to date balances post-OVM1"
   ]
  },
  {
   "cell_type": "code",
   "execution_count": null,
   "metadata": {},
   "outputs": [],
   "source": [
    "df = pd.DataFrame.from_dict(r.get(genesis_url).json()['alloc'], orient='index')"
   ]
  },
  {
   "cell_type": "code",
   "execution_count": null,
   "metadata": {},
   "outputs": [],
   "source": [
    "df = df.reset_index()\n",
    "df = df.rename(columns={'index':'address'})\n",
    "df['address'] = '0x' + df['address']\n",
    "\n",
    "df = df[['address']].drop_duplicates()\n",
    "df.sample(100)"
   ]
  },
  {
   "cell_type": "code",
   "execution_count": null,
   "metadata": {},
   "outputs": [],
   "source": [
    "# Get OVM1 bridgers from Dune\n",
    "dune_addrdf = pd.read_csv('ovm1_bridgers_dune.csv')\n",
    "dune_addrdf = dune_addrdf.rename(columns={'user_address':'address'})\n",
    "\n",
    "# Get OVM1 tokens from Dune\n",
    "dune_tokendf = pd.read_csv('ovm1_tokens_dune.csv')\n",
    "dune_tokendf = dune_tokendf.rename(columns={'contract_address':'token_address'})\n",
    "dune_tokendf = dune_tokendf[['token_address']]"
   ]
  },
  {
   "cell_type": "code",
   "execution_count": null,
   "metadata": {},
   "outputs": [],
   "source": [
    "addr_df = pd.concat([df,dune_addrdf])\n",
    "addr_df['address'] = addr_df['address'].str.lower()\n",
    "addr_df = addr_df[['address']].drop_duplicates()\n",
    "# display(addr_df)"
   ]
  },
  {
   "cell_type": "code",
   "execution_count": null,
   "metadata": {},
   "outputs": [],
   "source": [
    "# Convert the DataFrame to a list of dictionaries\n",
    "addr_data = addr_df.to_dict('records')\n",
    "\n",
    "# Write the data to a JSON file\n",
    "with open('address_output.json', 'w') as f:\n",
    "    json.dump(addr_data, f)\n",
    "\n",
    "token_data = dune_tokendf.to_dict('records')\n",
    "\n",
    "# Write the data to a JSON file\n",
    "with open('tokens_output.json', 'w') as f:\n",
    "    json.dump(token_data, f)"
   ]
  }
 ],
 "metadata": {
  "kernelspec": {
   "display_name": "new-env",
   "language": "python",
   "name": "python3"
  },
  "language_info": {
   "codemirror_mode": {
    "name": "ipython",
    "version": 3
   },
   "file_extension": ".py",
   "mimetype": "text/x-python",
   "name": "python",
   "nbconvert_exporter": "python",
   "pygments_lexer": "ipython3",
   "version": "3.10.9"
  },
  "orig_nbformat": 4,
  "vscode": {
   "interpreter": {
    "hash": "7d537a1638226190f579d6fbb68604c1b09ebc740a69df557abedb49ad78e592"
   }
  }
 },
 "nbformat": 4,
 "nbformat_minor": 2
}
