{
 "cells": [
  {
   "cell_type": "code",
   "execution_count": 1,
   "metadata": {},
   "outputs": [],
   "source": [
    "import pandas as pd\n",
    "import requests as r\n",
    "import json\n",
    "genesis_url = 'https://storage.googleapis.com/optimism/mainnet/genesis-berlin.json'"
   ]
  },
  {
   "cell_type": "code",
   "execution_count": 2,
   "metadata": {},
   "outputs": [],
   "source": [
    "# Use State Dump: https://storage.googleapis.com/optimism/mainnet/genesis-berlin.json\n",
    "# Calculate token balances by address\n",
    "# Use this as an input in to Data Providers in order to have up to date balances post-OVM1"
   ]
  },
  {
   "cell_type": "code",
   "execution_count": 3,
   "metadata": {},
   "outputs": [],
   "source": [
    "df = pd.DataFrame.from_dict(r.get(genesis_url).json()['alloc'], orient='index')"
   ]
  },
  {
   "cell_type": "code",
   "execution_count": 4,
   "metadata": {},
   "outputs": [
    {
     "data": {
      "text/html": [
       "<div>\n",
       "<style scoped>\n",
       "    .dataframe tbody tr th:only-of-type {\n",
       "        vertical-align: middle;\n",
       "    }\n",
       "\n",
       "    .dataframe tbody tr th {\n",
       "        vertical-align: top;\n",
       "    }\n",
       "\n",
       "    .dataframe thead th {\n",
       "        text-align: right;\n",
       "    }\n",
       "</style>\n",
       "<table border=\"1\" class=\"dataframe\">\n",
       "  <thead>\n",
       "    <tr style=\"text-align: right;\">\n",
       "      <th></th>\n",
       "      <th>address</th>\n",
       "    </tr>\n",
       "  </thead>\n",
       "  <tbody>\n",
       "    <tr>\n",
       "      <th>95864</th>\n",
       "      <td>0xb0ed82747be58459d4f73cbad977b1dc2527703b</td>\n",
       "    </tr>\n",
       "    <tr>\n",
       "      <th>182625</th>\n",
       "      <td>0xf41a0749e03e431e198a1e05cfea9c570bbb91e2</td>\n",
       "    </tr>\n",
       "    <tr>\n",
       "      <th>11993</th>\n",
       "      <td>0x0005a5c3cbb14a696a1df451fbab2cd3fd2d33ae</td>\n",
       "    </tr>\n",
       "    <tr>\n",
       "      <th>132726</th>\n",
       "      <td>0x714760f431e36c344ee887fe8cc28286187368f4</td>\n",
       "    </tr>\n",
       "    <tr>\n",
       "      <th>171560</th>\n",
       "      <td>0x5f223096459d9ed288cf6e23c329cab8539b6e1a</td>\n",
       "    </tr>\n",
       "    <tr>\n",
       "      <th>...</th>\n",
       "      <td>...</td>\n",
       "    </tr>\n",
       "    <tr>\n",
       "      <th>4649</th>\n",
       "      <td>0xeedac37be91605b65b24e11a94757a8c997d65da</td>\n",
       "    </tr>\n",
       "    <tr>\n",
       "      <th>88404</th>\n",
       "      <td>0x1838cc980c7fe8a366f1a47929fa492f77e8a1df</td>\n",
       "    </tr>\n",
       "    <tr>\n",
       "      <th>193507</th>\n",
       "      <td>0x926db61b0dc59db81b2030e98a9887442e1ab9e7</td>\n",
       "    </tr>\n",
       "    <tr>\n",
       "      <th>78811</th>\n",
       "      <td>0xcfe4ea1730b5c250e80946d0558be69d514721df</td>\n",
       "    </tr>\n",
       "    <tr>\n",
       "      <th>198314</th>\n",
       "      <td>0xfaa6e36b053f681ed1d07d6235e61efeed3ed5de</td>\n",
       "    </tr>\n",
       "  </tbody>\n",
       "</table>\n",
       "<p>100 rows × 1 columns</p>\n",
       "</div>"
      ],
      "text/plain": [
       "                                           address\n",
       "95864   0xb0ed82747be58459d4f73cbad977b1dc2527703b\n",
       "182625  0xf41a0749e03e431e198a1e05cfea9c570bbb91e2\n",
       "11993   0x0005a5c3cbb14a696a1df451fbab2cd3fd2d33ae\n",
       "132726  0x714760f431e36c344ee887fe8cc28286187368f4\n",
       "171560  0x5f223096459d9ed288cf6e23c329cab8539b6e1a\n",
       "...                                            ...\n",
       "4649    0xeedac37be91605b65b24e11a94757a8c997d65da\n",
       "88404   0x1838cc980c7fe8a366f1a47929fa492f77e8a1df\n",
       "193507  0x926db61b0dc59db81b2030e98a9887442e1ab9e7\n",
       "78811   0xcfe4ea1730b5c250e80946d0558be69d514721df\n",
       "198314  0xfaa6e36b053f681ed1d07d6235e61efeed3ed5de\n",
       "\n",
       "[100 rows x 1 columns]"
      ]
     },
     "execution_count": 4,
     "metadata": {},
     "output_type": "execute_result"
    }
   ],
   "source": [
    "df = df.reset_index()\n",
    "df = df.rename(columns={'index':'address'})\n",
    "df['address'] = '0x' + df['address']\n",
    "\n",
    "df = df[['address']].drop_duplicates()\n",
    "df.sample(100)"
   ]
  },
  {
   "cell_type": "code",
   "execution_count": 5,
   "metadata": {},
   "outputs": [],
   "source": [
    "# Get OVM1 bridgers from Dune\n",
    "dune_addrdf = pd.read_csv('ovm1_bridgers_users_dune.csv')\n",
    "dune_addrdf = dune_addrdf.rename(columns={'user_address':'address'})\n",
    "\n",
    "# Get OVM1 tokens from Dune\n",
    "dune_tokendf = pd.read_csv('ovm1_tokens_dune.csv')\n",
    "dune_tokendf = dune_tokendf.rename(columns={'contract_address':'token_address'})\n",
    "dune_tokendf = dune_tokendf[['token_address']]"
   ]
  },
  {
   "cell_type": "code",
   "execution_count": 6,
   "metadata": {},
   "outputs": [],
   "source": [
    "addr_df = pd.concat([df,dune_addrdf])\n",
    "addr_df['address'] = addr_df['address'].str.lower()\n",
    "addr_df = addr_df[['address']].drop_duplicates()\n",
    "# display(addr_df)"
   ]
  },
  {
   "cell_type": "code",
   "execution_count": 7,
   "metadata": {},
   "outputs": [],
   "source": [
    "# Convert the DataFrame to a list of dictionaries\n",
    "addr_data = addr_df.to_dict('records')\n",
    "\n",
    "# Write the data to a JSON file\n",
    "with open('address_output.json', 'w') as f:\n",
    "    json.dump(addr_data, f)\n",
    "\n",
    "token_data = dune_tokendf.to_dict('records')\n",
    "\n",
    "# Write the data to a JSON file\n",
    "with open('tokens_output.json', 'w') as f:\n",
    "    json.dump(token_data, f)"
   ]
  }
 ],
 "metadata": {
  "kernelspec": {
   "display_name": "new-env",
   "language": "python",
   "name": "python3"
  },
  "language_info": {
   "codemirror_mode": {
    "name": "ipython",
    "version": 3
   },
   "file_extension": ".py",
   "mimetype": "text/x-python",
   "name": "python",
   "nbconvert_exporter": "python",
   "pygments_lexer": "ipython3",
   "version": "3.10.9"
  },
  "orig_nbformat": 4,
  "vscode": {
   "interpreter": {
    "hash": "7d537a1638226190f579d6fbb68604c1b09ebc740a69df557abedb49ad78e592"
   }
  }
 },
 "nbformat": 4,
 "nbformat_minor": 2
}
