{
 "cells": [
  {
   "cell_type": "code",
   "execution_count": 2,
   "metadata": {},
   "outputs": [],
   "source": [
    "# Read from Hop's Github to pull bridge tokens and addresses for Dune's spell table\n",
    "# Right now, we manually run this and copy and paste to Dune's spellbook\n",
    "# it would be cool to automate this process some day...\n",
    "\n",
    "import requests\n",
    "import re\n",
    "import json\n",
    "import pandas as pd\n",
    "import sys \n",
    "sys.path.append('../')\n",
    "from dune_exports import *\n",
    "sys.path.pop()\n",
    "\n",
    "gh_api = 'https://api.github.com/repos/OWNER/REPO/contents/PATH'\n",
    "#sourcefile = 'https://github.com/hop-protocol/hop/blob/develop/packages/core/src/addresses/mainnet.ts'\n",
    "owner_api = 'hop-protocol'\n",
    "repo_api='hop'\n",
    "path_api = 'packages/core/src/addresses/'\n",
    "file_names = ['mainnet.ts','types.ts']"
   ]
  },
  {
   "cell_type": "code",
   "execution_count": 3,
   "metadata": {},
   "outputs": [
    {
     "name": "stdout",
     "output_type": "stream",
     "text": [
      "https://raw.githubusercontent.com/hop-protocol/hop/develop/packages/core/src/addresses/mainnet.ts\n",
      "https://raw.githubusercontent.com/hop-protocol/hop/develop/packages/core/src/addresses/types.ts\n"
     ]
    }
   ],
   "source": [
    "for a_fn in file_names:\n",
    "        # Code from StackOverflow - can't find the link now\n",
    "        rep = {'OWNER': owner_api, 'REPO': repo_api, 'PATH':path_api + a_fn} # define desired replacements here\n",
    "        ## use these three lines to do the replacement\n",
    "        rep = dict((re.escape(k), v) for k, v in rep.items()) \n",
    "        ## Python 3 renamed dict.iteritems to dict.items so use rep.items() for latest versions\n",
    "        rep_pattern = re.compile(\"|\".join(rep.keys()))\n",
    "        req_api = rep_pattern.sub(lambda m: rep[re.escape(m.group(0))], gh_api)\n",
    "        # print(req_api)\n",
    "\n",
    "        inf = requests.get(req_api)\n",
    "        dl_url = inf.json()['download_url']\n",
    "        print(dl_url)\n",
    "\n",
    "        r = requests.get(dl_url)\n",
    "        f = open(a_fn, 'wb')\n",
    "        for chunk in r.iter_content(chunk_size=512 * 1024): \n",
    "                if chunk:\n",
    "                        f.write(chunk)\n",
    "        f.close()\n",
    "\n",
    "\n",
    "# json = json.dumps(content)\n",
    "# print(json)"
   ]
  },
  {
   "cell_type": "code",
   "execution_count": 4,
   "metadata": {},
   "outputs": [
    {
     "name": "stdout",
     "output_type": "stream",
     "text": [
      "zsh:1: command not found: node\n"
     ]
    }
   ],
   "source": [
    "# read jsons to intermediates folder\n",
    "! node hop_transpile.js"
   ]
  },
  {
   "cell_type": "code",
   "execution_count": 5,
   "metadata": {},
   "outputs": [],
   "source": [
    "bridges = pd.read_json(\"intermediates/hop_bridges.txt\")\n",
    "bridges.reset_index(inplace=True)\n",
    "bridges_unpivot = pd.melt(bridges, id_vars='index')\n",
    "bridges_unpivot.reset_index(inplace=True, drop=True)\n",
    "\n",
    "# expand data in json to columns\n",
    "json_data = bridges_unpivot['value'].values\n",
    "normalized_df = pd.json_normalize(json_data)\n",
    "bridges = bridges_unpivot.join(normalized_df)\n",
    "bridges = bridges[~bridges['bridgeDeployedBlockNumber'].isna()]\n",
    "# drop original json column\n",
    "bridges = bridges.drop('value', axis=1)\n",
    "#rename columns\n",
    "bridges = bridges.rename(columns={\n",
    "        'index':'blockchain',\n",
    "        'variable':'token_symbol'\n",
    "})\n",
    "\n",
    "int_cols = ['bridgeDeployedBlockNumber']\n",
    "\n",
    "to_dune_sql_format(bridges, 'hop', int_cols)\n",
    "\n"
   ]
  },
  {
   "cell_type": "code",
   "execution_count": 6,
   "metadata": {},
   "outputs": [],
   "source": [
    "# #write sql file\n",
    "# bridges.to_csv('outputs/hop_to_sql.txt', sep='\\t', index=False)\n",
    "# #write cols\n",
    "# text_file = open('outputs/hop_dune_column_names.txt', \"w\")\n",
    "# n = text_file.write(col_names)\n",
    "# text_file.close()"
   ]
  }
 ],
 "metadata": {
  "kernelspec": {
   "display_name": "Python 3.10.6 ('base')",
   "language": "python",
   "name": "python3"
  },
  "language_info": {
   "codemirror_mode": {
    "name": "ipython",
    "version": 3
   },
   "file_extension": ".py",
   "mimetype": "text/x-python",
   "name": "python",
   "nbconvert_exporter": "python",
   "pygments_lexer": "ipython3",
   "version": "3.10.6"
  },
  "orig_nbformat": 4,
  "vscode": {
   "interpreter": {
    "hash": "17c021eea7371cec353b12daa8dd7517ddfe82cfa4c2626e1e7d1541ccab7c49"
   }
  }
 },
 "nbformat": 4,
 "nbformat_minor": 2
}
