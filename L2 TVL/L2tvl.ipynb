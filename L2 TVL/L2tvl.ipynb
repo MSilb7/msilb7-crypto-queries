{
 "cells": [
  {
   "cell_type": "code",
   "execution_count": 9,
   "id": "b13a212c",
   "metadata": {},
   "outputs": [],
   "source": [
    "#import obj\n",
    "import pandas as pd\n",
    "import requests\n",
    "from datetime import datetime\n",
    "import plotly.express as px\n",
    "import matplotlib.pyplot as plt\n",
    "import plotly.io as pio\n",
    "#Data from DeFiLlama\n",
    "chain_apis = [\n",
    "    \n",
    "    ['https://api.llama.fi/charts/Optimism', 'Optimism']\n",
    "    ,['https://api.llama.fi/charts/Arbitrum', 'Arbitrum']\n",
    "    ,['https://api.llama.fi/charts/Metis', 'Metis']\n",
    "    ,['https://api.llama.fi/charts/Boba', 'Boba']\n",
    "    \n",
    "]"
   ]
  },
  {
   "cell_type": "code",
   "execution_count": 10,
   "id": "dedc29da",
   "metadata": {},
   "outputs": [
    {
     "name": "stdout",
     "output_type": "stream",
     "text": [
      "Index(['date', 'totalLiquidityUSD', 'chain'], dtype='object')\n"
     ]
    }
   ],
   "source": [
    "tvl_data = pd.DataFrame()\n",
    "for i in chain_apis:\n",
    "    data = requests.get(i[0]).json()\n",
    "    temp_data = pd.DataFrame(data)\n",
    "    temp_data['date'] = pd.to_datetime(temp_data['date'], unit='s')\n",
    "    temp_data['totalLiquidityUSD'] = temp_data['totalLiquidityUSD']#/1e6\n",
    "    temp_data['chain'] = str(i[1])\n",
    "    #print(i[1])\n",
    "    #print(data)\n",
    "    tvl_data = tvl_data.append(temp_data)\n",
    "print(tvl_data.columns)\n",
    "#     chain_url = i\n",
    "#     x = chains[0].rfind('/') +1 #get position of chain name in url\n",
    "#     chain_name = i[x:]\n",
    "    \n",
    "\n",
    "# cn = chains[0].rfind('/') +1\n",
    "# cname = chains[0][cn:]\n",
    "# print(cn)\n",
    "# print(cname)"
   ]
  },
  {
   "cell_type": "code",
   "execution_count": 11,
   "id": "16c3df02",
   "metadata": {},
   "outputs": [],
   "source": [
    "#tvl_data = tvl_data.pivot(index=['date'],columns='chain',values='totalLiquidityUSD')\n",
    "#tvl_data = tvl_data.groupby(['date','chain']).sum()"
   ]
  },
  {
   "cell_type": "code",
   "execution_count": 12,
   "id": "167e44c8",
   "metadata": {},
   "outputs": [
    {
     "data": {
      "text/plain": [
       "<AxesSubplot:ylabel='TVL ($M)'>"
      ]
     },
     "execution_count": 12,
     "metadata": {},
     "output_type": "execute_result"
    },
    {
     "data": {
      "image/png": "[encoded data removed]",
      "text/plain": [
       "<Figure size 432x288 with 1 Axes>"
      ]
     },
     "metadata": {
      "needs_background": "light"
     },
     "output_type": "display_data"
    }
   ],
   "source": [
    "tvl_data.plot(xticks=tvl_data.index, ylabel='TVL ($M)')\n",
    "#fig = px.line(tvl_data, x=\"date\", y=\"totalLiquidityUSD\", color='chain')\n",
    "#fig.update_traces(hovertemplate=None)\n",
    "#https://github.com/d3/d3-format\n",
    "#fig.update_layout(yaxis_tickprefix = '$', hovermode='x')\n",
    "#fig.show()\n",
    "\n",
    "#pio.write_html(fig, file='figure.html', auto_open=True)"
   ]
  }
 ],
 "metadata": {
  "kernelspec": {
   "display_name": "Python 3",
   "language": "python",
   "name": "python3"
  },
  "language_info": {
   "codemirror_mode": {
    "name": "ipython",
    "version": 3
   },
   "file_extension": ".py",
   "mimetype": "text/x-python",
   "name": "python",
   "nbconvert_exporter": "python",
   "pygments_lexer": "ipython3",
   "version": "3.8.8"
  }
 },
 "nbformat": 4,
 "nbformat_minor": 5
}
