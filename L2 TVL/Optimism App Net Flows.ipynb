{
 "cells": [
  {
   "cell_type": "code",
   "execution_count": 176,
   "id": "ffefb42a",
   "metadata": {},
   "outputs": [],
   "source": [
    "import pandas as pd\n",
    "import requests as r\n",
    "import plotly.express as px\n",
    "import plotly.graph_objects as go\n",
    "from datetime import datetime, timedelta"
   ]
  },
  {
   "cell_type": "code",
   "execution_count": 177,
   "id": "d3399236",
   "metadata": {},
   "outputs": [
    {
     "name": "stderr",
     "output_type": "stream",
     "text": [
      "/var/folders/by/kltjc8yd0yz_7_wrtrzhrm9m0000gn/T/ipykernel_25533/2653344977.py:22: FutureWarning:\n",
      "\n",
      "The default value of regex will change from True to False in a future version.\n",
      "\n",
      "/var/folders/by/kltjc8yd0yz_7_wrtrzhrm9m0000gn/T/ipykernel_25533/2653344977.py:22: FutureWarning:\n",
      "\n",
      "The default value of regex will change from True to False in a future version.\n",
      "\n",
      "/var/folders/by/kltjc8yd0yz_7_wrtrzhrm9m0000gn/T/ipykernel_25533/2653344977.py:22: FutureWarning:\n",
      "\n",
      "The default value of regex will change from True to False in a future version.\n",
      "\n",
      "/var/folders/by/kltjc8yd0yz_7_wrtrzhrm9m0000gn/T/ipykernel_25533/2653344977.py:22: FutureWarning:\n",
      "\n",
      "The default value of regex will change from True to False in a future version.\n",
      "\n",
      "/var/folders/by/kltjc8yd0yz_7_wrtrzhrm9m0000gn/T/ipykernel_25533/2653344977.py:22: FutureWarning:\n",
      "\n",
      "The default value of regex will change from True to False in a future version.\n",
      "\n",
      "/var/folders/by/kltjc8yd0yz_7_wrtrzhrm9m0000gn/T/ipykernel_25533/2653344977.py:22: FutureWarning:\n",
      "\n",
      "The default value of regex will change from True to False in a future version.\n",
      "\n",
      "/var/folders/by/kltjc8yd0yz_7_wrtrzhrm9m0000gn/T/ipykernel_25533/2653344977.py:22: FutureWarning:\n",
      "\n",
      "The default value of regex will change from True to False in a future version.\n",
      "\n",
      "/var/folders/by/kltjc8yd0yz_7_wrtrzhrm9m0000gn/T/ipykernel_25533/2653344977.py:22: FutureWarning:\n",
      "\n",
      "The default value of regex will change from True to False in a future version.\n",
      "\n",
      "/var/folders/by/kltjc8yd0yz_7_wrtrzhrm9m0000gn/T/ipykernel_25533/2653344977.py:22: FutureWarning:\n",
      "\n",
      "The default value of regex will change from True to False in a future version.\n",
      "\n"
     ]
    },
    {
     "data": {
      "text/html": [
       "<div>\n",
       "<style scoped>\n",
       "    .dataframe tbody tr th:only-of-type {\n",
       "        vertical-align: middle;\n",
       "    }\n",
       "\n",
       "    .dataframe tbody tr th {\n",
       "        vertical-align: top;\n",
       "    }\n",
       "\n",
       "    .dataframe thead th {\n",
       "        text-align: right;\n",
       "    }\n",
       "</style>\n",
       "<table border=\"1\" class=\"dataframe\">\n",
       "  <thead>\n",
       "    <tr style=\"text-align: right;\">\n",
       "      <th></th>\n",
       "      <th>date</th>\n",
       "      <th>token</th>\n",
       "      <th>value</th>\n",
       "      <th>protocol</th>\n",
       "      <th>start_date</th>\n",
       "    </tr>\n",
       "  </thead>\n",
       "  <tbody>\n",
       "    <tr>\n",
       "      <th>0</th>\n",
       "      <td>2022-06-01 00:00:00</td>\n",
       "      <td>SETH</td>\n",
       "      <td>0.02061</td>\n",
       "      <td>velodrome</td>\n",
       "      <td>2022-07-13</td>\n",
       "    </tr>\n",
       "    <tr>\n",
       "      <th>1</th>\n",
       "      <td>2022-06-02 00:00:00</td>\n",
       "      <td>SETH</td>\n",
       "      <td>0.02061</td>\n",
       "      <td>velodrome</td>\n",
       "      <td>2022-07-13</td>\n",
       "    </tr>\n",
       "    <tr>\n",
       "      <th>2</th>\n",
       "      <td>2022-06-03 00:00:00</td>\n",
       "      <td>SETH</td>\n",
       "      <td>0.02609</td>\n",
       "      <td>velodrome</td>\n",
       "      <td>2022-07-13</td>\n",
       "    </tr>\n",
       "    <tr>\n",
       "      <th>3</th>\n",
       "      <td>2022-06-04 00:00:00</td>\n",
       "      <td>SETH</td>\n",
       "      <td>0.03786</td>\n",
       "      <td>velodrome</td>\n",
       "      <td>2022-07-13</td>\n",
       "    </tr>\n",
       "    <tr>\n",
       "      <th>4</th>\n",
       "      <td>2022-06-05 00:00:00</td>\n",
       "      <td>SETH</td>\n",
       "      <td>0.03142</td>\n",
       "      <td>velodrome</td>\n",
       "      <td>2022-07-13</td>\n",
       "    </tr>\n",
       "    <tr>\n",
       "      <th>...</th>\n",
       "      <td>...</td>\n",
       "      <td>...</td>\n",
       "      <td>...</td>\n",
       "      <td>...</td>\n",
       "      <td>...</td>\n",
       "    </tr>\n",
       "    <tr>\n",
       "      <th>275</th>\n",
       "      <td>2022-08-03 00:00:00</td>\n",
       "      <td>WETH</td>\n",
       "      <td>1881.40751</td>\n",
       "      <td>stargate</td>\n",
       "      <td>2022-08-05</td>\n",
       "    </tr>\n",
       "    <tr>\n",
       "      <th>276</th>\n",
       "      <td>2022-08-04 00:00:00</td>\n",
       "      <td>WETH</td>\n",
       "      <td>1518.29696</td>\n",
       "      <td>stargate</td>\n",
       "      <td>2022-08-05</td>\n",
       "    </tr>\n",
       "    <tr>\n",
       "      <th>277</th>\n",
       "      <td>2022-08-05 00:00:00</td>\n",
       "      <td>WETH</td>\n",
       "      <td>1326.15808</td>\n",
       "      <td>stargate</td>\n",
       "      <td>2022-08-05</td>\n",
       "    </tr>\n",
       "    <tr>\n",
       "      <th>278</th>\n",
       "      <td>2022-08-06 00:00:00</td>\n",
       "      <td>WETH</td>\n",
       "      <td>1007.90122</td>\n",
       "      <td>stargate</td>\n",
       "      <td>2022-08-05</td>\n",
       "    </tr>\n",
       "    <tr>\n",
       "      <th>279</th>\n",
       "      <td>2022-08-06 13:59:10</td>\n",
       "      <td>WETH</td>\n",
       "      <td>1250.72924</td>\n",
       "      <td>stargate</td>\n",
       "      <td>2022-08-05</td>\n",
       "    </tr>\n",
       "  </tbody>\n",
       "</table>\n",
       "<p>7287 rows × 5 columns</p>\n",
       "</div>"
      ],
      "text/plain": [
       "                   date token       value   protocol start_date\n",
       "0   2022-06-01 00:00:00  SETH     0.02061  velodrome 2022-07-13\n",
       "1   2022-06-02 00:00:00  SETH     0.02061  velodrome 2022-07-13\n",
       "2   2022-06-03 00:00:00  SETH     0.02609  velodrome 2022-07-13\n",
       "3   2022-06-04 00:00:00  SETH     0.03786  velodrome 2022-07-13\n",
       "4   2022-06-05 00:00:00  SETH     0.03142  velodrome 2022-07-13\n",
       "..                  ...   ...         ...        ...        ...\n",
       "275 2022-08-03 00:00:00  WETH  1881.40751   stargate 2022-08-05\n",
       "276 2022-08-04 00:00:00  WETH  1518.29696   stargate 2022-08-05\n",
       "277 2022-08-05 00:00:00  WETH  1326.15808   stargate 2022-08-05\n",
       "278 2022-08-06 00:00:00  WETH  1007.90122   stargate 2022-08-05\n",
       "279 2022-08-06 13:59:10  WETH  1250.72924   stargate 2022-08-05\n",
       "\n",
       "[7287 rows x 5 columns]"
      ]
     },
     "execution_count": 177,
     "metadata": {},
     "output_type": "execute_result"
    }
   ],
   "source": [
    "api_str = 'https://api.llama.fi/protocol/'\n",
    "\n",
    "protocols = [\n",
    "    # name, incentive start date\n",
    "         ['velodrome','2022-07-13']\n",
    "        ,['pooltogether','2022-07-14']\n",
    "        ,['lyra','2022-08-02']\n",
    "        ,['rubicon','2022-07-15']\n",
    "        ,['perpetual-protocol','2022-07-14']\n",
    "        ,['thales','2022-07-14'] #TVL not relevant\n",
    "        ,['aave-v3','2022-08-04']\n",
    "        ,['wepiggy','2022-08-03']\n",
    "        ,['stargate','2022-08-05']\n",
    "        ]\n",
    "# print(protocols[0])\n",
    "prod = []\n",
    "for prot in protocols:\n",
    "    ad = pd.json_normalize( r.get(api_str + prot[0]).json()['chainTvls']['Optimism']['tokens'] )\n",
    "    ad['date'] = pd.to_datetime(ad['date'], unit ='s') #convert to days\n",
    "    ad = pd.melt(ad,id_vars = ['date'])\n",
    "    ad = ad.rename(columns={'variable':'token'})\n",
    "    ad['token'] = ad['token'].str.replace('tokens.','')\n",
    "    ad['protocol'] = prot[0]\n",
    "    ad['start_date'] = pd.to_datetime(prot[1])\n",
    "    ad['date'] = ad['date'] - timedelta(days=1) #change to eod vs sod\n",
    "    prod.append(ad)\n",
    "\n",
    "df_df = pd.concat(prod)\n",
    "df_df"
   ]
  },
  {
   "cell_type": "code",
   "execution_count": 178,
   "id": "53c381e8",
   "metadata": {},
   "outputs": [],
   "source": [
    "# df_df[df_df['protocol']=='perpetual-protocol']\n"
   ]
  },
  {
   "cell_type": "code",
   "execution_count": 179,
   "id": "428aa2ff",
   "metadata": {},
   "outputs": [],
   "source": [
    "#defillama api feedback - only token symbols come through, makes it hard to map w/o doing it manually\n",
    "coingecko_token_map = [\n",
    "    ['LINK','chainlink']\n",
    "    ,['USDT','tether']\n",
    "    ,['USDC','usd-coin']\n",
    "    ,['WETH','weth']\n",
    "    ,['SUSD','nusd']\n",
    "    ,['DAI','dai']\n",
    "    ,['AAVE','aave']\n",
    "    ,['WBTC','wrapped-bitcoin']\n",
    "    ,['SNX','havven']\n",
    "    ,['OP','optimism']\n",
    "    ,['SETH','seth']\n",
    "    ,['FXS','frax-share']\n",
    "    ,['THALES','thales']\n",
    "    ,['FRAX','frax']\n",
    "    ,['ALUSD','alchemix-usd']\n",
    "    ,['PERP','perpetual-protocol']\n",
    "    ,['LUSD','liquity-usd']\n",
    "    ,['LYRA','lyra-finance']\n",
    "    ,['HND','hundred-finance']\n",
    "    ,['BITANT','bitant']\n",
    "    ,['UNI','uniswap']\n",
    "    ,['SLINK','slink']\n",
    "    ,['VELO','velodrome-finance']\n",
    "    ,['DOLA','dola-usd']\n",
    "    ,['CRV','curve-dao-token']\n",
    "    ,['SBTC','sbtc']\n",
    "    ,['KROM','kromatika']\n",
    "    ,['DF','dforce-token']\n",
    "    ,['STG','stargate-finance']\n",
    "    ,['AELIN','aelin']\n",
    "    ,['RAI','rai']\n",
    "    ,['RETH','rocket-pool-eth']\n",
    "]"
   ]
  },
  {
   "cell_type": "code",
   "execution_count": 180,
   "id": "d277a590",
   "metadata": {},
   "outputs": [],
   "source": [
    "cg_token_list = [i[0] for i in coingecko_token_map]"
   ]
  },
  {
   "cell_type": "code",
   "execution_count": 181,
   "id": "840e7c2d",
   "metadata": {},
   "outputs": [
    {
     "data": {
      "text/html": [
       "<div>\n",
       "<style scoped>\n",
       "    .dataframe tbody tr th:only-of-type {\n",
       "        vertical-align: middle;\n",
       "    }\n",
       "\n",
       "    .dataframe tbody tr th {\n",
       "        vertical-align: top;\n",
       "    }\n",
       "\n",
       "    .dataframe thead th {\n",
       "        text-align: right;\n",
       "    }\n",
       "</style>\n",
       "<table border=\"1\" class=\"dataframe\">\n",
       "  <thead>\n",
       "    <tr style=\"text-align: right;\">\n",
       "      <th></th>\n",
       "      <th>token</th>\n",
       "    </tr>\n",
       "  </thead>\n",
       "  <tbody>\n",
       "  </tbody>\n",
       "</table>\n",
       "</div>"
      ],
      "text/plain": [
       "Empty DataFrame\n",
       "Columns: [token]\n",
       "Index: []"
      ]
     },
     "execution_count": 181,
     "metadata": {},
     "output_type": "execute_result"
    }
   ],
   "source": [
    "# DISTINCT TOKENS\n",
    "\n",
    "token_list = df_df[['token']].drop_duplicates()\n",
    "missing_token_list = token_list[~token_list['token'].isin(cg_token_list)]\n",
    "missing_token_list"
   ]
  },
  {
   "cell_type": "code",
   "execution_count": 182,
   "id": "2e220ab6",
   "metadata": {},
   "outputs": [],
   "source": [
    "\n",
    "cg_pds = []\n",
    "for t in coingecko_token_map:\n",
    "    cg_api = 'https://api.coingecko.com/api/v3/coins/'\\\n",
    "            + t[1] + '/market_chart?vs_currency=usd&days=max&interval=daily'\n",
    "    pr = pd.DataFrame( r.get(cg_api).json()['prices'] )\n",
    "    pr['token'] = t[0]\n",
    "    pr['cg_slug'] = t[1]\n",
    "    pr = pr.rename(columns={0:'date',1:'price_usd'})\n",
    "    pr['date'] = pd.to_datetime(pr['date'], unit ='ms') #convert to days\n",
    "    cg_pds.append(pr)\n",
    "\n",
    "cg_df = pd.concat(cg_pds)\n",
    "# cg_df"
   ]
  },
  {
   "cell_type": "code",
   "execution_count": 183,
   "id": "8f9eb8e5",
   "metadata": {},
   "outputs": [
    {
     "data": {
      "text/html": [
       "<div>\n",
       "<style scoped>\n",
       "    .dataframe tbody tr th:only-of-type {\n",
       "        vertical-align: middle;\n",
       "    }\n",
       "\n",
       "    .dataframe tbody tr th {\n",
       "        vertical-align: top;\n",
       "    }\n",
       "\n",
       "    .dataframe thead th {\n",
       "        text-align: right;\n",
       "    }\n",
       "</style>\n",
       "<table border=\"1\" class=\"dataframe\">\n",
       "  <thead>\n",
       "    <tr style=\"text-align: right;\">\n",
       "      <th></th>\n",
       "      <th>date</th>\n",
       "      <th>token</th>\n",
       "      <th>value</th>\n",
       "      <th>protocol</th>\n",
       "      <th>start_date</th>\n",
       "      <th>price_usd</th>\n",
       "      <th>cg_slug</th>\n",
       "      <th>net_token_flow</th>\n",
       "      <th>net_dollar_flow</th>\n",
       "    </tr>\n",
       "  </thead>\n",
       "  <tbody>\n",
       "    <tr>\n",
       "      <th>3522</th>\n",
       "      <td>2021-11-02</td>\n",
       "      <td>SUSD</td>\n",
       "      <td>9.448852e+06</td>\n",
       "      <td>lyra</td>\n",
       "      <td>2022-08-02</td>\n",
       "      <td>1.003565</td>\n",
       "      <td>nusd</td>\n",
       "      <td>NaN</td>\n",
       "      <td>NaN</td>\n",
       "    </tr>\n",
       "    <tr>\n",
       "      <th>4119</th>\n",
       "      <td>2021-11-02</td>\n",
       "      <td>SBTC</td>\n",
       "      <td>NaN</td>\n",
       "      <td>lyra</td>\n",
       "      <td>2022-08-02</td>\n",
       "      <td>61310.580044</td>\n",
       "      <td>sbtc</td>\n",
       "      <td>NaN</td>\n",
       "      <td>NaN</td>\n",
       "    </tr>\n",
       "    <tr>\n",
       "      <th>3908</th>\n",
       "      <td>2021-11-02</td>\n",
       "      <td>SETH</td>\n",
       "      <td>1.211650e+00</td>\n",
       "      <td>lyra</td>\n",
       "      <td>2022-08-02</td>\n",
       "      <td>4360.922300</td>\n",
       "      <td>seth</td>\n",
       "      <td>NaN</td>\n",
       "      <td>NaN</td>\n",
       "    </tr>\n",
       "    <tr>\n",
       "      <th>4120</th>\n",
       "      <td>2021-11-03</td>\n",
       "      <td>SBTC</td>\n",
       "      <td>NaN</td>\n",
       "      <td>lyra</td>\n",
       "      <td>2022-08-02</td>\n",
       "      <td>63464.973491</td>\n",
       "      <td>sbtc</td>\n",
       "      <td>NaN</td>\n",
       "      <td>NaN</td>\n",
       "    </tr>\n",
       "    <tr>\n",
       "      <th>3523</th>\n",
       "      <td>2021-11-03</td>\n",
       "      <td>SUSD</td>\n",
       "      <td>1.208561e+07</td>\n",
       "      <td>lyra</td>\n",
       "      <td>2022-08-02</td>\n",
       "      <td>1.010893</td>\n",
       "      <td>nusd</td>\n",
       "      <td>2.636756e+06</td>\n",
       "      <td>2.665477e+06</td>\n",
       "    </tr>\n",
       "    <tr>\n",
       "      <th>...</th>\n",
       "      <td>...</td>\n",
       "      <td>...</td>\n",
       "      <td>...</td>\n",
       "      <td>...</td>\n",
       "      <td>...</td>\n",
       "      <td>...</td>\n",
       "      <td>...</td>\n",
       "      <td>...</td>\n",
       "      <td>...</td>\n",
       "    </tr>\n",
       "    <tr>\n",
       "      <th>1405</th>\n",
       "      <td>2022-08-06</td>\n",
       "      <td>SUSD</td>\n",
       "      <td>1.999396e+06</td>\n",
       "      <td>aave-v3</td>\n",
       "      <td>2022-08-04</td>\n",
       "      <td>1.006770</td>\n",
       "      <td>nusd</td>\n",
       "      <td>-1.218438e+03</td>\n",
       "      <td>-1.226687e+03</td>\n",
       "    </tr>\n",
       "    <tr>\n",
       "      <th>1404</th>\n",
       "      <td>2022-08-06</td>\n",
       "      <td>SUSD</td>\n",
       "      <td>2.114768e+05</td>\n",
       "      <td>thales</td>\n",
       "      <td>2022-07-14</td>\n",
       "      <td>1.006770</td>\n",
       "      <td>nusd</td>\n",
       "      <td>-2.238872e+04</td>\n",
       "      <td>-2.254029e+04</td>\n",
       "    </tr>\n",
       "    <tr>\n",
       "      <th>1403</th>\n",
       "      <td>2022-08-06</td>\n",
       "      <td>SUSD</td>\n",
       "      <td>1.441349e+07</td>\n",
       "      <td>lyra</td>\n",
       "      <td>2022-08-02</td>\n",
       "      <td>1.006770</td>\n",
       "      <td>nusd</td>\n",
       "      <td>3.083025e+05</td>\n",
       "      <td>3.103898e+05</td>\n",
       "    </tr>\n",
       "    <tr>\n",
       "      <th>2292</th>\n",
       "      <td>2022-08-06</td>\n",
       "      <td>UNI</td>\n",
       "      <td>7.535000e-02</td>\n",
       "      <td>velodrome</td>\n",
       "      <td>2022-07-13</td>\n",
       "      <td>8.919415</td>\n",
       "      <td>uniswap</td>\n",
       "      <td>0.000000e+00</td>\n",
       "      <td>0.000000e+00</td>\n",
       "    </tr>\n",
       "    <tr>\n",
       "      <th>6796</th>\n",
       "      <td>2022-08-06</td>\n",
       "      <td>AAVE</td>\n",
       "      <td>1.123900e+05</td>\n",
       "      <td>aave-v3</td>\n",
       "      <td>2022-08-04</td>\n",
       "      <td>102.742826</td>\n",
       "      <td>aave</td>\n",
       "      <td>4.905542e+02</td>\n",
       "      <td>5.040093e+04</td>\n",
       "    </tr>\n",
       "  </tbody>\n",
       "</table>\n",
       "<p>6797 rows × 9 columns</p>\n",
       "</div>"
      ],
      "text/plain": [
       "           date token         value   protocol start_date     price_usd  \\\n",
       "3522 2021-11-02  SUSD  9.448852e+06       lyra 2022-08-02      1.003565   \n",
       "4119 2021-11-02  SBTC           NaN       lyra 2022-08-02  61310.580044   \n",
       "3908 2021-11-02  SETH  1.211650e+00       lyra 2022-08-02   4360.922300   \n",
       "4120 2021-11-03  SBTC           NaN       lyra 2022-08-02  63464.973491   \n",
       "3523 2021-11-03  SUSD  1.208561e+07       lyra 2022-08-02      1.010893   \n",
       "...         ...   ...           ...        ...        ...           ...   \n",
       "1405 2022-08-06  SUSD  1.999396e+06    aave-v3 2022-08-04      1.006770   \n",
       "1404 2022-08-06  SUSD  2.114768e+05     thales 2022-07-14      1.006770   \n",
       "1403 2022-08-06  SUSD  1.441349e+07       lyra 2022-08-02      1.006770   \n",
       "2292 2022-08-06   UNI  7.535000e-02  velodrome 2022-07-13      8.919415   \n",
       "6796 2022-08-06  AAVE  1.123900e+05    aave-v3 2022-08-04    102.742826   \n",
       "\n",
       "      cg_slug  net_token_flow  net_dollar_flow  \n",
       "3522     nusd             NaN              NaN  \n",
       "4119     sbtc             NaN              NaN  \n",
       "3908     seth             NaN              NaN  \n",
       "4120     sbtc             NaN              NaN  \n",
       "3523     nusd    2.636756e+06     2.665477e+06  \n",
       "...       ...             ...              ...  \n",
       "1405     nusd   -1.218438e+03    -1.226687e+03  \n",
       "1404     nusd   -2.238872e+04    -2.254029e+04  \n",
       "1403     nusd    3.083025e+05     3.103898e+05  \n",
       "2292  uniswap    0.000000e+00     0.000000e+00  \n",
       "6796     aave    4.905542e+02     5.040093e+04  \n",
       "\n",
       "[6797 rows x 9 columns]"
      ]
     },
     "execution_count": 183,
     "metadata": {},
     "output_type": "execute_result"
    }
   ],
   "source": [
    "data_df = df_df.merge(cg_df, on=['date','token'],how='inner')\n",
    "data_df.sort_values(by='date',inplace=True)\n",
    "data_df['net_token_flow'] = data_df.groupby(['token','protocol','start_date'])['value'].apply(lambda x: x- x.shift(1))\n",
    "data_df['net_dollar_flow'] = data_df['net_token_flow'] * data_df['price_usd']\n",
    "\n",
    "data_df"
   ]
  },
  {
   "cell_type": "code",
   "execution_count": 184,
   "id": "d1ae7150",
   "metadata": {},
   "outputs": [
    {
     "data": {
      "text/html": [
       "<div>\n",
       "<style scoped>\n",
       "    .dataframe tbody tr th:only-of-type {\n",
       "        vertical-align: middle;\n",
       "    }\n",
       "\n",
       "    .dataframe tbody tr th {\n",
       "        vertical-align: top;\n",
       "    }\n",
       "\n",
       "    .dataframe thead th {\n",
       "        text-align: right;\n",
       "    }\n",
       "</style>\n",
       "<table border=\"1\" class=\"dataframe\">\n",
       "  <thead>\n",
       "    <tr style=\"text-align: right;\">\n",
       "      <th></th>\n",
       "      <th>date</th>\n",
       "      <th>token</th>\n",
       "      <th>value</th>\n",
       "      <th>protocol</th>\n",
       "      <th>start_date</th>\n",
       "      <th>price_usd</th>\n",
       "      <th>cg_slug</th>\n",
       "      <th>net_token_flow</th>\n",
       "      <th>net_dollar_flow</th>\n",
       "    </tr>\n",
       "  </thead>\n",
       "  <tbody>\n",
       "    <tr>\n",
       "      <th>5592</th>\n",
       "      <td>2021-12-17</td>\n",
       "      <td>USDC</td>\n",
       "      <td>4.800012e+06</td>\n",
       "      <td>perpetual-protocol</td>\n",
       "      <td>2022-07-14</td>\n",
       "      <td>1.000425</td>\n",
       "      <td>usd-coin</td>\n",
       "      <td>NaN</td>\n",
       "      <td>NaN</td>\n",
       "    </tr>\n",
       "    <tr>\n",
       "      <th>5594</th>\n",
       "      <td>2021-12-18</td>\n",
       "      <td>USDC</td>\n",
       "      <td>4.784074e+06</td>\n",
       "      <td>perpetual-protocol</td>\n",
       "      <td>2022-07-14</td>\n",
       "      <td>0.999762</td>\n",
       "      <td>usd-coin</td>\n",
       "      <td>-15938.58904</td>\n",
       "      <td>-15934.802465</td>\n",
       "    </tr>\n",
       "    <tr>\n",
       "      <th>5596</th>\n",
       "      <td>2021-12-19</td>\n",
       "      <td>USDC</td>\n",
       "      <td>4.885148e+06</td>\n",
       "      <td>perpetual-protocol</td>\n",
       "      <td>2022-07-14</td>\n",
       "      <td>1.000468</td>\n",
       "      <td>usd-coin</td>\n",
       "      <td>101074.52626</td>\n",
       "      <td>101121.862335</td>\n",
       "    </tr>\n",
       "    <tr>\n",
       "      <th>5598</th>\n",
       "      <td>2021-12-20</td>\n",
       "      <td>USDC</td>\n",
       "      <td>4.982993e+06</td>\n",
       "      <td>perpetual-protocol</td>\n",
       "      <td>2022-07-14</td>\n",
       "      <td>0.998758</td>\n",
       "      <td>usd-coin</td>\n",
       "      <td>97844.69300</td>\n",
       "      <td>97723.195069</td>\n",
       "    </tr>\n",
       "    <tr>\n",
       "      <th>5600</th>\n",
       "      <td>2021-12-21</td>\n",
       "      <td>USDC</td>\n",
       "      <td>4.948937e+06</td>\n",
       "      <td>perpetual-protocol</td>\n",
       "      <td>2022-07-14</td>\n",
       "      <td>1.003180</td>\n",
       "      <td>usd-coin</td>\n",
       "      <td>-34055.55661</td>\n",
       "      <td>-34163.858349</td>\n",
       "    </tr>\n",
       "    <tr>\n",
       "      <th>...</th>\n",
       "      <td>...</td>\n",
       "      <td>...</td>\n",
       "      <td>...</td>\n",
       "      <td>...</td>\n",
       "      <td>...</td>\n",
       "      <td>...</td>\n",
       "      <td>...</td>\n",
       "      <td>...</td>\n",
       "      <td>...</td>\n",
       "    </tr>\n",
       "    <tr>\n",
       "      <th>1876</th>\n",
       "      <td>2022-08-02</td>\n",
       "      <td>USDC</td>\n",
       "      <td>2.142510e+07</td>\n",
       "      <td>perpetual-protocol</td>\n",
       "      <td>2022-07-14</td>\n",
       "      <td>1.001107</td>\n",
       "      <td>usd-coin</td>\n",
       "      <td>-210914.69071</td>\n",
       "      <td>-211148.226138</td>\n",
       "    </tr>\n",
       "    <tr>\n",
       "      <th>1882</th>\n",
       "      <td>2022-08-03</td>\n",
       "      <td>USDC</td>\n",
       "      <td>2.215844e+07</td>\n",
       "      <td>perpetual-protocol</td>\n",
       "      <td>2022-07-14</td>\n",
       "      <td>0.998803</td>\n",
       "      <td>usd-coin</td>\n",
       "      <td>733333.60583</td>\n",
       "      <td>732455.736932</td>\n",
       "    </tr>\n",
       "    <tr>\n",
       "      <th>1888</th>\n",
       "      <td>2022-08-04</td>\n",
       "      <td>USDC</td>\n",
       "      <td>2.238048e+07</td>\n",
       "      <td>perpetual-protocol</td>\n",
       "      <td>2022-07-14</td>\n",
       "      <td>1.002047</td>\n",
       "      <td>usd-coin</td>\n",
       "      <td>222046.62330</td>\n",
       "      <td>222501.240327</td>\n",
       "    </tr>\n",
       "    <tr>\n",
       "      <th>1894</th>\n",
       "      <td>2022-08-05</td>\n",
       "      <td>USDC</td>\n",
       "      <td>2.256065e+07</td>\n",
       "      <td>perpetual-protocol</td>\n",
       "      <td>2022-07-14</td>\n",
       "      <td>1.001508</td>\n",
       "      <td>usd-coin</td>\n",
       "      <td>180167.81207</td>\n",
       "      <td>180439.532031</td>\n",
       "    </tr>\n",
       "    <tr>\n",
       "      <th>1900</th>\n",
       "      <td>2022-08-06</td>\n",
       "      <td>USDC</td>\n",
       "      <td>2.231180e+07</td>\n",
       "      <td>perpetual-protocol</td>\n",
       "      <td>2022-07-14</td>\n",
       "      <td>1.000944</td>\n",
       "      <td>usd-coin</td>\n",
       "      <td>-248851.79438</td>\n",
       "      <td>-249086.776928</td>\n",
       "    </tr>\n",
       "  </tbody>\n",
       "</table>\n",
       "<p>233 rows × 9 columns</p>\n",
       "</div>"
      ],
      "text/plain": [
       "           date token         value            protocol start_date  price_usd  \\\n",
       "5592 2021-12-17  USDC  4.800012e+06  perpetual-protocol 2022-07-14   1.000425   \n",
       "5594 2021-12-18  USDC  4.784074e+06  perpetual-protocol 2022-07-14   0.999762   \n",
       "5596 2021-12-19  USDC  4.885148e+06  perpetual-protocol 2022-07-14   1.000468   \n",
       "5598 2021-12-20  USDC  4.982993e+06  perpetual-protocol 2022-07-14   0.998758   \n",
       "5600 2021-12-21  USDC  4.948937e+06  perpetual-protocol 2022-07-14   1.003180   \n",
       "...         ...   ...           ...                 ...        ...        ...   \n",
       "1876 2022-08-02  USDC  2.142510e+07  perpetual-protocol 2022-07-14   1.001107   \n",
       "1882 2022-08-03  USDC  2.215844e+07  perpetual-protocol 2022-07-14   0.998803   \n",
       "1888 2022-08-04  USDC  2.238048e+07  perpetual-protocol 2022-07-14   1.002047   \n",
       "1894 2022-08-05  USDC  2.256065e+07  perpetual-protocol 2022-07-14   1.001508   \n",
       "1900 2022-08-06  USDC  2.231180e+07  perpetual-protocol 2022-07-14   1.000944   \n",
       "\n",
       "       cg_slug  net_token_flow  net_dollar_flow  \n",
       "5592  usd-coin             NaN              NaN  \n",
       "5594  usd-coin    -15938.58904    -15934.802465  \n",
       "5596  usd-coin    101074.52626    101121.862335  \n",
       "5598  usd-coin     97844.69300     97723.195069  \n",
       "5600  usd-coin    -34055.55661    -34163.858349  \n",
       "...        ...             ...              ...  \n",
       "1876  usd-coin   -210914.69071   -211148.226138  \n",
       "1882  usd-coin    733333.60583    732455.736932  \n",
       "1888  usd-coin    222046.62330    222501.240327  \n",
       "1894  usd-coin    180167.81207    180439.532031  \n",
       "1900  usd-coin   -248851.79438   -249086.776928  \n",
       "\n",
       "[233 rows x 9 columns]"
      ]
     },
     "execution_count": 184,
     "metadata": {},
     "output_type": "execute_result"
    }
   ],
   "source": [
    "data_df[data_df['protocol']=='perpetual-protocol'].sort_values(by='date')\n"
   ]
  },
  {
   "cell_type": "code",
   "execution_count": 185,
   "id": "59f3f879",
   "metadata": {},
   "outputs": [
    {
     "data": {
      "text/html": [
       "<div>\n",
       "<style scoped>\n",
       "    .dataframe tbody tr th:only-of-type {\n",
       "        vertical-align: middle;\n",
       "    }\n",
       "\n",
       "    .dataframe tbody tr th {\n",
       "        vertical-align: top;\n",
       "    }\n",
       "\n",
       "    .dataframe thead th {\n",
       "        text-align: right;\n",
       "    }\n",
       "</style>\n",
       "<table border=\"1\" class=\"dataframe\">\n",
       "  <thead>\n",
       "    <tr style=\"text-align: right;\">\n",
       "      <th></th>\n",
       "      <th>date</th>\n",
       "      <th>protocol</th>\n",
       "      <th>net_dollar_flow</th>\n",
       "      <th>cumul_net_dollar_flow</th>\n",
       "    </tr>\n",
       "  </thead>\n",
       "  <tbody>\n",
       "    <tr>\n",
       "      <th>0</th>\n",
       "      <td>2022-07-13</td>\n",
       "      <td>velodrome</td>\n",
       "      <td>1.289995e+06</td>\n",
       "      <td>1.289995e+06</td>\n",
       "    </tr>\n",
       "    <tr>\n",
       "      <th>1</th>\n",
       "      <td>2022-07-14</td>\n",
       "      <td>perpetual-protocol</td>\n",
       "      <td>8.598914e+04</td>\n",
       "      <td>8.598914e+04</td>\n",
       "    </tr>\n",
       "    <tr>\n",
       "      <th>2</th>\n",
       "      <td>2022-07-14</td>\n",
       "      <td>pooltogether</td>\n",
       "      <td>-1.568344e+04</td>\n",
       "      <td>-1.568344e+04</td>\n",
       "    </tr>\n",
       "    <tr>\n",
       "      <th>3</th>\n",
       "      <td>2022-07-14</td>\n",
       "      <td>thales</td>\n",
       "      <td>9.676367e+03</td>\n",
       "      <td>9.676367e+03</td>\n",
       "    </tr>\n",
       "    <tr>\n",
       "      <th>4</th>\n",
       "      <td>2022-07-14</td>\n",
       "      <td>velodrome</td>\n",
       "      <td>5.067062e+06</td>\n",
       "      <td>6.357057e+06</td>\n",
       "    </tr>\n",
       "    <tr>\n",
       "      <th>...</th>\n",
       "      <td>...</td>\n",
       "      <td>...</td>\n",
       "      <td>...</td>\n",
       "      <td>...</td>\n",
       "    </tr>\n",
       "    <tr>\n",
       "      <th>129</th>\n",
       "      <td>2022-08-06</td>\n",
       "      <td>rubicon</td>\n",
       "      <td>3.525457e+05</td>\n",
       "      <td>4.734173e+06</td>\n",
       "    </tr>\n",
       "    <tr>\n",
       "      <th>130</th>\n",
       "      <td>2022-08-06</td>\n",
       "      <td>stargate</td>\n",
       "      <td>-1.584665e+06</td>\n",
       "      <td>9.845168e+06</td>\n",
       "    </tr>\n",
       "    <tr>\n",
       "      <th>131</th>\n",
       "      <td>2022-08-06</td>\n",
       "      <td>thales</td>\n",
       "      <td>-2.254029e+04</td>\n",
       "      <td>4.940000e+04</td>\n",
       "    </tr>\n",
       "    <tr>\n",
       "      <th>132</th>\n",
       "      <td>2022-08-06</td>\n",
       "      <td>velodrome</td>\n",
       "      <td>-1.502144e+06</td>\n",
       "      <td>9.108936e+07</td>\n",
       "    </tr>\n",
       "    <tr>\n",
       "      <th>133</th>\n",
       "      <td>2022-08-06</td>\n",
       "      <td>wepiggy</td>\n",
       "      <td>3.130248e+05</td>\n",
       "      <td>3.607867e+06</td>\n",
       "    </tr>\n",
       "  </tbody>\n",
       "</table>\n",
       "<p>134 rows × 4 columns</p>\n",
       "</div>"
      ],
      "text/plain": [
       "          date            protocol  net_dollar_flow  cumul_net_dollar_flow\n",
       "0   2022-07-13           velodrome     1.289995e+06           1.289995e+06\n",
       "1   2022-07-14  perpetual-protocol     8.598914e+04           8.598914e+04\n",
       "2   2022-07-14        pooltogether    -1.568344e+04          -1.568344e+04\n",
       "3   2022-07-14              thales     9.676367e+03           9.676367e+03\n",
       "4   2022-07-14           velodrome     5.067062e+06           6.357057e+06\n",
       "..         ...                 ...              ...                    ...\n",
       "129 2022-08-06             rubicon     3.525457e+05           4.734173e+06\n",
       "130 2022-08-06            stargate    -1.584665e+06           9.845168e+06\n",
       "131 2022-08-06              thales    -2.254029e+04           4.940000e+04\n",
       "132 2022-08-06           velodrome    -1.502144e+06           9.108936e+07\n",
       "133 2022-08-06             wepiggy     3.130248e+05           3.607867e+06\n",
       "\n",
       "[134 rows x 4 columns]"
      ]
     },
     "execution_count": 185,
     "metadata": {},
     "output_type": "execute_result"
    }
   ],
   "source": [
    "netdf_df = data_df[data_df['date']>= data_df['start_date']][['date','protocol','net_dollar_flow']]\n",
    "netdf_df = netdf_df.groupby(['date','protocol']).sum(['net_dollar_flow'])\n",
    "netdf_df['cumul_net_dollar_flow'] = netdf_df.groupby(['protocol']).cumsum()\n",
    "netdf_df.reset_index(inplace=True)\n",
    "\n",
    "netdf_df"
   ]
  },
  {
   "cell_type": "code",
   "execution_count": 190,
   "id": "546e13b8",
   "metadata": {},
   "outputs": [
    {
     "name": "stdout",
     "output_type": "stream",
     "text": [
      "0               velodrome\n",
      "1      perpetual-protocol\n",
      "2            pooltogether\n",
      "3                  thales\n",
      "7                 rubicon\n",
      "95                   lyra\n",
      "107               wepiggy\n",
      "108               aave-v3\n",
      "121              stargate\n",
      "Name: protocol, dtype: object\n"
     ]
    }
   ],
   "source": [
    "fig = px.line(netdf_df, x=\"date\", y=\"net_dollar_flow\", color=\"protocol\", \\\n",
    "             title=\"Daily Net Dollar Flow since Program Announcement\",\\\n",
    "            labels={\n",
    "                     \"date\": \"Day\",\n",
    "                     \"net_dollar_flow\": \"Net Dollar Flow (N$F)\"\n",
    "                 }\n",
    "            )\n",
    "fig.update_layout(\n",
    "    legend_title=\"App Name\"\n",
    ")\n",
    "fig.update_layout(yaxis_tickprefix = '$')\n",
    "fig.write_image(\"img_outputs/svg/daily_ndf.svg\")\n",
    "fig.write_image(\"img_outputs/png/daily_ndf.png\")\n",
    "\n",
    "# cumul_fig = px.area(netdf_df, x=\"date\", y=\"cumul_net_dollar_flow\", color=\"protocol\", \\\n",
    "#              title=\"Cumulative Dollar Flow since Program Announcement\",\\\n",
    "#                    labels={\n",
    "#                      \"date\": \"Day\",\n",
    "#                      \"cumul_net_dollar_flow\": \"Cumulative Net Dollar Flow (N$F)\"\n",
    "#                  }\n",
    "#             ,areamode='group')\n",
    "# cumul_fig.update_layout(yaxis_tickprefix = '$')\n",
    "# cumul_fig.show()\n",
    "\n",
    "\n",
    "cumul_fig = go.Figure()\n",
    "proto_names = netdf_df['protocol'].drop_duplicates()\n",
    "print(proto_names)\n",
    "for p in proto_names:\n",
    "    cumul_fig.add_trace(go.Scatter(x=netdf_df[netdf_df['protocol'] == p]['date'] \\\n",
    "                                   , y=netdf_df[netdf_df['protocol'] == p]['cumul_net_dollar_flow'] \\\n",
    "                                    ,name = p\\\n",
    "                                  ,fill='tozeroy')) # fill down to xaxis\n",
    "\n",
    "cumul_fig.update_layout(yaxis_tickprefix = '$')\n",
    "cumul_fig.update_layout(\n",
    "    title=\"Cumulative Dollar Flow since Program Announcement\",\n",
    "    xaxis_title=\"Day\",\n",
    "    yaxis_title=\"Cumulative Net Dollar Flow (N$F)\",\n",
    "    legend_title=\"App Name\",\n",
    "#     color_discrete_map=px.colors.qualitative.G10\n",
    ")\n",
    "cumul_fig.write_image(\"img_outputs/svg/cumul_ndf.svg\")\n",
    "cumul_fig.write_image(\"img_outputs/png/cumul_ndf.png\")\n"
   ]
  },
  {
   "cell_type": "code",
   "execution_count": 191,
   "id": "957b6244",
   "metadata": {},
   "outputs": [
    {
     "data": {
      "application/vnd.plotly.v1+json": {
       "config": {
        "plotlyServerURL": "https://plot.ly"
       },
       "data": [
        {
         "hovertemplate": "protocol=velodrome<br>Day=%{x}<br>Net Dollar Flow (N$F)=%{y}<extra></extra>",
         "legendgroup": "velodrome",
         "line": {
          "color": "#636efa",
          "dash": "solid"
         },
         "mode": "lines",
         "name": "velodrome",
         "orientation": "v",
         "showlegend": true,
         "type": "scatter",
         "x": [
          "2022-07-13T00:00:00",
          "2022-07-14T00:00:00",
          "2022-07-15T00:00:00",
          "2022-07-16T00:00:00",
          "2022-07-17T00:00:00",
          "2022-07-18T00:00:00",
          "2022-07-19T00:00:00",
          "2022-07-20T00:00:00",
          "2022-07-21T00:00:00",
          "2022-07-22T00:00:00",
          "2022-07-23T00:00:00",
          "2022-07-24T00:00:00",
          "2022-07-25T00:00:00",
          "2022-07-26T00:00:00",
          "2022-07-27T00:00:00",
          "2022-07-28T00:00:00",
          "2022-07-29T00:00:00",
          "2022-07-30T00:00:00",
          "2022-07-31T00:00:00",
          "2022-08-01T00:00:00",
          "2022-08-02T00:00:00",
          "2022-08-03T00:00:00",
          "2022-08-04T00:00:00",
          "2022-08-05T00:00:00",
          "2022-08-06T00:00:00"
         ],
         "xaxis": "x",
         "y": [
          1289994.8824221054,
          5067062.383070689,
          4678009.109642567,
          11363859.68622221,
          2862101.901755576,
          6663270.152753987,
          4116958.5715612173,
          6878646.669916253,
          1697647.6878684459,
          2584880.1092310543,
          2004910.1693547976,
          2486690.471994734,
          4449872.339357445,
          2806649.8783562505,
          11179288.705768315,
          4314172.334957917,
          11164127.522425665,
          12325432.455652319,
          1746563.928981371,
          410258.463531741,
          -4151210.294078183,
          802294.2744602636,
          -9774463.791080922,
          5624482.367642691,
          -1502144.244279803
         ],
         "yaxis": "y"
        },
        {
         "hovertemplate": "protocol=perpetual-protocol<br>Day=%{x}<br>Net Dollar Flow (N$F)=%{y}<extra></extra>",
         "legendgroup": "perpetual-protocol",
         "line": {
          "color": "#EF553B",
          "dash": "solid"
         },
         "mode": "lines",
         "name": "perpetual-protocol",
         "orientation": "v",
         "showlegend": true,
         "type": "scatter",
         "x": [
          "2022-07-14T00:00:00",
          "2022-07-15T00:00:00",
          "2022-07-16T00:00:00",
          "2022-07-17T00:00:00",
          "2022-07-18T00:00:00",
          "2022-07-19T00:00:00",
          "2022-07-20T00:00:00",
          "2022-07-21T00:00:00",
          "2022-07-22T00:00:00",
          "2022-07-23T00:00:00",
          "2022-07-24T00:00:00",
          "2022-07-25T00:00:00",
          "2022-07-26T00:00:00",
          "2022-07-27T00:00:00",
          "2022-07-28T00:00:00",
          "2022-07-29T00:00:00",
          "2022-07-30T00:00:00",
          "2022-07-31T00:00:00",
          "2022-08-01T00:00:00",
          "2022-08-02T00:00:00",
          "2022-08-03T00:00:00",
          "2022-08-04T00:00:00",
          "2022-08-05T00:00:00",
          "2022-08-06T00:00:00"
         ],
         "xaxis": "x",
         "y": [
          85989.13927308508,
          9469.276946094098,
          63485.44541286075,
          6386.939300863225,
          -6516346.785368093,
          478496.2842833501,
          112717.16853103589,
          -257873.87999270667,
          -116656.62976973588,
          328902.4341931001,
          -12456.95558682217,
          15445.645229237838,
          -339879.99831708043,
          -6980.023506079774,
          62447.41301036458,
          17574.67492308714,
          -9451.307057371483,
          -100330.03908844631,
          -5848.707103137878,
          -211148.2261383118,
          732455.7369316551,
          222501.24032730344,
          180439.53203145173,
          -249086.77692817364
         ],
         "yaxis": "y"
        },
        {
         "hovertemplate": "protocol=pooltogether<br>Day=%{x}<br>Net Dollar Flow (N$F)=%{y}<extra></extra>",
         "legendgroup": "pooltogether",
         "line": {
          "color": "#00cc96",
          "dash": "solid"
         },
         "mode": "lines",
         "name": "pooltogether",
         "orientation": "v",
         "showlegend": true,
         "type": "scatter",
         "x": [
          "2022-07-14T00:00:00",
          "2022-07-15T00:00:00",
          "2022-07-16T00:00:00",
          "2022-07-17T00:00:00",
          "2022-07-18T00:00:00",
          "2022-07-19T00:00:00",
          "2022-07-20T00:00:00",
          "2022-07-21T00:00:00",
          "2022-07-22T00:00:00",
          "2022-07-23T00:00:00",
          "2022-07-24T00:00:00",
          "2022-07-25T00:00:00",
          "2022-07-26T00:00:00",
          "2022-07-27T00:00:00",
          "2022-07-28T00:00:00",
          "2022-07-29T00:00:00",
          "2022-07-30T00:00:00",
          "2022-07-31T00:00:00",
          "2022-08-01T00:00:00",
          "2022-08-02T00:00:00",
          "2022-08-03T00:00:00",
          "2022-08-04T00:00:00",
          "2022-08-05T00:00:00",
          "2022-08-06T00:00:00"
         ],
         "xaxis": "x",
         "y": [
          -15683.435586405627,
          119655.26552109815,
          17052.633123933578,
          85379.40025163374,
          23389.14209083029,
          251037.12054248847,
          72497.23016151623,
          62376.07515718985,
          381049.62108613143,
          817135.9606906264,
          260563.24628006062,
          359792.18299036927,
          3130961.3929644288,
          6938399.80079655,
          4646238.219207476,
          1895931.2441462155,
          698094.4588980846,
          586957.8696438496,
          622509.2963660801,
          660716.0678807844,
          1007059.0235229745,
          3196014.566853467,
          1187182.163814568,
          3144832.361692939
         ],
         "yaxis": "y"
        },
        {
         "hovertemplate": "protocol=thales<br>Day=%{x}<br>Net Dollar Flow (N$F)=%{y}<extra></extra>",
         "legendgroup": "thales",
         "line": {
          "color": "#ab63fa",
          "dash": "solid"
         },
         "mode": "lines",
         "name": "thales",
         "orientation": "v",
         "showlegend": true,
         "type": "scatter",
         "x": [
          "2022-07-14T00:00:00",
          "2022-07-15T00:00:00",
          "2022-07-16T00:00:00",
          "2022-07-17T00:00:00",
          "2022-07-18T00:00:00",
          "2022-07-19T00:00:00",
          "2022-07-20T00:00:00",
          "2022-07-21T00:00:00",
          "2022-07-22T00:00:00",
          "2022-07-23T00:00:00",
          "2022-07-24T00:00:00",
          "2022-07-25T00:00:00",
          "2022-07-26T00:00:00",
          "2022-07-27T00:00:00",
          "2022-07-28T00:00:00",
          "2022-07-29T00:00:00",
          "2022-07-30T00:00:00",
          "2022-07-31T00:00:00",
          "2022-08-01T00:00:00",
          "2022-08-02T00:00:00",
          "2022-08-03T00:00:00",
          "2022-08-04T00:00:00",
          "2022-08-05T00:00:00",
          "2022-08-06T00:00:00"
         ],
         "xaxis": "x",
         "y": [
          9676.36664986585,
          34536.11124910933,
          11645.494859558645,
          -6930.266830677911,
          -3042.1489863987113,
          -1321.4914406602686,
          -6005.718199747066,
          -1357.5274635315316,
          50290.918445722324,
          14499.391534477052,
          -500.6334093847131,
          -3693.3668149636187,
          -39199.33164252589,
          -7215.933515158789,
          3743.872369625889,
          23336.35566075132,
          -4636.276043623563,
          1770.0382585583527,
          5089.079381025972,
          2279.240485997483,
          -3556.265569058873,
          -24970.69040094154,
          17503.068928926114,
          -22540.290782883076
         ],
         "yaxis": "y"
        },
        {
         "hovertemplate": "protocol=rubicon<br>Day=%{x}<br>Net Dollar Flow (N$F)=%{y}<extra></extra>",
         "legendgroup": "rubicon",
         "line": {
          "color": "#FFA15A",
          "dash": "solid"
         },
         "mode": "lines",
         "name": "rubicon",
         "orientation": "v",
         "showlegend": true,
         "type": "scatter",
         "x": [
          "2022-07-15T00:00:00",
          "2022-07-16T00:00:00",
          "2022-07-17T00:00:00",
          "2022-07-18T00:00:00",
          "2022-07-19T00:00:00",
          "2022-07-20T00:00:00",
          "2022-07-21T00:00:00",
          "2022-07-22T00:00:00",
          "2022-07-23T00:00:00",
          "2022-07-24T00:00:00",
          "2022-07-25T00:00:00",
          "2022-07-26T00:00:00",
          "2022-07-27T00:00:00",
          "2022-07-28T00:00:00",
          "2022-07-29T00:00:00",
          "2022-07-30T00:00:00",
          "2022-07-31T00:00:00",
          "2022-08-01T00:00:00",
          "2022-08-02T00:00:00",
          "2022-08-03T00:00:00",
          "2022-08-04T00:00:00",
          "2022-08-05T00:00:00",
          "2022-08-06T00:00:00"
         ],
         "xaxis": "x",
         "y": [
          74847.34824417513,
          71512.63433915236,
          36721.79289313359,
          67361.79327406359,
          17179.62208344996,
          33483.25076387791,
          55066.72308560415,
          109342.83628019171,
          12662.9899680669,
          182244.09495383402,
          28358.180653816285,
          88154.01412639514,
          1676.7741584946398,
          142327.06776906562,
          152311.4997533388,
          70558.20174724523,
          129036.10611421513,
          483495.3135337168,
          27939.230154396013,
          -68512.88821410401,
          142491.07546338986,
          2523369.8901030044,
          352545.74108257995
         ],
         "yaxis": "y"
        },
        {
         "hovertemplate": "protocol=lyra<br>Day=%{x}<br>Net Dollar Flow (N$F)=%{y}<extra></extra>",
         "legendgroup": "lyra",
         "line": {
          "color": "#19d3f3",
          "dash": "solid"
         },
         "mode": "lines",
         "name": "lyra",
         "orientation": "v",
         "showlegend": true,
         "type": "scatter",
         "x": [
          "2022-08-02T00:00:00",
          "2022-08-03T00:00:00",
          "2022-08-04T00:00:00",
          "2022-08-05T00:00:00",
          "2022-08-06T00:00:00"
         ],
         "xaxis": "x",
         "y": [
          1823682.490069351,
          4372035.533565732,
          1854110.177430578,
          452205.1516063828,
          703999.9009292477
         ],
         "yaxis": "y"
        },
        {
         "hovertemplate": "protocol=wepiggy<br>Day=%{x}<br>Net Dollar Flow (N$F)=%{y}<extra></extra>",
         "legendgroup": "wepiggy",
         "line": {
          "color": "#FF6692",
          "dash": "solid"
         },
         "mode": "lines",
         "name": "wepiggy",
         "orientation": "v",
         "showlegend": true,
         "type": "scatter",
         "x": [
          "2022-08-03T00:00:00",
          "2022-08-04T00:00:00",
          "2022-08-05T00:00:00",
          "2022-08-06T00:00:00"
         ],
         "xaxis": "x",
         "y": [
          1779211.1212550504,
          540446.4987437626,
          975184.0804256732,
          313024.83719922893
         ],
         "yaxis": "y"
        },
        {
         "hovertemplate": "protocol=aave-v3<br>Day=%{x}<br>Net Dollar Flow (N$F)=%{y}<extra></extra>",
         "legendgroup": "aave-v3",
         "line": {
          "color": "#B6E880",
          "dash": "solid"
         },
         "mode": "lines",
         "name": "aave-v3",
         "orientation": "v",
         "showlegend": true,
         "type": "scatter",
         "x": [
          "2022-08-04T00:00:00",
          "2022-08-05T00:00:00",
          "2022-08-06T00:00:00"
         ],
         "xaxis": "x",
         "y": [
          239937989.68652135,
          164752348.973441,
          64726951.43831408
         ],
         "yaxis": "y"
        },
        {
         "hovertemplate": "protocol=stargate<br>Day=%{x}<br>Net Dollar Flow (N$F)=%{y}<extra></extra>",
         "legendgroup": "stargate",
         "line": {
          "color": "#FF97FF",
          "dash": "solid"
         },
         "mode": "lines",
         "name": "stargate",
         "orientation": "v",
         "showlegend": true,
         "type": "scatter",
         "x": [
          "2022-08-05T00:00:00",
          "2022-08-06T00:00:00"
         ],
         "xaxis": "x",
         "y": [
          11429832.22017636,
          -1584664.6825790026
         ],
         "yaxis": "y"
        }
       ],
       "layout": {
        "legend": {
         "title": {
          "text": "App Name"
         },
         "tracegroupgap": 0
        },
        "template": {
         "data": {
          "bar": [
           {
            "error_x": {
             "color": "#2a3f5f"
            },
            "error_y": {
             "color": "#2a3f5f"
            },
            "marker": {
             "line": {
              "color": "#E5ECF6",
              "width": 0.5
             },
             "pattern": {
              "fillmode": "overlay",
              "size": 10,
              "solidity": 0.2
             }
            },
            "type": "bar"
           }
          ],
          "barpolar": [
           {
            "marker": {
             "line": {
              "color": "#E5ECF6",
              "width": 0.5
             },
             "pattern": {
              "fillmode": "overlay",
              "size": 10,
              "solidity": 0.2
             }
            },
            "type": "barpolar"
           }
          ],
          "carpet": [
           {
            "aaxis": {
             "endlinecolor": "#2a3f5f",
             "gridcolor": "white",
             "linecolor": "white",
             "minorgridcolor": "white",
             "startlinecolor": "#2a3f5f"
            },
            "baxis": {
             "endlinecolor": "#2a3f5f",
             "gridcolor": "white",
             "linecolor": "white",
             "minorgridcolor": "white",
             "startlinecolor": "#2a3f5f"
            },
            "type": "carpet"
           }
          ],
          "choropleth": [
           {
            "colorbar": {
             "outlinewidth": 0,
             "ticks": ""
            },
            "type": "choropleth"
           }
          ],
          "contour": [
           {
            "colorbar": {
             "outlinewidth": 0,
             "ticks": ""
            },
            "colorscale": [
             [
              0,
              "#0d0887"
             ],
             [
              0.1111111111111111,
              "#46039f"
             ],
             [
              0.2222222222222222,
              "#7201a8"
             ],
             [
              0.3333333333333333,
              "#9c179e"
             ],
             [
              0.4444444444444444,
              "#bd3786"
             ],
             [
              0.5555555555555556,
              "#d8576b"
             ],
             [
              0.6666666666666666,
              "#ed7953"
             ],
             [
              0.7777777777777778,
              "#fb9f3a"
             ],
             [
              0.8888888888888888,
              "#fdca26"
             ],
             [
              1,
              "#f0f921"
             ]
            ],
            "type": "contour"
           }
          ],
          "contourcarpet": [
           {
            "colorbar": {
             "outlinewidth": 0,
             "ticks": ""
            },
            "type": "contourcarpet"
           }
          ],
          "heatmap": [
           {
            "colorbar": {
             "outlinewidth": 0,
             "ticks": ""
            },
            "colorscale": [
             [
              0,
              "#0d0887"
             ],
             [
              0.1111111111111111,
              "#46039f"
             ],
             [
              0.2222222222222222,
              "#7201a8"
             ],
             [
              0.3333333333333333,
              "#9c179e"
             ],
             [
              0.4444444444444444,
              "#bd3786"
             ],
             [
              0.5555555555555556,
              "#d8576b"
             ],
             [
              0.6666666666666666,
              "#ed7953"
             ],
             [
              0.7777777777777778,
              "#fb9f3a"
             ],
             [
              0.8888888888888888,
              "#fdca26"
             ],
             [
              1,
              "#f0f921"
             ]
            ],
            "type": "heatmap"
           }
          ],
          "heatmapgl": [
           {
            "colorbar": {
             "outlinewidth": 0,
             "ticks": ""
            },
            "colorscale": [
             [
              0,
              "#0d0887"
             ],
             [
              0.1111111111111111,
              "#46039f"
             ],
             [
              0.2222222222222222,
              "#7201a8"
             ],
             [
              0.3333333333333333,
              "#9c179e"
             ],
             [
              0.4444444444444444,
              "#bd3786"
             ],
             [
              0.5555555555555556,
              "#d8576b"
             ],
             [
              0.6666666666666666,
              "#ed7953"
             ],
             [
              0.7777777777777778,
              "#fb9f3a"
             ],
             [
              0.8888888888888888,
              "#fdca26"
             ],
             [
              1,
              "#f0f921"
             ]
            ],
            "type": "heatmapgl"
           }
          ],
          "histogram": [
           {
            "marker": {
             "pattern": {
              "fillmode": "overlay",
              "size": 10,
              "solidity": 0.2
             }
            },
            "type": "histogram"
           }
          ],
          "histogram2d": [
           {
            "colorbar": {
             "outlinewidth": 0,
             "ticks": ""
            },
            "colorscale": [
             [
              0,
              "#0d0887"
             ],
             [
              0.1111111111111111,
              "#46039f"
             ],
             [
              0.2222222222222222,
              "#7201a8"
             ],
             [
              0.3333333333333333,
              "#9c179e"
             ],
             [
              0.4444444444444444,
              "#bd3786"
             ],
             [
              0.5555555555555556,
              "#d8576b"
             ],
             [
              0.6666666666666666,
              "#ed7953"
             ],
             [
              0.7777777777777778,
              "#fb9f3a"
             ],
             [
              0.8888888888888888,
              "#fdca26"
             ],
             [
              1,
              "#f0f921"
             ]
            ],
            "type": "histogram2d"
           }
          ],
          "histogram2dcontour": [
           {
            "colorbar": {
             "outlinewidth": 0,
             "ticks": ""
            },
            "colorscale": [
             [
              0,
              "#0d0887"
             ],
             [
              0.1111111111111111,
              "#46039f"
             ],
             [
              0.2222222222222222,
              "#7201a8"
             ],
             [
              0.3333333333333333,
              "#9c179e"
             ],
             [
              0.4444444444444444,
              "#bd3786"
             ],
             [
              0.5555555555555556,
              "#d8576b"
             ],
             [
              0.6666666666666666,
              "#ed7953"
             ],
             [
              0.7777777777777778,
              "#fb9f3a"
             ],
             [
              0.8888888888888888,
              "#fdca26"
             ],
             [
              1,
              "#f0f921"
             ]
            ],
            "type": "histogram2dcontour"
           }
          ],
          "mesh3d": [
           {
            "colorbar": {
             "outlinewidth": 0,
             "ticks": ""
            },
            "type": "mesh3d"
           }
          ],
          "parcoords": [
           {
            "line": {
             "colorbar": {
              "outlinewidth": 0,
              "ticks": ""
             }
            },
            "type": "parcoords"
           }
          ],
          "pie": [
           {
            "automargin": true,
            "type": "pie"
           }
          ],
          "scatter": [
           {
            "marker": {
             "colorbar": {
              "outlinewidth": 0,
              "ticks": ""
             }
            },
            "type": "scatter"
           }
          ],
          "scatter3d": [
           {
            "line": {
             "colorbar": {
              "outlinewidth": 0,
              "ticks": ""
             }
            },
            "marker": {
             "colorbar": {
              "outlinewidth": 0,
              "ticks": ""
             }
            },
            "type": "scatter3d"
           }
          ],
          "scattercarpet": [
           {
            "marker": {
             "colorbar": {
              "outlinewidth": 0,
              "ticks": ""
             }
            },
            "type": "scattercarpet"
           }
          ],
          "scattergeo": [
           {
            "marker": {
             "colorbar": {
              "outlinewidth": 0,
              "ticks": ""
             }
            },
            "type": "scattergeo"
           }
          ],
          "scattergl": [
           {
            "marker": {
             "colorbar": {
              "outlinewidth": 0,
              "ticks": ""
             }
            },
            "type": "scattergl"
           }
          ],
          "scattermapbox": [
           {
            "marker": {
             "colorbar": {
              "outlinewidth": 0,
              "ticks": ""
             }
            },
            "type": "scattermapbox"
           }
          ],
          "scatterpolar": [
           {
            "marker": {
             "colorbar": {
              "outlinewidth": 0,
              "ticks": ""
             }
            },
            "type": "scatterpolar"
           }
          ],
          "scatterpolargl": [
           {
            "marker": {
             "colorbar": {
              "outlinewidth": 0,
              "ticks": ""
             }
            },
            "type": "scatterpolargl"
           }
          ],
          "scatterternary": [
           {
            "marker": {
             "colorbar": {
              "outlinewidth": 0,
              "ticks": ""
             }
            },
            "type": "scatterternary"
           }
          ],
          "surface": [
           {
            "colorbar": {
             "outlinewidth": 0,
             "ticks": ""
            },
            "colorscale": [
             [
              0,
              "#0d0887"
             ],
             [
              0.1111111111111111,
              "#46039f"
             ],
             [
              0.2222222222222222,
              "#7201a8"
             ],
             [
              0.3333333333333333,
              "#9c179e"
             ],
             [
              0.4444444444444444,
              "#bd3786"
             ],
             [
              0.5555555555555556,
              "#d8576b"
             ],
             [
              0.6666666666666666,
              "#ed7953"
             ],
             [
              0.7777777777777778,
              "#fb9f3a"
             ],
             [
              0.8888888888888888,
              "#fdca26"
             ],
             [
              1,
              "#f0f921"
             ]
            ],
            "type": "surface"
           }
          ],
          "table": [
           {
            "cells": {
             "fill": {
              "color": "#EBF0F8"
             },
             "line": {
              "color": "white"
             }
            },
            "header": {
             "fill": {
              "color": "#C8D4E3"
             },
             "line": {
              "color": "white"
             }
            },
            "type": "table"
           }
          ]
         },
         "layout": {
          "annotationdefaults": {
           "arrowcolor": "#2a3f5f",
           "arrowhead": 0,
           "arrowwidth": 1
          },
          "autotypenumbers": "strict",
          "coloraxis": {
           "colorbar": {
            "outlinewidth": 0,
            "ticks": ""
           }
          },
          "colorscale": {
           "diverging": [
            [
             0,
             "#8e0152"
            ],
            [
             0.1,
             "#c51b7d"
            ],
            [
             0.2,
             "#de77ae"
            ],
            [
             0.3,
             "#f1b6da"
            ],
            [
             0.4,
             "#fde0ef"
            ],
            [
             0.5,
             "#f7f7f7"
            ],
            [
             0.6,
             "#e6f5d0"
            ],
            [
             0.7,
             "#b8e186"
            ],
            [
             0.8,
             "#7fbc41"
            ],
            [
             0.9,
             "#4d9221"
            ],
            [
             1,
             "#276419"
            ]
           ],
           "sequential": [
            [
             0,
             "#0d0887"
            ],
            [
             0.1111111111111111,
             "#46039f"
            ],
            [
             0.2222222222222222,
             "#7201a8"
            ],
            [
             0.3333333333333333,
             "#9c179e"
            ],
            [
             0.4444444444444444,
             "#bd3786"
            ],
            [
             0.5555555555555556,
             "#d8576b"
            ],
            [
             0.6666666666666666,
             "#ed7953"
            ],
            [
             0.7777777777777778,
             "#fb9f3a"
            ],
            [
             0.8888888888888888,
             "#fdca26"
            ],
            [
             1,
             "#f0f921"
            ]
           ],
           "sequentialminus": [
            [
             0,
             "#0d0887"
            ],
            [
             0.1111111111111111,
             "#46039f"
            ],
            [
             0.2222222222222222,
             "#7201a8"
            ],
            [
             0.3333333333333333,
             "#9c179e"
            ],
            [
             0.4444444444444444,
             "#bd3786"
            ],
            [
             0.5555555555555556,
             "#d8576b"
            ],
            [
             0.6666666666666666,
             "#ed7953"
            ],
            [
             0.7777777777777778,
             "#fb9f3a"
            ],
            [
             0.8888888888888888,
             "#fdca26"
            ],
            [
             1,
             "#f0f921"
            ]
           ]
          },
          "colorway": [
           "#636efa",
           "#EF553B",
           "#00cc96",
           "#ab63fa",
           "#FFA15A",
           "#19d3f3",
           "#FF6692",
           "#B6E880",
           "#FF97FF",
           "#FECB52"
          ],
          "font": {
           "color": "#2a3f5f"
          },
          "geo": {
           "bgcolor": "white",
           "lakecolor": "white",
           "landcolor": "#E5ECF6",
           "showlakes": true,
           "showland": true,
           "subunitcolor": "white"
          },
          "hoverlabel": {
           "align": "left"
          },
          "hovermode": "closest",
          "mapbox": {
           "style": "light"
          },
          "paper_bgcolor": "white",
          "plot_bgcolor": "#E5ECF6",
          "polar": {
           "angularaxis": {
            "gridcolor": "white",
            "linecolor": "white",
            "ticks": ""
           },
           "bgcolor": "#E5ECF6",
           "radialaxis": {
            "gridcolor": "white",
            "linecolor": "white",
            "ticks": ""
           }
          },
          "scene": {
           "xaxis": {
            "backgroundcolor": "#E5ECF6",
            "gridcolor": "white",
            "gridwidth": 2,
            "linecolor": "white",
            "showbackground": true,
            "ticks": "",
            "zerolinecolor": "white"
           },
           "yaxis": {
            "backgroundcolor": "#E5ECF6",
            "gridcolor": "white",
            "gridwidth": 2,
            "linecolor": "white",
            "showbackground": true,
            "ticks": "",
            "zerolinecolor": "white"
           },
           "zaxis": {
            "backgroundcolor": "#E5ECF6",
            "gridcolor": "white",
            "gridwidth": 2,
            "linecolor": "white",
            "showbackground": true,
            "ticks": "",
            "zerolinecolor": "white"
           }
          },
          "shapedefaults": {
           "line": {
            "color": "#2a3f5f"
           }
          },
          "ternary": {
           "aaxis": {
            "gridcolor": "white",
            "linecolor": "white",
            "ticks": ""
           },
           "baxis": {
            "gridcolor": "white",
            "linecolor": "white",
            "ticks": ""
           },
           "bgcolor": "#E5ECF6",
           "caxis": {
            "gridcolor": "white",
            "linecolor": "white",
            "ticks": ""
           }
          },
          "title": {
           "x": 0.05
          },
          "xaxis": {
           "automargin": true,
           "gridcolor": "white",
           "linecolor": "white",
           "ticks": "",
           "title": {
            "standoff": 15
           },
           "zerolinecolor": "white",
           "zerolinewidth": 2
          },
          "yaxis": {
           "automargin": true,
           "gridcolor": "white",
           "linecolor": "white",
           "ticks": "",
           "title": {
            "standoff": 15
           },
           "zerolinecolor": "white",
           "zerolinewidth": 2
          }
         }
        },
        "title": {
         "text": "Daily Net Dollar Flow since Program Announcement"
        },
        "xaxis": {
         "anchor": "y",
         "domain": [
          0,
          1
         ],
         "title": {
          "text": "Day"
         }
        },
        "yaxis": {
         "anchor": "x",
         "domain": [
          0,
          1
         ],
         "tickprefix": "$",
         "title": {
          "text": "Net Dollar Flow (N$F)"
         }
        }
       }
      },
      "text/html": [
       "<div>                            <div id=\"3afc105e-fa83-459d-8a3c-af1eec599730\" class=\"plotly-graph-div\" style=\"height:525px; width:100%;\"></div>            <script type=\"text/javascript\">                require([\"plotly\"], function(Plotly) {                    window.PLOTLYENV=window.PLOTLYENV || {};                                    if (document.getElementById(\"3afc105e-fa83-459d-8a3c-af1eec599730\")) {                    Plotly.newPlot(                        \"3afc105e-fa83-459d-8a3c-af1eec599730\",                        [{\"hovertemplate\":\"protocol=velodrome<br>Day=%{x}<br>Net Dollar Flow (N$F)=%{y}<extra></extra>\",\"legendgroup\":\"velodrome\",\"line\":{\"color\":\"#636efa\",\"dash\":\"solid\"},\"mode\":\"lines\",\"name\":\"velodrome\",\"orientation\":\"v\",\"showlegend\":true,\"type\":\"scatter\",\"x\":[\"2022-07-13T00:00:00\",\"2022-07-14T00:00:00\",\"2022-07-15T00:00:00\",\"2022-07-16T00:00:00\",\"2022-07-17T00:00:00\",\"2022-07-18T00:00:00\",\"2022-07-19T00:00:00\",\"2022-07-20T00:00:00\",\"2022-07-21T00:00:00\",\"2022-07-22T00:00:00\",\"2022-07-23T00:00:00\",\"2022-07-24T00:00:00\",\"2022-07-25T00:00:00\",\"2022-07-26T00:00:00\",\"2022-07-27T00:00:00\",\"2022-07-28T00:00:00\",\"2022-07-29T00:00:00\",\"2022-07-30T00:00:00\",\"2022-07-31T00:00:00\",\"2022-08-01T00:00:00\",\"2022-08-02T00:00:00\",\"2022-08-03T00:00:00\",\"2022-08-04T00:00:00\",\"2022-08-05T00:00:00\",\"2022-08-06T00:00:00\"],\"xaxis\":\"x\",\"y\":[1289994.8824221054,5067062.383070689,4678009.109642567,11363859.68622221,2862101.901755576,6663270.152753987,4116958.5715612173,6878646.669916253,1697647.6878684459,2584880.1092310543,2004910.1693547976,2486690.471994734,4449872.339357445,2806649.8783562505,11179288.705768315,4314172.334957917,11164127.522425665,12325432.455652319,1746563.928981371,410258.463531741,-4151210.294078183,802294.2744602636,-9774463.791080922,5624482.367642691,-1502144.244279803],\"yaxis\":\"y\"},{\"hovertemplate\":\"protocol=perpetual-protocol<br>Day=%{x}<br>Net Dollar Flow (N$F)=%{y}<extra></extra>\",\"legendgroup\":\"perpetual-protocol\",\"line\":{\"color\":\"#EF553B\",\"dash\":\"solid\"},\"mode\":\"lines\",\"name\":\"perpetual-protocol\",\"orientation\":\"v\",\"showlegend\":true,\"type\":\"scatter\",\"x\":[\"2022-07-14T00:00:00\",\"2022-07-15T00:00:00\",\"2022-07-16T00:00:00\",\"2022-07-17T00:00:00\",\"2022-07-18T00:00:00\",\"2022-07-19T00:00:00\",\"2022-07-20T00:00:00\",\"2022-07-21T00:00:00\",\"2022-07-22T00:00:00\",\"2022-07-23T00:00:00\",\"2022-07-24T00:00:00\",\"2022-07-25T00:00:00\",\"2022-07-26T00:00:00\",\"2022-07-27T00:00:00\",\"2022-07-28T00:00:00\",\"2022-07-29T00:00:00\",\"2022-07-30T00:00:00\",\"2022-07-31T00:00:00\",\"2022-08-01T00:00:00\",\"2022-08-02T00:00:00\",\"2022-08-03T00:00:00\",\"2022-08-04T00:00:00\",\"2022-08-05T00:00:00\",\"2022-08-06T00:00:00\"],\"xaxis\":\"x\",\"y\":[85989.13927308508,9469.276946094098,63485.44541286075,6386.939300863225,-6516346.785368093,478496.2842833501,112717.16853103589,-257873.87999270667,-116656.62976973588,328902.4341931001,-12456.95558682217,15445.645229237838,-339879.99831708043,-6980.023506079774,62447.41301036458,17574.67492308714,-9451.307057371483,-100330.03908844631,-5848.707103137878,-211148.2261383118,732455.7369316551,222501.24032730344,180439.53203145173,-249086.77692817364],\"yaxis\":\"y\"},{\"hovertemplate\":\"protocol=pooltogether<br>Day=%{x}<br>Net Dollar Flow (N$F)=%{y}<extra></extra>\",\"legendgroup\":\"pooltogether\",\"line\":{\"color\":\"#00cc96\",\"dash\":\"solid\"},\"mode\":\"lines\",\"name\":\"pooltogether\",\"orientation\":\"v\",\"showlegend\":true,\"type\":\"scatter\",\"x\":[\"2022-07-14T00:00:00\",\"2022-07-15T00:00:00\",\"2022-07-16T00:00:00\",\"2022-07-17T00:00:00\",\"2022-07-18T00:00:00\",\"2022-07-19T00:00:00\",\"2022-07-20T00:00:00\",\"2022-07-21T00:00:00\",\"2022-07-22T00:00:00\",\"2022-07-23T00:00:00\",\"2022-07-24T00:00:00\",\"2022-07-25T00:00:00\",\"2022-07-26T00:00:00\",\"2022-07-27T00:00:00\",\"2022-07-28T00:00:00\",\"2022-07-29T00:00:00\",\"2022-07-30T00:00:00\",\"2022-07-31T00:00:00\",\"2022-08-01T00:00:00\",\"2022-08-02T00:00:00\",\"2022-08-03T00:00:00\",\"2022-08-04T00:00:00\",\"2022-08-05T00:00:00\",\"2022-08-06T00:00:00\"],\"xaxis\":\"x\",\"y\":[-15683.435586405627,119655.26552109815,17052.633123933578,85379.40025163374,23389.14209083029,251037.12054248847,72497.23016151623,62376.07515718985,381049.62108613143,817135.9606906264,260563.24628006062,359792.18299036927,3130961.3929644288,6938399.80079655,4646238.219207476,1895931.2441462155,698094.4588980846,586957.8696438496,622509.2963660801,660716.0678807844,1007059.0235229745,3196014.566853467,1187182.163814568,3144832.361692939],\"yaxis\":\"y\"},{\"hovertemplate\":\"protocol=thales<br>Day=%{x}<br>Net Dollar Flow (N$F)=%{y}<extra></extra>\",\"legendgroup\":\"thales\",\"line\":{\"color\":\"#ab63fa\",\"dash\":\"solid\"},\"mode\":\"lines\",\"name\":\"thales\",\"orientation\":\"v\",\"showlegend\":true,\"type\":\"scatter\",\"x\":[\"2022-07-14T00:00:00\",\"2022-07-15T00:00:00\",\"2022-07-16T00:00:00\",\"2022-07-17T00:00:00\",\"2022-07-18T00:00:00\",\"2022-07-19T00:00:00\",\"2022-07-20T00:00:00\",\"2022-07-21T00:00:00\",\"2022-07-22T00:00:00\",\"2022-07-23T00:00:00\",\"2022-07-24T00:00:00\",\"2022-07-25T00:00:00\",\"2022-07-26T00:00:00\",\"2022-07-27T00:00:00\",\"2022-07-28T00:00:00\",\"2022-07-29T00:00:00\",\"2022-07-30T00:00:00\",\"2022-07-31T00:00:00\",\"2022-08-01T00:00:00\",\"2022-08-02T00:00:00\",\"2022-08-03T00:00:00\",\"2022-08-04T00:00:00\",\"2022-08-05T00:00:00\",\"2022-08-06T00:00:00\"],\"xaxis\":\"x\",\"y\":[9676.36664986585,34536.11124910933,11645.494859558645,-6930.266830677911,-3042.1489863987113,-1321.4914406602686,-6005.718199747066,-1357.5274635315316,50290.918445722324,14499.391534477052,-500.6334093847131,-3693.3668149636187,-39199.33164252589,-7215.933515158789,3743.872369625889,23336.35566075132,-4636.276043623563,1770.0382585583527,5089.079381025972,2279.240485997483,-3556.265569058873,-24970.69040094154,17503.068928926114,-22540.290782883076],\"yaxis\":\"y\"},{\"hovertemplate\":\"protocol=rubicon<br>Day=%{x}<br>Net Dollar Flow (N$F)=%{y}<extra></extra>\",\"legendgroup\":\"rubicon\",\"line\":{\"color\":\"#FFA15A\",\"dash\":\"solid\"},\"mode\":\"lines\",\"name\":\"rubicon\",\"orientation\":\"v\",\"showlegend\":true,\"type\":\"scatter\",\"x\":[\"2022-07-15T00:00:00\",\"2022-07-16T00:00:00\",\"2022-07-17T00:00:00\",\"2022-07-18T00:00:00\",\"2022-07-19T00:00:00\",\"2022-07-20T00:00:00\",\"2022-07-21T00:00:00\",\"2022-07-22T00:00:00\",\"2022-07-23T00:00:00\",\"2022-07-24T00:00:00\",\"2022-07-25T00:00:00\",\"2022-07-26T00:00:00\",\"2022-07-27T00:00:00\",\"2022-07-28T00:00:00\",\"2022-07-29T00:00:00\",\"2022-07-30T00:00:00\",\"2022-07-31T00:00:00\",\"2022-08-01T00:00:00\",\"2022-08-02T00:00:00\",\"2022-08-03T00:00:00\",\"2022-08-04T00:00:00\",\"2022-08-05T00:00:00\",\"2022-08-06T00:00:00\"],\"xaxis\":\"x\",\"y\":[74847.34824417513,71512.63433915236,36721.79289313359,67361.79327406359,17179.62208344996,33483.25076387791,55066.72308560415,109342.83628019171,12662.9899680669,182244.09495383402,28358.180653816285,88154.01412639514,1676.7741584946398,142327.06776906562,152311.4997533388,70558.20174724523,129036.10611421513,483495.3135337168,27939.230154396013,-68512.88821410401,142491.07546338986,2523369.8901030044,352545.74108257995],\"yaxis\":\"y\"},{\"hovertemplate\":\"protocol=lyra<br>Day=%{x}<br>Net Dollar Flow (N$F)=%{y}<extra></extra>\",\"legendgroup\":\"lyra\",\"line\":{\"color\":\"#19d3f3\",\"dash\":\"solid\"},\"mode\":\"lines\",\"name\":\"lyra\",\"orientation\":\"v\",\"showlegend\":true,\"type\":\"scatter\",\"x\":[\"2022-08-02T00:00:00\",\"2022-08-03T00:00:00\",\"2022-08-04T00:00:00\",\"2022-08-05T00:00:00\",\"2022-08-06T00:00:00\"],\"xaxis\":\"x\",\"y\":[1823682.490069351,4372035.533565732,1854110.177430578,452205.1516063828,703999.9009292477],\"yaxis\":\"y\"},{\"hovertemplate\":\"protocol=wepiggy<br>Day=%{x}<br>Net Dollar Flow (N$F)=%{y}<extra></extra>\",\"legendgroup\":\"wepiggy\",\"line\":{\"color\":\"#FF6692\",\"dash\":\"solid\"},\"mode\":\"lines\",\"name\":\"wepiggy\",\"orientation\":\"v\",\"showlegend\":true,\"type\":\"scatter\",\"x\":[\"2022-08-03T00:00:00\",\"2022-08-04T00:00:00\",\"2022-08-05T00:00:00\",\"2022-08-06T00:00:00\"],\"xaxis\":\"x\",\"y\":[1779211.1212550504,540446.4987437626,975184.0804256732,313024.83719922893],\"yaxis\":\"y\"},{\"hovertemplate\":\"protocol=aave-v3<br>Day=%{x}<br>Net Dollar Flow (N$F)=%{y}<extra></extra>\",\"legendgroup\":\"aave-v3\",\"line\":{\"color\":\"#B6E880\",\"dash\":\"solid\"},\"mode\":\"lines\",\"name\":\"aave-v3\",\"orientation\":\"v\",\"showlegend\":true,\"type\":\"scatter\",\"x\":[\"2022-08-04T00:00:00\",\"2022-08-05T00:00:00\",\"2022-08-06T00:00:00\"],\"xaxis\":\"x\",\"y\":[239937989.68652135,164752348.973441,64726951.43831408],\"yaxis\":\"y\"},{\"hovertemplate\":\"protocol=stargate<br>Day=%{x}<br>Net Dollar Flow (N$F)=%{y}<extra></extra>\",\"legendgroup\":\"stargate\",\"line\":{\"color\":\"#FF97FF\",\"dash\":\"solid\"},\"mode\":\"lines\",\"name\":\"stargate\",\"orientation\":\"v\",\"showlegend\":true,\"type\":\"scatter\",\"x\":[\"2022-08-05T00:00:00\",\"2022-08-06T00:00:00\"],\"xaxis\":\"x\",\"y\":[11429832.22017636,-1584664.6825790026],\"yaxis\":\"y\"}],                        {\"legend\":{\"title\":{\"text\":\"App Name\"},\"tracegroupgap\":0},\"template\":{\"data\":{\"bar\":[{\"error_x\":{\"color\":\"#2a3f5f\"},\"error_y\":{\"color\":\"#2a3f5f\"},\"marker\":{\"line\":{\"color\":\"#E5ECF6\",\"width\":0.5},\"pattern\":{\"fillmode\":\"overlay\",\"size\":10,\"solidity\":0.2}},\"type\":\"bar\"}],\"barpolar\":[{\"marker\":{\"line\":{\"color\":\"#E5ECF6\",\"width\":0.5},\"pattern\":{\"fillmode\":\"overlay\",\"size\":10,\"solidity\":0.2}},\"type\":\"barpolar\"}],\"carpet\":[{\"aaxis\":{\"endlinecolor\":\"#2a3f5f\",\"gridcolor\":\"white\",\"linecolor\":\"white\",\"minorgridcolor\":\"white\",\"startlinecolor\":\"#2a3f5f\"},\"baxis\":{\"endlinecolor\":\"#2a3f5f\",\"gridcolor\":\"white\",\"linecolor\":\"white\",\"minorgridcolor\":\"white\",\"startlinecolor\":\"#2a3f5f\"},\"type\":\"carpet\"}],\"choropleth\":[{\"colorbar\":{\"outlinewidth\":0,\"ticks\":\"\"},\"type\":\"choropleth\"}],\"contour\":[{\"colorbar\":{\"outlinewidth\":0,\"ticks\":\"\"},\"colorscale\":[[0.0,\"#0d0887\"],[0.1111111111111111,\"#46039f\"],[0.2222222222222222,\"#7201a8\"],[0.3333333333333333,\"#9c179e\"],[0.4444444444444444,\"#bd3786\"],[0.5555555555555556,\"#d8576b\"],[0.6666666666666666,\"#ed7953\"],[0.7777777777777778,\"#fb9f3a\"],[0.8888888888888888,\"#fdca26\"],[1.0,\"#f0f921\"]],\"type\":\"contour\"}],\"contourcarpet\":[{\"colorbar\":{\"outlinewidth\":0,\"ticks\":\"\"},\"type\":\"contourcarpet\"}],\"heatmap\":[{\"colorbar\":{\"outlinewidth\":0,\"ticks\":\"\"},\"colorscale\":[[0.0,\"#0d0887\"],[0.1111111111111111,\"#46039f\"],[0.2222222222222222,\"#7201a8\"],[0.3333333333333333,\"#9c179e\"],[0.4444444444444444,\"#bd3786\"],[0.5555555555555556,\"#d8576b\"],[0.6666666666666666,\"#ed7953\"],[0.7777777777777778,\"#fb9f3a\"],[0.8888888888888888,\"#fdca26\"],[1.0,\"#f0f921\"]],\"type\":\"heatmap\"}],\"heatmapgl\":[{\"colorbar\":{\"outlinewidth\":0,\"ticks\":\"\"},\"colorscale\":[[0.0,\"#0d0887\"],[0.1111111111111111,\"#46039f\"],[0.2222222222222222,\"#7201a8\"],[0.3333333333333333,\"#9c179e\"],[0.4444444444444444,\"#bd3786\"],[0.5555555555555556,\"#d8576b\"],[0.6666666666666666,\"#ed7953\"],[0.7777777777777778,\"#fb9f3a\"],[0.8888888888888888,\"#fdca26\"],[1.0,\"#f0f921\"]],\"type\":\"heatmapgl\"}],\"histogram\":[{\"marker\":{\"pattern\":{\"fillmode\":\"overlay\",\"size\":10,\"solidity\":0.2}},\"type\":\"histogram\"}],\"histogram2d\":[{\"colorbar\":{\"outlinewidth\":0,\"ticks\":\"\"},\"colorscale\":[[0.0,\"#0d0887\"],[0.1111111111111111,\"#46039f\"],[0.2222222222222222,\"#7201a8\"],[0.3333333333333333,\"#9c179e\"],[0.4444444444444444,\"#bd3786\"],[0.5555555555555556,\"#d8576b\"],[0.6666666666666666,\"#ed7953\"],[0.7777777777777778,\"#fb9f3a\"],[0.8888888888888888,\"#fdca26\"],[1.0,\"#f0f921\"]],\"type\":\"histogram2d\"}],\"histogram2dcontour\":[{\"colorbar\":{\"outlinewidth\":0,\"ticks\":\"\"},\"colorscale\":[[0.0,\"#0d0887\"],[0.1111111111111111,\"#46039f\"],[0.2222222222222222,\"#7201a8\"],[0.3333333333333333,\"#9c179e\"],[0.4444444444444444,\"#bd3786\"],[0.5555555555555556,\"#d8576b\"],[0.6666666666666666,\"#ed7953\"],[0.7777777777777778,\"#fb9f3a\"],[0.8888888888888888,\"#fdca26\"],[1.0,\"#f0f921\"]],\"type\":\"histogram2dcontour\"}],\"mesh3d\":[{\"colorbar\":{\"outlinewidth\":0,\"ticks\":\"\"},\"type\":\"mesh3d\"}],\"parcoords\":[{\"line\":{\"colorbar\":{\"outlinewidth\":0,\"ticks\":\"\"}},\"type\":\"parcoords\"}],\"pie\":[{\"automargin\":true,\"type\":\"pie\"}],\"scatter\":[{\"marker\":{\"colorbar\":{\"outlinewidth\":0,\"ticks\":\"\"}},\"type\":\"scatter\"}],\"scatter3d\":[{\"line\":{\"colorbar\":{\"outlinewidth\":0,\"ticks\":\"\"}},\"marker\":{\"colorbar\":{\"outlinewidth\":0,\"ticks\":\"\"}},\"type\":\"scatter3d\"}],\"scattercarpet\":[{\"marker\":{\"colorbar\":{\"outlinewidth\":0,\"ticks\":\"\"}},\"type\":\"scattercarpet\"}],\"scattergeo\":[{\"marker\":{\"colorbar\":{\"outlinewidth\":0,\"ticks\":\"\"}},\"type\":\"scattergeo\"}],\"scattergl\":[{\"marker\":{\"colorbar\":{\"outlinewidth\":0,\"ticks\":\"\"}},\"type\":\"scattergl\"}],\"scattermapbox\":[{\"marker\":{\"colorbar\":{\"outlinewidth\":0,\"ticks\":\"\"}},\"type\":\"scattermapbox\"}],\"scatterpolar\":[{\"marker\":{\"colorbar\":{\"outlinewidth\":0,\"ticks\":\"\"}},\"type\":\"scatterpolar\"}],\"scatterpolargl\":[{\"marker\":{\"colorbar\":{\"outlinewidth\":0,\"ticks\":\"\"}},\"type\":\"scatterpolargl\"}],\"scatterternary\":[{\"marker\":{\"colorbar\":{\"outlinewidth\":0,\"ticks\":\"\"}},\"type\":\"scatterternary\"}],\"surface\":[{\"colorbar\":{\"outlinewidth\":0,\"ticks\":\"\"},\"colorscale\":[[0.0,\"#0d0887\"],[0.1111111111111111,\"#46039f\"],[0.2222222222222222,\"#7201a8\"],[0.3333333333333333,\"#9c179e\"],[0.4444444444444444,\"#bd3786\"],[0.5555555555555556,\"#d8576b\"],[0.6666666666666666,\"#ed7953\"],[0.7777777777777778,\"#fb9f3a\"],[0.8888888888888888,\"#fdca26\"],[1.0,\"#f0f921\"]],\"type\":\"surface\"}],\"table\":[{\"cells\":{\"fill\":{\"color\":\"#EBF0F8\"},\"line\":{\"color\":\"white\"}},\"header\":{\"fill\":{\"color\":\"#C8D4E3\"},\"line\":{\"color\":\"white\"}},\"type\":\"table\"}]},\"layout\":{\"annotationdefaults\":{\"arrowcolor\":\"#2a3f5f\",\"arrowhead\":0,\"arrowwidth\":1},\"autotypenumbers\":\"strict\",\"coloraxis\":{\"colorbar\":{\"outlinewidth\":0,\"ticks\":\"\"}},\"colorscale\":{\"diverging\":[[0,\"#8e0152\"],[0.1,\"#c51b7d\"],[0.2,\"#de77ae\"],[0.3,\"#f1b6da\"],[0.4,\"#fde0ef\"],[0.5,\"#f7f7f7\"],[0.6,\"#e6f5d0\"],[0.7,\"#b8e186\"],[0.8,\"#7fbc41\"],[0.9,\"#4d9221\"],[1,\"#276419\"]],\"sequential\":[[0.0,\"#0d0887\"],[0.1111111111111111,\"#46039f\"],[0.2222222222222222,\"#7201a8\"],[0.3333333333333333,\"#9c179e\"],[0.4444444444444444,\"#bd3786\"],[0.5555555555555556,\"#d8576b\"],[0.6666666666666666,\"#ed7953\"],[0.7777777777777778,\"#fb9f3a\"],[0.8888888888888888,\"#fdca26\"],[1.0,\"#f0f921\"]],\"sequentialminus\":[[0.0,\"#0d0887\"],[0.1111111111111111,\"#46039f\"],[0.2222222222222222,\"#7201a8\"],[0.3333333333333333,\"#9c179e\"],[0.4444444444444444,\"#bd3786\"],[0.5555555555555556,\"#d8576b\"],[0.6666666666666666,\"#ed7953\"],[0.7777777777777778,\"#fb9f3a\"],[0.8888888888888888,\"#fdca26\"],[1.0,\"#f0f921\"]]},\"colorway\":[\"#636efa\",\"#EF553B\",\"#00cc96\",\"#ab63fa\",\"#FFA15A\",\"#19d3f3\",\"#FF6692\",\"#B6E880\",\"#FF97FF\",\"#FECB52\"],\"font\":{\"color\":\"#2a3f5f\"},\"geo\":{\"bgcolor\":\"white\",\"lakecolor\":\"white\",\"landcolor\":\"#E5ECF6\",\"showlakes\":true,\"showland\":true,\"subunitcolor\":\"white\"},\"hoverlabel\":{\"align\":\"left\"},\"hovermode\":\"closest\",\"mapbox\":{\"style\":\"light\"},\"paper_bgcolor\":\"white\",\"plot_bgcolor\":\"#E5ECF6\",\"polar\":{\"angularaxis\":{\"gridcolor\":\"white\",\"linecolor\":\"white\",\"ticks\":\"\"},\"bgcolor\":\"#E5ECF6\",\"radialaxis\":{\"gridcolor\":\"white\",\"linecolor\":\"white\",\"ticks\":\"\"}},\"scene\":{\"xaxis\":{\"backgroundcolor\":\"#E5ECF6\",\"gridcolor\":\"white\",\"gridwidth\":2,\"linecolor\":\"white\",\"showbackground\":true,\"ticks\":\"\",\"zerolinecolor\":\"white\"},\"yaxis\":{\"backgroundcolor\":\"#E5ECF6\",\"gridcolor\":\"white\",\"gridwidth\":2,\"linecolor\":\"white\",\"showbackground\":true,\"ticks\":\"\",\"zerolinecolor\":\"white\"},\"zaxis\":{\"backgroundcolor\":\"#E5ECF6\",\"gridcolor\":\"white\",\"gridwidth\":2,\"linecolor\":\"white\",\"showbackground\":true,\"ticks\":\"\",\"zerolinecolor\":\"white\"}},\"shapedefaults\":{\"line\":{\"color\":\"#2a3f5f\"}},\"ternary\":{\"aaxis\":{\"gridcolor\":\"white\",\"linecolor\":\"white\",\"ticks\":\"\"},\"baxis\":{\"gridcolor\":\"white\",\"linecolor\":\"white\",\"ticks\":\"\"},\"bgcolor\":\"#E5ECF6\",\"caxis\":{\"gridcolor\":\"white\",\"linecolor\":\"white\",\"ticks\":\"\"}},\"title\":{\"x\":0.05},\"xaxis\":{\"automargin\":true,\"gridcolor\":\"white\",\"linecolor\":\"white\",\"ticks\":\"\",\"title\":{\"standoff\":15},\"zerolinecolor\":\"white\",\"zerolinewidth\":2},\"yaxis\":{\"automargin\":true,\"gridcolor\":\"white\",\"linecolor\":\"white\",\"ticks\":\"\",\"title\":{\"standoff\":15},\"zerolinecolor\":\"white\",\"zerolinewidth\":2}}},\"title\":{\"text\":\"Daily Net Dollar Flow since Program Announcement\"},\"xaxis\":{\"anchor\":\"y\",\"domain\":[0.0,1.0],\"title\":{\"text\":\"Day\"}},\"yaxis\":{\"anchor\":\"x\",\"domain\":[0.0,1.0],\"tickprefix\":\"$\",\"title\":{\"text\":\"Net Dollar Flow (N$F)\"}}},                        {\"responsive\": true}                    ).then(function(){\n",
       "                            \n",
       "var gd = document.getElementById('3afc105e-fa83-459d-8a3c-af1eec599730');\n",
       "var x = new MutationObserver(function (mutations, observer) {{\n",
       "        var display = window.getComputedStyle(gd).display;\n",
       "        if (!display || display === 'none') {{\n",
       "            console.log([gd, 'removed!']);\n",
       "            Plotly.purge(gd);\n",
       "            observer.disconnect();\n",
       "        }}\n",
       "}});\n",
       "\n",
       "// Listen for the removal of the full notebook cells\n",
       "var notebookContainer = gd.closest('#notebook-container');\n",
       "if (notebookContainer) {{\n",
       "    x.observe(notebookContainer, {childList: true});\n",
       "}}\n",
       "\n",
       "// Listen for the clearing of the current output cell\n",
       "var outputEl = gd.closest('.output');\n",
       "if (outputEl) {{\n",
       "    x.observe(outputEl, {childList: true});\n",
       "}}\n",
       "\n",
       "                        })                };                });            </script>        </div>"
      ]
     },
     "metadata": {},
     "output_type": "display_data"
    },
    {
     "data": {
      "application/vnd.plotly.v1+json": {
       "config": {
        "plotlyServerURL": "https://plot.ly"
       },
       "data": [
        {
         "fill": "tozeroy",
         "name": "velodrome",
         "type": "scatter",
         "x": [
          "2022-07-13T00:00:00",
          "2022-07-14T00:00:00",
          "2022-07-15T00:00:00",
          "2022-07-16T00:00:00",
          "2022-07-17T00:00:00",
          "2022-07-18T00:00:00",
          "2022-07-19T00:00:00",
          "2022-07-20T00:00:00",
          "2022-07-21T00:00:00",
          "2022-07-22T00:00:00",
          "2022-07-23T00:00:00",
          "2022-07-24T00:00:00",
          "2022-07-25T00:00:00",
          "2022-07-26T00:00:00",
          "2022-07-27T00:00:00",
          "2022-07-28T00:00:00",
          "2022-07-29T00:00:00",
          "2022-07-30T00:00:00",
          "2022-07-31T00:00:00",
          "2022-08-01T00:00:00",
          "2022-08-02T00:00:00",
          "2022-08-03T00:00:00",
          "2022-08-04T00:00:00",
          "2022-08-05T00:00:00",
          "2022-08-06T00:00:00"
         ],
         "y": [
          1289994.8824221054,
          6357057.265492794,
          11035066.375135362,
          22398926.061357573,
          25261027.963113148,
          31924298.115867138,
          36041256.687428355,
          42919903.357344605,
          44617551.04521305,
          47202431.154444106,
          49207341.3237989,
          51694031.79579364,
          56143904.13515108,
          58950554.01350734,
          70129842.71927565,
          74444015.05423357,
          85608142.57665923,
          97933575.03231154,
          99680138.96129292,
          100090397.42482466,
          95939187.13074648,
          96741481.40520674,
          86967017.61412582,
          92591499.9817685,
          91089355.7374887
         ]
        },
        {
         "fill": "tozeroy",
         "name": "perpetual-protocol",
         "type": "scatter",
         "x": [
          "2022-07-14T00:00:00",
          "2022-07-15T00:00:00",
          "2022-07-16T00:00:00",
          "2022-07-17T00:00:00",
          "2022-07-18T00:00:00",
          "2022-07-19T00:00:00",
          "2022-07-20T00:00:00",
          "2022-07-21T00:00:00",
          "2022-07-22T00:00:00",
          "2022-07-23T00:00:00",
          "2022-07-24T00:00:00",
          "2022-07-25T00:00:00",
          "2022-07-26T00:00:00",
          "2022-07-27T00:00:00",
          "2022-07-28T00:00:00",
          "2022-07-29T00:00:00",
          "2022-07-30T00:00:00",
          "2022-07-31T00:00:00",
          "2022-08-01T00:00:00",
          "2022-08-02T00:00:00",
          "2022-08-03T00:00:00",
          "2022-08-04T00:00:00",
          "2022-08-05T00:00:00",
          "2022-08-06T00:00:00"
         ],
         "y": [
          85989.13927308508,
          95458.41621917917,
          158943.86163203992,
          165330.80093290313,
          -6351015.98443519,
          -5872519.70015184,
          -5759802.531620804,
          -6017676.411613511,
          -6134333.041383247,
          -5805430.607190147,
          -5817887.562776969,
          -5802441.917547732,
          -6142321.915864811,
          -6149301.939370891,
          -6086854.526360527,
          -6069279.85143744,
          -6078731.1584948115,
          -6179061.197583257,
          -6184909.904686395,
          -6396058.130824707,
          -5663602.393893052,
          -5441101.153565749,
          -5260661.621534297,
          -5509748.398462471
         ]
        },
        {
         "fill": "tozeroy",
         "name": "pooltogether",
         "type": "scatter",
         "x": [
          "2022-07-14T00:00:00",
          "2022-07-15T00:00:00",
          "2022-07-16T00:00:00",
          "2022-07-17T00:00:00",
          "2022-07-18T00:00:00",
          "2022-07-19T00:00:00",
          "2022-07-20T00:00:00",
          "2022-07-21T00:00:00",
          "2022-07-22T00:00:00",
          "2022-07-23T00:00:00",
          "2022-07-24T00:00:00",
          "2022-07-25T00:00:00",
          "2022-07-26T00:00:00",
          "2022-07-27T00:00:00",
          "2022-07-28T00:00:00",
          "2022-07-29T00:00:00",
          "2022-07-30T00:00:00",
          "2022-07-31T00:00:00",
          "2022-08-01T00:00:00",
          "2022-08-02T00:00:00",
          "2022-08-03T00:00:00",
          "2022-08-04T00:00:00",
          "2022-08-05T00:00:00",
          "2022-08-06T00:00:00"
         ],
         "y": [
          -15683.435586405627,
          103971.82993469252,
          121024.4630586261,
          206403.86331025983,
          229793.0054010901,
          480830.12594357855,
          553327.3561050948,
          615703.4312622846,
          996753.0523484161,
          1813889.0130390425,
          2074452.259319103,
          2434244.4423094722,
          5565205.835273901,
          12503605.63607045,
          17149843.855277926,
          19045775.099424142,
          19743869.55832223,
          20330827.427966077,
          20953336.724332158,
          21614052.79221294,
          22621111.815735914,
          25817126.38258938,
          27004308.546403952,
          30149140.908096887
         ]
        },
        {
         "fill": "tozeroy",
         "name": "thales",
         "type": "scatter",
         "x": [
          "2022-07-14T00:00:00",
          "2022-07-15T00:00:00",
          "2022-07-16T00:00:00",
          "2022-07-17T00:00:00",
          "2022-07-18T00:00:00",
          "2022-07-19T00:00:00",
          "2022-07-20T00:00:00",
          "2022-07-21T00:00:00",
          "2022-07-22T00:00:00",
          "2022-07-23T00:00:00",
          "2022-07-24T00:00:00",
          "2022-07-25T00:00:00",
          "2022-07-26T00:00:00",
          "2022-07-27T00:00:00",
          "2022-07-28T00:00:00",
          "2022-07-29T00:00:00",
          "2022-07-30T00:00:00",
          "2022-07-31T00:00:00",
          "2022-08-01T00:00:00",
          "2022-08-02T00:00:00",
          "2022-08-03T00:00:00",
          "2022-08-04T00:00:00",
          "2022-08-05T00:00:00",
          "2022-08-06T00:00:00"
         ],
         "y": [
          9676.36664986585,
          44212.47789897518,
          55857.972758533826,
          48927.70592785592,
          45885.5569414572,
          44564.06550079693,
          38558.34730104987,
          37200.819837518335,
          87491.73828324066,
          101991.12981771771,
          101490.496408333,
          97797.12959336938,
          58597.79795084349,
          51381.8644356847,
          55125.73680531059,
          78462.0924660619,
          73825.81642243834,
          75595.8546809967,
          80684.93406202267,
          82964.17454802015,
          79407.90897896128,
          54437.21857801973,
          71940.28750694585,
          49399.996724062774
         ]
        },
        {
         "fill": "tozeroy",
         "name": "rubicon",
         "type": "scatter",
         "x": [
          "2022-07-15T00:00:00",
          "2022-07-16T00:00:00",
          "2022-07-17T00:00:00",
          "2022-07-18T00:00:00",
          "2022-07-19T00:00:00",
          "2022-07-20T00:00:00",
          "2022-07-21T00:00:00",
          "2022-07-22T00:00:00",
          "2022-07-23T00:00:00",
          "2022-07-24T00:00:00",
          "2022-07-25T00:00:00",
          "2022-07-26T00:00:00",
          "2022-07-27T00:00:00",
          "2022-07-28T00:00:00",
          "2022-07-29T00:00:00",
          "2022-07-30T00:00:00",
          "2022-07-31T00:00:00",
          "2022-08-01T00:00:00",
          "2022-08-02T00:00:00",
          "2022-08-03T00:00:00",
          "2022-08-04T00:00:00",
          "2022-08-05T00:00:00",
          "2022-08-06T00:00:00"
         ],
         "y": [
          74847.34824417513,
          146359.98258332748,
          183081.77547646107,
          250443.56875052466,
          267623.19083397463,
          301106.4415978525,
          356173.1646834567,
          465516.00096364843,
          478178.9909317153,
          660423.0858855493,
          688781.2665393656,
          776935.2806657607,
          778612.0548242554,
          920939.122593321,
          1073250.62234666,
          1143808.824093905,
          1272844.9302081203,
          1756340.2437418369,
          1784279.473896233,
          1715766.585682129,
          1858257.6611455188,
          4381627.551248523,
          4734173.292331103
         ]
        },
        {
         "fill": "tozeroy",
         "name": "lyra",
         "type": "scatter",
         "x": [
          "2022-08-02T00:00:00",
          "2022-08-03T00:00:00",
          "2022-08-04T00:00:00",
          "2022-08-05T00:00:00",
          "2022-08-06T00:00:00"
         ],
         "y": [
          1823682.490069351,
          6195718.023635083,
          8049828.201065661,
          8502033.352672044,
          9206033.253601292
         ]
        },
        {
         "fill": "tozeroy",
         "name": "wepiggy",
         "type": "scatter",
         "x": [
          "2022-08-03T00:00:00",
          "2022-08-04T00:00:00",
          "2022-08-05T00:00:00",
          "2022-08-06T00:00:00"
         ],
         "y": [
          1779211.1212550504,
          2319657.619998813,
          3294841.7004244863,
          3607866.537623715
         ]
        },
        {
         "fill": "tozeroy",
         "name": "aave-v3",
         "type": "scatter",
         "x": [
          "2022-08-04T00:00:00",
          "2022-08-05T00:00:00",
          "2022-08-06T00:00:00"
         ],
         "y": [
          239937989.68652135,
          404690338.65996236,
          469417290.09827644
         ]
        },
        {
         "fill": "tozeroy",
         "name": "stargate",
         "type": "scatter",
         "x": [
          "2022-08-05T00:00:00",
          "2022-08-06T00:00:00"
         ],
         "y": [
          11429832.22017636,
          9845167.537597356
         ]
        }
       ],
       "layout": {
        "legend": {
         "title": {
          "text": "App Name"
         }
        },
        "template": {
         "data": {
          "bar": [
           {
            "error_x": {
             "color": "#2a3f5f"
            },
            "error_y": {
             "color": "#2a3f5f"
            },
            "marker": {
             "line": {
              "color": "#E5ECF6",
              "width": 0.5
             },
             "pattern": {
              "fillmode": "overlay",
              "size": 10,
              "solidity": 0.2
             }
            },
            "type": "bar"
           }
          ],
          "barpolar": [
           {
            "marker": {
             "line": {
              "color": "#E5ECF6",
              "width": 0.5
             },
             "pattern": {
              "fillmode": "overlay",
              "size": 10,
              "solidity": 0.2
             }
            },
            "type": "barpolar"
           }
          ],
          "carpet": [
           {
            "aaxis": {
             "endlinecolor": "#2a3f5f",
             "gridcolor": "white",
             "linecolor": "white",
             "minorgridcolor": "white",
             "startlinecolor": "#2a3f5f"
            },
            "baxis": {
             "endlinecolor": "#2a3f5f",
             "gridcolor": "white",
             "linecolor": "white",
             "minorgridcolor": "white",
             "startlinecolor": "#2a3f5f"
            },
            "type": "carpet"
           }
          ],
          "choropleth": [
           {
            "colorbar": {
             "outlinewidth": 0,
             "ticks": ""
            },
            "type": "choropleth"
           }
          ],
          "contour": [
           {
            "colorbar": {
             "outlinewidth": 0,
             "ticks": ""
            },
            "colorscale": [
             [
              0,
              "#0d0887"
             ],
             [
              0.1111111111111111,
              "#46039f"
             ],
             [
              0.2222222222222222,
              "#7201a8"
             ],
             [
              0.3333333333333333,
              "#9c179e"
             ],
             [
              0.4444444444444444,
              "#bd3786"
             ],
             [
              0.5555555555555556,
              "#d8576b"
             ],
             [
              0.6666666666666666,
              "#ed7953"
             ],
             [
              0.7777777777777778,
              "#fb9f3a"
             ],
             [
              0.8888888888888888,
              "#fdca26"
             ],
             [
              1,
              "#f0f921"
             ]
            ],
            "type": "contour"
           }
          ],
          "contourcarpet": [
           {
            "colorbar": {
             "outlinewidth": 0,
             "ticks": ""
            },
            "type": "contourcarpet"
           }
          ],
          "heatmap": [
           {
            "colorbar": {
             "outlinewidth": 0,
             "ticks": ""
            },
            "colorscale": [
             [
              0,
              "#0d0887"
             ],
             [
              0.1111111111111111,
              "#46039f"
             ],
             [
              0.2222222222222222,
              "#7201a8"
             ],
             [
              0.3333333333333333,
              "#9c179e"
             ],
             [
              0.4444444444444444,
              "#bd3786"
             ],
             [
              0.5555555555555556,
              "#d8576b"
             ],
             [
              0.6666666666666666,
              "#ed7953"
             ],
             [
              0.7777777777777778,
              "#fb9f3a"
             ],
             [
              0.8888888888888888,
              "#fdca26"
             ],
             [
              1,
              "#f0f921"
             ]
            ],
            "type": "heatmap"
           }
          ],
          "heatmapgl": [
           {
            "colorbar": {
             "outlinewidth": 0,
             "ticks": ""
            },
            "colorscale": [
             [
              0,
              "#0d0887"
             ],
             [
              0.1111111111111111,
              "#46039f"
             ],
             [
              0.2222222222222222,
              "#7201a8"
             ],
             [
              0.3333333333333333,
              "#9c179e"
             ],
             [
              0.4444444444444444,
              "#bd3786"
             ],
             [
              0.5555555555555556,
              "#d8576b"
             ],
             [
              0.6666666666666666,
              "#ed7953"
             ],
             [
              0.7777777777777778,
              "#fb9f3a"
             ],
             [
              0.8888888888888888,
              "#fdca26"
             ],
             [
              1,
              "#f0f921"
             ]
            ],
            "type": "heatmapgl"
           }
          ],
          "histogram": [
           {
            "marker": {
             "pattern": {
              "fillmode": "overlay",
              "size": 10,
              "solidity": 0.2
             }
            },
            "type": "histogram"
           }
          ],
          "histogram2d": [
           {
            "colorbar": {
             "outlinewidth": 0,
             "ticks": ""
            },
            "colorscale": [
             [
              0,
              "#0d0887"
             ],
             [
              0.1111111111111111,
              "#46039f"
             ],
             [
              0.2222222222222222,
              "#7201a8"
             ],
             [
              0.3333333333333333,
              "#9c179e"
             ],
             [
              0.4444444444444444,
              "#bd3786"
             ],
             [
              0.5555555555555556,
              "#d8576b"
             ],
             [
              0.6666666666666666,
              "#ed7953"
             ],
             [
              0.7777777777777778,
              "#fb9f3a"
             ],
             [
              0.8888888888888888,
              "#fdca26"
             ],
             [
              1,
              "#f0f921"
             ]
            ],
            "type": "histogram2d"
           }
          ],
          "histogram2dcontour": [
           {
            "colorbar": {
             "outlinewidth": 0,
             "ticks": ""
            },
            "colorscale": [
             [
              0,
              "#0d0887"
             ],
             [
              0.1111111111111111,
              "#46039f"
             ],
             [
              0.2222222222222222,
              "#7201a8"
             ],
             [
              0.3333333333333333,
              "#9c179e"
             ],
             [
              0.4444444444444444,
              "#bd3786"
             ],
             [
              0.5555555555555556,
              "#d8576b"
             ],
             [
              0.6666666666666666,
              "#ed7953"
             ],
             [
              0.7777777777777778,
              "#fb9f3a"
             ],
             [
              0.8888888888888888,
              "#fdca26"
             ],
             [
              1,
              "#f0f921"
             ]
            ],
            "type": "histogram2dcontour"
           }
          ],
          "mesh3d": [
           {
            "colorbar": {
             "outlinewidth": 0,
             "ticks": ""
            },
            "type": "mesh3d"
           }
          ],
          "parcoords": [
           {
            "line": {
             "colorbar": {
              "outlinewidth": 0,
              "ticks": ""
             }
            },
            "type": "parcoords"
           }
          ],
          "pie": [
           {
            "automargin": true,
            "type": "pie"
           }
          ],
          "scatter": [
           {
            "marker": {
             "colorbar": {
              "outlinewidth": 0,
              "ticks": ""
             }
            },
            "type": "scatter"
           }
          ],
          "scatter3d": [
           {
            "line": {
             "colorbar": {
              "outlinewidth": 0,
              "ticks": ""
             }
            },
            "marker": {
             "colorbar": {
              "outlinewidth": 0,
              "ticks": ""
             }
            },
            "type": "scatter3d"
           }
          ],
          "scattercarpet": [
           {
            "marker": {
             "colorbar": {
              "outlinewidth": 0,
              "ticks": ""
             }
            },
            "type": "scattercarpet"
           }
          ],
          "scattergeo": [
           {
            "marker": {
             "colorbar": {
              "outlinewidth": 0,
              "ticks": ""
             }
            },
            "type": "scattergeo"
           }
          ],
          "scattergl": [
           {
            "marker": {
             "colorbar": {
              "outlinewidth": 0,
              "ticks": ""
             }
            },
            "type": "scattergl"
           }
          ],
          "scattermapbox": [
           {
            "marker": {
             "colorbar": {
              "outlinewidth": 0,
              "ticks": ""
             }
            },
            "type": "scattermapbox"
           }
          ],
          "scatterpolar": [
           {
            "marker": {
             "colorbar": {
              "outlinewidth": 0,
              "ticks": ""
             }
            },
            "type": "scatterpolar"
           }
          ],
          "scatterpolargl": [
           {
            "marker": {
             "colorbar": {
              "outlinewidth": 0,
              "ticks": ""
             }
            },
            "type": "scatterpolargl"
           }
          ],
          "scatterternary": [
           {
            "marker": {
             "colorbar": {
              "outlinewidth": 0,
              "ticks": ""
             }
            },
            "type": "scatterternary"
           }
          ],
          "surface": [
           {
            "colorbar": {
             "outlinewidth": 0,
             "ticks": ""
            },
            "colorscale": [
             [
              0,
              "#0d0887"
             ],
             [
              0.1111111111111111,
              "#46039f"
             ],
             [
              0.2222222222222222,
              "#7201a8"
             ],
             [
              0.3333333333333333,
              "#9c179e"
             ],
             [
              0.4444444444444444,
              "#bd3786"
             ],
             [
              0.5555555555555556,
              "#d8576b"
             ],
             [
              0.6666666666666666,
              "#ed7953"
             ],
             [
              0.7777777777777778,
              "#fb9f3a"
             ],
             [
              0.8888888888888888,
              "#fdca26"
             ],
             [
              1,
              "#f0f921"
             ]
            ],
            "type": "surface"
           }
          ],
          "table": [
           {
            "cells": {
             "fill": {
              "color": "#EBF0F8"
             },
             "line": {
              "color": "white"
             }
            },
            "header": {
             "fill": {
              "color": "#C8D4E3"
             },
             "line": {
              "color": "white"
             }
            },
            "type": "table"
           }
          ]
         },
         "layout": {
          "annotationdefaults": {
           "arrowcolor": "#2a3f5f",
           "arrowhead": 0,
           "arrowwidth": 1
          },
          "autotypenumbers": "strict",
          "coloraxis": {
           "colorbar": {
            "outlinewidth": 0,
            "ticks": ""
           }
          },
          "colorscale": {
           "diverging": [
            [
             0,
             "#8e0152"
            ],
            [
             0.1,
             "#c51b7d"
            ],
            [
             0.2,
             "#de77ae"
            ],
            [
             0.3,
             "#f1b6da"
            ],
            [
             0.4,
             "#fde0ef"
            ],
            [
             0.5,
             "#f7f7f7"
            ],
            [
             0.6,
             "#e6f5d0"
            ],
            [
             0.7,
             "#b8e186"
            ],
            [
             0.8,
             "#7fbc41"
            ],
            [
             0.9,
             "#4d9221"
            ],
            [
             1,
             "#276419"
            ]
           ],
           "sequential": [
            [
             0,
             "#0d0887"
            ],
            [
             0.1111111111111111,
             "#46039f"
            ],
            [
             0.2222222222222222,
             "#7201a8"
            ],
            [
             0.3333333333333333,
             "#9c179e"
            ],
            [
             0.4444444444444444,
             "#bd3786"
            ],
            [
             0.5555555555555556,
             "#d8576b"
            ],
            [
             0.6666666666666666,
             "#ed7953"
            ],
            [
             0.7777777777777778,
             "#fb9f3a"
            ],
            [
             0.8888888888888888,
             "#fdca26"
            ],
            [
             1,
             "#f0f921"
            ]
           ],
           "sequentialminus": [
            [
             0,
             "#0d0887"
            ],
            [
             0.1111111111111111,
             "#46039f"
            ],
            [
             0.2222222222222222,
             "#7201a8"
            ],
            [
             0.3333333333333333,
             "#9c179e"
            ],
            [
             0.4444444444444444,
             "#bd3786"
            ],
            [
             0.5555555555555556,
             "#d8576b"
            ],
            [
             0.6666666666666666,
             "#ed7953"
            ],
            [
             0.7777777777777778,
             "#fb9f3a"
            ],
            [
             0.8888888888888888,
             "#fdca26"
            ],
            [
             1,
             "#f0f921"
            ]
           ]
          },
          "colorway": [
           "#636efa",
           "#EF553B",
           "#00cc96",
           "#ab63fa",
           "#FFA15A",
           "#19d3f3",
           "#FF6692",
           "#B6E880",
           "#FF97FF",
           "#FECB52"
          ],
          "font": {
           "color": "#2a3f5f"
          },
          "geo": {
           "bgcolor": "white",
           "lakecolor": "white",
           "landcolor": "#E5ECF6",
           "showlakes": true,
           "showland": true,
           "subunitcolor": "white"
          },
          "hoverlabel": {
           "align": "left"
          },
          "hovermode": "closest",
          "mapbox": {
           "style": "light"
          },
          "paper_bgcolor": "white",
          "plot_bgcolor": "#E5ECF6",
          "polar": {
           "angularaxis": {
            "gridcolor": "white",
            "linecolor": "white",
            "ticks": ""
           },
           "bgcolor": "#E5ECF6",
           "radialaxis": {
            "gridcolor": "white",
            "linecolor": "white",
            "ticks": ""
           }
          },
          "scene": {
           "xaxis": {
            "backgroundcolor": "#E5ECF6",
            "gridcolor": "white",
            "gridwidth": 2,
            "linecolor": "white",
            "showbackground": true,
            "ticks": "",
            "zerolinecolor": "white"
           },
           "yaxis": {
            "backgroundcolor": "#E5ECF6",
            "gridcolor": "white",
            "gridwidth": 2,
            "linecolor": "white",
            "showbackground": true,
            "ticks": "",
            "zerolinecolor": "white"
           },
           "zaxis": {
            "backgroundcolor": "#E5ECF6",
            "gridcolor": "white",
            "gridwidth": 2,
            "linecolor": "white",
            "showbackground": true,
            "ticks": "",
            "zerolinecolor": "white"
           }
          },
          "shapedefaults": {
           "line": {
            "color": "#2a3f5f"
           }
          },
          "ternary": {
           "aaxis": {
            "gridcolor": "white",
            "linecolor": "white",
            "ticks": ""
           },
           "baxis": {
            "gridcolor": "white",
            "linecolor": "white",
            "ticks": ""
           },
           "bgcolor": "#E5ECF6",
           "caxis": {
            "gridcolor": "white",
            "linecolor": "white",
            "ticks": ""
           }
          },
          "title": {
           "x": 0.05
          },
          "xaxis": {
           "automargin": true,
           "gridcolor": "white",
           "linecolor": "white",
           "ticks": "",
           "title": {
            "standoff": 15
           },
           "zerolinecolor": "white",
           "zerolinewidth": 2
          },
          "yaxis": {
           "automargin": true,
           "gridcolor": "white",
           "linecolor": "white",
           "ticks": "",
           "title": {
            "standoff": 15
           },
           "zerolinecolor": "white",
           "zerolinewidth": 2
          }
         }
        },
        "title": {
         "text": "Cumulative Dollar Flow since Program Announcement"
        },
        "xaxis": {
         "title": {
          "text": "Day"
         }
        },
        "yaxis": {
         "tickprefix": "$",
         "title": {
          "text": "Cumulative Net Dollar Flow (N$F)"
         }
        }
       }
      },
      "text/html": [
       "<div>                            <div id=\"19c6c8a7-4679-4f8a-b071-13950a0b8b4a\" class=\"plotly-graph-div\" style=\"height:525px; width:100%;\"></div>            <script type=\"text/javascript\">                require([\"plotly\"], function(Plotly) {                    window.PLOTLYENV=window.PLOTLYENV || {};                                    if (document.getElementById(\"19c6c8a7-4679-4f8a-b071-13950a0b8b4a\")) {                    Plotly.newPlot(                        \"19c6c8a7-4679-4f8a-b071-13950a0b8b4a\",                        [{\"fill\":\"tozeroy\",\"name\":\"velodrome\",\"type\":\"scatter\",\"x\":[\"2022-07-13T00:00:00\",\"2022-07-14T00:00:00\",\"2022-07-15T00:00:00\",\"2022-07-16T00:00:00\",\"2022-07-17T00:00:00\",\"2022-07-18T00:00:00\",\"2022-07-19T00:00:00\",\"2022-07-20T00:00:00\",\"2022-07-21T00:00:00\",\"2022-07-22T00:00:00\",\"2022-07-23T00:00:00\",\"2022-07-24T00:00:00\",\"2022-07-25T00:00:00\",\"2022-07-26T00:00:00\",\"2022-07-27T00:00:00\",\"2022-07-28T00:00:00\",\"2022-07-29T00:00:00\",\"2022-07-30T00:00:00\",\"2022-07-31T00:00:00\",\"2022-08-01T00:00:00\",\"2022-08-02T00:00:00\",\"2022-08-03T00:00:00\",\"2022-08-04T00:00:00\",\"2022-08-05T00:00:00\",\"2022-08-06T00:00:00\"],\"y\":[1289994.8824221054,6357057.265492794,11035066.375135362,22398926.061357573,25261027.963113148,31924298.115867138,36041256.687428355,42919903.357344605,44617551.04521305,47202431.154444106,49207341.3237989,51694031.79579364,56143904.13515108,58950554.01350734,70129842.71927565,74444015.05423357,85608142.57665923,97933575.03231154,99680138.96129292,100090397.42482466,95939187.13074648,96741481.40520674,86967017.61412582,92591499.9817685,91089355.7374887]},{\"fill\":\"tozeroy\",\"name\":\"perpetual-protocol\",\"type\":\"scatter\",\"x\":[\"2022-07-14T00:00:00\",\"2022-07-15T00:00:00\",\"2022-07-16T00:00:00\",\"2022-07-17T00:00:00\",\"2022-07-18T00:00:00\",\"2022-07-19T00:00:00\",\"2022-07-20T00:00:00\",\"2022-07-21T00:00:00\",\"2022-07-22T00:00:00\",\"2022-07-23T00:00:00\",\"2022-07-24T00:00:00\",\"2022-07-25T00:00:00\",\"2022-07-26T00:00:00\",\"2022-07-27T00:00:00\",\"2022-07-28T00:00:00\",\"2022-07-29T00:00:00\",\"2022-07-30T00:00:00\",\"2022-07-31T00:00:00\",\"2022-08-01T00:00:00\",\"2022-08-02T00:00:00\",\"2022-08-03T00:00:00\",\"2022-08-04T00:00:00\",\"2022-08-05T00:00:00\",\"2022-08-06T00:00:00\"],\"y\":[85989.13927308508,95458.41621917917,158943.86163203992,165330.80093290313,-6351015.98443519,-5872519.70015184,-5759802.531620804,-6017676.411613511,-6134333.041383247,-5805430.607190147,-5817887.562776969,-5802441.917547732,-6142321.915864811,-6149301.939370891,-6086854.526360527,-6069279.85143744,-6078731.1584948115,-6179061.197583257,-6184909.904686395,-6396058.130824707,-5663602.393893052,-5441101.153565749,-5260661.621534297,-5509748.398462471]},{\"fill\":\"tozeroy\",\"name\":\"pooltogether\",\"type\":\"scatter\",\"x\":[\"2022-07-14T00:00:00\",\"2022-07-15T00:00:00\",\"2022-07-16T00:00:00\",\"2022-07-17T00:00:00\",\"2022-07-18T00:00:00\",\"2022-07-19T00:00:00\",\"2022-07-20T00:00:00\",\"2022-07-21T00:00:00\",\"2022-07-22T00:00:00\",\"2022-07-23T00:00:00\",\"2022-07-24T00:00:00\",\"2022-07-25T00:00:00\",\"2022-07-26T00:00:00\",\"2022-07-27T00:00:00\",\"2022-07-28T00:00:00\",\"2022-07-29T00:00:00\",\"2022-07-30T00:00:00\",\"2022-07-31T00:00:00\",\"2022-08-01T00:00:00\",\"2022-08-02T00:00:00\",\"2022-08-03T00:00:00\",\"2022-08-04T00:00:00\",\"2022-08-05T00:00:00\",\"2022-08-06T00:00:00\"],\"y\":[-15683.435586405627,103971.82993469252,121024.4630586261,206403.86331025983,229793.0054010901,480830.12594357855,553327.3561050948,615703.4312622846,996753.0523484161,1813889.0130390425,2074452.259319103,2434244.4423094722,5565205.835273901,12503605.63607045,17149843.855277926,19045775.099424142,19743869.55832223,20330827.427966077,20953336.724332158,21614052.79221294,22621111.815735914,25817126.38258938,27004308.546403952,30149140.908096887]},{\"fill\":\"tozeroy\",\"name\":\"thales\",\"type\":\"scatter\",\"x\":[\"2022-07-14T00:00:00\",\"2022-07-15T00:00:00\",\"2022-07-16T00:00:00\",\"2022-07-17T00:00:00\",\"2022-07-18T00:00:00\",\"2022-07-19T00:00:00\",\"2022-07-20T00:00:00\",\"2022-07-21T00:00:00\",\"2022-07-22T00:00:00\",\"2022-07-23T00:00:00\",\"2022-07-24T00:00:00\",\"2022-07-25T00:00:00\",\"2022-07-26T00:00:00\",\"2022-07-27T00:00:00\",\"2022-07-28T00:00:00\",\"2022-07-29T00:00:00\",\"2022-07-30T00:00:00\",\"2022-07-31T00:00:00\",\"2022-08-01T00:00:00\",\"2022-08-02T00:00:00\",\"2022-08-03T00:00:00\",\"2022-08-04T00:00:00\",\"2022-08-05T00:00:00\",\"2022-08-06T00:00:00\"],\"y\":[9676.36664986585,44212.47789897518,55857.972758533826,48927.70592785592,45885.5569414572,44564.06550079693,38558.34730104987,37200.819837518335,87491.73828324066,101991.12981771771,101490.496408333,97797.12959336938,58597.79795084349,51381.8644356847,55125.73680531059,78462.0924660619,73825.81642243834,75595.8546809967,80684.93406202267,82964.17454802015,79407.90897896128,54437.21857801973,71940.28750694585,49399.996724062774]},{\"fill\":\"tozeroy\",\"name\":\"rubicon\",\"type\":\"scatter\",\"x\":[\"2022-07-15T00:00:00\",\"2022-07-16T00:00:00\",\"2022-07-17T00:00:00\",\"2022-07-18T00:00:00\",\"2022-07-19T00:00:00\",\"2022-07-20T00:00:00\",\"2022-07-21T00:00:00\",\"2022-07-22T00:00:00\",\"2022-07-23T00:00:00\",\"2022-07-24T00:00:00\",\"2022-07-25T00:00:00\",\"2022-07-26T00:00:00\",\"2022-07-27T00:00:00\",\"2022-07-28T00:00:00\",\"2022-07-29T00:00:00\",\"2022-07-30T00:00:00\",\"2022-07-31T00:00:00\",\"2022-08-01T00:00:00\",\"2022-08-02T00:00:00\",\"2022-08-03T00:00:00\",\"2022-08-04T00:00:00\",\"2022-08-05T00:00:00\",\"2022-08-06T00:00:00\"],\"y\":[74847.34824417513,146359.98258332748,183081.77547646107,250443.56875052466,267623.19083397463,301106.4415978525,356173.1646834567,465516.00096364843,478178.9909317153,660423.0858855493,688781.2665393656,776935.2806657607,778612.0548242554,920939.122593321,1073250.62234666,1143808.824093905,1272844.9302081203,1756340.2437418369,1784279.473896233,1715766.585682129,1858257.6611455188,4381627.551248523,4734173.292331103]},{\"fill\":\"tozeroy\",\"name\":\"lyra\",\"type\":\"scatter\",\"x\":[\"2022-08-02T00:00:00\",\"2022-08-03T00:00:00\",\"2022-08-04T00:00:00\",\"2022-08-05T00:00:00\",\"2022-08-06T00:00:00\"],\"y\":[1823682.490069351,6195718.023635083,8049828.201065661,8502033.352672044,9206033.253601292]},{\"fill\":\"tozeroy\",\"name\":\"wepiggy\",\"type\":\"scatter\",\"x\":[\"2022-08-03T00:00:00\",\"2022-08-04T00:00:00\",\"2022-08-05T00:00:00\",\"2022-08-06T00:00:00\"],\"y\":[1779211.1212550504,2319657.619998813,3294841.7004244863,3607866.537623715]},{\"fill\":\"tozeroy\",\"name\":\"aave-v3\",\"type\":\"scatter\",\"x\":[\"2022-08-04T00:00:00\",\"2022-08-05T00:00:00\",\"2022-08-06T00:00:00\"],\"y\":[239937989.68652135,404690338.65996236,469417290.09827644]},{\"fill\":\"tozeroy\",\"name\":\"stargate\",\"type\":\"scatter\",\"x\":[\"2022-08-05T00:00:00\",\"2022-08-06T00:00:00\"],\"y\":[11429832.22017636,9845167.537597356]}],                        {\"legend\":{\"title\":{\"text\":\"App Name\"}},\"template\":{\"data\":{\"bar\":[{\"error_x\":{\"color\":\"#2a3f5f\"},\"error_y\":{\"color\":\"#2a3f5f\"},\"marker\":{\"line\":{\"color\":\"#E5ECF6\",\"width\":0.5},\"pattern\":{\"fillmode\":\"overlay\",\"size\":10,\"solidity\":0.2}},\"type\":\"bar\"}],\"barpolar\":[{\"marker\":{\"line\":{\"color\":\"#E5ECF6\",\"width\":0.5},\"pattern\":{\"fillmode\":\"overlay\",\"size\":10,\"solidity\":0.2}},\"type\":\"barpolar\"}],\"carpet\":[{\"aaxis\":{\"endlinecolor\":\"#2a3f5f\",\"gridcolor\":\"white\",\"linecolor\":\"white\",\"minorgridcolor\":\"white\",\"startlinecolor\":\"#2a3f5f\"},\"baxis\":{\"endlinecolor\":\"#2a3f5f\",\"gridcolor\":\"white\",\"linecolor\":\"white\",\"minorgridcolor\":\"white\",\"startlinecolor\":\"#2a3f5f\"},\"type\":\"carpet\"}],\"choropleth\":[{\"colorbar\":{\"outlinewidth\":0,\"ticks\":\"\"},\"type\":\"choropleth\"}],\"contour\":[{\"colorbar\":{\"outlinewidth\":0,\"ticks\":\"\"},\"colorscale\":[[0.0,\"#0d0887\"],[0.1111111111111111,\"#46039f\"],[0.2222222222222222,\"#7201a8\"],[0.3333333333333333,\"#9c179e\"],[0.4444444444444444,\"#bd3786\"],[0.5555555555555556,\"#d8576b\"],[0.6666666666666666,\"#ed7953\"],[0.7777777777777778,\"#fb9f3a\"],[0.8888888888888888,\"#fdca26\"],[1.0,\"#f0f921\"]],\"type\":\"contour\"}],\"contourcarpet\":[{\"colorbar\":{\"outlinewidth\":0,\"ticks\":\"\"},\"type\":\"contourcarpet\"}],\"heatmap\":[{\"colorbar\":{\"outlinewidth\":0,\"ticks\":\"\"},\"colorscale\":[[0.0,\"#0d0887\"],[0.1111111111111111,\"#46039f\"],[0.2222222222222222,\"#7201a8\"],[0.3333333333333333,\"#9c179e\"],[0.4444444444444444,\"#bd3786\"],[0.5555555555555556,\"#d8576b\"],[0.6666666666666666,\"#ed7953\"],[0.7777777777777778,\"#fb9f3a\"],[0.8888888888888888,\"#fdca26\"],[1.0,\"#f0f921\"]],\"type\":\"heatmap\"}],\"heatmapgl\":[{\"colorbar\":{\"outlinewidth\":0,\"ticks\":\"\"},\"colorscale\":[[0.0,\"#0d0887\"],[0.1111111111111111,\"#46039f\"],[0.2222222222222222,\"#7201a8\"],[0.3333333333333333,\"#9c179e\"],[0.4444444444444444,\"#bd3786\"],[0.5555555555555556,\"#d8576b\"],[0.6666666666666666,\"#ed7953\"],[0.7777777777777778,\"#fb9f3a\"],[0.8888888888888888,\"#fdca26\"],[1.0,\"#f0f921\"]],\"type\":\"heatmapgl\"}],\"histogram\":[{\"marker\":{\"pattern\":{\"fillmode\":\"overlay\",\"size\":10,\"solidity\":0.2}},\"type\":\"histogram\"}],\"histogram2d\":[{\"colorbar\":{\"outlinewidth\":0,\"ticks\":\"\"},\"colorscale\":[[0.0,\"#0d0887\"],[0.1111111111111111,\"#46039f\"],[0.2222222222222222,\"#7201a8\"],[0.3333333333333333,\"#9c179e\"],[0.4444444444444444,\"#bd3786\"],[0.5555555555555556,\"#d8576b\"],[0.6666666666666666,\"#ed7953\"],[0.7777777777777778,\"#fb9f3a\"],[0.8888888888888888,\"#fdca26\"],[1.0,\"#f0f921\"]],\"type\":\"histogram2d\"}],\"histogram2dcontour\":[{\"colorbar\":{\"outlinewidth\":0,\"ticks\":\"\"},\"colorscale\":[[0.0,\"#0d0887\"],[0.1111111111111111,\"#46039f\"],[0.2222222222222222,\"#7201a8\"],[0.3333333333333333,\"#9c179e\"],[0.4444444444444444,\"#bd3786\"],[0.5555555555555556,\"#d8576b\"],[0.6666666666666666,\"#ed7953\"],[0.7777777777777778,\"#fb9f3a\"],[0.8888888888888888,\"#fdca26\"],[1.0,\"#f0f921\"]],\"type\":\"histogram2dcontour\"}],\"mesh3d\":[{\"colorbar\":{\"outlinewidth\":0,\"ticks\":\"\"},\"type\":\"mesh3d\"}],\"parcoords\":[{\"line\":{\"colorbar\":{\"outlinewidth\":0,\"ticks\":\"\"}},\"type\":\"parcoords\"}],\"pie\":[{\"automargin\":true,\"type\":\"pie\"}],\"scatter\":[{\"marker\":{\"colorbar\":{\"outlinewidth\":0,\"ticks\":\"\"}},\"type\":\"scatter\"}],\"scatter3d\":[{\"line\":{\"colorbar\":{\"outlinewidth\":0,\"ticks\":\"\"}},\"marker\":{\"colorbar\":{\"outlinewidth\":0,\"ticks\":\"\"}},\"type\":\"scatter3d\"}],\"scattercarpet\":[{\"marker\":{\"colorbar\":{\"outlinewidth\":0,\"ticks\":\"\"}},\"type\":\"scattercarpet\"}],\"scattergeo\":[{\"marker\":{\"colorbar\":{\"outlinewidth\":0,\"ticks\":\"\"}},\"type\":\"scattergeo\"}],\"scattergl\":[{\"marker\":{\"colorbar\":{\"outlinewidth\":0,\"ticks\":\"\"}},\"type\":\"scattergl\"}],\"scattermapbox\":[{\"marker\":{\"colorbar\":{\"outlinewidth\":0,\"ticks\":\"\"}},\"type\":\"scattermapbox\"}],\"scatterpolar\":[{\"marker\":{\"colorbar\":{\"outlinewidth\":0,\"ticks\":\"\"}},\"type\":\"scatterpolar\"}],\"scatterpolargl\":[{\"marker\":{\"colorbar\":{\"outlinewidth\":0,\"ticks\":\"\"}},\"type\":\"scatterpolargl\"}],\"scatterternary\":[{\"marker\":{\"colorbar\":{\"outlinewidth\":0,\"ticks\":\"\"}},\"type\":\"scatterternary\"}],\"surface\":[{\"colorbar\":{\"outlinewidth\":0,\"ticks\":\"\"},\"colorscale\":[[0.0,\"#0d0887\"],[0.1111111111111111,\"#46039f\"],[0.2222222222222222,\"#7201a8\"],[0.3333333333333333,\"#9c179e\"],[0.4444444444444444,\"#bd3786\"],[0.5555555555555556,\"#d8576b\"],[0.6666666666666666,\"#ed7953\"],[0.7777777777777778,\"#fb9f3a\"],[0.8888888888888888,\"#fdca26\"],[1.0,\"#f0f921\"]],\"type\":\"surface\"}],\"table\":[{\"cells\":{\"fill\":{\"color\":\"#EBF0F8\"},\"line\":{\"color\":\"white\"}},\"header\":{\"fill\":{\"color\":\"#C8D4E3\"},\"line\":{\"color\":\"white\"}},\"type\":\"table\"}]},\"layout\":{\"annotationdefaults\":{\"arrowcolor\":\"#2a3f5f\",\"arrowhead\":0,\"arrowwidth\":1},\"autotypenumbers\":\"strict\",\"coloraxis\":{\"colorbar\":{\"outlinewidth\":0,\"ticks\":\"\"}},\"colorscale\":{\"diverging\":[[0,\"#8e0152\"],[0.1,\"#c51b7d\"],[0.2,\"#de77ae\"],[0.3,\"#f1b6da\"],[0.4,\"#fde0ef\"],[0.5,\"#f7f7f7\"],[0.6,\"#e6f5d0\"],[0.7,\"#b8e186\"],[0.8,\"#7fbc41\"],[0.9,\"#4d9221\"],[1,\"#276419\"]],\"sequential\":[[0.0,\"#0d0887\"],[0.1111111111111111,\"#46039f\"],[0.2222222222222222,\"#7201a8\"],[0.3333333333333333,\"#9c179e\"],[0.4444444444444444,\"#bd3786\"],[0.5555555555555556,\"#d8576b\"],[0.6666666666666666,\"#ed7953\"],[0.7777777777777778,\"#fb9f3a\"],[0.8888888888888888,\"#fdca26\"],[1.0,\"#f0f921\"]],\"sequentialminus\":[[0.0,\"#0d0887\"],[0.1111111111111111,\"#46039f\"],[0.2222222222222222,\"#7201a8\"],[0.3333333333333333,\"#9c179e\"],[0.4444444444444444,\"#bd3786\"],[0.5555555555555556,\"#d8576b\"],[0.6666666666666666,\"#ed7953\"],[0.7777777777777778,\"#fb9f3a\"],[0.8888888888888888,\"#fdca26\"],[1.0,\"#f0f921\"]]},\"colorway\":[\"#636efa\",\"#EF553B\",\"#00cc96\",\"#ab63fa\",\"#FFA15A\",\"#19d3f3\",\"#FF6692\",\"#B6E880\",\"#FF97FF\",\"#FECB52\"],\"font\":{\"color\":\"#2a3f5f\"},\"geo\":{\"bgcolor\":\"white\",\"lakecolor\":\"white\",\"landcolor\":\"#E5ECF6\",\"showlakes\":true,\"showland\":true,\"subunitcolor\":\"white\"},\"hoverlabel\":{\"align\":\"left\"},\"hovermode\":\"closest\",\"mapbox\":{\"style\":\"light\"},\"paper_bgcolor\":\"white\",\"plot_bgcolor\":\"#E5ECF6\",\"polar\":{\"angularaxis\":{\"gridcolor\":\"white\",\"linecolor\":\"white\",\"ticks\":\"\"},\"bgcolor\":\"#E5ECF6\",\"radialaxis\":{\"gridcolor\":\"white\",\"linecolor\":\"white\",\"ticks\":\"\"}},\"scene\":{\"xaxis\":{\"backgroundcolor\":\"#E5ECF6\",\"gridcolor\":\"white\",\"gridwidth\":2,\"linecolor\":\"white\",\"showbackground\":true,\"ticks\":\"\",\"zerolinecolor\":\"white\"},\"yaxis\":{\"backgroundcolor\":\"#E5ECF6\",\"gridcolor\":\"white\",\"gridwidth\":2,\"linecolor\":\"white\",\"showbackground\":true,\"ticks\":\"\",\"zerolinecolor\":\"white\"},\"zaxis\":{\"backgroundcolor\":\"#E5ECF6\",\"gridcolor\":\"white\",\"gridwidth\":2,\"linecolor\":\"white\",\"showbackground\":true,\"ticks\":\"\",\"zerolinecolor\":\"white\"}},\"shapedefaults\":{\"line\":{\"color\":\"#2a3f5f\"}},\"ternary\":{\"aaxis\":{\"gridcolor\":\"white\",\"linecolor\":\"white\",\"ticks\":\"\"},\"baxis\":{\"gridcolor\":\"white\",\"linecolor\":\"white\",\"ticks\":\"\"},\"bgcolor\":\"#E5ECF6\",\"caxis\":{\"gridcolor\":\"white\",\"linecolor\":\"white\",\"ticks\":\"\"}},\"title\":{\"x\":0.05},\"xaxis\":{\"automargin\":true,\"gridcolor\":\"white\",\"linecolor\":\"white\",\"ticks\":\"\",\"title\":{\"standoff\":15},\"zerolinecolor\":\"white\",\"zerolinewidth\":2},\"yaxis\":{\"automargin\":true,\"gridcolor\":\"white\",\"linecolor\":\"white\",\"ticks\":\"\",\"title\":{\"standoff\":15},\"zerolinecolor\":\"white\",\"zerolinewidth\":2}}},\"title\":{\"text\":\"Cumulative Dollar Flow since Program Announcement\"},\"xaxis\":{\"title\":{\"text\":\"Day\"}},\"yaxis\":{\"tickprefix\":\"$\",\"title\":{\"text\":\"Cumulative Net Dollar Flow (N$F)\"}}},                        {\"responsive\": true}                    ).then(function(){\n",
       "                            \n",
       "var gd = document.getElementById('19c6c8a7-4679-4f8a-b071-13950a0b8b4a');\n",
       "var x = new MutationObserver(function (mutations, observer) {{\n",
       "        var display = window.getComputedStyle(gd).display;\n",
       "        if (!display || display === 'none') {{\n",
       "            console.log([gd, 'removed!']);\n",
       "            Plotly.purge(gd);\n",
       "            observer.disconnect();\n",
       "        }}\n",
       "}});\n",
       "\n",
       "// Listen for the removal of the full notebook cells\n",
       "var notebookContainer = gd.closest('#notebook-container');\n",
       "if (notebookContainer) {{\n",
       "    x.observe(notebookContainer, {childList: true});\n",
       "}}\n",
       "\n",
       "// Listen for the clearing of the current output cell\n",
       "var outputEl = gd.closest('.output');\n",
       "if (outputEl) {{\n",
       "    x.observe(outputEl, {childList: true});\n",
       "}}\n",
       "\n",
       "                        })                };                });            </script>        </div>"
      ]
     },
     "metadata": {},
     "output_type": "display_data"
    }
   ],
   "source": [
    "fig.show()\n",
    "cumul_fig.show()"
   ]
  }
 ],
 "metadata": {
  "kernelspec": {
   "display_name": "Python 3 (ipykernel)",
   "language": "python",
   "name": "python3"
  },
  "language_info": {
   "codemirror_mode": {
    "name": "ipython",
    "version": 3
   },
   "file_extension": ".py",
   "mimetype": "text/x-python",
   "name": "python",
   "nbconvert_exporter": "python",
   "pygments_lexer": "ipython3",
   "version": "3.9.7"
  }
 },
 "nbformat": 4,
 "nbformat_minor": 5
}
