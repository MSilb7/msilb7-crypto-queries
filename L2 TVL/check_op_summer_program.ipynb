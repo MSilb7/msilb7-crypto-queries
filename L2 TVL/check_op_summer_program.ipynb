{
 "cells": [
  {
   "cell_type": "code",
   "execution_count": 37,
   "metadata": {},
   "outputs": [],
   "source": [
    "import pandas as pd\n",
    "\n",
    "# Load latest stats\n",
    "latest_df = pd.read_csv('csv_outputs/op_summer_latest_stats.csv')\n",
    "\n",
    "#Configs\n",
    "program_name_contains = 'Uniswap LM - Phase 2'\n",
    "program_name_not_contains = 'Uniswap V3'\n"
   ]
  },
  {
   "cell_type": "code",
   "execution_count": 38,
   "metadata": {},
   "outputs": [
    {
     "name": "stdout",
     "output_type": "stream",
     "text": [
      "Index(['date', 'include_in_summary', 'program_name', 'app_name', 'num_op',\n",
      "       'period', 'op_source', 'start_date', 'end_date',\n",
      "       'cumul_net_dollar_flow_at_program_end', 'cumul_net_dollar_flow',\n",
      "       'cumul_flows_per_op_at_program_end',\n",
      "       'cumul_last_price_net_dollar_flow_at_program_end',\n",
      "       'cumul_flows_per_op_latest', 'cumul_last_price_net_dollar_flow',\n",
      "       'last_price_net_dollar_flows_per_op_at_program_end',\n",
      "       'last_price_net_dollar_flows_per_op_latest', 'flows_retention',\n",
      "       'last_price_net_dollar_flows_retention'],\n",
      "      dtype='object')\n"
     ]
    },
    {
     "name": "stderr",
     "output_type": "stream",
     "text": [
      "/var/folders/by/kltjc8yd0yz_7_wrtrzhrm9m0000gn/T/ipykernel_7735/155909286.py:3: UserWarning: Boolean Series key will be reindexed to match DataFrame index.\n",
      "  filtered_df = filtered_df[~latest_df['program_name'].str.contains(program_name_not_contains)]\n"
     ]
    }
   ],
   "source": [
    "# Assuming program_name_contains is a string variable containing the desired substring\n",
    "filtered_df = latest_df[latest_df['program_name'].str.contains(program_name_contains)]\n",
    "filtered_df = filtered_df[~latest_df['program_name'].str.contains(program_name_not_contains)]\n",
    "\n",
    "print(filtered_df.columns)\n",
    "cols = ['date','program_name','app_name','num_op','cumul_last_price_net_dollar_flow_at_program_end','cumul_last_price_net_dollar_flow',\\\n",
    "        'last_price_net_dollar_flows_per_op_at_program_end','last_price_net_dollar_flows_per_op_latest','last_price_net_dollar_flows_retention']\n"
   ]
  },
  {
   "cell_type": "code",
   "execution_count": 39,
   "metadata": {},
   "outputs": [
    {
     "name": "stderr",
     "output_type": "stream",
     "text": [
      "/var/folders/by/kltjc8yd0yz_7_wrtrzhrm9m0000gn/T/ipykernel_7735/3793933130.py:22: FutureWarning: The frame.append method is deprecated and will be removed from pandas in a future version. Use pandas.concat instead.\n",
      "  filtered_df = filtered_df.append(total_row, ignore_index=True)\n"
     ]
    }
   ],
   "source": [
    "filtered_df = filtered_df[cols]\n",
    "\n",
    "# Calculate the required total value\n",
    "op_flows_end = filtered_df['cumul_last_price_net_dollar_flow_at_program_end'].sum() / filtered_df['num_op'].sum()\n",
    "op_flows_latest = filtered_df['cumul_last_price_net_dollar_flow'].sum() / filtered_df['num_op'].sum()\n",
    "total_retention = filtered_df['cumul_last_price_net_dollar_flow'].sum() / filtered_df['cumul_last_price_net_dollar_flow_at_program_end'].sum()\n",
    "\n",
    "# Create a new row with the total values\n",
    "total_row = {\n",
    "    'date': 'Total',\n",
    "    'program_name': '',\n",
    "    'app_name': '',\n",
    "    'num_op': filtered_df['num_op'].sum(),\n",
    "    'cumul_last_price_net_dollar_flow_at_program_end': filtered_df['cumul_last_price_net_dollar_flow_at_program_end'].sum(),\n",
    "    'cumul_last_price_net_dollar_flow': filtered_df['cumul_last_price_net_dollar_flow'].sum(),\n",
    "    'last_price_net_dollar_flows_per_op_at_program_end': op_flows_end,\n",
    "    'last_price_net_dollar_flows_per_op_latest': op_flows_latest,\n",
    "    'last_price_net_dollar_flows_retention': total_retention\n",
    "}\n",
    "\n",
    "# Append the new row to filtered_df\n",
    "filtered_df = filtered_df.append(total_row, ignore_index=True)"
   ]
  },
  {
   "cell_type": "code",
   "execution_count": 40,
   "metadata": {},
   "outputs": [
    {
     "data": {
      "text/html": [
       "<style type=\"text/css\">\n",
       "</style>\n",
       "<table id=\"T_8292c\">\n",
       "  <thead>\n",
       "    <tr>\n",
       "      <th class=\"blank level0\" >&nbsp;</th>\n",
       "      <th id=\"T_8292c_level0_col0\" class=\"col_heading level0 col0\" >date</th>\n",
       "      <th id=\"T_8292c_level0_col1\" class=\"col_heading level0 col1\" >program_name</th>\n",
       "      <th id=\"T_8292c_level0_col2\" class=\"col_heading level0 col2\" >app_name</th>\n",
       "      <th id=\"T_8292c_level0_col3\" class=\"col_heading level0 col3\" >num_op</th>\n",
       "      <th id=\"T_8292c_level0_col4\" class=\"col_heading level0 col4\" >cumul_last_price_net_dollar_flow_at_program_end</th>\n",
       "      <th id=\"T_8292c_level0_col5\" class=\"col_heading level0 col5\" >cumul_last_price_net_dollar_flow</th>\n",
       "      <th id=\"T_8292c_level0_col6\" class=\"col_heading level0 col6\" >last_price_net_dollar_flows_per_op_at_program_end</th>\n",
       "      <th id=\"T_8292c_level0_col7\" class=\"col_heading level0 col7\" >last_price_net_dollar_flows_per_op_latest</th>\n",
       "      <th id=\"T_8292c_level0_col8\" class=\"col_heading level0 col8\" >last_price_net_dollar_flows_retention</th>\n",
       "    </tr>\n",
       "  </thead>\n",
       "  <tbody>\n",
       "    <tr>\n",
       "      <th id=\"T_8292c_level0_row0\" class=\"row_heading level0 row0\" >0</th>\n",
       "      <td id=\"T_8292c_row0_col0\" class=\"data row0 col0\" >2023-02-14</td>\n",
       "      <td id=\"T_8292c_row0_col1\" class=\"data row0 col1\" >Xtoken - Uniswap LM - Phase 2</td>\n",
       "      <td id=\"T_8292c_row0_col2\" class=\"data row0 col2\" >xtoken</td>\n",
       "      <td id=\"T_8292c_row0_col3\" class=\"data row0 col3\" >25,000</td>\n",
       "      <td id=\"T_8292c_row0_col4\" class=\"data row0 col4\" >$2,675,674</td>\n",
       "      <td id=\"T_8292c_row0_col5\" class=\"data row0 col5\" >$-277,478</td>\n",
       "      <td id=\"T_8292c_row0_col6\" class=\"data row0 col6\" >$54</td>\n",
       "      <td id=\"T_8292c_row0_col7\" class=\"data row0 col7\" >$-11</td>\n",
       "      <td id=\"T_8292c_row0_col8\" class=\"data row0 col8\" >10.37%</td>\n",
       "    </tr>\n",
       "    <tr>\n",
       "      <th id=\"T_8292c_level0_row1\" class=\"row_heading level0 row1\" >1</th>\n",
       "      <td id=\"T_8292c_row1_col0\" class=\"data row1 col0\" >2023-02-14</td>\n",
       "      <td id=\"T_8292c_row1_col1\" class=\"data row1 col1\" >Gamma - Uniswap LM - Phase 2</td>\n",
       "      <td id=\"T_8292c_row1_col2\" class=\"data row1 col2\" >gamma</td>\n",
       "      <td id=\"T_8292c_row1_col3\" class=\"data row1 col3\" >25,000</td>\n",
       "      <td id=\"T_8292c_row1_col4\" class=\"data row1 col4\" >$7,354,113</td>\n",
       "      <td id=\"T_8292c_row1_col5\" class=\"data row1 col5\" >$791,137</td>\n",
       "      <td id=\"T_8292c_row1_col6\" class=\"data row1 col6\" >$147</td>\n",
       "      <td id=\"T_8292c_row1_col7\" class=\"data row1 col7\" >$32</td>\n",
       "      <td id=\"T_8292c_row1_col8\" class=\"data row1 col8\" >10.76%</td>\n",
       "    </tr>\n",
       "    <tr>\n",
       "      <th id=\"T_8292c_level0_row2\" class=\"row_heading level0 row2\" >2</th>\n",
       "      <td id=\"T_8292c_row2_col0\" class=\"data row2 col0\" >2023-02-14</td>\n",
       "      <td id=\"T_8292c_row2_col1\" class=\"data row2 col1\" >Arrakis Finance - Uniswap LM - Phase 2</td>\n",
       "      <td id=\"T_8292c_row2_col2\" class=\"data row2 col2\" >arrakis-finance</td>\n",
       "      <td id=\"T_8292c_row2_col3\" class=\"data row2 col3\" >25,000</td>\n",
       "      <td id=\"T_8292c_row2_col4\" class=\"data row2 col4\" >$6,210,722</td>\n",
       "      <td id=\"T_8292c_row2_col5\" class=\"data row2 col5\" >$920,319</td>\n",
       "      <td id=\"T_8292c_row2_col6\" class=\"data row2 col6\" >$124</td>\n",
       "      <td id=\"T_8292c_row2_col7\" class=\"data row2 col7\" >$37</td>\n",
       "      <td id=\"T_8292c_row2_col8\" class=\"data row2 col8\" >14.82%</td>\n",
       "    </tr>\n",
       "    <tr>\n",
       "      <th id=\"T_8292c_level0_row3\" class=\"row_heading level0 row3\" >3</th>\n",
       "      <td id=\"T_8292c_row3_col0\" class=\"data row3 col0\" >2023-02-14</td>\n",
       "      <td id=\"T_8292c_row3_col1\" class=\"data row3 col1\" >Defiedge - Uniswap LM - Phase 2*</td>\n",
       "      <td id=\"T_8292c_row3_col2\" class=\"data row3 col2\" >defiedge</td>\n",
       "      <td id=\"T_8292c_row3_col3\" class=\"data row3 col3\" >25,000</td>\n",
       "      <td id=\"T_8292c_row3_col4\" class=\"data row3 col4\" >$8,230,220</td>\n",
       "      <td id=\"T_8292c_row3_col5\" class=\"data row3 col5\" >$2,620,068</td>\n",
       "      <td id=\"T_8292c_row3_col6\" class=\"data row3 col6\" >$165</td>\n",
       "      <td id=\"T_8292c_row3_col7\" class=\"data row3 col7\" >$105</td>\n",
       "      <td id=\"T_8292c_row3_col8\" class=\"data row3 col8\" >31.83%</td>\n",
       "    </tr>\n",
       "    <tr>\n",
       "      <th id=\"T_8292c_level0_row4\" class=\"row_heading level0 row4\" >4</th>\n",
       "      <td id=\"T_8292c_row4_col0\" class=\"data row4 col0\" >Total</td>\n",
       "      <td id=\"T_8292c_row4_col1\" class=\"data row4 col1\" ></td>\n",
       "      <td id=\"T_8292c_row4_col2\" class=\"data row4 col2\" ></td>\n",
       "      <td id=\"T_8292c_row4_col3\" class=\"data row4 col3\" >100,000</td>\n",
       "      <td id=\"T_8292c_row4_col4\" class=\"data row4 col4\" >$24,470,729</td>\n",
       "      <td id=\"T_8292c_row4_col5\" class=\"data row4 col5\" >$4,054,046</td>\n",
       "      <td id=\"T_8292c_row4_col6\" class=\"data row4 col6\" >$0</td>\n",
       "      <td id=\"T_8292c_row4_col7\" class=\"data row4 col7\" >$41</td>\n",
       "      <td id=\"T_8292c_row4_col8\" class=\"data row4 col8\" >16.57%</td>\n",
       "    </tr>\n",
       "  </tbody>\n",
       "</table>\n"
      ],
      "text/plain": [
       "<pandas.io.formats.style.Styler at 0x7fea604db940>"
      ]
     },
     "execution_count": 40,
     "metadata": {},
     "output_type": "execute_result"
    }
   ],
   "source": [
    "# Define a formatting function for the dollar columns\n",
    "def dollar_format(x):\n",
    "    return \"${:,.0f}\".format(x)\n",
    "\n",
    "def num_format(x):\n",
    "    return \"{:,.0f}\".format(x)\n",
    "\n",
    "# Define a formatting function for the retention column\n",
    "def retention_format(x):\n",
    "    return \"{:.2%}\".format(x)\n",
    "\n",
    "# Create a copy of filtered_df for styling\n",
    "styled_df = filtered_df.copy()\n",
    "\n",
    "# Apply formatting to the relevant columns\n",
    "styled_df = styled_df.style.format({\n",
    "    'num_op': num_format,\n",
    "    'cumul_last_price_net_dollar_flow_at_program_end': dollar_format,\n",
    "    'cumul_last_price_net_dollar_flow': dollar_format,\n",
    "    'last_price_net_dollar_flows_per_op_at_program_end': dollar_format,\n",
    "    'last_price_net_dollar_flows_per_op_latest': dollar_format,\n",
    "    'last_price_net_dollar_flows_retention': retention_format\n",
    "})\n",
    "\n",
    "# Display the styled dataframe\n",
    "styled_df\n"
   ]
  }
 ],
 "metadata": {
  "kernelspec": {
   "display_name": "new-env",
   "language": "python",
   "name": "python3"
  },
  "language_info": {
   "codemirror_mode": {
    "name": "ipython",
    "version": 3
   },
   "file_extension": ".py",
   "mimetype": "text/x-python",
   "name": "python",
   "nbconvert_exporter": "python",
   "pygments_lexer": "ipython3",
   "version": "3.10.9"
  },
  "orig_nbformat": 4,
  "vscode": {
   "interpreter": {
    "hash": "7d537a1638226190f579d6fbb68604c1b09ebc740a69df557abedb49ad78e592"
   }
  }
 },
 "nbformat": 4,
 "nbformat_minor": 2
}
