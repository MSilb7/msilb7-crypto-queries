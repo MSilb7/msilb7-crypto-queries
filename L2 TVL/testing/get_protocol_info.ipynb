{
 "cells": [
  {
   "cell_type": "code",
   "execution_count": null,
   "metadata": {},
   "outputs": [],
   "source": [
    "import requests as r\n",
    "import pandas as pd\n",
    "import sys\n",
    "sys.path.append('../')\n",
    "# print(sys.path)\n",
    "import defillama_utils as dfl\n",
    "sys.path.pop()\n",
    "header = {'User-Agent': 'Mozilla/5.0 (Windows NT 10.0; Win64; x64; rv:71.0) Gecko/20100101 Firefox/71.0'}"
   ]
  },
  {
   "cell_type": "code",
   "execution_count": null,
   "metadata": {},
   "outputs": [],
   "source": [
    "# wee = dfl.get_protocol_tvls()\n",
    "# display(wee)\n",
    "\n",
    "protocols = r.get('https://api.llama.fi/lite/protocols2', headers={'Content-Type': 'application/json'}).json()\n",
    "print(protocols)"
   ]
  },
  {
   "cell_type": "code",
   "execution_count": null,
   "metadata": {},
   "outputs": [],
   "source": [
    "all_api = 'https://api.llama.fi/protocols'\n",
    "res = pd.DataFrame( r.get(all_api, headers=header).json() )\n",
    "res = res[res['slug'].isin(['pooltogether'])]\n",
    "res = res.T\n",
    "# display(res)"
   ]
  },
  {
   "cell_type": "code",
   "execution_count": null,
   "metadata": {},
   "outputs": [],
   "source": [
    "protocols = r.get('https://api.llama.fi/lite/protocols2', headers=header).json()['protocols']\n",
    "# doublecounted_values = [protocol[\"chainTvls\"][\"doublecounted\"] for protocol in protocols]\n",
    "# print(protocols)\n",
    "# for protocol in protocols:\n",
    "#         print(protocol['chainTvls'].keys())\n",
    "doublecounted_protocols = [protocol for protocol in protocols if any(\"-doublecounted\" in key for key in protocol[\"chainTvls\"])]\n",
    "doublecounted_protocol_names = [element[\"name\"] for element in doublecounted_protocols]\n",
    "print(doublecounted_protocol_names)"
   ]
  },
  {
   "cell_type": "code",
   "execution_count": null,
   "metadata": {},
   "outputs": [],
   "source": [
    "def get_protocol_tvls(min_tvl = 0, excluded_cats = ['CEX','Chain']):#,excluded_flags = ['staking','pool2']):\n",
    "        all_api = 'https://api.llama.fi/protocols'\n",
    "        resp = pd.DataFrame( r.get(all_api, headers=header).json() )\n",
    "        resp = resp[resp['tvl'] > min_tvl ] ##greater than X\n",
    "        if excluded_cats != []: #If we have cagtegories to exclude\n",
    "                resp = resp[~resp['category'].isin(excluded_cats)]\n",
    "        # Get Other Flags\n",
    "        doublecounts = get_doublecounted_protocol_names()\n",
    "        resp = resp.assign(is_doubelcount = resp['name'].isin(doublecounts))\n",
    "        # if excluded_flags != []: #If we have cagtegories to exclude\n",
    "        #         for flg in excluded_flags:\n",
    "        #                 resp = resp[resp[flg] != True]\n",
    "        return resp"
   ]
  },
  {
   "cell_type": "code",
   "execution_count": null,
   "metadata": {},
   "outputs": [],
   "source": []
  }
 ],
 "metadata": {
  "kernelspec": {
   "display_name": "Python 3",
   "language": "python",
   "name": "python3"
  },
  "language_info": {
   "codemirror_mode": {
    "name": "ipython",
    "version": 3
   },
   "file_extension": ".py",
   "mimetype": "text/x-python",
   "name": "python",
   "nbconvert_exporter": "python",
   "pygments_lexer": "ipython3",
   "version": "3.10.9"
  },
  "orig_nbformat": 4,
  "vscode": {
   "interpreter": {
    "hash": "b0fa6594d8f4cbf19f97940f81e996739fb7646882a419484c72d19e05852a7e"
   }
  }
 },
 "nbformat": 4,
 "nbformat_minor": 2
}
