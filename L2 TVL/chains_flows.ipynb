{
 "cells": [
  {
   "cell_type": "code",
   "execution_count": 27,
   "metadata": {},
   "outputs": [],
   "source": [
    "import pandas as pd\n",
    "import requests as r\n",
    "import plotly.express as px\n",
    "import plotly.graph_objects as go\n",
    "from datetime import datetime, timedelta, date\n",
    "import numpy as np\n",
    "import time\n",
    "import os\n",
    "import asyncio, aiohttp, nest_asyncio\n",
    "from aiohttp_retry import RetryClient, ExponentialRetry\n",
    "nest_asyncio.apply()\n",
    "header = {'User-Agent': 'Mozilla/5.0 (Windows NT 10.0; Win64; x64; rv:71.0) Gecko/20100101 Firefox/71.0'}\n",
    "\n",
    "trailing_num_days = 90\n",
    "\n",
    "chains_tg = [\n",
    "        'Ethereum'\n",
    "        ,'Optimism'\n",
    "        ,'Binance'\n",
    "        ,'Arbitrum'\n",
    "        ,'Polygon'\n",
    "        ,'Avalanche'\n",
    "        ]"
   ]
  },
  {
   "cell_type": "code",
   "execution_count": 28,
   "metadata": {},
   "outputs": [],
   "source": [
    "#https://stackoverflow.com/questions/23267409/how-to-implement-retry-mechanism-into-python-requests-library\n",
    "\n",
    "import logging\n",
    "import requests\n",
    "\n",
    "from requests.adapters import HTTPAdapter, Retry\n",
    "\n",
    "# logging.basicConfig(level=logging.DEBUG)\n",
    "\n",
    "s = requests.Session()\n",
    "retries = Retry(total=10, backoff_factor=1, status_forcelist=[ 502, 503, 504 ])\n",
    "s.mount('http://', HTTPAdapter(max_retries=retries))\n",
    "\n",
    "pwd = os.getcwd()\n",
    "if 'L2 TVL' in pwd:\n",
    "    prepend = ''\n",
    "else:\n",
    "    prepend = 'L2 TVL/'"
   ]
  },
  {
   "cell_type": "code",
   "execution_count": 29,
   "metadata": {},
   "outputs": [
    {
     "name": "stdout",
     "output_type": "stream",
     "text": [
      "Ethereum\n",
      "Optimism\n",
      "Binance\n",
      "Arbitrum\n",
      "Polygon\n",
      "Avalanche\n"
     ]
    }
   ],
   "source": [
    "all_api = 'https://api.llama.fi/charts/'\n",
    "dflist = []\n",
    "for i in chains_tg:\n",
    "        print(i)\n",
    "        res = pd.DataFrame( r.get(all_api + str(i), headers=header).json() )\n",
    "        res['chain'] = str(i)\n",
    "        res['date'] = pd.to_datetime(res['date'], unit ='s') #convert to days\n",
    "        res['rank_desc'] = res['date'].rank(method='dense',ascending=False).astype(int)\n",
    "        res = res.sort_values(by='date',ascending=True)\n",
    "        res['t90d_totalLiquidityUSD'] = res['totalLiquidityUSD'].shift(90)\n",
    "        dflist.append(res)\n",
    "dfs = pd.concat(dflist)"
   ]
  },
  {
   "cell_type": "code",
   "execution_count": 30,
   "metadata": {},
   "outputs": [
    {
     "name": "stderr",
     "output_type": "stream",
     "text": [
      "/var/folders/by/kltjc8yd0yz_7_wrtrzhrm9m0000gn/T/ipykernel_32965/3851270728.py:2: SettingWithCopyWarning: \n",
      "A value is trying to be set on a copy of a slice from a DataFrame.\n",
      "Try using .loc[row_indexer,col_indexer] = value instead\n",
      "\n",
      "See the caveats in the documentation: https://pandas.pydata.org/pandas-docs/stable/user_guide/indexing.html#returning-a-view-versus-a-copy\n",
      "  current_df['current_tvl_share'] = current_df['totalLiquidityUSD'] / (current_df['totalLiquidityUSD'].sum())\n",
      "/var/folders/by/kltjc8yd0yz_7_wrtrzhrm9m0000gn/T/ipykernel_32965/3851270728.py:3: SettingWithCopyWarning: \n",
      "A value is trying to be set on a copy of a slice from a DataFrame.\n",
      "Try using .loc[row_indexer,col_indexer] = value instead\n",
      "\n",
      "See the caveats in the documentation: https://pandas.pydata.org/pandas-docs/stable/user_guide/indexing.html#returning-a-view-versus-a-copy\n",
      "  current_df['prev_tvl_share'] = current_df['t90d_totalLiquidityUSD'] / (current_df['t90d_totalLiquidityUSD'].sum())\n"
     ]
    },
    {
     "data": {
      "text/html": [
       "<div>\n",
       "<style scoped>\n",
       "    .dataframe tbody tr th:only-of-type {\n",
       "        vertical-align: middle;\n",
       "    }\n",
       "\n",
       "    .dataframe tbody tr th {\n",
       "        vertical-align: top;\n",
       "    }\n",
       "\n",
       "    .dataframe thead th {\n",
       "        text-align: right;\n",
       "    }\n",
       "</style>\n",
       "<table border=\"1\" class=\"dataframe\">\n",
       "  <thead>\n",
       "    <tr style=\"text-align: right;\">\n",
       "      <th></th>\n",
       "      <th>date</th>\n",
       "      <th>totalLiquidityUSD</th>\n",
       "      <th>chain</th>\n",
       "      <th>rank_desc</th>\n",
       "      <th>t90d_totalLiquidityUSD</th>\n",
       "      <th>current_tvl_share</th>\n",
       "      <th>prev_tvl_share</th>\n",
       "    </tr>\n",
       "  </thead>\n",
       "  <tbody>\n",
       "    <tr>\n",
       "      <th>1384</th>\n",
       "      <td>2022-10-19</td>\n",
       "      <td>4.641671e+10</td>\n",
       "      <td>Ethereum</td>\n",
       "      <td>1</td>\n",
       "      <td>4.685844e+10</td>\n",
       "      <td>0.800821</td>\n",
       "      <td>0.792217</td>\n",
       "    </tr>\n",
       "    <tr>\n",
       "      <th>462</th>\n",
       "      <td>2022-10-19</td>\n",
       "      <td>1.019631e+09</td>\n",
       "      <td>Optimism</td>\n",
       "      <td>1</td>\n",
       "      <td>3.437586e+08</td>\n",
       "      <td>0.017592</td>\n",
       "      <td>0.005812</td>\n",
       "    </tr>\n",
       "    <tr>\n",
       "      <th>718</th>\n",
       "      <td>2022-10-19</td>\n",
       "      <td>6.467787e+09</td>\n",
       "      <td>Binance</td>\n",
       "      <td>1</td>\n",
       "      <td>6.519857e+09</td>\n",
       "      <td>0.111588</td>\n",
       "      <td>0.110229</td>\n",
       "    </tr>\n",
       "    <tr>\n",
       "      <th>750</th>\n",
       "      <td>2022-10-19</td>\n",
       "      <td>1.029876e+09</td>\n",
       "      <td>Arbitrum</td>\n",
       "      <td>1</td>\n",
       "      <td>6.696644e+08</td>\n",
       "      <td>0.017768</td>\n",
       "      <td>0.011322</td>\n",
       "    </tr>\n",
       "    <tr>\n",
       "      <th>740</th>\n",
       "      <td>2022-10-19</td>\n",
       "      <td>1.366622e+09</td>\n",
       "      <td>Polygon</td>\n",
       "      <td>1</td>\n",
       "      <td>1.753773e+09</td>\n",
       "      <td>0.023578</td>\n",
       "      <td>0.029650</td>\n",
       "    </tr>\n",
       "    <tr>\n",
       "      <th>624</th>\n",
       "      <td>2022-10-19</td>\n",
       "      <td>1.660768e+09</td>\n",
       "      <td>Avalanche</td>\n",
       "      <td>1</td>\n",
       "      <td>3.002972e+09</td>\n",
       "      <td>0.028653</td>\n",
       "      <td>0.050770</td>\n",
       "    </tr>\n",
       "  </tbody>\n",
       "</table>\n",
       "</div>"
      ],
      "text/plain": [
       "           date  totalLiquidityUSD      chain  rank_desc  \\\n",
       "1384 2022-10-19       4.641671e+10   Ethereum          1   \n",
       "462  2022-10-19       1.019631e+09   Optimism          1   \n",
       "718  2022-10-19       6.467787e+09    Binance          1   \n",
       "750  2022-10-19       1.029876e+09   Arbitrum          1   \n",
       "740  2022-10-19       1.366622e+09    Polygon          1   \n",
       "624  2022-10-19       1.660768e+09  Avalanche          1   \n",
       "\n",
       "      t90d_totalLiquidityUSD  current_tvl_share  prev_tvl_share  \n",
       "1384            4.685844e+10           0.800821        0.792217  \n",
       "462             3.437586e+08           0.017592        0.005812  \n",
       "718             6.519857e+09           0.111588        0.110229  \n",
       "750             6.696644e+08           0.017768        0.011322  \n",
       "740             1.753773e+09           0.023578        0.029650  \n",
       "624             3.002972e+09           0.028653        0.050770  "
      ]
     },
     "metadata": {},
     "output_type": "display_data"
    }
   ],
   "source": [
    "current_df = dfs[dfs['rank_desc'] == 1]\n",
    "current_df['current_tvl_share'] = current_df['totalLiquidityUSD'] / (current_df['totalLiquidityUSD'].sum())\n",
    "current_df['prev_tvl_share'] = current_df['t90d_totalLiquidityUSD'] / (current_df['t90d_totalLiquidityUSD'].sum())\n",
    "display(current_df)\n",
    "current_df.to_csv('tvl_comps.csv')"
   ]
  }
 ],
 "metadata": {
  "kernelspec": {
   "display_name": "Python 3.9.13 ('base')",
   "language": "python",
   "name": "python3"
  },
  "language_info": {
   "codemirror_mode": {
    "name": "ipython",
    "version": 3
   },
   "file_extension": ".py",
   "mimetype": "text/x-python",
   "name": "python",
   "nbconvert_exporter": "python",
   "pygments_lexer": "ipython3",
   "version": "3.9.13"
  },
  "orig_nbformat": 4,
  "vscode": {
   "interpreter": {
    "hash": "17c021eea7371cec353b12daa8dd7517ddfe82cfa4c2626e1e7d1541ccab7c49"
   }
  }
 },
 "nbformat": 4,
 "nbformat_minor": 2
}
