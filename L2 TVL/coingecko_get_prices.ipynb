{
 "cells": [
  {
   "cell_type": "code",
   "execution_count": null,
   "metadata": {},
   "outputs": [],
   "source": [
    "# ! jupyter nbconvert --to python coingecko_get_prices.ipynb"
   ]
  },
  {
   "cell_type": "code",
   "execution_count": null,
   "metadata": {},
   "outputs": [],
   "source": [
    "\n",
    "import pandas as pd\n",
    "import coingecko_utils as cg\n",
    "import numpy as np\n",
    "import plotly.express as px\n",
    "\n",
    "rolling_periods = [30,90,180,365]"
   ]
  },
  {
   "cell_type": "code",
   "execution_count": null,
   "metadata": {},
   "outputs": [],
   "source": [
    "op_price = cg.get_daily_token_data('optimism')[['date','prices','total_volumes','symbol']]\n",
    "# op_price = op_price.fillna(0)\n",
    "prices_cols = []\n",
    "# display(op_price)\n",
    "# print( op_price.dtypes )\n",
    "for i in rolling_periods:\n",
    "    pcol = 'prices_'+str(i)+'dma'\n",
    "    vwapcol = 'prices_'+str(i)+'d_vwap'\n",
    "    op_price[pcol] = op_price[['date','symbol','prices']]\\\n",
    "                                    .groupby(['symbol'])['prices']\\\n",
    "                                    .transform(lambda x: x.rolling(i, min_periods=1).mean() )\n",
    "    \n",
    "    vol_rolling_sum = op_price['total_volumes'].rolling(i, min_periods=1).sum()\n",
    "\n",
    "    op_price[vwapcol] = (op_price['prices'] * op_price['total_volumes']).rolling(i, min_periods=1).sum() / vol_rolling_sum\n",
    "    \n",
    "    prices_cols.append(pcol)\n",
    "    prices_cols.append(vwapcol)\n",
    "\n",
    "op_price = op_price.sort_values(by='date',ascending=False)\n",
    "op_price.to_csv('csv_outputs/op_market_price_avgs.csv')\n",
    "# display(op_price)\n",
    "print(op_price)"
   ]
  },
  {
   "cell_type": "code",
   "execution_count": null,
   "metadata": {},
   "outputs": [],
   "source": [
    "fig = px.line(op_price, x=\"date\", y=prices_cols, title='OP Price - Moving Averages (Source: Coingecko)')\n",
    "fig.show()"
   ]
  }
 ],
 "metadata": {
  "kernelspec": {
   "display_name": "Python 3",
   "language": "python",
   "name": "python3"
  },
  "language_info": {
   "codemirror_mode": {
    "name": "ipython",
    "version": 3
   },
   "file_extension": ".py",
   "mimetype": "text/x-python",
   "name": "python",
   "nbconvert_exporter": "python",
   "pygments_lexer": "ipython3",
   "version": "3.10.9"
  },
  "orig_nbformat": 4,
  "vscode": {
   "interpreter": {
    "hash": "b0fa6594d8f4cbf19f97940f81e996739fb7646882a419484c72d19e05852a7e"
   }
  }
 },
 "nbformat": 4,
 "nbformat_minor": 2
}
