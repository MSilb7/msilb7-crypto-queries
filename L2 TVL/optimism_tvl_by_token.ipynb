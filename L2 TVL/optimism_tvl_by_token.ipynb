{
 "cells": [
  {
   "cell_type": "code",
   "execution_count": null,
   "metadata": {},
   "outputs": [],
   "source": [
    "import pandas as pd\n",
    "import defillama_utils as dfl\n",
    "import requests as r\n",
    "import plotly.express as px\n",
    "\n",
    "chain = 'Optimism'\n",
    "tokens = ['USDC','USDT','DAI','SUSD','LUSD','FRAX']\n",
    "tokens_str = ', '.join(tokens)\n",
    "print(tokens_str)"
   ]
  },
  {
   "cell_type": "code",
   "execution_count": null,
   "metadata": {},
   "outputs": [],
   "source": [
    "# protos = 'https://api.llama.fi/protocols'\n",
    "# s = r.Session()\n",
    "# #get all protocols\n",
    "# resp = pd.DataFrame( s.get(protos).json() )[['category','slug','chainTvls']]\n",
    "# display(resp)\n",
    "# # extract the chain names\n",
    "# # resp['chainTvls'] = resp['chainTvls'].apply(lambda x: list(x.keys()) )\n",
    "# # # set a true/false if the array contains the chain we want\n",
    "# # resp['contains_chain'] = resp['chainTvls'].apply(lambda x: chain_name in x)\n",
    "# # # filter where we have a match\n",
    "# # proto_list = resp[['slug']][resp['contains_chain'] == True]\n",
    "# # # clean up\n",
    "# # proto_list = proto_list.reset_index(drop=True)\n",
    "# # # boom\n"
   ]
  },
  {
   "cell_type": "code",
   "execution_count": null,
   "metadata": {},
   "outputs": [],
   "source": [
    "slugs = dfl.get_protocols_by_chain(chain, exclude_cex = True, exclude_chain = True)\n",
    "display(slugs)\n",
    "pds_raw = dfl.get_range(slugs, chain)\n"
   ]
  },
  {
   "cell_type": "code",
   "execution_count": null,
   "metadata": {},
   "outputs": [],
   "source": [
    "pds = pds_raw.copy()\n",
    "pds = pds[pds['token'].isin(tokens)]\n",
    "pds['total_token_tvl'] = pds.groupby(['protocol', 'chain','date'])['usd_value'].\\\n",
    "                                transform('sum').astype(int)\n",
    "\n",
    "pds['day_rank'] = pds.groupby(['protocol', 'chain'])['date'].\\\n",
    "                            rank(method='dense',ascending=False).astype(int)\n",
    "pds['usd_value_millions'] = (pds['usd_value'] / 1e6)\n",
    "display(pds)"
   ]
  },
  {
   "cell_type": "code",
   "execution_count": null,
   "metadata": {},
   "outputs": [],
   "source": [
    "pds_latest = pds[pds['day_rank'] == 1]\n",
    "pds_latest = pds_latest.sort_values(by = 'total_token_tvl', ascending=False)\n",
    "display(pds_latest)"
   ]
  },
  {
   "cell_type": "code",
   "execution_count": null,
   "metadata": {},
   "outputs": [],
   "source": [
    "stable_sum = pds_latest[['protocol','usd_value','usd_value_millions']].groupby(['protocol']).sum()\n",
    "stable_sum = stable_sum.reset_index()\n",
    "display(stable_sum)"
   ]
  },
  {
   "cell_type": "code",
   "execution_count": null,
   "metadata": {},
   "outputs": [],
   "source": [
    "# stable_sum['usd_value_millions'] = stable_sum['usd_value_millions'].map(\"${:,.2f}M\".format)\n",
    "chart_pds_latest = pds_latest[pds_latest['total_token_tvl']>1e6]\n",
    "fig = px.bar(chart_pds_latest, x=\"protocol\", y=\"usd_value\", color=\"token\", title=\"Protocol TVL by Stablecoin - > $1M in Selected Tokens\\\n",
    "        <br><sup>Note: if the bar is 100% USDT, that means DefiLlama doesn't have splits by token</sup>\")\n",
    "fig.update_layout(barmode='stack', xaxis={'categoryorder': 'total descending'})\n",
    "fig.show()\n",
    "\n",
    "fig_pie = px.pie(stable_sum, values='usd_value_millions', names='protocol', title='Share of Stablecoins by Protocol | '+tokens_str)\n",
    "fig_pie.update_traces(textposition='inside', \n",
    "                        text = stable_sum['usd_value_millions'].map(\"${:,.2f}M\".format),\n",
    "                        textinfo='percent+label+text')\n",
    "fig_pie.show()"
   ]
  }
 ],
 "metadata": {
  "kernelspec": {
   "display_name": "new-env",
   "language": "python",
   "name": "python3"
  },
  "language_info": {
   "codemirror_mode": {
    "name": "ipython",
    "version": 3
   },
   "file_extension": ".py",
   "mimetype": "text/x-python",
   "name": "python",
   "nbconvert_exporter": "python",
   "pygments_lexer": "ipython3",
   "version": "3.10.8"
  },
  "orig_nbformat": 4,
  "vscode": {
   "interpreter": {
    "hash": "7d537a1638226190f579d6fbb68604c1b09ebc740a69df557abedb49ad78e592"
   }
  }
 },
 "nbformat": 4,
 "nbformat_minor": 2
}
