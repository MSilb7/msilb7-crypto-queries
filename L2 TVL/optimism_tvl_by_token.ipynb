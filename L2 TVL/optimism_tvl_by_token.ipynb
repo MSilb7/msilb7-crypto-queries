{
 "cells": [
  {
   "cell_type": "code",
   "execution_count": 8,
   "metadata": {},
   "outputs": [
    {
     "name": "stdout",
     "output_type": "stream",
     "text": [
      "USDC, USDT, DAI, SUSD, LUSD, FRAX\n"
     ]
    }
   ],
   "source": [
    "import pandas as pd\n",
    "import defillama_utils as dfl\n",
    "import requests as r\n",
    "import plotly.express as px\n",
    "\n",
    "chain = 'Optimism'\n",
    "tokens = ['USDC','USDT','DAI','SUSD','LUSD','FRAX']\n",
    "tokens_str = ', '.join(tokens)\n",
    "print(tokens_str)"
   ]
  },
  {
   "cell_type": "code",
   "execution_count": 9,
   "metadata": {},
   "outputs": [],
   "source": [
    "# protos = 'https://api.llama.fi/protocols'\n",
    "# s = r.Session()\n",
    "# #get all protocols\n",
    "# resp = pd.DataFrame( s.get(protos).json() )[['category','slug','chainTvls']]\n",
    "# display(resp)\n",
    "# # extract the chain names\n",
    "# # resp['chainTvls'] = resp['chainTvls'].apply(lambda x: list(x.keys()) )\n",
    "# # # set a true/false if the array contains the chain we want\n",
    "# # resp['contains_chain'] = resp['chainTvls'].apply(lambda x: chain_name in x)\n",
    "# # # filter where we have a match\n",
    "# # proto_list = resp[['slug']][resp['contains_chain'] == True]\n",
    "# # # clean up\n",
    "# # proto_list = proto_list.reset_index(drop=True)\n",
    "# # # boom\n"
   ]
  },
  {
   "cell_type": "code",
   "execution_count": 10,
   "metadata": {},
   "outputs": [
    {
     "data": {
      "text/html": [
       "<div>\n",
       "<style scoped>\n",
       "    .dataframe tbody tr th:only-of-type {\n",
       "        vertical-align: middle;\n",
       "    }\n",
       "\n",
       "    .dataframe tbody tr th {\n",
       "        vertical-align: top;\n",
       "    }\n",
       "\n",
       "    .dataframe thead th {\n",
       "        text-align: right;\n",
       "    }\n",
       "</style>\n",
       "<table border=\"1\" class=\"dataframe\">\n",
       "  <thead>\n",
       "    <tr style=\"text-align: right;\">\n",
       "      <th></th>\n",
       "      <th>slug</th>\n",
       "    </tr>\n",
       "  </thead>\n",
       "  <tbody>\n",
       "    <tr>\n",
       "      <th>0</th>\n",
       "      <td>curve</td>\n",
       "    </tr>\n",
       "    <tr>\n",
       "      <th>1</th>\n",
       "      <td>uniswap-v3</td>\n",
       "    </tr>\n",
       "    <tr>\n",
       "      <th>2</th>\n",
       "      <td>multichain</td>\n",
       "    </tr>\n",
       "    <tr>\n",
       "      <th>3</th>\n",
       "      <td>aave-v3</td>\n",
       "    </tr>\n",
       "    <tr>\n",
       "      <th>4</th>\n",
       "      <td>arrakis-finance</td>\n",
       "    </tr>\n",
       "    <tr>\n",
       "      <th>...</th>\n",
       "      <td>...</td>\n",
       "    </tr>\n",
       "    <tr>\n",
       "      <th>88</th>\n",
       "      <td>optinyan</td>\n",
       "    </tr>\n",
       "    <tr>\n",
       "      <th>89</th>\n",
       "      <td>pegasus-finance</td>\n",
       "    </tr>\n",
       "    <tr>\n",
       "      <th>90</th>\n",
       "      <td>juggler-red</td>\n",
       "    </tr>\n",
       "    <tr>\n",
       "      <th>91</th>\n",
       "      <td>bitant</td>\n",
       "    </tr>\n",
       "    <tr>\n",
       "      <th>92</th>\n",
       "      <td>optidoge</td>\n",
       "    </tr>\n",
       "  </tbody>\n",
       "</table>\n",
       "<p>93 rows × 1 columns</p>\n",
       "</div>"
      ],
      "text/plain": [
       "               slug\n",
       "0             curve\n",
       "1        uniswap-v3\n",
       "2        multichain\n",
       "3           aave-v3\n",
       "4   arrakis-finance\n",
       "..              ...\n",
       "88         optinyan\n",
       "89  pegasus-finance\n",
       "90      juggler-red\n",
       "91           bitant\n",
       "92         optidoge\n",
       "\n",
       "[93 rows x 1 columns]"
      ]
     },
     "metadata": {},
     "output_type": "display_data"
    }
   ],
   "source": [
    "slugs = dfl.get_protocols_by_chain(chain, exclude_cex = True, exclude_chain = True)\n",
    "display(slugs)\n",
    "pds_raw = dfl.get_range(slugs, chain)\n"
   ]
  },
  {
   "cell_type": "code",
   "execution_count": 11,
   "metadata": {},
   "outputs": [
    {
     "data": {
      "text/html": [
       "<div>\n",
       "<style scoped>\n",
       "    .dataframe tbody tr th:only-of-type {\n",
       "        vertical-align: middle;\n",
       "    }\n",
       "\n",
       "    .dataframe tbody tr th {\n",
       "        vertical-align: top;\n",
       "    }\n",
       "\n",
       "    .dataframe thead th {\n",
       "        text-align: right;\n",
       "    }\n",
       "</style>\n",
       "<table border=\"1\" class=\"dataframe\">\n",
       "  <thead>\n",
       "    <tr style=\"text-align: right;\">\n",
       "      <th></th>\n",
       "      <th>date</th>\n",
       "      <th>token</th>\n",
       "      <th>token_value</th>\n",
       "      <th>usd_value</th>\n",
       "      <th>total_app_tvl</th>\n",
       "      <th>protocol</th>\n",
       "      <th>chain</th>\n",
       "      <th>category</th>\n",
       "      <th>total_token_tvl</th>\n",
       "      <th>day_rank</th>\n",
       "      <th>usd_value_millions</th>\n",
       "    </tr>\n",
       "  </thead>\n",
       "  <tbody>\n",
       "    <tr>\n",
       "      <th>1</th>\n",
       "      <td>2022-07-17 00:00:00</td>\n",
       "      <td>FRAX</td>\n",
       "      <td>5.727694e+02</td>\n",
       "      <td>5.730323e+02</td>\n",
       "      <td>1.108283e+07</td>\n",
       "      <td>curve</td>\n",
       "      <td>Optimism</td>\n",
       "      <td>Dexes</td>\n",
       "      <td>11029294</td>\n",
       "      <td>160</td>\n",
       "      <td>5.730323e-04</td>\n",
       "    </tr>\n",
       "    <tr>\n",
       "      <th>2</th>\n",
       "      <td>2022-07-17 00:00:00</td>\n",
       "      <td>SUSD</td>\n",
       "      <td>2.415611e+06</td>\n",
       "      <td>2.434926e+06</td>\n",
       "      <td>1.108283e+07</td>\n",
       "      <td>curve</td>\n",
       "      <td>Optimism</td>\n",
       "      <td>Dexes</td>\n",
       "      <td>11029294</td>\n",
       "      <td>160</td>\n",
       "      <td>2.434926e+00</td>\n",
       "    </tr>\n",
       "    <tr>\n",
       "      <th>3</th>\n",
       "      <td>2022-07-17 00:00:00</td>\n",
       "      <td>LUSD</td>\n",
       "      <td>4.000000e-05</td>\n",
       "      <td>4.000000e-05</td>\n",
       "      <td>1.108283e+07</td>\n",
       "      <td>curve</td>\n",
       "      <td>Optimism</td>\n",
       "      <td>Dexes</td>\n",
       "      <td>11029294</td>\n",
       "      <td>160</td>\n",
       "      <td>4.000000e-11</td>\n",
       "    </tr>\n",
       "    <tr>\n",
       "      <th>4</th>\n",
       "      <td>2022-07-17 00:00:00</td>\n",
       "      <td>USDT</td>\n",
       "      <td>4.191069e+06</td>\n",
       "      <td>4.191538e+06</td>\n",
       "      <td>1.108283e+07</td>\n",
       "      <td>curve</td>\n",
       "      <td>Optimism</td>\n",
       "      <td>Dexes</td>\n",
       "      <td>11029294</td>\n",
       "      <td>160</td>\n",
       "      <td>4.191538e+00</td>\n",
       "    </tr>\n",
       "    <tr>\n",
       "      <th>5</th>\n",
       "      <td>2022-07-17 00:00:00</td>\n",
       "      <td>USDC</td>\n",
       "      <td>2.258077e+06</td>\n",
       "      <td>2.258332e+06</td>\n",
       "      <td>1.108283e+07</td>\n",
       "      <td>curve</td>\n",
       "      <td>Optimism</td>\n",
       "      <td>Dexes</td>\n",
       "      <td>11029294</td>\n",
       "      <td>160</td>\n",
       "      <td>2.258332e+00</td>\n",
       "    </tr>\n",
       "    <tr>\n",
       "      <th>...</th>\n",
       "      <td>...</td>\n",
       "      <td>...</td>\n",
       "      <td>...</td>\n",
       "      <td>...</td>\n",
       "      <td>...</td>\n",
       "      <td>...</td>\n",
       "      <td>...</td>\n",
       "      <td>...</td>\n",
       "      <td>...</td>\n",
       "      <td>...</td>\n",
       "      <td>...</td>\n",
       "    </tr>\n",
       "    <tr>\n",
       "      <th>814</th>\n",
       "      <td>2022-12-22 00:00:00</td>\n",
       "      <td>DAI</td>\n",
       "      <td>6.731930e+00</td>\n",
       "      <td>6.745400e+00</td>\n",
       "      <td>4.082945e+03</td>\n",
       "      <td>symphony-finance</td>\n",
       "      <td>Optimism</td>\n",
       "      <td>Dexes</td>\n",
       "      <td>3119</td>\n",
       "      <td>2</td>\n",
       "      <td>6.745400e-06</td>\n",
       "    </tr>\n",
       "    <tr>\n",
       "      <th>818</th>\n",
       "      <td>2022-12-22 15:59:47</td>\n",
       "      <td>SUSD</td>\n",
       "      <td>2.622760e+02</td>\n",
       "      <td>2.622760e+02</td>\n",
       "      <td>4.056701e+03</td>\n",
       "      <td>symphony-finance</td>\n",
       "      <td>Optimism</td>\n",
       "      <td>Dexes</td>\n",
       "      <td>3116</td>\n",
       "      <td>1</td>\n",
       "      <td>2.622760e-04</td>\n",
       "    </tr>\n",
       "    <tr>\n",
       "      <th>819</th>\n",
       "      <td>2022-12-22 15:59:47</td>\n",
       "      <td>USDT</td>\n",
       "      <td>1.528769e+03</td>\n",
       "      <td>1.528769e+03</td>\n",
       "      <td>4.056701e+03</td>\n",
       "      <td>symphony-finance</td>\n",
       "      <td>Optimism</td>\n",
       "      <td>Dexes</td>\n",
       "      <td>3116</td>\n",
       "      <td>1</td>\n",
       "      <td>1.528769e-03</td>\n",
       "    </tr>\n",
       "    <tr>\n",
       "      <th>821</th>\n",
       "      <td>2022-12-22 15:59:47</td>\n",
       "      <td>USDC</td>\n",
       "      <td>1.317280e+03</td>\n",
       "      <td>1.318597e+03</td>\n",
       "      <td>4.056701e+03</td>\n",
       "      <td>symphony-finance</td>\n",
       "      <td>Optimism</td>\n",
       "      <td>Dexes</td>\n",
       "      <td>3116</td>\n",
       "      <td>1</td>\n",
       "      <td>1.318597e-03</td>\n",
       "    </tr>\n",
       "    <tr>\n",
       "      <th>822</th>\n",
       "      <td>2022-12-22 15:59:47</td>\n",
       "      <td>DAI</td>\n",
       "      <td>6.731950e+00</td>\n",
       "      <td>6.726720e+00</td>\n",
       "      <td>4.056701e+03</td>\n",
       "      <td>symphony-finance</td>\n",
       "      <td>Optimism</td>\n",
       "      <td>Dexes</td>\n",
       "      <td>3116</td>\n",
       "      <td>1</td>\n",
       "      <td>6.726720e-06</td>\n",
       "    </tr>\n",
       "  </tbody>\n",
       "</table>\n",
       "<p>40979 rows × 11 columns</p>\n",
       "</div>"
      ],
      "text/plain": [
       "                   date token   token_value     usd_value  total_app_tvl  \\\n",
       "1   2022-07-17 00:00:00  FRAX  5.727694e+02  5.730323e+02   1.108283e+07   \n",
       "2   2022-07-17 00:00:00  SUSD  2.415611e+06  2.434926e+06   1.108283e+07   \n",
       "3   2022-07-17 00:00:00  LUSD  4.000000e-05  4.000000e-05   1.108283e+07   \n",
       "4   2022-07-17 00:00:00  USDT  4.191069e+06  4.191538e+06   1.108283e+07   \n",
       "5   2022-07-17 00:00:00  USDC  2.258077e+06  2.258332e+06   1.108283e+07   \n",
       "..                  ...   ...           ...           ...            ...   \n",
       "814 2022-12-22 00:00:00   DAI  6.731930e+00  6.745400e+00   4.082945e+03   \n",
       "818 2022-12-22 15:59:47  SUSD  2.622760e+02  2.622760e+02   4.056701e+03   \n",
       "819 2022-12-22 15:59:47  USDT  1.528769e+03  1.528769e+03   4.056701e+03   \n",
       "821 2022-12-22 15:59:47  USDC  1.317280e+03  1.318597e+03   4.056701e+03   \n",
       "822 2022-12-22 15:59:47   DAI  6.731950e+00  6.726720e+00   4.056701e+03   \n",
       "\n",
       "             protocol     chain category  total_token_tvl  day_rank  \\\n",
       "1               curve  Optimism    Dexes         11029294       160   \n",
       "2               curve  Optimism    Dexes         11029294       160   \n",
       "3               curve  Optimism    Dexes         11029294       160   \n",
       "4               curve  Optimism    Dexes         11029294       160   \n",
       "5               curve  Optimism    Dexes         11029294       160   \n",
       "..                ...       ...      ...              ...       ...   \n",
       "814  symphony-finance  Optimism    Dexes             3119         2   \n",
       "818  symphony-finance  Optimism    Dexes             3116         1   \n",
       "819  symphony-finance  Optimism    Dexes             3116         1   \n",
       "821  symphony-finance  Optimism    Dexes             3116         1   \n",
       "822  symphony-finance  Optimism    Dexes             3116         1   \n",
       "\n",
       "     usd_value_millions  \n",
       "1          5.730323e-04  \n",
       "2          2.434926e+00  \n",
       "3          4.000000e-11  \n",
       "4          4.191538e+00  \n",
       "5          2.258332e+00  \n",
       "..                  ...  \n",
       "814        6.745400e-06  \n",
       "818        2.622760e-04  \n",
       "819        1.528769e-03  \n",
       "821        1.318597e-03  \n",
       "822        6.726720e-06  \n",
       "\n",
       "[40979 rows x 11 columns]"
      ]
     },
     "metadata": {},
     "output_type": "display_data"
    }
   ],
   "source": [
    "pds = pds_raw.copy()\n",
    "pds = pds[pds['token'].isin(tokens)]\n",
    "pds['total_token_tvl'] = pds.groupby(['protocol', 'chain','date'])['usd_value'].\\\n",
    "                                transform('sum').astype(int)\n",
    "\n",
    "pds['day_rank'] = pds.groupby(['protocol', 'chain'])['date'].\\\n",
    "                            rank(method='dense',ascending=False).astype(int)\n",
    "pds['usd_value_millions'] = (pds['usd_value'] / 1e6)\n",
    "display(pds)"
   ]
  },
  {
   "cell_type": "code",
   "execution_count": 17,
   "metadata": {},
   "outputs": [
    {
     "data": {
      "text/html": [
       "<div>\n",
       "<style scoped>\n",
       "    .dataframe tbody tr th:only-of-type {\n",
       "        vertical-align: middle;\n",
       "    }\n",
       "\n",
       "    .dataframe tbody tr th {\n",
       "        vertical-align: top;\n",
       "    }\n",
       "\n",
       "    .dataframe thead th {\n",
       "        text-align: right;\n",
       "    }\n",
       "</style>\n",
       "<table border=\"1\" class=\"dataframe\">\n",
       "  <thead>\n",
       "    <tr style=\"text-align: right;\">\n",
       "      <th></th>\n",
       "      <th>date</th>\n",
       "      <th>token</th>\n",
       "      <th>token_value</th>\n",
       "      <th>usd_value</th>\n",
       "      <th>total_app_tvl</th>\n",
       "      <th>protocol</th>\n",
       "      <th>chain</th>\n",
       "      <th>category</th>\n",
       "      <th>total_token_tvl</th>\n",
       "      <th>day_rank</th>\n",
       "      <th>usd_value_millions</th>\n",
       "    </tr>\n",
       "  </thead>\n",
       "  <tbody>\n",
       "  </tbody>\n",
       "</table>\n",
       "</div>"
      ],
      "text/plain": [
       "Empty DataFrame\n",
       "Columns: [date, token, token_value, usd_value, total_app_tvl, protocol, chain, category, total_token_tvl, day_rank, usd_value_millions]\n",
       "Index: []"
      ]
     },
     "metadata": {},
     "output_type": "display_data"
    }
   ],
   "source": [
    "pds_latest = pds[pds['day_rank'] == 1]\n",
    "#exclude if all usdt\n",
    "pds_latest = pds_latest[~ ( (pds_latest['token'] == 'USDT') & (pds_latest['usd_value'] == pds_latest['total_app_tvl']) )]\n",
    "\n",
    "pds_latest = pds_latest.sort_values(by = 'total_token_tvl', ascending=False)\n",
    "display(pds_latest)"
   ]
  },
  {
   "cell_type": "code",
   "execution_count": 13,
   "metadata": {},
   "outputs": [
    {
     "data": {
      "text/html": [
       "<div>\n",
       "<style scoped>\n",
       "    .dataframe tbody tr th:only-of-type {\n",
       "        vertical-align: middle;\n",
       "    }\n",
       "\n",
       "    .dataframe tbody tr th {\n",
       "        vertical-align: top;\n",
       "    }\n",
       "\n",
       "    .dataframe thead th {\n",
       "        text-align: right;\n",
       "    }\n",
       "</style>\n",
       "<table border=\"1\" class=\"dataframe\">\n",
       "  <thead>\n",
       "    <tr style=\"text-align: right;\">\n",
       "      <th></th>\n",
       "      <th>protocol</th>\n",
       "      <th>usd_value</th>\n",
       "      <th>usd_value_millions</th>\n",
       "    </tr>\n",
       "  </thead>\n",
       "  <tbody>\n",
       "    <tr>\n",
       "      <th>0</th>\n",
       "      <td>2pi-network</td>\n",
       "      <td>7.650480e+05</td>\n",
       "      <td>0.765048</td>\n",
       "    </tr>\n",
       "    <tr>\n",
       "      <th>1</th>\n",
       "      <td>aave-v3</td>\n",
       "      <td>6.858992e+07</td>\n",
       "      <td>68.589920</td>\n",
       "    </tr>\n",
       "    <tr>\n",
       "      <th>2</th>\n",
       "      <td>acryptos</td>\n",
       "      <td>4.651724e+05</td>\n",
       "      <td>0.465172</td>\n",
       "    </tr>\n",
       "    <tr>\n",
       "      <th>3</th>\n",
       "      <td>aelin</td>\n",
       "      <td>2.141183e+05</td>\n",
       "      <td>0.214118</td>\n",
       "    </tr>\n",
       "    <tr>\n",
       "      <th>4</th>\n",
       "      <td>alchemix</td>\n",
       "      <td>1.500948e+05</td>\n",
       "      <td>0.150095</td>\n",
       "    </tr>\n",
       "    <tr>\n",
       "      <th>...</th>\n",
       "      <td>...</td>\n",
       "      <td>...</td>\n",
       "      <td>...</td>\n",
       "    </tr>\n",
       "    <tr>\n",
       "      <th>72</th>\n",
       "      <td>woofi-earn</td>\n",
       "      <td>5.910168e+05</td>\n",
       "      <td>0.591017</td>\n",
       "    </tr>\n",
       "    <tr>\n",
       "      <th>73</th>\n",
       "      <td>xtoken</td>\n",
       "      <td>2.885590e+05</td>\n",
       "      <td>0.288559</td>\n",
       "    </tr>\n",
       "    <tr>\n",
       "      <th>74</th>\n",
       "      <td>xy-finance</td>\n",
       "      <td>1.510465e+05</td>\n",
       "      <td>0.151046</td>\n",
       "    </tr>\n",
       "    <tr>\n",
       "      <th>75</th>\n",
       "      <td>yearn-finance</td>\n",
       "      <td>1.271910e+05</td>\n",
       "      <td>0.127191</td>\n",
       "    </tr>\n",
       "    <tr>\n",
       "      <th>76</th>\n",
       "      <td>zipswap</td>\n",
       "      <td>3.221067e+01</td>\n",
       "      <td>0.000032</td>\n",
       "    </tr>\n",
       "  </tbody>\n",
       "</table>\n",
       "<p>77 rows × 3 columns</p>\n",
       "</div>"
      ],
      "text/plain": [
       "         protocol     usd_value  usd_value_millions\n",
       "0     2pi-network  7.650480e+05            0.765048\n",
       "1         aave-v3  6.858992e+07           68.589920\n",
       "2        acryptos  4.651724e+05            0.465172\n",
       "3           aelin  2.141183e+05            0.214118\n",
       "4        alchemix  1.500948e+05            0.150095\n",
       "..            ...           ...                 ...\n",
       "72     woofi-earn  5.910168e+05            0.591017\n",
       "73         xtoken  2.885590e+05            0.288559\n",
       "74     xy-finance  1.510465e+05            0.151046\n",
       "75  yearn-finance  1.271910e+05            0.127191\n",
       "76        zipswap  3.221067e+01            0.000032\n",
       "\n",
       "[77 rows x 3 columns]"
      ]
     },
     "metadata": {},
     "output_type": "display_data"
    }
   ],
   "source": [
    "stable_sum = pds_latest[['protocol','usd_value','usd_value_millions']].groupby(['protocol']).sum()\n",
    "stable_sum = stable_sum.reset_index()\n",
    "display(stable_sum)"
   ]
  },
  {
   "cell_type": "code",
   "execution_count": 14,
   "metadata": {},
   "outputs": [
    {
     "data": {
      "application/vnd.plotly.v1+json": {
       "config": {
        "plotlyServerURL": "https://plot.ly"
       },
       "data": [
        {
         "alignmentgroup": "True",
         "hovertemplate": "token=USDC<br>protocol=%{x}<br>usd_value=%{y}<extra></extra>",
         "legendgroup": "USDC",
         "marker": {
          "color": "#636efa",
          "pattern": {
           "shape": ""
          }
         },
         "name": "USDC",
         "offsetgroup": "USDC",
         "orientation": "v",
         "showlegend": true,
         "textposition": "auto",
         "type": "bar",
         "x": [
          "aave-v3",
          "velodrome",
          "pooltogether",
          "curve",
          "stargate",
          "perpetual-protocol",
          "uniswap-v3",
          "sonne-finance",
          "pika-protocol",
          "dforce",
          "hundred-finance",
          "usd+",
          "cbridge",
          "hop-protocol",
          "rubicon",
          "connext",
          "synapse",
          "kyberswap",
          "revert-compoundor",
          "homora-v2",
          "tarot"
         ],
         "xaxis": "x",
         "y": [
          58131595.88104,
          22804286.41394,
          35219525.82908,
          5506369.55462,
          13036746.84313,
          17073404.00654,
          6642655.05102,
          4055596.40445,
          8705387.42043,
          0,
          1782653.84916,
          5754005.15499,
          4076000.40571,
          3631457.76977,
          1406090.98747,
          2551815.87781,
          2346736.21179,
          1368015.99445,
          1243716.97139,
          899515.4368,
          1006784.00793
         ],
         "yaxis": "y"
        },
        {
         "alignmentgroup": "True",
         "hovertemplate": "token=DAI<br>protocol=%{x}<br>usd_value=%{y}<extra></extra>",
         "legendgroup": "DAI",
         "marker": {
          "color": "#EF553B",
          "pattern": {
           "shape": ""
          }
         },
         "name": "DAI",
         "offsetgroup": "DAI",
         "orientation": "v",
         "showlegend": true,
         "textposition": "auto",
         "type": "bar",
         "x": [
          "aave-v3",
          "velodrome",
          "curve",
          "stargate",
          "uniswap-v3",
          "sonne-finance",
          "dforce",
          "hundred-finance",
          "cbridge",
          "hop-protocol",
          "toros",
          "rubicon",
          "connext",
          "kyberswap",
          "revert-compoundor",
          "homora-v2",
          "tarot"
         ],
         "xaxis": "x",
         "y": [
          6140518.13784,
          1339621.93971,
          5011060.32039,
          1542783.95026,
          2666200.42869,
          3333824.58703,
          0,
          1143746.1154,
          986.12306,
          776991.63379,
          4795310.04091,
          1284956.17959,
          27827.65946,
          139332.58986,
          56709.65954,
          726449.52233,
          105.92643
         ],
         "yaxis": "y"
        },
        {
         "alignmentgroup": "True",
         "hovertemplate": "token=SUSD<br>protocol=%{x}<br>usd_value=%{y}<extra></extra>",
         "legendgroup": "SUSD",
         "marker": {
          "color": "#00cc96",
          "pattern": {
           "shape": ""
          }
         },
         "name": "SUSD",
         "offsetgroup": "SUSD",
         "orientation": "v",
         "showlegend": true,
         "textposition": "auto",
         "type": "bar",
         "x": [
          "aave-v3",
          "velodrome",
          "curve",
          "stargate",
          "uniswap-v3",
          "sonne-finance",
          "lyra",
          "hundred-finance",
          "hop-protocol",
          "kyberswap",
          "revert-compoundor",
          "tarot"
         ],
         "xaxis": "x",
         "y": [
          807918.36729,
          8388676.66351,
          12865638.75961,
          885132.58999,
          1142514.08071,
          760357.84166,
          10792010.62771,
          745572.21367,
          0,
          0,
          45376.90412,
          0.00282
         ],
         "yaxis": "y"
        },
        {
         "alignmentgroup": "True",
         "hovertemplate": "token=USDT<br>protocol=%{x}<br>usd_value=%{y}<extra></extra>",
         "legendgroup": "USDT",
         "marker": {
          "color": "#ab63fa",
          "pattern": {
           "shape": ""
          }
         },
         "name": "USDT",
         "offsetgroup": "USDT",
         "orientation": "v",
         "showlegend": true,
         "textposition": "auto",
         "type": "bar",
         "x": [
          "aave-v3",
          "beefy",
          "velodrome",
          "curve",
          "beethoven-x",
          "reaper-farm",
          "uniswap-v3",
          "sonne-finance",
          "dforce",
          "hundred-finance",
          "cbridge",
          "hop-protocol",
          "rubicon",
          "wepiggy",
          "connext",
          "kyberswap",
          "revert-compoundor",
          "pickle"
         ],
         "xaxis": "x",
         "y": [
          3509887.61042,
          38544077.46,
          610270.73754,
          5052913.3237,
          17379296.62223,
          15354026.98916,
          859164.5009,
          3410636.19361,
          8088069.47845,
          1986771.70635,
          835421.6649,
          494307.81393,
          1005469.37859,
          3204727.98187,
          20880.69184,
          286245.17508,
          325052.24933,
          1532880.854
         ],
         "yaxis": "y"
        },
        {
         "alignmentgroup": "True",
         "hovertemplate": "token=LUSD<br>protocol=%{x}<br>usd_value=%{y}<extra></extra>",
         "legendgroup": "LUSD",
         "marker": {
          "color": "#FFA15A",
          "pattern": {
           "shape": ""
          }
         },
         "name": "LUSD",
         "offsetgroup": "LUSD",
         "orientation": "v",
         "showlegend": true,
         "textposition": "auto",
         "type": "bar",
         "x": [
          "velodrome",
          "curve",
          "stargate",
          "uniswap-v3",
          "revert-compoundor"
         ],
         "xaxis": "x",
         "y": [
          2468756.30656,
          0.00004,
          1195271.44651,
          0,
          0
         ],
         "yaxis": "y"
        },
        {
         "alignmentgroup": "True",
         "hovertemplate": "token=FRAX<br>protocol=%{x}<br>usd_value=%{y}<extra></extra>",
         "legendgroup": "FRAX",
         "marker": {
          "color": "#19d3f3",
          "pattern": {
           "shape": ""
          }
         },
         "name": "FRAX",
         "offsetgroup": "FRAX",
         "orientation": "v",
         "showlegend": true,
         "textposition": "auto",
         "type": "bar",
         "x": [
          "velodrome",
          "curve",
          "stargate",
          "uniswap-v3",
          "hundred-finance",
          "cbridge",
          "revert-compoundor",
          "tarot"
         ],
         "xaxis": "x",
         "y": [
          543073.94549,
          587004.87447,
          697363.46835,
          655890.28583,
          871200.19985,
          0,
          4114.87374,
          1504.23338
         ],
         "yaxis": "y"
        }
       ],
       "layout": {
        "barmode": "stack",
        "legend": {
         "title": {
          "text": "token"
         },
         "tracegroupgap": 0
        },
        "template": {
         "data": {
          "bar": [
           {
            "error_x": {
             "color": "#2a3f5f"
            },
            "error_y": {
             "color": "#2a3f5f"
            },
            "marker": {
             "line": {
              "color": "#E5ECF6",
              "width": 0.5
             },
             "pattern": {
              "fillmode": "overlay",
              "size": 10,
              "solidity": 0.2
             }
            },
            "type": "bar"
           }
          ],
          "barpolar": [
           {
            "marker": {
             "line": {
              "color": "#E5ECF6",
              "width": 0.5
             },
             "pattern": {
              "fillmode": "overlay",
              "size": 10,
              "solidity": 0.2
             }
            },
            "type": "barpolar"
           }
          ],
          "carpet": [
           {
            "aaxis": {
             "endlinecolor": "#2a3f5f",
             "gridcolor": "white",
             "linecolor": "white",
             "minorgridcolor": "white",
             "startlinecolor": "#2a3f5f"
            },
            "baxis": {
             "endlinecolor": "#2a3f5f",
             "gridcolor": "white",
             "linecolor": "white",
             "minorgridcolor": "white",
             "startlinecolor": "#2a3f5f"
            },
            "type": "carpet"
           }
          ],
          "choropleth": [
           {
            "colorbar": {
             "outlinewidth": 0,
             "ticks": ""
            },
            "type": "choropleth"
           }
          ],
          "contour": [
           {
            "colorbar": {
             "outlinewidth": 0,
             "ticks": ""
            },
            "colorscale": [
             [
              0,
              "#0d0887"
             ],
             [
              0.1111111111111111,
              "#46039f"
             ],
             [
              0.2222222222222222,
              "#7201a8"
             ],
             [
              0.3333333333333333,
              "#9c179e"
             ],
             [
              0.4444444444444444,
              "#bd3786"
             ],
             [
              0.5555555555555556,
              "#d8576b"
             ],
             [
              0.6666666666666666,
              "#ed7953"
             ],
             [
              0.7777777777777778,
              "#fb9f3a"
             ],
             [
              0.8888888888888888,
              "#fdca26"
             ],
             [
              1,
              "#f0f921"
             ]
            ],
            "type": "contour"
           }
          ],
          "contourcarpet": [
           {
            "colorbar": {
             "outlinewidth": 0,
             "ticks": ""
            },
            "type": "contourcarpet"
           }
          ],
          "heatmap": [
           {
            "colorbar": {
             "outlinewidth": 0,
             "ticks": ""
            },
            "colorscale": [
             [
              0,
              "#0d0887"
             ],
             [
              0.1111111111111111,
              "#46039f"
             ],
             [
              0.2222222222222222,
              "#7201a8"
             ],
             [
              0.3333333333333333,
              "#9c179e"
             ],
             [
              0.4444444444444444,
              "#bd3786"
             ],
             [
              0.5555555555555556,
              "#d8576b"
             ],
             [
              0.6666666666666666,
              "#ed7953"
             ],
             [
              0.7777777777777778,
              "#fb9f3a"
             ],
             [
              0.8888888888888888,
              "#fdca26"
             ],
             [
              1,
              "#f0f921"
             ]
            ],
            "type": "heatmap"
           }
          ],
          "heatmapgl": [
           {
            "colorbar": {
             "outlinewidth": 0,
             "ticks": ""
            },
            "colorscale": [
             [
              0,
              "#0d0887"
             ],
             [
              0.1111111111111111,
              "#46039f"
             ],
             [
              0.2222222222222222,
              "#7201a8"
             ],
             [
              0.3333333333333333,
              "#9c179e"
             ],
             [
              0.4444444444444444,
              "#bd3786"
             ],
             [
              0.5555555555555556,
              "#d8576b"
             ],
             [
              0.6666666666666666,
              "#ed7953"
             ],
             [
              0.7777777777777778,
              "#fb9f3a"
             ],
             [
              0.8888888888888888,
              "#fdca26"
             ],
             [
              1,
              "#f0f921"
             ]
            ],
            "type": "heatmapgl"
           }
          ],
          "histogram": [
           {
            "marker": {
             "pattern": {
              "fillmode": "overlay",
              "size": 10,
              "solidity": 0.2
             }
            },
            "type": "histogram"
           }
          ],
          "histogram2d": [
           {
            "colorbar": {
             "outlinewidth": 0,
             "ticks": ""
            },
            "colorscale": [
             [
              0,
              "#0d0887"
             ],
             [
              0.1111111111111111,
              "#46039f"
             ],
             [
              0.2222222222222222,
              "#7201a8"
             ],
             [
              0.3333333333333333,
              "#9c179e"
             ],
             [
              0.4444444444444444,
              "#bd3786"
             ],
             [
              0.5555555555555556,
              "#d8576b"
             ],
             [
              0.6666666666666666,
              "#ed7953"
             ],
             [
              0.7777777777777778,
              "#fb9f3a"
             ],
             [
              0.8888888888888888,
              "#fdca26"
             ],
             [
              1,
              "#f0f921"
             ]
            ],
            "type": "histogram2d"
           }
          ],
          "histogram2dcontour": [
           {
            "colorbar": {
             "outlinewidth": 0,
             "ticks": ""
            },
            "colorscale": [
             [
              0,
              "#0d0887"
             ],
             [
              0.1111111111111111,
              "#46039f"
             ],
             [
              0.2222222222222222,
              "#7201a8"
             ],
             [
              0.3333333333333333,
              "#9c179e"
             ],
             [
              0.4444444444444444,
              "#bd3786"
             ],
             [
              0.5555555555555556,
              "#d8576b"
             ],
             [
              0.6666666666666666,
              "#ed7953"
             ],
             [
              0.7777777777777778,
              "#fb9f3a"
             ],
             [
              0.8888888888888888,
              "#fdca26"
             ],
             [
              1,
              "#f0f921"
             ]
            ],
            "type": "histogram2dcontour"
           }
          ],
          "mesh3d": [
           {
            "colorbar": {
             "outlinewidth": 0,
             "ticks": ""
            },
            "type": "mesh3d"
           }
          ],
          "parcoords": [
           {
            "line": {
             "colorbar": {
              "outlinewidth": 0,
              "ticks": ""
             }
            },
            "type": "parcoords"
           }
          ],
          "pie": [
           {
            "automargin": true,
            "type": "pie"
           }
          ],
          "scatter": [
           {
            "fillpattern": {
             "fillmode": "overlay",
             "size": 10,
             "solidity": 0.2
            },
            "type": "scatter"
           }
          ],
          "scatter3d": [
           {
            "line": {
             "colorbar": {
              "outlinewidth": 0,
              "ticks": ""
             }
            },
            "marker": {
             "colorbar": {
              "outlinewidth": 0,
              "ticks": ""
             }
            },
            "type": "scatter3d"
           }
          ],
          "scattercarpet": [
           {
            "marker": {
             "colorbar": {
              "outlinewidth": 0,
              "ticks": ""
             }
            },
            "type": "scattercarpet"
           }
          ],
          "scattergeo": [
           {
            "marker": {
             "colorbar": {
              "outlinewidth": 0,
              "ticks": ""
             }
            },
            "type": "scattergeo"
           }
          ],
          "scattergl": [
           {
            "marker": {
             "colorbar": {
              "outlinewidth": 0,
              "ticks": ""
             }
            },
            "type": "scattergl"
           }
          ],
          "scattermapbox": [
           {
            "marker": {
             "colorbar": {
              "outlinewidth": 0,
              "ticks": ""
             }
            },
            "type": "scattermapbox"
           }
          ],
          "scatterpolar": [
           {
            "marker": {
             "colorbar": {
              "outlinewidth": 0,
              "ticks": ""
             }
            },
            "type": "scatterpolar"
           }
          ],
          "scatterpolargl": [
           {
            "marker": {
             "colorbar": {
              "outlinewidth": 0,
              "ticks": ""
             }
            },
            "type": "scatterpolargl"
           }
          ],
          "scatterternary": [
           {
            "marker": {
             "colorbar": {
              "outlinewidth": 0,
              "ticks": ""
             }
            },
            "type": "scatterternary"
           }
          ],
          "surface": [
           {
            "colorbar": {
             "outlinewidth": 0,
             "ticks": ""
            },
            "colorscale": [
             [
              0,
              "#0d0887"
             ],
             [
              0.1111111111111111,
              "#46039f"
             ],
             [
              0.2222222222222222,
              "#7201a8"
             ],
             [
              0.3333333333333333,
              "#9c179e"
             ],
             [
              0.4444444444444444,
              "#bd3786"
             ],
             [
              0.5555555555555556,
              "#d8576b"
             ],
             [
              0.6666666666666666,
              "#ed7953"
             ],
             [
              0.7777777777777778,
              "#fb9f3a"
             ],
             [
              0.8888888888888888,
              "#fdca26"
             ],
             [
              1,
              "#f0f921"
             ]
            ],
            "type": "surface"
           }
          ],
          "table": [
           {
            "cells": {
             "fill": {
              "color": "#EBF0F8"
             },
             "line": {
              "color": "white"
             }
            },
            "header": {
             "fill": {
              "color": "#C8D4E3"
             },
             "line": {
              "color": "white"
             }
            },
            "type": "table"
           }
          ]
         },
         "layout": {
          "annotationdefaults": {
           "arrowcolor": "#2a3f5f",
           "arrowhead": 0,
           "arrowwidth": 1
          },
          "autotypenumbers": "strict",
          "coloraxis": {
           "colorbar": {
            "outlinewidth": 0,
            "ticks": ""
           }
          },
          "colorscale": {
           "diverging": [
            [
             0,
             "#8e0152"
            ],
            [
             0.1,
             "#c51b7d"
            ],
            [
             0.2,
             "#de77ae"
            ],
            [
             0.3,
             "#f1b6da"
            ],
            [
             0.4,
             "#fde0ef"
            ],
            [
             0.5,
             "#f7f7f7"
            ],
            [
             0.6,
             "#e6f5d0"
            ],
            [
             0.7,
             "#b8e186"
            ],
            [
             0.8,
             "#7fbc41"
            ],
            [
             0.9,
             "#4d9221"
            ],
            [
             1,
             "#276419"
            ]
           ],
           "sequential": [
            [
             0,
             "#0d0887"
            ],
            [
             0.1111111111111111,
             "#46039f"
            ],
            [
             0.2222222222222222,
             "#7201a8"
            ],
            [
             0.3333333333333333,
             "#9c179e"
            ],
            [
             0.4444444444444444,
             "#bd3786"
            ],
            [
             0.5555555555555556,
             "#d8576b"
            ],
            [
             0.6666666666666666,
             "#ed7953"
            ],
            [
             0.7777777777777778,
             "#fb9f3a"
            ],
            [
             0.8888888888888888,
             "#fdca26"
            ],
            [
             1,
             "#f0f921"
            ]
           ],
           "sequentialminus": [
            [
             0,
             "#0d0887"
            ],
            [
             0.1111111111111111,
             "#46039f"
            ],
            [
             0.2222222222222222,
             "#7201a8"
            ],
            [
             0.3333333333333333,
             "#9c179e"
            ],
            [
             0.4444444444444444,
             "#bd3786"
            ],
            [
             0.5555555555555556,
             "#d8576b"
            ],
            [
             0.6666666666666666,
             "#ed7953"
            ],
            [
             0.7777777777777778,
             "#fb9f3a"
            ],
            [
             0.8888888888888888,
             "#fdca26"
            ],
            [
             1,
             "#f0f921"
            ]
           ]
          },
          "colorway": [
           "#636efa",
           "#EF553B",
           "#00cc96",
           "#ab63fa",
           "#FFA15A",
           "#19d3f3",
           "#FF6692",
           "#B6E880",
           "#FF97FF",
           "#FECB52"
          ],
          "font": {
           "color": "#2a3f5f"
          },
          "geo": {
           "bgcolor": "white",
           "lakecolor": "white",
           "landcolor": "#E5ECF6",
           "showlakes": true,
           "showland": true,
           "subunitcolor": "white"
          },
          "hoverlabel": {
           "align": "left"
          },
          "hovermode": "closest",
          "mapbox": {
           "style": "light"
          },
          "paper_bgcolor": "white",
          "plot_bgcolor": "#E5ECF6",
          "polar": {
           "angularaxis": {
            "gridcolor": "white",
            "linecolor": "white",
            "ticks": ""
           },
           "bgcolor": "#E5ECF6",
           "radialaxis": {
            "gridcolor": "white",
            "linecolor": "white",
            "ticks": ""
           }
          },
          "scene": {
           "xaxis": {
            "backgroundcolor": "#E5ECF6",
            "gridcolor": "white",
            "gridwidth": 2,
            "linecolor": "white",
            "showbackground": true,
            "ticks": "",
            "zerolinecolor": "white"
           },
           "yaxis": {
            "backgroundcolor": "#E5ECF6",
            "gridcolor": "white",
            "gridwidth": 2,
            "linecolor": "white",
            "showbackground": true,
            "ticks": "",
            "zerolinecolor": "white"
           },
           "zaxis": {
            "backgroundcolor": "#E5ECF6",
            "gridcolor": "white",
            "gridwidth": 2,
            "linecolor": "white",
            "showbackground": true,
            "ticks": "",
            "zerolinecolor": "white"
           }
          },
          "shapedefaults": {
           "line": {
            "color": "#2a3f5f"
           }
          },
          "ternary": {
           "aaxis": {
            "gridcolor": "white",
            "linecolor": "white",
            "ticks": ""
           },
           "baxis": {
            "gridcolor": "white",
            "linecolor": "white",
            "ticks": ""
           },
           "bgcolor": "#E5ECF6",
           "caxis": {
            "gridcolor": "white",
            "linecolor": "white",
            "ticks": ""
           }
          },
          "title": {
           "x": 0.05
          },
          "xaxis": {
           "automargin": true,
           "gridcolor": "white",
           "linecolor": "white",
           "ticks": "",
           "title": {
            "standoff": 15
           },
           "zerolinecolor": "white",
           "zerolinewidth": 2
          },
          "yaxis": {
           "automargin": true,
           "gridcolor": "white",
           "linecolor": "white",
           "ticks": "",
           "title": {
            "standoff": 15
           },
           "zerolinecolor": "white",
           "zerolinewidth": 2
          }
         }
        },
        "title": {
         "text": "Protocol TVL by Stablecoin - > $1M in Selected Tokens        <br><sup>Note: if the bar is 100% USDT, that means DefiLlama doesn't have splits by token</sup>"
        },
        "xaxis": {
         "anchor": "y",
         "categoryorder": "total descending",
         "domain": [
          0,
          1
         ],
         "title": {
          "text": "protocol"
         }
        },
        "yaxis": {
         "anchor": "x",
         "domain": [
          0,
          1
         ],
         "title": {
          "text": "usd_value"
         }
        }
       }
      }
     },
     "metadata": {},
     "output_type": "display_data"
    },
    {
     "data": {
      "application/vnd.plotly.v1+json": {
       "config": {
        "plotlyServerURL": "https://plot.ly"
       },
       "data": [
        {
         "domain": {
          "x": [
           0,
           1
          ],
          "y": [
           0,
           1
          ]
         },
         "hovertemplate": "protocol=%{label}<br>usd_value_millions=%{value}<extra></extra>",
         "labels": [
          "2pi-network",
          "aave-v3",
          "acryptos",
          "aelin",
          "alchemix",
          "angle",
          "arrakis-finance",
          "beefy",
          "beethoven-x",
          "boringdao",
          "cbridge",
          "clipper",
          "connext",
          "cryptex-finance",
          "curve",
          "defiedge",
          "dforce",
          "diamond-protocol",
          "elk",
          "flashstake",
          "fuji-dao",
          "gamma",
          "granary-finance",
          "hashflow",
          "homora-v2",
          "hop-protocol",
          "hundred-finance",
          "hyphen",
          "insuredao",
          "iron-bank",
          "kromatika",
          "kyberswap",
          "lemma",
          "llamapay",
          "lyra",
          "mean-finance",
          "nested",
          "nex",
          "ooki",
          "opx-finance",
          "perpetual-protocol",
          "pickle",
          "pika-protocol",
          "polynomial-protocol",
          "pooltogether",
          "powerbomb-finance",
          "premia",
          "radioshack",
          "reaper-farm",
          "relaychain",
          "revert-compoundor",
          "router-protocol",
          "rubicon",
          "saddle-finance",
          "sonne-finance",
          "stargate",
          "superfluid",
          "sushi-bentobox",
          "sushi-furo",
          "sushi-trident",
          "swapsicle",
          "symphony-finance",
          "synapse",
          "tarot",
          "thales",
          "toros",
          "unidex",
          "uniswap-v3",
          "usd+",
          "velodrome",
          "wepiggy",
          "woofi",
          "woofi-earn",
          "xtoken",
          "xy-finance",
          "yearn-finance",
          "zipswap"
         ],
         "legendgroup": "",
         "name": "",
         "showlegend": true,
         "text": [
          "$0.77M",
          "$68.59M",
          "$0.47M",
          "$0.21M",
          "$0.15M",
          "$0.06M",
          "$0.82M",
          "$38.54M",
          "$17.38M",
          "$0.05M",
          "$4.91M",
          "$0.32M",
          "$2.60M",
          "$0.00M",
          "$29.02M",
          "$0.07M",
          "$8.09M",
          "$0.01M",
          "$0.00M",
          "$0.04M",
          "$0.00M",
          "$0.33M",
          "$0.26M",
          "$0.83M",
          "$1.63M",
          "$4.90M",
          "$6.53M",
          "$0.30M",
          "$0.20M",
          "$0.67M",
          "$0.06M",
          "$1.79M",
          "$0.03M",
          "$0.11M",
          "$10.79M",
          "$0.19M",
          "$0.04M",
          "$0.06M",
          "$0.01M",
          "$0.17M",
          "$17.07M",
          "$1.53M",
          "$8.71M",
          "$0.83M",
          "$35.22M",
          "$0.50M",
          "$0.40M",
          "$0.00M",
          "$15.35M",
          "$0.00M",
          "$1.67M",
          "$0.07M",
          "$3.70M",
          "$0.61M",
          "$11.56M",
          "$17.36M",
          "$0.01M",
          "$0.00M",
          "$0.00M",
          "$0.02M",
          "$0.00M",
          "$0.00M",
          "$2.35M",
          "$1.01M",
          "$0.21M",
          "$4.80M",
          "$0.70M",
          "$11.97M",
          "$5.75M",
          "$36.15M",
          "$3.20M",
          "$0.04M",
          "$0.59M",
          "$0.29M",
          "$0.15M",
          "$0.13M",
          "$0.00M"
         ],
         "textinfo": "percent+label+text",
         "textposition": "inside",
         "type": "pie",
         "values": [
          0.76504796586,
          68.58991999659,
          0.46517240000000004,
          0.21411827264,
          0.15009477955,
          0.06016228087,
          0.8155631856600001,
          38.544077460000004,
          17.37929662223,
          0.04816989737999999,
          4.91240819367,
          0.31651924347,
          2.6005242291100004,
          0.00015547,
          29.02298683283,
          0.07164311546,
          8.08806947845,
          0.00526892341,
          0,
          0.03683180433,
          0.00000600756,
          0.33061431229,
          0.25772750645000003,
          0.83390003148,
          1.62596495913,
          4.9027572174900005,
          6.52994408443,
          0.29624933078000004,
          0.20196130998,
          0.66540157006,
          0.05803199854,
          1.7935937593900002,
          0.02743915795,
          0.10620193191999999,
          10.792010627709999,
          0.19158180631000002,
          0.037843445309999994,
          0.0598907348,
          0.00682984224,
          0.17427544277,
          17.07340400654,
          1.532880854,
          8.70538742043,
          0.82985474997,
          35.21952582908,
          0.49861067173,
          0.40170762438,
          0.00031925721,
          15.35402698916,
          0,
          1.6749706581200001,
          0.06565487618,
          3.6965165456499998,
          0.61048666315,
          11.56041502675,
          17.35729829824,
          0.01077868859,
          0.00044127461,
          0.00000119984,
          0.016461606269999998,
          5.0014e-7,
          0.0031163686800000003,
          2.34673621179,
          1.00839417056,
          0.20573742986000002,
          4.79531004091,
          0.6983489217100001,
          11.96642434715,
          5.75400515499,
          36.15468600675,
          3.2047279818699996,
          0.04234271649,
          0.5910168489500001,
          0.28855895213,
          0.15104647398999999,
          0.12719101507,
          0.00003221067
         ]
        }
       ],
       "layout": {
        "legend": {
         "tracegroupgap": 0
        },
        "template": {
         "data": {
          "bar": [
           {
            "error_x": {
             "color": "#2a3f5f"
            },
            "error_y": {
             "color": "#2a3f5f"
            },
            "marker": {
             "line": {
              "color": "#E5ECF6",
              "width": 0.5
             },
             "pattern": {
              "fillmode": "overlay",
              "size": 10,
              "solidity": 0.2
             }
            },
            "type": "bar"
           }
          ],
          "barpolar": [
           {
            "marker": {
             "line": {
              "color": "#E5ECF6",
              "width": 0.5
             },
             "pattern": {
              "fillmode": "overlay",
              "size": 10,
              "solidity": 0.2
             }
            },
            "type": "barpolar"
           }
          ],
          "carpet": [
           {
            "aaxis": {
             "endlinecolor": "#2a3f5f",
             "gridcolor": "white",
             "linecolor": "white",
             "minorgridcolor": "white",
             "startlinecolor": "#2a3f5f"
            },
            "baxis": {
             "endlinecolor": "#2a3f5f",
             "gridcolor": "white",
             "linecolor": "white",
             "minorgridcolor": "white",
             "startlinecolor": "#2a3f5f"
            },
            "type": "carpet"
           }
          ],
          "choropleth": [
           {
            "colorbar": {
             "outlinewidth": 0,
             "ticks": ""
            },
            "type": "choropleth"
           }
          ],
          "contour": [
           {
            "colorbar": {
             "outlinewidth": 0,
             "ticks": ""
            },
            "colorscale": [
             [
              0,
              "#0d0887"
             ],
             [
              0.1111111111111111,
              "#46039f"
             ],
             [
              0.2222222222222222,
              "#7201a8"
             ],
             [
              0.3333333333333333,
              "#9c179e"
             ],
             [
              0.4444444444444444,
              "#bd3786"
             ],
             [
              0.5555555555555556,
              "#d8576b"
             ],
             [
              0.6666666666666666,
              "#ed7953"
             ],
             [
              0.7777777777777778,
              "#fb9f3a"
             ],
             [
              0.8888888888888888,
              "#fdca26"
             ],
             [
              1,
              "#f0f921"
             ]
            ],
            "type": "contour"
           }
          ],
          "contourcarpet": [
           {
            "colorbar": {
             "outlinewidth": 0,
             "ticks": ""
            },
            "type": "contourcarpet"
           }
          ],
          "heatmap": [
           {
            "colorbar": {
             "outlinewidth": 0,
             "ticks": ""
            },
            "colorscale": [
             [
              0,
              "#0d0887"
             ],
             [
              0.1111111111111111,
              "#46039f"
             ],
             [
              0.2222222222222222,
              "#7201a8"
             ],
             [
              0.3333333333333333,
              "#9c179e"
             ],
             [
              0.4444444444444444,
              "#bd3786"
             ],
             [
              0.5555555555555556,
              "#d8576b"
             ],
             [
              0.6666666666666666,
              "#ed7953"
             ],
             [
              0.7777777777777778,
              "#fb9f3a"
             ],
             [
              0.8888888888888888,
              "#fdca26"
             ],
             [
              1,
              "#f0f921"
             ]
            ],
            "type": "heatmap"
           }
          ],
          "heatmapgl": [
           {
            "colorbar": {
             "outlinewidth": 0,
             "ticks": ""
            },
            "colorscale": [
             [
              0,
              "#0d0887"
             ],
             [
              0.1111111111111111,
              "#46039f"
             ],
             [
              0.2222222222222222,
              "#7201a8"
             ],
             [
              0.3333333333333333,
              "#9c179e"
             ],
             [
              0.4444444444444444,
              "#bd3786"
             ],
             [
              0.5555555555555556,
              "#d8576b"
             ],
             [
              0.6666666666666666,
              "#ed7953"
             ],
             [
              0.7777777777777778,
              "#fb9f3a"
             ],
             [
              0.8888888888888888,
              "#fdca26"
             ],
             [
              1,
              "#f0f921"
             ]
            ],
            "type": "heatmapgl"
           }
          ],
          "histogram": [
           {
            "marker": {
             "pattern": {
              "fillmode": "overlay",
              "size": 10,
              "solidity": 0.2
             }
            },
            "type": "histogram"
           }
          ],
          "histogram2d": [
           {
            "colorbar": {
             "outlinewidth": 0,
             "ticks": ""
            },
            "colorscale": [
             [
              0,
              "#0d0887"
             ],
             [
              0.1111111111111111,
              "#46039f"
             ],
             [
              0.2222222222222222,
              "#7201a8"
             ],
             [
              0.3333333333333333,
              "#9c179e"
             ],
             [
              0.4444444444444444,
              "#bd3786"
             ],
             [
              0.5555555555555556,
              "#d8576b"
             ],
             [
              0.6666666666666666,
              "#ed7953"
             ],
             [
              0.7777777777777778,
              "#fb9f3a"
             ],
             [
              0.8888888888888888,
              "#fdca26"
             ],
             [
              1,
              "#f0f921"
             ]
            ],
            "type": "histogram2d"
           }
          ],
          "histogram2dcontour": [
           {
            "colorbar": {
             "outlinewidth": 0,
             "ticks": ""
            },
            "colorscale": [
             [
              0,
              "#0d0887"
             ],
             [
              0.1111111111111111,
              "#46039f"
             ],
             [
              0.2222222222222222,
              "#7201a8"
             ],
             [
              0.3333333333333333,
              "#9c179e"
             ],
             [
              0.4444444444444444,
              "#bd3786"
             ],
             [
              0.5555555555555556,
              "#d8576b"
             ],
             [
              0.6666666666666666,
              "#ed7953"
             ],
             [
              0.7777777777777778,
              "#fb9f3a"
             ],
             [
              0.8888888888888888,
              "#fdca26"
             ],
             [
              1,
              "#f0f921"
             ]
            ],
            "type": "histogram2dcontour"
           }
          ],
          "mesh3d": [
           {
            "colorbar": {
             "outlinewidth": 0,
             "ticks": ""
            },
            "type": "mesh3d"
           }
          ],
          "parcoords": [
           {
            "line": {
             "colorbar": {
              "outlinewidth": 0,
              "ticks": ""
             }
            },
            "type": "parcoords"
           }
          ],
          "pie": [
           {
            "automargin": true,
            "type": "pie"
           }
          ],
          "scatter": [
           {
            "fillpattern": {
             "fillmode": "overlay",
             "size": 10,
             "solidity": 0.2
            },
            "type": "scatter"
           }
          ],
          "scatter3d": [
           {
            "line": {
             "colorbar": {
              "outlinewidth": 0,
              "ticks": ""
             }
            },
            "marker": {
             "colorbar": {
              "outlinewidth": 0,
              "ticks": ""
             }
            },
            "type": "scatter3d"
           }
          ],
          "scattercarpet": [
           {
            "marker": {
             "colorbar": {
              "outlinewidth": 0,
              "ticks": ""
             }
            },
            "type": "scattercarpet"
           }
          ],
          "scattergeo": [
           {
            "marker": {
             "colorbar": {
              "outlinewidth": 0,
              "ticks": ""
             }
            },
            "type": "scattergeo"
           }
          ],
          "scattergl": [
           {
            "marker": {
             "colorbar": {
              "outlinewidth": 0,
              "ticks": ""
             }
            },
            "type": "scattergl"
           }
          ],
          "scattermapbox": [
           {
            "marker": {
             "colorbar": {
              "outlinewidth": 0,
              "ticks": ""
             }
            },
            "type": "scattermapbox"
           }
          ],
          "scatterpolar": [
           {
            "marker": {
             "colorbar": {
              "outlinewidth": 0,
              "ticks": ""
             }
            },
            "type": "scatterpolar"
           }
          ],
          "scatterpolargl": [
           {
            "marker": {
             "colorbar": {
              "outlinewidth": 0,
              "ticks": ""
             }
            },
            "type": "scatterpolargl"
           }
          ],
          "scatterternary": [
           {
            "marker": {
             "colorbar": {
              "outlinewidth": 0,
              "ticks": ""
             }
            },
            "type": "scatterternary"
           }
          ],
          "surface": [
           {
            "colorbar": {
             "outlinewidth": 0,
             "ticks": ""
            },
            "colorscale": [
             [
              0,
              "#0d0887"
             ],
             [
              0.1111111111111111,
              "#46039f"
             ],
             [
              0.2222222222222222,
              "#7201a8"
             ],
             [
              0.3333333333333333,
              "#9c179e"
             ],
             [
              0.4444444444444444,
              "#bd3786"
             ],
             [
              0.5555555555555556,
              "#d8576b"
             ],
             [
              0.6666666666666666,
              "#ed7953"
             ],
             [
              0.7777777777777778,
              "#fb9f3a"
             ],
             [
              0.8888888888888888,
              "#fdca26"
             ],
             [
              1,
              "#f0f921"
             ]
            ],
            "type": "surface"
           }
          ],
          "table": [
           {
            "cells": {
             "fill": {
              "color": "#EBF0F8"
             },
             "line": {
              "color": "white"
             }
            },
            "header": {
             "fill": {
              "color": "#C8D4E3"
             },
             "line": {
              "color": "white"
             }
            },
            "type": "table"
           }
          ]
         },
         "layout": {
          "annotationdefaults": {
           "arrowcolor": "#2a3f5f",
           "arrowhead": 0,
           "arrowwidth": 1
          },
          "autotypenumbers": "strict",
          "coloraxis": {
           "colorbar": {
            "outlinewidth": 0,
            "ticks": ""
           }
          },
          "colorscale": {
           "diverging": [
            [
             0,
             "#8e0152"
            ],
            [
             0.1,
             "#c51b7d"
            ],
            [
             0.2,
             "#de77ae"
            ],
            [
             0.3,
             "#f1b6da"
            ],
            [
             0.4,
             "#fde0ef"
            ],
            [
             0.5,
             "#f7f7f7"
            ],
            [
             0.6,
             "#e6f5d0"
            ],
            [
             0.7,
             "#b8e186"
            ],
            [
             0.8,
             "#7fbc41"
            ],
            [
             0.9,
             "#4d9221"
            ],
            [
             1,
             "#276419"
            ]
           ],
           "sequential": [
            [
             0,
             "#0d0887"
            ],
            [
             0.1111111111111111,
             "#46039f"
            ],
            [
             0.2222222222222222,
             "#7201a8"
            ],
            [
             0.3333333333333333,
             "#9c179e"
            ],
            [
             0.4444444444444444,
             "#bd3786"
            ],
            [
             0.5555555555555556,
             "#d8576b"
            ],
            [
             0.6666666666666666,
             "#ed7953"
            ],
            [
             0.7777777777777778,
             "#fb9f3a"
            ],
            [
             0.8888888888888888,
             "#fdca26"
            ],
            [
             1,
             "#f0f921"
            ]
           ],
           "sequentialminus": [
            [
             0,
             "#0d0887"
            ],
            [
             0.1111111111111111,
             "#46039f"
            ],
            [
             0.2222222222222222,
             "#7201a8"
            ],
            [
             0.3333333333333333,
             "#9c179e"
            ],
            [
             0.4444444444444444,
             "#bd3786"
            ],
            [
             0.5555555555555556,
             "#d8576b"
            ],
            [
             0.6666666666666666,
             "#ed7953"
            ],
            [
             0.7777777777777778,
             "#fb9f3a"
            ],
            [
             0.8888888888888888,
             "#fdca26"
            ],
            [
             1,
             "#f0f921"
            ]
           ]
          },
          "colorway": [
           "#636efa",
           "#EF553B",
           "#00cc96",
           "#ab63fa",
           "#FFA15A",
           "#19d3f3",
           "#FF6692",
           "#B6E880",
           "#FF97FF",
           "#FECB52"
          ],
          "font": {
           "color": "#2a3f5f"
          },
          "geo": {
           "bgcolor": "white",
           "lakecolor": "white",
           "landcolor": "#E5ECF6",
           "showlakes": true,
           "showland": true,
           "subunitcolor": "white"
          },
          "hoverlabel": {
           "align": "left"
          },
          "hovermode": "closest",
          "mapbox": {
           "style": "light"
          },
          "paper_bgcolor": "white",
          "plot_bgcolor": "#E5ECF6",
          "polar": {
           "angularaxis": {
            "gridcolor": "white",
            "linecolor": "white",
            "ticks": ""
           },
           "bgcolor": "#E5ECF6",
           "radialaxis": {
            "gridcolor": "white",
            "linecolor": "white",
            "ticks": ""
           }
          },
          "scene": {
           "xaxis": {
            "backgroundcolor": "#E5ECF6",
            "gridcolor": "white",
            "gridwidth": 2,
            "linecolor": "white",
            "showbackground": true,
            "ticks": "",
            "zerolinecolor": "white"
           },
           "yaxis": {
            "backgroundcolor": "#E5ECF6",
            "gridcolor": "white",
            "gridwidth": 2,
            "linecolor": "white",
            "showbackground": true,
            "ticks": "",
            "zerolinecolor": "white"
           },
           "zaxis": {
            "backgroundcolor": "#E5ECF6",
            "gridcolor": "white",
            "gridwidth": 2,
            "linecolor": "white",
            "showbackground": true,
            "ticks": "",
            "zerolinecolor": "white"
           }
          },
          "shapedefaults": {
           "line": {
            "color": "#2a3f5f"
           }
          },
          "ternary": {
           "aaxis": {
            "gridcolor": "white",
            "linecolor": "white",
            "ticks": ""
           },
           "baxis": {
            "gridcolor": "white",
            "linecolor": "white",
            "ticks": ""
           },
           "bgcolor": "#E5ECF6",
           "caxis": {
            "gridcolor": "white",
            "linecolor": "white",
            "ticks": ""
           }
          },
          "title": {
           "x": 0.05
          },
          "xaxis": {
           "automargin": true,
           "gridcolor": "white",
           "linecolor": "white",
           "ticks": "",
           "title": {
            "standoff": 15
           },
           "zerolinecolor": "white",
           "zerolinewidth": 2
          },
          "yaxis": {
           "automargin": true,
           "gridcolor": "white",
           "linecolor": "white",
           "ticks": "",
           "title": {
            "standoff": 15
           },
           "zerolinecolor": "white",
           "zerolinewidth": 2
          }
         }
        },
        "title": {
         "text": "Share of Stablecoins by Protocol | USDC, USDT, DAI, SUSD, LUSD, FRAX"
        }
       }
      }
     },
     "metadata": {},
     "output_type": "display_data"
    }
   ],
   "source": [
    "# stable_sum['usd_value_millions'] = stable_sum['usd_value_millions'].map(\"${:,.2f}M\".format)\n",
    "chart_pds_latest = pds_latest[pds_latest['total_token_tvl']>1e6]\n",
    "fig = px.bar(chart_pds_latest, x=\"protocol\", y=\"usd_value\", color=\"token\", title=\"Protocol TVL by Stablecoin - > $1M in Selected Tokens\\\n",
    "        <br><sup>Note: if the bar is 100% USDT, that means DefiLlama doesn't have splits by token</sup>\")\n",
    "fig.update_layout(barmode='stack', xaxis={'categoryorder': 'total descending'})\n",
    "fig.show()\n",
    "\n",
    "fig_pie = px.pie(stable_sum, values='usd_value_millions', names='protocol', title='Share of Stablecoins by Protocol | '+tokens_str)\n",
    "fig_pie.update_traces(textposition='inside', \n",
    "                        text = stable_sum['usd_value_millions'].map(\"${:,.2f}M\".format),\n",
    "                        textinfo='percent+label+text')\n",
    "fig_pie.show()"
   ]
  }
 ],
 "metadata": {
  "kernelspec": {
   "display_name": "new-env",
   "language": "python",
   "name": "python3"
  },
  "language_info": {
   "codemirror_mode": {
    "name": "ipython",
    "version": 3
   },
   "file_extension": ".py",
   "mimetype": "text/x-python",
   "name": "python",
   "nbconvert_exporter": "python",
   "pygments_lexer": "ipython3",
   "version": "3.10.8"
  },
  "orig_nbformat": 4,
  "vscode": {
   "interpreter": {
    "hash": "7d537a1638226190f579d6fbb68604c1b09ebc740a69df557abedb49ad78e592"
   }
  }
 },
 "nbformat": 4,
 "nbformat_minor": 2
}
