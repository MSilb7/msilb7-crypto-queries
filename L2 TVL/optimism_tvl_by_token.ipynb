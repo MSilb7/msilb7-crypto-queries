{
 "cells": [
  {
   "cell_type": "code",
   "execution_count": 23,
   "metadata": {},
   "outputs": [
    {
     "name": "stdout",
     "output_type": "stream",
     "text": [
      "USDC, USDT, DAI, SUSD, LUSD, FRAX\n"
     ]
    }
   ],
   "source": [
    "import pandas as pd\n",
    "import defillama_utils as dfl\n",
    "import requests as r\n",
    "import plotly.express as px\n",
    "\n",
    "chain = 'Optimism'\n",
    "tokens = ['USDC','USDT','DAI','SUSD','LUSD','FRAX']\n",
    "tokens_str = ', '.join(tokens)\n",
    "print(tokens_str)"
   ]
  },
  {
   "cell_type": "code",
   "execution_count": 24,
   "metadata": {},
   "outputs": [],
   "source": [
    "# protos = 'https://api.llama.fi/protocols'\n",
    "# s = r.Session()\n",
    "# #get all protocols\n",
    "# resp = pd.DataFrame( s.get(protos).json() )[['category','slug','chainTvls']]\n",
    "# display(resp)\n",
    "# # extract the chain names\n",
    "# # resp['chainTvls'] = resp['chainTvls'].apply(lambda x: list(x.keys()) )\n",
    "# # # set a true/false if the array contains the chain we want\n",
    "# # resp['contains_chain'] = resp['chainTvls'].apply(lambda x: chain_name in x)\n",
    "# # # filter where we have a match\n",
    "# # proto_list = resp[['slug']][resp['contains_chain'] == True]\n",
    "# # # clean up\n",
    "# # proto_list = proto_list.reset_index(drop=True)\n",
    "# # # boom\n"
   ]
  },
  {
   "cell_type": "code",
   "execution_count": 25,
   "metadata": {},
   "outputs": [
    {
     "data": {
      "text/html": [
       "<div>\n",
       "<style scoped>\n",
       "    .dataframe tbody tr th:only-of-type {\n",
       "        vertical-align: middle;\n",
       "    }\n",
       "\n",
       "    .dataframe tbody tr th {\n",
       "        vertical-align: top;\n",
       "    }\n",
       "\n",
       "    .dataframe thead th {\n",
       "        text-align: right;\n",
       "    }\n",
       "</style>\n",
       "<table border=\"1\" class=\"dataframe\">\n",
       "  <thead>\n",
       "    <tr style=\"text-align: right;\">\n",
       "      <th></th>\n",
       "      <th>slug</th>\n",
       "    </tr>\n",
       "  </thead>\n",
       "  <tbody>\n",
       "    <tr>\n",
       "      <th>0</th>\n",
       "      <td>curve</td>\n",
       "    </tr>\n",
       "    <tr>\n",
       "      <th>1</th>\n",
       "      <td>uniswap-v3</td>\n",
       "    </tr>\n",
       "    <tr>\n",
       "      <th>2</th>\n",
       "      <td>multichain</td>\n",
       "    </tr>\n",
       "    <tr>\n",
       "      <th>3</th>\n",
       "      <td>aave-v3</td>\n",
       "    </tr>\n",
       "    <tr>\n",
       "      <th>4</th>\n",
       "      <td>arrakis-finance</td>\n",
       "    </tr>\n",
       "    <tr>\n",
       "      <th>...</th>\n",
       "      <td>...</td>\n",
       "    </tr>\n",
       "    <tr>\n",
       "      <th>87</th>\n",
       "      <td>optinyan</td>\n",
       "    </tr>\n",
       "    <tr>\n",
       "      <th>88</th>\n",
       "      <td>pegasus-finance</td>\n",
       "    </tr>\n",
       "    <tr>\n",
       "      <th>89</th>\n",
       "      <td>juggler-red</td>\n",
       "    </tr>\n",
       "    <tr>\n",
       "      <th>90</th>\n",
       "      <td>bitant</td>\n",
       "    </tr>\n",
       "    <tr>\n",
       "      <th>91</th>\n",
       "      <td>optidoge</td>\n",
       "    </tr>\n",
       "  </tbody>\n",
       "</table>\n",
       "<p>92 rows × 1 columns</p>\n",
       "</div>"
      ],
      "text/plain": [
       "               slug\n",
       "0             curve\n",
       "1        uniswap-v3\n",
       "2        multichain\n",
       "3           aave-v3\n",
       "4   arrakis-finance\n",
       "..              ...\n",
       "87         optinyan\n",
       "88  pegasus-finance\n",
       "89      juggler-red\n",
       "90           bitant\n",
       "91         optidoge\n",
       "\n",
       "[92 rows x 1 columns]"
      ]
     },
     "metadata": {},
     "output_type": "display_data"
    }
   ],
   "source": [
    "slugs = dfl.get_protocols_by_chain(chain, exclude_cex = True, exclude_chain = True)\n",
    "display(slugs)\n",
    "pds_raw = dfl.get_range(slugs, chain)\n"
   ]
  },
  {
   "cell_type": "code",
   "execution_count": 26,
   "metadata": {},
   "outputs": [
    {
     "data": {
      "text/html": [
       "<div>\n",
       "<style scoped>\n",
       "    .dataframe tbody tr th:only-of-type {\n",
       "        vertical-align: middle;\n",
       "    }\n",
       "\n",
       "    .dataframe tbody tr th {\n",
       "        vertical-align: top;\n",
       "    }\n",
       "\n",
       "    .dataframe thead th {\n",
       "        text-align: right;\n",
       "    }\n",
       "</style>\n",
       "<table border=\"1\" class=\"dataframe\">\n",
       "  <thead>\n",
       "    <tr style=\"text-align: right;\">\n",
       "      <th></th>\n",
       "      <th>date</th>\n",
       "      <th>token</th>\n",
       "      <th>token_value</th>\n",
       "      <th>usd_value</th>\n",
       "      <th>total_app_tvl</th>\n",
       "      <th>protocol</th>\n",
       "      <th>chain</th>\n",
       "      <th>category</th>\n",
       "      <th>total_token_tvl</th>\n",
       "      <th>day_rank</th>\n",
       "      <th>usd_value_millions</th>\n",
       "    </tr>\n",
       "  </thead>\n",
       "  <tbody>\n",
       "    <tr>\n",
       "      <th>1</th>\n",
       "      <td>2022-07-17 00:00:00</td>\n",
       "      <td>FRAX</td>\n",
       "      <td>5.727694e+02</td>\n",
       "      <td>5.730323e+02</td>\n",
       "      <td>1.108283e+07</td>\n",
       "      <td>curve</td>\n",
       "      <td>Optimism</td>\n",
       "      <td>Dexes</td>\n",
       "      <td>11029294</td>\n",
       "      <td>158</td>\n",
       "      <td>5.730323e-04</td>\n",
       "    </tr>\n",
       "    <tr>\n",
       "      <th>2</th>\n",
       "      <td>2022-07-17 00:00:00</td>\n",
       "      <td>SUSD</td>\n",
       "      <td>2.415611e+06</td>\n",
       "      <td>2.434926e+06</td>\n",
       "      <td>1.108283e+07</td>\n",
       "      <td>curve</td>\n",
       "      <td>Optimism</td>\n",
       "      <td>Dexes</td>\n",
       "      <td>11029294</td>\n",
       "      <td>158</td>\n",
       "      <td>2.434926e+00</td>\n",
       "    </tr>\n",
       "    <tr>\n",
       "      <th>3</th>\n",
       "      <td>2022-07-17 00:00:00</td>\n",
       "      <td>LUSD</td>\n",
       "      <td>4.000000e-05</td>\n",
       "      <td>4.000000e-05</td>\n",
       "      <td>1.108283e+07</td>\n",
       "      <td>curve</td>\n",
       "      <td>Optimism</td>\n",
       "      <td>Dexes</td>\n",
       "      <td>11029294</td>\n",
       "      <td>158</td>\n",
       "      <td>4.000000e-11</td>\n",
       "    </tr>\n",
       "    <tr>\n",
       "      <th>4</th>\n",
       "      <td>2022-07-17 00:00:00</td>\n",
       "      <td>USDT</td>\n",
       "      <td>4.191069e+06</td>\n",
       "      <td>4.191538e+06</td>\n",
       "      <td>1.108283e+07</td>\n",
       "      <td>curve</td>\n",
       "      <td>Optimism</td>\n",
       "      <td>Dexes</td>\n",
       "      <td>11029294</td>\n",
       "      <td>158</td>\n",
       "      <td>4.191538e+00</td>\n",
       "    </tr>\n",
       "    <tr>\n",
       "      <th>5</th>\n",
       "      <td>2022-07-17 00:00:00</td>\n",
       "      <td>USDC</td>\n",
       "      <td>2.258077e+06</td>\n",
       "      <td>2.258332e+06</td>\n",
       "      <td>1.108283e+07</td>\n",
       "      <td>curve</td>\n",
       "      <td>Optimism</td>\n",
       "      <td>Dexes</td>\n",
       "      <td>11029294</td>\n",
       "      <td>158</td>\n",
       "      <td>2.258332e+00</td>\n",
       "    </tr>\n",
       "    <tr>\n",
       "      <th>...</th>\n",
       "      <td>...</td>\n",
       "      <td>...</td>\n",
       "      <td>...</td>\n",
       "      <td>...</td>\n",
       "      <td>...</td>\n",
       "      <td>...</td>\n",
       "      <td>...</td>\n",
       "      <td>...</td>\n",
       "      <td>...</td>\n",
       "      <td>...</td>\n",
       "      <td>...</td>\n",
       "    </tr>\n",
       "    <tr>\n",
       "      <th>798</th>\n",
       "      <td>2022-12-20 00:00:00</td>\n",
       "      <td>DAI</td>\n",
       "      <td>6.731880e+00</td>\n",
       "      <td>6.731880e+00</td>\n",
       "      <td>4.140639e+03</td>\n",
       "      <td>symphony-finance</td>\n",
       "      <td>Optimism</td>\n",
       "      <td>Dexes</td>\n",
       "      <td>3214</td>\n",
       "      <td>2</td>\n",
       "      <td>6.731880e-06</td>\n",
       "    </tr>\n",
       "    <tr>\n",
       "      <th>802</th>\n",
       "      <td>2022-12-20 01:59:35</td>\n",
       "      <td>SUSD</td>\n",
       "      <td>2.622760e+02</td>\n",
       "      <td>2.622760e+02</td>\n",
       "      <td>4.151767e+03</td>\n",
       "      <td>symphony-finance</td>\n",
       "      <td>Optimism</td>\n",
       "      <td>Dexes</td>\n",
       "      <td>3214</td>\n",
       "      <td>1</td>\n",
       "      <td>2.622760e-04</td>\n",
       "    </tr>\n",
       "    <tr>\n",
       "      <th>803</th>\n",
       "      <td>2022-12-20 01:59:35</td>\n",
       "      <td>USDT</td>\n",
       "      <td>1.528641e+03</td>\n",
       "      <td>1.530170e+03</td>\n",
       "      <td>4.151767e+03</td>\n",
       "      <td>symphony-finance</td>\n",
       "      <td>Optimism</td>\n",
       "      <td>Dexes</td>\n",
       "      <td>3214</td>\n",
       "      <td>1</td>\n",
       "      <td>1.530170e-03</td>\n",
       "    </tr>\n",
       "    <tr>\n",
       "      <th>805</th>\n",
       "      <td>2022-12-20 01:59:35</td>\n",
       "      <td>USDC</td>\n",
       "      <td>1.415335e+03</td>\n",
       "      <td>1.415335e+03</td>\n",
       "      <td>4.151767e+03</td>\n",
       "      <td>symphony-finance</td>\n",
       "      <td>Optimism</td>\n",
       "      <td>Dexes</td>\n",
       "      <td>3214</td>\n",
       "      <td>1</td>\n",
       "      <td>1.415335e-03</td>\n",
       "    </tr>\n",
       "    <tr>\n",
       "      <th>806</th>\n",
       "      <td>2022-12-20 01:59:35</td>\n",
       "      <td>DAI</td>\n",
       "      <td>6.731880e+00</td>\n",
       "      <td>6.738610e+00</td>\n",
       "      <td>4.151767e+03</td>\n",
       "      <td>symphony-finance</td>\n",
       "      <td>Optimism</td>\n",
       "      <td>Dexes</td>\n",
       "      <td>3214</td>\n",
       "      <td>1</td>\n",
       "      <td>6.738610e-06</td>\n",
       "    </tr>\n",
       "  </tbody>\n",
       "</table>\n",
       "<p>40596 rows × 11 columns</p>\n",
       "</div>"
      ],
      "text/plain": [
       "                   date token   token_value     usd_value  total_app_tvl  \\\n",
       "1   2022-07-17 00:00:00  FRAX  5.727694e+02  5.730323e+02   1.108283e+07   \n",
       "2   2022-07-17 00:00:00  SUSD  2.415611e+06  2.434926e+06   1.108283e+07   \n",
       "3   2022-07-17 00:00:00  LUSD  4.000000e-05  4.000000e-05   1.108283e+07   \n",
       "4   2022-07-17 00:00:00  USDT  4.191069e+06  4.191538e+06   1.108283e+07   \n",
       "5   2022-07-17 00:00:00  USDC  2.258077e+06  2.258332e+06   1.108283e+07   \n",
       "..                  ...   ...           ...           ...            ...   \n",
       "798 2022-12-20 00:00:00   DAI  6.731880e+00  6.731880e+00   4.140639e+03   \n",
       "802 2022-12-20 01:59:35  SUSD  2.622760e+02  2.622760e+02   4.151767e+03   \n",
       "803 2022-12-20 01:59:35  USDT  1.528641e+03  1.530170e+03   4.151767e+03   \n",
       "805 2022-12-20 01:59:35  USDC  1.415335e+03  1.415335e+03   4.151767e+03   \n",
       "806 2022-12-20 01:59:35   DAI  6.731880e+00  6.738610e+00   4.151767e+03   \n",
       "\n",
       "             protocol     chain category  total_token_tvl  day_rank  \\\n",
       "1               curve  Optimism    Dexes         11029294       158   \n",
       "2               curve  Optimism    Dexes         11029294       158   \n",
       "3               curve  Optimism    Dexes         11029294       158   \n",
       "4               curve  Optimism    Dexes         11029294       158   \n",
       "5               curve  Optimism    Dexes         11029294       158   \n",
       "..                ...       ...      ...              ...       ...   \n",
       "798  symphony-finance  Optimism    Dexes             3214         2   \n",
       "802  symphony-finance  Optimism    Dexes             3214         1   \n",
       "803  symphony-finance  Optimism    Dexes             3214         1   \n",
       "805  symphony-finance  Optimism    Dexes             3214         1   \n",
       "806  symphony-finance  Optimism    Dexes             3214         1   \n",
       "\n",
       "     usd_value_millions  \n",
       "1          5.730323e-04  \n",
       "2          2.434926e+00  \n",
       "3          4.000000e-11  \n",
       "4          4.191538e+00  \n",
       "5          2.258332e+00  \n",
       "..                  ...  \n",
       "798        6.731880e-06  \n",
       "802        2.622760e-04  \n",
       "803        1.530170e-03  \n",
       "805        1.415335e-03  \n",
       "806        6.738610e-06  \n",
       "\n",
       "[40596 rows x 11 columns]"
      ]
     },
     "metadata": {},
     "output_type": "display_data"
    }
   ],
   "source": [
    "pds = pds_raw.copy()\n",
    "pds = pds[pds['token'].isin(tokens)]\n",
    "pds['total_token_tvl'] = pds.groupby(['protocol', 'chain','date'])['usd_value'].\\\n",
    "                                transform('sum').astype(int)\n",
    "\n",
    "pds['day_rank'] = pds.groupby(['protocol', 'chain'])['date'].\\\n",
    "                            rank(method='dense',ascending=False).astype(int)\n",
    "pds['usd_value_millions'] = (pds['usd_value'] / 1e6)\n",
    "display(pds)"
   ]
  },
  {
   "cell_type": "code",
   "execution_count": 27,
   "metadata": {},
   "outputs": [
    {
     "data": {
      "text/html": [
       "<div>\n",
       "<style scoped>\n",
       "    .dataframe tbody tr th:only-of-type {\n",
       "        vertical-align: middle;\n",
       "    }\n",
       "\n",
       "    .dataframe tbody tr th {\n",
       "        vertical-align: top;\n",
       "    }\n",
       "\n",
       "    .dataframe thead th {\n",
       "        text-align: right;\n",
       "    }\n",
       "</style>\n",
       "<table border=\"1\" class=\"dataframe\">\n",
       "  <thead>\n",
       "    <tr style=\"text-align: right;\">\n",
       "      <th></th>\n",
       "      <th>date</th>\n",
       "      <th>token</th>\n",
       "      <th>token_value</th>\n",
       "      <th>usd_value</th>\n",
       "      <th>total_app_tvl</th>\n",
       "      <th>protocol</th>\n",
       "      <th>chain</th>\n",
       "      <th>category</th>\n",
       "      <th>total_token_tvl</th>\n",
       "      <th>day_rank</th>\n",
       "      <th>usd_value_millions</th>\n",
       "    </tr>\n",
       "  </thead>\n",
       "  <tbody>\n",
       "    <tr>\n",
       "      <th>2541</th>\n",
       "      <td>2022-12-20 01:59:35</td>\n",
       "      <td>USDC</td>\n",
       "      <td>5.503336e+07</td>\n",
       "      <td>5.503336e+07</td>\n",
       "      <td>1.017413e+08</td>\n",
       "      <td>aave-v3</td>\n",
       "      <td>Optimism</td>\n",
       "      <td>Lending</td>\n",
       "      <td>65776301</td>\n",
       "      <td>1</td>\n",
       "      <td>55.033362</td>\n",
       "    </tr>\n",
       "    <tr>\n",
       "      <th>2543</th>\n",
       "      <td>2022-12-20 01:59:35</td>\n",
       "      <td>DAI</td>\n",
       "      <td>7.798238e+06</td>\n",
       "      <td>7.806037e+06</td>\n",
       "      <td>1.017413e+08</td>\n",
       "      <td>aave-v3</td>\n",
       "      <td>Optimism</td>\n",
       "      <td>Lending</td>\n",
       "      <td>65776301</td>\n",
       "      <td>1</td>\n",
       "      <td>7.806037</td>\n",
       "    </tr>\n",
       "    <tr>\n",
       "      <th>2542</th>\n",
       "      <td>2022-12-20 01:59:35</td>\n",
       "      <td>SUSD</td>\n",
       "      <td>3.595876e+05</td>\n",
       "      <td>3.595876e+05</td>\n",
       "      <td>1.017413e+08</td>\n",
       "      <td>aave-v3</td>\n",
       "      <td>Optimism</td>\n",
       "      <td>Lending</td>\n",
       "      <td>65776301</td>\n",
       "      <td>1</td>\n",
       "      <td>0.359588</td>\n",
       "    </tr>\n",
       "    <tr>\n",
       "      <th>2540</th>\n",
       "      <td>2022-12-20 01:59:35</td>\n",
       "      <td>USDT</td>\n",
       "      <td>2.574741e+06</td>\n",
       "      <td>2.577316e+06</td>\n",
       "      <td>1.017413e+08</td>\n",
       "      <td>aave-v3</td>\n",
       "      <td>Optimism</td>\n",
       "      <td>Lending</td>\n",
       "      <td>65776301</td>\n",
       "      <td>1</td>\n",
       "      <td>2.577316</td>\n",
       "    </tr>\n",
       "    <tr>\n",
       "      <th>175</th>\n",
       "      <td>2022-12-20 01:59:47</td>\n",
       "      <td>USDT</td>\n",
       "      <td>3.616400e+07</td>\n",
       "      <td>3.620016e+07</td>\n",
       "      <td>3.620016e+07</td>\n",
       "      <td>beefy</td>\n",
       "      <td>Optimism</td>\n",
       "      <td>Yield Aggregator</td>\n",
       "      <td>36200162</td>\n",
       "      <td>1</td>\n",
       "      <td>36.200162</td>\n",
       "    </tr>\n",
       "    <tr>\n",
       "      <th>...</th>\n",
       "      <td>...</td>\n",
       "      <td>...</td>\n",
       "      <td>...</td>\n",
       "      <td>...</td>\n",
       "      <td>...</td>\n",
       "      <td>...</td>\n",
       "      <td>...</td>\n",
       "      <td>...</td>\n",
       "      <td>...</td>\n",
       "      <td>...</td>\n",
       "      <td>...</td>\n",
       "    </tr>\n",
       "    <tr>\n",
       "      <th>264</th>\n",
       "      <td>2022-12-20 01:59:47</td>\n",
       "      <td>USDT</td>\n",
       "      <td>0.000000e+00</td>\n",
       "      <td>0.000000e+00</td>\n",
       "      <td>1.700384e+04</td>\n",
       "      <td>relaychain</td>\n",
       "      <td>Optimism</td>\n",
       "      <td>Bridge</td>\n",
       "      <td>0</td>\n",
       "      <td>1</td>\n",
       "      <td>0.000000</td>\n",
       "    </tr>\n",
       "    <tr>\n",
       "      <th>265</th>\n",
       "      <td>2022-12-20 01:59:47</td>\n",
       "      <td>DAI</td>\n",
       "      <td>0.000000e+00</td>\n",
       "      <td>0.000000e+00</td>\n",
       "      <td>1.700384e+04</td>\n",
       "      <td>relaychain</td>\n",
       "      <td>Optimism</td>\n",
       "      <td>Bridge</td>\n",
       "      <td>0</td>\n",
       "      <td>1</td>\n",
       "      <td>0.000000</td>\n",
       "    </tr>\n",
       "    <tr>\n",
       "      <th>1365</th>\n",
       "      <td>2022-12-20 01:59:35</td>\n",
       "      <td>USDC</td>\n",
       "      <td>0.000000e+00</td>\n",
       "      <td>0.000000e+00</td>\n",
       "      <td>3.511610e+04</td>\n",
       "      <td>elk</td>\n",
       "      <td>Optimism</td>\n",
       "      <td>Dexes</td>\n",
       "      <td>0</td>\n",
       "      <td>1</td>\n",
       "      <td>0.000000</td>\n",
       "    </tr>\n",
       "    <tr>\n",
       "      <th>1366</th>\n",
       "      <td>2022-12-20 01:59:35</td>\n",
       "      <td>DAI</td>\n",
       "      <td>0.000000e+00</td>\n",
       "      <td>0.000000e+00</td>\n",
       "      <td>3.511610e+04</td>\n",
       "      <td>elk</td>\n",
       "      <td>Optimism</td>\n",
       "      <td>Dexes</td>\n",
       "      <td>0</td>\n",
       "      <td>1</td>\n",
       "      <td>0.000000</td>\n",
       "    </tr>\n",
       "    <tr>\n",
       "      <th>1363</th>\n",
       "      <td>2022-12-20 01:59:35</td>\n",
       "      <td>USDT</td>\n",
       "      <td>0.000000e+00</td>\n",
       "      <td>0.000000e+00</td>\n",
       "      <td>3.511610e+04</td>\n",
       "      <td>elk</td>\n",
       "      <td>Optimism</td>\n",
       "      <td>Dexes</td>\n",
       "      <td>0</td>\n",
       "      <td>1</td>\n",
       "      <td>0.000000</td>\n",
       "    </tr>\n",
       "  </tbody>\n",
       "</table>\n",
       "<p>190 rows × 11 columns</p>\n",
       "</div>"
      ],
      "text/plain": [
       "                    date token   token_value     usd_value  total_app_tvl  \\\n",
       "2541 2022-12-20 01:59:35  USDC  5.503336e+07  5.503336e+07   1.017413e+08   \n",
       "2543 2022-12-20 01:59:35   DAI  7.798238e+06  7.806037e+06   1.017413e+08   \n",
       "2542 2022-12-20 01:59:35  SUSD  3.595876e+05  3.595876e+05   1.017413e+08   \n",
       "2540 2022-12-20 01:59:35  USDT  2.574741e+06  2.577316e+06   1.017413e+08   \n",
       "175  2022-12-20 01:59:47  USDT  3.616400e+07  3.620016e+07   3.620016e+07   \n",
       "...                  ...   ...           ...           ...            ...   \n",
       "264  2022-12-20 01:59:47  USDT  0.000000e+00  0.000000e+00   1.700384e+04   \n",
       "265  2022-12-20 01:59:47   DAI  0.000000e+00  0.000000e+00   1.700384e+04   \n",
       "1365 2022-12-20 01:59:35  USDC  0.000000e+00  0.000000e+00   3.511610e+04   \n",
       "1366 2022-12-20 01:59:35   DAI  0.000000e+00  0.000000e+00   3.511610e+04   \n",
       "1363 2022-12-20 01:59:35  USDT  0.000000e+00  0.000000e+00   3.511610e+04   \n",
       "\n",
       "        protocol     chain          category  total_token_tvl  day_rank  \\\n",
       "2541     aave-v3  Optimism           Lending         65776301         1   \n",
       "2543     aave-v3  Optimism           Lending         65776301         1   \n",
       "2542     aave-v3  Optimism           Lending         65776301         1   \n",
       "2540     aave-v3  Optimism           Lending         65776301         1   \n",
       "175        beefy  Optimism  Yield Aggregator         36200162         1   \n",
       "...          ...       ...               ...              ...       ...   \n",
       "264   relaychain  Optimism            Bridge                0         1   \n",
       "265   relaychain  Optimism            Bridge                0         1   \n",
       "1365         elk  Optimism             Dexes                0         1   \n",
       "1366         elk  Optimism             Dexes                0         1   \n",
       "1363         elk  Optimism             Dexes                0         1   \n",
       "\n",
       "      usd_value_millions  \n",
       "2541           55.033362  \n",
       "2543            7.806037  \n",
       "2542            0.359588  \n",
       "2540            2.577316  \n",
       "175            36.200162  \n",
       "...                  ...  \n",
       "264             0.000000  \n",
       "265             0.000000  \n",
       "1365            0.000000  \n",
       "1366            0.000000  \n",
       "1363            0.000000  \n",
       "\n",
       "[190 rows x 11 columns]"
      ]
     },
     "metadata": {},
     "output_type": "display_data"
    }
   ],
   "source": [
    "pds_latest = pds[pds['day_rank'] == 1]\n",
    "pds_latest = pds_latest.sort_values(by = 'total_token_tvl', ascending=False)\n",
    "display(pds_latest)"
   ]
  },
  {
   "cell_type": "code",
   "execution_count": 28,
   "metadata": {},
   "outputs": [
    {
     "data": {
      "text/html": [
       "<div>\n",
       "<style scoped>\n",
       "    .dataframe tbody tr th:only-of-type {\n",
       "        vertical-align: middle;\n",
       "    }\n",
       "\n",
       "    .dataframe tbody tr th {\n",
       "        vertical-align: top;\n",
       "    }\n",
       "\n",
       "    .dataframe thead th {\n",
       "        text-align: right;\n",
       "    }\n",
       "</style>\n",
       "<table border=\"1\" class=\"dataframe\">\n",
       "  <thead>\n",
       "    <tr style=\"text-align: right;\">\n",
       "      <th></th>\n",
       "      <th>protocol</th>\n",
       "      <th>usd_value</th>\n",
       "      <th>usd_value_millions</th>\n",
       "    </tr>\n",
       "  </thead>\n",
       "  <tbody>\n",
       "    <tr>\n",
       "      <th>0</th>\n",
       "      <td>2pi-network</td>\n",
       "      <td>7.645693e+05</td>\n",
       "      <td>0.764569</td>\n",
       "    </tr>\n",
       "    <tr>\n",
       "      <th>1</th>\n",
       "      <td>aave-v3</td>\n",
       "      <td>6.577630e+07</td>\n",
       "      <td>65.776302</td>\n",
       "    </tr>\n",
       "    <tr>\n",
       "      <th>2</th>\n",
       "      <td>acryptos</td>\n",
       "      <td>5.137706e+05</td>\n",
       "      <td>0.513771</td>\n",
       "    </tr>\n",
       "    <tr>\n",
       "      <th>3</th>\n",
       "      <td>aelin</td>\n",
       "      <td>2.142432e+05</td>\n",
       "      <td>0.214243</td>\n",
       "    </tr>\n",
       "    <tr>\n",
       "      <th>4</th>\n",
       "      <td>alchemix</td>\n",
       "      <td>1.571723e+05</td>\n",
       "      <td>0.157172</td>\n",
       "    </tr>\n",
       "    <tr>\n",
       "      <th>...</th>\n",
       "      <td>...</td>\n",
       "      <td>...</td>\n",
       "      <td>...</td>\n",
       "    </tr>\n",
       "    <tr>\n",
       "      <th>71</th>\n",
       "      <td>woofi-earn</td>\n",
       "      <td>5.346726e+05</td>\n",
       "      <td>0.534673</td>\n",
       "    </tr>\n",
       "    <tr>\n",
       "      <th>72</th>\n",
       "      <td>xtoken</td>\n",
       "      <td>2.886559e+05</td>\n",
       "      <td>0.288656</td>\n",
       "    </tr>\n",
       "    <tr>\n",
       "      <th>73</th>\n",
       "      <td>xy-finance</td>\n",
       "      <td>1.386549e+05</td>\n",
       "      <td>0.138655</td>\n",
       "    </tr>\n",
       "    <tr>\n",
       "      <th>74</th>\n",
       "      <td>yearn-finance</td>\n",
       "      <td>1.217759e+05</td>\n",
       "      <td>0.121776</td>\n",
       "    </tr>\n",
       "    <tr>\n",
       "      <th>75</th>\n",
       "      <td>zipswap</td>\n",
       "      <td>3.198454e+01</td>\n",
       "      <td>0.000032</td>\n",
       "    </tr>\n",
       "  </tbody>\n",
       "</table>\n",
       "<p>76 rows × 3 columns</p>\n",
       "</div>"
      ],
      "text/plain": [
       "         protocol     usd_value  usd_value_millions\n",
       "0     2pi-network  7.645693e+05            0.764569\n",
       "1         aave-v3  6.577630e+07           65.776302\n",
       "2        acryptos  5.137706e+05            0.513771\n",
       "3           aelin  2.142432e+05            0.214243\n",
       "4        alchemix  1.571723e+05            0.157172\n",
       "..            ...           ...                 ...\n",
       "71     woofi-earn  5.346726e+05            0.534673\n",
       "72         xtoken  2.886559e+05            0.288656\n",
       "73     xy-finance  1.386549e+05            0.138655\n",
       "74  yearn-finance  1.217759e+05            0.121776\n",
       "75        zipswap  3.198454e+01            0.000032\n",
       "\n",
       "[76 rows x 3 columns]"
      ]
     },
     "metadata": {},
     "output_type": "display_data"
    }
   ],
   "source": [
    "stable_sum = pds_latest[['protocol','usd_value','usd_value_millions']].groupby(['protocol']).sum()\n",
    "stable_sum = stable_sum.reset_index()\n",
    "display(stable_sum)"
   ]
  },
  {
   "cell_type": "code",
   "execution_count": 29,
   "metadata": {},
   "outputs": [
    {
     "data": {
      "application/vnd.plotly.v1+json": {
       "config": {
        "plotlyServerURL": "https://plot.ly"
       },
       "data": [
        {
         "alignmentgroup": "True",
         "hovertemplate": "token=USDC<br>protocol=%{x}<br>usd_value=%{y}<extra></extra>",
         "legendgroup": "USDC",
         "marker": {
          "color": "#636efa",
          "pattern": {
           "shape": ""
          }
         },
         "name": "USDC",
         "offsetgroup": "USDC",
         "orientation": "v",
         "showlegend": true,
         "textposition": "auto",
         "type": "bar",
         "x": [
          "aave-v3",
          "velodrome",
          "pooltogether",
          "curve",
          "perpetual-protocol",
          "hundred-finance",
          "stargate",
          "uniswap-v3",
          "sonne-finance",
          "pika-protocol",
          "dforce",
          "usd+",
          "hop-protocol",
          "rubicon",
          "cbridge",
          "connext",
          "synapse",
          "kyberswap",
          "revert-compoundor",
          "homora-v2",
          "tarot"
         ],
         "xaxis": "x",
         "y": [
          55033361.75627,
          22613756.60383,
          31672426.22203,
          6262519.80922,
          17048538.74166,
          6612398.23592,
          9358416.03422,
          6814837.93744,
          4771964.55249,
          8633991.85293,
          0,
          5630051.70467,
          4175222.49925,
          1394787.12684,
          3090970.53843,
          2504772.6445,
          2441019.22434,
          1633451.70463,
          1402380.86149,
          860919.76371,
          1103958.80138
         ],
         "yaxis": "y"
        },
        {
         "alignmentgroup": "True",
         "hovertemplate": "token=DAI<br>protocol=%{x}<br>usd_value=%{y}<extra></extra>",
         "legendgroup": "DAI",
         "marker": {
          "color": "#EF553B",
          "pattern": {
           "shape": ""
          }
         },
         "name": "DAI",
         "offsetgroup": "DAI",
         "orientation": "v",
         "showlegend": true,
         "textposition": "auto",
         "type": "bar",
         "x": [
          "aave-v3",
          "velodrome",
          "curve",
          "hundred-finance",
          "stargate",
          "uniswap-v3",
          "sonne-finance",
          "dforce",
          "hop-protocol",
          "toros",
          "rubicon",
          "cbridge",
          "connext",
          "kyberswap",
          "revert-compoundor",
          "homora-v2",
          "tarot"
         ],
         "xaxis": "x",
         "y": [
          7806036.5433,
          1057622.53184,
          6947650.88873,
          880506.36854,
          1887352.52865,
          3740958.51302,
          3286946.74499,
          0,
          818496.72575,
          4857061.5655,
          1315893.70174,
          987.87775,
          27672.3389,
          315078.44094,
          146181.08775,
          726948.05289,
          106.16161
         ],
         "yaxis": "y"
        },
        {
         "alignmentgroup": "True",
         "hovertemplate": "token=SUSD<br>protocol=%{x}<br>usd_value=%{y}<extra></extra>",
         "legendgroup": "SUSD",
         "marker": {
          "color": "#00cc96",
          "pattern": {
           "shape": ""
          }
         },
         "name": "SUSD",
         "offsetgroup": "SUSD",
         "orientation": "v",
         "showlegend": true,
         "textposition": "auto",
         "type": "bar",
         "x": [
          "aave-v3",
          "velodrome",
          "curve",
          "hundred-finance",
          "stargate",
          "uniswap-v3",
          "lyra",
          "sonne-finance",
          "hop-protocol",
          "kyberswap",
          "revert-compoundor",
          "tarot"
         ],
         "xaxis": "x",
         "y": [
          359587.61003,
          7331284.49741,
          9034790.16244,
          1962059.48829,
          1174685.05695,
          531159.05894,
          11889022.22846,
          279203.14359,
          0,
          0,
          16162.33696,
          0.00274
         ],
         "yaxis": "y"
        },
        {
         "alignmentgroup": "True",
         "hovertemplate": "token=USDT<br>protocol=%{x}<br>usd_value=%{y}<extra></extra>",
         "legendgroup": "USDT",
         "marker": {
          "color": "#ab63fa",
          "pattern": {
           "shape": ""
          }
         },
         "name": "USDT",
         "offsetgroup": "USDT",
         "orientation": "v",
         "showlegend": true,
         "textposition": "auto",
         "type": "bar",
         "x": [
          "aave-v3",
          "beefy",
          "velodrome",
          "curve",
          "beethoven-x",
          "hundred-finance",
          "reaper-farm",
          "uniswap-v3",
          "sonne-finance",
          "dforce",
          "hop-protocol",
          "rubicon",
          "cbridge",
          "wepiggy",
          "connext",
          "kyberswap",
          "revert-compoundor",
          "pickle"
         ],
         "xaxis": "x",
         "y": [
          2577315.93335,
          36200162.28829,
          644173.24112,
          5579605.35412,
          16594875.46134,
          4200537.21205,
          15128683.60951,
          630282.55782,
          3269771.0917,
          7765897.09172,
          414584.62731,
          937728.93442,
          173824.84857,
          3202939.46861,
          20534.33991,
          153331.67291,
          66014.27956,
          1526167.95932
         ],
         "yaxis": "y"
        },
        {
         "alignmentgroup": "True",
         "hovertemplate": "token=LUSD<br>protocol=%{x}<br>usd_value=%{y}<extra></extra>",
         "legendgroup": "LUSD",
         "marker": {
          "color": "#FFA15A",
          "pattern": {
           "shape": ""
          }
         },
         "name": "LUSD",
         "offsetgroup": "LUSD",
         "orientation": "v",
         "showlegend": true,
         "textposition": "auto",
         "type": "bar",
         "x": [
          "velodrome",
          "curve",
          "stargate",
          "uniswap-v3",
          "revert-compoundor"
         ],
         "xaxis": "x",
         "y": [
          2520765.13855,
          0.00004,
          1139146.81494,
          0,
          0
         ],
         "yaxis": "y"
        },
        {
         "alignmentgroup": "True",
         "hovertemplate": "token=FRAX<br>protocol=%{x}<br>usd_value=%{y}<extra></extra>",
         "legendgroup": "FRAX",
         "marker": {
          "color": "#19d3f3",
          "pattern": {
           "shape": ""
          }
         },
         "name": "FRAX",
         "offsetgroup": "FRAX",
         "orientation": "v",
         "showlegend": true,
         "textposition": "auto",
         "type": "bar",
         "x": [
          "velodrome",
          "curve",
          "hundred-finance",
          "stargate",
          "uniswap-v3",
          "cbridge",
          "revert-compoundor",
          "tarot"
         ],
         "xaxis": "x",
         "y": [
          483986.76688,
          440113.93308,
          1923538.51032,
          466914.60025,
          411994.76961,
          0,
          0,
          1501.61804
         ],
         "yaxis": "y"
        }
       ],
       "layout": {
        "barmode": "stack",
        "legend": {
         "title": {
          "text": "token"
         },
         "tracegroupgap": 0
        },
        "template": {
         "data": {
          "bar": [
           {
            "error_x": {
             "color": "#2a3f5f"
            },
            "error_y": {
             "color": "#2a3f5f"
            },
            "marker": {
             "line": {
              "color": "#E5ECF6",
              "width": 0.5
             },
             "pattern": {
              "fillmode": "overlay",
              "size": 10,
              "solidity": 0.2
             }
            },
            "type": "bar"
           }
          ],
          "barpolar": [
           {
            "marker": {
             "line": {
              "color": "#E5ECF6",
              "width": 0.5
             },
             "pattern": {
              "fillmode": "overlay",
              "size": 10,
              "solidity": 0.2
             }
            },
            "type": "barpolar"
           }
          ],
          "carpet": [
           {
            "aaxis": {
             "endlinecolor": "#2a3f5f",
             "gridcolor": "white",
             "linecolor": "white",
             "minorgridcolor": "white",
             "startlinecolor": "#2a3f5f"
            },
            "baxis": {
             "endlinecolor": "#2a3f5f",
             "gridcolor": "white",
             "linecolor": "white",
             "minorgridcolor": "white",
             "startlinecolor": "#2a3f5f"
            },
            "type": "carpet"
           }
          ],
          "choropleth": [
           {
            "colorbar": {
             "outlinewidth": 0,
             "ticks": ""
            },
            "type": "choropleth"
           }
          ],
          "contour": [
           {
            "colorbar": {
             "outlinewidth": 0,
             "ticks": ""
            },
            "colorscale": [
             [
              0,
              "#0d0887"
             ],
             [
              0.1111111111111111,
              "#46039f"
             ],
             [
              0.2222222222222222,
              "#7201a8"
             ],
             [
              0.3333333333333333,
              "#9c179e"
             ],
             [
              0.4444444444444444,
              "#bd3786"
             ],
             [
              0.5555555555555556,
              "#d8576b"
             ],
             [
              0.6666666666666666,
              "#ed7953"
             ],
             [
              0.7777777777777778,
              "#fb9f3a"
             ],
             [
              0.8888888888888888,
              "#fdca26"
             ],
             [
              1,
              "#f0f921"
             ]
            ],
            "type": "contour"
           }
          ],
          "contourcarpet": [
           {
            "colorbar": {
             "outlinewidth": 0,
             "ticks": ""
            },
            "type": "contourcarpet"
           }
          ],
          "heatmap": [
           {
            "colorbar": {
             "outlinewidth": 0,
             "ticks": ""
            },
            "colorscale": [
             [
              0,
              "#0d0887"
             ],
             [
              0.1111111111111111,
              "#46039f"
             ],
             [
              0.2222222222222222,
              "#7201a8"
             ],
             [
              0.3333333333333333,
              "#9c179e"
             ],
             [
              0.4444444444444444,
              "#bd3786"
             ],
             [
              0.5555555555555556,
              "#d8576b"
             ],
             [
              0.6666666666666666,
              "#ed7953"
             ],
             [
              0.7777777777777778,
              "#fb9f3a"
             ],
             [
              0.8888888888888888,
              "#fdca26"
             ],
             [
              1,
              "#f0f921"
             ]
            ],
            "type": "heatmap"
           }
          ],
          "heatmapgl": [
           {
            "colorbar": {
             "outlinewidth": 0,
             "ticks": ""
            },
            "colorscale": [
             [
              0,
              "#0d0887"
             ],
             [
              0.1111111111111111,
              "#46039f"
             ],
             [
              0.2222222222222222,
              "#7201a8"
             ],
             [
              0.3333333333333333,
              "#9c179e"
             ],
             [
              0.4444444444444444,
              "#bd3786"
             ],
             [
              0.5555555555555556,
              "#d8576b"
             ],
             [
              0.6666666666666666,
              "#ed7953"
             ],
             [
              0.7777777777777778,
              "#fb9f3a"
             ],
             [
              0.8888888888888888,
              "#fdca26"
             ],
             [
              1,
              "#f0f921"
             ]
            ],
            "type": "heatmapgl"
           }
          ],
          "histogram": [
           {
            "marker": {
             "pattern": {
              "fillmode": "overlay",
              "size": 10,
              "solidity": 0.2
             }
            },
            "type": "histogram"
           }
          ],
          "histogram2d": [
           {
            "colorbar": {
             "outlinewidth": 0,
             "ticks": ""
            },
            "colorscale": [
             [
              0,
              "#0d0887"
             ],
             [
              0.1111111111111111,
              "#46039f"
             ],
             [
              0.2222222222222222,
              "#7201a8"
             ],
             [
              0.3333333333333333,
              "#9c179e"
             ],
             [
              0.4444444444444444,
              "#bd3786"
             ],
             [
              0.5555555555555556,
              "#d8576b"
             ],
             [
              0.6666666666666666,
              "#ed7953"
             ],
             [
              0.7777777777777778,
              "#fb9f3a"
             ],
             [
              0.8888888888888888,
              "#fdca26"
             ],
             [
              1,
              "#f0f921"
             ]
            ],
            "type": "histogram2d"
           }
          ],
          "histogram2dcontour": [
           {
            "colorbar": {
             "outlinewidth": 0,
             "ticks": ""
            },
            "colorscale": [
             [
              0,
              "#0d0887"
             ],
             [
              0.1111111111111111,
              "#46039f"
             ],
             [
              0.2222222222222222,
              "#7201a8"
             ],
             [
              0.3333333333333333,
              "#9c179e"
             ],
             [
              0.4444444444444444,
              "#bd3786"
             ],
             [
              0.5555555555555556,
              "#d8576b"
             ],
             [
              0.6666666666666666,
              "#ed7953"
             ],
             [
              0.7777777777777778,
              "#fb9f3a"
             ],
             [
              0.8888888888888888,
              "#fdca26"
             ],
             [
              1,
              "#f0f921"
             ]
            ],
            "type": "histogram2dcontour"
           }
          ],
          "mesh3d": [
           {
            "colorbar": {
             "outlinewidth": 0,
             "ticks": ""
            },
            "type": "mesh3d"
           }
          ],
          "parcoords": [
           {
            "line": {
             "colorbar": {
              "outlinewidth": 0,
              "ticks": ""
             }
            },
            "type": "parcoords"
           }
          ],
          "pie": [
           {
            "automargin": true,
            "type": "pie"
           }
          ],
          "scatter": [
           {
            "fillpattern": {
             "fillmode": "overlay",
             "size": 10,
             "solidity": 0.2
            },
            "type": "scatter"
           }
          ],
          "scatter3d": [
           {
            "line": {
             "colorbar": {
              "outlinewidth": 0,
              "ticks": ""
             }
            },
            "marker": {
             "colorbar": {
              "outlinewidth": 0,
              "ticks": ""
             }
            },
            "type": "scatter3d"
           }
          ],
          "scattercarpet": [
           {
            "marker": {
             "colorbar": {
              "outlinewidth": 0,
              "ticks": ""
             }
            },
            "type": "scattercarpet"
           }
          ],
          "scattergeo": [
           {
            "marker": {
             "colorbar": {
              "outlinewidth": 0,
              "ticks": ""
             }
            },
            "type": "scattergeo"
           }
          ],
          "scattergl": [
           {
            "marker": {
             "colorbar": {
              "outlinewidth": 0,
              "ticks": ""
             }
            },
            "type": "scattergl"
           }
          ],
          "scattermapbox": [
           {
            "marker": {
             "colorbar": {
              "outlinewidth": 0,
              "ticks": ""
             }
            },
            "type": "scattermapbox"
           }
          ],
          "scatterpolar": [
           {
            "marker": {
             "colorbar": {
              "outlinewidth": 0,
              "ticks": ""
             }
            },
            "type": "scatterpolar"
           }
          ],
          "scatterpolargl": [
           {
            "marker": {
             "colorbar": {
              "outlinewidth": 0,
              "ticks": ""
             }
            },
            "type": "scatterpolargl"
           }
          ],
          "scatterternary": [
           {
            "marker": {
             "colorbar": {
              "outlinewidth": 0,
              "ticks": ""
             }
            },
            "type": "scatterternary"
           }
          ],
          "surface": [
           {
            "colorbar": {
             "outlinewidth": 0,
             "ticks": ""
            },
            "colorscale": [
             [
              0,
              "#0d0887"
             ],
             [
              0.1111111111111111,
              "#46039f"
             ],
             [
              0.2222222222222222,
              "#7201a8"
             ],
             [
              0.3333333333333333,
              "#9c179e"
             ],
             [
              0.4444444444444444,
              "#bd3786"
             ],
             [
              0.5555555555555556,
              "#d8576b"
             ],
             [
              0.6666666666666666,
              "#ed7953"
             ],
             [
              0.7777777777777778,
              "#fb9f3a"
             ],
             [
              0.8888888888888888,
              "#fdca26"
             ],
             [
              1,
              "#f0f921"
             ]
            ],
            "type": "surface"
           }
          ],
          "table": [
           {
            "cells": {
             "fill": {
              "color": "#EBF0F8"
             },
             "line": {
              "color": "white"
             }
            },
            "header": {
             "fill": {
              "color": "#C8D4E3"
             },
             "line": {
              "color": "white"
             }
            },
            "type": "table"
           }
          ]
         },
         "layout": {
          "annotationdefaults": {
           "arrowcolor": "#2a3f5f",
           "arrowhead": 0,
           "arrowwidth": 1
          },
          "autotypenumbers": "strict",
          "coloraxis": {
           "colorbar": {
            "outlinewidth": 0,
            "ticks": ""
           }
          },
          "colorscale": {
           "diverging": [
            [
             0,
             "#8e0152"
            ],
            [
             0.1,
             "#c51b7d"
            ],
            [
             0.2,
             "#de77ae"
            ],
            [
             0.3,
             "#f1b6da"
            ],
            [
             0.4,
             "#fde0ef"
            ],
            [
             0.5,
             "#f7f7f7"
            ],
            [
             0.6,
             "#e6f5d0"
            ],
            [
             0.7,
             "#b8e186"
            ],
            [
             0.8,
             "#7fbc41"
            ],
            [
             0.9,
             "#4d9221"
            ],
            [
             1,
             "#276419"
            ]
           ],
           "sequential": [
            [
             0,
             "#0d0887"
            ],
            [
             0.1111111111111111,
             "#46039f"
            ],
            [
             0.2222222222222222,
             "#7201a8"
            ],
            [
             0.3333333333333333,
             "#9c179e"
            ],
            [
             0.4444444444444444,
             "#bd3786"
            ],
            [
             0.5555555555555556,
             "#d8576b"
            ],
            [
             0.6666666666666666,
             "#ed7953"
            ],
            [
             0.7777777777777778,
             "#fb9f3a"
            ],
            [
             0.8888888888888888,
             "#fdca26"
            ],
            [
             1,
             "#f0f921"
            ]
           ],
           "sequentialminus": [
            [
             0,
             "#0d0887"
            ],
            [
             0.1111111111111111,
             "#46039f"
            ],
            [
             0.2222222222222222,
             "#7201a8"
            ],
            [
             0.3333333333333333,
             "#9c179e"
            ],
            [
             0.4444444444444444,
             "#bd3786"
            ],
            [
             0.5555555555555556,
             "#d8576b"
            ],
            [
             0.6666666666666666,
             "#ed7953"
            ],
            [
             0.7777777777777778,
             "#fb9f3a"
            ],
            [
             0.8888888888888888,
             "#fdca26"
            ],
            [
             1,
             "#f0f921"
            ]
           ]
          },
          "colorway": [
           "#636efa",
           "#EF553B",
           "#00cc96",
           "#ab63fa",
           "#FFA15A",
           "#19d3f3",
           "#FF6692",
           "#B6E880",
           "#FF97FF",
           "#FECB52"
          ],
          "font": {
           "color": "#2a3f5f"
          },
          "geo": {
           "bgcolor": "white",
           "lakecolor": "white",
           "landcolor": "#E5ECF6",
           "showlakes": true,
           "showland": true,
           "subunitcolor": "white"
          },
          "hoverlabel": {
           "align": "left"
          },
          "hovermode": "closest",
          "mapbox": {
           "style": "light"
          },
          "paper_bgcolor": "white",
          "plot_bgcolor": "#E5ECF6",
          "polar": {
           "angularaxis": {
            "gridcolor": "white",
            "linecolor": "white",
            "ticks": ""
           },
           "bgcolor": "#E5ECF6",
           "radialaxis": {
            "gridcolor": "white",
            "linecolor": "white",
            "ticks": ""
           }
          },
          "scene": {
           "xaxis": {
            "backgroundcolor": "#E5ECF6",
            "gridcolor": "white",
            "gridwidth": 2,
            "linecolor": "white",
            "showbackground": true,
            "ticks": "",
            "zerolinecolor": "white"
           },
           "yaxis": {
            "backgroundcolor": "#E5ECF6",
            "gridcolor": "white",
            "gridwidth": 2,
            "linecolor": "white",
            "showbackground": true,
            "ticks": "",
            "zerolinecolor": "white"
           },
           "zaxis": {
            "backgroundcolor": "#E5ECF6",
            "gridcolor": "white",
            "gridwidth": 2,
            "linecolor": "white",
            "showbackground": true,
            "ticks": "",
            "zerolinecolor": "white"
           }
          },
          "shapedefaults": {
           "line": {
            "color": "#2a3f5f"
           }
          },
          "ternary": {
           "aaxis": {
            "gridcolor": "white",
            "linecolor": "white",
            "ticks": ""
           },
           "baxis": {
            "gridcolor": "white",
            "linecolor": "white",
            "ticks": ""
           },
           "bgcolor": "#E5ECF6",
           "caxis": {
            "gridcolor": "white",
            "linecolor": "white",
            "ticks": ""
           }
          },
          "title": {
           "x": 0.05
          },
          "xaxis": {
           "automargin": true,
           "gridcolor": "white",
           "linecolor": "white",
           "ticks": "",
           "title": {
            "standoff": 15
           },
           "zerolinecolor": "white",
           "zerolinewidth": 2
          },
          "yaxis": {
           "automargin": true,
           "gridcolor": "white",
           "linecolor": "white",
           "ticks": "",
           "title": {
            "standoff": 15
           },
           "zerolinecolor": "white",
           "zerolinewidth": 2
          }
         }
        },
        "title": {
         "text": "Protocol TVL by Stablecoin - > $1M in Selected Tokens        <br><sup>Note: if the bar is 100% USDT, that means DefiLlama doesn't have splits by token</sup>"
        },
        "xaxis": {
         "anchor": "y",
         "categoryorder": "total descending",
         "domain": [
          0,
          1
         ],
         "title": {
          "text": "protocol"
         }
        },
        "yaxis": {
         "anchor": "x",
         "domain": [
          0,
          1
         ],
         "title": {
          "text": "usd_value"
         }
        }
       }
      }
     },
     "metadata": {},
     "output_type": "display_data"
    },
    {
     "data": {
      "application/vnd.plotly.v1+json": {
       "config": {
        "plotlyServerURL": "https://plot.ly"
       },
       "data": [
        {
         "domain": {
          "x": [
           0,
           1
          ],
          "y": [
           0,
           1
          ]
         },
         "hovertemplate": "protocol=%{label}<br>usd_value_millions=%{value}<extra></extra>",
         "labels": [
          "2pi-network",
          "aave-v3",
          "acryptos",
          "aelin",
          "alchemix",
          "angle",
          "arrakis-finance",
          "beefy",
          "beethoven-x",
          "boringdao",
          "cbridge",
          "clipper",
          "connext",
          "cryptex-finance",
          "curve",
          "defiedge",
          "dforce",
          "diamond-protocol",
          "elk",
          "flashstake",
          "fuji-dao",
          "gamma",
          "granary-finance",
          "hashflow",
          "homora-v2",
          "hop-protocol",
          "hundred-finance",
          "hyphen",
          "insuredao",
          "iron-bank",
          "kromatika",
          "kyberswap",
          "lemma",
          "llamapay",
          "lyra",
          "mean-finance",
          "nested",
          "nex",
          "ooki",
          "opx-finance",
          "perpetual-protocol",
          "pickle",
          "pika-protocol",
          "polynomial-protocol",
          "pooltogether",
          "powerbomb-finance",
          "premia",
          "radioshack",
          "reaper-farm",
          "relaychain",
          "revert-compoundor",
          "router-protocol",
          "rubicon",
          "saddle-finance",
          "sonne-finance",
          "stargate",
          "superfluid",
          "sushi-bentobox",
          "sushi-furo",
          "sushi-trident",
          "symphony-finance",
          "synapse",
          "tarot",
          "thales",
          "toros",
          "unidex",
          "uniswap-v3",
          "usd+",
          "velodrome",
          "wepiggy",
          "woofi",
          "woofi-earn",
          "xtoken",
          "xy-finance",
          "yearn-finance",
          "zipswap"
         ],
         "legendgroup": "",
         "name": "",
         "showlegend": true,
         "text": [
          "$0.76M",
          "$65.78M",
          "$0.51M",
          "$0.21M",
          "$0.16M",
          "$0.06M",
          "$0.81M",
          "$36.20M",
          "$16.59M",
          "$0.05M",
          "$3.27M",
          "$0.31M",
          "$2.55M",
          "$0.00M",
          "$28.26M",
          "$0.07M",
          "$7.77M",
          "$0.01M",
          "$0.00M",
          "$0.03M",
          "$0.00M",
          "$0.33M",
          "$0.25M",
          "$0.81M",
          "$1.59M",
          "$5.41M",
          "$15.58M",
          "$0.26M",
          "$0.20M",
          "$0.56M",
          "$0.06M",
          "$2.10M",
          "$0.03M",
          "$0.11M",
          "$11.89M",
          "$0.19M",
          "$0.04M",
          "$0.06M",
          "$0.01M",
          "$0.21M",
          "$17.05M",
          "$1.53M",
          "$8.63M",
          "$0.82M",
          "$31.67M",
          "$0.50M",
          "$0.40M",
          "$0.00M",
          "$15.13M",
          "$0.00M",
          "$1.63M",
          "$0.06M",
          "$3.65M",
          "$0.61M",
          "$11.61M",
          "$14.03M",
          "$0.01M",
          "$0.00M",
          "$0.00M",
          "$0.02M",
          "$0.00M",
          "$2.44M",
          "$1.11M",
          "$0.22M",
          "$4.86M",
          "$0.71M",
          "$12.13M",
          "$5.63M",
          "$34.65M",
          "$3.20M",
          "$0.05M",
          "$0.53M",
          "$0.29M",
          "$0.14M",
          "$0.12M",
          "$0.00M"
         ],
         "textinfo": "percent+label+text",
         "textposition": "inside",
         "type": "pie",
         "values": [
          0.7645693170599999,
          65.77630184294999,
          0.51377062737,
          0.21424321048,
          0.15717231426,
          0.06010117869,
          0.81005308943,
          36.20016228829,
          16.59487546134,
          0.04821305395,
          3.26578326475,
          0.31354480268999996,
          2.55297932331,
          0.00015574664,
          28.26468014763,
          0.07188134217,
          7.76589709172,
          0.0052504612699999995,
          0,
          0.03348169147,
          0.000006001559999999999,
          0.33450535818,
          0.25163801049,
          0.8054924116200001,
          1.5878678166000002,
          5.40830385231,
          15.57903981512,
          0.25582998444,
          0.20175955043,
          0.5574040334600001,
          0.05797773025,
          2.10186181848,
          0.027884606670000003,
          0.11460746383999999,
          11.88902222846,
          0.19355053437,
          0.038072318220000005,
          0.06108144503,
          0.00682994788,
          0.20985362913000002,
          17.04853874166,
          1.52616795932,
          8.63399185293,
          0.81672279303,
          31.672426222029998,
          0.49907240561,
          0.39701848877,
          0.00031893887,
          15.12868360951,
          0,
          1.63073856576,
          0.05904391148,
          3.648409763,
          0.6085355741999999,
          11.60788553277,
          14.02651503501,
          0.01009119905,
          0.00044098086000000003,
          0.0000012011999999999998,
          0.01687149382,
          0.00321451975,
          2.44101922434,
          1.1055665837700002,
          0.21981429391,
          4.8570615655,
          0.7145077694599999,
          12.129232836829999,
          5.63005170467,
          34.651588779629996,
          3.20293946861,
          0.04831573063,
          0.53467260363,
          0.28865589403,
          0.13865485814999998,
          0.12177589899,
          0.00003198454
         ]
        }
       ],
       "layout": {
        "legend": {
         "tracegroupgap": 0
        },
        "template": {
         "data": {
          "bar": [
           {
            "error_x": {
             "color": "#2a3f5f"
            },
            "error_y": {
             "color": "#2a3f5f"
            },
            "marker": {
             "line": {
              "color": "#E5ECF6",
              "width": 0.5
             },
             "pattern": {
              "fillmode": "overlay",
              "size": 10,
              "solidity": 0.2
             }
            },
            "type": "bar"
           }
          ],
          "barpolar": [
           {
            "marker": {
             "line": {
              "color": "#E5ECF6",
              "width": 0.5
             },
             "pattern": {
              "fillmode": "overlay",
              "size": 10,
              "solidity": 0.2
             }
            },
            "type": "barpolar"
           }
          ],
          "carpet": [
           {
            "aaxis": {
             "endlinecolor": "#2a3f5f",
             "gridcolor": "white",
             "linecolor": "white",
             "minorgridcolor": "white",
             "startlinecolor": "#2a3f5f"
            },
            "baxis": {
             "endlinecolor": "#2a3f5f",
             "gridcolor": "white",
             "linecolor": "white",
             "minorgridcolor": "white",
             "startlinecolor": "#2a3f5f"
            },
            "type": "carpet"
           }
          ],
          "choropleth": [
           {
            "colorbar": {
             "outlinewidth": 0,
             "ticks": ""
            },
            "type": "choropleth"
           }
          ],
          "contour": [
           {
            "colorbar": {
             "outlinewidth": 0,
             "ticks": ""
            },
            "colorscale": [
             [
              0,
              "#0d0887"
             ],
             [
              0.1111111111111111,
              "#46039f"
             ],
             [
              0.2222222222222222,
              "#7201a8"
             ],
             [
              0.3333333333333333,
              "#9c179e"
             ],
             [
              0.4444444444444444,
              "#bd3786"
             ],
             [
              0.5555555555555556,
              "#d8576b"
             ],
             [
              0.6666666666666666,
              "#ed7953"
             ],
             [
              0.7777777777777778,
              "#fb9f3a"
             ],
             [
              0.8888888888888888,
              "#fdca26"
             ],
             [
              1,
              "#f0f921"
             ]
            ],
            "type": "contour"
           }
          ],
          "contourcarpet": [
           {
            "colorbar": {
             "outlinewidth": 0,
             "ticks": ""
            },
            "type": "contourcarpet"
           }
          ],
          "heatmap": [
           {
            "colorbar": {
             "outlinewidth": 0,
             "ticks": ""
            },
            "colorscale": [
             [
              0,
              "#0d0887"
             ],
             [
              0.1111111111111111,
              "#46039f"
             ],
             [
              0.2222222222222222,
              "#7201a8"
             ],
             [
              0.3333333333333333,
              "#9c179e"
             ],
             [
              0.4444444444444444,
              "#bd3786"
             ],
             [
              0.5555555555555556,
              "#d8576b"
             ],
             [
              0.6666666666666666,
              "#ed7953"
             ],
             [
              0.7777777777777778,
              "#fb9f3a"
             ],
             [
              0.8888888888888888,
              "#fdca26"
             ],
             [
              1,
              "#f0f921"
             ]
            ],
            "type": "heatmap"
           }
          ],
          "heatmapgl": [
           {
            "colorbar": {
             "outlinewidth": 0,
             "ticks": ""
            },
            "colorscale": [
             [
              0,
              "#0d0887"
             ],
             [
              0.1111111111111111,
              "#46039f"
             ],
             [
              0.2222222222222222,
              "#7201a8"
             ],
             [
              0.3333333333333333,
              "#9c179e"
             ],
             [
              0.4444444444444444,
              "#bd3786"
             ],
             [
              0.5555555555555556,
              "#d8576b"
             ],
             [
              0.6666666666666666,
              "#ed7953"
             ],
             [
              0.7777777777777778,
              "#fb9f3a"
             ],
             [
              0.8888888888888888,
              "#fdca26"
             ],
             [
              1,
              "#f0f921"
             ]
            ],
            "type": "heatmapgl"
           }
          ],
          "histogram": [
           {
            "marker": {
             "pattern": {
              "fillmode": "overlay",
              "size": 10,
              "solidity": 0.2
             }
            },
            "type": "histogram"
           }
          ],
          "histogram2d": [
           {
            "colorbar": {
             "outlinewidth": 0,
             "ticks": ""
            },
            "colorscale": [
             [
              0,
              "#0d0887"
             ],
             [
              0.1111111111111111,
              "#46039f"
             ],
             [
              0.2222222222222222,
              "#7201a8"
             ],
             [
              0.3333333333333333,
              "#9c179e"
             ],
             [
              0.4444444444444444,
              "#bd3786"
             ],
             [
              0.5555555555555556,
              "#d8576b"
             ],
             [
              0.6666666666666666,
              "#ed7953"
             ],
             [
              0.7777777777777778,
              "#fb9f3a"
             ],
             [
              0.8888888888888888,
              "#fdca26"
             ],
             [
              1,
              "#f0f921"
             ]
            ],
            "type": "histogram2d"
           }
          ],
          "histogram2dcontour": [
           {
            "colorbar": {
             "outlinewidth": 0,
             "ticks": ""
            },
            "colorscale": [
             [
              0,
              "#0d0887"
             ],
             [
              0.1111111111111111,
              "#46039f"
             ],
             [
              0.2222222222222222,
              "#7201a8"
             ],
             [
              0.3333333333333333,
              "#9c179e"
             ],
             [
              0.4444444444444444,
              "#bd3786"
             ],
             [
              0.5555555555555556,
              "#d8576b"
             ],
             [
              0.6666666666666666,
              "#ed7953"
             ],
             [
              0.7777777777777778,
              "#fb9f3a"
             ],
             [
              0.8888888888888888,
              "#fdca26"
             ],
             [
              1,
              "#f0f921"
             ]
            ],
            "type": "histogram2dcontour"
           }
          ],
          "mesh3d": [
           {
            "colorbar": {
             "outlinewidth": 0,
             "ticks": ""
            },
            "type": "mesh3d"
           }
          ],
          "parcoords": [
           {
            "line": {
             "colorbar": {
              "outlinewidth": 0,
              "ticks": ""
             }
            },
            "type": "parcoords"
           }
          ],
          "pie": [
           {
            "automargin": true,
            "type": "pie"
           }
          ],
          "scatter": [
           {
            "fillpattern": {
             "fillmode": "overlay",
             "size": 10,
             "solidity": 0.2
            },
            "type": "scatter"
           }
          ],
          "scatter3d": [
           {
            "line": {
             "colorbar": {
              "outlinewidth": 0,
              "ticks": ""
             }
            },
            "marker": {
             "colorbar": {
              "outlinewidth": 0,
              "ticks": ""
             }
            },
            "type": "scatter3d"
           }
          ],
          "scattercarpet": [
           {
            "marker": {
             "colorbar": {
              "outlinewidth": 0,
              "ticks": ""
             }
            },
            "type": "scattercarpet"
           }
          ],
          "scattergeo": [
           {
            "marker": {
             "colorbar": {
              "outlinewidth": 0,
              "ticks": ""
             }
            },
            "type": "scattergeo"
           }
          ],
          "scattergl": [
           {
            "marker": {
             "colorbar": {
              "outlinewidth": 0,
              "ticks": ""
             }
            },
            "type": "scattergl"
           }
          ],
          "scattermapbox": [
           {
            "marker": {
             "colorbar": {
              "outlinewidth": 0,
              "ticks": ""
             }
            },
            "type": "scattermapbox"
           }
          ],
          "scatterpolar": [
           {
            "marker": {
             "colorbar": {
              "outlinewidth": 0,
              "ticks": ""
             }
            },
            "type": "scatterpolar"
           }
          ],
          "scatterpolargl": [
           {
            "marker": {
             "colorbar": {
              "outlinewidth": 0,
              "ticks": ""
             }
            },
            "type": "scatterpolargl"
           }
          ],
          "scatterternary": [
           {
            "marker": {
             "colorbar": {
              "outlinewidth": 0,
              "ticks": ""
             }
            },
            "type": "scatterternary"
           }
          ],
          "surface": [
           {
            "colorbar": {
             "outlinewidth": 0,
             "ticks": ""
            },
            "colorscale": [
             [
              0,
              "#0d0887"
             ],
             [
              0.1111111111111111,
              "#46039f"
             ],
             [
              0.2222222222222222,
              "#7201a8"
             ],
             [
              0.3333333333333333,
              "#9c179e"
             ],
             [
              0.4444444444444444,
              "#bd3786"
             ],
             [
              0.5555555555555556,
              "#d8576b"
             ],
             [
              0.6666666666666666,
              "#ed7953"
             ],
             [
              0.7777777777777778,
              "#fb9f3a"
             ],
             [
              0.8888888888888888,
              "#fdca26"
             ],
             [
              1,
              "#f0f921"
             ]
            ],
            "type": "surface"
           }
          ],
          "table": [
           {
            "cells": {
             "fill": {
              "color": "#EBF0F8"
             },
             "line": {
              "color": "white"
             }
            },
            "header": {
             "fill": {
              "color": "#C8D4E3"
             },
             "line": {
              "color": "white"
             }
            },
            "type": "table"
           }
          ]
         },
         "layout": {
          "annotationdefaults": {
           "arrowcolor": "#2a3f5f",
           "arrowhead": 0,
           "arrowwidth": 1
          },
          "autotypenumbers": "strict",
          "coloraxis": {
           "colorbar": {
            "outlinewidth": 0,
            "ticks": ""
           }
          },
          "colorscale": {
           "diverging": [
            [
             0,
             "#8e0152"
            ],
            [
             0.1,
             "#c51b7d"
            ],
            [
             0.2,
             "#de77ae"
            ],
            [
             0.3,
             "#f1b6da"
            ],
            [
             0.4,
             "#fde0ef"
            ],
            [
             0.5,
             "#f7f7f7"
            ],
            [
             0.6,
             "#e6f5d0"
            ],
            [
             0.7,
             "#b8e186"
            ],
            [
             0.8,
             "#7fbc41"
            ],
            [
             0.9,
             "#4d9221"
            ],
            [
             1,
             "#276419"
            ]
           ],
           "sequential": [
            [
             0,
             "#0d0887"
            ],
            [
             0.1111111111111111,
             "#46039f"
            ],
            [
             0.2222222222222222,
             "#7201a8"
            ],
            [
             0.3333333333333333,
             "#9c179e"
            ],
            [
             0.4444444444444444,
             "#bd3786"
            ],
            [
             0.5555555555555556,
             "#d8576b"
            ],
            [
             0.6666666666666666,
             "#ed7953"
            ],
            [
             0.7777777777777778,
             "#fb9f3a"
            ],
            [
             0.8888888888888888,
             "#fdca26"
            ],
            [
             1,
             "#f0f921"
            ]
           ],
           "sequentialminus": [
            [
             0,
             "#0d0887"
            ],
            [
             0.1111111111111111,
             "#46039f"
            ],
            [
             0.2222222222222222,
             "#7201a8"
            ],
            [
             0.3333333333333333,
             "#9c179e"
            ],
            [
             0.4444444444444444,
             "#bd3786"
            ],
            [
             0.5555555555555556,
             "#d8576b"
            ],
            [
             0.6666666666666666,
             "#ed7953"
            ],
            [
             0.7777777777777778,
             "#fb9f3a"
            ],
            [
             0.8888888888888888,
             "#fdca26"
            ],
            [
             1,
             "#f0f921"
            ]
           ]
          },
          "colorway": [
           "#636efa",
           "#EF553B",
           "#00cc96",
           "#ab63fa",
           "#FFA15A",
           "#19d3f3",
           "#FF6692",
           "#B6E880",
           "#FF97FF",
           "#FECB52"
          ],
          "font": {
           "color": "#2a3f5f"
          },
          "geo": {
           "bgcolor": "white",
           "lakecolor": "white",
           "landcolor": "#E5ECF6",
           "showlakes": true,
           "showland": true,
           "subunitcolor": "white"
          },
          "hoverlabel": {
           "align": "left"
          },
          "hovermode": "closest",
          "mapbox": {
           "style": "light"
          },
          "paper_bgcolor": "white",
          "plot_bgcolor": "#E5ECF6",
          "polar": {
           "angularaxis": {
            "gridcolor": "white",
            "linecolor": "white",
            "ticks": ""
           },
           "bgcolor": "#E5ECF6",
           "radialaxis": {
            "gridcolor": "white",
            "linecolor": "white",
            "ticks": ""
           }
          },
          "scene": {
           "xaxis": {
            "backgroundcolor": "#E5ECF6",
            "gridcolor": "white",
            "gridwidth": 2,
            "linecolor": "white",
            "showbackground": true,
            "ticks": "",
            "zerolinecolor": "white"
           },
           "yaxis": {
            "backgroundcolor": "#E5ECF6",
            "gridcolor": "white",
            "gridwidth": 2,
            "linecolor": "white",
            "showbackground": true,
            "ticks": "",
            "zerolinecolor": "white"
           },
           "zaxis": {
            "backgroundcolor": "#E5ECF6",
            "gridcolor": "white",
            "gridwidth": 2,
            "linecolor": "white",
            "showbackground": true,
            "ticks": "",
            "zerolinecolor": "white"
           }
          },
          "shapedefaults": {
           "line": {
            "color": "#2a3f5f"
           }
          },
          "ternary": {
           "aaxis": {
            "gridcolor": "white",
            "linecolor": "white",
            "ticks": ""
           },
           "baxis": {
            "gridcolor": "white",
            "linecolor": "white",
            "ticks": ""
           },
           "bgcolor": "#E5ECF6",
           "caxis": {
            "gridcolor": "white",
            "linecolor": "white",
            "ticks": ""
           }
          },
          "title": {
           "x": 0.05
          },
          "xaxis": {
           "automargin": true,
           "gridcolor": "white",
           "linecolor": "white",
           "ticks": "",
           "title": {
            "standoff": 15
           },
           "zerolinecolor": "white",
           "zerolinewidth": 2
          },
          "yaxis": {
           "automargin": true,
           "gridcolor": "white",
           "linecolor": "white",
           "ticks": "",
           "title": {
            "standoff": 15
           },
           "zerolinecolor": "white",
           "zerolinewidth": 2
          }
         }
        },
        "title": {
         "text": "Share of Stablecoins by Protocol | USDC, USDT, DAI, SUSD, LUSD, FRAX"
        }
       }
      }
     },
     "metadata": {},
     "output_type": "display_data"
    }
   ],
   "source": [
    "# stable_sum['usd_value_millions'] = stable_sum['usd_value_millions'].map(\"${:,.2f}M\".format)\n",
    "chart_pds_latest = pds_latest[pds_latest['total_token_tvl']>1e6]\n",
    "fig = px.bar(chart_pds_latest, x=\"protocol\", y=\"usd_value\", color=\"token\", title=\"Protocol TVL by Stablecoin - > $1M in Selected Tokens\\\n",
    "        <br><sup>Note: if the bar is 100% USDT, that means DefiLlama doesn't have splits by token</sup>\")\n",
    "fig.update_layout(barmode='stack', xaxis={'categoryorder': 'total descending'})\n",
    "fig.show()\n",
    "\n",
    "fig_pie = px.pie(stable_sum, values='usd_value_millions', names='protocol', title='Share of Stablecoins by Protocol | '+tokens_str)\n",
    "fig_pie.update_traces(textposition='inside', \n",
    "                        text = stable_sum['usd_value_millions'].map(\"${:,.2f}M\".format),\n",
    "                        textinfo='percent+label+text')\n",
    "fig_pie.show()"
   ]
  }
 ],
 "metadata": {
  "kernelspec": {
   "display_name": "new-env",
   "language": "python",
   "name": "python3"
  },
  "language_info": {
   "codemirror_mode": {
    "name": "ipython",
    "version": 3
   },
   "file_extension": ".py",
   "mimetype": "text/x-python",
   "name": "python",
   "nbconvert_exporter": "python",
   "pygments_lexer": "ipython3",
   "version": "3.10.8 (main, Nov 24 2022, 08:09:04) [Clang 14.0.6 ]"
  },
  "orig_nbformat": 4,
  "vscode": {
   "interpreter": {
    "hash": "7d537a1638226190f579d6fbb68604c1b09ebc740a69df557abedb49ad78e592"
   }
  }
 },
 "nbformat": 4,
 "nbformat_minor": 2
}
