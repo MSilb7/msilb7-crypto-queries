{
 "cells": [
  {
   "cell_type": "code",
   "execution_count": null,
   "id": "9104321f",
   "metadata": {},
   "outputs": [],
   "source": [
    "# ! pip install pandas\n",
    "# ! pip install requests\n",
    "# ! pip install plotly\n",
    "# ! pip install datetime\n",
    "# ! pip install os\n",
    "# ! pip freeze = requirements.txt"
   ]
  },
  {
   "cell_type": "code",
   "execution_count": null,
   "id": "ffefb42a",
   "metadata": {},
   "outputs": [],
   "source": [
    "import pandas as pd\n",
    "import requests as r\n",
    "import plotly.express as px\n",
    "import plotly.graph_objects as go\n",
    "from datetime import datetime, timedelta\n",
    "import numpy as np\n",
    "import os\n",
    "import time"
   ]
  },
  {
   "cell_type": "code",
   "execution_count": null,
   "id": "1015ba20",
   "metadata": {},
   "outputs": [],
   "source": [
    "pwd = os.getcwd()\n",
    "if 'L2 TVL' in pwd:\n",
    "    prepend = ''\n",
    "else:\n",
    "    prepend = 'L2 TVL/'"
   ]
  },
  {
   "cell_type": "code",
   "execution_count": null,
   "id": "d3399236",
   "metadata": {},
   "outputs": [],
   "source": [
    "\n",
    "api_str = 'https://api.llama.fi/protocol/'\n",
    "\n",
    "# Protocol Incentive Start Dates\n",
    "# NOTE: This should be when the in-app incentives began, not any external incentives (i.e. DEX pools)\n",
    "protocols = [\n",
    "    # name, incentive start date\n",
    "         ['velodrome',          '2022-07-13']\n",
    "        ,['pooltogether',       '2022-07-14']\n",
    "        ,['lyra',               '2022-08-02']\n",
    "        ,['rubicon',            '2022-07-15']\n",
    "        ,['perpetual-protocol', '2022-07-14']\n",
    "        ,['thales',             '2022-07-14'] #TVL not relevant\n",
    "        ,['aave-v3',            '2022-08-04']\n",
    "        ,['wepiggy',            '2022-08-03']\n",
    "        ,['stargate',           '2022-08-05']\n",
    "        ,['pika-protocol',      '2022-08-29']\n",
    "        ,['synthetix',          '2022-08-25'] #This is when Curve incentives started, so not really 1:1\n",
    "        ,['pickle',             '2022-09-09']\n",
    "        ,['aelin',              '2022-09-12']\n",
    "        ,['polynomial-protocol','2022-09-14']\n",
    "        ,['xtoken',             '2022-09-19']\n",
    "        ,['hop-protocol',       '2022-09-22']\n",
    "        ,['beethoven-x',        '2022-09-29']\n",
    "        ,['uniswap-v3',         '2022-10-26']\n",
    "        ,['arrakis-finance',    '2022-10-26']\n",
    "        ,['gamma',              '2022-10-26']\n",
    "        ,['revert-compoundor',  '2022-11-03']\n",
    "        ]\n",
    "# print(protocols[0])\n",
    "prod = []\n",
    "s = r.Session()\n",
    "\n",
    "for prot in protocols:\n",
    "    print(api_str + prot[0])\n",
    "    try:\n",
    "        tp = s.get(api_str + prot[0]).json()['chainTvls']['Optimism']\n",
    "        ad = pd.json_normalize( tp['tokens'] )\n",
    "        ad_usd = pd.json_normalize( tp['tokensInUsd'] )\n",
    "        if not ad.empty:\n",
    "            ad = pd.melt(ad,id_vars = ['date'])\n",
    "            ad = ad.rename(columns={'variable':'token','value':'token_value'})\n",
    "            ad_usd = pd.melt(ad_usd,id_vars = ['date'])\n",
    "            ad_usd = ad_usd.rename(columns={'variable':'token','value':'usd_value'})\n",
    "            ad = ad.merge(ad_usd,on=['date','token'])\n",
    "            \n",
    "            ad['date'] = pd.to_datetime(ad['date'], unit ='s') #convert to days\n",
    "\n",
    "            ad['token'] = ad['token'].str.replace('tokens.','', regex=False)\n",
    "            ad['protocol'] = prot[0]\n",
    "            ad['start_date'] = pd.to_datetime(prot[1])\n",
    "            # ad['date'] = ad['date'] - timedelta(days=1) #change to eod vs sod\n",
    "            prod.append(ad)\n",
    "            time.sleep(0.5)\n",
    "    except:\n",
    "        continue\n",
    "\n",
    "df_df = pd.concat(prod)"
   ]
  },
  {
   "cell_type": "code",
   "execution_count": null,
   "id": "d5ccb210",
   "metadata": {},
   "outputs": [],
   "source": [
    "# df_df\n",
    "df_df = df_df.fillna(0)\n",
    "# display(df_df)\n",
    "# for prot in protocols:\n",
    "#         print( prot[0] )"
   ]
  },
  {
   "cell_type": "code",
   "execution_count": null,
   "id": "8f9eb8e5",
   "metadata": {},
   "outputs": [],
   "source": [
    "data_df = df_df.copy()#merge(cg_df, on=['date','token'],how='inner')\n",
    "\n",
    "data_df = data_df[data_df['token_value'] > 0]\n",
    "\n",
    "data_df.sort_values(by='date',inplace=True)\n",
    "data_df['token_value'] = data_df['token_value'].replace(0, np.nan)\n",
    "data_df['price_usd'] = data_df['usd_value']/data_df['token_value']\n",
    "\n",
    "data_df['rank_desc'] = data_df.groupby(['protocol', 'token'])['date'].\\\n",
    "                            rank(method='dense',ascending=False).astype(int)\n",
    "\n",
    "data_df.sort_values(by='date',inplace=True)\n",
    "\n",
    "last_df = data_df[data_df['rank_desc'] == 1]\n",
    "last_df = last_df.rename(columns={'price_usd':'last_price_usd'})\n",
    "last_df = last_df[['token','protocol','last_price_usd']]\n",
    "# display(last_df)"
   ]
  },
  {
   "cell_type": "code",
   "execution_count": null,
   "id": "97ea7ceb",
   "metadata": {},
   "outputs": [],
   "source": [
    "data_df = data_df.merge(last_df, on=['token','protocol'], how='left')\n",
    "\n",
    "data_df['last_token_value'] = data_df.groupby(['token','protocol'])['token_value'].shift(1)\n",
    "data_df['last_price_usd'] = data_df.groupby(['token','protocol'])['price_usd'].shift(1)\n",
    "data_df['last_token_value'] = data_df['last_token_value'].fillna(0)\n",
    "\n",
    "data_df['net_token_flow'] = data_df['token_value'] - data_df['last_token_value']\n",
    "data_df['net_price_change'] = data_df['price_usd'] - data_df['last_price_usd']\n",
    "\n",
    "data_df['net_dollar_flow'] = data_df['net_token_flow'] * data_df['price_usd']\n",
    "data_df['last_price_flow'] = data_df['net_token_flow'] * data_df['last_price_usd']\n",
    "\n",
    "data_df['net_price_stock_change'] = data_df['last_token_value'] * data_df['net_price_change']\n",
    "\n",
    "\n",
    "# display(data_df)"
   ]
  },
  {
   "cell_type": "code",
   "execution_count": null,
   "id": "d1ae7150",
   "metadata": {},
   "outputs": [],
   "source": [
    "# data_df[data_df['protocol']=='perpetual-protocol'].sort_values(by='date')\n",
    "data_df.tail()\n",
    "# data_df[(data_df['protocol'] == 'pooltogether') & (data_df['date'] >= '2022-10-06') & (data_df['date'] <= '2022-10-12')].tail(10)"
   ]
  },
  {
   "cell_type": "code",
   "execution_count": null,
   "id": "59f3f879",
   "metadata": {},
   "outputs": [],
   "source": [
    "netdf_df = data_df[data_df['date']>= data_df['start_date']][['date','protocol','net_dollar_flow','net_price_stock_change','last_price_flow','usd_value']]\n",
    "\n",
    "\n",
    "netdf_df = netdf_df.groupby(['date','protocol']).sum(['net_dollar_flow','net_price_stock_change','last_price_flow','usd_value'])\n",
    "\n",
    "\n",
    "netdf_df['tvl_change'] = netdf_df['usd_value'] - netdf_df.groupby(['protocol'])['usd_value'].shift(1)\n",
    "netdf_df['error'] = netdf_df['tvl_change'] - (netdf_df['net_dollar_flow'] + netdf_df['net_price_stock_change'])\n",
    "\n",
    "\n",
    "netdf_df['cumul_net_dollar_flow'] = netdf_df['net_dollar_flow'].groupby(['protocol']).cumsum()\n",
    "netdf_df['cumul_last_price_net_dollar_flow'] = netdf_df['last_price_flow'].groupby(['protocol']).cumsum()\n",
    "netdf_df['cumul_net_price_stock_change'] = netdf_df['net_price_stock_change'].groupby(['protocol']).cumsum()\n",
    "netdf_df.reset_index(inplace=True)\n"
   ]
  },
  {
   "cell_type": "code",
   "execution_count": null,
   "id": "fb142e82",
   "metadata": {},
   "outputs": [],
   "source": [
    "netdf_df[(netdf_df['date'] >= '2022-10-06') & (netdf_df['date'] <= '2022-10-12')].tail(10)"
   ]
  },
  {
   "cell_type": "code",
   "execution_count": null,
   "id": "546e13b8",
   "metadata": {},
   "outputs": [],
   "source": [
    "fig = px.line(netdf_df, x=\"date\", y=\"net_dollar_flow\", color=\"protocol\", \\\n",
    "             title=\"Daily Net Dollar Flow since Program Announcement\",\\\n",
    "            labels={\n",
    "                     \"date\": \"Day\",\n",
    "                     \"net_dollar_flow\": \"Net Dollar Flow (N$F)\"\n",
    "                 }\n",
    "            )\n",
    "fig.update_layout(\n",
    "    legend_title=\"App Name\"\n",
    ")\n",
    "fig.update_layout(yaxis_tickprefix = '$')\n",
    "fig.write_image(prepend + \"img_outputs/svg/daily_ndf.svg\")\n",
    "fig.write_image(prepend + \"img_outputs/png/daily_ndf.png\")\n",
    "fig.write_html(prepend + \"img_outputs/daily_ndf.html\", include_plotlyjs='cdn')\n",
    "\n",
    "# cumul_fig = px.area(netdf_df, x=\"date\", y=\"cumul_net_dollar_flow\", color=\"protocol\", \\\n",
    "#              title=\"Cumulative Dollar Flow since Program Announcement\",\\\n",
    "#                    labels={\n",
    "#                      \"date\": \"Day\",\n",
    "#                      \"cumul_net_dollar_flow\": \"Cumulative Net Dollar Flow (N$F)\"\n",
    "#                  }\n",
    "#             ,areamode='group')\n",
    "# cumul_fig.update_layout(yaxis_tickprefix = '$')\n",
    "# cumul_fig.show()\n",
    "\n",
    "\n",
    "cumul_fig = go.Figure()\n",
    "proto_names = netdf_df['protocol'].drop_duplicates()\n",
    "print(proto_names)\n",
    "for p in proto_names:\n",
    "    cumul_fig.add_trace(go.Scatter(x=netdf_df[netdf_df['protocol'] == p]['date'] \\\n",
    "                                   , y=netdf_df[netdf_df['protocol'] == p]['cumul_net_dollar_flow'] \\\n",
    "                                    ,name = p\\\n",
    "                                  ,fill='tozeroy')) # fill down to xaxis\n",
    "\n",
    "cumul_fig.update_layout(yaxis_tickprefix = '$')\n",
    "cumul_fig.update_layout(\n",
    "    title=\"Cumulative Net Dollar Flow since Program Announcement\",\n",
    "    xaxis_title=\"Day\",\n",
    "    yaxis_title=\"Cumulative Net Dollar Flow (N$F)\",\n",
    "    legend_title=\"App Name\",\n",
    "#     color_discrete_map=px.colors.qualitative.G10\n",
    ")\n",
    "cumul_fig.write_image(prepend + \"img_outputs/svg/cumul_ndf.svg\") #prepend + \n",
    "cumul_fig.write_image(prepend + \"img_outputs/png/cumul_ndf.png\") #prepend + \n",
    "cumul_fig.write_html(prepend + \"img_outputs/cumul_ndf.html\", include_plotlyjs='cdn')\n",
    "\n",
    "\n",
    "fig_last = go.Figure()\n",
    "proto_names = netdf_df['protocol'].drop_duplicates()\n",
    "# print(proto_names)\n",
    "for p in proto_names:\n",
    "    fig_last.add_trace(go.Scatter(x=netdf_df[netdf_df['protocol'] == p]['date'] \\\n",
    "                                   , y=netdf_df[netdf_df['protocol'] == p]['cumul_last_price_net_dollar_flow'] \\\n",
    "                                    ,name = p\\\n",
    "                                  ,fill='tozeroy')) # fill down to xaxis\n",
    "\n",
    "fig_last.update_layout(yaxis_tickprefix = '$')\n",
    "fig_last.update_layout(\n",
    "    title=\"Cumulative Net Dollar Flow since Program Announcement (At Most Recent Token Price)\",\n",
    "    xaxis_title=\"Day\",\n",
    "    yaxis_title=\"Cumulative Net Dollar Flow (N$F) - At Most Recent Price\",\n",
    "    legend_title=\"App Name\",\n",
    "#     color_discrete_map=px.colors.qualitative.G10\n",
    ")\n",
    "fig_last.write_image(prepend + \"img_outputs/svg/cumul_ndf_last_price.svg\")\n",
    "fig_last.write_image(prepend + \"img_outputs/png/cumul_ndf_last_price.png\")\n",
    "fig_last.write_html(prepend + \"img_outputs/cumul_ndf_last_price.html\", include_plotlyjs='cdn')\n",
    "# cumul_fig.show()\n"
   ]
  },
  {
   "cell_type": "code",
   "execution_count": null,
   "id": "bc60f2fa",
   "metadata": {},
   "outputs": [],
   "source": [
    "# fig.show()\n",
    "# cumul_fig.show()\n",
    "print(\"yay\")"
   ]
  },
  {
   "cell_type": "code",
   "execution_count": 1,
   "id": "def0cbf6",
   "metadata": {},
   "outputs": [
    {
     "name": "stdout",
     "output_type": "stream",
     "text": [
      "[NbConvertApp] Converting notebook optimism_app_net_flows.ipynb to python\n",
      "[NbConvertApp] Writing 8814 bytes to optimism_app_net_flows.py\n"
     ]
    }
   ],
   "source": [
    "# ! jupyter nbconvert --to python optimism_app_net_flows.ipynb"
   ]
  }
 ],
 "metadata": {
  "kernelspec": {
   "display_name": "Python 3 (ipykernel)",
   "language": "python",
   "name": "python3"
  },
  "language_info": {
   "codemirror_mode": {
    "name": "ipython",
    "version": 3
   },
   "file_extension": ".py",
   "mimetype": "text/x-python",
   "name": "python",
   "nbconvert_exporter": "python",
   "pygments_lexer": "ipython3",
   "version": "3.10.6"
  },
  "vscode": {
   "interpreter": {
    "hash": "17c021eea7371cec353b12daa8dd7517ddfe82cfa4c2626e1e7d1541ccab7c49"
   }
  }
 },
 "nbformat": 4,
 "nbformat_minor": 5
}
