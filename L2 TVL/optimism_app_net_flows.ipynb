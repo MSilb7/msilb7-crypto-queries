{
 "cells": [
  {
   "cell_type": "code",
   "execution_count": null,
   "id": "ffefb42a",
   "metadata": {},
   "outputs": [],
   "source": [
    "import pandas as pd\n",
    "import requests as r\n",
    "import plotly.express as px\n",
    "import plotly.graph_objects as go\n",
    "from datetime import datetime, timedelta"
   ]
  },
  {
   "cell_type": "code",
   "execution_count": null,
   "id": "d3399236",
   "metadata": {},
   "outputs": [],
   "source": [
    "api_str = 'https://api.llama.fi/protocol/'\n",
    "\n",
    "protocols = [\n",
    "    # name, incentive start date\n",
    "         ['velodrome','2022-07-13']\n",
    "        ,['pooltogether','2022-07-14']\n",
    "        ,['lyra','2022-08-02']\n",
    "        ,['rubicon','2022-07-15']\n",
    "        ,['perpetual-protocol','2022-07-14']\n",
    "        ,['thales','2022-07-14'] #TVL not relevant\n",
    "        ,['aave-v3','2022-08-04']\n",
    "        ,['wepiggy','2022-08-03']\n",
    "        ,['stargate','2022-08-05']\n",
    "        ]\n",
    "# print(protocols[0])\n",
    "prod = []\n",
    "for prot in protocols:\n",
    "    ad = pd.json_normalize( r.get(api_str + prot[0]).json()['chainTvls']['Optimism']['tokens'] )\n",
    "    ad['date'] = pd.to_datetime(ad['date'], unit ='s') #convert to days\n",
    "    ad = pd.melt(ad,id_vars = ['date'])\n",
    "    ad = ad.rename(columns={'variable':'token'})\n",
    "    ad['token'] = ad['token'].str.replace('tokens.','')\n",
    "    ad['protocol'] = prot[0]\n",
    "    ad['start_date'] = pd.to_datetime(prot[1])\n",
    "    ad['date'] = ad['date'] - timedelta(days=1) #change to eod vs sod\n",
    "    prod.append(ad)\n",
    "\n",
    "df_df = pd.concat(prod)\n",
    "df_df"
   ]
  },
  {
   "cell_type": "code",
   "execution_count": null,
   "id": "53c381e8",
   "metadata": {},
   "outputs": [],
   "source": [
    "# df_df[df_df['protocol']=='perpetual-protocol']\n"
   ]
  },
  {
   "cell_type": "code",
   "execution_count": null,
   "id": "428aa2ff",
   "metadata": {},
   "outputs": [],
   "source": [
    "#defillama api feedback - only token symbols come through, makes it hard to map w/o doing it manually\n",
    "coingecko_token_map = [\n",
    "    ['LINK','chainlink']\n",
    "    ,['USDT','tether']\n",
    "    ,['USDC','usd-coin']\n",
    "    ,['WETH','weth']\n",
    "    ,['SUSD','nusd']\n",
    "    ,['DAI','dai']\n",
    "    ,['AAVE','aave']\n",
    "    ,['WBTC','wrapped-bitcoin']\n",
    "    ,['SNX','havven']\n",
    "    ,['OP','optimism']\n",
    "    ,['SETH','seth']\n",
    "    ,['FXS','frax-share']\n",
    "    ,['THALES','thales']\n",
    "    ,['FRAX','frax']\n",
    "    ,['ALUSD','alchemix-usd']\n",
    "    ,['PERP','perpetual-protocol']\n",
    "    ,['LUSD','liquity-usd']\n",
    "    ,['LYRA','lyra-finance']\n",
    "    ,['HND','hundred-finance']\n",
    "    ,['BITANT','bitant']\n",
    "    ,['UNI','uniswap']\n",
    "    ,['SLINK','slink']\n",
    "    ,['VELO','velodrome-finance']\n",
    "    ,['DOLA','dola-usd']\n",
    "    ,['CRV','curve-dao-token']\n",
    "    ,['SBTC','sbtc']\n",
    "    ,['KROM','kromatika']\n",
    "    ,['DF','dforce-token']\n",
    "    ,['STG','stargate-finance']\n",
    "    ,['AELIN','aelin']\n",
    "    ,['RAI','rai']\n",
    "    ,['RETH','rocket-pool-eth']\n",
    "]"
   ]
  },
  {
   "cell_type": "code",
   "execution_count": null,
   "id": "d277a590",
   "metadata": {},
   "outputs": [],
   "source": [
    "cg_token_list = [i[0] for i in coingecko_token_map]"
   ]
  },
  {
   "cell_type": "code",
   "execution_count": null,
   "id": "840e7c2d",
   "metadata": {},
   "outputs": [],
   "source": [
    "# DISTINCT TOKENS\n",
    "\n",
    "token_list = df_df[['token']].drop_duplicates()\n",
    "missing_token_list = token_list[~token_list['token'].isin(cg_token_list)]\n",
    "missing_token_list"
   ]
  },
  {
   "cell_type": "code",
   "execution_count": null,
   "id": "2e220ab6",
   "metadata": {},
   "outputs": [],
   "source": [
    "\n",
    "cg_pds = []\n",
    "for t in coingecko_token_map:\n",
    "    cg_api = 'https://api.coingecko.com/api/v3/coins/'\\\n",
    "            + t[1] + '/market_chart?vs_currency=usd&days=max&interval=daily'\n",
    "    pr = pd.DataFrame( r.get(cg_api).json()['prices'] )\n",
    "    pr['token'] = t[0]\n",
    "    pr['cg_slug'] = t[1]\n",
    "    pr = pr.rename(columns={0:'date',1:'price_usd'})\n",
    "    pr['date'] = pd.to_datetime(pr['date'], unit ='ms') #convert to days\n",
    "    cg_pds.append(pr)\n",
    "\n",
    "cg_df = pd.concat(cg_pds)\n",
    "# cg_df"
   ]
  },
  {
   "cell_type": "code",
   "execution_count": null,
   "id": "8f9eb8e5",
   "metadata": {},
   "outputs": [],
   "source": [
    "data_df = df_df.merge(cg_df, on=['date','token'],how='inner')\n",
    "data_df.sort_values(by='date',inplace=True)\n",
    "data_df['net_token_flow'] = data_df.groupby(['token','protocol','start_date'])['value'].apply(lambda x: x- x.shift(1))\n",
    "data_df['net_dollar_flow'] = data_df['net_token_flow'] * data_df['price_usd']\n",
    "\n",
    "data_df"
   ]
  },
  {
   "cell_type": "code",
   "execution_count": null,
   "id": "d1ae7150",
   "metadata": {},
   "outputs": [],
   "source": [
    "data_df[data_df['protocol']=='perpetual-protocol'].sort_values(by='date')\n"
   ]
  },
  {
   "cell_type": "code",
   "execution_count": null,
   "id": "59f3f879",
   "metadata": {},
   "outputs": [],
   "source": [
    "netdf_df = data_df[data_df['date']>= data_df['start_date']][['date','protocol','net_dollar_flow']]\n",
    "netdf_df = netdf_df.groupby(['date','protocol']).sum(['net_dollar_flow'])\n",
    "netdf_df['cumul_net_dollar_flow'] = netdf_df.groupby(['protocol']).cumsum()\n",
    "netdf_df.reset_index(inplace=True)\n",
    "\n",
    "netdf_df"
   ]
  },
  {
   "cell_type": "code",
   "execution_count": null,
   "id": "546e13b8",
   "metadata": {},
   "outputs": [],
   "source": [
    "fig = px.line(netdf_df, x=\"date\", y=\"net_dollar_flow\", color=\"protocol\", \\\n",
    "             title=\"Daily Net Dollar Flow since Program Announcement\",\\\n",
    "            labels={\n",
    "                     \"date\": \"Day\",\n",
    "                     \"net_dollar_flow\": \"Net Dollar Flow (N$F)\"\n",
    "                 }\n",
    "            )\n",
    "fig.update_layout(\n",
    "    legend_title=\"App Name\"\n",
    ")\n",
    "fig.update_layout(yaxis_tickprefix = '$')\n",
    "fig.write_image(\"img_outputs/svg/daily_ndf.svg\")\n",
    "fig.write_image(\"img_outputs/png/daily_ndf.png\")\n",
    "\n",
    "# cumul_fig = px.area(netdf_df, x=\"date\", y=\"cumul_net_dollar_flow\", color=\"protocol\", \\\n",
    "#              title=\"Cumulative Dollar Flow since Program Announcement\",\\\n",
    "#                    labels={\n",
    "#                      \"date\": \"Day\",\n",
    "#                      \"cumul_net_dollar_flow\": \"Cumulative Net Dollar Flow (N$F)\"\n",
    "#                  }\n",
    "#             ,areamode='group')\n",
    "# cumul_fig.update_layout(yaxis_tickprefix = '$')\n",
    "# cumul_fig.show()\n",
    "\n",
    "\n",
    "cumul_fig = go.Figure()\n",
    "proto_names = netdf_df['protocol'].drop_duplicates()\n",
    "print(proto_names)\n",
    "for p in proto_names:\n",
    "    cumul_fig.add_trace(go.Scatter(x=netdf_df[netdf_df['protocol'] == p]['date'] \\\n",
    "                                   , y=netdf_df[netdf_df['protocol'] == p]['cumul_net_dollar_flow'] \\\n",
    "                                    ,name = p\\\n",
    "                                  ,fill='tozeroy')) # fill down to xaxis\n",
    "\n",
    "cumul_fig.update_layout(yaxis_tickprefix = '$')\n",
    "cumul_fig.update_layout(\n",
    "    title=\"Cumulative Dollar Flow since Program Announcement\",\n",
    "    xaxis_title=\"Day\",\n",
    "    yaxis_title=\"Cumulative Net Dollar Flow (N$F)\",\n",
    "    legend_title=\"App Name\",\n",
    "#     color_discrete_map=px.colors.qualitative.G10\n",
    ")\n",
    "cumul_fig.write_image(\"img_outputs/svg/cumul_ndf.svg\")\n",
    "cumul_fig.write_image(\"img_outputs/png/cumul_ndf.png\")\n"
   ]
  },
  {
   "cell_type": "code",
   "execution_count": null,
   "id": "bf004e81",
   "metadata": {},
   "outputs": [],
   "source": [
    "# fig.show()\n",
    "# cumul_fig.show()"
   ]
  },
  {
   "cell_type": "code",
   "execution_count": 5,
   "id": "d42a35a3",
   "metadata": {},
   "outputs": [
    {
     "name": "stdout",
     "output_type": "stream",
     "text": [
      "usage: ipython [-h] [--debug] [--show-config] [--show-config-json] [--quiet]\r\n",
      "               [--init] [--autoindent] [--no-autoindent] [--automagic]\r\n",
      "               [--no-automagic] [--pdb] [--no-pdb] [--pprint] [--no-pprint]\r\n",
      "               [--color-info] [--no-color-info] [--ignore-cwd]\r\n",
      "               [--no-ignore-cwd] [--nosep] [--autoedit-syntax]\r\n",
      "               [--no-autoedit-syntax] [--simple-prompt] [--no-simple-prompt]\r\n",
      "               [--banner] [--no-banner] [--confirm-exit] [--no-confirm-exit]\r\n",
      "               [--term-title] [--no-term-title] [--classic] [--quick] [-i]\r\n",
      "               [--log-level TerminalIPythonApp.log_level]\r\n",
      "               [--profile-dir ProfileDir.location]\r\n",
      "               [--profile TerminalIPythonApp.profile]\r\n",
      "               [--ipython-dir TerminalIPythonApp.ipython_dir]\r\n",
      "               [--config TerminalIPythonApp.extra_config_file]\r\n",
      "               [--autocall TerminalInteractiveShell.autocall]\r\n",
      "               [--colors TerminalInteractiveShell.colors]\r\n",
      "               [--logfile TerminalInteractiveShell.logfile]\r\n",
      "               [--logappend TerminalInteractiveShell.logappend]\r\n",
      "               [-c TerminalIPythonApp.code_to_run]\r\n",
      "               [-m TerminalIPythonApp.module_to_run]\r\n",
      "               [--ext TerminalIPythonApp.extra_extensions]\r\n",
      "               [--gui TerminalIPythonApp.gui]\r\n",
      "               [--pylab [TerminalIPythonApp.pylab]]\r\n",
      "               [--matplotlib [TerminalIPythonApp.matplotlib]]\r\n",
      "               [--cache-size TerminalInteractiveShell.cache_size]\r\n",
      "               [extra_args ...]\r\n",
      "ipython: error: unrecognized arguments: optimism_app_net_flows.ipynb\r\n"
     ]
    }
   ],
   "source": [
    "! ipython nbconvert --to python optimism_app_net_flows.ipynb"
   ]
  }
 ],
 "metadata": {
  "kernelspec": {
   "display_name": "Python 3 (ipykernel)",
   "language": "python",
   "name": "python3"
  },
  "language_info": {
   "codemirror_mode": {
    "name": "ipython",
    "version": 3
   },
   "file_extension": ".py",
   "mimetype": "text/x-python",
   "name": "python",
   "nbconvert_exporter": "python",
   "pygments_lexer": "ipython3",
   "version": "3.9.7"
  }
 },
 "nbformat": 4,
 "nbformat_minor": 5
}
