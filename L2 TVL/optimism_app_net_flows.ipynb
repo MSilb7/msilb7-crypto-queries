{
 "cells": [
  {
   "cell_type": "code",
   "execution_count": 139,
   "id": "9104321f",
   "metadata": {},
   "outputs": [],
   "source": [
    "# ! pip install pandas\n",
    "# ! pip install requests\n",
    "# ! pip install plotly\n",
    "# ! pip install datetime\n",
    "# ! pip install os\n",
    "# ! pip freeze = requirements.txt"
   ]
  },
  {
   "cell_type": "code",
   "execution_count": 140,
   "id": "ffefb42a",
   "metadata": {},
   "outputs": [],
   "source": [
    "import pandas as pd\n",
    "import requests as r\n",
    "import plotly.express as px\n",
    "import plotly.graph_objects as go\n",
    "from datetime import datetime, timedelta\n",
    "import numpy as np\n",
    "import os"
   ]
  },
  {
   "cell_type": "code",
   "execution_count": 141,
   "id": "1015ba20",
   "metadata": {},
   "outputs": [],
   "source": [
    "pwd = os.getcwd()\n",
    "if 'L2 TVL' in pwd:\n",
    "    prepend = ''\n",
    "else:\n",
    "    prepend = 'L2 TVL/'"
   ]
  },
  {
   "cell_type": "code",
   "execution_count": 142,
   "id": "d3399236",
   "metadata": {},
   "outputs": [
    {
     "data": {
      "text/html": [
       "<div>\n",
       "<style scoped>\n",
       "    .dataframe tbody tr th:only-of-type {\n",
       "        vertical-align: middle;\n",
       "    }\n",
       "\n",
       "    .dataframe tbody tr th {\n",
       "        vertical-align: top;\n",
       "    }\n",
       "\n",
       "    .dataframe thead th {\n",
       "        text-align: right;\n",
       "    }\n",
       "</style>\n",
       "<table border=\"1\" class=\"dataframe\">\n",
       "  <thead>\n",
       "    <tr style=\"text-align: right;\">\n",
       "      <th></th>\n",
       "      <th>date</th>\n",
       "      <th>token</th>\n",
       "      <th>token_value</th>\n",
       "      <th>usd_value</th>\n",
       "      <th>protocol</th>\n",
       "      <th>start_date</th>\n",
       "    </tr>\n",
       "  </thead>\n",
       "  <tbody>\n",
       "    <tr>\n",
       "      <th>0</th>\n",
       "      <td>2022-06-01 00:00:00</td>\n",
       "      <td>SETH</td>\n",
       "      <td>0.02061</td>\n",
       "      <td>3.740144e+01</td>\n",
       "      <td>velodrome</td>\n",
       "      <td>2022-07-13</td>\n",
       "    </tr>\n",
       "    <tr>\n",
       "      <th>1</th>\n",
       "      <td>2022-06-02 00:00:00</td>\n",
       "      <td>SETH</td>\n",
       "      <td>0.02061</td>\n",
       "      <td>3.786823e+01</td>\n",
       "      <td>velodrome</td>\n",
       "      <td>2022-07-13</td>\n",
       "    </tr>\n",
       "    <tr>\n",
       "      <th>2</th>\n",
       "      <td>2022-06-03 00:00:00</td>\n",
       "      <td>SETH</td>\n",
       "      <td>0.02609</td>\n",
       "      <td>4.651168e+01</td>\n",
       "      <td>velodrome</td>\n",
       "      <td>2022-07-13</td>\n",
       "    </tr>\n",
       "    <tr>\n",
       "      <th>3</th>\n",
       "      <td>2022-06-04 00:00:00</td>\n",
       "      <td>SETH</td>\n",
       "      <td>0.03786</td>\n",
       "      <td>6.849767e+01</td>\n",
       "      <td>velodrome</td>\n",
       "      <td>2022-07-13</td>\n",
       "    </tr>\n",
       "    <tr>\n",
       "      <th>4</th>\n",
       "      <td>2022-06-05 00:00:00</td>\n",
       "      <td>SETH</td>\n",
       "      <td>0.03142</td>\n",
       "      <td>5.697542e+01</td>\n",
       "      <td>velodrome</td>\n",
       "      <td>2022-07-13</td>\n",
       "    </tr>\n",
       "    <tr>\n",
       "      <th>...</th>\n",
       "      <td>...</td>\n",
       "      <td>...</td>\n",
       "      <td>...</td>\n",
       "      <td>...</td>\n",
       "      <td>...</td>\n",
       "      <td>...</td>\n",
       "    </tr>\n",
       "    <tr>\n",
       "      <th>279</th>\n",
       "      <td>2022-08-05 00:00:00</td>\n",
       "      <td>WETH</td>\n",
       "      <td>1326.15808</td>\n",
       "      <td>2.306799e+06</td>\n",
       "      <td>stargate</td>\n",
       "      <td>2022-08-05</td>\n",
       "    </tr>\n",
       "    <tr>\n",
       "      <th>280</th>\n",
       "      <td>2022-08-06 00:00:00</td>\n",
       "      <td>WETH</td>\n",
       "      <td>1007.90122</td>\n",
       "      <td>1.696026e+06</td>\n",
       "      <td>stargate</td>\n",
       "      <td>2022-08-05</td>\n",
       "    </tr>\n",
       "    <tr>\n",
       "      <th>281</th>\n",
       "      <td>2022-08-07 00:00:00</td>\n",
       "      <td>WETH</td>\n",
       "      <td>1255.37514</td>\n",
       "      <td>2.142712e+06</td>\n",
       "      <td>stargate</td>\n",
       "      <td>2022-08-05</td>\n",
       "    </tr>\n",
       "    <tr>\n",
       "      <th>282</th>\n",
       "      <td>2022-08-08 00:00:00</td>\n",
       "      <td>WETH</td>\n",
       "      <td>1532.78223</td>\n",
       "      <td>2.726544e+06</td>\n",
       "      <td>stargate</td>\n",
       "      <td>2022-08-05</td>\n",
       "    </tr>\n",
       "    <tr>\n",
       "      <th>283</th>\n",
       "      <td>2022-08-08 00:59:31</td>\n",
       "      <td>WETH</td>\n",
       "      <td>1532.78223</td>\n",
       "      <td>2.726544e+06</td>\n",
       "      <td>stargate</td>\n",
       "      <td>2022-08-05</td>\n",
       "    </tr>\n",
       "  </tbody>\n",
       "</table>\n",
       "<p>7399 rows × 6 columns</p>\n",
       "</div>"
      ],
      "text/plain": [
       "                   date token  token_value     usd_value   protocol start_date\n",
       "0   2022-06-01 00:00:00  SETH      0.02061  3.740144e+01  velodrome 2022-07-13\n",
       "1   2022-06-02 00:00:00  SETH      0.02061  3.786823e+01  velodrome 2022-07-13\n",
       "2   2022-06-03 00:00:00  SETH      0.02609  4.651168e+01  velodrome 2022-07-13\n",
       "3   2022-06-04 00:00:00  SETH      0.03786  6.849767e+01  velodrome 2022-07-13\n",
       "4   2022-06-05 00:00:00  SETH      0.03142  5.697542e+01  velodrome 2022-07-13\n",
       "..                  ...   ...          ...           ...        ...        ...\n",
       "279 2022-08-05 00:00:00  WETH   1326.15808  2.306799e+06   stargate 2022-08-05\n",
       "280 2022-08-06 00:00:00  WETH   1007.90122  1.696026e+06   stargate 2022-08-05\n",
       "281 2022-08-07 00:00:00  WETH   1255.37514  2.142712e+06   stargate 2022-08-05\n",
       "282 2022-08-08 00:00:00  WETH   1532.78223  2.726544e+06   stargate 2022-08-05\n",
       "283 2022-08-08 00:59:31  WETH   1532.78223  2.726544e+06   stargate 2022-08-05\n",
       "\n",
       "[7399 rows x 6 columns]"
      ]
     },
     "execution_count": 142,
     "metadata": {},
     "output_type": "execute_result"
    }
   ],
   "source": [
    "\n",
    "api_str = 'https://api.llama.fi/protocol/'\n",
    "\n",
    "protocols = [\n",
    "    # name, incentive start date\n",
    "         ['velodrome','2022-07-13']\n",
    "        ,['pooltogether','2022-07-14']\n",
    "        ,['lyra','2022-08-02']\n",
    "        ,['rubicon','2022-07-15']\n",
    "        ,['perpetual-protocol','2022-07-14']\n",
    "        ,['thales','2022-07-14'] #TVL not relevant\n",
    "        ,['aave-v3','2022-08-04']\n",
    "        ,['wepiggy','2022-08-03']\n",
    "        ,['stargate','2022-08-05']\n",
    "        ]\n",
    "# print(protocols[0])\n",
    "prod = []\n",
    "for prot in protocols:\n",
    "    tp = r.get(api_str + prot[0]).json()['chainTvls']['Optimism']\n",
    "    ad = pd.json_normalize( tp['tokens'] )\n",
    "    ad_usd = pd.json_normalize( tp['tokensInUsd'] )\n",
    "    if not ad.empty:\n",
    "        ad = pd.melt(ad,id_vars = ['date'])\n",
    "        ad = ad.rename(columns={'variable':'token','value':'token_value'})\n",
    "        ad_usd = pd.melt(ad_usd,id_vars = ['date'])\n",
    "        ad_usd = ad_usd.rename(columns={'variable':'token','value':'usd_value'})\n",
    "        ad = ad.merge(ad_usd,on=['date','token'])\n",
    "        \n",
    "        ad['date'] = pd.to_datetime(ad['date'], unit ='s') #convert to days\n",
    "\n",
    "        ad['token'] = ad['token'].str.replace('tokens.','', regex=False)\n",
    "        ad['protocol'] = prot[0]\n",
    "        ad['start_date'] = pd.to_datetime(prot[1])\n",
    "        ad['date'] = ad['date'] - timedelta(days=1) #change to eod vs sod\n",
    "        prod.append(ad)\n",
    "\n",
    "df_df = pd.concat(prod)\n",
    "df_df"
   ]
  },
  {
   "cell_type": "code",
   "execution_count": 143,
   "id": "53c381e8",
   "metadata": {},
   "outputs": [],
   "source": [
    "# df_df[df_df['protocol']=='perpetual-protocol']\n"
   ]
  },
  {
   "cell_type": "code",
   "execution_count": 144,
   "id": "428aa2ff",
   "metadata": {},
   "outputs": [],
   "source": [
    "# #defillama api feedback - only token symbols come through, makes it hard to map w/o doing it manually\n",
    "# coingecko_token_map = [\n",
    "#     ['LINK','chainlink']\n",
    "#     ,['USDT','tether']\n",
    "#     ,['USDC','usd-coin']\n",
    "#     ,['WETH','weth']\n",
    "#     ,['SUSD','nusd']\n",
    "#     ,['DAI','dai']\n",
    "#     ,['AAVE','aave']\n",
    "#     ,['WBTC','wrapped-bitcoin']\n",
    "#     ,['SNX','havven']\n",
    "#     ,['OP','optimism']\n",
    "#     ,['SETH','seth']\n",
    "#     ,['FXS','frax-share']\n",
    "#     ,['THALES','thales']\n",
    "#     ,['FRAX','frax']\n",
    "#     ,['ALUSD','alchemix-usd']\n",
    "#     ,['PERP','perpetual-protocol']\n",
    "#     ,['LUSD','liquity-usd']\n",
    "#     ,['LYRA','lyra-finance']\n",
    "#     ,['HND','hundred-finance']\n",
    "#     ,['BITANT','bitant']\n",
    "#     ,['UNI','uniswap']\n",
    "#     ,['SLINK','slink']\n",
    "#     ,['VELO','velodrome-finance']\n",
    "#     ,['DOLA','dola-usd']\n",
    "#     ,['CRV','curve-dao-token']\n",
    "#     ,['SBTC','sbtc']\n",
    "#     ,['KROM','kromatika']\n",
    "#     ,['DF','dforce-token']\n",
    "#     ,['STG','stargate-finance']\n",
    "#     ,['AELIN','aelin']\n",
    "#     ,['RAI','rai']\n",
    "#     ,['RETH','rocket-pool-eth']\n",
    "# ]"
   ]
  },
  {
   "cell_type": "code",
   "execution_count": 145,
   "id": "d277a590",
   "metadata": {},
   "outputs": [],
   "source": [
    "# cg_token_list = [i[0] for i in coingecko_token_map]\n",
    "# # print(cg_token_list)"
   ]
  },
  {
   "cell_type": "code",
   "execution_count": 146,
   "id": "840e7c2d",
   "metadata": {},
   "outputs": [],
   "source": [
    "# # DISTINCT TOKENS\n",
    "\n",
    "# token_list = df_df[['token']].drop_duplicates()\n",
    "# missing_token_list = token_list[~token_list['token'].isin(cg_token_list)]\n",
    "# missing_token_list"
   ]
  },
  {
   "cell_type": "code",
   "execution_count": 147,
   "id": "2e220ab6",
   "metadata": {},
   "outputs": [],
   "source": [
    "\n",
    "# cg_pds = []\n",
    "# for t in coingecko_token_map:\n",
    "#     time.sleep(0.1)\n",
    "#     cg_api = 'https://api.coingecko.com/api/v3/coins/'\\\n",
    "#             + t[1] + '/market_chart?vs_currency=usd&days=max&interval=daily'\n",
    "#     print(cg_api)\n",
    "#     pr = pd.DataFrame( r.get(cg_api).json()['prices'] )\n",
    "#     pr['token'] = t[0]\n",
    "#     pr['cg_slug'] = t[1]\n",
    "#     pr = pr.rename(columns={0:'date',1:'price_usd'})\n",
    "#     pr['date'] = pd.to_datetime(pr['date'], unit ='ms') #convert to days\n",
    "#     cg_pds.append(pr)\n",
    "\n",
    "# cg_df = pd.concat(cg_pds)\n",
    "# # cg_df"
   ]
  },
  {
   "cell_type": "code",
   "execution_count": 148,
   "id": "8f9eb8e5",
   "metadata": {},
   "outputs": [],
   "source": [
    "data_df = df_df.copy()#merge(cg_df, on=['date','token'],how='inner')\n",
    "data_df.sort_values(by='date',inplace=True)\n",
    "data_df['token_value'] = data_df['token_value'].replace(0, np.nan)\n",
    "data_df['price_usd'] = data_df['usd_value']/data_df['token_value']\n",
    "\n",
    "data_df.sort_values(by='date',inplace=True)\n",
    "\n",
    "data_df['last_token_value'] = data_df.groupby(['token','protocol'])['token_value'].shift(1)\n",
    "data_df['last_token_value'] = data_df['last_token_value'].fillna(0)\n",
    "\n",
    "data_df['net_token_flow'] = data_df['token_value'] - data_df['last_token_value']\n",
    "\n",
    "data_df['net_dollar_flow'] = data_df['net_token_flow'] * data_df['price_usd']\n",
    "\n",
    "\n",
    "# display(data_df)"
   ]
  },
  {
   "cell_type": "code",
   "execution_count": 149,
   "id": "d1ae7150",
   "metadata": {},
   "outputs": [
    {
     "data": {
      "text/html": [
       "<div>\n",
       "<style scoped>\n",
       "    .dataframe tbody tr th:only-of-type {\n",
       "        vertical-align: middle;\n",
       "    }\n",
       "\n",
       "    .dataframe tbody tr th {\n",
       "        vertical-align: top;\n",
       "    }\n",
       "\n",
       "    .dataframe thead th {\n",
       "        text-align: right;\n",
       "    }\n",
       "</style>\n",
       "<table border=\"1\" class=\"dataframe\">\n",
       "  <thead>\n",
       "    <tr style=\"text-align: right;\">\n",
       "      <th></th>\n",
       "      <th>date</th>\n",
       "      <th>token</th>\n",
       "      <th>token_value</th>\n",
       "      <th>usd_value</th>\n",
       "      <th>protocol</th>\n",
       "      <th>start_date</th>\n",
       "      <th>price_usd</th>\n",
       "      <th>last_token_value</th>\n",
       "      <th>net_token_flow</th>\n",
       "      <th>net_dollar_flow</th>\n",
       "    </tr>\n",
       "  </thead>\n",
       "  <tbody>\n",
       "    <tr>\n",
       "      <th>0</th>\n",
       "      <td>2021-12-17 00:00:00</td>\n",
       "      <td>USDC</td>\n",
       "      <td>4.800012e+06</td>\n",
       "      <td>4.799268e+06</td>\n",
       "      <td>perpetual-protocol</td>\n",
       "      <td>2022-07-14</td>\n",
       "      <td>0.999845</td>\n",
       "      <td>0.000000e+00</td>\n",
       "      <td>4.800012e+06</td>\n",
       "      <td>4.799268e+06</td>\n",
       "    </tr>\n",
       "    <tr>\n",
       "      <th>1</th>\n",
       "      <td>2021-12-18 00:00:00</td>\n",
       "      <td>USDC</td>\n",
       "      <td>4.784074e+06</td>\n",
       "      <td>4.784074e+06</td>\n",
       "      <td>perpetual-protocol</td>\n",
       "      <td>2022-07-14</td>\n",
       "      <td>1.000000</td>\n",
       "      <td>4.800012e+06</td>\n",
       "      <td>-1.593859e+04</td>\n",
       "      <td>-1.593859e+04</td>\n",
       "    </tr>\n",
       "    <tr>\n",
       "      <th>2</th>\n",
       "      <td>2021-12-19 00:00:00</td>\n",
       "      <td>USDC</td>\n",
       "      <td>4.885148e+06</td>\n",
       "      <td>4.876546e+06</td>\n",
       "      <td>perpetual-protocol</td>\n",
       "      <td>2022-07-14</td>\n",
       "      <td>0.998239</td>\n",
       "      <td>4.784074e+06</td>\n",
       "      <td>1.010745e+05</td>\n",
       "      <td>1.008965e+05</td>\n",
       "    </tr>\n",
       "    <tr>\n",
       "      <th>3</th>\n",
       "      <td>2021-12-20 00:00:00</td>\n",
       "      <td>USDC</td>\n",
       "      <td>4.982993e+06</td>\n",
       "      <td>4.982993e+06</td>\n",
       "      <td>perpetual-protocol</td>\n",
       "      <td>2022-07-14</td>\n",
       "      <td>1.000000</td>\n",
       "      <td>4.885148e+06</td>\n",
       "      <td>9.784469e+04</td>\n",
       "      <td>9.784469e+04</td>\n",
       "    </tr>\n",
       "    <tr>\n",
       "      <th>4</th>\n",
       "      <td>2021-12-21 00:00:00</td>\n",
       "      <td>USDC</td>\n",
       "      <td>4.948937e+06</td>\n",
       "      <td>4.948937e+06</td>\n",
       "      <td>perpetual-protocol</td>\n",
       "      <td>2022-07-14</td>\n",
       "      <td>1.000000</td>\n",
       "      <td>4.982993e+06</td>\n",
       "      <td>-3.405556e+04</td>\n",
       "      <td>-3.405556e+04</td>\n",
       "    </tr>\n",
       "    <tr>\n",
       "      <th>...</th>\n",
       "      <td>...</td>\n",
       "      <td>...</td>\n",
       "      <td>...</td>\n",
       "      <td>...</td>\n",
       "      <td>...</td>\n",
       "      <td>...</td>\n",
       "      <td>...</td>\n",
       "      <td>...</td>\n",
       "      <td>...</td>\n",
       "      <td>...</td>\n",
       "    </tr>\n",
       "    <tr>\n",
       "      <th>231</th>\n",
       "      <td>2022-08-05 00:00:00</td>\n",
       "      <td>USDC</td>\n",
       "      <td>2.256065e+07</td>\n",
       "      <td>2.253182e+07</td>\n",
       "      <td>perpetual-protocol</td>\n",
       "      <td>2022-07-14</td>\n",
       "      <td>0.998722</td>\n",
       "      <td>2.238048e+07</td>\n",
       "      <td>1.801678e+05</td>\n",
       "      <td>1.799376e+05</td>\n",
       "    </tr>\n",
       "    <tr>\n",
       "      <th>232</th>\n",
       "      <td>2022-08-06 00:00:00</td>\n",
       "      <td>USDC</td>\n",
       "      <td>2.231180e+07</td>\n",
       "      <td>2.233411e+07</td>\n",
       "      <td>perpetual-protocol</td>\n",
       "      <td>2022-07-14</td>\n",
       "      <td>1.001000</td>\n",
       "      <td>2.256065e+07</td>\n",
       "      <td>-2.488518e+05</td>\n",
       "      <td>-2.491006e+05</td>\n",
       "    </tr>\n",
       "    <tr>\n",
       "      <th>233</th>\n",
       "      <td>2022-08-07 00:00:00</td>\n",
       "      <td>USDC</td>\n",
       "      <td>2.208817e+07</td>\n",
       "      <td>2.207520e+07</td>\n",
       "      <td>perpetual-protocol</td>\n",
       "      <td>2022-07-14</td>\n",
       "      <td>0.999413</td>\n",
       "      <td>2.231180e+07</td>\n",
       "      <td>-2.236295e+05</td>\n",
       "      <td>-2.234982e+05</td>\n",
       "    </tr>\n",
       "    <tr>\n",
       "      <th>234</th>\n",
       "      <td>2022-08-08 00:00:00</td>\n",
       "      <td>USDC</td>\n",
       "      <td>2.230567e+07</td>\n",
       "      <td>2.232798e+07</td>\n",
       "      <td>perpetual-protocol</td>\n",
       "      <td>2022-07-14</td>\n",
       "      <td>1.001000</td>\n",
       "      <td>2.208817e+07</td>\n",
       "      <td>2.175034e+05</td>\n",
       "      <td>2.177209e+05</td>\n",
       "    </tr>\n",
       "    <tr>\n",
       "      <th>235</th>\n",
       "      <td>2022-08-08 00:59:31</td>\n",
       "      <td>USDC</td>\n",
       "      <td>2.230567e+07</td>\n",
       "      <td>2.232798e+07</td>\n",
       "      <td>perpetual-protocol</td>\n",
       "      <td>2022-07-14</td>\n",
       "      <td>1.001000</td>\n",
       "      <td>2.230567e+07</td>\n",
       "      <td>0.000000e+00</td>\n",
       "      <td>0.000000e+00</td>\n",
       "    </tr>\n",
       "  </tbody>\n",
       "</table>\n",
       "<p>236 rows × 10 columns</p>\n",
       "</div>"
      ],
      "text/plain": [
       "                   date token   token_value     usd_value            protocol  \\\n",
       "0   2021-12-17 00:00:00  USDC  4.800012e+06  4.799268e+06  perpetual-protocol   \n",
       "1   2021-12-18 00:00:00  USDC  4.784074e+06  4.784074e+06  perpetual-protocol   \n",
       "2   2021-12-19 00:00:00  USDC  4.885148e+06  4.876546e+06  perpetual-protocol   \n",
       "3   2021-12-20 00:00:00  USDC  4.982993e+06  4.982993e+06  perpetual-protocol   \n",
       "4   2021-12-21 00:00:00  USDC  4.948937e+06  4.948937e+06  perpetual-protocol   \n",
       "..                  ...   ...           ...           ...                 ...   \n",
       "231 2022-08-05 00:00:00  USDC  2.256065e+07  2.253182e+07  perpetual-protocol   \n",
       "232 2022-08-06 00:00:00  USDC  2.231180e+07  2.233411e+07  perpetual-protocol   \n",
       "233 2022-08-07 00:00:00  USDC  2.208817e+07  2.207520e+07  perpetual-protocol   \n",
       "234 2022-08-08 00:00:00  USDC  2.230567e+07  2.232798e+07  perpetual-protocol   \n",
       "235 2022-08-08 00:59:31  USDC  2.230567e+07  2.232798e+07  perpetual-protocol   \n",
       "\n",
       "    start_date  price_usd  last_token_value  net_token_flow  net_dollar_flow  \n",
       "0   2022-07-14   0.999845      0.000000e+00    4.800012e+06     4.799268e+06  \n",
       "1   2022-07-14   1.000000      4.800012e+06   -1.593859e+04    -1.593859e+04  \n",
       "2   2022-07-14   0.998239      4.784074e+06    1.010745e+05     1.008965e+05  \n",
       "3   2022-07-14   1.000000      4.885148e+06    9.784469e+04     9.784469e+04  \n",
       "4   2022-07-14   1.000000      4.982993e+06   -3.405556e+04    -3.405556e+04  \n",
       "..         ...        ...               ...             ...              ...  \n",
       "231 2022-07-14   0.998722      2.238048e+07    1.801678e+05     1.799376e+05  \n",
       "232 2022-07-14   1.001000      2.256065e+07   -2.488518e+05    -2.491006e+05  \n",
       "233 2022-07-14   0.999413      2.231180e+07   -2.236295e+05    -2.234982e+05  \n",
       "234 2022-07-14   1.001000      2.208817e+07    2.175034e+05     2.177209e+05  \n",
       "235 2022-07-14   1.001000      2.230567e+07    0.000000e+00     0.000000e+00  \n",
       "\n",
       "[236 rows x 10 columns]"
      ]
     },
     "execution_count": 149,
     "metadata": {},
     "output_type": "execute_result"
    }
   ],
   "source": [
    "data_df[data_df['protocol']=='perpetual-protocol'].sort_values(by='date')\n"
   ]
  },
  {
   "cell_type": "code",
   "execution_count": 150,
   "id": "59f3f879",
   "metadata": {},
   "outputs": [
    {
     "data": {
      "text/html": [
       "<div>\n",
       "<style scoped>\n",
       "    .dataframe tbody tr th:only-of-type {\n",
       "        vertical-align: middle;\n",
       "    }\n",
       "\n",
       "    .dataframe tbody tr th {\n",
       "        vertical-align: top;\n",
       "    }\n",
       "\n",
       "    .dataframe thead th {\n",
       "        text-align: right;\n",
       "    }\n",
       "</style>\n",
       "<table border=\"1\" class=\"dataframe\">\n",
       "  <thead>\n",
       "    <tr style=\"text-align: right;\">\n",
       "      <th></th>\n",
       "      <th>date</th>\n",
       "      <th>protocol</th>\n",
       "      <th>net_dollar_flow</th>\n",
       "      <th>cumul_net_dollar_flow</th>\n",
       "    </tr>\n",
       "  </thead>\n",
       "  <tbody>\n",
       "    <tr>\n",
       "      <th>0</th>\n",
       "      <td>2022-07-13 00:00:00</td>\n",
       "      <td>velodrome</td>\n",
       "      <td>1.273337e+06</td>\n",
       "      <td>1.273337e+06</td>\n",
       "    </tr>\n",
       "    <tr>\n",
       "      <th>1</th>\n",
       "      <td>2022-07-14 00:00:00</td>\n",
       "      <td>perpetual-protocol</td>\n",
       "      <td>8.596476e+04</td>\n",
       "      <td>8.596476e+04</td>\n",
       "    </tr>\n",
       "    <tr>\n",
       "      <th>2</th>\n",
       "      <td>2022-07-14 00:00:00</td>\n",
       "      <td>pooltogether</td>\n",
       "      <td>-1.567899e+04</td>\n",
       "      <td>-1.567899e+04</td>\n",
       "    </tr>\n",
       "    <tr>\n",
       "      <th>3</th>\n",
       "      <td>2022-07-14 00:00:00</td>\n",
       "      <td>thales</td>\n",
       "      <td>9.680946e+03</td>\n",
       "      <td>9.680946e+03</td>\n",
       "    </tr>\n",
       "    <tr>\n",
       "      <th>4</th>\n",
       "      <td>2022-07-14 00:00:00</td>\n",
       "      <td>velodrome</td>\n",
       "      <td>5.143013e+06</td>\n",
       "      <td>6.416351e+06</td>\n",
       "    </tr>\n",
       "    <tr>\n",
       "      <th>...</th>\n",
       "      <td>...</td>\n",
       "      <td>...</td>\n",
       "      <td>...</td>\n",
       "      <td>...</td>\n",
       "    </tr>\n",
       "    <tr>\n",
       "      <th>156</th>\n",
       "      <td>2022-08-08 00:59:31</td>\n",
       "      <td>rubicon</td>\n",
       "      <td>0.000000e+00</td>\n",
       "      <td>6.376732e+06</td>\n",
       "    </tr>\n",
       "    <tr>\n",
       "      <th>157</th>\n",
       "      <td>2022-08-08 00:59:31</td>\n",
       "      <td>stargate</td>\n",
       "      <td>0.000000e+00</td>\n",
       "      <td>8.243359e+06</td>\n",
       "    </tr>\n",
       "    <tr>\n",
       "      <th>158</th>\n",
       "      <td>2022-08-08 00:59:31</td>\n",
       "      <td>thales</td>\n",
       "      <td>0.000000e+00</td>\n",
       "      <td>2.723765e+04</td>\n",
       "    </tr>\n",
       "    <tr>\n",
       "      <th>159</th>\n",
       "      <td>2022-08-08 00:59:31</td>\n",
       "      <td>velodrome</td>\n",
       "      <td>0.000000e+00</td>\n",
       "      <td>8.792539e+07</td>\n",
       "    </tr>\n",
       "    <tr>\n",
       "      <th>160</th>\n",
       "      <td>2022-08-08 00:59:31</td>\n",
       "      <td>wepiggy</td>\n",
       "      <td>0.000000e+00</td>\n",
       "      <td>3.787719e+06</td>\n",
       "    </tr>\n",
       "  </tbody>\n",
       "</table>\n",
       "<p>161 rows × 4 columns</p>\n",
       "</div>"
      ],
      "text/plain": [
       "                   date            protocol  net_dollar_flow  \\\n",
       "0   2022-07-13 00:00:00           velodrome     1.273337e+06   \n",
       "1   2022-07-14 00:00:00  perpetual-protocol     8.596476e+04   \n",
       "2   2022-07-14 00:00:00        pooltogether    -1.567899e+04   \n",
       "3   2022-07-14 00:00:00              thales     9.680946e+03   \n",
       "4   2022-07-14 00:00:00           velodrome     5.143013e+06   \n",
       "..                  ...                 ...              ...   \n",
       "156 2022-08-08 00:59:31             rubicon     0.000000e+00   \n",
       "157 2022-08-08 00:59:31            stargate     0.000000e+00   \n",
       "158 2022-08-08 00:59:31              thales     0.000000e+00   \n",
       "159 2022-08-08 00:59:31           velodrome     0.000000e+00   \n",
       "160 2022-08-08 00:59:31             wepiggy     0.000000e+00   \n",
       "\n",
       "     cumul_net_dollar_flow  \n",
       "0             1.273337e+06  \n",
       "1             8.596476e+04  \n",
       "2            -1.567899e+04  \n",
       "3             9.680946e+03  \n",
       "4             6.416351e+06  \n",
       "..                     ...  \n",
       "156           6.376732e+06  \n",
       "157           8.243359e+06  \n",
       "158           2.723765e+04  \n",
       "159           8.792539e+07  \n",
       "160           3.787719e+06  \n",
       "\n",
       "[161 rows x 4 columns]"
      ]
     },
     "execution_count": 150,
     "metadata": {},
     "output_type": "execute_result"
    }
   ],
   "source": [
    "netdf_df = data_df[data_df['date']>= data_df['start_date']][['date','protocol','net_dollar_flow']]\n",
    "netdf_df = netdf_df.groupby(['date','protocol']).sum(['net_dollar_flow'])\n",
    "netdf_df['cumul_net_dollar_flow'] = netdf_df.groupby(['protocol']).cumsum()\n",
    "netdf_df.reset_index(inplace=True)\n",
    "\n",
    "netdf_df"
   ]
  },
  {
   "cell_type": "code",
   "execution_count": 151,
   "id": "546e13b8",
   "metadata": {},
   "outputs": [
    {
     "name": "stdout",
     "output_type": "stream",
     "text": [
      "0               velodrome\n",
      "1      perpetual-protocol\n",
      "2            pooltogether\n",
      "3                  thales\n",
      "7                 rubicon\n",
      "95                   lyra\n",
      "107               wepiggy\n",
      "108               aave-v3\n",
      "121              stargate\n",
      "Name: protocol, dtype: object\n"
     ]
    }
   ],
   "source": [
    "fig = px.line(netdf_df, x=\"date\", y=\"net_dollar_flow\", color=\"protocol\", \\\n",
    "             title=\"Daily Net Dollar Flow since Program Announcement\",\\\n",
    "            labels={\n",
    "                     \"date\": \"Day\",\n",
    "                     \"net_dollar_flow\": \"Net Dollar Flow (N$F)\"\n",
    "                 }\n",
    "            )\n",
    "fig.update_layout(\n",
    "    legend_title=\"App Name\"\n",
    ")\n",
    "fig.update_layout(yaxis_tickprefix = '$')\n",
    "fig.write_image(prepend + \"img_outputs/svg/daily_ndf.svg\")\n",
    "fig.write_image(prepend + \"img_outputs/png/daily_ndf.png\")\n",
    "fig.write_html(prepend + \"img_outputs/daily_ndf.html\", include_plotlyjs='cdn')\n",
    "\n",
    "# cumul_fig = px.area(netdf_df, x=\"date\", y=\"cumul_net_dollar_flow\", color=\"protocol\", \\\n",
    "#              title=\"Cumulative Dollar Flow since Program Announcement\",\\\n",
    "#                    labels={\n",
    "#                      \"date\": \"Day\",\n",
    "#                      \"cumul_net_dollar_flow\": \"Cumulative Net Dollar Flow (N$F)\"\n",
    "#                  }\n",
    "#             ,areamode='group')\n",
    "# cumul_fig.update_layout(yaxis_tickprefix = '$')\n",
    "# cumul_fig.show()\n",
    "\n",
    "\n",
    "cumul_fig = go.Figure()\n",
    "proto_names = netdf_df['protocol'].drop_duplicates()\n",
    "print(proto_names)\n",
    "for p in proto_names:\n",
    "    cumul_fig.add_trace(go.Scatter(x=netdf_df[netdf_df['protocol'] == p]['date'] \\\n",
    "                                   , y=netdf_df[netdf_df['protocol'] == p]['cumul_net_dollar_flow'] \\\n",
    "                                    ,name = p\\\n",
    "                                  ,fill='tozeroy')) # fill down to xaxis\n",
    "\n",
    "cumul_fig.update_layout(yaxis_tickprefix = '$')\n",
    "cumul_fig.update_layout(\n",
    "    title=\"Cumulative Net Dollar Flow since Program Announcement\",\n",
    "    xaxis_title=\"Day\",\n",
    "    yaxis_title=\"Cumulative Net Dollar Flow (N$F)\",\n",
    "    legend_title=\"App Name\",\n",
    "#     color_discrete_map=px.colors.qualitative.G10\n",
    ")\n",
    "cumul_fig.write_image(prepend + \"img_outputs/svg/cumul_ndf.svg\") #prepend + \n",
    "cumul_fig.write_image(prepend + \"img_outputs/png/cumul_ndf.png\") #prepend + \n",
    "cumul_fig.write_html(prepend + \"img_outputs/cumul_ndf.html\", include_plotlyjs='cdn')\n"
   ]
  },
  {
   "cell_type": "code",
   "execution_count": 154,
   "id": "bc60f2fa",
   "metadata": {},
   "outputs": [
    {
     "data": {
      "application/vnd.plotly.v1+json": {
       "config": {
        "plotlyServerURL": "https://plot.ly"
       },
       "data": [
        {
         "fill": "tozeroy",
         "name": "velodrome",
         "type": "scatter",
         "x": [
          "2022-07-13T00:00:00",
          "2022-07-14T00:00:00",
          "2022-07-15T00:00:00",
          "2022-07-16T00:00:00",
          "2022-07-17T00:00:00",
          "2022-07-18T00:00:00",
          "2022-07-19T00:00:00",
          "2022-07-20T00:00:00",
          "2022-07-21T00:00:00",
          "2022-07-22T00:00:00",
          "2022-07-23T00:00:00",
          "2022-07-24T00:00:00",
          "2022-07-25T00:00:00",
          "2022-07-26T00:00:00",
          "2022-07-27T00:00:00",
          "2022-07-28T00:00:00",
          "2022-07-29T00:00:00",
          "2022-07-30T00:00:00",
          "2022-07-31T00:00:00",
          "2022-08-01T00:00:00",
          "2022-08-02T00:00:00",
          "2022-08-03T00:00:00",
          "2022-08-04T00:00:00",
          "2022-08-05T00:00:00",
          "2022-08-06T00:00:00",
          "2022-08-07T00:00:00",
          "2022-08-08T00:00:00",
          "2022-08-08T00:59:31"
         ],
         "y": [
          1273337.1065108157,
          6416350.528363382,
          11024726.875037875,
          22549897.106494658,
          25441081.76357133,
          32157891.790840253,
          36217190.75149933,
          43058731.6168793,
          44803581.9868704,
          47403034.38374193,
          49355425.031167,
          51743169.97765491,
          56020303.17050657,
          58823816.85299694,
          69962777.63398209,
          73691837.4794081,
          84992797.24676175,
          97085497.67644641,
          98780025.49831438,
          99161620.74616246,
          95005851.79228221,
          95464083.14896648,
          85685985.98883991,
          91309920.93411714,
          89774093.07559195,
          87568261.20719679,
          87925390.62279588,
          87925390.62279588
         ]
        },
        {
         "fill": "tozeroy",
         "name": "perpetual-protocol",
         "type": "scatter",
         "x": [
          "2022-07-14T00:00:00",
          "2022-07-15T00:00:00",
          "2022-07-16T00:00:00",
          "2022-07-17T00:00:00",
          "2022-07-18T00:00:00",
          "2022-07-19T00:00:00",
          "2022-07-20T00:00:00",
          "2022-07-21T00:00:00",
          "2022-07-22T00:00:00",
          "2022-07-23T00:00:00",
          "2022-07-24T00:00:00",
          "2022-07-25T00:00:00",
          "2022-07-26T00:00:00",
          "2022-07-27T00:00:00",
          "2022-07-28T00:00:00",
          "2022-07-29T00:00:00",
          "2022-07-30T00:00:00",
          "2022-07-31T00:00:00",
          "2022-08-01T00:00:00",
          "2022-08-02T00:00:00",
          "2022-08-03T00:00:00",
          "2022-08-04T00:00:00",
          "2022-08-05T00:00:00",
          "2022-08-06T00:00:00",
          "2022-08-07T00:00:00",
          "2022-08-08T00:00:00",
          "2022-08-08T00:59:31"
         ],
         "y": [
          85964.76115228688,
          95419.28423228567,
          158913.62058394152,
          165306.22448162196,
          -6367030.808942539,
          -5886709.127917186,
          -5774052.540545806,
          -6033091.119954202,
          -6149959.515795391,
          -5821286.553365391,
          -5833741.106466379,
          -5818225.762053577,
          -6157521.8450393975,
          -6164498.584929379,
          -6102178.990949655,
          -6084630.568438035,
          -6094078.556928386,
          -6194321.171038386,
          -6200181.649610406,
          -6410794.943227411,
          -5676728.0037917225,
          -5454459.333868397,
          -5274521.776262221,
          -5523622.4224366555,
          -5747120.6119836485,
          -5529399.673278383,
          -5529399.673278383
         ]
        },
        {
         "fill": "tozeroy",
         "name": "pooltogether",
         "type": "scatter",
         "x": [
          "2022-07-14T00:00:00",
          "2022-07-15T00:00:00",
          "2022-07-16T00:00:00",
          "2022-07-17T00:00:00",
          "2022-07-18T00:00:00",
          "2022-07-19T00:00:00",
          "2022-07-20T00:00:00",
          "2022-07-21T00:00:00",
          "2022-07-22T00:00:00",
          "2022-07-23T00:00:00",
          "2022-07-24T00:00:00",
          "2022-07-25T00:00:00",
          "2022-07-26T00:00:00",
          "2022-07-27T00:00:00",
          "2022-07-28T00:00:00",
          "2022-07-29T00:00:00",
          "2022-07-30T00:00:00",
          "2022-07-31T00:00:00",
          "2022-08-01T00:00:00",
          "2022-08-02T00:00:00",
          "2022-08-03T00:00:00",
          "2022-08-04T00:00:00",
          "2022-08-05T00:00:00",
          "2022-08-06T00:00:00",
          "2022-08-07T00:00:00",
          "2022-08-08T00:00:00",
          "2022-08-08T00:59:31"
         ],
         "y": [
          -15678.989295897418,
          103789.84406410262,
          120844.86535618448,
          206299.988869643,
          229746.52480346547,
          480988.34454238083,
          553446.6102202347,
          616104.4098325036,
          997845.7479811592,
          1814411.6015211593,
          2074924.5947917185,
          2436340.356534864,
          5561922.744064704,
          12497058.509823367,
          17133786.684713535,
          19026885.85558628,
          19724735.19777876,
          20311181.607648764,
          20934943.804644298,
          21593985.98438241,
          22603260.26261474,
          25795934.18112865,
          26979813.65912004,
          30124821.12627109,
          30392866.088204227,
          32246669.45007456,
          32246669.45007456
         ]
        },
        {
         "fill": "tozeroy",
         "name": "thales",
         "type": "scatter",
         "x": [
          "2022-07-14T00:00:00",
          "2022-07-15T00:00:00",
          "2022-07-16T00:00:00",
          "2022-07-17T00:00:00",
          "2022-07-18T00:00:00",
          "2022-07-19T00:00:00",
          "2022-07-20T00:00:00",
          "2022-07-21T00:00:00",
          "2022-07-22T00:00:00",
          "2022-07-23T00:00:00",
          "2022-07-24T00:00:00",
          "2022-07-25T00:00:00",
          "2022-07-26T00:00:00",
          "2022-07-27T00:00:00",
          "2022-07-28T00:00:00",
          "2022-07-29T00:00:00",
          "2022-07-30T00:00:00",
          "2022-07-31T00:00:00",
          "2022-08-01T00:00:00",
          "2022-08-02T00:00:00",
          "2022-08-03T00:00:00",
          "2022-08-04T00:00:00",
          "2022-08-05T00:00:00",
          "2022-08-06T00:00:00",
          "2022-08-07T00:00:00",
          "2022-08-08T00:00:00",
          "2022-08-08T00:59:31"
         ],
         "y": [
          9680.946428244808,
          44204.39587644099,
          55838.43113810709,
          48891.60001171807,
          45855.44373330302,
          44530.789171568125,
          38531.37784425029,
          37177.810586983236,
          87384.33260448746,
          101897.0995004886,
          101396.81930272888,
          97694.80053260221,
          58507.55703117113,
          51297.19221951191,
          55043.65900184342,
          78357.82373065114,
          73728.48860211637,
          75497.65017159932,
          80597.93005333931,
          82872.47533900419,
          79322.9430308928,
          54367.359056966474,
          71830.6267749289,
          49352.35524855567,
          32733.200631868556,
          27237.64673461463,
          27237.64673461463
         ]
        },
        {
         "fill": "tozeroy",
         "name": "rubicon",
         "type": "scatter",
         "x": [
          "2022-07-15T00:00:00",
          "2022-07-16T00:00:00",
          "2022-07-17T00:00:00",
          "2022-07-18T00:00:00",
          "2022-07-19T00:00:00",
          "2022-07-20T00:00:00",
          "2022-07-21T00:00:00",
          "2022-07-22T00:00:00",
          "2022-07-23T00:00:00",
          "2022-07-24T00:00:00",
          "2022-07-25T00:00:00",
          "2022-07-26T00:00:00",
          "2022-07-27T00:00:00",
          "2022-07-28T00:00:00",
          "2022-07-29T00:00:00",
          "2022-07-30T00:00:00",
          "2022-07-31T00:00:00",
          "2022-08-01T00:00:00",
          "2022-08-02T00:00:00",
          "2022-08-03T00:00:00",
          "2022-08-04T00:00:00",
          "2022-08-05T00:00:00",
          "2022-08-06T00:00:00",
          "2022-08-07T00:00:00",
          "2022-08-08T00:00:00",
          "2022-08-08T00:59:31"
         ],
         "y": [
          75140.00381550513,
          149132.8269296102,
          185432.22259279375,
          254539.90918029915,
          271928.24342859496,
          305352.3951052265,
          722140.5296415393,
          832500.275409472,
          846154.4675873726,
          1029637.2617239077,
          1056705.2312370327,
          1144906.1953096148,
          1143795.2694961375,
          1277050.659150484,
          1434231.7611752397,
          1503195.8236862943,
          1630619.4945734423,
          2088377.2786179152,
          2115558.848815658,
          1994240.7900202838,
          2168243.956224458,
          4798001.967564324,
          5149307.620203427,
          6033453.311739396,
          6376731.993983045,
          6376731.993983045
         ]
        },
        {
         "fill": "tozeroy",
         "name": "lyra",
         "type": "scatter",
         "x": [
          "2022-08-02T00:00:00",
          "2022-08-03T00:00:00",
          "2022-08-04T00:00:00",
          "2022-08-05T00:00:00",
          "2022-08-06T00:00:00",
          "2022-08-07T00:00:00",
          "2022-08-08T00:00:00",
          "2022-08-08T00:59:31"
         ],
         "y": [
          1818761.5934804273,
          6182650.343626771,
          8035025.911002368,
          8466949.30550603,
          9164335.84322806,
          10325132.612100266,
          10929577.460981961,
          10929577.460981961
         ]
        },
        {
         "fill": "tozeroy",
         "name": "wepiggy",
         "type": "scatter",
         "x": [
          "2022-08-03T00:00:00",
          "2022-08-04T00:00:00",
          "2022-08-05T00:00:00",
          "2022-08-06T00:00:00",
          "2022-08-07T00:00:00",
          "2022-08-08T00:00:00",
          "2022-08-08T00:59:31"
         ],
         "y": [
          1776458.3793817335,
          2316706.672876584,
          3290161.2683342197,
          3602884.4324462526,
          3616126.4008998773,
          3787718.93432213,
          3787718.93432213
         ]
        },
        {
         "fill": "tozeroy",
         "name": "aave-v3",
         "type": "scatter",
         "x": [
          "2022-08-04T00:00:00",
          "2022-08-05T00:00:00",
          "2022-08-06T00:00:00",
          "2022-08-07T00:00:00",
          "2022-08-08T00:00:00",
          "2022-08-08T00:59:31"
         ],
         "y": [
          239188052.7673392,
          407257316.2791239,
          471921052.27091175,
          511541918.88215065,
          505480742.161303,
          505480742.161303
         ]
        },
        {
         "fill": "tozeroy",
         "name": "stargate",
         "type": "scatter",
         "x": [
          "2022-08-05T00:00:00",
          "2022-08-06T00:00:00",
          "2022-08-07T00:00:00",
          "2022-08-08T00:00:00",
          "2022-08-08T00:59:31"
         ],
         "y": [
          11372910.896535566,
          9799108.45674316,
          9302990.80378835,
          8243358.76814818,
          8243358.76814818
         ]
        }
       ],
       "layout": {
        "legend": {
         "title": {
          "text": "App Name"
         }
        },
        "template": {
         "data": {
          "bar": [
           {
            "error_x": {
             "color": "#2a3f5f"
            },
            "error_y": {
             "color": "#2a3f5f"
            },
            "marker": {
             "line": {
              "color": "#E5ECF6",
              "width": 0.5
             },
             "pattern": {
              "fillmode": "overlay",
              "size": 10,
              "solidity": 0.2
             }
            },
            "type": "bar"
           }
          ],
          "barpolar": [
           {
            "marker": {
             "line": {
              "color": "#E5ECF6",
              "width": 0.5
             },
             "pattern": {
              "fillmode": "overlay",
              "size": 10,
              "solidity": 0.2
             }
            },
            "type": "barpolar"
           }
          ],
          "carpet": [
           {
            "aaxis": {
             "endlinecolor": "#2a3f5f",
             "gridcolor": "white",
             "linecolor": "white",
             "minorgridcolor": "white",
             "startlinecolor": "#2a3f5f"
            },
            "baxis": {
             "endlinecolor": "#2a3f5f",
             "gridcolor": "white",
             "linecolor": "white",
             "minorgridcolor": "white",
             "startlinecolor": "#2a3f5f"
            },
            "type": "carpet"
           }
          ],
          "choropleth": [
           {
            "colorbar": {
             "outlinewidth": 0,
             "ticks": ""
            },
            "type": "choropleth"
           }
          ],
          "contour": [
           {
            "colorbar": {
             "outlinewidth": 0,
             "ticks": ""
            },
            "colorscale": [
             [
              0,
              "#0d0887"
             ],
             [
              0.1111111111111111,
              "#46039f"
             ],
             [
              0.2222222222222222,
              "#7201a8"
             ],
             [
              0.3333333333333333,
              "#9c179e"
             ],
             [
              0.4444444444444444,
              "#bd3786"
             ],
             [
              0.5555555555555556,
              "#d8576b"
             ],
             [
              0.6666666666666666,
              "#ed7953"
             ],
             [
              0.7777777777777778,
              "#fb9f3a"
             ],
             [
              0.8888888888888888,
              "#fdca26"
             ],
             [
              1,
              "#f0f921"
             ]
            ],
            "type": "contour"
           }
          ],
          "contourcarpet": [
           {
            "colorbar": {
             "outlinewidth": 0,
             "ticks": ""
            },
            "type": "contourcarpet"
           }
          ],
          "heatmap": [
           {
            "colorbar": {
             "outlinewidth": 0,
             "ticks": ""
            },
            "colorscale": [
             [
              0,
              "#0d0887"
             ],
             [
              0.1111111111111111,
              "#46039f"
             ],
             [
              0.2222222222222222,
              "#7201a8"
             ],
             [
              0.3333333333333333,
              "#9c179e"
             ],
             [
              0.4444444444444444,
              "#bd3786"
             ],
             [
              0.5555555555555556,
              "#d8576b"
             ],
             [
              0.6666666666666666,
              "#ed7953"
             ],
             [
              0.7777777777777778,
              "#fb9f3a"
             ],
             [
              0.8888888888888888,
              "#fdca26"
             ],
             [
              1,
              "#f0f921"
             ]
            ],
            "type": "heatmap"
           }
          ],
          "heatmapgl": [
           {
            "colorbar": {
             "outlinewidth": 0,
             "ticks": ""
            },
            "colorscale": [
             [
              0,
              "#0d0887"
             ],
             [
              0.1111111111111111,
              "#46039f"
             ],
             [
              0.2222222222222222,
              "#7201a8"
             ],
             [
              0.3333333333333333,
              "#9c179e"
             ],
             [
              0.4444444444444444,
              "#bd3786"
             ],
             [
              0.5555555555555556,
              "#d8576b"
             ],
             [
              0.6666666666666666,
              "#ed7953"
             ],
             [
              0.7777777777777778,
              "#fb9f3a"
             ],
             [
              0.8888888888888888,
              "#fdca26"
             ],
             [
              1,
              "#f0f921"
             ]
            ],
            "type": "heatmapgl"
           }
          ],
          "histogram": [
           {
            "marker": {
             "pattern": {
              "fillmode": "overlay",
              "size": 10,
              "solidity": 0.2
             }
            },
            "type": "histogram"
           }
          ],
          "histogram2d": [
           {
            "colorbar": {
             "outlinewidth": 0,
             "ticks": ""
            },
            "colorscale": [
             [
              0,
              "#0d0887"
             ],
             [
              0.1111111111111111,
              "#46039f"
             ],
             [
              0.2222222222222222,
              "#7201a8"
             ],
             [
              0.3333333333333333,
              "#9c179e"
             ],
             [
              0.4444444444444444,
              "#bd3786"
             ],
             [
              0.5555555555555556,
              "#d8576b"
             ],
             [
              0.6666666666666666,
              "#ed7953"
             ],
             [
              0.7777777777777778,
              "#fb9f3a"
             ],
             [
              0.8888888888888888,
              "#fdca26"
             ],
             [
              1,
              "#f0f921"
             ]
            ],
            "type": "histogram2d"
           }
          ],
          "histogram2dcontour": [
           {
            "colorbar": {
             "outlinewidth": 0,
             "ticks": ""
            },
            "colorscale": [
             [
              0,
              "#0d0887"
             ],
             [
              0.1111111111111111,
              "#46039f"
             ],
             [
              0.2222222222222222,
              "#7201a8"
             ],
             [
              0.3333333333333333,
              "#9c179e"
             ],
             [
              0.4444444444444444,
              "#bd3786"
             ],
             [
              0.5555555555555556,
              "#d8576b"
             ],
             [
              0.6666666666666666,
              "#ed7953"
             ],
             [
              0.7777777777777778,
              "#fb9f3a"
             ],
             [
              0.8888888888888888,
              "#fdca26"
             ],
             [
              1,
              "#f0f921"
             ]
            ],
            "type": "histogram2dcontour"
           }
          ],
          "mesh3d": [
           {
            "colorbar": {
             "outlinewidth": 0,
             "ticks": ""
            },
            "type": "mesh3d"
           }
          ],
          "parcoords": [
           {
            "line": {
             "colorbar": {
              "outlinewidth": 0,
              "ticks": ""
             }
            },
            "type": "parcoords"
           }
          ],
          "pie": [
           {
            "automargin": true,
            "type": "pie"
           }
          ],
          "scatter": [
           {
            "marker": {
             "colorbar": {
              "outlinewidth": 0,
              "ticks": ""
             }
            },
            "type": "scatter"
           }
          ],
          "scatter3d": [
           {
            "line": {
             "colorbar": {
              "outlinewidth": 0,
              "ticks": ""
             }
            },
            "marker": {
             "colorbar": {
              "outlinewidth": 0,
              "ticks": ""
             }
            },
            "type": "scatter3d"
           }
          ],
          "scattercarpet": [
           {
            "marker": {
             "colorbar": {
              "outlinewidth": 0,
              "ticks": ""
             }
            },
            "type": "scattercarpet"
           }
          ],
          "scattergeo": [
           {
            "marker": {
             "colorbar": {
              "outlinewidth": 0,
              "ticks": ""
             }
            },
            "type": "scattergeo"
           }
          ],
          "scattergl": [
           {
            "marker": {
             "colorbar": {
              "outlinewidth": 0,
              "ticks": ""
             }
            },
            "type": "scattergl"
           }
          ],
          "scattermapbox": [
           {
            "marker": {
             "colorbar": {
              "outlinewidth": 0,
              "ticks": ""
             }
            },
            "type": "scattermapbox"
           }
          ],
          "scatterpolar": [
           {
            "marker": {
             "colorbar": {
              "outlinewidth": 0,
              "ticks": ""
             }
            },
            "type": "scatterpolar"
           }
          ],
          "scatterpolargl": [
           {
            "marker": {
             "colorbar": {
              "outlinewidth": 0,
              "ticks": ""
             }
            },
            "type": "scatterpolargl"
           }
          ],
          "scatterternary": [
           {
            "marker": {
             "colorbar": {
              "outlinewidth": 0,
              "ticks": ""
             }
            },
            "type": "scatterternary"
           }
          ],
          "surface": [
           {
            "colorbar": {
             "outlinewidth": 0,
             "ticks": ""
            },
            "colorscale": [
             [
              0,
              "#0d0887"
             ],
             [
              0.1111111111111111,
              "#46039f"
             ],
             [
              0.2222222222222222,
              "#7201a8"
             ],
             [
              0.3333333333333333,
              "#9c179e"
             ],
             [
              0.4444444444444444,
              "#bd3786"
             ],
             [
              0.5555555555555556,
              "#d8576b"
             ],
             [
              0.6666666666666666,
              "#ed7953"
             ],
             [
              0.7777777777777778,
              "#fb9f3a"
             ],
             [
              0.8888888888888888,
              "#fdca26"
             ],
             [
              1,
              "#f0f921"
             ]
            ],
            "type": "surface"
           }
          ],
          "table": [
           {
            "cells": {
             "fill": {
              "color": "#EBF0F8"
             },
             "line": {
              "color": "white"
             }
            },
            "header": {
             "fill": {
              "color": "#C8D4E3"
             },
             "line": {
              "color": "white"
             }
            },
            "type": "table"
           }
          ]
         },
         "layout": {
          "annotationdefaults": {
           "arrowcolor": "#2a3f5f",
           "arrowhead": 0,
           "arrowwidth": 1
          },
          "autotypenumbers": "strict",
          "coloraxis": {
           "colorbar": {
            "outlinewidth": 0,
            "ticks": ""
           }
          },
          "colorscale": {
           "diverging": [
            [
             0,
             "#8e0152"
            ],
            [
             0.1,
             "#c51b7d"
            ],
            [
             0.2,
             "#de77ae"
            ],
            [
             0.3,
             "#f1b6da"
            ],
            [
             0.4,
             "#fde0ef"
            ],
            [
             0.5,
             "#f7f7f7"
            ],
            [
             0.6,
             "#e6f5d0"
            ],
            [
             0.7,
             "#b8e186"
            ],
            [
             0.8,
             "#7fbc41"
            ],
            [
             0.9,
             "#4d9221"
            ],
            [
             1,
             "#276419"
            ]
           ],
           "sequential": [
            [
             0,
             "#0d0887"
            ],
            [
             0.1111111111111111,
             "#46039f"
            ],
            [
             0.2222222222222222,
             "#7201a8"
            ],
            [
             0.3333333333333333,
             "#9c179e"
            ],
            [
             0.4444444444444444,
             "#bd3786"
            ],
            [
             0.5555555555555556,
             "#d8576b"
            ],
            [
             0.6666666666666666,
             "#ed7953"
            ],
            [
             0.7777777777777778,
             "#fb9f3a"
            ],
            [
             0.8888888888888888,
             "#fdca26"
            ],
            [
             1,
             "#f0f921"
            ]
           ],
           "sequentialminus": [
            [
             0,
             "#0d0887"
            ],
            [
             0.1111111111111111,
             "#46039f"
            ],
            [
             0.2222222222222222,
             "#7201a8"
            ],
            [
             0.3333333333333333,
             "#9c179e"
            ],
            [
             0.4444444444444444,
             "#bd3786"
            ],
            [
             0.5555555555555556,
             "#d8576b"
            ],
            [
             0.6666666666666666,
             "#ed7953"
            ],
            [
             0.7777777777777778,
             "#fb9f3a"
            ],
            [
             0.8888888888888888,
             "#fdca26"
            ],
            [
             1,
             "#f0f921"
            ]
           ]
          },
          "colorway": [
           "#636efa",
           "#EF553B",
           "#00cc96",
           "#ab63fa",
           "#FFA15A",
           "#19d3f3",
           "#FF6692",
           "#B6E880",
           "#FF97FF",
           "#FECB52"
          ],
          "font": {
           "color": "#2a3f5f"
          },
          "geo": {
           "bgcolor": "white",
           "lakecolor": "white",
           "landcolor": "#E5ECF6",
           "showlakes": true,
           "showland": true,
           "subunitcolor": "white"
          },
          "hoverlabel": {
           "align": "left"
          },
          "hovermode": "closest",
          "mapbox": {
           "style": "light"
          },
          "paper_bgcolor": "white",
          "plot_bgcolor": "#E5ECF6",
          "polar": {
           "angularaxis": {
            "gridcolor": "white",
            "linecolor": "white",
            "ticks": ""
           },
           "bgcolor": "#E5ECF6",
           "radialaxis": {
            "gridcolor": "white",
            "linecolor": "white",
            "ticks": ""
           }
          },
          "scene": {
           "xaxis": {
            "backgroundcolor": "#E5ECF6",
            "gridcolor": "white",
            "gridwidth": 2,
            "linecolor": "white",
            "showbackground": true,
            "ticks": "",
            "zerolinecolor": "white"
           },
           "yaxis": {
            "backgroundcolor": "#E5ECF6",
            "gridcolor": "white",
            "gridwidth": 2,
            "linecolor": "white",
            "showbackground": true,
            "ticks": "",
            "zerolinecolor": "white"
           },
           "zaxis": {
            "backgroundcolor": "#E5ECF6",
            "gridcolor": "white",
            "gridwidth": 2,
            "linecolor": "white",
            "showbackground": true,
            "ticks": "",
            "zerolinecolor": "white"
           }
          },
          "shapedefaults": {
           "line": {
            "color": "#2a3f5f"
           }
          },
          "ternary": {
           "aaxis": {
            "gridcolor": "white",
            "linecolor": "white",
            "ticks": ""
           },
           "baxis": {
            "gridcolor": "white",
            "linecolor": "white",
            "ticks": ""
           },
           "bgcolor": "#E5ECF6",
           "caxis": {
            "gridcolor": "white",
            "linecolor": "white",
            "ticks": ""
           }
          },
          "title": {
           "x": 0.05
          },
          "xaxis": {
           "automargin": true,
           "gridcolor": "white",
           "linecolor": "white",
           "ticks": "",
           "title": {
            "standoff": 15
           },
           "zerolinecolor": "white",
           "zerolinewidth": 2
          },
          "yaxis": {
           "automargin": true,
           "gridcolor": "white",
           "linecolor": "white",
           "ticks": "",
           "title": {
            "standoff": 15
           },
           "zerolinecolor": "white",
           "zerolinewidth": 2
          }
         }
        },
        "title": {
         "text": "Cumulative Dollar Flow since Program Announcement"
        },
        "xaxis": {
         "title": {
          "text": "Day"
         }
        },
        "yaxis": {
         "tickprefix": "$",
         "title": {
          "text": "Cumulative Net Dollar Flow (N$F)"
         }
        }
       }
      },
      "text/html": [
       "<div>                            <div id=\"411dd755-a8f9-4ed2-8ed3-f431005b8aed\" class=\"plotly-graph-div\" style=\"height:525px; width:100%;\"></div>            <script type=\"text/javascript\">                require([\"plotly\"], function(Plotly) {                    window.PLOTLYENV=window.PLOTLYENV || {};                                    if (document.getElementById(\"411dd755-a8f9-4ed2-8ed3-f431005b8aed\")) {                    Plotly.newPlot(                        \"411dd755-a8f9-4ed2-8ed3-f431005b8aed\",                        [{\"fill\":\"tozeroy\",\"name\":\"velodrome\",\"type\":\"scatter\",\"x\":[\"2022-07-13T00:00:00\",\"2022-07-14T00:00:00\",\"2022-07-15T00:00:00\",\"2022-07-16T00:00:00\",\"2022-07-17T00:00:00\",\"2022-07-18T00:00:00\",\"2022-07-19T00:00:00\",\"2022-07-20T00:00:00\",\"2022-07-21T00:00:00\",\"2022-07-22T00:00:00\",\"2022-07-23T00:00:00\",\"2022-07-24T00:00:00\",\"2022-07-25T00:00:00\",\"2022-07-26T00:00:00\",\"2022-07-27T00:00:00\",\"2022-07-28T00:00:00\",\"2022-07-29T00:00:00\",\"2022-07-30T00:00:00\",\"2022-07-31T00:00:00\",\"2022-08-01T00:00:00\",\"2022-08-02T00:00:00\",\"2022-08-03T00:00:00\",\"2022-08-04T00:00:00\",\"2022-08-05T00:00:00\",\"2022-08-06T00:00:00\",\"2022-08-07T00:00:00\",\"2022-08-08T00:00:00\",\"2022-08-08T00:59:31\"],\"y\":[1273337.1065108157,6416350.528363382,11024726.875037875,22549897.106494658,25441081.76357133,32157891.790840253,36217190.75149933,43058731.6168793,44803581.9868704,47403034.38374193,49355425.031167,51743169.97765491,56020303.17050657,58823816.85299694,69962777.63398209,73691837.4794081,84992797.24676175,97085497.67644641,98780025.49831438,99161620.74616246,95005851.79228221,95464083.14896648,85685985.98883991,91309920.93411714,89774093.07559195,87568261.20719679,87925390.62279588,87925390.62279588]},{\"fill\":\"tozeroy\",\"name\":\"perpetual-protocol\",\"type\":\"scatter\",\"x\":[\"2022-07-14T00:00:00\",\"2022-07-15T00:00:00\",\"2022-07-16T00:00:00\",\"2022-07-17T00:00:00\",\"2022-07-18T00:00:00\",\"2022-07-19T00:00:00\",\"2022-07-20T00:00:00\",\"2022-07-21T00:00:00\",\"2022-07-22T00:00:00\",\"2022-07-23T00:00:00\",\"2022-07-24T00:00:00\",\"2022-07-25T00:00:00\",\"2022-07-26T00:00:00\",\"2022-07-27T00:00:00\",\"2022-07-28T00:00:00\",\"2022-07-29T00:00:00\",\"2022-07-30T00:00:00\",\"2022-07-31T00:00:00\",\"2022-08-01T00:00:00\",\"2022-08-02T00:00:00\",\"2022-08-03T00:00:00\",\"2022-08-04T00:00:00\",\"2022-08-05T00:00:00\",\"2022-08-06T00:00:00\",\"2022-08-07T00:00:00\",\"2022-08-08T00:00:00\",\"2022-08-08T00:59:31\"],\"y\":[85964.76115228688,95419.28423228567,158913.62058394152,165306.22448162196,-6367030.808942539,-5886709.127917186,-5774052.540545806,-6033091.119954202,-6149959.515795391,-5821286.553365391,-5833741.106466379,-5818225.762053577,-6157521.8450393975,-6164498.584929379,-6102178.990949655,-6084630.568438035,-6094078.556928386,-6194321.171038386,-6200181.649610406,-6410794.943227411,-5676728.0037917225,-5454459.333868397,-5274521.776262221,-5523622.4224366555,-5747120.6119836485,-5529399.673278383,-5529399.673278383]},{\"fill\":\"tozeroy\",\"name\":\"pooltogether\",\"type\":\"scatter\",\"x\":[\"2022-07-14T00:00:00\",\"2022-07-15T00:00:00\",\"2022-07-16T00:00:00\",\"2022-07-17T00:00:00\",\"2022-07-18T00:00:00\",\"2022-07-19T00:00:00\",\"2022-07-20T00:00:00\",\"2022-07-21T00:00:00\",\"2022-07-22T00:00:00\",\"2022-07-23T00:00:00\",\"2022-07-24T00:00:00\",\"2022-07-25T00:00:00\",\"2022-07-26T00:00:00\",\"2022-07-27T00:00:00\",\"2022-07-28T00:00:00\",\"2022-07-29T00:00:00\",\"2022-07-30T00:00:00\",\"2022-07-31T00:00:00\",\"2022-08-01T00:00:00\",\"2022-08-02T00:00:00\",\"2022-08-03T00:00:00\",\"2022-08-04T00:00:00\",\"2022-08-05T00:00:00\",\"2022-08-06T00:00:00\",\"2022-08-07T00:00:00\",\"2022-08-08T00:00:00\",\"2022-08-08T00:59:31\"],\"y\":[-15678.989295897418,103789.84406410262,120844.86535618448,206299.988869643,229746.52480346547,480988.34454238083,553446.6102202347,616104.4098325036,997845.7479811592,1814411.6015211593,2074924.5947917185,2436340.356534864,5561922.744064704,12497058.509823367,17133786.684713535,19026885.85558628,19724735.19777876,20311181.607648764,20934943.804644298,21593985.98438241,22603260.26261474,25795934.18112865,26979813.65912004,30124821.12627109,30392866.088204227,32246669.45007456,32246669.45007456]},{\"fill\":\"tozeroy\",\"name\":\"thales\",\"type\":\"scatter\",\"x\":[\"2022-07-14T00:00:00\",\"2022-07-15T00:00:00\",\"2022-07-16T00:00:00\",\"2022-07-17T00:00:00\",\"2022-07-18T00:00:00\",\"2022-07-19T00:00:00\",\"2022-07-20T00:00:00\",\"2022-07-21T00:00:00\",\"2022-07-22T00:00:00\",\"2022-07-23T00:00:00\",\"2022-07-24T00:00:00\",\"2022-07-25T00:00:00\",\"2022-07-26T00:00:00\",\"2022-07-27T00:00:00\",\"2022-07-28T00:00:00\",\"2022-07-29T00:00:00\",\"2022-07-30T00:00:00\",\"2022-07-31T00:00:00\",\"2022-08-01T00:00:00\",\"2022-08-02T00:00:00\",\"2022-08-03T00:00:00\",\"2022-08-04T00:00:00\",\"2022-08-05T00:00:00\",\"2022-08-06T00:00:00\",\"2022-08-07T00:00:00\",\"2022-08-08T00:00:00\",\"2022-08-08T00:59:31\"],\"y\":[9680.946428244808,44204.39587644099,55838.43113810709,48891.60001171807,45855.44373330302,44530.789171568125,38531.37784425029,37177.810586983236,87384.33260448746,101897.0995004886,101396.81930272888,97694.80053260221,58507.55703117113,51297.19221951191,55043.65900184342,78357.82373065114,73728.48860211637,75497.65017159932,80597.93005333931,82872.47533900419,79322.9430308928,54367.359056966474,71830.6267749289,49352.35524855567,32733.200631868556,27237.64673461463,27237.64673461463]},{\"fill\":\"tozeroy\",\"name\":\"rubicon\",\"type\":\"scatter\",\"x\":[\"2022-07-15T00:00:00\",\"2022-07-16T00:00:00\",\"2022-07-17T00:00:00\",\"2022-07-18T00:00:00\",\"2022-07-19T00:00:00\",\"2022-07-20T00:00:00\",\"2022-07-21T00:00:00\",\"2022-07-22T00:00:00\",\"2022-07-23T00:00:00\",\"2022-07-24T00:00:00\",\"2022-07-25T00:00:00\",\"2022-07-26T00:00:00\",\"2022-07-27T00:00:00\",\"2022-07-28T00:00:00\",\"2022-07-29T00:00:00\",\"2022-07-30T00:00:00\",\"2022-07-31T00:00:00\",\"2022-08-01T00:00:00\",\"2022-08-02T00:00:00\",\"2022-08-03T00:00:00\",\"2022-08-04T00:00:00\",\"2022-08-05T00:00:00\",\"2022-08-06T00:00:00\",\"2022-08-07T00:00:00\",\"2022-08-08T00:00:00\",\"2022-08-08T00:59:31\"],\"y\":[75140.00381550513,149132.8269296102,185432.22259279375,254539.90918029915,271928.24342859496,305352.3951052265,722140.5296415393,832500.275409472,846154.4675873726,1029637.2617239077,1056705.2312370327,1144906.1953096148,1143795.2694961375,1277050.659150484,1434231.7611752397,1503195.8236862943,1630619.4945734423,2088377.2786179152,2115558.848815658,1994240.7900202838,2168243.956224458,4798001.967564324,5149307.620203427,6033453.311739396,6376731.993983045,6376731.993983045]},{\"fill\":\"tozeroy\",\"name\":\"lyra\",\"type\":\"scatter\",\"x\":[\"2022-08-02T00:00:00\",\"2022-08-03T00:00:00\",\"2022-08-04T00:00:00\",\"2022-08-05T00:00:00\",\"2022-08-06T00:00:00\",\"2022-08-07T00:00:00\",\"2022-08-08T00:00:00\",\"2022-08-08T00:59:31\"],\"y\":[1818761.5934804273,6182650.343626771,8035025.911002368,8466949.30550603,9164335.84322806,10325132.612100266,10929577.460981961,10929577.460981961]},{\"fill\":\"tozeroy\",\"name\":\"wepiggy\",\"type\":\"scatter\",\"x\":[\"2022-08-03T00:00:00\",\"2022-08-04T00:00:00\",\"2022-08-05T00:00:00\",\"2022-08-06T00:00:00\",\"2022-08-07T00:00:00\",\"2022-08-08T00:00:00\",\"2022-08-08T00:59:31\"],\"y\":[1776458.3793817335,2316706.672876584,3290161.2683342197,3602884.4324462526,3616126.4008998773,3787718.93432213,3787718.93432213]},{\"fill\":\"tozeroy\",\"name\":\"aave-v3\",\"type\":\"scatter\",\"x\":[\"2022-08-04T00:00:00\",\"2022-08-05T00:00:00\",\"2022-08-06T00:00:00\",\"2022-08-07T00:00:00\",\"2022-08-08T00:00:00\",\"2022-08-08T00:59:31\"],\"y\":[239188052.7673392,407257316.2791239,471921052.27091175,511541918.88215065,505480742.161303,505480742.161303]},{\"fill\":\"tozeroy\",\"name\":\"stargate\",\"type\":\"scatter\",\"x\":[\"2022-08-05T00:00:00\",\"2022-08-06T00:00:00\",\"2022-08-07T00:00:00\",\"2022-08-08T00:00:00\",\"2022-08-08T00:59:31\"],\"y\":[11372910.896535566,9799108.45674316,9302990.80378835,8243358.76814818,8243358.76814818]}],                        {\"legend\":{\"title\":{\"text\":\"App Name\"}},\"template\":{\"data\":{\"bar\":[{\"error_x\":{\"color\":\"#2a3f5f\"},\"error_y\":{\"color\":\"#2a3f5f\"},\"marker\":{\"line\":{\"color\":\"#E5ECF6\",\"width\":0.5},\"pattern\":{\"fillmode\":\"overlay\",\"size\":10,\"solidity\":0.2}},\"type\":\"bar\"}],\"barpolar\":[{\"marker\":{\"line\":{\"color\":\"#E5ECF6\",\"width\":0.5},\"pattern\":{\"fillmode\":\"overlay\",\"size\":10,\"solidity\":0.2}},\"type\":\"barpolar\"}],\"carpet\":[{\"aaxis\":{\"endlinecolor\":\"#2a3f5f\",\"gridcolor\":\"white\",\"linecolor\":\"white\",\"minorgridcolor\":\"white\",\"startlinecolor\":\"#2a3f5f\"},\"baxis\":{\"endlinecolor\":\"#2a3f5f\",\"gridcolor\":\"white\",\"linecolor\":\"white\",\"minorgridcolor\":\"white\",\"startlinecolor\":\"#2a3f5f\"},\"type\":\"carpet\"}],\"choropleth\":[{\"colorbar\":{\"outlinewidth\":0,\"ticks\":\"\"},\"type\":\"choropleth\"}],\"contour\":[{\"colorbar\":{\"outlinewidth\":0,\"ticks\":\"\"},\"colorscale\":[[0.0,\"#0d0887\"],[0.1111111111111111,\"#46039f\"],[0.2222222222222222,\"#7201a8\"],[0.3333333333333333,\"#9c179e\"],[0.4444444444444444,\"#bd3786\"],[0.5555555555555556,\"#d8576b\"],[0.6666666666666666,\"#ed7953\"],[0.7777777777777778,\"#fb9f3a\"],[0.8888888888888888,\"#fdca26\"],[1.0,\"#f0f921\"]],\"type\":\"contour\"}],\"contourcarpet\":[{\"colorbar\":{\"outlinewidth\":0,\"ticks\":\"\"},\"type\":\"contourcarpet\"}],\"heatmap\":[{\"colorbar\":{\"outlinewidth\":0,\"ticks\":\"\"},\"colorscale\":[[0.0,\"#0d0887\"],[0.1111111111111111,\"#46039f\"],[0.2222222222222222,\"#7201a8\"],[0.3333333333333333,\"#9c179e\"],[0.4444444444444444,\"#bd3786\"],[0.5555555555555556,\"#d8576b\"],[0.6666666666666666,\"#ed7953\"],[0.7777777777777778,\"#fb9f3a\"],[0.8888888888888888,\"#fdca26\"],[1.0,\"#f0f921\"]],\"type\":\"heatmap\"}],\"heatmapgl\":[{\"colorbar\":{\"outlinewidth\":0,\"ticks\":\"\"},\"colorscale\":[[0.0,\"#0d0887\"],[0.1111111111111111,\"#46039f\"],[0.2222222222222222,\"#7201a8\"],[0.3333333333333333,\"#9c179e\"],[0.4444444444444444,\"#bd3786\"],[0.5555555555555556,\"#d8576b\"],[0.6666666666666666,\"#ed7953\"],[0.7777777777777778,\"#fb9f3a\"],[0.8888888888888888,\"#fdca26\"],[1.0,\"#f0f921\"]],\"type\":\"heatmapgl\"}],\"histogram\":[{\"marker\":{\"pattern\":{\"fillmode\":\"overlay\",\"size\":10,\"solidity\":0.2}},\"type\":\"histogram\"}],\"histogram2d\":[{\"colorbar\":{\"outlinewidth\":0,\"ticks\":\"\"},\"colorscale\":[[0.0,\"#0d0887\"],[0.1111111111111111,\"#46039f\"],[0.2222222222222222,\"#7201a8\"],[0.3333333333333333,\"#9c179e\"],[0.4444444444444444,\"#bd3786\"],[0.5555555555555556,\"#d8576b\"],[0.6666666666666666,\"#ed7953\"],[0.7777777777777778,\"#fb9f3a\"],[0.8888888888888888,\"#fdca26\"],[1.0,\"#f0f921\"]],\"type\":\"histogram2d\"}],\"histogram2dcontour\":[{\"colorbar\":{\"outlinewidth\":0,\"ticks\":\"\"},\"colorscale\":[[0.0,\"#0d0887\"],[0.1111111111111111,\"#46039f\"],[0.2222222222222222,\"#7201a8\"],[0.3333333333333333,\"#9c179e\"],[0.4444444444444444,\"#bd3786\"],[0.5555555555555556,\"#d8576b\"],[0.6666666666666666,\"#ed7953\"],[0.7777777777777778,\"#fb9f3a\"],[0.8888888888888888,\"#fdca26\"],[1.0,\"#f0f921\"]],\"type\":\"histogram2dcontour\"}],\"mesh3d\":[{\"colorbar\":{\"outlinewidth\":0,\"ticks\":\"\"},\"type\":\"mesh3d\"}],\"parcoords\":[{\"line\":{\"colorbar\":{\"outlinewidth\":0,\"ticks\":\"\"}},\"type\":\"parcoords\"}],\"pie\":[{\"automargin\":true,\"type\":\"pie\"}],\"scatter\":[{\"marker\":{\"colorbar\":{\"outlinewidth\":0,\"ticks\":\"\"}},\"type\":\"scatter\"}],\"scatter3d\":[{\"line\":{\"colorbar\":{\"outlinewidth\":0,\"ticks\":\"\"}},\"marker\":{\"colorbar\":{\"outlinewidth\":0,\"ticks\":\"\"}},\"type\":\"scatter3d\"}],\"scattercarpet\":[{\"marker\":{\"colorbar\":{\"outlinewidth\":0,\"ticks\":\"\"}},\"type\":\"scattercarpet\"}],\"scattergeo\":[{\"marker\":{\"colorbar\":{\"outlinewidth\":0,\"ticks\":\"\"}},\"type\":\"scattergeo\"}],\"scattergl\":[{\"marker\":{\"colorbar\":{\"outlinewidth\":0,\"ticks\":\"\"}},\"type\":\"scattergl\"}],\"scattermapbox\":[{\"marker\":{\"colorbar\":{\"outlinewidth\":0,\"ticks\":\"\"}},\"type\":\"scattermapbox\"}],\"scatterpolar\":[{\"marker\":{\"colorbar\":{\"outlinewidth\":0,\"ticks\":\"\"}},\"type\":\"scatterpolar\"}],\"scatterpolargl\":[{\"marker\":{\"colorbar\":{\"outlinewidth\":0,\"ticks\":\"\"}},\"type\":\"scatterpolargl\"}],\"scatterternary\":[{\"marker\":{\"colorbar\":{\"outlinewidth\":0,\"ticks\":\"\"}},\"type\":\"scatterternary\"}],\"surface\":[{\"colorbar\":{\"outlinewidth\":0,\"ticks\":\"\"},\"colorscale\":[[0.0,\"#0d0887\"],[0.1111111111111111,\"#46039f\"],[0.2222222222222222,\"#7201a8\"],[0.3333333333333333,\"#9c179e\"],[0.4444444444444444,\"#bd3786\"],[0.5555555555555556,\"#d8576b\"],[0.6666666666666666,\"#ed7953\"],[0.7777777777777778,\"#fb9f3a\"],[0.8888888888888888,\"#fdca26\"],[1.0,\"#f0f921\"]],\"type\":\"surface\"}],\"table\":[{\"cells\":{\"fill\":{\"color\":\"#EBF0F8\"},\"line\":{\"color\":\"white\"}},\"header\":{\"fill\":{\"color\":\"#C8D4E3\"},\"line\":{\"color\":\"white\"}},\"type\":\"table\"}]},\"layout\":{\"annotationdefaults\":{\"arrowcolor\":\"#2a3f5f\",\"arrowhead\":0,\"arrowwidth\":1},\"autotypenumbers\":\"strict\",\"coloraxis\":{\"colorbar\":{\"outlinewidth\":0,\"ticks\":\"\"}},\"colorscale\":{\"diverging\":[[0,\"#8e0152\"],[0.1,\"#c51b7d\"],[0.2,\"#de77ae\"],[0.3,\"#f1b6da\"],[0.4,\"#fde0ef\"],[0.5,\"#f7f7f7\"],[0.6,\"#e6f5d0\"],[0.7,\"#b8e186\"],[0.8,\"#7fbc41\"],[0.9,\"#4d9221\"],[1,\"#276419\"]],\"sequential\":[[0.0,\"#0d0887\"],[0.1111111111111111,\"#46039f\"],[0.2222222222222222,\"#7201a8\"],[0.3333333333333333,\"#9c179e\"],[0.4444444444444444,\"#bd3786\"],[0.5555555555555556,\"#d8576b\"],[0.6666666666666666,\"#ed7953\"],[0.7777777777777778,\"#fb9f3a\"],[0.8888888888888888,\"#fdca26\"],[1.0,\"#f0f921\"]],\"sequentialminus\":[[0.0,\"#0d0887\"],[0.1111111111111111,\"#46039f\"],[0.2222222222222222,\"#7201a8\"],[0.3333333333333333,\"#9c179e\"],[0.4444444444444444,\"#bd3786\"],[0.5555555555555556,\"#d8576b\"],[0.6666666666666666,\"#ed7953\"],[0.7777777777777778,\"#fb9f3a\"],[0.8888888888888888,\"#fdca26\"],[1.0,\"#f0f921\"]]},\"colorway\":[\"#636efa\",\"#EF553B\",\"#00cc96\",\"#ab63fa\",\"#FFA15A\",\"#19d3f3\",\"#FF6692\",\"#B6E880\",\"#FF97FF\",\"#FECB52\"],\"font\":{\"color\":\"#2a3f5f\"},\"geo\":{\"bgcolor\":\"white\",\"lakecolor\":\"white\",\"landcolor\":\"#E5ECF6\",\"showlakes\":true,\"showland\":true,\"subunitcolor\":\"white\"},\"hoverlabel\":{\"align\":\"left\"},\"hovermode\":\"closest\",\"mapbox\":{\"style\":\"light\"},\"paper_bgcolor\":\"white\",\"plot_bgcolor\":\"#E5ECF6\",\"polar\":{\"angularaxis\":{\"gridcolor\":\"white\",\"linecolor\":\"white\",\"ticks\":\"\"},\"bgcolor\":\"#E5ECF6\",\"radialaxis\":{\"gridcolor\":\"white\",\"linecolor\":\"white\",\"ticks\":\"\"}},\"scene\":{\"xaxis\":{\"backgroundcolor\":\"#E5ECF6\",\"gridcolor\":\"white\",\"gridwidth\":2,\"linecolor\":\"white\",\"showbackground\":true,\"ticks\":\"\",\"zerolinecolor\":\"white\"},\"yaxis\":{\"backgroundcolor\":\"#E5ECF6\",\"gridcolor\":\"white\",\"gridwidth\":2,\"linecolor\":\"white\",\"showbackground\":true,\"ticks\":\"\",\"zerolinecolor\":\"white\"},\"zaxis\":{\"backgroundcolor\":\"#E5ECF6\",\"gridcolor\":\"white\",\"gridwidth\":2,\"linecolor\":\"white\",\"showbackground\":true,\"ticks\":\"\",\"zerolinecolor\":\"white\"}},\"shapedefaults\":{\"line\":{\"color\":\"#2a3f5f\"}},\"ternary\":{\"aaxis\":{\"gridcolor\":\"white\",\"linecolor\":\"white\",\"ticks\":\"\"},\"baxis\":{\"gridcolor\":\"white\",\"linecolor\":\"white\",\"ticks\":\"\"},\"bgcolor\":\"#E5ECF6\",\"caxis\":{\"gridcolor\":\"white\",\"linecolor\":\"white\",\"ticks\":\"\"}},\"title\":{\"x\":0.05},\"xaxis\":{\"automargin\":true,\"gridcolor\":\"white\",\"linecolor\":\"white\",\"ticks\":\"\",\"title\":{\"standoff\":15},\"zerolinecolor\":\"white\",\"zerolinewidth\":2},\"yaxis\":{\"automargin\":true,\"gridcolor\":\"white\",\"linecolor\":\"white\",\"ticks\":\"\",\"title\":{\"standoff\":15},\"zerolinecolor\":\"white\",\"zerolinewidth\":2}}},\"title\":{\"text\":\"Cumulative Dollar Flow since Program Announcement\"},\"xaxis\":{\"title\":{\"text\":\"Day\"}},\"yaxis\":{\"tickprefix\":\"$\",\"title\":{\"text\":\"Cumulative Net Dollar Flow (N$F)\"}}},                        {\"responsive\": true}                    ).then(function(){\n",
       "                            \n",
       "var gd = document.getElementById('411dd755-a8f9-4ed2-8ed3-f431005b8aed');\n",
       "var x = new MutationObserver(function (mutations, observer) {{\n",
       "        var display = window.getComputedStyle(gd).display;\n",
       "        if (!display || display === 'none') {{\n",
       "            console.log([gd, 'removed!']);\n",
       "            Plotly.purge(gd);\n",
       "            observer.disconnect();\n",
       "        }}\n",
       "}});\n",
       "\n",
       "// Listen for the removal of the full notebook cells\n",
       "var notebookContainer = gd.closest('#notebook-container');\n",
       "if (notebookContainer) {{\n",
       "    x.observe(notebookContainer, {childList: true});\n",
       "}}\n",
       "\n",
       "// Listen for the clearing of the current output cell\n",
       "var outputEl = gd.closest('.output');\n",
       "if (outputEl) {{\n",
       "    x.observe(outputEl, {childList: true});\n",
       "}}\n",
       "\n",
       "                        })                };                });            </script>        </div>"
      ]
     },
     "metadata": {},
     "output_type": "display_data"
    },
    {
     "name": "stdout",
     "output_type": "stream",
     "text": [
      "yay\n"
     ]
    }
   ],
   "source": [
    "# fig.show()\n",
    "cumul_fig.show()\n",
    "print(\"yay\")"
   ]
  },
  {
   "cell_type": "code",
   "execution_count": 153,
   "id": "def0cbf6",
   "metadata": {},
   "outputs": [],
   "source": [
    "# ! jupyter nbconvert --to python optimism_app_net_flows.ipynb"
   ]
  }
 ],
 "metadata": {
  "kernelspec": {
   "display_name": "Python 3 (ipykernel)",
   "language": "python",
   "name": "python3"
  },
  "language_info": {
   "codemirror_mode": {
    "name": "ipython",
    "version": 3
   },
   "file_extension": ".py",
   "mimetype": "text/x-python",
   "name": "python",
   "nbconvert_exporter": "python",
   "pygments_lexer": "ipython3",
   "version": "3.9.7"
  }
 },
 "nbformat": 4,
 "nbformat_minor": 5
}
