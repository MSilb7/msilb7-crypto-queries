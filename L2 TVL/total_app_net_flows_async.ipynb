{
 "cells": [
  {
   "cell_type": "code",
   "execution_count": 1,
   "id": "ffefb42a",
   "metadata": {},
   "outputs": [],
   "source": [
    "import pandas as pd\n",
    "import requests as r\n",
    "import plotly.express as px\n",
    "import plotly.graph_objects as go\n",
    "from datetime import datetime, timedelta, date\n",
    "import numpy as np\n",
    "import time\n",
    "import os\n",
    "import asyncio, aiohttp, nest_asyncio\n",
    "from aiohttp_retry import RetryClient, ExponentialRetry\n",
    "nest_asyncio.apply()\n",
    "header = {'User-Agent': 'Mozilla/5.0 (Windows NT 10.0; Win64; x64; rv:71.0) Gecko/20100101 Firefox/71.0'}"
   ]
  },
  {
   "cell_type": "code",
   "execution_count": 2,
   "id": "539f29a0",
   "metadata": {},
   "outputs": [],
   "source": [
    "#https://stackoverflow.com/questions/23267409/how-to-implement-retry-mechanism-into-python-requests-library\n",
    "\n",
    "import logging\n",
    "import requests\n",
    "\n",
    "from requests.adapters import HTTPAdapter, Retry\n",
    "\n",
    "# logging.basicConfig(level=logging.DEBUG)\n",
    "\n",
    "s = requests.Session()\n",
    "retries = Retry(total=10, backoff_factor=1, status_forcelist=[ 502, 503, 504 ])\n",
    "s.mount('http://', HTTPAdapter(max_retries=retries))\n",
    "\n",
    "pwd = os.getcwd()\n",
    "if 'L2 TVL' in pwd:\n",
    "    prepend = ''\n",
    "else:\n",
    "    prepend = 'L2 TVL/'"
   ]
  },
  {
   "cell_type": "code",
   "execution_count": 3,
   "id": "bbc56e12",
   "metadata": {},
   "outputs": [],
   "source": [
    "trailing_num_days = 90\n",
    "\n",
    "start_date = date.today()-timedelta(days=trailing_num_days +1)\n",
    "\n",
    "# start_date = datetime.strptime('2022-07-13', '%Y-%m-%d').date()\n",
    "\n"
   ]
  },
  {
   "cell_type": "code",
   "execution_count": 4,
   "id": "d984f9ab",
   "metadata": {},
   "outputs": [],
   "source": [
    "#get all apps > 10 m tvl\n",
    "min_tvl = 10_000_000\n",
    "all_api = 'https://api.llama.fi/protocols'\n",
    "res = pd.DataFrame( r.get(all_api, headers=header).json() )\n",
    "res = res[res['tvl'] > min_tvl] ##greater than 10mil\n",
    "# print(len(res))\n",
    "# print(res.columns)\n",
    "# display(res)"
   ]
  },
  {
   "cell_type": "code",
   "execution_count": 5,
   "id": "beebc582",
   "metadata": {},
   "outputs": [
    {
     "name": "stderr",
     "output_type": "stream",
     "text": [
      "/var/folders/by/kltjc8yd0yz_7_wrtrzhrm9m0000gn/T/ipykernel_16134/1484238105.py:5: SettingWithCopyWarning: \n",
      "A value is trying to be set on a copy of a slice from a DataFrame.\n",
      "Try using .loc[row_indexer,col_indexer] = value instead\n",
      "\n",
      "See the caveats in the documentation: https://pandas.pydata.org/pandas-docs/stable/user_guide/indexing.html#returning-a-view-versus-a-copy\n",
      "  protocols['chainTvls'] = protocols['chainTvls'].apply(lambda x: list(x.keys()) )\n"
     ]
    }
   ],
   "source": [
    "\n",
    "protocols = res[['slug','chainTvls']]\n",
    "# print(protocols)\n",
    "re = res['chainTvls']\n",
    "# r[1].keys()\n",
    "protocols['chainTvls'] = protocols['chainTvls'].apply(lambda x: list(x.keys()) )\n",
    "# protocols[protocols['chainTvls'].map(set(['Arbitrum']).issubset)]\n"
   ]
  },
  {
   "cell_type": "code",
   "execution_count": 6,
   "id": "c84c9ef1",
   "metadata": {},
   "outputs": [],
   "source": [
    "# protocols = protocols[ protocols['slug'] == 'uniswap-v3' ]\n",
    "# api_str = 'https://api.llama.fi/protocol/'\n",
    "# ad = pd.DataFrame( r.get(api_str).json()['chainTvls'] ).T[['tokens']]\n",
    "# ad"
   ]
  },
  {
   "cell_type": "code",
   "execution_count": 7,
   "id": "9717e4df",
   "metadata": {},
   "outputs": [],
   "source": [
    "# api_str = 'https://api.llama.fi/protocol/uniswap'\n",
    "# prot_req = r.get(api_str, headers=header).json()['chainTvls']\n",
    "# # prot_req['Ethereum']\n",
    "# prot_req"
   ]
  },
  {
   "cell_type": "code",
   "execution_count": 8,
   "id": "4e4e981e",
   "metadata": {},
   "outputs": [],
   "source": [
    "statuses = {x for x in range(100, 600)}\n",
    "statuses.remove(200)\n",
    "statuses.remove(429)"
   ]
  },
  {
   "cell_type": "code",
   "execution_count": 9,
   "id": "052b6ccc",
   "metadata": {},
   "outputs": [],
   "source": [
    "async def get_tvl(apistring, header, statuses, chains, prot):\n",
    "        prod = []\n",
    "        retry_client = RetryClient()\n",
    "        async with retry_client.get(apistring, retry_options=ExponentialRetry(attempts=10), raise_for_status=statuses) as response:\n",
    "                try:\n",
    "                        prot_req = await response.json()\n",
    "                        prot_req = prot_req['chainTvls']\n",
    "                        for ch in chains:\n",
    "                                ad = pd.json_normalize( prot_req[ch]['tokens'] )\n",
    "                                ad_usd = pd.json_normalize( prot_req[ch]['tokensInUsd'] )\n",
    "                        #             ad = ad.merge(how='left')\n",
    "                                if not ad.empty:\n",
    "                                        ad = pd.melt(ad,id_vars = ['date'])\n",
    "                                        ad = ad.rename(columns={'variable':'token','value':'token_value'})\n",
    "                                        ad_usd = pd.melt(ad_usd,id_vars = ['date'])\n",
    "                                        ad_usd = ad_usd.rename(columns={'variable':'token','value':'usd_value'})\n",
    "                                        ad = ad.merge(ad_usd,on=['date','token'])\n",
    "                                        \n",
    "                                        ad['date'] = pd.to_datetime(ad['date'], unit ='s') #convert to days\n",
    "                                        ad['token'] = ad['token'].str.replace('tokens.','', regex=False)\n",
    "                                        ad['protocol'] = prot\n",
    "                                        ad['chain'] = ch\n",
    "                                #         ad['start_date'] = pd.to_datetime(prot[1])\n",
    "                                        # ad['date'] = ad['date'] - timedelta(days=1) #change to eod vs sod\n",
    "                                        prod.append(ad)\n",
    "                except Exception as e:\n",
    "                        raise Exception(\"Could not convert json\")\n",
    "        await retry_client.close()\n",
    "        \n",
    "        return prod"
   ]
  },
  {
   "cell_type": "code",
   "execution_count": 10,
   "id": "00c9efc7",
   "metadata": {},
   "outputs": [],
   "source": [
    "def get_range(protocols):\n",
    "        data_dfs = []\n",
    "        fee_df = []\n",
    "        # for dt in date_range:\n",
    "        #         await asyncio.gather()\n",
    "        #         data_dfs.append(res_df)\n",
    "        #         # res.columns\n",
    "        # try:\n",
    "        #         loop.close()\n",
    "        # except:\n",
    "        #         #nothing\n",
    "        loop = asyncio.get_event_loop()\n",
    "        #get by app\n",
    "        api_str = 'https://api.llama.fi/protocol/'\n",
    "        # print(protocols)\n",
    "        prod = []\n",
    "        tasks = []\n",
    "        for index,proto in protocols.iterrows():\n",
    "                #     print(proto)\n",
    "                prot = proto['slug']\n",
    "                chains = proto['chainTvls']\n",
    "                apic = api_str + prot\n",
    "                #     time.sleep(0.1)\n",
    "                tasks.append( get_tvl(apic, header, statuses, chains, prot) )\n",
    "        # print(tasks)\n",
    "        data_dfs = loop.run_until_complete(asyncio.gather(*tasks, return_exceptions=True))\n",
    "        # print(date_range)\n",
    "        # loop.close()\n",
    "        # print(data_dfs)\n",
    "        # fee_df = pd.concat(data_dfs)\n",
    "        # return fee_df\n",
    "        return data_dfs"
   ]
  },
  {
   "cell_type": "code",
   "execution_count": 11,
   "id": "d3399236",
   "metadata": {},
   "outputs": [],
   "source": [
    "df_df = get_range(protocols)\n",
    "# print (typeof(df_df_all) )\n"
   ]
  },
  {
   "cell_type": "code",
   "execution_count": 12,
   "id": "5b4e1888",
   "metadata": {},
   "outputs": [],
   "source": [
    "df_list = []\n",
    "for dat in df_df:\n",
    "        if isinstance(dat,list):\n",
    "                # print(dat)\n",
    "                for pt in dat: #each list within the list (i.e. multiple chains)\n",
    "                        try:\n",
    "                                tempdf = pd.DataFrame(pt)\n",
    "                                if not tempdf.empty:\n",
    "                                        # print(tempdf)\n",
    "                                        df_list.append(tempdf)\n",
    "                        except:\n",
    "                                continue\n",
    "# df_df_all = pd.DataFrame()\n",
    "df_df_all = pd.concat(df_list)"
   ]
  },
  {
   "cell_type": "code",
   "execution_count": 13,
   "id": "5ab956a5",
   "metadata": {},
   "outputs": [],
   "source": [
    "# df_df_all"
   ]
  },
  {
   "cell_type": "code",
   "execution_count": 14,
   "id": "c7c1ddad",
   "metadata": {},
   "outputs": [
    {
     "name": "stdout",
     "output_type": "stream",
     "text": [
      "done api\n"
     ]
    }
   ],
   "source": [
    "\n",
    "# df_df_all = pd.concat(df_df_all)\n",
    "# print(df_df_all[2])\n",
    "print(\"done api\")"
   ]
  },
  {
   "cell_type": "code",
   "execution_count": 15,
   "id": "53c381e8",
   "metadata": {},
   "outputs": [
    {
     "name": "stderr",
     "output_type": "stream",
     "text": [
      "/var/folders/by/kltjc8yd0yz_7_wrtrzhrm9m0000gn/T/ipykernel_16134/78629369.py:5: SettingWithCopyWarning: \n",
      "A value is trying to be set on a copy of a slice from a DataFrame.\n",
      "Try using .loc[row_indexer,col_indexer] = value instead\n",
      "\n",
      "See the caveats in the documentation: https://pandas.pydata.org/pandas-docs/stable/user_guide/indexing.html#returning-a-view-versus-a-copy\n",
      "  df_df['last_token_value'] = df_df.groupby(['token','protocol','chain'])['token_value'].shift(1)\n"
     ]
    }
   ],
   "source": [
    "#filter down a bit so we can do trailing comp w/o doing every row\n",
    "df_df = df_df_all[df_df_all['date'].dt.date >= start_date-timedelta(days=1) ]\n",
    "\n",
    "#trailing comp\n",
    "df_df['last_token_value'] = df_df.groupby(['token','protocol','chain'])['token_value'].shift(1)\n",
    "#now actually filter\n",
    "df_df = df_df[df_df['date'].dt.date >= start_date ]\n",
    "\n"
   ]
  },
  {
   "cell_type": "code",
   "execution_count": 16,
   "id": "3cf54141",
   "metadata": {},
   "outputs": [],
   "source": [
    "# sample = df_df[(df_df['protocol'] == 'uniswap') & (df_df['chain'] == 'Optimism')]\n",
    "# sample = sample.sort_values(by='date',ascending=False)\n",
    "# # display(sample)\n",
    "# sample.to_csv('check_uni_error.csv')"
   ]
  },
  {
   "cell_type": "code",
   "execution_count": 17,
   "id": "8f9eb8e5",
   "metadata": {},
   "outputs": [],
   "source": [
    "\n",
    "data_df = df_df.copy()\n",
    "data_df['token_value'] = data_df['token_value'].replace(0, np.nan)\n",
    "# price = usd value / num tokens\n",
    "data_df['price_usd'] = data_df['usd_value']/data_df['token_value']\n",
    "\n",
    "data_df.sort_values(by='date',inplace=True)\n",
    "\n",
    "# net token change\n",
    "data_df['net_token_flow'] = data_df['token_value'] - data_df['last_token_value']\n",
    "# net token change * current price\n",
    "data_df['net_dollar_flow'] = data_df['net_token_flow'] * data_df['price_usd']\n",
    "\n",
    "\n",
    "data_df = data_df[abs(data_df['net_dollar_flow']) < 50_000_000_000] #50 bil error bar for bad prices\n",
    "data_df = data_df[~data_df['net_dollar_flow'].isna()]\n"
   ]
  },
  {
   "cell_type": "code",
   "execution_count": 18,
   "id": "79aa9678",
   "metadata": {},
   "outputs": [
    {
     "data": {
      "text/html": [
       "<div>\n",
       "<style scoped>\n",
       "    .dataframe tbody tr th:only-of-type {\n",
       "        vertical-align: middle;\n",
       "    }\n",
       "\n",
       "    .dataframe tbody tr th {\n",
       "        vertical-align: top;\n",
       "    }\n",
       "\n",
       "    .dataframe thead th {\n",
       "        text-align: right;\n",
       "    }\n",
       "</style>\n",
       "<table border=\"1\" class=\"dataframe\">\n",
       "  <thead>\n",
       "    <tr style=\"text-align: right;\">\n",
       "      <th></th>\n",
       "      <th>date</th>\n",
       "      <th>token</th>\n",
       "      <th>token_value</th>\n",
       "      <th>usd_value</th>\n",
       "      <th>protocol</th>\n",
       "      <th>chain</th>\n",
       "      <th>last_token_value</th>\n",
       "      <th>price_usd</th>\n",
       "      <th>net_token_flow</th>\n",
       "      <th>net_dollar_flow</th>\n",
       "    </tr>\n",
       "  </thead>\n",
       "  <tbody>\n",
       "    <tr>\n",
       "      <th>223</th>\n",
       "      <td>2022-10-31 00:00:00</td>\n",
       "      <td>USDC</td>\n",
       "      <td>43100675.38042</td>\n",
       "      <td>4.309421e+07</td>\n",
       "      <td>stargate</td>\n",
       "      <td>Optimism</td>\n",
       "      <td>42373690.60478</td>\n",
       "      <td>0.99985</td>\n",
       "      <td>726984.77564</td>\n",
       "      <td>726875.727924</td>\n",
       "    </tr>\n",
       "    <tr>\n",
       "      <th>457</th>\n",
       "      <td>2022-10-31 00:00:00</td>\n",
       "      <td>WETH</td>\n",
       "      <td>3454.9013</td>\n",
       "      <td>5.459573e+06</td>\n",
       "      <td>stargate</td>\n",
       "      <td>Optimism</td>\n",
       "      <td>3506.54352</td>\n",
       "      <td>1580.239998</td>\n",
       "      <td>-51.64222</td>\n",
       "      <td>-81607.101627</td>\n",
       "    </tr>\n",
       "    <tr>\n",
       "      <th>224</th>\n",
       "      <td>2022-11-01 00:00:00</td>\n",
       "      <td>USDC</td>\n",
       "      <td>45615401.75809</td>\n",
       "      <td>4.558160e+07</td>\n",
       "      <td>stargate</td>\n",
       "      <td>Optimism</td>\n",
       "      <td>43100675.38042</td>\n",
       "      <td>0.999259</td>\n",
       "      <td>2514726.37767</td>\n",
       "      <td>2512862.965424</td>\n",
       "    </tr>\n",
       "    <tr>\n",
       "      <th>458</th>\n",
       "      <td>2022-11-01 00:00:00</td>\n",
       "      <td>WETH</td>\n",
       "      <td>4242.51961</td>\n",
       "      <td>6.654519e+06</td>\n",
       "      <td>stargate</td>\n",
       "      <td>Optimism</td>\n",
       "      <td>3454.9013</td>\n",
       "      <td>1568.530001</td>\n",
       "      <td>787.61831</td>\n",
       "      <td>1235402.948797</td>\n",
       "    </tr>\n",
       "    <tr>\n",
       "      <th>459</th>\n",
       "      <td>2022-11-02 00:00:00</td>\n",
       "      <td>WETH</td>\n",
       "      <td>4221.15674</td>\n",
       "      <td>6.697920e+06</td>\n",
       "      <td>stargate</td>\n",
       "      <td>Optimism</td>\n",
       "      <td>4242.51961</td>\n",
       "      <td>1586.75</td>\n",
       "      <td>-21.36287</td>\n",
       "      <td>-33897.533979</td>\n",
       "    </tr>\n",
       "    <tr>\n",
       "      <th>225</th>\n",
       "      <td>2022-11-02 00:00:00</td>\n",
       "      <td>USDC</td>\n",
       "      <td>46295570.23003</td>\n",
       "      <td>4.629557e+07</td>\n",
       "      <td>stargate</td>\n",
       "      <td>Optimism</td>\n",
       "      <td>45615401.75809</td>\n",
       "      <td>1.0</td>\n",
       "      <td>680168.47194</td>\n",
       "      <td>680168.47194</td>\n",
       "    </tr>\n",
       "    <tr>\n",
       "      <th>460</th>\n",
       "      <td>2022-11-03 00:00:00</td>\n",
       "      <td>WETH</td>\n",
       "      <td>4287.31145</td>\n",
       "      <td>6.577936e+06</td>\n",
       "      <td>stargate</td>\n",
       "      <td>Optimism</td>\n",
       "      <td>4221.15674</td>\n",
       "      <td>1534.280001</td>\n",
       "      <td>66.15471</td>\n",
       "      <td>101499.848545</td>\n",
       "    </tr>\n",
       "    <tr>\n",
       "      <th>226</th>\n",
       "      <td>2022-11-03 00:00:00</td>\n",
       "      <td>USDC</td>\n",
       "      <td>46921381.40602</td>\n",
       "      <td>4.692138e+07</td>\n",
       "      <td>stargate</td>\n",
       "      <td>Optimism</td>\n",
       "      <td>46295570.23003</td>\n",
       "      <td>1.0</td>\n",
       "      <td>625811.17599</td>\n",
       "      <td>625811.17599</td>\n",
       "    </tr>\n",
       "    <tr>\n",
       "      <th>461</th>\n",
       "      <td>2022-11-04 00:00:00</td>\n",
       "      <td>WETH</td>\n",
       "      <td>4721.57919</td>\n",
       "      <td>7.265566e+06</td>\n",
       "      <td>stargate</td>\n",
       "      <td>Optimism</td>\n",
       "      <td>4287.31145</td>\n",
       "      <td>1538.800001</td>\n",
       "      <td>434.26774</td>\n",
       "      <td>668251.198943</td>\n",
       "    </tr>\n",
       "    <tr>\n",
       "      <th>227</th>\n",
       "      <td>2022-11-04 00:00:00</td>\n",
       "      <td>USDC</td>\n",
       "      <td>50325078.39973</td>\n",
       "      <td>5.032508e+07</td>\n",
       "      <td>stargate</td>\n",
       "      <td>Optimism</td>\n",
       "      <td>46921381.40602</td>\n",
       "      <td>1.0</td>\n",
       "      <td>3403696.99371</td>\n",
       "      <td>3403696.99371</td>\n",
       "    </tr>\n",
       "    <tr>\n",
       "      <th>228</th>\n",
       "      <td>2022-11-05 00:00:00</td>\n",
       "      <td>USDC</td>\n",
       "      <td>51860784.56581</td>\n",
       "      <td>5.141022e+07</td>\n",
       "      <td>stargate</td>\n",
       "      <td>Optimism</td>\n",
       "      <td>50325078.39973</td>\n",
       "      <td>0.991312</td>\n",
       "      <td>1535706.16608</td>\n",
       "      <td>1522363.950909</td>\n",
       "    </tr>\n",
       "    <tr>\n",
       "      <th>462</th>\n",
       "      <td>2022-11-05 00:00:00</td>\n",
       "      <td>WETH</td>\n",
       "      <td>4697.0852</td>\n",
       "      <td>7.739246e+06</td>\n",
       "      <td>stargate</td>\n",
       "      <td>Optimism</td>\n",
       "      <td>4721.57919</td>\n",
       "      <td>1647.669999</td>\n",
       "      <td>-24.49399</td>\n",
       "      <td>-40358.012479</td>\n",
       "    </tr>\n",
       "    <tr>\n",
       "      <th>463</th>\n",
       "      <td>2022-11-06 00:00:00</td>\n",
       "      <td>WETH</td>\n",
       "      <td>5906.09424</td>\n",
       "      <td>9.617661e+06</td>\n",
       "      <td>stargate</td>\n",
       "      <td>Optimism</td>\n",
       "      <td>4697.0852</td>\n",
       "      <td>1628.43</td>\n",
       "      <td>1209.00904</td>\n",
       "      <td>1968786.591148</td>\n",
       "    </tr>\n",
       "    <tr>\n",
       "      <th>229</th>\n",
       "      <td>2022-11-06 00:00:00</td>\n",
       "      <td>USDC</td>\n",
       "      <td>52747979.97239</td>\n",
       "      <td>5.270420e+07</td>\n",
       "      <td>stargate</td>\n",
       "      <td>Optimism</td>\n",
       "      <td>51860784.56581</td>\n",
       "      <td>0.99917</td>\n",
       "      <td>887195.40658</td>\n",
       "      <td>886459.034393</td>\n",
       "    </tr>\n",
       "    <tr>\n",
       "      <th>464</th>\n",
       "      <td>2022-11-07 00:00:00</td>\n",
       "      <td>WETH</td>\n",
       "      <td>5935.45246</td>\n",
       "      <td>9.347863e+06</td>\n",
       "      <td>stargate</td>\n",
       "      <td>Optimism</td>\n",
       "      <td>5906.09424</td>\n",
       "      <td>1574.920001</td>\n",
       "      <td>29.35822</td>\n",
       "      <td>46236.84788</td>\n",
       "    </tr>\n",
       "    <tr>\n",
       "      <th>230</th>\n",
       "      <td>2022-11-07 00:00:00</td>\n",
       "      <td>USDC</td>\n",
       "      <td>51442056.71694</td>\n",
       "      <td>5.154494e+07</td>\n",
       "      <td>stargate</td>\n",
       "      <td>Optimism</td>\n",
       "      <td>52747979.97239</td>\n",
       "      <td>1.002</td>\n",
       "      <td>-1305923.25545</td>\n",
       "      <td>-1308535.101961</td>\n",
       "    </tr>\n",
       "    <tr>\n",
       "      <th>231</th>\n",
       "      <td>2022-11-08 00:00:00</td>\n",
       "      <td>USDC</td>\n",
       "      <td>50179386.79261</td>\n",
       "      <td>5.022957e+07</td>\n",
       "      <td>stargate</td>\n",
       "      <td>Optimism</td>\n",
       "      <td>51442056.71694</td>\n",
       "      <td>1.001</td>\n",
       "      <td>-1262669.92433</td>\n",
       "      <td>-1263932.594254</td>\n",
       "    </tr>\n",
       "    <tr>\n",
       "      <th>465</th>\n",
       "      <td>2022-11-08 00:00:00</td>\n",
       "      <td>WETH</td>\n",
       "      <td>5832.98089</td>\n",
       "      <td>9.153639e+06</td>\n",
       "      <td>stargate</td>\n",
       "      <td>Optimism</td>\n",
       "      <td>5935.45246</td>\n",
       "      <td>1569.289999</td>\n",
       "      <td>-102.47157</td>\n",
       "      <td>-160807.609987</td>\n",
       "    </tr>\n",
       "    <tr>\n",
       "      <th>232</th>\n",
       "      <td>2022-11-09 00:00:00</td>\n",
       "      <td>USDC</td>\n",
       "      <td>50305169.39322</td>\n",
       "      <td>5.030517e+07</td>\n",
       "      <td>stargate</td>\n",
       "      <td>Optimism</td>\n",
       "      <td>50179386.79261</td>\n",
       "      <td>1.0</td>\n",
       "      <td>125782.60061</td>\n",
       "      <td>125782.60061</td>\n",
       "    </tr>\n",
       "    <tr>\n",
       "      <th>701</th>\n",
       "      <td>2022-11-09 19:59:47</td>\n",
       "      <td>ETH</td>\n",
       "      <td>5922.876</td>\n",
       "      <td>7.078251e+06</td>\n",
       "      <td>stargate</td>\n",
       "      <td>Optimism</td>\n",
       "      <td>6008.69065</td>\n",
       "      <td>1195.07</td>\n",
       "      <td>-85.81465</td>\n",
       "      <td>-102554.513749</td>\n",
       "    </tr>\n",
       "    <tr>\n",
       "      <th>233</th>\n",
       "      <td>2022-11-09 19:59:47</td>\n",
       "      <td>USDC</td>\n",
       "      <td>46153405.64668</td>\n",
       "      <td>4.647648e+07</td>\n",
       "      <td>stargate</td>\n",
       "      <td>Optimism</td>\n",
       "      <td>50305169.39322</td>\n",
       "      <td>1.007</td>\n",
       "      <td>-4151763.74654</td>\n",
       "      <td>-4180826.092766</td>\n",
       "    </tr>\n",
       "  </tbody>\n",
       "</table>\n",
       "</div>"
      ],
      "text/plain": [
       "                   date token     token_value     usd_value  protocol  \\\n",
       "223 2022-10-31 00:00:00  USDC  43100675.38042  4.309421e+07  stargate   \n",
       "457 2022-10-31 00:00:00  WETH       3454.9013  5.459573e+06  stargate   \n",
       "224 2022-11-01 00:00:00  USDC  45615401.75809  4.558160e+07  stargate   \n",
       "458 2022-11-01 00:00:00  WETH      4242.51961  6.654519e+06  stargate   \n",
       "459 2022-11-02 00:00:00  WETH      4221.15674  6.697920e+06  stargate   \n",
       "225 2022-11-02 00:00:00  USDC  46295570.23003  4.629557e+07  stargate   \n",
       "460 2022-11-03 00:00:00  WETH      4287.31145  6.577936e+06  stargate   \n",
       "226 2022-11-03 00:00:00  USDC  46921381.40602  4.692138e+07  stargate   \n",
       "461 2022-11-04 00:00:00  WETH      4721.57919  7.265566e+06  stargate   \n",
       "227 2022-11-04 00:00:00  USDC  50325078.39973  5.032508e+07  stargate   \n",
       "228 2022-11-05 00:00:00  USDC  51860784.56581  5.141022e+07  stargate   \n",
       "462 2022-11-05 00:00:00  WETH       4697.0852  7.739246e+06  stargate   \n",
       "463 2022-11-06 00:00:00  WETH      5906.09424  9.617661e+06  stargate   \n",
       "229 2022-11-06 00:00:00  USDC  52747979.97239  5.270420e+07  stargate   \n",
       "464 2022-11-07 00:00:00  WETH      5935.45246  9.347863e+06  stargate   \n",
       "230 2022-11-07 00:00:00  USDC  51442056.71694  5.154494e+07  stargate   \n",
       "231 2022-11-08 00:00:00  USDC  50179386.79261  5.022957e+07  stargate   \n",
       "465 2022-11-08 00:00:00  WETH      5832.98089  9.153639e+06  stargate   \n",
       "232 2022-11-09 00:00:00  USDC  50305169.39322  5.030517e+07  stargate   \n",
       "701 2022-11-09 19:59:47   ETH        5922.876  7.078251e+06  stargate   \n",
       "233 2022-11-09 19:59:47  USDC  46153405.64668  4.647648e+07  stargate   \n",
       "\n",
       "        chain last_token_value    price_usd net_token_flow net_dollar_flow  \n",
       "223  Optimism   42373690.60478      0.99985   726984.77564   726875.727924  \n",
       "457  Optimism       3506.54352  1580.239998      -51.64222   -81607.101627  \n",
       "224  Optimism   43100675.38042     0.999259  2514726.37767  2512862.965424  \n",
       "458  Optimism        3454.9013  1568.530001      787.61831  1235402.948797  \n",
       "459  Optimism       4242.51961      1586.75      -21.36287   -33897.533979  \n",
       "225  Optimism   45615401.75809          1.0   680168.47194    680168.47194  \n",
       "460  Optimism       4221.15674  1534.280001       66.15471   101499.848545  \n",
       "226  Optimism   46295570.23003          1.0   625811.17599    625811.17599  \n",
       "461  Optimism       4287.31145  1538.800001      434.26774   668251.198943  \n",
       "227  Optimism   46921381.40602          1.0  3403696.99371   3403696.99371  \n",
       "228  Optimism   50325078.39973     0.991312  1535706.16608  1522363.950909  \n",
       "462  Optimism       4721.57919  1647.669999      -24.49399   -40358.012479  \n",
       "463  Optimism        4697.0852      1628.43     1209.00904  1968786.591148  \n",
       "229  Optimism   51860784.56581      0.99917   887195.40658   886459.034393  \n",
       "464  Optimism       5906.09424  1574.920001       29.35822     46236.84788  \n",
       "230  Optimism   52747979.97239        1.002 -1305923.25545 -1308535.101961  \n",
       "231  Optimism   51442056.71694        1.001 -1262669.92433 -1263932.594254  \n",
       "465  Optimism       5935.45246  1569.289999     -102.47157  -160807.609987  \n",
       "232  Optimism   50179386.79261          1.0   125782.60061    125782.60061  \n",
       "701  Optimism       6008.69065      1195.07      -85.81465  -102554.513749  \n",
       "233  Optimism   50305169.39322        1.007 -4151763.74654 -4180826.092766  "
      ]
     },
     "execution_count": 18,
     "metadata": {},
     "output_type": "execute_result"
    }
   ],
   "source": [
    "data_df[(data_df['protocol']=='stargate') & (data_df['chain']=='Optimism') & (data_df['date']>='2022-10-31')]\n"
   ]
  },
  {
   "cell_type": "code",
   "execution_count": 19,
   "id": "59f3f879",
   "metadata": {},
   "outputs": [
    {
     "name": "stderr",
     "output_type": "stream",
     "text": [
      "Aiohttp retry client was not closed\n",
      "Aiohttp retry client was not closed\n",
      "Unclosed client session\n",
      "client_session: <aiohttp.client.ClientSession object at 0x7fdada8a8d60>\n",
      "Unclosed client session\n",
      "client_session: <aiohttp.client.ClientSession object at 0x7fdad9ae62e0>\n"
     ]
    }
   ],
   "source": [
    "netdf_df = data_df[['date','protocol','chain','net_dollar_flow','usd_value']]\n",
    "netdf_df = netdf_df.fillna(0)\n",
    "netdf_df = netdf_df.sort_values(by='date',ascending=True)\n",
    "netdf_df = netdf_df.groupby(['date','protocol','chain']).sum(['net_dollar_flow','usd_value']) ##agg by app\n",
    "\n",
    "#usd_value is the TVL on a given day\n",
    "netdf_df = netdf_df.groupby(['date','protocol','chain','usd_value']).sum(['net_dollar_flow'])\n",
    "netdf_df.reset_index(inplace=True)\n",
    "\n",
    "# netdf_df['cumul_net_dollar_flow'] = netdf_df[['protocol','chain','net_dollar_flow']]\\\n",
    "#                                     .groupby(['protocol','chain']).cumsum()\n",
    "# netdf_df['cumul_net_dollar_flow_7d'] = netdf_df[['protocol','chain','net_dollar_flow']]\\\n",
    "#                                     .groupby(['protocol','chain'])['net_dollar_flow'].rolling(7, min_periods=1).sum()\\\n",
    "#                                     .reset_index(drop=True)\n",
    "# netdf_df['cumul_net_dollar_flow_30d'] = netdf_df[['protocol','chain','net_dollar_flow']]\\\n",
    "#                                     .groupby(['protocol','chain'])['net_dollar_flow'].rolling(30, min_periods=1).sum()\\\n",
    "#                                     .reset_index(drop=True)\n",
    "netdf_df.reset_index(inplace=True)\n",
    "netdf_df.drop(columns=['index'],inplace=True)\n",
    "# display(netdf_df[netdf_df['protocol']=='makerdao'])\n",
    "\n"
   ]
  },
  {
   "cell_type": "code",
   "execution_count": 20,
   "id": "a579b389",
   "metadata": {},
   "outputs": [],
   "source": [
    "# netdf_df[(netdf_df['protocol']=='stargate') & (netdf_df['chain']=='Optimism')]\n"
   ]
  },
  {
   "cell_type": "code",
   "execution_count": 21,
   "id": "18ccf06e",
   "metadata": {},
   "outputs": [],
   "source": [
    "#get latest\n",
    "netdf_df['rank_desc'] = netdf_df.groupby(['protocol', 'chain'])['date'].\\\n",
    "                            rank(method='dense',ascending=False).astype(int)\n",
    "# display(netdf_df[netdf_df['protocol'] == 'lyra'])\n",
    "netdf_df = netdf_df[  #( netdf_df['rank_desc'] == 1 ) &\\\n",
    "                        (~netdf_df['chain'].str.contains('-borrowed')) &\\\n",
    "                        (~netdf_df['chain'].str.contains('-staking')) &\\\n",
    "                        (~netdf_df['chain'].str.contains('-pool2')) &\\\n",
    "                            (~netdf_df['chain'].str.contains('-treasury')) &\\\n",
    "                        (~( netdf_df['chain'] == 'treasury') ) &\\\n",
    "                        (~( netdf_df['chain'] == 'borrowed') ) &\\\n",
    "                        (~( netdf_df['chain'] == 'staking') ) &\\\n",
    "                            (~( netdf_df['chain'] == 'treasury') ) &\\\n",
    "                        (~( netdf_df['chain'] == 'pool2') ) &\\\n",
    "                        (~( netdf_df['protocol'] == 'polygon-bridge-&-staking') ) \n",
    "#                         & (~( netdf_df['chain'] == 'Ethereum') )\n",
    "                        ]\n",
    "# display(netdf_df[netdf_df['protocol']=='makerdao'])"
   ]
  },
  {
   "cell_type": "code",
   "execution_count": 22,
   "id": "67bdbe1a",
   "metadata": {},
   "outputs": [
    {
     "data": {
      "text/html": [
       "<div>\n",
       "<style scoped>\n",
       "    .dataframe tbody tr th:only-of-type {\n",
       "        vertical-align: middle;\n",
       "    }\n",
       "\n",
       "    .dataframe tbody tr th {\n",
       "        vertical-align: top;\n",
       "    }\n",
       "\n",
       "    .dataframe thead th {\n",
       "        text-align: right;\n",
       "    }\n",
       "</style>\n",
       "<table border=\"1\" class=\"dataframe\">\n",
       "  <thead>\n",
       "    <tr style=\"text-align: right;\">\n",
       "      <th></th>\n",
       "      <th>date</th>\n",
       "      <th>protocol</th>\n",
       "      <th>chain</th>\n",
       "      <th>usd_value</th>\n",
       "      <th>net_dollar_flow</th>\n",
       "      <th>rank_desc</th>\n",
       "      <th>cumul_net_dollar_flow</th>\n",
       "      <th>flow_direction</th>\n",
       "      <th>abs_cumul_net_dollar_flow</th>\n",
       "      <th>cumul_net_dollar_flow_1d</th>\n",
       "      <th>...</th>\n",
       "      <th>abs_cumul_net_dollar_flow_30d</th>\n",
       "      <th>cumul_net_dollar_flow_90d</th>\n",
       "      <th>flow_direction_90d</th>\n",
       "      <th>abs_cumul_net_dollar_flow_90d</th>\n",
       "      <th>cumul_net_dollar_flow_180d</th>\n",
       "      <th>flow_direction_180d</th>\n",
       "      <th>abs_cumul_net_dollar_flow_180d</th>\n",
       "      <th>cumul_net_dollar_flow_365d</th>\n",
       "      <th>flow_direction_365d</th>\n",
       "      <th>abs_cumul_net_dollar_flow_365d</th>\n",
       "    </tr>\n",
       "  </thead>\n",
       "  <tbody>\n",
       "    <tr>\n",
       "      <th>677</th>\n",
       "      <td>2022-08-10 00:00:00</td>\n",
       "      <td>stargate</td>\n",
       "      <td>Optimism</td>\n",
       "      <td>2.260884e+07</td>\n",
       "      <td>-2.785895e+05</td>\n",
       "      <td>93</td>\n",
       "      <td>-2.785895e+05</td>\n",
       "      <td>-1</td>\n",
       "      <td>2.785895e+05</td>\n",
       "      <td>-2.785895e+05</td>\n",
       "      <td>...</td>\n",
       "      <td>2.785895e+05</td>\n",
       "      <td>-2.785895e+05</td>\n",
       "      <td>-1</td>\n",
       "      <td>2.785895e+05</td>\n",
       "      <td>-2.785895e+05</td>\n",
       "      <td>-1</td>\n",
       "      <td>2.785895e+05</td>\n",
       "      <td>-2.785895e+05</td>\n",
       "      <td>-1</td>\n",
       "      <td>2.785895e+05</td>\n",
       "    </tr>\n",
       "    <tr>\n",
       "      <th>1529</th>\n",
       "      <td>2022-08-11 00:00:00</td>\n",
       "      <td>stargate</td>\n",
       "      <td>Optimism</td>\n",
       "      <td>2.308212e+07</td>\n",
       "      <td>1.972532e+05</td>\n",
       "      <td>92</td>\n",
       "      <td>-8.133632e+04</td>\n",
       "      <td>-1</td>\n",
       "      <td>8.133632e+04</td>\n",
       "      <td>1.972532e+05</td>\n",
       "      <td>...</td>\n",
       "      <td>8.133632e+04</td>\n",
       "      <td>-8.133632e+04</td>\n",
       "      <td>-1</td>\n",
       "      <td>8.133632e+04</td>\n",
       "      <td>-8.133632e+04</td>\n",
       "      <td>-1</td>\n",
       "      <td>8.133632e+04</td>\n",
       "      <td>-8.133632e+04</td>\n",
       "      <td>-1</td>\n",
       "      <td>8.133632e+04</td>\n",
       "    </tr>\n",
       "    <tr>\n",
       "      <th>2382</th>\n",
       "      <td>2022-08-12 00:00:00</td>\n",
       "      <td>stargate</td>\n",
       "      <td>Optimism</td>\n",
       "      <td>2.408226e+07</td>\n",
       "      <td>1.000220e+06</td>\n",
       "      <td>91</td>\n",
       "      <td>9.188832e+05</td>\n",
       "      <td>1</td>\n",
       "      <td>9.188832e+05</td>\n",
       "      <td>1.000220e+06</td>\n",
       "      <td>...</td>\n",
       "      <td>9.188832e+05</td>\n",
       "      <td>9.188832e+05</td>\n",
       "      <td>1</td>\n",
       "      <td>9.188832e+05</td>\n",
       "      <td>9.188832e+05</td>\n",
       "      <td>1</td>\n",
       "      <td>9.188832e+05</td>\n",
       "      <td>9.188832e+05</td>\n",
       "      <td>1</td>\n",
       "      <td>9.188832e+05</td>\n",
       "    </tr>\n",
       "    <tr>\n",
       "      <th>3244</th>\n",
       "      <td>2022-08-13 00:00:00</td>\n",
       "      <td>stargate</td>\n",
       "      <td>Optimism</td>\n",
       "      <td>2.621474e+07</td>\n",
       "      <td>2.089228e+06</td>\n",
       "      <td>90</td>\n",
       "      <td>3.008111e+06</td>\n",
       "      <td>1</td>\n",
       "      <td>3.008111e+06</td>\n",
       "      <td>2.089228e+06</td>\n",
       "      <td>...</td>\n",
       "      <td>3.008111e+06</td>\n",
       "      <td>3.008111e+06</td>\n",
       "      <td>1</td>\n",
       "      <td>3.008111e+06</td>\n",
       "      <td>3.008111e+06</td>\n",
       "      <td>1</td>\n",
       "      <td>3.008111e+06</td>\n",
       "      <td>3.008111e+06</td>\n",
       "      <td>1</td>\n",
       "      <td>3.008111e+06</td>\n",
       "    </tr>\n",
       "    <tr>\n",
       "      <th>4113</th>\n",
       "      <td>2022-08-14 00:00:00</td>\n",
       "      <td>stargate</td>\n",
       "      <td>Optimism</td>\n",
       "      <td>2.359219e+07</td>\n",
       "      <td>-2.737904e+06</td>\n",
       "      <td>89</td>\n",
       "      <td>2.702067e+05</td>\n",
       "      <td>1</td>\n",
       "      <td>2.702067e+05</td>\n",
       "      <td>-2.737904e+06</td>\n",
       "      <td>...</td>\n",
       "      <td>2.702067e+05</td>\n",
       "      <td>2.702067e+05</td>\n",
       "      <td>1</td>\n",
       "      <td>2.702067e+05</td>\n",
       "      <td>2.702067e+05</td>\n",
       "      <td>1</td>\n",
       "      <td>2.702067e+05</td>\n",
       "      <td>2.702067e+05</td>\n",
       "      <td>1</td>\n",
       "      <td>2.702067e+05</td>\n",
       "    </tr>\n",
       "    <tr>\n",
       "      <th>...</th>\n",
       "      <td>...</td>\n",
       "      <td>...</td>\n",
       "      <td>...</td>\n",
       "      <td>...</td>\n",
       "      <td>...</td>\n",
       "      <td>...</td>\n",
       "      <td>...</td>\n",
       "      <td>...</td>\n",
       "      <td>...</td>\n",
       "      <td>...</td>\n",
       "      <td>...</td>\n",
       "      <td>...</td>\n",
       "      <td>...</td>\n",
       "      <td>...</td>\n",
       "      <td>...</td>\n",
       "      <td>...</td>\n",
       "      <td>...</td>\n",
       "      <td>...</td>\n",
       "      <td>...</td>\n",
       "      <td>...</td>\n",
       "      <td>...</td>\n",
       "    </tr>\n",
       "    <tr>\n",
       "      <th>82709</th>\n",
       "      <td>2022-11-06 00:00:00</td>\n",
       "      <td>stargate</td>\n",
       "      <td>Optimism</td>\n",
       "      <td>6.232186e+07</td>\n",
       "      <td>2.855246e+06</td>\n",
       "      <td>5</td>\n",
       "      <td>3.973148e+07</td>\n",
       "      <td>1</td>\n",
       "      <td>3.973148e+07</td>\n",
       "      <td>2.855246e+06</td>\n",
       "      <td>...</td>\n",
       "      <td>2.731744e+07</td>\n",
       "      <td>3.973148e+07</td>\n",
       "      <td>1</td>\n",
       "      <td>3.973148e+07</td>\n",
       "      <td>3.973148e+07</td>\n",
       "      <td>1</td>\n",
       "      <td>3.973148e+07</td>\n",
       "      <td>3.973148e+07</td>\n",
       "      <td>1</td>\n",
       "      <td>3.973148e+07</td>\n",
       "    </tr>\n",
       "    <tr>\n",
       "      <th>83712</th>\n",
       "      <td>2022-11-07 00:00:00</td>\n",
       "      <td>stargate</td>\n",
       "      <td>Optimism</td>\n",
       "      <td>6.089280e+07</td>\n",
       "      <td>-1.262298e+06</td>\n",
       "      <td>4</td>\n",
       "      <td>3.846918e+07</td>\n",
       "      <td>1</td>\n",
       "      <td>3.846918e+07</td>\n",
       "      <td>-1.262298e+06</td>\n",
       "      <td>...</td>\n",
       "      <td>2.330900e+07</td>\n",
       "      <td>3.846918e+07</td>\n",
       "      <td>1</td>\n",
       "      <td>3.846918e+07</td>\n",
       "      <td>3.846918e+07</td>\n",
       "      <td>1</td>\n",
       "      <td>3.846918e+07</td>\n",
       "      <td>3.846918e+07</td>\n",
       "      <td>1</td>\n",
       "      <td>3.846918e+07</td>\n",
       "    </tr>\n",
       "    <tr>\n",
       "      <th>84710</th>\n",
       "      <td>2022-11-08 00:00:00</td>\n",
       "      <td>stargate</td>\n",
       "      <td>Optimism</td>\n",
       "      <td>5.938320e+07</td>\n",
       "      <td>-1.424740e+06</td>\n",
       "      <td>3</td>\n",
       "      <td>3.704444e+07</td>\n",
       "      <td>1</td>\n",
       "      <td>3.704444e+07</td>\n",
       "      <td>-1.424740e+06</td>\n",
       "      <td>...</td>\n",
       "      <td>2.105927e+07</td>\n",
       "      <td>3.732303e+07</td>\n",
       "      <td>1</td>\n",
       "      <td>3.732303e+07</td>\n",
       "      <td>3.704444e+07</td>\n",
       "      <td>1</td>\n",
       "      <td>3.704444e+07</td>\n",
       "      <td>3.704444e+07</td>\n",
       "      <td>1</td>\n",
       "      <td>3.704444e+07</td>\n",
       "    </tr>\n",
       "    <tr>\n",
       "      <th>85707</th>\n",
       "      <td>2022-11-09 00:00:00</td>\n",
       "      <td>stargate</td>\n",
       "      <td>Optimism</td>\n",
       "      <td>5.030517e+07</td>\n",
       "      <td>1.257826e+05</td>\n",
       "      <td>2</td>\n",
       "      <td>3.717022e+07</td>\n",
       "      <td>1</td>\n",
       "      <td>3.717022e+07</td>\n",
       "      <td>1.257826e+05</td>\n",
       "      <td>...</td>\n",
       "      <td>2.121429e+07</td>\n",
       "      <td>3.725156e+07</td>\n",
       "      <td>1</td>\n",
       "      <td>3.725156e+07</td>\n",
       "      <td>3.717022e+07</td>\n",
       "      <td>1</td>\n",
       "      <td>3.717022e+07</td>\n",
       "      <td>3.717022e+07</td>\n",
       "      <td>1</td>\n",
       "      <td>3.717022e+07</td>\n",
       "    </tr>\n",
       "    <tr>\n",
       "      <th>85912</th>\n",
       "      <td>2022-11-09 19:59:47</td>\n",
       "      <td>stargate</td>\n",
       "      <td>Optimism</td>\n",
       "      <td>5.355473e+07</td>\n",
       "      <td>-4.283381e+06</td>\n",
       "      <td>1</td>\n",
       "      <td>3.288684e+07</td>\n",
       "      <td>1</td>\n",
       "      <td>3.288684e+07</td>\n",
       "      <td>-4.283381e+06</td>\n",
       "      <td>...</td>\n",
       "      <td>1.631388e+07</td>\n",
       "      <td>3.196796e+07</td>\n",
       "      <td>1</td>\n",
       "      <td>3.196796e+07</td>\n",
       "      <td>3.288684e+07</td>\n",
       "      <td>1</td>\n",
       "      <td>3.288684e+07</td>\n",
       "      <td>3.288684e+07</td>\n",
       "      <td>1</td>\n",
       "      <td>3.288684e+07</td>\n",
       "    </tr>\n",
       "  </tbody>\n",
       "</table>\n",
       "<p>93 rows × 27 columns</p>\n",
       "</div>"
      ],
      "text/plain": [
       "                     date  protocol     chain     usd_value  net_dollar_flow  \\\n",
       "677   2022-08-10 00:00:00  stargate  Optimism  2.260884e+07    -2.785895e+05   \n",
       "1529  2022-08-11 00:00:00  stargate  Optimism  2.308212e+07     1.972532e+05   \n",
       "2382  2022-08-12 00:00:00  stargate  Optimism  2.408226e+07     1.000220e+06   \n",
       "3244  2022-08-13 00:00:00  stargate  Optimism  2.621474e+07     2.089228e+06   \n",
       "4113  2022-08-14 00:00:00  stargate  Optimism  2.359219e+07    -2.737904e+06   \n",
       "...                   ...       ...       ...           ...              ...   \n",
       "82709 2022-11-06 00:00:00  stargate  Optimism  6.232186e+07     2.855246e+06   \n",
       "83712 2022-11-07 00:00:00  stargate  Optimism  6.089280e+07    -1.262298e+06   \n",
       "84710 2022-11-08 00:00:00  stargate  Optimism  5.938320e+07    -1.424740e+06   \n",
       "85707 2022-11-09 00:00:00  stargate  Optimism  5.030517e+07     1.257826e+05   \n",
       "85912 2022-11-09 19:59:47  stargate  Optimism  5.355473e+07    -4.283381e+06   \n",
       "\n",
       "       rank_desc  cumul_net_dollar_flow  flow_direction  \\\n",
       "677           93          -2.785895e+05              -1   \n",
       "1529          92          -8.133632e+04              -1   \n",
       "2382          91           9.188832e+05               1   \n",
       "3244          90           3.008111e+06               1   \n",
       "4113          89           2.702067e+05               1   \n",
       "...          ...                    ...             ...   \n",
       "82709          5           3.973148e+07               1   \n",
       "83712          4           3.846918e+07               1   \n",
       "84710          3           3.704444e+07               1   \n",
       "85707          2           3.717022e+07               1   \n",
       "85912          1           3.288684e+07               1   \n",
       "\n",
       "       abs_cumul_net_dollar_flow  cumul_net_dollar_flow_1d  ...  \\\n",
       "677                 2.785895e+05             -2.785895e+05  ...   \n",
       "1529                8.133632e+04              1.972532e+05  ...   \n",
       "2382                9.188832e+05              1.000220e+06  ...   \n",
       "3244                3.008111e+06              2.089228e+06  ...   \n",
       "4113                2.702067e+05             -2.737904e+06  ...   \n",
       "...                          ...                       ...  ...   \n",
       "82709               3.973148e+07              2.855246e+06  ...   \n",
       "83712               3.846918e+07             -1.262298e+06  ...   \n",
       "84710               3.704444e+07             -1.424740e+06  ...   \n",
       "85707               3.717022e+07              1.257826e+05  ...   \n",
       "85912               3.288684e+07             -4.283381e+06  ...   \n",
       "\n",
       "       abs_cumul_net_dollar_flow_30d  cumul_net_dollar_flow_90d  \\\n",
       "677                     2.785895e+05              -2.785895e+05   \n",
       "1529                    8.133632e+04              -8.133632e+04   \n",
       "2382                    9.188832e+05               9.188832e+05   \n",
       "3244                    3.008111e+06               3.008111e+06   \n",
       "4113                    2.702067e+05               2.702067e+05   \n",
       "...                              ...                        ...   \n",
       "82709                   2.731744e+07               3.973148e+07   \n",
       "83712                   2.330900e+07               3.846918e+07   \n",
       "84710                   2.105927e+07               3.732303e+07   \n",
       "85707                   2.121429e+07               3.725156e+07   \n",
       "85912                   1.631388e+07               3.196796e+07   \n",
       "\n",
       "       flow_direction_90d  abs_cumul_net_dollar_flow_90d  \\\n",
       "677                    -1                   2.785895e+05   \n",
       "1529                   -1                   8.133632e+04   \n",
       "2382                    1                   9.188832e+05   \n",
       "3244                    1                   3.008111e+06   \n",
       "4113                    1                   2.702067e+05   \n",
       "...                   ...                            ...   \n",
       "82709                   1                   3.973148e+07   \n",
       "83712                   1                   3.846918e+07   \n",
       "84710                   1                   3.732303e+07   \n",
       "85707                   1                   3.725156e+07   \n",
       "85912                   1                   3.196796e+07   \n",
       "\n",
       "       cumul_net_dollar_flow_180d  flow_direction_180d  \\\n",
       "677                 -2.785895e+05                   -1   \n",
       "1529                -8.133632e+04                   -1   \n",
       "2382                 9.188832e+05                    1   \n",
       "3244                 3.008111e+06                    1   \n",
       "4113                 2.702067e+05                    1   \n",
       "...                           ...                  ...   \n",
       "82709                3.973148e+07                    1   \n",
       "83712                3.846918e+07                    1   \n",
       "84710                3.704444e+07                    1   \n",
       "85707                3.717022e+07                    1   \n",
       "85912                3.288684e+07                    1   \n",
       "\n",
       "       abs_cumul_net_dollar_flow_180d  cumul_net_dollar_flow_365d  \\\n",
       "677                      2.785895e+05               -2.785895e+05   \n",
       "1529                     8.133632e+04               -8.133632e+04   \n",
       "2382                     9.188832e+05                9.188832e+05   \n",
       "3244                     3.008111e+06                3.008111e+06   \n",
       "4113                     2.702067e+05                2.702067e+05   \n",
       "...                               ...                         ...   \n",
       "82709                    3.973148e+07                3.973148e+07   \n",
       "83712                    3.846918e+07                3.846918e+07   \n",
       "84710                    3.704444e+07                3.704444e+07   \n",
       "85707                    3.717022e+07                3.717022e+07   \n",
       "85912                    3.288684e+07                3.288684e+07   \n",
       "\n",
       "       flow_direction_365d  abs_cumul_net_dollar_flow_365d  \n",
       "677                     -1                    2.785895e+05  \n",
       "1529                    -1                    8.133632e+04  \n",
       "2382                     1                    9.188832e+05  \n",
       "3244                     1                    3.008111e+06  \n",
       "4113                     1                    2.702067e+05  \n",
       "...                    ...                             ...  \n",
       "82709                    1                    3.973148e+07  \n",
       "83712                    1                    3.846918e+07  \n",
       "84710                    1                    3.704444e+07  \n",
       "85707                    1                    3.717022e+07  \n",
       "85912                    1                    3.288684e+07  \n",
       "\n",
       "[93 rows x 27 columns]"
      ]
     },
     "metadata": {},
     "output_type": "display_data"
    }
   ],
   "source": [
    "summary_df = netdf_df.copy()\n",
    "drange = [0, 1, 7, 30, 90, 180, 365]\n",
    "summary_df = summary_df.sort_values(by='date',ascending=True)\n",
    "# summary_df = summary_df[(summary_df['chain'] == 'Solana') & (summary_df['protocol'] == 'uxd')]\n",
    "for i in drange:\n",
    "        if i == 0:\n",
    "                summary_df['cumul_net_dollar_flow'] = summary_df[['protocol','chain','net_dollar_flow']]\\\n",
    "                                    .groupby(['protocol','chain']).cumsum()\n",
    "                summary_df['flow_direction'] = np.where(summary_df['cumul_net_dollar_flow']>=0,1,-1)\n",
    "                summary_df['abs_cumul_net_dollar_flow'] = abs(summary_df['cumul_net_dollar_flow'])\n",
    "        else:\n",
    "                col_str = 'cumul_net_dollar_flow_' + str(i) + 'd'\n",
    "                # print(col_str)\n",
    "                summary_df[col_str] = summary_df[['protocol','chain','net_dollar_flow']]\\\n",
    "                                    .groupby(['protocol','chain'])['net_dollar_flow'].transform(lambda x: x.rolling(i, min_periods=1).sum() )\n",
    "                                #         .rolling(i, min_periods=1).sum()\\ #This caused errors and mismatches\n",
    "                                #     .reset_index(level=0,drop=True)#.values\n",
    "                summary_df['flow_direction_' + str(i) + 'd'] = np.where(summary_df[col_str]>=0,1,-1)\n",
    "                summary_df['abs_cumul_net_dollar_flow_' + str(i) + 'd'] = abs(summary_df[col_str])\n",
    "                # display(summary_df)\n",
    "                # display(summary_df[(summary_df['chain'] == 'Optimism') & (summary_df['protocol'] == 'yearn-finance')] )\n",
    "# display(summary_df[netdf_df['protocol']=='makerdao'])\n",
    "# display(summary_df[(summary_df['chain'] == 'Optimism') & (summary_df['protocol'] == 'qidao')].iloc[-7: , :15] )\n",
    "display(summary_df[(summary_df['protocol']=='stargate') & (summary_df['chain']=='Optimism')])\n",
    "summary_df['pct_of_tvl'] = 100* summary_df['net_dollar_flow'] / summary_df['usd_value']\n",
    "summary_df = summary_df[summary_df['rank_desc'] == 1 ]\n",
    "summary_df.to_csv('latest_tvl_app_trends.csv')\n",
    "# display(summary_df)\n",
    "for i in drange:\n",
    "        fig = ''\n",
    "        if i == 0:\n",
    "                yval = 'abs_cumul_net_dollar_flow'\n",
    "                hval = 'cumul_net_dollar_flow'\n",
    "                cval = 'flow_direction'\n",
    "                saveval = 'net_app_flows'\n",
    "                titleval = \"App Net Flows Change by App -> Chain - Last \" + str(trailing_num_days) + \\\n",
    "                            \" Days - (Apps with > $\" + str(min_tvl/1e6) + \"M TVL Shown)\"\n",
    "        else:\n",
    "                yval = 'abs_cumul_net_dollar_flow_' + str(i) +'d'\n",
    "                hval = 'cumul_net_dollar_flow_' + str(i) +'d'\n",
    "                cval = 'flow_direction_' + str(i) +'d'\n",
    "                saveval = 'net_app_flows_' + str(i) +'d'\n",
    "                titleval = \"App Net Flows Change by App -> Chain - Last \" + str(i) + \\\n",
    "                            \" Days - (Apps with > $\" + str(min_tvl/1e6) + \"M TVL Shown)\"\n",
    "        # print(yval)\n",
    "        # print(cval)\n",
    "        # print(titleval)\n",
    "        # print(hval)\n",
    "        fig = px.treemap(summary_df[summary_df[yval] !=0], \\\n",
    "                 path=[px.Constant(\"all\"), 'chain', 'protocol'], \\\n",
    "#                  path=[px.Constant(\"all\"), 'token', 'chain', 'protocol'], \\\n",
    "                 values=yval, color=cval\n",
    "#                 ,color_discrete_map={'-1':'red', '1':'green'})\n",
    "                ,color_continuous_scale='Spectral'\n",
    "                     , title = titleval\n",
    "                \n",
    "                , hover_data = [hval]\n",
    "                )\n",
    "        \n",
    "        fig.update_traces(root_color=\"lightgrey\")\n",
    "        fig.update_layout(margin = dict(t=50, l=25, r=25, b=25))\n",
    "\n",
    "        fig.write_image(prepend + \"img_outputs/svg/\" + saveval + \".svg\") #prepend + \n",
    "        fig.write_image(prepend + \"img_outputs/png/\" + saveval + \".png\") #prepend + \n",
    "        fig.write_html(prepend + \"img_outputs/\" + saveval + \".html\", include_plotlyjs='cdn')\n",
    "# fig.data[0].textinfo = 'label+text+value'\n",
    "\n",
    "# fig.update_layout(tickprefix = '$')"
   ]
  },
  {
   "cell_type": "code",
   "execution_count": 23,
   "id": "c5dabb18",
   "metadata": {},
   "outputs": [],
   "source": [
    "# display(summary_df[summary_df['protocol']=='makerdao'].iloc[: , :15])"
   ]
  },
  {
   "cell_type": "code",
   "execution_count": 24,
   "id": "c0bdf6d8",
   "metadata": {
    "scrolled": false
   },
   "outputs": [
    {
     "data": {
      "application/vnd.plotly.v1+json": {
       "config": {
        "plotlyServerURL": "https://plot.ly"
       },
       "data": [
        {
         "branchvalues": "total",
         "customdata": [
          [
           2843806.9334189137,
           1
          ],
          [
           -47705779.45466292,
           -1
          ],
          [
           -6971990.635992278,
           -1
          ],
          [
           -52272934.28646504,
           -1
          ],
          [
           -481645559.5612968,
           -1
          ],
          [
           -116296151.58349054,
           -1
          ],
          [
           12699277.310456738,
           1
          ],
          [
           -434906184.97476614,
           -1
          ],
          [
           -4158421.6972193536,
           -1
          ],
          [
           -67991.17808132683,
           -1
          ],
          [
           -298448700.8889866,
           -1
          ],
          [
           17393987.44750198,
           1
          ],
          [
           -84914187.36807871,
           -1
          ],
          [
           -40619021.58778825,
           -1
          ],
          [
           -15556880.047201304,
           -1
          ],
          [
           -184378.10121057005,
           -1
          ],
          [
           2977.4034697850257,
           1
          ],
          [
           -157440.09198663235,
           -1
          ],
          [
           -5983094.570368857,
           -1
          ],
          [
           -3213987.0274003255,
           -1
          ],
          [
           -10045.590453368583,
           -1
          ],
          [
           -57710.218735583185,
           -1
          ],
          [
           -12145.140277247623,
           -1
          ],
          [
           125253.53430616795,
           1
          ],
          [
           -16438.337596825062,
           -1
          ],
          [
           40460.09610896235,
           1
          ],
          [
           -7458.302544205668,
           -1
          ],
          [
           -60144630.08454751,
           -1
          ],
          [
           -700833.2580765013,
           -1
          ],
          [
           485742.2797678911,
           1
          ],
          [
           13156858.321696026,
           1
          ],
          [
           -77864498.69524133,
           -1
          ],
          [
           -91052398.18664017,
           -1
          ],
          [
           -2272360.25718781,
           -1
          ],
          [
           3296.776480664148,
           1
          ],
          [
           -14752534.213822754,
           -1
          ],
          [
           -1373462.0325683837,
           -1
          ],
          [
           234834.72932071245,
           1
          ],
          [
           46071.0623636534,
           1
          ],
          [
           84725528.17695494,
           1
          ],
          [
           733460.6915604079,
           1
          ],
          [
           -6759.116364941637,
           -1
          ],
          [
           -165.02501244921456,
           -1
          ],
          [
           -1815.823149528187,
           -1
          ],
          [
           2.8393435827628397,
           1
          ],
          [
           1605831.99633929,
           1
          ],
          [
           20936864.23508619,
           1
          ],
          [
           26247.15507163145,
           1
          ],
          [
           -3322013.7234792784,
           -1
          ],
          [
           1934050.0049072374,
           1
          ],
          [
           -5787794.014488215,
           -1
          ],
          [
           4836694.952454979,
           1
          ],
          [
           -814888913.1238942,
           -1
          ],
          [
           4937859.829238994,
           1
          ],
          [
           449984.0120602006,
           1
          ],
          [
           -3210548.3369440697,
           -1
          ],
          [
           -801806.6308661109,
           -1
          ],
          [
           -35715422.143529646,
           -1
          ],
          [
           416006013.23417944,
           1
          ],
          [
           17809730.28124181,
           1
          ],
          [
           -77797.87447892533,
           -1
          ],
          [
           33123394.881746285,
           1
          ],
          [
           -504598.3467507208,
           -1
          ],
          [
           9406931.404234836,
           1
          ],
          [
           -22323455.60599777,
           -1
          ],
          [
           7395156.3814049885,
           1
          ],
          [
           -78301982.98112057,
           -1
          ],
          [
           31145160.372102,
           1
          ],
          [
           -105150276.49825147,
           -1
          ],
          [
           -10214118.88616613,
           -1
          ],
          [
           -38639225.0549929,
           -1
          ],
          [
           -11158025.90939777,
           -1
          ],
          [
           -642254.1208706135,
           -1
          ],
          [
           -16534837.457974073,
           -1
          ],
          [
           -14127734.256632809,
           -1
          ],
          [
           -56287.71643242782,
           -1
          ],
          [
           -5031770.258189546,
           -1
          ],
          [
           35093.56544083843,
           1
          ],
          [
           -33145262.4037878,
           -1
          ],
          [
           -539919.5119661676,
           -1
          ],
          [
           -28917.76393696919,
           -1
          ],
          [
           -9885.845865390173,
           -1
          ],
          [
           570125.1668598831,
           1
          ],
          [
           314451.5397816341,
           1
          ],
          [
           4187720.5812911047,
           1
          ],
          [
           671736.7925070021,
           1
          ],
          [
           -214347.84818893176,
           -1
          ],
          [
           16397333.399244523,
           1
          ],
          [
           -12781245.173341576,
           -1
          ],
          [
           -26458132.16147216,
           -1
          ],
          [
           12952162.776596082,
           1
          ],
          [
           -3524434.641310139,
           -1
          ],
          [
           -420101.5017689916,
           -1
          ],
          [
           -71054.32122573667,
           -1
          ],
          [
           25319693.024093177,
           1
          ],
          [
           -88990383.68323751,
           -1
          ],
          [
           16025201.145699006,
           1
          ],
          [
           -182744.9785828226,
           -1
          ],
          [
           6253709.337909163,
           1
          ],
          [
           -131768.65298556504,
           -1
          ],
          [
           -736398.5830051565,
           -1
          ],
          [
           53460.92483242409,
           1
          ],
          [
           -52267.193453053,
           -1
          ],
          [
           -46908155.6066753,
           -1
          ],
          [
           -33278410.73968917,
           -1
          ],
          [
           38683810.84538628,
           1
          ],
          [
           43756925.33925874,
           1
          ],
          [
           -2188895.759176061,
           -1
          ],
          [
           -1139872.1907339445,
           -1
          ],
          [
           -8630837.502913501,
           -1
          ],
          [
           -9867832.990483426,
           -1
          ],
          [
           -29349.86453650499,
           -1
          ],
          [
           -97.17003443754709,
           -1
          ],
          [
           -8690435.455447245,
           -1
          ],
          [
           -1795233.2954772464,
           -1
          ],
          [
           -2345387.6433930374,
           -1
          ],
          [
           -83959.06082137958,
           -1
          ],
          [
           -2112516.918995226,
           -1
          ],
          [
           -4368074.853064956,
           -1
          ],
          [
           -83899.80525678367,
           -1
          ],
          [
           59.57128,
           1
          ],
          [
           80189.77686729244,
           1
          ],
          [
           29748652.005198617,
           1
          ],
          [
           6070027.254687977,
           1
          ],
          [
           -380425.1883190479,
           -1
          ],
          [
           297182994.23054165,
           1
          ],
          [
           -3888210.9499564148,
           -1
          ],
          [
           -7442264.874156478,
           -1
          ],
          [
           -845646139.2062849,
           -1
          ],
          [
           142015302.98576298,
           1
          ],
          [
           -30676092.082615625,
           -1
          ],
          [
           329254.82729887014,
           1
          ],
          [
           140101.41238261655,
           1
          ],
          [
           -913430.4997280224,
           -1
          ],
          [
           -549857.335671345,
           -1
          ],
          [
           47371.40107253661,
           1
          ],
          [
           401169.6735516705,
           1
          ],
          [
           32130.802027547226,
           1
          ],
          [
           -2535082.301726994,
           -1
          ],
          [
           265951.98164044274,
           1
          ],
          [
           71759.10363,
           1
          ],
          [
           211654.20843142664,
           1
          ],
          [
           431092.29397120787,
           1
          ],
          [
           -127465.49006963581,
           -1
          ],
          [
           -588888.4879622466,
           -1
          ],
          [
           996533.7812522654,
           1
          ],
          [
           -1290494033.5386472,
           -1
          ],
          [
           -40589.88539419753,
           -1
          ],
          [
           -5357473.171489038,
           -1
          ],
          [
           -3.636658766179566,
           -1
          ],
          [
           -139031.44898232087,
           -1
          ],
          [
           -7614042.245154643,
           -1
          ],
          [
           122.77819683015585,
           1
          ],
          [
           -55540270.1472639,
           -1
          ],
          [
           -1138828218.7874231,
           -1
          ],
          [
           -24048014.63823179,
           -1
          ],
          [
           19254421.431843344,
           1
          ],
          [
           13687558.85904208,
           1
          ],
          [
           32081901.41913059,
           1
          ],
          [
           -31451205.138962194,
           -1
          ],
          [
           -57446221.195244215,
           -1
          ],
          [
           -2393750.067819788,
           -1
          ],
          [
           -5251995.133444822,
           -1
          ],
          [
           -766359.5812800697,
           -1
          ],
          [
           -565970.5087200089,
           -1
          ],
          [
           -36561.638282275024,
           -1
          ],
          [
           -1158083.2693061267,
           -1
          ],
          [
           -51092342.468458794,
           -1
          ],
          [
           -1572143.2269154938,
           -1
          ],
          [
           2828171.523249254,
           1
          ],
          [
           -2473691.284006122,
           -1
          ],
          [
           -1361746.8359808992,
           -1
          ],
          [
           414221.7587442185,
           1
          ],
          [
           1419158.6527997274,
           1
          ],
          [
           -2342958.125704764,
           -1
          ],
          [
           -954269.0618839107,
           -1
          ],
          [
           8634.663823388002,
           1
          ],
          [
           -0.7165903140013387,
           -1
          ],
          [
           -3203866.565947152,
           -1
          ],
          [
           46.496150461204394,
           1
          ],
          [
           1.4961156481226325,
           1
          ],
          [
           -10796054.148005767,
           -1
          ],
          [
           157649.4608544448,
           1
          ],
          [
           -495699.5196287637,
           -1
          ],
          [
           -18569598.344917025,
           -1
          ],
          [
           -1590.8491041784598,
           -1
          ],
          [
           -17829.053397570075,
           -1
          ],
          [
           -180761.65384451675,
           -1
          ],
          [
           -128933.2674129719,
           -1
          ],
          [
           -272.68895391774635,
           -1
          ],
          [
           61770.71049093548,
           1
          ],
          [
           0.8282937925716082,
           1
          ],
          [
           -7279.458046232527,
           -1
          ],
          [
           -125700.16367890057,
           -1
          ],
          [
           -110341928.8840644,
           -1
          ],
          [
           -1364183.8910120681,
           -1
          ],
          [
           -1581740.9489720794,
           -1
          ],
          [
           -11033935.504719144,
           -1
          ],
          [
           370236.4038693021,
           1
          ],
          [
           -1817609.3926987268,
           -1
          ],
          [
           -319.2939095945304,
           -1
          ],
          [
           -6705339.537613342,
           -1
          ],
          [
           -102.4617446765244,
           -1
          ],
          [
           7.085055168168912,
           1
          ],
          [
           -460473.652491318,
           -1
          ],
          [
           -2742968.5921021877,
           -1
          ],
          [
           -913551.3601321285,
           -1
          ],
          [
           -1285.2144577575093,
           -1
          ],
          [
           -229544.10810874868,
           -1
          ],
          [
           -1937.0999085670303,
           -1
          ],
          [
           -17718232.18205349,
           -1
          ],
          [
           -11726386.875434438,
           -1
          ],
          [
           -3504088.057979652,
           -1
          ],
          [
           -5118416.533177654,
           -1
          ],
          [
           -79118496.91434295,
           -1
          ],
          [
           -58614.0490625318,
           -1
          ],
          [
           -2296755.1835999517,
           -1
          ],
          [
           -22095.750949767356,
           -1
          ],
          [
           -1959.6329119832387,
           -1
          ],
          [
           136750.59408742932,
           1
          ],
          [
           22002972.595530745,
           1
          ],
          [
           -20716.476339739314,
           -1
          ],
          [
           -1975028.4942151331,
           -1
          ],
          [
           -32364.386648029707,
           -1
          ],
          [
           25069712.426547255,
           1
          ],
          [
           -56154.759468454125,
           -1
          ],
          [
           10065593.96565721,
           1
          ],
          [
           36275295.29933314,
           1
          ],
          [
           7122656.351875566,
           1
          ],
          [
           176611203.7303462,
           1
          ],
          [
           -22381451.226137668,
           -1
          ],
          [
           6123846.819968085,
           1
          ],
          [
           -43324.94364053502,
           -1
          ],
          [
           -14034596.642247647,
           -1
          ],
          [
           264246.58083498303,
           1
          ],
          [
           -507333697.4592245,
           -1
          ],
          [
           2341135.8388400404,
           1
          ],
          [
           -508863.9923626383,
           -1
          ],
          [
           -11106538.214184297,
           -1
          ],
          [
           67595046.7740805,
           1
          ],
          [
           6340562.817924491,
           1
          ],
          [
           -6585393.462517458,
           -1
          ],
          [
           9190.462497977278,
           1
          ],
          [
           6822204.37402936,
           1
          ],
          [
           -2467673.395390295,
           -1
          ],
          [
           7012876.773567887,
           1
          ],
          [
           5631514.64354061,
           1
          ],
          [
           13663656.949806083,
           1
          ],
          [
           6581305.510675084,
           1
          ],
          [
           -1752116.6957720027,
           -1
          ],
          [
           1458130.9064974026,
           1
          ],
          [
           8191552.524289425,
           1
          ],
          [
           5224932.999488362,
           1
          ],
          [
           79080.01128900764,
           1
          ],
          [
           23368819.78308574,
           1
          ],
          [
           -55502.982098532164,
           -1
          ],
          [
           -380299.7463164138,
           -1
          ],
          [
           -1070856000.1418132,
           -1
          ],
          [
           -492153.7915575071,
           -1
          ],
          [
           -715688.9904075086,
           -1
          ],
          [
           -750501.1032445359,
           -1
          ],
          [
           -1522254.8548224182,
           -1
          ],
          [
           -9955.97745094524,
           -1
          ],
          [
           -2838174.700235879,
           -1
          ],
          [
           -284563.23882696894,
           -1
          ],
          [
           -977299.8116848165,
           -1
          ],
          [
           -788764.5724891576,
           -1
          ],
          [
           15024661.344682042,
           1
          ],
          [
           -12038560.68485151,
           -1
          ],
          [
           -486050063.1581893,
           -1
          ],
          [
           19796.305510999784,
           1
          ],
          [
           -2641627.571749637,
           -1
          ],
          [
           -10639393.288331728,
           -1
          ],
          [
           -22683071.867016327,
           -1
          ],
          [
           -1307856.602910583,
           -1
          ],
          [
           -38127913.715768516,
           -1
          ],
          [
           -80915022.93788566,
           -1
          ],
          [
           -6628597.484663988,
           -1
          ],
          [
           -759123.4275500216,
           -1
          ],
          [
           -12370346.244271094,
           -1
          ],
          [
           -734254.1799846223,
           -1
          ],
          [
           36941574.921921924,
           1
          ],
          [
           -34406442.894086264,
           -1
          ],
          [
           479181.5660347614,
           1
          ],
          [
           8493356.199212007,
           1
          ],
          [
           -1900097.4550867844,
           -1
          ],
          [
           99292.4677430442,
           1
          ],
          [
           1470642.5408760011,
           1
          ],
          [
           209119.0863936112,
           1
          ],
          [
           -242940.50200616085,
           -1
          ],
          [
           454660.4947011009,
           1
          ],
          [
           3459346.9843833027,
           1
          ],
          [
           656792482.3604901,
           1
          ],
          [
           9700872.702639004,
           1
          ],
          [
           1447516.7533615215,
           1
          ],
          [
           45606424.00102621,
           1
          ],
          [
           115111.41658893359,
           1
          ],
          [
           13246106.948431114,
           1
          ],
          [
           -2532778.333675502,
           -1
          ],
          [
           -404523.2152606232,
           -1
          ],
          [
           -13778769.68679189,
           -1
          ],
          [
           11480374.460321365,
           1
          ],
          [
           1221310.3536342883,
           1
          ],
          [
           -22719095.73666537,
           -1
          ],
          [
           31393066.9680171,
           1
          ],
          [
           -2760945.762601978,
           -1
          ],
          [
           -2329626.380233683,
           -1
          ],
          [
           -67402153.6066081,
           -1
          ],
          [
           -997213636.671607,
           -1
          ],
          [
           24398071.504398197,
           1
          ],
          [
           6478202.555710746,
           1
          ],
          [
           -6828708.9763874635,
           -1
          ],
          [
           5561811.6684461,
           1
          ],
          [
           -6561467.951684903,
           -1
          ],
          [
           -53540541.23795228,
           -1
          ],
          [
           -615972.1059759416,
           -1
          ],
          [
           1037268.1328609334,
           1
          ],
          [
           -13832.604863000603,
           -1
          ],
          [
           -764731.0725850927,
           -1
          ],
          [
           -3480874.7386386264,
           -1
          ],
          [
           -74607832.57858887,
           -1
          ],
          [
           -2286347.051663809,
           -1
          ],
          [
           -4239151.85539155,
           -1
          ],
          [
           -40223.04680019335,
           -1
          ],
          [
           -8984922.848407483,
           -1
          ],
          [
           -1265904.5198245945,
           -1
          ],
          [
           22100605.137553267,
           1
          ],
          [
           -10264444.577109069,
           -1
          ],
          [
           -25257399.26278317,
           -1
          ],
          [
           -1682862.954778799,
           -1
          ],
          [
           6191177.121717956,
           1
          ],
          [
           138908.36393872325,
           1
          ],
          [
           262339.1900771124,
           1
          ],
          [
           171476.54841558816,
           1
          ],
          [
           6580433.581559466,
           1
          ],
          [
           2764197.970004628,
           1
          ],
          [
           -99043933.85246152,
           -1
          ],
          [
           -28674338.91152023,
           -1
          ],
          [
           -977109.0629505507,
           -1
          ],
          [
           -5892524.017509095,
           -1
          ],
          [
           -31518986.634337176,
           -1
          ],
          [
           -2163947.1769990968,
           -1
          ],
          [
           -6888.998977844132,
           -1
          ],
          [
           -111997.05316563448,
           -1
          ],
          [
           -10091349.655592559,
           -1
          ],
          [
           4.6844676358888275,
           1
          ],
          [
           940412.5158361404,
           1
          ],
          [
           -76124631.37621546,
           -1
          ],
          [
           -158201.58627193677,
           -1
          ],
          [
           38680005.28145795,
           1
          ],
          [
           486529.08761339623,
           1
          ],
          [
           -1443967.661594998,
           -1
          ],
          [
           14.518691335213969,
           1
          ],
          [
           -43680784.55485085,
           -1
          ],
          [
           96983.88609116443,
           1
          ],
          [
           -2173879.1141899494,
           -1
          ],
          [
           222015.0926276614,
           1
          ],
          [
           -10053314.441062702,
           -1
          ],
          [
           -2159456.4872862985,
           -1
          ],
          [
           -20630267.55570302,
           -1
          ],
          [
           8840488.739176473,
           1
          ],
          [
           -328959742.04515386,
           -1
          ],
          [
           3815311.95903326,
           1
          ],
          [
           10442720.265006214,
           1
          ],
          [
           8697457.622483157,
           1
          ],
          [
           -46213409.40464272,
           -1
          ],
          [
           396734.6721077031,
           1
          ],
          [
           -5432616.435942107,
           -1
          ],
          [
           782356.5693287674,
           1
          ],
          [
           126981.23216002814,
           1
          ],
          [
           -1804584.6491275616,
           -1
          ],
          [
           -1409004.3171672865,
           -1
          ],
          [
           -13091964.73537942,
           -1
          ],
          [
           -651626.1207435158,
           -1
          ],
          [
           -56006.73038026066,
           -1
          ],
          [
           -2597474.0028369534,
           -1
          ],
          [
           -21163.15552453492,
           -1
          ],
          [
           855476.8452141888,
           1
          ],
          [
           -5929.350150126433,
           -1
          ],
          [
           -47294.64933466451,
           -1
          ],
          [
           -111888648.18978097,
           -1
          ],
          [
           -243486.9882175218,
           -1
          ],
          [
           -981938.6238264237,
           -1
          ],
          [
           28040.747619514525,
           1
          ],
          [
           -1789676.0337637349,
           -1
          ],
          [
           -12010569.585341264,
           -1
          ],
          [
           -0.9810369593095772,
           -1
          ],
          [
           -4525.275574526733,
           -1
          ],
          [
           64893.26328666665,
           1
          ],
          [
           1185477.749045138,
           1
          ],
          [
           -246.7303959413915,
           -1
          ],
          [
           -300646.9106386744,
           -1
          ],
          [
           -192819.40561865806,
           -1
          ],
          [
           -122.61029793192536,
           -1
          ],
          [
           -266658.53948497894,
           -1
          ],
          [
           -4822966.705017949,
           -1
          ],
          [
           -113291.39716388518,
           -1
          ],
          [
           -9331881.327133138,
           -1
          ],
          [
           -478899.5393939719,
           -1
          ],
          [
           -372270.43424805993,
           -1
          ],
          [
           -683996.5920797922,
           -1
          ],
          [
           3771076.9665676733,
           1
          ],
          [
           -1988815.1721707261,
           -1
          ],
          [
           -2950.9423864696155,
           -1
          ],
          [
           1384708.4466062586,
           1
          ],
          [
           5554.639035412932,
           1
          ],
          [
           -7379.976401010967,
           -1
          ],
          [
           -1562757.562558923,
           -1
          ],
          [
           -10734858.46731559,
           -1
          ],
          [
           -1052804.3203283078,
           -1
          ],
          [
           -72805240.25975686,
           -1
          ],
          [
           -201007713.00395802,
           -1
          ],
          [
           -28316.497738387116,
           -1
          ],
          [
           5079831.407424285,
           1
          ],
          [
           -66642009.82291091,
           -1
          ],
          [
           -8512.640614949776,
           -1
          ],
          [
           -22862694.04790026,
           -1
          ],
          [
           7749060.163398637,
           1
          ],
          [
           -8803742.010881733,
           -1
          ],
          [
           25392134.40544501,
           1
          ],
          [
           1325317.874263439,
           1
          ],
          [
           -143270845.53480366,
           -1
          ],
          [
           -2276965.2252027183,
           -1
          ],
          [
           -3732942.941097984,
           -1
          ],
          [
           227345.9522661271,
           1
          ],
          [
           -965525.588555651,
           -1
          ],
          [
           22684805.50803277,
           1
          ],
          [
           -1328031.3357606654,
           -1
          ],
          [
           -552.8043641898,
           -1
          ],
          [
           -1672484.4515819896,
           -1
          ],
          [
           -1540433.5855483022,
           -1
          ],
          [
           -503459.7709430588,
           -1
          ],
          [
           -624380.6905454706,
           -1
          ],
          [
           -157345.92308054233,
           -1
          ],
          [
           367524.59085896757,
           1
          ],
          [
           -192767.79198633373,
           -1
          ],
          [
           -102575.49851820663,
           -1
          ],
          [
           -5748244.333216866,
           -1
          ],
          [
           778001.420830918,
           1
          ],
          [
           155227377.07008162,
           1
          ],
          [
           -37693356.03921848,
           -1
          ],
          [
           -540904.9442408127,
           -1
          ],
          [
           -16603966.489131492,
           -1
          ],
          [
           -133.64262599548124,
           -1
          ],
          [
           -609.6198186065815,
           -1
          ],
          [
           -106.54843066830401,
           -1
          ],
          [
           358374.19851144444,
           1
          ],
          [
           -5986.000343472615,
           -1
          ],
          [
           -1821896.7346114723,
           -1
          ],
          [
           703596.6566566955,
           1
          ],
          [
           -36547074.2622639,
           -1
          ],
          [
           -4005015.599923067,
           -1
          ],
          [
           -1492782.4967819364,
           -1
          ],
          [
           -210415.65054425772,
           -1
          ],
          [
           -8173553.556689955,
           -1
          ],
          [
           3591845.5353298634,
           1
          ],
          [
           -10365497.809859069,
           -1
          ],
          [
           -3225178.040524674,
           -1
          ],
          [
           -55465.52376297453,
           -1
          ],
          [
           -159197.93461273337,
           -1
          ],
          [
           26810136.13471334,
           1
          ],
          [
           -752056.5831354939,
           -1
          ],
          [
           -420609.97698833694,
           -1
          ],
          [
           -13678865.882991401,
           -1
          ],
          [
           -63606900.89971073,
           -1
          ],
          [
           -15678507.444270115,
           -1
          ],
          [
           45701654.135449246,
           1
          ],
          [
           11887618.507858371,
           1
          ],
          [
           25740159.602398284,
           1
          ],
          [
           3606803.310785303,
           1
          ],
          [
           39507648.4750835,
           1
          ],
          [
           8597679.66,
           1
          ],
          [
           -118651.96790778312,
           -1
          ],
          [
           -6110.133700000008,
           -1
          ],
          [
           568361.1638000001,
           1
          ],
          [
           11964.19689449616,
           1
          ],
          [
           -6667.794714951863,
           -1
          ],
          [
           -1775.6112000000014,
           -1
          ],
          [
           7622.5753,
           1
          ],
          [
           16348974.857471928,
           1
          ],
          [
           -1079346.2382478314,
           -1
          ],
          [
           -51207434.95715285,
           -1
          ],
          [
           -89331.51739476598,
           -1
          ],
          [
           -2355355.3929387825,
           -1
          ],
          [
           4476945.179877284,
           1
          ],
          [
           154.5319432973523,
           1
          ],
          [
           15561222.907729195,
           1
          ],
          [
           22169212.460159518,
           1
          ],
          [
           2349708.631738142,
           1
          ],
          [
           -84666086.51849164,
           -1
          ],
          [
           2690473.464928844,
           1
          ],
          [
           32886843.64759455,
           1
          ],
          [
           -23071163.169672925,
           -1
          ],
          [
           10898816.408643242,
           1
          ],
          [
           -130640.95484720543,
           -1
          ],
          [
           -5523244.114723155,
           -1
          ],
          [
           -5323414.603032633,
           -1
          ],
          [
           -265804332.36991823,
           -1
          ],
          [
           -396180684.07216525,
           -1
          ],
          [
           -25335.04120221708,
           -1
          ],
          [
           15449.489277917983,
           1
          ],
          [
           -1010.2115866139707,
           -1
          ],
          [
           -1221245.3315558778,
           -1
          ],
          [
           -7689.759591990272,
           -1
          ],
          [
           -0.9554208213122635,
           -1
          ],
          [
           440715.68055537925,
           1
          ],
          [
           -1756429.0625347672,
           -1
          ],
          [
           -960929.1478200075,
           -1
          ],
          [
           -10871456.02249615,
           -1
          ],
          [
           4060072.2901762477,
           1
          ],
          [
           -32212.16269699864,
           -1
          ],
          [
           -4085292.987742245,
           -1
          ],
          [
           -2102441.858041314,
           -1
          ],
          [
           -1077778.1641620398,
           -1
          ],
          [
           -15225.176715240501,
           -1
          ],
          [
           -36404466.6270376,
           -1
          ],
          [
           -3394906.7993159825,
           -1
          ],
          [
           -2467366.773050188,
           -1
          ],
          [
           -213819.35833282824,
           -1
          ],
          [
           2359601.379846155,
           1
          ],
          [
           0.07048,
           1
          ],
          [
           -1012.9607167357317,
           -1
          ],
          [
           675833.5626951386,
           1
          ],
          [
           -975682.8524210702,
           -1
          ],
          [
           -214.60180966290875,
           -1
          ],
          [
           15854841.566230189,
           1
          ],
          [
           7149718.615020131,
           1
          ],
          [
           -5134533.279181717,
           -1
          ],
          [
           -1993609.9595471718,
           -1
          ],
          [
           -51809.02376402558,
           -1
          ],
          [
           -21757774.952708047,
           -1
          ],
          [
           -29506977.866306428,
           -1
          ],
          [
           -318836.98400588596,
           -1
          ],
          [
           -42883699.142256714,
           -1
          ],
          [
           138400711.5310022,
           1
          ],
          [
           -1426219.334470052,
           -1
          ],
          [
           -10590989.003389532,
           -1
          ],
          [
           -8043.30856120925,
           -1
          ],
          [
           -104270.54739252897,
           -1
          ],
          [
           -1755578.786045677,
           -1
          ],
          [
           -5395985.673131792,
           -1
          ],
          [
           17362040.52263245,
           1
          ],
          [
           2849767.002519108,
           1
          ],
          [
           5067638.393272408,
           1
          ],
          [
           -11826268.052213632,
           -1
          ],
          [
           -44400217.18194074,
           -1
          ],
          [
           0.6599645880289308,
           1
          ],
          [
           1138044.1809229068,
           1
          ],
          [
           1748727.9910163383,
           1
          ],
          [
           -84.49596916682947,
           -1
          ],
          [
           -768176.8789548323,
           -1
          ],
          [
           -167276.35150088888,
           -1
          ],
          [
           -53066.399999999994,
           -1
          ],
          [
           153733160.817,
           1
          ],
          [
           -206353603.74680525,
           -1
          ],
          [
           -3452.1889999999967,
           -1
          ],
          [
           -127544.6069,
           -1
          ],
          [
           -161698.6678,
           -1
          ],
          [
           23549.17,
           1
          ],
          [
           -1861713.8937801693,
           -1
          ],
          [
           -128243134.03994608,
           -1
          ],
          [
           2572760.6776333596,
           1
          ],
          [
           -18947566.957653146,
           -1
          ],
          [
           -19181423.653220322,
           -1
          ],
          [
           10328577.960397426,
           1
          ],
          [
           -68624.79799051682,
           -1
          ],
          [
           -34542753.436686486,
           -1
          ],
          [
           2751153.1253104364,
           1
          ],
          [
           -2082513.0471497837,
           -1
          ],
          [
           -693736133.9082817,
           -1
          ],
          [
           302424.2110532201,
           1
          ],
          [
           29170159.09112337,
           1
          ],
          [
           -3528135.3074191795,
           -1
          ],
          [
           -12902977.246185647,
           -1
          ],
          [
           6633472.695629382,
           1
          ],
          [
           -39215961.113841355,
           -1
          ],
          [
           -53697332.34786727,
           -1
          ],
          [
           143029400.31748712,
           1
          ],
          [
           275232.1338932187,
           1
          ],
          [
           -12818043.711058235,
           -1
          ],
          [
           -200232.95326320335,
           -1
          ],
          [
           1782923.4228609563,
           1
          ],
          [
           -105559423.83648208,
           -1
          ],
          [
           -173023453.80125666,
           -1
          ],
          [
           -6085094.40263802,
           -1
          ],
          [
           167337233.08260185,
           1
          ],
          [
           1014206.8786921225,
           1
          ],
          [
           -11327.620878717746,
           -1
          ],
          [
           -127018.0399762442,
           -1
          ],
          [
           -13977338.327776695,
           -1
          ],
          [
           -97659.86192197568,
           -1
          ],
          [
           124381986.86106099,
           1
          ],
          [
           70871278.71577922,
           1
          ],
          [
           -609342.9587071412,
           -1
          ],
          [
           1495816.840096169,
           1
          ],
          [
           -21254990.500532698,
           -1
          ],
          [
           -9969111.731305186,
           -1
          ],
          [
           1746462.8467007596,
           1
          ],
          [
           10426.310484169422,
           1
          ],
          [
           -206904046.2058182,
           -1
          ],
          [
           -15582949.96826088,
           -1
          ],
          [
           187344.54228711812,
           1
          ],
          [
           -56647386.493771575,
           -1
          ],
          [
           -12021925.358892504,
           -1
          ],
          [
           14765560.30723872,
           1
          ],
          [
           "(?)",
           -1
          ],
          [
           "(?)",
           -0.7046423868997905
          ],
          [
           "(?)",
           1
          ],
          [
           "(?)",
           0.42458351779633
          ],
          [
           "(?)",
           -0.9981469552695093
          ],
          [
           "(?)",
           -0.9999958823519599
          ],
          [
           "(?)",
           -0.9120470816744105
          ],
          [
           -52267.193453053,
           -1
          ],
          [
           "(?)",
           -0.03216691451897939
          ],
          [
           "(?)",
           0.8448855591941845
          ],
          [
           "(?)",
           -1
          ],
          [
           "(?)",
           1
          ],
          [
           -3480874.7386386264,
           -1
          ],
          [
           "(?)",
           0.2685818467255499
          ],
          [
           568361.1638000001,
           1
          ],
          [
           "(?)",
           -0.9990450319699802
          ],
          [
           28040.747619514525,
           1
          ],
          [
           "(?)",
           0.6569092309657033
          ],
          [
           "(?)",
           -1
          ],
          [
           -460473.652491318,
           -1
          ],
          [
           -67402153.6066081,
           -1
          ],
          [
           "(?)",
           -0.585891365780028
          ],
          [
           -10091349.655592559,
           -1
          ],
          [
           "(?)",
           0.991715795673501
          ],
          [
           "(?)",
           -0.8956299978827024
          ],
          [
           "(?)",
           -0.33996429021158964
          ],
          [
           "(?)",
           -1
          ],
          [
           "(?)",
           -0.9773194004712105
          ],
          [
           39507648.4750835,
           1
          ],
          [
           "(?)",
           -1
          ],
          [
           -4005015.599923067,
           -1
          ],
          [
           -913551.3601321285,
           -1
          ],
          [
           -12038560.68485151,
           -1
          ],
          [
           "(?)",
           -0.25397473157909944
          ],
          [
           "(?)",
           -0.5058011143266429
          ],
          [
           -4239151.85539155,
           -1
          ],
          [
           -165.02501244921456,
           -1
          ],
          [
           -4525.275574526733,
           -1
          ],
          [
           64893.26328666665,
           1
          ],
          [
           "(?)",
           0.9910083213733489
          ],
          [
           "(?)",
           1
          ],
          [
           "(?)",
           -0.42733476642364443
          ],
          [
           "(?)",
           0.8458840190426922
          ],
          [
           "(?)",
           -0.7415273788066521
          ],
          [
           "(?)",
           -0.7300908193526171
          ],
          [
           "(?)",
           -0.9074338386420289
          ],
          [
           "(?)",
           0.6641873554349428
          ],
          [
           1185477.749045138,
           1
          ],
          [
           "(?)",
           0.8710185416657424
          ],
          [
           -13977338.327776695,
           -1
          ],
          [
           -97659.86192197568,
           -1
          ],
          [
           "(?)",
           -0.3503698810603772
          ],
          [
           -20630267.55570302,
           -1
          ],
          [
           "(?)",
           -0.21552751496752445
          ],
          [
           -1815.823149528187,
           -1
          ],
          [
           "(?)",
           -0.6949693628085557
          ],
          [
           -229544.10810874868,
           -1
          ],
          [
           -40223.04680019335,
           -1
          ],
          [
           -246.7303959413915,
           -1
          ],
          [
           -10053314.441062702,
           -1
          ],
          [
           -2641627.571749637,
           -1
          ],
          [
           -83899.80525678367,
           -1
          ],
          [
           "(?)",
           -0.4111553533227885
          ],
          [
           "(?)",
           -0.7965892328058607
          ],
          [
           45701654.135449246,
           1
          ],
          [
           7622.5753,
           1
          ],
          [
           "(?)",
           0.3529188580167704
          ],
          [
           "(?)",
           -0.7489754253515631
          ],
          [
           "(?)",
           -1
          ],
          [
           "(?)",
           1
          ],
          [
           -11826268.052213632,
           -1
          ],
          [
           "(?)",
           -0.9999655133113817
          ],
          [
           "(?)",
           -1
          ],
          [
           -36561.638282275024,
           -1
          ],
          [
           "(?)",
           -0.7440811723011418
          ],
          [
           "(?)",
           -0.5674199507835467
          ]
         ],
         "domain": {
          "x": [
           0,
           1
          ],
          "y": [
           0,
           1
          ]
         },
         "hovertemplate": "labels=%{label}<br>abs_cumul_net_dollar_flow_365d=%{value}<br>parent=%{parent}<br>id=%{id}<br>cumul_net_dollar_flow_365d=%{customdata[0]}<br>flow_direction_365d=%{color}<extra></extra>",
         "ids": [
          "all/Solana/01",
          "all/Mixin/4swap",
          "all/Ethereum/aave-v1",
          "all/Avalanche/aave-v2",
          "all/Ethereum/aave-v2",
          "all/Polygon/aave-v2",
          "all/Arbitrum/aave-v3",
          "all/Avalanche/aave-v3",
          "all/Fantom/aave-v3",
          "all/Harmony/aave-v3",
          "all/Optimism/aave-v3",
          "all/Polygon/aave-v3",
          "all/Acala/acala-dollar",
          "all/Acala/acala-liquid-staking",
          "all/Ethereum/across",
          "all/Arbitrum/acryptos",
          "all/Astar/acryptos",
          "all/Avalanche/acryptos",
          "all/Binance/acryptos",
          "all/Cronos/acryptos",
          "all/Ethereum/acryptos",
          "all/Fantom/acryptos",
          "all/Harmony/acryptos",
          "all/Moonbeam/acryptos",
          "all/Moonriver/acryptos",
          "all/Optimism/acryptos",
          "all/xDai/acryptos",
          "all/Ethereum/alchemix",
          "all/Fantom/alchemix",
          "all/Optimism/alchemix",
          "all/Algorand/algo-liquid-governance",
          "all/Algorand/algofi-lend",
          "all/Binance/alpaca-finance",
          "all/Fantom/alpaca-finance",
          "all/Arbitrum/angle",
          "all/Ethereum/angle",
          "all/Optimism/angle",
          "all/Polygon/angle",
          "all/Avalanche/ankr",
          "all/Binance/ankr",
          "all/Ethereum/ankr",
          "all/Fantom/ankr",
          "all/Kusama/ankr",
          "all/Polkadot/ankr",
          "all/xDai/ankr",
          "all/Ethereum/ape-finance",
          "all/Binance/apeswap-amm",
          "all/Ethereum/apeswap-amm",
          "all/Polygon/apeswap-amm",
          "all/Telos/apeswap-amm",
          "all/Binance/apeswap-lending",
          "all/Binance/apollox",
          "all/Ethereum/arrakis-finance",
          "all/Optimism/arrakis-finance",
          "all/Polygon/arrakis-finance",
          "all/Astar/arthswap",
          "all/Terra/astroport",
          "all/Terra2/astroport",
          "all/Ethereum/aura",
          "all/Aptos/aux-exchange",
          "all/Arbitrum/b.protocol",
          "all/Ethereum/b.protocol",
          "all/Polygon/b.protocol",
          "all/Binance/babydogeswap",
          "all/Binance/babyswap",
          "all/Arbitrum/balancer",
          "all/Ethereum/balancer",
          "all/Polygon/balancer",
          "all/Ethereum/bancor-v2.1",
          "all/Ethereum/bancor-v3",
          "all/Aurora/bastion",
          "all/Arbitrum/beefy",
          "all/Aurora/beefy",
          "all/Avalanche/beefy",
          "all/Binance/beefy",
          "all/Celo/beefy",
          "all/Cronos/beefy",
          "all/Ethereum/beefy",
          "all/Fantom/beefy",
          "all/Fuse/beefy",
          "all/Harmony/beefy",
          "all/Heco/beefy",
          "all/Kava/beefy",
          "all/Metis/beefy",
          "all/Moonbeam/beefy",
          "all/Moonriver/beefy",
          "all/Oasis/beefy",
          "all/Optimism/beefy",
          "all/Polygon/beefy",
          "all/Fantom/beethoven-x",
          "all/Optimism/beethoven-x",
          "all/Binance/belt-finance",
          "all/Heco/belt-finance",
          "all/Klaytn/belt-finance",
          "all/Ethereum/benddao",
          "all/Avalanche/benqi-lending",
          "all/Avalanche/benqi-staked-avax",
          "all/Avalanche/bifi",
          "all/Binance/bifi",
          "all/Bitcoin/bifi",
          "all/Ethereum/bifi",
          "all/Klaytn/bifi",
          "all/Bifrost/bifrost-staking",
          "all/Binance/biswap",
          "all/Near/burrow",
          "all/Canto/canto-dex",
          "all/Canto/canto-lending",
          "all/Arbitrum/cbridge",
          "all/Aurora/cbridge",
          "all/Avalanche/cbridge",
          "all/Binance/cbridge",
          "all/Boba/cbridge",
          "all/Celo/cbridge",
          "all/Ethereum/cbridge",
          "all/Fantom/cbridge",
          "all/Harmony/cbridge",
          "all/Metis/cbridge",
          "all/Optimism/cbridge",
          "all/Polygon/cbridge",
          "all/Shiden/cbridge",
          "all/xDai/cbridge",
          "all/Binance/chainport",
          "all/Ethereum/chainport",
          "all/Ethereum/clearpool",
          "all/Polygon/clearpool",
          "all/Ethereum/coinbase-wrapped-staked-eth",
          "all/Binance/coinwind",
          "all/Heco/coinwind",
          "all/Ethereum/compound",
          "all/Ethereum/compound-v3",
          "all/Ethereum/concentrator",
          "all/Arbitrum/connext",
          "all/Avalanche/connext",
          "all/Binance/connext",
          "all/Boba/connext",
          "all/Cronos/connext",
          "all/Ethereum/connext",
          "all/Evmos/connext",
          "all/Fantom/connext",
          "all/Fuse/connext",
          "all/Milkomeda/connext",
          "all/Moonbeam/connext",
          "all/Moonriver/connext",
          "all/Optimism/connext",
          "all/Polygon/connext",
          "all/xDai/connext",
          "all/Ethereum/convex-finance",
          "all/Arbitrum/cream-finance",
          "all/Binance/cream-finance",
          "all/Ethereum/cream-finance",
          "all/Polygon/cream-finance",
          "all/Arbitrum/curve",
          "all/Aurora/curve",
          "all/Avalanche/curve",
          "all/Ethereum/curve",
          "all/Fantom/curve",
          "all/Kava/curve",
          "all/Moonbeam/curve",
          "all/Optimism/curve",
          "all/Polygon/curve",
          "all/xDai/curve",
          "all/Binance/deeplock",
          "all/Ethereum/defi-franc",
          "all/Ethereum/defi-swap",
          "all/EOS/defibox",
          "all/Wax/defibox",
          "all/Ethereum/defidollar-dao",
          "all/Ethereum/defisaver",
          "all/Avalanche/defrost",
          "all/Arbitrum/dforce",
          "all/Binance/dforce",
          "all/Ethereum/dforce",
          "all/Optimism/dforce",
          "all/Polygon/dforce",
          "all/Ethereum/dfx-finance",
          "all/Polygon/dfx-finance",
          "all/Fantom/dfyn-network",
          "all/OKExChain/dfyn-network",
          "all/Polygon/dfyn-network",
          "all/Arbitrum/dopex",
          "all/Binance/dopex",
          "all/Binance/dot-dot-finance",
          "all/Arbitrum/dxsale",
          "all/Avalanche/dxsale",
          "all/Binance/dxsale",
          "all/Celo/dxsale",
          "all/Cronos/dxsale",
          "all/Ethereum/dxsale",
          "all/Fantom/dxsale",
          "all/Harmony/dxsale",
          "all/Heco/dxsale",
          "all/Milkomeda/dxsale",
          "all/OKExChain/dxsale",
          "all/Polygon/dxsale",
          "all/Ethereum/dydx",
          "all/Ethereum/enzyme-finance",
          "all/EOS/eos-rex",
          "all/Ethereum/euler",
          "all/Ethereum/fantohm",
          "all/Fantom/fantohm",
          "all/Moonriver/fantohm",
          "all/Cronos/ferro",
          "all/Arbitrum/filda",
          "all/Binance/filda",
          "all/Elastos/filda",
          "all/Heco/filda",
          "all/IoTeX/filda",
          "all/Polygon/filda",
          "all/REI/filda",
          "all/Ethereum/flamincome",
          "all/NEO/flamingo-finance",
          "all/Ethereum/flexa",
          "all/Songbird/flrfarm",
          "all/Algorand/folks-finance-lending",
          "all/Ethereum/frax",
          "all/Fantom/frax",
          "all/Arbitrum/frax-swap",
          "all/Avalanche/frax-swap",
          "all/Binance/frax-swap",
          "all/Dogechain/frax-swap",
          "all/Ethereum/frax-swap",
          "all/Fantom/frax-swap",
          "all/Moonbeam/frax-swap",
          "all/Polygon/frax-swap",
          "all/Ethereum/fraxlend",
          "all/Solana/friktion",
          "all/Polygon/gains-network",
          "all/Ethereum/gearbox",
          "all/Fantom/geist-finance",
          "all/Arbitrum/gmx",
          "all/Avalanche/gmx",
          "all/Binance/grizzlyfi",
          "all/Binance/harvest-finance",
          "all/Ethereum/harvest-finance",
          "all/Polygon/harvest-finance",
          "all/Ethereum/hbtc",
          "all/Binance/hector-network",
          "all/Ethereum/hector-network",
          "all/Fantom/hector-network",
          "all/Binance/helio-protocol",
          "all/Metis/hermes-protocol",
          "all/Avalanche/homora-v2",
          "all/Binance/homora-v2",
          "all/Ethereum/homora-v2",
          "all/Fantom/homora-v2",
          "all/Optimism/homora-v2",
          "all/Arbitrum/hop-protocol",
          "all/Ethereum/hop-protocol",
          "all/Optimism/hop-protocol",
          "all/Polygon/hop-protocol",
          "all/xDai/hop-protocol",
          "all/Metis/hummus-exchange",
          "all/Ethereum/ichi-farm",
          "all/Polygon/ichi-farm",
          "all/Ethereum/idle-finance",
          "all/Polygon/idle-finance",
          "all/Ethereum/index-coop",
          "all/Ethereum/instadapp",
          "all/Avalanche/insurace",
          "all/Binance/insurace",
          "all/Ethereum/insurace",
          "all/Polygon/insurace",
          "all/Avalanche/iron-bank",
          "all/Ethereum/iron-bank",
          "all/Fantom/iron-bank",
          "all/Optimism/iron-bank",
          "all/Binance/iziswap",
          "all/Ethereum/jpegd",
          "all/Juno/junoswap",
          "all/Tron/justlend",
          "all/Tron/juststables",
          "all/Ronin/katana-dex",
          "all/Kava/kava-lend",
          "all/Kava/kava-mint",
          "all/Ethereum/keep-network",
          "all/Klaytn/klap",
          "all/Klaytn/klayswap",
          "all/Klaytn/kleva-protocol",
          "all/Polygon/klima-dao",
          "all/Binance/knightswap-finance",
          "all/Fantom/knightswap-finance",
          "all/Klaytn/kokoa-finance",
          "all/Klaytn/kokonut-swap",
          "all/Arbitrum/kyberswap",
          "all/Avalanche/kyberswap",
          "all/Binance/kyberswap",
          "all/Cronos/kyberswap",
          "all/Ethereum/kyberswap",
          "all/Fantom/kyberswap",
          "all/Oasis/kyberswap",
          "all/Optimism/kyberswap",
          "all/Polygon/kyberswap",
          "all/Ethereum/lido",
          "all/Moonbeam/lido",
          "all/Moonriver/lido",
          "all/Solana/lido",
          "all/Terra/lido",
          "all/Bitcoin/lightning-network",
          "all/Binance/liqee",
          "all/Ethereum/liqee",
          "all/Fantom/liquid-driver",
          "all/Ethereum/liquity",
          "all/Algorand/lofty",
          "all/Ethereum/loopring",
          "all/Ethereum/lusd-chickenbonds",
          "all/Ethereum/lyra",
          "all/Optimism/lyra",
          "all/Elrond/maiar-exchange",
          "all/Ethereum/makerdao",
          "all/Ethereum/maple",
          "all/Solana/maple",
          "all/Solana/marinade-finance",
          "all/Celo/mento",
          "all/Solana/mercurial-finance",
          "all/Polygon/meshswap",
          "all/Near/meta-pool",
          "all/Ethereum/mimo-protocol",
          "all/Fantom/mimo-protocol",
          "all/Polygon/mimo-protocol",
          "all/Cardano/minswap",
          "all/Cronos/mm-finance-cronos",
          "all/Celo/mobius-money",
          "all/Kucoin/mojitoswap",
          "all/RSK/moneyonchain",
          "all/Moonriver/moonwell-apollo",
          "all/Moonbeam/moonwell-artemis",
          "all/Ethereum/morpho-aave",
          "all/Ethereum/morpho-compound",
          "all/Ethereum/mstable",
          "all/Polygon/mstable",
          "all/Arbitrum/mux-derivatives",
          "all/Avalanche/mux-derivatives",
          "all/Binance/mux-derivatives",
          "all/Fantom/mux-derivatives",
          "all/Arbitrum/mycelium-perpetual-swaps",
          "all/NEO/neoburger",
          "all/Waves/neutrino",
          "all/Ethereum/nexus-mutual",
          "all/Ethereum/nftfi",
          "all/Ethereum/nftx",
          "all/Binance/nomiswap",
          "all/Ethereum/notional",
          "all/Binance/octus-bridge",
          "all/Ethereum/octus-bridge",
          "all/Everscale/octus-bridge",
          "all/Polygon/octus-bridge",
          "all/OKExChain/okcswap",
          "all/Ethereum/olympus-dao",
          "all/Avalanche/opyn",
          "all/Ethereum/opyn",
          "all/Polygon/opyn",
          "all/Binance/orbit-bridge",
          "all/Celo/orbit-bridge",
          "all/Ethereum/orbit-bridge",
          "all/Heco/orbit-bridge",
          "all/Klaytn/orbit-bridge",
          "all/Polygon/orbit-bridge",
          "all/Ripple/orbit-bridge",
          "all/Ethereum/origin-dollar",
          "all/Osmosis/osmosis",
          "all/Aptos/pancakeswap",
          "all/Binance/pancakeswap",
          "all/Ethereum/pancakeswap",
          "all/Mixin/pando-leaf",
          "all/Mixin/pando-rings",
          "all/Avalanche/pangolin",
          "all/Songbird/pangolin",
          "all/Heiko/parallel-lending",
          "all/Parallel/parallel-lending",
          "all/Parallel/parallel-liquid-crowdloan",
          "all/Heiko/parallel-liquid-staking",
          "all/Parallel/parallel-liquid-staking",
          "all/Solana/parrot-protocol",
          "all/Optimism/perpetual-protocol",
          "all/Avalanche/pinksale",
          "all/Binance/pinksale",
          "all/Cronos/pinksale",
          "all/Ethereum/pinksale",
          "all/Fantom/pinksale",
          "all/Polygon/pinksale",
          "all/Avalanche/platypus-finance",
          "all/Binance/pnetwork",
          "all/Bitcoin/pnetwork",
          "all/Doge/pnetwork",
          "all/EOS/pnetwork",
          "all/Ethereum/pnetwork",
          "all/Fantom/pnetwork",
          "all/LBRY/pnetwork",
          "all/Litecoin/pnetwork",
          "all/ORE/pnetwork",
          "all/Ravencoin/pnetwork",
          "all/Telos/pnetwork",
          "all/Avalanche/pooltogether",
          "all/Binance/pooltogether",
          "all/Celo/pooltogether",
          "all/Ethereum/pooltogether",
          "all/Optimism/pooltogether",
          "all/Polygon/pooltogether",
          "all/Arbitrum/qidao",
          "all/Avalanche/qidao",
          "all/Binance/qidao",
          "all/Ethereum/qidao",
          "all/Fantom/qidao",
          "all/Harmony/qidao",
          "all/Metis/qidao",
          "all/Moonbeam/qidao",
          "all/Moonriver/qidao",
          "all/Optimism/qidao",
          "all/Polygon/qidao",
          "all/xDai/qidao",
          "all/Solana/quarry",
          "all/Polygon/quickswap-dex",
          "all/Dogechain/quickswap-v3",
          "all/Polygon/quickswap-v3",
          "all/Arbitrum/radiant",
          "all/Arbitrum/rari-capital",
          "all/Ethereum/rari-capital",
          "all/xDai/realt",
          "all/Fantom/reaper-farm",
          "all/Optimism/reaper-farm",
          "all/Ethereum/redacted-protocol",
          "all/Near/ref-finance",
          "all/Ethereum/reflexer",
          "all/Arbitrum/renvm",
          "all/Avalanche/renvm",
          "all/Binance/renvm",
          "all/Ethereum/renvm",
          "all/Fantom/renvm",
          "all/Optimism/renvm",
          "all/Polygon/renvm",
          "all/Solana/renvm",
          "all/Ethereum/reserve",
          "all/Telos/rex-staking",
          "all/Arbitrum/rhino.fi",
          "all/Ethereum/rhino.fi",
          "all/Polygon/rhino.fi",
          "all/Avalanche/ribbon",
          "all/Ethereum/ribbon",
          "all/Solana/ribbon",
          "all/Ethereum/rocket-pool",
          "all/Solana/saber",
          "all/Arbitrum/saddle-finance",
          "all/Ethereum/saddle-finance",
          "all/Evmos/saddle-finance",
          "all/Fantom/saddle-finance",
          "all/Kava/saddle-finance",
          "all/Optimism/saddle-finance",
          "all/Fantom/scream",
          "all/Ethereum/set-protocol",
          "all/Ethereum/sherlock",
          "all/Ethereum/shibaswap",
          "all/Icon/sicx",
          "all/Cronos/single-finance",
          "all/Fantom/single-finance",
          "all/Moonriver/solarbeam",
          "all/Solana/solend",
          "all/Binance/solo-top",
          "all/Heco/solo-top",
          "all/OKExChain/solo-top",
          "all/Polygon/solo-top",
          "all/Optimism/sonne-finance",
          "all/Fantom/spartacus",
          "all/Polygon/sphere-finance",
          "all/Fantom/spiritswap-amm",
          "all/Fantom/spookyswap",
          "all/Ethereum/spool-protocol",
          "all/Stacks/stacks-staking",
          "all/Binance/stader",
          "all/Ethereum/stader",
          "all/Fantom/stader",
          "all/Hedera/stader",
          "all/Near/stader",
          "all/Terra2/stader",
          "all/Binance/stafi",
          "all/Cosmos/stafi",
          "all/Ethereum/stafi",
          "all/Polygon/stafi",
          "all/Solana/stafi",
          "all/Stafi/stafi",
          "all/Klaytn/stake.ly",
          "all/Avalanche/stakedao",
          "all/Ethereum/stakedao",
          "all/Harmony/stakedao",
          "all/Polygon/stakedao",
          "all/Ethereum/stakewise",
          "all/xDai/stakewise",
          "all/Arbitrum/stargate",
          "all/Avalanche/stargate",
          "all/Binance/stargate",
          "all/Ethereum/stargate",
          "all/Fantom/stargate",
          "all/Optimism/stargate",
          "all/Polygon/stargate",
          "all/Moonbeam/stellaswap",
          "all/Ethereum/strike",
          "all/Ethereum/sturdy",
          "all/Fantom/sturdy",
          "all/Tron/sun.io",
          "all/Tron/sunswap",
          "all/Arbitrum/sushi-bentobox",
          "all/Avalanche/sushi-bentobox",
          "all/Binance/sushi-bentobox",
          "all/Ethereum/sushi-bentobox",
          "all/Fantom/sushi-bentobox",
          "all/Optimism/sushi-bentobox",
          "all/Polygon/sushi-bentobox",
          "all/Arbitrum/swapr",
          "all/Ethereum/swapr",
          "all/xDai/swapr",
          "all/Arbitrum/synapse",
          "all/Aurora/synapse",
          "all/Avalanche/synapse",
          "all/Binance/synapse",
          "all/Boba/synapse",
          "all/Cronos/synapse",
          "all/Ethereum/synapse",
          "all/Fantom/synapse",
          "all/Harmony/synapse",
          "all/Klaytn/synapse",
          "all/Metis/synapse",
          "all/Moonbeam/synapse",
          "all/Moonriver/synapse",
          "all/Optimism/synapse",
          "all/Polygon/synapse",
          "all/Terra/synapse",
          "all/Ethereum/synthetix",
          "all/Optimism/synthetix",
          "all/Fantom/tarot",
          "all/Optimism/tarot",
          "all/Avalanche/team-finance",
          "all/Binance/team-finance",
          "all/Ethereum/team-finance",
          "all/Polygon/team-finance",
          "all/Cronos/tectonic",
          "all/Ethereum/templedao",
          "all/Binance/terra-bridge",
          "all/Ethereum/terra-bridge",
          "all/Harmony/terra-bridge",
          "all/Binance/tetu-earn",
          "all/Ethereum/tetu-earn",
          "all/Fantom/tetu-earn",
          "all/Polygon/tetu-earn",
          "all/Tezos/tezos-liquidity-baking",
          "all/Ethereum/the-tokenized-bitcoin",
          "all/Theta/thetaswap",
          "all/Ethereum/tokemak",
          "all/Avalanche/tokensfarm",
          "all/Binance/tokensfarm",
          "all/Ethereum/tokensfarm",
          "all/Fantom/tokensfarm",
          "all/Polygon/tokensfarm",
          "all/Arbitrum/tornado-cash",
          "all/Avalanche/tornado-cash",
          "all/Binance/tornado-cash",
          "all/Ethereum/tornado-cash",
          "all/Optimism/tornado-cash",
          "all/Polygon/tornado-cash",
          "all/xDai/tornado-cash",
          "all/Celo/toucan-protocol",
          "all/Polygon/toucan-protocol",
          "all/Avalanche/trader-joe-dex",
          "all/Avalanche/trader-joe-lend",
          "all/Binance/tranchess",
          "all/Aurora/trisolaris",
          "all/Ethereum/truefi",
          "all/Avalanche/unicrypt",
          "all/Binance/unicrypt",
          "all/Ethereum/unicrypt",
          "all/Polygon/unicrypt",
          "all/Ethereum/uniswap-v2",
          "all/Ethereum/unslashed",
          "all/Ethereum/uwu-lend",
          "all/Solana/uxd",
          "all/Binance/valas-finance",
          "all/Oasis/valleyswap",
          "all/Avalanche/vector-finance",
          "all/Optimism/velodrome",
          "all/Binance/venus",
          "all/Avalanche/vesper",
          "all/Ethereum/vesper",
          "all/Polygon/vesper",
          "all/Arbitrum/vesta-finance",
          "all/Waves/vires-finance",
          "all/Cronos/vvs-finance",
          "all/Binance/w3swap",
          "all/Ethereum/wbtc",
          "all/Binance/wing-finance",
          "all/Ethereum/wing-finance",
          "all/OKExChain/wing-finance",
          "all/Ontology/wing-finance",
          "all/OntologyEVM/wing-finance",
          "all/Binance/wombat-exchange",
          "all/Binance/wombex-finance",
          "all/Celo/wrapped",
          "all/Ethereum/wrapped",
          "all/Binance/wrapped-bnb",
          "all/Waves/wx.network",
          "all/Ethereum/xdai-stake-bridge",
          "all/Arbitrum/yearn-finance",
          "all/Ethereum/yearn-finance",
          "all/Fantom/yearn-finance",
          "all/Optimism/yearn-finance",
          "all/Avalanche/yeti-finance",
          "all/Avalanche/yield-yak-aggregator",
          "all/Tezos/youves",
          "all/Acala",
          "all/Algorand",
          "all/Aptos",
          "all/Arbitrum",
          "all/Astar",
          "all/Aurora",
          "all/Avalanche",
          "all/Bifrost",
          "all/Binance",
          "all/Bitcoin",
          "all/Boba",
          "all/Canto",
          "all/Cardano",
          "all/Celo",
          "all/Cosmos",
          "all/Cronos",
          "all/Doge",
          "all/Dogechain",
          "all/EOS",
          "all/Elastos",
          "all/Elrond",
          "all/Ethereum",
          "all/Everscale",
          "all/Evmos",
          "all/Fantom",
          "all/Fuse",
          "all/Harmony",
          "all/Heco",
          "all/Hedera",
          "all/Heiko",
          "all/Icon",
          "all/IoTeX",
          "all/Juno",
          "all/Kava",
          "all/Klaytn",
          "all/Kucoin",
          "all/Kusama",
          "all/LBRY",
          "all/Litecoin",
          "all/Metis",
          "all/Milkomeda",
          "all/Mixin",
          "all/Moonbeam",
          "all/Moonriver",
          "all/NEO",
          "all/Near",
          "all/OKExChain",
          "all/ORE",
          "all/Oasis",
          "all/Ontology",
          "all/OntologyEVM",
          "all/Optimism",
          "all/Osmosis",
          "all/Parallel",
          "all/Polkadot",
          "all/Polygon",
          "all/REI",
          "all/RSK",
          "all/Ravencoin",
          "all/Ripple",
          "all/Ronin",
          "all/Shiden",
          "all/Solana",
          "all/Songbird",
          "all/Stacks",
          "all/Stafi",
          "all/Telos",
          "all/Terra",
          "all/Terra2",
          "all/Tezos",
          "all/Theta",
          "all/Tron",
          "all/Waves",
          "all/Wax",
          "all/xDai",
          "all"
         ],
         "labels": [
          "01",
          "4swap",
          "aave-v1",
          "aave-v2",
          "aave-v2",
          "aave-v2",
          "aave-v3",
          "aave-v3",
          "aave-v3",
          "aave-v3",
          "aave-v3",
          "aave-v3",
          "acala-dollar",
          "acala-liquid-staking",
          "across",
          "acryptos",
          "acryptos",
          "acryptos",
          "acryptos",
          "acryptos",
          "acryptos",
          "acryptos",
          "acryptos",
          "acryptos",
          "acryptos",
          "acryptos",
          "acryptos",
          "alchemix",
          "alchemix",
          "alchemix",
          "algo-liquid-governance",
          "algofi-lend",
          "alpaca-finance",
          "alpaca-finance",
          "angle",
          "angle",
          "angle",
          "angle",
          "ankr",
          "ankr",
          "ankr",
          "ankr",
          "ankr",
          "ankr",
          "ankr",
          "ape-finance",
          "apeswap-amm",
          "apeswap-amm",
          "apeswap-amm",
          "apeswap-amm",
          "apeswap-lending",
          "apollox",
          "arrakis-finance",
          "arrakis-finance",
          "arrakis-finance",
          "arthswap",
          "astroport",
          "astroport",
          "aura",
          "aux-exchange",
          "b.protocol",
          "b.protocol",
          "b.protocol",
          "babydogeswap",
          "babyswap",
          "balancer",
          "balancer",
          "balancer",
          "bancor-v2.1",
          "bancor-v3",
          "bastion",
          "beefy",
          "beefy",
          "beefy",
          "beefy",
          "beefy",
          "beefy",
          "beefy",
          "beefy",
          "beefy",
          "beefy",
          "beefy",
          "beefy",
          "beefy",
          "beefy",
          "beefy",
          "beefy",
          "beefy",
          "beefy",
          "beethoven-x",
          "beethoven-x",
          "belt-finance",
          "belt-finance",
          "belt-finance",
          "benddao",
          "benqi-lending",
          "benqi-staked-avax",
          "bifi",
          "bifi",
          "bifi",
          "bifi",
          "bifi",
          "bifrost-staking",
          "biswap",
          "burrow",
          "canto-dex",
          "canto-lending",
          "cbridge",
          "cbridge",
          "cbridge",
          "cbridge",
          "cbridge",
          "cbridge",
          "cbridge",
          "cbridge",
          "cbridge",
          "cbridge",
          "cbridge",
          "cbridge",
          "cbridge",
          "cbridge",
          "chainport",
          "chainport",
          "clearpool",
          "clearpool",
          "coinbase-wrapped-staked-eth",
          "coinwind",
          "coinwind",
          "compound",
          "compound-v3",
          "concentrator",
          "connext",
          "connext",
          "connext",
          "connext",
          "connext",
          "connext",
          "connext",
          "connext",
          "connext",
          "connext",
          "connext",
          "connext",
          "connext",
          "connext",
          "connext",
          "convex-finance",
          "cream-finance",
          "cream-finance",
          "cream-finance",
          "cream-finance",
          "curve",
          "curve",
          "curve",
          "curve",
          "curve",
          "curve",
          "curve",
          "curve",
          "curve",
          "curve",
          "deeplock",
          "defi-franc",
          "defi-swap",
          "defibox",
          "defibox",
          "defidollar-dao",
          "defisaver",
          "defrost",
          "dforce",
          "dforce",
          "dforce",
          "dforce",
          "dforce",
          "dfx-finance",
          "dfx-finance",
          "dfyn-network",
          "dfyn-network",
          "dfyn-network",
          "dopex",
          "dopex",
          "dot-dot-finance",
          "dxsale",
          "dxsale",
          "dxsale",
          "dxsale",
          "dxsale",
          "dxsale",
          "dxsale",
          "dxsale",
          "dxsale",
          "dxsale",
          "dxsale",
          "dxsale",
          "dydx",
          "enzyme-finance",
          "eos-rex",
          "euler",
          "fantohm",
          "fantohm",
          "fantohm",
          "ferro",
          "filda",
          "filda",
          "filda",
          "filda",
          "filda",
          "filda",
          "filda",
          "flamincome",
          "flamingo-finance",
          "flexa",
          "flrfarm",
          "folks-finance-lending",
          "frax",
          "frax",
          "frax-swap",
          "frax-swap",
          "frax-swap",
          "frax-swap",
          "frax-swap",
          "frax-swap",
          "frax-swap",
          "frax-swap",
          "fraxlend",
          "friktion",
          "gains-network",
          "gearbox",
          "geist-finance",
          "gmx",
          "gmx",
          "grizzlyfi",
          "harvest-finance",
          "harvest-finance",
          "harvest-finance",
          "hbtc",
          "hector-network",
          "hector-network",
          "hector-network",
          "helio-protocol",
          "hermes-protocol",
          "homora-v2",
          "homora-v2",
          "homora-v2",
          "homora-v2",
          "homora-v2",
          "hop-protocol",
          "hop-protocol",
          "hop-protocol",
          "hop-protocol",
          "hop-protocol",
          "hummus-exchange",
          "ichi-farm",
          "ichi-farm",
          "idle-finance",
          "idle-finance",
          "index-coop",
          "instadapp",
          "insurace",
          "insurace",
          "insurace",
          "insurace",
          "iron-bank",
          "iron-bank",
          "iron-bank",
          "iron-bank",
          "iziswap",
          "jpegd",
          "junoswap",
          "justlend",
          "juststables",
          "katana-dex",
          "kava-lend",
          "kava-mint",
          "keep-network",
          "klap",
          "klayswap",
          "kleva-protocol",
          "klima-dao",
          "knightswap-finance",
          "knightswap-finance",
          "kokoa-finance",
          "kokonut-swap",
          "kyberswap",
          "kyberswap",
          "kyberswap",
          "kyberswap",
          "kyberswap",
          "kyberswap",
          "kyberswap",
          "kyberswap",
          "kyberswap",
          "lido",
          "lido",
          "lido",
          "lido",
          "lido",
          "lightning-network",
          "liqee",
          "liqee",
          "liquid-driver",
          "liquity",
          "lofty",
          "loopring",
          "lusd-chickenbonds",
          "lyra",
          "lyra",
          "maiar-exchange",
          "makerdao",
          "maple",
          "maple",
          "marinade-finance",
          "mento",
          "mercurial-finance",
          "meshswap",
          "meta-pool",
          "mimo-protocol",
          "mimo-protocol",
          "mimo-protocol",
          "minswap",
          "mm-finance-cronos",
          "mobius-money",
          "mojitoswap",
          "moneyonchain",
          "moonwell-apollo",
          "moonwell-artemis",
          "morpho-aave",
          "morpho-compound",
          "mstable",
          "mstable",
          "mux-derivatives",
          "mux-derivatives",
          "mux-derivatives",
          "mux-derivatives",
          "mycelium-perpetual-swaps",
          "neoburger",
          "neutrino",
          "nexus-mutual",
          "nftfi",
          "nftx",
          "nomiswap",
          "notional",
          "octus-bridge",
          "octus-bridge",
          "octus-bridge",
          "octus-bridge",
          "okcswap",
          "olympus-dao",
          "opyn",
          "opyn",
          "opyn",
          "orbit-bridge",
          "orbit-bridge",
          "orbit-bridge",
          "orbit-bridge",
          "orbit-bridge",
          "orbit-bridge",
          "orbit-bridge",
          "origin-dollar",
          "osmosis",
          "pancakeswap",
          "pancakeswap",
          "pancakeswap",
          "pando-leaf",
          "pando-rings",
          "pangolin",
          "pangolin",
          "parallel-lending",
          "parallel-lending",
          "parallel-liquid-crowdloan",
          "parallel-liquid-staking",
          "parallel-liquid-staking",
          "parrot-protocol",
          "perpetual-protocol",
          "pinksale",
          "pinksale",
          "pinksale",
          "pinksale",
          "pinksale",
          "pinksale",
          "platypus-finance",
          "pnetwork",
          "pnetwork",
          "pnetwork",
          "pnetwork",
          "pnetwork",
          "pnetwork",
          "pnetwork",
          "pnetwork",
          "pnetwork",
          "pnetwork",
          "pnetwork",
          "pooltogether",
          "pooltogether",
          "pooltogether",
          "pooltogether",
          "pooltogether",
          "pooltogether",
          "qidao",
          "qidao",
          "qidao",
          "qidao",
          "qidao",
          "qidao",
          "qidao",
          "qidao",
          "qidao",
          "qidao",
          "qidao",
          "qidao",
          "quarry",
          "quickswap-dex",
          "quickswap-v3",
          "quickswap-v3",
          "radiant",
          "rari-capital",
          "rari-capital",
          "realt",
          "reaper-farm",
          "reaper-farm",
          "redacted-protocol",
          "ref-finance",
          "reflexer",
          "renvm",
          "renvm",
          "renvm",
          "renvm",
          "renvm",
          "renvm",
          "renvm",
          "renvm",
          "reserve",
          "rex-staking",
          "rhino.fi",
          "rhino.fi",
          "rhino.fi",
          "ribbon",
          "ribbon",
          "ribbon",
          "rocket-pool",
          "saber",
          "saddle-finance",
          "saddle-finance",
          "saddle-finance",
          "saddle-finance",
          "saddle-finance",
          "saddle-finance",
          "scream",
          "set-protocol",
          "sherlock",
          "shibaswap",
          "sicx",
          "single-finance",
          "single-finance",
          "solarbeam",
          "solend",
          "solo-top",
          "solo-top",
          "solo-top",
          "solo-top",
          "sonne-finance",
          "spartacus",
          "sphere-finance",
          "spiritswap-amm",
          "spookyswap",
          "spool-protocol",
          "stacks-staking",
          "stader",
          "stader",
          "stader",
          "stader",
          "stader",
          "stader",
          "stafi",
          "stafi",
          "stafi",
          "stafi",
          "stafi",
          "stafi",
          "stake.ly",
          "stakedao",
          "stakedao",
          "stakedao",
          "stakedao",
          "stakewise",
          "stakewise",
          "stargate",
          "stargate",
          "stargate",
          "stargate",
          "stargate",
          "stargate",
          "stargate",
          "stellaswap",
          "strike",
          "sturdy",
          "sturdy",
          "sun.io",
          "sunswap",
          "sushi-bentobox",
          "sushi-bentobox",
          "sushi-bentobox",
          "sushi-bentobox",
          "sushi-bentobox",
          "sushi-bentobox",
          "sushi-bentobox",
          "swapr",
          "swapr",
          "swapr",
          "synapse",
          "synapse",
          "synapse",
          "synapse",
          "synapse",
          "synapse",
          "synapse",
          "synapse",
          "synapse",
          "synapse",
          "synapse",
          "synapse",
          "synapse",
          "synapse",
          "synapse",
          "synapse",
          "synthetix",
          "synthetix",
          "tarot",
          "tarot",
          "team-finance",
          "team-finance",
          "team-finance",
          "team-finance",
          "tectonic",
          "templedao",
          "terra-bridge",
          "terra-bridge",
          "terra-bridge",
          "tetu-earn",
          "tetu-earn",
          "tetu-earn",
          "tetu-earn",
          "tezos-liquidity-baking",
          "the-tokenized-bitcoin",
          "thetaswap",
          "tokemak",
          "tokensfarm",
          "tokensfarm",
          "tokensfarm",
          "tokensfarm",
          "tokensfarm",
          "tornado-cash",
          "tornado-cash",
          "tornado-cash",
          "tornado-cash",
          "tornado-cash",
          "tornado-cash",
          "tornado-cash",
          "toucan-protocol",
          "toucan-protocol",
          "trader-joe-dex",
          "trader-joe-lend",
          "tranchess",
          "trisolaris",
          "truefi",
          "unicrypt",
          "unicrypt",
          "unicrypt",
          "unicrypt",
          "uniswap-v2",
          "unslashed",
          "uwu-lend",
          "uxd",
          "valas-finance",
          "valleyswap",
          "vector-finance",
          "velodrome",
          "venus",
          "vesper",
          "vesper",
          "vesper",
          "vesta-finance",
          "vires-finance",
          "vvs-finance",
          "w3swap",
          "wbtc",
          "wing-finance",
          "wing-finance",
          "wing-finance",
          "wing-finance",
          "wing-finance",
          "wombat-exchange",
          "wombex-finance",
          "wrapped",
          "wrapped",
          "wrapped-bnb",
          "wx.network",
          "xdai-stake-bridge",
          "yearn-finance",
          "yearn-finance",
          "yearn-finance",
          "yearn-finance",
          "yeti-finance",
          "yield-yak-aggregator",
          "youves",
          "Acala",
          "Algorand",
          "Aptos",
          "Arbitrum",
          "Astar",
          "Aurora",
          "Avalanche",
          "Bifrost",
          "Binance",
          "Bitcoin",
          "Boba",
          "Canto",
          "Cardano",
          "Celo",
          "Cosmos",
          "Cronos",
          "Doge",
          "Dogechain",
          "EOS",
          "Elastos",
          "Elrond",
          "Ethereum",
          "Everscale",
          "Evmos",
          "Fantom",
          "Fuse",
          "Harmony",
          "Heco",
          "Hedera",
          "Heiko",
          "Icon",
          "IoTeX",
          "Juno",
          "Kava",
          "Klaytn",
          "Kucoin",
          "Kusama",
          "LBRY",
          "Litecoin",
          "Metis",
          "Milkomeda",
          "Mixin",
          "Moonbeam",
          "Moonriver",
          "NEO",
          "Near",
          "OKExChain",
          "ORE",
          "Oasis",
          "Ontology",
          "OntologyEVM",
          "Optimism",
          "Osmosis",
          "Parallel",
          "Polkadot",
          "Polygon",
          "REI",
          "RSK",
          "Ravencoin",
          "Ripple",
          "Ronin",
          "Shiden",
          "Solana",
          "Songbird",
          "Stacks",
          "Stafi",
          "Telos",
          "Terra",
          "Terra2",
          "Tezos",
          "Theta",
          "Tron",
          "Waves",
          "Wax",
          "xDai",
          "all"
         ],
         "marker": {
          "coloraxis": "coloraxis",
          "colors": [
           1,
           -1,
           -1,
           -1,
           -1,
           -1,
           1,
           -1,
           -1,
           -1,
           -1,
           1,
           -1,
           -1,
           -1,
           -1,
           1,
           -1,
           -1,
           -1,
           -1,
           -1,
           -1,
           1,
           -1,
           1,
           -1,
           -1,
           -1,
           1,
           1,
           -1,
           -1,
           -1,
           1,
           -1,
           -1,
           1,
           1,
           1,
           1,
           -1,
           -1,
           -1,
           1,
           1,
           1,
           1,
           -1,
           1,
           -1,
           1,
           -1,
           1,
           1,
           -1,
           -1,
           -1,
           1,
           1,
           -1,
           1,
           -1,
           1,
           -1,
           1,
           -1,
           1,
           -1,
           -1,
           -1,
           -1,
           -1,
           -1,
           -1,
           -1,
           -1,
           1,
           -1,
           -1,
           -1,
           -1,
           1,
           1,
           1,
           1,
           -1,
           1,
           -1,
           -1,
           1,
           -1,
           -1,
           -1,
           1,
           -1,
           1,
           -1,
           1,
           -1,
           -1,
           1,
           -1,
           -1,
           -1,
           1,
           1,
           -1,
           -1,
           -1,
           -1,
           -1,
           -1,
           -1,
           -1,
           -1,
           -1,
           -1,
           -1,
           -1,
           1,
           1,
           1,
           1,
           -1,
           1,
           -1,
           -1,
           -1,
           1,
           -1,
           1,
           1,
           -1,
           -1,
           1,
           1,
           1,
           -1,
           1,
           1,
           1,
           1,
           -1,
           -1,
           1,
           -1,
           -1,
           -1,
           -1,
           -1,
           -1,
           1,
           -1,
           -1,
           -1,
           1,
           1,
           1,
           -1,
           -1,
           -1,
           -1,
           -1,
           -1,
           -1,
           -1,
           -1,
           -1,
           1,
           -1,
           -1,
           1,
           1,
           -1,
           -1,
           1,
           -1,
           -1,
           1,
           1,
           -1,
           1,
           -1,
           -1,
           -1,
           -1,
           -1,
           -1,
           -1,
           1,
           1,
           -1,
           -1,
           -1,
           -1,
           -1,
           -1,
           1,
           -1,
           -1,
           -1,
           -1,
           1,
           -1,
           -1,
           -1,
           -1,
           -1,
           -1,
           -1,
           -1,
           -1,
           -1,
           -1,
           -1,
           -1,
           -1,
           -1,
           1,
           1,
           -1,
           -1,
           -1,
           1,
           -1,
           1,
           1,
           1,
           1,
           -1,
           1,
           -1,
           -1,
           1,
           -1,
           1,
           -1,
           -1,
           1,
           1,
           -1,
           1,
           1,
           -1,
           1,
           1,
           1,
           1,
           -1,
           1,
           1,
           1,
           1,
           1,
           -1,
           -1,
           -1,
           -1,
           -1,
           -1,
           -1,
           -1,
           -1,
           -1,
           -1,
           -1,
           1,
           -1,
           -1,
           1,
           -1,
           -1,
           -1,
           -1,
           -1,
           -1,
           -1,
           -1,
           -1,
           -1,
           1,
           -1,
           1,
           1,
           -1,
           1,
           1,
           1,
           -1,
           1,
           1,
           1,
           1,
           1,
           1,
           1,
           1,
           -1,
           -1,
           -1,
           1,
           1,
           -1,
           1,
           -1,
           -1,
           -1,
           -1,
           1,
           1,
           -1,
           1,
           -1,
           -1,
           -1,
           1,
           -1,
           -1,
           -1,
           -1,
           -1,
           -1,
           -1,
           -1,
           -1,
           1,
           -1,
           -1,
           -1,
           1,
           1,
           1,
           1,
           1,
           1,
           -1,
           -1,
           -1,
           -1,
           -1,
           -1,
           -1,
           -1,
           -1,
           1,
           1,
           -1,
           -1,
           1,
           1,
           -1,
           1,
           -1,
           1,
           -1,
           1,
           -1,
           -1,
           -1,
           1,
           -1,
           1,
           1,
           1,
           -1,
           1,
           -1,
           1,
           1,
           -1,
           -1,
           -1,
           -1,
           -1,
           -1,
           -1,
           1,
           -1,
           -1,
           -1,
           -1,
           -1,
           1,
           -1,
           -1,
           -1,
           -1,
           1,
           1,
           -1,
           -1,
           -1,
           -1,
           -1,
           -1,
           -1,
           -1,
           -1,
           -1,
           -1,
           1,
           -1,
           -1,
           1,
           1,
           -1,
           -1,
           -1,
           -1,
           -1,
           -1,
           -1,
           1,
           -1,
           -1,
           -1,
           1,
           -1,
           1,
           1,
           -1,
           -1,
           -1,
           1,
           -1,
           1,
           -1,
           -1,
           -1,
           -1,
           -1,
           -1,
           -1,
           1,
           -1,
           -1,
           -1,
           1,
           1,
           -1,
           -1,
           -1,
           -1,
           -1,
           -1,
           1,
           -1,
           -1,
           1,
           -1,
           -1,
           -1,
           -1,
           -1,
           1,
           -1,
           -1,
           -1,
           -1,
           1,
           -1,
           -1,
           -1,
           -1,
           -1,
           1,
           1,
           1,
           1,
           1,
           1,
           -1,
           -1,
           1,
           1,
           -1,
           -1,
           1,
           1,
           -1,
           -1,
           -1,
           -1,
           1,
           1,
           1,
           1,
           1,
           -1,
           1,
           1,
           -1,
           1,
           -1,
           -1,
           -1,
           -1,
           -1,
           -1,
           1,
           -1,
           -1,
           -1,
           -1,
           1,
           -1,
           -1,
           -1,
           1,
           -1,
           -1,
           -1,
           -1,
           -1,
           -1,
           -1,
           -1,
           -1,
           1,
           1,
           -1,
           1,
           -1,
           -1,
           1,
           1,
           -1,
           -1,
           -1,
           -1,
           -1,
           -1,
           -1,
           1,
           -1,
           -1,
           -1,
           -1,
           -1,
           -1,
           1,
           1,
           1,
           -1,
           -1,
           1,
           1,
           1,
           -1,
           -1,
           -1,
           -1,
           1,
           -1,
           -1,
           -1,
           -1,
           1,
           -1,
           -1,
           1,
           -1,
           -1,
           1,
           -1,
           -1,
           1,
           -1,
           -1,
           1,
           1,
           -1,
           -1,
           1,
           -1,
           -1,
           1,
           1,
           -1,
           -1,
           1,
           -1,
           -1,
           -1,
           1,
           1,
           -1,
           -1,
           -1,
           -1,
           1,
           1,
           -1,
           1,
           -1,
           -1,
           1,
           1,
           -1,
           -1,
           1,
           -1,
           -1,
           1,
           -1,
           -0.7046423868997905,
           1,
           0.42458351779633,
           -0.9981469552695093,
           -0.9999958823519599,
           -0.9120470816744105,
           -1,
           -0.03216691451897939,
           0.8448855591941845,
           -1,
           1,
           -1,
           0.2685818467255499,
           1,
           -0.9990450319699802,
           1,
           0.6569092309657033,
           -1,
           -1,
           -1,
           -0.585891365780028,
           -1,
           0.991715795673501,
           -0.8956299978827024,
           -0.33996429021158964,
           -1,
           -0.9773194004712105,
           1,
           -1,
           -1,
           -1,
           -1,
           -0.25397473157909944,
           -0.5058011143266429,
           -1,
           -1,
           -1,
           1,
           0.9910083213733489,
           1,
           -0.42733476642364443,
           0.8458840190426922,
           -0.7415273788066521,
           -0.7300908193526171,
           -0.9074338386420289,
           0.6641873554349428,
           1,
           0.8710185416657424,
           -1,
           -1,
           -0.3503698810603772,
           -1,
           -0.21552751496752445,
           -1,
           -0.6949693628085557,
           -1,
           -1,
           -1,
           -1,
           -1,
           -1,
           -0.4111553533227885,
           -0.7965892328058607,
           1,
           1,
           0.3529188580167704,
           -0.7489754253515631,
           -1,
           1,
           -1,
           -0.9999655133113817,
           -1,
           -1,
           -0.7440811723011418,
           -0.5674199507835467
          ]
         },
         "name": "",
         "parents": [
          "all/Solana",
          "all/Mixin",
          "all/Ethereum",
          "all/Avalanche",
          "all/Ethereum",
          "all/Polygon",
          "all/Arbitrum",
          "all/Avalanche",
          "all/Fantom",
          "all/Harmony",
          "all/Optimism",
          "all/Polygon",
          "all/Acala",
          "all/Acala",
          "all/Ethereum",
          "all/Arbitrum",
          "all/Astar",
          "all/Avalanche",
          "all/Binance",
          "all/Cronos",
          "all/Ethereum",
          "all/Fantom",
          "all/Harmony",
          "all/Moonbeam",
          "all/Moonriver",
          "all/Optimism",
          "all/xDai",
          "all/Ethereum",
          "all/Fantom",
          "all/Optimism",
          "all/Algorand",
          "all/Algorand",
          "all/Binance",
          "all/Fantom",
          "all/Arbitrum",
          "all/Ethereum",
          "all/Optimism",
          "all/Polygon",
          "all/Avalanche",
          "all/Binance",
          "all/Ethereum",
          "all/Fantom",
          "all/Kusama",
          "all/Polkadot",
          "all/xDai",
          "all/Ethereum",
          "all/Binance",
          "all/Ethereum",
          "all/Polygon",
          "all/Telos",
          "all/Binance",
          "all/Binance",
          "all/Ethereum",
          "all/Optimism",
          "all/Polygon",
          "all/Astar",
          "all/Terra",
          "all/Terra2",
          "all/Ethereum",
          "all/Aptos",
          "all/Arbitrum",
          "all/Ethereum",
          "all/Polygon",
          "all/Binance",
          "all/Binance",
          "all/Arbitrum",
          "all/Ethereum",
          "all/Polygon",
          "all/Ethereum",
          "all/Ethereum",
          "all/Aurora",
          "all/Arbitrum",
          "all/Aurora",
          "all/Avalanche",
          "all/Binance",
          "all/Celo",
          "all/Cronos",
          "all/Ethereum",
          "all/Fantom",
          "all/Fuse",
          "all/Harmony",
          "all/Heco",
          "all/Kava",
          "all/Metis",
          "all/Moonbeam",
          "all/Moonriver",
          "all/Oasis",
          "all/Optimism",
          "all/Polygon",
          "all/Fantom",
          "all/Optimism",
          "all/Binance",
          "all/Heco",
          "all/Klaytn",
          "all/Ethereum",
          "all/Avalanche",
          "all/Avalanche",
          "all/Avalanche",
          "all/Binance",
          "all/Bitcoin",
          "all/Ethereum",
          "all/Klaytn",
          "all/Bifrost",
          "all/Binance",
          "all/Near",
          "all/Canto",
          "all/Canto",
          "all/Arbitrum",
          "all/Aurora",
          "all/Avalanche",
          "all/Binance",
          "all/Boba",
          "all/Celo",
          "all/Ethereum",
          "all/Fantom",
          "all/Harmony",
          "all/Metis",
          "all/Optimism",
          "all/Polygon",
          "all/Shiden",
          "all/xDai",
          "all/Binance",
          "all/Ethereum",
          "all/Ethereum",
          "all/Polygon",
          "all/Ethereum",
          "all/Binance",
          "all/Heco",
          "all/Ethereum",
          "all/Ethereum",
          "all/Ethereum",
          "all/Arbitrum",
          "all/Avalanche",
          "all/Binance",
          "all/Boba",
          "all/Cronos",
          "all/Ethereum",
          "all/Evmos",
          "all/Fantom",
          "all/Fuse",
          "all/Milkomeda",
          "all/Moonbeam",
          "all/Moonriver",
          "all/Optimism",
          "all/Polygon",
          "all/xDai",
          "all/Ethereum",
          "all/Arbitrum",
          "all/Binance",
          "all/Ethereum",
          "all/Polygon",
          "all/Arbitrum",
          "all/Aurora",
          "all/Avalanche",
          "all/Ethereum",
          "all/Fantom",
          "all/Kava",
          "all/Moonbeam",
          "all/Optimism",
          "all/Polygon",
          "all/xDai",
          "all/Binance",
          "all/Ethereum",
          "all/Ethereum",
          "all/EOS",
          "all/Wax",
          "all/Ethereum",
          "all/Ethereum",
          "all/Avalanche",
          "all/Arbitrum",
          "all/Binance",
          "all/Ethereum",
          "all/Optimism",
          "all/Polygon",
          "all/Ethereum",
          "all/Polygon",
          "all/Fantom",
          "all/OKExChain",
          "all/Polygon",
          "all/Arbitrum",
          "all/Binance",
          "all/Binance",
          "all/Arbitrum",
          "all/Avalanche",
          "all/Binance",
          "all/Celo",
          "all/Cronos",
          "all/Ethereum",
          "all/Fantom",
          "all/Harmony",
          "all/Heco",
          "all/Milkomeda",
          "all/OKExChain",
          "all/Polygon",
          "all/Ethereum",
          "all/Ethereum",
          "all/EOS",
          "all/Ethereum",
          "all/Ethereum",
          "all/Fantom",
          "all/Moonriver",
          "all/Cronos",
          "all/Arbitrum",
          "all/Binance",
          "all/Elastos",
          "all/Heco",
          "all/IoTeX",
          "all/Polygon",
          "all/REI",
          "all/Ethereum",
          "all/NEO",
          "all/Ethereum",
          "all/Songbird",
          "all/Algorand",
          "all/Ethereum",
          "all/Fantom",
          "all/Arbitrum",
          "all/Avalanche",
          "all/Binance",
          "all/Dogechain",
          "all/Ethereum",
          "all/Fantom",
          "all/Moonbeam",
          "all/Polygon",
          "all/Ethereum",
          "all/Solana",
          "all/Polygon",
          "all/Ethereum",
          "all/Fantom",
          "all/Arbitrum",
          "all/Avalanche",
          "all/Binance",
          "all/Binance",
          "all/Ethereum",
          "all/Polygon",
          "all/Ethereum",
          "all/Binance",
          "all/Ethereum",
          "all/Fantom",
          "all/Binance",
          "all/Metis",
          "all/Avalanche",
          "all/Binance",
          "all/Ethereum",
          "all/Fantom",
          "all/Optimism",
          "all/Arbitrum",
          "all/Ethereum",
          "all/Optimism",
          "all/Polygon",
          "all/xDai",
          "all/Metis",
          "all/Ethereum",
          "all/Polygon",
          "all/Ethereum",
          "all/Polygon",
          "all/Ethereum",
          "all/Ethereum",
          "all/Avalanche",
          "all/Binance",
          "all/Ethereum",
          "all/Polygon",
          "all/Avalanche",
          "all/Ethereum",
          "all/Fantom",
          "all/Optimism",
          "all/Binance",
          "all/Ethereum",
          "all/Juno",
          "all/Tron",
          "all/Tron",
          "all/Ronin",
          "all/Kava",
          "all/Kava",
          "all/Ethereum",
          "all/Klaytn",
          "all/Klaytn",
          "all/Klaytn",
          "all/Polygon",
          "all/Binance",
          "all/Fantom",
          "all/Klaytn",
          "all/Klaytn",
          "all/Arbitrum",
          "all/Avalanche",
          "all/Binance",
          "all/Cronos",
          "all/Ethereum",
          "all/Fantom",
          "all/Oasis",
          "all/Optimism",
          "all/Polygon",
          "all/Ethereum",
          "all/Moonbeam",
          "all/Moonriver",
          "all/Solana",
          "all/Terra",
          "all/Bitcoin",
          "all/Binance",
          "all/Ethereum",
          "all/Fantom",
          "all/Ethereum",
          "all/Algorand",
          "all/Ethereum",
          "all/Ethereum",
          "all/Ethereum",
          "all/Optimism",
          "all/Elrond",
          "all/Ethereum",
          "all/Ethereum",
          "all/Solana",
          "all/Solana",
          "all/Celo",
          "all/Solana",
          "all/Polygon",
          "all/Near",
          "all/Ethereum",
          "all/Fantom",
          "all/Polygon",
          "all/Cardano",
          "all/Cronos",
          "all/Celo",
          "all/Kucoin",
          "all/RSK",
          "all/Moonriver",
          "all/Moonbeam",
          "all/Ethereum",
          "all/Ethereum",
          "all/Ethereum",
          "all/Polygon",
          "all/Arbitrum",
          "all/Avalanche",
          "all/Binance",
          "all/Fantom",
          "all/Arbitrum",
          "all/NEO",
          "all/Waves",
          "all/Ethereum",
          "all/Ethereum",
          "all/Ethereum",
          "all/Binance",
          "all/Ethereum",
          "all/Binance",
          "all/Ethereum",
          "all/Everscale",
          "all/Polygon",
          "all/OKExChain",
          "all/Ethereum",
          "all/Avalanche",
          "all/Ethereum",
          "all/Polygon",
          "all/Binance",
          "all/Celo",
          "all/Ethereum",
          "all/Heco",
          "all/Klaytn",
          "all/Polygon",
          "all/Ripple",
          "all/Ethereum",
          "all/Osmosis",
          "all/Aptos",
          "all/Binance",
          "all/Ethereum",
          "all/Mixin",
          "all/Mixin",
          "all/Avalanche",
          "all/Songbird",
          "all/Heiko",
          "all/Parallel",
          "all/Parallel",
          "all/Heiko",
          "all/Parallel",
          "all/Solana",
          "all/Optimism",
          "all/Avalanche",
          "all/Binance",
          "all/Cronos",
          "all/Ethereum",
          "all/Fantom",
          "all/Polygon",
          "all/Avalanche",
          "all/Binance",
          "all/Bitcoin",
          "all/Doge",
          "all/EOS",
          "all/Ethereum",
          "all/Fantom",
          "all/LBRY",
          "all/Litecoin",
          "all/ORE",
          "all/Ravencoin",
          "all/Telos",
          "all/Avalanche",
          "all/Binance",
          "all/Celo",
          "all/Ethereum",
          "all/Optimism",
          "all/Polygon",
          "all/Arbitrum",
          "all/Avalanche",
          "all/Binance",
          "all/Ethereum",
          "all/Fantom",
          "all/Harmony",
          "all/Metis",
          "all/Moonbeam",
          "all/Moonriver",
          "all/Optimism",
          "all/Polygon",
          "all/xDai",
          "all/Solana",
          "all/Polygon",
          "all/Dogechain",
          "all/Polygon",
          "all/Arbitrum",
          "all/Arbitrum",
          "all/Ethereum",
          "all/xDai",
          "all/Fantom",
          "all/Optimism",
          "all/Ethereum",
          "all/Near",
          "all/Ethereum",
          "all/Arbitrum",
          "all/Avalanche",
          "all/Binance",
          "all/Ethereum",
          "all/Fantom",
          "all/Optimism",
          "all/Polygon",
          "all/Solana",
          "all/Ethereum",
          "all/Telos",
          "all/Arbitrum",
          "all/Ethereum",
          "all/Polygon",
          "all/Avalanche",
          "all/Ethereum",
          "all/Solana",
          "all/Ethereum",
          "all/Solana",
          "all/Arbitrum",
          "all/Ethereum",
          "all/Evmos",
          "all/Fantom",
          "all/Kava",
          "all/Optimism",
          "all/Fantom",
          "all/Ethereum",
          "all/Ethereum",
          "all/Ethereum",
          "all/Icon",
          "all/Cronos",
          "all/Fantom",
          "all/Moonriver",
          "all/Solana",
          "all/Binance",
          "all/Heco",
          "all/OKExChain",
          "all/Polygon",
          "all/Optimism",
          "all/Fantom",
          "all/Polygon",
          "all/Fantom",
          "all/Fantom",
          "all/Ethereum",
          "all/Stacks",
          "all/Binance",
          "all/Ethereum",
          "all/Fantom",
          "all/Hedera",
          "all/Near",
          "all/Terra2",
          "all/Binance",
          "all/Cosmos",
          "all/Ethereum",
          "all/Polygon",
          "all/Solana",
          "all/Stafi",
          "all/Klaytn",
          "all/Avalanche",
          "all/Ethereum",
          "all/Harmony",
          "all/Polygon",
          "all/Ethereum",
          "all/xDai",
          "all/Arbitrum",
          "all/Avalanche",
          "all/Binance",
          "all/Ethereum",
          "all/Fantom",
          "all/Optimism",
          "all/Polygon",
          "all/Moonbeam",
          "all/Ethereum",
          "all/Ethereum",
          "all/Fantom",
          "all/Tron",
          "all/Tron",
          "all/Arbitrum",
          "all/Avalanche",
          "all/Binance",
          "all/Ethereum",
          "all/Fantom",
          "all/Optimism",
          "all/Polygon",
          "all/Arbitrum",
          "all/Ethereum",
          "all/xDai",
          "all/Arbitrum",
          "all/Aurora",
          "all/Avalanche",
          "all/Binance",
          "all/Boba",
          "all/Cronos",
          "all/Ethereum",
          "all/Fantom",
          "all/Harmony",
          "all/Klaytn",
          "all/Metis",
          "all/Moonbeam",
          "all/Moonriver",
          "all/Optimism",
          "all/Polygon",
          "all/Terra",
          "all/Ethereum",
          "all/Optimism",
          "all/Fantom",
          "all/Optimism",
          "all/Avalanche",
          "all/Binance",
          "all/Ethereum",
          "all/Polygon",
          "all/Cronos",
          "all/Ethereum",
          "all/Binance",
          "all/Ethereum",
          "all/Harmony",
          "all/Binance",
          "all/Ethereum",
          "all/Fantom",
          "all/Polygon",
          "all/Tezos",
          "all/Ethereum",
          "all/Theta",
          "all/Ethereum",
          "all/Avalanche",
          "all/Binance",
          "all/Ethereum",
          "all/Fantom",
          "all/Polygon",
          "all/Arbitrum",
          "all/Avalanche",
          "all/Binance",
          "all/Ethereum",
          "all/Optimism",
          "all/Polygon",
          "all/xDai",
          "all/Celo",
          "all/Polygon",
          "all/Avalanche",
          "all/Avalanche",
          "all/Binance",
          "all/Aurora",
          "all/Ethereum",
          "all/Avalanche",
          "all/Binance",
          "all/Ethereum",
          "all/Polygon",
          "all/Ethereum",
          "all/Ethereum",
          "all/Ethereum",
          "all/Solana",
          "all/Binance",
          "all/Oasis",
          "all/Avalanche",
          "all/Optimism",
          "all/Binance",
          "all/Avalanche",
          "all/Ethereum",
          "all/Polygon",
          "all/Arbitrum",
          "all/Waves",
          "all/Cronos",
          "all/Binance",
          "all/Ethereum",
          "all/Binance",
          "all/Ethereum",
          "all/OKExChain",
          "all/Ontology",
          "all/OntologyEVM",
          "all/Binance",
          "all/Binance",
          "all/Celo",
          "all/Ethereum",
          "all/Binance",
          "all/Waves",
          "all/Ethereum",
          "all/Arbitrum",
          "all/Ethereum",
          "all/Fantom",
          "all/Optimism",
          "all/Avalanche",
          "all/Avalanche",
          "all/Tezos",
          "all",
          "all",
          "all",
          "all",
          "all",
          "all",
          "all",
          "all",
          "all",
          "all",
          "all",
          "all",
          "all",
          "all",
          "all",
          "all",
          "all",
          "all",
          "all",
          "all",
          "all",
          "all",
          "all",
          "all",
          "all",
          "all",
          "all",
          "all",
          "all",
          "all",
          "all",
          "all",
          "all",
          "all",
          "all",
          "all",
          "all",
          "all",
          "all",
          "all",
          "all",
          "all",
          "all",
          "all",
          "all",
          "all",
          "all",
          "all",
          "all",
          "all",
          "all",
          "all",
          "all",
          "all",
          "all",
          "all",
          "all",
          "all",
          "all",
          "all",
          "all",
          "all",
          "all",
          "all",
          "all",
          "all",
          "all",
          "all",
          "all",
          "all",
          "all",
          "all",
          "all",
          "all",
          "all",
          ""
         ],
         "root": {
          "color": "lightgrey"
         },
         "type": "treemap",
         "values": [
          2843806.9334189137,
          47705779.45466292,
          6971990.635992278,
          52272934.28646504,
          481645559.5612968,
          116296151.58349054,
          12699277.310456738,
          434906184.97476614,
          4158421.6972193536,
          67991.17808132683,
          298448700.8889866,
          17393987.44750198,
          84914187.36807871,
          40619021.58778825,
          15556880.047201304,
          184378.10121057005,
          2977.4034697850257,
          157440.09198663235,
          5983094.570368857,
          3213987.0274003255,
          10045.590453368583,
          57710.218735583185,
          12145.140277247623,
          125253.53430616795,
          16438.337596825062,
          40460.09610896235,
          7458.302544205668,
          60144630.08454751,
          700833.2580765013,
          485742.2797678911,
          13156858.321696026,
          77864498.69524133,
          91052398.18664017,
          2272360.25718781,
          3296.776480664148,
          14752534.213822754,
          1373462.0325683837,
          234834.72932071245,
          46071.0623636534,
          84725528.17695494,
          733460.6915604079,
          6759.116364941637,
          165.02501244921456,
          1815.823149528187,
          2.8393435827628397,
          1605831.99633929,
          20936864.23508619,
          26247.15507163145,
          3322013.7234792784,
          1934050.0049072374,
          5787794.014488215,
          4836694.952454979,
          814888913.1238942,
          4937859.829238994,
          449984.0120602006,
          3210548.3369440697,
          801806.6308661109,
          35715422.143529646,
          416006013.23417944,
          17809730.28124181,
          77797.87447892533,
          33123394.881746285,
          504598.3467507208,
          9406931.404234836,
          22323455.60599777,
          7395156.3814049885,
          78301982.98112057,
          31145160.372102,
          105150276.49825147,
          10214118.88616613,
          38639225.0549929,
          11158025.90939777,
          642254.1208706135,
          16534837.457974073,
          14127734.256632809,
          56287.71643242782,
          5031770.258189546,
          35093.56544083843,
          33145262.4037878,
          539919.5119661676,
          28917.76393696919,
          9885.845865390173,
          570125.1668598831,
          314451.5397816341,
          4187720.5812911047,
          671736.7925070021,
          214347.84818893176,
          16397333.399244523,
          12781245.173341576,
          26458132.16147216,
          12952162.776596082,
          3524434.641310139,
          420101.5017689916,
          71054.32122573667,
          25319693.024093177,
          88990383.68323751,
          16025201.145699006,
          182744.9785828226,
          6253709.337909163,
          131768.65298556504,
          736398.5830051565,
          53460.92483242409,
          52267.193453053,
          46908155.6066753,
          33278410.73968917,
          38683810.84538628,
          43756925.33925874,
          2188895.759176061,
          1139872.1907339445,
          8630837.502913501,
          9867832.990483426,
          29349.86453650499,
          97.17003443754709,
          8690435.455447245,
          1795233.2954772464,
          2345387.6433930374,
          83959.06082137958,
          2112516.918995226,
          4368074.853064956,
          83899.80525678367,
          59.57128,
          80189.77686729244,
          29748652.005198617,
          6070027.254687977,
          380425.1883190479,
          297182994.23054165,
          3888210.9499564148,
          7442264.874156478,
          845646139.2062849,
          142015302.98576298,
          30676092.082615625,
          329254.82729887014,
          140101.41238261655,
          913430.4997280224,
          549857.335671345,
          47371.40107253661,
          401169.6735516705,
          32130.802027547226,
          2535082.301726994,
          265951.98164044274,
          71759.10363,
          211654.20843142664,
          431092.29397120787,
          127465.49006963581,
          588888.4879622466,
          996533.7812522654,
          1290494033.5386472,
          40589.88539419753,
          5357473.171489038,
          3.636658766179566,
          139031.44898232087,
          7614042.245154643,
          122.77819683015585,
          55540270.1472639,
          1138828218.7874231,
          24048014.63823179,
          19254421.431843344,
          13687558.85904208,
          32081901.41913059,
          31451205.138962194,
          57446221.195244215,
          2393750.067819788,
          5251995.133444822,
          766359.5812800697,
          565970.5087200089,
          36561.638282275024,
          1158083.2693061267,
          51092342.468458794,
          1572143.2269154938,
          2828171.523249254,
          2473691.284006122,
          1361746.8359808992,
          414221.7587442185,
          1419158.6527997274,
          2342958.125704764,
          954269.0618839107,
          8634.663823388002,
          0.7165903140013387,
          3203866.565947152,
          46.496150461204394,
          1.4961156481226325,
          10796054.148005767,
          157649.4608544448,
          495699.5196287637,
          18569598.344917025,
          1590.8491041784598,
          17829.053397570075,
          180761.65384451675,
          128933.2674129719,
          272.68895391774635,
          61770.71049093548,
          0.8282937925716082,
          7279.458046232527,
          125700.16367890057,
          110341928.8840644,
          1364183.8910120681,
          1581740.9489720794,
          11033935.504719144,
          370236.4038693021,
          1817609.3926987268,
          319.2939095945304,
          6705339.537613342,
          102.4617446765244,
          7.085055168168912,
          460473.652491318,
          2742968.5921021877,
          913551.3601321285,
          1285.2144577575093,
          229544.10810874868,
          1937.0999085670303,
          17718232.18205349,
          11726386.875434438,
          3504088.057979652,
          5118416.533177654,
          79118496.91434295,
          58614.0490625318,
          2296755.1835999517,
          22095.750949767356,
          1959.6329119832387,
          136750.59408742932,
          22002972.595530745,
          20716.476339739314,
          1975028.4942151331,
          32364.386648029707,
          25069712.426547255,
          56154.759468454125,
          10065593.96565721,
          36275295.29933314,
          7122656.351875566,
          176611203.7303462,
          22381451.226137668,
          6123846.819968085,
          43324.94364053502,
          14034596.642247647,
          264246.58083498303,
          507333697.4592245,
          2341135.8388400404,
          508863.9923626383,
          11106538.214184297,
          67595046.7740805,
          6340562.817924491,
          6585393.462517458,
          9190.462497977278,
          6822204.37402936,
          2467673.395390295,
          7012876.773567887,
          5631514.64354061,
          13663656.949806083,
          6581305.510675084,
          1752116.6957720027,
          1458130.9064974026,
          8191552.524289425,
          5224932.999488362,
          79080.01128900764,
          23368819.78308574,
          55502.982098532164,
          380299.7463164138,
          1070856000.1418132,
          492153.7915575071,
          715688.9904075086,
          750501.1032445359,
          1522254.8548224182,
          9955.97745094524,
          2838174.700235879,
          284563.23882696894,
          977299.8116848165,
          788764.5724891576,
          15024661.344682042,
          12038560.68485151,
          486050063.1581893,
          19796.305510999784,
          2641627.571749637,
          10639393.288331728,
          22683071.867016327,
          1307856.602910583,
          38127913.715768516,
          80915022.93788566,
          6628597.484663988,
          759123.4275500216,
          12370346.244271094,
          734254.1799846223,
          36941574.921921924,
          34406442.894086264,
          479181.5660347614,
          8493356.199212007,
          1900097.4550867844,
          99292.4677430442,
          1470642.5408760011,
          209119.0863936112,
          242940.50200616085,
          454660.4947011009,
          3459346.9843833027,
          656792482.3604901,
          9700872.702639004,
          1447516.7533615215,
          45606424.00102621,
          115111.41658893359,
          13246106.948431114,
          2532778.333675502,
          404523.2152606232,
          13778769.68679189,
          11480374.460321365,
          1221310.3536342883,
          22719095.73666537,
          31393066.9680171,
          2760945.762601978,
          2329626.380233683,
          67402153.6066081,
          997213636.671607,
          24398071.504398197,
          6478202.555710746,
          6828708.9763874635,
          5561811.6684461,
          6561467.951684903,
          53540541.23795228,
          615972.1059759416,
          1037268.1328609334,
          13832.604863000603,
          764731.0725850927,
          3480874.7386386264,
          74607832.57858887,
          2286347.051663809,
          4239151.85539155,
          40223.04680019335,
          8984922.848407483,
          1265904.5198245945,
          22100605.137553267,
          10264444.577109069,
          25257399.26278317,
          1682862.954778799,
          6191177.121717956,
          138908.36393872325,
          262339.1900771124,
          171476.54841558816,
          6580433.581559466,
          2764197.970004628,
          99043933.85246152,
          28674338.91152023,
          977109.0629505507,
          5892524.017509095,
          31518986.634337176,
          2163947.1769990968,
          6888.998977844132,
          111997.05316563448,
          10091349.655592559,
          4.6844676358888275,
          940412.5158361404,
          76124631.37621546,
          158201.58627193677,
          38680005.28145795,
          486529.08761339623,
          1443967.661594998,
          14.518691335213969,
          43680784.55485085,
          96983.88609116443,
          2173879.1141899494,
          222015.0926276614,
          10053314.441062702,
          2159456.4872862985,
          20630267.55570302,
          8840488.739176473,
          328959742.04515386,
          3815311.95903326,
          10442720.265006214,
          8697457.622483157,
          46213409.40464272,
          396734.6721077031,
          5432616.435942107,
          782356.5693287674,
          126981.23216002814,
          1804584.6491275616,
          1409004.3171672865,
          13091964.73537942,
          651626.1207435158,
          56006.73038026066,
          2597474.0028369534,
          21163.15552453492,
          855476.8452141888,
          5929.350150126433,
          47294.64933466451,
          111888648.18978097,
          243486.9882175218,
          981938.6238264237,
          28040.747619514525,
          1789676.0337637349,
          12010569.585341264,
          0.9810369593095772,
          4525.275574526733,
          64893.26328666665,
          1185477.749045138,
          246.7303959413915,
          300646.9106386744,
          192819.40561865806,
          122.61029793192536,
          266658.53948497894,
          4822966.705017949,
          113291.39716388518,
          9331881.327133138,
          478899.5393939719,
          372270.43424805993,
          683996.5920797922,
          3771076.9665676733,
          1988815.1721707261,
          2950.9423864696155,
          1384708.4466062586,
          5554.639035412932,
          7379.976401010967,
          1562757.562558923,
          10734858.46731559,
          1052804.3203283078,
          72805240.25975686,
          201007713.00395802,
          28316.497738387116,
          5079831.407424285,
          66642009.82291091,
          8512.640614949776,
          22862694.04790026,
          7749060.163398637,
          8803742.010881733,
          25392134.40544501,
          1325317.874263439,
          143270845.53480366,
          2276965.2252027183,
          3732942.941097984,
          227345.9522661271,
          965525.588555651,
          22684805.50803277,
          1328031.3357606654,
          552.8043641898,
          1672484.4515819896,
          1540433.5855483022,
          503459.7709430588,
          624380.6905454706,
          157345.92308054233,
          367524.59085896757,
          192767.79198633373,
          102575.49851820663,
          5748244.333216866,
          778001.420830918,
          155227377.07008162,
          37693356.03921848,
          540904.9442408127,
          16603966.489131492,
          133.64262599548124,
          609.6198186065815,
          106.54843066830401,
          358374.19851144444,
          5986.000343472615,
          1821896.7346114723,
          703596.6566566955,
          36547074.2622639,
          4005015.599923067,
          1492782.4967819364,
          210415.65054425772,
          8173553.556689955,
          3591845.5353298634,
          10365497.809859069,
          3225178.040524674,
          55465.52376297453,
          159197.93461273337,
          26810136.13471334,
          752056.5831354939,
          420609.97698833694,
          13678865.882991401,
          63606900.89971073,
          15678507.444270115,
          45701654.135449246,
          11887618.507858371,
          25740159.602398284,
          3606803.310785303,
          39507648.4750835,
          8597679.66,
          118651.96790778312,
          6110.133700000008,
          568361.1638000001,
          11964.19689449616,
          6667.794714951863,
          1775.6112000000014,
          7622.5753,
          16348974.857471928,
          1079346.2382478314,
          51207434.95715285,
          89331.51739476598,
          2355355.3929387825,
          4476945.179877284,
          154.5319432973523,
          15561222.907729195,
          22169212.460159518,
          2349708.631738142,
          84666086.51849164,
          2690473.464928844,
          32886843.64759455,
          23071163.169672925,
          10898816.408643242,
          130640.95484720543,
          5523244.114723155,
          5323414.603032633,
          265804332.36991823,
          396180684.07216525,
          25335.04120221708,
          15449.489277917983,
          1010.2115866139707,
          1221245.3315558778,
          7689.759591990272,
          0.9554208213122635,
          440715.68055537925,
          1756429.0625347672,
          960929.1478200075,
          10871456.02249615,
          4060072.2901762477,
          32212.16269699864,
          4085292.987742245,
          2102441.858041314,
          1077778.1641620398,
          15225.176715240501,
          36404466.6270376,
          3394906.7993159825,
          2467366.773050188,
          213819.35833282824,
          2359601.379846155,
          0.07048,
          1012.9607167357317,
          675833.5626951386,
          975682.8524210702,
          214.60180966290875,
          15854841.566230189,
          7149718.615020131,
          5134533.279181717,
          1993609.9595471718,
          51809.02376402558,
          21757774.952708047,
          29506977.866306428,
          318836.98400588596,
          42883699.142256714,
          138400711.5310022,
          1426219.334470052,
          10590989.003389532,
          8043.30856120925,
          104270.54739252897,
          1755578.786045677,
          5395985.673131792,
          17362040.52263245,
          2849767.002519108,
          5067638.393272408,
          11826268.052213632,
          44400217.18194074,
          0.6599645880289308,
          1138044.1809229068,
          1748727.9910163383,
          84.49596916682947,
          768176.8789548323,
          167276.35150088888,
          53066.399999999994,
          153733160.817,
          206353603.74680525,
          3452.1889999999967,
          127544.6069,
          161698.6678,
          23549.17,
          1861713.8937801693,
          128243134.03994608,
          2572760.6776333596,
          18947566.957653146,
          19181423.653220322,
          10328577.960397426,
          68624.79799051682,
          34542753.436686486,
          2751153.1253104364,
          2082513.0471497837,
          693736133.9082817,
          302424.2110532201,
          29170159.09112337,
          3528135.3074191795,
          12902977.246185647,
          6633472.695629382,
          39215961.113841355,
          53697332.34786727,
          143029400.31748712,
          275232.1338932187,
          12818043.711058235,
          200232.95326320335,
          1782923.4228609563,
          105559423.83648208,
          173023453.80125666,
          6085094.40263802,
          167337233.08260185,
          1014206.8786921225,
          11327.620878717746,
          127018.0399762442,
          13977338.327776695,
          97659.86192197568,
          124381986.86106099,
          70871278.71577922,
          609342.9587071412,
          1495816.840096169,
          21254990.500532698,
          9969111.731305186,
          1746462.8467007596,
          10426.310484169422,
          206904046.2058182,
          15582949.96826088,
          187344.54228711812,
          56647386.493771575,
          12021925.358892504,
          14765560.30723872,
          125533208.95586696,
          97361083.9037493,
          26650219.020418286,
          337391252.03707886,
          3213525.740413855,
          59635109.960711606,
          1139328643.338795,
          52267.193453053,
          1469213857.4851875,
          14359814.225243103,
          1656985.3643698897,
          82440736.18464503,
          3480874.7386386264,
          8805699.642564408,
          568361.1638000001,
          307159746.09654033,
          28040.747619514525,
          165067.09182581643,
          3937387.491455823,
          460473.652491318,
          67402153.6066081,
          11980557696.034466,
          10091349.655592559,
          32264.44465354271,
          264619395.34508586,
          805871.4936066103,
          5022406.956035132,
          13999153.450999822,
          39507648.4750835,
          7237201.0850696685,
          4005015.599923067,
          913551.3601321285,
          12038560.68485151,
          53147118.30248195,
          215880740.53037924,
          4239151.85539155,
          165.02501244921456,
          4525.275574526733,
          64893.26328666665,
          18674835.769269343,
          71759.93192379257,
          66845957.34215229,
          42058364.01790817,
          19733972.813561335,
          20482430.15205812,
          185762908.04046878,
          1130176.2542119056,
          1185477.749045138,
          7090761.045824474,
          13977338.327776695,
          97659.86192197568,
          538210604.3032461,
          20630267.55570302,
          2318342.118656082,
          1815.823149528187,
          577663476.9705101,
          229544.10810874868,
          40223.04680019335,
          246.7303959413915,
          10053314.441062702,
          2641627.571749637,
          83899.80525678367,
          201405517.6723797,
          3900822.7300873552,
          45701654.135449246,
          7622.5753,
          2859077.6060913824,
          917132.6492647075,
          35834074.11143743,
          17615327.30975783,
          11826268.052213632,
          1148054875.9057837,
          214572469.42024878,
          36561.638282275024,
          79743580.30212806,
          19652471204.368286
         ]
        }
       ],
       "layout": {
        "coloraxis": {
         "colorbar": {
          "title": {
           "text": "flow_direction_365d"
          }
         },
         "colorscale": [
          [
           0,
           "rgb(158,1,66)"
          ],
          [
           0.1,
           "rgb(213,62,79)"
          ],
          [
           0.2,
           "rgb(244,109,67)"
          ],
          [
           0.3,
           "rgb(253,174,97)"
          ],
          [
           0.4,
           "rgb(254,224,139)"
          ],
          [
           0.5,
           "rgb(255,255,191)"
          ],
          [
           0.6,
           "rgb(230,245,152)"
          ],
          [
           0.7,
           "rgb(171,221,164)"
          ],
          [
           0.8,
           "rgb(102,194,165)"
          ],
          [
           0.9,
           "rgb(50,136,189)"
          ],
          [
           1,
           "rgb(94,79,162)"
          ]
         ]
        },
        "legend": {
         "tracegroupgap": 0
        },
        "margin": {
         "b": 25,
         "l": 25,
         "r": 25,
         "t": 50
        },
        "template": {
         "data": {
          "bar": [
           {
            "error_x": {
             "color": "#2a3f5f"
            },
            "error_y": {
             "color": "#2a3f5f"
            },
            "marker": {
             "line": {
              "color": "#E5ECF6",
              "width": 0.5
             },
             "pattern": {
              "fillmode": "overlay",
              "size": 10,
              "solidity": 0.2
             }
            },
            "type": "bar"
           }
          ],
          "barpolar": [
           {
            "marker": {
             "line": {
              "color": "#E5ECF6",
              "width": 0.5
             },
             "pattern": {
              "fillmode": "overlay",
              "size": 10,
              "solidity": 0.2
             }
            },
            "type": "barpolar"
           }
          ],
          "carpet": [
           {
            "aaxis": {
             "endlinecolor": "#2a3f5f",
             "gridcolor": "white",
             "linecolor": "white",
             "minorgridcolor": "white",
             "startlinecolor": "#2a3f5f"
            },
            "baxis": {
             "endlinecolor": "#2a3f5f",
             "gridcolor": "white",
             "linecolor": "white",
             "minorgridcolor": "white",
             "startlinecolor": "#2a3f5f"
            },
            "type": "carpet"
           }
          ],
          "choropleth": [
           {
            "colorbar": {
             "outlinewidth": 0,
             "ticks": ""
            },
            "type": "choropleth"
           }
          ],
          "contour": [
           {
            "colorbar": {
             "outlinewidth": 0,
             "ticks": ""
            },
            "colorscale": [
             [
              0,
              "#0d0887"
             ],
             [
              0.1111111111111111,
              "#46039f"
             ],
             [
              0.2222222222222222,
              "#7201a8"
             ],
             [
              0.3333333333333333,
              "#9c179e"
             ],
             [
              0.4444444444444444,
              "#bd3786"
             ],
             [
              0.5555555555555556,
              "#d8576b"
             ],
             [
              0.6666666666666666,
              "#ed7953"
             ],
             [
              0.7777777777777778,
              "#fb9f3a"
             ],
             [
              0.8888888888888888,
              "#fdca26"
             ],
             [
              1,
              "#f0f921"
             ]
            ],
            "type": "contour"
           }
          ],
          "contourcarpet": [
           {
            "colorbar": {
             "outlinewidth": 0,
             "ticks": ""
            },
            "type": "contourcarpet"
           }
          ],
          "heatmap": [
           {
            "colorbar": {
             "outlinewidth": 0,
             "ticks": ""
            },
            "colorscale": [
             [
              0,
              "#0d0887"
             ],
             [
              0.1111111111111111,
              "#46039f"
             ],
             [
              0.2222222222222222,
              "#7201a8"
             ],
             [
              0.3333333333333333,
              "#9c179e"
             ],
             [
              0.4444444444444444,
              "#bd3786"
             ],
             [
              0.5555555555555556,
              "#d8576b"
             ],
             [
              0.6666666666666666,
              "#ed7953"
             ],
             [
              0.7777777777777778,
              "#fb9f3a"
             ],
             [
              0.8888888888888888,
              "#fdca26"
             ],
             [
              1,
              "#f0f921"
             ]
            ],
            "type": "heatmap"
           }
          ],
          "heatmapgl": [
           {
            "colorbar": {
             "outlinewidth": 0,
             "ticks": ""
            },
            "colorscale": [
             [
              0,
              "#0d0887"
             ],
             [
              0.1111111111111111,
              "#46039f"
             ],
             [
              0.2222222222222222,
              "#7201a8"
             ],
             [
              0.3333333333333333,
              "#9c179e"
             ],
             [
              0.4444444444444444,
              "#bd3786"
             ],
             [
              0.5555555555555556,
              "#d8576b"
             ],
             [
              0.6666666666666666,
              "#ed7953"
             ],
             [
              0.7777777777777778,
              "#fb9f3a"
             ],
             [
              0.8888888888888888,
              "#fdca26"
             ],
             [
              1,
              "#f0f921"
             ]
            ],
            "type": "heatmapgl"
           }
          ],
          "histogram": [
           {
            "marker": {
             "pattern": {
              "fillmode": "overlay",
              "size": 10,
              "solidity": 0.2
             }
            },
            "type": "histogram"
           }
          ],
          "histogram2d": [
           {
            "colorbar": {
             "outlinewidth": 0,
             "ticks": ""
            },
            "colorscale": [
             [
              0,
              "#0d0887"
             ],
             [
              0.1111111111111111,
              "#46039f"
             ],
             [
              0.2222222222222222,
              "#7201a8"
             ],
             [
              0.3333333333333333,
              "#9c179e"
             ],
             [
              0.4444444444444444,
              "#bd3786"
             ],
             [
              0.5555555555555556,
              "#d8576b"
             ],
             [
              0.6666666666666666,
              "#ed7953"
             ],
             [
              0.7777777777777778,
              "#fb9f3a"
             ],
             [
              0.8888888888888888,
              "#fdca26"
             ],
             [
              1,
              "#f0f921"
             ]
            ],
            "type": "histogram2d"
           }
          ],
          "histogram2dcontour": [
           {
            "colorbar": {
             "outlinewidth": 0,
             "ticks": ""
            },
            "colorscale": [
             [
              0,
              "#0d0887"
             ],
             [
              0.1111111111111111,
              "#46039f"
             ],
             [
              0.2222222222222222,
              "#7201a8"
             ],
             [
              0.3333333333333333,
              "#9c179e"
             ],
             [
              0.4444444444444444,
              "#bd3786"
             ],
             [
              0.5555555555555556,
              "#d8576b"
             ],
             [
              0.6666666666666666,
              "#ed7953"
             ],
             [
              0.7777777777777778,
              "#fb9f3a"
             ],
             [
              0.8888888888888888,
              "#fdca26"
             ],
             [
              1,
              "#f0f921"
             ]
            ],
            "type": "histogram2dcontour"
           }
          ],
          "mesh3d": [
           {
            "colorbar": {
             "outlinewidth": 0,
             "ticks": ""
            },
            "type": "mesh3d"
           }
          ],
          "parcoords": [
           {
            "line": {
             "colorbar": {
              "outlinewidth": 0,
              "ticks": ""
             }
            },
            "type": "parcoords"
           }
          ],
          "pie": [
           {
            "automargin": true,
            "type": "pie"
           }
          ],
          "scatter": [
           {
            "fillpattern": {
             "fillmode": "overlay",
             "size": 10,
             "solidity": 0.2
            },
            "type": "scatter"
           }
          ],
          "scatter3d": [
           {
            "line": {
             "colorbar": {
              "outlinewidth": 0,
              "ticks": ""
             }
            },
            "marker": {
             "colorbar": {
              "outlinewidth": 0,
              "ticks": ""
             }
            },
            "type": "scatter3d"
           }
          ],
          "scattercarpet": [
           {
            "marker": {
             "colorbar": {
              "outlinewidth": 0,
              "ticks": ""
             }
            },
            "type": "scattercarpet"
           }
          ],
          "scattergeo": [
           {
            "marker": {
             "colorbar": {
              "outlinewidth": 0,
              "ticks": ""
             }
            },
            "type": "scattergeo"
           }
          ],
          "scattergl": [
           {
            "marker": {
             "colorbar": {
              "outlinewidth": 0,
              "ticks": ""
             }
            },
            "type": "scattergl"
           }
          ],
          "scattermapbox": [
           {
            "marker": {
             "colorbar": {
              "outlinewidth": 0,
              "ticks": ""
             }
            },
            "type": "scattermapbox"
           }
          ],
          "scatterpolar": [
           {
            "marker": {
             "colorbar": {
              "outlinewidth": 0,
              "ticks": ""
             }
            },
            "type": "scatterpolar"
           }
          ],
          "scatterpolargl": [
           {
            "marker": {
             "colorbar": {
              "outlinewidth": 0,
              "ticks": ""
             }
            },
            "type": "scatterpolargl"
           }
          ],
          "scatterternary": [
           {
            "marker": {
             "colorbar": {
              "outlinewidth": 0,
              "ticks": ""
             }
            },
            "type": "scatterternary"
           }
          ],
          "surface": [
           {
            "colorbar": {
             "outlinewidth": 0,
             "ticks": ""
            },
            "colorscale": [
             [
              0,
              "#0d0887"
             ],
             [
              0.1111111111111111,
              "#46039f"
             ],
             [
              0.2222222222222222,
              "#7201a8"
             ],
             [
              0.3333333333333333,
              "#9c179e"
             ],
             [
              0.4444444444444444,
              "#bd3786"
             ],
             [
              0.5555555555555556,
              "#d8576b"
             ],
             [
              0.6666666666666666,
              "#ed7953"
             ],
             [
              0.7777777777777778,
              "#fb9f3a"
             ],
             [
              0.8888888888888888,
              "#fdca26"
             ],
             [
              1,
              "#f0f921"
             ]
            ],
            "type": "surface"
           }
          ],
          "table": [
           {
            "cells": {
             "fill": {
              "color": "#EBF0F8"
             },
             "line": {
              "color": "white"
             }
            },
            "header": {
             "fill": {
              "color": "#C8D4E3"
             },
             "line": {
              "color": "white"
             }
            },
            "type": "table"
           }
          ]
         },
         "layout": {
          "annotationdefaults": {
           "arrowcolor": "#2a3f5f",
           "arrowhead": 0,
           "arrowwidth": 1
          },
          "autotypenumbers": "strict",
          "coloraxis": {
           "colorbar": {
            "outlinewidth": 0,
            "ticks": ""
           }
          },
          "colorscale": {
           "diverging": [
            [
             0,
             "#8e0152"
            ],
            [
             0.1,
             "#c51b7d"
            ],
            [
             0.2,
             "#de77ae"
            ],
            [
             0.3,
             "#f1b6da"
            ],
            [
             0.4,
             "#fde0ef"
            ],
            [
             0.5,
             "#f7f7f7"
            ],
            [
             0.6,
             "#e6f5d0"
            ],
            [
             0.7,
             "#b8e186"
            ],
            [
             0.8,
             "#7fbc41"
            ],
            [
             0.9,
             "#4d9221"
            ],
            [
             1,
             "#276419"
            ]
           ],
           "sequential": [
            [
             0,
             "#0d0887"
            ],
            [
             0.1111111111111111,
             "#46039f"
            ],
            [
             0.2222222222222222,
             "#7201a8"
            ],
            [
             0.3333333333333333,
             "#9c179e"
            ],
            [
             0.4444444444444444,
             "#bd3786"
            ],
            [
             0.5555555555555556,
             "#d8576b"
            ],
            [
             0.6666666666666666,
             "#ed7953"
            ],
            [
             0.7777777777777778,
             "#fb9f3a"
            ],
            [
             0.8888888888888888,
             "#fdca26"
            ],
            [
             1,
             "#f0f921"
            ]
           ],
           "sequentialminus": [
            [
             0,
             "#0d0887"
            ],
            [
             0.1111111111111111,
             "#46039f"
            ],
            [
             0.2222222222222222,
             "#7201a8"
            ],
            [
             0.3333333333333333,
             "#9c179e"
            ],
            [
             0.4444444444444444,
             "#bd3786"
            ],
            [
             0.5555555555555556,
             "#d8576b"
            ],
            [
             0.6666666666666666,
             "#ed7953"
            ],
            [
             0.7777777777777778,
             "#fb9f3a"
            ],
            [
             0.8888888888888888,
             "#fdca26"
            ],
            [
             1,
             "#f0f921"
            ]
           ]
          },
          "colorway": [
           "#636efa",
           "#EF553B",
           "#00cc96",
           "#ab63fa",
           "#FFA15A",
           "#19d3f3",
           "#FF6692",
           "#B6E880",
           "#FF97FF",
           "#FECB52"
          ],
          "font": {
           "color": "#2a3f5f"
          },
          "geo": {
           "bgcolor": "white",
           "lakecolor": "white",
           "landcolor": "#E5ECF6",
           "showlakes": true,
           "showland": true,
           "subunitcolor": "white"
          },
          "hoverlabel": {
           "align": "left"
          },
          "hovermode": "closest",
          "mapbox": {
           "style": "light"
          },
          "paper_bgcolor": "white",
          "plot_bgcolor": "#E5ECF6",
          "polar": {
           "angularaxis": {
            "gridcolor": "white",
            "linecolor": "white",
            "ticks": ""
           },
           "bgcolor": "#E5ECF6",
           "radialaxis": {
            "gridcolor": "white",
            "linecolor": "white",
            "ticks": ""
           }
          },
          "scene": {
           "xaxis": {
            "backgroundcolor": "#E5ECF6",
            "gridcolor": "white",
            "gridwidth": 2,
            "linecolor": "white",
            "showbackground": true,
            "ticks": "",
            "zerolinecolor": "white"
           },
           "yaxis": {
            "backgroundcolor": "#E5ECF6",
            "gridcolor": "white",
            "gridwidth": 2,
            "linecolor": "white",
            "showbackground": true,
            "ticks": "",
            "zerolinecolor": "white"
           },
           "zaxis": {
            "backgroundcolor": "#E5ECF6",
            "gridcolor": "white",
            "gridwidth": 2,
            "linecolor": "white",
            "showbackground": true,
            "ticks": "",
            "zerolinecolor": "white"
           }
          },
          "shapedefaults": {
           "line": {
            "color": "#2a3f5f"
           }
          },
          "ternary": {
           "aaxis": {
            "gridcolor": "white",
            "linecolor": "white",
            "ticks": ""
           },
           "baxis": {
            "gridcolor": "white",
            "linecolor": "white",
            "ticks": ""
           },
           "bgcolor": "#E5ECF6",
           "caxis": {
            "gridcolor": "white",
            "linecolor": "white",
            "ticks": ""
           }
          },
          "title": {
           "x": 0.05
          },
          "xaxis": {
           "automargin": true,
           "gridcolor": "white",
           "linecolor": "white",
           "ticks": "",
           "title": {
            "standoff": 15
           },
           "zerolinecolor": "white",
           "zerolinewidth": 2
          },
          "yaxis": {
           "automargin": true,
           "gridcolor": "white",
           "linecolor": "white",
           "ticks": "",
           "title": {
            "standoff": 15
           },
           "zerolinecolor": "white",
           "zerolinewidth": 2
          }
         }
        },
        "title": {
         "text": "App Net Flows Change by App -> Chain - Last 365 Days - (Apps with > $10.0M TVL Shown)"
        }
       }
      }
     },
     "metadata": {},
     "output_type": "display_data"
    }
   ],
   "source": [
    "\n",
    "# summary_df['flow_direction'] = np.where(summary_df['cumul_net_dollar_flow']>=0,1,-1)\n",
    "# summary_df['flow_direction_7d'] = np.where(summary_df['cumul_net_dollar_flow_7d']>=0,1,-1)\n",
    "# summary_df['abs_cumul_net_dollar_flow'] = abs(summary_df['cumul_net_dollar_flow'])\n",
    "# summary_df['abs_cumul_net_dollar_flow_7d'] = abs(summary_df['cumul_net_dollar_flow_7d'])\n",
    "\n",
    "# display(summary_df)\n",
    "# print(summary_df[summary_df['chain']=='Arbitrum'])\n",
    "# print(summary_df[summary_df['chain']=='Optimism'])\n",
    "# display(summary_df)\n",
    "# fig = px.treemap(summary_df[summary_df['abs_cumul_net_dollar_flow'] !=0], \\\n",
    "#                  path=[px.Constant(\"all\"), 'chain', 'protocol'], \\\n",
    "# #                  path=[px.Constant(\"all\"), 'token', 'chain', 'protocol'], \\\n",
    "#                  values='abs_cumul_net_dollar_flow', color='flow_direction'\n",
    "# #                 ,color_discrete_map={'-1':'red', '1':'green'})\n",
    "#                 ,color_continuous_scale='Spectral'\n",
    "#                      , title = \"App Net Flows Change by App -> Chain - Last \" + str(trailing_num_days) + \\\n",
    "#                             \" Days - (Apps with > $\" + str(min_tvl/1e6) + \"M TVL Shown)\"\n",
    "                \n",
    "#                 ,hover_data=['cumul_net_dollar_flow']\n",
    "#                 )\n",
    "# # fig.data[0].textinfo = 'label+text+value'\n",
    "# fig.update_traces(root_color=\"lightgrey\")\n",
    "# fig.update_layout(margin = dict(t=50, l=25, r=25, b=25))\n",
    "# # fig.update_layout(tickprefix = '$')\n",
    "\n",
    "# fig_7d = px.treemap(summary_df[summary_df['abs_cumul_net_dollar_flow_7d'] !=0], \\\n",
    "#                  path=[px.Constant(\"all\"), 'chain', 'protocol'], \\\n",
    "# #                  path=[px.Constant(\"all\"), 'token', 'chain', 'protocol'], \\\n",
    "#                  values='abs_cumul_net_dollar_flow_7d', color='flow_direction_7d'\n",
    "# #                 ,color_discrete_map={'-1':'red', '1':'green'})\n",
    "#                 ,color_continuous_scale='Spectral'\n",
    "#                      , title = \"App Net Flows Change by App -> Chain - Last \" + str(7) + \\\n",
    "#                             \" Days - (Apps with > $\" + str(min_tvl/1e6) + \"M TVL Shown)\"\n",
    "                \n",
    "#                 # ,hover_data=['cumul_net_dollar_flow_7d']\n",
    "#                 )\n",
    "# fig_7d.update_traces(root_color=\"lightgrey\")\n",
    "# fig_7d.update_layout(margin = dict(t=50, l=25, r=25, b=25))\n",
    "\n",
    "# fig_7d.show()\n",
    "\n",
    "fig_app = px.treemap(summary_df[summary_df['abs_cumul_net_dollar_flow'] !=0], \\\n",
    "                #  path=[px.Constant(\"all\"), 'chain', 'protocol'], \\\n",
    "#                  path=[px.Constant(\"all\"), 'token', 'chain', 'protocol'], \\\n",
    "                        path=[px.Constant(\"all\"), 'protocol','chain'], \\\n",
    "                 values='abs_cumul_net_dollar_flow', color='flow_direction'\n",
    "#                 ,color_discrete_map={'-1':'red', '1':'green'})\n",
    "                ,color_continuous_scale='Spectral'\n",
    "                , title = \"App Net Flows Change by Chain -> App - Last \" + str(trailing_num_days) + \\\n",
    "                            \" Days - (Apps with > $\" + str(min_tvl/1e6) + \"M TVL Shown)\"\n",
    "                ,hover_data=['cumul_net_dollar_flow']\n",
    "                )\n",
    "# fig.data[0].textinfo = 'label+text+value'\n",
    "fig_app.update_traces(root_color=\"lightgrey\")\n",
    "fig_app.update_layout(margin = dict(t=50, l=25, r=25, b=25))\n",
    "fig.show()"
   ]
  },
  {
   "cell_type": "code",
   "execution_count": 25,
   "id": "71c722ff",
   "metadata": {},
   "outputs": [],
   "source": [
    "# fig.write_image(prepend + \"img_outputs/svg/net_app_flows.svg\") #prepend + \n",
    "# fig.write_image(prepend + \"img_outputs/png/net_app_flows.png\") #prepend + \n",
    "# fig.write_html(prepend + \"img_outputs/net_app_flows.html\", include_plotlyjs='cdn')\n",
    "\n",
    "# fig_7d.write_image(prepend + \"img_outputs/svg/net_app_flows_7d.svg\") #prepend + \n",
    "# fig_7d.write_image(prepend + \"img_outputs/png/net_app_flows_7d.png\") #prepend + \n",
    "# fig_7d.write_html(prepend + \"img_outputs/net_app_flows_7d.html\", include_plotlyjs='cdn')\n",
    "\n",
    "fig_app.write_image(prepend + \"img_outputs/svg/net_app_flows_by_app.svg\") #prepend + \n",
    "fig_app.write_image(prepend + \"img_outputs/png/net_app_flows_by_app.png\") #prepend + \n",
    "fig_app.write_html(prepend + \"img_outputs/net_app_flows_by_app.html\", include_plotlyjs='cdn')\n"
   ]
  },
  {
   "cell_type": "code",
   "execution_count": 26,
   "id": "9f573693",
   "metadata": {},
   "outputs": [],
   "source": [
    "# ! jupyter nbconvert --to python total_app_net_flows_async.ipynb"
   ]
  }
 ],
 "metadata": {
  "kernelspec": {
   "display_name": "Python 3 (ipykernel)",
   "language": "python",
   "name": "python3"
  },
  "language_info": {
   "codemirror_mode": {
    "name": "ipython",
    "version": 3
   },
   "file_extension": ".py",
   "mimetype": "text/x-python",
   "name": "python",
   "nbconvert_exporter": "python",
   "pygments_lexer": "ipython3",
   "version": "3.9.13"
  },
  "vscode": {
   "interpreter": {
    "hash": "17c021eea7371cec353b12daa8dd7517ddfe82cfa4c2626e1e7d1541ccab7c49"
   }
  }
 },
 "nbformat": 4,
 "nbformat_minor": 5
}
