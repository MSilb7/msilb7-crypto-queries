{
 "cells": [
  {
   "cell_type": "code",
   "execution_count": 2,
   "id": "ffefb42a",
   "metadata": {},
   "outputs": [],
   "source": [
    "import pandas as pd\n",
    "import requests as r\n",
    "import plotly.express as px\n",
    "import plotly.graph_objects as go\n",
    "from datetime import datetime, timedelta, date\n",
    "import numpy as np\n",
    "import time\n",
    "import os\n",
    "import asyncio, aiohttp, nest_asyncio\n",
    "from aiohttp_retry import RetryClient, ExponentialRetry\n",
    "import defillama_utils as dfl\n",
    "nest_asyncio.apply()\n",
    "header = {'User-Agent': 'Mozilla/5.0 (Windows NT 10.0; Win64; x64; rv:71.0) Gecko/20100101 Firefox/71.0'}"
   ]
  },
  {
   "cell_type": "code",
   "execution_count": 3,
   "id": "539f29a0",
   "metadata": {},
   "outputs": [],
   "source": [
    "#https://stackoverflow.com/questions/23267409/how-to-implement-retry-mechanism-into-python-requests-library\n",
    "\n",
    "import logging\n",
    "import requests\n",
    "\n",
    "from requests.adapters import HTTPAdapter, Retry\n",
    "\n",
    "# logging.basicConfig(level=logging.DEBUG)\n",
    "\n",
    "s = requests.Session()\n",
    "retries = Retry(total=10, backoff_factor=1, status_forcelist=[ 502, 503, 504 ])\n",
    "s.mount('http://', HTTPAdapter(max_retries=retries))\n",
    "\n",
    "pwd = os.getcwd()\n",
    "if 'L2 TVL' in pwd:\n",
    "    prepend = ''\n",
    "else:\n",
    "    prepend = 'L2 TVL/'"
   ]
  },
  {
   "cell_type": "code",
   "execution_count": 4,
   "id": "bbc56e12",
   "metadata": {},
   "outputs": [
    {
     "name": "stdout",
     "output_type": "stream",
     "text": [
      "2022-02-07\n"
     ]
    }
   ],
   "source": [
    "# date ranges to build charts for\n",
    "drange = [0, 1, 7, 30, 90, 180, 365]\n",
    "# Do we count net flows marked at the lastest token price (1) or the price on each day (0)\n",
    "# By default, we opt to 1, so that price movement isn't accidentally counted as + or - flow remainder\n",
    "mark_at_latest_price = 1 #some errors with missing token prices we need to fix first (i.e. rage trade on arbi marks usdc as 0)\n",
    "\n",
    "trailing_num_days = max(drange)\n",
    "# print(trailing_num_days)\n",
    "\n",
    "start_date = date.today()-timedelta(days=trailing_num_days +1)\n",
    "print(start_date)\n",
    "\n",
    "# start_date = datetime.strptime('2022-07-13', '%Y-%m-%d').date()\n",
    "\n"
   ]
  },
  {
   "cell_type": "code",
   "execution_count": 5,
   "id": "76b8d9c9",
   "metadata": {},
   "outputs": [
    {
     "name": "stderr",
     "output_type": "stream",
     "text": [
      "/Users/michaelsilberling/Documents/GitHub/msilb7-crypto-queries/L2 TVL/defillama_utils.py:293: SettingWithCopyWarning: \n",
      "A value is trying to be set on a copy of a slice from a DataFrame.\n",
      "Try using .loc[row_indexer,col_indexer] = value instead\n",
      "\n",
      "See the caveats in the documentation: https://pandas.pydata.org/pandas-docs/stable/user_guide/indexing.html#returning-a-view-versus-a-copy\n",
      "  protocols['parentProtocol'] = protocols['parentProtocol'].combine_first(protocols['name'])\n",
      "/Users/michaelsilberling/Documents/GitHub/msilb7-crypto-queries/L2 TVL/defillama_utils.py:295: SettingWithCopyWarning: \n",
      "A value is trying to be set on a copy of a slice from a DataFrame.\n",
      "Try using .loc[row_indexer,col_indexer] = value instead\n",
      "\n",
      "See the caveats in the documentation: https://pandas.pydata.org/pandas-docs/stable/user_guide/indexing.html#returning-a-view-versus-a-copy\n",
      "  protocols['chainTvls'] = protocols['chainTvls'].apply(lambda x: list(x.keys()) )\n"
     ]
    }
   ],
   "source": [
    "#get all apps > 5 m tvl\n",
    "min_tvl = 5_000_000\n",
    "\n",
    "# if TVL by token is not available, do we fallback on raw TVL (sensitive to token prices)?\n",
    "is_fallback_on_raw_tvl = True#False\n",
    "\n",
    "df_df = dfl.get_all_protocol_tvls_by_chain_and_token(min_tvl, is_fallback_on_raw_tvl)"
   ]
  },
  {
   "cell_type": "code",
   "execution_count": 6,
   "id": "f3254fd1",
   "metadata": {},
   "outputs": [
    {
     "data": {
      "text/html": [
       "<div>\n",
       "<style scoped>\n",
       "    .dataframe tbody tr th:only-of-type {\n",
       "        vertical-align: middle;\n",
       "    }\n",
       "\n",
       "    .dataframe tbody tr th {\n",
       "        vertical-align: top;\n",
       "    }\n",
       "\n",
       "    .dataframe thead th {\n",
       "        text-align: right;\n",
       "    }\n",
       "</style>\n",
       "<table border=\"1\" class=\"dataframe\">\n",
       "  <thead>\n",
       "    <tr style=\"text-align: right;\">\n",
       "      <th></th>\n",
       "      <th>date</th>\n",
       "      <th>token</th>\n",
       "      <th>token_value</th>\n",
       "      <th>usd_value</th>\n",
       "      <th>total_app_tvl</th>\n",
       "      <th>protocol</th>\n",
       "      <th>slug</th>\n",
       "      <th>chain</th>\n",
       "      <th>category</th>\n",
       "      <th>name</th>\n",
       "      <th>parent_protocol</th>\n",
       "    </tr>\n",
       "  </thead>\n",
       "  <tbody>\n",
       "    <tr>\n",
       "      <th>0</th>\n",
       "      <td>2020-12-19 23:00:00</td>\n",
       "      <td>WETH</td>\n",
       "      <td>2272.26688</td>\n",
       "      <td>1.484681e+06</td>\n",
       "      <td>1.484681e+06</td>\n",
       "      <td>lido</td>\n",
       "      <td>lido</td>\n",
       "      <td>Ethereum</td>\n",
       "      <td>Liquid Staking</td>\n",
       "      <td>Lido</td>\n",
       "      <td>Lido</td>\n",
       "    </tr>\n",
       "    <tr>\n",
       "      <th>1</th>\n",
       "      <td>2020-12-19 23:00:00</td>\n",
       "      <td>MATIC</td>\n",
       "      <td>0</td>\n",
       "      <td>0.000000e+00</td>\n",
       "      <td>1.484681e+06</td>\n",
       "      <td>lido</td>\n",
       "      <td>lido</td>\n",
       "      <td>Ethereum</td>\n",
       "      <td>Liquid Staking</td>\n",
       "      <td>Lido</td>\n",
       "      <td>Lido</td>\n",
       "    </tr>\n",
       "    <tr>\n",
       "      <th>2</th>\n",
       "      <td>2020-12-20 23:00:00</td>\n",
       "      <td>WETH</td>\n",
       "      <td>4140.77143</td>\n",
       "      <td>2.697598e+06</td>\n",
       "      <td>2.697598e+06</td>\n",
       "      <td>lido</td>\n",
       "      <td>lido</td>\n",
       "      <td>Ethereum</td>\n",
       "      <td>Liquid Staking</td>\n",
       "      <td>Lido</td>\n",
       "      <td>Lido</td>\n",
       "    </tr>\n",
       "    <tr>\n",
       "      <th>3</th>\n",
       "      <td>2020-12-20 23:00:00</td>\n",
       "      <td>MATIC</td>\n",
       "      <td>0</td>\n",
       "      <td>0.000000e+00</td>\n",
       "      <td>2.697598e+06</td>\n",
       "      <td>lido</td>\n",
       "      <td>lido</td>\n",
       "      <td>Ethereum</td>\n",
       "      <td>Liquid Staking</td>\n",
       "      <td>Lido</td>\n",
       "      <td>Lido</td>\n",
       "    </tr>\n",
       "    <tr>\n",
       "      <th>4</th>\n",
       "      <td>2020-12-21 23:00:00</td>\n",
       "      <td>WETH</td>\n",
       "      <td>5562.49008</td>\n",
       "      <td>3.410254e+06</td>\n",
       "      <td>3.410254e+06</td>\n",
       "      <td>lido</td>\n",
       "      <td>lido</td>\n",
       "      <td>Ethereum</td>\n",
       "      <td>Liquid Staking</td>\n",
       "      <td>Lido</td>\n",
       "      <td>Lido</td>\n",
       "    </tr>\n",
       "  </tbody>\n",
       "</table>\n",
       "</div>"
      ],
      "text/plain": [
       "                 date  token token_value     usd_value  total_app_tvl  \\\n",
       "0 2020-12-19 23:00:00   WETH  2272.26688  1.484681e+06   1.484681e+06   \n",
       "1 2020-12-19 23:00:00  MATIC           0  0.000000e+00   1.484681e+06   \n",
       "2 2020-12-20 23:00:00   WETH  4140.77143  2.697598e+06   2.697598e+06   \n",
       "3 2020-12-20 23:00:00  MATIC           0  0.000000e+00   2.697598e+06   \n",
       "4 2020-12-21 23:00:00   WETH  5562.49008  3.410254e+06   3.410254e+06   \n",
       "\n",
       "  protocol  slug     chain        category  name parent_protocol  \n",
       "0     lido  lido  Ethereum  Liquid Staking  Lido            Lido  \n",
       "1     lido  lido  Ethereum  Liquid Staking  Lido            Lido  \n",
       "2     lido  lido  Ethereum  Liquid Staking  Lido            Lido  \n",
       "3     lido  lido  Ethereum  Liquid Staking  Lido            Lido  \n",
       "4     lido  lido  Ethereum  Liquid Staking  Lido            Lido  "
      ]
     },
     "execution_count": 6,
     "metadata": {},
     "output_type": "execute_result"
    }
   ],
   "source": [
    "# display(df_df)\n",
    "df_df_all = df_df.copy()\n",
    "df_df_all.head()\n",
    "# df_df_all[(df_df_all['protocol'] == 'magpie') & (df_df_all['date'] == '2023-01-27')]"
   ]
  },
  {
   "cell_type": "code",
   "execution_count": 7,
   "id": "bef17372",
   "metadata": {},
   "outputs": [],
   "source": [
    "# display(df_df_all)\n",
    "df_df_all2 = df_df_all.copy()\n",
    "# df_df_all2['token_value'] = df_df_all2['token_value'].fillna(0)\n",
    "df_df_all2['token_value'] = df_df_all2['token_value'].astype('float64')\n",
    "df_df_all2['usd_value'] = df_df_all2['usd_value'].astype('float64')\n",
    "# display(df_df_all2)"
   ]
  },
  {
   "cell_type": "code",
   "execution_count": 8,
   "id": "5ab956a5",
   "metadata": {},
   "outputs": [
    {
     "name": "stdout",
     "output_type": "stream",
     "text": [
      "date               datetime64[ns]\n",
      "token                      object\n",
      "token_value               float64\n",
      "usd_value                 float64\n",
      "total_app_tvl             float64\n",
      "protocol                   object\n",
      "slug                       object\n",
      "chain                      object\n",
      "category                   object\n",
      "name                       object\n",
      "parent_protocol            object\n",
      "dtype: object\n",
      "date               datetime64[ns]\n",
      "token                      object\n",
      "token_value               float64\n",
      "usd_value                 float64\n",
      "total_app_tvl             float64\n",
      "protocol                   object\n",
      "slug                       object\n",
      "chain                      object\n",
      "category                   object\n",
      "name                       object\n",
      "parent_protocol            object\n",
      "dtype: object\n"
     ]
    }
   ],
   "source": [
    "#create an extra day to handle for tokens dropping to 0\n",
    "\n",
    "print(df_df_all2.dtypes)\n",
    "\n",
    "df_df_all_u = df_df_all2.fillna(0)\n",
    "df_df_shift = df_df_all_u.copy()\n",
    "df_df_shift['date'] = df_df_shift['date'] + timedelta(days=1)\n",
    "df_df_shift['token_value'] = 0.0\n",
    "df_df_shift['usd_value'] = 0.0\n",
    "\n",
    "#merge back in\n",
    "df_df_all = pd.concat([df_df_all_u,df_df_shift])\n",
    "\n",
    "print(df_df_all.dtypes)\n",
    "\n",
    "# display(df_df_all)\n",
    "df_df_all = df_df_all[df_df_all['date'] <= pd.to_datetime(\"today\") ]\n",
    "\n",
    "df_df_all['token_value'] = df_df_all['token_value'].fillna(0)\n",
    "df_df_all = df_df_all.groupby(['date','token','chain','protocol','name','category','parent_protocol']).sum(['usd_value','token_value'])\n",
    "\n",
    "# display(df_df_all)\n",
    "df_df_all = df_df_all.reset_index()\n",
    "df_df_shift = []\n",
    "# display(df_df_all)"
   ]
  },
  {
   "cell_type": "code",
   "execution_count": 9,
   "id": "c7c1ddad",
   "metadata": {},
   "outputs": [
    {
     "name": "stdout",
     "output_type": "stream",
     "text": [
      "done api\n"
     ]
    }
   ],
   "source": [
    "\n",
    "# df_df_all = pd.concat(df_df_all)\n",
    "# print(df_df_all[2])\n",
    "print(\"done api\")\n",
    "# display(df_df_all[df_df_all['protocol'] == 'velodrome'])\n",
    "# display(df_df_all)"
   ]
  },
  {
   "cell_type": "code",
   "execution_count": 10,
   "id": "53c381e8",
   "metadata": {},
   "outputs": [
    {
     "name": "stderr",
     "output_type": "stream",
     "text": [
      "/var/folders/by/kltjc8yd0yz_7_wrtrzhrm9m0000gn/T/ipykernel_48166/588349425.py:5: SettingWithCopyWarning: \n",
      "A value is trying to be set on a copy of a slice from a DataFrame.\n",
      "Try using .loc[row_indexer,col_indexer] = value instead\n",
      "\n",
      "See the caveats in the documentation: https://pandas.pydata.org/pandas-docs/stable/user_guide/indexing.html#returning-a-view-versus-a-copy\n",
      "  df_df['last_token_value'] = df_df.groupby(['token','protocol','chain'])['token_value'].shift(1)\n"
     ]
    }
   ],
   "source": [
    "#filter down a bit so we can do trailing comp w/o doing every row\n",
    "df_df = df_df_all[df_df_all['date'].dt.date >= start_date-timedelta(days=1) ]\n",
    "\n",
    "#trailing comp\n",
    "df_df['last_token_value'] = df_df.groupby(['token','protocol','chain'])['token_value'].shift(1)\n",
    "#now actually filter\n",
    "df_df = df_df[df_df['date'].dt.date >= start_date ]\n",
    "# display(df_df[df_df['protocol'] == 'velodrome'])"
   ]
  },
  {
   "cell_type": "code",
   "execution_count": 11,
   "id": "bf00db05",
   "metadata": {},
   "outputs": [],
   "source": [
    "# display(df_df[(df_df['chain'] == 'Arbitrum') & (df_df['protocol'] == 'rage-trade') & (df_df['date'] > '2022-12-01')])"
   ]
  },
  {
   "cell_type": "code",
   "execution_count": 12,
   "id": "3cf54141",
   "metadata": {},
   "outputs": [],
   "source": [
    "# display(df_df)\n",
    "# sample = df_df[(df_df['protocol'] == 'uniswap') & (df_df['chain'] == 'Optimism')]\n",
    "# sample = sample.sort_values(by='date',ascending=False)\n",
    "# # display(sample)\n",
    "# sample.to_csv('check_uni_error.csv')"
   ]
  },
  {
   "cell_type": "code",
   "execution_count": 13,
   "id": "8f9eb8e5",
   "metadata": {},
   "outputs": [
    {
     "data": {
      "text/html": [
       "<div>\n",
       "<style scoped>\n",
       "    .dataframe tbody tr th:only-of-type {\n",
       "        vertical-align: middle;\n",
       "    }\n",
       "\n",
       "    .dataframe tbody tr th {\n",
       "        vertical-align: top;\n",
       "    }\n",
       "\n",
       "    .dataframe thead th {\n",
       "        text-align: right;\n",
       "    }\n",
       "</style>\n",
       "<table border=\"1\" class=\"dataframe\">\n",
       "  <thead>\n",
       "    <tr style=\"text-align: right;\">\n",
       "      <th></th>\n",
       "      <th>date</th>\n",
       "      <th>token</th>\n",
       "      <th>chain</th>\n",
       "      <th>protocol</th>\n",
       "      <th>name</th>\n",
       "      <th>category</th>\n",
       "      <th>parent_protocol</th>\n",
       "      <th>token_value</th>\n",
       "      <th>usd_value</th>\n",
       "      <th>total_app_tvl</th>\n",
       "      <th>last_token_value</th>\n",
       "      <th>price_usd</th>\n",
       "      <th>last_price_usd</th>\n",
       "    </tr>\n",
       "  </thead>\n",
       "  <tbody>\n",
       "    <tr>\n",
       "      <th>2916575</th>\n",
       "      <td>2022-04-01</td>\n",
       "      <td>USDC</td>\n",
       "      <td>Optimism</td>\n",
       "      <td>dforce</td>\n",
       "      <td>dForce</td>\n",
       "      <td>Lending</td>\n",
       "      <td>dForce</td>\n",
       "      <td>0.00000</td>\n",
       "      <td>0.000000e+00</td>\n",
       "      <td>1.353016e+06</td>\n",
       "      <td>0.00000</td>\n",
       "      <td>NaN</td>\n",
       "      <td>NaN</td>\n",
       "    </tr>\n",
       "    <tr>\n",
       "      <th>3614743</th>\n",
       "      <td>2022-05-28</td>\n",
       "      <td>USDT</td>\n",
       "      <td>Ethereum-borrowed</td>\n",
       "      <td>sashimiswap</td>\n",
       "      <td>SashimiSwap</td>\n",
       "      <td>Dexes</td>\n",
       "      <td>SashimiSwap</td>\n",
       "      <td>3735.76564</td>\n",
       "      <td>3.739501e+03</td>\n",
       "      <td>1.559629e+05</td>\n",
       "      <td>3735.76564</td>\n",
       "      <td>1.001000</td>\n",
       "      <td>1.001000</td>\n",
       "    </tr>\n",
       "    <tr>\n",
       "      <th>4491149</th>\n",
       "      <td>2022-07-25</td>\n",
       "      <td>DPT</td>\n",
       "      <td>Binance</td>\n",
       "      <td>biswap</td>\n",
       "      <td>BiSwap</td>\n",
       "      <td>Dexes</td>\n",
       "      <td>BiSwap</td>\n",
       "      <td>664301.77119</td>\n",
       "      <td>1.273261e+03</td>\n",
       "      <td>5.816228e+08</td>\n",
       "      <td>664301.77119</td>\n",
       "      <td>0.001917</td>\n",
       "      <td>0.001917</td>\n",
       "    </tr>\n",
       "    <tr>\n",
       "      <th>5955341</th>\n",
       "      <td>2022-10-21</td>\n",
       "      <td>ETH</td>\n",
       "      <td>Binance</td>\n",
       "      <td>belt-finance</td>\n",
       "      <td>Belt Finance</td>\n",
       "      <td>Yield</td>\n",
       "      <td>Belt Finance</td>\n",
       "      <td>3156.11027</td>\n",
       "      <td>4.056643e+06</td>\n",
       "      <td>5.861970e+07</td>\n",
       "      <td>3154.97409</td>\n",
       "      <td>1285.329999</td>\n",
       "      <td>1281.729999</td>\n",
       "    </tr>\n",
       "    <tr>\n",
       "      <th>6979151</th>\n",
       "      <td>2022-12-15</td>\n",
       "      <td>RDN</td>\n",
       "      <td>Ethereum</td>\n",
       "      <td>bancor-v2.1</td>\n",
       "      <td>Bancor V2.1</td>\n",
       "      <td>Dexes</td>\n",
       "      <td>Bancor</td>\n",
       "      <td>1093.89288</td>\n",
       "      <td>2.757486e+01</td>\n",
       "      <td>4.003536e+07</td>\n",
       "      <td>1093.89288</td>\n",
       "      <td>0.025208</td>\n",
       "      <td>0.029005</td>\n",
       "    </tr>\n",
       "    <tr>\n",
       "      <th>3559134</th>\n",
       "      <td>2022-05-24</td>\n",
       "      <td>UNKNOWN (fantom:0xfc86c61b87e3bc3462b2f2ef8063...</td>\n",
       "      <td>Fantom</td>\n",
       "      <td>spiritswap-amm</td>\n",
       "      <td>SpiritSwap AMM</td>\n",
       "      <td>Dexes</td>\n",
       "      <td>SpiritSwap</td>\n",
       "      <td>0.00000</td>\n",
       "      <td>0.000000e+00</td>\n",
       "      <td>1.200456e+08</td>\n",
       "      <td>0.00000</td>\n",
       "      <td>NaN</td>\n",
       "      <td>NaN</td>\n",
       "    </tr>\n",
       "    <tr>\n",
       "      <th>6050596</th>\n",
       "      <td>2022-10-26</td>\n",
       "      <td>MER</td>\n",
       "      <td>Solana-borrowed</td>\n",
       "      <td>solend</td>\n",
       "      <td>Solend</td>\n",
       "      <td>Lending</td>\n",
       "      <td>Solend</td>\n",
       "      <td>6450.14449</td>\n",
       "      <td>9.416559e+01</td>\n",
       "      <td>3.376513e+08</td>\n",
       "      <td>6449.51896</td>\n",
       "      <td>0.014599</td>\n",
       "      <td>0.014516</td>\n",
       "    </tr>\n",
       "    <tr>\n",
       "      <th>4701259</th>\n",
       "      <td>2022-08-07</td>\n",
       "      <td>USDT</td>\n",
       "      <td>Ethereum</td>\n",
       "      <td>xtoken</td>\n",
       "      <td>xToken</td>\n",
       "      <td>Services</td>\n",
       "      <td>xToken</td>\n",
       "      <td>0.00000</td>\n",
       "      <td>0.000000e+00</td>\n",
       "      <td>7.279123e+06</td>\n",
       "      <td>0.00000</td>\n",
       "      <td>NaN</td>\n",
       "      <td>NaN</td>\n",
       "    </tr>\n",
       "    <tr>\n",
       "      <th>7610951</th>\n",
       "      <td>2023-01-17</td>\n",
       "      <td>WBNB-RPS-CAKE-LP</td>\n",
       "      <td>Binance</td>\n",
       "      <td>bakeryswap</td>\n",
       "      <td>BakerySwap</td>\n",
       "      <td>Dexes</td>\n",
       "      <td>BakerySwap</td>\n",
       "      <td>0.00000</td>\n",
       "      <td>0.000000e+00</td>\n",
       "      <td>1.532747e+07</td>\n",
       "      <td>0.00000</td>\n",
       "      <td>NaN</td>\n",
       "      <td>NaN</td>\n",
       "    </tr>\n",
       "    <tr>\n",
       "      <th>6404656</th>\n",
       "      <td>2022-11-14</td>\n",
       "      <td>USDC</td>\n",
       "      <td>IoTeX</td>\n",
       "      <td>relaychain</td>\n",
       "      <td>RelayChain</td>\n",
       "      <td>Bridge</td>\n",
       "      <td>RelayChain</td>\n",
       "      <td>0.00000</td>\n",
       "      <td>0.000000e+00</td>\n",
       "      <td>0.000000e+00</td>\n",
       "      <td>0.00000</td>\n",
       "      <td>NaN</td>\n",
       "      <td>NaN</td>\n",
       "    </tr>\n",
       "    <tr>\n",
       "      <th>3036438</th>\n",
       "      <td>2022-04-12</td>\n",
       "      <td>PTP</td>\n",
       "      <td>Avalanche-pool2</td>\n",
       "      <td>echidna-finance</td>\n",
       "      <td>Echidna Finance</td>\n",
       "      <td>Yield</td>\n",
       "      <td>Echidna Finance</td>\n",
       "      <td>163456.75737</td>\n",
       "      <td>4.805629e+05</td>\n",
       "      <td>1.103287e+06</td>\n",
       "      <td>164610.30758</td>\n",
       "      <td>2.940000</td>\n",
       "      <td>3.510000</td>\n",
       "    </tr>\n",
       "    <tr>\n",
       "      <th>7455951</th>\n",
       "      <td>2023-01-09</td>\n",
       "      <td>UNKNOWN (fantom:0x16b0ee69e1f36033c4e9e21a30aa...</td>\n",
       "      <td>Fantom</td>\n",
       "      <td>spiritswap-amm</td>\n",
       "      <td>SpiritSwap AMM</td>\n",
       "      <td>Dexes</td>\n",
       "      <td>SpiritSwap</td>\n",
       "      <td>0.00000</td>\n",
       "      <td>0.000000e+00</td>\n",
       "      <td>1.677719e+07</td>\n",
       "      <td>0.00000</td>\n",
       "      <td>NaN</td>\n",
       "      <td>NaN</td>\n",
       "    </tr>\n",
       "    <tr>\n",
       "      <th>4812586</th>\n",
       "      <td>2022-08-14</td>\n",
       "      <td>UNKNOWN (fantom:0x58fd9761da186034a4c307ef0f96...</td>\n",
       "      <td>Fantom</td>\n",
       "      <td>spiritswap-amm</td>\n",
       "      <td>SpiritSwap AMM</td>\n",
       "      <td>Dexes</td>\n",
       "      <td>SpiritSwap</td>\n",
       "      <td>0.00000</td>\n",
       "      <td>0.000000e+00</td>\n",
       "      <td>7.584657e+07</td>\n",
       "      <td>0.00000</td>\n",
       "      <td>NaN</td>\n",
       "      <td>NaN</td>\n",
       "    </tr>\n",
       "    <tr>\n",
       "      <th>3591191</th>\n",
       "      <td>2022-05-27</td>\n",
       "      <td>BTC</td>\n",
       "      <td>Fantom-borrowed</td>\n",
       "      <td>hundred-finance</td>\n",
       "      <td>Hundred Finance</td>\n",
       "      <td>Lending</td>\n",
       "      <td>Hundred Finance</td>\n",
       "      <td>0.00000</td>\n",
       "      <td>0.000000e+00</td>\n",
       "      <td>1.834249e+06</td>\n",
       "      <td>0.00000</td>\n",
       "      <td>NaN</td>\n",
       "      <td>NaN</td>\n",
       "    </tr>\n",
       "    <tr>\n",
       "      <th>6759982</th>\n",
       "      <td>2022-12-03</td>\n",
       "      <td>WBNB</td>\n",
       "      <td>Binance</td>\n",
       "      <td>quoll</td>\n",
       "      <td>Quoll</td>\n",
       "      <td>Yield</td>\n",
       "      <td>Quoll</td>\n",
       "      <td>32.72167</td>\n",
       "      <td>9.545238e+03</td>\n",
       "      <td>1.360635e+07</td>\n",
       "      <td>1212.68259</td>\n",
       "      <td>291.709996</td>\n",
       "      <td>294.290001</td>\n",
       "    </tr>\n",
       "    <tr>\n",
       "      <th>7364510</th>\n",
       "      <td>2023-01-04</td>\n",
       "      <td>USK</td>\n",
       "      <td>Ethereum</td>\n",
       "      <td>curve</td>\n",
       "      <td>Curve</td>\n",
       "      <td>Dexes</td>\n",
       "      <td>Curve</td>\n",
       "      <td>0.00000</td>\n",
       "      <td>0.000000e+00</td>\n",
       "      <td>6.756061e+09</td>\n",
       "      <td>0.00000</td>\n",
       "      <td>NaN</td>\n",
       "      <td>NaN</td>\n",
       "    </tr>\n",
       "    <tr>\n",
       "      <th>6962626</th>\n",
       "      <td>2022-12-14</td>\n",
       "      <td>UNKNOWN (bsc:BNB)</td>\n",
       "      <td>Fantom</td>\n",
       "      <td>spiritswap-amm</td>\n",
       "      <td>SpiritSwap AMM</td>\n",
       "      <td>Dexes</td>\n",
       "      <td>SpiritSwap</td>\n",
       "      <td>0.00000</td>\n",
       "      <td>0.000000e+00</td>\n",
       "      <td>1.942106e+07</td>\n",
       "      <td>0.00000</td>\n",
       "      <td>NaN</td>\n",
       "      <td>NaN</td>\n",
       "    </tr>\n",
       "    <tr>\n",
       "      <th>6308106</th>\n",
       "      <td>2022-11-09</td>\n",
       "      <td>OHMETH-F</td>\n",
       "      <td>Ethereum</td>\n",
       "      <td>convex-finance</td>\n",
       "      <td>Convex Finance</td>\n",
       "      <td>Yield</td>\n",
       "      <td>Convex Finance</td>\n",
       "      <td>16493.76079</td>\n",
       "      <td>3.744651e+06</td>\n",
       "      <td>8.197593e+09</td>\n",
       "      <td>19199.39863</td>\n",
       "      <td>227.034391</td>\n",
       "      <td>251.967896</td>\n",
       "    </tr>\n",
       "    <tr>\n",
       "      <th>7554100</th>\n",
       "      <td>2023-01-14</td>\n",
       "      <td>USDT</td>\n",
       "      <td>Aurora-borrowed</td>\n",
       "      <td>bastion</td>\n",
       "      <td>Bastion</td>\n",
       "      <td>Lending</td>\n",
       "      <td>Bastion</td>\n",
       "      <td>0.00000</td>\n",
       "      <td>0.000000e+00</td>\n",
       "      <td>1.093832e+07</td>\n",
       "      <td>0.00000</td>\n",
       "      <td>NaN</td>\n",
       "      <td>NaN</td>\n",
       "    </tr>\n",
       "    <tr>\n",
       "      <th>3379742</th>\n",
       "      <td>2022-05-11</td>\n",
       "      <td>NMR</td>\n",
       "      <td>Ethereum</td>\n",
       "      <td>idex</td>\n",
       "      <td>IDEX</td>\n",
       "      <td>Dexes</td>\n",
       "      <td>IDEX</td>\n",
       "      <td>0.00000</td>\n",
       "      <td>0.000000e+00</td>\n",
       "      <td>1.775225e+06</td>\n",
       "      <td>0.00000</td>\n",
       "      <td>NaN</td>\n",
       "      <td>NaN</td>\n",
       "    </tr>\n",
       "  </tbody>\n",
       "</table>\n",
       "</div>"
      ],
      "text/plain": [
       "              date                                              token  \\\n",
       "2916575 2022-04-01                                               USDC   \n",
       "3614743 2022-05-28                                               USDT   \n",
       "4491149 2022-07-25                                                DPT   \n",
       "5955341 2022-10-21                                                ETH   \n",
       "6979151 2022-12-15                                                RDN   \n",
       "3559134 2022-05-24  UNKNOWN (fantom:0xfc86c61b87e3bc3462b2f2ef8063...   \n",
       "6050596 2022-10-26                                                MER   \n",
       "4701259 2022-08-07                                               USDT   \n",
       "7610951 2023-01-17                                   WBNB-RPS-CAKE-LP   \n",
       "6404656 2022-11-14                                               USDC   \n",
       "3036438 2022-04-12                                                PTP   \n",
       "7455951 2023-01-09  UNKNOWN (fantom:0x16b0ee69e1f36033c4e9e21a30aa...   \n",
       "4812586 2022-08-14  UNKNOWN (fantom:0x58fd9761da186034a4c307ef0f96...   \n",
       "3591191 2022-05-27                                                BTC   \n",
       "6759982 2022-12-03                                               WBNB   \n",
       "7364510 2023-01-04                                                USK   \n",
       "6962626 2022-12-14                                  UNKNOWN (bsc:BNB)   \n",
       "6308106 2022-11-09                                           OHMETH-F   \n",
       "7554100 2023-01-14                                               USDT   \n",
       "3379742 2022-05-11                                                NMR   \n",
       "\n",
       "                     chain         protocol             name  category  \\\n",
       "2916575           Optimism           dforce           dForce   Lending   \n",
       "3614743  Ethereum-borrowed      sashimiswap      SashimiSwap     Dexes   \n",
       "4491149            Binance           biswap           BiSwap     Dexes   \n",
       "5955341            Binance     belt-finance     Belt Finance     Yield   \n",
       "6979151           Ethereum      bancor-v2.1      Bancor V2.1     Dexes   \n",
       "3559134             Fantom   spiritswap-amm   SpiritSwap AMM     Dexes   \n",
       "6050596    Solana-borrowed           solend           Solend   Lending   \n",
       "4701259           Ethereum           xtoken           xToken  Services   \n",
       "7610951            Binance       bakeryswap       BakerySwap     Dexes   \n",
       "6404656              IoTeX       relaychain       RelayChain    Bridge   \n",
       "3036438    Avalanche-pool2  echidna-finance  Echidna Finance     Yield   \n",
       "7455951             Fantom   spiritswap-amm   SpiritSwap AMM     Dexes   \n",
       "4812586             Fantom   spiritswap-amm   SpiritSwap AMM     Dexes   \n",
       "3591191    Fantom-borrowed  hundred-finance  Hundred Finance   Lending   \n",
       "6759982            Binance            quoll            Quoll     Yield   \n",
       "7364510           Ethereum            curve            Curve     Dexes   \n",
       "6962626             Fantom   spiritswap-amm   SpiritSwap AMM     Dexes   \n",
       "6308106           Ethereum   convex-finance   Convex Finance     Yield   \n",
       "7554100    Aurora-borrowed          bastion          Bastion   Lending   \n",
       "3379742           Ethereum             idex             IDEX     Dexes   \n",
       "\n",
       "         parent_protocol   token_value     usd_value  total_app_tvl  \\\n",
       "2916575           dForce       0.00000  0.000000e+00   1.353016e+06   \n",
       "3614743      SashimiSwap    3735.76564  3.739501e+03   1.559629e+05   \n",
       "4491149           BiSwap  664301.77119  1.273261e+03   5.816228e+08   \n",
       "5955341     Belt Finance    3156.11027  4.056643e+06   5.861970e+07   \n",
       "6979151           Bancor    1093.89288  2.757486e+01   4.003536e+07   \n",
       "3559134       SpiritSwap       0.00000  0.000000e+00   1.200456e+08   \n",
       "6050596           Solend    6450.14449  9.416559e+01   3.376513e+08   \n",
       "4701259           xToken       0.00000  0.000000e+00   7.279123e+06   \n",
       "7610951       BakerySwap       0.00000  0.000000e+00   1.532747e+07   \n",
       "6404656       RelayChain       0.00000  0.000000e+00   0.000000e+00   \n",
       "3036438  Echidna Finance  163456.75737  4.805629e+05   1.103287e+06   \n",
       "7455951       SpiritSwap       0.00000  0.000000e+00   1.677719e+07   \n",
       "4812586       SpiritSwap       0.00000  0.000000e+00   7.584657e+07   \n",
       "3591191  Hundred Finance       0.00000  0.000000e+00   1.834249e+06   \n",
       "6759982            Quoll      32.72167  9.545238e+03   1.360635e+07   \n",
       "7364510            Curve       0.00000  0.000000e+00   6.756061e+09   \n",
       "6962626       SpiritSwap       0.00000  0.000000e+00   1.942106e+07   \n",
       "6308106   Convex Finance   16493.76079  3.744651e+06   8.197593e+09   \n",
       "7554100          Bastion       0.00000  0.000000e+00   1.093832e+07   \n",
       "3379742             IDEX       0.00000  0.000000e+00   1.775225e+06   \n",
       "\n",
       "         last_token_value    price_usd  last_price_usd  \n",
       "2916575           0.00000          NaN             NaN  \n",
       "3614743        3735.76564     1.001000        1.001000  \n",
       "4491149      664301.77119     0.001917        0.001917  \n",
       "5955341        3154.97409  1285.329999     1281.729999  \n",
       "6979151        1093.89288     0.025208        0.029005  \n",
       "3559134           0.00000          NaN             NaN  \n",
       "6050596        6449.51896     0.014599        0.014516  \n",
       "4701259           0.00000          NaN             NaN  \n",
       "7610951           0.00000          NaN             NaN  \n",
       "6404656           0.00000          NaN             NaN  \n",
       "3036438      164610.30758     2.940000        3.510000  \n",
       "7455951           0.00000          NaN             NaN  \n",
       "4812586           0.00000          NaN             NaN  \n",
       "3591191           0.00000          NaN             NaN  \n",
       "6759982        1212.68259   291.709996      294.290001  \n",
       "7364510           0.00000          NaN             NaN  \n",
       "6962626           0.00000          NaN             NaN  \n",
       "6308106       19199.39863   227.034391      251.967896  \n",
       "7554100           0.00000          NaN             NaN  \n",
       "3379742           0.00000          NaN             NaN  "
      ]
     },
     "execution_count": 13,
     "metadata": {},
     "output_type": "execute_result"
    }
   ],
   "source": [
    "data_df = df_df.copy()\n",
    "data_df = data_df.sort_values(by='date')\n",
    "# data_df['token_value'] = data_df['token_value'].replace(0, np.nan) #keep zeroes\n",
    "# price = usd value / num tokens\n",
    "data_df['price_usd'] = data_df['usd_value']/data_df['token_value']\n",
    "data_df['last_price_usd'] = data_df.groupby(['token','protocol', 'chain'])['price_usd'].shift(1)\n",
    "\n",
    "# If first instnace of token, make sure there's no price diff\n",
    "data_df['last_price_usd'] = data_df[['last_price_usd', 'price_usd']].bfill(axis=1).iloc[:, 0]\n",
    "#Forward fill if token drops off\n",
    "data_df['price_usd'] = data_df[['price_usd','last_price_usd']].bfill(axis=1).iloc[:, 0]\n",
    "\n",
    "data_df.sample(20)\n",
    "# display(data_df[data_df['protocol'] == 'velodrome'])"
   ]
  },
  {
   "cell_type": "code",
   "execution_count": 14,
   "id": "79aa9678",
   "metadata": {},
   "outputs": [
    {
     "name": "stderr",
     "output_type": "stream",
     "text": [
      "/var/folders/by/kltjc8yd0yz_7_wrtrzhrm9m0000gn/T/ipykernel_48166/3304160164.py:13: UserWarning: Boolean Series key will be reindexed to match DataFrame index.\n",
      "  latest_prices_df_raw_prot = data_df[~data_df['price_usd'].isna()][['token','chain','protocol','price_usd']][data_df['token_rank_desc_prot'] ==1]\n",
      "/var/folders/by/kltjc8yd0yz_7_wrtrzhrm9m0000gn/T/ipykernel_48166/3304160164.py:14: UserWarning: Boolean Series key will be reindexed to match DataFrame index.\n",
      "  latest_prices_df_raw = data_df[~data_df['price_usd'].isna()][['token','chain','price_usd']][data_df['token_rank_desc'] ==1]\n",
      "/var/folders/by/kltjc8yd0yz_7_wrtrzhrm9m0000gn/T/ipykernel_48166/3304160164.py:15: UserWarning: Boolean Series key will be reindexed to match DataFrame index.\n",
      "  latest_prices_df_raw_prot_gt0 = data_df[~data_df['price_usd'].isna()][['token','chain','price_usd','protocol']][data_df['token_rank_desc_prot_gt0'] ==1]\n"
     ]
    }
   ],
   "source": [
    "data_df['token_rank_desc'] = data_df.groupby(['chain','token'])['date'].\\\n",
    "                            rank(method='dense',ascending=False).astype(int)\n",
    "data_df['token_rank_desc_prot'] = data_df.groupby(['chain','token','protocol'])['date'].\\\n",
    "                            rank(method='dense',ascending=False).astype(int)\n",
    "\n",
    "data_df['token_rank_desc_prot_gt0'] = data_df.query('token_value > 0')\\\n",
    "                                    .groupby(['chain', 'token', 'protocol'])['date']\\\n",
    "                                    .rank(method='first', ascending=False)\n",
    "\n",
    "# get latest price either by protocol or in aggregate\n",
    "# if we don't have a match by protocol, then select in aggregate.\n",
    "\n",
    "latest_prices_df_raw_prot = data_df[~data_df['price_usd'].isna()][['token','chain','protocol','price_usd']][data_df['token_rank_desc_prot'] ==1]\n",
    "latest_prices_df_raw = data_df[~data_df['price_usd'].isna()][['token','chain','price_usd']][data_df['token_rank_desc'] ==1]\n",
    "latest_prices_df_raw_prot_gt0 = data_df[~data_df['price_usd'].isna()][['token','chain','price_usd','protocol']][data_df['token_rank_desc_prot_gt0'] ==1]\n",
    "\n",
    "latest_prices_df_prot = latest_prices_df_raw_prot.groupby(['token','chain','protocol']).median('price_usd')\n",
    "latest_prices_df_prot = latest_prices_df_prot.rename(columns={'price_usd':'latest_price_usd_prot'})\n",
    "\n",
    "latest_prices_df = latest_prices_df_raw.groupby(['token','chain']).median('price_usd')\n",
    "latest_prices_df = latest_prices_df.rename(columns={'price_usd':'latest_price_usd_raw'})\n",
    "\n",
    "latest_prices_df_prot_gt0 = latest_prices_df_raw_prot_gt0.groupby(['token','chain','protocol']).median('price_usd')\n",
    "latest_prices_df_prot_gt0 = latest_prices_df_prot_gt0.rename(columns={'price_usd':'latest_price_usd_prot_gt0'})\n",
    "\n",
    "latest_prices_df_prot = latest_prices_df_prot.reset_index()\n",
    "latest_prices_df = latest_prices_df.reset_index()\n",
    "latest_prices_df_prot_gt0 = latest_prices_df_prot_gt0.reset_index()\n",
    "\n",
    "prices_df = data_df[['chain','protocol','token']].drop_duplicates()\n",
    "prices_df = prices_df.merge(latest_prices_df_prot,on=['token','chain','protocol'], how='left')\n",
    "prices_df = prices_df.merge(latest_prices_df,on=['token','chain'], how='left')\n",
    "prices_df = prices_df.merge(latest_prices_df_prot_gt0,on=['token','chain','protocol'], how='left')\n",
    "prices_df['latest_price_usd'] = \\\n",
    "        prices_df['latest_price_usd_prot'].where(prices_df['latest_price_usd_prot'] > 0, \\\n",
    "        prices_df['latest_price_usd_raw'].where(prices_df['latest_price_usd_raw'] > 0, \\\n",
    "        prices_df['latest_price_usd_prot_gt0']))\n",
    "    # prices_df.loc[prices_df[['latest_price_usd_prot', 'latest_price_usd_raw', 'latest_price_usd_prot_gt0']].first_valid_index()]\n",
    "# prices_df['latest_price_usd'] = prices_df['latest_price_usd_prot'].combine_first(prices_df['latest_price_usd_raw'])\n",
    "\n",
    "prices_df = prices_df[['chain','protocol','token','latest_price_usd']]#,'latest_price_usd_prot','latest_price_usd_raw','latest_price_usd_prot_gt0']]\n",
    "\n",
    "# display(prices_df)\n",
    "prices_df = prices_df[~prices_df['latest_price_usd'].isna()]\n",
    "\n",
    "\n",
    "data_df = data_df.merge(prices_df,on=['token','chain','protocol'], how='left')"
   ]
  },
  {
   "cell_type": "code",
   "execution_count": 15,
   "id": "31d8bf90",
   "metadata": {},
   "outputs": [],
   "source": [
    "# data_df[(data_df['protocol'] == 'concentrator') & (data_df['token'] == 'FXS') ]\n",
    "# prices_df[(prices_df['protocol'] == 'concentrator') & (prices_df['token'] == 'FXS')]"
   ]
  },
  {
   "cell_type": "code",
   "execution_count": 16,
   "id": "2cb437d8",
   "metadata": {},
   "outputs": [],
   "source": [
    "# latest_prices_df_prot_gt0[latest_prices_df_prot_gt0['token'] == 'FXS']"
   ]
  },
  {
   "cell_type": "code",
   "execution_count": 17,
   "id": "8cc58adc",
   "metadata": {},
   "outputs": [],
   "source": [
    "data_df.sort_values(by='date',inplace=True)\n",
    "\n",
    "# net token change\n",
    "data_df['net_token_flow'] = data_df['token_value'] - data_df['last_token_value']\n",
    "# net token change * current price\n",
    "data_df['net_dollar_flow'] = data_df['net_token_flow'] * data_df['price_usd']\n",
    "# net token change * latest price\n",
    "data_df['net_dollar_flow_latest_price'] = data_df['net_token_flow'] * data_df['latest_price_usd']\n",
    "\n",
    "\n",
    "data_df = data_df[abs(data_df['net_dollar_flow']) < 50_000_000_000] #50 bil error bar for bad prices\n",
    "data_df = data_df[~data_df['net_dollar_flow'].isna()]"
   ]
  },
  {
   "cell_type": "code",
   "execution_count": 18,
   "id": "74651c2f",
   "metadata": {},
   "outputs": [],
   "source": [
    "# Handle for errors where a token price went to zero (i.e. magpie ANKRBNB 2023-01-27)\n",
    "data_df['net_dollar_flow_latest_price'] = np.where(\n",
    "    data_df['net_dollar_flow'] == 0, 0, data_df['net_dollar_flow_latest_price']\n",
    ")\n",
    "\n",
    "# data_df[(data_df['protocol'] == 'magpie') & (data_df['date'] >= '2023-01-27') ]\n",
    "# data_df[data_df['protocol'] == 'velodrome']"
   ]
  },
  {
   "cell_type": "code",
   "execution_count": 19,
   "id": "59f3f879",
   "metadata": {},
   "outputs": [],
   "source": [
    "netdf_df = data_df[['date','protocol','chain','name','category','parent_protocol','net_dollar_flow','usd_value','net_dollar_flow_latest_price']]\n",
    "netdf_df = netdf_df.fillna(0)\n",
    "netdf_df = netdf_df.sort_values(by='date',ascending=True)\n",
    "netdf_df = netdf_df.groupby(['date','protocol','chain','name','category','parent_protocol']).sum(['net_dollar_flow','usd_value','net_dollar_flow_latest_price']) ##agg by app\n",
    "\n",
    "#usd_value is the TVL on a given day\n",
    "netdf_df = netdf_df.groupby(['date','protocol','chain','usd_value','name','category','parent_protocol']).sum(['net_dollar_flow','net_dollar_flow_latest_price'])\n",
    "netdf_df.reset_index(inplace=True)\n",
    "\n",
    "# netdf_df['cumul_net_dollar_flow'] = netdf_df[['protocol','chain','net_dollar_flow']]\\\n",
    "#                                     .groupby(['protocol','chain']).cumsum()\n",
    "# netdf_df['cumul_net_dollar_flow_7d'] = netdf_df[['protocol','chain','net_dollar_flow']]\\\n",
    "#                                     .groupby(['protocol','chain'])['net_dollar_flow'].rolling(7, min_periods=1).sum()\\\n",
    "#                                     .reset_index(drop=True)\n",
    "# netdf_df['cumul_net_dollar_flow_30d'] = netdf_df[['protocol','chain','net_dollar_flow']]\\\n",
    "#                                     .groupby(['protocol','chain'])['net_dollar_flow'].rolling(30, min_periods=1).sum()\\\n",
    "#                                     .reset_index(drop=True)\n",
    "netdf_df.reset_index(inplace=True)\n",
    "netdf_df.drop(columns=['index'],inplace=True)\n",
    "# display(netdf_df[netdf_df['protocol']=='makerdao'])\n",
    "\n"
   ]
  },
  {
   "cell_type": "code",
   "execution_count": 20,
   "id": "a579b389",
   "metadata": {},
   "outputs": [],
   "source": [
    "# tmp = netdf_df[(netdf_df['protocol']=='rage-trade') & (netdf_df['chain']=='Arbitrum') & (netdf_df['date'] > '2022-12-01')]\n",
    "# tmp.to_csv('check.csv')\n",
    "# netdf_df[(netdf_df['protocol']=='shibaswap') & (netdf_df['chain']=='Ethereum') & (netdf_df['date'] > '2022-12-01')]\n",
    "\n",
    "# netdf_df[netdf_df['protocol'] == 'velodrome'].groupby('protocol').sum()"
   ]
  },
  {
   "cell_type": "code",
   "execution_count": 21,
   "id": "18ccf06e",
   "metadata": {},
   "outputs": [],
   "source": [
    "#get latest\n",
    "netdf_df['rank_desc'] = netdf_df.groupby(['protocol', 'chain'])['date'].\\\n",
    "                            rank(method='dense',ascending=False).astype(int)\n",
    "# display(netdf_df[netdf_df['protocol'] == 'lyra'])\n",
    "netdf_df = netdf_df[  #( netdf_df['rank_desc'] == 1 ) &\\\n",
    "                        (~netdf_df['chain'].str.contains('-borrowed')) &\\\n",
    "                        (~netdf_df['chain'].str.contains('-staking')) &\\\n",
    "                        (~netdf_df['chain'].str.contains('-pool2')) &\\\n",
    "                            (~netdf_df['chain'].str.contains('-treasury')) &\\\n",
    "                        (~( netdf_df['chain'] == 'treasury') ) &\\\n",
    "                        (~( netdf_df['chain'] == 'borrowed') ) &\\\n",
    "                        (~( netdf_df['chain'] == 'staking') ) &\\\n",
    "                            (~( netdf_df['chain'] == 'treasury') ) &\\\n",
    "                        (~( netdf_df['chain'] == 'pool2') ) &\\\n",
    "                        (~( netdf_df['protocol'] == 'polygon-bridge-&-staking') )  &\\\n",
    "                            (~(netdf_df['protocol'].str[-4:] == '-cex') )\n",
    "#                         & (~( netdf_df['chain'] == 'Ethereum') )\n",
    "                        ]\n",
    "# display(netdf_df[netdf_df['protocol']=='makerdao'])"
   ]
  },
  {
   "cell_type": "code",
   "execution_count": 22,
   "id": "1e7e9b21",
   "metadata": {},
   "outputs": [],
   "source": [
    "# display(netdf_df)"
   ]
  },
  {
   "cell_type": "code",
   "execution_count": 23,
   "id": "67bdbe1a",
   "metadata": {},
   "outputs": [
    {
     "name": "stderr",
     "output_type": "stream",
     "text": [
      "/var/folders/by/kltjc8yd0yz_7_wrtrzhrm9m0000gn/T/ipykernel_48166/2499845005.py:31: FutureWarning: Not prepending group keys to the result index of transform-like apply. In the future, the group keys will be included in the index, regardless of whether the applied function returns a like-indexed object.\n",
      "To preserve the previous behavior, use\n",
      "\n",
      "\t>>> .groupby(..., group_keys=False)\n",
      "\n",
      "To adopt the future behavior and silence this warning, use \n",
      "\n",
      "\t>>> .groupby(..., group_keys=True)\n",
      "  .apply(lambda x: x.rolling(i, min_periods=1).sum())\n",
      "/var/folders/by/kltjc8yd0yz_7_wrtrzhrm9m0000gn/T/ipykernel_48166/2499845005.py:31: FutureWarning: Not prepending group keys to the result index of transform-like apply. In the future, the group keys will be included in the index, regardless of whether the applied function returns a like-indexed object.\n",
      "To preserve the previous behavior, use\n",
      "\n",
      "\t>>> .groupby(..., group_keys=False)\n",
      "\n",
      "To adopt the future behavior and silence this warning, use \n",
      "\n",
      "\t>>> .groupby(..., group_keys=True)\n",
      "  .apply(lambda x: x.rolling(i, min_periods=1).sum())\n",
      "/var/folders/by/kltjc8yd0yz_7_wrtrzhrm9m0000gn/T/ipykernel_48166/2499845005.py:31: FutureWarning: Not prepending group keys to the result index of transform-like apply. In the future, the group keys will be included in the index, regardless of whether the applied function returns a like-indexed object.\n",
      "To preserve the previous behavior, use\n",
      "\n",
      "\t>>> .groupby(..., group_keys=False)\n",
      "\n",
      "To adopt the future behavior and silence this warning, use \n",
      "\n",
      "\t>>> .groupby(..., group_keys=True)\n",
      "  .apply(lambda x: x.rolling(i, min_periods=1).sum())\n",
      "/var/folders/by/kltjc8yd0yz_7_wrtrzhrm9m0000gn/T/ipykernel_48166/2499845005.py:31: FutureWarning: Not prepending group keys to the result index of transform-like apply. In the future, the group keys will be included in the index, regardless of whether the applied function returns a like-indexed object.\n",
      "To preserve the previous behavior, use\n",
      "\n",
      "\t>>> .groupby(..., group_keys=False)\n",
      "\n",
      "To adopt the future behavior and silence this warning, use \n",
      "\n",
      "\t>>> .groupby(..., group_keys=True)\n",
      "  .apply(lambda x: x.rolling(i, min_periods=1).sum())\n",
      "/var/folders/by/kltjc8yd0yz_7_wrtrzhrm9m0000gn/T/ipykernel_48166/2499845005.py:31: FutureWarning: Not prepending group keys to the result index of transform-like apply. In the future, the group keys will be included in the index, regardless of whether the applied function returns a like-indexed object.\n",
      "To preserve the previous behavior, use\n",
      "\n",
      "\t>>> .groupby(..., group_keys=False)\n",
      "\n",
      "To adopt the future behavior and silence this warning, use \n",
      "\n",
      "\t>>> .groupby(..., group_keys=True)\n",
      "  .apply(lambda x: x.rolling(i, min_periods=1).sum())\n",
      "/var/folders/by/kltjc8yd0yz_7_wrtrzhrm9m0000gn/T/ipykernel_48166/2499845005.py:31: FutureWarning: Not prepending group keys to the result index of transform-like apply. In the future, the group keys will be included in the index, regardless of whether the applied function returns a like-indexed object.\n",
      "To preserve the previous behavior, use\n",
      "\n",
      "\t>>> .groupby(..., group_keys=False)\n",
      "\n",
      "To adopt the future behavior and silence this warning, use \n",
      "\n",
      "\t>>> .groupby(..., group_keys=True)\n",
      "  .apply(lambda x: x.rolling(i, min_periods=1).sum())\n"
     ]
    },
    {
     "data": {
      "application/vnd.plotly.v1+json": {
       "config": {
        "plotlyServerURL": "https://plot.ly"
       },
       "data": [
        {
         "branchvalues": "total",
         "customdata": [
          [
           -3000.271450404967,
           -1
          ],
          [
           -227912.5434404309,
           -1
          ],
          [
           216753.98687000014,
           1
          ],
          [
           1171240.1121300003,
           1
          ],
          [
           11205865.598559998,
           1
          ],
          [
           -2707898.534272882,
           -1
          ],
          [
           -2536549.0618943204,
           -1
          ],
          [
           -288716060.5956894,
           -1
          ],
          [
           -15971252.414181808,
           -1
          ],
          [
           -1450953.693938364,
           -1
          ],
          [
           4156020.9693163815,
           1
          ],
          [
           100443118.48385,
           1
          ],
          [
           -104204.8711551093,
           -1
          ],
          [
           -8316329.044248313,
           -1
          ],
          [
           18513732.714845616,
           1
          ],
          [
           35345.066666045175,
           1
          ],
          [
           -203616.18536533465,
           -1
          ],
          [
           16172398.260140002,
           1
          ],
          [
           61541.76405999996,
           1
          ],
          [
           60983664.977129996,
           1
          ],
          [
           444697.97097,
           1
          ],
          [
           -7542283.519191292,
           -1
          ],
          [
           -2332272.74354688,
           -1
          ],
          [
           -1856565.4588438056,
           -1
          ],
          [
           803057.6165406371,
           1
          ],
          [
           9184.168009870964,
           1
          ],
          [
           30017.031114306967,
           1
          ],
          [
           2019402.633662948,
           1
          ],
          [
           63964.65482475185,
           1
          ],
          [
           158503.52498525789,
           1
          ],
          [
           171274.151797762,
           1
          ],
          [
           16987.654536438255,
           1
          ],
          [
           102467.89498518984,
           1
          ],
          [
           19472.56348736002,
           1
          ],
          [
           295583.0928171567,
           1
          ],
          [
           37307.13444667186,
           1
          ],
          [
           -1044239.7206162903,
           -1
          ],
          [
           2463342.9049198106,
           1
          ],
          [
           -8265491.109072688,
           -1
          ],
          [
           -1436.2770531833642,
           -1
          ],
          [
           -125054.73378625646,
           -1
          ],
          [
           732797.61185,
           1
          ],
          [
           160284.0950177022,
           1
          ],
          [
           41055836.46766586,
           1
          ],
          [
           75092532.15856,
           1
          ],
          [
           -36178.86491963838,
           -1
          ],
          [
           210756.97511903834,
           1
          ],
          [
           -33356.02500406203,
           -1
          ],
          [
           -343679.68417102436,
           -1
          ],
          [
           -3190.3551028301126,
           -1
          ],
          [
           983.9655445828832,
           1
          ],
          [
           -4745,
           -1
          ],
          [
           -2984.4432743659036,
           -1
          ],
          [
           -6631.552714824067,
           -1
          ],
          [
           -4399.371956471853,
           -1
          ],
          [
           -56068730.66773094,
           -1
          ],
          [
           -982382.3691131775,
           -1
          ],
          [
           -17401.54069404704,
           -1
          ],
          [
           2934845.026530972,
           1
          ],
          [
           23190.854114569014,
           1
          ],
          [
           17922.277922016176,
           1
          ],
          [
           202749.87241121635,
           1
          ],
          [
           -246170.70731790533,
           -1
          ],
          [
           4302.908994659785,
           1
          ],
          [
           -4441.946674519042,
           -1
          ],
          [
           -2513.332716956314,
           -1
          ],
          [
           -69475.06738442843,
           -1
          ],
          [
           1450.9865310648936,
           1
          ],
          [
           2384965.1809599996,
           1
          ],
          [
           32508.73820999998,
           1
          ],
          [
           2268259.5589499995,
           1
          ],
          [
           882816.8267000006,
           1
          ],
          [
           3230633.0904099997,
           1
          ],
          [
           5417968.5098527465,
           1
          ],
          [
           -2381704.504676048,
           -1
          ],
          [
           -13640459.205373056,
           -1
          ],
          [
           4794590.6013410585,
           1
          ],
          [
           -311057.8685482496,
           -1
          ],
          [
           71871.15435400867,
           1
          ],
          [
           -594708.1666146433,
           -1
          ],
          [
           623558.0831499998,
           1
          ],
          [
           6356856.91657,
           1
          ],
          [
           3236122.168010002,
           1
          ],
          [
           -20635708.778364778,
           -1
          ],
          [
           -526926.5554304419,
           -1
          ],
          [
           1025970.7227274147,
           1
          ],
          [
           3616.0342700000574,
           1
          ],
          [
           64477.60605,
           1
          ],
          [
           4279290.753420003,
           1
          ],
          [
           2281.845650000001,
           1
          ],
          [
           8533.62052,
           1
          ],
          [
           279891.26978,
           1
          ],
          [
           -47.43924000000001,
           -1
          ],
          [
           74413.5597499999,
           1
          ],
          [
           8755.384449999998,
           1
          ],
          [
           178607.03908000002,
           1
          ],
          [
           5566.43652,
           1
          ],
          [
           11340.136989999999,
           1
          ],
          [
           5298.526100000017,
           1
          ],
          [
           55371.264200000005,
           1
          ],
          [
           1095778.15741,
           1
          ],
          [
           649.4313900000016,
           1
          ],
          [
           72.3436300000003,
           1
          ],
          [
           735.2161600000218,
           1
          ],
          [
           -1095488.4536000006,
           -1
          ],
          [
           1530153.0459600003,
           1
          ],
          [
           7274563.231279999,
           1
          ],
          [
           2384813.945934494,
           1
          ],
          [
           -22759.850962233362,
           -1
          ],
          [
           -42686747.942156136,
           -1
          ],
          [
           -53576.01425671702,
           -1
          ],
          [
           8994.78944000043,
           1
          ],
          [
           7993412.628649679,
           1
          ],
          [
           -3088241.4387399983,
           -1
          ],
          [
           6751.394320458627,
           1
          ],
          [
           132298.62,
           1
          ],
          [
           16657875.620000005,
           1
          ],
          [
           640.1600000000003,
           1
          ],
          [
           113.15999999999997,
           1
          ],
          [
           -87833.31283536945,
           -1
          ],
          [
           1389339.4099999983,
           1
          ],
          [
           15110892.754980002,
           1
          ],
          [
           232374541.83860993,
           1
          ],
          [
           47413089.41499001,
           1
          ],
          [
           -914318.6615960567,
           -1
          ],
          [
           -3606321.0387689983,
           -1
          ],
          [
           -1283690.2891988999,
           -1
          ],
          [
           7121723.366070002,
           1
          ],
          [
           39129.49243000022,
           1
          ],
          [
           1803515.3238500003,
           1
          ],
          [
           6508795.923969999,
           1
          ],
          [
           8652.960860000007,
           1
          ],
          [
           924296.7735599997,
           1
          ],
          [
           15833656.227280002,
           1
          ],
          [
           11566245.488259997,
           1
          ],
          [
           121925.89899000002,
           1
          ],
          [
           -3068.0176900000006,
           -1
          ],
          [
           3716.1382999999987,
           1
          ],
          [
           -781027.6032399996,
           -1
          ],
          [
           704093.2479200002,
           1
          ],
          [
           4231295.44363,
           1
          ],
          [
           -1687379.3314299998,
           -1
          ],
          [
           15345.94915999999,
           1
          ],
          [
           14935912.011349998,
           1
          ],
          [
           12149720.868390001,
           1
          ],
          [
           16042046.817063797,
           1
          ],
          [
           8113758.15087528,
           1
          ],
          [
           -4091074.2909118505,
           -1
          ],
          [
           -315826.3106040598,
           -1
          ],
          [
           -503800.00327932683,
           -1
          ],
          [
           38215329.099586815,
           1
          ],
          [
           5904335.859947252,
           1
          ],
          [
           9774302.188683752,
           1
          ],
          [
           -13348.227919033581,
           -1
          ],
          [
           -167374.2857985081,
           -1
          ],
          [
           -362031.29076766444,
           -1
          ],
          [
           -218479.74998743727,
           -1
          ],
          [
           -33495.96144865043,
           -1
          ],
          [
           -26230146.19453086,
           -1
          ],
          [
           15690.310889041386,
           1
          ],
          [
           -28632532.204252873,
           -1
          ],
          [
           9614791.410713628,
           1
          ],
          [
           -1067508.064820001,
           -1
          ],
          [
           -282535.98573999945,
           -1
          ],
          [
           7668.511869999995,
           1
          ],
          [
           -99196.67480941831,
           -1
          ],
          [
           -1153.498523014577,
           -1
          ],
          [
           5388658.699369683,
           1
          ],
          [
           446.03987145320514,
           1
          ],
          [
           -1.0908597513475864,
           -1
          ],
          [
           1831242.4874099996,
           1
          ],
          [
           -31611.022820000006,
           -1
          ],
          [
           2123084.4954400007,
           1
          ],
          [
           62133852.26999998,
           1
          ],
          [
           4960732.6205330165,
           1
          ],
          [
           66874197.628960006,
           1
          ],
          [
           32508486.659509994,
           1
          ],
          [
           -756568.3694236132,
           -1
          ],
          [
           -1566843.7085100003,
           -1
          ],
          [
           233235.76196000376,
           1
          ],
          [
           200747.13911999995,
           1
          ],
          [
           -972001.3787500001,
           -1
          ],
          [
           15463.827340000003,
           1
          ],
          [
           -0.27022999999999797,
           -1
          ],
          [
           17392641.329559997,
           1
          ],
          [
           755484.35408,
           1
          ],
          [
           115.22830999999998,
           1
          ],
          [
           -0.7520500000000538,
           -1
          ],
          [
           174383.74086,
           1
          ],
          [
           0.6799000000000001,
           1
          ],
          [
           -0.29014000001848217,
           -1
          ],
          [
           777821.9317999994,
           1
          ],
          [
           4541097.9140800005,
           1
          ],
          [
           1136009.326,
           1
          ],
          [
           0.13024999999999998,
           1
          ],
          [
           -0.44472999999999274,
           -1
          ],
          [
           -4078629.196302384,
           -1
          ],
          [
           4061238.6132599995,
           1
          ],
          [
           6486.69997999999,
           1
          ],
          [
           31976382.201740004,
           1
          ],
          [
           8619680.485950004,
           1
          ],
          [
           5784.178799999994,
           1
          ],
          [
           3614143.7982900003,
           1
          ],
          [
           447326.0794212464,
           1
          ],
          [
           -12543.453746711972,
           -1
          ],
          [
           -315790.90644354816,
           -1
          ],
          [
           -36650.75264407243,
           -1
          ],
          [
           -150867.02130003303,
           -1
          ],
          [
           -47704.21595458289,
           -1
          ],
          [
           96383937.35481875,
           1
          ],
          [
           -2940771.9075734904,
           -1
          ],
          [
           -24695.013612687108,
           -1
          ],
          [
           -116305338.35630803,
           -1
          ],
          [
           42533581.365677774,
           1
          ],
          [
           65183001.691139996,
           1
          ],
          [
           -926604.6222069832,
           -1
          ],
          [
           -31454.879472139408,
           -1
          ],
          [
           16844.041707986868,
           1
          ],
          [
           -659957.0964256821,
           -1
          ],
          [
           -19227.692939733362,
           -1
          ],
          [
           -133711.37795147163,
           -1
          ],
          [
           -382590.88085129985,
           -1
          ],
          [
           -149.69679104813108,
           -1
          ],
          [
           26018.360970716363,
           1
          ],
          [
           -207071.2400110369,
           -1
          ],
          [
           -311646.3379658581,
           -1
          ],
          [
           -1252924.351258256,
           -1
          ],
          [
           159865.898283918,
           1
          ],
          [
           -620381.5740469744,
           -1
          ],
          [
           9006187.367719853,
           1
          ],
          [
           323666449.0028336,
           1
          ],
          [
           -4290.066030592689,
           -1
          ],
          [
           -487130.7444493958,
           -1
          ],
          [
           -2.084469804542443,
           -1
          ],
          [
           -46541.40185198818,
           -1
          ],
          [
           83227.56237963992,
           1
          ],
          [
           1357672.521639772,
           1
          ],
          [
           -177.4829393954651,
           -1
          ],
          [
           16238.161298169576,
           1
          ],
          [
           4545.344403814541,
           1
          ],
          [
           120.49789705274708,
           1
          ],
          [
           -4023.99230736868,
           -1
          ],
          [
           2555409.4002900003,
           1
          ],
          [
           9219802.26520035,
           1
          ],
          [
           58.76100650202272,
           1
          ],
          [
           -3042911.399943915,
           -1
          ],
          [
           21071550.165840182,
           1
          ],
          [
           596067575.9530615,
           1
          ],
          [
           -2287846.250237829,
           -1
          ],
          [
           -446369.17812852823,
           -1
          ],
          [
           -2153079.332580044,
           -1
          ],
          [
           33596154.01791079,
           1
          ],
          [
           2542208.2808244275,
           1
          ],
          [
           5814287.076590272,
           1
          ],
          [
           117539.77354473606,
           1
          ],
          [
           6642592.50996,
           1
          ],
          [
           1634204.4141699988,
           1
          ],
          [
           -4997293.3448631875,
           -1
          ],
          [
           5577.56955,
           1
          ],
          [
           8728649.692289997,
           1
          ],
          [
           82159.61322,
           1
          ],
          [
           65838891.67628002,
           1
          ],
          [
           21664192.88655711,
           1
          ],
          [
           47479.5705,
           1
          ],
          [
           2334191.42372,
           1
          ],
          [
           5613053.73246,
           1
          ],
          [
           41966.064719999995,
           1
          ],
          [
           60719817.1702839,
           1
          ],
          [
           -2058636.9781374563,
           -1
          ],
          [
           2445374.094649471,
           1
          ],
          [
           3993740.7602279373,
           1
          ],
          [
           595975.6106350418,
           1
          ],
          [
           3810042.123006805,
           1
          ],
          [
           -173188.42486433897,
           -1
          ],
          [
           -2445.3237862881842,
           -1
          ],
          [
           -0.29771510948123037,
           -1
          ],
          [
           2108117.7273034994,
           1
          ],
          [
           283575.65085999994,
           1
          ],
          [
           11327913.87791,
           1
          ],
          [
           541506.7128599999,
           1
          ],
          [
           1473846.7286288226,
           1
          ],
          [
           103729.80111999996,
           1
          ],
          [
           1336240.32546,
           1
          ],
          [
           10685771.742770001,
           1
          ],
          [
           127.59999999999997,
           1
          ],
          [
           116.63580000002912,
           1
          ],
          [
           3671567.2753578015,
           1
          ],
          [
           1987944.1163000003,
           1
          ],
          [
           54295.65962999998,
           1
          ],
          [
           11032526.961549997,
           1
          ],
          [
           4597.865730000001,
           1
          ],
          [
           53995.22867000001,
           1
          ],
          [
           2230975.95658,
           1
          ],
          [
           1277166.8904499998,
           1
          ],
          [
           1758.98342,
           1
          ],
          [
           -2661.012759999998,
           -1
          ],
          [
           1.8551099999999998,
           1
          ],
          [
           12507.857389999997,
           1
          ],
          [
           192094.10521000007,
           1
          ],
          [
           -1619217.2281954163,
           -1
          ],
          [
           -728277.405387896,
           -1
          ],
          [
           776274.4650336499,
           1
          ],
          [
           132923.2950825144,
           1
          ],
          [
           -9484590.205341965,
           -1
          ],
          [
           366480.59784609213,
           1
          ],
          [
           1822932.377167996,
           1
          ],
          [
           21408891.642239988,
           1
          ],
          [
           62846.74929046723,
           1
          ],
          [
           24014895.12594926,
           1
          ],
          [
           -3398.48105073434,
           -1
          ],
          [
           -114133.66994101029,
           -1
          ],
          [
           -63820.48671853651,
           -1
          ],
          [
           -3011.1560494529667,
           -1
          ],
          [
           -1343.4230472115505,
           -1
          ],
          [
           3211902.17,
           1
          ],
          [
           249.7485514416776,
           1
          ],
          [
           -133546.5679734736,
           -1
          ],
          [
           -194.9842454898385,
           -1
          ],
          [
           -1356451.1205274283,
           -1
          ],
          [
           -0.000899199899488139,
           -1
          ],
          [
           167.97387903641257,
           1
          ],
          [
           5.17386966623239,
           1
          ],
          [
           -11732.981937453911,
           -1
          ],
          [
           -868441.2441617681,
           -1
          ],
          [
           -393277.0338849791,
           -1
          ],
          [
           -72.73,
           -1
          ],
          [
           0.6348602991677874,
           1
          ],
          [
           -61878.31415925999,
           -1
          ],
          [
           -84.24678060348377,
           -1
          ],
          [
           -32742520.08886,
           -1
          ],
          [
           6315754.38737,
           1
          ],
          [
           748951.5848240538,
           1
          ],
          [
           3918.8161899999996,
           1
          ],
          [
           0.4433600000000001,
           1
          ],
          [
           371885.88428,
           1
          ],
          [
           1791.4059100000002,
           1
          ],
          [
           38965.35694000001,
           1
          ],
          [
           7186899.16273,
           1
          ],
          [
           -0.0008200000000000013,
           -1
          ],
          [
           2.24956,
           1
          ],
          [
           0.6992100000000001,
           1
          ],
          [
           0.0030799999999999994,
           1
          ],
          [
           5.74432,
           1
          ],
          [
           53.412020000000005,
           1
          ],
          [
           -758220.4346133927,
           -1
          ],
          [
           17988075.239910003,
           1
          ],
          [
           357683.5647326298,
           1
          ],
          [
           4196008.82062,
           1
          ],
          [
           -1149979.8684999943,
           -1
          ],
          [
           853.3830300000045,
           1
          ],
          [
           63971710.06489923,
           1
          ],
          [
           102.30481,
           1
          ],
          [
           19.158840000000005,
           1
          ],
          [
           40.19139000000007,
           1
          ],
          [
           164243.51847,
           1
          ],
          [
           21693180.473309994,
           1
          ],
          [
           24.719389999999997,
           1
          ],
          [
           7.3688400000000005,
           1
          ],
          [
           46018.976539999974,
           1
          ],
          [
           6549889.016136019,
           1
          ],
          [
           -822798.5996699994,
           -1
          ],
          [
           14476917.936537426,
           1
          ],
          [
           -1700053.4736966253,
           -1
          ],
          [
           121658.91732694441,
           1
          ],
          [
           20.411007097435768,
           1
          ],
          [
           -100449.39792637504,
           -1
          ],
          [
           6714323.557676509,
           1
          ],
          [
           10153371.00642265,
           1
          ],
          [
           7048199.301865764,
           1
          ],
          [
           15311150.886089996,
           1
          ],
          [
           -40887406.19556599,
           -1
          ],
          [
           289938.1640631662,
           1
          ],
          [
           21725553.465385612,
           1
          ],
          [
           14042670.240492962,
           1
          ],
          [
           18688.68653321783,
           1
          ],
          [
           -14935.504837346936,
           -1
          ],
          [
           1706.4395849653463,
           1
          ],
          [
           3006.7401333661055,
           1
          ],
          [
           836653.9710191713,
           1
          ],
          [
           243168.58781676643,
           1
          ],
          [
           -95717.22273138579,
           -1
          ],
          [
           -1596773.5396416853,
           -1
          ],
          [
           -149.25444835512272,
           -1
          ],
          [
           -773425.1380821281,
           -1
          ],
          [
           4.590000000406033,
           1
          ],
          [
           4112.931807152838,
           1
          ],
          [
           33859.338480000006,
           1
          ],
          [
           1601281.8605899997,
           1
          ],
          [
           21934.053789999918,
           1
          ],
          [
           268122.2704967276,
           1
          ],
          [
           -290398.3469468063,
           -1
          ],
          [
           -318007.01426416566,
           -1
          ],
          [
           -1648301.5772398235,
           -1
          ],
          [
           157159.3862456751,
           1
          ],
          [
           112161.04843188374,
           1
          ],
          [
           -95532000.05050452,
           -1
          ],
          [
           117608.24500000017,
           1
          ],
          [
           -2433189.317,
           -1
          ],
          [
           3659362.9006900005,
           1
          ],
          [
           1102126.0638689632,
           1
          ],
          [
           -142072.27843073406,
           -1
          ],
          [
           2110060.8508,
           1
          ],
          [
           2066048.5444864766,
           1
          ],
          [
           822080.001161069,
           1
          ],
          [
           5649001.6982200015,
           1
          ],
          [
           487065.8840900003,
           1
          ],
          [
           22897602.12468,
           1
          ],
          [
           135434.77798999997,
           1
          ],
          [
           -522675.4955899995,
           -1
          ],
          [
           9694.812569999995,
           1
          ],
          [
           982400.7889799997,
           1
          ],
          [
           -1419899.345022595,
           -1
          ],
          [
           -3158325.8351016343,
           -1
          ],
          [
           -1629880.2629267895,
           -1
          ],
          [
           -93712.27416362916,
           -1
          ],
          [
           -238180.89946427284,
           -1
          ],
          [
           4273231.98134,
           1
          ],
          [
           2934523.874674475,
           1
          ],
          [
           -32065.750823247028,
           -1
          ],
          [
           -228038.4111267059,
           -1
          ],
          [
           -0.3276608811746763,
           -1
          ],
          [
           21.49061278282096,
           1
          ],
          [
           703574.8132435343,
           1
          ],
          [
           -120652.29789504627,
           -1
          ],
          [
           44492.3265066236,
           1
          ],
          [
           2178794.37524,
           1
          ],
          [
           244144.07276999997,
           1
          ],
          [
           -25260.08312577811,
           -1
          ],
          [
           -37393.23538876798,
           -1
          ],
          [
           9996756.762536306,
           1
          ],
          [
           -649.2763837392404,
           -1
          ],
          [
           1179968.53027,
           1
          ],
          [
           -42480122.01369326,
           -1
          ],
          [
           2635460.711754931,
           1
          ],
          [
           440146.30316616833,
           1
          ],
          [
           433732944.62559986,
           1
          ],
          [
           -11185.293661139942,
           -1
          ],
          [
           -31074.414092261402,
           -1
          ],
          [
           150053.84722264746,
           1
          ],
          [
           -311214.07609920134,
           -1
          ],
          [
           -255396.12694821134,
           -1
          ],
          [
           -107070.25809999974,
           -1
          ],
          [
           158479.55700999964,
           1
          ],
          [
           76975.10799999908,
           1
          ],
          [
           80469.91692999995,
           1
          ],
          [
           35318239.659298025,
           1
          ],
          [
           21551.001569387212,
           1
          ],
          [
           -1180047.7704183406,
           -1
          ],
          [
           -930693.2010293665,
           -1
          ],
          [
           -1685725.3282423336,
           -1
          ],
          [
           -157508.42005108664,
           -1
          ],
          [
           1711471.2086790001,
           1
          ],
          [
           2344289.1481595077,
           1
          ],
          [
           9672877.143118815,
           1
          ],
          [
           14280375.250962067,
           1
          ],
          [
           6536082.020089999,
           1
          ],
          [
           18132.713693676287,
           1
          ],
          [
           724378083,
           1
          ],
          [
           938074683.0151596,
           1
          ],
          [
           9704073.120606024,
           1
          ],
          [
           5609897.09937,
           1
          ],
          [
           -59283.381039675085,
           -1
          ],
          [
           2194067.2369776755,
           1
          ],
          [
           11721590.020110589,
           1
          ],
          [
           16097687.057850344,
           1
          ],
          [
           10708717.478333298,
           1
          ],
          [
           15910420.961758273,
           1
          ],
          [
           1546534.7015071448,
           1
          ],
          [
           -14460815.860565891,
           -1
          ],
          [
           -85420876.87438025,
           -1
          ],
          [
           85666.83980485264,
           1
          ],
          [
           6802387.059999999,
           1
          ],
          [
           6234282.9210100025,
           1
          ],
          [
           5461865.838510682,
           1
          ],
          [
           -257074.7807480722,
           -1
          ],
          [
           -732573.8859385388,
           -1
          ],
          [
           -221066.62824711643,
           -1
          ],
          [
           -92382.0426110314,
           -1
          ],
          [
           1522730.795097457,
           1
          ],
          [
           -2512411.302710219,
           -1
          ],
          [
           -115070.80321115832,
           -1
          ],
          [
           35594.32616447581,
           1
          ],
          [
           657.2968773322497,
           1
          ],
          [
           9709594.501687767,
           1
          ],
          [
           762467.4680603518,
           1
          ],
          [
           0.5437434688838725,
           1
          ],
          [
           5641869.020337848,
           1
          ],
          [
           -223766.37775665417,
           -1
          ],
          [
           -0.07158560154410146,
           -1
          ],
          [
           545473.107416555,
           1
          ],
          [
           15152981.327947814,
           1
          ],
          [
           8275819.288501834,
           1
          ],
          [
           367059554.47142553,
           1
          ],
          [
           1521032.9548418082,
           1
          ],
          [
           -770289.5739530149,
           -1
          ],
          [
           1408170.6293360079,
           1
          ],
          [
           -1739.2827541541278,
           -1
          ],
          [
           -406121.5625322608,
           -1
          ],
          [
           4294382.299585685,
           1
          ],
          [
           260699.47742728796,
           1
          ],
          [
           4775309.731799999,
           1
          ],
          [
           3049793.359363441,
           1
          ],
          [
           238652.64871505662,
           1
          ],
          [
           1341903.721740779,
           1
          ],
          [
           -5910554.763899248,
           -1
          ],
          [
           1001456.2572999997,
           1
          ],
          [
           39007719.1739947,
           1
          ],
          [
           4074682.4448550683,
           1
          ],
          [
           -8507784.639645765,
           -1
          ],
          [
           2510995.9941500016,
           1
          ],
          [
           -2056043.782714406,
           -1
          ],
          [
           629480.8935509177,
           1
          ],
          [
           -43862575.75579595,
           -1
          ],
          [
           10477335.119647251,
           1
          ],
          [
           -10130.44486666962,
           -1
          ],
          [
           1931447.8746593695,
           1
          ],
          [
           -4757022.370793924,
           -1
          ],
          [
           179392.52980053078,
           1
          ],
          [
           34330102.54388617,
           1
          ],
          [
           6694683.207259998,
           1
          ],
          [
           -4313.914480001862,
           -1
          ],
          [
           -6461911.448574192,
           -1
          ],
          [
           17061.171191071473,
           1
          ],
          [
           -12129345.063638274,
           -1
          ],
          [
           -1841439.218954745,
           -1
          ],
          [
           1281107.1452100016,
           1
          ],
          [
           -1524420.0202499982,
           -1
          ],
          [
           -301102.3319709705,
           -1
          ],
          [
           -178913.39782246875,
           -1
          ],
          [
           -214791.1908673718,
           -1
          ],
          [
           33633.89646484905,
           1
          ],
          [
           13472.38268213812,
           1
          ],
          [
           222.94408903229203,
           1
          ],
          [
           2771707.4565699995,
           1
          ],
          [
           -635770.6590017364,
           -1
          ],
          [
           -244550.12448814325,
           -1
          ],
          [
           -159264.7664427755,
           -1
          ],
          [
           2503035.0622543534,
           1
          ],
          [
           3337253.92151,
           1
          ],
          [
           -6685040.362470001,
           -1
          ],
          [
           -366142.0030344491,
           -1
          ],
          [
           -1345630.138500005,
           -1
          ],
          [
           -585784.4137309849,
           -1
          ],
          [
           198215,
           1
          ],
          [
           1364448,
           1
          ],
          [
           83872,
           1
          ],
          [
           268011,
           1
          ],
          [
           354,
           1
          ],
          [
           283415,
           1
          ],
          [
           115811,
           1
          ],
          [
           49,
           1
          ],
          [
           -6028204.925684572,
           -1
          ],
          [
           15148228.845960984,
           1
          ],
          [
           18117756.192803025,
           1
          ],
          [
           -7859222.569705914,
           -1
          ],
          [
           -1647574.2220617752,
           -1
          ],
          [
           -144429.81695534365,
           -1
          ],
          [
           2068701.5885899998,
           1
          ],
          [
           -154305.10026999994,
           -1
          ],
          [
           1168.8853199999994,
           1
          ],
          [
           -27596392.73306,
           -1
          ],
          [
           2236.0685200000007,
           1
          ],
          [
           -101008983.15435,
           -1
          ],
          [
           -4800392.722460002,
           -1
          ],
          [
           -1018444.4672600001,
           -1
          ],
          [
           -1943749.5743600002,
           -1
          ],
          [
           -204422906.42837,
           -1
          ],
          [
           -1958.4870900000024,
           -1
          ],
          [
           -40725.277270000006,
           -1
          ],
          [
           -130993093.98877007,
           -1
          ],
          [
           -103639.54957,
           -1
          ],
          [
           34687.8823,
           1
          ],
          [
           -406049.81698,
           -1
          ],
          [
           522052.7944700001,
           1
          ],
          [
           -1983648.7251900001,
           -1
          ],
          [
           -183402.24907000025,
           -1
          ],
          [
           -634538.3151400001,
           -1
          ],
          [
           -4023280.9036299996,
           -1
          ],
          [
           -10773253.872780003,
           -1
          ],
          [
           31827603.6135,
           1
          ],
          [
           -150091.48614000005,
           -1
          ],
          [
           -32377329.761090003,
           -1
          ],
          [
           -27556741.09415,
           -1
          ],
          [
           1186.4590800000005,
           1
          ],
          [
           3397.4018799999976,
           1
          ],
          [
           5801.904349999968,
           1
          ],
          [
           11247.975909999921,
           1
          ],
          [
           -2963915.2085800003,
           -1
          ],
          [
           -1826496.3329199997,
           -1
          ],
          [
           9261024.300302692,
           1
          ],
          [
           -672362.8571584916,
           -1
          ],
          [
           272302.3762675795,
           1
          ],
          [
           -85251.92074001263,
           -1
          ],
          [
           135364.4618609072,
           1
          ],
          [
           -1080864.5594689432,
           -1
          ],
          [
           1703203.69583299,
           1
          ],
          [
           -7132072.431222935,
           -1
          ],
          [
           -4168.03410598226,
           -1
          ],
          [
           25275.249297315324,
           1
          ],
          [
           1504867.3692100001,
           1
          ],
          [
           1185605.7453190906,
           1
          ],
          [
           228038.7411406995,
           1
          ],
          [
           -657906.7061400004,
           -1
          ],
          [
           -64414.325428443146,
           -1
          ],
          [
           -4923170.355485277,
           -1
          ],
          [
           -2458629.108691203,
           -1
          ],
          [
           85913.73999999999,
           1
          ],
          [
           2498.8700000000026,
           1
          ],
          [
           140373.53000000003,
           1
          ],
          [
           188076.2000000002,
           1
          ],
          [
           -9738.720000000001,
           -1
          ],
          [
           52.05000000000109,
           1
          ],
          [
           5891.830000000002,
           1
          ],
          [
           17240.840000000084,
           1
          ],
          [
           -24661.350000000035,
           -1
          ],
          [
           4212.950000000004,
           1
          ],
          [
           7715.090000000004,
           1
          ],
          [
           90259.08000000002,
           1
          ],
          [
           89265.78000000003,
           1
          ],
          [
           -88.00999999999476,
           -1
          ],
          [
           32288.791615046444,
           1
          ],
          [
           560476.7462686449,
           1
          ],
          [
           -2283620.442305394,
           -1
          ],
          [
           -2913145.7536663446,
           -1
          ],
          [
           150718.5398829128,
           1
          ],
          [
           1270288.9009299874,
           1
          ],
          [
           238871.20999999996,
           1
          ],
          [
           -109456.9861605184,
           -1
          ],
          [
           -3726190.5795235815,
           -1
          ],
          [
           20286.245370129407,
           1
          ],
          [
           -624619.3371749524,
           -1
          ],
          [
           -189869.21537999995,
           -1
          ],
          [
           26.08211,
           1
          ],
          [
           9948622.429590017,
           1
          ],
          [
           -463174.13758,
           -1
          ],
          [
           250556.8570699999,
           1
          ],
          [
           142068.44496,
           1
          ],
          [
           2014060.4589500017,
           1
          ],
          [
           9660.520399999921,
           1
          ],
          [
           837707.8768662156,
           1
          ],
          [
           -871113.9823020964,
           -1
          ],
          [
           416413.3693467226,
           1
          ],
          [
           -100977.90453416161,
           -1
          ],
          [
           52126586.712500006,
           1
          ],
          [
           -6400093.61064907,
           -1
          ],
          [
           -74.55874268470461,
           -1
          ],
          [
           -7797078.346604006,
           -1
          ],
          [
           3396.3448096745196,
           1
          ],
          [
           9164167.62454,
           1
          ],
          [
           8742449.055039998,
           1
          ],
          [
           244123296.11967993,
           1
          ],
          [
           6867397.6555,
           1
          ],
          [
           13721172.944000006,
           1
          ],
          [
           1749936.07448,
           1
          ],
          [
           -1315038.3123595526,
           -1
          ],
          [
           10222252.66074,
           1
          ],
          [
           847156.34136,
           1
          ],
          [
           664365.2468100002,
           1
          ],
          [
           -322020.68357,
           -1
          ],
          [
           -39880.857949999976,
           -1
          ],
          [
           395367.3881199993,
           1
          ],
          [
           1455920.56549,
           1
          ],
          [
           10285178.252740003,
           1
          ],
          [
           147667.7613169615,
           1
          ],
          [
           -422955.18324453157,
           -1
          ],
          [
           -21938.98503741936,
           -1
          ],
          [
           372618.4088999992,
           1
          ],
          [
           539469.9913745036,
           1
          ],
          [
           5990829.603199022,
           1
          ],
          [
           -435578.22864794126,
           -1
          ],
          [
           101322.61382000003,
           1
          ],
          [
           -66.380189987427,
           -1
          ],
          [
           -459.1364199999967,
           -1
          ],
          [
           1843004.6359100007,
           1
          ],
          [
           -0.00021000000000000185,
           -1
          ],
          [
           3582.33982999997,
           1
          ],
          [
           1942.3686099999995,
           1
          ],
          [
           11.308559999999943,
           1
          ],
          [
           111.11383000000001,
           1
          ],
          [
           1195302.43383,
           1
          ],
          [
           -69904.03470999995,
           -1
          ],
          [
           4801871.224762787,
           1
          ],
          [
           221185.07473000002,
           1
          ],
          [
           22474466.37202999,
           1
          ],
          [
           12189.97292,
           1
          ],
          [
           2223491.20321,
           1
          ],
          [
           1299.2991500000007,
           1
          ],
          [
           164848.12053999997,
           1
          ],
          [
           52458.45462402169,
           1
          ],
          [
           3379917.2321737506,
           1
          ],
          [
           9174366.50270717,
           1
          ],
          [
           12369918.3159,
           1
          ],
          [
           8982.341290000004,
           1
          ],
          [
           3787.5393300000014,
           1
          ],
          [
           4104650.867560001,
           1
          ],
          [
           3351904.1106100003,
           1
          ],
          [
           1970671.8717399994,
           1
          ],
          [
           695375.7548199999,
           1
          ],
          [
           32849.92762999982,
           1
          ],
          [
           12928.5055,
           1
          ],
          [
           4166917.2724600006,
           1
          ],
          [
           22605.160000000033,
           1
          ],
          [
           -1302.0800000000017,
           -1
          ],
          [
           136510.94999999998,
           1
          ],
          [
           2507444.4199999943,
           1
          ],
          [
           19311.899999999994,
           1
          ],
          [
           64.5299999999952,
           1
          ],
          [
           44504199.25,
           1
          ],
          [
           -24274.23000000004,
           -1
          ],
          [
           6086097.5,
           1
          ],
          [
           1331.5400000000373,
           1
          ],
          [
           834547.7800000012,
           1
          ],
          [
           103952.29000000027,
           1
          ],
          [
           0.18999999999994088,
           1
          ],
          [
           1356814.0099999998,
           1
          ],
          [
           89516.09000000003,
           1
          ],
          [
           2225.230000010226,
           1
          ],
          [
           1.4500000000000002,
           1
          ],
          [
           -2411.5099999999948,
           -1
          ],
          [
           -11974.907584335826,
           -1
          ],
          [
           -150.46067960660355,
           -1
          ],
          [
           -1951.0330275078788,
           -1
          ],
          [
           67139.82522875429,
           1
          ],
          [
           6025476.1726567065,
           1
          ],
          [
           -332377.00004969887,
           -1
          ],
          [
           968797.6005552469,
           1
          ],
          [
           22833.030000000028,
           1
          ],
          [
           14.310000000000002,
           1
          ],
          [
           91480.73000000004,
           1
          ],
          [
           995.21,
           1
          ],
          [
           724899.6000000001,
           1
          ],
          [
           1517410.3400000222,
           1
          ],
          [
           43123.840000000084,
           1
          ],
          [
           44098583.97,
           1
          ],
          [
           892991.3700000001,
           1
          ],
          [
           23.120000000000346,
           1
          ],
          [
           -53.87000000000262,
           -1
          ],
          [
           241.59999999999997,
           1
          ],
          [
           4463307.949999999,
           1
          ],
          [
           57149.09,
           1
          ],
          [
           875921.1500000004,
           1
          ],
          [
           2793870.7399999984,
           1
          ],
          [
           3845446.040000003,
           1
          ],
          [
           1770.8700000000003,
           1
          ],
          [
           -212037.86805084563,
           -1
          ],
          [
           -295405.8998610559,
           -1
          ],
          [
           -457223.50098153966,
           -1
          ],
          [
           -142655.43084403357,
           -1
          ],
          [
           2011.2217299999966,
           1
          ],
          [
           2067244.2581800008,
           1
          ],
          [
           -875601.7305628096,
           -1
          ],
          [
           -22524.72489080646,
           -1
          ],
          [
           -285418.0788103584,
           -1
          ],
          [
           -595626.377293816,
           -1
          ],
          [
           -758998.9168340196,
           -1
          ],
          [
           -410.92768420438733,
           -1
          ],
          [
           -1095553.1795599195,
           -1
          ],
          [
           11898.522003608214,
           1
          ],
          [
           -2205618.097912111,
           -1
          ],
          [
           -1821277.18397668,
           -1
          ],
          [
           -4790.205532409581,
           -1
          ],
          [
           -14862553.469489938,
           -1
          ],
          [
           12964669.568289995,
           1
          ],
          [
           126289.69605898154,
           1
          ],
          [
           2206102.789946974,
           1
          ],
          [
           576585.1838703724,
           1
          ],
          [
           50528414.08790662,
           1
          ],
          [
           1999536.8934300002,
           1
          ],
          [
           486.84824999999773,
           1
          ],
          [
           -630252.8299700003,
           -1
          ],
          [
           8857504.36563,
           1
          ],
          [
           42241.82579999976,
           1
          ],
          [
           2955936.364242135,
           1
          ],
          [
           65549.50692719698,
           1
          ],
          [
           119596.91497891588,
           1
          ],
          [
           3591564.6900246353,
           1
          ],
          [
           3569891.898520915,
           1
          ],
          [
           255216.3409838255,
           1
          ],
          [
           -841851.5197822865,
           -1
          ],
          [
           -7123546.011150067,
           -1
          ],
          [
           -4683.703830268108,
           -1
          ],
          [
           -256.9429785401251,
           -1
          ],
          [
           777.8622845465377,
           1
          ],
          [
           15188558.688422507,
           1
          ],
          [
           -475168.21165641973,
           -1
          ],
          [
           -6.1815905034566185,
           -1
          ],
          [
           -7755.687152435298,
           -1
          ],
          [
           -5559.977611748851,
           -1
          ],
          [
           6024.73819788858,
           1
          ],
          [
           -260096.81167131706,
           -1
          ],
          [
           -74618.04454540812,
           -1
          ],
          [
           -47022.576074338,
           -1
          ],
          [
           -2835364.022603927,
           -1
          ],
          [
           -106738.77992383618,
           -1
          ],
          [
           -152935.90179979752,
           -1
          ],
          [
           -12429.814110448648,
           -1
          ],
          [
           259786.28000004523,
           1
          ],
          [
           39133.04656178474,
           1
          ],
          [
           -661354.7584779653,
           -1
          ],
          [
           -2035161.6728506554,
           -1
          ],
          [
           -2432983.367452778,
           -1
          ],
          [
           113130.60435756648,
           1
          ],
          [
           109799.09429283612,
           1
          ],
          [
           -385685.2740842042,
           -1
          ],
          [
           20135.920957494465,
           1
          ],
          [
           -173041.08509065388,
           -1
          ],
          [
           -5637403.796474342,
           -1
          ],
          [
           -3698.6349511786702,
           -1
          ],
          [
           2293313.652888819,
           1
          ],
          [
           6711.395836445975,
           1
          ],
          [
           101930.08228099578,
           1
          ],
          [
           19973.094308392017,
           1
          ],
          [
           -100.25061422884295,
           -1
          ],
          [
           6310.633288959376,
           1
          ],
          [
           -2.5168115008144376,
           -1
          ],
          [
           56661273.59208603,
           1
          ],
          [
           -61332.753656055385,
           -1
          ],
          [
           4177263.525307835,
           1
          ],
          [
           -11896230.272810876,
           -1
          ],
          [
           -148686.67015938484,
           -1
          ],
          [
           17167770.537857085,
           1
          ],
          [
           17167770.537857085,
           1
          ],
          [
           267548.39622,
           1
          ],
          [
           629810.0697499998,
           1
          ],
          [
           -19.95670999999993,
           -1
          ],
          [
           2.41776999999999,
           1
          ],
          [
           0.08370999999839768,
           1
          ],
          [
           -452111.38792,
           -1
          ],
          [
           62.70904564047495,
           1
          ],
          [
           0.0005395566895624626,
           1
          ],
          [
           11119284.0814,
           1
          ],
          [
           4477735.0513700005,
           1
          ],
          [
           -2251669.6033969033,
           -1
          ],
          [
           22.815784798152748,
           1
          ],
          [
           -2700952.5260785897,
           -1
          ],
          [
           1236290.0493244124,
           1
          ],
          [
           10993148.725760002,
           1
          ],
          [
           -1371395.555952836,
           -1
          ],
          [
           3386606.4562682053,
           1
          ],
          [
           1249751.3287300006,
           1
          ],
          [
           19109.714139999996,
           1
          ],
          [
           305.82603873593285,
           1
          ],
          [
           679.0183155979472,
           1
          ],
          [
           -3401871.1823699996,
           -1
          ],
          [
           -2157061.176522237,
           -1
          ],
          [
           15349042.043266073,
           1
          ],
          [
           1008544.6451580211,
           1
          ],
          [
           1939596.3519556937,
           1
          ],
          [
           2904.130112059588,
           1
          ],
          [
           15964.214284957783,
           1
          ],
          [
           -3128.3017617330493,
           -1
          ],
          [
           -661428.4811900157,
           -1
          ],
          [
           -1084.7841652954296,
           -1
          ],
          [
           5804715.490055663,
           1
          ],
          [
           5065053.636348843,
           1
          ],
          [
           2993514.8600000013,
           1
          ],
          [
           -537508.7623081673,
           -1
          ],
          [
           2032623.32027,
           1
          ],
          [
           -1488146.5044373677,
           -1
          ],
          [
           35743939.93811165,
           1
          ],
          [
           -835204.5890279219,
           -1
          ],
          [
           5001921.117615495,
           1
          ],
          [
           7641175.9799999995,
           1
          ],
          [
           -151773.26429804685,
           -1
          ],
          [
           -1358653.600336928,
           -1
          ],
          [
           1624530,
           1
          ],
          [
           -151786.07936713455,
           -1
          ],
          [
           -1775.7095999999883,
           -1
          ],
          [
           -112694.68980000007,
           -1
          ],
          [
           178.5553895632878,
           1
          ],
          [
           8404.504400000002,
           1
          ],
          [
           3728.5110000000022,
           1
          ],
          [
           15431.873599999986,
           1
          ],
          [
           32188.73001761183,
           1
          ],
          [
           1110155.3047132385,
           1
          ],
          [
           -650154.2450600001,
           -1
          ],
          [
           127.82717000000002,
           1
          ],
          [
           44848602.45962001,
           1
          ],
          [
           -434445.3174900003,
           -1
          ],
          [
           3774299.921687328,
           1
          ],
          [
           281.16109432010114,
           1
          ],
          [
           -13726003.654050639,
           -1
          ],
          [
           -8818682.221916301,
           -1
          ],
          [
           20183637.62106027,
           1
          ],
          [
           13498317.406352928,
           1
          ],
          [
           -5796124.581308866,
           -1
          ],
          [
           2253817.234127648,
           1
          ],
          [
           8351727.803562142,
           1
          ],
          [
           6608541.760217615,
           1
          ],
          [
           1991189.7399400007,
           1
          ],
          [
           -2891861.3496900015,
           -1
          ],
          [
           -2358497.02707,
           -1
          ],
          [
           2163565.8253954947,
           1
          ],
          [
           -742589.493314212,
           -1
          ],
          [
           5088358.715599999,
           1
          ],
          [
           -116555.53481999954,
           -1
          ],
          [
           -107400658.97647053,
           -1
          ],
          [
           -943910.449949938,
           -1
          ],
          [
           30813207.99180001,
           1
          ],
          [
           -235151.95534089315,
           -1
          ],
          [
           -19461.79819907223,
           -1
          ],
          [
           -284.16573403211027,
           -1
          ],
          [
           -12734483.316939004,
           -1
          ],
          [
           100345.61046570717,
           1
          ],
          [
           823.6632439227727,
           1
          ],
          [
           -68512.89716673807,
           -1
          ],
          [
           -10.991119590931271,
           -1
          ],
          [
           45110069.697569996,
           1
          ],
          [
           258972.42988999997,
           1
          ],
          [
           -369511.53755999997,
           -1
          ],
          [
           126485.36799000006,
           1
          ],
          [
           -133406.15950000007,
           -1
          ],
          [
           19553.629330000003,
           1
          ],
          [
           0.52766,
           1
          ],
          [
           30522.43775000004,
           1
          ],
          [
           96623182.21952003,
           1
          ],
          [
           1104824.45704,
           1
          ],
          [
           11459.095180000004,
           1
          ],
          [
           370252.44056000095,
           1
          ],
          [
           72.69453000000203,
           1
          ],
          [
           36610.65741000004,
           1
          ],
          [
           5737.418020000001,
           1
          ],
          [
           51.87453999999951,
           1
          ],
          [
           7460496.714370001,
           1
          ],
          [
           32843.37084999999,
           1
          ],
          [
           966669.7148500001,
           1
          ],
          [
           2235831.3732199995,
           1
          ],
          [
           29866.922580000013,
           1
          ],
          [
           351823.55519999994,
           1
          ],
          [
           1665476.576509999,
           1
          ],
          [
           2148740.196998663,
           1
          ],
          [
           3200710.4304554192,
           1
          ],
          [
           783.9839637183596,
           1
          ],
          [
           2484456.292643247,
           1
          ],
          [
           3106716.512472122,
           1
          ],
          [
           -3193.7441269304736,
           -1
          ],
          [
           -2183.0367846841386,
           -1
          ],
          [
           2448329.489275407,
           1
          ],
          [
           1867146.4214646497,
           1
          ],
          [
           -193108.29262774304,
           -1
          ],
          [
           -16.396003566170545,
           -1
          ],
          [
           -308302.81897555257,
           -1
          ],
          [
           -8.50017842751738e-7,
           -1
          ],
          [
           -948.5163696822133,
           -1
          ],
          [
           473572.66170073446,
           1
          ],
          [
           1365862.727677722,
           1
          ],
          [
           -290.4897832098987,
           -1
          ],
          [
           2156228.4023663164,
           1
          ],
          [
           -14734512.015166685,
           -1
          ],
          [
           9533138.114243837,
           1
          ],
          [
           -1496862.917037239,
           -1
          ],
          [
           319891.09887,
           1
          ],
          [
           7540841.337710001,
           1
          ],
          [
           16415456.800450005,
           1
          ],
          [
           12539.605110000004,
           1
          ],
          [
           -2285140.0748792733,
           -1
          ],
          [
           -218764.4743310141,
           -1
          ],
          [
           -2874545.0693083373,
           -1
          ],
          [
           -2194.1021717222106,
           -1
          ],
          [
           -373.55586000008725,
           -1
          ],
          [
           396723.68400000007,
           1
          ],
          [
           6177.863699999885,
           1
          ],
          [
           23012698.21773,
           1
          ],
          [
           382133.98161135876,
           1
          ],
          [
           -27327916.829914704,
           -1
          ],
          [
           125154835.41233999,
           1
          ],
          [
           -11066.943983697776,
           -1
          ],
          [
           -48892.868257568945,
           -1
          ],
          [
           -24.451299998929805,
           -1
          ],
          [
           -27375.761642352896,
           -1
          ],
          [
           1178472.6875863639,
           1
          ],
          [
           -726885.933171207,
           -1
          ],
          [
           -70537.7584760082,
           -1
          ],
          [
           278684.53072999977,
           1
          ],
          [
           8063628.235060003,
           1
          ],
          [
           37739.09613000043,
           1
          ],
          [
           84452.40042619301,
           1
          ],
          [
           -0.07162000000000002,
           -1
          ],
          [
           -10501637.207470002,
           -1
          ],
          [
           -3157546.8860800005,
           -1
          ],
          [
           -2299.30669,
           -1
          ],
          [
           -1357115.3324799999,
           -1
          ],
          [
           -3624864.799823654,
           -1
          ],
          [
           6098531.596107007,
           1
          ],
          [
           1514.3220000000106,
           1
          ],
          [
           209.80000000000365,
           1
          ],
          [
           572941.7760000002,
           1
          ],
          [
           9487310.93590002,
           1
          ],
          [
           168.25799999999813,
           1
          ],
          [
           -11303,
           -1
          ],
          [
           -99.91789999999999,
           -1
          ],
          [
           10898252.79573,
           1
          ],
          [
           286204.61213999987,
           1
          ],
          [
           -3241967.581371563,
           -1
          ],
          [
           -2062.7399999999993,
           -1
          ],
          [
           -35672.13000000064,
           -1
          ],
          [
           16946390.95211,
           1
          ],
          [
           -1262276.009428731,
           -1
          ],
          [
           -1130721.1672503673,
           -1
          ],
          [
           112442.75092786904,
           1
          ],
          [
           -3070227.182570001,
           -1
          ],
          [
           1063046.60991,
           1
          ],
          [
           -461375.1544100009,
           -1
          ],
          [
           -120.13250000000153,
           -1
          ],
          [
           20095321.604990005,
           1
          ],
          [
           34661393.20792,
           1
          ],
          [
           797444.3985900003,
           1
          ],
          [
           15.166310000000067,
           1
          ],
          [
           -100.94678047072152,
           -1
          ],
          [
           -9046.283741489395,
           -1
          ],
          [
           -0.00494408841214976,
           -1
          ],
          [
           366.0309330624038,
           1
          ],
          [
           -0.011837299850632628,
           -1
          ],
          [
           47440.84937485105,
           1
          ],
          [
           -925.918377943695,
           -1
          ],
          [
           47332.783713235476,
           1
          ],
          [
           3.2207099999999893,
           1
          ],
          [
           -204.66061464352197,
           -1
          ],
          [
           244273.65446029996,
           1
          ],
          [
           951539.5860900003,
           1
          ],
          [
           251146192.74805987,
           1
          ],
          [
           36281649.07266,
           1
          ],
          [
           175683.76397999993,
           1
          ],
          [
           297797645.24265957,
           1
          ],
          [
           32514686.99593,
           1
          ],
          [
           17702776.588070005,
           1
          ],
          [
           121279.86698061573,
           1
          ],
          [
           10.992758053759895,
           1
          ],
          [
           1609524.7397218584,
           1
          ],
          [
           6133398.654410223,
           1
          ],
          [
           -187542.0547654187,
           -1
          ],
          [
           -8588675.464863915,
           -1
          ],
          [
           -2155646.420411865,
           -1
          ],
          [
           666397.302170001,
           1
          ],
          [
           3396795.57733,
           1
          ],
          [
           12898827.136233173,
           1
          ],
          [
           100269997.37424,
           1
          ],
          [
           35620835.28456013,
           1
          ],
          [
           -51171.66630022349,
           -1
          ],
          [
           -811727.3962255649,
           -1
          ],
          [
           -6155.936428329276,
           -1
          ],
          [
           -1943315.041521618,
           -1
          ],
          [
           -7588356.087325135,
           -1
          ],
          [
           -8922629.162377734,
           -1
          ],
          [
           31062863.94071001,
           1
          ],
          [
           2583190.434940003,
           1
          ],
          [
           168419.77598000003,
           1
          ],
          [
           -2387.516109999997,
           -1
          ],
          [
           -1823.3410000000003,
           -1
          ],
          [
           55503.083199999994,
           1
          ],
          [
           14.736219999999996,
           1
          ],
          [
           53167.27152999997,
           1
          ],
          [
           13.32378,
           1
          ],
          [
           2.1164699999999996,
           1
          ],
          [
           893214.3342599999,
           1
          ],
          [
           614.8595599999971,
           1
          ],
          [
           696735.2185800001,
           1
          ],
          [
           -155422401.59762064,
           -1
          ],
          [
           836176.9942736969,
           1
          ],
          [
           1925.1089956832254,
           1
          ],
          [
           60251.03641843955,
           1
          ],
          [
           438660.3508273855,
           1
          ],
          [
           140.64130862625376,
           1
          ],
          [
           -0.000014948989701224491,
           -1
          ],
          [
           3267.934610566702,
           1
          ],
          [
           2737.6212198327166,
           1
          ],
          [
           166962.45057102267,
           1
          ],
          [
           7557.587496853861,
           1
          ],
          [
           -2297947.0696437513,
           -1
          ],
          [
           10987.199826596241,
           1
          ],
          [
           616703.6955399998,
           1
          ],
          [
           -27573.694450000068,
           -1
          ],
          [
           39030.50399,
           1
          ],
          [
           4544285.2569699995,
           1
          ],
          [
           -129254.73816000018,
           -1
          ],
          [
           2841073.283556166,
           1
          ],
          [
           -25797847.38684392,
           -1
          ],
          [
           -23636389.036158696,
           -1
          ],
          [
           -4244644.988194384,
           -1
          ],
          [
           22189904.658006035,
           1
          ],
          [
           -837.5637207314867,
           -1
          ],
          [
           -1048825.5533730197,
           -1
          ],
          [
           -642313.6156546614,
           -1
          ],
          [
           300215.2971089951,
           1
          ],
          [
           222906.08714496915,
           1
          ],
          [
           -893517.4886484195,
           -1
          ],
          [
           499001.60167,
           1
          ],
          [
           176437.29903000034,
           1
          ],
          [
           1845308.74009,
           1
          ],
          [
           172752.22785000002,
           1
          ],
          [
           130241.35450000002,
           1
          ],
          [
           286937.96007000003,
           1
          ],
          [
           568907.9230535151,
           1
          ],
          [
           -2359944.7385213063,
           -1
          ],
          [
           1794289.0845599999,
           1
          ],
          [
           16771654.811700001,
           1
          ],
          [
           4827.819173305867,
           1
          ],
          [
           -27320.898608424854,
           -1
          ],
          [
           2595078.087643676,
           1
          ],
          [
           -57127.705920000124,
           -1
          ],
          [
           72338695.97744,
           1
          ],
          [
           6397018.603629999,
           1
          ],
          [
           -31150.87978999999,
           -1
          ],
          [
           943231.2087000012,
           1
          ],
          [
           118985.36018999992,
           1
          ],
          [
           201803.12449999992,
           1
          ],
          [
           1270088.7576583107,
           1
          ],
          [
           371229.77492,
           1
          ],
          [
           622487.3297300003,
           1
          ],
          [
           -371658.92668415874,
           -1
          ],
          [
           -464896.4857917395,
           -1
          ],
          [
           -16865973.245225836,
           -1
          ],
          [
           1678487.3543099998,
           1
          ],
          [
           303437.44338000007,
           1
          ],
          [
           477216.63682999974,
           1
          ],
          [
           31802719.825769998,
           1
          ],
          [
           "(?)",
           -0.9953860499320252
          ],
          [
           "(?)",
           1
          ],
          [
           "(?)",
           0.38792007822973884
          ],
          [
           "(?)",
           0.7027861016896217
          ],
          [
           258972.42988999997,
           1
          ],
          [
           "(?)",
           0.4975121931839482
          ],
          [
           "(?)",
           -0.5786447647118859
          ],
          [
           "(?)",
           -0.03322920024118135
          ],
          [
           "(?)",
           -1
          ],
          [
           "(?)",
           0.5084967212333042
          ],
          [
           4294382.299585685,
           1
          ],
          [
           -9738.720000000001,
           -1
          ],
          [
           "(?)",
           0.9999997222383619
          ],
          [
           "(?)",
           -0.6314655767460141
          ],
          [
           19553.629330000003,
           1
          ],
          [
           0.52766,
           1
          ],
          [
           -1823.3410000000003,
           -1
          ],
          [
           "(?)",
           1
          ],
          [
           "(?)",
           0.885868208249152
          ],
          [
           "(?)",
           0.8572614989009852
          ],
          [
           2235831.3732199995,
           1
          ],
          [
           -112694.68980000007,
           -1
          ],
          [
           1357672.521639772,
           1
          ],
          [
           "(?)",
           0.7915184184849208
          ],
          [
           5891.830000000002,
           1
          ],
          [
           2555409.4002900003,
           1
          ],
          [
           "(?)",
           1
          ],
          [
           "(?)",
           -0.7101076958328947
          ],
          [
           "(?)",
           1
          ],
          [
           -11732.981937453911,
           -1
          ],
          [
           16771654.811700001,
           1
          ],
          [
           "(?)",
           0.5057683467964825
          ],
          [
           17167770.537857085,
           1
          ],
          [
           -1958.4870900000024,
           -1
          ],
          [
           "(?)",
           0.46888686967687504
          ],
          [
           "(?)",
           -1
          ],
          [
           "(?)",
           -0.22532077294891723
          ],
          [
           847156.34136,
           1
          ],
          [
           1179968.53027,
           1
          ],
          [
           "(?)",
           0.12478483220894955
          ],
          [
           34687.8823,
           1
          ],
          [
           371229.77492,
           1
          ],
          [
           622487.3297300003,
           1
          ],
          [
           "(?)",
           -0.1517549050370872
          ],
          [
           "(?)",
           0.6783154657549982
          ],
          [
           "(?)",
           0.8218435358620718
          ],
          [
           "(?)",
           0.9514674709816385
          ],
          [
           "(?)",
           0.08561626059647116
          ],
          [
           2066048.5444864766,
           1
          ],
          [
           "(?)",
           0.09008472255504466
          ],
          [
           1794289.0845599999,
           1
          ],
          [
           "(?)",
           0.9473825579490104
          ],
          [
           "(?)",
           0.9460348397563346
          ],
          [
           "(?)",
           0.37010768193125504
          ],
          [
           "(?)",
           -0.05857635218468653
          ],
          [
           -2513.332716956314,
           -1
          ],
          [
           695375.7548199999,
           1
          ],
          [
           33633.89646484905,
           1
          ],
          [
           "(?)",
           0.7243098643942156
          ],
          [
           "(?)",
           -0.936136023071456
          ],
          [
           "(?)",
           1
          ],
          [
           "(?)",
           0.38600561675464173
          ],
          [
           "(?)",
           -0.9881583362459696
          ],
          [
           "(?)",
           -0.856137645018999
          ],
          [
           "(?)",
           0.7071907508674108
          ],
          [
           103952.29000000027,
           1
          ],
          [
           "(?)",
           0.8341223368281302
          ],
          [
           "(?)",
           0.6846530071698781
          ],
          [
           "(?)",
           1
          ],
          [
           "(?)",
           -0.9999501661634123
          ],
          [
           "(?)",
           0.6057165037274113
          ],
          [
           52126586.712500006,
           1
          ],
          [
           51.87453999999951,
           1
          ],
          [
           "(?)",
           0.9238158865488008
          ],
          [
           -69475.06738442843,
           -1
          ],
          [
           "(?)",
           0.5374145518210288
          ],
          [
           "(?)",
           -0.9623733181280547
          ],
          [
           "(?)",
           0.7828370838427534
          ],
          [
           2014060.4589500017,
           1
          ],
          [
           11721590.020110589,
           1
          ],
          [
           "(?)",
           1
          ],
          [
           "(?)",
           -0.12887630949269527
          ],
          [
           -322020.68357,
           -1
          ],
          [
           4061238.6132599995,
           1
          ],
          [
           732797.61185,
           1
          ],
          [
           15431.873599999986,
           1
          ],
          [
           1.4500000000000002,
           1
          ],
          [
           "(?)",
           1
          ],
          [
           -2358497.02707,
           -1
          ],
          [
           2163565.8253954947,
           1
          ],
          [
           "(?)",
           1
          ],
          [
           9660.520399999921,
           1
          ],
          [
           "(?)",
           -0.4798730122532225
          ],
          [
           "(?)",
           0.9971269489590805
          ],
          [
           "(?)",
           0.9533705412204215
          ],
          [
           "(?)",
           -0.9559258132024415
          ],
          [
           "(?)",
           1
          ],
          [
           6642592.50996,
           1
          ],
          [
           "(?)",
           0.881361215977951
          ],
          [
           4166917.2724600006,
           1
          ],
          [
           -461375.1544100009,
           -1
          ],
          [
           "(?)",
           0.9997795680567042
          ],
          [
           3396795.57733,
           1
          ],
          [
           "(?)",
           1
          ],
          [
           "(?)",
           -0.4979395295959381
          ],
          [
           82159.61322,
           1
          ],
          [
           614.8595599999971,
           1
          ],
          [
           1678487.3543099998,
           1
          ],
          [
           1168.8853199999994,
           1
          ],
          [
           17167770.537857085,
           1
          ],
          [
           "(?)",
           0.6952006471570968
          ],
          [
           "(?)",
           0.5587222046033921
          ]
         ],
         "domain": {
          "x": [
           0,
           1
          ],
          "y": [
           0,
           1
          ]
         },
         "hovertemplate": "labels=%{label}<br>abs_cumul_net_dollar_flow_30d=%{value}<br>parent=%{parent}<br>id=%{id}<br>cumul_net_dollar_flow_30d=%{customdata[0]}<br>flow_direction_30d=%{color}<extra></extra>",
         "ids": [
          "all/Solana/01",
          "all/Polygon/0vix",
          "all/Binance/1inch-network*",
          "all/Ethereum/1inch-network*",
          "all/Mixin/4swap*",
          "all/Ethereum/aave-v1",
          "all/Avalanche/aave-v2",
          "all/Ethereum/aave-v2",
          "all/Polygon/aave-v2",
          "all/Arbitrum/aave-v3",
          "all/Avalanche/aave-v3",
          "all/Ethereum/aave-v3",
          "all/Fantom/aave-v3",
          "all/Optimism/aave-v3",
          "all/Polygon/aave-v3",
          "all/Ethereum/aavegotchi",
          "all/Polygon/aavegotchi",
          "all/Arbitrum/abracadabra*",
          "all/Avalanche/abracadabra*",
          "all/Ethereum/abracadabra*",
          "all/Fantom/abracadabra*",
          "all/Acala/acala-dollar",
          "all/Acala/acala-liquid-staking",
          "all/Ethereum/across",
          "all/Arbitrum/acryptos",
          "all/Astar/acryptos",
          "all/Avalanche/acryptos",
          "all/Binance/acryptos",
          "all/Cronos/acryptos",
          "all/Ethereum/acryptos",
          "all/Fantom/acryptos",
          "all/Harmony/acryptos",
          "all/Moonbeam/acryptos",
          "all/Moonriver/acryptos",
          "all/Optimism/acryptos",
          "all/xDai/acryptos",
          "all/Ethereum/ad-astra-bridge",
          "all/xDai/agave",
          "all/Ethereum/alchemix",
          "all/Fantom/alchemix",
          "all/Optimism/alchemix",
          "all/Stacks/alex*",
          "all/Astar/algem",
          "all/Algorand/algo-liquid-governance",
          "all/Algorand/algofi-lend*",
          "all/Avalanche/allbridge",
          "all/Binance/allbridge",
          "all/Celo/allbridge",
          "all/Ethereum/allbridge",
          "all/Fantom/allbridge",
          "all/Heco/allbridge",
          "all/Near/allbridge",
          "all/Polygon/allbridge",
          "all/Solana/allbridge",
          "all/Terra/allbridge",
          "all/Binance/alpaca-finance",
          "all/Fantom/alpaca-finance",
          "all/Arbitrum/angle",
          "all/Ethereum/angle",
          "all/Optimism/angle",
          "all/Polygon/angle",
          "all/Avalanche/ankr",
          "all/Binance/ankr",
          "all/Ethereum/ankr",
          "all/Fantom/ankr",
          "all/Kusama/ankr",
          "all/Polkadot/ankr",
          "all/xDai/ankr",
          "all/Binance/apeswap-amm*",
          "all/Ethereum/apeswap-amm*",
          "all/Polygon/apeswap-amm*",
          "all/Telos/apeswap-amm*",
          "all/Binance/apeswap-lending*",
          "all/Binance/apollox",
          "all/Arbitrum/arbis-finance",
          "all/Ethereum/arrakis-finance",
          "all/Optimism/arrakis-finance",
          "all/Polygon/arrakis-finance",
          "all/Astar/arthswap",
          "all/Astar/astriddao",
          "all/Terra/astroport*",
          "all/Terra2/astroport*",
          "all/Solana/atrix*",
          "all/Ethereum/aura",
          "all/Aurora/aurigami",
          "all/Aurora/aurora-plus",
          "all/Aurora/autofarm*",
          "all/Avalanche/autofarm*",
          "all/Binance/autofarm*",
          "all/Boba/autofarm*",
          "all/Celo/autofarm*",
          "all/Cronos/autofarm*",
          "all/Evmos/autofarm*",
          "all/Fantom/autofarm*",
          "all/Harmony/autofarm*",
          "all/Heco/autofarm*",
          "all/Kucoin/autofarm*",
          "all/Moonriver/autofarm*",
          "all/OKExChain/autofarm*",
          "all/Oasis/autofarm*",
          "all/Polygon/autofarm*",
          "all/Velas/autofarm*",
          "all/Wanchain/autofarm*",
          "all/xDai/autofarm*",
          "all/Aptos/aux-exchange*",
          "all/Astar/avault*",
          "all/Ethereum/axelar*",
          "all/Ethereum/aztec",
          "all/Arbitrum/b.protocol",
          "all/Ethereum/b.protocol",
          "all/Polygon/b.protocol",
          "all/RSK/babelfish*",
          "all/Binance/babydogeswap",
          "all/Binance/babyswap*",
          "all/Heco/back-finance",
          "all/Arbitrum/badger-dao*",
          "all/Ethereum/badger-dao*",
          "all/Fantom/badger-dao*",
          "all/Polygon/badger-dao*",
          "all/Binance/bakeryswap",
          "all/Icon/balanced*",
          "all/Arbitrum/balancer*",
          "all/Ethereum/balancer*",
          "all/Polygon/balancer*",
          "all/Ethereum/bancor-v2.1",
          "all/Ethereum/bancor-v3",
          "all/Aurora/bastion",
          "all/Arbitrum/beefy*",
          "all/Aurora/beefy*",
          "all/Avalanche/beefy*",
          "all/Binance/beefy*",
          "all/Celo/beefy*",
          "all/Cronos/beefy*",
          "all/Ethereum/beefy*",
          "all/Fantom/beefy*",
          "all/Fuse/beefy*",
          "all/Harmony/beefy*",
          "all/Heco/beefy*",
          "all/Kava/beefy*",
          "all/Metis/beefy*",
          "all/Moonbeam/beefy*",
          "all/Moonriver/beefy*",
          "all/Oasis/beefy*",
          "all/Optimism/beefy*",
          "all/Polygon/beefy*",
          "all/Fantom/beethoven-x",
          "all/Optimism/beethoven-x",
          "all/Binance/belt-finance",
          "all/Heco/belt-finance",
          "all/Klaytn/belt-finance",
          "all/Ethereum/benddao",
          "all/Avalanche/benqi-lending",
          "all/Avalanche/benqi-staked-avax",
          "all/Avalanche/bifi",
          "all/Binance/bifi",
          "all/Ethereum/bifi",
          "all/Klaytn/bifi",
          "all/Bifrost/bifrost-liquid-crowdloan",
          "all/Bifrost/bifrost-staking",
          "all/Ethereum/bifrost-staking",
          "all/Binance/biswap",
          "all/Ethereum/blur",
          "all/Binance/brewlabs*",
          "all/Ethereum/brewlabs*",
          "all/Polygon/brewlabs*",
          "all/Ethereum/bumper-finance",
          "all/Arbitrum/bunni",
          "all/Ethereum/bunni",
          "all/Optimism/bunni",
          "all/Polygon/bunni",
          "all/Binance/bunny*",
          "all/Polygon/bunny*",
          "all/Near/burrow*",
          "all/Mixin/bwatch*",
          "all/Arbitrum/camelot",
          "all/Canto/canto-dex*",
          "all/Canto/canto-lending*",
          "all/Arbitrum/cap",
          "all/Arbitrum/cbridge*",
          "all/Aurora/cbridge*",
          "all/Avalanche/cbridge*",
          "all/Binance/cbridge*",
          "all/Boba/cbridge*",
          "all/Celo/cbridge*",
          "all/Ethereum/cbridge*",
          "all/Fantom/cbridge*",
          "all/Harmony/cbridge*",
          "all/Heco/cbridge*",
          "all/Metis/cbridge*",
          "all/Moonriver/cbridge*",
          "all/OKExChain/cbridge*",
          "all/Optimism/cbridge*",
          "all/Polygon/cbridge*",
          "all/Shiden/cbridge*",
          "all/Syscoin/cbridge*",
          "all/xDai/cbridge*",
          "all/Solana/cega",
          "all/Sora/ceres-demeter*",
          "all/Binance/chainport*",
          "all/Ethereum/chainport*",
          "all/Avalanche/cian*",
          "all/Ethereum/cian*",
          "all/Polygon/cian*",
          "all/Ethereum/clever",
          "all/Arbitrum/clipper",
          "all/Ethereum/clipper",
          "all/Moonbeam/clipper",
          "all/Optimism/clipper",
          "all/Polygon/clipper",
          "all/Ethereum/coinbase-wrapped-staked-eth",
          "all/Binance/coinwind",
          "all/Heco/coinwind",
          "all/Ethereum/compound",
          "all/Ethereum/compound-v3",
          "all/Ethereum/concentrator",
          "all/Arbitrum/connext",
          "all/Avalanche/connext",
          "all/Binance/connext",
          "all/Cronos/connext",
          "all/Ethereum/connext",
          "all/Evmos/connext",
          "all/Fantom/connext",
          "all/Fuse/connext",
          "all/Milkomeda/connext",
          "all/Moonbeam/connext",
          "all/Moonriver/connext",
          "all/Optimism/connext",
          "all/Polygon/connext",
          "all/xDai/connext",
          "all/Arbitrum/convex-finance",
          "all/Ethereum/convex-finance",
          "all/Arbitrum/cream-finance",
          "all/Binance/cream-finance",
          "all/Ethereum/cream-finance",
          "all/Polygon/cream-finance",
          "all/Ethereum/creamswap",
          "all/Crescent/crescent-dex",
          "all/Avalanche/crosschain-bridge",
          "all/Binance/crosschain-bridge",
          "all/Ethereum/crosschain-bridge",
          "all/Fantom/crosschain-bridge",
          "all/Polygon/crosschain-bridge",
          "all/DFK/crystalvale*",
          "all/Arbitrum/curve",
          "all/Aurora/curve",
          "all/Avalanche/curve",
          "all/Celo/curve",
          "all/Ethereum/curve",
          "all/Fantom/curve",
          "all/Kava/curve",
          "all/Moonbeam/curve",
          "all/Optimism/curve",
          "all/Polygon/curve",
          "all/xDai/curve",
          "all/Ethereum/cvault-finance",
          "all/Tlchain/decryption*",
          "all/Binance/deeplock*",
          "all/Ethereum/defi-franc",
          "all/Binance/defibox*",
          "all/EOS/defibox*",
          "all/Wax/defibox*",
          "all/DefiChain/defichain-dex*",
          "all/DefiChain/defichain-loans",
          "all/Arbitrum/defiedge*",
          "all/Ethereum/defiedge*",
          "all/Optimism/defiedge*",
          "all/Polygon/defiedge*",
          "all/Ethereum/defisaver",
          "all/Fantom/deus-finance",
          "all/Arbitrum/dforce",
          "all/Binance/dforce",
          "all/Ethereum/dforce",
          "all/Optimism/dforce",
          "all/Polygon/dforce",
          "all/Fantom/dfyn-network",
          "all/OKExChain/dfyn-network",
          "all/Polygon/dfyn-network",
          "all/Ethereum/dhedge*",
          "all/Optimism/dhedge*",
          "all/Polygon/dhedge*",
          "all/Cardano/djed-stablecoin",
          "all/Binance/dooar*",
          "all/Solana/dooar*",
          "all/Arbitrum/dopex*",
          "all/Avalanche/dopex*",
          "all/Binance/dopex*",
          "all/Binance/dot-dot-finance",
          "all/Arbitrum/dxsale*",
          "all/Avalanche/dxsale*",
          "all/Binance/dxsale*",
          "all/Celo/dxsale*",
          "all/Cronos/dxsale*",
          "all/Ethereum/dxsale*",
          "all/Fantom/dxsale*",
          "all/Harmony/dxsale*",
          "all/Heco/dxsale*",
          "all/Milkomeda/dxsale*",
          "all/OKExChain/dxsale*",
          "all/Polygon/dxsale*",
          "all/Ethereum/dydx",
          "all/Ethereum/ease.org",
          "all/Avalanche/echidna-finance",
          "all/Ethereum/element-finance",
          "all/Binance/ellipsis-finance",
          "all/Ethereum/enzyme-finance",
          "all/EOS/eos-rex",
          "all/Fantom/equalizer-exchange",
          "all/Ethereum/erasure",
          "all/Ethereum/euler",
          "all/Avalanche/everrise",
          "all/Binance/everrise",
          "all/Ethereum/everrise",
          "all/Fantom/everrise",
          "all/Polygon/everrise",
          "all/Mixin/exinpool*",
          "all/Ethereum/fantohm",
          "all/Fantom/fantohm",
          "all/Moonriver/fantohm",
          "all/Cronos/ferro",
          "all/Arbitrum/filda",
          "all/Binance/filda",
          "all/Bittorrent/filda",
          "all/Elastos/filda",
          "all/Heco/filda",
          "all/IoTeX/filda",
          "all/Kava/filda",
          "all/Polygon/filda",
          "all/REI/filda",
          "all/Ethereum/flamincome",
          "all/NEO/flamingo-finance*",
          "all/Everscale/flatqube*",
          "all/Ethereum/flexa",
          "all/Arbitrum/flokifi-locker*",
          "all/Avalanche/flokifi-locker*",
          "all/Binance/flokifi-locker*",
          "all/Cronos/flokifi-locker*",
          "all/Dogechain/flokifi-locker*",
          "all/Ethereum/flokifi-locker*",
          "all/Evmos/flokifi-locker*",
          "all/Fantom/flokifi-locker*",
          "all/Kucoin/flokifi-locker*",
          "all/OKExChain/flokifi-locker*",
          "all/Optimism/flokifi-locker*",
          "all/Polygon/flokifi-locker*",
          "all/Ethereum/floor-dao",
          "all/Algorand/folks-finance-lending*",
          "all/Solana/frakt",
          "all/Solana/francium*",
          "all/Ethereum/frax*",
          "all/Fantom/frax*",
          "all/Ethereum/frax-ether",
          "all/Arbitrum/frax-swap*",
          "all/Avalanche/frax-swap*",
          "all/Binance/frax-swap*",
          "all/Dogechain/frax-swap*",
          "all/Ethereum/frax-swap*",
          "all/Fantom/frax-swap*",
          "all/Moonbeam/frax-swap*",
          "all/Polygon/frax-swap*",
          "all/Ethereum/fraxlend",
          "all/Binance/fstswap*",
          "all/Arbitrum/gains-network",
          "all/Polygon/gains-network",
          "all/Arbitrum/gamma",
          "all/Celo/gamma",
          "all/Ethereum/gamma",
          "all/Optimism/gamma",
          "all/Polygon/gamma",
          "all/Algorand/gard",
          "all/Ethereum/gearbox*",
          "all/Fantom/geist-finance",
          "all/Ethereum/geth",
          "all/Arbitrum/gmx",
          "all/Avalanche/gmx",
          "all/Arbitrum/granary-finance",
          "all/Avalanche/granary-finance",
          "all/Binance/granary-finance",
          "all/Ethereum/granary-finance",
          "all/Fantom/granary-finance",
          "all/Metis/granary-finance",
          "all/Optimism/granary-finance",
          "all/Binance/green-planet",
          "all/Avalanche/gro",
          "all/Ethereum/gro",
          "all/Binance/guard-helmet",
          "all/Polygon/guard-helmet",
          "all/Binance/harvest-finance*",
          "all/Ethereum/harvest-finance*",
          "all/Polygon/harvest-finance*",
          "all/Arbitrum/hashflow",
          "all/Avalanche/hashflow",
          "all/Binance/hashflow",
          "all/Ethereum/hashflow",
          "all/Optimism/hashflow",
          "all/Polygon/hashflow",
          "all/Ethereum/hbtc",
          "all/Binance/hector-network*",
          "all/Ethereum/hector-network*",
          "all/Fantom/hector-network*",
          "all/Arbitrum/hegic",
          "all/Binance/helio-protocol",
          "all/Hedera/heliswap*",
          "all/Injective/helix",
          "all/Metis/hermes-protocol",
          "all/Avalanche/homora-v2*",
          "all/Binance/homora-v2*",
          "all/Ethereum/homora-v2*",
          "all/Fantom/homora-v2*",
          "all/Optimism/homora-v2*",
          "all/Polygon/honeyswap*",
          "all/xDai/honeyswap*",
          "all/Arbitrum/hop-protocol",
          "all/Ethereum/hop-protocol",
          "all/Optimism/hop-protocol",
          "all/Polygon/hop-protocol",
          "all/xDai/hop-protocol",
          "all/Algorand/humble-defi*",
          "all/Metis/hummus-exchange",
          "all/Arbitrum/hundred-finance",
          "all/Fantom/hundred-finance",
          "all/Harmony/hundred-finance",
          "all/Moonriver/hundred-finance",
          "all/Optimism/hundred-finance",
          "all/Polygon/hundred-finance",
          "all/xDai/hundred-finance",
          "all/Ethereum/ichi-farm*",
          "all/Polygon/ichi-farm*",
          "all/Ethereum/idex",
          "all/Polygon/idex",
          "all/Ethereum/idle-finance",
          "all/Polygon/idle-finance",
          "all/Flow/increment-swap*",
          "all/Ethereum/index-coop",
          "all/Cardano/indigo",
          "all/Ethereum/injective-bridge",
          "all/Ethereum/instadapp*",
          "all/Avalanche/insurace",
          "all/Binance/insurace",
          "all/Ethereum/insurace",
          "all/Polygon/insurace",
          "all/Ethereum/inverse-finance-frontier",
          "all/Binance/iotube*",
          "all/Ethereum/iotube*",
          "all/IoTeX/iotube*",
          "all/Polygon/iotube*",
          "all/Ethereum/ipor",
          "all/Avalanche/iron-bank",
          "all/Ethereum/iron-bank",
          "all/Fantom/iron-bank",
          "all/Optimism/iron-bank",
          "all/Binance/iziswap",
          "all/Solana/jito",
          "all/Arbitrum/joe-v2",
          "all/Avalanche/joe-v2",
          "all/Arbitrum/jones-dao",
          "all/Ethereum/jpegd*",
          "all/Solana/jpool",
          "all/Tron/justcryptos*",
          "all/Tron/justlend*",
          "all/Tron/juststables",
          "all/Solana/kamino*",
          "all/Karura/karura-dollar-(kusd)",
          "all/Karura/karura-liquid-staking",
          "all/Ronin/katana-dex",
          "all/Kava/kava-earn",
          "all/Kava/kava-lend",
          "all/Kava/kava-liquid",
          "all/Kava/kava-mint",
          "all/Ethereum/keep-network",
          "all/Ethereum/keep3r-network",
          "all/Klaytn/klaybank",
          "all/Klaytn/klaystation*",
          "all/Klaytn/klayswap*",
          "all/Klaytn/kleva-protocol",
          "all/Polygon/klima-dao",
          "all/Binance/knightswap-finance",
          "all/Fantom/knightswap-finance",
          "all/Tezos/kolibri",
          "all/Arbitrum/kyberswap",
          "all/Avalanche/kyberswap",
          "all/Binance/kyberswap",
          "all/Bittorrent/kyberswap",
          "all/Cronos/kyberswap",
          "all/Ethereum/kyberswap",
          "all/Fantom/kyberswap",
          "all/Oasis/kyberswap",
          "all/Optimism/kyberswap",
          "all/Polygon/kyberswap",
          "all/Velas/kyberswap",
          "all/Solana/larix",
          "all/Binance/leonicornswap",
          "all/Binance/level-finance",
          "all/Ethereum/lido",
          "all/Moonbeam/lido",
          "all/Moonriver/lido",
          "all/Solana/lido",
          "all/Terra/lido",
          "all/Solana/lifinity",
          "all/Bitcoin/lightning-network",
          "all/Binance/linear-finance",
          "all/Near/linear-protocol",
          "all/Binance/liqee",
          "all/Ethereum/liqee",
          "all/Binance/liquid-driver",
          "all/Fantom/liquid-driver",
          "all/Aptos/liquidswap*",
          "all/Ethereum/liquity",
          "all/Cardano/liqwid",
          "all/Ethereum/llama-airforce",
          "all/Algorand/lofty*",
          "all/Ethereum/loopring",
          "all/Stellar/lumenswap",
          "all/Ethereum/lusd-chickenbonds",
          "all/Arbitrum/lyra",
          "all/Ethereum/lyra",
          "all/Optimism/lyra",
          "all/Binance/magpie",
          "all/Metis/maia-dao",
          "all/Ethereum/makerdao",
          "all/Ethereum/maple*",
          "all/Solana/maple*",
          "all/Solana/marinade-finance",
          "all/Celo/mento",
          "all/Ethereum/mento",
          "all/Solana/mercurial-finance",
          "all/Polygon/meshswap*",
          "all/Near/meta-pool",
          "all/Polygon/metavault.trade",
          "all/Binance/meter-passport",
          "all/Ethereum/meter-passport",
          "all/Meter/meter-passport",
          "all/Moonriver/meter-passport",
          "all/Theta/meter-passport",
          "all/IoTeX/mimo*",
          "all/Ethereum/mimo-protocol",
          "all/Fantom/mimo-protocol",
          "all/Polygon/mimo-protocol",
          "all/Cardano/minswap",
          "all/Cronos/mm-finance-cronos*",
          "all/Kucoin/mojitoswap*",
          "all/RSK/moneyonchain",
          "all/Ethereum/monolith*",
          "all/Celo/moola-market",
          "all/Avalanche/moonfarm*",
          "all/Binance/moonfarm*",
          "all/Ethereum/moonfarm*",
          "all/Fantom/moonfarm*",
          "all/Kava/moonfarm*",
          "all/Polygon/moonfarm*",
          "all/Solana/moonfarm*",
          "all/Terra/moonfarm*",
          "all/Moonriver/moonwell-apollo",
          "all/Moonbeam/moonwell-artemis",
          "all/Ethereum/morpho-aave",
          "all/Ethereum/morpho-compound",
          "all/Ethereum/mstable-cdp",
          "all/Polygon/mstable-cdp",
          "all/Cardano/muesliswap*",
          "all/Milkomeda/muesliswap*",
          "all/smartBCH/muesliswap*",
          "all/Arbitrum/multichain*",
          "all/Astar/multichain*",
          "all/Avalanche/multichain*",
          "all/Binance/multichain*",
          "all/Celo/multichain*",
          "all/Dogechain/multichain*",
          "all/Ethereum/multichain*",
          "all/EthereumClassic/multichain*",
          "all/Evmos/multichain*",
          "all/Fantom/multichain*",
          "all/Fuse/multichain*",
          "all/Fusion/multichain*",
          "all/Harmony/multichain*",
          "all/Heco/multichain*",
          "all/IoTeX/multichain*",
          "all/Kucoin/multichain*",
          "all/Milkomeda/multichain*",
          "all/Moonbeam/multichain*",
          "all/Moonriver/multichain*",
          "all/OKExChain/multichain*",
          "all/Oasis/multichain*",
          "all/Optimism/multichain*",
          "all/Polygon/multichain*",
          "all/REI/multichain*",
          "all/RSK/multichain*",
          "all/Shiden/multichain*",
          "all/Syscoin/multichain*",
          "all/Telos/multichain*",
          "all/xDai/multichain*",
          "all/Fantom/mummy-finance",
          "all/Arbitrum/mux-derivatives",
          "all/Avalanche/mux-derivatives",
          "all/Binance/mux-derivatives",
          "all/Fantom/mux-derivatives",
          "all/Arbitrum/mycelium-perpetual-swaps",
          "all/NEO/neoburger",
          "all/Klaytn/neopin-staking",
          "all/Tron/neopin-staking",
          "all/Binance/nestfi",
          "all/Metis/netswap*",
          "all/Waves/neutrino",
          "all/Ethereum/nexus-mutual",
          "all/Ethereum/nftfi*",
          "all/Ethereum/nftx",
          "all/Binance/nomiswap",
          "all/Ethereum/notional",
          "all/Arbitrum/o3-swap*",
          "all/Astar/o3-swap*",
          "all/Avalanche/o3-swap*",
          "all/Binance/o3-swap*",
          "all/Bitgert/o3-swap*",
          "all/Celo/o3-swap*",
          "all/Cube/o3-swap*",
          "all/Ethereum/o3-swap*",
          "all/Fantom/o3-swap*",
          "all/Kucoin/o3-swap*",
          "all/Metis/o3-swap*",
          "all/Optimism/o3-swap*",
          "all/Polygon/o3-swap*",
          "all/xDai/o3-swap*",
          "all/Binance/octus-bridge",
          "all/Ethereum/octus-bridge",
          "all/Everscale/octus-bridge",
          "all/OKExChain/okc-liquid-staking",
          "all/OKExChain/okcswap",
          "all/Ethereum/olympus-dao*",
          "all/Icon/omm*",
          "all/Avalanche/opyn-gamma",
          "all/Ethereum/opyn-gamma",
          "all/Polygon/opyn-gamma",
          "all/Ethereum/opyn-squeeth",
          "all/Binance/orbit-bridge*",
          "all/Celo/orbit-bridge*",
          "all/Ethereum/orbit-bridge*",
          "all/Heco/orbit-bridge*",
          "all/Klaytn/orbit-bridge*",
          "all/Polygon/orbit-bridge*",
          "all/Ripple/orbit-bridge*",
          "all/TON/orbit-bridge*",
          "all/Near/orderly-network",
          "all/Ethereum/origin-dollar",
          "all/Binance/orion-protocol",
          "all/Ethereum/orion-protocol",
          "all/Osmosis/osmosis-dex*",
          "all/Ethereum/ouchi-finance",
          "all/Boba/outcome-finance",
          "all/Ethereum/outcome-finance",
          "all/Polygon/outcome-finance",
          "all/Algorand/pact*",
          "all/Aptos/pancakeswap*",
          "all/Binance/pancakeswap*",
          "all/Ethereum/pancakeswap*",
          "all/Mixin/pando-leaf*",
          "all/Mixin/pando-rings*",
          "all/Klaytn/pangea-swap",
          "all/Avalanche/pangolin*",
          "all/Flare/pangolin*",
          "all/Hedera/pangolin*",
          "all/Songbird/pangolin*",
          "all/Heiko/parallel-amm*",
          "all/Parallel/parallel-amm*",
          "all/Heiko/parallel-lending*",
          "all/Parallel/parallel-lending*",
          "all/Heiko/parallel-liquid-staking",
          "all/Parallel/parallel-liquid-staking",
          "all/Solana/parrot-protocol",
          "all/EOS/paycash*",
          "all/Avalanche/pendle",
          "all/Ethereum/pendle",
          "all/Optimism/perpetual-protocol",
          "all/Arbitrum/pickle*",
          "all/Aurora/pickle*",
          "all/Cronos/pickle*",
          "all/Ethereum/pickle*",
          "all/Kava/pickle*",
          "all/Metis/pickle*",
          "all/Moonbeam/pickle*",
          "all/Moonriver/pickle*",
          "all/OKExChain/pickle*",
          "all/Optimism/pickle*",
          "all/Polygon/pickle*",
          "all/Optimism/pika-protocol",
          "all/Avalanche/pinksale*",
          "all/Binance/pinksale*",
          "all/Cronos/pinksale*",
          "all/Ethereum/pinksale*",
          "all/Fantom/pinksale*",
          "all/Polygon/pinksale*",
          "all/Arbitrum/pirex-convex",
          "all/Ethereum/pirex-convex",
          "all/Avalanche/platypus-finance",
          "all/Arbitrum/plutusdao*",
          "all/Algorand/pnetwork*",
          "all/Arbitrum/pnetwork*",
          "all/Binance/pnetwork*",
          "all/EOS/pnetwork*",
          "all/Ethereum/pnetwork*",
          "all/LBRY/pnetwork*",
          "all/Polygon/pnetwork*",
          "all/Telos/pnetwork*",
          "all/Ultra/pnetwork*",
          "all/Arbitrum/poly-network*",
          "all/Astar/poly-network*",
          "all/Avalanche/poly-network*",
          "all/Binance/poly-network*",
          "all/Boba/poly-network*",
          "all/Celo/poly-network*",
          "all/Ethereum/poly-network*",
          "all/Fantom/poly-network*",
          "all/Heco/poly-network*",
          "all/Metis/poly-network*",
          "all/NEO/poly-network*",
          "all/Neo3/poly-network*",
          "all/OKExChain/poly-network*",
          "all/Ontology/poly-network*",
          "all/Optimism/poly-network*",
          "all/Polygon/poly-network*",
          "all/Starcoin/poly-network*",
          "all/xDai/poly-network*",
          "all/Avalanche/pooltogether",
          "all/Binance/pooltogether",
          "all/Celo/pooltogether",
          "all/Ethereum/pooltogether",
          "all/Optimism/pooltogether",
          "all/Polygon/pooltogether",
          "all/Solana/port-finance",
          "all/Acala/portal*",
          "all/Algorand/portal*",
          "all/Aptos/portal*",
          "all/Aurora/portal*",
          "all/Avalanche/portal*",
          "all/Binance/portal*",
          "all/Celo/portal*",
          "all/Ethereum/portal*",
          "all/Fantom/portal*",
          "all/Karura/portal*",
          "all/Klaytn/portal*",
          "all/Moonbeam/portal*",
          "all/Near/portal*",
          "all/Oasis/portal*",
          "all/Polygon/portal*",
          "all/Solana/portal*",
          "all/Terra/portal*",
          "all/Terra2/portal*",
          "all/Arbitrum/premia",
          "all/Ethereum/premia",
          "all/Fantom/premia",
          "all/Optimism/premia",
          "all/Ethereum/proxy*",
          "all/Polygon/proxy*",
          "all/Arbitrum/qidao",
          "all/Avalanche/qidao",
          "all/Binance/qidao",
          "all/Ethereum/qidao",
          "all/Fantom/qidao",
          "all/Harmony/qidao",
          "all/Metis/qidao",
          "all/Moonbeam/qidao",
          "all/Optimism/qidao",
          "all/Polygon/qidao",
          "all/xDai/qidao",
          "all/Solana/quarry",
          "all/Polygon/quickswap-dex*",
          "all/Dogechain/quickswap-v3",
          "all/Polygon/quickswap-v3",
          "all/Binance/quoll",
          "all/Arbitrum/radiant",
          "all/Arbitrum/rage-trade*",
          "all/Arbitrum/rari-capital*",
          "all/Ethereum/rari-capital*",
          "all/Solana/raydium*",
          "all/xDai/realt-rmm-marketplace*",
          "all/xDai/realt-tokens",
          "all/Arbitrum/reaper-farm",
          "all/Binance/reaper-farm",
          "all/Fantom/reaper-farm",
          "all/Optimism/reaper-farm",
          "all/Ethereum/redacted-protocol",
          "all/Near/ref-finance",
          "all/Ethereum/reflexer",
          "all/Arbitrum/relaychain",
          "all/Avalanche/relaychain",
          "all/Binance/relaychain",
          "all/Ethereum/relaychain",
          "all/Fantom/relaychain",
          "all/Harmony/relaychain",
          "all/Metis/relaychain",
          "all/Optimism/relaychain",
          "all/Polygon/relaychain",
          "all/Arbitrum/renvm",
          "all/Avalanche/renvm",
          "all/Binance/renvm",
          "all/Ethereum/renvm",
          "all/Fantom/renvm",
          "all/Polygon/renvm",
          "all/Solana/renvm",
          "all/Ethereum/reserve",
          "all/Arbitrum/revert-compoundor",
          "all/Ethereum/revert-compoundor",
          "all/Optimism/revert-compoundor",
          "all/Polygon/revert-compoundor",
          "all/Telos/rex-staking",
          "all/Arbitrum/rhino.fi",
          "all/Ethereum/rhino.fi",
          "all/Polygon/rhino.fi",
          "all/Avalanche/ribbon",
          "all/Ethereum/ribbon",
          "all/Solana/ribbon",
          "all/Ethereum/ribbon-earn",
          "all/Arbitrum/risk-harbor",
          "all/Avalanche/risk-harbor",
          "all/Ethereum/risk-harbor",
          "all/Fantom/risk-harbor",
          "all/Optimism/risk-harbor",
          "all/Terra2/risk-harbor",
          "all/Ethereum/rocket-pool",
          "all/Ethereum/rook",
          "all/Optimism/rubicon",
          "all/Solana/saber",
          "all/Ethereum/sablier-finance",
          "all/Ethereum-vesting/sablier-finance",
          "all/vesting/sablier-finance",
          "all/Arbitrum/saddle-finance*",
          "all/Ethereum/saddle-finance*",
          "all/Evmos/saddle-finance*",
          "all/Fantom/saddle-finance*",
          "all/Kava/saddle-finance*",
          "all/Optimism/saddle-finance*",
          "all/Binance/sashimiswap",
          "all/Ethereum/sashimiswap",
          "all/Hedera/saucerswap*",
          "all/Arbitrum/sentiment*",
          "all/Ethereum/set-protocol",
          "all/Ethereum/sharedstake",
          "all/Arbitrum/shell-protocol",
          "all/Ethereum/sherlock",
          "all/Ethereum/shibaswap*",
          "all/Icon/sicx",
          "all/Ethereum/silo-finance",
          "all/Cronos/single-finance*",
          "all/Fantom/single-finance*",
          "all/Binance/smoothy",
          "all/Ethereum/smoothy",
          "all/Moonriver/solarbeam*",
          "all/Solana/solend",
          "all/Ethereum/solidly-v2",
          "all/Binance/solo-top",
          "all/Heco/solo-top",
          "all/OKExChain/solo-top",
          "all/Polygon/solo-top",
          "all/Binance/solv-protocol",
          "all/Ethereum/solv-protocol",
          "all/Polygon/solv-protocol",
          "all/Ethereum/sommelier",
          "all/Optimism/sonne-finance",
          "all/RSK/sovryn*",
          "all/Fantom/spartacus",
          "all/Polygon/sphere-finance*",
          "all/Fantom/spiritswap-amm",
          "all/Fantom/spookyswap",
          "all/Ethereum/spool-protocol",
          "all/Binance/stader",
          "all/Ethereum/stader",
          "all/Fantom/stader",
          "all/Hedera/stader",
          "all/Near/stader",
          "all/Terra2/stader",
          "all/Binance/stafi",
          "all/Cosmos/stafi",
          "all/Ethereum/stafi",
          "all/Polygon/stafi",
          "all/Solana/stafi",
          "all/Stafi/stafi",
          "all/Ethereum/stake.link",
          "all/Klaytn/stake.ly",
          "all/Avalanche/stakedao*",
          "all/Binance/stakedao*",
          "all/Ethereum/stakedao*",
          "all/Polygon/stakedao*",
          "all/Ethereum/stakewise",
          "all/xDai/stakewise",
          "all/Arbitrum/stargate",
          "all/Avalanche/stargate",
          "all/Binance/stargate",
          "all/Ethereum/stargate",
          "all/Fantom/stargate",
          "all/Metis/stargate",
          "all/Optimism/stargate",
          "all/Polygon/stargate",
          "all/Stellar/stellarx*",
          "all/Moonbeam/stellaswap*",
          "all/Step/step-exchange*",
          "all/Stride/stride",
          "all/Ethereum/strike",
          "all/Ethereum/sturdy*",
          "all/Fantom/sturdy*",
          "all/Tron/sun.io",
          "all/Cardano/sundaeswap",
          "all/Tron/sunswap*",
          "all/Arbitrum/sushi-bentobox",
          "all/Avalanche/sushi-bentobox",
          "all/Binance/sushi-bentobox",
          "all/Ethereum/sushi-bentobox",
          "all/Fantom/sushi-bentobox",
          "all/Optimism/sushi-bentobox",
          "all/Polygon/sushi-bentobox",
          "all/xDai/sushi-bentobox",
          "all/Arbitrum/sushiswap*",
          "all/Arbitrum Nova/sushiswap*",
          "all/Avalanche/sushiswap*",
          "all/Binance/sushiswap*",
          "all/Boba/sushiswap*",
          "all/Boba_Avax/sushiswap*",
          "all/Boba_Bnb/sushiswap*",
          "all/Celo/sushiswap*",
          "all/Ethereum/sushiswap*",
          "all/Fantom/sushiswap*",
          "all/Fuse/sushiswap*",
          "all/Harmony/sushiswap*",
          "all/Heco/sushiswap*",
          "all/Moonriver/sushiswap*",
          "all/OKExChain/sushiswap*",
          "all/Palm/sushiswap*",
          "all/Polygon/sushiswap*",
          "all/Telos/sushiswap*",
          "all/xDai/sushiswap*",
          "all/Conflux/swappi*",
          "all/Arbitrum/swapr*",
          "all/Ethereum/swapr*",
          "all/xDai/swapr*",
          "all/Waves/swop",
          "all/Arbitrum/synapse",
          "all/Aurora/synapse",
          "all/Avalanche/synapse",
          "all/Binance/synapse",
          "all/Boba/synapse",
          "all/Cronos/synapse",
          "all/Ethereum/synapse",
          "all/Fantom/synapse",
          "all/Harmony/synapse",
          "all/Klaytn/synapse",
          "all/Metis/synapse",
          "all/Moonbeam/synapse",
          "all/Moonriver/synapse",
          "all/Optimism/synapse",
          "all/Polygon/synapse",
          "all/Terra/synapse",
          "all/Ethereum/synthetix",
          "all/Optimism/synthetix",
          "all/Fantom/tarot",
          "all/Optimism/tarot",
          "all/Avalanche/team-finance*",
          "all/Binance/team-finance*",
          "all/Ethereum/team-finance*",
          "all/Polygon/team-finance*",
          "all/Cronos/tectonic",
          "all/Binance/terra-bridge",
          "all/Ethereum/terra-bridge",
          "all/Harmony/terra-bridge",
          "all/Binance/tetu-earn*",
          "all/Ethereum/tetu-earn*",
          "all/Fantom/tetu-earn*",
          "all/Polygon/tetu-earn*",
          "all/Tezos/tezos-liquidity-baking",
          "all/Ethereum/the-tokenized-bitcoin",
          "all/Binance/thena*",
          "all/Aurora/thetanuts-finance",
          "all/Avalanche/thetanuts-finance",
          "all/Binance/thetanuts-finance",
          "all/Boba/thetanuts-finance",
          "all/Ethereum/thetanuts-finance",
          "all/Fantom/thetanuts-finance",
          "all/Polygon/thetanuts-finance",
          "all/Theta/thetaswap*",
          "all/Algorand/tinyman*",
          "all/Binance/titano-swych*",
          "all/Ethereum/tokemak",
          "all/Avalanche/tokensfarm*",
          "all/Binance/tokensfarm*",
          "all/Ethereum/tokensfarm*",
          "all/Fantom/tokensfarm*",
          "all/Polygon/tokensfarm*",
          "all/Fantom/tomb-swap",
          "all/Kucoin/torches",
          "all/Arbitrum/tornado-cash",
          "all/Avalanche/tornado-cash",
          "all/Binance/tornado-cash",
          "all/Ethereum/tornado-cash",
          "all/Optimism/tornado-cash",
          "all/Polygon/tornado-cash",
          "all/xDai/tornado-cash",
          "all/Optimism/toros*",
          "all/Polygon/toros*",
          "all/Aptos/tortuga",
          "all/Celo/toucan-protocol",
          "all/Polygon/toucan-protocol",
          "all/Avalanche/trader-joe-dex*",
          "all/Avalanche/trader-joe-lend",
          "all/Binance/tranchess",
          "all/Ethereum/tranchess",
          "all/Aurora/trisolaris*",
          "all/Solana/tulip-protocol*",
          "all/Ultron/ultronswap*",
          "all/Avalanche/unicrypt*",
          "all/Binance/unicrypt*",
          "all/Ethereum/unicrypt*",
          "all/Polygon/unicrypt*",
          "all/xDai/unicrypt*",
          "all/Avalanche/unifi",
          "all/Binance/unifi",
          "all/Bittorrent/unifi",
          "all/Ethereum/unifi",
          "all/Fantom/unifi",
          "all/Harmony/unifi",
          "all/IoTeX/unifi",
          "all/Ontology/unifi",
          "all/OntologyEVM/unifi",
          "all/Polygon/unifi",
          "all/Tron/unifi",
          "all/Ethereum/uniswap-v1*",
          "all/Ethereum/uniswap-v2*",
          "all/Arbitrum/uniswap-v3*",
          "all/Celo/uniswap-v3*",
          "all/Ethereum/uniswap-v3*",
          "all/Optimism/uniswap-v3*",
          "all/Polygon/uniswap-v3*",
          "all/Ethereum/unslashed",
          "all/Avalanche/usd+",
          "all/Binance/usd+",
          "all/Optimism/usd+",
          "all/Polygon/usd+",
          "all/Ethereum/uwu-lend",
          "all/Binance/valas-finance",
          "all/Oasis/valleyswap*",
          "all/Vision/vanswap*",
          "all/Avalanche/vector-finance",
          "all/Optimism/velodrome*",
          "all/Binance/venus",
          "all/Avalanche/vesper",
          "all/Ethereum/vesper",
          "all/Polygon/vesper",
          "all/Arbitrum/vesta-finance",
          "all/Waves/vires-finance",
          "all/Ethereum/voltz",
          "all/Cronos/vvs-finance*",
          "all/Binance/w3swap*",
          "all/Avalanche/wan-bridge*",
          "all/Binance/wan-bridge*",
          "all/CLV/wan-bridge*",
          "all/Ethereum/wan-bridge*",
          "all/Moonbeam/wan-bridge*",
          "all/Moonriver/wan-bridge*",
          "all/OKExChain/wan-bridge*",
          "all/Polygon/wan-bridge*",
          "all/Wanchain/wan-bridge*",
          "all/XDC/wan-bridge*",
          "all/Wanchain/wanswap-dex*",
          "all/Ethereum/wbtc",
          "all/Arbitrum/wepiggy",
          "all/Aurora/wepiggy",
          "all/Binance/wepiggy",
          "all/Ethereum/wepiggy",
          "all/Harmony/wepiggy",
          "all/Heco/wepiggy",
          "all/Moonbeam/wepiggy",
          "all/Moonriver/wepiggy",
          "all/OKExChain/wepiggy",
          "all/Oasis/wepiggy",
          "all/Optimism/wepiggy",
          "all/Polygon/wepiggy",
          "all/Binance/wing-finance*",
          "all/Ethereum/wing-finance*",
          "all/OKExChain/wing-finance*",
          "all/Ontology/wing-finance*",
          "all/OntologyEVM/wing-finance*",
          "all/Cardano/wingriders",
          "all/Binance/wombat-exchange",
          "all/Binance/wombex-finance",
          "all/Avalanche/wonderland",
          "all/Ethereum/wonderland",
          "all/Arbitrum/woofi",
          "all/Avalanche/woofi",
          "all/Binance/woofi",
          "all/Fantom/woofi",
          "all/Optimism/woofi",
          "all/Polygon/woofi",
          "all/Arbitrum/woofi-earn*",
          "all/Avalanche/woofi-earn*",
          "all/Binance/woofi-earn*",
          "all/Fantom/woofi-earn*",
          "all/Optimism/woofi-earn*",
          "all/Polygon/woofi-earn*",
          "all/Binance/wrapped-bnb",
          "all/Waves/wx.network",
          "all/Juno/wynd-dex*",
          "all/Elrond/xexchange*",
          "all/Arbitrum/xtoken",
          "all/Ethereum/xtoken",
          "all/Optimism/xtoken",
          "all/Arbitrum/yearn-finance*",
          "all/Ethereum/yearn-finance*",
          "all/Fantom/yearn-finance*",
          "all/Optimism/yearn-finance*",
          "all/Avalanche/yeti-finance*",
          "all/Arbitrum/yield-protocol*",
          "all/Ethereum/yield-protocol*",
          "all/Avalanche/yield-yak-aggregator",
          "all/Godwoken/yokaiswap*",
          "all/GodwokenV1/yokaiswap*",
          "all/Binance/yoshi-exchange",
          "all/Fantom/yoshi-exchange",
          "all/Tezos/youves",
          "all/Zilliqa/zilswap*",
          "all/Avalanche/zookeeper*",
          "all/Wanchain/zookeeper*",
          "all/Arbitrum/zyberswap*",
          "all/Acala",
          "all/Algorand",
          "all/Aptos",
          "all/Arbitrum",
          "all/Arbitrum Nova",
          "all/Astar",
          "all/Aurora",
          "all/Avalanche",
          "all/Bifrost",
          "all/Binance",
          "all/Bitcoin",
          "all/Bitgert",
          "all/Bittorrent",
          "all/Boba",
          "all/Boba_Avax",
          "all/Boba_Bnb",
          "all/CLV",
          "all/Canto",
          "all/Cardano",
          "all/Celo",
          "all/Conflux",
          "all/Cosmos",
          "all/Crescent",
          "all/Cronos",
          "all/Cube",
          "all/DFK",
          "all/DefiChain",
          "all/Dogechain",
          "all/EOS",
          "all/Elastos",
          "all/Elrond",
          "all/Ethereum",
          "all/Ethereum-vesting",
          "all/EthereumClassic",
          "all/Everscale",
          "all/Evmos",
          "all/Fantom",
          "all/Flare",
          "all/Flow",
          "all/Fuse",
          "all/Fusion",
          "all/Godwoken",
          "all/GodwokenV1",
          "all/Harmony",
          "all/Heco",
          "all/Hedera",
          "all/Heiko",
          "all/Icon",
          "all/Injective",
          "all/IoTeX",
          "all/Juno",
          "all/Karura",
          "all/Kava",
          "all/Klaytn",
          "all/Kucoin",
          "all/Kusama",
          "all/LBRY",
          "all/Meter",
          "all/Metis",
          "all/Milkomeda",
          "all/Mixin",
          "all/Moonbeam",
          "all/Moonriver",
          "all/NEO",
          "all/Near",
          "all/Neo3",
          "all/OKExChain",
          "all/Oasis",
          "all/Ontology",
          "all/OntologyEVM",
          "all/Optimism",
          "all/Osmosis",
          "all/Palm",
          "all/Parallel",
          "all/Polkadot",
          "all/Polygon",
          "all/REI",
          "all/RSK",
          "all/Ripple",
          "all/Ronin",
          "all/Shiden",
          "all/Solana",
          "all/Songbird",
          "all/Sora",
          "all/Stacks",
          "all/Stafi",
          "all/Starcoin",
          "all/Stellar",
          "all/Step",
          "all/Stride",
          "all/Syscoin",
          "all/TON",
          "all/Telos",
          "all/Terra",
          "all/Terra2",
          "all/Tezos",
          "all/Theta",
          "all/Tlchain",
          "all/Tron",
          "all/Ultra",
          "all/Ultron",
          "all/Velas",
          "all/Vision",
          "all/Wanchain",
          "all/Waves",
          "all/Wax",
          "all/XDC",
          "all/Zilliqa",
          "all/smartBCH",
          "all/vesting",
          "all/xDai",
          "all"
         ],
         "labels": [
          "01",
          "0vix",
          "1inch-network*",
          "1inch-network*",
          "4swap*",
          "aave-v1",
          "aave-v2",
          "aave-v2",
          "aave-v2",
          "aave-v3",
          "aave-v3",
          "aave-v3",
          "aave-v3",
          "aave-v3",
          "aave-v3",
          "aavegotchi",
          "aavegotchi",
          "abracadabra*",
          "abracadabra*",
          "abracadabra*",
          "abracadabra*",
          "acala-dollar",
          "acala-liquid-staking",
          "across",
          "acryptos",
          "acryptos",
          "acryptos",
          "acryptos",
          "acryptos",
          "acryptos",
          "acryptos",
          "acryptos",
          "acryptos",
          "acryptos",
          "acryptos",
          "acryptos",
          "ad-astra-bridge",
          "agave",
          "alchemix",
          "alchemix",
          "alchemix",
          "alex*",
          "algem",
          "algo-liquid-governance",
          "algofi-lend*",
          "allbridge",
          "allbridge",
          "allbridge",
          "allbridge",
          "allbridge",
          "allbridge",
          "allbridge",
          "allbridge",
          "allbridge",
          "allbridge",
          "alpaca-finance",
          "alpaca-finance",
          "angle",
          "angle",
          "angle",
          "angle",
          "ankr",
          "ankr",
          "ankr",
          "ankr",
          "ankr",
          "ankr",
          "ankr",
          "apeswap-amm*",
          "apeswap-amm*",
          "apeswap-amm*",
          "apeswap-amm*",
          "apeswap-lending*",
          "apollox",
          "arbis-finance",
          "arrakis-finance",
          "arrakis-finance",
          "arrakis-finance",
          "arthswap",
          "astriddao",
          "astroport*",
          "astroport*",
          "atrix*",
          "aura",
          "aurigami",
          "aurora-plus",
          "autofarm*",
          "autofarm*",
          "autofarm*",
          "autofarm*",
          "autofarm*",
          "autofarm*",
          "autofarm*",
          "autofarm*",
          "autofarm*",
          "autofarm*",
          "autofarm*",
          "autofarm*",
          "autofarm*",
          "autofarm*",
          "autofarm*",
          "autofarm*",
          "autofarm*",
          "autofarm*",
          "aux-exchange*",
          "avault*",
          "axelar*",
          "aztec",
          "b.protocol",
          "b.protocol",
          "b.protocol",
          "babelfish*",
          "babydogeswap",
          "babyswap*",
          "back-finance",
          "badger-dao*",
          "badger-dao*",
          "badger-dao*",
          "badger-dao*",
          "bakeryswap",
          "balanced*",
          "balancer*",
          "balancer*",
          "balancer*",
          "bancor-v2.1",
          "bancor-v3",
          "bastion",
          "beefy*",
          "beefy*",
          "beefy*",
          "beefy*",
          "beefy*",
          "beefy*",
          "beefy*",
          "beefy*",
          "beefy*",
          "beefy*",
          "beefy*",
          "beefy*",
          "beefy*",
          "beefy*",
          "beefy*",
          "beefy*",
          "beefy*",
          "beefy*",
          "beethoven-x",
          "beethoven-x",
          "belt-finance",
          "belt-finance",
          "belt-finance",
          "benddao",
          "benqi-lending",
          "benqi-staked-avax",
          "bifi",
          "bifi",
          "bifi",
          "bifi",
          "bifrost-liquid-crowdloan",
          "bifrost-staking",
          "bifrost-staking",
          "biswap",
          "blur",
          "brewlabs*",
          "brewlabs*",
          "brewlabs*",
          "bumper-finance",
          "bunni",
          "bunni",
          "bunni",
          "bunni",
          "bunny*",
          "bunny*",
          "burrow*",
          "bwatch*",
          "camelot",
          "canto-dex*",
          "canto-lending*",
          "cap",
          "cbridge*",
          "cbridge*",
          "cbridge*",
          "cbridge*",
          "cbridge*",
          "cbridge*",
          "cbridge*",
          "cbridge*",
          "cbridge*",
          "cbridge*",
          "cbridge*",
          "cbridge*",
          "cbridge*",
          "cbridge*",
          "cbridge*",
          "cbridge*",
          "cbridge*",
          "cbridge*",
          "cega",
          "ceres-demeter*",
          "chainport*",
          "chainport*",
          "cian*",
          "cian*",
          "cian*",
          "clever",
          "clipper",
          "clipper",
          "clipper",
          "clipper",
          "clipper",
          "coinbase-wrapped-staked-eth",
          "coinwind",
          "coinwind",
          "compound",
          "compound-v3",
          "concentrator",
          "connext",
          "connext",
          "connext",
          "connext",
          "connext",
          "connext",
          "connext",
          "connext",
          "connext",
          "connext",
          "connext",
          "connext",
          "connext",
          "connext",
          "convex-finance",
          "convex-finance",
          "cream-finance",
          "cream-finance",
          "cream-finance",
          "cream-finance",
          "creamswap",
          "crescent-dex",
          "crosschain-bridge",
          "crosschain-bridge",
          "crosschain-bridge",
          "crosschain-bridge",
          "crosschain-bridge",
          "crystalvale*",
          "curve",
          "curve",
          "curve",
          "curve",
          "curve",
          "curve",
          "curve",
          "curve",
          "curve",
          "curve",
          "curve",
          "cvault-finance",
          "decryption*",
          "deeplock*",
          "defi-franc",
          "defibox*",
          "defibox*",
          "defibox*",
          "defichain-dex*",
          "defichain-loans",
          "defiedge*",
          "defiedge*",
          "defiedge*",
          "defiedge*",
          "defisaver",
          "deus-finance",
          "dforce",
          "dforce",
          "dforce",
          "dforce",
          "dforce",
          "dfyn-network",
          "dfyn-network",
          "dfyn-network",
          "dhedge*",
          "dhedge*",
          "dhedge*",
          "djed-stablecoin",
          "dooar*",
          "dooar*",
          "dopex*",
          "dopex*",
          "dopex*",
          "dot-dot-finance",
          "dxsale*",
          "dxsale*",
          "dxsale*",
          "dxsale*",
          "dxsale*",
          "dxsale*",
          "dxsale*",
          "dxsale*",
          "dxsale*",
          "dxsale*",
          "dxsale*",
          "dxsale*",
          "dydx",
          "ease.org",
          "echidna-finance",
          "element-finance",
          "ellipsis-finance",
          "enzyme-finance",
          "eos-rex",
          "equalizer-exchange",
          "erasure",
          "euler",
          "everrise",
          "everrise",
          "everrise",
          "everrise",
          "everrise",
          "exinpool*",
          "fantohm",
          "fantohm",
          "fantohm",
          "ferro",
          "filda",
          "filda",
          "filda",
          "filda",
          "filda",
          "filda",
          "filda",
          "filda",
          "filda",
          "flamincome",
          "flamingo-finance*",
          "flatqube*",
          "flexa",
          "flokifi-locker*",
          "flokifi-locker*",
          "flokifi-locker*",
          "flokifi-locker*",
          "flokifi-locker*",
          "flokifi-locker*",
          "flokifi-locker*",
          "flokifi-locker*",
          "flokifi-locker*",
          "flokifi-locker*",
          "flokifi-locker*",
          "flokifi-locker*",
          "floor-dao",
          "folks-finance-lending*",
          "frakt",
          "francium*",
          "frax*",
          "frax*",
          "frax-ether",
          "frax-swap*",
          "frax-swap*",
          "frax-swap*",
          "frax-swap*",
          "frax-swap*",
          "frax-swap*",
          "frax-swap*",
          "frax-swap*",
          "fraxlend",
          "fstswap*",
          "gains-network",
          "gains-network",
          "gamma",
          "gamma",
          "gamma",
          "gamma",
          "gamma",
          "gard",
          "gearbox*",
          "geist-finance",
          "geth",
          "gmx",
          "gmx",
          "granary-finance",
          "granary-finance",
          "granary-finance",
          "granary-finance",
          "granary-finance",
          "granary-finance",
          "granary-finance",
          "green-planet",
          "gro",
          "gro",
          "guard-helmet",
          "guard-helmet",
          "harvest-finance*",
          "harvest-finance*",
          "harvest-finance*",
          "hashflow",
          "hashflow",
          "hashflow",
          "hashflow",
          "hashflow",
          "hashflow",
          "hbtc",
          "hector-network*",
          "hector-network*",
          "hector-network*",
          "hegic",
          "helio-protocol",
          "heliswap*",
          "helix",
          "hermes-protocol",
          "homora-v2*",
          "homora-v2*",
          "homora-v2*",
          "homora-v2*",
          "homora-v2*",
          "honeyswap*",
          "honeyswap*",
          "hop-protocol",
          "hop-protocol",
          "hop-protocol",
          "hop-protocol",
          "hop-protocol",
          "humble-defi*",
          "hummus-exchange",
          "hundred-finance",
          "hundred-finance",
          "hundred-finance",
          "hundred-finance",
          "hundred-finance",
          "hundred-finance",
          "hundred-finance",
          "ichi-farm*",
          "ichi-farm*",
          "idex",
          "idex",
          "idle-finance",
          "idle-finance",
          "increment-swap*",
          "index-coop",
          "indigo",
          "injective-bridge",
          "instadapp*",
          "insurace",
          "insurace",
          "insurace",
          "insurace",
          "inverse-finance-frontier",
          "iotube*",
          "iotube*",
          "iotube*",
          "iotube*",
          "ipor",
          "iron-bank",
          "iron-bank",
          "iron-bank",
          "iron-bank",
          "iziswap",
          "jito",
          "joe-v2",
          "joe-v2",
          "jones-dao",
          "jpegd*",
          "jpool",
          "justcryptos*",
          "justlend*",
          "juststables",
          "kamino*",
          "karura-dollar-(kusd)",
          "karura-liquid-staking",
          "katana-dex",
          "kava-earn",
          "kava-lend",
          "kava-liquid",
          "kava-mint",
          "keep-network",
          "keep3r-network",
          "klaybank",
          "klaystation*",
          "klayswap*",
          "kleva-protocol",
          "klima-dao",
          "knightswap-finance",
          "knightswap-finance",
          "kolibri",
          "kyberswap",
          "kyberswap",
          "kyberswap",
          "kyberswap",
          "kyberswap",
          "kyberswap",
          "kyberswap",
          "kyberswap",
          "kyberswap",
          "kyberswap",
          "kyberswap",
          "larix",
          "leonicornswap",
          "level-finance",
          "lido",
          "lido",
          "lido",
          "lido",
          "lido",
          "lifinity",
          "lightning-network",
          "linear-finance",
          "linear-protocol",
          "liqee",
          "liqee",
          "liquid-driver",
          "liquid-driver",
          "liquidswap*",
          "liquity",
          "liqwid",
          "llama-airforce",
          "lofty*",
          "loopring",
          "lumenswap",
          "lusd-chickenbonds",
          "lyra",
          "lyra",
          "lyra",
          "magpie",
          "maia-dao",
          "makerdao",
          "maple*",
          "maple*",
          "marinade-finance",
          "mento",
          "mento",
          "mercurial-finance",
          "meshswap*",
          "meta-pool",
          "metavault.trade",
          "meter-passport",
          "meter-passport",
          "meter-passport",
          "meter-passport",
          "meter-passport",
          "mimo*",
          "mimo-protocol",
          "mimo-protocol",
          "mimo-protocol",
          "minswap",
          "mm-finance-cronos*",
          "mojitoswap*",
          "moneyonchain",
          "monolith*",
          "moola-market",
          "moonfarm*",
          "moonfarm*",
          "moonfarm*",
          "moonfarm*",
          "moonfarm*",
          "moonfarm*",
          "moonfarm*",
          "moonfarm*",
          "moonwell-apollo",
          "moonwell-artemis",
          "morpho-aave",
          "morpho-compound",
          "mstable-cdp",
          "mstable-cdp",
          "muesliswap*",
          "muesliswap*",
          "muesliswap*",
          "multichain*",
          "multichain*",
          "multichain*",
          "multichain*",
          "multichain*",
          "multichain*",
          "multichain*",
          "multichain*",
          "multichain*",
          "multichain*",
          "multichain*",
          "multichain*",
          "multichain*",
          "multichain*",
          "multichain*",
          "multichain*",
          "multichain*",
          "multichain*",
          "multichain*",
          "multichain*",
          "multichain*",
          "multichain*",
          "multichain*",
          "multichain*",
          "multichain*",
          "multichain*",
          "multichain*",
          "multichain*",
          "multichain*",
          "mummy-finance",
          "mux-derivatives",
          "mux-derivatives",
          "mux-derivatives",
          "mux-derivatives",
          "mycelium-perpetual-swaps",
          "neoburger",
          "neopin-staking",
          "neopin-staking",
          "nestfi",
          "netswap*",
          "neutrino",
          "nexus-mutual",
          "nftfi*",
          "nftx",
          "nomiswap",
          "notional",
          "o3-swap*",
          "o3-swap*",
          "o3-swap*",
          "o3-swap*",
          "o3-swap*",
          "o3-swap*",
          "o3-swap*",
          "o3-swap*",
          "o3-swap*",
          "o3-swap*",
          "o3-swap*",
          "o3-swap*",
          "o3-swap*",
          "o3-swap*",
          "octus-bridge",
          "octus-bridge",
          "octus-bridge",
          "okc-liquid-staking",
          "okcswap",
          "olympus-dao*",
          "omm*",
          "opyn-gamma",
          "opyn-gamma",
          "opyn-gamma",
          "opyn-squeeth",
          "orbit-bridge*",
          "orbit-bridge*",
          "orbit-bridge*",
          "orbit-bridge*",
          "orbit-bridge*",
          "orbit-bridge*",
          "orbit-bridge*",
          "orbit-bridge*",
          "orderly-network",
          "origin-dollar",
          "orion-protocol",
          "orion-protocol",
          "osmosis-dex*",
          "ouchi-finance",
          "outcome-finance",
          "outcome-finance",
          "outcome-finance",
          "pact*",
          "pancakeswap*",
          "pancakeswap*",
          "pancakeswap*",
          "pando-leaf*",
          "pando-rings*",
          "pangea-swap",
          "pangolin*",
          "pangolin*",
          "pangolin*",
          "pangolin*",
          "parallel-amm*",
          "parallel-amm*",
          "parallel-lending*",
          "parallel-lending*",
          "parallel-liquid-staking",
          "parallel-liquid-staking",
          "parrot-protocol",
          "paycash*",
          "pendle",
          "pendle",
          "perpetual-protocol",
          "pickle*",
          "pickle*",
          "pickle*",
          "pickle*",
          "pickle*",
          "pickle*",
          "pickle*",
          "pickle*",
          "pickle*",
          "pickle*",
          "pickle*",
          "pika-protocol",
          "pinksale*",
          "pinksale*",
          "pinksale*",
          "pinksale*",
          "pinksale*",
          "pinksale*",
          "pirex-convex",
          "pirex-convex",
          "platypus-finance",
          "plutusdao*",
          "pnetwork*",
          "pnetwork*",
          "pnetwork*",
          "pnetwork*",
          "pnetwork*",
          "pnetwork*",
          "pnetwork*",
          "pnetwork*",
          "pnetwork*",
          "poly-network*",
          "poly-network*",
          "poly-network*",
          "poly-network*",
          "poly-network*",
          "poly-network*",
          "poly-network*",
          "poly-network*",
          "poly-network*",
          "poly-network*",
          "poly-network*",
          "poly-network*",
          "poly-network*",
          "poly-network*",
          "poly-network*",
          "poly-network*",
          "poly-network*",
          "poly-network*",
          "pooltogether",
          "pooltogether",
          "pooltogether",
          "pooltogether",
          "pooltogether",
          "pooltogether",
          "port-finance",
          "portal*",
          "portal*",
          "portal*",
          "portal*",
          "portal*",
          "portal*",
          "portal*",
          "portal*",
          "portal*",
          "portal*",
          "portal*",
          "portal*",
          "portal*",
          "portal*",
          "portal*",
          "portal*",
          "portal*",
          "portal*",
          "premia",
          "premia",
          "premia",
          "premia",
          "proxy*",
          "proxy*",
          "qidao",
          "qidao",
          "qidao",
          "qidao",
          "qidao",
          "qidao",
          "qidao",
          "qidao",
          "qidao",
          "qidao",
          "qidao",
          "quarry",
          "quickswap-dex*",
          "quickswap-v3",
          "quickswap-v3",
          "quoll",
          "radiant",
          "rage-trade*",
          "rari-capital*",
          "rari-capital*",
          "raydium*",
          "realt-rmm-marketplace*",
          "realt-tokens",
          "reaper-farm",
          "reaper-farm",
          "reaper-farm",
          "reaper-farm",
          "redacted-protocol",
          "ref-finance",
          "reflexer",
          "relaychain",
          "relaychain",
          "relaychain",
          "relaychain",
          "relaychain",
          "relaychain",
          "relaychain",
          "relaychain",
          "relaychain",
          "renvm",
          "renvm",
          "renvm",
          "renvm",
          "renvm",
          "renvm",
          "renvm",
          "reserve",
          "revert-compoundor",
          "revert-compoundor",
          "revert-compoundor",
          "revert-compoundor",
          "rex-staking",
          "rhino.fi",
          "rhino.fi",
          "rhino.fi",
          "ribbon",
          "ribbon",
          "ribbon",
          "ribbon-earn",
          "risk-harbor",
          "risk-harbor",
          "risk-harbor",
          "risk-harbor",
          "risk-harbor",
          "risk-harbor",
          "rocket-pool",
          "rook",
          "rubicon",
          "saber",
          "sablier-finance",
          "sablier-finance",
          "sablier-finance",
          "saddle-finance*",
          "saddle-finance*",
          "saddle-finance*",
          "saddle-finance*",
          "saddle-finance*",
          "saddle-finance*",
          "sashimiswap",
          "sashimiswap",
          "saucerswap*",
          "sentiment*",
          "set-protocol",
          "sharedstake",
          "shell-protocol",
          "sherlock",
          "shibaswap*",
          "sicx",
          "silo-finance",
          "single-finance*",
          "single-finance*",
          "smoothy",
          "smoothy",
          "solarbeam*",
          "solend",
          "solidly-v2",
          "solo-top",
          "solo-top",
          "solo-top",
          "solo-top",
          "solv-protocol",
          "solv-protocol",
          "solv-protocol",
          "sommelier",
          "sonne-finance",
          "sovryn*",
          "spartacus",
          "sphere-finance*",
          "spiritswap-amm",
          "spookyswap",
          "spool-protocol",
          "stader",
          "stader",
          "stader",
          "stader",
          "stader",
          "stader",
          "stafi",
          "stafi",
          "stafi",
          "stafi",
          "stafi",
          "stafi",
          "stake.link",
          "stake.ly",
          "stakedao*",
          "stakedao*",
          "stakedao*",
          "stakedao*",
          "stakewise",
          "stakewise",
          "stargate",
          "stargate",
          "stargate",
          "stargate",
          "stargate",
          "stargate",
          "stargate",
          "stargate",
          "stellarx*",
          "stellaswap*",
          "step-exchange*",
          "stride",
          "strike",
          "sturdy*",
          "sturdy*",
          "sun.io",
          "sundaeswap",
          "sunswap*",
          "sushi-bentobox",
          "sushi-bentobox",
          "sushi-bentobox",
          "sushi-bentobox",
          "sushi-bentobox",
          "sushi-bentobox",
          "sushi-bentobox",
          "sushi-bentobox",
          "sushiswap*",
          "sushiswap*",
          "sushiswap*",
          "sushiswap*",
          "sushiswap*",
          "sushiswap*",
          "sushiswap*",
          "sushiswap*",
          "sushiswap*",
          "sushiswap*",
          "sushiswap*",
          "sushiswap*",
          "sushiswap*",
          "sushiswap*",
          "sushiswap*",
          "sushiswap*",
          "sushiswap*",
          "sushiswap*",
          "sushiswap*",
          "swappi*",
          "swapr*",
          "swapr*",
          "swapr*",
          "swop",
          "synapse",
          "synapse",
          "synapse",
          "synapse",
          "synapse",
          "synapse",
          "synapse",
          "synapse",
          "synapse",
          "synapse",
          "synapse",
          "synapse",
          "synapse",
          "synapse",
          "synapse",
          "synapse",
          "synthetix",
          "synthetix",
          "tarot",
          "tarot",
          "team-finance*",
          "team-finance*",
          "team-finance*",
          "team-finance*",
          "tectonic",
          "terra-bridge",
          "terra-bridge",
          "terra-bridge",
          "tetu-earn*",
          "tetu-earn*",
          "tetu-earn*",
          "tetu-earn*",
          "tezos-liquidity-baking",
          "the-tokenized-bitcoin",
          "thena*",
          "thetanuts-finance",
          "thetanuts-finance",
          "thetanuts-finance",
          "thetanuts-finance",
          "thetanuts-finance",
          "thetanuts-finance",
          "thetanuts-finance",
          "thetaswap*",
          "tinyman*",
          "titano-swych*",
          "tokemak",
          "tokensfarm*",
          "tokensfarm*",
          "tokensfarm*",
          "tokensfarm*",
          "tokensfarm*",
          "tomb-swap",
          "torches",
          "tornado-cash",
          "tornado-cash",
          "tornado-cash",
          "tornado-cash",
          "tornado-cash",
          "tornado-cash",
          "tornado-cash",
          "toros*",
          "toros*",
          "tortuga",
          "toucan-protocol",
          "toucan-protocol",
          "trader-joe-dex*",
          "trader-joe-lend",
          "tranchess",
          "tranchess",
          "trisolaris*",
          "tulip-protocol*",
          "ultronswap*",
          "unicrypt*",
          "unicrypt*",
          "unicrypt*",
          "unicrypt*",
          "unicrypt*",
          "unifi",
          "unifi",
          "unifi",
          "unifi",
          "unifi",
          "unifi",
          "unifi",
          "unifi",
          "unifi",
          "unifi",
          "unifi",
          "uniswap-v1*",
          "uniswap-v2*",
          "uniswap-v3*",
          "uniswap-v3*",
          "uniswap-v3*",
          "uniswap-v3*",
          "uniswap-v3*",
          "unslashed",
          "usd+",
          "usd+",
          "usd+",
          "usd+",
          "uwu-lend",
          "valas-finance",
          "valleyswap*",
          "vanswap*",
          "vector-finance",
          "velodrome*",
          "venus",
          "vesper",
          "vesper",
          "vesper",
          "vesta-finance",
          "vires-finance",
          "voltz",
          "vvs-finance*",
          "w3swap*",
          "wan-bridge*",
          "wan-bridge*",
          "wan-bridge*",
          "wan-bridge*",
          "wan-bridge*",
          "wan-bridge*",
          "wan-bridge*",
          "wan-bridge*",
          "wan-bridge*",
          "wan-bridge*",
          "wanswap-dex*",
          "wbtc",
          "wepiggy",
          "wepiggy",
          "wepiggy",
          "wepiggy",
          "wepiggy",
          "wepiggy",
          "wepiggy",
          "wepiggy",
          "wepiggy",
          "wepiggy",
          "wepiggy",
          "wepiggy",
          "wing-finance*",
          "wing-finance*",
          "wing-finance*",
          "wing-finance*",
          "wing-finance*",
          "wingriders",
          "wombat-exchange",
          "wombex-finance",
          "wonderland",
          "wonderland",
          "woofi",
          "woofi",
          "woofi",
          "woofi",
          "woofi",
          "woofi",
          "woofi-earn*",
          "woofi-earn*",
          "woofi-earn*",
          "woofi-earn*",
          "woofi-earn*",
          "woofi-earn*",
          "wrapped-bnb",
          "wx.network",
          "wynd-dex*",
          "xexchange*",
          "xtoken",
          "xtoken",
          "xtoken",
          "yearn-finance*",
          "yearn-finance*",
          "yearn-finance*",
          "yearn-finance*",
          "yeti-finance*",
          "yield-protocol*",
          "yield-protocol*",
          "yield-yak-aggregator",
          "yokaiswap*",
          "yokaiswap*",
          "yoshi-exchange",
          "yoshi-exchange",
          "youves",
          "zilswap*",
          "zookeeper*",
          "zookeeper*",
          "zyberswap*",
          "Acala",
          "Algorand",
          "Aptos",
          "Arbitrum",
          "Arbitrum Nova",
          "Astar",
          "Aurora",
          "Avalanche",
          "Bifrost",
          "Binance",
          "Bitcoin",
          "Bitgert",
          "Bittorrent",
          "Boba",
          "Boba_Avax",
          "Boba_Bnb",
          "CLV",
          "Canto",
          "Cardano",
          "Celo",
          "Conflux",
          "Cosmos",
          "Crescent",
          "Cronos",
          "Cube",
          "DFK",
          "DefiChain",
          "Dogechain",
          "EOS",
          "Elastos",
          "Elrond",
          "Ethereum",
          "Ethereum-vesting",
          "EthereumClassic",
          "Everscale",
          "Evmos",
          "Fantom",
          "Flare",
          "Flow",
          "Fuse",
          "Fusion",
          "Godwoken",
          "GodwokenV1",
          "Harmony",
          "Heco",
          "Hedera",
          "Heiko",
          "Icon",
          "Injective",
          "IoTeX",
          "Juno",
          "Karura",
          "Kava",
          "Klaytn",
          "Kucoin",
          "Kusama",
          "LBRY",
          "Meter",
          "Metis",
          "Milkomeda",
          "Mixin",
          "Moonbeam",
          "Moonriver",
          "NEO",
          "Near",
          "Neo3",
          "OKExChain",
          "Oasis",
          "Ontology",
          "OntologyEVM",
          "Optimism",
          "Osmosis",
          "Palm",
          "Parallel",
          "Polkadot",
          "Polygon",
          "REI",
          "RSK",
          "Ripple",
          "Ronin",
          "Shiden",
          "Solana",
          "Songbird",
          "Sora",
          "Stacks",
          "Stafi",
          "Starcoin",
          "Stellar",
          "Step",
          "Stride",
          "Syscoin",
          "TON",
          "Telos",
          "Terra",
          "Terra2",
          "Tezos",
          "Theta",
          "Tlchain",
          "Tron",
          "Ultra",
          "Ultron",
          "Velas",
          "Vision",
          "Wanchain",
          "Waves",
          "Wax",
          "XDC",
          "Zilliqa",
          "smartBCH",
          "vesting",
          "xDai",
          "all"
         ],
         "marker": {
          "coloraxis": "coloraxis",
          "colors": [
           -1,
           -1,
           1,
           1,
           1,
           -1,
           -1,
           -1,
           -1,
           -1,
           1,
           1,
           -1,
           -1,
           1,
           1,
           -1,
           1,
           1,
           1,
           1,
           -1,
           -1,
           -1,
           1,
           1,
           1,
           1,
           1,
           1,
           1,
           1,
           1,
           1,
           1,
           1,
           -1,
           1,
           -1,
           -1,
           -1,
           1,
           1,
           1,
           1,
           -1,
           1,
           -1,
           -1,
           -1,
           1,
           -1,
           -1,
           -1,
           -1,
           -1,
           -1,
           -1,
           1,
           1,
           1,
           1,
           -1,
           1,
           -1,
           -1,
           -1,
           1,
           1,
           1,
           1,
           1,
           1,
           1,
           -1,
           -1,
           1,
           -1,
           1,
           -1,
           1,
           1,
           1,
           -1,
           -1,
           1,
           1,
           1,
           1,
           1,
           1,
           1,
           -1,
           1,
           1,
           1,
           1,
           1,
           1,
           1,
           1,
           1,
           1,
           1,
           -1,
           1,
           1,
           1,
           -1,
           -1,
           -1,
           1,
           1,
           -1,
           1,
           1,
           1,
           1,
           1,
           -1,
           1,
           1,
           1,
           1,
           -1,
           -1,
           -1,
           1,
           1,
           1,
           1,
           1,
           1,
           1,
           1,
           1,
           -1,
           1,
           -1,
           1,
           1,
           -1,
           1,
           1,
           1,
           1,
           1,
           -1,
           -1,
           -1,
           1,
           1,
           1,
           -1,
           -1,
           -1,
           -1,
           -1,
           -1,
           1,
           -1,
           1,
           -1,
           -1,
           1,
           -1,
           -1,
           1,
           1,
           -1,
           1,
           -1,
           1,
           1,
           1,
           1,
           1,
           -1,
           -1,
           1,
           1,
           -1,
           1,
           -1,
           1,
           1,
           1,
           -1,
           1,
           1,
           -1,
           1,
           1,
           1,
           1,
           -1,
           -1,
           1,
           1,
           1,
           1,
           1,
           1,
           1,
           -1,
           -1,
           -1,
           -1,
           -1,
           1,
           -1,
           -1,
           -1,
           1,
           1,
           -1,
           -1,
           1,
           -1,
           -1,
           -1,
           -1,
           -1,
           1,
           -1,
           -1,
           -1,
           1,
           -1,
           1,
           1,
           -1,
           -1,
           -1,
           -1,
           1,
           1,
           -1,
           1,
           1,
           1,
           -1,
           1,
           1,
           1,
           -1,
           1,
           1,
           -1,
           -1,
           -1,
           1,
           1,
           1,
           1,
           1,
           1,
           -1,
           1,
           1,
           1,
           1,
           1,
           1,
           1,
           1,
           1,
           1,
           -1,
           1,
           1,
           1,
           1,
           -1,
           -1,
           -1,
           1,
           1,
           1,
           1,
           1,
           1,
           1,
           1,
           1,
           1,
           1,
           1,
           1,
           1,
           1,
           1,
           1,
           1,
           1,
           -1,
           1,
           1,
           1,
           -1,
           -1,
           1,
           1,
           -1,
           1,
           1,
           1,
           1,
           1,
           -1,
           -1,
           -1,
           -1,
           -1,
           1,
           1,
           -1,
           -1,
           -1,
           -1,
           1,
           1,
           -1,
           -1,
           -1,
           -1,
           1,
           -1,
           -1,
           -1,
           1,
           1,
           1,
           1,
           1,
           1,
           1,
           1,
           -1,
           1,
           1,
           1,
           1,
           1,
           -1,
           1,
           1,
           1,
           -1,
           1,
           1,
           1,
           1,
           1,
           1,
           1,
           1,
           1,
           1,
           1,
           -1,
           1,
           -1,
           1,
           1,
           -1,
           1,
           1,
           1,
           1,
           -1,
           1,
           1,
           1,
           1,
           -1,
           1,
           1,
           1,
           1,
           -1,
           -1,
           -1,
           -1,
           1,
           1,
           1,
           1,
           1,
           1,
           -1,
           -1,
           -1,
           1,
           1,
           -1,
           1,
           -1,
           1,
           1,
           -1,
           1,
           1,
           1,
           1,
           1,
           1,
           1,
           -1,
           1,
           1,
           -1,
           -1,
           -1,
           -1,
           -1,
           1,
           1,
           -1,
           -1,
           -1,
           1,
           1,
           -1,
           1,
           1,
           1,
           -1,
           -1,
           1,
           -1,
           1,
           -1,
           1,
           1,
           1,
           -1,
           -1,
           1,
           -1,
           -1,
           -1,
           1,
           1,
           1,
           1,
           1,
           -1,
           -1,
           -1,
           -1,
           1,
           1,
           1,
           1,
           1,
           1,
           1,
           1,
           1,
           1,
           -1,
           1,
           1,
           1,
           1,
           1,
           1,
           -1,
           -1,
           1,
           1,
           1,
           1,
           -1,
           -1,
           -1,
           -1,
           1,
           -1,
           -1,
           1,
           1,
           1,
           1,
           1,
           1,
           -1,
           -1,
           1,
           1,
           1,
           1,
           1,
           -1,
           1,
           -1,
           -1,
           1,
           1,
           1,
           1,
           1,
           1,
           -1,
           1,
           1,
           1,
           -1,
           1,
           -1,
           1,
           -1,
           1,
           -1,
           1,
           -1,
           1,
           1,
           1,
           -1,
           -1,
           1,
           -1,
           -1,
           1,
           -1,
           -1,
           -1,
           -1,
           1,
           1,
           1,
           1,
           -1,
           -1,
           -1,
           1,
           1,
           -1,
           -1,
           -1,
           -1,
           1,
           1,
           1,
           1,
           1,
           1,
           1,
           1,
           -1,
           1,
           1,
           -1,
           -1,
           -1,
           1,
           -1,
           1,
           -1,
           1,
           -1,
           -1,
           -1,
           -1,
           -1,
           -1,
           -1,
           -1,
           -1,
           1,
           -1,
           1,
           -1,
           -1,
           -1,
           -1,
           -1,
           1,
           -1,
           -1,
           -1,
           1,
           1,
           1,
           1,
           -1,
           -1,
           1,
           -1,
           1,
           -1,
           1,
           -1,
           1,
           -1,
           -1,
           1,
           1,
           1,
           1,
           -1,
           -1,
           -1,
           -1,
           1,
           1,
           1,
           1,
           -1,
           1,
           1,
           1,
           -1,
           1,
           1,
           1,
           1,
           -1,
           1,
           1,
           -1,
           -1,
           1,
           1,
           1,
           -1,
           -1,
           1,
           -1,
           -1,
           1,
           1,
           -1,
           1,
           1,
           1,
           1,
           1,
           -1,
           1,
           -1,
           1,
           -1,
           -1,
           -1,
           1,
           1,
           1,
           1,
           1,
           1,
           1,
           -1,
           1,
           1,
           1,
           -1,
           -1,
           1,
           1,
           1,
           1,
           -1,
           -1,
           1,
           1,
           1,
           -1,
           1,
           -1,
           -1,
           1,
           -1,
           1,
           1,
           1,
           1,
           1,
           -1,
           1,
           1,
           1,
           1,
           1,
           1,
           1,
           1,
           1,
           1,
           1,
           1,
           1,
           1,
           1,
           1,
           1,
           1,
           1,
           1,
           1,
           -1,
           1,
           1,
           1,
           1,
           1,
           -1,
           1,
           1,
           1,
           1,
           1,
           1,
           1,
           1,
           1,
           -1,
           -1,
           -1,
           -1,
           1,
           1,
           -1,
           1,
           1,
           1,
           1,
           1,
           1,
           1,
           1,
           1,
           1,
           1,
           -1,
           1,
           1,
           1,
           1,
           1,
           1,
           1,
           -1,
           -1,
           -1,
           -1,
           1,
           1,
           -1,
           -1,
           -1,
           -1,
           -1,
           -1,
           -1,
           1,
           -1,
           -1,
           -1,
           -1,
           1,
           1,
           1,
           1,
           1,
           1,
           1,
           -1,
           1,
           1,
           1,
           1,
           1,
           1,
           1,
           1,
           -1,
           -1,
           -1,
           -1,
           1,
           1,
           -1,
           -1,
           -1,
           -1,
           1,
           -1,
           -1,
           -1,
           -1,
           -1,
           -1,
           -1,
           1,
           1,
           -1,
           -1,
           -1,
           1,
           1,
           -1,
           1,
           -1,
           -1,
           -1,
           1,
           1,
           1,
           1,
           -1,
           1,
           -1,
           1,
           -1,
           1,
           -1,
           -1,
           1,
           1,
           1,
           1,
           -1,
           1,
           1,
           -1,
           1,
           1,
           1,
           1,
           -1,
           1,
           -1,
           1,
           1,
           -1,
           1,
           1,
           1,
           1,
           1,
           -1,
           -1,
           1,
           1,
           1,
           1,
           1,
           -1,
           -1,
           -1,
           1,
           1,
           1,
           -1,
           1,
           -1,
           1,
           -1,
           1,
           1,
           -1,
           -1,
           1,
           -1,
           -1,
           -1,
           1,
           1,
           1,
           1,
           1,
           1,
           -1,
           1,
           1,
           -1,
           1,
           1,
           -1,
           -1,
           1,
           1,
           -1,
           1,
           1,
           1,
           1,
           -1,
           -1,
           1,
           -1,
           1,
           -1,
           -1,
           -1,
           1,
           -1,
           -1,
           -1,
           -1,
           1,
           1,
           -1,
           -1,
           1,
           1,
           -1,
           1,
           -1,
           1,
           1,
           1,
           1,
           1,
           1,
           1,
           1,
           1,
           1,
           1,
           1,
           1,
           1,
           1,
           1,
           1,
           1,
           1,
           1,
           1,
           1,
           1,
           -1,
           -1,
           1,
           1,
           -1,
           -1,
           -1,
           -1,
           -1,
           1,
           1,
           -1,
           1,
           -1,
           1,
           -1,
           1,
           1,
           1,
           1,
           -1,
           -1,
           -1,
           -1,
           -1,
           1,
           1,
           1,
           1,
           -1,
           1,
           -1,
           -1,
           -1,
           -1,
           1,
           -1,
           -1,
           1,
           1,
           1,
           1,
           -1,
           -1,
           -1,
           -1,
           -1,
           -1,
           1,
           1,
           1,
           1,
           1,
           1,
           -1,
           -1,
           1,
           1,
           -1,
           -1,
           -1,
           1,
           -1,
           -1,
           1,
           -1,
           1,
           -1,
           -1,
           1,
           1,
           1,
           1,
           -1,
           -1,
           -1,
           1,
           -1,
           1,
           -1,
           1,
           1,
           -1,
           1,
           1,
           1,
           1,
           1,
           1,
           1,
           1,
           1,
           1,
           1,
           1,
           -1,
           -1,
           -1,
           1,
           1,
           1,
           1,
           1,
           -1,
           -1,
           -1,
           -1,
           -1,
           -1,
           1,
           1,
           1,
           -1,
           -1,
           1,
           1,
           1,
           1,
           1,
           1,
           1,
           1,
           -1,
           1,
           1,
           1,
           1,
           1,
           -1,
           1,
           1,
           1,
           1,
           -1,
           1,
           1,
           -1,
           1,
           1,
           -1,
           1,
           -1,
           -1,
           -1,
           1,
           -1,
           -1,
           -1,
           1,
           1,
           -1,
           1,
           1,
           1,
           1,
           1,
           1,
           1,
           -1,
           1,
           1,
           1,
           -1,
           1,
           -1,
           1,
           1,
           -1,
           1,
           1,
           1,
           1,
           1,
           1,
           -1,
           -1,
           -1,
           1,
           1,
           1,
           1,
           -0.9953860499320252,
           1,
           0.38792007822973884,
           0.7027861016896217,
           1,
           0.4975121931839482,
           -0.5786447647118859,
           -0.03322920024118135,
           -1,
           0.5084967212333042,
           1,
           -1,
           0.9999997222383619,
           -0.6314655767460141,
           1,
           1,
           -1,
           1,
           0.885868208249152,
           0.8572614989009852,
           1,
           -1,
           1,
           0.7915184184849208,
           1,
           1,
           1,
           -0.7101076958328947,
           1,
           -1,
           1,
           0.5057683467964825,
           1,
           -1,
           0.46888686967687504,
           -1,
           -0.22532077294891723,
           1,
           1,
           0.12478483220894955,
           1,
           1,
           1,
           -0.1517549050370872,
           0.6783154657549982,
           0.8218435358620718,
           0.9514674709816385,
           0.08561626059647116,
           1,
           0.09008472255504466,
           1,
           0.9473825579490104,
           0.9460348397563346,
           0.37010768193125504,
           -0.05857635218468653,
           -1,
           1,
           1,
           0.7243098643942156,
           -0.936136023071456,
           1,
           0.38600561675464173,
           -0.9881583362459696,
           -0.856137645018999,
           0.7071907508674108,
           1,
           0.8341223368281302,
           0.6846530071698781,
           1,
           -0.9999501661634123,
           0.6057165037274113,
           1,
           1,
           0.9238158865488008,
           -1,
           0.5374145518210288,
           -0.9623733181280547,
           0.7828370838427534,
           1,
           1,
           1,
           -0.12887630949269527,
           -1,
           1,
           1,
           1,
           1,
           1,
           -1,
           1,
           1,
           1,
           -0.4798730122532225,
           0.9971269489590805,
           0.9533705412204215,
           -0.9559258132024415,
           1,
           1,
           0.881361215977951,
           1,
           -1,
           0.9997795680567042,
           1,
           1,
           -0.4979395295959381,
           1,
           1,
           1,
           1,
           1,
           0.6952006471570968,
           0.5587222046033921
          ]
         },
         "name": "",
         "parents": [
          "all/Solana",
          "all/Polygon",
          "all/Binance",
          "all/Ethereum",
          "all/Mixin",
          "all/Ethereum",
          "all/Avalanche",
          "all/Ethereum",
          "all/Polygon",
          "all/Arbitrum",
          "all/Avalanche",
          "all/Ethereum",
          "all/Fantom",
          "all/Optimism",
          "all/Polygon",
          "all/Ethereum",
          "all/Polygon",
          "all/Arbitrum",
          "all/Avalanche",
          "all/Ethereum",
          "all/Fantom",
          "all/Acala",
          "all/Acala",
          "all/Ethereum",
          "all/Arbitrum",
          "all/Astar",
          "all/Avalanche",
          "all/Binance",
          "all/Cronos",
          "all/Ethereum",
          "all/Fantom",
          "all/Harmony",
          "all/Moonbeam",
          "all/Moonriver",
          "all/Optimism",
          "all/xDai",
          "all/Ethereum",
          "all/xDai",
          "all/Ethereum",
          "all/Fantom",
          "all/Optimism",
          "all/Stacks",
          "all/Astar",
          "all/Algorand",
          "all/Algorand",
          "all/Avalanche",
          "all/Binance",
          "all/Celo",
          "all/Ethereum",
          "all/Fantom",
          "all/Heco",
          "all/Near",
          "all/Polygon",
          "all/Solana",
          "all/Terra",
          "all/Binance",
          "all/Fantom",
          "all/Arbitrum",
          "all/Ethereum",
          "all/Optimism",
          "all/Polygon",
          "all/Avalanche",
          "all/Binance",
          "all/Ethereum",
          "all/Fantom",
          "all/Kusama",
          "all/Polkadot",
          "all/xDai",
          "all/Binance",
          "all/Ethereum",
          "all/Polygon",
          "all/Telos",
          "all/Binance",
          "all/Binance",
          "all/Arbitrum",
          "all/Ethereum",
          "all/Optimism",
          "all/Polygon",
          "all/Astar",
          "all/Astar",
          "all/Terra",
          "all/Terra2",
          "all/Solana",
          "all/Ethereum",
          "all/Aurora",
          "all/Aurora",
          "all/Aurora",
          "all/Avalanche",
          "all/Binance",
          "all/Boba",
          "all/Celo",
          "all/Cronos",
          "all/Evmos",
          "all/Fantom",
          "all/Harmony",
          "all/Heco",
          "all/Kucoin",
          "all/Moonriver",
          "all/OKExChain",
          "all/Oasis",
          "all/Polygon",
          "all/Velas",
          "all/Wanchain",
          "all/xDai",
          "all/Aptos",
          "all/Astar",
          "all/Ethereum",
          "all/Ethereum",
          "all/Arbitrum",
          "all/Ethereum",
          "all/Polygon",
          "all/RSK",
          "all/Binance",
          "all/Binance",
          "all/Heco",
          "all/Arbitrum",
          "all/Ethereum",
          "all/Fantom",
          "all/Polygon",
          "all/Binance",
          "all/Icon",
          "all/Arbitrum",
          "all/Ethereum",
          "all/Polygon",
          "all/Ethereum",
          "all/Ethereum",
          "all/Aurora",
          "all/Arbitrum",
          "all/Aurora",
          "all/Avalanche",
          "all/Binance",
          "all/Celo",
          "all/Cronos",
          "all/Ethereum",
          "all/Fantom",
          "all/Fuse",
          "all/Harmony",
          "all/Heco",
          "all/Kava",
          "all/Metis",
          "all/Moonbeam",
          "all/Moonriver",
          "all/Oasis",
          "all/Optimism",
          "all/Polygon",
          "all/Fantom",
          "all/Optimism",
          "all/Binance",
          "all/Heco",
          "all/Klaytn",
          "all/Ethereum",
          "all/Avalanche",
          "all/Avalanche",
          "all/Avalanche",
          "all/Binance",
          "all/Ethereum",
          "all/Klaytn",
          "all/Bifrost",
          "all/Bifrost",
          "all/Ethereum",
          "all/Binance",
          "all/Ethereum",
          "all/Binance",
          "all/Ethereum",
          "all/Polygon",
          "all/Ethereum",
          "all/Arbitrum",
          "all/Ethereum",
          "all/Optimism",
          "all/Polygon",
          "all/Binance",
          "all/Polygon",
          "all/Near",
          "all/Mixin",
          "all/Arbitrum",
          "all/Canto",
          "all/Canto",
          "all/Arbitrum",
          "all/Arbitrum",
          "all/Aurora",
          "all/Avalanche",
          "all/Binance",
          "all/Boba",
          "all/Celo",
          "all/Ethereum",
          "all/Fantom",
          "all/Harmony",
          "all/Heco",
          "all/Metis",
          "all/Moonriver",
          "all/OKExChain",
          "all/Optimism",
          "all/Polygon",
          "all/Shiden",
          "all/Syscoin",
          "all/xDai",
          "all/Solana",
          "all/Sora",
          "all/Binance",
          "all/Ethereum",
          "all/Avalanche",
          "all/Ethereum",
          "all/Polygon",
          "all/Ethereum",
          "all/Arbitrum",
          "all/Ethereum",
          "all/Moonbeam",
          "all/Optimism",
          "all/Polygon",
          "all/Ethereum",
          "all/Binance",
          "all/Heco",
          "all/Ethereum",
          "all/Ethereum",
          "all/Ethereum",
          "all/Arbitrum",
          "all/Avalanche",
          "all/Binance",
          "all/Cronos",
          "all/Ethereum",
          "all/Evmos",
          "all/Fantom",
          "all/Fuse",
          "all/Milkomeda",
          "all/Moonbeam",
          "all/Moonriver",
          "all/Optimism",
          "all/Polygon",
          "all/xDai",
          "all/Arbitrum",
          "all/Ethereum",
          "all/Arbitrum",
          "all/Binance",
          "all/Ethereum",
          "all/Polygon",
          "all/Ethereum",
          "all/Crescent",
          "all/Avalanche",
          "all/Binance",
          "all/Ethereum",
          "all/Fantom",
          "all/Polygon",
          "all/DFK",
          "all/Arbitrum",
          "all/Aurora",
          "all/Avalanche",
          "all/Celo",
          "all/Ethereum",
          "all/Fantom",
          "all/Kava",
          "all/Moonbeam",
          "all/Optimism",
          "all/Polygon",
          "all/xDai",
          "all/Ethereum",
          "all/Tlchain",
          "all/Binance",
          "all/Ethereum",
          "all/Binance",
          "all/EOS",
          "all/Wax",
          "all/DefiChain",
          "all/DefiChain",
          "all/Arbitrum",
          "all/Ethereum",
          "all/Optimism",
          "all/Polygon",
          "all/Ethereum",
          "all/Fantom",
          "all/Arbitrum",
          "all/Binance",
          "all/Ethereum",
          "all/Optimism",
          "all/Polygon",
          "all/Fantom",
          "all/OKExChain",
          "all/Polygon",
          "all/Ethereum",
          "all/Optimism",
          "all/Polygon",
          "all/Cardano",
          "all/Binance",
          "all/Solana",
          "all/Arbitrum",
          "all/Avalanche",
          "all/Binance",
          "all/Binance",
          "all/Arbitrum",
          "all/Avalanche",
          "all/Binance",
          "all/Celo",
          "all/Cronos",
          "all/Ethereum",
          "all/Fantom",
          "all/Harmony",
          "all/Heco",
          "all/Milkomeda",
          "all/OKExChain",
          "all/Polygon",
          "all/Ethereum",
          "all/Ethereum",
          "all/Avalanche",
          "all/Ethereum",
          "all/Binance",
          "all/Ethereum",
          "all/EOS",
          "all/Fantom",
          "all/Ethereum",
          "all/Ethereum",
          "all/Avalanche",
          "all/Binance",
          "all/Ethereum",
          "all/Fantom",
          "all/Polygon",
          "all/Mixin",
          "all/Ethereum",
          "all/Fantom",
          "all/Moonriver",
          "all/Cronos",
          "all/Arbitrum",
          "all/Binance",
          "all/Bittorrent",
          "all/Elastos",
          "all/Heco",
          "all/IoTeX",
          "all/Kava",
          "all/Polygon",
          "all/REI",
          "all/Ethereum",
          "all/NEO",
          "all/Everscale",
          "all/Ethereum",
          "all/Arbitrum",
          "all/Avalanche",
          "all/Binance",
          "all/Cronos",
          "all/Dogechain",
          "all/Ethereum",
          "all/Evmos",
          "all/Fantom",
          "all/Kucoin",
          "all/OKExChain",
          "all/Optimism",
          "all/Polygon",
          "all/Ethereum",
          "all/Algorand",
          "all/Solana",
          "all/Solana",
          "all/Ethereum",
          "all/Fantom",
          "all/Ethereum",
          "all/Arbitrum",
          "all/Avalanche",
          "all/Binance",
          "all/Dogechain",
          "all/Ethereum",
          "all/Fantom",
          "all/Moonbeam",
          "all/Polygon",
          "all/Ethereum",
          "all/Binance",
          "all/Arbitrum",
          "all/Polygon",
          "all/Arbitrum",
          "all/Celo",
          "all/Ethereum",
          "all/Optimism",
          "all/Polygon",
          "all/Algorand",
          "all/Ethereum",
          "all/Fantom",
          "all/Ethereum",
          "all/Arbitrum",
          "all/Avalanche",
          "all/Arbitrum",
          "all/Avalanche",
          "all/Binance",
          "all/Ethereum",
          "all/Fantom",
          "all/Metis",
          "all/Optimism",
          "all/Binance",
          "all/Avalanche",
          "all/Ethereum",
          "all/Binance",
          "all/Polygon",
          "all/Binance",
          "all/Ethereum",
          "all/Polygon",
          "all/Arbitrum",
          "all/Avalanche",
          "all/Binance",
          "all/Ethereum",
          "all/Optimism",
          "all/Polygon",
          "all/Ethereum",
          "all/Binance",
          "all/Ethereum",
          "all/Fantom",
          "all/Arbitrum",
          "all/Binance",
          "all/Hedera",
          "all/Injective",
          "all/Metis",
          "all/Avalanche",
          "all/Binance",
          "all/Ethereum",
          "all/Fantom",
          "all/Optimism",
          "all/Polygon",
          "all/xDai",
          "all/Arbitrum",
          "all/Ethereum",
          "all/Optimism",
          "all/Polygon",
          "all/xDai",
          "all/Algorand",
          "all/Metis",
          "all/Arbitrum",
          "all/Fantom",
          "all/Harmony",
          "all/Moonriver",
          "all/Optimism",
          "all/Polygon",
          "all/xDai",
          "all/Ethereum",
          "all/Polygon",
          "all/Ethereum",
          "all/Polygon",
          "all/Ethereum",
          "all/Polygon",
          "all/Flow",
          "all/Ethereum",
          "all/Cardano",
          "all/Ethereum",
          "all/Ethereum",
          "all/Avalanche",
          "all/Binance",
          "all/Ethereum",
          "all/Polygon",
          "all/Ethereum",
          "all/Binance",
          "all/Ethereum",
          "all/IoTeX",
          "all/Polygon",
          "all/Ethereum",
          "all/Avalanche",
          "all/Ethereum",
          "all/Fantom",
          "all/Optimism",
          "all/Binance",
          "all/Solana",
          "all/Arbitrum",
          "all/Avalanche",
          "all/Arbitrum",
          "all/Ethereum",
          "all/Solana",
          "all/Tron",
          "all/Tron",
          "all/Tron",
          "all/Solana",
          "all/Karura",
          "all/Karura",
          "all/Ronin",
          "all/Kava",
          "all/Kava",
          "all/Kava",
          "all/Kava",
          "all/Ethereum",
          "all/Ethereum",
          "all/Klaytn",
          "all/Klaytn",
          "all/Klaytn",
          "all/Klaytn",
          "all/Polygon",
          "all/Binance",
          "all/Fantom",
          "all/Tezos",
          "all/Arbitrum",
          "all/Avalanche",
          "all/Binance",
          "all/Bittorrent",
          "all/Cronos",
          "all/Ethereum",
          "all/Fantom",
          "all/Oasis",
          "all/Optimism",
          "all/Polygon",
          "all/Velas",
          "all/Solana",
          "all/Binance",
          "all/Binance",
          "all/Ethereum",
          "all/Moonbeam",
          "all/Moonriver",
          "all/Solana",
          "all/Terra",
          "all/Solana",
          "all/Bitcoin",
          "all/Binance",
          "all/Near",
          "all/Binance",
          "all/Ethereum",
          "all/Binance",
          "all/Fantom",
          "all/Aptos",
          "all/Ethereum",
          "all/Cardano",
          "all/Ethereum",
          "all/Algorand",
          "all/Ethereum",
          "all/Stellar",
          "all/Ethereum",
          "all/Arbitrum",
          "all/Ethereum",
          "all/Optimism",
          "all/Binance",
          "all/Metis",
          "all/Ethereum",
          "all/Ethereum",
          "all/Solana",
          "all/Solana",
          "all/Celo",
          "all/Ethereum",
          "all/Solana",
          "all/Polygon",
          "all/Near",
          "all/Polygon",
          "all/Binance",
          "all/Ethereum",
          "all/Meter",
          "all/Moonriver",
          "all/Theta",
          "all/IoTeX",
          "all/Ethereum",
          "all/Fantom",
          "all/Polygon",
          "all/Cardano",
          "all/Cronos",
          "all/Kucoin",
          "all/RSK",
          "all/Ethereum",
          "all/Celo",
          "all/Avalanche",
          "all/Binance",
          "all/Ethereum",
          "all/Fantom",
          "all/Kava",
          "all/Polygon",
          "all/Solana",
          "all/Terra",
          "all/Moonriver",
          "all/Moonbeam",
          "all/Ethereum",
          "all/Ethereum",
          "all/Ethereum",
          "all/Polygon",
          "all/Cardano",
          "all/Milkomeda",
          "all/smartBCH",
          "all/Arbitrum",
          "all/Astar",
          "all/Avalanche",
          "all/Binance",
          "all/Celo",
          "all/Dogechain",
          "all/Ethereum",
          "all/EthereumClassic",
          "all/Evmos",
          "all/Fantom",
          "all/Fuse",
          "all/Fusion",
          "all/Harmony",
          "all/Heco",
          "all/IoTeX",
          "all/Kucoin",
          "all/Milkomeda",
          "all/Moonbeam",
          "all/Moonriver",
          "all/OKExChain",
          "all/Oasis",
          "all/Optimism",
          "all/Polygon",
          "all/REI",
          "all/RSK",
          "all/Shiden",
          "all/Syscoin",
          "all/Telos",
          "all/xDai",
          "all/Fantom",
          "all/Arbitrum",
          "all/Avalanche",
          "all/Binance",
          "all/Fantom",
          "all/Arbitrum",
          "all/NEO",
          "all/Klaytn",
          "all/Tron",
          "all/Binance",
          "all/Metis",
          "all/Waves",
          "all/Ethereum",
          "all/Ethereum",
          "all/Ethereum",
          "all/Binance",
          "all/Ethereum",
          "all/Arbitrum",
          "all/Astar",
          "all/Avalanche",
          "all/Binance",
          "all/Bitgert",
          "all/Celo",
          "all/Cube",
          "all/Ethereum",
          "all/Fantom",
          "all/Kucoin",
          "all/Metis",
          "all/Optimism",
          "all/Polygon",
          "all/xDai",
          "all/Binance",
          "all/Ethereum",
          "all/Everscale",
          "all/OKExChain",
          "all/OKExChain",
          "all/Ethereum",
          "all/Icon",
          "all/Avalanche",
          "all/Ethereum",
          "all/Polygon",
          "all/Ethereum",
          "all/Binance",
          "all/Celo",
          "all/Ethereum",
          "all/Heco",
          "all/Klaytn",
          "all/Polygon",
          "all/Ripple",
          "all/TON",
          "all/Near",
          "all/Ethereum",
          "all/Binance",
          "all/Ethereum",
          "all/Osmosis",
          "all/Ethereum",
          "all/Boba",
          "all/Ethereum",
          "all/Polygon",
          "all/Algorand",
          "all/Aptos",
          "all/Binance",
          "all/Ethereum",
          "all/Mixin",
          "all/Mixin",
          "all/Klaytn",
          "all/Avalanche",
          "all/Flare",
          "all/Hedera",
          "all/Songbird",
          "all/Heiko",
          "all/Parallel",
          "all/Heiko",
          "all/Parallel",
          "all/Heiko",
          "all/Parallel",
          "all/Solana",
          "all/EOS",
          "all/Avalanche",
          "all/Ethereum",
          "all/Optimism",
          "all/Arbitrum",
          "all/Aurora",
          "all/Cronos",
          "all/Ethereum",
          "all/Kava",
          "all/Metis",
          "all/Moonbeam",
          "all/Moonriver",
          "all/OKExChain",
          "all/Optimism",
          "all/Polygon",
          "all/Optimism",
          "all/Avalanche",
          "all/Binance",
          "all/Cronos",
          "all/Ethereum",
          "all/Fantom",
          "all/Polygon",
          "all/Arbitrum",
          "all/Ethereum",
          "all/Avalanche",
          "all/Arbitrum",
          "all/Algorand",
          "all/Arbitrum",
          "all/Binance",
          "all/EOS",
          "all/Ethereum",
          "all/LBRY",
          "all/Polygon",
          "all/Telos",
          "all/Ultra",
          "all/Arbitrum",
          "all/Astar",
          "all/Avalanche",
          "all/Binance",
          "all/Boba",
          "all/Celo",
          "all/Ethereum",
          "all/Fantom",
          "all/Heco",
          "all/Metis",
          "all/NEO",
          "all/Neo3",
          "all/OKExChain",
          "all/Ontology",
          "all/Optimism",
          "all/Polygon",
          "all/Starcoin",
          "all/xDai",
          "all/Avalanche",
          "all/Binance",
          "all/Celo",
          "all/Ethereum",
          "all/Optimism",
          "all/Polygon",
          "all/Solana",
          "all/Acala",
          "all/Algorand",
          "all/Aptos",
          "all/Aurora",
          "all/Avalanche",
          "all/Binance",
          "all/Celo",
          "all/Ethereum",
          "all/Fantom",
          "all/Karura",
          "all/Klaytn",
          "all/Moonbeam",
          "all/Near",
          "all/Oasis",
          "all/Polygon",
          "all/Solana",
          "all/Terra",
          "all/Terra2",
          "all/Arbitrum",
          "all/Ethereum",
          "all/Fantom",
          "all/Optimism",
          "all/Ethereum",
          "all/Polygon",
          "all/Arbitrum",
          "all/Avalanche",
          "all/Binance",
          "all/Ethereum",
          "all/Fantom",
          "all/Harmony",
          "all/Metis",
          "all/Moonbeam",
          "all/Optimism",
          "all/Polygon",
          "all/xDai",
          "all/Solana",
          "all/Polygon",
          "all/Dogechain",
          "all/Polygon",
          "all/Binance",
          "all/Arbitrum",
          "all/Arbitrum",
          "all/Arbitrum",
          "all/Ethereum",
          "all/Solana",
          "all/xDai",
          "all/xDai",
          "all/Arbitrum",
          "all/Binance",
          "all/Fantom",
          "all/Optimism",
          "all/Ethereum",
          "all/Near",
          "all/Ethereum",
          "all/Arbitrum",
          "all/Avalanche",
          "all/Binance",
          "all/Ethereum",
          "all/Fantom",
          "all/Harmony",
          "all/Metis",
          "all/Optimism",
          "all/Polygon",
          "all/Arbitrum",
          "all/Avalanche",
          "all/Binance",
          "all/Ethereum",
          "all/Fantom",
          "all/Polygon",
          "all/Solana",
          "all/Ethereum",
          "all/Arbitrum",
          "all/Ethereum",
          "all/Optimism",
          "all/Polygon",
          "all/Telos",
          "all/Arbitrum",
          "all/Ethereum",
          "all/Polygon",
          "all/Avalanche",
          "all/Ethereum",
          "all/Solana",
          "all/Ethereum",
          "all/Arbitrum",
          "all/Avalanche",
          "all/Ethereum",
          "all/Fantom",
          "all/Optimism",
          "all/Terra2",
          "all/Ethereum",
          "all/Ethereum",
          "all/Optimism",
          "all/Solana",
          "all/Ethereum",
          "all/Ethereum-vesting",
          "all/vesting",
          "all/Arbitrum",
          "all/Ethereum",
          "all/Evmos",
          "all/Fantom",
          "all/Kava",
          "all/Optimism",
          "all/Binance",
          "all/Ethereum",
          "all/Hedera",
          "all/Arbitrum",
          "all/Ethereum",
          "all/Ethereum",
          "all/Arbitrum",
          "all/Ethereum",
          "all/Ethereum",
          "all/Icon",
          "all/Ethereum",
          "all/Cronos",
          "all/Fantom",
          "all/Binance",
          "all/Ethereum",
          "all/Moonriver",
          "all/Solana",
          "all/Ethereum",
          "all/Binance",
          "all/Heco",
          "all/OKExChain",
          "all/Polygon",
          "all/Binance",
          "all/Ethereum",
          "all/Polygon",
          "all/Ethereum",
          "all/Optimism",
          "all/RSK",
          "all/Fantom",
          "all/Polygon",
          "all/Fantom",
          "all/Fantom",
          "all/Ethereum",
          "all/Binance",
          "all/Ethereum",
          "all/Fantom",
          "all/Hedera",
          "all/Near",
          "all/Terra2",
          "all/Binance",
          "all/Cosmos",
          "all/Ethereum",
          "all/Polygon",
          "all/Solana",
          "all/Stafi",
          "all/Ethereum",
          "all/Klaytn",
          "all/Avalanche",
          "all/Binance",
          "all/Ethereum",
          "all/Polygon",
          "all/Ethereum",
          "all/xDai",
          "all/Arbitrum",
          "all/Avalanche",
          "all/Binance",
          "all/Ethereum",
          "all/Fantom",
          "all/Metis",
          "all/Optimism",
          "all/Polygon",
          "all/Stellar",
          "all/Moonbeam",
          "all/Step",
          "all/Stride",
          "all/Ethereum",
          "all/Ethereum",
          "all/Fantom",
          "all/Tron",
          "all/Cardano",
          "all/Tron",
          "all/Arbitrum",
          "all/Avalanche",
          "all/Binance",
          "all/Ethereum",
          "all/Fantom",
          "all/Optimism",
          "all/Polygon",
          "all/xDai",
          "all/Arbitrum",
          "all/Arbitrum Nova",
          "all/Avalanche",
          "all/Binance",
          "all/Boba",
          "all/Boba_Avax",
          "all/Boba_Bnb",
          "all/Celo",
          "all/Ethereum",
          "all/Fantom",
          "all/Fuse",
          "all/Harmony",
          "all/Heco",
          "all/Moonriver",
          "all/OKExChain",
          "all/Palm",
          "all/Polygon",
          "all/Telos",
          "all/xDai",
          "all/Conflux",
          "all/Arbitrum",
          "all/Ethereum",
          "all/xDai",
          "all/Waves",
          "all/Arbitrum",
          "all/Aurora",
          "all/Avalanche",
          "all/Binance",
          "all/Boba",
          "all/Cronos",
          "all/Ethereum",
          "all/Fantom",
          "all/Harmony",
          "all/Klaytn",
          "all/Metis",
          "all/Moonbeam",
          "all/Moonriver",
          "all/Optimism",
          "all/Polygon",
          "all/Terra",
          "all/Ethereum",
          "all/Optimism",
          "all/Fantom",
          "all/Optimism",
          "all/Avalanche",
          "all/Binance",
          "all/Ethereum",
          "all/Polygon",
          "all/Cronos",
          "all/Binance",
          "all/Ethereum",
          "all/Harmony",
          "all/Binance",
          "all/Ethereum",
          "all/Fantom",
          "all/Polygon",
          "all/Tezos",
          "all/Ethereum",
          "all/Binance",
          "all/Aurora",
          "all/Avalanche",
          "all/Binance",
          "all/Boba",
          "all/Ethereum",
          "all/Fantom",
          "all/Polygon",
          "all/Theta",
          "all/Algorand",
          "all/Binance",
          "all/Ethereum",
          "all/Avalanche",
          "all/Binance",
          "all/Ethereum",
          "all/Fantom",
          "all/Polygon",
          "all/Fantom",
          "all/Kucoin",
          "all/Arbitrum",
          "all/Avalanche",
          "all/Binance",
          "all/Ethereum",
          "all/Optimism",
          "all/Polygon",
          "all/xDai",
          "all/Optimism",
          "all/Polygon",
          "all/Aptos",
          "all/Celo",
          "all/Polygon",
          "all/Avalanche",
          "all/Avalanche",
          "all/Binance",
          "all/Ethereum",
          "all/Aurora",
          "all/Solana",
          "all/Ultron",
          "all/Avalanche",
          "all/Binance",
          "all/Ethereum",
          "all/Polygon",
          "all/xDai",
          "all/Avalanche",
          "all/Binance",
          "all/Bittorrent",
          "all/Ethereum",
          "all/Fantom",
          "all/Harmony",
          "all/IoTeX",
          "all/Ontology",
          "all/OntologyEVM",
          "all/Polygon",
          "all/Tron",
          "all/Ethereum",
          "all/Ethereum",
          "all/Arbitrum",
          "all/Celo",
          "all/Ethereum",
          "all/Optimism",
          "all/Polygon",
          "all/Ethereum",
          "all/Avalanche",
          "all/Binance",
          "all/Optimism",
          "all/Polygon",
          "all/Ethereum",
          "all/Binance",
          "all/Oasis",
          "all/Vision",
          "all/Avalanche",
          "all/Optimism",
          "all/Binance",
          "all/Avalanche",
          "all/Ethereum",
          "all/Polygon",
          "all/Arbitrum",
          "all/Waves",
          "all/Ethereum",
          "all/Cronos",
          "all/Binance",
          "all/Avalanche",
          "all/Binance",
          "all/CLV",
          "all/Ethereum",
          "all/Moonbeam",
          "all/Moonriver",
          "all/OKExChain",
          "all/Polygon",
          "all/Wanchain",
          "all/XDC",
          "all/Wanchain",
          "all/Ethereum",
          "all/Arbitrum",
          "all/Aurora",
          "all/Binance",
          "all/Ethereum",
          "all/Harmony",
          "all/Heco",
          "all/Moonbeam",
          "all/Moonriver",
          "all/OKExChain",
          "all/Oasis",
          "all/Optimism",
          "all/Polygon",
          "all/Binance",
          "all/Ethereum",
          "all/OKExChain",
          "all/Ontology",
          "all/OntologyEVM",
          "all/Cardano",
          "all/Binance",
          "all/Binance",
          "all/Avalanche",
          "all/Ethereum",
          "all/Arbitrum",
          "all/Avalanche",
          "all/Binance",
          "all/Fantom",
          "all/Optimism",
          "all/Polygon",
          "all/Arbitrum",
          "all/Avalanche",
          "all/Binance",
          "all/Fantom",
          "all/Optimism",
          "all/Polygon",
          "all/Binance",
          "all/Waves",
          "all/Juno",
          "all/Elrond",
          "all/Arbitrum",
          "all/Ethereum",
          "all/Optimism",
          "all/Arbitrum",
          "all/Ethereum",
          "all/Fantom",
          "all/Optimism",
          "all/Avalanche",
          "all/Arbitrum",
          "all/Ethereum",
          "all/Avalanche",
          "all/Godwoken",
          "all/GodwokenV1",
          "all/Binance",
          "all/Fantom",
          "all/Tezos",
          "all/Zilliqa",
          "all/Avalanche",
          "all/Wanchain",
          "all/Arbitrum",
          "all",
          "all",
          "all",
          "all",
          "all",
          "all",
          "all",
          "all",
          "all",
          "all",
          "all",
          "all",
          "all",
          "all",
          "all",
          "all",
          "all",
          "all",
          "all",
          "all",
          "all",
          "all",
          "all",
          "all",
          "all",
          "all",
          "all",
          "all",
          "all",
          "all",
          "all",
          "all",
          "all",
          "all",
          "all",
          "all",
          "all",
          "all",
          "all",
          "all",
          "all",
          "all",
          "all",
          "all",
          "all",
          "all",
          "all",
          "all",
          "all",
          "all",
          "all",
          "all",
          "all",
          "all",
          "all",
          "all",
          "all",
          "all",
          "all",
          "all",
          "all",
          "all",
          "all",
          "all",
          "all",
          "all",
          "all",
          "all",
          "all",
          "all",
          "all",
          "all",
          "all",
          "all",
          "all",
          "all",
          "all",
          "all",
          "all",
          "all",
          "all",
          "all",
          "all",
          "all",
          "all",
          "all",
          "all",
          "all",
          "all",
          "all",
          "all",
          "all",
          "all",
          "all",
          "all",
          "all",
          "all",
          "all",
          "all",
          "all",
          "all",
          "all",
          "all",
          "all",
          "all",
          "all",
          "all",
          "all",
          "all",
          "all",
          "all",
          ""
         ],
         "root": {
          "color": "lightgrey"
         },
         "type": "treemap",
         "values": [
          3000.271450404967,
          227912.5434404309,
          216753.98687000014,
          1171240.1121300003,
          11205865.598559998,
          2707898.534272882,
          2536549.0618943204,
          288716060.5956894,
          15971252.414181808,
          1450953.693938364,
          4156020.9693163815,
          100443118.48385,
          104204.8711551093,
          8316329.044248313,
          18513732.714845616,
          35345.066666045175,
          203616.18536533465,
          16172398.260140002,
          61541.76405999996,
          60983664.977129996,
          444697.97097,
          7542283.519191292,
          2332272.74354688,
          1856565.4588438056,
          803057.6165406371,
          9184.168009870964,
          30017.031114306967,
          2019402.633662948,
          63964.65482475185,
          158503.52498525789,
          171274.151797762,
          16987.654536438255,
          102467.89498518984,
          19472.56348736002,
          295583.0928171567,
          37307.13444667186,
          1044239.7206162903,
          2463342.9049198106,
          8265491.109072688,
          1436.2770531833642,
          125054.73378625646,
          732797.61185,
          160284.0950177022,
          41055836.46766586,
          75092532.15856,
          36178.86491963838,
          210756.97511903834,
          33356.02500406203,
          343679.68417102436,
          3190.3551028301126,
          983.9655445828832,
          4745,
          2984.4432743659036,
          6631.552714824067,
          4399.371956471853,
          56068730.66773094,
          982382.3691131775,
          17401.54069404704,
          2934845.026530972,
          23190.854114569014,
          17922.277922016176,
          202749.87241121635,
          246170.70731790533,
          4302.908994659785,
          4441.946674519042,
          2513.332716956314,
          69475.06738442843,
          1450.9865310648936,
          2384965.1809599996,
          32508.73820999998,
          2268259.5589499995,
          882816.8267000006,
          3230633.0904099997,
          5417968.5098527465,
          2381704.504676048,
          13640459.205373056,
          4794590.6013410585,
          311057.8685482496,
          71871.15435400867,
          594708.1666146433,
          623558.0831499998,
          6356856.91657,
          3236122.168010002,
          20635708.778364778,
          526926.5554304419,
          1025970.7227274147,
          3616.0342700000574,
          64477.60605,
          4279290.753420003,
          2281.845650000001,
          8533.62052,
          279891.26978,
          47.43924000000001,
          74413.5597499999,
          8755.384449999998,
          178607.03908000002,
          5566.43652,
          11340.136989999999,
          5298.526100000017,
          55371.264200000005,
          1095778.15741,
          649.4313900000016,
          72.3436300000003,
          735.2161600000218,
          1095488.4536000006,
          1530153.0459600003,
          7274563.231279999,
          2384813.945934494,
          22759.850962233362,
          42686747.942156136,
          53576.01425671702,
          8994.78944000043,
          7993412.628649679,
          3088241.4387399983,
          6751.394320458627,
          132298.62,
          16657875.620000005,
          640.1600000000003,
          113.15999999999997,
          87833.31283536945,
          1389339.4099999983,
          15110892.754980002,
          232374541.83860993,
          47413089.41499001,
          914318.6615960567,
          3606321.0387689983,
          1283690.2891988999,
          7121723.366070002,
          39129.49243000022,
          1803515.3238500003,
          6508795.923969999,
          8652.960860000007,
          924296.7735599997,
          15833656.227280002,
          11566245.488259997,
          121925.89899000002,
          3068.0176900000006,
          3716.1382999999987,
          781027.6032399996,
          704093.2479200002,
          4231295.44363,
          1687379.3314299998,
          15345.94915999999,
          14935912.011349998,
          12149720.868390001,
          16042046.817063797,
          8113758.15087528,
          4091074.2909118505,
          315826.3106040598,
          503800.00327932683,
          38215329.099586815,
          5904335.859947252,
          9774302.188683752,
          13348.227919033581,
          167374.2857985081,
          362031.29076766444,
          218479.74998743727,
          33495.96144865043,
          26230146.19453086,
          15690.310889041386,
          28632532.204252873,
          9614791.410713628,
          1067508.064820001,
          282535.98573999945,
          7668.511869999995,
          99196.67480941831,
          1153.498523014577,
          5388658.699369683,
          446.03987145320514,
          1.0908597513475864,
          1831242.4874099996,
          31611.022820000006,
          2123084.4954400007,
          62133852.26999998,
          4960732.6205330165,
          66874197.628960006,
          32508486.659509994,
          756568.3694236132,
          1566843.7085100003,
          233235.76196000376,
          200747.13911999995,
          972001.3787500001,
          15463.827340000003,
          0.27022999999999797,
          17392641.329559997,
          755484.35408,
          115.22830999999998,
          0.7520500000000538,
          174383.74086,
          0.6799000000000001,
          0.29014000001848217,
          777821.9317999994,
          4541097.9140800005,
          1136009.326,
          0.13024999999999998,
          0.44472999999999274,
          4078629.196302384,
          4061238.6132599995,
          6486.69997999999,
          31976382.201740004,
          8619680.485950004,
          5784.178799999994,
          3614143.7982900003,
          447326.0794212464,
          12543.453746711972,
          315790.90644354816,
          36650.75264407243,
          150867.02130003303,
          47704.21595458289,
          96383937.35481875,
          2940771.9075734904,
          24695.013612687108,
          116305338.35630803,
          42533581.365677774,
          65183001.691139996,
          926604.6222069832,
          31454.879472139408,
          16844.041707986868,
          659957.0964256821,
          19227.692939733362,
          133711.37795147163,
          382590.88085129985,
          149.69679104813108,
          26018.360970716363,
          207071.2400110369,
          311646.3379658581,
          1252924.351258256,
          159865.898283918,
          620381.5740469744,
          9006187.367719853,
          323666449.0028336,
          4290.066030592689,
          487130.7444493958,
          2.084469804542443,
          46541.40185198818,
          83227.56237963992,
          1357672.521639772,
          177.4829393954651,
          16238.161298169576,
          4545.344403814541,
          120.49789705274708,
          4023.99230736868,
          2555409.4002900003,
          9219802.26520035,
          58.76100650202272,
          3042911.399943915,
          21071550.165840182,
          596067575.9530615,
          2287846.250237829,
          446369.17812852823,
          2153079.332580044,
          33596154.01791079,
          2542208.2808244275,
          5814287.076590272,
          117539.77354473606,
          6642592.50996,
          1634204.4141699988,
          4997293.3448631875,
          5577.56955,
          8728649.692289997,
          82159.61322,
          65838891.67628002,
          21664192.88655711,
          47479.5705,
          2334191.42372,
          5613053.73246,
          41966.064719999995,
          60719817.1702839,
          2058636.9781374563,
          2445374.094649471,
          3993740.7602279373,
          595975.6106350418,
          3810042.123006805,
          173188.42486433897,
          2445.3237862881842,
          0.29771510948123037,
          2108117.7273034994,
          283575.65085999994,
          11327913.87791,
          541506.7128599999,
          1473846.7286288226,
          103729.80111999996,
          1336240.32546,
          10685771.742770001,
          127.59999999999997,
          116.63580000002912,
          3671567.2753578015,
          1987944.1163000003,
          54295.65962999998,
          11032526.961549997,
          4597.865730000001,
          53995.22867000001,
          2230975.95658,
          1277166.8904499998,
          1758.98342,
          2661.012759999998,
          1.8551099999999998,
          12507.857389999997,
          192094.10521000007,
          1619217.2281954163,
          728277.405387896,
          776274.4650336499,
          132923.2950825144,
          9484590.205341965,
          366480.59784609213,
          1822932.377167996,
          21408891.642239988,
          62846.74929046723,
          24014895.12594926,
          3398.48105073434,
          114133.66994101029,
          63820.48671853651,
          3011.1560494529667,
          1343.4230472115505,
          3211902.17,
          249.7485514416776,
          133546.5679734736,
          194.9842454898385,
          1356451.1205274283,
          0.000899199899488139,
          167.97387903641257,
          5.17386966623239,
          11732.981937453911,
          868441.2441617681,
          393277.0338849791,
          72.73,
          0.6348602991677874,
          61878.31415925999,
          84.24678060348377,
          32742520.08886,
          6315754.38737,
          748951.5848240538,
          3918.8161899999996,
          0.4433600000000001,
          371885.88428,
          1791.4059100000002,
          38965.35694000001,
          7186899.16273,
          0.0008200000000000013,
          2.24956,
          0.6992100000000001,
          0.0030799999999999994,
          5.74432,
          53.412020000000005,
          758220.4346133927,
          17988075.239910003,
          357683.5647326298,
          4196008.82062,
          1149979.8684999943,
          853.3830300000045,
          63971710.06489923,
          102.30481,
          19.158840000000005,
          40.19139000000007,
          164243.51847,
          21693180.473309994,
          24.719389999999997,
          7.3688400000000005,
          46018.976539999974,
          6549889.016136019,
          822798.5996699994,
          14476917.936537426,
          1700053.4736966253,
          121658.91732694441,
          20.411007097435768,
          100449.39792637504,
          6714323.557676509,
          10153371.00642265,
          7048199.301865764,
          15311150.886089996,
          40887406.19556599,
          289938.1640631662,
          21725553.465385612,
          14042670.240492962,
          18688.68653321783,
          14935.504837346936,
          1706.4395849653463,
          3006.7401333661055,
          836653.9710191713,
          243168.58781676643,
          95717.22273138579,
          1596773.5396416853,
          149.25444835512272,
          773425.1380821281,
          4.590000000406033,
          4112.931807152838,
          33859.338480000006,
          1601281.8605899997,
          21934.053789999918,
          268122.2704967276,
          290398.3469468063,
          318007.01426416566,
          1648301.5772398235,
          157159.3862456751,
          112161.04843188374,
          95532000.05050452,
          117608.24500000017,
          2433189.317,
          3659362.9006900005,
          1102126.0638689632,
          142072.27843073406,
          2110060.8508,
          2066048.5444864766,
          822080.001161069,
          5649001.6982200015,
          487065.8840900003,
          22897602.12468,
          135434.77798999997,
          522675.4955899995,
          9694.812569999995,
          982400.7889799997,
          1419899.345022595,
          3158325.8351016343,
          1629880.2629267895,
          93712.27416362916,
          238180.89946427284,
          4273231.98134,
          2934523.874674475,
          32065.750823247028,
          228038.4111267059,
          0.3276608811746763,
          21.49061278282096,
          703574.8132435343,
          120652.29789504627,
          44492.3265066236,
          2178794.37524,
          244144.07276999997,
          25260.08312577811,
          37393.23538876798,
          9996756.762536306,
          649.2763837392404,
          1179968.53027,
          42480122.01369326,
          2635460.711754931,
          440146.30316616833,
          433732944.62559986,
          11185.293661139942,
          31074.414092261402,
          150053.84722264746,
          311214.07609920134,
          255396.12694821134,
          107070.25809999974,
          158479.55700999964,
          76975.10799999908,
          80469.91692999995,
          35318239.659298025,
          21551.001569387212,
          1180047.7704183406,
          930693.2010293665,
          1685725.3282423336,
          157508.42005108664,
          1711471.2086790001,
          2344289.1481595077,
          9672877.143118815,
          14280375.250962067,
          6536082.020089999,
          18132.713693676287,
          724378083,
          938074683.0151596,
          9704073.120606024,
          5609897.09937,
          59283.381039675085,
          2194067.2369776755,
          11721590.020110589,
          16097687.057850344,
          10708717.478333298,
          15910420.961758273,
          1546534.7015071448,
          14460815.860565891,
          85420876.87438025,
          85666.83980485264,
          6802387.059999999,
          6234282.9210100025,
          5461865.838510682,
          257074.7807480722,
          732573.8859385388,
          221066.62824711643,
          92382.0426110314,
          1522730.795097457,
          2512411.302710219,
          115070.80321115832,
          35594.32616447581,
          657.2968773322497,
          9709594.501687767,
          762467.4680603518,
          0.5437434688838725,
          5641869.020337848,
          223766.37775665417,
          0.07158560154410146,
          545473.107416555,
          15152981.327947814,
          8275819.288501834,
          367059554.47142553,
          1521032.9548418082,
          770289.5739530149,
          1408170.6293360079,
          1739.2827541541278,
          406121.5625322608,
          4294382.299585685,
          260699.47742728796,
          4775309.731799999,
          3049793.359363441,
          238652.64871505662,
          1341903.721740779,
          5910554.763899248,
          1001456.2572999997,
          39007719.1739947,
          4074682.4448550683,
          8507784.639645765,
          2510995.9941500016,
          2056043.782714406,
          629480.8935509177,
          43862575.75579595,
          10477335.119647251,
          10130.44486666962,
          1931447.8746593695,
          4757022.370793924,
          179392.52980053078,
          34330102.54388617,
          6694683.207259998,
          4313.914480001862,
          6461911.448574192,
          17061.171191071473,
          12129345.063638274,
          1841439.218954745,
          1281107.1452100016,
          1524420.0202499982,
          301102.3319709705,
          178913.39782246875,
          214791.1908673718,
          33633.89646484905,
          13472.38268213812,
          222.94408903229203,
          2771707.4565699995,
          635770.6590017364,
          244550.12448814325,
          159264.7664427755,
          2503035.0622543534,
          3337253.92151,
          6685040.362470001,
          366142.0030344491,
          1345630.138500005,
          585784.4137309849,
          198215,
          1364448,
          83872,
          268011,
          354,
          283415,
          115811,
          49,
          6028204.925684572,
          15148228.845960984,
          18117756.192803025,
          7859222.569705914,
          1647574.2220617752,
          144429.81695534365,
          2068701.5885899998,
          154305.10026999994,
          1168.8853199999994,
          27596392.73306,
          2236.0685200000007,
          101008983.15435,
          4800392.722460002,
          1018444.4672600001,
          1943749.5743600002,
          204422906.42837,
          1958.4870900000024,
          40725.277270000006,
          130993093.98877007,
          103639.54957,
          34687.8823,
          406049.81698,
          522052.7944700001,
          1983648.7251900001,
          183402.24907000025,
          634538.3151400001,
          4023280.9036299996,
          10773253.872780003,
          31827603.6135,
          150091.48614000005,
          32377329.761090003,
          27556741.09415,
          1186.4590800000005,
          3397.4018799999976,
          5801.904349999968,
          11247.975909999921,
          2963915.2085800003,
          1826496.3329199997,
          9261024.300302692,
          672362.8571584916,
          272302.3762675795,
          85251.92074001263,
          135364.4618609072,
          1080864.5594689432,
          1703203.69583299,
          7132072.431222935,
          4168.03410598226,
          25275.249297315324,
          1504867.3692100001,
          1185605.7453190906,
          228038.7411406995,
          657906.7061400004,
          64414.325428443146,
          4923170.355485277,
          2458629.108691203,
          85913.73999999999,
          2498.8700000000026,
          140373.53000000003,
          188076.2000000002,
          9738.720000000001,
          52.05000000000109,
          5891.830000000002,
          17240.840000000084,
          24661.350000000035,
          4212.950000000004,
          7715.090000000004,
          90259.08000000002,
          89265.78000000003,
          88.00999999999476,
          32288.791615046444,
          560476.7462686449,
          2283620.442305394,
          2913145.7536663446,
          150718.5398829128,
          1270288.9009299874,
          238871.20999999996,
          109456.9861605184,
          3726190.5795235815,
          20286.245370129407,
          624619.3371749524,
          189869.21537999995,
          26.08211,
          9948622.429590017,
          463174.13758,
          250556.8570699999,
          142068.44496,
          2014060.4589500017,
          9660.520399999921,
          837707.8768662156,
          871113.9823020964,
          416413.3693467226,
          100977.90453416161,
          52126586.712500006,
          6400093.61064907,
          74.55874268470461,
          7797078.346604006,
          3396.3448096745196,
          9164167.62454,
          8742449.055039998,
          244123296.11967993,
          6867397.6555,
          13721172.944000006,
          1749936.07448,
          1315038.3123595526,
          10222252.66074,
          847156.34136,
          664365.2468100002,
          322020.68357,
          39880.857949999976,
          395367.3881199993,
          1455920.56549,
          10285178.252740003,
          147667.7613169615,
          422955.18324453157,
          21938.98503741936,
          372618.4088999992,
          539469.9913745036,
          5990829.603199022,
          435578.22864794126,
          101322.61382000003,
          66.380189987427,
          459.1364199999967,
          1843004.6359100007,
          0.00021000000000000185,
          3582.33982999997,
          1942.3686099999995,
          11.308559999999943,
          111.11383000000001,
          1195302.43383,
          69904.03470999995,
          4801871.224762787,
          221185.07473000002,
          22474466.37202999,
          12189.97292,
          2223491.20321,
          1299.2991500000007,
          164848.12053999997,
          52458.45462402169,
          3379917.2321737506,
          9174366.50270717,
          12369918.3159,
          8982.341290000004,
          3787.5393300000014,
          4104650.867560001,
          3351904.1106100003,
          1970671.8717399994,
          695375.7548199999,
          32849.92762999982,
          12928.5055,
          4166917.2724600006,
          22605.160000000033,
          1302.0800000000017,
          136510.94999999998,
          2507444.4199999943,
          19311.899999999994,
          64.5299999999952,
          44504199.25,
          24274.23000000004,
          6086097.5,
          1331.5400000000373,
          834547.7800000012,
          103952.29000000027,
          0.18999999999994088,
          1356814.0099999998,
          89516.09000000003,
          2225.230000010226,
          1.4500000000000002,
          2411.5099999999948,
          11974.907584335826,
          150.46067960660355,
          1951.0330275078788,
          67139.82522875429,
          6025476.1726567065,
          332377.00004969887,
          968797.6005552469,
          22833.030000000028,
          14.310000000000002,
          91480.73000000004,
          995.21,
          724899.6000000001,
          1517410.3400000222,
          43123.840000000084,
          44098583.97,
          892991.3700000001,
          23.120000000000346,
          53.87000000000262,
          241.59999999999997,
          4463307.949999999,
          57149.09,
          875921.1500000004,
          2793870.7399999984,
          3845446.040000003,
          1770.8700000000003,
          212037.86805084563,
          295405.8998610559,
          457223.50098153966,
          142655.43084403357,
          2011.2217299999966,
          2067244.2581800008,
          875601.7305628096,
          22524.72489080646,
          285418.0788103584,
          595626.377293816,
          758998.9168340196,
          410.92768420438733,
          1095553.1795599195,
          11898.522003608214,
          2205618.097912111,
          1821277.18397668,
          4790.205532409581,
          14862553.469489938,
          12964669.568289995,
          126289.69605898154,
          2206102.789946974,
          576585.1838703724,
          50528414.08790662,
          1999536.8934300002,
          486.84824999999773,
          630252.8299700003,
          8857504.36563,
          42241.82579999976,
          2955936.364242135,
          65549.50692719698,
          119596.91497891588,
          3591564.6900246353,
          3569891.898520915,
          255216.3409838255,
          841851.5197822865,
          7123546.011150067,
          4683.703830268108,
          256.9429785401251,
          777.8622845465377,
          15188558.688422507,
          475168.21165641973,
          6.1815905034566185,
          7755.687152435298,
          5559.977611748851,
          6024.73819788858,
          260096.81167131706,
          74618.04454540812,
          47022.576074338,
          2835364.022603927,
          106738.77992383618,
          152935.90179979752,
          12429.814110448648,
          259786.28000004523,
          39133.04656178474,
          661354.7584779653,
          2035161.6728506554,
          2432983.367452778,
          113130.60435756648,
          109799.09429283612,
          385685.2740842042,
          20135.920957494465,
          173041.08509065388,
          5637403.796474342,
          3698.6349511786702,
          2293313.652888819,
          6711.395836445975,
          101930.08228099578,
          19973.094308392017,
          100.25061422884295,
          6310.633288959376,
          2.5168115008144376,
          56661273.59208603,
          61332.753656055385,
          4177263.525307835,
          11896230.272810876,
          148686.67015938484,
          17167770.537857085,
          17167770.537857085,
          267548.39622,
          629810.0697499998,
          19.95670999999993,
          2.41776999999999,
          0.08370999999839768,
          452111.38792,
          62.70904564047495,
          0.0005395566895624626,
          11119284.0814,
          4477735.0513700005,
          2251669.6033969033,
          22.815784798152748,
          2700952.5260785897,
          1236290.0493244124,
          10993148.725760002,
          1371395.555952836,
          3386606.4562682053,
          1249751.3287300006,
          19109.714139999996,
          305.82603873593285,
          679.0183155979472,
          3401871.1823699996,
          2157061.176522237,
          15349042.043266073,
          1008544.6451580211,
          1939596.3519556937,
          2904.130112059588,
          15964.214284957783,
          3128.3017617330493,
          661428.4811900157,
          1084.7841652954296,
          5804715.490055663,
          5065053.636348843,
          2993514.8600000013,
          537508.7623081673,
          2032623.32027,
          1488146.5044373677,
          35743939.93811165,
          835204.5890279219,
          5001921.117615495,
          7641175.9799999995,
          151773.26429804685,
          1358653.600336928,
          1624530,
          151786.07936713455,
          1775.7095999999883,
          112694.68980000007,
          178.5553895632878,
          8404.504400000002,
          3728.5110000000022,
          15431.873599999986,
          32188.73001761183,
          1110155.3047132385,
          650154.2450600001,
          127.82717000000002,
          44848602.45962001,
          434445.3174900003,
          3774299.921687328,
          281.16109432010114,
          13726003.654050639,
          8818682.221916301,
          20183637.62106027,
          13498317.406352928,
          5796124.581308866,
          2253817.234127648,
          8351727.803562142,
          6608541.760217615,
          1991189.7399400007,
          2891861.3496900015,
          2358497.02707,
          2163565.8253954947,
          742589.493314212,
          5088358.715599999,
          116555.53481999954,
          107400658.97647053,
          943910.449949938,
          30813207.99180001,
          235151.95534089315,
          19461.79819907223,
          284.16573403211027,
          12734483.316939004,
          100345.61046570717,
          823.6632439227727,
          68512.89716673807,
          10.991119590931271,
          45110069.697569996,
          258972.42988999997,
          369511.53755999997,
          126485.36799000006,
          133406.15950000007,
          19553.629330000003,
          0.52766,
          30522.43775000004,
          96623182.21952003,
          1104824.45704,
          11459.095180000004,
          370252.44056000095,
          72.69453000000203,
          36610.65741000004,
          5737.418020000001,
          51.87453999999951,
          7460496.714370001,
          32843.37084999999,
          966669.7148500001,
          2235831.3732199995,
          29866.922580000013,
          351823.55519999994,
          1665476.576509999,
          2148740.196998663,
          3200710.4304554192,
          783.9839637183596,
          2484456.292643247,
          3106716.512472122,
          3193.7441269304736,
          2183.0367846841386,
          2448329.489275407,
          1867146.4214646497,
          193108.29262774304,
          16.396003566170545,
          308302.81897555257,
          8.50017842751738e-7,
          948.5163696822133,
          473572.66170073446,
          1365862.727677722,
          290.4897832098987,
          2156228.4023663164,
          14734512.015166685,
          9533138.114243837,
          1496862.917037239,
          319891.09887,
          7540841.337710001,
          16415456.800450005,
          12539.605110000004,
          2285140.0748792733,
          218764.4743310141,
          2874545.0693083373,
          2194.1021717222106,
          373.55586000008725,
          396723.68400000007,
          6177.863699999885,
          23012698.21773,
          382133.98161135876,
          27327916.829914704,
          125154835.41233999,
          11066.943983697776,
          48892.868257568945,
          24.451299998929805,
          27375.761642352896,
          1178472.6875863639,
          726885.933171207,
          70537.7584760082,
          278684.53072999977,
          8063628.235060003,
          37739.09613000043,
          84452.40042619301,
          0.07162000000000002,
          10501637.207470002,
          3157546.8860800005,
          2299.30669,
          1357115.3324799999,
          3624864.799823654,
          6098531.596107007,
          1514.3220000000106,
          209.80000000000365,
          572941.7760000002,
          9487310.93590002,
          168.25799999999813,
          11303,
          99.91789999999999,
          10898252.79573,
          286204.61213999987,
          3241967.581371563,
          2062.7399999999993,
          35672.13000000064,
          16946390.95211,
          1262276.009428731,
          1130721.1672503673,
          112442.75092786904,
          3070227.182570001,
          1063046.60991,
          461375.1544100009,
          120.13250000000153,
          20095321.604990005,
          34661393.20792,
          797444.3985900003,
          15.166310000000067,
          100.94678047072152,
          9046.283741489395,
          0.00494408841214976,
          366.0309330624038,
          0.011837299850632628,
          47440.84937485105,
          925.918377943695,
          47332.783713235476,
          3.2207099999999893,
          204.66061464352197,
          244273.65446029996,
          951539.5860900003,
          251146192.74805987,
          36281649.07266,
          175683.76397999993,
          297797645.24265957,
          32514686.99593,
          17702776.588070005,
          121279.86698061573,
          10.992758053759895,
          1609524.7397218584,
          6133398.654410223,
          187542.0547654187,
          8588675.464863915,
          2155646.420411865,
          666397.302170001,
          3396795.57733,
          12898827.136233173,
          100269997.37424,
          35620835.28456013,
          51171.66630022349,
          811727.3962255649,
          6155.936428329276,
          1943315.041521618,
          7588356.087325135,
          8922629.162377734,
          31062863.94071001,
          2583190.434940003,
          168419.77598000003,
          2387.516109999997,
          1823.3410000000003,
          55503.083199999994,
          14.736219999999996,
          53167.27152999997,
          13.32378,
          2.1164699999999996,
          893214.3342599999,
          614.8595599999971,
          696735.2185800001,
          155422401.59762064,
          836176.9942736969,
          1925.1089956832254,
          60251.03641843955,
          438660.3508273855,
          140.64130862625376,
          0.000014948989701224491,
          3267.934610566702,
          2737.6212198327166,
          166962.45057102267,
          7557.587496853861,
          2297947.0696437513,
          10987.199826596241,
          616703.6955399998,
          27573.694450000068,
          39030.50399,
          4544285.2569699995,
          129254.73816000018,
          2841073.283556166,
          25797847.38684392,
          23636389.036158696,
          4244644.988194384,
          22189904.658006035,
          837.5637207314867,
          1048825.5533730197,
          642313.6156546614,
          300215.2971089951,
          222906.08714496915,
          893517.4886484195,
          499001.60167,
          176437.29903000034,
          1845308.74009,
          172752.22785000002,
          130241.35450000002,
          286937.96007000003,
          568907.9230535151,
          2359944.7385213063,
          1794289.0845599999,
          16771654.811700001,
          4827.819173305867,
          27320.898608424854,
          2595078.087643676,
          57127.705920000124,
          72338695.97744,
          6397018.603629999,
          31150.87978999999,
          943231.2087000012,
          118985.36018999992,
          201803.12449999992,
          1270088.7576583107,
          371229.77492,
          622487.3297300003,
          371658.92668415874,
          464896.4857917395,
          16865973.245225836,
          1678487.3543099998,
          303437.44338000007,
          477216.63682999974,
          31802719.825769998,
          9897389.292738173,
          165205663.65438163,
          14172842.077311562,
          390010140.47712165,
          258972.42988999997,
          2372237.6484762253,
          6197692.426726351,
          244684908.16176385,
          26263642.15597951,
          778062974.0204993,
          4294382.299585685,
          9738.720000000001,
          35599.504978230456,
          201107.79700196814,
          19553.629330000003,
          0.52766,
          1823.3410000000003,
          99382684.28847,
          16540710.269589279,
          23001487.848240905,
          2235831.3732199995,
          112694.68980000007,
          1357672.521639772,
          41290846.258529164,
          5891.830000000002,
          2555409.4002900003,
          87503084.56283712,
          2273248.145828982,
          14276104.588967994,
          11732.981937453911,
          16771654.811700001,
          5287965179.824755,
          17167770.537857085,
          1958.4870900000024,
          8599374.829675393,
          174504.05199147164,
          326666063.50286883,
          847156.34136,
          1179968.53027,
          237174.24053104816,
          34687.8823,
          371229.77492,
          622487.3297300003,
          1050288.8483649709,
          10412676.348984199,
          15252363.779346928,
          1643469.1847569617,
          2999606.175952834,
          2066048.5444864766,
          5226534.242022921,
          1794289.0845599999,
          2253373.7380173504,
          45491183.794737585,
          29114375.58396159,
          12976754.293377008,
          2513.332716956314,
          695375.7548199999,
          33633.89646484905,
          10240567.241088396,
          814863.6314907164,
          92022729.05703998,
          30332341.248258162,
          23110622.837190732,
          35280271.56469299,
          16194956.5941385,
          103952.29000000027,
          35124034.011777446,
          951913.2229103238,
          5948432.050683235,
          129257.95887000018,
          355042306.1593593,
          52126586.712500006,
          51.87453999999951,
          11103500.824104534,
          69475.06738442843,
          241496726.3260573,
          63064.773239259994,
          3372049.0543544507,
          2014060.4589500017,
          11721590.020110589,
          1141811.2303499999,
          73977917.98234403,
          322020.68357,
          4061238.6132599995,
          732797.61185,
          15431.873599999986,
          1.4500000000000002,
          2620670.633490918,
          2358497.02707,
          2163565.8253954947,
          11248.106159999921,
          9660.520399999921,
          4005634.5159875676,
          4475482.267643838,
          6510416.3827486355,
          17340489.269448224,
          278907.47481903207,
          6642592.50996,
          1810619147.7926025,
          4166917.2724600006,
          461375.1544100009,
          649.5029756015457,
          3396795.57733,
          2067238.5332999998,
          13282646.768164195,
          82159.61322,
          614.8595599999971,
          1678487.3543099998,
          1168.8853199999994,
          17167770.537857085,
          17667097.128654145,
          10648411569.608416
         ]
        }
       ],
       "layout": {
        "coloraxis": {
         "colorbar": {
          "title": {
           "text": "flow_direction_30d"
          }
         },
         "colorscale": [
          [
           0,
           "rgb(158,1,66)"
          ],
          [
           0.1,
           "rgb(213,62,79)"
          ],
          [
           0.2,
           "rgb(244,109,67)"
          ],
          [
           0.3,
           "rgb(253,174,97)"
          ],
          [
           0.4,
           "rgb(254,224,139)"
          ],
          [
           0.5,
           "rgb(255,255,191)"
          ],
          [
           0.6,
           "rgb(230,245,152)"
          ],
          [
           0.7,
           "rgb(171,221,164)"
          ],
          [
           0.8,
           "rgb(102,194,165)"
          ],
          [
           0.9,
           "rgb(50,136,189)"
          ],
          [
           1,
           "rgb(94,79,162)"
          ]
         ]
        },
        "legend": {
         "tracegroupgap": 0
        },
        "margin": {
         "b": 25,
         "l": 25,
         "r": 25,
         "t": 50
        },
        "template": {
         "data": {
          "bar": [
           {
            "error_x": {
             "color": "#2a3f5f"
            },
            "error_y": {
             "color": "#2a3f5f"
            },
            "marker": {
             "line": {
              "color": "#E5ECF6",
              "width": 0.5
             },
             "pattern": {
              "fillmode": "overlay",
              "size": 10,
              "solidity": 0.2
             }
            },
            "type": "bar"
           }
          ],
          "barpolar": [
           {
            "marker": {
             "line": {
              "color": "#E5ECF6",
              "width": 0.5
             },
             "pattern": {
              "fillmode": "overlay",
              "size": 10,
              "solidity": 0.2
             }
            },
            "type": "barpolar"
           }
          ],
          "carpet": [
           {
            "aaxis": {
             "endlinecolor": "#2a3f5f",
             "gridcolor": "white",
             "linecolor": "white",
             "minorgridcolor": "white",
             "startlinecolor": "#2a3f5f"
            },
            "baxis": {
             "endlinecolor": "#2a3f5f",
             "gridcolor": "white",
             "linecolor": "white",
             "minorgridcolor": "white",
             "startlinecolor": "#2a3f5f"
            },
            "type": "carpet"
           }
          ],
          "choropleth": [
           {
            "colorbar": {
             "outlinewidth": 0,
             "ticks": ""
            },
            "type": "choropleth"
           }
          ],
          "contour": [
           {
            "colorbar": {
             "outlinewidth": 0,
             "ticks": ""
            },
            "colorscale": [
             [
              0,
              "#0d0887"
             ],
             [
              0.1111111111111111,
              "#46039f"
             ],
             [
              0.2222222222222222,
              "#7201a8"
             ],
             [
              0.3333333333333333,
              "#9c179e"
             ],
             [
              0.4444444444444444,
              "#bd3786"
             ],
             [
              0.5555555555555556,
              "#d8576b"
             ],
             [
              0.6666666666666666,
              "#ed7953"
             ],
             [
              0.7777777777777778,
              "#fb9f3a"
             ],
             [
              0.8888888888888888,
              "#fdca26"
             ],
             [
              1,
              "#f0f921"
             ]
            ],
            "type": "contour"
           }
          ],
          "contourcarpet": [
           {
            "colorbar": {
             "outlinewidth": 0,
             "ticks": ""
            },
            "type": "contourcarpet"
           }
          ],
          "heatmap": [
           {
            "colorbar": {
             "outlinewidth": 0,
             "ticks": ""
            },
            "colorscale": [
             [
              0,
              "#0d0887"
             ],
             [
              0.1111111111111111,
              "#46039f"
             ],
             [
              0.2222222222222222,
              "#7201a8"
             ],
             [
              0.3333333333333333,
              "#9c179e"
             ],
             [
              0.4444444444444444,
              "#bd3786"
             ],
             [
              0.5555555555555556,
              "#d8576b"
             ],
             [
              0.6666666666666666,
              "#ed7953"
             ],
             [
              0.7777777777777778,
              "#fb9f3a"
             ],
             [
              0.8888888888888888,
              "#fdca26"
             ],
             [
              1,
              "#f0f921"
             ]
            ],
            "type": "heatmap"
           }
          ],
          "heatmapgl": [
           {
            "colorbar": {
             "outlinewidth": 0,
             "ticks": ""
            },
            "colorscale": [
             [
              0,
              "#0d0887"
             ],
             [
              0.1111111111111111,
              "#46039f"
             ],
             [
              0.2222222222222222,
              "#7201a8"
             ],
             [
              0.3333333333333333,
              "#9c179e"
             ],
             [
              0.4444444444444444,
              "#bd3786"
             ],
             [
              0.5555555555555556,
              "#d8576b"
             ],
             [
              0.6666666666666666,
              "#ed7953"
             ],
             [
              0.7777777777777778,
              "#fb9f3a"
             ],
             [
              0.8888888888888888,
              "#fdca26"
             ],
             [
              1,
              "#f0f921"
             ]
            ],
            "type": "heatmapgl"
           }
          ],
          "histogram": [
           {
            "marker": {
             "pattern": {
              "fillmode": "overlay",
              "size": 10,
              "solidity": 0.2
             }
            },
            "type": "histogram"
           }
          ],
          "histogram2d": [
           {
            "colorbar": {
             "outlinewidth": 0,
             "ticks": ""
            },
            "colorscale": [
             [
              0,
              "#0d0887"
             ],
             [
              0.1111111111111111,
              "#46039f"
             ],
             [
              0.2222222222222222,
              "#7201a8"
             ],
             [
              0.3333333333333333,
              "#9c179e"
             ],
             [
              0.4444444444444444,
              "#bd3786"
             ],
             [
              0.5555555555555556,
              "#d8576b"
             ],
             [
              0.6666666666666666,
              "#ed7953"
             ],
             [
              0.7777777777777778,
              "#fb9f3a"
             ],
             [
              0.8888888888888888,
              "#fdca26"
             ],
             [
              1,
              "#f0f921"
             ]
            ],
            "type": "histogram2d"
           }
          ],
          "histogram2dcontour": [
           {
            "colorbar": {
             "outlinewidth": 0,
             "ticks": ""
            },
            "colorscale": [
             [
              0,
              "#0d0887"
             ],
             [
              0.1111111111111111,
              "#46039f"
             ],
             [
              0.2222222222222222,
              "#7201a8"
             ],
             [
              0.3333333333333333,
              "#9c179e"
             ],
             [
              0.4444444444444444,
              "#bd3786"
             ],
             [
              0.5555555555555556,
              "#d8576b"
             ],
             [
              0.6666666666666666,
              "#ed7953"
             ],
             [
              0.7777777777777778,
              "#fb9f3a"
             ],
             [
              0.8888888888888888,
              "#fdca26"
             ],
             [
              1,
              "#f0f921"
             ]
            ],
            "type": "histogram2dcontour"
           }
          ],
          "mesh3d": [
           {
            "colorbar": {
             "outlinewidth": 0,
             "ticks": ""
            },
            "type": "mesh3d"
           }
          ],
          "parcoords": [
           {
            "line": {
             "colorbar": {
              "outlinewidth": 0,
              "ticks": ""
             }
            },
            "type": "parcoords"
           }
          ],
          "pie": [
           {
            "automargin": true,
            "type": "pie"
           }
          ],
          "scatter": [
           {
            "fillpattern": {
             "fillmode": "overlay",
             "size": 10,
             "solidity": 0.2
            },
            "type": "scatter"
           }
          ],
          "scatter3d": [
           {
            "line": {
             "colorbar": {
              "outlinewidth": 0,
              "ticks": ""
             }
            },
            "marker": {
             "colorbar": {
              "outlinewidth": 0,
              "ticks": ""
             }
            },
            "type": "scatter3d"
           }
          ],
          "scattercarpet": [
           {
            "marker": {
             "colorbar": {
              "outlinewidth": 0,
              "ticks": ""
             }
            },
            "type": "scattercarpet"
           }
          ],
          "scattergeo": [
           {
            "marker": {
             "colorbar": {
              "outlinewidth": 0,
              "ticks": ""
             }
            },
            "type": "scattergeo"
           }
          ],
          "scattergl": [
           {
            "marker": {
             "colorbar": {
              "outlinewidth": 0,
              "ticks": ""
             }
            },
            "type": "scattergl"
           }
          ],
          "scattermapbox": [
           {
            "marker": {
             "colorbar": {
              "outlinewidth": 0,
              "ticks": ""
             }
            },
            "type": "scattermapbox"
           }
          ],
          "scatterpolar": [
           {
            "marker": {
             "colorbar": {
              "outlinewidth": 0,
              "ticks": ""
             }
            },
            "type": "scatterpolar"
           }
          ],
          "scatterpolargl": [
           {
            "marker": {
             "colorbar": {
              "outlinewidth": 0,
              "ticks": ""
             }
            },
            "type": "scatterpolargl"
           }
          ],
          "scatterternary": [
           {
            "marker": {
             "colorbar": {
              "outlinewidth": 0,
              "ticks": ""
             }
            },
            "type": "scatterternary"
           }
          ],
          "surface": [
           {
            "colorbar": {
             "outlinewidth": 0,
             "ticks": ""
            },
            "colorscale": [
             [
              0,
              "#0d0887"
             ],
             [
              0.1111111111111111,
              "#46039f"
             ],
             [
              0.2222222222222222,
              "#7201a8"
             ],
             [
              0.3333333333333333,
              "#9c179e"
             ],
             [
              0.4444444444444444,
              "#bd3786"
             ],
             [
              0.5555555555555556,
              "#d8576b"
             ],
             [
              0.6666666666666666,
              "#ed7953"
             ],
             [
              0.7777777777777778,
              "#fb9f3a"
             ],
             [
              0.8888888888888888,
              "#fdca26"
             ],
             [
              1,
              "#f0f921"
             ]
            ],
            "type": "surface"
           }
          ],
          "table": [
           {
            "cells": {
             "fill": {
              "color": "#EBF0F8"
             },
             "line": {
              "color": "white"
             }
            },
            "header": {
             "fill": {
              "color": "#C8D4E3"
             },
             "line": {
              "color": "white"
             }
            },
            "type": "table"
           }
          ]
         },
         "layout": {
          "annotationdefaults": {
           "arrowcolor": "#2a3f5f",
           "arrowhead": 0,
           "arrowwidth": 1
          },
          "autotypenumbers": "strict",
          "coloraxis": {
           "colorbar": {
            "outlinewidth": 0,
            "ticks": ""
           }
          },
          "colorscale": {
           "diverging": [
            [
             0,
             "#8e0152"
            ],
            [
             0.1,
             "#c51b7d"
            ],
            [
             0.2,
             "#de77ae"
            ],
            [
             0.3,
             "#f1b6da"
            ],
            [
             0.4,
             "#fde0ef"
            ],
            [
             0.5,
             "#f7f7f7"
            ],
            [
             0.6,
             "#e6f5d0"
            ],
            [
             0.7,
             "#b8e186"
            ],
            [
             0.8,
             "#7fbc41"
            ],
            [
             0.9,
             "#4d9221"
            ],
            [
             1,
             "#276419"
            ]
           ],
           "sequential": [
            [
             0,
             "#0d0887"
            ],
            [
             0.1111111111111111,
             "#46039f"
            ],
            [
             0.2222222222222222,
             "#7201a8"
            ],
            [
             0.3333333333333333,
             "#9c179e"
            ],
            [
             0.4444444444444444,
             "#bd3786"
            ],
            [
             0.5555555555555556,
             "#d8576b"
            ],
            [
             0.6666666666666666,
             "#ed7953"
            ],
            [
             0.7777777777777778,
             "#fb9f3a"
            ],
            [
             0.8888888888888888,
             "#fdca26"
            ],
            [
             1,
             "#f0f921"
            ]
           ],
           "sequentialminus": [
            [
             0,
             "#0d0887"
            ],
            [
             0.1111111111111111,
             "#46039f"
            ],
            [
             0.2222222222222222,
             "#7201a8"
            ],
            [
             0.3333333333333333,
             "#9c179e"
            ],
            [
             0.4444444444444444,
             "#bd3786"
            ],
            [
             0.5555555555555556,
             "#d8576b"
            ],
            [
             0.6666666666666666,
             "#ed7953"
            ],
            [
             0.7777777777777778,
             "#fb9f3a"
            ],
            [
             0.8888888888888888,
             "#fdca26"
            ],
            [
             1,
             "#f0f921"
            ]
           ]
          },
          "colorway": [
           "#636efa",
           "#EF553B",
           "#00cc96",
           "#ab63fa",
           "#FFA15A",
           "#19d3f3",
           "#FF6692",
           "#B6E880",
           "#FF97FF",
           "#FECB52"
          ],
          "font": {
           "color": "#2a3f5f"
          },
          "geo": {
           "bgcolor": "white",
           "lakecolor": "white",
           "landcolor": "#E5ECF6",
           "showlakes": true,
           "showland": true,
           "subunitcolor": "white"
          },
          "hoverlabel": {
           "align": "left"
          },
          "hovermode": "closest",
          "mapbox": {
           "style": "light"
          },
          "paper_bgcolor": "white",
          "plot_bgcolor": "#E5ECF6",
          "polar": {
           "angularaxis": {
            "gridcolor": "white",
            "linecolor": "white",
            "ticks": ""
           },
           "bgcolor": "#E5ECF6",
           "radialaxis": {
            "gridcolor": "white",
            "linecolor": "white",
            "ticks": ""
           }
          },
          "scene": {
           "xaxis": {
            "backgroundcolor": "#E5ECF6",
            "gridcolor": "white",
            "gridwidth": 2,
            "linecolor": "white",
            "showbackground": true,
            "ticks": "",
            "zerolinecolor": "white"
           },
           "yaxis": {
            "backgroundcolor": "#E5ECF6",
            "gridcolor": "white",
            "gridwidth": 2,
            "linecolor": "white",
            "showbackground": true,
            "ticks": "",
            "zerolinecolor": "white"
           },
           "zaxis": {
            "backgroundcolor": "#E5ECF6",
            "gridcolor": "white",
            "gridwidth": 2,
            "linecolor": "white",
            "showbackground": true,
            "ticks": "",
            "zerolinecolor": "white"
           }
          },
          "shapedefaults": {
           "line": {
            "color": "#2a3f5f"
           }
          },
          "ternary": {
           "aaxis": {
            "gridcolor": "white",
            "linecolor": "white",
            "ticks": ""
           },
           "baxis": {
            "gridcolor": "white",
            "linecolor": "white",
            "ticks": ""
           },
           "bgcolor": "#E5ECF6",
           "caxis": {
            "gridcolor": "white",
            "linecolor": "white",
            "ticks": ""
           }
          },
          "title": {
           "x": 0.05
          },
          "xaxis": {
           "automargin": true,
           "gridcolor": "white",
           "linecolor": "white",
           "ticks": "",
           "title": {
            "standoff": 15
           },
           "zerolinecolor": "white",
           "zerolinewidth": 2
          },
          "yaxis": {
           "automargin": true,
           "gridcolor": "white",
           "linecolor": "white",
           "ticks": "",
           "title": {
            "standoff": 15
           },
           "zerolinecolor": "white",
           "zerolinewidth": 2
          }
         }
        },
        "title": {
         "text": "App Net Flows Change by Chain -> App - Last 30 Days - (Apps with > $5.0M TVL Shown) - At Latest Prices<br><sup>*For apps where DefiLlama didn't have flows by token, we use their total change in TVL (including token price change)</sup>"
        }
       }
      }
     },
     "metadata": {},
     "output_type": "display_data"
    }
   ],
   "source": [
    "summary_df = netdf_df.copy()\n",
    "\n",
    "summary_df = summary_df.sort_values(by='date',ascending=True)\n",
    "\n",
    "# Mark at latest price if chosen\n",
    "if mark_at_latest_price == 1:\n",
    "        summary_df['mark_at_latest_price'] = mark_at_latest_price\n",
    "        summary_df['net_dollar_flow'] = summary_df['net_dollar_flow_latest_price']\n",
    "        titleval_append = ' - At Latest Prices'\n",
    "else:\n",
    "        titleval_append = ''\n",
    "\n",
    "# summary_df = summary_df[(summary_df['chain'] == 'Solana') & (summary_df['protocol'] == 'uxd')]\n",
    "for i in drange:\n",
    "        if i == 0:\n",
    "                summary_df['cumul_net_dollar_flow'] = summary_df[['protocol','chain','net_dollar_flow']]\\\n",
    "                                    .groupby(['protocol','chain']).cumsum()\n",
    "                summary_df['flow_direction'] = np.where(summary_df['cumul_net_dollar_flow']*1.0 >= 0, 1,-1)\n",
    "                summary_df['abs_cumul_net_dollar_flow'] = abs(summary_df['cumul_net_dollar_flow'])\n",
    "                #latest price\n",
    "                \n",
    "                # display(summary_df)\n",
    "        else:\n",
    "                col_str = 'cumul_net_dollar_flow_' + str(i) + 'd'\n",
    "                tvl_str = 'daily_avg_tvl_' + str(i) + 'd'\n",
    "                # print(col_str)\n",
    "                # summary_df[col_str] = summary_df[['protocol','chain','net_dollar_flow']]\\\n",
    "                #                     .groupby(['protocol','chain'])['net_dollar_flow'].transform(lambda x: x.rolling(i, min_periods=1).sum() )\n",
    "                #chatgpt version\n",
    "                summary_df[col_str] = summary_df.groupby(['protocol','chain'])['net_dollar_flow']\\\n",
    "                                        .apply(lambda x: x.rolling(i, min_periods=1).sum())\n",
    "\n",
    "                summary_df[tvl_str] = summary_df[['protocol','chain','usd_value']]\\\n",
    "                                    .groupby(['protocol','chain'])['usd_value'].transform(lambda x: x.rolling(i, min_periods=1).mean() )\n",
    "                \n",
    "                summary_df['flow_direction_' + str(i) + 'd'] = np.where(summary_df[col_str]*1.0 >= 0, 1, -1)\n",
    "                summary_df['abs_cumul_net_dollar_flow_' + str(i) + 'd'] = abs(summary_df[col_str])\n",
    "                # display(summary_df)\n",
    "                # display(summary_df[(summary_df['chain'] == 'Optimism') & (summary_df['protocol'] == 'yearn-finance')] )\n",
    "# display(summary_df[netdf_df['protocol']=='makerdao'])\n",
    "# display(summary_df[(summary_df['chain'] == 'Optimism') & (summary_df['protocol'] == 'qidao')].iloc[-7: , :15] )\n",
    "# display(summary_df[(summary_df['protocol']=='stargate') & (summary_df['chain']=='Optimism')])\n",
    "summary_df['pct_of_tvl'] = 100* summary_df['net_dollar_flow'] / summary_df['usd_value']\n",
    "final_summary_df = summary_df[(summary_df['rank_desc'] == 1) & (summary_df['date'] >= pd.to_datetime(\"today\") -timedelta(days=7))]\n",
    "final_summary_df = final_summary_df[final_summary_df['cumul_net_dollar_flow']< 1e20] #weird error handling\n",
    "\n",
    "\n",
    "os.makedirs('csv_outputs', exist_ok=True)  \n",
    "final_summary_df.to_csv('csv_outputs/latest_tvl_app_trends.csv')  \n",
    "\n",
    "# display(summary_df)\n",
    "for i in drange:\n",
    "        fig = ''\n",
    "        if i == 0:\n",
    "                yval = 'abs_cumul_net_dollar_flow'\n",
    "                hval = 'cumul_net_dollar_flow'\n",
    "                cval = 'flow_direction'\n",
    "                saveval = 'net_app_flows'\n",
    "                saveval_app = 'net_app_flows_by_app'\n",
    "                titleval = \"App Net Flows Change by Chain -> App - Last \" + str(trailing_num_days) + \\\n",
    "                            \" Days - (Apps with > $\" + str(min_tvl/1e6) + \"M TVL Shown)\" + titleval_append\n",
    "                titleval_app = \"App Net Flows Change by App -> Chain - Last \" + str(trailing_num_days) + \\\n",
    "                            \" Days - (Apps with > $\" + str(min_tvl/1e6) + \"M TVL Shown)\" + titleval_append\n",
    "        else:\n",
    "                yval = 'abs_cumul_net_dollar_flow_' + str(i) +'d'\n",
    "                hval = 'cumul_net_dollar_flow_' + str(i) +'d'\n",
    "                cval = 'flow_direction_' + str(i) +'d'\n",
    "                saveval = 'net_app_flows_' + str(i) +'d'\n",
    "                saveval_app = 'net_app_flows_by_app_' + str(i) +'d'\n",
    "                titleval = \"App Net Flows Change by Chain -> App - Last \" + str(i) + \\\n",
    "                            \" Days - (Apps with > $\" + str(min_tvl/1e6) + \"M TVL Shown)\" + titleval_append\n",
    "                titleval_app = \"App Net Flows Change by App -> Chain - Last \" + str(i) + \\\n",
    "                                \" Days - (Apps with > $\" + str(min_tvl/1e6) + \"M TVL Shown)\" + titleval_append\n",
    "        if is_fallback_on_raw_tvl:\n",
    "                subtitle = \"<br><sup>*For apps where DefiLlama didn't have flows by token, we use their total change in TVL (including token price change)</sup>\"\n",
    "        else:\n",
    "                subtitle = \"\"\n",
    "        # print(yval)\n",
    "        # print(cval)\n",
    "        # print(titleval)\n",
    "        # print(hval)\n",
    "        fig = px.treemap(final_summary_df[final_summary_df[yval] !=0], \\\n",
    "                 path=[px.Constant(\"all\"), 'chain', 'protocol'], \\\n",
    "#                  path=[px.Constant(\"all\"), 'token', 'chain', 'protocol'], \\\n",
    "                 values=yval, color=cval\n",
    "#                 ,color_discrete_map={'-1':'red', '1':'green'})\n",
    "                ,color_continuous_scale='Spectral'\n",
    "                     , title = titleval + subtitle\n",
    "                \n",
    "                , hover_data = [hval]\n",
    "                )\n",
    "        \n",
    "        fig_app = px.treemap(final_summary_df[final_summary_df[yval] !=0], \\\n",
    "                 path=[px.Constant(\"all\"), 'protocol','chain'], \\\n",
    "#                  path=[px.Constant(\"all\"), 'token', 'chain', 'protocol'], \\\n",
    "                 values=yval, color=cval\n",
    "#                 ,color_discrete_map={'-1':'red', '1':'green'})\n",
    "                ,color_continuous_scale='Spectral'\n",
    "                     , title = titleval_app + subtitle\n",
    "                \n",
    "                , hover_data = [hval]\n",
    "                )\n",
    "        \n",
    "        fig.update_traces(root_color=\"lightgrey\")\n",
    "        fig.update_layout(margin = dict(t=50, l=25, r=25, b=25))\n",
    "        fig_app.update_traces(root_color=\"lightgrey\")\n",
    "        fig_app.update_layout(margin = dict(t=50, l=25, r=25, b=25))\n",
    "\n",
    "        fig.write_image(prepend + \"img_outputs/svg/\" + saveval + \".svg\") #prepend + \n",
    "        fig.write_image(prepend + \"img_outputs/png/\" + saveval + \".png\") #prepend + \n",
    "        fig.write_html(prepend + \"img_outputs/\" + saveval + \".html\", include_plotlyjs='cdn')\n",
    "\n",
    "        fig_app.write_image(prepend + \"img_outputs/svg/\" + saveval_app + \".svg\") #prepend + \n",
    "        fig_app.write_image(prepend + \"img_outputs/png/\" + saveval_app + \".png\") #prepend + \n",
    "        fig_app.write_html(prepend + \"img_outputs/\" + saveval_app + \".html\", include_plotlyjs='cdn')\n",
    "\n",
    "        if i == 30:\n",
    "                fig.show()\n",
    "# fig.data[0].textinfo = 'label+text+value'\n",
    "# fig.update_layout(tickprefix = '$')"
   ]
  },
  {
   "cell_type": "code",
   "execution_count": 24,
   "id": "a059b588",
   "metadata": {},
   "outputs": [
    {
     "data": {
      "text/html": [
       "<div>\n",
       "<style scoped>\n",
       "    .dataframe tbody tr th:only-of-type {\n",
       "        vertical-align: middle;\n",
       "    }\n",
       "\n",
       "    .dataframe tbody tr th {\n",
       "        vertical-align: top;\n",
       "    }\n",
       "\n",
       "    .dataframe thead th {\n",
       "        text-align: right;\n",
       "    }\n",
       "</style>\n",
       "<table border=\"1\" class=\"dataframe\">\n",
       "  <thead>\n",
       "    <tr style=\"text-align: right;\">\n",
       "      <th></th>\n",
       "      <th>date</th>\n",
       "      <th>protocol</th>\n",
       "      <th>chain</th>\n",
       "      <th>usd_value</th>\n",
       "      <th>name</th>\n",
       "      <th>category</th>\n",
       "      <th>parent_protocol</th>\n",
       "      <th>net_dollar_flow</th>\n",
       "      <th>net_dollar_flow_latest_price</th>\n",
       "      <th>rank_desc</th>\n",
       "      <th>...</th>\n",
       "      <th>abs_cumul_net_dollar_flow_90d</th>\n",
       "      <th>cumul_net_dollar_flow_180d</th>\n",
       "      <th>daily_avg_tvl_180d</th>\n",
       "      <th>flow_direction_180d</th>\n",
       "      <th>abs_cumul_net_dollar_flow_180d</th>\n",
       "      <th>cumul_net_dollar_flow_365d</th>\n",
       "      <th>daily_avg_tvl_365d</th>\n",
       "      <th>flow_direction_365d</th>\n",
       "      <th>abs_cumul_net_dollar_flow_365d</th>\n",
       "      <th>pct_of_tvl</th>\n",
       "    </tr>\n",
       "  </thead>\n",
       "  <tbody>\n",
       "    <tr>\n",
       "      <th>107534</th>\n",
       "      <td>2022-06-03</td>\n",
       "      <td>velodrome*</td>\n",
       "      <td>Optimism</td>\n",
       "      <td>3.045954e+07</td>\n",
       "      <td>Velodrome</td>\n",
       "      <td>Dexes</td>\n",
       "      <td>Velodrome</td>\n",
       "      <td>1.976815e+06</td>\n",
       "      <td>1.976815e+06</td>\n",
       "      <td>251</td>\n",
       "      <td>...</td>\n",
       "      <td>1.976815e+06</td>\n",
       "      <td>1.976815e+06</td>\n",
       "      <td>3.045954e+07</td>\n",
       "      <td>1</td>\n",
       "      <td>1.976815e+06</td>\n",
       "      <td>1.976815e+06</td>\n",
       "      <td>3.045954e+07</td>\n",
       "      <td>1</td>\n",
       "      <td>1.976815e+06</td>\n",
       "      <td>6.489970</td>\n",
       "    </tr>\n",
       "    <tr>\n",
       "      <th>108660</th>\n",
       "      <td>2022-06-04</td>\n",
       "      <td>velodrome*</td>\n",
       "      <td>Optimism</td>\n",
       "      <td>3.919414e+07</td>\n",
       "      <td>Velodrome</td>\n",
       "      <td>Dexes</td>\n",
       "      <td>Velodrome</td>\n",
       "      <td>8.734593e+06</td>\n",
       "      <td>8.734593e+06</td>\n",
       "      <td>250</td>\n",
       "      <td>...</td>\n",
       "      <td>1.071141e+07</td>\n",
       "      <td>1.071141e+07</td>\n",
       "      <td>3.482684e+07</td>\n",
       "      <td>1</td>\n",
       "      <td>1.071141e+07</td>\n",
       "      <td>1.071141e+07</td>\n",
       "      <td>3.482684e+07</td>\n",
       "      <td>1</td>\n",
       "      <td>1.071141e+07</td>\n",
       "      <td>22.285460</td>\n",
       "    </tr>\n",
       "    <tr>\n",
       "      <th>109787</th>\n",
       "      <td>2022-06-05</td>\n",
       "      <td>velodrome*</td>\n",
       "      <td>Optimism</td>\n",
       "      <td>3.929542e+07</td>\n",
       "      <td>Velodrome</td>\n",
       "      <td>Dexes</td>\n",
       "      <td>Velodrome</td>\n",
       "      <td>1.012897e+05</td>\n",
       "      <td>1.012897e+05</td>\n",
       "      <td>249</td>\n",
       "      <td>...</td>\n",
       "      <td>1.081270e+07</td>\n",
       "      <td>1.081270e+07</td>\n",
       "      <td>3.631637e+07</td>\n",
       "      <td>1</td>\n",
       "      <td>1.081270e+07</td>\n",
       "      <td>1.081270e+07</td>\n",
       "      <td>3.631637e+07</td>\n",
       "      <td>1</td>\n",
       "      <td>1.081270e+07</td>\n",
       "      <td>0.257765</td>\n",
       "    </tr>\n",
       "    <tr>\n",
       "      <th>110919</th>\n",
       "      <td>2022-06-06</td>\n",
       "      <td>velodrome*</td>\n",
       "      <td>Optimism</td>\n",
       "      <td>4.203704e+07</td>\n",
       "      <td>Velodrome</td>\n",
       "      <td>Dexes</td>\n",
       "      <td>Velodrome</td>\n",
       "      <td>2.741616e+06</td>\n",
       "      <td>2.741616e+06</td>\n",
       "      <td>248</td>\n",
       "      <td>...</td>\n",
       "      <td>1.355431e+07</td>\n",
       "      <td>1.355431e+07</td>\n",
       "      <td>3.774654e+07</td>\n",
       "      <td>1</td>\n",
       "      <td>1.355431e+07</td>\n",
       "      <td>1.355431e+07</td>\n",
       "      <td>3.774654e+07</td>\n",
       "      <td>1</td>\n",
       "      <td>1.355431e+07</td>\n",
       "      <td>6.521906</td>\n",
       "    </tr>\n",
       "    <tr>\n",
       "      <th>112052</th>\n",
       "      <td>2022-06-07</td>\n",
       "      <td>velodrome*</td>\n",
       "      <td>Optimism</td>\n",
       "      <td>4.871631e+07</td>\n",
       "      <td>Velodrome</td>\n",
       "      <td>Dexes</td>\n",
       "      <td>Velodrome</td>\n",
       "      <td>6.679269e+06</td>\n",
       "      <td>6.679269e+06</td>\n",
       "      <td>247</td>\n",
       "      <td>...</td>\n",
       "      <td>2.023358e+07</td>\n",
       "      <td>2.023358e+07</td>\n",
       "      <td>3.994049e+07</td>\n",
       "      <td>1</td>\n",
       "      <td>2.023358e+07</td>\n",
       "      <td>2.023358e+07</td>\n",
       "      <td>3.994049e+07</td>\n",
       "      <td>1</td>\n",
       "      <td>2.023358e+07</td>\n",
       "      <td>13.710539</td>\n",
       "    </tr>\n",
       "    <tr>\n",
       "      <th>...</th>\n",
       "      <td>...</td>\n",
       "      <td>...</td>\n",
       "      <td>...</td>\n",
       "      <td>...</td>\n",
       "      <td>...</td>\n",
       "      <td>...</td>\n",
       "      <td>...</td>\n",
       "      <td>...</td>\n",
       "      <td>...</td>\n",
       "      <td>...</td>\n",
       "      <td>...</td>\n",
       "      <td>...</td>\n",
       "      <td>...</td>\n",
       "      <td>...</td>\n",
       "      <td>...</td>\n",
       "      <td>...</td>\n",
       "      <td>...</td>\n",
       "      <td>...</td>\n",
       "      <td>...</td>\n",
       "      <td>...</td>\n",
       "      <td>...</td>\n",
       "    </tr>\n",
       "    <tr>\n",
       "      <th>469093</th>\n",
       "      <td>2023-02-04</td>\n",
       "      <td>velodrome*</td>\n",
       "      <td>Optimism</td>\n",
       "      <td>1.505152e+08</td>\n",
       "      <td>Velodrome</td>\n",
       "      <td>Dexes</td>\n",
       "      <td>Velodrome</td>\n",
       "      <td>4.064175e+06</td>\n",
       "      <td>4.064175e+06</td>\n",
       "      <td>5</td>\n",
       "      <td>...</td>\n",
       "      <td>6.096472e+07</td>\n",
       "      <td>2.396487e+07</td>\n",
       "      <td>7.860651e+07</td>\n",
       "      <td>1</td>\n",
       "      <td>2.396487e+07</td>\n",
       "      <td>1.220325e+08</td>\n",
       "      <td>7.040909e+07</td>\n",
       "      <td>1</td>\n",
       "      <td>1.220325e+08</td>\n",
       "      <td>2.700176</td>\n",
       "    </tr>\n",
       "    <tr>\n",
       "      <th>470808</th>\n",
       "      <td>2023-02-05</td>\n",
       "      <td>velodrome*</td>\n",
       "      <td>Optimism</td>\n",
       "      <td>1.560492e+08</td>\n",
       "      <td>Velodrome</td>\n",
       "      <td>Dexes</td>\n",
       "      <td>Velodrome</td>\n",
       "      <td>5.533983e+06</td>\n",
       "      <td>5.533983e+06</td>\n",
       "      <td>4</td>\n",
       "      <td>...</td>\n",
       "      <td>6.747818e+07</td>\n",
       "      <td>2.722828e+07</td>\n",
       "      <td>7.875778e+07</td>\n",
       "      <td>1</td>\n",
       "      <td>2.722828e+07</td>\n",
       "      <td>1.275665e+08</td>\n",
       "      <td>7.075441e+07</td>\n",
       "      <td>1</td>\n",
       "      <td>1.275665e+08</td>\n",
       "      <td>3.546307</td>\n",
       "    </tr>\n",
       "    <tr>\n",
       "      <th>472527</th>\n",
       "      <td>2023-02-06</td>\n",
       "      <td>velodrome*</td>\n",
       "      <td>Optimism</td>\n",
       "      <td>1.575958e+08</td>\n",
       "      <td>Velodrome</td>\n",
       "      <td>Dexes</td>\n",
       "      <td>Velodrome</td>\n",
       "      <td>1.546665e+06</td>\n",
       "      <td>1.546665e+06</td>\n",
       "      <td>3</td>\n",
       "      <td>...</td>\n",
       "      <td>7.006636e+07</td>\n",
       "      <td>3.591572e+07</td>\n",
       "      <td>7.895731e+07</td>\n",
       "      <td>1</td>\n",
       "      <td>3.591572e+07</td>\n",
       "      <td>1.291131e+08</td>\n",
       "      <td>7.110317e+07</td>\n",
       "      <td>1</td>\n",
       "      <td>1.291131e+08</td>\n",
       "      <td>0.981413</td>\n",
       "    </tr>\n",
       "    <tr>\n",
       "      <th>474247</th>\n",
       "      <td>2023-02-07</td>\n",
       "      <td>velodrome*</td>\n",
       "      <td>Optimism</td>\n",
       "      <td>1.677307e+08</td>\n",
       "      <td>Velodrome</td>\n",
       "      <td>Dexes</td>\n",
       "      <td>Velodrome</td>\n",
       "      <td>1.013481e+07</td>\n",
       "      <td>1.013481e+07</td>\n",
       "      <td>2</td>\n",
       "      <td>...</td>\n",
       "      <td>9.285640e+07</td>\n",
       "      <td>4.635392e+07</td>\n",
       "      <td>7.921484e+07</td>\n",
       "      <td>1</td>\n",
       "      <td>4.635392e+07</td>\n",
       "      <td>1.392479e+08</td>\n",
       "      <td>7.148968e+07</td>\n",
       "      <td>1</td>\n",
       "      <td>1.392479e+08</td>\n",
       "      <td>6.042314</td>\n",
       "    </tr>\n",
       "    <tr>\n",
       "      <th>475968</th>\n",
       "      <td>2023-02-08</td>\n",
       "      <td>velodrome*</td>\n",
       "      <td>Optimism</td>\n",
       "      <td>1.794368e+08</td>\n",
       "      <td>Velodrome</td>\n",
       "      <td>Dexes</td>\n",
       "      <td>Velodrome</td>\n",
       "      <td>1.170610e+07</td>\n",
       "      <td>1.170610e+07</td>\n",
       "      <td>1</td>\n",
       "      <td>...</td>\n",
       "      <td>1.123150e+08</td>\n",
       "      <td>6.998867e+07</td>\n",
       "      <td>7.960366e+07</td>\n",
       "      <td>1</td>\n",
       "      <td>6.998867e+07</td>\n",
       "      <td>1.509540e+08</td>\n",
       "      <td>7.191975e+07</td>\n",
       "      <td>1</td>\n",
       "      <td>1.509540e+08</td>\n",
       "      <td>6.523804</td>\n",
       "    </tr>\n",
       "  </tbody>\n",
       "</table>\n",
       "<p>251 rows × 39 columns</p>\n",
       "</div>"
      ],
      "text/plain": [
       "             date    protocol     chain     usd_value       name category  \\\n",
       "107534 2022-06-03  velodrome*  Optimism  3.045954e+07  Velodrome    Dexes   \n",
       "108660 2022-06-04  velodrome*  Optimism  3.919414e+07  Velodrome    Dexes   \n",
       "109787 2022-06-05  velodrome*  Optimism  3.929542e+07  Velodrome    Dexes   \n",
       "110919 2022-06-06  velodrome*  Optimism  4.203704e+07  Velodrome    Dexes   \n",
       "112052 2022-06-07  velodrome*  Optimism  4.871631e+07  Velodrome    Dexes   \n",
       "...           ...         ...       ...           ...        ...      ...   \n",
       "469093 2023-02-04  velodrome*  Optimism  1.505152e+08  Velodrome    Dexes   \n",
       "470808 2023-02-05  velodrome*  Optimism  1.560492e+08  Velodrome    Dexes   \n",
       "472527 2023-02-06  velodrome*  Optimism  1.575958e+08  Velodrome    Dexes   \n",
       "474247 2023-02-07  velodrome*  Optimism  1.677307e+08  Velodrome    Dexes   \n",
       "475968 2023-02-08  velodrome*  Optimism  1.794368e+08  Velodrome    Dexes   \n",
       "\n",
       "       parent_protocol  net_dollar_flow  net_dollar_flow_latest_price  \\\n",
       "107534       Velodrome     1.976815e+06                  1.976815e+06   \n",
       "108660       Velodrome     8.734593e+06                  8.734593e+06   \n",
       "109787       Velodrome     1.012897e+05                  1.012897e+05   \n",
       "110919       Velodrome     2.741616e+06                  2.741616e+06   \n",
       "112052       Velodrome     6.679269e+06                  6.679269e+06   \n",
       "...                ...              ...                           ...   \n",
       "469093       Velodrome     4.064175e+06                  4.064175e+06   \n",
       "470808       Velodrome     5.533983e+06                  5.533983e+06   \n",
       "472527       Velodrome     1.546665e+06                  1.546665e+06   \n",
       "474247       Velodrome     1.013481e+07                  1.013481e+07   \n",
       "475968       Velodrome     1.170610e+07                  1.170610e+07   \n",
       "\n",
       "        rank_desc  ...  abs_cumul_net_dollar_flow_90d  \\\n",
       "107534        251  ...                   1.976815e+06   \n",
       "108660        250  ...                   1.071141e+07   \n",
       "109787        249  ...                   1.081270e+07   \n",
       "110919        248  ...                   1.355431e+07   \n",
       "112052        247  ...                   2.023358e+07   \n",
       "...           ...  ...                            ...   \n",
       "469093          5  ...                   6.096472e+07   \n",
       "470808          4  ...                   6.747818e+07   \n",
       "472527          3  ...                   7.006636e+07   \n",
       "474247          2  ...                   9.285640e+07   \n",
       "475968          1  ...                   1.123150e+08   \n",
       "\n",
       "        cumul_net_dollar_flow_180d  daily_avg_tvl_180d  flow_direction_180d  \\\n",
       "107534                1.976815e+06        3.045954e+07                    1   \n",
       "108660                1.071141e+07        3.482684e+07                    1   \n",
       "109787                1.081270e+07        3.631637e+07                    1   \n",
       "110919                1.355431e+07        3.774654e+07                    1   \n",
       "112052                2.023358e+07        3.994049e+07                    1   \n",
       "...                            ...                 ...                  ...   \n",
       "469093                2.396487e+07        7.860651e+07                    1   \n",
       "470808                2.722828e+07        7.875778e+07                    1   \n",
       "472527                3.591572e+07        7.895731e+07                    1   \n",
       "474247                4.635392e+07        7.921484e+07                    1   \n",
       "475968                6.998867e+07        7.960366e+07                    1   \n",
       "\n",
       "        abs_cumul_net_dollar_flow_180d  cumul_net_dollar_flow_365d  \\\n",
       "107534                    1.976815e+06                1.976815e+06   \n",
       "108660                    1.071141e+07                1.071141e+07   \n",
       "109787                    1.081270e+07                1.081270e+07   \n",
       "110919                    1.355431e+07                1.355431e+07   \n",
       "112052                    2.023358e+07                2.023358e+07   \n",
       "...                                ...                         ...   \n",
       "469093                    2.396487e+07                1.220325e+08   \n",
       "470808                    2.722828e+07                1.275665e+08   \n",
       "472527                    3.591572e+07                1.291131e+08   \n",
       "474247                    4.635392e+07                1.392479e+08   \n",
       "475968                    6.998867e+07                1.509540e+08   \n",
       "\n",
       "        daily_avg_tvl_365d  flow_direction_365d  \\\n",
       "107534        3.045954e+07                    1   \n",
       "108660        3.482684e+07                    1   \n",
       "109787        3.631637e+07                    1   \n",
       "110919        3.774654e+07                    1   \n",
       "112052        3.994049e+07                    1   \n",
       "...                    ...                  ...   \n",
       "469093        7.040909e+07                    1   \n",
       "470808        7.075441e+07                    1   \n",
       "472527        7.110317e+07                    1   \n",
       "474247        7.148968e+07                    1   \n",
       "475968        7.191975e+07                    1   \n",
       "\n",
       "        abs_cumul_net_dollar_flow_365d  pct_of_tvl  \n",
       "107534                    1.976815e+06    6.489970  \n",
       "108660                    1.071141e+07   22.285460  \n",
       "109787                    1.081270e+07    0.257765  \n",
       "110919                    1.355431e+07    6.521906  \n",
       "112052                    2.023358e+07   13.710539  \n",
       "...                                ...         ...  \n",
       "469093                    1.220325e+08    2.700176  \n",
       "470808                    1.275665e+08    3.546307  \n",
       "472527                    1.291131e+08    0.981413  \n",
       "474247                    1.392479e+08    6.042314  \n",
       "475968                    1.509540e+08    6.523804  \n",
       "\n",
       "[251 rows x 39 columns]"
      ]
     },
     "execution_count": 24,
     "metadata": {},
     "output_type": "execute_result"
    }
   ],
   "source": [
    "# display( summary_df[(summary_df['chain'] == 'Arbitrum') & (summary_df['protocol'] == 'rage-trade') & (summary_df['rank_desc'] < 30)][['date','usd_value','protocol','net_dollar_flow','cumul_net_dollar_flow_30d']])\n",
    "\n",
    "#test sample\n",
    "# summary_df[summary_df['protocol'] == 'magpie']\n",
    "summary_df[summary_df['protocol'] == 'velodrome*']"
   ]
  },
  {
   "cell_type": "code",
   "execution_count": 25,
   "id": "c5dabb18",
   "metadata": {},
   "outputs": [],
   "source": [
    "\n",
    "\n",
    "# test_df= netdf_df[(netdf_df['chain'] == 'Arbitrum') & (netdf_df['protocol'] == 'rage-trade')][['chain','protocol','date','net_dollar_flow','rank_desc']]\n",
    "# test_df = test_df.sort_values(by='date',ascending=True)\n",
    "# test_df['test'] = test_df[['protocol','chain','net_dollar_flow']]\\\n",
    "#     .groupby(['protocol','chain'])['net_dollar_flow'].transform(lambda x: x.rolling(30, min_periods=1).sum() )\n",
    "# display(test_df[test_df['rank_desc'] < 45])\n",
    "# # display(summary_df[summary_df['protocol']=='makerdao'].iloc[: , :15])"
   ]
  },
  {
   "cell_type": "code",
   "execution_count": 26,
   "id": "c0bdf6d8",
   "metadata": {
    "scrolled": false
   },
   "outputs": [],
   "source": [
    "\n",
    "# fig_app = px.treemap(final_summary_df[final_summary_df['abs_cumul_net_dollar_flow'] !=0], \\\n",
    "#                 #  path=[px.Constant(\"all\"), 'chain', 'protocol'], \\\n",
    "# #                  path=[px.Constant(\"all\"), 'token', 'chain', 'protocol'], \\\n",
    "#                         path=[px.Constant(\"all\"), 'protocol','chain'], \\\n",
    "#                  values='abs_cumul_net_dollar_flow', color='flow_direction'\n",
    "# #                 ,color_discrete_map={'-1':'red', '1':'green'})\n",
    "#                 ,color_continuous_scale='Spectral'\n",
    "#                 , title = \"App Net Flows Change by Chain -> App - Last \" + str(trailing_num_days) + \\\n",
    "#                             \" Days - (Apps with > $\" + str(min_tvl/1e6) + \"M TVL Shown)\"\n",
    "#                 ,hover_data=['cumul_net_dollar_flow']\n",
    "#                 )\n",
    "# # fig.data[0].textinfo = 'label+text+value'\n",
    "# fig_app.update_traces(root_color=\"lightgrey\")\n",
    "# fig_app.update_layout(margin = dict(t=50, l=25, r=25, b=25))\n",
    "# fig.show()"
   ]
  },
  {
   "cell_type": "code",
   "execution_count": 27,
   "id": "71c722ff",
   "metadata": {},
   "outputs": [],
   "source": [
    "\n",
    "# fig_app.write_image(prepend + \"img_outputs/svg/net_app_flows_by_app.svg\") #prepend + \n",
    "# fig_app.write_image(prepend + \"img_outputs/png/net_app_flows_by_app.png\") #prepend + \n",
    "# fig_app.write_html(prepend + \"img_outputs/net_app_flows_by_app.html\", include_plotlyjs='cdn')\n"
   ]
  },
  {
   "cell_type": "code",
   "execution_count": 28,
   "id": "9f573693",
   "metadata": {},
   "outputs": [],
   "source": [
    "# ! jupyter nbconvert --to python total_app_net_flows_async.ipynb"
   ]
  }
 ],
 "metadata": {
  "kernelspec": {
   "display_name": "new-env",
   "language": "python",
   "name": "python3"
  },
  "language_info": {
   "codemirror_mode": {
    "name": "ipython",
    "version": 3
   },
   "file_extension": ".py",
   "mimetype": "text/x-python",
   "name": "python",
   "nbconvert_exporter": "python",
   "pygments_lexer": "ipython3",
   "version": "3.10.9"
  },
  "vscode": {
   "interpreter": {
    "hash": "7d537a1638226190f579d6fbb68604c1b09ebc740a69df557abedb49ad78e592"
   }
  }
 },
 "nbformat": 4,
 "nbformat_minor": 5
}
