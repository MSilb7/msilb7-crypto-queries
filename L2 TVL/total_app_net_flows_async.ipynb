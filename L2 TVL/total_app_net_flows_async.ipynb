{
 "cells": [
  {
   "cell_type": "code",
   "execution_count": null,
   "id": "ffefb42a",
   "metadata": {},
   "outputs": [],
   "source": [
    "import pandas as pd\n",
    "import requests as r\n",
    "import plotly.express as px\n",
    "import plotly.graph_objects as go\n",
    "from datetime import datetime, timedelta, date\n",
    "import numpy as np\n",
    "import time\n",
    "import os\n",
    "import asyncio, aiohttp, nest_asyncio\n",
    "from aiohttp_retry import RetryClient, ExponentialRetry\n",
    "nest_asyncio.apply()\n",
    "header = {'User-Agent': 'Mozilla/5.0 (Windows NT 10.0; Win64; x64; rv:71.0) Gecko/20100101 Firefox/71.0'}"
   ]
  },
  {
   "cell_type": "code",
   "execution_count": null,
   "id": "539f29a0",
   "metadata": {},
   "outputs": [],
   "source": [
    "#https://stackoverflow.com/questions/23267409/how-to-implement-retry-mechanism-into-python-requests-library\n",
    "\n",
    "import logging\n",
    "import requests\n",
    "\n",
    "from requests.adapters import HTTPAdapter, Retry\n",
    "\n",
    "# logging.basicConfig(level=logging.DEBUG)\n",
    "\n",
    "s = requests.Session()\n",
    "retries = Retry(total=10, backoff_factor=1, status_forcelist=[ 502, 503, 504 ])\n",
    "s.mount('http://', HTTPAdapter(max_retries=retries))\n",
    "\n",
    "pwd = os.getcwd()\n",
    "if 'L2 TVL' in pwd:\n",
    "    prepend = ''\n",
    "else:\n",
    "    prepend = 'L2 TVL/'"
   ]
  },
  {
   "cell_type": "code",
   "execution_count": null,
   "id": "bbc56e12",
   "metadata": {},
   "outputs": [],
   "source": [
    "trailing_num_days = 90\n",
    "\n",
    "start_date = date.today()-timedelta(days=trailing_num_days +1)\n",
    "\n",
    "# start_date = datetime.strptime('2022-07-13', '%Y-%m-%d').date()\n",
    "\n"
   ]
  },
  {
   "cell_type": "code",
   "execution_count": null,
   "id": "d984f9ab",
   "metadata": {},
   "outputs": [],
   "source": [
    "#get all apps > 10 m tvl\n",
    "min_tvl = 10_000_000\n",
    "all_api = 'https://api.llama.fi/protocols'\n",
    "res = pd.DataFrame( r.get(all_api, headers=header).json() )\n",
    "res = res[res['tvl'] > min_tvl] ##greater than 10mil\n",
    "# print(len(res))\n",
    "# print(res.columns)\n",
    "# display(res)"
   ]
  },
  {
   "cell_type": "code",
   "execution_count": null,
   "id": "beebc582",
   "metadata": {},
   "outputs": [],
   "source": [
    "\n",
    "protocols = res[['slug','chainTvls']]\n",
    "# print(protocols)\n",
    "re = res['chainTvls']\n",
    "# r[1].keys()\n",
    "protocols['chainTvls'] = protocols['chainTvls'].apply(lambda x: list(x.keys()) )\n",
    "# protocols[protocols['chainTvls'].map(set(['Arbitrum']).issubset)]\n"
   ]
  },
  {
   "cell_type": "code",
   "execution_count": null,
   "id": "c84c9ef1",
   "metadata": {},
   "outputs": [],
   "source": [
    "# protocols = protocols[ protocols['slug'] == 'uniswap-v3' ]\n",
    "# api_str = 'https://api.llama.fi/protocol/'\n",
    "# ad = pd.DataFrame( r.get(api_str).json()['chainTvls'] ).T[['tokens']]\n",
    "# ad"
   ]
  },
  {
   "cell_type": "code",
   "execution_count": null,
   "id": "9717e4df",
   "metadata": {},
   "outputs": [],
   "source": [
    "# api_str = 'https://api.llama.fi/protocol/uniswap'\n",
    "# prot_req = r.get(api_str, headers=header).json()['chainTvls']\n",
    "# # prot_req['Ethereum']\n",
    "# prot_req"
   ]
  },
  {
   "cell_type": "code",
   "execution_count": null,
   "id": "4e4e981e",
   "metadata": {},
   "outputs": [],
   "source": [
    "statuses = {x for x in range(100, 600)}\n",
    "statuses.remove(200)\n",
    "statuses.remove(429)"
   ]
  },
  {
   "cell_type": "code",
   "execution_count": null,
   "id": "052b6ccc",
   "metadata": {},
   "outputs": [],
   "source": [
    "async def get_tvl(apistring, header, statuses, chains, prot):\n",
    "        prod = []\n",
    "        retry_client = RetryClient()\n",
    "        async with retry_client.get(apistring, retry_options=ExponentialRetry(attempts=10), raise_for_status=statuses) as response:\n",
    "                try:\n",
    "                        prot_req = await response.json()\n",
    "                        prot_req = prot_req['chainTvls']\n",
    "                        for ch in chains:\n",
    "                                ad = pd.json_normalize( prot_req[ch]['tokens'] )\n",
    "                                ad_usd = pd.json_normalize( prot_req[ch]['tokensInUsd'] )\n",
    "                        #             ad = ad.merge(how='left')\n",
    "                                if not ad.empty:\n",
    "                                        ad = pd.melt(ad,id_vars = ['date'])\n",
    "                                        ad = ad.rename(columns={'variable':'token','value':'token_value'})\n",
    "                                        ad_usd = pd.melt(ad_usd,id_vars = ['date'])\n",
    "                                        ad_usd = ad_usd.rename(columns={'variable':'token','value':'usd_value'})\n",
    "                                        ad = ad.merge(ad_usd,on=['date','token'])\n",
    "                                        \n",
    "                                        ad['date'] = pd.to_datetime(ad['date'], unit ='s') #convert to days\n",
    "                                        ad['token'] = ad['token'].str.replace('tokens.','', regex=False)\n",
    "                                        ad['protocol'] = prot\n",
    "                                        ad['chain'] = ch\n",
    "                                #         ad['start_date'] = pd.to_datetime(prot[1])\n",
    "                                        # ad['date'] = ad['date'] - timedelta(days=1) #change to eod vs sod\n",
    "                                        prod.append(ad)\n",
    "                except Exception as e:\n",
    "                        raise Exception(\"Could not convert json\")\n",
    "        await retry_client.close()\n",
    "        \n",
    "        return prod"
   ]
  },
  {
   "cell_type": "code",
   "execution_count": null,
   "id": "00c9efc7",
   "metadata": {},
   "outputs": [],
   "source": [
    "def get_range(protocols):\n",
    "        data_dfs = []\n",
    "        fee_df = []\n",
    "        # for dt in date_range:\n",
    "        #         await asyncio.gather()\n",
    "        #         data_dfs.append(res_df)\n",
    "        #         # res.columns\n",
    "        # try:\n",
    "        #         loop.close()\n",
    "        # except:\n",
    "        #         #nothing\n",
    "        loop = asyncio.get_event_loop()\n",
    "        #get by app\n",
    "        api_str = 'https://api.llama.fi/protocol/'\n",
    "        # print(protocols)\n",
    "        prod = []\n",
    "        tasks = []\n",
    "        for index,proto in protocols.iterrows():\n",
    "                #     print(proto)\n",
    "                prot = proto['slug']\n",
    "                chains = proto['chainTvls']\n",
    "                apic = api_str + prot\n",
    "                #     time.sleep(0.1)\n",
    "                tasks.append( get_tvl(apic, header, statuses, chains, prot) )\n",
    "        # print(tasks)\n",
    "        data_dfs = loop.run_until_complete(asyncio.gather(*tasks, return_exceptions=True))\n",
    "        # print(date_range)\n",
    "        # loop.close()\n",
    "        # print(data_dfs)\n",
    "        # fee_df = pd.concat(data_dfs)\n",
    "        # return fee_df\n",
    "        return data_dfs"
   ]
  },
  {
   "cell_type": "code",
   "execution_count": null,
   "id": "d3399236",
   "metadata": {},
   "outputs": [],
   "source": [
    "df_df = get_range(protocols)\n",
    "# print (typeof(df_df_all) )\n"
   ]
  },
  {
   "cell_type": "code",
   "execution_count": null,
   "id": "5b4e1888",
   "metadata": {},
   "outputs": [],
   "source": [
    "df_list = []\n",
    "for dat in df_df:\n",
    "        if isinstance(dat,list):\n",
    "                # print(dat)\n",
    "                for pt in dat: #each list within the list (i.e. multiple chains)\n",
    "                        try:\n",
    "                                tempdf = pd.DataFrame(pt)\n",
    "                                if not tempdf.empty:\n",
    "                                        # print(tempdf)\n",
    "                                        df_list.append(tempdf)\n",
    "                        except:\n",
    "                                continue\n",
    "# df_df_all = pd.DataFrame()\n",
    "df_df_all = pd.concat(df_list)"
   ]
  },
  {
   "cell_type": "code",
   "execution_count": null,
   "id": "5ab956a5",
   "metadata": {},
   "outputs": [],
   "source": [
    "# df_df_all"
   ]
  },
  {
   "cell_type": "code",
   "execution_count": null,
   "id": "c7c1ddad",
   "metadata": {},
   "outputs": [],
   "source": [
    "\n",
    "# df_df_all = pd.concat(df_df_all)\n",
    "# print(df_df_all[2])\n",
    "print(\"done api\")"
   ]
  },
  {
   "cell_type": "code",
   "execution_count": null,
   "id": "53c381e8",
   "metadata": {},
   "outputs": [],
   "source": [
    "#filter down a bit so we can do trailing comp w/o doing every row\n",
    "df_df = df_df_all[df_df_all['date'].dt.date >= start_date-timedelta(days=1) ]\n",
    "\n",
    "#trailing comp\n",
    "df_df['last_token_value'] = df_df.groupby(['token','protocol','chain'])['token_value'].shift(1)\n",
    "#now actually filter\n",
    "df_df = df_df[df_df['date'].dt.date >= start_date ]\n"
   ]
  },
  {
   "cell_type": "code",
   "execution_count": null,
   "id": "8f9eb8e5",
   "metadata": {},
   "outputs": [],
   "source": [
    "\n",
    "data_df = df_df.copy()\n",
    "data_df['token_value'] = data_df['token_value'].replace(0, np.nan)\n",
    "# price = usd value / num tokens\n",
    "data_df['price_usd'] = data_df['usd_value']/data_df['token_value']\n",
    "\n",
    "data_df.sort_values(by='date',inplace=True)\n",
    "\n",
    "# net token change\n",
    "data_df['net_token_flow'] = data_df['token_value'] - data_df['last_token_value']\n",
    "# net token change * current price\n",
    "data_df['net_dollar_flow'] = data_df['net_token_flow'] * data_df['price_usd']\n",
    "\n",
    "\n",
    "data_df = data_df[abs(data_df['net_dollar_flow']) < 50_000_000_000] #50 bil error bar for bad prices\n",
    "data_df = data_df[~data_df['net_dollar_flow'].isna()]\n"
   ]
  },
  {
   "cell_type": "code",
   "execution_count": null,
   "id": "59f3f879",
   "metadata": {},
   "outputs": [],
   "source": [
    "netdf_df = data_df[['date','protocol','chain','net_dollar_flow','usd_value']]\n",
    "netdf_df = netdf_df.fillna(0)\n",
    "netdf_df = netdf_df.groupby(['date','protocol','chain']).sum(['net_dollar_flow','usd_value']) ##agg by app\n",
    "\n",
    "#usd_value is the TVL on a given day\n",
    "netdf_df = netdf_df.groupby(['date','protocol','chain','usd_value']).sum(['net_dollar_flow'])\n",
    "netdf_df.reset_index(inplace=True)\n",
    "\n",
    "netdf_df['cumul_net_dollar_flow'] = netdf_df[['protocol','chain','net_dollar_flow']]\\\n",
    "                                    .groupby(['protocol','chain']).cumsum()\n",
    "netdf_df.reset_index(inplace=True)\n",
    "netdf_df.drop(columns=['index'],inplace=True)\n"
   ]
  },
  {
   "cell_type": "code",
   "execution_count": null,
   "id": "18ccf06e",
   "metadata": {},
   "outputs": [],
   "source": [
    "#get latest\n",
    "netdf_df['rank_desc'] = netdf_df.groupby(['protocol', 'chain'])['date'].\\\n",
    "                            rank(method='dense',ascending=False).astype(int)\n"
   ]
  },
  {
   "cell_type": "code",
   "execution_count": null,
   "id": "c0bdf6d8",
   "metadata": {
    "scrolled": false
   },
   "outputs": [],
   "source": [
    "summary_df = netdf_df[  ( netdf_df['rank_desc'] == 1 ) &\\\n",
    "                        (~netdf_df['chain'].str.contains('-borrowed')) &\\\n",
    "                        (~netdf_df['chain'].str.contains('-staking')) &\\\n",
    "                        (~netdf_df['chain'].str.contains('-pool2')) &\\\n",
    "                            (~netdf_df['chain'].str.contains('-treasury')) &\\\n",
    "                        (~( netdf_df['chain'] == 'treasury') ) &\\\n",
    "                        (~( netdf_df['chain'] == 'borrowed') ) &\\\n",
    "                        (~( netdf_df['chain'] == 'staking') ) &\\\n",
    "                            (~( netdf_df['chain'] == 'treasury') ) &\\\n",
    "                        (~( netdf_df['chain'] == 'pool2') ) &\\\n",
    "                        (~( netdf_df['protocol'] == 'polygon-bridge-&-staking') ) \n",
    "#                         & (~( netdf_df['chain'] == 'Ethereum') )\n",
    "                        ]\n",
    "summary_df = summary_df.sort_values(by='cumul_net_dollar_flow',ascending=False)\n",
    "summary_df['pct_of_tvl'] = 100* summary_df['net_dollar_flow'] / summary_df['usd_value']\n",
    "summary_df['flow_direction'] = np.where(summary_df['cumul_net_dollar_flow']>=0,1,-1)\n",
    "summary_df['abs_cumul_net_dollar_flow'] = abs(summary_df['cumul_net_dollar_flow'])\n",
    "\n",
    "print(summary_df[summary_df['chain']=='Arbitrum'])\n",
    "print(summary_df[summary_df['chain']=='Optimism'])\n",
    "# display(summary_df)\n",
    "fig = px.treemap(summary_df[summary_df['abs_cumul_net_dollar_flow'] !=0], \\\n",
    "                 path=[px.Constant(\"all\"), 'chain', 'protocol'], \\\n",
    "#                  path=[px.Constant(\"all\"), 'token', 'chain', 'protocol'], \\\n",
    "                 values='abs_cumul_net_dollar_flow', color='flow_direction'\n",
    "#                 ,color_discrete_map={'-1':'red', '1':'green'})\n",
    "                ,color_continuous_scale='Spectral'\n",
    "                     , title = \"App Net Flows Change by App -> Chain - Last \" + str(trailing_num_days) + \\\n",
    "                            \" Days - (Apps with > $\" + str(min_tvl/1e6) + \"M TVL Shown)\"\n",
    "                )\n",
    "# fig.data[0].textinfo = 'label+text+value'\n",
    "fig.update_traces(root_color=\"lightgrey\")\n",
    "fig.update_layout(margin = dict(t=50, l=25, r=25, b=25))\n",
    "# fig.update_layout(tickprefix = '$')\n",
    "\n",
    "fig.show()\n",
    "fig_app = px.treemap(summary_df[summary_df['abs_cumul_net_dollar_flow'] !=0], \\\n",
    "                #  path=[px.Constant(\"all\"), 'chain', 'protocol'], \\\n",
    "#                  path=[px.Constant(\"all\"), 'token', 'chain', 'protocol'], \\\n",
    "                        path=[px.Constant(\"all\"), 'protocol','chain'], \\\n",
    "                 values='abs_cumul_net_dollar_flow', color='flow_direction'\n",
    "#                 ,color_discrete_map={'-1':'red', '1':'green'})\n",
    "                ,color_continuous_scale='Spectral'\n",
    "                , title = \"App Net Flows Change by Chain -> App - Last \" + str(trailing_num_days) + \\\n",
    "                            \" Days - (Apps with > $\" + str(min_tvl/1e6) + \"M TVL Shown)\"\n",
    "                )\n",
    "# fig.data[0].textinfo = 'label+text+value'\n",
    "fig_app.update_traces(root_color=\"lightgrey\")\n",
    "fig_app.update_layout(margin = dict(t=50, l=25, r=25, b=25))\n",
    "fig.show()"
   ]
  },
  {
   "cell_type": "code",
   "execution_count": null,
   "id": "71c722ff",
   "metadata": {},
   "outputs": [],
   "source": [
    "fig.write_image(prepend + \"img_outputs/svg/net_app_flows.svg\") #prepend + \n",
    "fig.write_image(prepend + \"img_outputs/png/net_app_flows.png\") #prepend + \n",
    "fig.write_html(prepend + \"img_outputs/net_app_flows.html\", include_plotlyjs='cdn')\n",
    "\n",
    "fig_app.write_image(prepend + \"img_outputs/svg/net_app_flows_by_app.svg\") #prepend + \n",
    "fig_app.write_image(prepend + \"img_outputs/png/net_app_flows_by_app.png\") #prepend + \n",
    "fig_app.write_html(prepend + \"img_outputs/net_app_flows_by_app.html\", include_plotlyjs='cdn')\n"
   ]
  },
  {
   "cell_type": "code",
   "execution_count": 29,
   "id": "9f573693",
   "metadata": {},
   "outputs": [
    {
     "name": "stdout",
     "output_type": "stream",
     "text": [
      "[NbConvertApp] Converting notebook total_app_net_flows_async.ipynb to python\n",
      "[NbConvertApp] Writing 11289 bytes to total_app_net_flows_async.py\n"
     ]
    }
   ],
   "source": [
    "# ! jupyter nbconvert --to python total_app_net_flows_async.ipynb"
   ]
  }
 ],
 "metadata": {
  "kernelspec": {
   "display_name": "Python 3 (ipykernel)",
   "language": "python",
   "name": "python3"
  },
  "language_info": {
   "codemirror_mode": {
    "name": "ipython",
    "version": 3
   },
   "file_extension": ".py",
   "mimetype": "text/x-python",
   "name": "python",
   "nbconvert_exporter": "python",
   "pygments_lexer": "ipython3",
   "version": "3.9.13"
  },
  "vscode": {
   "interpreter": {
    "hash": "17c021eea7371cec353b12daa8dd7517ddfe82cfa4c2626e1e7d1541ccab7c49"
   }
  }
 },
 "nbformat": 4,
 "nbformat_minor": 5
}
