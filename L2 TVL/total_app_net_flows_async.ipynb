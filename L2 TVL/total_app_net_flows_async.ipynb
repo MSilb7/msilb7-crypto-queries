{
 "cells": [
  {
   "cell_type": "code",
   "execution_count": 1,
   "id": "ffefb42a",
   "metadata": {},
   "outputs": [],
   "source": [
    "import pandas as pd\n",
    "import requests as r\n",
    "import plotly.express as px\n",
    "import plotly.graph_objects as go\n",
    "from datetime import datetime, timedelta, date\n",
    "import numpy as np\n",
    "import time\n",
    "import os\n",
    "import asyncio, aiohttp, nest_asyncio\n",
    "from aiohttp_retry import RetryClient, ExponentialRetry\n",
    "nest_asyncio.apply()\n",
    "header = {'User-Agent': 'Mozilla/5.0 (Windows NT 10.0; Win64; x64; rv:71.0) Gecko/20100101 Firefox/71.0'}"
   ]
  },
  {
   "cell_type": "code",
   "execution_count": 2,
   "id": "539f29a0",
   "metadata": {},
   "outputs": [],
   "source": [
    "#https://stackoverflow.com/questions/23267409/how-to-implement-retry-mechanism-into-python-requests-library\n",
    "\n",
    "import logging\n",
    "import requests\n",
    "\n",
    "from requests.adapters import HTTPAdapter, Retry\n",
    "\n",
    "# logging.basicConfig(level=logging.DEBUG)\n",
    "\n",
    "s = requests.Session()\n",
    "retries = Retry(total=10, backoff_factor=1, status_forcelist=[ 502, 503, 504 ])\n",
    "s.mount('http://', HTTPAdapter(max_retries=retries))\n",
    "\n",
    "pwd = os.getcwd()\n",
    "if 'L2 TVL' in pwd:\n",
    "    prepend = ''\n",
    "else:\n",
    "    prepend = 'L2 TVL/'"
   ]
  },
  {
   "cell_type": "code",
   "execution_count": 3,
   "id": "bbc56e12",
   "metadata": {},
   "outputs": [],
   "source": [
    "trailing_num_days = 90\n",
    "\n",
    "start_date = date.today()-timedelta(days=trailing_num_days +1)\n",
    "\n",
    "# start_date = datetime.strptime('2022-07-13', '%Y-%m-%d').date()\n",
    "\n"
   ]
  },
  {
   "cell_type": "code",
   "execution_count": 4,
   "id": "d984f9ab",
   "metadata": {},
   "outputs": [],
   "source": [
    "#get all apps > 10 m tvl\n",
    "min_tvl = 10_000_000\n",
    "all_api = 'https://api.llama.fi/protocols'\n",
    "res = pd.DataFrame( r.get(all_api, headers=header).json() )\n",
    "res = res[res['tvl'] > min_tvl] ##greater than 10mil\n",
    "res = res[res['category'] != 'CEX'] #centralized exchanges\n",
    "res = res[res['category'] != 'Chain'] #chain staking (i.e. polygon, stacks, xdai)\n",
    "\n",
    "# cats = res['category'].drop_duplicates()\n",
    "# display(cats)\n",
    "# print(len(res))\n",
    "# print(res.columns)\n",
    "# display(res)"
   ]
  },
  {
   "cell_type": "code",
   "execution_count": 5,
   "id": "17b3c54b",
   "metadata": {},
   "outputs": [],
   "source": [
    "# display(res)"
   ]
  },
  {
   "cell_type": "code",
   "execution_count": 6,
   "id": "beebc582",
   "metadata": {},
   "outputs": [
    {
     "name": "stderr",
     "output_type": "stream",
     "text": [
      "/var/folders/by/kltjc8yd0yz_7_wrtrzhrm9m0000gn/T/ipykernel_62797/266227638.py:5: SettingWithCopyWarning: \n",
      "A value is trying to be set on a copy of a slice from a DataFrame.\n",
      "Try using .loc[row_indexer,col_indexer] = value instead\n",
      "\n",
      "See the caveats in the documentation: https://pandas.pydata.org/pandas-docs/stable/user_guide/indexing.html#returning-a-view-versus-a-copy\n",
      "  protocols['chainTvls'] = protocols['chainTvls'].apply(lambda x: list(x.keys()) )\n"
     ]
    }
   ],
   "source": [
    "\n",
    "protocols = res[['slug','chainTvls']]\n",
    "# print(protocols)\n",
    "re = res['chainTvls']\n",
    "# r[1].keys()\n",
    "protocols['chainTvls'] = protocols['chainTvls'].apply(lambda x: list(x.keys()) )\n",
    "# protocols = protocols.head()\n",
    "# protocols[protocols['chainTvls'].map(set(['Arbitrum']).issubset)]\n"
   ]
  },
  {
   "cell_type": "code",
   "execution_count": 7,
   "id": "c84c9ef1",
   "metadata": {},
   "outputs": [],
   "source": [
    "# protocols = protocols[ protocols['slug'] == 'uniswap-v3' ]\n",
    "# api_str = 'https://api.llama.fi/protocol/'\n",
    "# ad = pd.DataFrame( r.get(api_str).json()['chainTvls'] ).T[['tokens']]\n",
    "# ad"
   ]
  },
  {
   "cell_type": "code",
   "execution_count": 8,
   "id": "9717e4df",
   "metadata": {},
   "outputs": [],
   "source": [
    "# api_str = 'https://api.llama.fi/protocol/uniswap'\n",
    "# prot_req = r.get(api_str, headers=header).json()['chainTvls']\n",
    "# # prot_req['Ethereum']\n",
    "# prot_req"
   ]
  },
  {
   "cell_type": "code",
   "execution_count": 9,
   "id": "4e4e981e",
   "metadata": {},
   "outputs": [],
   "source": [
    "statuses = {x for x in range(100, 600)}\n",
    "statuses.remove(200)\n",
    "statuses.remove(429)"
   ]
  },
  {
   "cell_type": "code",
   "execution_count": 10,
   "id": "052b6ccc",
   "metadata": {},
   "outputs": [],
   "source": [
    "async def get_tvl(apistring, header, statuses, chains, prot):\n",
    "        prod = []\n",
    "        retry_client = RetryClient()\n",
    "        async with retry_client.get(apistring, retry_options=ExponentialRetry(attempts=10), raise_for_status=statuses) as response:\n",
    "                try:\n",
    "                        prot_req = await response.json()\n",
    "                        prot_req = prot_req['chainTvls']\n",
    "                        for ch in chains:\n",
    "                                ad = pd.json_normalize( prot_req[ch]['tokens'] )\n",
    "                                ad_usd = pd.json_normalize( prot_req[ch]['tokensInUsd'] )\n",
    "                        #             ad = ad.merge(how='left')\n",
    "                                if not ad.empty:\n",
    "                                        ad = pd.melt(ad,id_vars = ['date'])\n",
    "                                        ad = ad.rename(columns={'variable':'token','value':'token_value'})\n",
    "                                        ad_usd = pd.melt(ad_usd,id_vars = ['date'])\n",
    "                                        ad_usd = ad_usd.rename(columns={'variable':'token','value':'usd_value'})\n",
    "                                        ad = ad.merge(ad_usd,on=['date','token'])\n",
    "                                        \n",
    "                                        ad['date'] = pd.to_datetime(ad['date'], unit ='s') #convert to days\n",
    "                                        ad['token'] = ad['token'].str.replace('tokens.','', regex=False)\n",
    "                                        ad['protocol'] = prot\n",
    "                                        ad['chain'] = ch\n",
    "                                #         ad['start_date'] = pd.to_datetime(prot[1])\n",
    "                                        # ad['date'] = ad['date'] - timedelta(days=1) #change to eod vs sod\n",
    "                                        prod.append(ad)\n",
    "                except Exception as e:\n",
    "                        raise Exception(\"Could not convert json\")\n",
    "        await retry_client.close()\n",
    "        \n",
    "        return prod"
   ]
  },
  {
   "cell_type": "code",
   "execution_count": 11,
   "id": "00c9efc7",
   "metadata": {},
   "outputs": [],
   "source": [
    "def get_range(protocols):\n",
    "        data_dfs = []\n",
    "        fee_df = []\n",
    "        # for dt in date_range:\n",
    "        #         await asyncio.gather()\n",
    "        #         data_dfs.append(res_df)\n",
    "        #         # res.columns\n",
    "        # try:\n",
    "        #         loop.close()\n",
    "        # except:\n",
    "        #         #nothing\n",
    "        loop = asyncio.get_event_loop()\n",
    "        #get by app\n",
    "        api_str = 'https://api.llama.fi/protocol/'\n",
    "        # print(protocols)\n",
    "        prod = []\n",
    "        tasks = []\n",
    "        for index,proto in protocols.iterrows():\n",
    "                #     print(proto)\n",
    "                prot = proto['slug']\n",
    "                chains = proto['chainTvls']\n",
    "                apic = api_str + prot\n",
    "                #     time.sleep(0.1)\n",
    "                tasks.append( get_tvl(apic, header, statuses, chains, prot) )\n",
    "        # print(tasks)\n",
    "        data_dfs = loop.run_until_complete(asyncio.gather(*tasks, return_exceptions=True))\n",
    "        # print(date_range)\n",
    "        # loop.close()\n",
    "        # print(data_dfs)\n",
    "        # fee_df = pd.concat(data_dfs)\n",
    "        # return fee_df\n",
    "        return data_dfs"
   ]
  },
  {
   "cell_type": "code",
   "execution_count": 12,
   "id": "d3399236",
   "metadata": {},
   "outputs": [],
   "source": [
    "df_df = get_range(protocols)\n",
    "# print (typeof(df_df_all) )\n"
   ]
  },
  {
   "cell_type": "code",
   "execution_count": 13,
   "id": "5b4e1888",
   "metadata": {},
   "outputs": [],
   "source": [
    "# print(df_df)\n",
    "df_list = []\n",
    "for dat in df_df:\n",
    "        if isinstance(dat,list):\n",
    "                # print(dat)\n",
    "                for pt in dat: #each list within the list (i.e. multiple chains)\n",
    "                        try:\n",
    "                                tempdf = pd.DataFrame(pt)\n",
    "                                if not tempdf.empty:\n",
    "                                        # print(tempdf)\n",
    "                                        df_list.append(tempdf)\n",
    "                        except:\n",
    "                                continue\n",
    "# df_df_all = pd.DataFrame()\n",
    "df_df_all = pd.concat(df_list)"
   ]
  },
  {
   "cell_type": "code",
   "execution_count": 14,
   "id": "bef17372",
   "metadata": {},
   "outputs": [],
   "source": [
    "# display(df_df_all)\n",
    "df_df_all2 = df_df_all.copy()\n",
    "# df_df_all2['token_value'] = df_df_all2['token_value'].fillna(0)\n",
    "df_df_all2['token_value'] = df_df_all2['token_value'].astype('float64')\n",
    "df_df_all2['usd_value'] = df_df_all2['usd_value'].astype('float64')\n",
    "# display(df_df_all2)"
   ]
  },
  {
   "cell_type": "code",
   "execution_count": 15,
   "id": "5ab956a5",
   "metadata": {},
   "outputs": [
    {
     "name": "stdout",
     "output_type": "stream",
     "text": [
      "date           datetime64[ns]\n",
      "token                  object\n",
      "token_value           float64\n",
      "usd_value             float64\n",
      "protocol               object\n",
      "chain                  object\n",
      "dtype: object\n",
      "date           datetime64[ns]\n",
      "token                  object\n",
      "token_value           float64\n",
      "usd_value             float64\n",
      "protocol               object\n",
      "chain                  object\n",
      "dtype: object\n"
     ]
    }
   ],
   "source": [
    "#create an extra day to handle for tokens dropping to 0\n",
    "\n",
    "print(df_df_all2.dtypes)\n",
    "\n",
    "df_df_all_u = df_df_all2.fillna(0)\n",
    "df_df_shift = df_df_all_u.copy()\n",
    "df_df_shift['date'] = df_df_shift['date'] + timedelta(days=1)\n",
    "df_df_shift['token_value'] = 0.0\n",
    "df_df_shift['usd_value'] = 0.0\n",
    "\n",
    "#merge back in\n",
    "df_df_all = pd.concat([df_df_all_u,df_df_shift])\n",
    "\n",
    "print(df_df_all.dtypes)\n",
    "\n",
    "# display(df_df_all)\n",
    "df_df_all = df_df_all[df_df_all['date'] <= pd.to_datetime(\"today\") ]\n",
    "\n",
    "df_df_all['token_value'] = df_df_all['token_value'].fillna(0)\n",
    "df_df_all = df_df_all.groupby(['date','token','chain','protocol']).sum(['usd_value','token_value'])\n",
    "\n",
    "# display(df_df_all)\n",
    "df_df_all = df_df_all.reset_index()\n",
    "df_df_shift = []\n",
    "# display(df_df_all)"
   ]
  },
  {
   "cell_type": "code",
   "execution_count": 16,
   "id": "c7c1ddad",
   "metadata": {},
   "outputs": [
    {
     "name": "stdout",
     "output_type": "stream",
     "text": [
      "done api\n"
     ]
    }
   ],
   "source": [
    "\n",
    "# df_df_all = pd.concat(df_df_all)\n",
    "# print(df_df_all[2])\n",
    "print(\"done api\")\n",
    "# display(df_df_all)\n",
    "# display(df_df_all)"
   ]
  },
  {
   "cell_type": "code",
   "execution_count": 17,
   "id": "53c381e8",
   "metadata": {},
   "outputs": [
    {
     "name": "stderr",
     "output_type": "stream",
     "text": [
      "/var/folders/by/kltjc8yd0yz_7_wrtrzhrm9m0000gn/T/ipykernel_62797/78629369.py:5: SettingWithCopyWarning: \n",
      "A value is trying to be set on a copy of a slice from a DataFrame.\n",
      "Try using .loc[row_indexer,col_indexer] = value instead\n",
      "\n",
      "See the caveats in the documentation: https://pandas.pydata.org/pandas-docs/stable/user_guide/indexing.html#returning-a-view-versus-a-copy\n",
      "  df_df['last_token_value'] = df_df.groupby(['token','protocol','chain'])['token_value'].shift(1)\n"
     ]
    }
   ],
   "source": [
    "#filter down a bit so we can do trailing comp w/o doing every row\n",
    "df_df = df_df_all[df_df_all['date'].dt.date >= start_date-timedelta(days=1) ]\n",
    "\n",
    "#trailing comp\n",
    "df_df['last_token_value'] = df_df.groupby(['token','protocol','chain'])['token_value'].shift(1)\n",
    "#now actually filter\n",
    "df_df = df_df[df_df['date'].dt.date >= start_date ]\n",
    "\n"
   ]
  },
  {
   "cell_type": "code",
   "execution_count": 18,
   "id": "3cf54141",
   "metadata": {},
   "outputs": [],
   "source": [
    "# sample = df_df[(df_df['protocol'] == 'uniswap') & (df_df['chain'] == 'Optimism')]\n",
    "# sample = sample.sort_values(by='date',ascending=False)\n",
    "# # display(sample)\n",
    "# sample.to_csv('check_uni_error.csv')"
   ]
  },
  {
   "cell_type": "code",
   "execution_count": 19,
   "id": "8f9eb8e5",
   "metadata": {},
   "outputs": [],
   "source": [
    "\n",
    "data_df = df_df.copy()\n",
    "data_df = data_df.sort_values(by='date')\n",
    "# data_df['token_value'] = data_df['token_value'].replace(0, np.nan) #keep zeroes\n",
    "# price = usd value / num tokens\n",
    "data_df['price_usd'] = data_df['usd_value']/data_df['token_value']\n",
    "data_df['last_price_usd'] = data_df.groupby(['token','protocol', 'chain'])['price_usd'].shift(1)\n",
    "\n",
    "# If first instnace of token, make sure there's no price diff\n",
    "data_df['last_price_usd'] = data_df[['last_price_usd', 'price_usd']].bfill(axis=1).iloc[:, 0]\n",
    "#Forward fill if token drops off\n",
    "data_df['price_usd'] = data_df[['price_usd','last_price_usd']].bfill(axis=1).iloc[:, 0]\n",
    "\n",
    "data_df.sort_values(by='date',inplace=True)\n",
    "\n",
    "# net token change\n",
    "data_df['net_token_flow'] = data_df['token_value'] - data_df['last_token_value']\n",
    "# net token change * current price\n",
    "data_df['net_dollar_flow'] = data_df['net_token_flow'] * data_df['price_usd']\n",
    "\n",
    "\n",
    "data_df = data_df[abs(data_df['net_dollar_flow']) < 50_000_000_000] #50 bil error bar for bad prices\n",
    "data_df = data_df[~data_df['net_dollar_flow'].isna()]\n"
   ]
  },
  {
   "cell_type": "code",
   "execution_count": 20,
   "id": "79aa9678",
   "metadata": {},
   "outputs": [
    {
     "data": {
      "text/html": [
       "<div>\n",
       "<style scoped>\n",
       "    .dataframe tbody tr th:only-of-type {\n",
       "        vertical-align: middle;\n",
       "    }\n",
       "\n",
       "    .dataframe tbody tr th {\n",
       "        vertical-align: top;\n",
       "    }\n",
       "\n",
       "    .dataframe thead th {\n",
       "        text-align: right;\n",
       "    }\n",
       "</style>\n",
       "<table border=\"1\" class=\"dataframe\">\n",
       "  <thead>\n",
       "    <tr style=\"text-align: right;\">\n",
       "      <th></th>\n",
       "      <th>date</th>\n",
       "      <th>token</th>\n",
       "      <th>chain</th>\n",
       "      <th>protocol</th>\n",
       "      <th>token_value</th>\n",
       "      <th>usd_value</th>\n",
       "      <th>last_token_value</th>\n",
       "      <th>price_usd</th>\n",
       "      <th>last_price_usd</th>\n",
       "      <th>net_token_flow</th>\n",
       "      <th>net_dollar_flow</th>\n",
       "    </tr>\n",
       "  </thead>\n",
       "  <tbody>\n",
       "    <tr>\n",
       "      <th>8926073</th>\n",
       "      <td>2022-10-31</td>\n",
       "      <td>USDC</td>\n",
       "      <td>Optimism</td>\n",
       "      <td>stargate</td>\n",
       "      <td>4.310068e+07</td>\n",
       "      <td>4.309421e+07</td>\n",
       "      <td>4.237369e+07</td>\n",
       "      <td>0.999850</td>\n",
       "      <td>1.000000</td>\n",
       "      <td>7.269848e+05</td>\n",
       "      <td>7.268757e+05</td>\n",
       "    </tr>\n",
       "    <tr>\n",
       "      <th>8928282</th>\n",
       "      <td>2022-10-31</td>\n",
       "      <td>WETH</td>\n",
       "      <td>Optimism</td>\n",
       "      <td>stargate</td>\n",
       "      <td>3.454901e+03</td>\n",
       "      <td>5.459573e+06</td>\n",
       "      <td>3.506544e+03</td>\n",
       "      <td>1580.239998</td>\n",
       "      <td>1611.519999</td>\n",
       "      <td>-5.164222e+01</td>\n",
       "      <td>-8.160710e+04</td>\n",
       "    </tr>\n",
       "    <tr>\n",
       "      <th>8948751</th>\n",
       "      <td>2022-11-01</td>\n",
       "      <td>USDC</td>\n",
       "      <td>Optimism</td>\n",
       "      <td>stargate</td>\n",
       "      <td>4.561540e+07</td>\n",
       "      <td>4.558160e+07</td>\n",
       "      <td>4.310068e+07</td>\n",
       "      <td>0.999259</td>\n",
       "      <td>0.999850</td>\n",
       "      <td>2.514726e+06</td>\n",
       "      <td>2.512863e+06</td>\n",
       "    </tr>\n",
       "    <tr>\n",
       "      <th>8950964</th>\n",
       "      <td>2022-11-01</td>\n",
       "      <td>WETH</td>\n",
       "      <td>Optimism</td>\n",
       "      <td>stargate</td>\n",
       "      <td>4.242520e+03</td>\n",
       "      <td>6.654519e+06</td>\n",
       "      <td>3.454901e+03</td>\n",
       "      <td>1568.530001</td>\n",
       "      <td>1580.239998</td>\n",
       "      <td>7.876183e+02</td>\n",
       "      <td>1.235403e+06</td>\n",
       "    </tr>\n",
       "    <tr>\n",
       "      <th>8971445</th>\n",
       "      <td>2022-11-02</td>\n",
       "      <td>USDC</td>\n",
       "      <td>Optimism</td>\n",
       "      <td>stargate</td>\n",
       "      <td>4.629557e+07</td>\n",
       "      <td>4.629557e+07</td>\n",
       "      <td>4.561540e+07</td>\n",
       "      <td>1.000000</td>\n",
       "      <td>0.999259</td>\n",
       "      <td>6.801685e+05</td>\n",
       "      <td>6.801685e+05</td>\n",
       "    </tr>\n",
       "    <tr>\n",
       "      <th>...</th>\n",
       "      <td>...</td>\n",
       "      <td>...</td>\n",
       "      <td>...</td>\n",
       "      <td>...</td>\n",
       "      <td>...</td>\n",
       "      <td>...</td>\n",
       "      <td>...</td>\n",
       "      <td>...</td>\n",
       "      <td>...</td>\n",
       "      <td>...</td>\n",
       "      <td>...</td>\n",
       "    </tr>\n",
       "    <tr>\n",
       "      <th>9794115</th>\n",
       "      <td>2022-12-09</td>\n",
       "      <td>FRAX</td>\n",
       "      <td>Optimism</td>\n",
       "      <td>stargate</td>\n",
       "      <td>1.200420e+06</td>\n",
       "      <td>1.197353e+06</td>\n",
       "      <td>1.199264e+06</td>\n",
       "      <td>0.997445</td>\n",
       "      <td>1.001000</td>\n",
       "      <td>1.155943e+03</td>\n",
       "      <td>1.152990e+03</td>\n",
       "    </tr>\n",
       "    <tr>\n",
       "      <th>9796995</th>\n",
       "      <td>2022-12-09</td>\n",
       "      <td>LUSD</td>\n",
       "      <td>Optimism</td>\n",
       "      <td>stargate</td>\n",
       "      <td>1.737894e+06</td>\n",
       "      <td>1.798721e+06</td>\n",
       "      <td>1.681016e+06</td>\n",
       "      <td>1.035000</td>\n",
       "      <td>1.037000</td>\n",
       "      <td>5.687867e+04</td>\n",
       "      <td>5.886943e+04</td>\n",
       "    </tr>\n",
       "    <tr>\n",
       "      <th>9797113</th>\n",
       "      <td>2022-12-09</td>\n",
       "      <td>MAI</td>\n",
       "      <td>Optimism</td>\n",
       "      <td>stargate</td>\n",
       "      <td>7.326450e+05</td>\n",
       "      <td>7.281488e+05</td>\n",
       "      <td>6.503983e+05</td>\n",
       "      <td>0.993863</td>\n",
       "      <td>0.994895</td>\n",
       "      <td>8.224672e+04</td>\n",
       "      <td>8.174197e+04</td>\n",
       "    </tr>\n",
       "    <tr>\n",
       "      <th>9801606</th>\n",
       "      <td>2022-12-09</td>\n",
       "      <td>SUSD</td>\n",
       "      <td>Optimism</td>\n",
       "      <td>stargate</td>\n",
       "      <td>8.225291e+05</td>\n",
       "      <td>8.225291e+05</td>\n",
       "      <td>8.249793e+05</td>\n",
       "      <td>1.000000</td>\n",
       "      <td>1.000000</td>\n",
       "      <td>-2.450182e+03</td>\n",
       "      <td>-2.450182e+03</td>\n",
       "    </tr>\n",
       "    <tr>\n",
       "      <th>9806105</th>\n",
       "      <td>2022-12-09</td>\n",
       "      <td>USDC</td>\n",
       "      <td>Optimism</td>\n",
       "      <td>stargate</td>\n",
       "      <td>1.182598e+07</td>\n",
       "      <td>1.181762e+07</td>\n",
       "      <td>1.138247e+07</td>\n",
       "      <td>0.999293</td>\n",
       "      <td>1.002000</td>\n",
       "      <td>4.435124e+05</td>\n",
       "      <td>4.431989e+05</td>\n",
       "    </tr>\n",
       "  </tbody>\n",
       "</table>\n",
       "<p>192 rows × 11 columns</p>\n",
       "</div>"
      ],
      "text/plain": [
       "              date token     chain  protocol   token_value     usd_value  \\\n",
       "8926073 2022-10-31  USDC  Optimism  stargate  4.310068e+07  4.309421e+07   \n",
       "8928282 2022-10-31  WETH  Optimism  stargate  3.454901e+03  5.459573e+06   \n",
       "8948751 2022-11-01  USDC  Optimism  stargate  4.561540e+07  4.558160e+07   \n",
       "8950964 2022-11-01  WETH  Optimism  stargate  4.242520e+03  6.654519e+06   \n",
       "8971445 2022-11-02  USDC  Optimism  stargate  4.629557e+07  4.629557e+07   \n",
       "...            ...   ...       ...       ...           ...           ...   \n",
       "9794115 2022-12-09  FRAX  Optimism  stargate  1.200420e+06  1.197353e+06   \n",
       "9796995 2022-12-09  LUSD  Optimism  stargate  1.737894e+06  1.798721e+06   \n",
       "9797113 2022-12-09   MAI  Optimism  stargate  7.326450e+05  7.281488e+05   \n",
       "9801606 2022-12-09  SUSD  Optimism  stargate  8.225291e+05  8.225291e+05   \n",
       "9806105 2022-12-09  USDC  Optimism  stargate  1.182598e+07  1.181762e+07   \n",
       "\n",
       "         last_token_value    price_usd  last_price_usd  net_token_flow  \\\n",
       "8926073      4.237369e+07     0.999850        1.000000    7.269848e+05   \n",
       "8928282      3.506544e+03  1580.239998     1611.519999   -5.164222e+01   \n",
       "8948751      4.310068e+07     0.999259        0.999850    2.514726e+06   \n",
       "8950964      3.454901e+03  1568.530001     1580.239998    7.876183e+02   \n",
       "8971445      4.561540e+07     1.000000        0.999259    6.801685e+05   \n",
       "...                   ...          ...             ...             ...   \n",
       "9794115      1.199264e+06     0.997445        1.001000    1.155943e+03   \n",
       "9796995      1.681016e+06     1.035000        1.037000    5.687867e+04   \n",
       "9797113      6.503983e+05     0.993863        0.994895    8.224672e+04   \n",
       "9801606      8.249793e+05     1.000000        1.000000   -2.450182e+03   \n",
       "9806105      1.138247e+07     0.999293        1.002000    4.435124e+05   \n",
       "\n",
       "         net_dollar_flow  \n",
       "8926073     7.268757e+05  \n",
       "8928282    -8.160710e+04  \n",
       "8948751     2.512863e+06  \n",
       "8950964     1.235403e+06  \n",
       "8971445     6.801685e+05  \n",
       "...                  ...  \n",
       "9794115     1.152990e+03  \n",
       "9796995     5.886943e+04  \n",
       "9797113     8.174197e+04  \n",
       "9801606    -2.450182e+03  \n",
       "9806105     4.431989e+05  \n",
       "\n",
       "[192 rows x 11 columns]"
      ]
     },
     "execution_count": 20,
     "metadata": {},
     "output_type": "execute_result"
    }
   ],
   "source": [
    "# data_df[(data_df['protocol']=='stargate') & (data_df['chain']=='Optimism') & (data_df['date']>='2022-10-31')]\n"
   ]
  },
  {
   "cell_type": "code",
   "execution_count": 21,
   "id": "59f3f879",
   "metadata": {},
   "outputs": [],
   "source": [
    "netdf_df = data_df[['date','protocol','chain','net_dollar_flow','usd_value']]\n",
    "netdf_df = netdf_df.fillna(0)\n",
    "netdf_df = netdf_df.sort_values(by='date',ascending=True)\n",
    "netdf_df = netdf_df.groupby(['date','protocol','chain']).sum(['net_dollar_flow','usd_value']) ##agg by app\n",
    "\n",
    "#usd_value is the TVL on a given day\n",
    "netdf_df = netdf_df.groupby(['date','protocol','chain','usd_value']).sum(['net_dollar_flow'])\n",
    "netdf_df.reset_index(inplace=True)\n",
    "\n",
    "# netdf_df['cumul_net_dollar_flow'] = netdf_df[['protocol','chain','net_dollar_flow']]\\\n",
    "#                                     .groupby(['protocol','chain']).cumsum()\n",
    "# netdf_df['cumul_net_dollar_flow_7d'] = netdf_df[['protocol','chain','net_dollar_flow']]\\\n",
    "#                                     .groupby(['protocol','chain'])['net_dollar_flow'].rolling(7, min_periods=1).sum()\\\n",
    "#                                     .reset_index(drop=True)\n",
    "# netdf_df['cumul_net_dollar_flow_30d'] = netdf_df[['protocol','chain','net_dollar_flow']]\\\n",
    "#                                     .groupby(['protocol','chain'])['net_dollar_flow'].rolling(30, min_periods=1).sum()\\\n",
    "#                                     .reset_index(drop=True)\n",
    "netdf_df.reset_index(inplace=True)\n",
    "netdf_df.drop(columns=['index'],inplace=True)\n",
    "# display(netdf_df[netdf_df['protocol']=='makerdao'])\n",
    "\n"
   ]
  },
  {
   "cell_type": "code",
   "execution_count": 22,
   "id": "a579b389",
   "metadata": {},
   "outputs": [],
   "source": [
    "# netdf_df[(netdf_df['protocol']=='stargate') & (netdf_df['chain']=='Optimism')]\n"
   ]
  },
  {
   "cell_type": "code",
   "execution_count": 23,
   "id": "18ccf06e",
   "metadata": {},
   "outputs": [],
   "source": [
    "#get latest\n",
    "netdf_df['rank_desc'] = netdf_df.groupby(['protocol', 'chain'])['date'].\\\n",
    "                            rank(method='dense',ascending=False).astype(int)\n",
    "# display(netdf_df[netdf_df['protocol'] == 'lyra'])\n",
    "netdf_df = netdf_df[  #( netdf_df['rank_desc'] == 1 ) &\\\n",
    "                        (~netdf_df['chain'].str.contains('-borrowed')) &\\\n",
    "                        (~netdf_df['chain'].str.contains('-staking')) &\\\n",
    "                        (~netdf_df['chain'].str.contains('-pool2')) &\\\n",
    "                            (~netdf_df['chain'].str.contains('-treasury')) &\\\n",
    "                        (~( netdf_df['chain'] == 'treasury') ) &\\\n",
    "                        (~( netdf_df['chain'] == 'borrowed') ) &\\\n",
    "                        (~( netdf_df['chain'] == 'staking') ) &\\\n",
    "                            (~( netdf_df['chain'] == 'treasury') ) &\\\n",
    "                        (~( netdf_df['chain'] == 'pool2') ) &\\\n",
    "                        (~( netdf_df['protocol'] == 'polygon-bridge-&-staking') )  &\\\n",
    "                            (~(netdf_df['protocol'].str[-4:] == '-cex') )\n",
    "#                         & (~( netdf_df['chain'] == 'Ethereum') )\n",
    "                        ]\n",
    "# display(netdf_df[netdf_df['protocol']=='makerdao'])"
   ]
  },
  {
   "cell_type": "code",
   "execution_count": 24,
   "id": "67bdbe1a",
   "metadata": {},
   "outputs": [],
   "source": [
    "summary_df = netdf_df.copy()\n",
    "drange = [0, 1, 7, 30, 90, 180, 365]\n",
    "summary_df = summary_df.sort_values(by='date',ascending=True)\n",
    "# summary_df = summary_df[(summary_df['chain'] == 'Solana') & (summary_df['protocol'] == 'uxd')]\n",
    "for i in drange:\n",
    "        if i == 0:\n",
    "                summary_df['cumul_net_dollar_flow'] = summary_df[['protocol','chain','net_dollar_flow']]\\\n",
    "                                    .groupby(['protocol','chain']).cumsum()\n",
    "                summary_df['flow_direction'] = np.where(summary_df['cumul_net_dollar_flow']>=0,1,-1)\n",
    "                summary_df['abs_cumul_net_dollar_flow'] = abs(summary_df['cumul_net_dollar_flow'])\n",
    "        else:\n",
    "                col_str = 'cumul_net_dollar_flow_' + str(i) + 'd'\n",
    "                # print(col_str)\n",
    "                summary_df[col_str] = summary_df[['protocol','chain','net_dollar_flow']]\\\n",
    "                                    .groupby(['protocol','chain'])['net_dollar_flow'].transform(lambda x: x.rolling(i, min_periods=1).sum() )\n",
    "                                #         .rolling(i, min_periods=1).sum()\\ #This caused errors and mismatches\n",
    "                                #     .reset_index(level=0,drop=True)#.values\n",
    "                summary_df['flow_direction_' + str(i) + 'd'] = np.where(summary_df[col_str]>=0,1,-1)\n",
    "                summary_df['abs_cumul_net_dollar_flow_' + str(i) + 'd'] = abs(summary_df[col_str])\n",
    "                # display(summary_df)\n",
    "                # display(summary_df[(summary_df['chain'] == 'Optimism') & (summary_df['protocol'] == 'yearn-finance')] )\n",
    "# display(summary_df[netdf_df['protocol']=='makerdao'])\n",
    "# display(summary_df[(summary_df['chain'] == 'Optimism') & (summary_df['protocol'] == 'qidao')].iloc[-7: , :15] )\n",
    "# display(summary_df[(summary_df['protocol']=='stargate') & (summary_df['chain']=='Optimism')])\n",
    "summary_df['pct_of_tvl'] = 100* summary_df['net_dollar_flow'] / summary_df['usd_value']\n",
    "summary_df = summary_df[(summary_df['rank_desc'] == 1) & (summary_df['date'] >= pd.to_datetime(\"today\") -timedelta(days=30))]\n",
    "summary_df.to_csv('latest_tvl_app_trends.csv')\n",
    "# display(summary_df)\n",
    "for i in drange:\n",
    "        fig = ''\n",
    "        if i == 0:\n",
    "                yval = 'abs_cumul_net_dollar_flow'\n",
    "                hval = 'cumul_net_dollar_flow'\n",
    "                cval = 'flow_direction'\n",
    "                saveval = 'net_app_flows'\n",
    "                titleval = \"App Net Flows Change by App -> Chain - Last \" + str(trailing_num_days) + \\\n",
    "                            \" Days - (Apps with > $\" + str(min_tvl/1e6) + \"M TVL Shown)\"\n",
    "        else:\n",
    "                yval = 'abs_cumul_net_dollar_flow_' + str(i) +'d'\n",
    "                hval = 'cumul_net_dollar_flow_' + str(i) +'d'\n",
    "                cval = 'flow_direction_' + str(i) +'d'\n",
    "                saveval = 'net_app_flows_' + str(i) +'d'\n",
    "                titleval = \"App Net Flows Change by App -> Chain - Last \" + str(i) + \\\n",
    "                            \" Days - (Apps with > $\" + str(min_tvl/1e6) + \"M TVL Shown)\"\n",
    "        # print(yval)\n",
    "        # print(cval)\n",
    "        # print(titleval)\n",
    "        # print(hval)\n",
    "        fig = px.treemap(summary_df[summary_df[yval] !=0], \\\n",
    "                 path=[px.Constant(\"all\"), 'chain', 'protocol'], \\\n",
    "#                  path=[px.Constant(\"all\"), 'token', 'chain', 'protocol'], \\\n",
    "                 values=yval, color=cval\n",
    "#                 ,color_discrete_map={'-1':'red', '1':'green'})\n",
    "                ,color_continuous_scale='Spectral'\n",
    "                     , title = titleval\n",
    "                \n",
    "                , hover_data = [hval]\n",
    "                )\n",
    "        \n",
    "        fig.update_traces(root_color=\"lightgrey\")\n",
    "        fig.update_layout(margin = dict(t=50, l=25, r=25, b=25))\n",
    "\n",
    "        fig.write_image(prepend + \"img_outputs/svg/\" + saveval + \".svg\") #prepend + \n",
    "        fig.write_image(prepend + \"img_outputs/png/\" + saveval + \".png\") #prepend + \n",
    "        fig.write_html(prepend + \"img_outputs/\" + saveval + \".html\", include_plotlyjs='cdn')\n",
    "# fig.data[0].textinfo = 'label+text+value'\n",
    "\n",
    "# fig.update_layout(tickprefix = '$')"
   ]
  },
  {
   "cell_type": "code",
   "execution_count": 25,
   "id": "c5dabb18",
   "metadata": {},
   "outputs": [],
   "source": [
    "# display(summary_df[summary_df['protocol']=='makerdao'].iloc[: , :15])"
   ]
  },
  {
   "cell_type": "code",
   "execution_count": 26,
   "id": "c0bdf6d8",
   "metadata": {
    "scrolled": false
   },
   "outputs": [
    {
     "data": {
      "application/vnd.plotly.v1+json": {
       "config": {
        "plotlyServerURL": "https://plot.ly"
       },
       "data": [
        {
         "branchvalues": "total",
         "customdata": [
          [
           -4959387.878084405,
           -1
          ],
          [
           -33968302.282036796,
           -1
          ],
          [
           -5113606.4725943105,
           -1
          ],
          [
           -56572862.63926398,
           -1
          ],
          [
           -1111373065.167985,
           -1
          ],
          [
           -91401969.0912226,
           -1
          ],
          [
           12147140.71938762,
           1
          ],
          [
           -304660927.2349359,
           -1
          ],
          [
           -2979786.816017274,
           -1
          ],
          [
           -1702855.8995913898,
           -1
          ],
          [
           -283241115.32119316,
           -1
          ],
          [
           1561313.1560648747,
           1
          ],
          [
           6809424.725026279,
           1
          ],
          [
           -34144634.24180921,
           -1
          ],
          [
           18544894.58353462,
           1
          ],
          [
           -226376.2852617636,
           -1
          ],
          [
           -114.68085297037715,
           -1
          ],
          [
           8167.317831118403,
           1
          ],
          [
           -3798959.75586004,
           -1
          ],
          [
           -2041603.2869783859,
           -1
          ],
          [
           -111866.10326125841,
           -1
          ],
          [
           384108.1289274066,
           1
          ],
          [
           -6184.248894783145,
           -1
          ],
          [
           89713.70362868965,
           1
          ],
          [
           -5975.080328879509,
           -1
          ],
          [
           371859.9182716368,
           1
          ],
          [
           -31643.458052270966,
           -1
          ],
          [
           -5559108.734994087,
           -1
          ],
          [
           -1264840.1129247611,
           -1
          ],
          [
           516671.4056158163,
           1
          ],
          [
           1738662.320229272,
           1
          ],
          [
           24827249.898914877,
           1
          ],
          [
           15688024.290246572,
           1
          ],
          [
           -85194811.6099152,
           -1
          ],
          [
           -2419643.51691407,
           -1
          ],
          [
           1492.1084464247217,
           1
          ],
          [
           -27173144.43356981,
           -1
          ],
          [
           -272412.9285105676,
           -1
          ],
          [
           29021.69822360107,
           1
          ],
          [
           40805.87473789615,
           1
          ],
          [
           -31692269.663975134,
           -1
          ],
          [
           -1545783.5819257249,
           -1
          ],
          [
           -728.524482905052,
           -1
          ],
          [
           -356.1802728360389,
           -1
          ],
          [
           -3902.6223910691147,
           -1
          ],
          [
           10148.148220842442,
           1
          ],
          [
           -17035822.319346037,
           -1
          ],
          [
           -10806.576164377448,
           -1
          ],
          [
           -5106696.862284979,
           -1
          ],
          [
           3837496.687084943,
           1
          ],
          [
           -1932804.7973555892,
           -1
          ],
          [
           1089108.4033040141,
           1
          ],
          [
           -840726251.6120048,
           -1
          ],
          [
           2090905.7384280635,
           1
          ],
          [
           2207167.2613337855,
           1
          ],
          [
           3013142.125204053,
           1
          ],
          [
           -579352.8462848967,
           -1
          ],
          [
           -2039229.0271600727,
           -1
          ],
          [
           180602794.43818146,
           1
          ],
          [
           22220814.933773465,
           1
          ],
          [
           2802340.0707016047,
           1
          ],
          [
           -119176.57338424961,
           -1
          ],
          [
           47502653.42779728,
           1
          ],
          [
           -693622.2891643136,
           -1
          ],
          [
           15422140.68282107,
           1
          ],
          [
           -13862068.808639923,
           -1
          ],
          [
           3573823.1378783234,
           1
          ],
          [
           -20238891.890280947,
           -1
          ],
          [
           43432096.11256913,
           1
          ],
          [
           -23550245.88399223,
           -1
          ],
          [
           -4947473.30118409,
           -1
          ],
          [
           -34462765.79801165,
           -1
          ],
          [
           -9298110.329510583,
           -1
          ],
          [
           -479628.93309543486,
           -1
          ],
          [
           -11082760.825673416,
           -1
          ],
          [
           -15888065.58972637,
           -1
          ],
          [
           -38100.61418509629,
           -1
          ],
          [
           -4250385.536281404,
           -1
          ],
          [
           5637471.796853724,
           1
          ],
          [
           -25843079.99550253,
           -1
          ],
          [
           -512797.49286684755,
           -1
          ],
          [
           -13496.68758454432,
           -1
          ],
          [
           -3392.311825928954,
           -1
          ],
          [
           220950.84260712055,
           1
          ],
          [
           -34702.533891954634,
           -1
          ],
          [
           1702069.348518652,
           1
          ],
          [
           349398.35969221574,
           1
          ],
          [
           -234489.6888558431,
           -1
          ],
          [
           7688487.011206022,
           1
          ],
          [
           -18401372.27745392,
           -1
          ],
          [
           -14475279.867850464,
           -1
          ],
          [
           11607953.450869208,
           1
          ],
          [
           -8456994.918647967,
           -1
          ],
          [
           331512.92914269335,
           1
          ],
          [
           -523320.91856966534,
           -1
          ],
          [
           22929847.895157713,
           1
          ],
          [
           -78197658.76628469,
           -1
          ],
          [
           2415536.281502684,
           1
          ],
          [
           -74697.37455577032,
           -1
          ],
          [
           -632864.1706041367,
           -1
          ],
          [
           -148742.3044076556,
           -1
          ],
          [
           -693508.3371769886,
           -1
          ],
          [
           123148.94980609682,
           1
          ],
          [
           82.723499998984,
           1
          ],
          [
           -12481935.486952,
           -1
          ],
          [
           -22441342.861276794,
           -1
          ],
          [
           -34455598.64686536,
           -1
          ],
          [
           10631840.749660647,
           1
          ],
          [
           -10872161.01160714,
           -1
          ],
          [
           -8717306.248377213,
           -1
          ],
          [
           -2873995.198260511,
           -1
          ],
          [
           -873364.212375274,
           -1
          ],
          [
           -5910852.088907672,
           -1
          ],
          [
           -2741214.1943079,
           -1
          ],
          [
           -13625.819989244052,
           -1
          ],
          [
           4378267.378015511,
           1
          ],
          [
           -4891941.08362249,
           -1
          ],
          [
           -4127408.6471117167,
           -1
          ],
          [
           -173311.49087819582,
           -1
          ],
          [
           -2141681.036803687,
           -1
          ],
          [
           -6113773.280263016,
           -1
          ],
          [
           54699.09578056117,
           1
          ],
          [
           -0.11914421668382147,
           -1
          ],
          [
           5048242.694955398,
           1
          ],
          [
           108798.52371578311,
           1
          ],
          [
           54954864.703874364,
           1
          ],
          [
           14810335.575896986,
           1
          ],
          [
           465165.34390939894,
           1
          ],
          [
           2400995.978173552,
           1
          ],
          [
           -4938924.041190336,
           -1
          ],
          [
           16906.533133940018,
           1
          ],
          [
           290636.8888021247,
           1
          ],
          [
           -23716.673687099796,
           -1
          ],
          [
           242940.2283382194,
           1
          ],
          [
           -349238.1391109363,
           -1
          ],
          [
           378874873.67622113,
           1
          ],
          [
           -4597968.500556823,
           -1
          ],
          [
           -7517507.940916751,
           -1
          ],
          [
           -789460562.477547,
           -1
          ],
          [
           274968394.7818108,
           1
          ],
          [
           -23155053.270337254,
           -1
          ],
          [
           620355.1036685505,
           1
          ],
          [
           -804729.9328413949,
           -1
          ],
          [
           -507229.8462290183,
           -1
          ],
          [
           -550277.9181082451,
           -1
          ],
          [
           993534.0878854204,
           1
          ],
          [
           -1125649.5841945333,
           -1
          ],
          [
           -4490.377129999986,
           -1
          ],
          [
           -1361429.4116631423,
           -1
          ],
          [
           -607329.4381265421,
           -1
          ],
          [
           -802.80116,
           -1
          ],
          [
           -4743.363369999981,
           -1
          ],
          [
           -245.97853999998424,
           -1
          ],
          [
           90958.91398211171,
           1
          ],
          [
           1422239.386482387,
           1
          ],
          [
           -1334163.4498669254,
           -1
          ],
          [
           -834779.034986342,
           -1
          ],
          [
           19948269.550720904,
           1
          ],
          [
           -1474041405.6967223,
           -1
          ],
          [
           -44435.25604684913,
           -1
          ],
          [
           -2699663.7195801744,
           -1
          ],
          [
           -16.545929128600257,
           -1
          ],
          [
           -84508.03407427792,
           -1
          ],
          [
           -14828862.291965533,
           -1
          ],
          [
           131.29050199785667,
           1
          ],
          [
           -59685233.506547466,
           -1
          ],
          [
           -1429561720.6370513,
           -1
          ],
          [
           -25499880.103081916,
           -1
          ],
          [
           13040864.30095942,
           1
          ],
          [
           -28982.990265131768,
           -1
          ],
          [
           9199940.27706093,
           1
          ],
          [
           -23721636.281898823,
           -1
          ],
          [
           -77380668.52051498,
           -1
          ],
          [
           -4423616.413288259,
           -1
          ],
          [
           -5026885.867552479,
           -1
          ],
          [
           -712386.603165989,
           -1
          ],
          [
           499457.4212969135,
           1
          ],
          [
           -18642.64883998274,
           -1
          ],
          [
           -16688191.029582793,
           -1
          ],
          [
           795887.2265222187,
           1
          ],
          [
           -12849971.689133942,
           -1
          ],
          [
           -936526.2924691486,
           -1
          ],
          [
           12429288.276945094,
           1
          ],
          [
           -604.01655,
           -1
          ],
          [
           2737892.0902577075,
           1
          ],
          [
           -2504791.356099528,
           -1
          ],
          [
           1017542.2922272321,
           1
          ],
          [
           2797722.9198702048,
           1
          ],
          [
           2193587.1193626653,
           1
          ],
          [
           -4357.659088666573,
           -1
          ],
          [
           -0.4728315984003571,
           -1
          ],
          [
           -1265926.565290377,
           -1
          ],
          [
           82.58694442232573,
           1
          ],
          [
           5.874680697297717,
           1
          ],
          [
           192553.70395670272,
           1
          ],
          [
           -269685.3646951023,
           -1
          ],
          [
           7170270.843350338,
           1
          ],
          [
           -333.13555655246904,
           -1
          ],
          [
           22354.174518631724,
           1
          ],
          [
           1380089.188124797,
           1
          ],
          [
           377390.5468832112,
           1
          ],
          [
           527.5813858339625,
           1
          ],
          [
           157033.55884644794,
           1
          ],
          [
           4.481460702358045,
           1
          ],
          [
           15749.191722397029,
           1
          ],
          [
           -25702.781914417123,
           -1
          ],
          [
           -26443308.594627805,
           -1
          ],
          [
           -12768024.662870053,
           -1
          ],
          [
           -32154.785129801545,
           -1
          ],
          [
           1634713.5275376078,
           1
          ],
          [
           -25350638.136433546,
           -1
          ],
          [
           206437.1393689172,
           1
          ],
          [
           2089155.901360189,
           1
          ],
          [
           -158.5437841350368,
           -1
          ],
          [
           -20916463.3352478,
           -1
          ],
          [
           -55.5702722288025,
           -1
          ],
          [
           7.085055168168912,
           1
          ],
          [
           -736234.7970054348,
           -1
          ],
          [
           -822340.9684786461,
           -1
          ],
          [
           -446339.80929756537,
           -1
          ],
          [
           -1343.0875650129447,
           -1
          ],
          [
           -159280.76838140815,
           -1
          ],
          [
           -1977.7127963476894,
           -1
          ],
          [
           -7198704.360536074,
           -1
          ],
          [
           -9586673.539429417,
           -1
          ],
          [
           390227.2274308075,
           1
          ],
          [
           -99568523.8132581,
           -1
          ],
          [
           -205.6734294232714,
           -1
          ],
          [
           44775373.44617085,
           1
          ],
          [
           -2296756.244534959,
           -1
          ],
          [
           -1504398.3889197034,
           -1
          ],
          [
           -372558.6330623782,
           -1
          ],
          [
           133191.36824083427,
           1
          ],
          [
           54801116.3796765,
           1
          ],
          [
           -1342288.9584063806,
           -1
          ],
          [
           -1975029.2096983802,
           -1
          ],
          [
           -1848560.9037404705,
           -1
          ],
          [
           88935568.07957463,
           1
          ],
          [
           11315306.234752074,
           1
          ],
          [
           107519856.02974398,
           1
          ],
          [
           58723632.04907458,
           1
          ],
          [
           155202839.01395804,
           1
          ],
          [
           -13574847.103021203,
           -1
          ],
          [
           -13095.296595786067,
           -1
          ],
          [
           -11691517.737534853,
           -1
          ],
          [
           -457816.14911549294,
           -1
          ],
          [
           266305.871515074,
           1
          ],
          [
           -1563262.3686475046,
           -1
          ],
          [
           639773.636852061,
           1
          ],
          [
           4231893.144418617,
           1
          ],
          [
           -110798.89378660561,
           -1
          ],
          [
           2195963.5977456225,
           1
          ],
          [
           -507312600.139522,
           -1
          ],
          [
           113198.72937621441,
           1
          ],
          [
           1282608.6262847388,
           1
          ],
          [
           -2954806.975322251,
           -1
          ],
          [
           -6455242.786494358,
           -1
          ],
          [
           -100466.56227259224,
           -1
          ],
          [
           8591788.933939857,
           1
          ],
          [
           -1877246.7512666252,
           -1
          ],
          [
           -7880796.640677936,
           -1
          ],
          [
           7057603.167077045,
           1
          ],
          [
           14321204.77574616,
           1
          ],
          [
           6527622.209246451,
           1
          ],
          [
           2822221.369153391,
           1
          ],
          [
           -595158.92978247,
           -1
          ],
          [
           -4024795.6977032456,
           -1
          ],
          [
           2623313.2011846476,
           1
          ],
          [
           306682.21895358653,
           1
          ],
          [
           12890599.286196452,
           1
          ],
          [
           -55519.789715014376,
           -1
          ],
          [
           -1954814.7989443087,
           -1
          ],
          [
           -553207875.8395188,
           -1
          ],
          [
           -619821.2095155253,
           -1
          ],
          [
           -962753.6973082426,
           -1
          ],
          [
           -1480724.3451319584,
           -1
          ],
          [
           -1168952.535467961,
           -1
          ],
          [
           -878467.5859422532,
           -1
          ],
          [
           5596856.014708745,
           1
          ],
          [
           65237.32611408994,
           1
          ],
          [
           -9638945.360170802,
           -1
          ],
          [
           -1338515.872407655,
           -1
          ],
          [
           4780440.675690924,
           1
          ],
          [
           -295239073.64176077,
           -1
          ],
          [
           48529.351355000115,
           1
          ],
          [
           4034152.534424506,
           1
          ],
          [
           5230605.899559242,
           1
          ],
          [
           -16781627.735133775,
           -1
          ],
          [
           3988169.874714211,
           1
          ],
          [
           -27763936.108933166,
           -1
          ],
          [
           -707054.2602295222,
           -1
          ],
          [
           -21834051.836639203,
           -1
          ],
          [
           -49970973.25935176,
           -1
          ],
          [
           -32116894.02346774,
           -1
          ],
          [
           -666300.4883289905,
           -1
          ],
          [
           -7946461.393064831,
           -1
          ],
          [
           -677229.2248875361,
           -1
          ],
          [
           7093623.007317168,
           1
          ],
          [
           3738462.0805740193,
           1
          ],
          [
           2826357.245858676,
           1
          ],
          [
           45973.232896732574,
           1
          ],
          [
           -23102.805224524793,
           -1
          ],
          [
           16914703.934907686,
           1
          ],
          [
           287578.3292371636,
           1
          ],
          [
           -242871.79647784372,
           -1
          ],
          [
           4264341.697536262,
           1
          ],
          [
           1337834.1309031579,
           1
          ],
          [
           -0.001430650048969806,
           -1
          ],
          [
           697571231.2503567,
           1
          ],
          [
           4489272.974674064,
           1
          ],
          [
           675266.5187559084,
           1
          ],
          [
           -25032090.73828243,
           -1
          ],
          [
           49393.48344356348,
           1
          ],
          [
           6984976.765326831,
           1
          ],
          [
           -2348926.1965471692,
           -1
          ],
          [
           -208236.99281058734,
           -1
          ],
          [
           -8977510.507650392,
           -1
          ],
          [
           31889315.185986005,
           1
          ],
          [
           1410762.296164291,
           1
          ],
          [
           -37909034.27580448,
           -1
          ],
          [
           54467177.001543604,
           1
          ],
          [
           -170374.67620435896,
           -1
          ],
          [
           -5623281.759655094,
           -1
          ],
          [
           -4986143.018875661,
           -1
          ],
          [
           -21079032.82420642,
           -1
          ],
          [
           -1348076786.4004867,
           -1
          ],
          [
           -49222450.759385526,
           -1
          ],
          [
           4270782.267862112,
           1
          ],
          [
           -24421905.188323114,
           -1
          ],
          [
           7733408.055900886,
           1
          ],
          [
           -10192857.596474368,
           -1
          ],
          [
           15809981.09923282,
           1
          ],
          [
           -25643224.162995197,
           -1
          ],
          [
           -521674.7531179447,
           -1
          ],
          [
           458194.02353266365,
           1
          ],
          [
           -83460.48093652503,
           -1
          ],
          [
           -771902.3456926445,
           -1
          ],
          [
           -1883788.431127115,
           -1
          ],
          [
           -25570697.171694957,
           -1
          ],
          [
           -980977.7523083269,
           -1
          ],
          [
           -592603.7615934284,
           -1
          ],
          [
           1426033.9253832004,
           1
          ],
          [
           -25473504.111560278,
           -1
          ],
          [
           7151255.281136108,
           1
          ],
          [
           120313838.65481319,
           1
          ],
          [
           -691553.2085013827,
           -1
          ],
          [
           -25172840.005824674,
           -1
          ],
          [
           -2562372.1556330067,
           -1
          ],
          [
           5902408.120264301,
           1
          ],
          [
           306750.42805705534,
           1
          ],
          [
           534706.5497558076,
           1
          ],
          [
           287204.0781352261,
           1
          ],
          [
           -3461814.5885703247,
           -1
          ],
          [
           -472701.74000118824,
           -1
          ],
          [
           -57197067.1062821,
           -1
          ],
          [
           -584246.6634047048,
           -1
          ],
          [
           -7128716.084767332,
           -1
          ],
          [
           -925401.1790236044,
           -1
          ],
          [
           -25664524.984012485,
           -1
          ],
          [
           -25095743.412697155,
           -1
          ],
          [
           -352.58243393856105,
           -1
          ],
          [
           -82680.06874761022,
           -1
          ],
          [
           -12418363.827575097,
           -1
          ],
          [
           2903371.691738385,
           1
          ],
          [
           -64208696.44276587,
           -1
          ],
          [
           -140682.7688476198,
           -1
          ],
          [
           -31108994.885950234,
           -1
          ],
          [
           -930416.0037556842,
           -1
          ],
          [
           -1398102.382155696,
           -1
          ],
          [
           19.71869133521397,
           1
          ],
          [
           -63020138.225180954,
           -1
          ],
          [
           -161800.29821711362,
           -1
          ],
          [
           -721100.5943380672,
           -1
          ],
          [
           261966.6166140502,
           1
          ],
          [
           -11315918.86525199,
           -1
          ],
          [
           2474392.9356927723,
           1
          ],
          [
           -37272918.131115265,
           -1
          ],
          [
           4347000.156924541,
           1
          ],
          [
           -21010.122979463573,
           -1
          ],
          [
           5412950.598062769,
           1
          ],
          [
           -155220.2123351777,
           -1
          ],
          [
           11975240.36009226,
           1
          ],
          [
           -205283915.03863418,
           -1
          ],
          [
           2134311.8390998645,
           1
          ],
          [
           -31733949.523093726,
           -1
          ],
          [
           -5246451.166929331,
           -1
          ],
          [
           281643.49474184855,
           1
          ],
          [
           -1735495.6606960015,
           -1
          ],
          [
           2506668.0316147474,
           1
          ],
          [
           107517.10930003758,
           1
          ],
          [
           -247806.61985390313,
           -1
          ],
          [
           3760038.482670271,
           1
          ],
          [
           -4607541.240610161,
           -1
          ],
          [
           -148258.83062028512,
           -1
          ],
          [
           -25847196.553607166,
           -1
          ],
          [
           6135.533672619907,
           1
          ],
          [
           25664.59851355078,
           1
          ],
          [
           -3642.7342754968045,
           -1
          ],
          [
           54467.93125488717,
           1
          ],
          [
           -106912952.1396397,
           -1
          ],
          [
           -10551150.235579582,
           -1
          ],
          [
           -4916824.2985477485,
           -1
          ],
          [
           -32061.06020275624,
           -1
          ],
          [
           -1237072.110519459,
           -1
          ],
          [
           -37436575.68939069,
           -1
          ],
          [
           -0.9421104273559707,
           -1
          ],
          [
           -23560.645266430176,
           -1
          ],
          [
           -327362.7185608914,
           -1
          ],
          [
           -1096991.7873410042,
           -1
          ],
          [
           -1460.7295733648346,
           -1
          ],
          [
           -7566709.066681234,
           -1
          ],
          [
           -159036.74782820273,
           -1
          ],
          [
           -211.8545655424417,
           -1
          ],
          [
           -28543.02054861279,
           -1
          ],
          [
           -4934934.933991044,
           -1
          ],
          [
           1658792.85002897,
           1
          ],
          [
           -9084028.083001537,
           -1
          ],
          [
           -1150478.138739229,
           -1
          ],
          [
           -174482.86197728614,
           -1
          ],
          [
           -221210.18040083264,
           -1
          ],
          [
           5346881.741285603,
           1
          ],
          [
           -3927195.4559626826,
           -1
          ],
          [
           -1488.6195077505595,
           -1
          ],
          [
           914394.6210069994,
           1
          ],
          [
           -7415.865983742053,
           -1
          ],
          [
           -823.7014626982283,
           -1
          ],
          [
           -2451448.477686758,
           -1
          ],
          [
           -14337542.322965544,
           -1
          ],
          [
           -672973.0217747369,
           -1
          ],
          [
           -48589462.94042212,
           -1
          ],
          [
           -115602971.96839839,
           -1
          ],
          [
           -44251.75046256351,
           -1
          ],
          [
           8889277.746303897,
           1
          ],
          [
           -35147225.70080089,
           -1
          ],
          [
           -5240.096789237232,
           -1
          ],
          [
           -13020581.124348842,
           -1
          ],
          [
           7713067.802152565,
           1
          ],
          [
           1224083.0966057528,
           1
          ],
          [
           13774517.416337047,
           1
          ],
          [
           -3850231.093729347,
           -1
          ],
          [
           -156914964.7098562,
           -1
          ],
          [
           -4136759.973064888,
           -1
          ],
          [
           -6558009.923068084,
           -1
          ],
          [
           -1368859.0225741938,
           -1
          ],
          [
           -1402474.1359139734,
           -1
          ],
          [
           -35226842.61641125,
           -1
          ],
          [
           -1704245.9804288296,
           -1
          ],
          [
           -5.52434,
           -1
          ],
          [
           -13602.460816093935,
           -1
          ],
          [
           -2302598.8661064133,
           -1
          ],
          [
           -2938081.1560871718,
           -1
          ],
          [
           -14275083.965252768,
           -1
          ],
          [
           -1493539.9150678029,
           -1
          ],
          [
           -133741.4289284791,
           -1
          ],
          [
           3997934.4268181487,
           1
          ],
          [
           57295.34134991697,
           1
          ],
          [
           -78594.62203862234,
           -1
          ],
          [
           -22893527.648452744,
           -1
          ],
          [
           -196842.62911831358,
           -1
          ],
          [
           11966162.821416438,
           1
          ],
          [
           174570211.93870467,
           1
          ],
          [
           -33205908.097326897,
           -1
          ],
          [
           -1835484.8632535776,
           -1
          ],
          [
           -20533229.180278867,
           -1
          ],
          [
           -859.4440142530677,
           -1
          ],
          [
           -678.5882452942739,
           -1
          ],
          [
           -106.53111967565647,
           -1
          ],
          [
           -1151087.53452729,
           -1
          ],
          [
           -11993.988942958682,
           -1
          ],
          [
           -3564714.661710164,
           -1
          ],
          [
           -7.645935500402677,
           -1
          ],
          [
           15094919.714139683,
           1
          ],
          [
           845183.7266700674,
           1
          ],
          [
           -16561336.7113824,
           -1
          ],
          [
           -4462534.317653585,
           -1
          ],
          [
           17834311.40954436,
           1
          ],
          [
           -1562698.939576282,
           -1
          ],
          [
           -687348.819227792,
           -1
          ],
          [
           -2489497.602328633,
           -1
          ],
          [
           -183567432.06231213,
           -1
          ],
          [
           -7850158.025350879,
           -1
          ],
          [
           -1334615.0352003924,
           -1
          ],
          [
           -44146.246559966465,
           -1
          ],
          [
           -56576.81282377921,
           -1
          ],
          [
           11310180.829510307,
           1
          ],
          [
           -308615.5014145998,
           -1
          ],
          [
           -1986848.8853171738,
           -1
          ],
          [
           -25652229.06228996,
           -1
          ],
          [
           -30678858.831888128,
           -1
          ],
          [
           -6971843.112494014,
           -1
          ],
          [
           20865043.76050643,
           1
          ],
          [
           1973459.5212505648,
           1
          ],
          [
           34716742.44168006,
           1
          ],
          [
           -4751482.83,
           -1
          ],
          [
           -923992.1259337636,
           -1
          ],
          [
           -3938.0275999999953,
           -1
          ],
          [
           569349.927,
           1
          ],
          [
           12445.692268575898,
           1
          ],
          [
           -1584.2412257195247,
           -1
          ],
          [
           1068.7310999999997,
           1
          ],
          [
           5334.097600000007,
           1
          ],
          [
           17772907.045800608,
           1
          ],
          [
           -1067015.3764203805,
           -1
          ],
          [
           -56934379.05173854,
           -1
          ],
          [
           -32240.561299569246,
           -1
          ],
          [
           -3638583.53050865,
           -1
          ],
          [
           7430174.312151636,
           1
          ],
          [
           -23503365.983748876,
           -1
          ],
          [
           -42129571.06091097,
           -1
          ],
          [
           1251390.9341574695,
           1
          ],
          [
           -30117984.76758094,
           -1
          ],
          [
           -4526348.344401674,
           -1
          ],
          [
           -7333353.705491814,
           -1
          ],
          [
           -32930320.26601159,
           -1
          ],
          [
           18062940.206431065,
           1
          ],
          [
           -670633.6704167828,
           -1
          ],
          [
           -4080776.039663148,
           -1
          ],
          [
           -570541.1859902804,
           -1
          ],
          [
           -266312550.64366588,
           -1
          ],
          [
           -314318733.9029943,
           -1
          ],
          [
           -379696.4946577394,
           -1
          ],
          [
           -36392.2084357669,
           -1
          ],
          [
           3656.949258504955,
           1
          ],
          [
           -180355827.2449337,
           -1
          ],
          [
           48591.160100050074,
           1
          ],
          [
           -0.06091000000000002,
           -1
          ],
          [
           -76.79551510944307,
           -1
          ],
          [
           302877.32033115986,
           1
          ],
          [
           -190.09785484039094,
           -1
          ],
          [
           -1500639.9439466482,
           -1
          ],
          [
           308991.34407044185,
           1
          ],
          [
           -8039498.701189594,
           -1
          ],
          [
           -302198.00781930133,
           -1
          ],
          [
           1983677.2287730277,
           1
          ],
          [
           -381653.21171899076,
           -1
          ],
          [
           -154193379.58839244,
           -1
          ],
          [
           -97496.03988054513,
           -1
          ],
          [
           -89221.47415614016,
           -1
          ],
          [
           -7293861.157626764,
           -1
          ],
          [
           2273.2617851080536,
           1
          ],
          [
           -219728.47428221523,
           -1
          ],
          [
           -1757.3940517333854,
           -1
          ],
          [
           -326.9757858353329,
           -1
          ],
          [
           -22081768.982603066,
           -1
          ],
          [
           12416.935240824103,
           1
          ],
          [
           -5155484.91824283,
           -1
          ],
          [
           15783788.09405886,
           1
          ],
          [
           -264979.0025259726,
           -1
          ],
          [
           29862.190542781478,
           1
          ],
          [
           -372588.8062521305,
           -1
          ],
          [
           4046805.6003153706,
           1
          ],
          [
           -474.7587000486109,
           -1
          ],
          [
           -5361202.4419611925,
           -1
          ],
          [
           -5543139.873281383,
           -1
          ],
          [
           -1183999.8414857946,
           -1
          ],
          [
           -126042.5471640447,
           -1
          ],
          [
           -28642113.847052388,
           -1
          ],
          [
           -8563682.770475449,
           -1
          ],
          [
           -4735012.98968893,
           -1
          ],
          [
           -464129.2736491584,
           -1
          ],
          [
           -1525882.5279170761,
           -1
          ],
          [
           -780.5752686849894,
           -1
          ],
          [
           -2713486.359049409,
           -1
          ],
          [
           -7463716.292582708,
           -1
          ],
          [
           -214.60180966290875,
           -1
          ],
          [
           -11362510.979425156,
           -1
          ],
          [
           -18853287.118095532,
           -1
          ],
          [
           -8093455.087071161,
           -1
          ],
          [
           -1268011.2189835599,
           -1
          ],
          [
           -93149.54548623262,
           -1
          ],
          [
           -18709214.101966973,
           -1
          ],
          [
           -32755370.846036475,
           -1
          ],
          [
           -528255.786021837,
           -1
          ],
          [
           -42357414.8999697,
           -1
          ],
          [
           -786279.0049312914,
           -1
          ],
          [
           -9941249.080505826,
           -1
          ],
          [
           2468.38732693248,
           1
          ],
          [
           -732184.1863818333,
           -1
          ],
          [
           285756.7918800737,
           1
          ],
          [
           -2004795.7673455793,
           -1
          ],
          [
           31255776.481448907,
           1
          ],
          [
           2935898.5379631254,
           1
          ],
          [
           8550276.97313152,
           1
          ],
          [
           -3246077.8025249885,
           -1
          ],
          [
           -15261813.154362846,
           -1
          ],
          [
           0.6919094864780354,
           1
          ],
          [
           1770179.626322339,
           1
          ],
          [
           -791868.7433725762,
           -1
          ],
          [
           -327.68597299040346,
           -1
          ],
          [
           -883801.8398357299,
           -1
          ],
          [
           -3596373.084902578,
           -1
          ],
          [
           -37018.16250088888,
           -1
          ],
          [
           -3713.1,
           -1
          ],
          [
           -7609527.880000005,
           -1
          ],
          [
           -3870111.3082052595,
           -1
          ],
          [
           -1067.561000000001,
           -1
          ],
          [
           203482.61609999996,
           1
          ],
          [
           -129435.984,
           -1
          ],
          [
           40353.78,
           1
          ],
          [
           -2051806.4970000002,
           -1
          ],
          [
           -80517287.58113314,
           -1
          ],
          [
           2004285.9724734416,
           1
          ],
          [
           -34278168.84401161,
           -1
          ],
          [
           51674.96415617525,
           1
          ],
          [
           -13047457.375337552,
           -1
          ],
          [
           -64220.166039506264,
           -1
          ],
          [
           -40900570.85323726,
           -1
          ],
          [
           12164473.903584324,
           1
          ],
          [
           -334866.15770171676,
           -1
          ],
          [
           -2.3024199999999837,
           -1
          ],
          [
           -278190955.42234856,
           -1
          ],
          [
           547938.3387924973,
           1
          ],
          [
           -175622.92120557665,
           -1
          ],
          [
           -1323282698.215407,
           -1
          ],
          [
           8702232.324332153,
           1
          ],
          [
           30199044.807642262,
           1
          ],
          [
           317571.5731117109,
           1
          ],
          [
           39400501.95171461,
           1
          ],
          [
           1012185.8610699994,
           1
          ],
          [
           -9010892.993711075,
           -1
          ],
          [
           -3653263.661586516,
           -1
          ],
          [
           -72156132.30188061,
           -1
          ],
          [
           11513439.550201181,
           1
          ],
          [
           184058114.15371767,
           1
          ],
          [
           282567.0804358172,
           1
          ],
          [
           -8474490.46014451,
           -1
          ],
          [
           -193024.0265867473,
           -1
          ],
          [
           5083261.255323802,
           1
          ],
          [
           -59715615.64325454,
           -1
          ],
          [
           4605686.871504737,
           1
          ],
          [
           -228828080.0464358,
           -1
          ],
          [
           -13123182.213729015,
           -1
          ],
          [
           -821269351.0098524,
           -1
          ],
          [
           1495397.3577101044,
           1
          ],
          [
           60727.624651827995,
           1
          ],
          [
           -19689.964097458855,
           -1
          ],
          [
           -12922991.146437965,
           -1
          ],
          [
           -499282.80084847467,
           -1
          ],
          [
           -46270754.18598798,
           -1
          ],
          [
           84805664.32279389,
           1
          ],
          [
           -780778.2777305477,
           -1
          ],
          [
           725274.0000003288,
           1
          ],
          [
           -9127027.603813652,
           -1
          ],
          [
           83376.86236213215,
           1
          ],
          [
           -118905457.75353785,
           -1
          ],
          [
           -4514825.150678483,
           -1
          ],
          [
           155144.76390786585,
           1
          ],
          [
           -52673962.74332984,
           -1
          ],
          [
           -14259620.014456363,
           -1
          ],
          [
           14664872.914937055,
           1
          ],
          [
           "(?)",
           -0.6674603252126713
          ],
          [
           "(?)",
           1
          ],
          [
           "(?)",
           1
          ],
          [
           "(?)",
           0.43918945017547606
          ],
          [
           308991.34407044185,
           1
          ],
          [
           "(?)",
           0.9999517328262865
          ],
          [
           "(?)",
           -0.9999946262696763
          ],
          [
           "(?)",
           -0.9506790778496736
          ],
          [
           "(?)",
           -0.9999867451723585
          ],
          [
           "(?)",
           -0.4051539072205449
          ],
          [
           "(?)",
           0.1592799680239674
          ],
          [
           45973.232896732574,
           1
          ],
          [
           "(?)",
           0.0572307320835082
          ],
          [
           "(?)",
           -1
          ],
          [
           -1883788.431127115,
           -1
          ],
          [
           "(?)",
           0.5303035163750537
          ],
          [
           569349.927,
           1
          ],
          [
           "(?)",
           -0.9937433213963586
          ],
          [
           "(?)",
           -0.9089586291179731
          ],
          [
           -32061.06020275624,
           -1
          ],
          [
           "(?)",
           0.501228891986149
          ],
          [
           "(?)",
           0.26610328075453876
          ],
          [
           -736234.7970054348,
           -1
          ],
          [
           -21079032.82420642,
           -1
          ],
          [
           "(?)",
           -0.6432018947449542
          ],
          [
           -12418363.827575097,
           -1
          ],
          [
           "(?)",
           -1
          ],
          [
           "(?)",
           -0.3421676775869279
          ],
          [
           "(?)",
           -1
          ],
          [
           "(?)",
           -0.9996655603270487
          ],
          [
           "(?)",
           -0.9049763563051638
          ],
          [
           34716742.44168006,
           1
          ],
          [
           -1735495.6606960015,
           -1
          ],
          [
           -4462534.317653585,
           -1
          ],
          [
           -446339.80929756537,
           -1
          ],
          [
           "(?)",
           -0.32920056612745024
          ],
          [
           "(?)",
           -0.7102475623760471
          ],
          [
           -592603.7615934284,
           -1
          ],
          [
           -356.1802728360389,
           -1
          ],
          [
           -23560.645266430176,
           -1
          ],
          [
           -327362.7185608914,
           -1
          ],
          [
           "(?)",
           -0.7259455365622993
          ],
          [
           "(?)",
           -0.9981122126513577
          ],
          [
           "(?)",
           -1
          ],
          [
           "(?)",
           0.8785951810126488
          ],
          [
           "(?)",
           -0.923864035031122
          ],
          [
           "(?)",
           -1
          ],
          [
           "(?)",
           -1
          ],
          [
           "(?)",
           0.956046672196298
          ],
          [
           -1096991.7873410042,
           -1
          ],
          [
           "(?)",
           -1
          ],
          [
           -12922991.146437965,
           -1
          ],
          [
           -499282.80084847467,
           -1
          ],
          [
           "(?)",
           -0.5745409359123795
          ],
          [
           -37272918.131115265,
           -1
          ],
          [
           -326.9757858353329,
           -1
          ],
          [
           "(?)",
           1
          ],
          [
           -3902.6223910691147,
           -1
          ],
          [
           "(?)",
           -0.4851059439583301
          ],
          [
           -159280.76838140815,
           -1
          ],
          [
           1426033.9253832004,
           1
          ],
          [
           -1460.7295733648346,
           -1
          ],
          [
           -11315918.86525199,
           -1
          ],
          [
           4034152.534424506,
           1
          ],
          [
           54699.09578056117,
           1
          ],
          [
           "(?)",
           -0.8544604867179324
          ],
          [
           281643.49474184855,
           1
          ],
          [
           5334.097600000007,
           1
          ],
          [
           "(?)",
           -0.40358402285179157
          ],
          [
           "(?)",
           -0.842936243042086
          ],
          [
           "(?)",
           -1
          ],
          [
           "(?)",
           1
          ],
          [
           -3246077.8025249885,
           -1
          ],
          [
           "(?)",
           -0.9998891921340085
          ],
          [
           -0.001430650048969806,
           -1
          ],
          [
           "(?)",
           -1
          ],
          [
           -18642.64883998274,
           -1
          ],
          [
           "(?)",
           -0.833723643300715
          ],
          [
           "(?)",
           -0.6378764755464194
          ]
         ],
         "domain": {
          "x": [
           0,
           1
          ],
          "y": [
           0,
           1
          ]
         },
         "hovertemplate": "labels=%{label}<br>abs_cumul_net_dollar_flow_365d=%{value}<br>parent=%{parent}<br>id=%{id}<br>cumul_net_dollar_flow_365d=%{customdata[0]}<br>flow_direction_365d=%{color}<extra></extra>",
         "ids": [
          "all/Solana/01",
          "all/Mixin/4swap",
          "all/Ethereum/aave-v1",
          "all/Avalanche/aave-v2",
          "all/Ethereum/aave-v2",
          "all/Polygon/aave-v2",
          "all/Arbitrum/aave-v3",
          "all/Avalanche/aave-v3",
          "all/Fantom/aave-v3",
          "all/Harmony/aave-v3",
          "all/Optimism/aave-v3",
          "all/Polygon/aave-v3",
          "all/Acala/acala-dollar",
          "all/Acala/acala-liquid-staking",
          "all/Ethereum/across",
          "all/Arbitrum/acryptos",
          "all/Astar/acryptos",
          "all/Avalanche/acryptos",
          "all/Binance/acryptos",
          "all/Cronos/acryptos",
          "all/Ethereum/acryptos",
          "all/Fantom/acryptos",
          "all/Harmony/acryptos",
          "all/Moonbeam/acryptos",
          "all/Moonriver/acryptos",
          "all/Optimism/acryptos",
          "all/xDai/acryptos",
          "all/Ethereum/alchemix",
          "all/Fantom/alchemix",
          "all/Optimism/alchemix",
          "all/Astar/algem",
          "all/Algorand/algo-liquid-governance",
          "all/Algorand/algofi-lend",
          "all/Binance/alpaca-finance",
          "all/Fantom/alpaca-finance",
          "all/Arbitrum/angle",
          "all/Ethereum/angle",
          "all/Optimism/angle",
          "all/Polygon/angle",
          "all/Avalanche/ankr",
          "all/Binance/ankr",
          "all/Ethereum/ankr",
          "all/Fantom/ankr",
          "all/Kusama/ankr",
          "all/Polkadot/ankr",
          "all/xDai/ankr",
          "all/Binance/apeswap-amm",
          "all/Ethereum/apeswap-amm",
          "all/Polygon/apeswap-amm",
          "all/Telos/apeswap-amm",
          "all/Binance/apeswap-lending",
          "all/Binance/apollox",
          "all/Ethereum/arrakis-finance",
          "all/Optimism/arrakis-finance",
          "all/Polygon/arrakis-finance",
          "all/Astar/arthswap",
          "all/Terra/astroport",
          "all/Terra2/astroport",
          "all/Ethereum/aura",
          "all/Aptos/aux-exchange",
          "all/Ethereum/aztec",
          "all/Arbitrum/b.protocol",
          "all/Ethereum/b.protocol",
          "all/Polygon/b.protocol",
          "all/Binance/babydogeswap",
          "all/Binance/babyswap",
          "all/Arbitrum/balancer",
          "all/Ethereum/balancer",
          "all/Polygon/balancer",
          "all/Ethereum/bancor-v2.1",
          "all/Ethereum/bancor-v3",
          "all/Aurora/bastion",
          "all/Arbitrum/beefy",
          "all/Aurora/beefy",
          "all/Avalanche/beefy",
          "all/Binance/beefy",
          "all/Celo/beefy",
          "all/Cronos/beefy",
          "all/Ethereum/beefy",
          "all/Fantom/beefy",
          "all/Fuse/beefy",
          "all/Harmony/beefy",
          "all/Heco/beefy",
          "all/Kava/beefy",
          "all/Metis/beefy",
          "all/Moonbeam/beefy",
          "all/Moonriver/beefy",
          "all/Oasis/beefy",
          "all/Optimism/beefy",
          "all/Polygon/beefy",
          "all/Fantom/beethoven-x",
          "all/Optimism/beethoven-x",
          "all/Binance/belt-finance",
          "all/Heco/belt-finance",
          "all/Klaytn/belt-finance",
          "all/Ethereum/benddao",
          "all/Avalanche/benqi-lending",
          "all/Avalanche/benqi-staked-avax",
          "all/Avalanche/bifi",
          "all/Binance/bifi",
          "all/Bitcoin/bifi",
          "all/Ethereum/bifi",
          "all/Klaytn/bifi",
          "all/Bifrost/bifrost-liquid-crowdloan",
          "all/Bifrost/bifrost-staking",
          "all/Binance/biswap",
          "all/Near/burrow",
          "all/Arbitrum/camelot",
          "all/Canto/canto-dex",
          "all/Canto/canto-lending",
          "all/Arbitrum/cbridge",
          "all/Aurora/cbridge",
          "all/Avalanche/cbridge",
          "all/Binance/cbridge",
          "all/Boba/cbridge",
          "all/Ethereum/cbridge",
          "all/Fantom/cbridge",
          "all/Harmony/cbridge",
          "all/Metis/cbridge",
          "all/Optimism/cbridge",
          "all/Polygon/cbridge",
          "all/Shiden/cbridge",
          "all/xDai/cbridge",
          "all/Solana/cega",
          "all/Binance/chainport",
          "all/Ethereum/chainport",
          "all/Avalanche/cian",
          "all/Polygon/cian",
          "all/Ethereum/clearpool",
          "all/Polygon/clearpool",
          "all/Arbitrum/clipper",
          "all/Ethereum/clipper",
          "all/Moonbeam/clipper",
          "all/Optimism/clipper",
          "all/Polygon/clipper",
          "all/Ethereum/coinbase-wrapped-staked-eth",
          "all/Binance/coinwind",
          "all/Heco/coinwind",
          "all/Ethereum/compound",
          "all/Ethereum/compound-v3",
          "all/Ethereum/concentrator",
          "all/Arbitrum/connext",
          "all/Avalanche/connext",
          "all/Binance/connext",
          "all/Boba/connext",
          "all/Cronos/connext",
          "all/Ethereum/connext",
          "all/Evmos/connext",
          "all/Fantom/connext",
          "all/Fuse/connext",
          "all/Harmony/connext",
          "all/Milkomeda/connext",
          "all/Moonbeam/connext",
          "all/Moonriver/connext",
          "all/Optimism/connext",
          "all/Polygon/connext",
          "all/xDai/connext",
          "all/Arbitrum/convex-finance",
          "all/Ethereum/convex-finance",
          "all/Arbitrum/cream-finance",
          "all/Binance/cream-finance",
          "all/Ethereum/cream-finance",
          "all/Polygon/cream-finance",
          "all/Arbitrum/curve",
          "all/Aurora/curve",
          "all/Avalanche/curve",
          "all/Ethereum/curve",
          "all/Fantom/curve",
          "all/Kava/curve",
          "all/Moonbeam/curve",
          "all/Optimism/curve",
          "all/Polygon/curve",
          "all/xDai/curve",
          "all/Binance/deeplock",
          "all/Ethereum/defi-franc",
          "all/Ethereum/defi-swap",
          "all/EOS/defibox",
          "all/Wax/defibox",
          "all/DefiChain/defichain-dex",
          "all/DefiChain/defichain-loans",
          "all/Ethereum/defisaver",
          "all/Avalanche/defrost",
          "all/Fantom/deus-finance",
          "all/Polygon/deus-finance",
          "all/Arbitrum/dforce",
          "all/Binance/dforce",
          "all/Ethereum/dforce",
          "all/Optimism/dforce",
          "all/Polygon/dforce",
          "all/Fantom/dfyn-network",
          "all/OKExChain/dfyn-network",
          "all/Polygon/dfyn-network",
          "all/Arbitrum/dopex",
          "all/Binance/dopex",
          "all/Arbitrum/dxsale",
          "all/Avalanche/dxsale",
          "all/Binance/dxsale",
          "all/Celo/dxsale",
          "all/Cronos/dxsale",
          "all/Ethereum/dxsale",
          "all/Fantom/dxsale",
          "all/Harmony/dxsale",
          "all/Heco/dxsale",
          "all/Milkomeda/dxsale",
          "all/OKExChain/dxsale",
          "all/Polygon/dxsale",
          "all/Ethereum/dydx",
          "all/Binance/ellipsis-finance",
          "all/Ethereum/enzyme-finance",
          "all/EOS/eos-rex",
          "all/Ethereum/euler",
          "all/Ethereum/fantohm",
          "all/Fantom/fantohm",
          "all/Moonriver/fantohm",
          "all/Cronos/ferro",
          "all/Arbitrum/filda",
          "all/Binance/filda",
          "all/Elastos/filda",
          "all/Heco/filda",
          "all/IoTeX/filda",
          "all/Polygon/filda",
          "all/REI/filda",
          "all/Ethereum/flamincome",
          "all/NEO/flamingo-finance",
          "all/Ethereum/flexa",
          "all/Algorand/folks-finance-lending",
          "all/Ethereum/frax",
          "all/Fantom/frax",
          "all/Ethereum/frax-ether",
          "all/Arbitrum/frax-swap",
          "all/Avalanche/frax-swap",
          "all/Binance/frax-swap",
          "all/Dogechain/frax-swap",
          "all/Ethereum/frax-swap",
          "all/Fantom/frax-swap",
          "all/Moonbeam/frax-swap",
          "all/Polygon/frax-swap",
          "all/Ethereum/fraxlend",
          "all/Polygon/gains-network",
          "all/Ethereum/gearbox",
          "all/Fantom/geist-finance",
          "all/Arbitrum/gmx",
          "all/Avalanche/gmx",
          "all/Binance/harvest-finance",
          "all/Ethereum/harvest-finance",
          "all/Polygon/harvest-finance",
          "all/Arbitrum/hashflow",
          "all/Avalanche/hashflow",
          "all/Binance/hashflow",
          "all/Ethereum/hashflow",
          "all/Optimism/hashflow",
          "all/Polygon/hashflow",
          "all/Ethereum/hbtc",
          "all/Binance/hector-network",
          "all/Ethereum/hector-network",
          "all/Fantom/hector-network",
          "all/Avalanche/homora-v2",
          "all/Binance/homora-v2",
          "all/Ethereum/homora-v2",
          "all/Fantom/homora-v2",
          "all/Optimism/homora-v2",
          "all/Arbitrum/hop-protocol",
          "all/Ethereum/hop-protocol",
          "all/Optimism/hop-protocol",
          "all/Polygon/hop-protocol",
          "all/xDai/hop-protocol",
          "all/Metis/hummus-exchange",
          "all/Ethereum/ichi-farm",
          "all/Polygon/ichi-farm",
          "all/Ethereum/idle-finance",
          "all/Polygon/idle-finance",
          "all/Ethereum/index-coop",
          "all/Ethereum/instadapp",
          "all/Avalanche/insurace",
          "all/Binance/insurace",
          "all/Ethereum/insurace",
          "all/Polygon/insurace",
          "all/Avalanche/iron-bank",
          "all/Ethereum/iron-bank",
          "all/Fantom/iron-bank",
          "all/Optimism/iron-bank",
          "all/Binance/iziswap",
          "all/Ethereum/jpegd",
          "all/Tron/justlend",
          "all/Tron/juststables",
          "all/Ronin/katana-dex",
          "all/Kava/kava-earn",
          "all/Kava/kava-lend",
          "all/Kava/kava-liquid",
          "all/Kava/kava-mint",
          "all/Ethereum/keep-network",
          "all/Klaytn/klap",
          "all/Klaytn/klayswap",
          "all/Klaytn/kleva-protocol",
          "all/Polygon/klima-dao",
          "all/Binance/knightswap-finance",
          "all/Fantom/knightswap-finance",
          "all/Arbitrum/kyberswap",
          "all/Avalanche/kyberswap",
          "all/Binance/kyberswap",
          "all/Bittorrent/kyberswap",
          "all/Cronos/kyberswap",
          "all/Ethereum/kyberswap",
          "all/Fantom/kyberswap",
          "all/Oasis/kyberswap",
          "all/Optimism/kyberswap",
          "all/Polygon/kyberswap",
          "all/Velas/kyberswap",
          "all/Ethereum/lido",
          "all/Moonbeam/lido",
          "all/Moonriver/lido",
          "all/Solana/lido",
          "all/Terra/lido",
          "all/Bitcoin/lightning-network",
          "all/Binance/liqee",
          "all/Ethereum/liqee",
          "all/Fantom/liquid-driver",
          "all/Ethereum/liquity",
          "all/Algorand/lofty",
          "all/Ethereum/loopring",
          "all/Ethereum/lusd-chickenbonds",
          "all/Ethereum/lyra",
          "all/Optimism/lyra",
          "all/Binance/magpie",
          "all/Elrond/maiar-exchange",
          "all/Ethereum/makerdao",
          "all/Ethereum/maple",
          "all/Solana/maple",
          "all/Solana/marinade-finance",
          "all/Celo/mento",
          "all/Solana/mercurial-finance",
          "all/Solana/mercurial-vaults",
          "all/Polygon/meshswap",
          "all/Near/meta-pool",
          "all/Ethereum/mimo-protocol",
          "all/Fantom/mimo-protocol",
          "all/Polygon/mimo-protocol",
          "all/Cardano/minswap",
          "all/Cronos/mm-finance-cronos",
          "all/Celo/mobius-money",
          "all/Kucoin/mojitoswap",
          "all/RSK/moneyonchain",
          "all/Moonriver/moonwell-apollo",
          "all/Moonbeam/moonwell-artemis",
          "all/Ethereum/morpho-aave",
          "all/Ethereum/morpho-compound",
          "all/Ethereum/mstable",
          "all/Polygon/mstable",
          "all/Arbitrum/mux-derivatives",
          "all/Avalanche/mux-derivatives",
          "all/Binance/mux-derivatives",
          "all/Fantom/mux-derivatives",
          "all/Arbitrum/mycelium-perpetual-swaps",
          "all/NEO/neoburger",
          "all/Waves/neutrino",
          "all/Ethereum/nexus-mutual",
          "all/Ethereum/nftfi",
          "all/Ethereum/nftx",
          "all/Binance/nomiswap",
          "all/Ethereum/notional",
          "all/Binance/octus-bridge",
          "all/Ethereum/octus-bridge",
          "all/Everscale/octus-bridge",
          "all/OKExChain/okcswap",
          "all/Ethereum/olympus-dao",
          "all/Avalanche/opyn",
          "all/Ethereum/opyn",
          "all/Polygon/opyn",
          "all/Binance/orbit-bridge",
          "all/Celo/orbit-bridge",
          "all/Ethereum/orbit-bridge",
          "all/Heco/orbit-bridge",
          "all/Klaytn/orbit-bridge",
          "all/Polygon/orbit-bridge",
          "all/Ripple/orbit-bridge",
          "all/Ethereum/origin-dollar",
          "all/Osmosis/osmosis",
          "all/Ethereum/ouchi-finance",
          "all/Boba/outcome-finance",
          "all/Ethereum/outcome-finance",
          "all/Polygon/outcome-finance",
          "all/Aptos/pancakeswap",
          "all/Binance/pancakeswap",
          "all/Ethereum/pancakeswap",
          "all/Mixin/pando-leaf",
          "all/Avalanche/pangolin",
          "all/Songbird/pangolin",
          "all/Heiko/parallel-lending",
          "all/Parallel/parallel-lending",
          "all/Parallel/parallel-liquid-crowdloan",
          "all/Avalanche/pendle",
          "all/Ethereum/pendle",
          "all/Optimism/perpetual-protocol",
          "all/Avalanche/pinksale",
          "all/Binance/pinksale",
          "all/Cronos/pinksale",
          "all/Ethereum/pinksale",
          "all/Fantom/pinksale",
          "all/Polygon/pinksale",
          "all/Avalanche/platypus-finance",
          "all/Binance/pnetwork",
          "all/Bitcoin/pnetwork",
          "all/Doge/pnetwork",
          "all/EOS/pnetwork",
          "all/Ethereum/pnetwork",
          "all/Fantom/pnetwork",
          "all/LBRY/pnetwork",
          "all/Litecoin/pnetwork",
          "all/ORE/pnetwork",
          "all/Ravencoin/pnetwork",
          "all/Telos/pnetwork",
          "all/Avalanche/pooltogether",
          "all/Binance/pooltogether",
          "all/Celo/pooltogether",
          "all/Ethereum/pooltogether",
          "all/Optimism/pooltogether",
          "all/Polygon/pooltogether",
          "all/Arbitrum/qidao",
          "all/Avalanche/qidao",
          "all/Binance/qidao",
          "all/Ethereum/qidao",
          "all/Fantom/qidao",
          "all/Harmony/qidao",
          "all/Metis/qidao",
          "all/Moonbeam/qidao",
          "all/Moonriver/qidao",
          "all/Optimism/qidao",
          "all/Polygon/qidao",
          "all/xDai/qidao",
          "all/Solana/quarry",
          "all/Polygon/quickswap-dex",
          "all/Dogechain/quickswap-v3",
          "all/Polygon/quickswap-v3",
          "all/Arbitrum/radiant",
          "all/Arbitrum/rari-capital",
          "all/Ethereum/rari-capital",
          "all/xDai/realt",
          "all/Fantom/reaper-farm",
          "all/Optimism/reaper-farm",
          "all/Ethereum/redacted-protocol",
          "all/Near/ref-finance",
          "all/Ethereum/reflexer",
          "all/Arbitrum/renvm",
          "all/Avalanche/renvm",
          "all/Binance/renvm",
          "all/Ethereum/renvm",
          "all/Fantom/renvm",
          "all/Kava/renvm",
          "all/Optimism/renvm",
          "all/Polygon/renvm",
          "all/Solana/renvm",
          "all/Ethereum/reserve",
          "all/Telos/rex-staking",
          "all/Arbitrum/rhino.fi",
          "all/Ethereum/rhino.fi",
          "all/Polygon/rhino.fi",
          "all/Avalanche/ribbon",
          "all/Ethereum/ribbon",
          "all/Solana/ribbon",
          "all/Ethereum/ribbon-lend",
          "all/Ethereum/rocket-pool",
          "all/Solana/saber",
          "all/Arbitrum/saddle-finance",
          "all/Ethereum/saddle-finance",
          "all/Evmos/saddle-finance",
          "all/Fantom/saddle-finance",
          "all/Kava/saddle-finance",
          "all/Optimism/saddle-finance",
          "all/Fantom/scream",
          "all/Ethereum/set-protocol",
          "all/Ethereum/sharedstake",
          "all/Arbitrum/shell-protocol",
          "all/Ethereum/sherlock",
          "all/Ethereum/shibaswap",
          "all/Icon/sicx",
          "all/Ethereum/silo-finance",
          "all/Cronos/single-finance",
          "all/Fantom/single-finance",
          "all/Moonriver/solarbeam",
          "all/Solana/solend",
          "all/Binance/solo-top",
          "all/Heco/solo-top",
          "all/OKExChain/solo-top",
          "all/Polygon/solo-top",
          "all/Optimism/sonne-finance",
          "all/Fantom/spartacus",
          "all/Polygon/sphere-finance",
          "all/Fantom/spookyswap",
          "all/Ethereum/spool-protocol",
          "all/Binance/stader",
          "all/Ethereum/stader",
          "all/Fantom/stader",
          "all/Hedera/stader",
          "all/Near/stader",
          "all/Terra2/stader",
          "all/Binance/stafi",
          "all/Cosmos/stafi",
          "all/Ethereum/stafi",
          "all/Polygon/stafi",
          "all/Solana/stafi",
          "all/Stafi/stafi",
          "all/Klaytn/stake.ly",
          "all/Avalanche/stakedao",
          "all/Ethereum/stakedao",
          "all/Harmony/stakedao",
          "all/Polygon/stakedao",
          "all/Ethereum/stakewise",
          "all/Arbitrum/stargate",
          "all/Avalanche/stargate",
          "all/Binance/stargate",
          "all/Ethereum/stargate",
          "all/Fantom/stargate",
          "all/Optimism/stargate",
          "all/Polygon/stargate",
          "all/Moonbeam/stellaswap",
          "all/Ethereum/strike",
          "all/Ethereum/sturdy",
          "all/Fantom/sturdy",
          "all/Tron/sun.io",
          "all/Tron/sunswap",
          "all/Arbitrum/sushi-bentobox",
          "all/Avalanche/sushi-bentobox",
          "all/Binance/sushi-bentobox",
          "all/Ethereum/sushi-bentobox",
          "all/Fantom/sushi-bentobox",
          "all/Moonbeam/sushi-bentobox",
          "all/Optimism/sushi-bentobox",
          "all/Polygon/sushi-bentobox",
          "all/xDai/sushi-bentobox",
          "all/Arbitrum/sushiswap",
          "all/Arbitrum Nova/sushiswap",
          "all/Avalanche/sushiswap",
          "all/Binance/sushiswap",
          "all/Boba/sushiswap",
          "all/Celo/sushiswap",
          "all/Ethereum/sushiswap",
          "all/Fantom/sushiswap",
          "all/Fuse/sushiswap",
          "all/Harmony/sushiswap",
          "all/Heco/sushiswap",
          "all/Moonriver/sushiswap",
          "all/OKExChain/sushiswap",
          "all/Palm/sushiswap",
          "all/Polygon/sushiswap",
          "all/Telos/sushiswap",
          "all/xDai/sushiswap",
          "all/Arbitrum/swapfish",
          "all/Arbitrum/swapr",
          "all/Ethereum/swapr",
          "all/xDai/swapr",
          "all/Arbitrum/synapse",
          "all/Aurora/synapse",
          "all/Avalanche/synapse",
          "all/Binance/synapse",
          "all/Boba/synapse",
          "all/Cronos/synapse",
          "all/Ethereum/synapse",
          "all/Fantom/synapse",
          "all/Harmony/synapse",
          "all/Klaytn/synapse",
          "all/Metis/synapse",
          "all/Moonriver/synapse",
          "all/Optimism/synapse",
          "all/Polygon/synapse",
          "all/Terra/synapse",
          "all/Ethereum/synthetix",
          "all/Optimism/synthetix",
          "all/Fantom/tarot",
          "all/Optimism/tarot",
          "all/Avalanche/team-finance",
          "all/Binance/team-finance",
          "all/Ethereum/team-finance",
          "all/Polygon/team-finance",
          "all/Cronos/tectonic",
          "all/Binance/terra-bridge",
          "all/Ethereum/terra-bridge",
          "all/Harmony/terra-bridge",
          "all/Binance/tetu-earn",
          "all/Ethereum/tetu-earn",
          "all/Fantom/tetu-earn",
          "all/Polygon/tetu-earn",
          "all/Tezos/tezos-liquidity-baking",
          "all/Ethereum/the-tokenized-bitcoin",
          "all/Theta/thetaswap",
          "all/Ethereum/tokemak",
          "all/Avalanche/tokensfarm",
          "all/Binance/tokensfarm",
          "all/Ethereum/tokensfarm",
          "all/Fantom/tokensfarm",
          "all/Polygon/tokensfarm",
          "all/Fantom/tomb-swap",
          "all/Arbitrum/tornado-cash",
          "all/Avalanche/tornado-cash",
          "all/Binance/tornado-cash",
          "all/Ethereum/tornado-cash",
          "all/Optimism/tornado-cash",
          "all/Polygon/tornado-cash",
          "all/xDai/tornado-cash",
          "all/Celo/toucan-protocol",
          "all/Polygon/toucan-protocol",
          "all/Avalanche/trader-joe-dex",
          "all/Avalanche/trader-joe-lend",
          "all/Binance/tranchess",
          "all/Ethereum/tranchess",
          "all/Aurora/trisolaris",
          "all/Avalanche/unicrypt",
          "all/Binance/unicrypt",
          "all/Ethereum/unicrypt",
          "all/Polygon/unicrypt",
          "all/xDai/unicrypt",
          "all/Ethereum/uniswap-v2",
          "all/Arbitrum/uniswap-v3",
          "all/Celo/uniswap-v3",
          "all/Ethereum/uniswap-v3",
          "all/Optimism/uniswap-v3",
          "all/Polygon/uniswap-v3",
          "all/Ethereum/unslashed",
          "all/Ethereum/uwu-lend",
          "all/Solana/uxd",
          "all/Binance/valas-finance",
          "all/Oasis/valleyswap",
          "all/Avalanche/vector-finance",
          "all/Optimism/velodrome",
          "all/Binance/venus",
          "all/Avalanche/vesper",
          "all/Ethereum/vesper",
          "all/Polygon/vesper",
          "all/Arbitrum/vesta-finance",
          "all/Waves/vires-finance",
          "all/Ethereum/voltz",
          "all/Cronos/vvs-finance",
          "all/Binance/w3swap",
          "all/Ethereum/wbtc",
          "all/Binance/wing-finance",
          "all/Ethereum/wing-finance",
          "all/OKExChain/wing-finance",
          "all/Ontology/wing-finance",
          "all/OntologyEVM/wing-finance",
          "all/Binance/wombat-exchange",
          "all/Binance/wombex-finance",
          "all/Celo/wrapped",
          "all/Ethereum/wrapped",
          "all/Waves/wx.network",
          "all/Arbitrum/yearn-finance",
          "all/Ethereum/yearn-finance",
          "all/Fantom/yearn-finance",
          "all/Optimism/yearn-finance",
          "all/Avalanche/yeti-finance",
          "all/Avalanche/yield-yak-aggregator",
          "all/Tezos/youves",
          "all/Acala",
          "all/Algorand",
          "all/Aptos",
          "all/Arbitrum",
          "all/Arbitrum Nova",
          "all/Astar",
          "all/Aurora",
          "all/Avalanche",
          "all/Bifrost",
          "all/Binance",
          "all/Bitcoin",
          "all/Bittorrent",
          "all/Boba",
          "all/Canto",
          "all/Cardano",
          "all/Celo",
          "all/Cosmos",
          "all/Cronos",
          "all/DefiChain",
          "all/Doge",
          "all/Dogechain",
          "all/EOS",
          "all/Elastos",
          "all/Elrond",
          "all/Ethereum",
          "all/Everscale",
          "all/Evmos",
          "all/Fantom",
          "all/Fuse",
          "all/Harmony",
          "all/Heco",
          "all/Hedera",
          "all/Heiko",
          "all/Icon",
          "all/IoTeX",
          "all/Kava",
          "all/Klaytn",
          "all/Kucoin",
          "all/Kusama",
          "all/LBRY",
          "all/Litecoin",
          "all/Metis",
          "all/Milkomeda",
          "all/Mixin",
          "all/Moonbeam",
          "all/Moonriver",
          "all/NEO",
          "all/Near",
          "all/OKExChain",
          "all/ORE",
          "all/Oasis",
          "all/Ontology",
          "all/OntologyEVM",
          "all/Optimism",
          "all/Osmosis",
          "all/Palm",
          "all/Parallel",
          "all/Polkadot",
          "all/Polygon",
          "all/REI",
          "all/RSK",
          "all/Ravencoin",
          "all/Ripple",
          "all/Ronin",
          "all/Shiden",
          "all/Solana",
          "all/Songbird",
          "all/Stafi",
          "all/Telos",
          "all/Terra",
          "all/Terra2",
          "all/Tezos",
          "all/Theta",
          "all/Tron",
          "all/Velas",
          "all/Waves",
          "all/Wax",
          "all/xDai",
          "all"
         ],
         "labels": [
          "01",
          "4swap",
          "aave-v1",
          "aave-v2",
          "aave-v2",
          "aave-v2",
          "aave-v3",
          "aave-v3",
          "aave-v3",
          "aave-v3",
          "aave-v3",
          "aave-v3",
          "acala-dollar",
          "acala-liquid-staking",
          "across",
          "acryptos",
          "acryptos",
          "acryptos",
          "acryptos",
          "acryptos",
          "acryptos",
          "acryptos",
          "acryptos",
          "acryptos",
          "acryptos",
          "acryptos",
          "acryptos",
          "alchemix",
          "alchemix",
          "alchemix",
          "algem",
          "algo-liquid-governance",
          "algofi-lend",
          "alpaca-finance",
          "alpaca-finance",
          "angle",
          "angle",
          "angle",
          "angle",
          "ankr",
          "ankr",
          "ankr",
          "ankr",
          "ankr",
          "ankr",
          "ankr",
          "apeswap-amm",
          "apeswap-amm",
          "apeswap-amm",
          "apeswap-amm",
          "apeswap-lending",
          "apollox",
          "arrakis-finance",
          "arrakis-finance",
          "arrakis-finance",
          "arthswap",
          "astroport",
          "astroport",
          "aura",
          "aux-exchange",
          "aztec",
          "b.protocol",
          "b.protocol",
          "b.protocol",
          "babydogeswap",
          "babyswap",
          "balancer",
          "balancer",
          "balancer",
          "bancor-v2.1",
          "bancor-v3",
          "bastion",
          "beefy",
          "beefy",
          "beefy",
          "beefy",
          "beefy",
          "beefy",
          "beefy",
          "beefy",
          "beefy",
          "beefy",
          "beefy",
          "beefy",
          "beefy",
          "beefy",
          "beefy",
          "beefy",
          "beefy",
          "beefy",
          "beethoven-x",
          "beethoven-x",
          "belt-finance",
          "belt-finance",
          "belt-finance",
          "benddao",
          "benqi-lending",
          "benqi-staked-avax",
          "bifi",
          "bifi",
          "bifi",
          "bifi",
          "bifi",
          "bifrost-liquid-crowdloan",
          "bifrost-staking",
          "biswap",
          "burrow",
          "camelot",
          "canto-dex",
          "canto-lending",
          "cbridge",
          "cbridge",
          "cbridge",
          "cbridge",
          "cbridge",
          "cbridge",
          "cbridge",
          "cbridge",
          "cbridge",
          "cbridge",
          "cbridge",
          "cbridge",
          "cbridge",
          "cega",
          "chainport",
          "chainport",
          "cian",
          "cian",
          "clearpool",
          "clearpool",
          "clipper",
          "clipper",
          "clipper",
          "clipper",
          "clipper",
          "coinbase-wrapped-staked-eth",
          "coinwind",
          "coinwind",
          "compound",
          "compound-v3",
          "concentrator",
          "connext",
          "connext",
          "connext",
          "connext",
          "connext",
          "connext",
          "connext",
          "connext",
          "connext",
          "connext",
          "connext",
          "connext",
          "connext",
          "connext",
          "connext",
          "connext",
          "convex-finance",
          "convex-finance",
          "cream-finance",
          "cream-finance",
          "cream-finance",
          "cream-finance",
          "curve",
          "curve",
          "curve",
          "curve",
          "curve",
          "curve",
          "curve",
          "curve",
          "curve",
          "curve",
          "deeplock",
          "defi-franc",
          "defi-swap",
          "defibox",
          "defibox",
          "defichain-dex",
          "defichain-loans",
          "defisaver",
          "defrost",
          "deus-finance",
          "deus-finance",
          "dforce",
          "dforce",
          "dforce",
          "dforce",
          "dforce",
          "dfyn-network",
          "dfyn-network",
          "dfyn-network",
          "dopex",
          "dopex",
          "dxsale",
          "dxsale",
          "dxsale",
          "dxsale",
          "dxsale",
          "dxsale",
          "dxsale",
          "dxsale",
          "dxsale",
          "dxsale",
          "dxsale",
          "dxsale",
          "dydx",
          "ellipsis-finance",
          "enzyme-finance",
          "eos-rex",
          "euler",
          "fantohm",
          "fantohm",
          "fantohm",
          "ferro",
          "filda",
          "filda",
          "filda",
          "filda",
          "filda",
          "filda",
          "filda",
          "flamincome",
          "flamingo-finance",
          "flexa",
          "folks-finance-lending",
          "frax",
          "frax",
          "frax-ether",
          "frax-swap",
          "frax-swap",
          "frax-swap",
          "frax-swap",
          "frax-swap",
          "frax-swap",
          "frax-swap",
          "frax-swap",
          "fraxlend",
          "gains-network",
          "gearbox",
          "geist-finance",
          "gmx",
          "gmx",
          "harvest-finance",
          "harvest-finance",
          "harvest-finance",
          "hashflow",
          "hashflow",
          "hashflow",
          "hashflow",
          "hashflow",
          "hashflow",
          "hbtc",
          "hector-network",
          "hector-network",
          "hector-network",
          "homora-v2",
          "homora-v2",
          "homora-v2",
          "homora-v2",
          "homora-v2",
          "hop-protocol",
          "hop-protocol",
          "hop-protocol",
          "hop-protocol",
          "hop-protocol",
          "hummus-exchange",
          "ichi-farm",
          "ichi-farm",
          "idle-finance",
          "idle-finance",
          "index-coop",
          "instadapp",
          "insurace",
          "insurace",
          "insurace",
          "insurace",
          "iron-bank",
          "iron-bank",
          "iron-bank",
          "iron-bank",
          "iziswap",
          "jpegd",
          "justlend",
          "juststables",
          "katana-dex",
          "kava-earn",
          "kava-lend",
          "kava-liquid",
          "kava-mint",
          "keep-network",
          "klap",
          "klayswap",
          "kleva-protocol",
          "klima-dao",
          "knightswap-finance",
          "knightswap-finance",
          "kyberswap",
          "kyberswap",
          "kyberswap",
          "kyberswap",
          "kyberswap",
          "kyberswap",
          "kyberswap",
          "kyberswap",
          "kyberswap",
          "kyberswap",
          "kyberswap",
          "lido",
          "lido",
          "lido",
          "lido",
          "lido",
          "lightning-network",
          "liqee",
          "liqee",
          "liquid-driver",
          "liquity",
          "lofty",
          "loopring",
          "lusd-chickenbonds",
          "lyra",
          "lyra",
          "magpie",
          "maiar-exchange",
          "makerdao",
          "maple",
          "maple",
          "marinade-finance",
          "mento",
          "mercurial-finance",
          "mercurial-vaults",
          "meshswap",
          "meta-pool",
          "mimo-protocol",
          "mimo-protocol",
          "mimo-protocol",
          "minswap",
          "mm-finance-cronos",
          "mobius-money",
          "mojitoswap",
          "moneyonchain",
          "moonwell-apollo",
          "moonwell-artemis",
          "morpho-aave",
          "morpho-compound",
          "mstable",
          "mstable",
          "mux-derivatives",
          "mux-derivatives",
          "mux-derivatives",
          "mux-derivatives",
          "mycelium-perpetual-swaps",
          "neoburger",
          "neutrino",
          "nexus-mutual",
          "nftfi",
          "nftx",
          "nomiswap",
          "notional",
          "octus-bridge",
          "octus-bridge",
          "octus-bridge",
          "okcswap",
          "olympus-dao",
          "opyn",
          "opyn",
          "opyn",
          "orbit-bridge",
          "orbit-bridge",
          "orbit-bridge",
          "orbit-bridge",
          "orbit-bridge",
          "orbit-bridge",
          "orbit-bridge",
          "origin-dollar",
          "osmosis",
          "ouchi-finance",
          "outcome-finance",
          "outcome-finance",
          "outcome-finance",
          "pancakeswap",
          "pancakeswap",
          "pancakeswap",
          "pando-leaf",
          "pangolin",
          "pangolin",
          "parallel-lending",
          "parallel-lending",
          "parallel-liquid-crowdloan",
          "pendle",
          "pendle",
          "perpetual-protocol",
          "pinksale",
          "pinksale",
          "pinksale",
          "pinksale",
          "pinksale",
          "pinksale",
          "platypus-finance",
          "pnetwork",
          "pnetwork",
          "pnetwork",
          "pnetwork",
          "pnetwork",
          "pnetwork",
          "pnetwork",
          "pnetwork",
          "pnetwork",
          "pnetwork",
          "pnetwork",
          "pooltogether",
          "pooltogether",
          "pooltogether",
          "pooltogether",
          "pooltogether",
          "pooltogether",
          "qidao",
          "qidao",
          "qidao",
          "qidao",
          "qidao",
          "qidao",
          "qidao",
          "qidao",
          "qidao",
          "qidao",
          "qidao",
          "qidao",
          "quarry",
          "quickswap-dex",
          "quickswap-v3",
          "quickswap-v3",
          "radiant",
          "rari-capital",
          "rari-capital",
          "realt",
          "reaper-farm",
          "reaper-farm",
          "redacted-protocol",
          "ref-finance",
          "reflexer",
          "renvm",
          "renvm",
          "renvm",
          "renvm",
          "renvm",
          "renvm",
          "renvm",
          "renvm",
          "renvm",
          "reserve",
          "rex-staking",
          "rhino.fi",
          "rhino.fi",
          "rhino.fi",
          "ribbon",
          "ribbon",
          "ribbon",
          "ribbon-lend",
          "rocket-pool",
          "saber",
          "saddle-finance",
          "saddle-finance",
          "saddle-finance",
          "saddle-finance",
          "saddle-finance",
          "saddle-finance",
          "scream",
          "set-protocol",
          "sharedstake",
          "shell-protocol",
          "sherlock",
          "shibaswap",
          "sicx",
          "silo-finance",
          "single-finance",
          "single-finance",
          "solarbeam",
          "solend",
          "solo-top",
          "solo-top",
          "solo-top",
          "solo-top",
          "sonne-finance",
          "spartacus",
          "sphere-finance",
          "spookyswap",
          "spool-protocol",
          "stader",
          "stader",
          "stader",
          "stader",
          "stader",
          "stader",
          "stafi",
          "stafi",
          "stafi",
          "stafi",
          "stafi",
          "stafi",
          "stake.ly",
          "stakedao",
          "stakedao",
          "stakedao",
          "stakedao",
          "stakewise",
          "stargate",
          "stargate",
          "stargate",
          "stargate",
          "stargate",
          "stargate",
          "stargate",
          "stellaswap",
          "strike",
          "sturdy",
          "sturdy",
          "sun.io",
          "sunswap",
          "sushi-bentobox",
          "sushi-bentobox",
          "sushi-bentobox",
          "sushi-bentobox",
          "sushi-bentobox",
          "sushi-bentobox",
          "sushi-bentobox",
          "sushi-bentobox",
          "sushi-bentobox",
          "sushiswap",
          "sushiswap",
          "sushiswap",
          "sushiswap",
          "sushiswap",
          "sushiswap",
          "sushiswap",
          "sushiswap",
          "sushiswap",
          "sushiswap",
          "sushiswap",
          "sushiswap",
          "sushiswap",
          "sushiswap",
          "sushiswap",
          "sushiswap",
          "sushiswap",
          "swapfish",
          "swapr",
          "swapr",
          "swapr",
          "synapse",
          "synapse",
          "synapse",
          "synapse",
          "synapse",
          "synapse",
          "synapse",
          "synapse",
          "synapse",
          "synapse",
          "synapse",
          "synapse",
          "synapse",
          "synapse",
          "synapse",
          "synthetix",
          "synthetix",
          "tarot",
          "tarot",
          "team-finance",
          "team-finance",
          "team-finance",
          "team-finance",
          "tectonic",
          "terra-bridge",
          "terra-bridge",
          "terra-bridge",
          "tetu-earn",
          "tetu-earn",
          "tetu-earn",
          "tetu-earn",
          "tezos-liquidity-baking",
          "the-tokenized-bitcoin",
          "thetaswap",
          "tokemak",
          "tokensfarm",
          "tokensfarm",
          "tokensfarm",
          "tokensfarm",
          "tokensfarm",
          "tomb-swap",
          "tornado-cash",
          "tornado-cash",
          "tornado-cash",
          "tornado-cash",
          "tornado-cash",
          "tornado-cash",
          "tornado-cash",
          "toucan-protocol",
          "toucan-protocol",
          "trader-joe-dex",
          "trader-joe-lend",
          "tranchess",
          "tranchess",
          "trisolaris",
          "unicrypt",
          "unicrypt",
          "unicrypt",
          "unicrypt",
          "unicrypt",
          "uniswap-v2",
          "uniswap-v3",
          "uniswap-v3",
          "uniswap-v3",
          "uniswap-v3",
          "uniswap-v3",
          "unslashed",
          "uwu-lend",
          "uxd",
          "valas-finance",
          "valleyswap",
          "vector-finance",
          "velodrome",
          "venus",
          "vesper",
          "vesper",
          "vesper",
          "vesta-finance",
          "vires-finance",
          "voltz",
          "vvs-finance",
          "w3swap",
          "wbtc",
          "wing-finance",
          "wing-finance",
          "wing-finance",
          "wing-finance",
          "wing-finance",
          "wombat-exchange",
          "wombex-finance",
          "wrapped",
          "wrapped",
          "wx.network",
          "yearn-finance",
          "yearn-finance",
          "yearn-finance",
          "yearn-finance",
          "yeti-finance",
          "yield-yak-aggregator",
          "youves",
          "Acala",
          "Algorand",
          "Aptos",
          "Arbitrum",
          "Arbitrum Nova",
          "Astar",
          "Aurora",
          "Avalanche",
          "Bifrost",
          "Binance",
          "Bitcoin",
          "Bittorrent",
          "Boba",
          "Canto",
          "Cardano",
          "Celo",
          "Cosmos",
          "Cronos",
          "DefiChain",
          "Doge",
          "Dogechain",
          "EOS",
          "Elastos",
          "Elrond",
          "Ethereum",
          "Everscale",
          "Evmos",
          "Fantom",
          "Fuse",
          "Harmony",
          "Heco",
          "Hedera",
          "Heiko",
          "Icon",
          "IoTeX",
          "Kava",
          "Klaytn",
          "Kucoin",
          "Kusama",
          "LBRY",
          "Litecoin",
          "Metis",
          "Milkomeda",
          "Mixin",
          "Moonbeam",
          "Moonriver",
          "NEO",
          "Near",
          "OKExChain",
          "ORE",
          "Oasis",
          "Ontology",
          "OntologyEVM",
          "Optimism",
          "Osmosis",
          "Palm",
          "Parallel",
          "Polkadot",
          "Polygon",
          "REI",
          "RSK",
          "Ravencoin",
          "Ripple",
          "Ronin",
          "Shiden",
          "Solana",
          "Songbird",
          "Stafi",
          "Telos",
          "Terra",
          "Terra2",
          "Tezos",
          "Theta",
          "Tron",
          "Velas",
          "Waves",
          "Wax",
          "xDai",
          "all"
         ],
         "marker": {
          "coloraxis": "coloraxis",
          "colors": [
           -1,
           -1,
           -1,
           -1,
           -1,
           -1,
           1,
           -1,
           -1,
           -1,
           -1,
           1,
           1,
           -1,
           1,
           -1,
           -1,
           1,
           -1,
           -1,
           -1,
           1,
           -1,
           1,
           -1,
           1,
           -1,
           -1,
           -1,
           1,
           1,
           1,
           1,
           -1,
           -1,
           1,
           -1,
           -1,
           1,
           1,
           -1,
           -1,
           -1,
           -1,
           -1,
           1,
           -1,
           -1,
           -1,
           1,
           -1,
           1,
           -1,
           1,
           1,
           1,
           -1,
           -1,
           1,
           1,
           1,
           -1,
           1,
           -1,
           1,
           -1,
           1,
           -1,
           1,
           -1,
           -1,
           -1,
           -1,
           -1,
           -1,
           -1,
           -1,
           -1,
           1,
           -1,
           -1,
           -1,
           -1,
           1,
           -1,
           1,
           1,
           -1,
           1,
           -1,
           -1,
           1,
           -1,
           1,
           -1,
           1,
           -1,
           1,
           -1,
           -1,
           -1,
           -1,
           1,
           1,
           -1,
           -1,
           -1,
           1,
           -1,
           -1,
           -1,
           -1,
           -1,
           -1,
           -1,
           1,
           -1,
           -1,
           -1,
           -1,
           -1,
           1,
           -1,
           1,
           1,
           1,
           1,
           1,
           1,
           -1,
           1,
           1,
           -1,
           1,
           -1,
           1,
           -1,
           -1,
           -1,
           1,
           -1,
           1,
           -1,
           -1,
           -1,
           1,
           -1,
           -1,
           -1,
           -1,
           -1,
           -1,
           -1,
           1,
           1,
           -1,
           -1,
           1,
           -1,
           -1,
           -1,
           -1,
           -1,
           -1,
           1,
           -1,
           -1,
           -1,
           1,
           -1,
           1,
           -1,
           -1,
           -1,
           -1,
           -1,
           1,
           -1,
           -1,
           1,
           -1,
           -1,
           1,
           -1,
           1,
           -1,
           1,
           1,
           1,
           -1,
           -1,
           -1,
           1,
           1,
           1,
           -1,
           1,
           -1,
           1,
           1,
           1,
           1,
           1,
           1,
           1,
           -1,
           -1,
           -1,
           -1,
           1,
           -1,
           1,
           1,
           -1,
           -1,
           -1,
           1,
           -1,
           -1,
           -1,
           -1,
           -1,
           -1,
           -1,
           -1,
           1,
           -1,
           -1,
           1,
           -1,
           -1,
           -1,
           1,
           1,
           -1,
           -1,
           -1,
           1,
           1,
           1,
           1,
           1,
           -1,
           -1,
           -1,
           -1,
           1,
           -1,
           1,
           1,
           -1,
           1,
           -1,
           1,
           1,
           -1,
           -1,
           -1,
           1,
           -1,
           -1,
           1,
           1,
           1,
           1,
           -1,
           -1,
           1,
           1,
           1,
           -1,
           -1,
           -1,
           -1,
           -1,
           -1,
           -1,
           -1,
           1,
           1,
           -1,
           -1,
           1,
           -1,
           1,
           1,
           1,
           -1,
           1,
           -1,
           -1,
           -1,
           -1,
           -1,
           -1,
           -1,
           -1,
           1,
           1,
           1,
           1,
           -1,
           1,
           1,
           -1,
           1,
           1,
           -1,
           1,
           1,
           1,
           -1,
           1,
           1,
           -1,
           -1,
           -1,
           1,
           1,
           -1,
           1,
           -1,
           -1,
           -1,
           -1,
           -1,
           -1,
           1,
           -1,
           1,
           -1,
           1,
           -1,
           -1,
           1,
           -1,
           -1,
           -1,
           -1,
           -1,
           -1,
           1,
           -1,
           1,
           1,
           -1,
           -1,
           -1,
           1,
           1,
           1,
           1,
           -1,
           -1,
           -1,
           -1,
           -1,
           -1,
           -1,
           -1,
           -1,
           -1,
           -1,
           1,
           -1,
           -1,
           -1,
           -1,
           -1,
           1,
           -1,
           -1,
           -1,
           1,
           -1,
           1,
           -1,
           1,
           -1,
           1,
           -1,
           1,
           -1,
           1,
           -1,
           -1,
           1,
           -1,
           1,
           1,
           -1,
           1,
           -1,
           -1,
           -1,
           1,
           1,
           -1,
           1,
           -1,
           -1,
           -1,
           -1,
           -1,
           -1,
           -1,
           -1,
           -1,
           -1,
           -1,
           -1,
           -1,
           -1,
           -1,
           -1,
           1,
           -1,
           -1,
           -1,
           -1,
           1,
           -1,
           -1,
           1,
           -1,
           -1,
           -1,
           -1,
           -1,
           -1,
           -1,
           -1,
           1,
           -1,
           -1,
           -1,
           1,
           1,
           1,
           -1,
           -1,
           -1,
           -1,
           -1,
           -1,
           -1,
           -1,
           -1,
           -1,
           -1,
           -1,
           -1,
           -1,
           -1,
           1,
           1,
           -1,
           -1,
           -1,
           1,
           1,
           -1,
           -1,
           -1,
           -1,
           -1,
           -1,
           -1,
           -1,
           -1,
           -1,
           1,
           1,
           -1,
           -1,
           1,
           -1,
           -1,
           -1,
           -1,
           -1,
           -1,
           -1,
           -1,
           1,
           -1,
           -1,
           -1,
           -1,
           -1,
           1,
           1,
           1,
           -1,
           -1,
           -1,
           1,
           1,
           -1,
           1,
           1,
           1,
           -1,
           -1,
           -1,
           -1,
           1,
           -1,
           -1,
           1,
           -1,
           -1,
           -1,
           -1,
           1,
           -1,
           -1,
           -1,
           -1,
           -1,
           -1,
           -1,
           1,
           -1,
           1,
           -1,
           -1,
           1,
           -1,
           -1,
           1,
           -1,
           -1,
           1,
           -1,
           -1,
           -1,
           -1,
           -1,
           1,
           -1,
           -1,
           -1,
           -1,
           1,
           -1,
           1,
           -1,
           1,
           -1,
           1,
           -1,
           -1,
           -1,
           -1,
           -1,
           -1,
           -1,
           -1,
           -1,
           -1,
           -1,
           -1,
           -1,
           -1,
           -1,
           -1,
           -1,
           -1,
           -1,
           -1,
           -1,
           -1,
           -1,
           -1,
           -1,
           1,
           -1,
           1,
           -1,
           1,
           1,
           1,
           -1,
           -1,
           1,
           1,
           -1,
           -1,
           -1,
           -1,
           -1,
           -1,
           -1,
           -1,
           -1,
           1,
           -1,
           1,
           -1,
           -1,
           1,
           -1,
           1,
           -1,
           -1,
           -1,
           1,
           -1,
           -1,
           -1,
           1,
           -1,
           -1,
           1,
           1,
           1,
           1,
           1,
           -1,
           -1,
           -1,
           1,
           1,
           1,
           -1,
           -1,
           1,
           -1,
           1,
           -1,
           -1,
           -1,
           1,
           1,
           -1,
           -1,
           -1,
           -1,
           1,
           -1,
           1,
           -1,
           1,
           -1,
           -1,
           1,
           -1,
           -1,
           1,
           -0.6674603252126713,
           1,
           1,
           0.43918945017547606,
           1,
           0.9999517328262865,
           -0.9999946262696763,
           -0.9506790778496736,
           -0.9999867451723585,
           -0.4051539072205449,
           0.1592799680239674,
           1,
           0.0572307320835082,
           -1,
           -1,
           0.5303035163750537,
           1,
           -0.9937433213963586,
           -0.9089586291179731,
           -1,
           0.501228891986149,
           0.26610328075453876,
           -1,
           -1,
           -0.6432018947449542,
           -1,
           -1,
           -0.3421676775869279,
           -1,
           -0.9996655603270487,
           -0.9049763563051638,
           1,
           -1,
           -1,
           -1,
           -0.32920056612745024,
           -0.7102475623760471,
           -1,
           -1,
           -1,
           -1,
           -0.7259455365622993,
           -0.9981122126513577,
           -1,
           0.8785951810126488,
           -0.923864035031122,
           -1,
           -1,
           0.956046672196298,
           -1,
           -1,
           -1,
           -1,
           -0.5745409359123795,
           -1,
           -1,
           1,
           -1,
           -0.4851059439583301,
           -1,
           1,
           -1,
           -1,
           1,
           1,
           -0.8544604867179324,
           1,
           1,
           -0.40358402285179157,
           -0.842936243042086,
           -1,
           1,
           -1,
           -0.9998891921340085,
           -1,
           -1,
           -1,
           -0.833723643300715,
           -0.6378764755464194
          ]
         },
         "name": "",
         "parents": [
          "all/Solana",
          "all/Mixin",
          "all/Ethereum",
          "all/Avalanche",
          "all/Ethereum",
          "all/Polygon",
          "all/Arbitrum",
          "all/Avalanche",
          "all/Fantom",
          "all/Harmony",
          "all/Optimism",
          "all/Polygon",
          "all/Acala",
          "all/Acala",
          "all/Ethereum",
          "all/Arbitrum",
          "all/Astar",
          "all/Avalanche",
          "all/Binance",
          "all/Cronos",
          "all/Ethereum",
          "all/Fantom",
          "all/Harmony",
          "all/Moonbeam",
          "all/Moonriver",
          "all/Optimism",
          "all/xDai",
          "all/Ethereum",
          "all/Fantom",
          "all/Optimism",
          "all/Astar",
          "all/Algorand",
          "all/Algorand",
          "all/Binance",
          "all/Fantom",
          "all/Arbitrum",
          "all/Ethereum",
          "all/Optimism",
          "all/Polygon",
          "all/Avalanche",
          "all/Binance",
          "all/Ethereum",
          "all/Fantom",
          "all/Kusama",
          "all/Polkadot",
          "all/xDai",
          "all/Binance",
          "all/Ethereum",
          "all/Polygon",
          "all/Telos",
          "all/Binance",
          "all/Binance",
          "all/Ethereum",
          "all/Optimism",
          "all/Polygon",
          "all/Astar",
          "all/Terra",
          "all/Terra2",
          "all/Ethereum",
          "all/Aptos",
          "all/Ethereum",
          "all/Arbitrum",
          "all/Ethereum",
          "all/Polygon",
          "all/Binance",
          "all/Binance",
          "all/Arbitrum",
          "all/Ethereum",
          "all/Polygon",
          "all/Ethereum",
          "all/Ethereum",
          "all/Aurora",
          "all/Arbitrum",
          "all/Aurora",
          "all/Avalanche",
          "all/Binance",
          "all/Celo",
          "all/Cronos",
          "all/Ethereum",
          "all/Fantom",
          "all/Fuse",
          "all/Harmony",
          "all/Heco",
          "all/Kava",
          "all/Metis",
          "all/Moonbeam",
          "all/Moonriver",
          "all/Oasis",
          "all/Optimism",
          "all/Polygon",
          "all/Fantom",
          "all/Optimism",
          "all/Binance",
          "all/Heco",
          "all/Klaytn",
          "all/Ethereum",
          "all/Avalanche",
          "all/Avalanche",
          "all/Avalanche",
          "all/Binance",
          "all/Bitcoin",
          "all/Ethereum",
          "all/Klaytn",
          "all/Bifrost",
          "all/Bifrost",
          "all/Binance",
          "all/Near",
          "all/Arbitrum",
          "all/Canto",
          "all/Canto",
          "all/Arbitrum",
          "all/Aurora",
          "all/Avalanche",
          "all/Binance",
          "all/Boba",
          "all/Ethereum",
          "all/Fantom",
          "all/Harmony",
          "all/Metis",
          "all/Optimism",
          "all/Polygon",
          "all/Shiden",
          "all/xDai",
          "all/Solana",
          "all/Binance",
          "all/Ethereum",
          "all/Avalanche",
          "all/Polygon",
          "all/Ethereum",
          "all/Polygon",
          "all/Arbitrum",
          "all/Ethereum",
          "all/Moonbeam",
          "all/Optimism",
          "all/Polygon",
          "all/Ethereum",
          "all/Binance",
          "all/Heco",
          "all/Ethereum",
          "all/Ethereum",
          "all/Ethereum",
          "all/Arbitrum",
          "all/Avalanche",
          "all/Binance",
          "all/Boba",
          "all/Cronos",
          "all/Ethereum",
          "all/Evmos",
          "all/Fantom",
          "all/Fuse",
          "all/Harmony",
          "all/Milkomeda",
          "all/Moonbeam",
          "all/Moonriver",
          "all/Optimism",
          "all/Polygon",
          "all/xDai",
          "all/Arbitrum",
          "all/Ethereum",
          "all/Arbitrum",
          "all/Binance",
          "all/Ethereum",
          "all/Polygon",
          "all/Arbitrum",
          "all/Aurora",
          "all/Avalanche",
          "all/Ethereum",
          "all/Fantom",
          "all/Kava",
          "all/Moonbeam",
          "all/Optimism",
          "all/Polygon",
          "all/xDai",
          "all/Binance",
          "all/Ethereum",
          "all/Ethereum",
          "all/EOS",
          "all/Wax",
          "all/DefiChain",
          "all/DefiChain",
          "all/Ethereum",
          "all/Avalanche",
          "all/Fantom",
          "all/Polygon",
          "all/Arbitrum",
          "all/Binance",
          "all/Ethereum",
          "all/Optimism",
          "all/Polygon",
          "all/Fantom",
          "all/OKExChain",
          "all/Polygon",
          "all/Arbitrum",
          "all/Binance",
          "all/Arbitrum",
          "all/Avalanche",
          "all/Binance",
          "all/Celo",
          "all/Cronos",
          "all/Ethereum",
          "all/Fantom",
          "all/Harmony",
          "all/Heco",
          "all/Milkomeda",
          "all/OKExChain",
          "all/Polygon",
          "all/Ethereum",
          "all/Binance",
          "all/Ethereum",
          "all/EOS",
          "all/Ethereum",
          "all/Ethereum",
          "all/Fantom",
          "all/Moonriver",
          "all/Cronos",
          "all/Arbitrum",
          "all/Binance",
          "all/Elastos",
          "all/Heco",
          "all/IoTeX",
          "all/Polygon",
          "all/REI",
          "all/Ethereum",
          "all/NEO",
          "all/Ethereum",
          "all/Algorand",
          "all/Ethereum",
          "all/Fantom",
          "all/Ethereum",
          "all/Arbitrum",
          "all/Avalanche",
          "all/Binance",
          "all/Dogechain",
          "all/Ethereum",
          "all/Fantom",
          "all/Moonbeam",
          "all/Polygon",
          "all/Ethereum",
          "all/Polygon",
          "all/Ethereum",
          "all/Fantom",
          "all/Arbitrum",
          "all/Avalanche",
          "all/Binance",
          "all/Ethereum",
          "all/Polygon",
          "all/Arbitrum",
          "all/Avalanche",
          "all/Binance",
          "all/Ethereum",
          "all/Optimism",
          "all/Polygon",
          "all/Ethereum",
          "all/Binance",
          "all/Ethereum",
          "all/Fantom",
          "all/Avalanche",
          "all/Binance",
          "all/Ethereum",
          "all/Fantom",
          "all/Optimism",
          "all/Arbitrum",
          "all/Ethereum",
          "all/Optimism",
          "all/Polygon",
          "all/xDai",
          "all/Metis",
          "all/Ethereum",
          "all/Polygon",
          "all/Ethereum",
          "all/Polygon",
          "all/Ethereum",
          "all/Ethereum",
          "all/Avalanche",
          "all/Binance",
          "all/Ethereum",
          "all/Polygon",
          "all/Avalanche",
          "all/Ethereum",
          "all/Fantom",
          "all/Optimism",
          "all/Binance",
          "all/Ethereum",
          "all/Tron",
          "all/Tron",
          "all/Ronin",
          "all/Kava",
          "all/Kava",
          "all/Kava",
          "all/Kava",
          "all/Ethereum",
          "all/Klaytn",
          "all/Klaytn",
          "all/Klaytn",
          "all/Polygon",
          "all/Binance",
          "all/Fantom",
          "all/Arbitrum",
          "all/Avalanche",
          "all/Binance",
          "all/Bittorrent",
          "all/Cronos",
          "all/Ethereum",
          "all/Fantom",
          "all/Oasis",
          "all/Optimism",
          "all/Polygon",
          "all/Velas",
          "all/Ethereum",
          "all/Moonbeam",
          "all/Moonriver",
          "all/Solana",
          "all/Terra",
          "all/Bitcoin",
          "all/Binance",
          "all/Ethereum",
          "all/Fantom",
          "all/Ethereum",
          "all/Algorand",
          "all/Ethereum",
          "all/Ethereum",
          "all/Ethereum",
          "all/Optimism",
          "all/Binance",
          "all/Elrond",
          "all/Ethereum",
          "all/Ethereum",
          "all/Solana",
          "all/Solana",
          "all/Celo",
          "all/Solana",
          "all/Solana",
          "all/Polygon",
          "all/Near",
          "all/Ethereum",
          "all/Fantom",
          "all/Polygon",
          "all/Cardano",
          "all/Cronos",
          "all/Celo",
          "all/Kucoin",
          "all/RSK",
          "all/Moonriver",
          "all/Moonbeam",
          "all/Ethereum",
          "all/Ethereum",
          "all/Ethereum",
          "all/Polygon",
          "all/Arbitrum",
          "all/Avalanche",
          "all/Binance",
          "all/Fantom",
          "all/Arbitrum",
          "all/NEO",
          "all/Waves",
          "all/Ethereum",
          "all/Ethereum",
          "all/Ethereum",
          "all/Binance",
          "all/Ethereum",
          "all/Binance",
          "all/Ethereum",
          "all/Everscale",
          "all/OKExChain",
          "all/Ethereum",
          "all/Avalanche",
          "all/Ethereum",
          "all/Polygon",
          "all/Binance",
          "all/Celo",
          "all/Ethereum",
          "all/Heco",
          "all/Klaytn",
          "all/Polygon",
          "all/Ripple",
          "all/Ethereum",
          "all/Osmosis",
          "all/Ethereum",
          "all/Boba",
          "all/Ethereum",
          "all/Polygon",
          "all/Aptos",
          "all/Binance",
          "all/Ethereum",
          "all/Mixin",
          "all/Avalanche",
          "all/Songbird",
          "all/Heiko",
          "all/Parallel",
          "all/Parallel",
          "all/Avalanche",
          "all/Ethereum",
          "all/Optimism",
          "all/Avalanche",
          "all/Binance",
          "all/Cronos",
          "all/Ethereum",
          "all/Fantom",
          "all/Polygon",
          "all/Avalanche",
          "all/Binance",
          "all/Bitcoin",
          "all/Doge",
          "all/EOS",
          "all/Ethereum",
          "all/Fantom",
          "all/LBRY",
          "all/Litecoin",
          "all/ORE",
          "all/Ravencoin",
          "all/Telos",
          "all/Avalanche",
          "all/Binance",
          "all/Celo",
          "all/Ethereum",
          "all/Optimism",
          "all/Polygon",
          "all/Arbitrum",
          "all/Avalanche",
          "all/Binance",
          "all/Ethereum",
          "all/Fantom",
          "all/Harmony",
          "all/Metis",
          "all/Moonbeam",
          "all/Moonriver",
          "all/Optimism",
          "all/Polygon",
          "all/xDai",
          "all/Solana",
          "all/Polygon",
          "all/Dogechain",
          "all/Polygon",
          "all/Arbitrum",
          "all/Arbitrum",
          "all/Ethereum",
          "all/xDai",
          "all/Fantom",
          "all/Optimism",
          "all/Ethereum",
          "all/Near",
          "all/Ethereum",
          "all/Arbitrum",
          "all/Avalanche",
          "all/Binance",
          "all/Ethereum",
          "all/Fantom",
          "all/Kava",
          "all/Optimism",
          "all/Polygon",
          "all/Solana",
          "all/Ethereum",
          "all/Telos",
          "all/Arbitrum",
          "all/Ethereum",
          "all/Polygon",
          "all/Avalanche",
          "all/Ethereum",
          "all/Solana",
          "all/Ethereum",
          "all/Ethereum",
          "all/Solana",
          "all/Arbitrum",
          "all/Ethereum",
          "all/Evmos",
          "all/Fantom",
          "all/Kava",
          "all/Optimism",
          "all/Fantom",
          "all/Ethereum",
          "all/Ethereum",
          "all/Arbitrum",
          "all/Ethereum",
          "all/Ethereum",
          "all/Icon",
          "all/Ethereum",
          "all/Cronos",
          "all/Fantom",
          "all/Moonriver",
          "all/Solana",
          "all/Binance",
          "all/Heco",
          "all/OKExChain",
          "all/Polygon",
          "all/Optimism",
          "all/Fantom",
          "all/Polygon",
          "all/Fantom",
          "all/Ethereum",
          "all/Binance",
          "all/Ethereum",
          "all/Fantom",
          "all/Hedera",
          "all/Near",
          "all/Terra2",
          "all/Binance",
          "all/Cosmos",
          "all/Ethereum",
          "all/Polygon",
          "all/Solana",
          "all/Stafi",
          "all/Klaytn",
          "all/Avalanche",
          "all/Ethereum",
          "all/Harmony",
          "all/Polygon",
          "all/Ethereum",
          "all/Arbitrum",
          "all/Avalanche",
          "all/Binance",
          "all/Ethereum",
          "all/Fantom",
          "all/Optimism",
          "all/Polygon",
          "all/Moonbeam",
          "all/Ethereum",
          "all/Ethereum",
          "all/Fantom",
          "all/Tron",
          "all/Tron",
          "all/Arbitrum",
          "all/Avalanche",
          "all/Binance",
          "all/Ethereum",
          "all/Fantom",
          "all/Moonbeam",
          "all/Optimism",
          "all/Polygon",
          "all/xDai",
          "all/Arbitrum",
          "all/Arbitrum Nova",
          "all/Avalanche",
          "all/Binance",
          "all/Boba",
          "all/Celo",
          "all/Ethereum",
          "all/Fantom",
          "all/Fuse",
          "all/Harmony",
          "all/Heco",
          "all/Moonriver",
          "all/OKExChain",
          "all/Palm",
          "all/Polygon",
          "all/Telos",
          "all/xDai",
          "all/Arbitrum",
          "all/Arbitrum",
          "all/Ethereum",
          "all/xDai",
          "all/Arbitrum",
          "all/Aurora",
          "all/Avalanche",
          "all/Binance",
          "all/Boba",
          "all/Cronos",
          "all/Ethereum",
          "all/Fantom",
          "all/Harmony",
          "all/Klaytn",
          "all/Metis",
          "all/Moonriver",
          "all/Optimism",
          "all/Polygon",
          "all/Terra",
          "all/Ethereum",
          "all/Optimism",
          "all/Fantom",
          "all/Optimism",
          "all/Avalanche",
          "all/Binance",
          "all/Ethereum",
          "all/Polygon",
          "all/Cronos",
          "all/Binance",
          "all/Ethereum",
          "all/Harmony",
          "all/Binance",
          "all/Ethereum",
          "all/Fantom",
          "all/Polygon",
          "all/Tezos",
          "all/Ethereum",
          "all/Theta",
          "all/Ethereum",
          "all/Avalanche",
          "all/Binance",
          "all/Ethereum",
          "all/Fantom",
          "all/Polygon",
          "all/Fantom",
          "all/Arbitrum",
          "all/Avalanche",
          "all/Binance",
          "all/Ethereum",
          "all/Optimism",
          "all/Polygon",
          "all/xDai",
          "all/Celo",
          "all/Polygon",
          "all/Avalanche",
          "all/Avalanche",
          "all/Binance",
          "all/Ethereum",
          "all/Aurora",
          "all/Avalanche",
          "all/Binance",
          "all/Ethereum",
          "all/Polygon",
          "all/xDai",
          "all/Ethereum",
          "all/Arbitrum",
          "all/Celo",
          "all/Ethereum",
          "all/Optimism",
          "all/Polygon",
          "all/Ethereum",
          "all/Ethereum",
          "all/Solana",
          "all/Binance",
          "all/Oasis",
          "all/Avalanche",
          "all/Optimism",
          "all/Binance",
          "all/Avalanche",
          "all/Ethereum",
          "all/Polygon",
          "all/Arbitrum",
          "all/Waves",
          "all/Ethereum",
          "all/Cronos",
          "all/Binance",
          "all/Ethereum",
          "all/Binance",
          "all/Ethereum",
          "all/OKExChain",
          "all/Ontology",
          "all/OntologyEVM",
          "all/Binance",
          "all/Binance",
          "all/Celo",
          "all/Ethereum",
          "all/Waves",
          "all/Arbitrum",
          "all/Ethereum",
          "all/Fantom",
          "all/Optimism",
          "all/Avalanche",
          "all/Avalanche",
          "all/Tezos",
          "all",
          "all",
          "all",
          "all",
          "all",
          "all",
          "all",
          "all",
          "all",
          "all",
          "all",
          "all",
          "all",
          "all",
          "all",
          "all",
          "all",
          "all",
          "all",
          "all",
          "all",
          "all",
          "all",
          "all",
          "all",
          "all",
          "all",
          "all",
          "all",
          "all",
          "all",
          "all",
          "all",
          "all",
          "all",
          "all",
          "all",
          "all",
          "all",
          "all",
          "all",
          "all",
          "all",
          "all",
          "all",
          "all",
          "all",
          "all",
          "all",
          "all",
          "all",
          "all",
          "all",
          "all",
          "all",
          "all",
          "all",
          "all",
          "all",
          "all",
          "all",
          "all",
          "all",
          "all",
          "all",
          "all",
          "all",
          "all",
          "all",
          "all",
          "all",
          "all",
          "all",
          "all",
          "all",
          "all",
          "all",
          "all",
          ""
         ],
         "root": {
          "color": "lightgrey"
         },
         "type": "treemap",
         "values": [
          4959387.878084405,
          33968302.282036796,
          5113606.4725943105,
          56572862.63926398,
          1111373065.167985,
          91401969.0912226,
          12147140.71938762,
          304660927.2349359,
          2979786.816017274,
          1702855.8995913898,
          283241115.32119316,
          1561313.1560648747,
          6809424.725026279,
          34144634.24180921,
          18544894.58353462,
          226376.2852617636,
          114.68085297037715,
          8167.317831118403,
          3798959.75586004,
          2041603.2869783859,
          111866.10326125841,
          384108.1289274066,
          6184.248894783145,
          89713.70362868965,
          5975.080328879509,
          371859.9182716368,
          31643.458052270966,
          5559108.734994087,
          1264840.1129247611,
          516671.4056158163,
          1738662.320229272,
          24827249.898914877,
          15688024.290246572,
          85194811.6099152,
          2419643.51691407,
          1492.1084464247217,
          27173144.43356981,
          272412.9285105676,
          29021.69822360107,
          40805.87473789615,
          31692269.663975134,
          1545783.5819257249,
          728.524482905052,
          356.1802728360389,
          3902.6223910691147,
          10148.148220842442,
          17035822.319346037,
          10806.576164377448,
          5106696.862284979,
          3837496.687084943,
          1932804.7973555892,
          1089108.4033040141,
          840726251.6120048,
          2090905.7384280635,
          2207167.2613337855,
          3013142.125204053,
          579352.8462848967,
          2039229.0271600727,
          180602794.43818146,
          22220814.933773465,
          2802340.0707016047,
          119176.57338424961,
          47502653.42779728,
          693622.2891643136,
          15422140.68282107,
          13862068.808639923,
          3573823.1378783234,
          20238891.890280947,
          43432096.11256913,
          23550245.88399223,
          4947473.30118409,
          34462765.79801165,
          9298110.329510583,
          479628.93309543486,
          11082760.825673416,
          15888065.58972637,
          38100.61418509629,
          4250385.536281404,
          5637471.796853724,
          25843079.99550253,
          512797.49286684755,
          13496.68758454432,
          3392.311825928954,
          220950.84260712055,
          34702.533891954634,
          1702069.348518652,
          349398.35969221574,
          234489.6888558431,
          7688487.011206022,
          18401372.27745392,
          14475279.867850464,
          11607953.450869208,
          8456994.918647967,
          331512.92914269335,
          523320.91856966534,
          22929847.895157713,
          78197658.76628469,
          2415536.281502684,
          74697.37455577032,
          632864.1706041367,
          148742.3044076556,
          693508.3371769886,
          123148.94980609682,
          82.723499998984,
          12481935.486952,
          22441342.861276794,
          34455598.64686536,
          10631840.749660647,
          10872161.01160714,
          8717306.248377213,
          2873995.198260511,
          873364.212375274,
          5910852.088907672,
          2741214.1943079,
          13625.819989244052,
          4378267.378015511,
          4891941.08362249,
          4127408.6471117167,
          173311.49087819582,
          2141681.036803687,
          6113773.280263016,
          54699.09578056117,
          0.11914421668382147,
          5048242.694955398,
          108798.52371578311,
          54954864.703874364,
          14810335.575896986,
          465165.34390939894,
          2400995.978173552,
          4938924.041190336,
          16906.533133940018,
          290636.8888021247,
          23716.673687099796,
          242940.2283382194,
          349238.1391109363,
          378874873.67622113,
          4597968.500556823,
          7517507.940916751,
          789460562.477547,
          274968394.7818108,
          23155053.270337254,
          620355.1036685505,
          804729.9328413949,
          507229.8462290183,
          550277.9181082451,
          993534.0878854204,
          1125649.5841945333,
          4490.377129999986,
          1361429.4116631423,
          607329.4381265421,
          802.80116,
          4743.363369999981,
          245.97853999998424,
          90958.91398211171,
          1422239.386482387,
          1334163.4498669254,
          834779.034986342,
          19948269.550720904,
          1474041405.6967223,
          44435.25604684913,
          2699663.7195801744,
          16.545929128600257,
          84508.03407427792,
          14828862.291965533,
          131.29050199785667,
          59685233.506547466,
          1429561720.6370513,
          25499880.103081916,
          13040864.30095942,
          28982.990265131768,
          9199940.27706093,
          23721636.281898823,
          77380668.52051498,
          4423616.413288259,
          5026885.867552479,
          712386.603165989,
          499457.4212969135,
          18642.64883998274,
          16688191.029582793,
          795887.2265222187,
          12849971.689133942,
          936526.2924691486,
          12429288.276945094,
          604.01655,
          2737892.0902577075,
          2504791.356099528,
          1017542.2922272321,
          2797722.9198702048,
          2193587.1193626653,
          4357.659088666573,
          0.4728315984003571,
          1265926.565290377,
          82.58694442232573,
          5.874680697297717,
          192553.70395670272,
          269685.3646951023,
          7170270.843350338,
          333.13555655246904,
          22354.174518631724,
          1380089.188124797,
          377390.5468832112,
          527.5813858339625,
          157033.55884644794,
          4.481460702358045,
          15749.191722397029,
          25702.781914417123,
          26443308.594627805,
          12768024.662870053,
          32154.785129801545,
          1634713.5275376078,
          25350638.136433546,
          206437.1393689172,
          2089155.901360189,
          158.5437841350368,
          20916463.3352478,
          55.5702722288025,
          7.085055168168912,
          736234.7970054348,
          822340.9684786461,
          446339.80929756537,
          1343.0875650129447,
          159280.76838140815,
          1977.7127963476894,
          7198704.360536074,
          9586673.539429417,
          390227.2274308075,
          99568523.8132581,
          205.6734294232714,
          44775373.44617085,
          2296756.244534959,
          1504398.3889197034,
          372558.6330623782,
          133191.36824083427,
          54801116.3796765,
          1342288.9584063806,
          1975029.2096983802,
          1848560.9037404705,
          88935568.07957463,
          11315306.234752074,
          107519856.02974398,
          58723632.04907458,
          155202839.01395804,
          13574847.103021203,
          13095.296595786067,
          11691517.737534853,
          457816.14911549294,
          266305.871515074,
          1563262.3686475046,
          639773.636852061,
          4231893.144418617,
          110798.89378660561,
          2195963.5977456225,
          507312600.139522,
          113198.72937621441,
          1282608.6262847388,
          2954806.975322251,
          6455242.786494358,
          100466.56227259224,
          8591788.933939857,
          1877246.7512666252,
          7880796.640677936,
          7057603.167077045,
          14321204.77574616,
          6527622.209246451,
          2822221.369153391,
          595158.92978247,
          4024795.6977032456,
          2623313.2011846476,
          306682.21895358653,
          12890599.286196452,
          55519.789715014376,
          1954814.7989443087,
          553207875.8395188,
          619821.2095155253,
          962753.6973082426,
          1480724.3451319584,
          1168952.535467961,
          878467.5859422532,
          5596856.014708745,
          65237.32611408994,
          9638945.360170802,
          1338515.872407655,
          4780440.675690924,
          295239073.64176077,
          48529.351355000115,
          4034152.534424506,
          5230605.899559242,
          16781627.735133775,
          3988169.874714211,
          27763936.108933166,
          707054.2602295222,
          21834051.836639203,
          49970973.25935176,
          32116894.02346774,
          666300.4883289905,
          7946461.393064831,
          677229.2248875361,
          7093623.007317168,
          3738462.0805740193,
          2826357.245858676,
          45973.232896732574,
          23102.805224524793,
          16914703.934907686,
          287578.3292371636,
          242871.79647784372,
          4264341.697536262,
          1337834.1309031579,
          0.001430650048969806,
          697571231.2503567,
          4489272.974674064,
          675266.5187559084,
          25032090.73828243,
          49393.48344356348,
          6984976.765326831,
          2348926.1965471692,
          208236.99281058734,
          8977510.507650392,
          31889315.185986005,
          1410762.296164291,
          37909034.27580448,
          54467177.001543604,
          170374.67620435896,
          5623281.759655094,
          4986143.018875661,
          21079032.82420642,
          1348076786.4004867,
          49222450.759385526,
          4270782.267862112,
          24421905.188323114,
          7733408.055900886,
          10192857.596474368,
          15809981.09923282,
          25643224.162995197,
          521674.7531179447,
          458194.02353266365,
          83460.48093652503,
          771902.3456926445,
          1883788.431127115,
          25570697.171694957,
          980977.7523083269,
          592603.7615934284,
          1426033.9253832004,
          25473504.111560278,
          7151255.281136108,
          120313838.65481319,
          691553.2085013827,
          25172840.005824674,
          2562372.1556330067,
          5902408.120264301,
          306750.42805705534,
          534706.5497558076,
          287204.0781352261,
          3461814.5885703247,
          472701.74000118824,
          57197067.1062821,
          584246.6634047048,
          7128716.084767332,
          925401.1790236044,
          25664524.984012485,
          25095743.412697155,
          352.58243393856105,
          82680.06874761022,
          12418363.827575097,
          2903371.691738385,
          64208696.44276587,
          140682.7688476198,
          31108994.885950234,
          930416.0037556842,
          1398102.382155696,
          19.71869133521397,
          63020138.225180954,
          161800.29821711362,
          721100.5943380672,
          261966.6166140502,
          11315918.86525199,
          2474392.9356927723,
          37272918.131115265,
          4347000.156924541,
          21010.122979463573,
          5412950.598062769,
          155220.2123351777,
          11975240.36009226,
          205283915.03863418,
          2134311.8390998645,
          31733949.523093726,
          5246451.166929331,
          281643.49474184855,
          1735495.6606960015,
          2506668.0316147474,
          107517.10930003758,
          247806.61985390313,
          3760038.482670271,
          4607541.240610161,
          148258.83062028512,
          25847196.553607166,
          6135.533672619907,
          25664.59851355078,
          3642.7342754968045,
          54467.93125488717,
          106912952.1396397,
          10551150.235579582,
          4916824.2985477485,
          32061.06020275624,
          1237072.110519459,
          37436575.68939069,
          0.9421104273559707,
          23560.645266430176,
          327362.7185608914,
          1096991.7873410042,
          1460.7295733648346,
          7566709.066681234,
          159036.74782820273,
          211.8545655424417,
          28543.02054861279,
          4934934.933991044,
          1658792.85002897,
          9084028.083001537,
          1150478.138739229,
          174482.86197728614,
          221210.18040083264,
          5346881.741285603,
          3927195.4559626826,
          1488.6195077505595,
          914394.6210069994,
          7415.865983742053,
          823.7014626982283,
          2451448.477686758,
          14337542.322965544,
          672973.0217747369,
          48589462.94042212,
          115602971.96839839,
          44251.75046256351,
          8889277.746303897,
          35147225.70080089,
          5240.096789237232,
          13020581.124348842,
          7713067.802152565,
          1224083.0966057528,
          13774517.416337047,
          3850231.093729347,
          156914964.7098562,
          4136759.973064888,
          6558009.923068084,
          1368859.0225741938,
          1402474.1359139734,
          35226842.61641125,
          1704245.9804288296,
          5.52434,
          13602.460816093935,
          2302598.8661064133,
          2938081.1560871718,
          14275083.965252768,
          1493539.9150678029,
          133741.4289284791,
          3997934.4268181487,
          57295.34134991697,
          78594.62203862234,
          22893527.648452744,
          196842.62911831358,
          11966162.821416438,
          174570211.93870467,
          33205908.097326897,
          1835484.8632535776,
          20533229.180278867,
          859.4440142530677,
          678.5882452942739,
          106.53111967565647,
          1151087.53452729,
          11993.988942958682,
          3564714.661710164,
          7.645935500402677,
          15094919.714139683,
          845183.7266700674,
          16561336.7113824,
          4462534.317653585,
          17834311.40954436,
          1562698.939576282,
          687348.819227792,
          2489497.602328633,
          183567432.06231213,
          7850158.025350879,
          1334615.0352003924,
          44146.246559966465,
          56576.81282377921,
          11310180.829510307,
          308615.5014145998,
          1986848.8853171738,
          25652229.06228996,
          30678858.831888128,
          6971843.112494014,
          20865043.76050643,
          1973459.5212505648,
          34716742.44168006,
          4751482.83,
          923992.1259337636,
          3938.0275999999953,
          569349.927,
          12445.692268575898,
          1584.2412257195247,
          1068.7310999999997,
          5334.097600000007,
          17772907.045800608,
          1067015.3764203805,
          56934379.05173854,
          32240.561299569246,
          3638583.53050865,
          7430174.312151636,
          23503365.983748876,
          42129571.06091097,
          1251390.9341574695,
          30117984.76758094,
          4526348.344401674,
          7333353.705491814,
          32930320.26601159,
          18062940.206431065,
          670633.6704167828,
          4080776.039663148,
          570541.1859902804,
          266312550.64366588,
          314318733.9029943,
          379696.4946577394,
          36392.2084357669,
          3656.949258504955,
          180355827.2449337,
          48591.160100050074,
          0.06091000000000002,
          76.79551510944307,
          302877.32033115986,
          190.09785484039094,
          1500639.9439466482,
          308991.34407044185,
          8039498.701189594,
          302198.00781930133,
          1983677.2287730277,
          381653.21171899076,
          154193379.58839244,
          97496.03988054513,
          89221.47415614016,
          7293861.157626764,
          2273.2617851080536,
          219728.47428221523,
          1757.3940517333854,
          326.9757858353329,
          22081768.982603066,
          12416.935240824103,
          5155484.91824283,
          15783788.09405886,
          264979.0025259726,
          29862.190542781478,
          372588.8062521305,
          4046805.6003153706,
          474.7587000486109,
          5361202.4419611925,
          5543139.873281383,
          1183999.8414857946,
          126042.5471640447,
          28642113.847052388,
          8563682.770475449,
          4735012.98968893,
          464129.2736491584,
          1525882.5279170761,
          780.5752686849894,
          2713486.359049409,
          7463716.292582708,
          214.60180966290875,
          11362510.979425156,
          18853287.118095532,
          8093455.087071161,
          1268011.2189835599,
          93149.54548623262,
          18709214.101966973,
          32755370.846036475,
          528255.786021837,
          42357414.8999697,
          786279.0049312914,
          9941249.080505826,
          2468.38732693248,
          732184.1863818333,
          285756.7918800737,
          2004795.7673455793,
          31255776.481448907,
          2935898.5379631254,
          8550276.97313152,
          3246077.8025249885,
          15261813.154362846,
          0.6919094864780354,
          1770179.626322339,
          791868.7433725762,
          327.68597299040346,
          883801.8398357299,
          3596373.084902578,
          37018.16250088888,
          3713.1,
          7609527.880000005,
          3870111.3082052595,
          1067.561000000001,
          203482.61609999996,
          129435.984,
          40353.78,
          2051806.4970000002,
          80517287.58113314,
          2004285.9724734416,
          34278168.84401161,
          51674.96415617525,
          13047457.375337552,
          64220.166039506264,
          40900570.85323726,
          12164473.903584324,
          334866.15770171676,
          2.3024199999999837,
          278190955.42234856,
          547938.3387924973,
          175622.92120557665,
          1323282698.215407,
          8702232.324332153,
          30199044.807642262,
          317571.5731117109,
          39400501.95171461,
          1012185.8610699994,
          9010892.993711075,
          3653263.661586516,
          72156132.30188061,
          11513439.550201181,
          184058114.15371767,
          282567.0804358172,
          8474490.46014451,
          193024.0265867473,
          5083261.255323802,
          59715615.64325454,
          4605686.871504737,
          228828080.0464358,
          13123182.213729015,
          821269351.0098524,
          1495397.3577101044,
          60727.624651827995,
          19689.964097458855,
          12922991.146437965,
          499282.80084847467,
          46270754.18598798,
          84805664.32279389,
          780778.2777305477,
          725274.0000003288,
          9127027.603813652,
          83376.86236213215,
          118905457.75353785,
          4514825.150678483,
          155144.76390786585,
          52673962.74332984,
          14259620.014456363,
          14664872.914937055,
          40954058.96683549,
          42316263.712756544,
          34196055.293865725,
          369698687.40594584,
          308991.34407044185,
          4751919.126286295,
          48863822.36802196,
          957277774.7936863,
          12482018.210451998,
          1012997394.0349491,
          12050543.368282234,
          45973.232896732574,
          3752590.931335775,
          19589467.25998435,
          1883788.431127115,
          10159790.487845924,
          569349.927,
          326698512.3646496,
          17484078.256105013,
          32061.06020275624,
          177443.11870339778,
          3371243.0593539802,
          736234.7970054348,
          21079032.82420642,
          14549806514.87762,
          12418363.827575097,
          5349.821144253054,
          236807240.26729748,
          1209348.4051495297,
          17916347.581178214,
          10330476.30441308,
          34716742.44168006,
          1735495.6606960015,
          4462534.317653585,
          446339.80929756537,
          67026266.81736661,
          123526525.9016223,
          592603.7615934284,
          356.1802728360389,
          23560.645266430176,
          327362.7185608914,
          6673086.871397471,
          4747.844830702339,
          65702251.80513053,
          33530642.29347293,
          29306091.881445758,
          7671406.100537263,
          196643720.9398395,
          2984714.9610015387,
          1096991.7873410042,
          4130625.1469202028,
          12922991.146437965,
          499282.80084847467,
          441146986.3898163,
          37272918.131115265,
          326.9757858353329,
          2614185.1409147847,
          3902.6223910691147,
          540268606.6073365,
          159280.76838140815,
          1426033.9253832004,
          1460.7295733648346,
          11315918.86525199,
          4034152.534424506,
          54699.09578056117,
          359246228.94065124,
          281643.49474184855,
          5334.097600000007,
          12910162.604074804,
          628960.931538123,
          2963221.1530938363,
          17600771.45290018,
          3246077.8025249885,
          875918887.5397758,
          0.001430650048969806,
          126039710.3533503,
          18642.64883998274,
          92896141.14339823,
          20894049331.243237
         ]
        }
       ],
       "layout": {
        "coloraxis": {
         "colorbar": {
          "title": {
           "text": "flow_direction_365d"
          }
         },
         "colorscale": [
          [
           0,
           "rgb(158,1,66)"
          ],
          [
           0.1,
           "rgb(213,62,79)"
          ],
          [
           0.2,
           "rgb(244,109,67)"
          ],
          [
           0.3,
           "rgb(253,174,97)"
          ],
          [
           0.4,
           "rgb(254,224,139)"
          ],
          [
           0.5,
           "rgb(255,255,191)"
          ],
          [
           0.6,
           "rgb(230,245,152)"
          ],
          [
           0.7,
           "rgb(171,221,164)"
          ],
          [
           0.8,
           "rgb(102,194,165)"
          ],
          [
           0.9,
           "rgb(50,136,189)"
          ],
          [
           1,
           "rgb(94,79,162)"
          ]
         ]
        },
        "legend": {
         "tracegroupgap": 0
        },
        "margin": {
         "b": 25,
         "l": 25,
         "r": 25,
         "t": 50
        },
        "template": {
         "data": {
          "bar": [
           {
            "error_x": {
             "color": "#2a3f5f"
            },
            "error_y": {
             "color": "#2a3f5f"
            },
            "marker": {
             "line": {
              "color": "#E5ECF6",
              "width": 0.5
             },
             "pattern": {
              "fillmode": "overlay",
              "size": 10,
              "solidity": 0.2
             }
            },
            "type": "bar"
           }
          ],
          "barpolar": [
           {
            "marker": {
             "line": {
              "color": "#E5ECF6",
              "width": 0.5
             },
             "pattern": {
              "fillmode": "overlay",
              "size": 10,
              "solidity": 0.2
             }
            },
            "type": "barpolar"
           }
          ],
          "carpet": [
           {
            "aaxis": {
             "endlinecolor": "#2a3f5f",
             "gridcolor": "white",
             "linecolor": "white",
             "minorgridcolor": "white",
             "startlinecolor": "#2a3f5f"
            },
            "baxis": {
             "endlinecolor": "#2a3f5f",
             "gridcolor": "white",
             "linecolor": "white",
             "minorgridcolor": "white",
             "startlinecolor": "#2a3f5f"
            },
            "type": "carpet"
           }
          ],
          "choropleth": [
           {
            "colorbar": {
             "outlinewidth": 0,
             "ticks": ""
            },
            "type": "choropleth"
           }
          ],
          "contour": [
           {
            "colorbar": {
             "outlinewidth": 0,
             "ticks": ""
            },
            "colorscale": [
             [
              0,
              "#0d0887"
             ],
             [
              0.1111111111111111,
              "#46039f"
             ],
             [
              0.2222222222222222,
              "#7201a8"
             ],
             [
              0.3333333333333333,
              "#9c179e"
             ],
             [
              0.4444444444444444,
              "#bd3786"
             ],
             [
              0.5555555555555556,
              "#d8576b"
             ],
             [
              0.6666666666666666,
              "#ed7953"
             ],
             [
              0.7777777777777778,
              "#fb9f3a"
             ],
             [
              0.8888888888888888,
              "#fdca26"
             ],
             [
              1,
              "#f0f921"
             ]
            ],
            "type": "contour"
           }
          ],
          "contourcarpet": [
           {
            "colorbar": {
             "outlinewidth": 0,
             "ticks": ""
            },
            "type": "contourcarpet"
           }
          ],
          "heatmap": [
           {
            "colorbar": {
             "outlinewidth": 0,
             "ticks": ""
            },
            "colorscale": [
             [
              0,
              "#0d0887"
             ],
             [
              0.1111111111111111,
              "#46039f"
             ],
             [
              0.2222222222222222,
              "#7201a8"
             ],
             [
              0.3333333333333333,
              "#9c179e"
             ],
             [
              0.4444444444444444,
              "#bd3786"
             ],
             [
              0.5555555555555556,
              "#d8576b"
             ],
             [
              0.6666666666666666,
              "#ed7953"
             ],
             [
              0.7777777777777778,
              "#fb9f3a"
             ],
             [
              0.8888888888888888,
              "#fdca26"
             ],
             [
              1,
              "#f0f921"
             ]
            ],
            "type": "heatmap"
           }
          ],
          "heatmapgl": [
           {
            "colorbar": {
             "outlinewidth": 0,
             "ticks": ""
            },
            "colorscale": [
             [
              0,
              "#0d0887"
             ],
             [
              0.1111111111111111,
              "#46039f"
             ],
             [
              0.2222222222222222,
              "#7201a8"
             ],
             [
              0.3333333333333333,
              "#9c179e"
             ],
             [
              0.4444444444444444,
              "#bd3786"
             ],
             [
              0.5555555555555556,
              "#d8576b"
             ],
             [
              0.6666666666666666,
              "#ed7953"
             ],
             [
              0.7777777777777778,
              "#fb9f3a"
             ],
             [
              0.8888888888888888,
              "#fdca26"
             ],
             [
              1,
              "#f0f921"
             ]
            ],
            "type": "heatmapgl"
           }
          ],
          "histogram": [
           {
            "marker": {
             "pattern": {
              "fillmode": "overlay",
              "size": 10,
              "solidity": 0.2
             }
            },
            "type": "histogram"
           }
          ],
          "histogram2d": [
           {
            "colorbar": {
             "outlinewidth": 0,
             "ticks": ""
            },
            "colorscale": [
             [
              0,
              "#0d0887"
             ],
             [
              0.1111111111111111,
              "#46039f"
             ],
             [
              0.2222222222222222,
              "#7201a8"
             ],
             [
              0.3333333333333333,
              "#9c179e"
             ],
             [
              0.4444444444444444,
              "#bd3786"
             ],
             [
              0.5555555555555556,
              "#d8576b"
             ],
             [
              0.6666666666666666,
              "#ed7953"
             ],
             [
              0.7777777777777778,
              "#fb9f3a"
             ],
             [
              0.8888888888888888,
              "#fdca26"
             ],
             [
              1,
              "#f0f921"
             ]
            ],
            "type": "histogram2d"
           }
          ],
          "histogram2dcontour": [
           {
            "colorbar": {
             "outlinewidth": 0,
             "ticks": ""
            },
            "colorscale": [
             [
              0,
              "#0d0887"
             ],
             [
              0.1111111111111111,
              "#46039f"
             ],
             [
              0.2222222222222222,
              "#7201a8"
             ],
             [
              0.3333333333333333,
              "#9c179e"
             ],
             [
              0.4444444444444444,
              "#bd3786"
             ],
             [
              0.5555555555555556,
              "#d8576b"
             ],
             [
              0.6666666666666666,
              "#ed7953"
             ],
             [
              0.7777777777777778,
              "#fb9f3a"
             ],
             [
              0.8888888888888888,
              "#fdca26"
             ],
             [
              1,
              "#f0f921"
             ]
            ],
            "type": "histogram2dcontour"
           }
          ],
          "mesh3d": [
           {
            "colorbar": {
             "outlinewidth": 0,
             "ticks": ""
            },
            "type": "mesh3d"
           }
          ],
          "parcoords": [
           {
            "line": {
             "colorbar": {
              "outlinewidth": 0,
              "ticks": ""
             }
            },
            "type": "parcoords"
           }
          ],
          "pie": [
           {
            "automargin": true,
            "type": "pie"
           }
          ],
          "scatter": [
           {
            "fillpattern": {
             "fillmode": "overlay",
             "size": 10,
             "solidity": 0.2
            },
            "type": "scatter"
           }
          ],
          "scatter3d": [
           {
            "line": {
             "colorbar": {
              "outlinewidth": 0,
              "ticks": ""
             }
            },
            "marker": {
             "colorbar": {
              "outlinewidth": 0,
              "ticks": ""
             }
            },
            "type": "scatter3d"
           }
          ],
          "scattercarpet": [
           {
            "marker": {
             "colorbar": {
              "outlinewidth": 0,
              "ticks": ""
             }
            },
            "type": "scattercarpet"
           }
          ],
          "scattergeo": [
           {
            "marker": {
             "colorbar": {
              "outlinewidth": 0,
              "ticks": ""
             }
            },
            "type": "scattergeo"
           }
          ],
          "scattergl": [
           {
            "marker": {
             "colorbar": {
              "outlinewidth": 0,
              "ticks": ""
             }
            },
            "type": "scattergl"
           }
          ],
          "scattermapbox": [
           {
            "marker": {
             "colorbar": {
              "outlinewidth": 0,
              "ticks": ""
             }
            },
            "type": "scattermapbox"
           }
          ],
          "scatterpolar": [
           {
            "marker": {
             "colorbar": {
              "outlinewidth": 0,
              "ticks": ""
             }
            },
            "type": "scatterpolar"
           }
          ],
          "scatterpolargl": [
           {
            "marker": {
             "colorbar": {
              "outlinewidth": 0,
              "ticks": ""
             }
            },
            "type": "scatterpolargl"
           }
          ],
          "scatterternary": [
           {
            "marker": {
             "colorbar": {
              "outlinewidth": 0,
              "ticks": ""
             }
            },
            "type": "scatterternary"
           }
          ],
          "surface": [
           {
            "colorbar": {
             "outlinewidth": 0,
             "ticks": ""
            },
            "colorscale": [
             [
              0,
              "#0d0887"
             ],
             [
              0.1111111111111111,
              "#46039f"
             ],
             [
              0.2222222222222222,
              "#7201a8"
             ],
             [
              0.3333333333333333,
              "#9c179e"
             ],
             [
              0.4444444444444444,
              "#bd3786"
             ],
             [
              0.5555555555555556,
              "#d8576b"
             ],
             [
              0.6666666666666666,
              "#ed7953"
             ],
             [
              0.7777777777777778,
              "#fb9f3a"
             ],
             [
              0.8888888888888888,
              "#fdca26"
             ],
             [
              1,
              "#f0f921"
             ]
            ],
            "type": "surface"
           }
          ],
          "table": [
           {
            "cells": {
             "fill": {
              "color": "#EBF0F8"
             },
             "line": {
              "color": "white"
             }
            },
            "header": {
             "fill": {
              "color": "#C8D4E3"
             },
             "line": {
              "color": "white"
             }
            },
            "type": "table"
           }
          ]
         },
         "layout": {
          "annotationdefaults": {
           "arrowcolor": "#2a3f5f",
           "arrowhead": 0,
           "arrowwidth": 1
          },
          "autotypenumbers": "strict",
          "coloraxis": {
           "colorbar": {
            "outlinewidth": 0,
            "ticks": ""
           }
          },
          "colorscale": {
           "diverging": [
            [
             0,
             "#8e0152"
            ],
            [
             0.1,
             "#c51b7d"
            ],
            [
             0.2,
             "#de77ae"
            ],
            [
             0.3,
             "#f1b6da"
            ],
            [
             0.4,
             "#fde0ef"
            ],
            [
             0.5,
             "#f7f7f7"
            ],
            [
             0.6,
             "#e6f5d0"
            ],
            [
             0.7,
             "#b8e186"
            ],
            [
             0.8,
             "#7fbc41"
            ],
            [
             0.9,
             "#4d9221"
            ],
            [
             1,
             "#276419"
            ]
           ],
           "sequential": [
            [
             0,
             "#0d0887"
            ],
            [
             0.1111111111111111,
             "#46039f"
            ],
            [
             0.2222222222222222,
             "#7201a8"
            ],
            [
             0.3333333333333333,
             "#9c179e"
            ],
            [
             0.4444444444444444,
             "#bd3786"
            ],
            [
             0.5555555555555556,
             "#d8576b"
            ],
            [
             0.6666666666666666,
             "#ed7953"
            ],
            [
             0.7777777777777778,
             "#fb9f3a"
            ],
            [
             0.8888888888888888,
             "#fdca26"
            ],
            [
             1,
             "#f0f921"
            ]
           ],
           "sequentialminus": [
            [
             0,
             "#0d0887"
            ],
            [
             0.1111111111111111,
             "#46039f"
            ],
            [
             0.2222222222222222,
             "#7201a8"
            ],
            [
             0.3333333333333333,
             "#9c179e"
            ],
            [
             0.4444444444444444,
             "#bd3786"
            ],
            [
             0.5555555555555556,
             "#d8576b"
            ],
            [
             0.6666666666666666,
             "#ed7953"
            ],
            [
             0.7777777777777778,
             "#fb9f3a"
            ],
            [
             0.8888888888888888,
             "#fdca26"
            ],
            [
             1,
             "#f0f921"
            ]
           ]
          },
          "colorway": [
           "#636efa",
           "#EF553B",
           "#00cc96",
           "#ab63fa",
           "#FFA15A",
           "#19d3f3",
           "#FF6692",
           "#B6E880",
           "#FF97FF",
           "#FECB52"
          ],
          "font": {
           "color": "#2a3f5f"
          },
          "geo": {
           "bgcolor": "white",
           "lakecolor": "white",
           "landcolor": "#E5ECF6",
           "showlakes": true,
           "showland": true,
           "subunitcolor": "white"
          },
          "hoverlabel": {
           "align": "left"
          },
          "hovermode": "closest",
          "mapbox": {
           "style": "light"
          },
          "paper_bgcolor": "white",
          "plot_bgcolor": "#E5ECF6",
          "polar": {
           "angularaxis": {
            "gridcolor": "white",
            "linecolor": "white",
            "ticks": ""
           },
           "bgcolor": "#E5ECF6",
           "radialaxis": {
            "gridcolor": "white",
            "linecolor": "white",
            "ticks": ""
           }
          },
          "scene": {
           "xaxis": {
            "backgroundcolor": "#E5ECF6",
            "gridcolor": "white",
            "gridwidth": 2,
            "linecolor": "white",
            "showbackground": true,
            "ticks": "",
            "zerolinecolor": "white"
           },
           "yaxis": {
            "backgroundcolor": "#E5ECF6",
            "gridcolor": "white",
            "gridwidth": 2,
            "linecolor": "white",
            "showbackground": true,
            "ticks": "",
            "zerolinecolor": "white"
           },
           "zaxis": {
            "backgroundcolor": "#E5ECF6",
            "gridcolor": "white",
            "gridwidth": 2,
            "linecolor": "white",
            "showbackground": true,
            "ticks": "",
            "zerolinecolor": "white"
           }
          },
          "shapedefaults": {
           "line": {
            "color": "#2a3f5f"
           }
          },
          "ternary": {
           "aaxis": {
            "gridcolor": "white",
            "linecolor": "white",
            "ticks": ""
           },
           "baxis": {
            "gridcolor": "white",
            "linecolor": "white",
            "ticks": ""
           },
           "bgcolor": "#E5ECF6",
           "caxis": {
            "gridcolor": "white",
            "linecolor": "white",
            "ticks": ""
           }
          },
          "title": {
           "x": 0.05
          },
          "xaxis": {
           "automargin": true,
           "gridcolor": "white",
           "linecolor": "white",
           "ticks": "",
           "title": {
            "standoff": 15
           },
           "zerolinecolor": "white",
           "zerolinewidth": 2
          },
          "yaxis": {
           "automargin": true,
           "gridcolor": "white",
           "linecolor": "white",
           "ticks": "",
           "title": {
            "standoff": 15
           },
           "zerolinecolor": "white",
           "zerolinewidth": 2
          }
         }
        },
        "title": {
         "text": "App Net Flows Change by App -> Chain - Last 365 Days - (Apps with > $10.0M TVL Shown)"
        }
       }
      }
     },
     "metadata": {},
     "output_type": "display_data"
    }
   ],
   "source": [
    "\n",
    "# summary_df['flow_direction'] = np.where(summary_df['cumul_net_dollar_flow']>=0,1,-1)\n",
    "# summary_df['flow_direction_7d'] = np.where(summary_df['cumul_net_dollar_flow_7d']>=0,1,-1)\n",
    "# summary_df['abs_cumul_net_dollar_flow'] = abs(summary_df['cumul_net_dollar_flow'])\n",
    "# summary_df['abs_cumul_net_dollar_flow_7d'] = abs(summary_df['cumul_net_dollar_flow_7d'])\n",
    "\n",
    "# display(summary_df)\n",
    "# print(summary_df[summary_df['chain']=='Arbitrum'])\n",
    "# print(summary_df[summary_df['chain']=='Optimism'])\n",
    "# display(summary_df)\n",
    "# fig = px.treemap(summary_df[summary_df['abs_cumul_net_dollar_flow'] !=0], \\\n",
    "#                  path=[px.Constant(\"all\"), 'chain', 'protocol'], \\\n",
    "# #                  path=[px.Constant(\"all\"), 'token', 'chain', 'protocol'], \\\n",
    "#                  values='abs_cumul_net_dollar_flow', color='flow_direction'\n",
    "# #                 ,color_discrete_map={'-1':'red', '1':'green'})\n",
    "#                 ,color_continuous_scale='Spectral'\n",
    "#                      , title = \"App Net Flows Change by App -> Chain - Last \" + str(trailing_num_days) + \\\n",
    "#                             \" Days - (Apps with > $\" + str(min_tvl/1e6) + \"M TVL Shown)\"\n",
    "                \n",
    "#                 ,hover_data=['cumul_net_dollar_flow']\n",
    "#                 )\n",
    "# # fig.data[0].textinfo = 'label+text+value'\n",
    "# fig.update_traces(root_color=\"lightgrey\")\n",
    "# fig.update_layout(margin = dict(t=50, l=25, r=25, b=25))\n",
    "# # fig.update_layout(tickprefix = '$')\n",
    "\n",
    "# fig_7d = px.treemap(summary_df[summary_df['abs_cumul_net_dollar_flow_7d'] !=0], \\\n",
    "#                  path=[px.Constant(\"all\"), 'chain', 'protocol'], \\\n",
    "# #                  path=[px.Constant(\"all\"), 'token', 'chain', 'protocol'], \\\n",
    "#                  values='abs_cumul_net_dollar_flow_7d', color='flow_direction_7d'\n",
    "# #                 ,color_discrete_map={'-1':'red', '1':'green'})\n",
    "#                 ,color_continuous_scale='Spectral'\n",
    "#                      , title = \"App Net Flows Change by App -> Chain - Last \" + str(7) + \\\n",
    "#                             \" Days - (Apps with > $\" + str(min_tvl/1e6) + \"M TVL Shown)\"\n",
    "                \n",
    "#                 # ,hover_data=['cumul_net_dollar_flow_7d']\n",
    "#                 )\n",
    "# fig_7d.update_traces(root_color=\"lightgrey\")\n",
    "# fig_7d.update_layout(margin = dict(t=50, l=25, r=25, b=25))\n",
    "\n",
    "# fig_7d.show()\n",
    "\n",
    "fig_app = px.treemap(summary_df[summary_df['abs_cumul_net_dollar_flow'] !=0], \\\n",
    "                #  path=[px.Constant(\"all\"), 'chain', 'protocol'], \\\n",
    "#                  path=[px.Constant(\"all\"), 'token', 'chain', 'protocol'], \\\n",
    "                        path=[px.Constant(\"all\"), 'protocol','chain'], \\\n",
    "                 values='abs_cumul_net_dollar_flow', color='flow_direction'\n",
    "#                 ,color_discrete_map={'-1':'red', '1':'green'})\n",
    "                ,color_continuous_scale='Spectral'\n",
    "                , title = \"App Net Flows Change by Chain -> App - Last \" + str(trailing_num_days) + \\\n",
    "                            \" Days - (Apps with > $\" + str(min_tvl/1e6) + \"M TVL Shown)\"\n",
    "                ,hover_data=['cumul_net_dollar_flow']\n",
    "                )\n",
    "# fig.data[0].textinfo = 'label+text+value'\n",
    "fig_app.update_traces(root_color=\"lightgrey\")\n",
    "fig_app.update_layout(margin = dict(t=50, l=25, r=25, b=25))\n",
    "fig.show()"
   ]
  },
  {
   "cell_type": "code",
   "execution_count": 27,
   "id": "71c722ff",
   "metadata": {},
   "outputs": [],
   "source": [
    "# fig.write_image(prepend + \"img_outputs/svg/net_app_flows.svg\") #prepend + \n",
    "# fig.write_image(prepend + \"img_outputs/png/net_app_flows.png\") #prepend + \n",
    "# fig.write_html(prepend + \"img_outputs/net_app_flows.html\", include_plotlyjs='cdn')\n",
    "\n",
    "# fig_7d.write_image(prepend + \"img_outputs/svg/net_app_flows_7d.svg\") #prepend + \n",
    "# fig_7d.write_image(prepend + \"img_outputs/png/net_app_flows_7d.png\") #prepend + \n",
    "# fig_7d.write_html(prepend + \"img_outputs/net_app_flows_7d.html\", include_plotlyjs='cdn')\n",
    "\n",
    "fig_app.write_image(prepend + \"img_outputs/svg/net_app_flows_by_app.svg\") #prepend + \n",
    "fig_app.write_image(prepend + \"img_outputs/png/net_app_flows_by_app.png\") #prepend + \n",
    "fig_app.write_html(prepend + \"img_outputs/net_app_flows_by_app.html\", include_plotlyjs='cdn')\n"
   ]
  },
  {
   "cell_type": "code",
   "execution_count": 28,
   "id": "9f573693",
   "metadata": {},
   "outputs": [],
   "source": [
    "# ! jupyter nbconvert --to python total_app_net_flows_async.ipynb"
   ]
  }
 ],
 "metadata": {
  "kernelspec": {
   "display_name": "Python 3.10.8 ('new-env')",
   "language": "python",
   "name": "python3"
  },
  "language_info": {
   "codemirror_mode": {
    "name": "ipython",
    "version": 3
   },
   "file_extension": ".py",
   "mimetype": "text/x-python",
   "name": "python",
   "nbconvert_exporter": "python",
   "pygments_lexer": "ipython3",
   "version": "3.10.8"
  },
  "vscode": {
   "interpreter": {
    "hash": "7d537a1638226190f579d6fbb68604c1b09ebc740a69df557abedb49ad78e592"
   }
  }
 },
 "nbformat": 4,
 "nbformat_minor": 5
}
