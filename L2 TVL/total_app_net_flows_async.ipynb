{
 "cells": [
  {
   "cell_type": "code",
   "execution_count": 27,
   "id": "ffefb42a",
   "metadata": {},
   "outputs": [],
   "source": [
    "import pandas as pd\n",
    "import requests as r\n",
    "import plotly.express as px\n",
    "import plotly.graph_objects as go\n",
    "from datetime import datetime, timedelta, date\n",
    "import numpy as np\n",
    "import time\n",
    "import os\n",
    "import asyncio, aiohttp, nest_asyncio\n",
    "from aiohttp_retry import RetryClient, ExponentialRetry\n",
    "nest_asyncio.apply()\n",
    "header = {'User-Agent': 'Mozilla/5.0 (Windows NT 10.0; Win64; x64; rv:71.0) Gecko/20100101 Firefox/71.0'}"
   ]
  },
  {
   "cell_type": "code",
   "execution_count": 28,
   "id": "539f29a0",
   "metadata": {},
   "outputs": [],
   "source": [
    "#https://stackoverflow.com/questions/23267409/how-to-implement-retry-mechanism-into-python-requests-library\n",
    "\n",
    "import logging\n",
    "import requests\n",
    "\n",
    "from requests.adapters import HTTPAdapter, Retry\n",
    "\n",
    "# logging.basicConfig(level=logging.DEBUG)\n",
    "\n",
    "s = requests.Session()\n",
    "retries = Retry(total=10, backoff_factor=1, status_forcelist=[ 502, 503, 504 ])\n",
    "s.mount('http://', HTTPAdapter(max_retries=retries))\n",
    "\n",
    "pwd = os.getcwd()\n",
    "if 'L2 TVL' in pwd:\n",
    "    prepend = ''\n",
    "else:\n",
    "    prepend = 'L2 TVL/'"
   ]
  },
  {
   "cell_type": "code",
   "execution_count": 29,
   "id": "bbc56e12",
   "metadata": {},
   "outputs": [],
   "source": [
    "trailing_num_days = 90\n",
    "\n",
    "start_date = date.today()-timedelta(days=trailing_num_days +1)\n",
    "\n",
    "# start_date = datetime.strptime('2022-07-13', '%Y-%m-%d').date()\n",
    "\n"
   ]
  },
  {
   "cell_type": "code",
   "execution_count": 30,
   "id": "d984f9ab",
   "metadata": {},
   "outputs": [],
   "source": [
    "#get all apps > 10 m tvl\n",
    "min_tvl = 10_000_000\n",
    "all_api = 'https://api.llama.fi/protocols'\n",
    "res = pd.DataFrame( r.get(all_api, headers=header).json() )\n",
    "res = res[res['tvl'] > min_tvl] ##greater than 10mil\n",
    "# print(len(res))\n",
    "# print(res.columns)\n",
    "# display(res)"
   ]
  },
  {
   "cell_type": "code",
   "execution_count": 31,
   "id": "beebc582",
   "metadata": {},
   "outputs": [
    {
     "name": "stderr",
     "output_type": "stream",
     "text": [
      "/var/folders/by/kltjc8yd0yz_7_wrtrzhrm9m0000gn/T/ipykernel_78472/1484238105.py:5: SettingWithCopyWarning:\n",
      "\n",
      "\n",
      "A value is trying to be set on a copy of a slice from a DataFrame.\n",
      "Try using .loc[row_indexer,col_indexer] = value instead\n",
      "\n",
      "See the caveats in the documentation: https://pandas.pydata.org/pandas-docs/stable/user_guide/indexing.html#returning-a-view-versus-a-copy\n",
      "\n"
     ]
    }
   ],
   "source": [
    "\n",
    "protocols = res[['slug','chainTvls']]\n",
    "# print(protocols)\n",
    "re = res['chainTvls']\n",
    "# r[1].keys()\n",
    "protocols['chainTvls'] = protocols['chainTvls'].apply(lambda x: list(x.keys()) )\n",
    "# protocols[protocols['chainTvls'].map(set(['Arbitrum']).issubset)]\n"
   ]
  },
  {
   "cell_type": "code",
   "execution_count": 32,
   "id": "c84c9ef1",
   "metadata": {},
   "outputs": [],
   "source": [
    "# protocols = protocols[ protocols['slug'] == 'uniswap-v3' ]\n",
    "# api_str = 'https://api.llama.fi/protocol/'\n",
    "# ad = pd.DataFrame( r.get(api_str).json()['chainTvls'] ).T[['tokens']]\n",
    "# ad"
   ]
  },
  {
   "cell_type": "code",
   "execution_count": 33,
   "id": "9717e4df",
   "metadata": {},
   "outputs": [],
   "source": [
    "# api_str = 'https://api.llama.fi/protocol/uniswap'\n",
    "# prot_req = r.get(api_str, headers=header).json()['chainTvls']\n",
    "# # prot_req['Ethereum']\n",
    "# prot_req"
   ]
  },
  {
   "cell_type": "code",
   "execution_count": 34,
   "id": "4e4e981e",
   "metadata": {},
   "outputs": [],
   "source": [
    "statuses = {x for x in range(100, 600)}\n",
    "statuses.remove(200)\n",
    "statuses.remove(429)"
   ]
  },
  {
   "cell_type": "code",
   "execution_count": 35,
   "id": "052b6ccc",
   "metadata": {},
   "outputs": [],
   "source": [
    "async def get_tvl(apistring, header, statuses, chains, prot):\n",
    "        prod = []\n",
    "        retry_client = RetryClient()\n",
    "        async with retry_client.get(apistring, retry_options=ExponentialRetry(attempts=10), raise_for_status=statuses) as response:\n",
    "                try:\n",
    "                        prot_req = await response.json()\n",
    "                        prot_req = prot_req['chainTvls']\n",
    "                        for ch in chains:\n",
    "                                ad = pd.json_normalize( prot_req[ch]['tokens'] )\n",
    "                                ad_usd = pd.json_normalize( prot_req[ch]['tokensInUsd'] )\n",
    "                        #             ad = ad.merge(how='left')\n",
    "                                if not ad.empty:\n",
    "                                        ad = pd.melt(ad,id_vars = ['date'])\n",
    "                                        ad = ad.rename(columns={'variable':'token','value':'token_value'})\n",
    "                                        ad_usd = pd.melt(ad_usd,id_vars = ['date'])\n",
    "                                        ad_usd = ad_usd.rename(columns={'variable':'token','value':'usd_value'})\n",
    "                                        ad = ad.merge(ad_usd,on=['date','token'])\n",
    "                                        \n",
    "                                        ad['date'] = pd.to_datetime(ad['date'], unit ='s') #convert to days\n",
    "                                        ad['token'] = ad['token'].str.replace('tokens.','', regex=False)\n",
    "                                        ad['protocol'] = prot\n",
    "                                        ad['chain'] = ch\n",
    "                                #         ad['start_date'] = pd.to_datetime(prot[1])\n",
    "                                        # ad['date'] = ad['date'] - timedelta(days=1) #change to eod vs sod\n",
    "                                        prod.append(ad)\n",
    "                except Exception as e:\n",
    "                        raise Exception(\"Could not convert json\")\n",
    "        await retry_client.close()\n",
    "        \n",
    "        return prod"
   ]
  },
  {
   "cell_type": "code",
   "execution_count": 36,
   "id": "00c9efc7",
   "metadata": {},
   "outputs": [],
   "source": [
    "def get_range(protocols):\n",
    "        data_dfs = []\n",
    "        fee_df = []\n",
    "        # for dt in date_range:\n",
    "        #         await asyncio.gather()\n",
    "        #         data_dfs.append(res_df)\n",
    "        #         # res.columns\n",
    "        # try:\n",
    "        #         loop.close()\n",
    "        # except:\n",
    "        #         #nothing\n",
    "        loop = asyncio.get_event_loop()\n",
    "        #get by app\n",
    "        api_str = 'https://api.llama.fi/protocol/'\n",
    "        # print(protocols)\n",
    "        prod = []\n",
    "        tasks = []\n",
    "        for index,proto in protocols.iterrows():\n",
    "                #     print(proto)\n",
    "                prot = proto['slug']\n",
    "                chains = proto['chainTvls']\n",
    "                apic = api_str + prot\n",
    "                #     time.sleep(0.1)\n",
    "                tasks.append( get_tvl(apic, header, statuses, chains, prot) )\n",
    "        # print(tasks)\n",
    "        data_dfs = loop.run_until_complete(asyncio.gather(*tasks, return_exceptions=True))\n",
    "        # print(date_range)\n",
    "        # loop.close()\n",
    "        # print(data_dfs)\n",
    "        # fee_df = pd.concat(data_dfs)\n",
    "        # return fee_df\n",
    "        return data_dfs"
   ]
  },
  {
   "cell_type": "code",
   "execution_count": 37,
   "id": "d3399236",
   "metadata": {},
   "outputs": [],
   "source": [
    "df_df = get_range(protocols)\n",
    "# print (typeof(df_df_all) )\n"
   ]
  },
  {
   "cell_type": "code",
   "execution_count": 38,
   "id": "5b4e1888",
   "metadata": {},
   "outputs": [],
   "source": [
    "df_list = []\n",
    "for dat in df_df:\n",
    "        if isinstance(dat,list):\n",
    "                # print(dat)\n",
    "                for pt in dat: #each list within the list (i.e. multiple chains)\n",
    "                        try:\n",
    "                                tempdf = pd.DataFrame(pt)\n",
    "                                if not tempdf.empty:\n",
    "                                        # print(tempdf)\n",
    "                                        df_list.append(tempdf)\n",
    "                        except:\n",
    "                                continue\n",
    "# df_df_all = pd.DataFrame()\n",
    "df_df_all = pd.concat(df_list)"
   ]
  },
  {
   "cell_type": "code",
   "execution_count": 39,
   "id": "5ab956a5",
   "metadata": {},
   "outputs": [],
   "source": [
    "# df_df_all"
   ]
  },
  {
   "cell_type": "code",
   "execution_count": 40,
   "id": "c7c1ddad",
   "metadata": {},
   "outputs": [
    {
     "name": "stdout",
     "output_type": "stream",
     "text": [
      "done api\n"
     ]
    }
   ],
   "source": [
    "\n",
    "# df_df_all = pd.concat(df_df_all)\n",
    "# print(df_df_all[2])\n",
    "print(\"done api\")"
   ]
  },
  {
   "cell_type": "code",
   "execution_count": 41,
   "id": "53c381e8",
   "metadata": {},
   "outputs": [
    {
     "name": "stderr",
     "output_type": "stream",
     "text": [
      "/var/folders/by/kltjc8yd0yz_7_wrtrzhrm9m0000gn/T/ipykernel_78472/78629369.py:5: SettingWithCopyWarning:\n",
      "\n",
      "\n",
      "A value is trying to be set on a copy of a slice from a DataFrame.\n",
      "Try using .loc[row_indexer,col_indexer] = value instead\n",
      "\n",
      "See the caveats in the documentation: https://pandas.pydata.org/pandas-docs/stable/user_guide/indexing.html#returning-a-view-versus-a-copy\n",
      "\n"
     ]
    }
   ],
   "source": [
    "#filter down a bit so we can do trailing comp w/o doing every row\n",
    "df_df = df_df_all[df_df_all['date'].dt.date >= start_date-timedelta(days=1) ]\n",
    "\n",
    "#trailing comp\n",
    "df_df['last_token_value'] = df_df.groupby(['token','protocol','chain'])['token_value'].shift(1)\n",
    "#now actually filter\n",
    "df_df = df_df[df_df['date'].dt.date >= start_date ]\n",
    "\n"
   ]
  },
  {
   "cell_type": "code",
   "execution_count": 42,
   "id": "3cf54141",
   "metadata": {},
   "outputs": [],
   "source": [
    "# sample = df_df[(df_df['protocol'] == 'uniswap') & (df_df['chain'] == 'Optimism')]\n",
    "# sample = sample.sort_values(by='date',ascending=False)\n",
    "# # display(sample)\n",
    "# sample.to_csv('check_uni_error.csv')"
   ]
  },
  {
   "cell_type": "code",
   "execution_count": 43,
   "id": "8f9eb8e5",
   "metadata": {},
   "outputs": [],
   "source": [
    "\n",
    "data_df = df_df.copy()\n",
    "data_df['token_value'] = data_df['token_value'].replace(0, np.nan)\n",
    "# price = usd value / num tokens\n",
    "data_df['price_usd'] = data_df['usd_value']/data_df['token_value']\n",
    "\n",
    "data_df.sort_values(by='date',inplace=True)\n",
    "\n",
    "# net token change\n",
    "data_df['net_token_flow'] = data_df['token_value'] - data_df['last_token_value']\n",
    "# net token change * current price\n",
    "data_df['net_dollar_flow'] = data_df['net_token_flow'] * data_df['price_usd']\n",
    "\n",
    "\n",
    "data_df = data_df[abs(data_df['net_dollar_flow']) < 50_000_000_000] #50 bil error bar for bad prices\n",
    "data_df = data_df[~data_df['net_dollar_flow'].isna()]\n"
   ]
  },
  {
   "cell_type": "code",
   "execution_count": 44,
   "id": "59f3f879",
   "metadata": {},
   "outputs": [],
   "source": [
    "netdf_df = data_df[['date','protocol','chain','net_dollar_flow','usd_value']]\n",
    "netdf_df = netdf_df.fillna(0)\n",
    "netdf_df = netdf_df.sort_values(by='date',ascending=True)\n",
    "netdf_df = netdf_df.groupby(['date','protocol','chain']).sum(['net_dollar_flow','usd_value']) ##agg by app\n",
    "\n",
    "#usd_value is the TVL on a given day\n",
    "netdf_df = netdf_df.groupby(['date','protocol','chain','usd_value']).sum(['net_dollar_flow'])\n",
    "netdf_df.reset_index(inplace=True)\n",
    "\n",
    "# netdf_df['cumul_net_dollar_flow'] = netdf_df[['protocol','chain','net_dollar_flow']]\\\n",
    "#                                     .groupby(['protocol','chain']).cumsum()\n",
    "# netdf_df['cumul_net_dollar_flow_7d'] = netdf_df[['protocol','chain','net_dollar_flow']]\\\n",
    "#                                     .groupby(['protocol','chain'])['net_dollar_flow'].rolling(7, min_periods=1).sum()\\\n",
    "#                                     .reset_index(drop=True)\n",
    "# netdf_df['cumul_net_dollar_flow_30d'] = netdf_df[['protocol','chain','net_dollar_flow']]\\\n",
    "#                                     .groupby(['protocol','chain'])['net_dollar_flow'].rolling(30, min_periods=1).sum()\\\n",
    "#                                     .reset_index(drop=True)\n",
    "netdf_df.reset_index(inplace=True)\n",
    "netdf_df.drop(columns=['index'],inplace=True)\n",
    "# display(netdf_df[netdf_df['protocol']=='makerdao'])\n",
    "\n"
   ]
  },
  {
   "cell_type": "code",
   "execution_count": 52,
   "id": "a579b389",
   "metadata": {},
   "outputs": [
    {
     "data": {
      "text/html": [
       "<div>\n",
       "<style scoped>\n",
       "    .dataframe tbody tr th:only-of-type {\n",
       "        vertical-align: middle;\n",
       "    }\n",
       "\n",
       "    .dataframe tbody tr th {\n",
       "        vertical-align: top;\n",
       "    }\n",
       "\n",
       "    .dataframe thead th {\n",
       "        text-align: right;\n",
       "    }\n",
       "</style>\n",
       "<table border=\"1\" class=\"dataframe\">\n",
       "  <thead>\n",
       "    <tr style=\"text-align: right;\">\n",
       "      <th></th>\n",
       "      <th>date</th>\n",
       "      <th>protocol</th>\n",
       "      <th>chain</th>\n",
       "      <th>usd_value</th>\n",
       "      <th>net_dollar_flow</th>\n",
       "      <th>rank_desc</th>\n",
       "    </tr>\n",
       "  </thead>\n",
       "  <tbody>\n",
       "    <tr>\n",
       "      <th>746</th>\n",
       "      <td>2022-08-04 00:00:00</td>\n",
       "      <td>stargate</td>\n",
       "      <td>Optimism</td>\n",
       "      <td>1.641249e+07</td>\n",
       "      <td>-2.097242e+06</td>\n",
       "      <td>93</td>\n",
       "    </tr>\n",
       "    <tr>\n",
       "      <th>1711</th>\n",
       "      <td>2022-08-05 00:00:00</td>\n",
       "      <td>stargate</td>\n",
       "      <td>Optimism</td>\n",
       "      <td>1.452615e+07</td>\n",
       "      <td>-1.828006e+06</td>\n",
       "      <td>92</td>\n",
       "    </tr>\n",
       "    <tr>\n",
       "      <th>2669</th>\n",
       "      <td>2022-08-06 00:00:00</td>\n",
       "      <td>stargate</td>\n",
       "      <td>Optimism</td>\n",
       "      <td>2.606621e+07</td>\n",
       "      <td>1.137291e+07</td>\n",
       "      <td>91</td>\n",
       "    </tr>\n",
       "    <tr>\n",
       "      <th>3629</th>\n",
       "      <td>2022-08-07 00:00:00</td>\n",
       "      <td>stargate</td>\n",
       "      <td>Optimism</td>\n",
       "      <td>2.447137e+07</td>\n",
       "      <td>-1.573802e+06</td>\n",
       "      <td>90</td>\n",
       "    </tr>\n",
       "    <tr>\n",
       "      <th>4591</th>\n",
       "      <td>2022-08-08 00:00:00</td>\n",
       "      <td>stargate</td>\n",
       "      <td>Optimism</td>\n",
       "      <td>2.396344e+07</td>\n",
       "      <td>-4.961177e+05</td>\n",
       "      <td>89</td>\n",
       "    </tr>\n",
       "    <tr>\n",
       "      <th>...</th>\n",
       "      <td>...</td>\n",
       "      <td>...</td>\n",
       "      <td>...</td>\n",
       "      <td>...</td>\n",
       "      <td>...</td>\n",
       "      <td>...</td>\n",
       "    </tr>\n",
       "    <tr>\n",
       "      <th>93814</th>\n",
       "      <td>2022-10-31 00:00:00</td>\n",
       "      <td>stargate</td>\n",
       "      <td>Optimism</td>\n",
       "      <td>4.855378e+07</td>\n",
       "      <td>6.452686e+05</td>\n",
       "      <td>5</td>\n",
       "    </tr>\n",
       "    <tr>\n",
       "      <th>94968</th>\n",
       "      <td>2022-11-01 00:00:00</td>\n",
       "      <td>stargate</td>\n",
       "      <td>Optimism</td>\n",
       "      <td>5.223612e+07</td>\n",
       "      <td>3.748266e+06</td>\n",
       "      <td>4</td>\n",
       "    </tr>\n",
       "    <tr>\n",
       "      <th>96113</th>\n",
       "      <td>2022-11-02 00:00:00</td>\n",
       "      <td>stargate</td>\n",
       "      <td>Optimism</td>\n",
       "      <td>5.299349e+07</td>\n",
       "      <td>6.462709e+05</td>\n",
       "      <td>3</td>\n",
       "    </tr>\n",
       "    <tr>\n",
       "      <th>97279</th>\n",
       "      <td>2022-11-03 00:00:00</td>\n",
       "      <td>stargate</td>\n",
       "      <td>Optimism</td>\n",
       "      <td>5.349932e+07</td>\n",
       "      <td>7.273110e+05</td>\n",
       "      <td>2</td>\n",
       "    </tr>\n",
       "    <tr>\n",
       "      <th>98540</th>\n",
       "      <td>2022-11-03 03:59:47</td>\n",
       "      <td>stargate</td>\n",
       "      <td>Optimism</td>\n",
       "      <td>5.360707e+07</td>\n",
       "      <td>-1.346415e+04</td>\n",
       "      <td>1</td>\n",
       "    </tr>\n",
       "  </tbody>\n",
       "</table>\n",
       "<p>93 rows × 6 columns</p>\n",
       "</div>"
      ],
      "text/plain": [
       "                     date  protocol     chain     usd_value  net_dollar_flow  \\\n",
       "746   2022-08-04 00:00:00  stargate  Optimism  1.641249e+07    -2.097242e+06   \n",
       "1711  2022-08-05 00:00:00  stargate  Optimism  1.452615e+07    -1.828006e+06   \n",
       "2669  2022-08-06 00:00:00  stargate  Optimism  2.606621e+07     1.137291e+07   \n",
       "3629  2022-08-07 00:00:00  stargate  Optimism  2.447137e+07    -1.573802e+06   \n",
       "4591  2022-08-08 00:00:00  stargate  Optimism  2.396344e+07    -4.961177e+05   \n",
       "...                   ...       ...       ...           ...              ...   \n",
       "93814 2022-10-31 00:00:00  stargate  Optimism  4.855378e+07     6.452686e+05   \n",
       "94968 2022-11-01 00:00:00  stargate  Optimism  5.223612e+07     3.748266e+06   \n",
       "96113 2022-11-02 00:00:00  stargate  Optimism  5.299349e+07     6.462709e+05   \n",
       "97279 2022-11-03 00:00:00  stargate  Optimism  5.349932e+07     7.273110e+05   \n",
       "98540 2022-11-03 03:59:47  stargate  Optimism  5.360707e+07    -1.346415e+04   \n",
       "\n",
       "       rank_desc  \n",
       "746           93  \n",
       "1711          92  \n",
       "2669          91  \n",
       "3629          90  \n",
       "4591          89  \n",
       "...          ...  \n",
       "93814          5  \n",
       "94968          4  \n",
       "96113          3  \n",
       "97279          2  \n",
       "98540          1  \n",
       "\n",
       "[93 rows x 6 columns]"
      ]
     },
     "execution_count": 52,
     "metadata": {},
     "output_type": "execute_result"
    }
   ],
   "source": [
    "# netdf_df[(netdf_df['protocol']=='stargate') & (netdf_df['chain']=='Optimism')]\n"
   ]
  },
  {
   "cell_type": "code",
   "execution_count": 45,
   "id": "18ccf06e",
   "metadata": {},
   "outputs": [],
   "source": [
    "#get latest\n",
    "netdf_df['rank_desc'] = netdf_df.groupby(['protocol', 'chain'])['date'].\\\n",
    "                            rank(method='dense',ascending=False).astype(int)\n",
    "# display(netdf_df[netdf_df['protocol'] == 'lyra'])\n",
    "netdf_df = netdf_df[  #( netdf_df['rank_desc'] == 1 ) &\\\n",
    "                        (~netdf_df['chain'].str.contains('-borrowed')) &\\\n",
    "                        (~netdf_df['chain'].str.contains('-staking')) &\\\n",
    "                        (~netdf_df['chain'].str.contains('-pool2')) &\\\n",
    "                            (~netdf_df['chain'].str.contains('-treasury')) &\\\n",
    "                        (~( netdf_df['chain'] == 'treasury') ) &\\\n",
    "                        (~( netdf_df['chain'] == 'borrowed') ) &\\\n",
    "                        (~( netdf_df['chain'] == 'staking') ) &\\\n",
    "                            (~( netdf_df['chain'] == 'treasury') ) &\\\n",
    "                        (~( netdf_df['chain'] == 'pool2') ) &\\\n",
    "                        (~( netdf_df['protocol'] == 'polygon-bridge-&-staking') ) \n",
    "#                         & (~( netdf_df['chain'] == 'Ethereum') )\n",
    "                        ]\n",
    "# display(netdf_df[netdf_df['protocol']=='makerdao'])"
   ]
  },
  {
   "cell_type": "code",
   "execution_count": 46,
   "id": "67bdbe1a",
   "metadata": {},
   "outputs": [],
   "source": [
    "summary_df = netdf_df.copy()\n",
    "drange = [0, 1, 7, 30, 90, 180, 365]\n",
    "summary_df = summary_df.sort_values(by='date',ascending=True)\n",
    "# summary_df = summary_df[(summary_df['chain'] == 'Solana') & (summary_df['protocol'] == 'uxd')]\n",
    "for i in drange:\n",
    "        if i == 0:\n",
    "                summary_df['cumul_net_dollar_flow'] = summary_df[['protocol','chain','net_dollar_flow']]\\\n",
    "                                    .groupby(['protocol','chain']).cumsum()\n",
    "                summary_df['flow_direction'] = np.where(summary_df['cumul_net_dollar_flow']>=0,1,-1)\n",
    "                summary_df['abs_cumul_net_dollar_flow'] = abs(summary_df['cumul_net_dollar_flow'])\n",
    "        else:\n",
    "                col_str = 'cumul_net_dollar_flow_' + str(i) + 'd'\n",
    "                # print(col_str)\n",
    "                summary_df[col_str] = summary_df[['protocol','chain','net_dollar_flow']]\\\n",
    "                                    .groupby(['protocol','chain'])['net_dollar_flow'].transform(lambda x: x.rolling(i, min_periods=1).sum() )\n",
    "                                #         .rolling(i, min_periods=1).sum()\\ #This caused errors and mismatches\n",
    "                                #     .reset_index(level=0,drop=True)#.values\n",
    "                summary_df['flow_direction_' + str(i) + 'd'] = np.where(summary_df[col_str]>=0,1,-1)\n",
    "                summary_df['abs_cumul_net_dollar_flow_' + str(i) + 'd'] = abs(summary_df[col_str])\n",
    "                # display(summary_df)\n",
    "                # display(summary_df[(summary_df['chain'] == 'Optimism') & (summary_df['protocol'] == 'yearn-finance')] )\n",
    "# display(summary_df[netdf_df['protocol']=='makerdao'])\n",
    "# display(summary_df[(summary_df['chain'] == 'Optimism') & (summary_df['protocol'] == 'qidao')].iloc[-7: , :15] )\n",
    "summary_df['pct_of_tvl'] = 100* summary_df['net_dollar_flow'] / summary_df['usd_value']\n",
    "summary_df = summary_df[summary_df['rank_desc'] == 1 ]\n",
    "summary_df.to_csv('latest_tvl_app_trends.csv')\n",
    "# display(summary_df)\n",
    "for i in drange:\n",
    "        fig = ''\n",
    "        if i == 0:\n",
    "                yval = 'abs_cumul_net_dollar_flow'\n",
    "                hval = 'cumul_net_dollar_flow'\n",
    "                cval = 'flow_direction'\n",
    "                saveval = 'net_app_flows'\n",
    "                titleval = \"App Net Flows Change by App -> Chain - Last \" + str(trailing_num_days) + \\\n",
    "                            \" Days - (Apps with > $\" + str(min_tvl/1e6) + \"M TVL Shown)\"\n",
    "        else:\n",
    "                yval = 'abs_cumul_net_dollar_flow_' + str(i) +'d'\n",
    "                hval = 'cumul_net_dollar_flow_' + str(i) +'d'\n",
    "                cval = 'flow_direction_' + str(i) +'d'\n",
    "                saveval = 'net_app_flows_' + str(i) +'d'\n",
    "                titleval = \"App Net Flows Change by App -> Chain - Last \" + str(i) + \\\n",
    "                            \" Days - (Apps with > $\" + str(min_tvl/1e6) + \"M TVL Shown)\"\n",
    "        # print(yval)\n",
    "        # print(cval)\n",
    "        # print(titleval)\n",
    "        # print(hval)\n",
    "        fig = px.treemap(summary_df[summary_df[yval] !=0], \\\n",
    "                 path=[px.Constant(\"all\"), 'chain', 'protocol'], \\\n",
    "#                  path=[px.Constant(\"all\"), 'token', 'chain', 'protocol'], \\\n",
    "                 values=yval, color=cval\n",
    "#                 ,color_discrete_map={'-1':'red', '1':'green'})\n",
    "                ,color_continuous_scale='Spectral'\n",
    "                     , title = titleval\n",
    "                \n",
    "                , hover_data = [hval]\n",
    "                )\n",
    "        \n",
    "        fig.update_traces(root_color=\"lightgrey\")\n",
    "        fig.update_layout(margin = dict(t=50, l=25, r=25, b=25))\n",
    "\n",
    "        fig.write_image(prepend + \"img_outputs/svg/\" + saveval + \".svg\") #prepend + \n",
    "        fig.write_image(prepend + \"img_outputs/png/\" + saveval + \".png\") #prepend + \n",
    "        fig.write_html(prepend + \"img_outputs/\" + saveval + \".html\", include_plotlyjs='cdn')\n",
    "# fig.data[0].textinfo = 'label+text+value'\n",
    "\n",
    "# fig.update_layout(tickprefix = '$')"
   ]
  },
  {
   "cell_type": "code",
   "execution_count": 47,
   "id": "c5dabb18",
   "metadata": {},
   "outputs": [],
   "source": [
    "# display(summary_df[summary_df['protocol']=='makerdao'].iloc[: , :15])"
   ]
  },
  {
   "cell_type": "code",
   "execution_count": 48,
   "id": "c0bdf6d8",
   "metadata": {
    "scrolled": false
   },
   "outputs": [
    {
     "data": {
      "application/vnd.plotly.v1+json": {
       "config": {
        "plotlyServerURL": "https://plot.ly"
       },
       "data": [
        {
         "branchvalues": "total",
         "customdata": [
          [
           6959494.853137466,
           1
          ],
          [
           5344336.044030549,
           1
          ],
          [
           -6679475.372145963,
           -1
          ],
          [
           -67477522.77886064,
           -1
          ],
          [
           -479483632.1467449,
           -1
          ],
          [
           -137570090.31733274,
           -1
          ],
          [
           8096820.483051691,
           1
          ],
          [
           -486421413.2502203,
           -1
          ],
          [
           -4396959.891617758,
           -1
          ],
          [
           -83361.75910030959,
           -1
          ],
          [
           316136552.55998933,
           1
          ],
          [
           14020678.082691688,
           1
          ],
          [
           -73405251.72649918,
           -1
          ],
          [
           7848860.830931084,
           1
          ],
          [
           -29272776.881644353,
           -1
          ],
          [
           -24498909.665826775,
           -1
          ],
          [
           42990.37170639647,
           1
          ],
          [
           -50666.23693379917,
           -1
          ],
          [
           -4647219.0382138025,
           -1
          ],
          [
           -3200943.5072444845,
           -1
          ],
          [
           11636.05613198112,
           1
          ],
          [
           -4826.395835440313,
           -1
          ],
          [
           117379.72227324655,
           1
          ],
          [
           15161.384863820043,
           1
          ],
          [
           6179.629058281076,
           1
          ],
          [
           -65640434.212179564,
           -1
          ],
          [
           -703374.3105699802,
           -1
          ],
          [
           288996.3317335189,
           1
          ],
          [
           5181532.170622365,
           1
          ],
          [
           21531197.374471378,
           1
          ],
          [
           -74171135.94242354,
           -1
          ],
          [
           -203565597.24514487,
           -1
          ],
          [
           -5081104.391206969,
           -1
          ],
          [
           1218.4519211942538,
           1
          ],
          [
           -12102781.0454558,
           -1
          ],
          [
           -2222060.3929059184,
           -1
          ],
          [
           203945.53452453468,
           1
          ],
          [
           47543.33179012392,
           1
          ],
          [
           85812726.28662284,
           1
          ],
          [
           707126.838865181,
           1
          ],
          [
           -2077.9993293802463,
           -1
          ],
          [
           -157.43882934614714,
           -1
          ],
          [
           -3354.045734690592,
           -1
          ],
          [
           2.8393435827628397,
           1
          ],
          [
           5880791.551047298,
           1
          ],
          [
           -11441317.355587898,
           -1
          ],
          [
           -1879.2226465869433,
           -1
          ],
          [
           -4132801.6287066755,
           -1
          ],
          [
           647716.3751463253,
           1
          ],
          [
           -2411389.73910171,
           -1
          ],
          [
           8088794.349815557,
           1
          ],
          [
           -983437038.122293,
           -1
          ],
          [
           7806450.009462903,
           1
          ],
          [
           19252.692087435746,
           1
          ],
          [
           -4871620.252439576,
           -1
          ],
          [
           -670322.6321925174,
           -1
          ],
          [
           -30251724.161913283,
           -1
          ],
          [
           281653886.1669097,
           1
          ],
          [
           -9504067.954977868,
           -1
          ],
          [
           592507.9216574053,
           1
          ],
          [
           17953984.358326595,
           1
          ],
          [
           -67787.87031892533,
           -1
          ],
          [
           24405372.782922972,
           1
          ],
          [
           -404014.0995985299,
           -1
          ],
          [
           11700378.702001039,
           1
          ],
          [
           -20196402.889709868,
           -1
          ],
          [
           17937607.881610762,
           1
          ],
          [
           291063483.2107607,
           1
          ],
          [
           53318357.59856714,
           1
          ],
          [
           -104719834.48419857,
           -1
          ],
          [
           -9934649.66071467,
           -1
          ],
          [
           -16449792.254971834,
           -1
          ],
          [
           -4170039.4955440834,
           -1
          ],
          [
           -325647.4477971385,
           -1
          ],
          [
           -9793534.103252333,
           -1
          ],
          [
           -2362576.0922909845,
           -1
          ],
          [
           -41270.2974454213,
           -1
          ],
          [
           -3207156.2568797367,
           -1
          ],
          [
           -21379200.21897118,
           -1
          ],
          [
           -409922.6640325382,
           -1
          ],
          [
           -22167.433399414156,
           -1
          ],
          [
           666.4101340908041,
           1
          ],
          [
           396533.89060961176,
           1
          ],
          [
           1657505.6227580826,
           1
          ],
          [
           5622671.02734524,
           1
          ],
          [
           1020162.3247362762,
           1
          ],
          [
           -151911.42379032754,
           -1
          ],
          [
           20773988.602479246,
           1
          ],
          [
           1799848.6037135972,
           1
          ],
          [
           -19453714.247570984,
           -1
          ],
          [
           13340049.997321077,
           1
          ],
          [
           -2223327.1491878293,
           -1
          ],
          [
           -190147.36899611526,
           -1
          ],
          [
           238195.728107723,
           1
          ],
          [
           15265325.225738645,
           1
          ],
          [
           -69974079.05003347,
           -1
          ],
          [
           22325234.153633863,
           1
          ],
          [
           -142003.37042291567,
           -1
          ],
          [
           6345994.695525024,
           1
          ],
          [
           -131768.65298556504,
           -1
          ],
          [
           -540475.4302865484,
           -1
          ],
          [
           -758509.7269149009,
           -1
          ],
          [
           1982789.1196489288,
           1
          ],
          [
           -48453815.732414074,
           -1
          ],
          [
           52061494.298767224,
           1
          ],
          [
           -48933280.087290734,
           -1
          ],
          [
           -22714.75408984795,
           -1
          ],
          [
           -26809779.207715206,
           -1
          ],
          [
           71579727.0184973,
           1
          ],
          [
           44287358.59054952,
           1
          ],
          [
           -4021741.3913089973,
           -1
          ],
          [
           -1147390.2262129015,
           -1
          ],
          [
           -8291430.746222125,
           -1
          ],
          [
           -8813749.840978405,
           -1
          ],
          [
           -29597.153678593368,
           -1
          ],
          [
           -97.17003443754709,
           -1
          ],
          [
           -7509792.772890438,
           -1
          ],
          [
           -2516305.052899507,
           -1
          ],
          [
           -2596597.1126993583,
           -1
          ],
          [
           -84872.06068879443,
           -1
          ],
          [
           -1852867.8397603522,
           -1
          ],
          [
           -4617128.760926502,
           -1
          ],
          [
           -230868.9170336518,
           -1
          ],
          [
           16633504.32063431,
           1
          ],
          [
           17621575.39249577,
           1
          ],
          [
           17621575.392495766,
           1
          ],
          [
           17621575.392495766,
           1
          ],
          [
           160782.24497014366,
           1
          ],
          [
           40827123.15383253,
           1
          ],
          [
           6358980.735869509,
           1
          ],
          [
           3586475.3337011375,
           1
          ],
          [
           -3094621.692730846,
           -1
          ],
          [
           -114684.68456870364,
           -1
          ],
          [
           -24147.79937326201,
           -1
          ],
          [
           -839176.5369028846,
           -1
          ],
          [
           274917473.2097263,
           1
          ],
          [
           -5412625.22843114,
           -1
          ],
          [
           -7479367.383306541,
           -1
          ],
          [
           -731566010.8869505,
           -1
          ],
          [
           133289577.96948831,
           1
          ],
          [
           -28776879.589560788,
           -1
          ],
          [
           807506.1815731041,
           1
          ],
          [
           108805.93281597736,
           1
          ],
          [
           -548930.3270358909,
           -1
          ],
          [
           -6245.202285942491,
           -1
          ],
          [
           86639.22083065646,
           1
          ],
          [
           611426.1321078578,
           1
          ],
          [
           -177039.32551298308,
           -1
          ],
          [
           -1727906.7855800567,
           -1
          ],
          [
           63684.43299837773,
           1
          ],
          [
           -981862.5781564796,
           -1
          ],
          [
           -55178.393100776804,
           -1
          ],
          [
           64518.71886330723,
           1
          ],
          [
           -462478.5067294913,
           -1
          ],
          [
           159552.85978982665,
           1
          ],
          [
           -1029123.636561412,
           -1
          ],
          [
           -468258409.4542164,
           -1
          ],
          [
           -44776.5584400933,
           -1
          ],
          [
           -5788798.562216394,
           -1
          ],
          [
           -0.6412952850054466,
           -1
          ],
          [
           -200180.73493093424,
           -1
          ],
          [
           -1800298.2038120434,
           -1
          ],
          [
           -3298636.381461458,
           -1
          ],
          [
           -29737062.875628248,
           -1
          ],
          [
           137.98999298028914,
           1
          ],
          [
           -69351696.19752663,
           -1
          ],
          [
           4975999.474000126,
           1
          ],
          [
           -50759980.2309566,
           -1
          ],
          [
           14955461.297909338,
           1
          ],
          [
           16533758.492691064,
           1
          ],
          [
           24625475.958916917,
           1
          ],
          [
           -41678539.31482182,
           -1
          ],
          [
           -46169760.48166302,
           -1
          ],
          [
           4501263.321861183,
           1
          ],
          [
           22951039.215790525,
           1
          ],
          [
           -2498854.3230299633,
           -1
          ],
          [
           -712998.9736683693,
           -1
          ],
          [
           -678365.8880067539,
           -1
          ],
          [
           -21115.31709849067,
           -1
          ],
          [
           -1297412.6353839028,
           -1
          ],
          [
           -4754858.901359986,
           -1
          ],
          [
           -3059896.246164578,
           -1
          ],
          [
           -185494.4941077626,
           -1
          ],
          [
           3750752.8194901096,
           1
          ],
          [
           -1080084.107820384,
           -1
          ],
          [
           537246.234335216,
           1
          ],
          [
           438597.6938964089,
           1
          ],
          [
           -509551.2960339985,
           -1
          ],
          [
           -869541.9808694399,
           -1
          ],
          [
           16778.608563772512,
           1
          ],
          [
           -0.44300300397875514,
           -1
          ],
          [
           -2352543.505401166,
           -1
          ],
          [
           38.6868758711961,
           1
          ],
          [
           1.2033503323595671,
           1
          ],
          [
           -11874481.065566283,
           -1
          ],
          [
           80177.90648584791,
           1
          ],
          [
           -517631.63704408874,
           -1
          ],
          [
           -18684437.1508608,
           -1
          ],
          [
           -1832.5431604260662,
           -1
          ],
          [
           -23552.362531123803,
           -1
          ],
          [
           -233600.18837828582,
           -1
          ],
          [
           -135799.6992156299,
           -1
          ],
          [
           -276.19724559010837,
           -1
          ],
          [
           37203.82995237156,
           1
          ],
          [
           0.4381827699481415,
           1
          ],
          [
           -7229.206845029151,
           -1
          ],
          [
           -93961.65449996358,
           -1
          ],
          [
           -169341723.07709026,
           -1
          ],
          [
           -126362987.18454863,
           -1
          ],
          [
           -1761512.2911686115,
           -1
          ],
          [
           -1466907.4998305524,
           -1
          ],
          [
           64787886.72814548,
           1
          ],
          [
           370236.4038693021,
           1
          ],
          [
           -1817402.5935886123,
           -1
          ],
          [
           -388.378905323214,
           -1
          ],
          [
           -2973023.1191597683,
           -1
          ],
          [
           -1.029996135635237,
           -1
          ],
          [
           8.08605504151834,
           1
          ],
          [
           -670670.8170116784,
           -1
          ],
          [
           -1340726.7696151293,
           -1
          ],
          [
           -1164761.1155685545,
           -1
          ],
          [
           -928.4650370647987,
           -1
          ],
          [
           -188642.94831387015,
           -1
          ],
          [
           -1937.0999085670303,
           -1
          ],
          [
           -11820901.617431648,
           -1
          ],
          [
           -26630096.650639646,
           -1
          ],
          [
           -5418691.9005376585,
           -1
          ],
          [
           13042719.85771865,
           1
          ],
          [
           -135777735.03286025,
           -1
          ],
          [
           -14714371.971159765,
           -1
          ],
          [
           -2296753.879120887,
           -1
          ],
          [
           -8152.42220916455,
           -1
          ],
          [
           157.30522544941363,
           1
          ],
          [
           139460.47097997798,
           1
          ],
          [
           21989577.51479862,
           1
          ],
          [
           -8934.058039643334,
           -1
          ],
          [
           -1975028.4884151954,
           -1
          ],
          [
           -8955.715737339251,
           -1
          ],
          [
           11981040.501554316,
           1
          ],
          [
           1019618.5691485035,
           1
          ],
          [
           9287219.616712423,
           1
          ],
          [
           37856424.81441252,
           1
          ],
          [
           6741342.333754609,
           1
          ],
          [
           204678335.74678925,
           1
          ],
          [
           -25994372.511200644,
           -1
          ],
          [
           3739765.311309706,
           1
          ],
          [
           3666.607201833246,
           1
          ],
          [
           -8664902.863032455,
           -1
          ],
          [
           409896.71325050056,
           1
          ],
          [
           -507333697.4592245,
           -1
          ],
          [
           2337188.6912314147,
           1
          ],
          [
           -4442.877762638592,
           -1
          ],
          [
           -11381177.360395167,
           -1
          ],
          [
           1991842.6634772972,
           1
          ],
          [
           68087462.93413536,
           1
          ],
          [
           8696844.806256533,
           1
          ],
          [
           -4612457.178050939,
           -1
          ],
          [
           -165390.4030548724,
           -1
          ],
          [
           5664252.515430343,
           1
          ],
          [
           -2724641.7724358677,
           -1
          ],
          [
           10716107.963111643,
           1
          ],
          [
           7015699.865523355,
           1
          ],
          [
           14814029.37240677,
           1
          ],
          [
           7563890.492837576,
           1
          ],
          [
           -734501.7546053214,
           -1
          ],
          [
           320998.61949153506,
           1
          ],
          [
           5589032.839443426,
           1
          ],
          [
           13178520.339882215,
           1
          ],
          [
           8221143.168325651,
           1
          ],
          [
           58638.67892196246,
           1
          ],
          [
           -7220894.77363427,
           -1
          ],
          [
           -56293.47713508831,
           -1
          ],
          [
           -1504341.0350238136,
           -1
          ],
          [
           16389110.943592144,
           1
          ],
          [
           -182994734.92047644,
           -1
          ],
          [
           -454478.8447854755,
           -1
          ],
          [
           -675194.114516236,
           -1
          ],
          [
           -742144.9979577634,
           -1
          ],
          [
           -1648416.0715345817,
           -1
          ],
          [
           260454.14700156427,
           1
          ],
          [
           -2596685.2646265794,
           -1
          ],
          [
           -304378.69438710157,
           -1
          ],
          [
           -188447.26018624086,
           -1
          ],
          [
           593351.2839390584,
           1
          ],
          [
           14094115.392858794,
           1
          ],
          [
           -12738495.463686433,
           -1
          ],
          [
           -7193852.439985229,
           -1
          ],
          [
           -170950477.88536558,
           -1
          ],
          [
           4442.106177999836,
           1
          ],
          [
           -2351538.2172385273,
           -1
          ],
          [
           -2487594.725766335,
           -1
          ],
          [
           -23955556.980720818,
           -1
          ],
          [
           -1307856.602910583,
           -1
          ],
          [
           -42219120.97569861,
           -1
          ],
          [
           -29803362.308008395,
           -1
          ],
          [
           -14409857.024207383,
           -1
          ],
          [
           -514082.19707731623,
           -1
          ],
          [
           -12981093.647803357,
           -1
          ],
          [
           -676799.6468759659,
           -1
          ],
          [
           51151727.01044678,
           1
          ],
          [
           -31236080.09619603,
           -1
          ],
          [
           1037256.6205883627,
           1
          ],
          [
           9997633.119302351,
           1
          ],
          [
           -2004714.7045650866,
           -1
          ],
          [
           99886.20614585151,
           1
          ],
          [
           5469652.157403213,
           1
          ],
          [
           319320.1020779316,
           1
          ],
          [
           -243045.8364306607,
           -1
          ],
          [
           715784.6749033589,
           1
          ],
          [
           -4039041.947447985,
           -1
          ],
          [
           613942801.9914043,
           1
          ],
          [
           9698068.404535701,
           1
          ],
          [
           2567328.2100489684,
           1
          ],
          [
           65333429.391239956,
           1
          ],
          [
           103704.06906586963,
           1
          ],
          [
           15241107.01062588,
           1
          ],
          [
           1428107.297606151,
           1
          ],
          [
           2380630.0198507495,
           1
          ],
          [
           -27137.351803012563,
           -1
          ],
          [
           -10612781.988481814,
           -1
          ],
          [
           9439624.134537883,
           1
          ],
          [
           -14391035.942176476,
           -1
          ],
          [
           1971021.1098950957,
           1
          ],
          [
           1258850.8776393274,
           1
          ],
          [
           -25897817.795538995,
           -1
          ],
          [
           23743985.09644643,
           1
          ],
          [
           -2549859.2647024854,
           -1
          ],
          [
           6944817.89059822,
           1
          ],
          [
           10570011.807898404,
           1
          ],
          [
           -309964092.5668534,
           -1
          ],
          [
           6227505.301935836,
           1
          ],
          [
           3468141.235109724,
           1
          ],
          [
           -16828368.909210965,
           -1
          ],
          [
           5136748.614405945,
           1
          ],
          [
           336733.59344849305,
           1
          ],
          [
           -917176.7649678242,
           -1
          ],
          [
           528245.3881735632,
           1
          ],
          [
           7311945.8221599385,
           1
          ],
          [
           -5174554.742163798,
           -1
          ],
          [
           -38613536.36687894,
           -1
          ],
          [
           -57960.19281599451,
           -1
          ],
          [
           -7125724.650464638,
           -1
          ],
          [
           -6480025.220998907,
           -1
          ],
          [
           1024702.1488180235,
           1
          ],
          [
           -80685.7512009153,
           -1
          ],
          [
           -795797.8374320582,
           -1
          ],
          [
           -3052141.1438687146,
           -1
          ],
          [
           -76691106.58530323,
           -1
          ],
          [
           -2164357.1460677045,
           -1
          ],
          [
           -2030008.3807544515,
           -1
          ],
          [
           546562.5683658678,
           1
          ],
          [
           5367138.056457937,
           1
          ],
          [
           -8342648.967816424,
           -1
          ],
          [
           11020274.980900766,
           1
          ],
          [
           -11460245.104317324,
           -1
          ],
          [
           -22892368.54423145,
           -1
          ],
          [
           -536013.4745504761,
           -1
          ],
          [
           8367833.297989017,
           1
          ],
          [
           1901257.2600029856,
           1
          ],
          [
           -3598280.429726179,
           -1
          ],
          [
           -92994755.87897913,
           -1
          ],
          [
           -28568087.78399304,
           -1
          ],
          [
           -4843585.3341079755,
           -1
          ],
          [
           -38837335.11919486,
           -1
          ],
          [
           6336594.0718608685,
           1
          ],
          [
           5698.732764002916,
           1
          ],
          [
           -73751.6919399765,
           -1
          ],
          [
           -9517698.756390676,
           -1
          ],
          [
           4.908387614537551,
           1
          ],
          [
           964076.1670625069,
           1
          ],
          [
           -85563383.93615066,
           -1
          ],
          [
           1848068.0949092763,
           1
          ],
          [
           39348857.4016149,
           1
          ],
          [
           546680.197514326,
           1
          ],
          [
           -1011415.8657863517,
           -1
          ],
          [
           14.518691335213969,
           1
          ],
          [
           -34755021.006968066,
           -1
          ],
          [
           270674.8341157298,
           1
          ],
          [
           -2264146.458265857,
           -1
          ],
          [
           218917.37579723002,
           1
          ],
          [
           -10037974.098506771,
           -1
          ],
          [
           -4845486.717976894,
           -1
          ],
          [
           79570822.21675377,
           1
          ],
          [
           2975984.997108102,
           1
          ],
          [
           -170072.42372982495,
           -1
          ],
          [
           -156919.28473650475,
           -1
          ],
          [
           -217854.59198537443,
           -1
          ],
          [
           5979643.459650409,
           1
          ],
          [
           -87346790.71022066,
           -1
          ],
          [
           6363042.196539676,
           1
          ],
          [
           4616910.603031922,
           1
          ],
          [
           -35696517.33207237,
           -1
          ],
          [
           299625.082818929,
           1
          ],
          [
           -5309090.888768224,
           -1
          ],
          [
           629862.0297335319,
           1
          ],
          [
           124267.61196001997,
           1
          ],
          [
           -1904567.9063192722,
           -1
          ],
          [
           -1249254.6651787306,
           -1
          ],
          [
           -377719.0125811834,
           -1
          ],
          [
           877100.0795734036,
           1
          ],
          [
           -23062.68410882398,
           -1
          ],
          [
           -74258.5788800876,
           -1
          ],
          [
           -514.7562763868393,
           -1
          ],
          [
           -1406577.966809866,
           -1
          ],
          [
           97324.0645325785,
           1
          ],
          [
           -8764.048061959043,
           -1
          ],
          [
           -10172.786057871936,
           -1
          ],
          [
           -246.44175011872213,
           -1
          ],
          [
           1770567.8547318983,
           1
          ],
          [
           -526638.8397386281,
           -1
          ],
          [
           9815899.097335426,
           1
          ],
          [
           -47977.7023310328,
           -1
          ],
          [
           -725498.3255122241,
           -1
          ],
          [
           -13243.766704998283,
           -1
          ],
          [
           1487041.7167568835,
           1
          ],
          [
           -5063.083905525083,
           -1
          ],
          [
           -31709.738722508933,
           -1
          ],
          [
           -105158452.59848449,
           -1
          ],
          [
           413635.94018547726,
           1
          ],
          [
           -146492.91955801533,
           -1
          ],
          [
           -950315.4787547702,
           -1
          ],
          [
           36125.84142740285,
           1
          ],
          [
           -484842.8109983206,
           -1
          ],
          [
           -8242167.952304938,
           -1
          ],
          [
           -0.7973039477377097,
           -1
          ],
          [
           -821.2375129322782,
           -1
          ],
          [
           59415.92970591051,
           1
          ],
          [
           1404354.310244965,
           1
          ],
          [
           -191.34772829724787,
           -1
          ],
          [
           -1567230.7123632738,
           -1
          ],
          [
           -439856.3287624574,
           -1
          ],
          [
           -626.587289516774,
           -1
          ],
          [
           -267961.2005268632,
           -1
          ],
          [
           -4932567.443655983,
           -1
          ],
          [
           11823907.15523575,
           1
          ],
          [
           -10347415.508444363,
           -1
          ],
          [
           -2048995.1382924898,
           -1
          ],
          [
           -147725.02293620698,
           -1
          ],
          [
           -9991598.425719943,
           -1
          ],
          [
           -365238.0249198573,
           -1
          ],
          [
           -382674.7914189067,
           -1
          ],
          [
           -764644.2673203277,
           -1
          ],
          [
           3232498.098726748,
           1
          ],
          [
           -2299417.5999400527,
           -1
          ],
          [
           -3049.8287044127865,
           -1
          ],
          [
           2072397.1750501909,
           1
          ],
          [
           -7376.7912518326475,
           -1
          ],
          [
           -1095851.4690182367,
           -1
          ],
          [
           -10825067.86527619,
           -1
          ],
          [
           -1233629.7044384973,
           -1
          ],
          [
           -73569283.97743312,
           -1
          ],
          [
           -162581257.98846215,
           -1
          ],
          [
           -14341.752069799206,
           -1
          ],
          [
           658620.853162102,
           1
          ],
          [
           -21919050.205126747,
           -1
          ],
          [
           -37286.60052287922,
           -1
          ],
          [
           -29241744.888201743,
           -1
          ],
          [
           8940915.001966616,
           1
          ],
          [
           -3473013.91022878,
           -1
          ],
          [
           12982980.541679353,
           1
          ],
          [
           13885576.519184763,
           1
          ],
          [
           -133475876.82976416,
           -1
          ],
          [
           -1528081.830025368,
           -1
          ],
          [
           -1147999.9877185058,
           -1
          ],
          [
           -26321.353707942762,
           -1
          ],
          [
           -1099254.0154295536,
           -1
          ],
          [
           7453927.318563493,
           1
          ],
          [
           -1415123.181065638,
           -1
          ],
          [
           401.90133944528355,
           1
          ],
          [
           -1731015.5445489162,
           -1
          ],
          [
           -1259411.8901307825,
           -1
          ],
          [
           -503459.7709430588,
           -1
          ],
          [
           -159704.79296039566,
           -1
          ],
          [
           -68170.82928631965,
           -1
          ],
          [
           -1091231.3660917664,
           -1
          ],
          [
           -152951.01760183435,
           -1
          ],
          [
           1417938.0239829053,
           1
          ],
          [
           -3726022.701977252,
           -1
          ],
          [
           695500.5714766524,
           1
          ],
          [
           9548468.21085362,
           1
          ],
          [
           16384.60188725881,
           1
          ],
          [
           -17201.333476645,
           -1
          ],
          [
           -33252.23481191834,
           -1
          ],
          [
           -136207.20072132113,
           -1
          ],
          [
           -2144.9942300706984,
           -1
          ],
          [
           2659.7561729983768,
           1
          ],
          [
           155620261.29681328,
           1
          ],
          [
           -40907518.191481315,
           -1
          ],
          [
           968614.0485306404,
           1
          ],
          [
           -16422946.038589224,
           -1
          ],
          [
           -1049.311836580062,
           -1
          ],
          [
           -601.7157255665396,
           -1
          ],
          [
           -106.49838066829872,
           -1
          ],
          [
           765680.6655395858,
           1
          ],
          [
           -8480.91406110421,
           -1
          ],
          [
           -3220169.2682099617,
           -1
          ],
          [
           682674.9328564699,
           1
          ],
          [
           -28516351.57504075,
           -1
          ],
          [
           -4306839.063615348,
           -1
          ],
          [
           -621725.5066684033,
           -1
          ],
          [
           -256952.11228079797,
           -1
          ],
          [
           -3589696.731648018,
           -1
          ],
          [
           31003925.72606928,
           1
          ],
          [
           -7610020.190290773,
           -1
          ],
          [
           -1101196.43620915,
           -1
          ],
          [
           -76409.50916992193,
           -1
          ],
          [
           -117118.21519126701,
           -1
          ],
          [
           18798805.182752583,
           1
          ],
          [
           -827403.9805111241,
           -1
          ],
          [
           -12804715.129132163,
           -1
          ],
          [
           -35737649.34467112,
           -1
          ],
          [
           -1464938.6058519993,
           -1
          ],
          [
           -6266340.148134982,
           -1
          ],
          [
           15026357.627789905,
           1
          ],
          [
           25626237.34788129,
           1
          ],
          [
           3782878.6073893784,
           1
          ],
          [
           40932996.589832865,
           1
          ],
          [
           9060975.52,
           1
          ],
          [
           -110322.59212290359,
           -1
          ],
          [
           -2398.6189999999992,
           -1
          ],
          [
           559066.0132000002,
           1
          ],
          [
           11964.19689449616,
           1
          ],
          [
           -3059.827497769987,
           -1
          ],
          [
           -1818.2616000000012,
           -1
          ],
          [
           8751.670399999997,
           1
          ],
          [
           15996413.668955741,
           1
          ],
          [
           -1007116.3294047851,
           -1
          ],
          [
           -51465923.54728179,
           -1
          ],
          [
           -178529.31865584207,
           -1
          ],
          [
           -1909825.085974154,
           -1
          ],
          [
           4021188.8997052102,
           1
          ],
          [
           169.22270209767444,
           1
          ],
          [
           19212478.09535959,
           1
          ],
          [
           4918940.706072505,
           1
          ],
          [
           10350187.990905045,
           1
          ],
          [
           -53125283.72486453,
           -1
          ],
          [
           2949106.1315715574,
           1
          ],
          [
           35626927.537307344,
           1
          ],
          [
           -22787243.52793538,
           -1
          ],
          [
           9972956.441823939,
           1
          ],
          [
           420291.58359210315,
           1
          ],
          [
           5081742.745538577,
           1
          ],
          [
           -4512413.577281983,
           -1
          ],
          [
           -206018831.93604138,
           -1
          ],
          [
           -6062915.567526068,
           -1
          ],
          [
           -105045017.99147245,
           -1
          ],
          [
           -105441835.36458248,
           -1
          ],
          [
           -22692.551525469662,
           -1
          ],
          [
           17124.998200681886,
           1
          ],
          [
           -1021.5685887343848,
           -1
          ],
          [
           -1124219.5377793317,
           -1
          ],
          [
           -7701.033864715764,
           -1
          ],
          [
           -0.9555507406328144,
           -1
          ],
          [
           284058.09515612735,
           1
          ],
          [
           17007047.085903175,
           1
          ],
          [
           133976.8794357882,
           1
          ],
          [
           -8964045.243454713,
           -1
          ],
          [
           -210663.77176550875,
           -1
          ],
          [
           1690236.2442719832,
           1
          ],
          [
           -1005703.7327935874,
           -1
          ],
          [
           -151461260.21504417,
           -1
          ],
          [
           1269176.6747100928,
           1
          ],
          [
           -142188.5309896736,
           -1
          ],
          [
           7738177.650515913,
           1
          ],
          [
           -9302.303235532785,
           -1
          ],
          [
           -1194996.2055860306,
           -1
          ],
          [
           -1077.0648027006253,
           -1
          ],
          [
           -179.95458745197743,
           -1
          ],
          [
           35990418.584663846,
           1
          ],
          [
           -145076.94081853123,
           -1
          ],
          [
           -9421068.24699744,
           -1
          ],
          [
           -1704123.3716830397,
           -1
          ],
          [
           -901170.0267917487,
           -1
          ],
          [
           -9935784.285213541,
           -1
          ],
          [
           -559272.5669050013,
           -1
          ],
          [
           4403412.955002857,
           1
          ],
          [
           -33444.280969123036,
           -1
          ],
          [
           -164845.43304052498,
           -1
          ],
          [
           -282664.2293566903,
           -1
          ],
          [
           -1075130.8832316657,
           -1
          ],
          [
           7752.845758071115,
           1
          ],
          [
           -32581386.971594807,
           -1
          ],
          [
           -785073.1753429215,
           -1
          ],
          [
           -986038.3168002968,
           -1
          ],
          [
           -221097.59029857218,
           -1
          ],
          [
           2055735.5177009038,
           1
          ],
          [
           0.07048,
           1
          ],
          [
           264.23701536120404,
           1
          ],
          [
           -1323747.8625904827,
           -1
          ],
          [
           1682230.2398568767,
           1
          ],
          [
           -214.60180966290875,
           -1
          ],
          [
           11011076.529195284,
           1
          ],
          [
           10493588.04692705,
           1
          ],
          [
           -3309310.060373814,
           -1
          ],
          [
           -4808788.241911109,
           -1
          ],
          [
           -67469.57735051855,
           -1
          ],
          [
           -17923305.854336444,
           -1
          ],
          [
           -28118008.255021457,
           -1
          ],
          [
           -251299.46417179384,
           -1
          ],
          [
           -43530724.23795343,
           -1
          ],
          [
           144773321.22716862,
           1
          ],
          [
           -1437933.2950342488,
           -1
          ],
          [
           -10104439.703935083,
           -1
          ],
          [
           -12042.5494916289,
           -1
          ],
          [
           -96018.62410864655,
           -1
          ],
          [
           111809.13067116177,
           1
          ],
          [
           -4537000.108528268,
           -1
          ],
          [
           11636084.151915684,
           1
          ],
          [
           2858244.720976177,
           1
          ],
          [
           4338912.664944689,
           1
          ],
          [
           1095.7782345932162,
           1
          ],
          [
           441313.22214273224,
           1
          ],
          [
           -120263.577278162,
           -1
          ],
          [
           131576.01306125725,
           1
          ],
          [
           -739076.8498082663,
           -1
          ],
          [
           762035.6241473898,
           1
          ],
          [
           491140.67135884415,
           1
          ],
          [
           -13702095.244132403,
           -1
          ],
          [
           807530.003959832,
           1
          ],
          [
           -37018029.58566732,
           -1
          ],
          [
           0.7967600880600962,
           1
          ],
          [
           1744969.556268335,
           1
          ],
          [
           2136985.1700463505,
           1
          ],
          [
           -759.548886665381,
           -1
          ],
          [
           -558214.580124391,
           -1
          ],
          [
           -9743324.596752495,
           -1
          ],
          [
           -516869.5815008889,
           -1
          ],
          [
           -79652.79999999999,
           -1
          ],
          [
           155614167.809,
           1
          ],
          [
           -257008677.25490528,
           -1
          ],
          [
           -2044.5339999999987,
           -1
          ],
          [
           -109493.312,
           -1
          ],
          [
           -146611.8252,
           -1
          ],
          [
           24738.61,
           1
          ],
          [
           -1853858.9615265608,
           -1
          ],
          [
           -80102932.29665814,
           -1
          ],
          [
           3647269.720731257,
           1
          ],
          [
           -17563568.83370463,
           -1
          ],
          [
           -17407327.035366103,
           -1
          ],
          [
           35883962.479301035,
           1
          ],
          [
           -83422.60409263754,
           -1
          ],
          [
           -32366764.428921163,
           -1
          ],
          [
           4615442.26840852,
           1
          ],
          [
           -2293970.72443575,
           -1
          ],
          [
           -335741675.41386807,
           -1
          ],
          [
           -752778.7163529391,
           -1
          ],
          [
           -279112.38942397165,
           -1
          ],
          [
           -1646336239.26889,
           -1
          ],
          [
           10166771.800083566,
           1
          ],
          [
           -10731098.329879891,
           -1
          ],
          [
           296422.1227299883,
           1
          ],
          [
           36928671.79243746,
           1
          ],
          [
           -3183722.3455066825,
           -1
          ],
          [
           -17859565.275960155,
           -1
          ],
          [
           -6816271.050787602,
           -1
          ],
          [
           4074987.3227908644,
           1
          ],
          [
           -40102640.47306784,
           -1
          ],
          [
           -52261060.36496356,
           -1
          ],
          [
           202087853.73669496,
           1
          ],
          [
           291969.61271034204,
           1
          ],
          [
           -13716457.967575997,
           -1
          ],
          [
           -201391.41369426777,
           -1
          ],
          [
           1666915.5077877538,
           1
          ],
          [
           -135143437.5312491,
           -1
          ],
          [
           -157681498.38757613,
           -1
          ],
          [
           -6212687.669932003,
           -1
          ],
          [
           -490388.57100169105,
           -1
          ],
          [
           20424.308163809226,
           1
          ],
          [
           3102.3086158881233,
           1
          ],
          [
           -17711.74444511399,
           -1
          ],
          [
           1.637972651175701,
           1
          ],
          [
           -108372.66764650782,
           -1
          ],
          [
           2.251720466373727,
           1
          ],
          [
           4.156933708688396,
           1
          ],
          [
           182140.3083360694,
           1
          ],
          [
           14976.866694734068,
           1
          ],
          [
           215328771.32408404,
           1
          ],
          [
           1495702.4265429215,
           1
          ],
          [
           330235.05216673936,
           1
          ],
          [
           -91070.7566466242,
           -1
          ],
          [
           -2404036.1415129486,
           -1
          ],
          [
           -58179.27419197534,
           -1
          ],
          [
           -109635.4054680765,
           -1
          ],
          [
           143038875.65400636,
           1
          ],
          [
           70508710.99677958,
           1
          ],
          [
           4525853.43226339,
           1
          ],
          [
           2785830.2618518705,
           1
          ],
          [
           444167.32823427755,
           1
          ],
          [
           978275.0209858617,
           1
          ],
          [
           -609342.9587071412,
           -1
          ],
          [
           765048.3400950594,
           1
          ],
          [
           -21653797.70524287,
           -1
          ],
          [
           -9957255.689768072,
           -1
          ],
          [
           13867625.909949554,
           1
          ],
          [
           22286.73180418912,
           1
          ],
          [
           -128676761.95324586,
           -1
          ],
          [
           -12623162.568582643,
           -1
          ],
          [
           109589.71061907073,
           1
          ],
          [
           -41603233.390589006,
           -1
          ],
          [
           -10353319.323500391,
           -1
          ],
          [
           11828418.62183156,
           1
          ],
          [
           "(?)",
           -0.8579737316274049
          ],
          [
           "(?)",
           -0.33869102180913574
          ],
          [
           "(?)",
           1
          ],
          [
           "(?)",
           0.6313737861704655
          ],
          [
           133976.8794357882,
           1
          ],
          [
           "(?)",
           0.034954169831279844
          ],
          [
           "(?)",
           -0.97393175536801
          ],
          [
           "(?)",
           -0.9107615380174988
          ],
          [
           1982789.1196489288,
           1
          ],
          [
           "(?)",
           0.0008154541643965662
          ],
          [
           "(?)",
           0.8674175751171807
          ],
          [
           "(?)",
           0.1742801663190652
          ],
          [
           3102.3086158881233,
           1
          ],
          [
           "(?)",
           1
          ],
          [
           "(?)",
           -1
          ],
          [
           "(?)",
           0.2534534525540255
          ],
          [
           559066.0132000002,
           1
          ],
          [
           -1800298.2038120434,
           -1
          ],
          [
           "(?)",
           -0.883464861352291
          ],
          [
           17621575.392495766,
           1
          ],
          [
           -3298636.381461458,
           -1
          ],
          [
           36125.84142740285,
           1
          ],
          [
           "(?)",
           0.8135039691180852
          ],
          [
           "(?)",
           0.9277306769872469
          ],
          [
           -670670.8170116784,
           -1
          ],
          [
           10570011.807898404,
           1
          ],
          [
           "(?)",
           -0.4630806950302078
          ],
          [
           -9517698.756390676,
           -1
          ],
          [
           "(?)",
           -1
          ],
          [
           "(?)",
           -0.8693997073226343
          ],
          [
           "(?)",
           -0.7931637377709724
          ],
          [
           "(?)",
           0.3312917580209148
          ],
          [
           "(?)",
           -0.9408310225917341
          ],
          [
           40932996.589832865,
           1
          ],
          [
           "(?)",
           -1
          ],
          [
           -4306839.063615348,
           -1
          ],
          [
           "(?)",
           -1
          ],
          [
           -7193852.439985229,
           -1
          ],
          [
           "(?)",
           -0.26537135477934043
          ],
          [
           "(?)",
           -0.28426054781416027
          ],
          [
           -2030008.3807544515,
           -1
          ],
          [
           -157.43882934614714,
           -1
          ],
          [
           -821.2375129322782,
           -1
          ],
          [
           59415.92970591051,
           1
          ],
          [
           "(?)",
           0.9939035698520209
          ],
          [
           "(?)",
           -0.999999107446227
          ],
          [
           "(?)",
           1
          ],
          [
           "(?)",
           0.5996919782412169
          ],
          [
           "(?)",
           0.295690133207178
          ],
          [
           "(?)",
           -0.7228923995145541
          ],
          [
           "(?)",
           -0.8772005257065568
          ],
          [
           "(?)",
           0.691199729909057
          ],
          [
           1404354.310244965,
           1
          ],
          [
           "(?)",
           -1
          ],
          [
           -2404036.1415129486,
           -1
          ],
          [
           -58179.27419197534,
           -1
          ],
          [
           "(?)",
           0.7810905793045115
          ],
          [
           79570822.21675377,
           1
          ],
          [
           -179.95458745197743,
           -1
          ],
          [
           "(?)",
           -0.24714430565654996
          ],
          [
           -3354.045734690592,
           -1
          ],
          [
           "(?)",
           -0.5494336666880162
          ],
          [
           -188642.94831387015,
           -1
          ],
          [
           546562.5683658678,
           1
          ],
          [
           -191.34772829724787,
           -1
          ],
          [
           -10037974.098506771,
           -1
          ],
          [
           -2351538.2172385273,
           -1
          ],
          [
           -230868.9170336518,
           -1
          ],
          [
           "(?)",
           -0.327087714662187
          ],
          [
           "(?)",
           -0.8952051508543507
          ],
          [
           -6266340.148134982,
           -1
          ],
          [
           8751.670399999997,
           1
          ],
          [
           "(?)",
           -0.4858840604798897
          ],
          [
           "(?)",
           -0.7321143456053651
          ],
          [
           "(?)",
           -0.9998248126539866
          ],
          [
           "(?)",
           1
          ],
          [
           -13702095.244132403,
           -1
          ],
          [
           "(?)",
           -0.9999815839027801
          ],
          [
           4074987.3227908644,
           1
          ],
          [
           182140.3083360694,
           1
          ],
          [
           "(?)",
           -1
          ],
          [
           -21115.31709849067,
           -1
          ],
          [
           14976.866694734068,
           1
          ],
          [
           17621575.392495766,
           1
          ],
          [
           "(?)",
           -0.7599026972281349
          ],
          [
           "(?)",
           -0.3882900231982329
          ]
         ],
         "domain": {
          "x": [
           0,
           1
          ],
          "y": [
           0,
           1
          ]
         },
         "hovertemplate": "labels=%{label}<br>abs_cumul_net_dollar_flow_365d=%{value}<br>parent=%{parent}<br>id=%{id}<br>cumul_net_dollar_flow_365d=%{customdata[0]}<br>flow_direction_365d=%{color}<extra></extra>",
         "ids": [
          "all/Solana/01",
          "all/Mixin/4swap",
          "all/Ethereum/aave-v1",
          "all/Avalanche/aave-v2",
          "all/Ethereum/aave-v2",
          "all/Polygon/aave-v2",
          "all/Arbitrum/aave-v3",
          "all/Avalanche/aave-v3",
          "all/Fantom/aave-v3",
          "all/Harmony/aave-v3",
          "all/Optimism/aave-v3",
          "all/Polygon/aave-v3",
          "all/Acala/acala-dollar",
          "all/Acala/acala-lcdot",
          "all/Acala/acala-liquid-staking",
          "all/Ethereum/across",
          "all/Astar/acryptos",
          "all/Avalanche/acryptos",
          "all/Binance/acryptos",
          "all/Cronos/acryptos",
          "all/Fantom/acryptos",
          "all/Harmony/acryptos",
          "all/Moonbeam/acryptos",
          "all/Moonriver/acryptos",
          "all/xDai/acryptos",
          "all/Ethereum/alchemix",
          "all/Fantom/alchemix",
          "all/Optimism/alchemix",
          "all/Astar/algem",
          "all/Algorand/algo-liquid-governance",
          "all/Algorand/algofi-lend",
          "all/Binance/alpaca-finance",
          "all/Fantom/alpaca-finance",
          "all/Arbitrum/angle",
          "all/Ethereum/angle",
          "all/Optimism/angle",
          "all/Polygon/angle",
          "all/Avalanche/ankr",
          "all/Binance/ankr",
          "all/Ethereum/ankr",
          "all/Fantom/ankr",
          "all/Kusama/ankr",
          "all/Polkadot/ankr",
          "all/xDai/ankr",
          "all/Ethereum/ape-finance",
          "all/Binance/apeswap-amm",
          "all/Ethereum/apeswap-amm",
          "all/Polygon/apeswap-amm",
          "all/Telos/apeswap-amm",
          "all/Binance/apeswap-lending",
          "all/Binance/apollox",
          "all/Ethereum/arrakis-finance",
          "all/Optimism/arrakis-finance",
          "all/Polygon/arrakis-finance",
          "all/Astar/arthswap",
          "all/Terra/astroport",
          "all/Terra2/astroport",
          "all/Ethereum/aura",
          "all/Aurora/aurigami",
          "all/Aurora/aurora-plus",
          "all/Aptos/aux-exchange",
          "all/Arbitrum/b.protocol",
          "all/Ethereum/b.protocol",
          "all/Polygon/b.protocol",
          "all/Binance/babydogeswap",
          "all/Binance/babyswap",
          "all/Arbitrum/balancer",
          "all/Ethereum/balancer",
          "all/Polygon/balancer",
          "all/Ethereum/bancor-v2.1",
          "all/Ethereum/bancor-v3",
          "all/Aurora/bastion",
          "all/Arbitrum/beefy",
          "all/Aurora/beefy",
          "all/Avalanche/beefy",
          "all/Binance/beefy",
          "all/Celo/beefy",
          "all/Cronos/beefy",
          "all/Fantom/beefy",
          "all/Fuse/beefy",
          "all/Harmony/beefy",
          "all/Heco/beefy",
          "all/Kava/beefy",
          "all/Metis/beefy",
          "all/Moonbeam/beefy",
          "all/Moonriver/beefy",
          "all/Oasis/beefy",
          "all/Optimism/beefy",
          "all/Polygon/beefy",
          "all/Fantom/beethoven-x",
          "all/Optimism/beethoven-x",
          "all/Binance/belt-finance",
          "all/Heco/belt-finance",
          "all/Klaytn/belt-finance",
          "all/Ethereum/benddao",
          "all/Avalanche/benqi-lending",
          "all/Avalanche/benqi-staked-avax",
          "all/Avalanche/bifi",
          "all/Binance/bifi",
          "all/Bitcoin/bifi",
          "all/Ethereum/bifi",
          "all/Klaytn/bifi",
          "all/Bifrost/bifrost-staking",
          "all/Binance/biswap",
          "all/EOS/bullish",
          "all/Binance/bunny",
          "all/Polygon/bunny",
          "all/Near/burrow",
          "all/Canto/canto-dex",
          "all/Canto/canto-lending",
          "all/Arbitrum/cbridge",
          "all/Aurora/cbridge",
          "all/Avalanche/cbridge",
          "all/Binance/cbridge",
          "all/Boba/cbridge",
          "all/Celo/cbridge",
          "all/Ethereum/cbridge",
          "all/Fantom/cbridge",
          "all/Harmony/cbridge",
          "all/Metis/cbridge",
          "all/Optimism/cbridge",
          "all/Polygon/cbridge",
          "all/Shiden/cbridge",
          "all/Solana/cega",
          "all/Cronos/cgo-finance",
          "all/Cronos-masterchef/cgo-finance",
          "all/masterchef/cgo-finance",
          "all/Binance/chainport",
          "all/Ethereum/chainport",
          "all/Ethereum/clearpool",
          "all/Polygon/clearpool",
          "all/Ethereum/clipper",
          "all/Moonbeam/clipper",
          "all/Optimism/clipper",
          "all/Polygon/clipper",
          "all/Ethereum/coinbase-wrapped-staked-eth",
          "all/Binance/coinwind",
          "all/Heco/coinwind",
          "all/Ethereum/compound",
          "all/Ethereum/compound-v3",
          "all/Ethereum/concentrator",
          "all/Arbitrum/connext",
          "all/Avalanche/connext",
          "all/Binance/connext",
          "all/Boba/connext",
          "all/Cronos/connext",
          "all/Ethereum/connext",
          "all/Evmos/connext",
          "all/Fantom/connext",
          "all/Fuse/connext",
          "all/Milkomeda/connext",
          "all/Moonbeam/connext",
          "all/Moonriver/connext",
          "all/Optimism/connext",
          "all/Polygon/connext",
          "all/xDai/connext",
          "all/Ethereum/convex-finance",
          "all/Arbitrum/cream-finance",
          "all/Binance/cream-finance",
          "all/Ethereum/cream-finance",
          "all/Polygon/cream-finance",
          "all/Crescent/crescent-dex",
          "all/DFK/crystalvale",
          "all/Arbitrum/curve",
          "all/Aurora/curve",
          "all/Avalanche/curve",
          "all/Ethereum/curve",
          "all/Fantom/curve",
          "all/Kava/curve",
          "all/Moonbeam/curve",
          "all/Optimism/curve",
          "all/Polygon/curve",
          "all/xDai/curve",
          "all/Ethereum/cvault-finance",
          "all/Ethereum/damm-finance",
          "all/Binance/deeplock",
          "all/Ethereum/defi-franc",
          "all/Ethereum/defi-swap",
          "all/Wax/defibox",
          "all/Ethereum/defidollar-dao",
          "all/Ethereum/defisaver",
          "all/Avalanche/defrost",
          "all/Arbitrum/dforce",
          "all/Binance/dforce",
          "all/Ethereum/dforce",
          "all/Optimism/dforce",
          "all/Polygon/dforce",
          "all/Ethereum/dfx-finance",
          "all/Polygon/dfx-finance",
          "all/Fantom/dfyn-network",
          "all/OKExChain/dfyn-network",
          "all/Polygon/dfyn-network",
          "all/Arbitrum/dopex",
          "all/Binance/dopex",
          "all/Binance/dot-dot-finance",
          "all/Arbitrum/dxsale",
          "all/Avalanche/dxsale",
          "all/Binance/dxsale",
          "all/Celo/dxsale",
          "all/Cronos/dxsale",
          "all/Ethereum/dxsale",
          "all/Fantom/dxsale",
          "all/Harmony/dxsale",
          "all/Heco/dxsale",
          "all/Milkomeda/dxsale",
          "all/OKExChain/dxsale",
          "all/Polygon/dxsale",
          "all/Ethereum/dydx",
          "all/Binance/ellipsis-finance",
          "all/Ethereum/enzyme-finance",
          "all/EOS/eos-rex",
          "all/Ethereum/euler",
          "all/Ethereum/fantohm",
          "all/Fantom/fantohm",
          "all/Moonriver/fantohm",
          "all/Cronos/ferro",
          "all/Arbitrum/filda",
          "all/Binance/filda",
          "all/Elastos/filda",
          "all/Heco/filda",
          "all/IoTeX/filda",
          "all/Polygon/filda",
          "all/REI/filda",
          "all/Ethereum/flamincome",
          "all/NEO/flamingo-finance",
          "all/Ethereum/flexa",
          "all/Songbird/flrfarm",
          "all/Algorand/folks-finance-lending",
          "all/Ethereum/frax",
          "all/Fantom/frax",
          "all/Arbitrum/frax-swap",
          "all/Avalanche/frax-swap",
          "all/Binance/frax-swap",
          "all/Dogechain/frax-swap",
          "all/Ethereum/frax-swap",
          "all/Fantom/frax-swap",
          "all/Moonbeam/frax-swap",
          "all/Polygon/frax-swap",
          "all/Ethereum/fraxlend",
          "all/Solana/friktion",
          "all/Polygon/gains-network",
          "all/Ethereum/gearbox",
          "all/Fantom/geist-finance",
          "all/Arbitrum/gmx",
          "all/Avalanche/gmx",
          "all/Binance/grizzlyfi",
          "all/Binance/harvest-finance",
          "all/Ethereum/harvest-finance",
          "all/Polygon/harvest-finance",
          "all/Ethereum/hbtc",
          "all/Binance/hector-network",
          "all/Ethereum/hector-network",
          "all/Fantom/hector-network",
          "all/Solana/hedge",
          "all/Binance/helio-protocol",
          "all/Metis/hermes-protocol",
          "all/Avalanche/homora-v2",
          "all/Binance/homora-v2",
          "all/Ethereum/homora-v2",
          "all/Fantom/homora-v2",
          "all/Optimism/homora-v2",
          "all/Arbitrum/hop-protocol",
          "all/Ethereum/hop-protocol",
          "all/Optimism/hop-protocol",
          "all/Polygon/hop-protocol",
          "all/xDai/hop-protocol",
          "all/Solana/hubble",
          "all/Metis/hummus-exchange",
          "all/Ethereum/ichi-farm",
          "all/Polygon/ichi-farm",
          "all/Ethereum/idle-finance",
          "all/Polygon/idle-finance",
          "all/Ethereum/index-coop",
          "all/Ethereum/injective",
          "all/Ethereum/instadapp",
          "all/Avalanche/insurace",
          "all/Binance/insurace",
          "all/Ethereum/insurace",
          "all/Polygon/insurace",
          "all/Avalanche/iron-bank",
          "all/Ethereum/iron-bank",
          "all/Fantom/iron-bank",
          "all/Optimism/iron-bank",
          "all/Binance/iziswap",
          "all/Ethereum/jpegd",
          "all/Solana/jpool",
          "all/Juno/junoswap",
          "all/Tron/justlend",
          "all/Tron/juststables",
          "all/Ronin/katana-dex",
          "all/Kava/kava-lend",
          "all/Kava/kava-mint",
          "all/Ethereum/keep-network",
          "all/Klaytn/klap",
          "all/Klaytn/klayswap",
          "all/Klaytn/kleva-protocol",
          "all/Polygon/klima-dao",
          "all/Binance/knightswap-finance",
          "all/Fantom/knightswap-finance",
          "all/Klaytn/kokoa-finance",
          "all/Klaytn/kokonut-swap",
          "all/Arbitrum/kyberswap",
          "all/Avalanche/kyberswap",
          "all/Binance/kyberswap",
          "all/Cronos/kyberswap",
          "all/Ethereum/kyberswap",
          "all/Fantom/kyberswap",
          "all/Oasis/kyberswap",
          "all/Optimism/kyberswap",
          "all/Polygon/kyberswap",
          "all/Ethereum/lido",
          "all/Moonbeam/lido",
          "all/Moonriver/lido",
          "all/Solana/lido",
          "all/Terra/lido",
          "all/Bitcoin/lightning-network",
          "all/Near/linear-protocol",
          "all/Binance/liqee",
          "all/Ethereum/liqee",
          "all/Fantom/liquid-driver",
          "all/Aptos/liquidswap",
          "all/Ethereum/liquity",
          "all/Ethereum/llama-airforce",
          "all/Algorand/lofty",
          "all/Ethereum/loopring",
          "all/Ethereum/lusd-chickenbonds",
          "all/Ethereum/lyra",
          "all/Optimism/lyra",
          "all/Elrond/maiar-exchange",
          "all/Ethereum/makerdao",
          "all/Ethereum/maple",
          "all/Solana/maple",
          "all/Solana/marinade-finance",
          "all/Arbitrum/mcdex",
          "all/Avalanche/mcdex",
          "all/Binance/mcdex",
          "all/Fantom/mcdex",
          "all/Celo/mento",
          "all/Solana/mercurial-finance",
          "all/Polygon/meshswap",
          "all/Near/meta-pool",
          "all/Ethereum/metronome",
          "all/IoTeX/mimo",
          "all/Ethereum/mimo-protocol",
          "all/Fantom/mimo-protocol",
          "all/Polygon/mimo-protocol",
          "all/Cardano/minswap",
          "all/Cronos/mm-finance-cronos",
          "all/Celo/mobius-money",
          "all/Kucoin/mojitoswap",
          "all/RSK/moneyonchain",
          "all/Moonriver/moonwell-apollo",
          "all/Moonbeam/moonwell-artemis",
          "all/Ethereum/morpho-aave",
          "all/Ethereum/morpho-compound",
          "all/Ethereum/mstable",
          "all/Polygon/mstable",
          "all/Arbitrum/mycelium-perpetual-swaps",
          "all/NEO/neoburger",
          "all/Avalanche/nereus-finance",
          "all/Waves/neutrino",
          "all/Ethereum/nexus-mutual",
          "all/Ethereum/nftx",
          "all/Binance/nomiswap",
          "all/Ethereum/notional",
          "all/Binance/octus-bridge",
          "all/Ethereum/octus-bridge",
          "all/Everscale/octus-bridge",
          "all/Polygon/octus-bridge",
          "all/OKExChain/okcswap",
          "all/Ethereum/olympus-dao",
          "all/Avalanche/opyn",
          "all/Ethereum/opyn",
          "all/Polygon/opyn",
          "all/Binance/orbit-bridge",
          "all/Celo/orbit-bridge",
          "all/Ethereum/orbit-bridge",
          "all/Heco/orbit-bridge",
          "all/Klaytn/orbit-bridge",
          "all/Polygon/orbit-bridge",
          "all/Ripple/orbit-bridge",
          "all/Ethereum/origin-dollar",
          "all/Osmosis/osmosis",
          "all/Ethereum/ouchi-finance",
          "all/Boba/outcome-finance",
          "all/Ethereum/outcome-finance",
          "all/Polygon/outcome-finance",
          "all/Aptos/pancakeswap",
          "all/Binance/pancakeswap",
          "all/Mixin/pando-leaf",
          "all/Mixin/pando-rings",
          "all/Avalanche/pangolin",
          "all/Songbird/pangolin",
          "all/Heiko/parallel-lending",
          "all/Parallel/parallel-lending",
          "all/Parallel/parallel-liquid-crowdloan",
          "all/Heiko/parallel-liquid-staking",
          "all/Parallel/parallel-liquid-staking",
          "all/Solana/parrot-protocol",
          "all/Optimism/perpetual-protocol",
          "all/Arbitrum/pickle",
          "all/Aurora/pickle",
          "all/Cronos/pickle",
          "all/Ethereum/pickle",
          "all/Metis/pickle",
          "all/Moonbeam/pickle",
          "all/Moonriver/pickle",
          "all/OKExChain/pickle",
          "all/Optimism/pickle",
          "all/Polygon/pickle",
          "all/Optimism/pika-protocol",
          "all/Avalanche/pinksale",
          "all/Binance/pinksale",
          "all/Cronos/pinksale",
          "all/Ethereum/pinksale",
          "all/Fantom/pinksale",
          "all/Polygon/pinksale",
          "all/Avalanche/platypus-finance",
          "all/Arbitrum/plutusdao",
          "all/Binance/pnetwork",
          "all/Bitcoin/pnetwork",
          "all/Doge/pnetwork",
          "all/EOS/pnetwork",
          "all/Ethereum/pnetwork",
          "all/Fantom/pnetwork",
          "all/LBRY/pnetwork",
          "all/Litecoin/pnetwork",
          "all/ORE/pnetwork",
          "all/Ravencoin/pnetwork",
          "all/Telos/pnetwork",
          "all/Avalanche/pooltogether",
          "all/Binance/pooltogether",
          "all/Celo/pooltogether",
          "all/Ethereum/pooltogether",
          "all/Optimism/pooltogether",
          "all/Polygon/pooltogether",
          "all/Solana/port-finance",
          "all/Binance/pstake",
          "all/Ethereum/pstake",
          "all/Arbitrum/qidao",
          "all/Avalanche/qidao",
          "all/Binance/qidao",
          "all/Ethereum/qidao",
          "all/Fantom/qidao",
          "all/Harmony/qidao",
          "all/Metis/qidao",
          "all/Moonriver/qidao",
          "all/Optimism/qidao",
          "all/Polygon/qidao",
          "all/xDai/qidao",
          "all/Solana/quarry",
          "all/Polygon/quickswap-dex",
          "all/Dogechain/quickswap-v3",
          "all/Polygon/quickswap-v3",
          "all/Arbitrum/radiant",
          "all/Arbitrum/rari-capital",
          "all/Ethereum/rari-capital",
          "all/xDai/realt",
          "all/Fantom/reaper-farm",
          "all/Optimism/reaper-farm",
          "all/Ethereum/redacted-protocol",
          "all/Near/ref-finance",
          "all/Ethereum/reflexer",
          "all/Arbitrum/renvm",
          "all/Avalanche/renvm",
          "all/Binance/renvm",
          "all/Ethereum/renvm",
          "all/Fantom/renvm",
          "all/Optimism/renvm",
          "all/Polygon/renvm",
          "all/Solana/renvm",
          "all/Ethereum/reserve",
          "all/Telos/rex-staking",
          "all/Arbitrum/rhino.fi",
          "all/Ethereum/rhino.fi",
          "all/Polygon/rhino.fi",
          "all/Avalanche/ribbon",
          "all/Ethereum/ribbon",
          "all/Solana/ribbon",
          "all/Ethereum/ribbon-lend",
          "all/Arbitrum/risk-harbor",
          "all/Aurora/risk-harbor",
          "all/Avalanche/risk-harbor",
          "all/Ethereum/risk-harbor",
          "all/Fantom/risk-harbor",
          "all/Terra2/risk-harbor",
          "all/Ethereum/rocket-pool",
          "all/Solana/saber",
          "all/Arbitrum/saddle-finance",
          "all/Ethereum/saddle-finance",
          "all/Evmos/saddle-finance",
          "all/Fantom/saddle-finance",
          "all/Kava/saddle-finance",
          "all/Optimism/saddle-finance",
          "all/Fantom/scream",
          "all/Ethereum/set-protocol",
          "all/Ethereum/sherlock",
          "all/Ethereum/shibaswap",
          "all/Icon/sicx",
          "all/Cronos/single-finance",
          "all/Fantom/single-finance",
          "all/Moonriver/solarbeam",
          "all/Solana/solend",
          "all/Binance/solo-top",
          "all/Heco/solo-top",
          "all/OKExChain/solo-top",
          "all/Polygon/solo-top",
          "all/Optimism/sonne-finance",
          "all/Fantom/spartacus",
          "all/Fantom/spiritswap-amm",
          "all/Fantom/spookyswap",
          "all/Ethereum/spool-protocol",
          "all/Stacks/stacks-staking",
          "all/Binance/stader",
          "all/Ethereum/stader",
          "all/Fantom/stader",
          "all/Hedera/stader",
          "all/Near/stader",
          "all/Terra2/stader",
          "all/Binance/stafi",
          "all/Cosmos/stafi",
          "all/Ethereum/stafi",
          "all/Polygon/stafi",
          "all/Solana/stafi",
          "all/Stafi/stafi",
          "all/Klaytn/stake.ly",
          "all/Avalanche/stakedao",
          "all/Ethereum/stakedao",
          "all/Harmony/stakedao",
          "all/Polygon/stakedao",
          "all/Ethereum/stakewise",
          "all/xDai/stakewise",
          "all/Arbitrum/stargate",
          "all/Avalanche/stargate",
          "all/Binance/stargate",
          "all/Ethereum/stargate",
          "all/Fantom/stargate",
          "all/Optimism/stargate",
          "all/Polygon/stargate",
          "all/Moonbeam/stellaswap",
          "all/Ethereum/strike",
          "all/Ethereum/sturdy",
          "all/Fantom/sturdy",
          "all/Tron/sun.io",
          "all/Cardano/sundaeswap",
          "all/Solana/sunny",
          "all/Tron/sunswap",
          "all/Arbitrum/sushi-bentobox",
          "all/Avalanche/sushi-bentobox",
          "all/Binance/sushi-bentobox",
          "all/Ethereum/sushi-bentobox",
          "all/Fantom/sushi-bentobox",
          "all/Optimism/sushi-bentobox",
          "all/Polygon/sushi-bentobox",
          "all/Arbitrum/sushiswap",
          "all/Arbitrum Nova/sushiswap",
          "all/Avalanche/sushiswap",
          "all/Binance/sushiswap",
          "all/Boba/sushiswap",
          "all/Celo/sushiswap",
          "all/Ethereum/sushiswap",
          "all/Fantom/sushiswap",
          "all/Fuse/sushiswap",
          "all/Harmony/sushiswap",
          "all/Heco/sushiswap",
          "all/Moonriver/sushiswap",
          "all/OKExChain/sushiswap",
          "all/Palm/sushiswap",
          "all/Polygon/sushiswap",
          "all/Telos/sushiswap",
          "all/xDai/sushiswap",
          "all/Arbitrum/swapr",
          "all/Ethereum/swapr",
          "all/xDai/swapr",
          "all/Solana/swim-protocol",
          "all/Arbitrum/synapse",
          "all/Aurora/synapse",
          "all/Avalanche/synapse",
          "all/Binance/synapse",
          "all/Boba/synapse",
          "all/Cronos/synapse",
          "all/Ethereum/synapse",
          "all/Fantom/synapse",
          "all/Harmony/synapse",
          "all/Klaytn/synapse",
          "all/Metis/synapse",
          "all/Moonbeam/synapse",
          "all/Moonriver/synapse",
          "all/Optimism/synapse",
          "all/Polygon/synapse",
          "all/Terra/synapse",
          "all/Ethereum/synthetix",
          "all/Optimism/synthetix",
          "all/Fantom/tarot",
          "all/Optimism/tarot",
          "all/Avalanche/team-finance",
          "all/Binance/team-finance",
          "all/Ethereum/team-finance",
          "all/Polygon/team-finance",
          "all/Cronos/tectonic",
          "all/Ethereum/templedao",
          "all/Binance/terra-bridge",
          "all/Ethereum/terra-bridge",
          "all/Harmony/terra-bridge",
          "all/Binance/tetu-earn",
          "all/Ethereum/tetu-earn",
          "all/Fantom/tetu-earn",
          "all/Polygon/tetu-earn",
          "all/Tezos/tezos-liquidity-baking",
          "all/Ethereum/the-tokenized-bitcoin",
          "all/Aurora/thetanuts-finance",
          "all/Avalanche/thetanuts-finance",
          "all/Binance/thetanuts-finance",
          "all/Boba/thetanuts-finance",
          "all/Ethereum/thetanuts-finance",
          "all/Fantom/thetanuts-finance",
          "all/Polygon/thetanuts-finance",
          "all/Theta/thetaswap",
          "all/Algorand/tinyman",
          "all/Ethereum/tokemak",
          "all/Avalanche/tokensfarm",
          "all/Binance/tokensfarm",
          "all/Ethereum/tokensfarm",
          "all/Fantom/tokensfarm",
          "all/Polygon/tokensfarm",
          "all/Fantom/tomb-swap",
          "all/Arbitrum/tornado-cash",
          "all/Avalanche/tornado-cash",
          "all/Binance/tornado-cash",
          "all/Ethereum/tornado-cash",
          "all/Optimism/tornado-cash",
          "all/Polygon/tornado-cash",
          "all/xDai/tornado-cash",
          "all/Celo/toucan-protocol",
          "all/Polygon/toucan-protocol",
          "all/Avalanche/trader-joe-dex",
          "all/Avalanche/trader-joe-lend",
          "all/Binance/tranchess",
          "all/Aurora/trisolaris",
          "all/Ethereum/truefi",
          "all/Avalanche/unicrypt",
          "all/Binance/unicrypt",
          "all/Ethereum/unicrypt",
          "all/Polygon/unicrypt",
          "all/Ethereum/uniswap-v2",
          "all/Arbitrum/uniswap-v3",
          "all/Celo/uniswap-v3",
          "all/Ethereum/uniswap-v3",
          "all/Optimism/uniswap-v3",
          "all/Polygon/uniswap-v3",
          "all/Ethereum/unslashed",
          "all/Ethereum/uwu-lend",
          "all/Solana/uxd",
          "all/Binance/valas-finance",
          "all/Oasis/valleyswap",
          "all/Vision/vanswap",
          "all/Avalanche/vector-finance",
          "all/Optimism/velodrome",
          "all/Binance/venus",
          "all/Avalanche/vesper",
          "all/Ethereum/vesper",
          "all/Polygon/vesper",
          "all/Arbitrum/vesta-finance",
          "all/Waves/vires-finance",
          "all/Cronos/vvs-finance",
          "all/Binance/w3swap",
          "all/Avalanche/wan-bridge",
          "all/Binance/wan-bridge",
          "all/CLV/wan-bridge",
          "all/Ethereum/wan-bridge",
          "all/Moonbeam/wan-bridge",
          "all/Moonriver/wan-bridge",
          "all/OKExChain/wan-bridge",
          "all/Polygon/wan-bridge",
          "all/Wanchain/wan-bridge",
          "all/XDC/wan-bridge",
          "all/Ethereum/wbtc",
          "all/Binance/wing-finance",
          "all/Ethereum/wing-finance",
          "all/OKExChain/wing-finance",
          "all/Ontology/wing-finance",
          "all/OntologyEVM/wing-finance",
          "all/Cardano/wingriders",
          "all/Binance/wombat-exchange",
          "all/Binance/wombex-finance",
          "all/Avalanche/woofi",
          "all/Binance/woofi",
          "all/Fantom/woofi",
          "all/Polygon/woofi",
          "all/Celo/wrapped",
          "all/Ethereum/wrapped",
          "all/Binance/wrapped-bnb",
          "all/Waves/wx.network",
          "all/Ethereum/xdai-stake-bridge",
          "all/Arbitrum/yearn-finance",
          "all/Ethereum/yearn-finance",
          "all/Fantom/yearn-finance",
          "all/Optimism/yearn-finance",
          "all/Avalanche/yeti-finance",
          "all/Avalanche/yield-yak-aggregator",
          "all/Tezos/youves",
          "all/Acala",
          "all/Algorand",
          "all/Aptos",
          "all/Arbitrum",
          "all/Arbitrum Nova",
          "all/Astar",
          "all/Aurora",
          "all/Avalanche",
          "all/Bifrost",
          "all/Binance",
          "all/Bitcoin",
          "all/Boba",
          "all/CLV",
          "all/Canto",
          "all/Cardano",
          "all/Celo",
          "all/Cosmos",
          "all/Crescent",
          "all/Cronos",
          "all/Cronos-masterchef",
          "all/DFK",
          "all/Doge",
          "all/Dogechain",
          "all/EOS",
          "all/Elastos",
          "all/Elrond",
          "all/Ethereum",
          "all/Everscale",
          "all/Evmos",
          "all/Fantom",
          "all/Fuse",
          "all/Harmony",
          "all/Heco",
          "all/Hedera",
          "all/Heiko",
          "all/Icon",
          "all/IoTeX",
          "all/Juno",
          "all/Kava",
          "all/Klaytn",
          "all/Kucoin",
          "all/Kusama",
          "all/LBRY",
          "all/Litecoin",
          "all/Metis",
          "all/Milkomeda",
          "all/Mixin",
          "all/Moonbeam",
          "all/Moonriver",
          "all/NEO",
          "all/Near",
          "all/OKExChain",
          "all/ORE",
          "all/Oasis",
          "all/Ontology",
          "all/OntologyEVM",
          "all/Optimism",
          "all/Osmosis",
          "all/Palm",
          "all/Parallel",
          "all/Polkadot",
          "all/Polygon",
          "all/REI",
          "all/RSK",
          "all/Ravencoin",
          "all/Ripple",
          "all/Ronin",
          "all/Shiden",
          "all/Solana",
          "all/Songbird",
          "all/Stacks",
          "all/Stafi",
          "all/Telos",
          "all/Terra",
          "all/Terra2",
          "all/Tezos",
          "all/Theta",
          "all/Tron",
          "all/Vision",
          "all/Wanchain",
          "all/Waves",
          "all/Wax",
          "all/XDC",
          "all/masterchef",
          "all/xDai",
          "all"
         ],
         "labels": [
          "01",
          "4swap",
          "aave-v1",
          "aave-v2",
          "aave-v2",
          "aave-v2",
          "aave-v3",
          "aave-v3",
          "aave-v3",
          "aave-v3",
          "aave-v3",
          "aave-v3",
          "acala-dollar",
          "acala-lcdot",
          "acala-liquid-staking",
          "across",
          "acryptos",
          "acryptos",
          "acryptos",
          "acryptos",
          "acryptos",
          "acryptos",
          "acryptos",
          "acryptos",
          "acryptos",
          "alchemix",
          "alchemix",
          "alchemix",
          "algem",
          "algo-liquid-governance",
          "algofi-lend",
          "alpaca-finance",
          "alpaca-finance",
          "angle",
          "angle",
          "angle",
          "angle",
          "ankr",
          "ankr",
          "ankr",
          "ankr",
          "ankr",
          "ankr",
          "ankr",
          "ape-finance",
          "apeswap-amm",
          "apeswap-amm",
          "apeswap-amm",
          "apeswap-amm",
          "apeswap-lending",
          "apollox",
          "arrakis-finance",
          "arrakis-finance",
          "arrakis-finance",
          "arthswap",
          "astroport",
          "astroport",
          "aura",
          "aurigami",
          "aurora-plus",
          "aux-exchange",
          "b.protocol",
          "b.protocol",
          "b.protocol",
          "babydogeswap",
          "babyswap",
          "balancer",
          "balancer",
          "balancer",
          "bancor-v2.1",
          "bancor-v3",
          "bastion",
          "beefy",
          "beefy",
          "beefy",
          "beefy",
          "beefy",
          "beefy",
          "beefy",
          "beefy",
          "beefy",
          "beefy",
          "beefy",
          "beefy",
          "beefy",
          "beefy",
          "beefy",
          "beefy",
          "beefy",
          "beethoven-x",
          "beethoven-x",
          "belt-finance",
          "belt-finance",
          "belt-finance",
          "benddao",
          "benqi-lending",
          "benqi-staked-avax",
          "bifi",
          "bifi",
          "bifi",
          "bifi",
          "bifi",
          "bifrost-staking",
          "biswap",
          "bullish",
          "bunny",
          "bunny",
          "burrow",
          "canto-dex",
          "canto-lending",
          "cbridge",
          "cbridge",
          "cbridge",
          "cbridge",
          "cbridge",
          "cbridge",
          "cbridge",
          "cbridge",
          "cbridge",
          "cbridge",
          "cbridge",
          "cbridge",
          "cbridge",
          "cega",
          "cgo-finance",
          "cgo-finance",
          "cgo-finance",
          "chainport",
          "chainport",
          "clearpool",
          "clearpool",
          "clipper",
          "clipper",
          "clipper",
          "clipper",
          "coinbase-wrapped-staked-eth",
          "coinwind",
          "coinwind",
          "compound",
          "compound-v3",
          "concentrator",
          "connext",
          "connext",
          "connext",
          "connext",
          "connext",
          "connext",
          "connext",
          "connext",
          "connext",
          "connext",
          "connext",
          "connext",
          "connext",
          "connext",
          "connext",
          "convex-finance",
          "cream-finance",
          "cream-finance",
          "cream-finance",
          "cream-finance",
          "crescent-dex",
          "crystalvale",
          "curve",
          "curve",
          "curve",
          "curve",
          "curve",
          "curve",
          "curve",
          "curve",
          "curve",
          "curve",
          "cvault-finance",
          "damm-finance",
          "deeplock",
          "defi-franc",
          "defi-swap",
          "defibox",
          "defidollar-dao",
          "defisaver",
          "defrost",
          "dforce",
          "dforce",
          "dforce",
          "dforce",
          "dforce",
          "dfx-finance",
          "dfx-finance",
          "dfyn-network",
          "dfyn-network",
          "dfyn-network",
          "dopex",
          "dopex",
          "dot-dot-finance",
          "dxsale",
          "dxsale",
          "dxsale",
          "dxsale",
          "dxsale",
          "dxsale",
          "dxsale",
          "dxsale",
          "dxsale",
          "dxsale",
          "dxsale",
          "dxsale",
          "dydx",
          "ellipsis-finance",
          "enzyme-finance",
          "eos-rex",
          "euler",
          "fantohm",
          "fantohm",
          "fantohm",
          "ferro",
          "filda",
          "filda",
          "filda",
          "filda",
          "filda",
          "filda",
          "filda",
          "flamincome",
          "flamingo-finance",
          "flexa",
          "flrfarm",
          "folks-finance-lending",
          "frax",
          "frax",
          "frax-swap",
          "frax-swap",
          "frax-swap",
          "frax-swap",
          "frax-swap",
          "frax-swap",
          "frax-swap",
          "frax-swap",
          "fraxlend",
          "friktion",
          "gains-network",
          "gearbox",
          "geist-finance",
          "gmx",
          "gmx",
          "grizzlyfi",
          "harvest-finance",
          "harvest-finance",
          "harvest-finance",
          "hbtc",
          "hector-network",
          "hector-network",
          "hector-network",
          "hedge",
          "helio-protocol",
          "hermes-protocol",
          "homora-v2",
          "homora-v2",
          "homora-v2",
          "homora-v2",
          "homora-v2",
          "hop-protocol",
          "hop-protocol",
          "hop-protocol",
          "hop-protocol",
          "hop-protocol",
          "hubble",
          "hummus-exchange",
          "ichi-farm",
          "ichi-farm",
          "idle-finance",
          "idle-finance",
          "index-coop",
          "injective",
          "instadapp",
          "insurace",
          "insurace",
          "insurace",
          "insurace",
          "iron-bank",
          "iron-bank",
          "iron-bank",
          "iron-bank",
          "iziswap",
          "jpegd",
          "jpool",
          "junoswap",
          "justlend",
          "juststables",
          "katana-dex",
          "kava-lend",
          "kava-mint",
          "keep-network",
          "klap",
          "klayswap",
          "kleva-protocol",
          "klima-dao",
          "knightswap-finance",
          "knightswap-finance",
          "kokoa-finance",
          "kokonut-swap",
          "kyberswap",
          "kyberswap",
          "kyberswap",
          "kyberswap",
          "kyberswap",
          "kyberswap",
          "kyberswap",
          "kyberswap",
          "kyberswap",
          "lido",
          "lido",
          "lido",
          "lido",
          "lido",
          "lightning-network",
          "linear-protocol",
          "liqee",
          "liqee",
          "liquid-driver",
          "liquidswap",
          "liquity",
          "llama-airforce",
          "lofty",
          "loopring",
          "lusd-chickenbonds",
          "lyra",
          "lyra",
          "maiar-exchange",
          "makerdao",
          "maple",
          "maple",
          "marinade-finance",
          "mcdex",
          "mcdex",
          "mcdex",
          "mcdex",
          "mento",
          "mercurial-finance",
          "meshswap",
          "meta-pool",
          "metronome",
          "mimo",
          "mimo-protocol",
          "mimo-protocol",
          "mimo-protocol",
          "minswap",
          "mm-finance-cronos",
          "mobius-money",
          "mojitoswap",
          "moneyonchain",
          "moonwell-apollo",
          "moonwell-artemis",
          "morpho-aave",
          "morpho-compound",
          "mstable",
          "mstable",
          "mycelium-perpetual-swaps",
          "neoburger",
          "nereus-finance",
          "neutrino",
          "nexus-mutual",
          "nftx",
          "nomiswap",
          "notional",
          "octus-bridge",
          "octus-bridge",
          "octus-bridge",
          "octus-bridge",
          "okcswap",
          "olympus-dao",
          "opyn",
          "opyn",
          "opyn",
          "orbit-bridge",
          "orbit-bridge",
          "orbit-bridge",
          "orbit-bridge",
          "orbit-bridge",
          "orbit-bridge",
          "orbit-bridge",
          "origin-dollar",
          "osmosis",
          "ouchi-finance",
          "outcome-finance",
          "outcome-finance",
          "outcome-finance",
          "pancakeswap",
          "pancakeswap",
          "pando-leaf",
          "pando-rings",
          "pangolin",
          "pangolin",
          "parallel-lending",
          "parallel-lending",
          "parallel-liquid-crowdloan",
          "parallel-liquid-staking",
          "parallel-liquid-staking",
          "parrot-protocol",
          "perpetual-protocol",
          "pickle",
          "pickle",
          "pickle",
          "pickle",
          "pickle",
          "pickle",
          "pickle",
          "pickle",
          "pickle",
          "pickle",
          "pika-protocol",
          "pinksale",
          "pinksale",
          "pinksale",
          "pinksale",
          "pinksale",
          "pinksale",
          "platypus-finance",
          "plutusdao",
          "pnetwork",
          "pnetwork",
          "pnetwork",
          "pnetwork",
          "pnetwork",
          "pnetwork",
          "pnetwork",
          "pnetwork",
          "pnetwork",
          "pnetwork",
          "pnetwork",
          "pooltogether",
          "pooltogether",
          "pooltogether",
          "pooltogether",
          "pooltogether",
          "pooltogether",
          "port-finance",
          "pstake",
          "pstake",
          "qidao",
          "qidao",
          "qidao",
          "qidao",
          "qidao",
          "qidao",
          "qidao",
          "qidao",
          "qidao",
          "qidao",
          "qidao",
          "quarry",
          "quickswap-dex",
          "quickswap-v3",
          "quickswap-v3",
          "radiant",
          "rari-capital",
          "rari-capital",
          "realt",
          "reaper-farm",
          "reaper-farm",
          "redacted-protocol",
          "ref-finance",
          "reflexer",
          "renvm",
          "renvm",
          "renvm",
          "renvm",
          "renvm",
          "renvm",
          "renvm",
          "renvm",
          "reserve",
          "rex-staking",
          "rhino.fi",
          "rhino.fi",
          "rhino.fi",
          "ribbon",
          "ribbon",
          "ribbon",
          "ribbon-lend",
          "risk-harbor",
          "risk-harbor",
          "risk-harbor",
          "risk-harbor",
          "risk-harbor",
          "risk-harbor",
          "rocket-pool",
          "saber",
          "saddle-finance",
          "saddle-finance",
          "saddle-finance",
          "saddle-finance",
          "saddle-finance",
          "saddle-finance",
          "scream",
          "set-protocol",
          "sherlock",
          "shibaswap",
          "sicx",
          "single-finance",
          "single-finance",
          "solarbeam",
          "solend",
          "solo-top",
          "solo-top",
          "solo-top",
          "solo-top",
          "sonne-finance",
          "spartacus",
          "spiritswap-amm",
          "spookyswap",
          "spool-protocol",
          "stacks-staking",
          "stader",
          "stader",
          "stader",
          "stader",
          "stader",
          "stader",
          "stafi",
          "stafi",
          "stafi",
          "stafi",
          "stafi",
          "stafi",
          "stake.ly",
          "stakedao",
          "stakedao",
          "stakedao",
          "stakedao",
          "stakewise",
          "stakewise",
          "stargate",
          "stargate",
          "stargate",
          "stargate",
          "stargate",
          "stargate",
          "stargate",
          "stellaswap",
          "strike",
          "sturdy",
          "sturdy",
          "sun.io",
          "sundaeswap",
          "sunny",
          "sunswap",
          "sushi-bentobox",
          "sushi-bentobox",
          "sushi-bentobox",
          "sushi-bentobox",
          "sushi-bentobox",
          "sushi-bentobox",
          "sushi-bentobox",
          "sushiswap",
          "sushiswap",
          "sushiswap",
          "sushiswap",
          "sushiswap",
          "sushiswap",
          "sushiswap",
          "sushiswap",
          "sushiswap",
          "sushiswap",
          "sushiswap",
          "sushiswap",
          "sushiswap",
          "sushiswap",
          "sushiswap",
          "sushiswap",
          "sushiswap",
          "swapr",
          "swapr",
          "swapr",
          "swim-protocol",
          "synapse",
          "synapse",
          "synapse",
          "synapse",
          "synapse",
          "synapse",
          "synapse",
          "synapse",
          "synapse",
          "synapse",
          "synapse",
          "synapse",
          "synapse",
          "synapse",
          "synapse",
          "synapse",
          "synthetix",
          "synthetix",
          "tarot",
          "tarot",
          "team-finance",
          "team-finance",
          "team-finance",
          "team-finance",
          "tectonic",
          "templedao",
          "terra-bridge",
          "terra-bridge",
          "terra-bridge",
          "tetu-earn",
          "tetu-earn",
          "tetu-earn",
          "tetu-earn",
          "tezos-liquidity-baking",
          "the-tokenized-bitcoin",
          "thetanuts-finance",
          "thetanuts-finance",
          "thetanuts-finance",
          "thetanuts-finance",
          "thetanuts-finance",
          "thetanuts-finance",
          "thetanuts-finance",
          "thetaswap",
          "tinyman",
          "tokemak",
          "tokensfarm",
          "tokensfarm",
          "tokensfarm",
          "tokensfarm",
          "tokensfarm",
          "tomb-swap",
          "tornado-cash",
          "tornado-cash",
          "tornado-cash",
          "tornado-cash",
          "tornado-cash",
          "tornado-cash",
          "tornado-cash",
          "toucan-protocol",
          "toucan-protocol",
          "trader-joe-dex",
          "trader-joe-lend",
          "tranchess",
          "trisolaris",
          "truefi",
          "unicrypt",
          "unicrypt",
          "unicrypt",
          "unicrypt",
          "uniswap-v2",
          "uniswap-v3",
          "uniswap-v3",
          "uniswap-v3",
          "uniswap-v3",
          "uniswap-v3",
          "unslashed",
          "uwu-lend",
          "uxd",
          "valas-finance",
          "valleyswap",
          "vanswap",
          "vector-finance",
          "velodrome",
          "venus",
          "vesper",
          "vesper",
          "vesper",
          "vesta-finance",
          "vires-finance",
          "vvs-finance",
          "w3swap",
          "wan-bridge",
          "wan-bridge",
          "wan-bridge",
          "wan-bridge",
          "wan-bridge",
          "wan-bridge",
          "wan-bridge",
          "wan-bridge",
          "wan-bridge",
          "wan-bridge",
          "wbtc",
          "wing-finance",
          "wing-finance",
          "wing-finance",
          "wing-finance",
          "wing-finance",
          "wingriders",
          "wombat-exchange",
          "wombex-finance",
          "woofi",
          "woofi",
          "woofi",
          "woofi",
          "wrapped",
          "wrapped",
          "wrapped-bnb",
          "wx.network",
          "xdai-stake-bridge",
          "yearn-finance",
          "yearn-finance",
          "yearn-finance",
          "yearn-finance",
          "yeti-finance",
          "yield-yak-aggregator",
          "youves",
          "Acala",
          "Algorand",
          "Aptos",
          "Arbitrum",
          "Arbitrum Nova",
          "Astar",
          "Aurora",
          "Avalanche",
          "Bifrost",
          "Binance",
          "Bitcoin",
          "Boba",
          "CLV",
          "Canto",
          "Cardano",
          "Celo",
          "Cosmos",
          "Crescent",
          "Cronos",
          "Cronos-masterchef",
          "DFK",
          "Doge",
          "Dogechain",
          "EOS",
          "Elastos",
          "Elrond",
          "Ethereum",
          "Everscale",
          "Evmos",
          "Fantom",
          "Fuse",
          "Harmony",
          "Heco",
          "Hedera",
          "Heiko",
          "Icon",
          "IoTeX",
          "Juno",
          "Kava",
          "Klaytn",
          "Kucoin",
          "Kusama",
          "LBRY",
          "Litecoin",
          "Metis",
          "Milkomeda",
          "Mixin",
          "Moonbeam",
          "Moonriver",
          "NEO",
          "Near",
          "OKExChain",
          "ORE",
          "Oasis",
          "Ontology",
          "OntologyEVM",
          "Optimism",
          "Osmosis",
          "Palm",
          "Parallel",
          "Polkadot",
          "Polygon",
          "REI",
          "RSK",
          "Ravencoin",
          "Ripple",
          "Ronin",
          "Shiden",
          "Solana",
          "Songbird",
          "Stacks",
          "Stafi",
          "Telos",
          "Terra",
          "Terra2",
          "Tezos",
          "Theta",
          "Tron",
          "Vision",
          "Wanchain",
          "Waves",
          "Wax",
          "XDC",
          "masterchef",
          "xDai",
          "all"
         ],
         "marker": {
          "coloraxis": "coloraxis",
          "colors": [
           1,
           1,
           -1,
           -1,
           -1,
           -1,
           1,
           -1,
           -1,
           -1,
           1,
           1,
           -1,
           1,
           -1,
           -1,
           1,
           -1,
           -1,
           -1,
           1,
           -1,
           1,
           1,
           1,
           -1,
           -1,
           1,
           1,
           1,
           -1,
           -1,
           -1,
           1,
           -1,
           -1,
           1,
           1,
           1,
           1,
           -1,
           -1,
           -1,
           1,
           1,
           -1,
           -1,
           -1,
           1,
           -1,
           1,
           -1,
           1,
           1,
           -1,
           -1,
           -1,
           1,
           -1,
           1,
           1,
           -1,
           1,
           -1,
           1,
           -1,
           1,
           1,
           1,
           -1,
           -1,
           -1,
           -1,
           -1,
           -1,
           -1,
           -1,
           -1,
           -1,
           -1,
           -1,
           1,
           1,
           1,
           1,
           1,
           -1,
           1,
           1,
           -1,
           1,
           -1,
           -1,
           1,
           1,
           -1,
           1,
           -1,
           1,
           -1,
           -1,
           -1,
           1,
           -1,
           1,
           -1,
           -1,
           -1,
           1,
           1,
           -1,
           -1,
           -1,
           -1,
           -1,
           -1,
           -1,
           -1,
           -1,
           -1,
           -1,
           -1,
           -1,
           1,
           1,
           1,
           1,
           1,
           1,
           1,
           1,
           -1,
           -1,
           -1,
           -1,
           1,
           -1,
           -1,
           -1,
           1,
           -1,
           1,
           1,
           -1,
           -1,
           1,
           1,
           -1,
           -1,
           1,
           -1,
           -1,
           1,
           -1,
           1,
           -1,
           -1,
           -1,
           -1,
           -1,
           -1,
           -1,
           -1,
           -1,
           1,
           -1,
           1,
           -1,
           1,
           1,
           1,
           -1,
           -1,
           1,
           1,
           -1,
           -1,
           -1,
           -1,
           -1,
           -1,
           -1,
           -1,
           1,
           -1,
           1,
           1,
           -1,
           -1,
           1,
           -1,
           -1,
           1,
           1,
           -1,
           1,
           -1,
           -1,
           -1,
           -1,
           -1,
           -1,
           -1,
           1,
           1,
           -1,
           -1,
           -1,
           -1,
           -1,
           -1,
           1,
           1,
           -1,
           -1,
           -1,
           -1,
           1,
           -1,
           -1,
           -1,
           -1,
           -1,
           -1,
           -1,
           -1,
           -1,
           1,
           -1,
           -1,
           -1,
           -1,
           1,
           1,
           1,
           -1,
           -1,
           -1,
           1,
           1,
           1,
           1,
           1,
           1,
           -1,
           1,
           1,
           -1,
           1,
           -1,
           1,
           -1,
           -1,
           1,
           1,
           1,
           -1,
           -1,
           1,
           -1,
           1,
           1,
           1,
           1,
           -1,
           1,
           1,
           1,
           1,
           1,
           -1,
           -1,
           -1,
           1,
           -1,
           -1,
           -1,
           -1,
           -1,
           1,
           -1,
           -1,
           -1,
           1,
           1,
           -1,
           -1,
           -1,
           1,
           -1,
           -1,
           -1,
           -1,
           -1,
           -1,
           -1,
           -1,
           -1,
           -1,
           1,
           -1,
           1,
           1,
           -1,
           1,
           1,
           1,
           -1,
           1,
           -1,
           1,
           1,
           1,
           1,
           1,
           1,
           1,
           1,
           -1,
           -1,
           1,
           -1,
           1,
           1,
           -1,
           1,
           -1,
           1,
           1,
           -1,
           1,
           1,
           -1,
           1,
           1,
           -1,
           1,
           1,
           -1,
           -1,
           -1,
           -1,
           -1,
           1,
           -1,
           -1,
           -1,
           -1,
           -1,
           -1,
           1,
           1,
           -1,
           1,
           -1,
           -1,
           -1,
           1,
           1,
           -1,
           -1,
           -1,
           -1,
           -1,
           1,
           1,
           -1,
           -1,
           1,
           1,
           -1,
           1,
           1,
           1,
           -1,
           1,
           -1,
           1,
           -1,
           1,
           -1,
           -1,
           1,
           1,
           -1,
           -1,
           -1,
           1,
           -1,
           1,
           1,
           -1,
           1,
           -1,
           1,
           1,
           -1,
           -1,
           -1,
           1,
           -1,
           -1,
           -1,
           -1,
           1,
           -1,
           -1,
           -1,
           1,
           -1,
           1,
           -1,
           -1,
           -1,
           1,
           -1,
           -1,
           -1,
           1,
           -1,
           -1,
           1,
           -1,
           -1,
           -1,
           -1,
           1,
           1,
           -1,
           -1,
           -1,
           -1,
           -1,
           -1,
           1,
           -1,
           -1,
           -1,
           -1,
           -1,
           -1,
           -1,
           1,
           -1,
           -1,
           1,
           -1,
           -1,
           -1,
           -1,
           -1,
           -1,
           -1,
           1,
           -1,
           -1,
           -1,
           1,
           -1,
           1,
           1,
           -1,
           -1,
           -1,
           -1,
           -1,
           1,
           -1,
           1,
           -1,
           -1,
           -1,
           -1,
           -1,
           -1,
           -1,
           1,
           -1,
           1,
           1,
           1,
           -1,
           -1,
           -1,
           -1,
           1,
           1,
           -1,
           1,
           -1,
           -1,
           -1,
           -1,
           1,
           -1,
           -1,
           1,
           -1,
           -1,
           -1,
           -1,
           -1,
           1,
           -1,
           -1,
           -1,
           -1,
           1,
           -1,
           -1,
           -1,
           -1,
           -1,
           1,
           1,
           1,
           1,
           1,
           -1,
           -1,
           1,
           1,
           -1,
           -1,
           1,
           1,
           -1,
           -1,
           -1,
           -1,
           1,
           1,
           1,
           1,
           1,
           -1,
           1,
           1,
           -1,
           1,
           1,
           1,
           -1,
           -1,
           -1,
           -1,
           -1,
           -1,
           1,
           -1,
           -1,
           -1,
           -1,
           1,
           1,
           1,
           -1,
           -1,
           1,
           -1,
           -1,
           1,
           -1,
           1,
           -1,
           -1,
           -1,
           -1,
           1,
           -1,
           -1,
           -1,
           -1,
           -1,
           -1,
           1,
           -1,
           -1,
           -1,
           -1,
           1,
           -1,
           -1,
           -1,
           -1,
           1,
           1,
           1,
           -1,
           1,
           -1,
           1,
           1,
           -1,
           -1,
           -1,
           -1,
           -1,
           -1,
           -1,
           1,
           -1,
           -1,
           -1,
           -1,
           1,
           -1,
           1,
           1,
           1,
           1,
           1,
           -1,
           1,
           -1,
           1,
           1,
           -1,
           1,
           -1,
           1,
           1,
           1,
           -1,
           -1,
           -1,
           -1,
           -1,
           1,
           -1,
           -1,
           -1,
           -1,
           1,
           -1,
           -1,
           1,
           -1,
           -1,
           1,
           -1,
           -1,
           1,
           -1,
           -1,
           -1,
           -1,
           -1,
           1,
           -1,
           1,
           1,
           -1,
           -1,
           -1,
           1,
           -1,
           -1,
           1,
           1,
           -1,
           -1,
           1,
           -1,
           -1,
           -1,
           -1,
           1,
           1,
           -1,
           1,
           -1,
           1,
           1,
           1,
           1,
           1,
           1,
           1,
           -1,
           -1,
           -1,
           -1,
           1,
           1,
           1,
           1,
           1,
           1,
           -1,
           1,
           -1,
           -1,
           1,
           1,
           -1,
           -1,
           1,
           -1,
           -1,
           1,
           -0.8579737316274049,
           -0.33869102180913574,
           1,
           0.6313737861704655,
           1,
           0.034954169831279844,
           -0.97393175536801,
           -0.9107615380174988,
           1,
           0.0008154541643965662,
           0.8674175751171807,
           0.1742801663190652,
           1,
           1,
           -1,
           0.2534534525540255,
           1,
           -1,
           -0.883464861352291,
           1,
           -1,
           1,
           0.8135039691180852,
           0.9277306769872469,
           -1,
           1,
           -0.4630806950302078,
           -1,
           -1,
           -0.8693997073226343,
           -0.7931637377709724,
           0.3312917580209148,
           -0.9408310225917341,
           1,
           -1,
           -1,
           -1,
           -1,
           -0.26537135477934043,
           -0.28426054781416027,
           -1,
           -1,
           -1,
           1,
           0.9939035698520209,
           -0.999999107446227,
           1,
           0.5996919782412169,
           0.295690133207178,
           -0.7228923995145541,
           -0.8772005257065568,
           0.691199729909057,
           1,
           -1,
           -1,
           -1,
           0.7810905793045115,
           1,
           -1,
           -0.24714430565654996,
           -1,
           -0.5494336666880162,
           -1,
           1,
           -1,
           -1,
           -1,
           -1,
           -0.327087714662187,
           -0.8952051508543507,
           -1,
           1,
           -0.4858840604798897,
           -0.7321143456053651,
           -0.9998248126539866,
           1,
           -1,
           -0.9999815839027801,
           1,
           1,
           -1,
           -1,
           1,
           1,
           -0.7599026972281349,
           -0.3882900231982329
          ]
         },
         "name": "",
         "parents": [
          "all/Solana",
          "all/Mixin",
          "all/Ethereum",
          "all/Avalanche",
          "all/Ethereum",
          "all/Polygon",
          "all/Arbitrum",
          "all/Avalanche",
          "all/Fantom",
          "all/Harmony",
          "all/Optimism",
          "all/Polygon",
          "all/Acala",
          "all/Acala",
          "all/Acala",
          "all/Ethereum",
          "all/Astar",
          "all/Avalanche",
          "all/Binance",
          "all/Cronos",
          "all/Fantom",
          "all/Harmony",
          "all/Moonbeam",
          "all/Moonriver",
          "all/xDai",
          "all/Ethereum",
          "all/Fantom",
          "all/Optimism",
          "all/Astar",
          "all/Algorand",
          "all/Algorand",
          "all/Binance",
          "all/Fantom",
          "all/Arbitrum",
          "all/Ethereum",
          "all/Optimism",
          "all/Polygon",
          "all/Avalanche",
          "all/Binance",
          "all/Ethereum",
          "all/Fantom",
          "all/Kusama",
          "all/Polkadot",
          "all/xDai",
          "all/Ethereum",
          "all/Binance",
          "all/Ethereum",
          "all/Polygon",
          "all/Telos",
          "all/Binance",
          "all/Binance",
          "all/Ethereum",
          "all/Optimism",
          "all/Polygon",
          "all/Astar",
          "all/Terra",
          "all/Terra2",
          "all/Ethereum",
          "all/Aurora",
          "all/Aurora",
          "all/Aptos",
          "all/Arbitrum",
          "all/Ethereum",
          "all/Polygon",
          "all/Binance",
          "all/Binance",
          "all/Arbitrum",
          "all/Ethereum",
          "all/Polygon",
          "all/Ethereum",
          "all/Ethereum",
          "all/Aurora",
          "all/Arbitrum",
          "all/Aurora",
          "all/Avalanche",
          "all/Binance",
          "all/Celo",
          "all/Cronos",
          "all/Fantom",
          "all/Fuse",
          "all/Harmony",
          "all/Heco",
          "all/Kava",
          "all/Metis",
          "all/Moonbeam",
          "all/Moonriver",
          "all/Oasis",
          "all/Optimism",
          "all/Polygon",
          "all/Fantom",
          "all/Optimism",
          "all/Binance",
          "all/Heco",
          "all/Klaytn",
          "all/Ethereum",
          "all/Avalanche",
          "all/Avalanche",
          "all/Avalanche",
          "all/Binance",
          "all/Bitcoin",
          "all/Ethereum",
          "all/Klaytn",
          "all/Bifrost",
          "all/Binance",
          "all/EOS",
          "all/Binance",
          "all/Polygon",
          "all/Near",
          "all/Canto",
          "all/Canto",
          "all/Arbitrum",
          "all/Aurora",
          "all/Avalanche",
          "all/Binance",
          "all/Boba",
          "all/Celo",
          "all/Ethereum",
          "all/Fantom",
          "all/Harmony",
          "all/Metis",
          "all/Optimism",
          "all/Polygon",
          "all/Shiden",
          "all/Solana",
          "all/Cronos",
          "all/Cronos-masterchef",
          "all/masterchef",
          "all/Binance",
          "all/Ethereum",
          "all/Ethereum",
          "all/Polygon",
          "all/Ethereum",
          "all/Moonbeam",
          "all/Optimism",
          "all/Polygon",
          "all/Ethereum",
          "all/Binance",
          "all/Heco",
          "all/Ethereum",
          "all/Ethereum",
          "all/Ethereum",
          "all/Arbitrum",
          "all/Avalanche",
          "all/Binance",
          "all/Boba",
          "all/Cronos",
          "all/Ethereum",
          "all/Evmos",
          "all/Fantom",
          "all/Fuse",
          "all/Milkomeda",
          "all/Moonbeam",
          "all/Moonriver",
          "all/Optimism",
          "all/Polygon",
          "all/xDai",
          "all/Ethereum",
          "all/Arbitrum",
          "all/Binance",
          "all/Ethereum",
          "all/Polygon",
          "all/Crescent",
          "all/DFK",
          "all/Arbitrum",
          "all/Aurora",
          "all/Avalanche",
          "all/Ethereum",
          "all/Fantom",
          "all/Kava",
          "all/Moonbeam",
          "all/Optimism",
          "all/Polygon",
          "all/xDai",
          "all/Ethereum",
          "all/Ethereum",
          "all/Binance",
          "all/Ethereum",
          "all/Ethereum",
          "all/Wax",
          "all/Ethereum",
          "all/Ethereum",
          "all/Avalanche",
          "all/Arbitrum",
          "all/Binance",
          "all/Ethereum",
          "all/Optimism",
          "all/Polygon",
          "all/Ethereum",
          "all/Polygon",
          "all/Fantom",
          "all/OKExChain",
          "all/Polygon",
          "all/Arbitrum",
          "all/Binance",
          "all/Binance",
          "all/Arbitrum",
          "all/Avalanche",
          "all/Binance",
          "all/Celo",
          "all/Cronos",
          "all/Ethereum",
          "all/Fantom",
          "all/Harmony",
          "all/Heco",
          "all/Milkomeda",
          "all/OKExChain",
          "all/Polygon",
          "all/Ethereum",
          "all/Binance",
          "all/Ethereum",
          "all/EOS",
          "all/Ethereum",
          "all/Ethereum",
          "all/Fantom",
          "all/Moonriver",
          "all/Cronos",
          "all/Arbitrum",
          "all/Binance",
          "all/Elastos",
          "all/Heco",
          "all/IoTeX",
          "all/Polygon",
          "all/REI",
          "all/Ethereum",
          "all/NEO",
          "all/Ethereum",
          "all/Songbird",
          "all/Algorand",
          "all/Ethereum",
          "all/Fantom",
          "all/Arbitrum",
          "all/Avalanche",
          "all/Binance",
          "all/Dogechain",
          "all/Ethereum",
          "all/Fantom",
          "all/Moonbeam",
          "all/Polygon",
          "all/Ethereum",
          "all/Solana",
          "all/Polygon",
          "all/Ethereum",
          "all/Fantom",
          "all/Arbitrum",
          "all/Avalanche",
          "all/Binance",
          "all/Binance",
          "all/Ethereum",
          "all/Polygon",
          "all/Ethereum",
          "all/Binance",
          "all/Ethereum",
          "all/Fantom",
          "all/Solana",
          "all/Binance",
          "all/Metis",
          "all/Avalanche",
          "all/Binance",
          "all/Ethereum",
          "all/Fantom",
          "all/Optimism",
          "all/Arbitrum",
          "all/Ethereum",
          "all/Optimism",
          "all/Polygon",
          "all/xDai",
          "all/Solana",
          "all/Metis",
          "all/Ethereum",
          "all/Polygon",
          "all/Ethereum",
          "all/Polygon",
          "all/Ethereum",
          "all/Ethereum",
          "all/Ethereum",
          "all/Avalanche",
          "all/Binance",
          "all/Ethereum",
          "all/Polygon",
          "all/Avalanche",
          "all/Ethereum",
          "all/Fantom",
          "all/Optimism",
          "all/Binance",
          "all/Ethereum",
          "all/Solana",
          "all/Juno",
          "all/Tron",
          "all/Tron",
          "all/Ronin",
          "all/Kava",
          "all/Kava",
          "all/Ethereum",
          "all/Klaytn",
          "all/Klaytn",
          "all/Klaytn",
          "all/Polygon",
          "all/Binance",
          "all/Fantom",
          "all/Klaytn",
          "all/Klaytn",
          "all/Arbitrum",
          "all/Avalanche",
          "all/Binance",
          "all/Cronos",
          "all/Ethereum",
          "all/Fantom",
          "all/Oasis",
          "all/Optimism",
          "all/Polygon",
          "all/Ethereum",
          "all/Moonbeam",
          "all/Moonriver",
          "all/Solana",
          "all/Terra",
          "all/Bitcoin",
          "all/Near",
          "all/Binance",
          "all/Ethereum",
          "all/Fantom",
          "all/Aptos",
          "all/Ethereum",
          "all/Ethereum",
          "all/Algorand",
          "all/Ethereum",
          "all/Ethereum",
          "all/Ethereum",
          "all/Optimism",
          "all/Elrond",
          "all/Ethereum",
          "all/Ethereum",
          "all/Solana",
          "all/Solana",
          "all/Arbitrum",
          "all/Avalanche",
          "all/Binance",
          "all/Fantom",
          "all/Celo",
          "all/Solana",
          "all/Polygon",
          "all/Near",
          "all/Ethereum",
          "all/IoTeX",
          "all/Ethereum",
          "all/Fantom",
          "all/Polygon",
          "all/Cardano",
          "all/Cronos",
          "all/Celo",
          "all/Kucoin",
          "all/RSK",
          "all/Moonriver",
          "all/Moonbeam",
          "all/Ethereum",
          "all/Ethereum",
          "all/Ethereum",
          "all/Polygon",
          "all/Arbitrum",
          "all/NEO",
          "all/Avalanche",
          "all/Waves",
          "all/Ethereum",
          "all/Ethereum",
          "all/Binance",
          "all/Ethereum",
          "all/Binance",
          "all/Ethereum",
          "all/Everscale",
          "all/Polygon",
          "all/OKExChain",
          "all/Ethereum",
          "all/Avalanche",
          "all/Ethereum",
          "all/Polygon",
          "all/Binance",
          "all/Celo",
          "all/Ethereum",
          "all/Heco",
          "all/Klaytn",
          "all/Polygon",
          "all/Ripple",
          "all/Ethereum",
          "all/Osmosis",
          "all/Ethereum",
          "all/Boba",
          "all/Ethereum",
          "all/Polygon",
          "all/Aptos",
          "all/Binance",
          "all/Mixin",
          "all/Mixin",
          "all/Avalanche",
          "all/Songbird",
          "all/Heiko",
          "all/Parallel",
          "all/Parallel",
          "all/Heiko",
          "all/Parallel",
          "all/Solana",
          "all/Optimism",
          "all/Arbitrum",
          "all/Aurora",
          "all/Cronos",
          "all/Ethereum",
          "all/Metis",
          "all/Moonbeam",
          "all/Moonriver",
          "all/OKExChain",
          "all/Optimism",
          "all/Polygon",
          "all/Optimism",
          "all/Avalanche",
          "all/Binance",
          "all/Cronos",
          "all/Ethereum",
          "all/Fantom",
          "all/Polygon",
          "all/Avalanche",
          "all/Arbitrum",
          "all/Binance",
          "all/Bitcoin",
          "all/Doge",
          "all/EOS",
          "all/Ethereum",
          "all/Fantom",
          "all/LBRY",
          "all/Litecoin",
          "all/ORE",
          "all/Ravencoin",
          "all/Telos",
          "all/Avalanche",
          "all/Binance",
          "all/Celo",
          "all/Ethereum",
          "all/Optimism",
          "all/Polygon",
          "all/Solana",
          "all/Binance",
          "all/Ethereum",
          "all/Arbitrum",
          "all/Avalanche",
          "all/Binance",
          "all/Ethereum",
          "all/Fantom",
          "all/Harmony",
          "all/Metis",
          "all/Moonriver",
          "all/Optimism",
          "all/Polygon",
          "all/xDai",
          "all/Solana",
          "all/Polygon",
          "all/Dogechain",
          "all/Polygon",
          "all/Arbitrum",
          "all/Arbitrum",
          "all/Ethereum",
          "all/xDai",
          "all/Fantom",
          "all/Optimism",
          "all/Ethereum",
          "all/Near",
          "all/Ethereum",
          "all/Arbitrum",
          "all/Avalanche",
          "all/Binance",
          "all/Ethereum",
          "all/Fantom",
          "all/Optimism",
          "all/Polygon",
          "all/Solana",
          "all/Ethereum",
          "all/Telos",
          "all/Arbitrum",
          "all/Ethereum",
          "all/Polygon",
          "all/Avalanche",
          "all/Ethereum",
          "all/Solana",
          "all/Ethereum",
          "all/Arbitrum",
          "all/Aurora",
          "all/Avalanche",
          "all/Ethereum",
          "all/Fantom",
          "all/Terra2",
          "all/Ethereum",
          "all/Solana",
          "all/Arbitrum",
          "all/Ethereum",
          "all/Evmos",
          "all/Fantom",
          "all/Kava",
          "all/Optimism",
          "all/Fantom",
          "all/Ethereum",
          "all/Ethereum",
          "all/Ethereum",
          "all/Icon",
          "all/Cronos",
          "all/Fantom",
          "all/Moonriver",
          "all/Solana",
          "all/Binance",
          "all/Heco",
          "all/OKExChain",
          "all/Polygon",
          "all/Optimism",
          "all/Fantom",
          "all/Fantom",
          "all/Fantom",
          "all/Ethereum",
          "all/Stacks",
          "all/Binance",
          "all/Ethereum",
          "all/Fantom",
          "all/Hedera",
          "all/Near",
          "all/Terra2",
          "all/Binance",
          "all/Cosmos",
          "all/Ethereum",
          "all/Polygon",
          "all/Solana",
          "all/Stafi",
          "all/Klaytn",
          "all/Avalanche",
          "all/Ethereum",
          "all/Harmony",
          "all/Polygon",
          "all/Ethereum",
          "all/xDai",
          "all/Arbitrum",
          "all/Avalanche",
          "all/Binance",
          "all/Ethereum",
          "all/Fantom",
          "all/Optimism",
          "all/Polygon",
          "all/Moonbeam",
          "all/Ethereum",
          "all/Ethereum",
          "all/Fantom",
          "all/Tron",
          "all/Cardano",
          "all/Solana",
          "all/Tron",
          "all/Arbitrum",
          "all/Avalanche",
          "all/Binance",
          "all/Ethereum",
          "all/Fantom",
          "all/Optimism",
          "all/Polygon",
          "all/Arbitrum",
          "all/Arbitrum Nova",
          "all/Avalanche",
          "all/Binance",
          "all/Boba",
          "all/Celo",
          "all/Ethereum",
          "all/Fantom",
          "all/Fuse",
          "all/Harmony",
          "all/Heco",
          "all/Moonriver",
          "all/OKExChain",
          "all/Palm",
          "all/Polygon",
          "all/Telos",
          "all/xDai",
          "all/Arbitrum",
          "all/Ethereum",
          "all/xDai",
          "all/Solana",
          "all/Arbitrum",
          "all/Aurora",
          "all/Avalanche",
          "all/Binance",
          "all/Boba",
          "all/Cronos",
          "all/Ethereum",
          "all/Fantom",
          "all/Harmony",
          "all/Klaytn",
          "all/Metis",
          "all/Moonbeam",
          "all/Moonriver",
          "all/Optimism",
          "all/Polygon",
          "all/Terra",
          "all/Ethereum",
          "all/Optimism",
          "all/Fantom",
          "all/Optimism",
          "all/Avalanche",
          "all/Binance",
          "all/Ethereum",
          "all/Polygon",
          "all/Cronos",
          "all/Ethereum",
          "all/Binance",
          "all/Ethereum",
          "all/Harmony",
          "all/Binance",
          "all/Ethereum",
          "all/Fantom",
          "all/Polygon",
          "all/Tezos",
          "all/Ethereum",
          "all/Aurora",
          "all/Avalanche",
          "all/Binance",
          "all/Boba",
          "all/Ethereum",
          "all/Fantom",
          "all/Polygon",
          "all/Theta",
          "all/Algorand",
          "all/Ethereum",
          "all/Avalanche",
          "all/Binance",
          "all/Ethereum",
          "all/Fantom",
          "all/Polygon",
          "all/Fantom",
          "all/Arbitrum",
          "all/Avalanche",
          "all/Binance",
          "all/Ethereum",
          "all/Optimism",
          "all/Polygon",
          "all/xDai",
          "all/Celo",
          "all/Polygon",
          "all/Avalanche",
          "all/Avalanche",
          "all/Binance",
          "all/Aurora",
          "all/Ethereum",
          "all/Avalanche",
          "all/Binance",
          "all/Ethereum",
          "all/Polygon",
          "all/Ethereum",
          "all/Arbitrum",
          "all/Celo",
          "all/Ethereum",
          "all/Optimism",
          "all/Polygon",
          "all/Ethereum",
          "all/Ethereum",
          "all/Solana",
          "all/Binance",
          "all/Oasis",
          "all/Vision",
          "all/Avalanche",
          "all/Optimism",
          "all/Binance",
          "all/Avalanche",
          "all/Ethereum",
          "all/Polygon",
          "all/Arbitrum",
          "all/Waves",
          "all/Cronos",
          "all/Binance",
          "all/Avalanche",
          "all/Binance",
          "all/CLV",
          "all/Ethereum",
          "all/Moonbeam",
          "all/Moonriver",
          "all/OKExChain",
          "all/Polygon",
          "all/Wanchain",
          "all/XDC",
          "all/Ethereum",
          "all/Binance",
          "all/Ethereum",
          "all/OKExChain",
          "all/Ontology",
          "all/OntologyEVM",
          "all/Cardano",
          "all/Binance",
          "all/Binance",
          "all/Avalanche",
          "all/Binance",
          "all/Fantom",
          "all/Polygon",
          "all/Celo",
          "all/Ethereum",
          "all/Binance",
          "all/Waves",
          "all/Ethereum",
          "all/Arbitrum",
          "all/Ethereum",
          "all/Fantom",
          "all/Optimism",
          "all/Avalanche",
          "all/Avalanche",
          "all/Tezos",
          "all",
          "all",
          "all",
          "all",
          "all",
          "all",
          "all",
          "all",
          "all",
          "all",
          "all",
          "all",
          "all",
          "all",
          "all",
          "all",
          "all",
          "all",
          "all",
          "all",
          "all",
          "all",
          "all",
          "all",
          "all",
          "all",
          "all",
          "all",
          "all",
          "all",
          "all",
          "all",
          "all",
          "all",
          "all",
          "all",
          "all",
          "all",
          "all",
          "all",
          "all",
          "all",
          "all",
          "all",
          "all",
          "all",
          "all",
          "all",
          "all",
          "all",
          "all",
          "all",
          "all",
          "all",
          "all",
          "all",
          "all",
          "all",
          "all",
          "all",
          "all",
          "all",
          "all",
          "all",
          "all",
          "all",
          "all",
          "all",
          "all",
          "all",
          "all",
          "all",
          "all",
          "all",
          "all",
          "all",
          "all",
          "all",
          "all",
          "all",
          "all",
          "all",
          "all",
          "all",
          "all",
          ""
         ],
         "root": {
          "color": "lightgrey"
         },
         "type": "treemap",
         "values": [
          6959494.853137466,
          5344336.044030549,
          6679475.372145963,
          67477522.77886064,
          479483632.1467449,
          137570090.31733274,
          8096820.483051691,
          486421413.2502203,
          4396959.891617758,
          83361.75910030959,
          316136552.55998933,
          14020678.082691688,
          73405251.72649918,
          7848860.830931084,
          29272776.881644353,
          24498909.665826775,
          42990.37170639647,
          50666.23693379917,
          4647219.0382138025,
          3200943.5072444845,
          11636.05613198112,
          4826.395835440313,
          117379.72227324655,
          15161.384863820043,
          6179.629058281076,
          65640434.212179564,
          703374.3105699802,
          288996.3317335189,
          5181532.170622365,
          21531197.374471378,
          74171135.94242354,
          203565597.24514487,
          5081104.391206969,
          1218.4519211942538,
          12102781.0454558,
          2222060.3929059184,
          203945.53452453468,
          47543.33179012392,
          85812726.28662284,
          707126.838865181,
          2077.9993293802463,
          157.43882934614714,
          3354.045734690592,
          2.8393435827628397,
          5880791.551047298,
          11441317.355587898,
          1879.2226465869433,
          4132801.6287066755,
          647716.3751463253,
          2411389.73910171,
          8088794.349815557,
          983437038.122293,
          7806450.009462903,
          19252.692087435746,
          4871620.252439576,
          670322.6321925174,
          30251724.161913283,
          281653886.1669097,
          9504067.954977868,
          592507.9216574053,
          17953984.358326595,
          67787.87031892533,
          24405372.782922972,
          404014.0995985299,
          11700378.702001039,
          20196402.889709868,
          17937607.881610762,
          291063483.2107607,
          53318357.59856714,
          104719834.48419857,
          9934649.66071467,
          16449792.254971834,
          4170039.4955440834,
          325647.4477971385,
          9793534.103252333,
          2362576.0922909845,
          41270.2974454213,
          3207156.2568797367,
          21379200.21897118,
          409922.6640325382,
          22167.433399414156,
          666.4101340908041,
          396533.89060961176,
          1657505.6227580826,
          5622671.02734524,
          1020162.3247362762,
          151911.42379032754,
          20773988.602479246,
          1799848.6037135972,
          19453714.247570984,
          13340049.997321077,
          2223327.1491878293,
          190147.36899611526,
          238195.728107723,
          15265325.225738645,
          69974079.05003347,
          22325234.153633863,
          142003.37042291567,
          6345994.695525024,
          131768.65298556504,
          540475.4302865484,
          758509.7269149009,
          1982789.1196489288,
          48453815.732414074,
          52061494.298767224,
          48933280.087290734,
          22714.75408984795,
          26809779.207715206,
          71579727.0184973,
          44287358.59054952,
          4021741.3913089973,
          1147390.2262129015,
          8291430.746222125,
          8813749.840978405,
          29597.153678593368,
          97.17003443754709,
          7509792.772890438,
          2516305.052899507,
          2596597.1126993583,
          84872.06068879443,
          1852867.8397603522,
          4617128.760926502,
          230868.9170336518,
          16633504.32063431,
          17621575.39249577,
          17621575.392495766,
          17621575.392495766,
          160782.24497014366,
          40827123.15383253,
          6358980.735869509,
          3586475.3337011375,
          3094621.692730846,
          114684.68456870364,
          24147.79937326201,
          839176.5369028846,
          274917473.2097263,
          5412625.22843114,
          7479367.383306541,
          731566010.8869505,
          133289577.96948831,
          28776879.589560788,
          807506.1815731041,
          108805.93281597736,
          548930.3270358909,
          6245.202285942491,
          86639.22083065646,
          611426.1321078578,
          177039.32551298308,
          1727906.7855800567,
          63684.43299837773,
          981862.5781564796,
          55178.393100776804,
          64518.71886330723,
          462478.5067294913,
          159552.85978982665,
          1029123.636561412,
          468258409.4542164,
          44776.5584400933,
          5788798.562216394,
          0.6412952850054466,
          200180.73493093424,
          1800298.2038120434,
          3298636.381461458,
          29737062.875628248,
          137.98999298028914,
          69351696.19752663,
          4975999.474000126,
          50759980.2309566,
          14955461.297909338,
          16533758.492691064,
          24625475.958916917,
          41678539.31482182,
          46169760.48166302,
          4501263.321861183,
          22951039.215790525,
          2498854.3230299633,
          712998.9736683693,
          678365.8880067539,
          21115.31709849067,
          1297412.6353839028,
          4754858.901359986,
          3059896.246164578,
          185494.4941077626,
          3750752.8194901096,
          1080084.107820384,
          537246.234335216,
          438597.6938964089,
          509551.2960339985,
          869541.9808694399,
          16778.608563772512,
          0.44300300397875514,
          2352543.505401166,
          38.6868758711961,
          1.2033503323595671,
          11874481.065566283,
          80177.90648584791,
          517631.63704408874,
          18684437.1508608,
          1832.5431604260662,
          23552.362531123803,
          233600.18837828582,
          135799.6992156299,
          276.19724559010837,
          37203.82995237156,
          0.4381827699481415,
          7229.206845029151,
          93961.65449996358,
          169341723.07709026,
          126362987.18454863,
          1761512.2911686115,
          1466907.4998305524,
          64787886.72814548,
          370236.4038693021,
          1817402.5935886123,
          388.378905323214,
          2973023.1191597683,
          1.029996135635237,
          8.08605504151834,
          670670.8170116784,
          1340726.7696151293,
          1164761.1155685545,
          928.4650370647987,
          188642.94831387015,
          1937.0999085670303,
          11820901.617431648,
          26630096.650639646,
          5418691.9005376585,
          13042719.85771865,
          135777735.03286025,
          14714371.971159765,
          2296753.879120887,
          8152.42220916455,
          157.30522544941363,
          139460.47097997798,
          21989577.51479862,
          8934.058039643334,
          1975028.4884151954,
          8955.715737339251,
          11981040.501554316,
          1019618.5691485035,
          9287219.616712423,
          37856424.81441252,
          6741342.333754609,
          204678335.74678925,
          25994372.511200644,
          3739765.311309706,
          3666.607201833246,
          8664902.863032455,
          409896.71325050056,
          507333697.4592245,
          2337188.6912314147,
          4442.877762638592,
          11381177.360395167,
          1991842.6634772972,
          68087462.93413536,
          8696844.806256533,
          4612457.178050939,
          165390.4030548724,
          5664252.515430343,
          2724641.7724358677,
          10716107.963111643,
          7015699.865523355,
          14814029.37240677,
          7563890.492837576,
          734501.7546053214,
          320998.61949153506,
          5589032.839443426,
          13178520.339882215,
          8221143.168325651,
          58638.67892196246,
          7220894.77363427,
          56293.47713508831,
          1504341.0350238136,
          16389110.943592144,
          182994734.92047644,
          454478.8447854755,
          675194.114516236,
          742144.9979577634,
          1648416.0715345817,
          260454.14700156427,
          2596685.2646265794,
          304378.69438710157,
          188447.26018624086,
          593351.2839390584,
          14094115.392858794,
          12738495.463686433,
          7193852.439985229,
          170950477.88536558,
          4442.106177999836,
          2351538.2172385273,
          2487594.725766335,
          23955556.980720818,
          1307856.602910583,
          42219120.97569861,
          29803362.308008395,
          14409857.024207383,
          514082.19707731623,
          12981093.647803357,
          676799.6468759659,
          51151727.01044678,
          31236080.09619603,
          1037256.6205883627,
          9997633.119302351,
          2004714.7045650866,
          99886.20614585151,
          5469652.157403213,
          319320.1020779316,
          243045.8364306607,
          715784.6749033589,
          4039041.947447985,
          613942801.9914043,
          9698068.404535701,
          2567328.2100489684,
          65333429.391239956,
          103704.06906586963,
          15241107.01062588,
          1428107.297606151,
          2380630.0198507495,
          27137.351803012563,
          10612781.988481814,
          9439624.134537883,
          14391035.942176476,
          1971021.1098950957,
          1258850.8776393274,
          25897817.795538995,
          23743985.09644643,
          2549859.2647024854,
          6944817.89059822,
          10570011.807898404,
          309964092.5668534,
          6227505.301935836,
          3468141.235109724,
          16828368.909210965,
          5136748.614405945,
          336733.59344849305,
          917176.7649678242,
          528245.3881735632,
          7311945.8221599385,
          5174554.742163798,
          38613536.36687894,
          57960.19281599451,
          7125724.650464638,
          6480025.220998907,
          1024702.1488180235,
          80685.7512009153,
          795797.8374320582,
          3052141.1438687146,
          76691106.58530323,
          2164357.1460677045,
          2030008.3807544515,
          546562.5683658678,
          5367138.056457937,
          8342648.967816424,
          11020274.980900766,
          11460245.104317324,
          22892368.54423145,
          536013.4745504761,
          8367833.297989017,
          1901257.2600029856,
          3598280.429726179,
          92994755.87897913,
          28568087.78399304,
          4843585.3341079755,
          38837335.11919486,
          6336594.0718608685,
          5698.732764002916,
          73751.6919399765,
          9517698.756390676,
          4.908387614537551,
          964076.1670625069,
          85563383.93615066,
          1848068.0949092763,
          39348857.4016149,
          546680.197514326,
          1011415.8657863517,
          14.518691335213969,
          34755021.006968066,
          270674.8341157298,
          2264146.458265857,
          218917.37579723002,
          10037974.098506771,
          4845486.717976894,
          79570822.21675377,
          2975984.997108102,
          170072.42372982495,
          156919.28473650475,
          217854.59198537443,
          5979643.459650409,
          87346790.71022066,
          6363042.196539676,
          4616910.603031922,
          35696517.33207237,
          299625.082818929,
          5309090.888768224,
          629862.0297335319,
          124267.61196001997,
          1904567.9063192722,
          1249254.6651787306,
          377719.0125811834,
          877100.0795734036,
          23062.68410882398,
          74258.5788800876,
          514.7562763868393,
          1406577.966809866,
          97324.0645325785,
          8764.048061959043,
          10172.786057871936,
          246.44175011872213,
          1770567.8547318983,
          526638.8397386281,
          9815899.097335426,
          47977.7023310328,
          725498.3255122241,
          13243.766704998283,
          1487041.7167568835,
          5063.083905525083,
          31709.738722508933,
          105158452.59848449,
          413635.94018547726,
          146492.91955801533,
          950315.4787547702,
          36125.84142740285,
          484842.8109983206,
          8242167.952304938,
          0.7973039477377097,
          821.2375129322782,
          59415.92970591051,
          1404354.310244965,
          191.34772829724787,
          1567230.7123632738,
          439856.3287624574,
          626.587289516774,
          267961.2005268632,
          4932567.443655983,
          11823907.15523575,
          10347415.508444363,
          2048995.1382924898,
          147725.02293620698,
          9991598.425719943,
          365238.0249198573,
          382674.7914189067,
          764644.2673203277,
          3232498.098726748,
          2299417.5999400527,
          3049.8287044127865,
          2072397.1750501909,
          7376.7912518326475,
          1095851.4690182367,
          10825067.86527619,
          1233629.7044384973,
          73569283.97743312,
          162581257.98846215,
          14341.752069799206,
          658620.853162102,
          21919050.205126747,
          37286.60052287922,
          29241744.888201743,
          8940915.001966616,
          3473013.91022878,
          12982980.541679353,
          13885576.519184763,
          133475876.82976416,
          1528081.830025368,
          1147999.9877185058,
          26321.353707942762,
          1099254.0154295536,
          7453927.318563493,
          1415123.181065638,
          401.90133944528355,
          1731015.5445489162,
          1259411.8901307825,
          503459.7709430588,
          159704.79296039566,
          68170.82928631965,
          1091231.3660917664,
          152951.01760183435,
          1417938.0239829053,
          3726022.701977252,
          695500.5714766524,
          9548468.21085362,
          16384.60188725881,
          17201.333476645,
          33252.23481191834,
          136207.20072132113,
          2144.9942300706984,
          2659.7561729983768,
          155620261.29681328,
          40907518.191481315,
          968614.0485306404,
          16422946.038589224,
          1049.311836580062,
          601.7157255665396,
          106.49838066829872,
          765680.6655395858,
          8480.91406110421,
          3220169.2682099617,
          682674.9328564699,
          28516351.57504075,
          4306839.063615348,
          621725.5066684033,
          256952.11228079797,
          3589696.731648018,
          31003925.72606928,
          7610020.190290773,
          1101196.43620915,
          76409.50916992193,
          117118.21519126701,
          18798805.182752583,
          827403.9805111241,
          12804715.129132163,
          35737649.34467112,
          1464938.6058519993,
          6266340.148134982,
          15026357.627789905,
          25626237.34788129,
          3782878.6073893784,
          40932996.589832865,
          9060975.52,
          110322.59212290359,
          2398.6189999999992,
          559066.0132000002,
          11964.19689449616,
          3059.827497769987,
          1818.2616000000012,
          8751.670399999997,
          15996413.668955741,
          1007116.3294047851,
          51465923.54728179,
          178529.31865584207,
          1909825.085974154,
          4021188.8997052102,
          169.22270209767444,
          19212478.09535959,
          4918940.706072505,
          10350187.990905045,
          53125283.72486453,
          2949106.1315715574,
          35626927.537307344,
          22787243.52793538,
          9972956.441823939,
          420291.58359210315,
          5081742.745538577,
          4512413.577281983,
          206018831.93604138,
          6062915.567526068,
          105045017.99147245,
          105441835.36458248,
          22692.551525469662,
          17124.998200681886,
          1021.5685887343848,
          1124219.5377793317,
          7701.033864715764,
          0.9555507406328144,
          284058.09515612735,
          17007047.085903175,
          133976.8794357882,
          8964045.243454713,
          210663.77176550875,
          1690236.2442719832,
          1005703.7327935874,
          151461260.21504417,
          1269176.6747100928,
          142188.5309896736,
          7738177.650515913,
          9302.303235532785,
          1194996.2055860306,
          1077.0648027006253,
          179.95458745197743,
          35990418.584663846,
          145076.94081853123,
          9421068.24699744,
          1704123.3716830397,
          901170.0267917487,
          9935784.285213541,
          559272.5669050013,
          4403412.955002857,
          33444.280969123036,
          164845.43304052498,
          282664.2293566903,
          1075130.8832316657,
          7752.845758071115,
          32581386.971594807,
          785073.1753429215,
          986038.3168002968,
          221097.59029857218,
          2055735.5177009038,
          0.07048,
          264.23701536120404,
          1323747.8625904827,
          1682230.2398568767,
          214.60180966290875,
          11011076.529195284,
          10493588.04692705,
          3309310.060373814,
          4808788.241911109,
          67469.57735051855,
          17923305.854336444,
          28118008.255021457,
          251299.46417179384,
          43530724.23795343,
          144773321.22716862,
          1437933.2950342488,
          10104439.703935083,
          12042.5494916289,
          96018.62410864655,
          111809.13067116177,
          4537000.108528268,
          11636084.151915684,
          2858244.720976177,
          4338912.664944689,
          1095.7782345932162,
          441313.22214273224,
          120263.577278162,
          131576.01306125725,
          739076.8498082663,
          762035.6241473898,
          491140.67135884415,
          13702095.244132403,
          807530.003959832,
          37018029.58566732,
          0.7967600880600962,
          1744969.556268335,
          2136985.1700463505,
          759.548886665381,
          558214.580124391,
          9743324.596752495,
          516869.5815008889,
          79652.79999999999,
          155614167.809,
          257008677.25490528,
          2044.5339999999987,
          109493.312,
          146611.8252,
          24738.61,
          1853858.9615265608,
          80102932.29665814,
          3647269.720731257,
          17563568.83370463,
          17407327.035366103,
          35883962.479301035,
          83422.60409263754,
          32366764.428921163,
          4615442.26840852,
          2293970.72443575,
          335741675.41386807,
          752778.7163529391,
          279112.38942397165,
          1646336239.26889,
          10166771.800083566,
          10731098.329879891,
          296422.1227299883,
          36928671.79243746,
          3183722.3455066825,
          17859565.275960155,
          6816271.050787602,
          4074987.3227908644,
          40102640.47306784,
          52261060.36496356,
          202087853.73669496,
          291969.61271034204,
          13716457.967575997,
          201391.41369426777,
          1666915.5077877538,
          135143437.5312491,
          157681498.38757613,
          6212687.669932003,
          490388.57100169105,
          20424.308163809226,
          3102.3086158881233,
          17711.74444511399,
          1.637972651175701,
          108372.66764650782,
          2.251720466373727,
          4.156933708688396,
          182140.3083360694,
          14976.866694734068,
          215328771.32408404,
          1495702.4265429215,
          330235.05216673936,
          91070.7566466242,
          2404036.1415129486,
          58179.27419197534,
          109635.4054680765,
          143038875.65400636,
          70508710.99677958,
          4525853.43226339,
          2785830.2618518705,
          444167.32823427755,
          978275.0209858617,
          609342.9587071412,
          765048.3400950594,
          21653797.70524287,
          9957255.689768072,
          13867625.909949554,
          22286.73180418912,
          128676761.95324586,
          12623162.568582643,
          109589.71061907073,
          41603233.390589006,
          10353319.323500391,
          11828418.62183156,
          110526889.43907462,
          110811434.05621272,
          33373251.952514887,
          363950948.8504859,
          133976.8794357882,
          10096142.794768337,
          45552870.80253668,
          1124736616.2721682,
          1982789.1196489288,
          1590064254.7647748,
          16323191.142366216,
          3102857.9202592666,
          3102.3086158881233,
          115867085.60904682,
          9224692.11686286,
          11706376.389010826,
          559066.0132000002,
          1800298.2038120434,
          305759342.15152806,
          17621575.392495766,
          3298636.381461458,
          36125.84142740285,
          153802.22304977718,
          54013244.609596096,
          670670.8170116784,
          10570011.807898404,
          10106167527.848196,
          9517698.756390676,
          178088.63734956313,
          257651594.95190686,
          615795.6280205895,
          11625066.562448205,
          10429285.33556466,
          40932996.589832865,
          7213658.795087496,
          4306839.063615348,
          7644786.3365674615,
          7193852.439985229,
          41795253.39338677,
          188298510.5871,
          2030008.3807544515,
          157.43882934614714,
          821.2375129322782,
          59415.92970591051,
          27843199.5868693,
          981863.0163392496,
          16324288.843602147,
          52441140.3790849,
          13945576.493081255,
          13722158.877434634,
          170832699.0479015,
          1140111.8410003718,
          1404354.310244965,
          7211228.311008589,
          2404036.1415129486,
          58179.27419197534,
          586923075.5158029,
          79570822.21675377,
          179.95458745197743,
          2003384.3068722824,
          3354.045734690592,
          602747642.7963167,
          188642.94831387015,
          546562.5683658678,
          191.34772829724787,
          10037974.098506771,
          2351538.2172385273,
          230868.9170336518,
          394388668.66020083,
          5718316.983356588,
          6266340.148134982,
          8751.670399999997,
          2519728.821288526,
          774241.30306805,
          30364706.510209184,
          14686663.342807738,
          13702095.244132403,
          482415587.2921674,
          4074987.3227908644,
          182140.3083360694,
          238095449.09999633,
          21115.31709849067,
          14976.866694734068,
          17621575.392495766,
          77204243.49263602,
          17518573272.60286
         ]
        }
       ],
       "layout": {
        "coloraxis": {
         "colorbar": {
          "title": {
           "text": "flow_direction_365d"
          }
         },
         "colorscale": [
          [
           0,
           "rgb(158,1,66)"
          ],
          [
           0.1,
           "rgb(213,62,79)"
          ],
          [
           0.2,
           "rgb(244,109,67)"
          ],
          [
           0.3,
           "rgb(253,174,97)"
          ],
          [
           0.4,
           "rgb(254,224,139)"
          ],
          [
           0.5,
           "rgb(255,255,191)"
          ],
          [
           0.6,
           "rgb(230,245,152)"
          ],
          [
           0.7,
           "rgb(171,221,164)"
          ],
          [
           0.8,
           "rgb(102,194,165)"
          ],
          [
           0.9,
           "rgb(50,136,189)"
          ],
          [
           1,
           "rgb(94,79,162)"
          ]
         ]
        },
        "legend": {
         "tracegroupgap": 0
        },
        "margin": {
         "b": 25,
         "l": 25,
         "r": 25,
         "t": 50
        },
        "template": {
         "data": {
          "bar": [
           {
            "error_x": {
             "color": "#2a3f5f"
            },
            "error_y": {
             "color": "#2a3f5f"
            },
            "marker": {
             "line": {
              "color": "#E5ECF6",
              "width": 0.5
             },
             "pattern": {
              "fillmode": "overlay",
              "size": 10,
              "solidity": 0.2
             }
            },
            "type": "bar"
           }
          ],
          "barpolar": [
           {
            "marker": {
             "line": {
              "color": "#E5ECF6",
              "width": 0.5
             },
             "pattern": {
              "fillmode": "overlay",
              "size": 10,
              "solidity": 0.2
             }
            },
            "type": "barpolar"
           }
          ],
          "carpet": [
           {
            "aaxis": {
             "endlinecolor": "#2a3f5f",
             "gridcolor": "white",
             "linecolor": "white",
             "minorgridcolor": "white",
             "startlinecolor": "#2a3f5f"
            },
            "baxis": {
             "endlinecolor": "#2a3f5f",
             "gridcolor": "white",
             "linecolor": "white",
             "minorgridcolor": "white",
             "startlinecolor": "#2a3f5f"
            },
            "type": "carpet"
           }
          ],
          "choropleth": [
           {
            "colorbar": {
             "outlinewidth": 0,
             "ticks": ""
            },
            "type": "choropleth"
           }
          ],
          "contour": [
           {
            "colorbar": {
             "outlinewidth": 0,
             "ticks": ""
            },
            "colorscale": [
             [
              0,
              "#0d0887"
             ],
             [
              0.1111111111111111,
              "#46039f"
             ],
             [
              0.2222222222222222,
              "#7201a8"
             ],
             [
              0.3333333333333333,
              "#9c179e"
             ],
             [
              0.4444444444444444,
              "#bd3786"
             ],
             [
              0.5555555555555556,
              "#d8576b"
             ],
             [
              0.6666666666666666,
              "#ed7953"
             ],
             [
              0.7777777777777778,
              "#fb9f3a"
             ],
             [
              0.8888888888888888,
              "#fdca26"
             ],
             [
              1,
              "#f0f921"
             ]
            ],
            "type": "contour"
           }
          ],
          "contourcarpet": [
           {
            "colorbar": {
             "outlinewidth": 0,
             "ticks": ""
            },
            "type": "contourcarpet"
           }
          ],
          "heatmap": [
           {
            "colorbar": {
             "outlinewidth": 0,
             "ticks": ""
            },
            "colorscale": [
             [
              0,
              "#0d0887"
             ],
             [
              0.1111111111111111,
              "#46039f"
             ],
             [
              0.2222222222222222,
              "#7201a8"
             ],
             [
              0.3333333333333333,
              "#9c179e"
             ],
             [
              0.4444444444444444,
              "#bd3786"
             ],
             [
              0.5555555555555556,
              "#d8576b"
             ],
             [
              0.6666666666666666,
              "#ed7953"
             ],
             [
              0.7777777777777778,
              "#fb9f3a"
             ],
             [
              0.8888888888888888,
              "#fdca26"
             ],
             [
              1,
              "#f0f921"
             ]
            ],
            "type": "heatmap"
           }
          ],
          "heatmapgl": [
           {
            "colorbar": {
             "outlinewidth": 0,
             "ticks": ""
            },
            "colorscale": [
             [
              0,
              "#0d0887"
             ],
             [
              0.1111111111111111,
              "#46039f"
             ],
             [
              0.2222222222222222,
              "#7201a8"
             ],
             [
              0.3333333333333333,
              "#9c179e"
             ],
             [
              0.4444444444444444,
              "#bd3786"
             ],
             [
              0.5555555555555556,
              "#d8576b"
             ],
             [
              0.6666666666666666,
              "#ed7953"
             ],
             [
              0.7777777777777778,
              "#fb9f3a"
             ],
             [
              0.8888888888888888,
              "#fdca26"
             ],
             [
              1,
              "#f0f921"
             ]
            ],
            "type": "heatmapgl"
           }
          ],
          "histogram": [
           {
            "marker": {
             "pattern": {
              "fillmode": "overlay",
              "size": 10,
              "solidity": 0.2
             }
            },
            "type": "histogram"
           }
          ],
          "histogram2d": [
           {
            "colorbar": {
             "outlinewidth": 0,
             "ticks": ""
            },
            "colorscale": [
             [
              0,
              "#0d0887"
             ],
             [
              0.1111111111111111,
              "#46039f"
             ],
             [
              0.2222222222222222,
              "#7201a8"
             ],
             [
              0.3333333333333333,
              "#9c179e"
             ],
             [
              0.4444444444444444,
              "#bd3786"
             ],
             [
              0.5555555555555556,
              "#d8576b"
             ],
             [
              0.6666666666666666,
              "#ed7953"
             ],
             [
              0.7777777777777778,
              "#fb9f3a"
             ],
             [
              0.8888888888888888,
              "#fdca26"
             ],
             [
              1,
              "#f0f921"
             ]
            ],
            "type": "histogram2d"
           }
          ],
          "histogram2dcontour": [
           {
            "colorbar": {
             "outlinewidth": 0,
             "ticks": ""
            },
            "colorscale": [
             [
              0,
              "#0d0887"
             ],
             [
              0.1111111111111111,
              "#46039f"
             ],
             [
              0.2222222222222222,
              "#7201a8"
             ],
             [
              0.3333333333333333,
              "#9c179e"
             ],
             [
              0.4444444444444444,
              "#bd3786"
             ],
             [
              0.5555555555555556,
              "#d8576b"
             ],
             [
              0.6666666666666666,
              "#ed7953"
             ],
             [
              0.7777777777777778,
              "#fb9f3a"
             ],
             [
              0.8888888888888888,
              "#fdca26"
             ],
             [
              1,
              "#f0f921"
             ]
            ],
            "type": "histogram2dcontour"
           }
          ],
          "mesh3d": [
           {
            "colorbar": {
             "outlinewidth": 0,
             "ticks": ""
            },
            "type": "mesh3d"
           }
          ],
          "parcoords": [
           {
            "line": {
             "colorbar": {
              "outlinewidth": 0,
              "ticks": ""
             }
            },
            "type": "parcoords"
           }
          ],
          "pie": [
           {
            "automargin": true,
            "type": "pie"
           }
          ],
          "scatter": [
           {
            "fillpattern": {
             "fillmode": "overlay",
             "size": 10,
             "solidity": 0.2
            },
            "type": "scatter"
           }
          ],
          "scatter3d": [
           {
            "line": {
             "colorbar": {
              "outlinewidth": 0,
              "ticks": ""
             }
            },
            "marker": {
             "colorbar": {
              "outlinewidth": 0,
              "ticks": ""
             }
            },
            "type": "scatter3d"
           }
          ],
          "scattercarpet": [
           {
            "marker": {
             "colorbar": {
              "outlinewidth": 0,
              "ticks": ""
             }
            },
            "type": "scattercarpet"
           }
          ],
          "scattergeo": [
           {
            "marker": {
             "colorbar": {
              "outlinewidth": 0,
              "ticks": ""
             }
            },
            "type": "scattergeo"
           }
          ],
          "scattergl": [
           {
            "marker": {
             "colorbar": {
              "outlinewidth": 0,
              "ticks": ""
             }
            },
            "type": "scattergl"
           }
          ],
          "scattermapbox": [
           {
            "marker": {
             "colorbar": {
              "outlinewidth": 0,
              "ticks": ""
             }
            },
            "type": "scattermapbox"
           }
          ],
          "scatterpolar": [
           {
            "marker": {
             "colorbar": {
              "outlinewidth": 0,
              "ticks": ""
             }
            },
            "type": "scatterpolar"
           }
          ],
          "scatterpolargl": [
           {
            "marker": {
             "colorbar": {
              "outlinewidth": 0,
              "ticks": ""
             }
            },
            "type": "scatterpolargl"
           }
          ],
          "scatterternary": [
           {
            "marker": {
             "colorbar": {
              "outlinewidth": 0,
              "ticks": ""
             }
            },
            "type": "scatterternary"
           }
          ],
          "surface": [
           {
            "colorbar": {
             "outlinewidth": 0,
             "ticks": ""
            },
            "colorscale": [
             [
              0,
              "#0d0887"
             ],
             [
              0.1111111111111111,
              "#46039f"
             ],
             [
              0.2222222222222222,
              "#7201a8"
             ],
             [
              0.3333333333333333,
              "#9c179e"
             ],
             [
              0.4444444444444444,
              "#bd3786"
             ],
             [
              0.5555555555555556,
              "#d8576b"
             ],
             [
              0.6666666666666666,
              "#ed7953"
             ],
             [
              0.7777777777777778,
              "#fb9f3a"
             ],
             [
              0.8888888888888888,
              "#fdca26"
             ],
             [
              1,
              "#f0f921"
             ]
            ],
            "type": "surface"
           }
          ],
          "table": [
           {
            "cells": {
             "fill": {
              "color": "#EBF0F8"
             },
             "line": {
              "color": "white"
             }
            },
            "header": {
             "fill": {
              "color": "#C8D4E3"
             },
             "line": {
              "color": "white"
             }
            },
            "type": "table"
           }
          ]
         },
         "layout": {
          "annotationdefaults": {
           "arrowcolor": "#2a3f5f",
           "arrowhead": 0,
           "arrowwidth": 1
          },
          "autotypenumbers": "strict",
          "coloraxis": {
           "colorbar": {
            "outlinewidth": 0,
            "ticks": ""
           }
          },
          "colorscale": {
           "diverging": [
            [
             0,
             "#8e0152"
            ],
            [
             0.1,
             "#c51b7d"
            ],
            [
             0.2,
             "#de77ae"
            ],
            [
             0.3,
             "#f1b6da"
            ],
            [
             0.4,
             "#fde0ef"
            ],
            [
             0.5,
             "#f7f7f7"
            ],
            [
             0.6,
             "#e6f5d0"
            ],
            [
             0.7,
             "#b8e186"
            ],
            [
             0.8,
             "#7fbc41"
            ],
            [
             0.9,
             "#4d9221"
            ],
            [
             1,
             "#276419"
            ]
           ],
           "sequential": [
            [
             0,
             "#0d0887"
            ],
            [
             0.1111111111111111,
             "#46039f"
            ],
            [
             0.2222222222222222,
             "#7201a8"
            ],
            [
             0.3333333333333333,
             "#9c179e"
            ],
            [
             0.4444444444444444,
             "#bd3786"
            ],
            [
             0.5555555555555556,
             "#d8576b"
            ],
            [
             0.6666666666666666,
             "#ed7953"
            ],
            [
             0.7777777777777778,
             "#fb9f3a"
            ],
            [
             0.8888888888888888,
             "#fdca26"
            ],
            [
             1,
             "#f0f921"
            ]
           ],
           "sequentialminus": [
            [
             0,
             "#0d0887"
            ],
            [
             0.1111111111111111,
             "#46039f"
            ],
            [
             0.2222222222222222,
             "#7201a8"
            ],
            [
             0.3333333333333333,
             "#9c179e"
            ],
            [
             0.4444444444444444,
             "#bd3786"
            ],
            [
             0.5555555555555556,
             "#d8576b"
            ],
            [
             0.6666666666666666,
             "#ed7953"
            ],
            [
             0.7777777777777778,
             "#fb9f3a"
            ],
            [
             0.8888888888888888,
             "#fdca26"
            ],
            [
             1,
             "#f0f921"
            ]
           ]
          },
          "colorway": [
           "#636efa",
           "#EF553B",
           "#00cc96",
           "#ab63fa",
           "#FFA15A",
           "#19d3f3",
           "#FF6692",
           "#B6E880",
           "#FF97FF",
           "#FECB52"
          ],
          "font": {
           "color": "#2a3f5f"
          },
          "geo": {
           "bgcolor": "white",
           "lakecolor": "white",
           "landcolor": "#E5ECF6",
           "showlakes": true,
           "showland": true,
           "subunitcolor": "white"
          },
          "hoverlabel": {
           "align": "left"
          },
          "hovermode": "closest",
          "mapbox": {
           "style": "light"
          },
          "paper_bgcolor": "white",
          "plot_bgcolor": "#E5ECF6",
          "polar": {
           "angularaxis": {
            "gridcolor": "white",
            "linecolor": "white",
            "ticks": ""
           },
           "bgcolor": "#E5ECF6",
           "radialaxis": {
            "gridcolor": "white",
            "linecolor": "white",
            "ticks": ""
           }
          },
          "scene": {
           "xaxis": {
            "backgroundcolor": "#E5ECF6",
            "gridcolor": "white",
            "gridwidth": 2,
            "linecolor": "white",
            "showbackground": true,
            "ticks": "",
            "zerolinecolor": "white"
           },
           "yaxis": {
            "backgroundcolor": "#E5ECF6",
            "gridcolor": "white",
            "gridwidth": 2,
            "linecolor": "white",
            "showbackground": true,
            "ticks": "",
            "zerolinecolor": "white"
           },
           "zaxis": {
            "backgroundcolor": "#E5ECF6",
            "gridcolor": "white",
            "gridwidth": 2,
            "linecolor": "white",
            "showbackground": true,
            "ticks": "",
            "zerolinecolor": "white"
           }
          },
          "shapedefaults": {
           "line": {
            "color": "#2a3f5f"
           }
          },
          "ternary": {
           "aaxis": {
            "gridcolor": "white",
            "linecolor": "white",
            "ticks": ""
           },
           "baxis": {
            "gridcolor": "white",
            "linecolor": "white",
            "ticks": ""
           },
           "bgcolor": "#E5ECF6",
           "caxis": {
            "gridcolor": "white",
            "linecolor": "white",
            "ticks": ""
           }
          },
          "title": {
           "x": 0.05
          },
          "xaxis": {
           "automargin": true,
           "gridcolor": "white",
           "linecolor": "white",
           "ticks": "",
           "title": {
            "standoff": 15
           },
           "zerolinecolor": "white",
           "zerolinewidth": 2
          },
          "yaxis": {
           "automargin": true,
           "gridcolor": "white",
           "linecolor": "white",
           "ticks": "",
           "title": {
            "standoff": 15
           },
           "zerolinecolor": "white",
           "zerolinewidth": 2
          }
         }
        },
        "title": {
         "text": "App Net Flows Change by App -> Chain - Last 365 Days - (Apps with > $10.0M TVL Shown)"
        }
       }
      }
     },
     "metadata": {},
     "output_type": "display_data"
    }
   ],
   "source": [
    "\n",
    "# summary_df['flow_direction'] = np.where(summary_df['cumul_net_dollar_flow']>=0,1,-1)\n",
    "# summary_df['flow_direction_7d'] = np.where(summary_df['cumul_net_dollar_flow_7d']>=0,1,-1)\n",
    "# summary_df['abs_cumul_net_dollar_flow'] = abs(summary_df['cumul_net_dollar_flow'])\n",
    "# summary_df['abs_cumul_net_dollar_flow_7d'] = abs(summary_df['cumul_net_dollar_flow_7d'])\n",
    "\n",
    "# display(summary_df)\n",
    "# print(summary_df[summary_df['chain']=='Arbitrum'])\n",
    "# print(summary_df[summary_df['chain']=='Optimism'])\n",
    "# display(summary_df)\n",
    "# fig = px.treemap(summary_df[summary_df['abs_cumul_net_dollar_flow'] !=0], \\\n",
    "#                  path=[px.Constant(\"all\"), 'chain', 'protocol'], \\\n",
    "# #                  path=[px.Constant(\"all\"), 'token', 'chain', 'protocol'], \\\n",
    "#                  values='abs_cumul_net_dollar_flow', color='flow_direction'\n",
    "# #                 ,color_discrete_map={'-1':'red', '1':'green'})\n",
    "#                 ,color_continuous_scale='Spectral'\n",
    "#                      , title = \"App Net Flows Change by App -> Chain - Last \" + str(trailing_num_days) + \\\n",
    "#                             \" Days - (Apps with > $\" + str(min_tvl/1e6) + \"M TVL Shown)\"\n",
    "                \n",
    "#                 ,hover_data=['cumul_net_dollar_flow']\n",
    "#                 )\n",
    "# # fig.data[0].textinfo = 'label+text+value'\n",
    "# fig.update_traces(root_color=\"lightgrey\")\n",
    "# fig.update_layout(margin = dict(t=50, l=25, r=25, b=25))\n",
    "# # fig.update_layout(tickprefix = '$')\n",
    "\n",
    "# fig_7d = px.treemap(summary_df[summary_df['abs_cumul_net_dollar_flow_7d'] !=0], \\\n",
    "#                  path=[px.Constant(\"all\"), 'chain', 'protocol'], \\\n",
    "# #                  path=[px.Constant(\"all\"), 'token', 'chain', 'protocol'], \\\n",
    "#                  values='abs_cumul_net_dollar_flow_7d', color='flow_direction_7d'\n",
    "# #                 ,color_discrete_map={'-1':'red', '1':'green'})\n",
    "#                 ,color_continuous_scale='Spectral'\n",
    "#                      , title = \"App Net Flows Change by App -> Chain - Last \" + str(7) + \\\n",
    "#                             \" Days - (Apps with > $\" + str(min_tvl/1e6) + \"M TVL Shown)\"\n",
    "                \n",
    "#                 # ,hover_data=['cumul_net_dollar_flow_7d']\n",
    "#                 )\n",
    "# fig_7d.update_traces(root_color=\"lightgrey\")\n",
    "# fig_7d.update_layout(margin = dict(t=50, l=25, r=25, b=25))\n",
    "\n",
    "# fig_7d.show()\n",
    "\n",
    "fig_app = px.treemap(summary_df[summary_df['abs_cumul_net_dollar_flow'] !=0], \\\n",
    "                #  path=[px.Constant(\"all\"), 'chain', 'protocol'], \\\n",
    "#                  path=[px.Constant(\"all\"), 'token', 'chain', 'protocol'], \\\n",
    "                        path=[px.Constant(\"all\"), 'protocol','chain'], \\\n",
    "                 values='abs_cumul_net_dollar_flow', color='flow_direction'\n",
    "#                 ,color_discrete_map={'-1':'red', '1':'green'})\n",
    "                ,color_continuous_scale='Spectral'\n",
    "                , title = \"App Net Flows Change by Chain -> App - Last \" + str(trailing_num_days) + \\\n",
    "                            \" Days - (Apps with > $\" + str(min_tvl/1e6) + \"M TVL Shown)\"\n",
    "                ,hover_data=['cumul_net_dollar_flow']\n",
    "                )\n",
    "# fig.data[0].textinfo = 'label+text+value'\n",
    "fig_app.update_traces(root_color=\"lightgrey\")\n",
    "fig_app.update_layout(margin = dict(t=50, l=25, r=25, b=25))\n",
    "fig.show()"
   ]
  },
  {
   "cell_type": "code",
   "execution_count": 49,
   "id": "71c722ff",
   "metadata": {},
   "outputs": [],
   "source": [
    "# fig.write_image(prepend + \"img_outputs/svg/net_app_flows.svg\") #prepend + \n",
    "# fig.write_image(prepend + \"img_outputs/png/net_app_flows.png\") #prepend + \n",
    "# fig.write_html(prepend + \"img_outputs/net_app_flows.html\", include_plotlyjs='cdn')\n",
    "\n",
    "# fig_7d.write_image(prepend + \"img_outputs/svg/net_app_flows_7d.svg\") #prepend + \n",
    "# fig_7d.write_image(prepend + \"img_outputs/png/net_app_flows_7d.png\") #prepend + \n",
    "# fig_7d.write_html(prepend + \"img_outputs/net_app_flows_7d.html\", include_plotlyjs='cdn')\n",
    "\n",
    "fig_app.write_image(prepend + \"img_outputs/svg/net_app_flows_by_app.svg\") #prepend + \n",
    "fig_app.write_image(prepend + \"img_outputs/png/net_app_flows_by_app.png\") #prepend + \n",
    "fig_app.write_html(prepend + \"img_outputs/net_app_flows_by_app.html\", include_plotlyjs='cdn')\n"
   ]
  },
  {
   "cell_type": "code",
   "execution_count": 50,
   "id": "9f573693",
   "metadata": {},
   "outputs": [],
   "source": [
    "# ! jupyter nbconvert --to python total_app_net_flows_async.ipynb"
   ]
  }
 ],
 "metadata": {
  "kernelspec": {
   "display_name": "Python 3 (ipykernel)",
   "language": "python",
   "name": "python3"
  },
  "language_info": {
   "codemirror_mode": {
    "name": "ipython",
    "version": 3
   },
   "file_extension": ".py",
   "mimetype": "text/x-python",
   "name": "python",
   "nbconvert_exporter": "python",
   "pygments_lexer": "ipython3",
   "version": "3.9.13"
  },
  "vscode": {
   "interpreter": {
    "hash": "17c021eea7371cec353b12daa8dd7517ddfe82cfa4c2626e1e7d1541ccab7c49"
   }
  }
 },
 "nbformat": 4,
 "nbformat_minor": 5
}
