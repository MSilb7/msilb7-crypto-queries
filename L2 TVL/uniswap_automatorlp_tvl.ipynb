{
 "cells": [
  {
   "cell_type": "code",
   "execution_count": 1,
   "id": "9104321f",
   "metadata": {},
   "outputs": [],
   "source": [
    "# ! pip install pandas\n",
    "# ! pip install requests\n",
    "# ! pip install plotly\n",
    "# ! pip install datetime\n",
    "# ! pip install os\n",
    "# ! pip freeze = requirements.txt"
   ]
  },
  {
   "cell_type": "code",
   "execution_count": 16,
   "id": "ffefb42a",
   "metadata": {},
   "outputs": [],
   "source": [
    "import pandas as pd\n",
    "import requests as r\n",
    "import plotly.express as px\n",
    "import plotly.graph_objects as go\n",
    "from datetime import datetime, timedelta, date\n",
    "import numpy as np\n",
    "import os"
   ]
  },
  {
   "cell_type": "code",
   "execution_count": 3,
   "id": "1015ba20",
   "metadata": {},
   "outputs": [],
   "source": [
    "pwd = os.getcwd()\n",
    "if 'L2 TVL' in pwd:\n",
    "    prepend = ''\n",
    "else:\n",
    "    prepend = 'L2 TVL/'"
   ]
  },
  {
   "cell_type": "code",
   "execution_count": 7,
   "id": "d3399236",
   "metadata": {},
   "outputs": [
    {
     "name": "stdout",
     "output_type": "stream",
     "text": [
      "uniswap-v3\n",
      "Optimism\n",
      "Arbitrum\n",
      "Ethereum\n",
      "Polygon\n",
      "arrakis-finance\n",
      "Optimism\n",
      "Arbitrum\n",
      "Ethereum\n",
      "Polygon\n",
      "gamma\n",
      "Optimism\n",
      "Arbitrum\n",
      "Ethereum\n",
      "Polygon\n",
      "xtoken\n",
      "Optimism\n",
      "Arbitrum\n",
      "Ethereum\n",
      "Polygon\n",
      "revert-compoundor\n",
      "Optimism\n",
      "Arbitrum\n",
      "Ethereum\n",
      "Polygon\n"
     ]
    }
   ],
   "source": [
    "\n",
    "api_str = 'https://api.llama.fi/protocol/'\n",
    "\n",
    "# Protocol Incentive Start Dates\n",
    "# NOTE: This should be when the in-app incentives began, not any external incentives (i.e. DEX pools)\n",
    "protocols = [\\\n",
    "    # name\n",
    "         ['uniswap-v3']\n",
    "        ,['arrakis-finance']\n",
    "        ,['gamma']\n",
    "        ,['xtoken']\n",
    "        ,['revert-compoundor']\n",
    "        ]\n",
    "chains = [\n",
    "    ['Optimism'],\n",
    "    ['Arbitrum'],\n",
    "    ['Ethereum'],\n",
    "    ['Polygon']\n",
    "]\n",
    "# print(protocols[0])\n",
    "prod = []\n",
    "for prot in protocols:\n",
    "    print(prot[0])\n",
    "    tmp = r.get(api_str + prot[0]).json()\n",
    "    for ch in chains:\n",
    "        print(ch[0])\n",
    "        try:\n",
    "            tp = tmp['chainTvls'][ch[0] ]\n",
    "            ad = pd.json_normalize( tp['tokens'] )\n",
    "            ad_usd = pd.json_normalize( tp['tokensInUsd'] )\n",
    "            if not ad.empty:\n",
    "                ad = pd.melt(ad,id_vars = ['date'])\n",
    "                ad = ad.rename(columns={'variable':'token','value':'token_value'})\n",
    "                ad_usd = pd.melt(ad_usd,id_vars = ['date'])\n",
    "                ad_usd = ad_usd.rename(columns={'variable':'token','value':'usd_value'})\n",
    "                ad = ad.merge(ad_usd,on=['date','token'])\n",
    "                \n",
    "                ad['date'] = pd.to_datetime(ad['date'], unit ='s') #convert to days\n",
    "\n",
    "                ad['token'] = ad['token'].str.replace('tokens.','', regex=False)\n",
    "                ad['protocol'] = prot[0]\n",
    "                ad['chain'] = ch[0]\n",
    "                # ad['start_date'] = pd.to_datetime(prot[1])\n",
    "                # ad['date'] = ad['date'] - timedelta(days=1) #change to eod vs sod\n",
    "                prod.append(ad)\n",
    "        except:\n",
    "            continue\n",
    "\n",
    "df_df = pd.concat(prod)"
   ]
  },
  {
   "cell_type": "code",
   "execution_count": 8,
   "id": "d5ccb210",
   "metadata": {},
   "outputs": [
    {
     "data": {
      "text/html": [
       "<div>\n",
       "<style scoped>\n",
       "    .dataframe tbody tr th:only-of-type {\n",
       "        vertical-align: middle;\n",
       "    }\n",
       "\n",
       "    .dataframe tbody tr th {\n",
       "        vertical-align: top;\n",
       "    }\n",
       "\n",
       "    .dataframe thead th {\n",
       "        text-align: right;\n",
       "    }\n",
       "</style>\n",
       "<table border=\"1\" class=\"dataframe\">\n",
       "  <thead>\n",
       "    <tr style=\"text-align: right;\">\n",
       "      <th></th>\n",
       "      <th>date</th>\n",
       "      <th>token</th>\n",
       "      <th>token_value</th>\n",
       "      <th>usd_value</th>\n",
       "      <th>protocol</th>\n",
       "      <th>chain</th>\n",
       "    </tr>\n",
       "  </thead>\n",
       "  <tbody>\n",
       "    <tr>\n",
       "      <th>0</th>\n",
       "      <td>2021-11-13 00:00:00</td>\n",
       "      <td>UNI</td>\n",
       "      <td>170523.82900</td>\n",
       "      <td>4.206999e+06</td>\n",
       "      <td>uniswap-v3</td>\n",
       "      <td>Optimism</td>\n",
       "    </tr>\n",
       "    <tr>\n",
       "      <th>1</th>\n",
       "      <td>2021-11-14 00:00:00</td>\n",
       "      <td>UNI</td>\n",
       "      <td>170330.92749</td>\n",
       "      <td>4.216519e+06</td>\n",
       "      <td>uniswap-v3</td>\n",
       "      <td>Optimism</td>\n",
       "    </tr>\n",
       "    <tr>\n",
       "      <th>2</th>\n",
       "      <td>2021-11-15 00:00:00</td>\n",
       "      <td>UNI</td>\n",
       "      <td>170064.19827</td>\n",
       "      <td>4.203667e+06</td>\n",
       "      <td>uniswap-v3</td>\n",
       "      <td>Optimism</td>\n",
       "    </tr>\n",
       "    <tr>\n",
       "      <th>3</th>\n",
       "      <td>2021-11-16 00:00:00</td>\n",
       "      <td>UNI</td>\n",
       "      <td>170677.45778</td>\n",
       "      <td>4.111264e+06</td>\n",
       "      <td>uniswap-v3</td>\n",
       "      <td>Optimism</td>\n",
       "    </tr>\n",
       "    <tr>\n",
       "      <th>4</th>\n",
       "      <td>2021-11-17 00:00:00</td>\n",
       "      <td>UNI</td>\n",
       "      <td>171514.47540</td>\n",
       "      <td>3.740125e+06</td>\n",
       "      <td>uniswap-v3</td>\n",
       "      <td>Optimism</td>\n",
       "    </tr>\n",
       "    <tr>\n",
       "      <th>...</th>\n",
       "      <td>...</td>\n",
       "      <td>...</td>\n",
       "      <td>...</td>\n",
       "      <td>...</td>\n",
       "      <td>...</td>\n",
       "      <td>...</td>\n",
       "    </tr>\n",
       "    <tr>\n",
       "      <th>3732</th>\n",
       "      <td>2022-11-07 00:00:00</td>\n",
       "      <td>SAND</td>\n",
       "      <td>1793.46300</td>\n",
       "      <td>1.516165e+03</td>\n",
       "      <td>revert-compoundor</td>\n",
       "      <td>Polygon</td>\n",
       "    </tr>\n",
       "    <tr>\n",
       "      <th>3733</th>\n",
       "      <td>2022-11-08 00:00:00</td>\n",
       "      <td>SAND</td>\n",
       "      <td>1793.46300</td>\n",
       "      <td>1.511066e+03</td>\n",
       "      <td>revert-compoundor</td>\n",
       "      <td>Polygon</td>\n",
       "    </tr>\n",
       "    <tr>\n",
       "      <th>3734</th>\n",
       "      <td>2022-11-09 00:00:00</td>\n",
       "      <td>SAND</td>\n",
       "      <td>1793.46300</td>\n",
       "      <td>1.272986e+03</td>\n",
       "      <td>revert-compoundor</td>\n",
       "      <td>Polygon</td>\n",
       "    </tr>\n",
       "    <tr>\n",
       "      <th>3735</th>\n",
       "      <td>2022-11-10 00:00:00</td>\n",
       "      <td>SAND</td>\n",
       "      <td>1793.46300</td>\n",
       "      <td>1.063981e+03</td>\n",
       "      <td>revert-compoundor</td>\n",
       "      <td>Polygon</td>\n",
       "    </tr>\n",
       "    <tr>\n",
       "      <th>3736</th>\n",
       "      <td>2022-11-10 22:59:47</td>\n",
       "      <td>SAND</td>\n",
       "      <td>1793.46300</td>\n",
       "      <td>1.222900e+03</td>\n",
       "      <td>revert-compoundor</td>\n",
       "      <td>Polygon</td>\n",
       "    </tr>\n",
       "  </tbody>\n",
       "</table>\n",
       "<p>1161069 rows × 6 columns</p>\n",
       "</div>"
      ],
      "text/plain": [
       "                    date token   token_value     usd_value           protocol  \\\n",
       "0    2021-11-13 00:00:00   UNI  170523.82900  4.206999e+06         uniswap-v3   \n",
       "1    2021-11-14 00:00:00   UNI  170330.92749  4.216519e+06         uniswap-v3   \n",
       "2    2021-11-15 00:00:00   UNI  170064.19827  4.203667e+06         uniswap-v3   \n",
       "3    2021-11-16 00:00:00   UNI  170677.45778  4.111264e+06         uniswap-v3   \n",
       "4    2021-11-17 00:00:00   UNI  171514.47540  3.740125e+06         uniswap-v3   \n",
       "...                  ...   ...           ...           ...                ...   \n",
       "3732 2022-11-07 00:00:00  SAND    1793.46300  1.516165e+03  revert-compoundor   \n",
       "3733 2022-11-08 00:00:00  SAND    1793.46300  1.511066e+03  revert-compoundor   \n",
       "3734 2022-11-09 00:00:00  SAND    1793.46300  1.272986e+03  revert-compoundor   \n",
       "3735 2022-11-10 00:00:00  SAND    1793.46300  1.063981e+03  revert-compoundor   \n",
       "3736 2022-11-10 22:59:47  SAND    1793.46300  1.222900e+03  revert-compoundor   \n",
       "\n",
       "         chain  \n",
       "0     Optimism  \n",
       "1     Optimism  \n",
       "2     Optimism  \n",
       "3     Optimism  \n",
       "4     Optimism  \n",
       "...        ...  \n",
       "3732   Polygon  \n",
       "3733   Polygon  \n",
       "3734   Polygon  \n",
       "3735   Polygon  \n",
       "3736   Polygon  \n",
       "\n",
       "[1161069 rows x 6 columns]"
      ]
     },
     "execution_count": 8,
     "metadata": {},
     "output_type": "execute_result"
    }
   ],
   "source": [
    "df_df"
   ]
  },
  {
   "cell_type": "code",
   "execution_count": 19,
   "id": "8f9eb8e5",
   "metadata": {},
   "outputs": [],
   "source": [
    "data_df = df_df.copy()#merge(cg_df, on=['date','token'],how='inner')\n",
    "data_df = data_df[data_df['date'] > pd.Timestamp( (date.today()-timedelta(days=90 +1)) ) ]\n",
    "data_df = data_df[data_df['token_value'] > 0]\n",
    "\n",
    "data_df.sort_values(by='date',inplace=True)\n",
    "data_df['token_value'] = data_df['token_value'].replace(0, np.nan)\n",
    "data_df['price_usd'] = data_df['usd_value']/data_df['token_value']\n",
    "\n",
    "data_df.sort_values(by='date',inplace=True)\n",
    "\n",
    "data_df['last_token_value'] = data_df.groupby(['token','protocol'])['token_value'].shift(1)\n",
    "data_df['last_price_usd'] = data_df.groupby(['token','protocol'])['price_usd'].shift(1)\n",
    "data_df['last_token_value'] = data_df['last_token_value'].fillna(0)\n",
    "\n",
    "data_df['net_token_flow'] = data_df['token_value'] - data_df['last_token_value']\n",
    "data_df['net_price_change'] = data_df['price_usd'] - data_df['last_price_usd']\n",
    "\n",
    "data_df['net_dollar_flow'] = data_df['net_token_flow'] * data_df['price_usd']\n",
    "\n",
    "data_df['net_price_stock_change'] = data_df['last_token_value'] * data_df['net_price_change']\n",
    "\n",
    "\n",
    "# display(data_df)"
   ]
  },
  {
   "cell_type": "code",
   "execution_count": 20,
   "id": "d1ae7150",
   "metadata": {},
   "outputs": [
    {
     "data": {
      "text/html": [
       "<div>\n",
       "<style scoped>\n",
       "    .dataframe tbody tr th:only-of-type {\n",
       "        vertical-align: middle;\n",
       "    }\n",
       "\n",
       "    .dataframe tbody tr th {\n",
       "        vertical-align: top;\n",
       "    }\n",
       "\n",
       "    .dataframe thead th {\n",
       "        text-align: right;\n",
       "    }\n",
       "</style>\n",
       "<table border=\"1\" class=\"dataframe\">\n",
       "  <thead>\n",
       "    <tr style=\"text-align: right;\">\n",
       "      <th></th>\n",
       "      <th>date</th>\n",
       "      <th>token</th>\n",
       "      <th>token_value</th>\n",
       "      <th>usd_value</th>\n",
       "      <th>protocol</th>\n",
       "      <th>chain</th>\n",
       "      <th>price_usd</th>\n",
       "      <th>last_token_value</th>\n",
       "      <th>last_price_usd</th>\n",
       "      <th>net_token_flow</th>\n",
       "      <th>net_price_change</th>\n",
       "      <th>net_dollar_flow</th>\n",
       "      <th>net_price_stock_change</th>\n",
       "    </tr>\n",
       "  </thead>\n",
       "  <tbody>\n",
       "    <tr>\n",
       "      <th>16874</th>\n",
       "      <td>2022-08-12</td>\n",
       "      <td>BANK</td>\n",
       "      <td>9.282856e+05</td>\n",
       "      <td>1.641224e+04</td>\n",
       "      <td>arrakis-finance</td>\n",
       "      <td>Ethereum</td>\n",
       "      <td>0.017680</td>\n",
       "      <td>0.0</td>\n",
       "      <td>NaN</td>\n",
       "      <td>9.282856e+05</td>\n",
       "      <td>NaN</td>\n",
       "      <td>1.641224e+04</td>\n",
       "      <td>NaN</td>\n",
       "    </tr>\n",
       "    <tr>\n",
       "      <th>741858</th>\n",
       "      <td>2022-08-12</td>\n",
       "      <td>WFLOW</td>\n",
       "      <td>7.082516e+05</td>\n",
       "      <td>2.115409e+06</td>\n",
       "      <td>uniswap-v3</td>\n",
       "      <td>Ethereum</td>\n",
       "      <td>2.986804</td>\n",
       "      <td>0.0</td>\n",
       "      <td>NaN</td>\n",
       "      <td>7.082516e+05</td>\n",
       "      <td>NaN</td>\n",
       "      <td>2.115409e+06</td>\n",
       "      <td>NaN</td>\n",
       "    </tr>\n",
       "    <tr>\n",
       "      <th>32</th>\n",
       "      <td>2022-08-12</td>\n",
       "      <td>USDT</td>\n",
       "      <td>3.594387e+02</td>\n",
       "      <td>3.597981e+02</td>\n",
       "      <td>gamma</td>\n",
       "      <td>Optimism</td>\n",
       "      <td>1.001000</td>\n",
       "      <td>0.0</td>\n",
       "      <td>NaN</td>\n",
       "      <td>3.594387e+02</td>\n",
       "      <td>NaN</td>\n",
       "      <td>3.597981e+02</td>\n",
       "      <td>NaN</td>\n",
       "    </tr>\n",
       "    <tr>\n",
       "      <th>4783</th>\n",
       "      <td>2022-08-12</td>\n",
       "      <td>HEX</td>\n",
       "      <td>2.523276e+05</td>\n",
       "      <td>1.504481e+04</td>\n",
       "      <td>uniswap-v3</td>\n",
       "      <td>Polygon</td>\n",
       "      <td>0.059624</td>\n",
       "      <td>0.0</td>\n",
       "      <td>NaN</td>\n",
       "      <td>2.523276e+05</td>\n",
       "      <td>NaN</td>\n",
       "      <td>1.504481e+04</td>\n",
       "      <td>NaN</td>\n",
       "    </tr>\n",
       "    <tr>\n",
       "      <th>133558</th>\n",
       "      <td>2022-08-12</td>\n",
       "      <td>DUSK</td>\n",
       "      <td>1.179648e+06</td>\n",
       "      <td>1.941542e+05</td>\n",
       "      <td>uniswap-v3</td>\n",
       "      <td>Ethereum</td>\n",
       "      <td>0.164587</td>\n",
       "      <td>0.0</td>\n",
       "      <td>NaN</td>\n",
       "      <td>1.179648e+06</td>\n",
       "      <td>NaN</td>\n",
       "      <td>1.941542e+05</td>\n",
       "      <td>NaN</td>\n",
       "    </tr>\n",
       "  </tbody>\n",
       "</table>\n",
       "</div>"
      ],
      "text/plain": [
       "             date  token   token_value     usd_value         protocol  \\\n",
       "16874  2022-08-12   BANK  9.282856e+05  1.641224e+04  arrakis-finance   \n",
       "741858 2022-08-12  WFLOW  7.082516e+05  2.115409e+06       uniswap-v3   \n",
       "32     2022-08-12   USDT  3.594387e+02  3.597981e+02            gamma   \n",
       "4783   2022-08-12    HEX  2.523276e+05  1.504481e+04       uniswap-v3   \n",
       "133558 2022-08-12   DUSK  1.179648e+06  1.941542e+05       uniswap-v3   \n",
       "\n",
       "           chain  price_usd  last_token_value  last_price_usd  net_token_flow  \\\n",
       "16874   Ethereum   0.017680               0.0             NaN    9.282856e+05   \n",
       "741858  Ethereum   2.986804               0.0             NaN    7.082516e+05   \n",
       "32      Optimism   1.001000               0.0             NaN    3.594387e+02   \n",
       "4783     Polygon   0.059624               0.0             NaN    2.523276e+05   \n",
       "133558  Ethereum   0.164587               0.0             NaN    1.179648e+06   \n",
       "\n",
       "        net_price_change  net_dollar_flow  net_price_stock_change  \n",
       "16874                NaN     1.641224e+04                     NaN  \n",
       "741858               NaN     2.115409e+06                     NaN  \n",
       "32                   NaN     3.597981e+02                     NaN  \n",
       "4783                 NaN     1.504481e+04                     NaN  \n",
       "133558               NaN     1.941542e+05                     NaN  "
      ]
     },
     "execution_count": 20,
     "metadata": {},
     "output_type": "execute_result"
    }
   ],
   "source": [
    "# data_df[data_df['protocol']=='perpetual-protocol'].sort_values(by='date')\n",
    "data_df.head()\n",
    "# data_df[(data_df['protocol'] == 'pooltogether') & (data_df['date'] >= '2022-10-06') & (data_df['date'] <= '2022-10-12')].tail(10)"
   ]
  },
  {
   "cell_type": "code",
   "execution_count": 22,
   "id": "59f3f879",
   "metadata": {},
   "outputs": [
    {
     "data": {
      "text/html": [
       "<div>\n",
       "<style scoped>\n",
       "    .dataframe tbody tr th:only-of-type {\n",
       "        vertical-align: middle;\n",
       "    }\n",
       "\n",
       "    .dataframe tbody tr th {\n",
       "        vertical-align: top;\n",
       "    }\n",
       "\n",
       "    .dataframe thead th {\n",
       "        text-align: right;\n",
       "    }\n",
       "</style>\n",
       "<table border=\"1\" class=\"dataframe\">\n",
       "  <thead>\n",
       "    <tr style=\"text-align: right;\">\n",
       "      <th></th>\n",
       "      <th>date</th>\n",
       "      <th>protocol</th>\n",
       "      <th>chain</th>\n",
       "      <th>usd_value</th>\n",
       "    </tr>\n",
       "  </thead>\n",
       "  <tbody>\n",
       "    <tr>\n",
       "      <th>0</th>\n",
       "      <td>2022-08-12 00:00:00</td>\n",
       "      <td>arrakis-finance</td>\n",
       "      <td>Ethereum</td>\n",
       "      <td>1.686559e+09</td>\n",
       "    </tr>\n",
       "    <tr>\n",
       "      <th>1</th>\n",
       "      <td>2022-08-12 00:00:00</td>\n",
       "      <td>arrakis-finance</td>\n",
       "      <td>Optimism</td>\n",
       "      <td>4.748576e+06</td>\n",
       "    </tr>\n",
       "    <tr>\n",
       "      <th>2</th>\n",
       "      <td>2022-08-12 00:00:00</td>\n",
       "      <td>arrakis-finance</td>\n",
       "      <td>Polygon</td>\n",
       "      <td>3.248846e+06</td>\n",
       "    </tr>\n",
       "    <tr>\n",
       "      <th>3</th>\n",
       "      <td>2022-08-12 00:00:00</td>\n",
       "      <td>gamma</td>\n",
       "      <td>Ethereum</td>\n",
       "      <td>4.436528e+06</td>\n",
       "    </tr>\n",
       "    <tr>\n",
       "      <th>4</th>\n",
       "      <td>2022-08-12 00:00:00</td>\n",
       "      <td>gamma</td>\n",
       "      <td>Optimism</td>\n",
       "      <td>1.506968e+04</td>\n",
       "    </tr>\n",
       "    <tr>\n",
       "      <th>...</th>\n",
       "      <td>...</td>\n",
       "      <td>...</td>\n",
       "      <td>...</td>\n",
       "      <td>...</td>\n",
       "    </tr>\n",
       "    <tr>\n",
       "      <th>1556</th>\n",
       "      <td>2022-11-10 22:59:47</td>\n",
       "      <td>uniswap-v3</td>\n",
       "      <td>Optimism</td>\n",
       "      <td>4.460189e+07</td>\n",
       "    </tr>\n",
       "    <tr>\n",
       "      <th>1557</th>\n",
       "      <td>2022-11-10 22:59:47</td>\n",
       "      <td>uniswap-v3</td>\n",
       "      <td>Polygon</td>\n",
       "      <td>8.692602e+07</td>\n",
       "    </tr>\n",
       "    <tr>\n",
       "      <th>1558</th>\n",
       "      <td>2022-11-10 22:59:47</td>\n",
       "      <td>xtoken</td>\n",
       "      <td>Arbitrum</td>\n",
       "      <td>3.732745e+05</td>\n",
       "    </tr>\n",
       "    <tr>\n",
       "      <th>1559</th>\n",
       "      <td>2022-11-10 22:59:47</td>\n",
       "      <td>xtoken</td>\n",
       "      <td>Ethereum</td>\n",
       "      <td>2.030000e+06</td>\n",
       "    </tr>\n",
       "    <tr>\n",
       "      <th>1560</th>\n",
       "      <td>2022-11-10 22:59:47</td>\n",
       "      <td>xtoken</td>\n",
       "      <td>Optimism</td>\n",
       "      <td>2.507435e+06</td>\n",
       "    </tr>\n",
       "  </tbody>\n",
       "</table>\n",
       "<p>1561 rows × 4 columns</p>\n",
       "</div>"
      ],
      "text/plain": [
       "                    date         protocol     chain     usd_value\n",
       "0    2022-08-12 00:00:00  arrakis-finance  Ethereum  1.686559e+09\n",
       "1    2022-08-12 00:00:00  arrakis-finance  Optimism  4.748576e+06\n",
       "2    2022-08-12 00:00:00  arrakis-finance   Polygon  3.248846e+06\n",
       "3    2022-08-12 00:00:00            gamma  Ethereum  4.436528e+06\n",
       "4    2022-08-12 00:00:00            gamma  Optimism  1.506968e+04\n",
       "...                  ...              ...       ...           ...\n",
       "1556 2022-11-10 22:59:47       uniswap-v3  Optimism  4.460189e+07\n",
       "1557 2022-11-10 22:59:47       uniswap-v3   Polygon  8.692602e+07\n",
       "1558 2022-11-10 22:59:47           xtoken  Arbitrum  3.732745e+05\n",
       "1559 2022-11-10 22:59:47           xtoken  Ethereum  2.030000e+06\n",
       "1560 2022-11-10 22:59:47           xtoken  Optimism  2.507435e+06\n",
       "\n",
       "[1561 rows x 4 columns]"
      ]
     },
     "metadata": {},
     "output_type": "display_data"
    }
   ],
   "source": [
    "# netdf_df = data_df[data_df['date']>= data_df['start_date']][['date','protocol','net_dollar_flow','net_price_stock_change','usd_value']]\n",
    "netdf_df = data_df.copy()\n",
    "\n",
    "netdf_df = netdf_df.groupby(['date','protocol','chain']).sum(['net_dollar_flow','net_price_stock_change','usd_value'])\n",
    "\n",
    "\n",
    "netdf_df['tvl_change'] = netdf_df['usd_value'] - netdf_df.groupby(['protocol'])['usd_value'].shift(1)\n",
    "netdf_df['error'] = netdf_df['tvl_change'] - (netdf_df['net_dollar_flow'] + netdf_df['net_price_stock_change'])\n",
    "\n",
    "netdf_df['cumul_net_dollar_flow'] = netdf_df['net_dollar_flow'].groupby(['protocol']).cumsum()\n",
    "netdf_df['cumul_net_price_stock_change'] = netdf_df['net_price_stock_change'].groupby(['protocol']).cumsum()\n",
    "netdf_df.reset_index(inplace=True)\n",
    "\n",
    "netdf_df = netdf_df[['date','protocol','chain','usd_value']]\n",
    "\n",
    "display(netdf_df)"
   ]
  },
  {
   "cell_type": "code",
   "execution_count": 34,
   "id": "f742c446",
   "metadata": {},
   "outputs": [
    {
     "data": {
      "text/html": [
       "<div>\n",
       "<style scoped>\n",
       "    .dataframe tbody tr th:only-of-type {\n",
       "        vertical-align: middle;\n",
       "    }\n",
       "\n",
       "    .dataframe tbody tr th {\n",
       "        vertical-align: top;\n",
       "    }\n",
       "\n",
       "    .dataframe thead th {\n",
       "        text-align: right;\n",
       "    }\n",
       "</style>\n",
       "<table border=\"1\" class=\"dataframe\">\n",
       "  <thead>\n",
       "    <tr style=\"text-align: right;\">\n",
       "      <th></th>\n",
       "      <th>date</th>\n",
       "      <th>protocol_x</th>\n",
       "      <th>chain</th>\n",
       "      <th>usd_value_x</th>\n",
       "      <th>protocol_y</th>\n",
       "      <th>usd_value_y</th>\n",
       "      <th>share_of_uni_tvl</th>\n",
       "    </tr>\n",
       "  </thead>\n",
       "  <tbody>\n",
       "    <tr>\n",
       "      <th>6</th>\n",
       "      <td>2022-08-12 00:00:00</td>\n",
       "      <td>revert-compoundor</td>\n",
       "      <td>Arbitrum</td>\n",
       "      <td>1.606501e+05</td>\n",
       "      <td>uniswap-v3</td>\n",
       "      <td>7.765434e+07</td>\n",
       "      <td>0.002069</td>\n",
       "    </tr>\n",
       "    <tr>\n",
       "      <th>10</th>\n",
       "      <td>2022-08-12 00:00:00</td>\n",
       "      <td>xtoken</td>\n",
       "      <td>Arbitrum</td>\n",
       "      <td>1.639657e+05</td>\n",
       "      <td>uniswap-v3</td>\n",
       "      <td>7.765434e+07</td>\n",
       "      <td>0.002111</td>\n",
       "    </tr>\n",
       "    <tr>\n",
       "      <th>19</th>\n",
       "      <td>2022-08-13 00:00:00</td>\n",
       "      <td>revert-compoundor</td>\n",
       "      <td>Arbitrum</td>\n",
       "      <td>1.649137e+05</td>\n",
       "      <td>uniswap-v3</td>\n",
       "      <td>8.016355e+07</td>\n",
       "      <td>0.002057</td>\n",
       "    </tr>\n",
       "    <tr>\n",
       "      <th>29</th>\n",
       "      <td>2022-08-14 00:00:00</td>\n",
       "      <td>revert-compoundor</td>\n",
       "      <td>Arbitrum</td>\n",
       "      <td>1.529264e+05</td>\n",
       "      <td>uniswap-v3</td>\n",
       "      <td>7.551680e+07</td>\n",
       "      <td>0.002025</td>\n",
       "    </tr>\n",
       "    <tr>\n",
       "      <th>33</th>\n",
       "      <td>2022-08-14 00:00:00</td>\n",
       "      <td>xtoken</td>\n",
       "      <td>Arbitrum</td>\n",
       "      <td>1.666364e+05</td>\n",
       "      <td>uniswap-v3</td>\n",
       "      <td>7.551680e+07</td>\n",
       "      <td>0.002207</td>\n",
       "    </tr>\n",
       "    <tr>\n",
       "      <th>...</th>\n",
       "      <td>...</td>\n",
       "      <td>...</td>\n",
       "      <td>...</td>\n",
       "      <td>...</td>\n",
       "      <td>...</td>\n",
       "      <td>...</td>\n",
       "      <td>...</td>\n",
       "    </tr>\n",
       "    <tr>\n",
       "      <th>1171</th>\n",
       "      <td>2022-11-10 00:00:00</td>\n",
       "      <td>gamma</td>\n",
       "      <td>Polygon</td>\n",
       "      <td>3.971683e+05</td>\n",
       "      <td>uniswap-v3</td>\n",
       "      <td>8.001818e+07</td>\n",
       "      <td>0.004963</td>\n",
       "    </tr>\n",
       "    <tr>\n",
       "      <th>1175</th>\n",
       "      <td>2022-11-10 00:00:00</td>\n",
       "      <td>revert-compoundor</td>\n",
       "      <td>Polygon</td>\n",
       "      <td>1.517708e+05</td>\n",
       "      <td>uniswap-v3</td>\n",
       "      <td>8.001818e+07</td>\n",
       "      <td>0.001897</td>\n",
       "    </tr>\n",
       "    <tr>\n",
       "      <th>1181</th>\n",
       "      <td>2022-11-10 22:59:47</td>\n",
       "      <td>arrakis-finance</td>\n",
       "      <td>Polygon</td>\n",
       "      <td>4.070113e+06</td>\n",
       "      <td>uniswap-v3</td>\n",
       "      <td>8.692602e+07</td>\n",
       "      <td>0.046823</td>\n",
       "    </tr>\n",
       "    <tr>\n",
       "      <th>1185</th>\n",
       "      <td>2022-11-10 22:59:47</td>\n",
       "      <td>gamma</td>\n",
       "      <td>Polygon</td>\n",
       "      <td>4.326264e+05</td>\n",
       "      <td>uniswap-v3</td>\n",
       "      <td>8.692602e+07</td>\n",
       "      <td>0.004977</td>\n",
       "    </tr>\n",
       "    <tr>\n",
       "      <th>1189</th>\n",
       "      <td>2022-11-10 22:59:47</td>\n",
       "      <td>revert-compoundor</td>\n",
       "      <td>Polygon</td>\n",
       "      <td>1.975816e+05</td>\n",
       "      <td>uniswap-v3</td>\n",
       "      <td>8.692602e+07</td>\n",
       "      <td>0.002273</td>\n",
       "    </tr>\n",
       "  </tbody>\n",
       "</table>\n",
       "<p>1193 rows × 7 columns</p>\n",
       "</div>"
      ],
      "text/plain": [
       "                    date         protocol_x     chain   usd_value_x  \\\n",
       "6    2022-08-12 00:00:00  revert-compoundor  Arbitrum  1.606501e+05   \n",
       "10   2022-08-12 00:00:00             xtoken  Arbitrum  1.639657e+05   \n",
       "19   2022-08-13 00:00:00  revert-compoundor  Arbitrum  1.649137e+05   \n",
       "29   2022-08-14 00:00:00  revert-compoundor  Arbitrum  1.529264e+05   \n",
       "33   2022-08-14 00:00:00             xtoken  Arbitrum  1.666364e+05   \n",
       "...                  ...                ...       ...           ...   \n",
       "1171 2022-11-10 00:00:00              gamma   Polygon  3.971683e+05   \n",
       "1175 2022-11-10 00:00:00  revert-compoundor   Polygon  1.517708e+05   \n",
       "1181 2022-11-10 22:59:47    arrakis-finance   Polygon  4.070113e+06   \n",
       "1185 2022-11-10 22:59:47              gamma   Polygon  4.326264e+05   \n",
       "1189 2022-11-10 22:59:47  revert-compoundor   Polygon  1.975816e+05   \n",
       "\n",
       "      protocol_y   usd_value_y  share_of_uni_tvl  \n",
       "6     uniswap-v3  7.765434e+07          0.002069  \n",
       "10    uniswap-v3  7.765434e+07          0.002111  \n",
       "19    uniswap-v3  8.016355e+07          0.002057  \n",
       "29    uniswap-v3  7.551680e+07          0.002025  \n",
       "33    uniswap-v3  7.551680e+07          0.002207  \n",
       "...          ...           ...               ...  \n",
       "1171  uniswap-v3  8.001818e+07          0.004963  \n",
       "1175  uniswap-v3  8.001818e+07          0.001897  \n",
       "1181  uniswap-v3  8.692602e+07          0.046823  \n",
       "1185  uniswap-v3  8.692602e+07          0.004977  \n",
       "1189  uniswap-v3  8.692602e+07          0.002273  \n",
       "\n",
       "[1193 rows x 7 columns]"
      ]
     },
     "metadata": {},
     "output_type": "display_data"
    }
   ],
   "source": [
    "comp_df = netdf_df[netdf_df['protocol'] != 'uniswap-v3']\n",
    "uni_df = netdf_df[netdf_df['protocol'] == 'uniswap-v3']\n",
    "\n",
    "\n",
    "merge_df = comp_df.merge(uni_df, on = ['date','chain'], how = 'left')\n",
    "merge_df['share_of_uni_tvl'] = merge_df['usd_value_x'] / merge_df['usd_value_y']\n",
    "merge_df = merge_df.sort_values(by=['chain','date'])\n",
    "display(merge_df)\n"
   ]
  },
  {
   "cell_type": "code",
   "execution_count": 37,
   "id": "2d57d74c",
   "metadata": {},
   "outputs": [],
   "source": [
    "chain_color_map={\n",
    "                \"Arbitrum\": \"#000000\",\n",
    "                \"Avalanche\": \"pink\",\n",
    "                \"Solana\": \"lightgreen\",\n",
    "                \"Fantom\": \"#50ACE0\",\n",
    "                \"Optimism\": \"red\",\n",
    "                \"Polygon\": \"#7648D6\",\n",
    "                \"Binance\":\"#EABC4E\",\n",
    "                \"xDai\":\"darkgreen\"\n",
    "                }"
   ]
  },
  {
   "cell_type": "code",
   "execution_count": 46,
   "id": "797d6fe7",
   "metadata": {},
   "outputs": [
    {
     "data": {
      "application/vnd.plotly.v1+json": {
       "config": {
        "plotlyServerURL": "https://plot.ly"
       },
       "data": [
        {
         "hovertemplate": "chain=Arbitrum<br>Day=%{x}<br>% Share of Uniswap TVL=%{y}<extra></extra>",
         "legendgroup": "Arbitrum",
         "line": {
          "color": "#000000",
          "dash": "solid"
         },
         "marker": {
          "symbol": "circle"
         },
         "mode": "lines",
         "name": "Arbitrum",
         "orientation": "v",
         "showlegend": true,
         "type": "scatter",
         "x": [
          "2022-08-12T00:00:00",
          "2022-08-13T00:00:00",
          "2022-08-14T00:00:00",
          "2022-08-15T00:00:00",
          "2022-08-16T00:00:00",
          "2022-08-17T00:00:00",
          "2022-08-18T00:00:00",
          "2022-08-19T00:00:00",
          "2022-08-20T00:00:00",
          "2022-08-21T00:00:00",
          "2022-08-22T00:00:00",
          "2022-08-23T00:00:00",
          "2022-08-24T00:00:00",
          "2022-08-25T00:00:00",
          "2022-08-26T00:00:00",
          "2022-08-27T00:00:00",
          "2022-08-28T00:00:00",
          "2022-08-29T00:00:00",
          "2022-08-30T00:00:00",
          "2022-08-31T00:00:00",
          "2022-09-01T00:00:00",
          "2022-09-02T00:00:00",
          "2022-09-03T00:00:00",
          "2022-09-04T00:00:00",
          "2022-09-05T00:00:00",
          "2022-09-06T00:00:00",
          "2022-09-07T00:00:00",
          "2022-09-08T00:00:00",
          "2022-09-09T00:00:00",
          "2022-09-10T00:00:00",
          "2022-09-11T00:00:00",
          "2022-09-12T00:00:00",
          "2022-09-13T00:00:00",
          "2022-09-14T00:00:00",
          "2022-09-15T00:00:00",
          "2022-09-16T00:00:00",
          "2022-09-17T00:00:00",
          "2022-09-18T00:00:00",
          "2022-09-19T00:00:00",
          "2022-09-20T00:00:00",
          "2022-09-21T00:00:00",
          "2022-09-22T00:00:00",
          "2022-09-23T00:00:00",
          "2022-09-24T00:00:00",
          "2022-09-25T00:00:00",
          "2022-09-26T00:00:00",
          "2022-09-27T00:00:00",
          "2022-09-28T00:00:00",
          "2022-09-29T00:00:00",
          "2022-09-30T00:00:00",
          "2022-10-01T00:00:00",
          "2022-10-02T00:00:00",
          "2022-10-03T00:00:00",
          "2022-10-04T00:00:00",
          "2022-10-05T00:00:00",
          "2022-10-06T00:00:00",
          "2022-10-07T00:00:00",
          "2022-10-08T00:00:00",
          "2022-10-09T00:00:00",
          "2022-10-10T00:00:00",
          "2022-10-11T00:00:00",
          "2022-10-12T00:00:00",
          "2022-10-13T00:00:00",
          "2022-10-14T00:00:00",
          "2022-10-15T00:00:00",
          "2022-10-16T00:00:00",
          "2022-10-17T00:00:00",
          "2022-10-18T00:00:00",
          "2022-10-19T00:00:00",
          "2022-10-20T00:00:00",
          "2022-10-21T00:00:00",
          "2022-10-22T00:00:00",
          "2022-10-23T00:00:00",
          "2022-10-24T00:00:00",
          "2022-10-25T00:00:00",
          "2022-10-26T00:00:00",
          "2022-10-27T00:00:00",
          "2022-10-28T00:00:00",
          "2022-10-29T00:00:00",
          "2022-10-30T00:00:00",
          "2022-10-31T00:00:00",
          "2022-11-01T00:00:00",
          "2022-11-02T00:00:00",
          "2022-11-03T00:00:00",
          "2022-11-04T00:00:00",
          "2022-11-05T00:00:00",
          "2022-11-06T00:00:00",
          "2022-11-07T00:00:00",
          "2022-11-08T00:00:00",
          "2022-11-09T00:00:00",
          "2022-11-10T00:00:00",
          "2022-11-10T22:59:47"
         ],
         "xaxis": "x",
         "y": [
          0.002068785058068738,
          0.002057215057734305,
          0.0020250642360397143,
          0.0019136739239844095,
          0.0019549530833142606,
          0.0023452514474747487,
          0.0023428677159187694,
          0.0023193508280944003,
          0.002169087385228988,
          0.002092719752500133,
          0.0016315041359075523,
          0.001556372569553604,
          0.007351666736124384,
          0.006767223195913973,
          0.0019758000530097535,
          0.0020804749793491076,
          0.002361754657277978,
          0.0018766705578657254,
          0.001936212066241144,
          0.0019265973551790799,
          0.0022823170771912125,
          0.002392457692462283,
          0.0016588638658364214,
          0.0014617004293512987,
          0.0015972292248509963,
          0.0022729925037823775,
          0.002390329249063642,
          0.0025241738152804293,
          0.001963996014050884,
          0.001974536311650209,
          0.0022778567669785497,
          0.0022853378839425304,
          0.0024787099234795844,
          0.002521815648337461,
          0.0026027713276717723,
          0.002480315655718769,
          0.0020139148637040426,
          0.00220156083846476,
          0.0020598519656699764,
          0.0021855037129428624,
          0.004284318316239763,
          0.003153118916983795,
          0.0027974935936375643,
          0.005621493690655872,
          0.0056000704566219785,
          0.0057532149594496365,
          0.004975085979843256,
          0.005810432554929326,
          0.0058022545486087216,
          0.00577159563780637,
          0.006278221932695357,
          0.006202311339175025,
          0.0033269620193419093,
          0.003129264167334233,
          0.0033526295756965666,
          0.0030070518940729786,
          0.003320937702915204,
          0.0031480704489547113,
          0.0031727059831189387,
          0.0031860145476741483,
          0.00291019649665771,
          0.0028677552625978753,
          0.0033375108991496347,
          0.0032504131152391318,
          0.0035737566685215467,
          0.0031779059371977157,
          0.0032680144570321496,
          0.003716169035036857,
          0.003952823363829283,
          0.003927602441424972,
          0.005235214746738147,
          0.005323415919482402,
          0.00513999240353028,
          0.005180663637588609,
          0.004878238038932995,
          0.005038839104149128,
          0.00408406700719645,
          0.0054434928695534165,
          0.005185368422431964,
          0.004425171279699005,
          0.005909261313584336,
          0.0062663007869340395,
          0.006319565532448168,
          0.005990911287093361,
          0.005799706661356133,
          0.006920884582527282,
          0.00479640205935008,
          0.006658439222206658,
          0.006927811418834022,
          0.0070519043295495625,
          0.006006307270443569,
          0.0064810570119014106
         ],
         "yaxis": "y"
        },
        {
         "hovertemplate": "chain=Ethereum<br>Day=%{x}<br>% Share of Uniswap TVL=%{y}<extra></extra>",
         "legendgroup": "Ethereum",
         "line": {
          "color": "#FF97FF",
          "dash": "solid"
         },
         "marker": {
          "symbol": "circle"
         },
         "mode": "lines",
         "name": "Ethereum",
         "orientation": "v",
         "showlegend": true,
         "type": "scatter",
         "x": [
          "2022-08-12T00:00:00",
          "2022-08-13T00:00:00",
          "2022-08-14T00:00:00",
          "2022-08-15T00:00:00",
          "2022-08-16T00:00:00",
          "2022-08-17T00:00:00",
          "2022-08-18T00:00:00",
          "2022-08-19T00:00:00",
          "2022-08-20T00:00:00",
          "2022-08-21T00:00:00",
          "2022-08-22T00:00:00",
          "2022-08-23T00:00:00",
          "2022-08-24T00:00:00",
          "2022-08-25T00:00:00",
          "2022-08-26T00:00:00",
          "2022-08-27T00:00:00",
          "2022-08-28T00:00:00",
          "2022-08-29T00:00:00",
          "2022-08-30T00:00:00",
          "2022-08-31T00:00:00",
          "2022-09-01T00:00:00",
          "2022-09-02T00:00:00",
          "2022-09-03T00:00:00",
          "2022-09-04T00:00:00",
          "2022-09-05T00:00:00",
          "2022-09-06T00:00:00",
          "2022-09-07T00:00:00",
          "2022-09-08T00:00:00",
          "2022-09-09T00:00:00",
          "2022-09-10T00:00:00",
          "2022-09-11T00:00:00",
          "2022-09-12T00:00:00",
          "2022-09-13T00:00:00",
          "2022-09-14T00:00:00",
          "2022-09-15T00:00:00",
          "2022-09-16T00:00:00",
          "2022-09-17T00:00:00",
          "2022-09-18T00:00:00",
          "2022-09-19T00:00:00",
          "2022-09-20T00:00:00",
          "2022-09-21T00:00:00",
          "2022-09-22T00:00:00",
          "2022-09-23T00:00:00",
          "2022-09-24T00:00:00",
          "2022-09-25T00:00:00",
          "2022-09-26T00:00:00",
          "2022-09-27T00:00:00",
          "2022-09-28T00:00:00",
          "2022-09-29T00:00:00",
          "2022-09-30T00:00:00",
          "2022-10-01T00:00:00",
          "2022-10-02T00:00:00",
          "2022-10-03T00:00:00",
          "2022-10-04T00:00:00",
          "2022-10-05T00:00:00",
          "2022-10-06T00:00:00",
          "2022-10-07T00:00:00",
          "2022-10-08T00:00:00",
          "2022-10-09T00:00:00",
          "2022-10-10T00:00:00",
          "2022-10-11T00:00:00",
          "2022-10-12T00:00:00",
          "2022-10-13T00:00:00",
          "2022-10-14T00:00:00",
          "2022-10-15T00:00:00",
          "2022-10-16T00:00:00",
          "2022-10-17T00:00:00",
          "2022-10-18T00:00:00",
          "2022-10-19T00:00:00",
          "2022-10-20T00:00:00",
          "2022-10-21T00:00:00",
          "2022-10-22T00:00:00",
          "2022-10-23T00:00:00",
          "2022-10-24T00:00:00",
          "2022-10-25T00:00:00",
          "2022-10-26T00:00:00",
          "2022-10-27T00:00:00",
          "2022-10-28T00:00:00",
          "2022-10-29T00:00:00",
          "2022-10-30T00:00:00",
          "2022-10-31T00:00:00",
          "2022-11-01T00:00:00",
          "2022-11-02T00:00:00",
          "2022-11-03T00:00:00",
          "2022-11-04T00:00:00",
          "2022-11-05T00:00:00",
          "2022-11-06T00:00:00",
          "2022-11-07T00:00:00",
          "2022-11-08T00:00:00",
          "2022-11-09T00:00:00",
          "2022-11-10T00:00:00",
          "2022-11-10T22:59:47"
         ],
         "xaxis": "x",
         "y": [
          0.00009872791707006367,
          0.00009634224368231893,
          0.00001008954706497244,
          0.00001247205537479378,
          0.000011862502701004041,
          0.000011511020821450023,
          0.000010740119175124663,
          0.000059286033437768967,
          0.000010257759878040125,
          0.000009957616659531452,
          0.000010145987097531865,
          0.00001090249570626641,
          0.00004010509385083256,
          0.000019058872631295067,
          0.000023827589628252582,
          0.000031625314011820326,
          0.00002764903364967762,
          0.000031258711343149855,
          0.00002829047444843859,
          0.00009078971367125258,
          0.00009118912043234766,
          0.0000311316174483154,
          0.00015751365829747582,
          0.00016926331878850732,
          0.00021438213033024087,
          0.00022382637338420257,
          0.00026406065994120866,
          0.0002934409595783397,
          0.0002955852640308293,
          0.00023761080847304236,
          0.00023021003315529102,
          0.00022666250645771567,
          0.00021794202140784365,
          0.00020869930128299922,
          0.00010052125016781667,
          0.00009000236171952363,
          0.00011106485227740362,
          0.00011376540066315728,
          0.00010697026333765552,
          0.00010839701204602558,
          0.0001274492425674439,
          0.00010436092514479435,
          0.00012767621679619058,
          0.0001128015536914113,
          0.0001115334532756588,
          0.00011029174218201838,
          0.00009515712449652605,
          0.00010017501704916309,
          0.00011872002322624825,
          0.00011685255883462744,
          0.00011949174631054906,
          0.00011933047646625077,
          0.00011974509366881561,
          0.0001226838435342892,
          0.00013076884840878107,
          0.00013474955792400136,
          0.0001342330323612516,
          0.00013141488077762832,
          0.00012667369347805756,
          0.00012912534644394662,
          0.00012106420972762804,
          0.00011627693190366923,
          0.00012104771931949903,
          0.00013303355286835365,
          0.00012949653683715345,
          0.00012753788940476609,
          0.00012866302348284558,
          0.0001391980332607508,
          0.00013764084600577145,
          0.00013397463908715725,
          0.00015942873870844544,
          0.0001656162688300449,
          0.0001658048797260622,
          0.00017129598636824754,
          0.00016854347185168379,
          0.00016589234009163327,
          0.00016659945939127483,
          0.00015968160155355966,
          0.0001661022430078442,
          0.00016420764920705908,
          0.000158547076358782,
          0.00015616650074742636,
          0.00016099814856672897,
          0.0001579170987278395,
          0.00016254647338601706,
          0.0001429476404469178,
          0.00010123004777450884,
          0.00009559100811318136,
          0.00009439796745916664,
          0.00008948391682445798,
          0.00007750414805361317,
          0.00008766719588901
         ],
         "yaxis": "y"
        },
        {
         "hovertemplate": "chain=Optimism<br>Day=%{x}<br>% Share of Uniswap TVL=%{y}<extra></extra>",
         "legendgroup": "Optimism",
         "line": {
          "color": "red",
          "dash": "solid"
         },
         "marker": {
          "symbol": "circle"
         },
         "mode": "lines",
         "name": "Optimism",
         "orientation": "v",
         "showlegend": true,
         "type": "scatter",
         "x": [
          "2022-08-12T00:00:00",
          "2022-08-13T00:00:00",
          "2022-08-14T00:00:00",
          "2022-08-15T00:00:00",
          "2022-08-16T00:00:00",
          "2022-08-17T00:00:00",
          "2022-08-18T00:00:00",
          "2022-08-19T00:00:00",
          "2022-08-20T00:00:00",
          "2022-08-21T00:00:00",
          "2022-08-22T00:00:00",
          "2022-08-23T00:00:00",
          "2022-08-24T00:00:00",
          "2022-08-25T00:00:00",
          "2022-08-26T00:00:00",
          "2022-08-27T00:00:00",
          "2022-08-28T00:00:00",
          "2022-08-29T00:00:00",
          "2022-08-30T00:00:00",
          "2022-08-31T00:00:00",
          "2022-09-01T00:00:00",
          "2022-09-02T00:00:00",
          "2022-09-03T00:00:00",
          "2022-09-04T00:00:00",
          "2022-09-05T00:00:00",
          "2022-09-06T00:00:00",
          "2022-09-07T00:00:00",
          "2022-09-08T00:00:00",
          "2022-09-09T00:00:00",
          "2022-09-10T00:00:00",
          "2022-09-11T00:00:00",
          "2022-09-12T00:00:00",
          "2022-09-13T00:00:00",
          "2022-09-14T00:00:00",
          "2022-09-15T00:00:00",
          "2022-09-16T00:00:00",
          "2022-09-17T00:00:00",
          "2022-09-18T00:00:00",
          "2022-09-19T00:00:00",
          "2022-09-20T00:00:00",
          "2022-09-21T00:00:00",
          "2022-09-22T00:00:00",
          "2022-09-23T00:00:00",
          "2022-09-24T00:00:00",
          "2022-09-25T00:00:00",
          "2022-09-26T00:00:00",
          "2022-09-27T00:00:00",
          "2022-09-28T00:00:00",
          "2022-09-29T00:00:00",
          "2022-09-30T00:00:00",
          "2022-10-01T00:00:00",
          "2022-10-02T00:00:00",
          "2022-10-03T00:00:00",
          "2022-10-04T00:00:00",
          "2022-10-05T00:00:00",
          "2022-10-06T00:00:00",
          "2022-10-07T00:00:00",
          "2022-10-08T00:00:00",
          "2022-10-09T00:00:00",
          "2022-10-10T00:00:00",
          "2022-10-11T00:00:00",
          "2022-10-12T00:00:00",
          "2022-10-13T00:00:00",
          "2022-10-14T00:00:00",
          "2022-10-15T00:00:00",
          "2022-10-16T00:00:00",
          "2022-10-17T00:00:00",
          "2022-10-18T00:00:00",
          "2022-10-19T00:00:00",
          "2022-10-20T00:00:00",
          "2022-10-21T00:00:00",
          "2022-10-22T00:00:00",
          "2022-10-23T00:00:00",
          "2022-10-24T00:00:00",
          "2022-10-25T00:00:00",
          "2022-10-26T00:00:00",
          "2022-10-27T00:00:00",
          "2022-10-28T00:00:00",
          "2022-10-29T00:00:00",
          "2022-10-30T00:00:00",
          "2022-10-31T00:00:00",
          "2022-11-01T00:00:00",
          "2022-11-02T00:00:00",
          "2022-11-03T00:00:00",
          "2022-11-04T00:00:00",
          "2022-11-05T00:00:00",
          "2022-11-06T00:00:00",
          "2022-11-07T00:00:00",
          "2022-11-08T00:00:00",
          "2022-11-09T00:00:00",
          "2022-11-10T00:00:00",
          "2022-11-10T22:59:47"
         ],
         "xaxis": "x",
         "y": [
          0.004970380695213172,
          0.004823250878128624,
          0.0045941674571957,
          0.004944264131974886,
          0.004786412812102802,
          0.005071453598413974,
          0.0046705849423192905,
          0.004622232753000262,
          0.004802466235928353,
          0.004593127382698031,
          0.004665241328879049,
          0.004902480838513419,
          0.005194426580753751,
          0.005322518866646861,
          0.0064432411881119875,
          0.005916970325291598,
          0.00567679994775027,
          0.004480610551690273,
          0.004579878197542454,
          0.004918350926948328,
          0.004692463773299768,
          0.004575722575902978,
          0.004962727170089666,
          0.005301447853343832,
          0.004452794394550024,
          0.004675899886386854,
          0.0052157604252662994,
          0.005902715520308517,
          0.005699425584158029,
          0.005579856057953011,
          0.005741993018305909,
          0.00600770846706236,
          0.0064640866168955225,
          0.006012599719397586,
          0.006094087849129854,
          0.006397547831866235,
          0.006247702346370669,
          0.0060716749097629455,
          0.005047430915676933,
          0.0051416690631181355,
          0.0038004897982066347,
          0.011265523874794646,
          0.012087782147901327,
          0.011994664944232833,
          0.011050881836228215,
          0.010849603112505254,
          0.01026579992201426,
          0.010032306823264264,
          0.009854602045837029,
          0.008831596500085729,
          0.008982296913769183,
          0.008589340071179093,
          0.008756793603266333,
          0.00902305105551052,
          0.009225696685504171,
          0.010970193980823667,
          0.010667091169349576,
          0.010757398859372259,
          0.010725724402135603,
          0.010705002645327932,
          0.010908932089195446,
          0.011376138914823107,
          0.011678732072124219,
          0.01174477608221054,
          0.011683078541074286,
          0.011772668899364583,
          0.01144802808913184,
          0.011392516052662883,
          0.011465518596385293,
          0.011330393762581865,
          0.009736538821970113,
          0.014398887968602506,
          0.014254614794677548,
          0.014072779595511844,
          0.014109875148721291,
          0.014305623097650867,
          0.013383312530321951,
          0.01291422735975995,
          0.012850715345073864,
          0.004042686894879704,
          0.008697537105689391,
          0.008790020699475067,
          0.008921718287393288,
          0.00874104974799494,
          0.00911073931605998,
          0.011690806515056622,
          0.017984796904005982,
          0.0456150587583876,
          0.07930532742949375,
          0.07281229832776791,
          0.0620103366104549,
          0.05819153241067517
         ],
         "yaxis": "y"
        },
        {
         "hovertemplate": "chain=Polygon<br>Day=%{x}<br>% Share of Uniswap TVL=%{y}<extra></extra>",
         "legendgroup": "Polygon",
         "line": {
          "color": "#7648D6",
          "dash": "solid"
         },
         "marker": {
          "symbol": "circle"
         },
         "mode": "lines",
         "name": "Polygon",
         "orientation": "v",
         "showlegend": true,
         "type": "scatter",
         "x": [
          "2022-08-12T00:00:00",
          "2022-08-13T00:00:00",
          "2022-08-14T00:00:00",
          "2022-08-15T00:00:00",
          "2022-08-16T00:00:00",
          "2022-08-17T00:00:00",
          "2022-08-18T00:00:00",
          "2022-08-19T00:00:00",
          "2022-08-20T00:00:00",
          "2022-08-21T00:00:00",
          "2022-08-22T00:00:00",
          "2022-08-23T00:00:00",
          "2022-08-24T00:00:00",
          "2022-08-25T00:00:00",
          "2022-08-26T00:00:00",
          "2022-08-27T00:00:00",
          "2022-08-28T00:00:00",
          "2022-08-29T00:00:00",
          "2022-08-30T00:00:00",
          "2022-08-31T00:00:00",
          "2022-09-01T00:00:00",
          "2022-09-02T00:00:00",
          "2022-09-03T00:00:00",
          "2022-09-04T00:00:00",
          "2022-09-05T00:00:00",
          "2022-09-06T00:00:00",
          "2022-09-07T00:00:00",
          "2022-09-08T00:00:00",
          "2022-09-09T00:00:00",
          "2022-09-10T00:00:00",
          "2022-09-11T00:00:00",
          "2022-09-12T00:00:00",
          "2022-09-13T00:00:00",
          "2022-09-14T00:00:00",
          "2022-09-15T00:00:00",
          "2022-09-16T00:00:00",
          "2022-09-17T00:00:00",
          "2022-09-18T00:00:00",
          "2022-09-19T00:00:00",
          "2022-09-20T00:00:00",
          "2022-09-21T00:00:00",
          "2022-09-22T00:00:00",
          "2022-09-23T00:00:00",
          "2022-09-24T00:00:00",
          "2022-09-25T00:00:00",
          "2022-09-26T00:00:00",
          "2022-09-27T00:00:00",
          "2022-09-28T00:00:00",
          "2022-09-29T00:00:00",
          "2022-09-30T00:00:00",
          "2022-10-01T00:00:00",
          "2022-10-02T00:00:00",
          "2022-10-03T00:00:00",
          "2022-10-04T00:00:00",
          "2022-10-05T00:00:00",
          "2022-10-06T00:00:00",
          "2022-10-07T00:00:00",
          "2022-10-08T00:00:00",
          "2022-10-09T00:00:00",
          "2022-10-10T00:00:00",
          "2022-10-11T00:00:00",
          "2022-10-12T00:00:00",
          "2022-10-13T00:00:00",
          "2022-10-14T00:00:00",
          "2022-10-15T00:00:00",
          "2022-10-16T00:00:00",
          "2022-10-17T00:00:00",
          "2022-10-18T00:00:00",
          "2022-10-19T00:00:00",
          "2022-10-20T00:00:00",
          "2022-10-21T00:00:00",
          "2022-10-22T00:00:00",
          "2022-10-23T00:00:00",
          "2022-10-24T00:00:00",
          "2022-10-25T00:00:00",
          "2022-10-26T00:00:00",
          "2022-10-27T00:00:00",
          "2022-10-28T00:00:00",
          "2022-10-29T00:00:00",
          "2022-10-30T00:00:00",
          "2022-10-31T00:00:00",
          "2022-11-01T00:00:00",
          "2022-11-02T00:00:00",
          "2022-11-03T00:00:00",
          "2022-11-04T00:00:00",
          "2022-11-05T00:00:00",
          "2022-11-06T00:00:00",
          "2022-11-07T00:00:00",
          "2022-11-08T00:00:00",
          "2022-11-09T00:00:00",
          "2022-11-10T00:00:00",
          "2022-11-10T22:59:47"
         ],
         "xaxis": "x",
         "y": [
          0.0008453576675168415,
          0.0013794893708730883,
          0.0015447803816020286,
          0.0016618085114900646,
          0.0017770698197985297,
          0.0017955503922844388,
          0.0017857799729405841,
          0.0017857464091507202,
          0.001494751367390858,
          0.0014453382298487884,
          0.001823974596326323,
          0.0018489388045138558,
          0.0018911838370582214,
          0.0019222543563592127,
          0.001898037659933365,
          0.0018041441997200531,
          0.001718266089695693,
          0.0017098040052865968,
          0.0017874663282540773,
          0.0018972373360751152,
          0.002867328055423608,
          0.0029722573782931883,
          0.0034735585088607524,
          0.00350246752074496,
          0.0031362010111451134,
          0.0034008985408710384,
          0.003079562992503362,
          0.0033678681893853707,
          0.003462063785709729,
          0.002387420494147638,
          0.0033974021039066835,
          0.0027122197812770306,
          0.0028598161318070282,
          0.0019357104098196545,
          0.002933799994271615,
          0.002931943278468513,
          0.0029082374579567877,
          0.0033207319921549575,
          0.003204700216162369,
          0.002960363037907102,
          0.004069477060241463,
          0.005504885069558563,
          0.005269142567717802,
          0.005153182858934511,
          0.00516431496083531,
          0.004943938787688683,
          0.004840411380526366,
          0.004784973181384544,
          0.005226160714676496,
          0.0054169843104583575,
          0.013213903541830238,
          0.013237613912912867,
          0.013380410239357142,
          0.013437902225132041,
          0.013069904661077355,
          0.012963964026605629,
          0.01351464419602513,
          0.013457286322525682,
          0.013436012689234831,
          0.013632737073211353,
          0.013446741955942487,
          0.013581349441299202,
          0.013402330476484191,
          0.01318036813457663,
          0.013189959388855364,
          0.016262361842182823,
          0.01631203790317841,
          0.016141226909929977,
          0.016337411341412134,
          0.016372358228610575,
          0.014878767958220369,
          0.01868435075336435,
          0.01853559421076909,
          0.018659331439107873,
          0.022014704277498284,
          0.02161172158154691,
          0.021770674968768125,
          0.021839761611916267,
          0.021590389979259425,
          0.015449380819069368,
          0.018963771883221892,
          0.01897866362378552,
          0.015268163552012765,
          0.01560206122666187,
          0.014186293173533145,
          0.013336215762098463,
          0.01338775434708034,
          0.013041202564442599,
          0.02140252211540448,
          0.0020992831540771967,
          0.0018967040398364958,
          0.0022729860788006273
         ],
         "yaxis": "y"
        }
       ],
       "layout": {
        "legend": {
         "title": {
          "text": "Chain"
         },
         "tracegroupgap": 0
        },
        "template": {
         "data": {
          "bar": [
           {
            "error_x": {
             "color": "#2a3f5f"
            },
            "error_y": {
             "color": "#2a3f5f"
            },
            "marker": {
             "line": {
              "color": "#E5ECF6",
              "width": 0.5
             },
             "pattern": {
              "fillmode": "overlay",
              "size": 10,
              "solidity": 0.2
             }
            },
            "type": "bar"
           }
          ],
          "barpolar": [
           {
            "marker": {
             "line": {
              "color": "#E5ECF6",
              "width": 0.5
             },
             "pattern": {
              "fillmode": "overlay",
              "size": 10,
              "solidity": 0.2
             }
            },
            "type": "barpolar"
           }
          ],
          "carpet": [
           {
            "aaxis": {
             "endlinecolor": "#2a3f5f",
             "gridcolor": "white",
             "linecolor": "white",
             "minorgridcolor": "white",
             "startlinecolor": "#2a3f5f"
            },
            "baxis": {
             "endlinecolor": "#2a3f5f",
             "gridcolor": "white",
             "linecolor": "white",
             "minorgridcolor": "white",
             "startlinecolor": "#2a3f5f"
            },
            "type": "carpet"
           }
          ],
          "choropleth": [
           {
            "colorbar": {
             "outlinewidth": 0,
             "ticks": ""
            },
            "type": "choropleth"
           }
          ],
          "contour": [
           {
            "colorbar": {
             "outlinewidth": 0,
             "ticks": ""
            },
            "colorscale": [
             [
              0,
              "#0d0887"
             ],
             [
              0.1111111111111111,
              "#46039f"
             ],
             [
              0.2222222222222222,
              "#7201a8"
             ],
             [
              0.3333333333333333,
              "#9c179e"
             ],
             [
              0.4444444444444444,
              "#bd3786"
             ],
             [
              0.5555555555555556,
              "#d8576b"
             ],
             [
              0.6666666666666666,
              "#ed7953"
             ],
             [
              0.7777777777777778,
              "#fb9f3a"
             ],
             [
              0.8888888888888888,
              "#fdca26"
             ],
             [
              1,
              "#f0f921"
             ]
            ],
            "type": "contour"
           }
          ],
          "contourcarpet": [
           {
            "colorbar": {
             "outlinewidth": 0,
             "ticks": ""
            },
            "type": "contourcarpet"
           }
          ],
          "heatmap": [
           {
            "colorbar": {
             "outlinewidth": 0,
             "ticks": ""
            },
            "colorscale": [
             [
              0,
              "#0d0887"
             ],
             [
              0.1111111111111111,
              "#46039f"
             ],
             [
              0.2222222222222222,
              "#7201a8"
             ],
             [
              0.3333333333333333,
              "#9c179e"
             ],
             [
              0.4444444444444444,
              "#bd3786"
             ],
             [
              0.5555555555555556,
              "#d8576b"
             ],
             [
              0.6666666666666666,
              "#ed7953"
             ],
             [
              0.7777777777777778,
              "#fb9f3a"
             ],
             [
              0.8888888888888888,
              "#fdca26"
             ],
             [
              1,
              "#f0f921"
             ]
            ],
            "type": "heatmap"
           }
          ],
          "heatmapgl": [
           {
            "colorbar": {
             "outlinewidth": 0,
             "ticks": ""
            },
            "colorscale": [
             [
              0,
              "#0d0887"
             ],
             [
              0.1111111111111111,
              "#46039f"
             ],
             [
              0.2222222222222222,
              "#7201a8"
             ],
             [
              0.3333333333333333,
              "#9c179e"
             ],
             [
              0.4444444444444444,
              "#bd3786"
             ],
             [
              0.5555555555555556,
              "#d8576b"
             ],
             [
              0.6666666666666666,
              "#ed7953"
             ],
             [
              0.7777777777777778,
              "#fb9f3a"
             ],
             [
              0.8888888888888888,
              "#fdca26"
             ],
             [
              1,
              "#f0f921"
             ]
            ],
            "type": "heatmapgl"
           }
          ],
          "histogram": [
           {
            "marker": {
             "pattern": {
              "fillmode": "overlay",
              "size": 10,
              "solidity": 0.2
             }
            },
            "type": "histogram"
           }
          ],
          "histogram2d": [
           {
            "colorbar": {
             "outlinewidth": 0,
             "ticks": ""
            },
            "colorscale": [
             [
              0,
              "#0d0887"
             ],
             [
              0.1111111111111111,
              "#46039f"
             ],
             [
              0.2222222222222222,
              "#7201a8"
             ],
             [
              0.3333333333333333,
              "#9c179e"
             ],
             [
              0.4444444444444444,
              "#bd3786"
             ],
             [
              0.5555555555555556,
              "#d8576b"
             ],
             [
              0.6666666666666666,
              "#ed7953"
             ],
             [
              0.7777777777777778,
              "#fb9f3a"
             ],
             [
              0.8888888888888888,
              "#fdca26"
             ],
             [
              1,
              "#f0f921"
             ]
            ],
            "type": "histogram2d"
           }
          ],
          "histogram2dcontour": [
           {
            "colorbar": {
             "outlinewidth": 0,
             "ticks": ""
            },
            "colorscale": [
             [
              0,
              "#0d0887"
             ],
             [
              0.1111111111111111,
              "#46039f"
             ],
             [
              0.2222222222222222,
              "#7201a8"
             ],
             [
              0.3333333333333333,
              "#9c179e"
             ],
             [
              0.4444444444444444,
              "#bd3786"
             ],
             [
              0.5555555555555556,
              "#d8576b"
             ],
             [
              0.6666666666666666,
              "#ed7953"
             ],
             [
              0.7777777777777778,
              "#fb9f3a"
             ],
             [
              0.8888888888888888,
              "#fdca26"
             ],
             [
              1,
              "#f0f921"
             ]
            ],
            "type": "histogram2dcontour"
           }
          ],
          "mesh3d": [
           {
            "colorbar": {
             "outlinewidth": 0,
             "ticks": ""
            },
            "type": "mesh3d"
           }
          ],
          "parcoords": [
           {
            "line": {
             "colorbar": {
              "outlinewidth": 0,
              "ticks": ""
             }
            },
            "type": "parcoords"
           }
          ],
          "pie": [
           {
            "automargin": true,
            "type": "pie"
           }
          ],
          "scatter": [
           {
            "fillpattern": {
             "fillmode": "overlay",
             "size": 10,
             "solidity": 0.2
            },
            "type": "scatter"
           }
          ],
          "scatter3d": [
           {
            "line": {
             "colorbar": {
              "outlinewidth": 0,
              "ticks": ""
             }
            },
            "marker": {
             "colorbar": {
              "outlinewidth": 0,
              "ticks": ""
             }
            },
            "type": "scatter3d"
           }
          ],
          "scattercarpet": [
           {
            "marker": {
             "colorbar": {
              "outlinewidth": 0,
              "ticks": ""
             }
            },
            "type": "scattercarpet"
           }
          ],
          "scattergeo": [
           {
            "marker": {
             "colorbar": {
              "outlinewidth": 0,
              "ticks": ""
             }
            },
            "type": "scattergeo"
           }
          ],
          "scattergl": [
           {
            "marker": {
             "colorbar": {
              "outlinewidth": 0,
              "ticks": ""
             }
            },
            "type": "scattergl"
           }
          ],
          "scattermapbox": [
           {
            "marker": {
             "colorbar": {
              "outlinewidth": 0,
              "ticks": ""
             }
            },
            "type": "scattermapbox"
           }
          ],
          "scatterpolar": [
           {
            "marker": {
             "colorbar": {
              "outlinewidth": 0,
              "ticks": ""
             }
            },
            "type": "scatterpolar"
           }
          ],
          "scatterpolargl": [
           {
            "marker": {
             "colorbar": {
              "outlinewidth": 0,
              "ticks": ""
             }
            },
            "type": "scatterpolargl"
           }
          ],
          "scatterternary": [
           {
            "marker": {
             "colorbar": {
              "outlinewidth": 0,
              "ticks": ""
             }
            },
            "type": "scatterternary"
           }
          ],
          "surface": [
           {
            "colorbar": {
             "outlinewidth": 0,
             "ticks": ""
            },
            "colorscale": [
             [
              0,
              "#0d0887"
             ],
             [
              0.1111111111111111,
              "#46039f"
             ],
             [
              0.2222222222222222,
              "#7201a8"
             ],
             [
              0.3333333333333333,
              "#9c179e"
             ],
             [
              0.4444444444444444,
              "#bd3786"
             ],
             [
              0.5555555555555556,
              "#d8576b"
             ],
             [
              0.6666666666666666,
              "#ed7953"
             ],
             [
              0.7777777777777778,
              "#fb9f3a"
             ],
             [
              0.8888888888888888,
              "#fdca26"
             ],
             [
              1,
              "#f0f921"
             ]
            ],
            "type": "surface"
           }
          ],
          "table": [
           {
            "cells": {
             "fill": {
              "color": "#EBF0F8"
             },
             "line": {
              "color": "white"
             }
            },
            "header": {
             "fill": {
              "color": "#C8D4E3"
             },
             "line": {
              "color": "white"
             }
            },
            "type": "table"
           }
          ]
         },
         "layout": {
          "annotationdefaults": {
           "arrowcolor": "#2a3f5f",
           "arrowhead": 0,
           "arrowwidth": 1
          },
          "autotypenumbers": "strict",
          "coloraxis": {
           "colorbar": {
            "outlinewidth": 0,
            "ticks": ""
           }
          },
          "colorscale": {
           "diverging": [
            [
             0,
             "#8e0152"
            ],
            [
             0.1,
             "#c51b7d"
            ],
            [
             0.2,
             "#de77ae"
            ],
            [
             0.3,
             "#f1b6da"
            ],
            [
             0.4,
             "#fde0ef"
            ],
            [
             0.5,
             "#f7f7f7"
            ],
            [
             0.6,
             "#e6f5d0"
            ],
            [
             0.7,
             "#b8e186"
            ],
            [
             0.8,
             "#7fbc41"
            ],
            [
             0.9,
             "#4d9221"
            ],
            [
             1,
             "#276419"
            ]
           ],
           "sequential": [
            [
             0,
             "#0d0887"
            ],
            [
             0.1111111111111111,
             "#46039f"
            ],
            [
             0.2222222222222222,
             "#7201a8"
            ],
            [
             0.3333333333333333,
             "#9c179e"
            ],
            [
             0.4444444444444444,
             "#bd3786"
            ],
            [
             0.5555555555555556,
             "#d8576b"
            ],
            [
             0.6666666666666666,
             "#ed7953"
            ],
            [
             0.7777777777777778,
             "#fb9f3a"
            ],
            [
             0.8888888888888888,
             "#fdca26"
            ],
            [
             1,
             "#f0f921"
            ]
           ],
           "sequentialminus": [
            [
             0,
             "#0d0887"
            ],
            [
             0.1111111111111111,
             "#46039f"
            ],
            [
             0.2222222222222222,
             "#7201a8"
            ],
            [
             0.3333333333333333,
             "#9c179e"
            ],
            [
             0.4444444444444444,
             "#bd3786"
            ],
            [
             0.5555555555555556,
             "#d8576b"
            ],
            [
             0.6666666666666666,
             "#ed7953"
            ],
            [
             0.7777777777777778,
             "#fb9f3a"
            ],
            [
             0.8888888888888888,
             "#fdca26"
            ],
            [
             1,
             "#f0f921"
            ]
           ]
          },
          "colorway": [
           "#636efa",
           "#EF553B",
           "#00cc96",
           "#ab63fa",
           "#FFA15A",
           "#19d3f3",
           "#FF6692",
           "#B6E880",
           "#FF97FF",
           "#FECB52"
          ],
          "font": {
           "color": "#2a3f5f"
          },
          "geo": {
           "bgcolor": "white",
           "lakecolor": "white",
           "landcolor": "#E5ECF6",
           "showlakes": true,
           "showland": true,
           "subunitcolor": "white"
          },
          "hoverlabel": {
           "align": "left"
          },
          "hovermode": "closest",
          "mapbox": {
           "style": "light"
          },
          "paper_bgcolor": "white",
          "plot_bgcolor": "#E5ECF6",
          "polar": {
           "angularaxis": {
            "gridcolor": "white",
            "linecolor": "white",
            "ticks": ""
           },
           "bgcolor": "#E5ECF6",
           "radialaxis": {
            "gridcolor": "white",
            "linecolor": "white",
            "ticks": ""
           }
          },
          "scene": {
           "xaxis": {
            "backgroundcolor": "#E5ECF6",
            "gridcolor": "white",
            "gridwidth": 2,
            "linecolor": "white",
            "showbackground": true,
            "ticks": "",
            "zerolinecolor": "white"
           },
           "yaxis": {
            "backgroundcolor": "#E5ECF6",
            "gridcolor": "white",
            "gridwidth": 2,
            "linecolor": "white",
            "showbackground": true,
            "ticks": "",
            "zerolinecolor": "white"
           },
           "zaxis": {
            "backgroundcolor": "#E5ECF6",
            "gridcolor": "white",
            "gridwidth": 2,
            "linecolor": "white",
            "showbackground": true,
            "ticks": "",
            "zerolinecolor": "white"
           }
          },
          "shapedefaults": {
           "line": {
            "color": "#2a3f5f"
           }
          },
          "ternary": {
           "aaxis": {
            "gridcolor": "white",
            "linecolor": "white",
            "ticks": ""
           },
           "baxis": {
            "gridcolor": "white",
            "linecolor": "white",
            "ticks": ""
           },
           "bgcolor": "#E5ECF6",
           "caxis": {
            "gridcolor": "white",
            "linecolor": "white",
            "ticks": ""
           }
          },
          "title": {
           "x": 0.05
          },
          "xaxis": {
           "automargin": true,
           "gridcolor": "white",
           "linecolor": "white",
           "ticks": "",
           "title": {
            "standoff": 15
           },
           "zerolinecolor": "white",
           "zerolinewidth": 2
          },
          "yaxis": {
           "automargin": true,
           "gridcolor": "white",
           "linecolor": "white",
           "ticks": "",
           "title": {
            "standoff": 15
           },
           "zerolinecolor": "white",
           "zerolinewidth": 2
          }
         }
        },
        "title": {
         "text": "revert-compoundor : Share of Uniswap V3 TVL by Chain"
        },
        "xaxis": {
         "anchor": "y",
         "domain": [
          0,
          1
         ],
         "title": {
          "text": "Day"
         }
        },
        "yaxis": {
         "anchor": "x",
         "domain": [
          0,
          1
         ],
         "tickformat": ",.1%",
         "title": {
          "text": "% Share of Uniswap TVL"
         }
        }
       }
      }
     },
     "metadata": {},
     "output_type": "display_data"
    },
    {
     "data": {
      "application/vnd.plotly.v1+json": {
       "config": {
        "plotlyServerURL": "https://plot.ly"
       },
       "data": [
        {
         "hovertemplate": "chain=Arbitrum<br>Day=%{x}<br>% Share of Uniswap TVL=%{y}<extra></extra>",
         "legendgroup": "Arbitrum",
         "line": {
          "color": "#000000",
          "dash": "solid"
         },
         "marker": {
          "symbol": "circle"
         },
         "mode": "lines",
         "name": "Arbitrum",
         "orientation": "v",
         "showlegend": true,
         "type": "scatter",
         "x": [
          "2022-08-12T00:00:00",
          "2022-08-14T00:00:00",
          "2022-08-15T00:00:00",
          "2022-08-16T00:00:00",
          "2022-08-17T00:00:00",
          "2022-08-18T00:00:00",
          "2022-08-19T00:00:00",
          "2022-08-20T00:00:00",
          "2022-08-21T00:00:00",
          "2022-08-22T00:00:00",
          "2022-08-23T00:00:00",
          "2022-08-24T00:00:00",
          "2022-08-28T00:00:00",
          "2022-08-29T00:00:00",
          "2022-08-30T00:00:00",
          "2022-08-31T00:00:00",
          "2022-09-01T00:00:00",
          "2022-09-02T00:00:00",
          "2022-09-03T00:00:00",
          "2022-09-04T00:00:00",
          "2022-09-05T00:00:00",
          "2022-09-06T00:00:00",
          "2022-09-07T00:00:00",
          "2022-09-08T00:00:00",
          "2022-09-09T00:00:00",
          "2022-09-10T00:00:00",
          "2022-09-11T00:00:00",
          "2022-09-12T00:00:00",
          "2022-09-13T00:00:00",
          "2022-09-14T00:00:00",
          "2022-09-15T00:00:00",
          "2022-09-16T00:00:00",
          "2022-09-17T00:00:00",
          "2022-09-18T00:00:00",
          "2022-09-19T00:00:00",
          "2022-09-20T00:00:00",
          "2022-09-21T00:00:00",
          "2022-09-22T00:00:00",
          "2022-09-23T00:00:00",
          "2022-09-24T00:00:00",
          "2022-09-25T00:00:00",
          "2022-09-26T00:00:00",
          "2022-09-27T00:00:00",
          "2022-09-28T00:00:00",
          "2022-09-29T00:00:00",
          "2022-09-30T00:00:00",
          "2022-10-01T00:00:00",
          "2022-10-02T00:00:00",
          "2022-10-03T00:00:00",
          "2022-10-04T00:00:00",
          "2022-10-05T00:00:00",
          "2022-10-06T00:00:00",
          "2022-10-07T00:00:00",
          "2022-10-08T00:00:00",
          "2022-10-09T00:00:00",
          "2022-10-10T00:00:00",
          "2022-10-11T00:00:00",
          "2022-10-12T00:00:00",
          "2022-10-13T00:00:00",
          "2022-10-14T00:00:00",
          "2022-10-15T00:00:00",
          "2022-10-16T00:00:00",
          "2022-10-17T00:00:00",
          "2022-10-18T00:00:00",
          "2022-10-19T00:00:00",
          "2022-10-20T00:00:00",
          "2022-10-21T00:00:00",
          "2022-10-22T00:00:00",
          "2022-10-23T00:00:00",
          "2022-10-24T00:00:00",
          "2022-10-25T00:00:00",
          "2022-10-26T00:00:00",
          "2022-10-27T00:00:00",
          "2022-10-28T00:00:00",
          "2022-10-29T00:00:00",
          "2022-10-30T00:00:00",
          "2022-10-31T00:00:00",
          "2022-11-01T00:00:00",
          "2022-11-02T00:00:00",
          "2022-11-03T00:00:00",
          "2022-11-04T00:00:00",
          "2022-11-05T00:00:00",
          "2022-11-06T00:00:00",
          "2022-11-07T00:00:00",
          "2022-11-08T00:00:00",
          "2022-11-09T00:00:00",
          "2022-11-10T00:00:00",
          "2022-11-10T22:59:47"
         ],
         "xaxis": "x",
         "y": [
          0.002111481204053077,
          0.0022066131717054607,
          0.0022166708122260455,
          0.002083753989212946,
          0.002170179115122071,
          0.002146883100551853,
          0.001990126477878712,
          0.0019335024389464436,
          0.0019381860773659688,
          0.0017093149749333421,
          0.0016337738787264887,
          0.0018122341597691218,
          0.001565708653448628,
          0.0015652608911625656,
          0.001745149758048858,
          0.0018257885879089878,
          0.0019231629013502127,
          0.0020507450860715436,
          0.002159503993954362,
          0.0021413676959526912,
          0.0020807949892202196,
          0.007532172257060039,
          0.007887102862937248,
          0.0077480293724043895,
          0.008918841689369253,
          0.008015819675444071,
          0.007632564705947974,
          0.007173220289342649,
          0.007473656668275669,
          0.007328077332554106,
          0.007503040277668342,
          0.007850748679306026,
          0.007217295577299131,
          0.006311573766651965,
          0.005902546689663254,
          0.005635736860199546,
          0.008074378567747198,
          0.005832720915328493,
          0.005368505633206272,
          0.00561881933625854,
          0.005557511657316174,
          0.005690485368135229,
          0.005075323354654879,
          0.005618485459043143,
          0.005889755289623301,
          0.005943339308659348,
          0.005781713082128773,
          0.005744011971853335,
          0.005362060064432691,
          0.005497410016163093,
          0.005579856442520946,
          0.004775619160065075,
          0.005882186606808639,
          0.005828155647605202,
          0.005746438702564965,
          0.005033416044381095,
          0.004612042689761469,
          0.0047103048875112045,
          0.00536529662803952,
          0.005386349281738595,
          0.005308976273065785,
          0.0046996255052776945,
          0.004689504362039611,
          0.0049858785202138494,
          0.005052413980151565,
          0.004855445928543096,
          0.006136524920868096,
          0.006107387904697412,
          0.006212768795107057,
          0.007017967087361441,
          0.007425049120058167,
          0.007601393751891667,
          0.00912060869988891,
          0.008128168109128064,
          0.007944662602955661,
          0.008020212296394569,
          0.007942803006039383,
          0.007599068177819471,
          0.007405280653884324,
          0.007233220403655141,
          0.006709396867404287,
          0.00676788061203058,
          0.006679021630018867,
          0.007116049667431357,
          0.006787379761741505,
          0.0063046435197274785,
          0.006056317673706156,
          0.00621191070006753
         ],
         "yaxis": "y"
        },
        {
         "hovertemplate": "chain=Ethereum<br>Day=%{x}<br>% Share of Uniswap TVL=%{y}<extra></extra>",
         "legendgroup": "Ethereum",
         "line": {
          "color": "#FF97FF",
          "dash": "solid"
         },
         "marker": {
          "symbol": "circle"
         },
         "mode": "lines",
         "name": "Ethereum",
         "orientation": "v",
         "showlegend": true,
         "type": "scatter",
         "x": [
          "2022-08-12T00:00:00",
          "2022-08-14T00:00:00",
          "2022-08-15T00:00:00",
          "2022-08-16T00:00:00",
          "2022-08-17T00:00:00",
          "2022-08-18T00:00:00",
          "2022-08-19T00:00:00",
          "2022-08-20T00:00:00",
          "2022-08-21T00:00:00",
          "2022-08-22T00:00:00",
          "2022-08-23T00:00:00",
          "2022-08-24T00:00:00",
          "2022-08-28T00:00:00",
          "2022-08-29T00:00:00",
          "2022-08-30T00:00:00",
          "2022-08-31T00:00:00",
          "2022-09-01T00:00:00",
          "2022-09-02T00:00:00",
          "2022-09-03T00:00:00",
          "2022-09-04T00:00:00",
          "2022-09-05T00:00:00",
          "2022-09-06T00:00:00",
          "2022-09-07T00:00:00",
          "2022-09-08T00:00:00",
          "2022-09-09T00:00:00",
          "2022-09-10T00:00:00",
          "2022-09-11T00:00:00",
          "2022-09-12T00:00:00",
          "2022-09-13T00:00:00",
          "2022-09-14T00:00:00",
          "2022-09-15T00:00:00",
          "2022-09-16T00:00:00",
          "2022-09-17T00:00:00",
          "2022-09-18T00:00:00",
          "2022-09-19T00:00:00",
          "2022-09-20T00:00:00",
          "2022-09-21T00:00:00",
          "2022-09-22T00:00:00",
          "2022-09-23T00:00:00",
          "2022-09-24T00:00:00",
          "2022-09-25T00:00:00",
          "2022-09-26T00:00:00",
          "2022-09-27T00:00:00",
          "2022-09-28T00:00:00",
          "2022-09-29T00:00:00",
          "2022-09-30T00:00:00",
          "2022-10-01T00:00:00",
          "2022-10-02T00:00:00",
          "2022-10-03T00:00:00",
          "2022-10-04T00:00:00",
          "2022-10-05T00:00:00",
          "2022-10-06T00:00:00",
          "2022-10-07T00:00:00",
          "2022-10-08T00:00:00",
          "2022-10-09T00:00:00",
          "2022-10-10T00:00:00",
          "2022-10-11T00:00:00",
          "2022-10-12T00:00:00",
          "2022-10-13T00:00:00",
          "2022-10-14T00:00:00",
          "2022-10-15T00:00:00",
          "2022-10-16T00:00:00",
          "2022-10-17T00:00:00",
          "2022-10-18T00:00:00",
          "2022-10-19T00:00:00",
          "2022-10-20T00:00:00",
          "2022-10-21T00:00:00",
          "2022-10-22T00:00:00",
          "2022-10-23T00:00:00",
          "2022-10-24T00:00:00",
          "2022-10-25T00:00:00",
          "2022-10-26T00:00:00",
          "2022-10-27T00:00:00",
          "2022-10-28T00:00:00",
          "2022-10-29T00:00:00",
          "2022-10-30T00:00:00",
          "2022-10-31T00:00:00",
          "2022-11-01T00:00:00",
          "2022-11-02T00:00:00",
          "2022-11-03T00:00:00",
          "2022-11-04T00:00:00",
          "2022-11-05T00:00:00",
          "2022-11-06T00:00:00",
          "2022-11-07T00:00:00",
          "2022-11-08T00:00:00",
          "2022-11-09T00:00:00",
          "2022-11-10T00:00:00",
          "2022-11-10T22:59:47"
         ],
         "xaxis": "x",
         "y": [
          0.0008675541467292116,
          0.0009004741080033289,
          0.0009120540324249165,
          0.0009188903229185029,
          0.0008947188682900496,
          0.0008846694525526984,
          0.0008736099227849568,
          0.0008719467187869952,
          0.0008767880857414385,
          0.0008725714388566902,
          0.0008235728629437116,
          0.0008039847592244881,
          0.0007109130434860024,
          0.0007165551585608348,
          0.0007211040104801577,
          0.0007145517671579514,
          0.0007121958009759155,
          0.0007034211707391862,
          0.0007024508701876604,
          0.0006941150562689591,
          0.0007099036777620235,
          0.0007345232618583613,
          0.0007168727876028295,
          0.0007391972789560369,
          0.0007181507140428583,
          0.0007228760598169598,
          0.0007267422926243791,
          0.0007374309718223623,
          0.0007370693579154561,
          0.0007257615169247959,
          0.0007562703634335258,
          0.0007261392552676813,
          0.000717363085419416,
          0.0007009873476630067,
          0.0006856180378084063,
          0.0006792614777423483,
          0.0008202349597729842,
          0.0006708026287799198,
          0.0006640724386011719,
          0.0005662289904694352,
          0.0005677719777189224,
          0.0005681572193020259,
          0.0005690904963729461,
          0.000566034202534689,
          0.0005605332361084233,
          0.00055746973531671,
          0.0005533859057067312,
          0.0005538261866381887,
          0.000556857503492533,
          0.000558350452261305,
          0.0005566163184492395,
          0.000565966065642618,
          0.0005611445805290183,
          0.0005603417995815622,
          0.0005563442926628037,
          0.0005582662604625626,
          0.0005617501259983507,
          0.0005557197634082311,
          0.000564951485109948,
          0.0006144972626508352,
          0.0006128996068205945,
          0.0006133327955084364,
          0.0006116395489663953,
          0.0006178006815910896,
          0.0006139320057975901,
          0.0006356976605479572,
          0.0007619930911353378,
          0.0007612263009277067,
          0.0007584060917888869,
          0.0007655761535954974,
          0.0007626698514117604,
          0.0007724796938449089,
          0.0007681914520376769,
          0.0007763533228380093,
          0.0008023684804219634,
          0.0008116646843282541,
          0.0007656228493096598,
          0.0007578704137517577,
          0.0007688658659119467,
          0.0007791411010827522,
          0.0007795186975704205,
          0.0007753804683760056,
          0.0007658698860623714,
          0.0007308172738095868,
          0.0007196074815651185,
          0.000718214880582364,
          0.0007345091210356203,
          0.0007379726168231922
         ],
         "yaxis": "y"
        },
        {
         "hovertemplate": "chain=Optimism<br>Day=%{x}<br>% Share of Uniswap TVL=%{y}<extra></extra>",
         "legendgroup": "Optimism",
         "line": {
          "color": "red",
          "dash": "solid"
         },
         "marker": {
          "symbol": "circle"
         },
         "mode": "lines",
         "name": "Optimism",
         "orientation": "v",
         "showlegend": true,
         "type": "scatter",
         "x": [
          "2022-08-12T00:00:00",
          "2022-08-14T00:00:00",
          "2022-08-15T00:00:00",
          "2022-08-16T00:00:00",
          "2022-08-17T00:00:00",
          "2022-08-18T00:00:00",
          "2022-08-19T00:00:00",
          "2022-08-20T00:00:00",
          "2022-08-21T00:00:00",
          "2022-08-22T00:00:00",
          "2022-08-23T00:00:00",
          "2022-08-24T00:00:00",
          "2022-08-28T00:00:00",
          "2022-08-29T00:00:00",
          "2022-08-30T00:00:00",
          "2022-08-31T00:00:00",
          "2022-09-01T00:00:00",
          "2022-09-02T00:00:00",
          "2022-09-03T00:00:00",
          "2022-09-04T00:00:00",
          "2022-09-05T00:00:00",
          "2022-09-06T00:00:00",
          "2022-09-07T00:00:00",
          "2022-09-08T00:00:00",
          "2022-09-09T00:00:00",
          "2022-09-10T00:00:00",
          "2022-09-11T00:00:00",
          "2022-09-12T00:00:00",
          "2022-09-13T00:00:00",
          "2022-09-14T00:00:00",
          "2022-09-15T00:00:00",
          "2022-09-16T00:00:00",
          "2022-09-17T00:00:00",
          "2022-09-18T00:00:00",
          "2022-09-19T00:00:00",
          "2022-09-20T00:00:00",
          "2022-09-21T00:00:00",
          "2022-09-22T00:00:00",
          "2022-09-23T00:00:00",
          "2022-09-24T00:00:00",
          "2022-09-25T00:00:00",
          "2022-09-26T00:00:00",
          "2022-09-27T00:00:00",
          "2022-09-28T00:00:00",
          "2022-09-29T00:00:00",
          "2022-09-30T00:00:00",
          "2022-10-01T00:00:00",
          "2022-10-02T00:00:00",
          "2022-10-03T00:00:00",
          "2022-10-04T00:00:00",
          "2022-10-05T00:00:00",
          "2022-10-06T00:00:00",
          "2022-10-07T00:00:00",
          "2022-10-08T00:00:00",
          "2022-10-09T00:00:00",
          "2022-10-10T00:00:00",
          "2022-10-11T00:00:00",
          "2022-10-12T00:00:00",
          "2022-10-13T00:00:00",
          "2022-10-14T00:00:00",
          "2022-10-15T00:00:00",
          "2022-10-16T00:00:00",
          "2022-10-17T00:00:00",
          "2022-10-18T00:00:00",
          "2022-10-19T00:00:00",
          "2022-10-20T00:00:00",
          "2022-10-21T00:00:00",
          "2022-10-22T00:00:00",
          "2022-10-23T00:00:00",
          "2022-10-24T00:00:00",
          "2022-10-25T00:00:00",
          "2022-10-26T00:00:00",
          "2022-10-27T00:00:00",
          "2022-10-28T00:00:00",
          "2022-10-29T00:00:00",
          "2022-10-30T00:00:00",
          "2022-10-31T00:00:00",
          "2022-11-01T00:00:00",
          "2022-11-02T00:00:00",
          "2022-11-03T00:00:00",
          "2022-11-04T00:00:00",
          "2022-11-05T00:00:00",
          "2022-11-06T00:00:00",
          "2022-11-07T00:00:00",
          "2022-11-08T00:00:00",
          "2022-11-09T00:00:00",
          "2022-11-10T00:00:00",
          "2022-11-10T22:59:47"
         ],
         "xaxis": "x",
         "y": [
          0.000001315210324101367,
          0.000001277185405580471,
          0.0000013285900269867164,
          0.0000012975143213427748,
          0.0000013090318779398193,
          0.0000012582119272252392,
          0.00000126150976795989,
          0.0000012172391725358756,
          0.0000011596398461861853,
          0.000001125119934982558,
          0.0000011060933545146681,
          0.000001046828397104048,
          0.0000013781644709741157,
          0.000001424466981068116,
          0.0000015720365371565675,
          0.0000016567283315619669,
          0.0000015272531133653234,
          0.0000014750214771166537,
          0.0000014470993144811682,
          0.00000243751859887935,
          0.0000023758742734847804,
          0.0000024959168495118096,
          0.000002610578494729918,
          0.0000027318377551492007,
          0.000002624528373094121,
          0.000002589769973176887,
          0.000002822903176243304,
          0.0000027952582888803146,
          0.0000028673484248170725,
          0.000002736532878483693,
          0.0000028459060959466062,
          0.0000026647868410699902,
          0.0000026211248121575706,
          0.0000024809927080757856,
          0.000002407175578069114,
          0.0008313887662492999,
          0.0023568361936817744,
          0.009902114838208546,
          0.01352703695531072,
          0.01375628880186057,
          0.014363166120967953,
          0.015370744259777802,
          0.014453807301571642,
          0.014941887521053751,
          0.015889485847047472,
          0.013453146380656183,
          0.01389037755100245,
          0.01325716310138444,
          0.013711535775778608,
          0.01441908540024046,
          0.014360544626453732,
          0.016711188346541332,
          0.01604386308453543,
          0.01619153286886132,
          0.016104622021832306,
          0.016453189331091238,
          0.016208853258409314,
          0.017619487556992372,
          0.0181246124620343,
          0.0180850965205264,
          0.017727134080730008,
          0.01898609097671166,
          0.018280393038685994,
          0.018935082957657688,
          0.01885795124278088,
          0.019134600775158443,
          0.016227506169825413,
          0.015158976276476983,
          0.01508919059400207,
          0.015680116852421686,
          0.015763104792405006,
          0.01760513290374671,
          0.032743842528263525,
          0.0508824044619008,
          0.05859255923167867,
          0.061223168360060164,
          0.06237819848064858,
          0.06330182680971355,
          0.062102905614718366,
          0.05970842660371581,
          0.060244044835046216,
          0.06000515897620594,
          0.059869671912635224,
          0.05887281586224024,
          0.0586299086353612,
          0.056394507871395036,
          0.05587694971768793,
          0.05621812399822292
         ],
         "yaxis": "y"
        }
       ],
       "layout": {
        "legend": {
         "title": {
          "text": "Chain"
         },
         "tracegroupgap": 0
        },
        "template": {
         "data": {
          "bar": [
           {
            "error_x": {
             "color": "#2a3f5f"
            },
            "error_y": {
             "color": "#2a3f5f"
            },
            "marker": {
             "line": {
              "color": "#E5ECF6",
              "width": 0.5
             },
             "pattern": {
              "fillmode": "overlay",
              "size": 10,
              "solidity": 0.2
             }
            },
            "type": "bar"
           }
          ],
          "barpolar": [
           {
            "marker": {
             "line": {
              "color": "#E5ECF6",
              "width": 0.5
             },
             "pattern": {
              "fillmode": "overlay",
              "size": 10,
              "solidity": 0.2
             }
            },
            "type": "barpolar"
           }
          ],
          "carpet": [
           {
            "aaxis": {
             "endlinecolor": "#2a3f5f",
             "gridcolor": "white",
             "linecolor": "white",
             "minorgridcolor": "white",
             "startlinecolor": "#2a3f5f"
            },
            "baxis": {
             "endlinecolor": "#2a3f5f",
             "gridcolor": "white",
             "linecolor": "white",
             "minorgridcolor": "white",
             "startlinecolor": "#2a3f5f"
            },
            "type": "carpet"
           }
          ],
          "choropleth": [
           {
            "colorbar": {
             "outlinewidth": 0,
             "ticks": ""
            },
            "type": "choropleth"
           }
          ],
          "contour": [
           {
            "colorbar": {
             "outlinewidth": 0,
             "ticks": ""
            },
            "colorscale": [
             [
              0,
              "#0d0887"
             ],
             [
              0.1111111111111111,
              "#46039f"
             ],
             [
              0.2222222222222222,
              "#7201a8"
             ],
             [
              0.3333333333333333,
              "#9c179e"
             ],
             [
              0.4444444444444444,
              "#bd3786"
             ],
             [
              0.5555555555555556,
              "#d8576b"
             ],
             [
              0.6666666666666666,
              "#ed7953"
             ],
             [
              0.7777777777777778,
              "#fb9f3a"
             ],
             [
              0.8888888888888888,
              "#fdca26"
             ],
             [
              1,
              "#f0f921"
             ]
            ],
            "type": "contour"
           }
          ],
          "contourcarpet": [
           {
            "colorbar": {
             "outlinewidth": 0,
             "ticks": ""
            },
            "type": "contourcarpet"
           }
          ],
          "heatmap": [
           {
            "colorbar": {
             "outlinewidth": 0,
             "ticks": ""
            },
            "colorscale": [
             [
              0,
              "#0d0887"
             ],
             [
              0.1111111111111111,
              "#46039f"
             ],
             [
              0.2222222222222222,
              "#7201a8"
             ],
             [
              0.3333333333333333,
              "#9c179e"
             ],
             [
              0.4444444444444444,
              "#bd3786"
             ],
             [
              0.5555555555555556,
              "#d8576b"
             ],
             [
              0.6666666666666666,
              "#ed7953"
             ],
             [
              0.7777777777777778,
              "#fb9f3a"
             ],
             [
              0.8888888888888888,
              "#fdca26"
             ],
             [
              1,
              "#f0f921"
             ]
            ],
            "type": "heatmap"
           }
          ],
          "heatmapgl": [
           {
            "colorbar": {
             "outlinewidth": 0,
             "ticks": ""
            },
            "colorscale": [
             [
              0,
              "#0d0887"
             ],
             [
              0.1111111111111111,
              "#46039f"
             ],
             [
              0.2222222222222222,
              "#7201a8"
             ],
             [
              0.3333333333333333,
              "#9c179e"
             ],
             [
              0.4444444444444444,
              "#bd3786"
             ],
             [
              0.5555555555555556,
              "#d8576b"
             ],
             [
              0.6666666666666666,
              "#ed7953"
             ],
             [
              0.7777777777777778,
              "#fb9f3a"
             ],
             [
              0.8888888888888888,
              "#fdca26"
             ],
             [
              1,
              "#f0f921"
             ]
            ],
            "type": "heatmapgl"
           }
          ],
          "histogram": [
           {
            "marker": {
             "pattern": {
              "fillmode": "overlay",
              "size": 10,
              "solidity": 0.2
             }
            },
            "type": "histogram"
           }
          ],
          "histogram2d": [
           {
            "colorbar": {
             "outlinewidth": 0,
             "ticks": ""
            },
            "colorscale": [
             [
              0,
              "#0d0887"
             ],
             [
              0.1111111111111111,
              "#46039f"
             ],
             [
              0.2222222222222222,
              "#7201a8"
             ],
             [
              0.3333333333333333,
              "#9c179e"
             ],
             [
              0.4444444444444444,
              "#bd3786"
             ],
             [
              0.5555555555555556,
              "#d8576b"
             ],
             [
              0.6666666666666666,
              "#ed7953"
             ],
             [
              0.7777777777777778,
              "#fb9f3a"
             ],
             [
              0.8888888888888888,
              "#fdca26"
             ],
             [
              1,
              "#f0f921"
             ]
            ],
            "type": "histogram2d"
           }
          ],
          "histogram2dcontour": [
           {
            "colorbar": {
             "outlinewidth": 0,
             "ticks": ""
            },
            "colorscale": [
             [
              0,
              "#0d0887"
             ],
             [
              0.1111111111111111,
              "#46039f"
             ],
             [
              0.2222222222222222,
              "#7201a8"
             ],
             [
              0.3333333333333333,
              "#9c179e"
             ],
             [
              0.4444444444444444,
              "#bd3786"
             ],
             [
              0.5555555555555556,
              "#d8576b"
             ],
             [
              0.6666666666666666,
              "#ed7953"
             ],
             [
              0.7777777777777778,
              "#fb9f3a"
             ],
             [
              0.8888888888888888,
              "#fdca26"
             ],
             [
              1,
              "#f0f921"
             ]
            ],
            "type": "histogram2dcontour"
           }
          ],
          "mesh3d": [
           {
            "colorbar": {
             "outlinewidth": 0,
             "ticks": ""
            },
            "type": "mesh3d"
           }
          ],
          "parcoords": [
           {
            "line": {
             "colorbar": {
              "outlinewidth": 0,
              "ticks": ""
             }
            },
            "type": "parcoords"
           }
          ],
          "pie": [
           {
            "automargin": true,
            "type": "pie"
           }
          ],
          "scatter": [
           {
            "fillpattern": {
             "fillmode": "overlay",
             "size": 10,
             "solidity": 0.2
            },
            "type": "scatter"
           }
          ],
          "scatter3d": [
           {
            "line": {
             "colorbar": {
              "outlinewidth": 0,
              "ticks": ""
             }
            },
            "marker": {
             "colorbar": {
              "outlinewidth": 0,
              "ticks": ""
             }
            },
            "type": "scatter3d"
           }
          ],
          "scattercarpet": [
           {
            "marker": {
             "colorbar": {
              "outlinewidth": 0,
              "ticks": ""
             }
            },
            "type": "scattercarpet"
           }
          ],
          "scattergeo": [
           {
            "marker": {
             "colorbar": {
              "outlinewidth": 0,
              "ticks": ""
             }
            },
            "type": "scattergeo"
           }
          ],
          "scattergl": [
           {
            "marker": {
             "colorbar": {
              "outlinewidth": 0,
              "ticks": ""
             }
            },
            "type": "scattergl"
           }
          ],
          "scattermapbox": [
           {
            "marker": {
             "colorbar": {
              "outlinewidth": 0,
              "ticks": ""
             }
            },
            "type": "scattermapbox"
           }
          ],
          "scatterpolar": [
           {
            "marker": {
             "colorbar": {
              "outlinewidth": 0,
              "ticks": ""
             }
            },
            "type": "scatterpolar"
           }
          ],
          "scatterpolargl": [
           {
            "marker": {
             "colorbar": {
              "outlinewidth": 0,
              "ticks": ""
             }
            },
            "type": "scatterpolargl"
           }
          ],
          "scatterternary": [
           {
            "marker": {
             "colorbar": {
              "outlinewidth": 0,
              "ticks": ""
             }
            },
            "type": "scatterternary"
           }
          ],
          "surface": [
           {
            "colorbar": {
             "outlinewidth": 0,
             "ticks": ""
            },
            "colorscale": [
             [
              0,
              "#0d0887"
             ],
             [
              0.1111111111111111,
              "#46039f"
             ],
             [
              0.2222222222222222,
              "#7201a8"
             ],
             [
              0.3333333333333333,
              "#9c179e"
             ],
             [
              0.4444444444444444,
              "#bd3786"
             ],
             [
              0.5555555555555556,
              "#d8576b"
             ],
             [
              0.6666666666666666,
              "#ed7953"
             ],
             [
              0.7777777777777778,
              "#fb9f3a"
             ],
             [
              0.8888888888888888,
              "#fdca26"
             ],
             [
              1,
              "#f0f921"
             ]
            ],
            "type": "surface"
           }
          ],
          "table": [
           {
            "cells": {
             "fill": {
              "color": "#EBF0F8"
             },
             "line": {
              "color": "white"
             }
            },
            "header": {
             "fill": {
              "color": "#C8D4E3"
             },
             "line": {
              "color": "white"
             }
            },
            "type": "table"
           }
          ]
         },
         "layout": {
          "annotationdefaults": {
           "arrowcolor": "#2a3f5f",
           "arrowhead": 0,
           "arrowwidth": 1
          },
          "autotypenumbers": "strict",
          "coloraxis": {
           "colorbar": {
            "outlinewidth": 0,
            "ticks": ""
           }
          },
          "colorscale": {
           "diverging": [
            [
             0,
             "#8e0152"
            ],
            [
             0.1,
             "#c51b7d"
            ],
            [
             0.2,
             "#de77ae"
            ],
            [
             0.3,
             "#f1b6da"
            ],
            [
             0.4,
             "#fde0ef"
            ],
            [
             0.5,
             "#f7f7f7"
            ],
            [
             0.6,
             "#e6f5d0"
            ],
            [
             0.7,
             "#b8e186"
            ],
            [
             0.8,
             "#7fbc41"
            ],
            [
             0.9,
             "#4d9221"
            ],
            [
             1,
             "#276419"
            ]
           ],
           "sequential": [
            [
             0,
             "#0d0887"
            ],
            [
             0.1111111111111111,
             "#46039f"
            ],
            [
             0.2222222222222222,
             "#7201a8"
            ],
            [
             0.3333333333333333,
             "#9c179e"
            ],
            [
             0.4444444444444444,
             "#bd3786"
            ],
            [
             0.5555555555555556,
             "#d8576b"
            ],
            [
             0.6666666666666666,
             "#ed7953"
            ],
            [
             0.7777777777777778,
             "#fb9f3a"
            ],
            [
             0.8888888888888888,
             "#fdca26"
            ],
            [
             1,
             "#f0f921"
            ]
           ],
           "sequentialminus": [
            [
             0,
             "#0d0887"
            ],
            [
             0.1111111111111111,
             "#46039f"
            ],
            [
             0.2222222222222222,
             "#7201a8"
            ],
            [
             0.3333333333333333,
             "#9c179e"
            ],
            [
             0.4444444444444444,
             "#bd3786"
            ],
            [
             0.5555555555555556,
             "#d8576b"
            ],
            [
             0.6666666666666666,
             "#ed7953"
            ],
            [
             0.7777777777777778,
             "#fb9f3a"
            ],
            [
             0.8888888888888888,
             "#fdca26"
            ],
            [
             1,
             "#f0f921"
            ]
           ]
          },
          "colorway": [
           "#636efa",
           "#EF553B",
           "#00cc96",
           "#ab63fa",
           "#FFA15A",
           "#19d3f3",
           "#FF6692",
           "#B6E880",
           "#FF97FF",
           "#FECB52"
          ],
          "font": {
           "color": "#2a3f5f"
          },
          "geo": {
           "bgcolor": "white",
           "lakecolor": "white",
           "landcolor": "#E5ECF6",
           "showlakes": true,
           "showland": true,
           "subunitcolor": "white"
          },
          "hoverlabel": {
           "align": "left"
          },
          "hovermode": "closest",
          "mapbox": {
           "style": "light"
          },
          "paper_bgcolor": "white",
          "plot_bgcolor": "#E5ECF6",
          "polar": {
           "angularaxis": {
            "gridcolor": "white",
            "linecolor": "white",
            "ticks": ""
           },
           "bgcolor": "#E5ECF6",
           "radialaxis": {
            "gridcolor": "white",
            "linecolor": "white",
            "ticks": ""
           }
          },
          "scene": {
           "xaxis": {
            "backgroundcolor": "#E5ECF6",
            "gridcolor": "white",
            "gridwidth": 2,
            "linecolor": "white",
            "showbackground": true,
            "ticks": "",
            "zerolinecolor": "white"
           },
           "yaxis": {
            "backgroundcolor": "#E5ECF6",
            "gridcolor": "white",
            "gridwidth": 2,
            "linecolor": "white",
            "showbackground": true,
            "ticks": "",
            "zerolinecolor": "white"
           },
           "zaxis": {
            "backgroundcolor": "#E5ECF6",
            "gridcolor": "white",
            "gridwidth": 2,
            "linecolor": "white",
            "showbackground": true,
            "ticks": "",
            "zerolinecolor": "white"
           }
          },
          "shapedefaults": {
           "line": {
            "color": "#2a3f5f"
           }
          },
          "ternary": {
           "aaxis": {
            "gridcolor": "white",
            "linecolor": "white",
            "ticks": ""
           },
           "baxis": {
            "gridcolor": "white",
            "linecolor": "white",
            "ticks": ""
           },
           "bgcolor": "#E5ECF6",
           "caxis": {
            "gridcolor": "white",
            "linecolor": "white",
            "ticks": ""
           }
          },
          "title": {
           "x": 0.05
          },
          "xaxis": {
           "automargin": true,
           "gridcolor": "white",
           "linecolor": "white",
           "ticks": "",
           "title": {
            "standoff": 15
           },
           "zerolinecolor": "white",
           "zerolinewidth": 2
          },
          "yaxis": {
           "automargin": true,
           "gridcolor": "white",
           "linecolor": "white",
           "ticks": "",
           "title": {
            "standoff": 15
           },
           "zerolinecolor": "white",
           "zerolinewidth": 2
          }
         }
        },
        "title": {
         "text": "xtoken : Share of Uniswap V3 TVL by Chain"
        },
        "xaxis": {
         "anchor": "y",
         "domain": [
          0,
          1
         ],
         "title": {
          "text": "Day"
         }
        },
        "yaxis": {
         "anchor": "x",
         "domain": [
          0,
          1
         ],
         "tickformat": ",.1%",
         "title": {
          "text": "% Share of Uniswap TVL"
         }
        }
       }
      }
     },
     "metadata": {},
     "output_type": "display_data"
    },
    {
     "data": {
      "application/vnd.plotly.v1+json": {
       "config": {
        "plotlyServerURL": "https://plot.ly"
       },
       "data": [
        {
         "hovertemplate": "chain=Arbitrum<br>Day=%{x}<br>% Share of Uniswap TVL=%{y}<extra></extra>",
         "legendgroup": "Arbitrum",
         "line": {
          "color": "#000000",
          "dash": "solid"
         },
         "marker": {
          "symbol": "circle"
         },
         "mode": "lines",
         "name": "Arbitrum",
         "orientation": "v",
         "showlegend": true,
         "type": "scatter",
         "x": [
          "2022-11-02T00:00:00",
          "2022-11-03T00:00:00",
          "2022-11-04T00:00:00",
          "2022-11-05T00:00:00",
          "2022-11-06T00:00:00",
          "2022-11-07T00:00:00",
          "2022-11-08T00:00:00",
          "2022-11-09T00:00:00",
          "2022-11-10T00:00:00",
          "2022-11-10T22:59:47"
         ],
         "xaxis": "x",
         "y": [
          0.000006710829253467192,
          0.000006640350612294792,
          0.000006394434665364399,
          0.000006318638776268328,
          0.0000063661429975041505,
          0.000007103452886964144,
          0.000007312455182964442,
          0.00023051277164783124,
          0.0002481631384145949,
          0.00023566756692333977
         ],
         "yaxis": "y"
        },
        {
         "hovertemplate": "chain=Ethereum<br>Day=%{x}<br>% Share of Uniswap TVL=%{y}<extra></extra>",
         "legendgroup": "Ethereum",
         "line": {
          "color": "#FF97FF",
          "dash": "solid"
         },
         "marker": {
          "symbol": "circle"
         },
         "mode": "lines",
         "name": "Ethereum",
         "orientation": "v",
         "showlegend": true,
         "type": "scatter",
         "x": [
          "2022-08-12T00:00:00",
          "2022-08-13T00:00:00",
          "2022-08-14T00:00:00",
          "2022-08-15T00:00:00",
          "2022-08-16T00:00:00",
          "2022-08-17T00:00:00",
          "2022-08-18T00:00:00",
          "2022-08-19T00:00:00",
          "2022-08-20T00:00:00",
          "2022-08-21T00:00:00",
          "2022-08-22T00:00:00",
          "2022-08-23T00:00:00",
          "2022-08-24T00:00:00",
          "2022-08-25T00:00:00",
          "2022-08-26T00:00:00",
          "2022-08-27T00:00:00",
          "2022-08-28T00:00:00",
          "2022-08-29T00:00:00",
          "2022-08-30T00:00:00",
          "2022-08-31T00:00:00",
          "2022-09-01T00:00:00",
          "2022-09-02T00:00:00",
          "2022-09-03T00:00:00",
          "2022-09-04T00:00:00",
          "2022-09-05T00:00:00",
          "2022-09-06T00:00:00",
          "2022-09-07T00:00:00",
          "2022-09-08T00:00:00",
          "2022-09-09T00:00:00",
          "2022-09-10T00:00:00",
          "2022-09-11T00:00:00",
          "2022-09-12T00:00:00",
          "2022-09-13T00:00:00",
          "2022-09-14T00:00:00",
          "2022-09-15T00:00:00",
          "2022-09-16T00:00:00",
          "2022-09-17T00:00:00",
          "2022-09-18T00:00:00",
          "2022-09-19T00:00:00",
          "2022-09-20T00:00:00",
          "2022-09-21T00:00:00",
          "2022-09-22T00:00:00",
          "2022-09-23T00:00:00",
          "2022-09-24T00:00:00",
          "2022-09-25T00:00:00",
          "2022-09-26T00:00:00",
          "2022-09-27T00:00:00",
          "2022-09-28T00:00:00",
          "2022-09-29T00:00:00",
          "2022-09-30T00:00:00",
          "2022-10-01T00:00:00",
          "2022-10-02T00:00:00",
          "2022-10-03T00:00:00",
          "2022-10-04T00:00:00",
          "2022-10-05T00:00:00",
          "2022-10-06T00:00:00",
          "2022-10-07T00:00:00",
          "2022-10-08T00:00:00",
          "2022-10-09T00:00:00",
          "2022-10-10T00:00:00",
          "2022-10-11T00:00:00",
          "2022-10-12T00:00:00",
          "2022-10-13T00:00:00",
          "2022-10-14T00:00:00",
          "2022-10-15T00:00:00",
          "2022-10-16T00:00:00",
          "2022-10-17T00:00:00",
          "2022-10-18T00:00:00",
          "2022-10-19T00:00:00",
          "2022-10-20T00:00:00",
          "2022-10-21T00:00:00",
          "2022-10-22T00:00:00",
          "2022-10-23T00:00:00",
          "2022-10-24T00:00:00",
          "2022-10-25T00:00:00",
          "2022-10-26T00:00:00",
          "2022-10-27T00:00:00",
          "2022-10-28T00:00:00",
          "2022-10-29T00:00:00",
          "2022-10-30T00:00:00",
          "2022-10-31T00:00:00",
          "2022-11-01T00:00:00",
          "2022-11-02T00:00:00",
          "2022-11-03T00:00:00",
          "2022-11-04T00:00:00",
          "2022-11-05T00:00:00",
          "2022-11-06T00:00:00",
          "2022-11-07T00:00:00",
          "2022-11-08T00:00:00",
          "2022-11-09T00:00:00",
          "2022-11-10T00:00:00",
          "2022-11-10T22:59:47"
         ],
         "xaxis": "x",
         "y": [
          0.0009512226673018295,
          0.0010053940360973774,
          0.0010241324930328414,
          0.0009593571813940762,
          0.0009084894818909472,
          0.0009115491848032548,
          0.0008926860391382267,
          0.0008849027056470307,
          0.0008475408650629239,
          0.0008785787261566053,
          0.0008764440951996824,
          0.0008920107930985776,
          0.0008885382427239284,
          0.0009083021462787914,
          0.0008985613187654835,
          0.0008602611162785485,
          0.0008474895562669587,
          0.0008324711698922662,
          0.0008428463450622379,
          0.0008505808013184136,
          0.0008139463686123342,
          0.0008079569739693965,
          0.0007978454805450796,
          0.0007873122239649653,
          0.0008100647265119491,
          0.0008455563071733897,
          0.0008112678428384066,
          0.000854239181799259,
          0.0008510711874612552,
          0.0008653680013013694,
          0.000873617584253456,
          0.0008804816782294223,
          0.0008524467316106605,
          0.0008275429962424939,
          0.0008642236289881747,
          0.0007703264361333644,
          0.0007600414147603644,
          0.0007553956707708165,
          0.000729762475972229,
          0.0007197505852427114,
          0.0008592621955984258,
          0.0006897513125016096,
          0.000695144277015224,
          0.000687921117223117,
          0.0006882440801063339,
          0.0006826819579686686,
          0.0006820546957798689,
          0.0006752129042579484,
          0.0006703360199289834,
          0.0006697634454694928,
          0.0006618285340561933,
          0.0006579838063773682,
          0.0006524364226519658,
          0.0006655640869495243,
          0.0006699199756912768,
          0.000682098482899759,
          0.0006834737012696005,
          0.0006761006358988941,
          0.0006695847728206074,
          0.0006758336895847418,
          0.0006647778677664687,
          0.0006640395947143872,
          0.000678865399576818,
          0.0007614378466689108,
          0.0007582255408622001,
          0.0007336282359481061,
          0.0007316345506401803,
          0.0007331248600528569,
          0.0007383508377606343,
          0.0007580228529755512,
          0.0009103560404294214,
          0.0009104831899865694,
          0.0009115669626279716,
          0.0009243170574061199,
          0.0009197787552732673,
          0.0009653811016036028,
          0.0009710464666633577,
          0.0009730904100008341,
          0.001002068572700158,
          0.0010225764995406695,
          0.0009878561188239655,
          0.0009841614002653251,
          0.0009654280470456005,
          0.0009771788085489038,
          0.000979043248082226,
          0.0010142595863907888,
          0.0010304043711241953,
          0.0009746526605893639,
          0.0009629571435008376,
          0.0008591590261551563,
          0.0008145303266816131,
          0.0010158550641161672
         ],
         "yaxis": "y"
        },
        {
         "hovertemplate": "chain=Optimism<br>Day=%{x}<br>% Share of Uniswap TVL=%{y}<extra></extra>",
         "legendgroup": "Optimism",
         "line": {
          "color": "red",
          "dash": "solid"
         },
         "marker": {
          "symbol": "circle"
         },
         "mode": "lines",
         "name": "Optimism",
         "orientation": "v",
         "showlegend": true,
         "type": "scatter",
         "x": [
          "2022-08-12T00:00:00",
          "2022-08-13T00:00:00",
          "2022-08-14T00:00:00",
          "2022-08-15T00:00:00",
          "2022-08-16T00:00:00",
          "2022-08-17T00:00:00",
          "2022-08-18T00:00:00",
          "2022-08-19T00:00:00",
          "2022-08-20T00:00:00",
          "2022-08-21T00:00:00",
          "2022-08-22T00:00:00",
          "2022-08-23T00:00:00",
          "2022-08-24T00:00:00",
          "2022-08-25T00:00:00",
          "2022-08-26T00:00:00",
          "2022-08-27T00:00:00",
          "2022-08-28T00:00:00",
          "2022-08-29T00:00:00",
          "2022-08-30T00:00:00",
          "2022-08-31T00:00:00",
          "2022-09-01T00:00:00",
          "2022-09-02T00:00:00",
          "2022-09-03T00:00:00",
          "2022-09-04T00:00:00",
          "2022-09-05T00:00:00",
          "2022-09-06T00:00:00",
          "2022-09-07T00:00:00",
          "2022-09-08T00:00:00",
          "2022-09-09T00:00:00",
          "2022-09-10T00:00:00",
          "2022-09-11T00:00:00",
          "2022-09-12T00:00:00",
          "2022-09-13T00:00:00",
          "2022-09-14T00:00:00",
          "2022-09-15T00:00:00",
          "2022-09-16T00:00:00",
          "2022-09-17T00:00:00",
          "2022-09-18T00:00:00",
          "2022-09-19T00:00:00",
          "2022-09-20T00:00:00",
          "2022-09-21T00:00:00",
          "2022-09-22T00:00:00",
          "2022-09-23T00:00:00",
          "2022-09-24T00:00:00",
          "2022-09-25T00:00:00",
          "2022-09-26T00:00:00",
          "2022-09-27T00:00:00",
          "2022-09-28T00:00:00",
          "2022-09-29T00:00:00",
          "2022-09-30T00:00:00",
          "2022-10-01T00:00:00",
          "2022-10-02T00:00:00",
          "2022-10-03T00:00:00",
          "2022-10-04T00:00:00",
          "2022-10-05T00:00:00",
          "2022-10-06T00:00:00",
          "2022-10-07T00:00:00",
          "2022-10-08T00:00:00",
          "2022-10-09T00:00:00",
          "2022-10-10T00:00:00",
          "2022-10-11T00:00:00",
          "2022-10-12T00:00:00",
          "2022-10-13T00:00:00",
          "2022-10-14T00:00:00",
          "2022-10-15T00:00:00",
          "2022-10-16T00:00:00",
          "2022-10-17T00:00:00",
          "2022-10-18T00:00:00",
          "2022-10-19T00:00:00",
          "2022-10-20T00:00:00",
          "2022-10-21T00:00:00",
          "2022-10-22T00:00:00",
          "2022-10-23T00:00:00",
          "2022-10-24T00:00:00",
          "2022-10-25T00:00:00",
          "2022-10-26T00:00:00",
          "2022-10-27T00:00:00",
          "2022-10-28T00:00:00",
          "2022-10-29T00:00:00",
          "2022-10-30T00:00:00",
          "2022-10-31T00:00:00",
          "2022-11-01T00:00:00",
          "2022-11-02T00:00:00",
          "2022-11-03T00:00:00",
          "2022-11-04T00:00:00",
          "2022-11-05T00:00:00",
          "2022-11-06T00:00:00",
          "2022-11-07T00:00:00",
          "2022-11-08T00:00:00",
          "2022-11-09T00:00:00",
          "2022-11-10T00:00:00",
          "2022-11-10T22:59:47"
         ],
         "xaxis": "x",
         "y": [
          0.00039819421018480006,
          0.00039443510910943373,
          0.0004072310491174749,
          0.00042101776354379653,
          0.00042318105559626236,
          0.0004275787044543567,
          0.00042171122784703607,
          0.000427302123200282,
          0.00046258268830434544,
          0.00045494252608727016,
          0.0004325213385598936,
          0.00042218020136544485,
          0.00039472003661405656,
          0.000379531918005464,
          0.0003714736097520518,
          0.00037208378845580016,
          0.00035969696714000947,
          0.00037312535742977347,
          0.0003595150604198062,
          0.000379830129331044,
          0.0003585167708601818,
          0.00033905158979678546,
          0.0003338776412116025,
          0.00034311486419183836,
          0.00033343503105846264,
          0.00033662742122307166,
          0.00040342170839409924,
          0.0004039643631131717,
          0.00038778652215288814,
          0.0003666320110084913,
          0.0003910236491593641,
          0.00039251643767193107,
          0.0004107195375808386,
          0.0004251343146795237,
          0.0004281387234015131,
          0.00043784608724456496,
          0.00043699732957172105,
          0.00041144607294210374,
          0.0004847787446662823,
          0.0004977881415404111,
          0.0005830962317183481,
          0.0007808528261253076,
          0.0007519870423536134,
          0.0006857608582133859,
          0.000621485503236248,
          0.00037649898878685406,
          0.0003420115078548741,
          0.0003392004664224782,
          0.00033686778682723956,
          0.00010860697424837719,
          0.00011053600054662672,
          0.00011220071848796277,
          0.00011613127428485555,
          0.00011689211118099119,
          0.00011506933090872327,
          0.00013400604884663867,
          0.00013125723525076583,
          0.00013345004827952352,
          0.00013422416511838618,
          0.0001322219121030519,
          0.00013848152378549081,
          0.0001454155578382901,
          0.00014771053547283025,
          0.00014826271451692585,
          0.00015040180333036882,
          0.00015327367602394938,
          0.0001465558095018921,
          0.00014304932151561095,
          0.00014717623728108272,
          0.00014893929077443484,
          0.00012747177661989693,
          0.00012539918316155162,
          0.00012406714195591415,
          0.00011981680294058981,
          0.00012049312054469657,
          0.00011814032268485515,
          0.00010783498660713103,
          0.00010496706268070324,
          0.00010310613283372695,
          0.00010604222036192756,
          0.00010626115495042778,
          0.00010889386262930034,
          0.0070700839793068505,
          0.01323684775271512,
          0.017229643596675847,
          0.021531415481509757,
          0.024022315211952132,
          0.029869218876031292,
          0.03139095391536091,
          0.03511185195899786,
          0.040314562245422694,
          0.03449465301628196
         ],
         "yaxis": "y"
        },
        {
         "hovertemplate": "chain=Polygon<br>Day=%{x}<br>% Share of Uniswap TVL=%{y}<extra></extra>",
         "legendgroup": "Polygon",
         "line": {
          "color": "#7648D6",
          "dash": "solid"
         },
         "marker": {
          "symbol": "circle"
         },
         "mode": "lines",
         "name": "Polygon",
         "orientation": "v",
         "showlegend": true,
         "type": "scatter",
         "x": [
          "2022-08-12T00:00:00",
          "2022-08-13T00:00:00",
          "2022-08-14T00:00:00",
          "2022-08-15T00:00:00",
          "2022-08-16T00:00:00",
          "2022-08-17T00:00:00",
          "2022-08-18T00:00:00",
          "2022-08-19T00:00:00",
          "2022-08-20T00:00:00",
          "2022-08-21T00:00:00",
          "2022-08-22T00:00:00",
          "2022-08-23T00:00:00",
          "2022-08-24T00:00:00",
          "2022-08-25T00:00:00",
          "2022-08-26T00:00:00",
          "2022-08-27T00:00:00",
          "2022-08-28T00:00:00",
          "2022-08-29T00:00:00",
          "2022-08-30T00:00:00",
          "2022-08-31T00:00:00",
          "2022-09-01T00:00:00",
          "2022-09-02T00:00:00",
          "2022-09-03T00:00:00",
          "2022-09-04T00:00:00",
          "2022-09-05T00:00:00",
          "2022-09-06T00:00:00",
          "2022-09-07T00:00:00",
          "2022-09-08T00:00:00",
          "2022-09-09T00:00:00",
          "2022-09-10T00:00:00",
          "2022-09-11T00:00:00",
          "2022-09-12T00:00:00",
          "2022-09-13T00:00:00",
          "2022-09-14T00:00:00",
          "2022-09-15T00:00:00",
          "2022-09-16T00:00:00",
          "2022-09-17T00:00:00",
          "2022-09-18T00:00:00",
          "2022-09-19T00:00:00",
          "2022-09-20T00:00:00",
          "2022-09-21T00:00:00",
          "2022-09-22T00:00:00",
          "2022-09-23T00:00:00",
          "2022-09-24T00:00:00",
          "2022-09-25T00:00:00",
          "2022-09-26T00:00:00",
          "2022-09-27T00:00:00",
          "2022-09-28T00:00:00",
          "2022-09-29T00:00:00",
          "2022-09-30T00:00:00",
          "2022-10-01T00:00:00",
          "2022-10-02T00:00:00",
          "2022-10-03T00:00:00",
          "2022-10-04T00:00:00",
          "2022-10-05T00:00:00",
          "2022-10-06T00:00:00",
          "2022-10-07T00:00:00",
          "2022-10-08T00:00:00",
          "2022-10-09T00:00:00",
          "2022-10-10T00:00:00",
          "2022-10-11T00:00:00",
          "2022-10-12T00:00:00",
          "2022-10-13T00:00:00",
          "2022-10-14T00:00:00",
          "2022-10-15T00:00:00",
          "2022-10-16T00:00:00",
          "2022-10-17T00:00:00",
          "2022-10-18T00:00:00",
          "2022-10-19T00:00:00",
          "2022-10-20T00:00:00",
          "2022-10-21T00:00:00",
          "2022-10-22T00:00:00",
          "2022-10-23T00:00:00",
          "2022-10-24T00:00:00",
          "2022-10-25T00:00:00",
          "2022-10-26T00:00:00",
          "2022-10-27T00:00:00",
          "2022-10-28T00:00:00",
          "2022-10-29T00:00:00",
          "2022-10-30T00:00:00",
          "2022-10-31T00:00:00",
          "2022-11-01T00:00:00",
          "2022-11-02T00:00:00",
          "2022-11-03T00:00:00",
          "2022-11-04T00:00:00",
          "2022-11-05T00:00:00",
          "2022-11-06T00:00:00",
          "2022-11-07T00:00:00",
          "2022-11-08T00:00:00",
          "2022-11-09T00:00:00",
          "2022-11-10T00:00:00",
          "2022-11-10T22:59:47"
         ],
         "xaxis": "x",
         "y": [
          0.007823931878902925,
          0.009944316010073962,
          0.010008432694985013,
          0.009953110235362135,
          0.009879488783341701,
          0.009952790701310247,
          0.010032335758787207,
          0.010009249521857085,
          0.011009414448338582,
          0.01025776923165472,
          0.01007706069940276,
          0.01025540565649465,
          0.010294964323865419,
          0.010384146456160584,
          0.010288120592042663,
          0.009882937236567916,
          0.009981894151661742,
          0.010062863032781989,
          0.010399736091424208,
          0.010479417383962238,
          0.010524486396193999,
          0.009912788255943291,
          0.01011589887145815,
          0.009902389583985047,
          0.009832418858195077,
          0.010348759575036974,
          0.010522403060245291,
          0.010979985443723177,
          0.011073425124817937,
          0.010950714636977854,
          0.010866775895920057,
          0.010142270176844532,
          0.010084042809642558,
          0.007301431213862414,
          0.009285537881883224,
          0.008990441091230929,
          0.009460959686198804,
          0.008941490909402031,
          0.008939501589406932,
          0.008309036539888601,
          0.009997722430277333,
          0.00827026139009376,
          0.007933593747811626,
          0.007156772127966598,
          0.007079911993023531,
          0.007072214849768759,
          0.007031278190799055,
          0.007020248288072477,
          0.0069989054255332065,
          0.0068931336144132755,
          0.006596014637329688,
          0.006592059281214248,
          0.006584652636333951,
          0.006639410176034267,
          0.0064405592341115255,
          0.0065062700159981305,
          0.00669342426031697,
          0.0066567722307450715,
          0.0066556570438329405,
          0.00665627472942382,
          0.006578471728303103,
          0.006690652667132736,
          0.006721192995368513,
          0.006719881236683262,
          0.006687433940336153,
          0.00665417041371581,
          0.006649772089155663,
          0.006671924018870798,
          0.006671547696319839,
          0.006636604720021617,
          0.0060784102286978135,
          0.0066110745307503905,
          0.006586938704893498,
          0.006634055836641876,
          0.006441658196466688,
          0.006566984246038558,
          0.00660184579441741,
          0.0059359174635646795,
          0.005733727031897107,
          0.00577564457576216,
          0.0057561813063833345,
          0.005707266819705632,
          0.005601043882683244,
          0.005605777211547438,
          0.005124642681092234,
          0.005168945358855989,
          0.005020278923000865,
          0.004979552793774279,
          0.004970993512097098,
          0.004891132111725068,
          0.0049634758222435954,
          0.004976949297301058
         ],
         "yaxis": "y"
        }
       ],
       "layout": {
        "legend": {
         "title": {
          "text": "Chain"
         },
         "tracegroupgap": 0
        },
        "template": {
         "data": {
          "bar": [
           {
            "error_x": {
             "color": "#2a3f5f"
            },
            "error_y": {
             "color": "#2a3f5f"
            },
            "marker": {
             "line": {
              "color": "#E5ECF6",
              "width": 0.5
             },
             "pattern": {
              "fillmode": "overlay",
              "size": 10,
              "solidity": 0.2
             }
            },
            "type": "bar"
           }
          ],
          "barpolar": [
           {
            "marker": {
             "line": {
              "color": "#E5ECF6",
              "width": 0.5
             },
             "pattern": {
              "fillmode": "overlay",
              "size": 10,
              "solidity": 0.2
             }
            },
            "type": "barpolar"
           }
          ],
          "carpet": [
           {
            "aaxis": {
             "endlinecolor": "#2a3f5f",
             "gridcolor": "white",
             "linecolor": "white",
             "minorgridcolor": "white",
             "startlinecolor": "#2a3f5f"
            },
            "baxis": {
             "endlinecolor": "#2a3f5f",
             "gridcolor": "white",
             "linecolor": "white",
             "minorgridcolor": "white",
             "startlinecolor": "#2a3f5f"
            },
            "type": "carpet"
           }
          ],
          "choropleth": [
           {
            "colorbar": {
             "outlinewidth": 0,
             "ticks": ""
            },
            "type": "choropleth"
           }
          ],
          "contour": [
           {
            "colorbar": {
             "outlinewidth": 0,
             "ticks": ""
            },
            "colorscale": [
             [
              0,
              "#0d0887"
             ],
             [
              0.1111111111111111,
              "#46039f"
             ],
             [
              0.2222222222222222,
              "#7201a8"
             ],
             [
              0.3333333333333333,
              "#9c179e"
             ],
             [
              0.4444444444444444,
              "#bd3786"
             ],
             [
              0.5555555555555556,
              "#d8576b"
             ],
             [
              0.6666666666666666,
              "#ed7953"
             ],
             [
              0.7777777777777778,
              "#fb9f3a"
             ],
             [
              0.8888888888888888,
              "#fdca26"
             ],
             [
              1,
              "#f0f921"
             ]
            ],
            "type": "contour"
           }
          ],
          "contourcarpet": [
           {
            "colorbar": {
             "outlinewidth": 0,
             "ticks": ""
            },
            "type": "contourcarpet"
           }
          ],
          "heatmap": [
           {
            "colorbar": {
             "outlinewidth": 0,
             "ticks": ""
            },
            "colorscale": [
             [
              0,
              "#0d0887"
             ],
             [
              0.1111111111111111,
              "#46039f"
             ],
             [
              0.2222222222222222,
              "#7201a8"
             ],
             [
              0.3333333333333333,
              "#9c179e"
             ],
             [
              0.4444444444444444,
              "#bd3786"
             ],
             [
              0.5555555555555556,
              "#d8576b"
             ],
             [
              0.6666666666666666,
              "#ed7953"
             ],
             [
              0.7777777777777778,
              "#fb9f3a"
             ],
             [
              0.8888888888888888,
              "#fdca26"
             ],
             [
              1,
              "#f0f921"
             ]
            ],
            "type": "heatmap"
           }
          ],
          "heatmapgl": [
           {
            "colorbar": {
             "outlinewidth": 0,
             "ticks": ""
            },
            "colorscale": [
             [
              0,
              "#0d0887"
             ],
             [
              0.1111111111111111,
              "#46039f"
             ],
             [
              0.2222222222222222,
              "#7201a8"
             ],
             [
              0.3333333333333333,
              "#9c179e"
             ],
             [
              0.4444444444444444,
              "#bd3786"
             ],
             [
              0.5555555555555556,
              "#d8576b"
             ],
             [
              0.6666666666666666,
              "#ed7953"
             ],
             [
              0.7777777777777778,
              "#fb9f3a"
             ],
             [
              0.8888888888888888,
              "#fdca26"
             ],
             [
              1,
              "#f0f921"
             ]
            ],
            "type": "heatmapgl"
           }
          ],
          "histogram": [
           {
            "marker": {
             "pattern": {
              "fillmode": "overlay",
              "size": 10,
              "solidity": 0.2
             }
            },
            "type": "histogram"
           }
          ],
          "histogram2d": [
           {
            "colorbar": {
             "outlinewidth": 0,
             "ticks": ""
            },
            "colorscale": [
             [
              0,
              "#0d0887"
             ],
             [
              0.1111111111111111,
              "#46039f"
             ],
             [
              0.2222222222222222,
              "#7201a8"
             ],
             [
              0.3333333333333333,
              "#9c179e"
             ],
             [
              0.4444444444444444,
              "#bd3786"
             ],
             [
              0.5555555555555556,
              "#d8576b"
             ],
             [
              0.6666666666666666,
              "#ed7953"
             ],
             [
              0.7777777777777778,
              "#fb9f3a"
             ],
             [
              0.8888888888888888,
              "#fdca26"
             ],
             [
              1,
              "#f0f921"
             ]
            ],
            "type": "histogram2d"
           }
          ],
          "histogram2dcontour": [
           {
            "colorbar": {
             "outlinewidth": 0,
             "ticks": ""
            },
            "colorscale": [
             [
              0,
              "#0d0887"
             ],
             [
              0.1111111111111111,
              "#46039f"
             ],
             [
              0.2222222222222222,
              "#7201a8"
             ],
             [
              0.3333333333333333,
              "#9c179e"
             ],
             [
              0.4444444444444444,
              "#bd3786"
             ],
             [
              0.5555555555555556,
              "#d8576b"
             ],
             [
              0.6666666666666666,
              "#ed7953"
             ],
             [
              0.7777777777777778,
              "#fb9f3a"
             ],
             [
              0.8888888888888888,
              "#fdca26"
             ],
             [
              1,
              "#f0f921"
             ]
            ],
            "type": "histogram2dcontour"
           }
          ],
          "mesh3d": [
           {
            "colorbar": {
             "outlinewidth": 0,
             "ticks": ""
            },
            "type": "mesh3d"
           }
          ],
          "parcoords": [
           {
            "line": {
             "colorbar": {
              "outlinewidth": 0,
              "ticks": ""
             }
            },
            "type": "parcoords"
           }
          ],
          "pie": [
           {
            "automargin": true,
            "type": "pie"
           }
          ],
          "scatter": [
           {
            "fillpattern": {
             "fillmode": "overlay",
             "size": 10,
             "solidity": 0.2
            },
            "type": "scatter"
           }
          ],
          "scatter3d": [
           {
            "line": {
             "colorbar": {
              "outlinewidth": 0,
              "ticks": ""
             }
            },
            "marker": {
             "colorbar": {
              "outlinewidth": 0,
              "ticks": ""
             }
            },
            "type": "scatter3d"
           }
          ],
          "scattercarpet": [
           {
            "marker": {
             "colorbar": {
              "outlinewidth": 0,
              "ticks": ""
             }
            },
            "type": "scattercarpet"
           }
          ],
          "scattergeo": [
           {
            "marker": {
             "colorbar": {
              "outlinewidth": 0,
              "ticks": ""
             }
            },
            "type": "scattergeo"
           }
          ],
          "scattergl": [
           {
            "marker": {
             "colorbar": {
              "outlinewidth": 0,
              "ticks": ""
             }
            },
            "type": "scattergl"
           }
          ],
          "scattermapbox": [
           {
            "marker": {
             "colorbar": {
              "outlinewidth": 0,
              "ticks": ""
             }
            },
            "type": "scattermapbox"
           }
          ],
          "scatterpolar": [
           {
            "marker": {
             "colorbar": {
              "outlinewidth": 0,
              "ticks": ""
             }
            },
            "type": "scatterpolar"
           }
          ],
          "scatterpolargl": [
           {
            "marker": {
             "colorbar": {
              "outlinewidth": 0,
              "ticks": ""
             }
            },
            "type": "scatterpolargl"
           }
          ],
          "scatterternary": [
           {
            "marker": {
             "colorbar": {
              "outlinewidth": 0,
              "ticks": ""
             }
            },
            "type": "scatterternary"
           }
          ],
          "surface": [
           {
            "colorbar": {
             "outlinewidth": 0,
             "ticks": ""
            },
            "colorscale": [
             [
              0,
              "#0d0887"
             ],
             [
              0.1111111111111111,
              "#46039f"
             ],
             [
              0.2222222222222222,
              "#7201a8"
             ],
             [
              0.3333333333333333,
              "#9c179e"
             ],
             [
              0.4444444444444444,
              "#bd3786"
             ],
             [
              0.5555555555555556,
              "#d8576b"
             ],
             [
              0.6666666666666666,
              "#ed7953"
             ],
             [
              0.7777777777777778,
              "#fb9f3a"
             ],
             [
              0.8888888888888888,
              "#fdca26"
             ],
             [
              1,
              "#f0f921"
             ]
            ],
            "type": "surface"
           }
          ],
          "table": [
           {
            "cells": {
             "fill": {
              "color": "#EBF0F8"
             },
             "line": {
              "color": "white"
             }
            },
            "header": {
             "fill": {
              "color": "#C8D4E3"
             },
             "line": {
              "color": "white"
             }
            },
            "type": "table"
           }
          ]
         },
         "layout": {
          "annotationdefaults": {
           "arrowcolor": "#2a3f5f",
           "arrowhead": 0,
           "arrowwidth": 1
          },
          "autotypenumbers": "strict",
          "coloraxis": {
           "colorbar": {
            "outlinewidth": 0,
            "ticks": ""
           }
          },
          "colorscale": {
           "diverging": [
            [
             0,
             "#8e0152"
            ],
            [
             0.1,
             "#c51b7d"
            ],
            [
             0.2,
             "#de77ae"
            ],
            [
             0.3,
             "#f1b6da"
            ],
            [
             0.4,
             "#fde0ef"
            ],
            [
             0.5,
             "#f7f7f7"
            ],
            [
             0.6,
             "#e6f5d0"
            ],
            [
             0.7,
             "#b8e186"
            ],
            [
             0.8,
             "#7fbc41"
            ],
            [
             0.9,
             "#4d9221"
            ],
            [
             1,
             "#276419"
            ]
           ],
           "sequential": [
            [
             0,
             "#0d0887"
            ],
            [
             0.1111111111111111,
             "#46039f"
            ],
            [
             0.2222222222222222,
             "#7201a8"
            ],
            [
             0.3333333333333333,
             "#9c179e"
            ],
            [
             0.4444444444444444,
             "#bd3786"
            ],
            [
             0.5555555555555556,
             "#d8576b"
            ],
            [
             0.6666666666666666,
             "#ed7953"
            ],
            [
             0.7777777777777778,
             "#fb9f3a"
            ],
            [
             0.8888888888888888,
             "#fdca26"
            ],
            [
             1,
             "#f0f921"
            ]
           ],
           "sequentialminus": [
            [
             0,
             "#0d0887"
            ],
            [
             0.1111111111111111,
             "#46039f"
            ],
            [
             0.2222222222222222,
             "#7201a8"
            ],
            [
             0.3333333333333333,
             "#9c179e"
            ],
            [
             0.4444444444444444,
             "#bd3786"
            ],
            [
             0.5555555555555556,
             "#d8576b"
            ],
            [
             0.6666666666666666,
             "#ed7953"
            ],
            [
             0.7777777777777778,
             "#fb9f3a"
            ],
            [
             0.8888888888888888,
             "#fdca26"
            ],
            [
             1,
             "#f0f921"
            ]
           ]
          },
          "colorway": [
           "#636efa",
           "#EF553B",
           "#00cc96",
           "#ab63fa",
           "#FFA15A",
           "#19d3f3",
           "#FF6692",
           "#B6E880",
           "#FF97FF",
           "#FECB52"
          ],
          "font": {
           "color": "#2a3f5f"
          },
          "geo": {
           "bgcolor": "white",
           "lakecolor": "white",
           "landcolor": "#E5ECF6",
           "showlakes": true,
           "showland": true,
           "subunitcolor": "white"
          },
          "hoverlabel": {
           "align": "left"
          },
          "hovermode": "closest",
          "mapbox": {
           "style": "light"
          },
          "paper_bgcolor": "white",
          "plot_bgcolor": "#E5ECF6",
          "polar": {
           "angularaxis": {
            "gridcolor": "white",
            "linecolor": "white",
            "ticks": ""
           },
           "bgcolor": "#E5ECF6",
           "radialaxis": {
            "gridcolor": "white",
            "linecolor": "white",
            "ticks": ""
           }
          },
          "scene": {
           "xaxis": {
            "backgroundcolor": "#E5ECF6",
            "gridcolor": "white",
            "gridwidth": 2,
            "linecolor": "white",
            "showbackground": true,
            "ticks": "",
            "zerolinecolor": "white"
           },
           "yaxis": {
            "backgroundcolor": "#E5ECF6",
            "gridcolor": "white",
            "gridwidth": 2,
            "linecolor": "white",
            "showbackground": true,
            "ticks": "",
            "zerolinecolor": "white"
           },
           "zaxis": {
            "backgroundcolor": "#E5ECF6",
            "gridcolor": "white",
            "gridwidth": 2,
            "linecolor": "white",
            "showbackground": true,
            "ticks": "",
            "zerolinecolor": "white"
           }
          },
          "shapedefaults": {
           "line": {
            "color": "#2a3f5f"
           }
          },
          "ternary": {
           "aaxis": {
            "gridcolor": "white",
            "linecolor": "white",
            "ticks": ""
           },
           "baxis": {
            "gridcolor": "white",
            "linecolor": "white",
            "ticks": ""
           },
           "bgcolor": "#E5ECF6",
           "caxis": {
            "gridcolor": "white",
            "linecolor": "white",
            "ticks": ""
           }
          },
          "title": {
           "x": 0.05
          },
          "xaxis": {
           "automargin": true,
           "gridcolor": "white",
           "linecolor": "white",
           "ticks": "",
           "title": {
            "standoff": 15
           },
           "zerolinecolor": "white",
           "zerolinewidth": 2
          },
          "yaxis": {
           "automargin": true,
           "gridcolor": "white",
           "linecolor": "white",
           "ticks": "",
           "title": {
            "standoff": 15
           },
           "zerolinecolor": "white",
           "zerolinewidth": 2
          }
         }
        },
        "title": {
         "text": "gamma : Share of Uniswap V3 TVL by Chain"
        },
        "xaxis": {
         "anchor": "y",
         "domain": [
          0,
          1
         ],
         "title": {
          "text": "Day"
         }
        },
        "yaxis": {
         "anchor": "x",
         "domain": [
          0,
          1
         ],
         "tickformat": ",.1%",
         "title": {
          "text": "% Share of Uniswap TVL"
         }
        }
       }
      }
     },
     "metadata": {},
     "output_type": "display_data"
    },
    {
     "data": {
      "application/vnd.plotly.v1+json": {
       "config": {
        "plotlyServerURL": "https://plot.ly"
       },
       "data": [
        {
         "hovertemplate": "chain=Ethereum<br>Day=%{x}<br>% Share of Uniswap TVL=%{y}<extra></extra>",
         "legendgroup": "Ethereum",
         "line": {
          "color": "#FF97FF",
          "dash": "solid"
         },
         "marker": {
          "symbol": "circle"
         },
         "mode": "lines",
         "name": "Ethereum",
         "orientation": "v",
         "showlegend": true,
         "type": "scatter",
         "x": [
          "2022-08-12T00:00:00",
          "2022-08-13T00:00:00",
          "2022-08-14T00:00:00",
          "2022-08-15T00:00:00",
          "2022-08-16T00:00:00",
          "2022-08-17T00:00:00",
          "2022-08-18T00:00:00",
          "2022-08-19T00:00:00",
          "2022-08-20T00:00:00",
          "2022-08-21T00:00:00",
          "2022-08-22T00:00:00",
          "2022-08-23T00:00:00",
          "2022-08-24T00:00:00",
          "2022-08-25T00:00:00",
          "2022-08-26T00:00:00",
          "2022-08-27T00:00:00",
          "2022-08-28T00:00:00",
          "2022-08-29T00:00:00",
          "2022-08-30T00:00:00",
          "2022-08-31T00:00:00",
          "2022-09-01T00:00:00",
          "2022-09-02T00:00:00",
          "2022-09-03T00:00:00",
          "2022-09-04T00:00:00",
          "2022-09-05T00:00:00",
          "2022-09-06T00:00:00",
          "2022-09-07T00:00:00",
          "2022-09-08T00:00:00",
          "2022-09-09T00:00:00",
          "2022-09-10T00:00:00",
          "2022-09-11T00:00:00",
          "2022-09-12T00:00:00",
          "2022-09-13T00:00:00",
          "2022-09-14T00:00:00",
          "2022-09-15T00:00:00",
          "2022-09-16T00:00:00",
          "2022-09-17T00:00:00",
          "2022-09-18T00:00:00",
          "2022-09-19T00:00:00",
          "2022-09-20T00:00:00",
          "2022-09-21T00:00:00",
          "2022-09-22T00:00:00",
          "2022-09-23T00:00:00",
          "2022-09-24T00:00:00",
          "2022-09-25T00:00:00",
          "2022-09-26T00:00:00",
          "2022-09-27T00:00:00",
          "2022-09-28T00:00:00",
          "2022-09-29T00:00:00",
          "2022-09-30T00:00:00",
          "2022-10-01T00:00:00",
          "2022-10-02T00:00:00",
          "2022-10-03T00:00:00",
          "2022-10-04T00:00:00",
          "2022-10-05T00:00:00",
          "2022-10-06T00:00:00",
          "2022-10-07T00:00:00",
          "2022-10-08T00:00:00",
          "2022-10-09T00:00:00",
          "2022-10-10T00:00:00",
          "2022-10-11T00:00:00",
          "2022-10-12T00:00:00",
          "2022-10-13T00:00:00",
          "2022-10-14T00:00:00",
          "2022-10-15T00:00:00",
          "2022-10-16T00:00:00",
          "2022-10-17T00:00:00",
          "2022-10-18T00:00:00",
          "2022-10-19T00:00:00",
          "2022-10-20T00:00:00",
          "2022-10-21T00:00:00",
          "2022-10-22T00:00:00",
          "2022-10-23T00:00:00",
          "2022-10-24T00:00:00",
          "2022-10-25T00:00:00",
          "2022-10-26T00:00:00",
          "2022-10-27T00:00:00",
          "2022-10-28T00:00:00",
          "2022-10-29T00:00:00",
          "2022-10-30T00:00:00",
          "2022-10-31T00:00:00",
          "2022-11-01T00:00:00",
          "2022-11-02T00:00:00",
          "2022-11-03T00:00:00",
          "2022-11-04T00:00:00",
          "2022-11-05T00:00:00",
          "2022-11-06T00:00:00",
          "2022-11-07T00:00:00",
          "2022-11-08T00:00:00",
          "2022-11-09T00:00:00",
          "2022-11-10T00:00:00",
          "2022-11-10T22:59:47"
         ],
         "xaxis": "x",
         "y": [
          0.36160999811170935,
          0.338865998143403,
          0.3402551865560857,
          0.3388891325299593,
          0.34128128859843415,
          0.34325941490048417,
          0.34642547316871125,
          0.3422684878709016,
          0.3597953023902965,
          0.352325436328791,
          0.3450556380817077,
          0.3389694235417798,
          0.33444483814519843,
          0.33411775130953514,
          0.3320506699230005,
          0.3450401244391512,
          0.34370482922580037,
          0.3465355441117283,
          0.33387374310072776,
          0.34744855597973184,
          0.34989971625518185,
          0.3526290753816179,
          0.34916250324342835,
          0.34905555615511913,
          0.3375971531047789,
          0.330528600069508,
          0.3364868148540567,
          0.3365001364802594,
          0.33474128564075684,
          0.3281944752714543,
          0.3247010366465112,
          0.33116137970334775,
          0.3327910033085383,
          0.34330066820138483,
          0.3508411097964322,
          0.3545343453873132,
          0.3535665609235081,
          0.3478568778212641,
          0.35671854405455966,
          0.35087984079480583,
          0.429231919497202,
          0.35066326631160905,
          0.35475280509384144,
          0.3518723369351391,
          0.3489880936854481,
          0.35245566876029616,
          0.34268127611439386,
          0.34185220689101314,
          0.3403743053443136,
          0.3392346985670152,
          0.3391257535976473,
          0.33971058786850533,
          0.342740284464984,
          0.3392100641442912,
          0.334575434895301,
          0.33486242385974047,
          0.3316224295367602,
          0.3336498553279684,
          0.33396536458557874,
          0.3309659588164423,
          0.33773212010556336,
          0.3354496591801756,
          0.32202403683433145,
          0.2501130576202533,
          0.24767667110843938,
          0.24876172049200773,
          0.24586606208822423,
          0.24202069963092274,
          0.21031708180171294,
          0.21890447791005577,
          0.2603796982130263,
          0.2576800954542476,
          0.25656786912727625,
          0.2535531370931255,
          0.25444930851743225,
          0.2486476630818631,
          0.2383278813157391,
          0.24203989230047435,
          0.224310169674709,
          0.2208537777166134,
          0.24090813491324584,
          0.2422097210917818,
          0.24024865167674042,
          0.2468051817178868,
          0.2445669158099083,
          0.24914370844574008,
          0.24858491651226972,
          0.2780225983604283,
          0.28773548850583563,
          0.31207844821033864,
          0.3413707353007097,
          0.3173348098978796
         ],
         "yaxis": "y"
        },
        {
         "hovertemplate": "chain=Optimism<br>Day=%{x}<br>% Share of Uniswap TVL=%{y}<extra></extra>",
         "legendgroup": "Optimism",
         "line": {
          "color": "red",
          "dash": "solid"
         },
         "marker": {
          "symbol": "circle"
         },
         "mode": "lines",
         "name": "Optimism",
         "orientation": "v",
         "showlegend": true,
         "type": "scatter",
         "x": [
          "2022-08-12T00:00:00",
          "2022-08-13T00:00:00",
          "2022-08-14T00:00:00",
          "2022-08-15T00:00:00",
          "2022-08-16T00:00:00",
          "2022-08-17T00:00:00",
          "2022-08-18T00:00:00",
          "2022-08-19T00:00:00",
          "2022-08-20T00:00:00",
          "2022-08-21T00:00:00",
          "2022-08-22T00:00:00",
          "2022-08-23T00:00:00",
          "2022-08-24T00:00:00",
          "2022-08-25T00:00:00",
          "2022-08-26T00:00:00",
          "2022-08-27T00:00:00",
          "2022-08-28T00:00:00",
          "2022-08-29T00:00:00",
          "2022-08-30T00:00:00",
          "2022-08-31T00:00:00",
          "2022-09-01T00:00:00",
          "2022-09-02T00:00:00",
          "2022-09-03T00:00:00",
          "2022-09-04T00:00:00",
          "2022-09-05T00:00:00",
          "2022-09-06T00:00:00",
          "2022-09-07T00:00:00",
          "2022-09-08T00:00:00",
          "2022-09-09T00:00:00",
          "2022-09-10T00:00:00",
          "2022-09-11T00:00:00",
          "2022-09-12T00:00:00",
          "2022-09-13T00:00:00",
          "2022-09-14T00:00:00",
          "2022-09-15T00:00:00",
          "2022-09-16T00:00:00",
          "2022-09-17T00:00:00",
          "2022-09-18T00:00:00",
          "2022-09-19T00:00:00",
          "2022-09-20T00:00:00",
          "2022-09-21T00:00:00",
          "2022-09-22T00:00:00",
          "2022-09-23T00:00:00",
          "2022-09-24T00:00:00",
          "2022-09-25T00:00:00",
          "2022-09-26T00:00:00",
          "2022-09-27T00:00:00",
          "2022-09-28T00:00:00",
          "2022-09-29T00:00:00",
          "2022-09-30T00:00:00",
          "2022-10-01T00:00:00",
          "2022-10-02T00:00:00",
          "2022-10-03T00:00:00",
          "2022-10-04T00:00:00",
          "2022-10-06T00:00:00",
          "2022-10-07T00:00:00",
          "2022-10-08T00:00:00",
          "2022-10-09T00:00:00",
          "2022-10-10T00:00:00",
          "2022-10-11T00:00:00",
          "2022-10-12T00:00:00",
          "2022-10-13T00:00:00",
          "2022-10-14T00:00:00",
          "2022-10-15T00:00:00",
          "2022-10-16T00:00:00",
          "2022-10-17T00:00:00",
          "2022-10-18T00:00:00",
          "2022-10-19T00:00:00",
          "2022-10-20T00:00:00",
          "2022-10-21T00:00:00",
          "2022-10-22T00:00:00",
          "2022-10-23T00:00:00",
          "2022-10-24T00:00:00",
          "2022-10-25T00:00:00",
          "2022-10-26T00:00:00",
          "2022-10-27T00:00:00",
          "2022-10-28T00:00:00",
          "2022-10-29T00:00:00",
          "2022-10-30T00:00:00",
          "2022-10-31T00:00:00",
          "2022-11-01T00:00:00",
          "2022-11-02T00:00:00",
          "2022-11-03T00:00:00",
          "2022-11-04T00:00:00",
          "2022-11-05T00:00:00",
          "2022-11-06T00:00:00",
          "2022-11-07T00:00:00",
          "2022-11-08T00:00:00",
          "2022-11-09T00:00:00",
          "2022-11-10T00:00:00",
          "2022-11-10T22:59:47"
         ],
         "xaxis": "x",
         "y": [
          0.1254741642318918,
          0.13112709089454386,
          0.1363540129430189,
          0.1348483600167623,
          0.13472759913508414,
          0.13558873912672273,
          0.12891187483101535,
          0.12781570957470836,
          0.1275834961704836,
          0.12083865753200464,
          0.11741829060938747,
          0.11631314115838005,
          0.1091707503701951,
          0.11272263573841201,
          0.10936787399323601,
          0.0993564384515365,
          0.09612094711624855,
          0.09507561385578514,
          0.09669879995229515,
          0.10095153600689134,
          0.0957644913705989,
          0.09173642546192108,
          0.09125691524043654,
          0.0922410940594256,
          0.08989152239851805,
          0.09216763463062962,
          0.09302864946208923,
          0.09862711887671524,
          0.09511227490627865,
          0.09283412692307047,
          0.10565249283860549,
          0.10653054884502913,
          0.1121390826854949,
          0.11051037218206806,
          0.11627831212247897,
          0.11176021636331362,
          0.11312813581192913,
          0.10784815731319938,
          0.10856996359537753,
          0.11336499445923409,
          0.0845354956901123,
          0.10816561344397556,
          0.1115724501692384,
          0.11170205408539807,
          0.10399293232168401,
          0.101255523538205,
          0.09719086128955792,
          0.0993389430625548,
          0.10024036796970884,
          0.0937932161211365,
          0.09553429366886294,
          0.09498234287285022,
          0.09468860697833359,
          0.09859724413282676,
          0.12923018070528644,
          0.1302871923398851,
          0.12032342566927628,
          0.1260564786623,
          0.125037031723302,
          0.12614978380410696,
          0.1310333371329294,
          0.1350141922445189,
          0.126785140344265,
          0.13094053618388093,
          0.13140596211308195,
          0.12775347496378764,
          0.12819211476836628,
          0.1291558759471214,
          0.12722340480913674,
          0.10968820756373684,
          0.10996908759043038,
          0.10911361097365638,
          0.10809346982074393,
          0.10624801073900916,
          0.11328885344591222,
          0.15729742715089026,
          0.18024685628119302,
          0.17818498768613208,
          0.18938006672423222,
          0.18990763767477192,
          0.19705087933815907,
          0.1944316099803851,
          0.21337859681927127,
          0.22358344634639338,
          0.22984281406439044,
          0.22872326395408024,
          0.22797186573427922,
          0.219923415304409,
          0.19793988425905754,
          0.1855701490568781,
          0.16413517410465872
         ],
         "yaxis": "y"
        },
        {
         "hovertemplate": "chain=Polygon<br>Day=%{x}<br>% Share of Uniswap TVL=%{y}<extra></extra>",
         "legendgroup": "Polygon",
         "line": {
          "color": "#7648D6",
          "dash": "solid"
         },
         "marker": {
          "symbol": "circle"
         },
         "mode": "lines",
         "name": "Polygon",
         "orientation": "v",
         "showlegend": true,
         "type": "scatter",
         "x": [
          "2022-08-12T00:00:00",
          "2022-08-13T00:00:00",
          "2022-08-14T00:00:00",
          "2022-08-15T00:00:00",
          "2022-08-16T00:00:00",
          "2022-08-17T00:00:00",
          "2022-08-18T00:00:00",
          "2022-08-19T00:00:00",
          "2022-08-20T00:00:00",
          "2022-08-21T00:00:00",
          "2022-08-22T00:00:00",
          "2022-08-23T00:00:00",
          "2022-08-24T00:00:00",
          "2022-08-25T00:00:00",
          "2022-08-26T00:00:00",
          "2022-08-27T00:00:00",
          "2022-08-28T00:00:00",
          "2022-08-29T00:00:00",
          "2022-08-30T00:00:00",
          "2022-08-31T00:00:00",
          "2022-09-01T00:00:00",
          "2022-09-02T00:00:00",
          "2022-09-03T00:00:00",
          "2022-09-04T00:00:00",
          "2022-09-05T00:00:00",
          "2022-09-06T00:00:00",
          "2022-09-07T00:00:00",
          "2022-09-08T00:00:00",
          "2022-09-09T00:00:00",
          "2022-09-10T00:00:00",
          "2022-09-11T00:00:00",
          "2022-09-12T00:00:00",
          "2022-09-13T00:00:00",
          "2022-09-14T00:00:00",
          "2022-09-15T00:00:00",
          "2022-09-16T00:00:00",
          "2022-09-17T00:00:00",
          "2022-09-18T00:00:00",
          "2022-09-19T00:00:00",
          "2022-09-20T00:00:00",
          "2022-09-21T00:00:00",
          "2022-09-22T00:00:00",
          "2022-09-23T00:00:00",
          "2022-09-24T00:00:00",
          "2022-09-25T00:00:00",
          "2022-09-26T00:00:00",
          "2022-09-27T00:00:00",
          "2022-09-28T00:00:00",
          "2022-09-29T00:00:00",
          "2022-09-30T00:00:00",
          "2022-10-01T00:00:00",
          "2022-10-02T00:00:00",
          "2022-10-03T00:00:00",
          "2022-10-04T00:00:00",
          "2022-10-05T00:00:00",
          "2022-10-06T00:00:00",
          "2022-10-07T00:00:00",
          "2022-10-08T00:00:00",
          "2022-10-09T00:00:00",
          "2022-10-10T00:00:00",
          "2022-10-11T00:00:00",
          "2022-10-12T00:00:00",
          "2022-10-13T00:00:00",
          "2022-10-14T00:00:00",
          "2022-10-15T00:00:00",
          "2022-10-16T00:00:00",
          "2022-10-17T00:00:00",
          "2022-10-18T00:00:00",
          "2022-10-19T00:00:00",
          "2022-10-20T00:00:00",
          "2022-10-21T00:00:00",
          "2022-10-22T00:00:00",
          "2022-10-23T00:00:00",
          "2022-10-24T00:00:00",
          "2022-10-25T00:00:00",
          "2022-10-26T00:00:00",
          "2022-10-27T00:00:00",
          "2022-10-28T00:00:00",
          "2022-10-29T00:00:00",
          "2022-10-30T00:00:00",
          "2022-10-31T00:00:00",
          "2022-11-01T00:00:00",
          "2022-11-02T00:00:00",
          "2022-11-03T00:00:00",
          "2022-11-04T00:00:00",
          "2022-11-05T00:00:00",
          "2022-11-06T00:00:00",
          "2022-11-07T00:00:00",
          "2022-11-08T00:00:00",
          "2022-11-09T00:00:00",
          "2022-11-10T00:00:00",
          "2022-11-10T22:59:47"
         ],
         "xaxis": "x",
         "y": [
          0.032588762361882115,
          0.04041015151772766,
          0.04080514254084721,
          0.04038546660960134,
          0.03981899883166464,
          0.04068820603071375,
          0.04050281661332453,
          0.0404107491428492,
          0.04216636258210288,
          0.04325802842922298,
          0.0425027608404557,
          0.036394827280659535,
          0.037100941565072224,
          0.03766110870502316,
          0.03805038118839273,
          0.038222663490594395,
          0.03878596959963898,
          0.03866362725027027,
          0.04010612217522275,
          0.04025100760059695,
          0.039853315293052576,
          0.037364692439678125,
          0.03539406696866141,
          0.03493057151172509,
          0.034504639520205584,
          0.036298948907031114,
          0.03546262394390644,
          0.03646357115946573,
          0.03678496888226,
          0.03644024760977889,
          0.036314158802267835,
          0.03614332346976438,
          0.03601494124986399,
          0.02611459104921808,
          0.038244345088591855,
          0.039813807329330236,
          0.035093447933642156,
          0.03408494795569411,
          0.03543995353594635,
          0.03479781189204094,
          0.041970540641742715,
          0.03379640589894193,
          0.03220509286796321,
          0.02902236677664332,
          0.028822565176987322,
          0.02888810642475126,
          0.028479051330421862,
          0.02822100349714623,
          0.02765748702063761,
          0.0273476545724291,
          0.026061424083697802,
          0.026094501457130066,
          0.026444449564458076,
          0.026466307207987455,
          0.02572076903786506,
          0.02572824772163075,
          0.026488077444111566,
          0.026445508340424726,
          0.026580474621645086,
          0.026528110470461556,
          0.02644920960574515,
          0.026588951977637193,
          0.026227598800603068,
          0.030232757719235434,
          0.02991373697398021,
          0.02995507861635499,
          0.029746184625168745,
          0.030041094534446124,
          0.03017390995483662,
          0.02965924986949121,
          0.026944163328168687,
          0.02899180393961483,
          0.028675172037243766,
          0.02790653432323038,
          0.03428469425876205,
          0.04482178237688622,
          0.045478694082988026,
          0.04520308091591988,
          0.04490872058287206,
          0.044394866192795264,
          0.04444566490560849,
          0.04363580874134849,
          0.04782976839502281,
          0.047622395132802066,
          0.043740335008226945,
          0.04310417084550419,
          0.0437740450245603,
          0.044071739223970965,
          0.04417057724018784,
          0.04852426703189971,
          0.051516436960760234,
          0.04682271765768228
         ],
         "yaxis": "y"
        }
       ],
       "layout": {
        "legend": {
         "title": {
          "text": "Chain"
         },
         "tracegroupgap": 0
        },
        "template": {
         "data": {
          "bar": [
           {
            "error_x": {
             "color": "#2a3f5f"
            },
            "error_y": {
             "color": "#2a3f5f"
            },
            "marker": {
             "line": {
              "color": "#E5ECF6",
              "width": 0.5
             },
             "pattern": {
              "fillmode": "overlay",
              "size": 10,
              "solidity": 0.2
             }
            },
            "type": "bar"
           }
          ],
          "barpolar": [
           {
            "marker": {
             "line": {
              "color": "#E5ECF6",
              "width": 0.5
             },
             "pattern": {
              "fillmode": "overlay",
              "size": 10,
              "solidity": 0.2
             }
            },
            "type": "barpolar"
           }
          ],
          "carpet": [
           {
            "aaxis": {
             "endlinecolor": "#2a3f5f",
             "gridcolor": "white",
             "linecolor": "white",
             "minorgridcolor": "white",
             "startlinecolor": "#2a3f5f"
            },
            "baxis": {
             "endlinecolor": "#2a3f5f",
             "gridcolor": "white",
             "linecolor": "white",
             "minorgridcolor": "white",
             "startlinecolor": "#2a3f5f"
            },
            "type": "carpet"
           }
          ],
          "choropleth": [
           {
            "colorbar": {
             "outlinewidth": 0,
             "ticks": ""
            },
            "type": "choropleth"
           }
          ],
          "contour": [
           {
            "colorbar": {
             "outlinewidth": 0,
             "ticks": ""
            },
            "colorscale": [
             [
              0,
              "#0d0887"
             ],
             [
              0.1111111111111111,
              "#46039f"
             ],
             [
              0.2222222222222222,
              "#7201a8"
             ],
             [
              0.3333333333333333,
              "#9c179e"
             ],
             [
              0.4444444444444444,
              "#bd3786"
             ],
             [
              0.5555555555555556,
              "#d8576b"
             ],
             [
              0.6666666666666666,
              "#ed7953"
             ],
             [
              0.7777777777777778,
              "#fb9f3a"
             ],
             [
              0.8888888888888888,
              "#fdca26"
             ],
             [
              1,
              "#f0f921"
             ]
            ],
            "type": "contour"
           }
          ],
          "contourcarpet": [
           {
            "colorbar": {
             "outlinewidth": 0,
             "ticks": ""
            },
            "type": "contourcarpet"
           }
          ],
          "heatmap": [
           {
            "colorbar": {
             "outlinewidth": 0,
             "ticks": ""
            },
            "colorscale": [
             [
              0,
              "#0d0887"
             ],
             [
              0.1111111111111111,
              "#46039f"
             ],
             [
              0.2222222222222222,
              "#7201a8"
             ],
             [
              0.3333333333333333,
              "#9c179e"
             ],
             [
              0.4444444444444444,
              "#bd3786"
             ],
             [
              0.5555555555555556,
              "#d8576b"
             ],
             [
              0.6666666666666666,
              "#ed7953"
             ],
             [
              0.7777777777777778,
              "#fb9f3a"
             ],
             [
              0.8888888888888888,
              "#fdca26"
             ],
             [
              1,
              "#f0f921"
             ]
            ],
            "type": "heatmap"
           }
          ],
          "heatmapgl": [
           {
            "colorbar": {
             "outlinewidth": 0,
             "ticks": ""
            },
            "colorscale": [
             [
              0,
              "#0d0887"
             ],
             [
              0.1111111111111111,
              "#46039f"
             ],
             [
              0.2222222222222222,
              "#7201a8"
             ],
             [
              0.3333333333333333,
              "#9c179e"
             ],
             [
              0.4444444444444444,
              "#bd3786"
             ],
             [
              0.5555555555555556,
              "#d8576b"
             ],
             [
              0.6666666666666666,
              "#ed7953"
             ],
             [
              0.7777777777777778,
              "#fb9f3a"
             ],
             [
              0.8888888888888888,
              "#fdca26"
             ],
             [
              1,
              "#f0f921"
             ]
            ],
            "type": "heatmapgl"
           }
          ],
          "histogram": [
           {
            "marker": {
             "pattern": {
              "fillmode": "overlay",
              "size": 10,
              "solidity": 0.2
             }
            },
            "type": "histogram"
           }
          ],
          "histogram2d": [
           {
            "colorbar": {
             "outlinewidth": 0,
             "ticks": ""
            },
            "colorscale": [
             [
              0,
              "#0d0887"
             ],
             [
              0.1111111111111111,
              "#46039f"
             ],
             [
              0.2222222222222222,
              "#7201a8"
             ],
             [
              0.3333333333333333,
              "#9c179e"
             ],
             [
              0.4444444444444444,
              "#bd3786"
             ],
             [
              0.5555555555555556,
              "#d8576b"
             ],
             [
              0.6666666666666666,
              "#ed7953"
             ],
             [
              0.7777777777777778,
              "#fb9f3a"
             ],
             [
              0.8888888888888888,
              "#fdca26"
             ],
             [
              1,
              "#f0f921"
             ]
            ],
            "type": "histogram2d"
           }
          ],
          "histogram2dcontour": [
           {
            "colorbar": {
             "outlinewidth": 0,
             "ticks": ""
            },
            "colorscale": [
             [
              0,
              "#0d0887"
             ],
             [
              0.1111111111111111,
              "#46039f"
             ],
             [
              0.2222222222222222,
              "#7201a8"
             ],
             [
              0.3333333333333333,
              "#9c179e"
             ],
             [
              0.4444444444444444,
              "#bd3786"
             ],
             [
              0.5555555555555556,
              "#d8576b"
             ],
             [
              0.6666666666666666,
              "#ed7953"
             ],
             [
              0.7777777777777778,
              "#fb9f3a"
             ],
             [
              0.8888888888888888,
              "#fdca26"
             ],
             [
              1,
              "#f0f921"
             ]
            ],
            "type": "histogram2dcontour"
           }
          ],
          "mesh3d": [
           {
            "colorbar": {
             "outlinewidth": 0,
             "ticks": ""
            },
            "type": "mesh3d"
           }
          ],
          "parcoords": [
           {
            "line": {
             "colorbar": {
              "outlinewidth": 0,
              "ticks": ""
             }
            },
            "type": "parcoords"
           }
          ],
          "pie": [
           {
            "automargin": true,
            "type": "pie"
           }
          ],
          "scatter": [
           {
            "fillpattern": {
             "fillmode": "overlay",
             "size": 10,
             "solidity": 0.2
            },
            "type": "scatter"
           }
          ],
          "scatter3d": [
           {
            "line": {
             "colorbar": {
              "outlinewidth": 0,
              "ticks": ""
             }
            },
            "marker": {
             "colorbar": {
              "outlinewidth": 0,
              "ticks": ""
             }
            },
            "type": "scatter3d"
           }
          ],
          "scattercarpet": [
           {
            "marker": {
             "colorbar": {
              "outlinewidth": 0,
              "ticks": ""
             }
            },
            "type": "scattercarpet"
           }
          ],
          "scattergeo": [
           {
            "marker": {
             "colorbar": {
              "outlinewidth": 0,
              "ticks": ""
             }
            },
            "type": "scattergeo"
           }
          ],
          "scattergl": [
           {
            "marker": {
             "colorbar": {
              "outlinewidth": 0,
              "ticks": ""
             }
            },
            "type": "scattergl"
           }
          ],
          "scattermapbox": [
           {
            "marker": {
             "colorbar": {
              "outlinewidth": 0,
              "ticks": ""
             }
            },
            "type": "scattermapbox"
           }
          ],
          "scatterpolar": [
           {
            "marker": {
             "colorbar": {
              "outlinewidth": 0,
              "ticks": ""
             }
            },
            "type": "scatterpolar"
           }
          ],
          "scatterpolargl": [
           {
            "marker": {
             "colorbar": {
              "outlinewidth": 0,
              "ticks": ""
             }
            },
            "type": "scatterpolargl"
           }
          ],
          "scatterternary": [
           {
            "marker": {
             "colorbar": {
              "outlinewidth": 0,
              "ticks": ""
             }
            },
            "type": "scatterternary"
           }
          ],
          "surface": [
           {
            "colorbar": {
             "outlinewidth": 0,
             "ticks": ""
            },
            "colorscale": [
             [
              0,
              "#0d0887"
             ],
             [
              0.1111111111111111,
              "#46039f"
             ],
             [
              0.2222222222222222,
              "#7201a8"
             ],
             [
              0.3333333333333333,
              "#9c179e"
             ],
             [
              0.4444444444444444,
              "#bd3786"
             ],
             [
              0.5555555555555556,
              "#d8576b"
             ],
             [
              0.6666666666666666,
              "#ed7953"
             ],
             [
              0.7777777777777778,
              "#fb9f3a"
             ],
             [
              0.8888888888888888,
              "#fdca26"
             ],
             [
              1,
              "#f0f921"
             ]
            ],
            "type": "surface"
           }
          ],
          "table": [
           {
            "cells": {
             "fill": {
              "color": "#EBF0F8"
             },
             "line": {
              "color": "white"
             }
            },
            "header": {
             "fill": {
              "color": "#C8D4E3"
             },
             "line": {
              "color": "white"
             }
            },
            "type": "table"
           }
          ]
         },
         "layout": {
          "annotationdefaults": {
           "arrowcolor": "#2a3f5f",
           "arrowhead": 0,
           "arrowwidth": 1
          },
          "autotypenumbers": "strict",
          "coloraxis": {
           "colorbar": {
            "outlinewidth": 0,
            "ticks": ""
           }
          },
          "colorscale": {
           "diverging": [
            [
             0,
             "#8e0152"
            ],
            [
             0.1,
             "#c51b7d"
            ],
            [
             0.2,
             "#de77ae"
            ],
            [
             0.3,
             "#f1b6da"
            ],
            [
             0.4,
             "#fde0ef"
            ],
            [
             0.5,
             "#f7f7f7"
            ],
            [
             0.6,
             "#e6f5d0"
            ],
            [
             0.7,
             "#b8e186"
            ],
            [
             0.8,
             "#7fbc41"
            ],
            [
             0.9,
             "#4d9221"
            ],
            [
             1,
             "#276419"
            ]
           ],
           "sequential": [
            [
             0,
             "#0d0887"
            ],
            [
             0.1111111111111111,
             "#46039f"
            ],
            [
             0.2222222222222222,
             "#7201a8"
            ],
            [
             0.3333333333333333,
             "#9c179e"
            ],
            [
             0.4444444444444444,
             "#bd3786"
            ],
            [
             0.5555555555555556,
             "#d8576b"
            ],
            [
             0.6666666666666666,
             "#ed7953"
            ],
            [
             0.7777777777777778,
             "#fb9f3a"
            ],
            [
             0.8888888888888888,
             "#fdca26"
            ],
            [
             1,
             "#f0f921"
            ]
           ],
           "sequentialminus": [
            [
             0,
             "#0d0887"
            ],
            [
             0.1111111111111111,
             "#46039f"
            ],
            [
             0.2222222222222222,
             "#7201a8"
            ],
            [
             0.3333333333333333,
             "#9c179e"
            ],
            [
             0.4444444444444444,
             "#bd3786"
            ],
            [
             0.5555555555555556,
             "#d8576b"
            ],
            [
             0.6666666666666666,
             "#ed7953"
            ],
            [
             0.7777777777777778,
             "#fb9f3a"
            ],
            [
             0.8888888888888888,
             "#fdca26"
            ],
            [
             1,
             "#f0f921"
            ]
           ]
          },
          "colorway": [
           "#636efa",
           "#EF553B",
           "#00cc96",
           "#ab63fa",
           "#FFA15A",
           "#19d3f3",
           "#FF6692",
           "#B6E880",
           "#FF97FF",
           "#FECB52"
          ],
          "font": {
           "color": "#2a3f5f"
          },
          "geo": {
           "bgcolor": "white",
           "lakecolor": "white",
           "landcolor": "#E5ECF6",
           "showlakes": true,
           "showland": true,
           "subunitcolor": "white"
          },
          "hoverlabel": {
           "align": "left"
          },
          "hovermode": "closest",
          "mapbox": {
           "style": "light"
          },
          "paper_bgcolor": "white",
          "plot_bgcolor": "#E5ECF6",
          "polar": {
           "angularaxis": {
            "gridcolor": "white",
            "linecolor": "white",
            "ticks": ""
           },
           "bgcolor": "#E5ECF6",
           "radialaxis": {
            "gridcolor": "white",
            "linecolor": "white",
            "ticks": ""
           }
          },
          "scene": {
           "xaxis": {
            "backgroundcolor": "#E5ECF6",
            "gridcolor": "white",
            "gridwidth": 2,
            "linecolor": "white",
            "showbackground": true,
            "ticks": "",
            "zerolinecolor": "white"
           },
           "yaxis": {
            "backgroundcolor": "#E5ECF6",
            "gridcolor": "white",
            "gridwidth": 2,
            "linecolor": "white",
            "showbackground": true,
            "ticks": "",
            "zerolinecolor": "white"
           },
           "zaxis": {
            "backgroundcolor": "#E5ECF6",
            "gridcolor": "white",
            "gridwidth": 2,
            "linecolor": "white",
            "showbackground": true,
            "ticks": "",
            "zerolinecolor": "white"
           }
          },
          "shapedefaults": {
           "line": {
            "color": "#2a3f5f"
           }
          },
          "ternary": {
           "aaxis": {
            "gridcolor": "white",
            "linecolor": "white",
            "ticks": ""
           },
           "baxis": {
            "gridcolor": "white",
            "linecolor": "white",
            "ticks": ""
           },
           "bgcolor": "#E5ECF6",
           "caxis": {
            "gridcolor": "white",
            "linecolor": "white",
            "ticks": ""
           }
          },
          "title": {
           "x": 0.05
          },
          "xaxis": {
           "automargin": true,
           "gridcolor": "white",
           "linecolor": "white",
           "ticks": "",
           "title": {
            "standoff": 15
           },
           "zerolinecolor": "white",
           "zerolinewidth": 2
          },
          "yaxis": {
           "automargin": true,
           "gridcolor": "white",
           "linecolor": "white",
           "ticks": "",
           "title": {
            "standoff": 15
           },
           "zerolinecolor": "white",
           "zerolinewidth": 2
          }
         }
        },
        "title": {
         "text": "arrakis-finance : Share of Uniswap V3 TVL by Chain"
        },
        "xaxis": {
         "anchor": "y",
         "domain": [
          0,
          1
         ],
         "title": {
          "text": "Day"
         }
        },
        "yaxis": {
         "anchor": "x",
         "domain": [
          0,
          1
         ],
         "tickformat": ",.1%",
         "title": {
          "text": "% Share of Uniswap TVL"
         }
        }
       }
      }
     },
     "metadata": {},
     "output_type": "display_data"
    }
   ],
   "source": [
    "protos = merge_df['protocol_x'].drop_duplicates()\n",
    "for p in protos:\n",
    "        plot_df = merge_df[merge_df['protocol_x'] == p]\n",
    "        fig = px.line(plot_df, x=\"date\", y=\"share_of_uni_tvl\", color=\"chain\", \\\n",
    "                title= p + \" : Share of Uniswap V3 TVL by Chain\",\\\n",
    "                labels={\n",
    "                        \"date\": \"Day\",\n",
    "                        \"share_of_uni_tvl\": \"% Share of Uniswap TVL\"\n",
    "                        }\n",
    "                ,color_discrete_map=chain_color_map\n",
    "                )\n",
    "        fig.update_layout(\n",
    "        legend_title=\"Chain\"\n",
    "        ,yaxis = dict(tickformat = ',.1%')\n",
    "        )\n",
    "        fig.show()"
   ]
  },
  {
   "cell_type": "code",
   "execution_count": null,
   "id": "fb142e82",
   "metadata": {},
   "outputs": [],
   "source": [
    "netdf_df[(netdf_df['protocol'] == 'pooltogether') & (netdf_df['date'] >= '2022-10-06') & (netdf_df['date'] <= '2022-10-12')].tail(10)"
   ]
  },
  {
   "cell_type": "code",
   "execution_count": null,
   "id": "546e13b8",
   "metadata": {},
   "outputs": [],
   "source": [
    "fig = px.line(netdf_df, x=\"date\", y=\"net_dollar_flow\", color=\"protocol\", \\\n",
    "             title=\"Daily Net Dollar Flow since Program Announcement\",\\\n",
    "            labels={\n",
    "                     \"date\": \"Day\",\n",
    "                     \"net_dollar_flow\": \"Net Dollar Flow (N$F)\"\n",
    "                 }\n",
    "            )\n",
    "fig.update_layout(\n",
    "    legend_title=\"App Name\"\n",
    ")\n",
    "fig.update_layout(yaxis_tickprefix = '$')\n",
    "fig.write_image(prepend + \"img_outputs/svg/daily_ndf.svg\")\n",
    "fig.write_image(prepend + \"img_outputs/png/daily_ndf.png\")\n",
    "fig.write_html(prepend + \"img_outputs/daily_ndf.html\", include_plotlyjs='cdn')\n",
    "\n",
    "# cumul_fig = px.area(netdf_df, x=\"date\", y=\"cumul_net_dollar_flow\", color=\"protocol\", \\\n",
    "#              title=\"Cumulative Dollar Flow since Program Announcement\",\\\n",
    "#                    labels={\n",
    "#                      \"date\": \"Day\",\n",
    "#                      \"cumul_net_dollar_flow\": \"Cumulative Net Dollar Flow (N$F)\"\n",
    "#                  }\n",
    "#             ,areamode='group')\n",
    "# cumul_fig.update_layout(yaxis_tickprefix = '$')\n",
    "# cumul_fig.show()\n",
    "\n",
    "\n",
    "cumul_fig = go.Figure()\n",
    "proto_names = netdf_df['protocol'].drop_duplicates()\n",
    "print(proto_names)\n",
    "for p in proto_names:\n",
    "    cumul_fig.add_trace(go.Scatter(x=netdf_df[netdf_df['protocol'] == p]['date'] \\\n",
    "                                   , y=netdf_df[netdf_df['protocol'] == p]['cumul_net_dollar_flow'] \\\n",
    "                                    ,name = p\\\n",
    "                                  ,fill='tozeroy')) # fill down to xaxis\n",
    "\n",
    "cumul_fig.update_layout(yaxis_tickprefix = '$')\n",
    "cumul_fig.update_layout(\n",
    "    title=\"Cumulative Net Dollar Flow since Program Announcement\",\n",
    "    xaxis_title=\"Day\",\n",
    "    yaxis_title=\"Cumulative Net Dollar Flow (N$F)\",\n",
    "    legend_title=\"App Name\",\n",
    "#     color_discrete_map=px.colors.qualitative.G10\n",
    ")\n",
    "cumul_fig.write_image(prepend + \"img_outputs/svg/cumul_ndf.svg\") #prepend + \n",
    "cumul_fig.write_image(prepend + \"img_outputs/png/cumul_ndf.png\") #prepend + \n",
    "cumul_fig.write_html(prepend + \"img_outputs/cumul_ndf.html\", include_plotlyjs='cdn')\n",
    "# cumul_fig.show()\n"
   ]
  },
  {
   "cell_type": "code",
   "execution_count": null,
   "id": "bc60f2fa",
   "metadata": {},
   "outputs": [],
   "source": [
    "# fig.show()\n",
    "# cumul_fig.show()\n",
    "print(\"yay\")"
   ]
  },
  {
   "cell_type": "code",
   "execution_count": 50,
   "id": "def0cbf6",
   "metadata": {},
   "outputs": [
    {
     "name": "stdout",
     "output_type": "stream",
     "text": [
      "[NbConvertApp] Converting notebook optimism_app_net_flows.ipynb to python\n",
      "[NbConvertApp] Writing 6862 bytes to optimism_app_net_flows.py\n"
     ]
    }
   ],
   "source": [
    "# ! jupyter nbconvert --to python optimism_app_net_flows.ipynb"
   ]
  }
 ],
 "metadata": {
  "kernelspec": {
   "display_name": "Python 3 (ipykernel)",
   "language": "python",
   "name": "python3"
  },
  "language_info": {
   "codemirror_mode": {
    "name": "ipython",
    "version": 3
   },
   "file_extension": ".py",
   "mimetype": "text/x-python",
   "name": "python",
   "nbconvert_exporter": "python",
   "pygments_lexer": "ipython3",
   "version": "3.9.13"
  },
  "vscode": {
   "interpreter": {
    "hash": "17c021eea7371cec353b12daa8dd7517ddfe82cfa4c2626e1e7d1541ccab7c49"
   }
  }
 },
 "nbformat": 4,
 "nbformat_minor": 5
}
