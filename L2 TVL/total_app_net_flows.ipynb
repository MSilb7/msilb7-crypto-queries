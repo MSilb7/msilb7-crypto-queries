{
 "cells": [
  {
   "cell_type": "code",
   "execution_count": null,
   "id": "54d20a3b",
   "metadata": {},
   "outputs": [],
   "source": []
  },
  {
   "cell_type": "code",
   "execution_count": 1,
   "id": "ffefb42a",
   "metadata": {},
   "outputs": [],
   "source": [
    "import pandas as pd\n",
    "import requests as r\n",
    "import plotly.express as px\n",
    "import plotly.graph_objects as go\n",
    "from datetime import datetime, timedelta, date\n",
    "import numpy as np\n",
    "import time\n",
    "import os\n",
    "header = {'User-Agent': 'Mozilla/5.0 (Windows NT 10.0; Win64; x64; rv:71.0) Gecko/20100101 Firefox/71.0'}"
   ]
  },
  {
   "cell_type": "code",
   "execution_count": 2,
   "id": "539f29a0",
   "metadata": {},
   "outputs": [],
   "source": [
    "#https://stackoverflow.com/questions/23267409/how-to-implement-retry-mechanism-into-python-requests-library\n",
    "\n",
    "import logging\n",
    "import requests\n",
    "\n",
    "from requests.adapters import HTTPAdapter, Retry\n",
    "\n",
    "logging.basicConfig(level=logging.DEBUG)\n",
    "\n",
    "s = requests.Session()\n",
    "retries = Retry(total=5, backoff_factor=1, status_forcelist=[ 502, 503, 504 ])\n",
    "s.mount('http://', HTTPAdapter(max_retries=retries))\n",
    "\n",
    "pwd = os.getcwd()\n",
    "if 'L2 TVL' in pwd:\n",
    "    prepend = ''\n",
    "else:\n",
    "    prepend = 'L2 TVL/'"
   ]
  },
  {
   "cell_type": "code",
   "execution_count": 22,
   "id": "bbc56e12",
   "metadata": {},
   "outputs": [],
   "source": [
    "trailing_num_days = 7\n",
    "\n",
    "start_date = date.today()-timedelta(days=trailing_num_days +1)\n",
    "\n",
    "start_date = datetime.strptime('2022-07-13', '%Y-%m-%d').date()\n",
    "\n"
   ]
  },
  {
   "cell_type": "code",
   "execution_count": 4,
   "id": "d984f9ab",
   "metadata": {},
   "outputs": [
    {
     "name": "stderr",
     "output_type": "stream",
     "text": [
      "DEBUG:urllib3.connectionpool:Starting new HTTPS connection (1): api.llama.fi:443\n",
      "DEBUG:urllib3.connectionpool:https://api.llama.fi:443 \"GET /protocols HTTP/1.1\" 200 1594127\n"
     ]
    },
    {
     "name": "stdout",
     "output_type": "stream",
     "text": [
      "355\n"
     ]
    }
   ],
   "source": [
    "#get all apps > 10 m tvl\n",
    "all_api = 'https://api.llama.fi/protocols'\n",
    "res = pd.DataFrame( r.get(all_api, headers=header).json() )\n",
    "res = res[res['tvl'] > 10_000_000] ##greater than 10mil\n",
    "print(len(res))\n",
    "# print(res.columns)\n"
   ]
  },
  {
   "cell_type": "code",
   "execution_count": 5,
   "id": "beebc582",
   "metadata": {},
   "outputs": [
    {
     "name": "stderr",
     "output_type": "stream",
     "text": [
      "/var/folders/by/kltjc8yd0yz_7_wrtrzhrm9m0000gn/T/ipykernel_81514/1800157470.py:4: SettingWithCopyWarning: \n",
      "A value is trying to be set on a copy of a slice from a DataFrame.\n",
      "Try using .loc[row_indexer,col_indexer] = value instead\n",
      "\n",
      "See the caveats in the documentation: https://pandas.pydata.org/pandas-docs/stable/user_guide/indexing.html#returning-a-view-versus-a-copy\n",
      "  protocols['chainTvls'] = protocols['chainTvls'].apply(lambda x: list(x.keys()) )\n"
     ]
    },
    {
     "data": {
      "text/html": [
       "<div>\n",
       "<style scoped>\n",
       "    .dataframe tbody tr th:only-of-type {\n",
       "        vertical-align: middle;\n",
       "    }\n",
       "\n",
       "    .dataframe tbody tr th {\n",
       "        vertical-align: top;\n",
       "    }\n",
       "\n",
       "    .dataframe thead th {\n",
       "        text-align: right;\n",
       "    }\n",
       "</style>\n",
       "<table border=\"1\" class=\"dataframe\">\n",
       "  <thead>\n",
       "    <tr style=\"text-align: right;\">\n",
       "      <th></th>\n",
       "      <th>slug</th>\n",
       "      <th>chainTvls</th>\n",
       "    </tr>\n",
       "  </thead>\n",
       "  <tbody>\n",
       "    <tr>\n",
       "      <th>0</th>\n",
       "      <td>makerdao</td>\n",
       "      <td>[Ethereum]</td>\n",
       "    </tr>\n",
       "    <tr>\n",
       "      <th>1</th>\n",
       "      <td>polygon-bridge-&amp;-staking</td>\n",
       "      <td>[Polygon]</td>\n",
       "    </tr>\n",
       "    <tr>\n",
       "      <th>2</th>\n",
       "      <td>lido</td>\n",
       "      <td>[Ethereum, Moonriver, Solana, Terra, Moonbeam]</td>\n",
       "    </tr>\n",
       "    <tr>\n",
       "      <th>3</th>\n",
       "      <td>uniswap</td>\n",
       "      <td>[Optimism, Ethereum, Polygon, Celo, Arbitrum]</td>\n",
       "    </tr>\n",
       "    <tr>\n",
       "      <th>4</th>\n",
       "      <td>curve</td>\n",
       "      <td>[Optimism, Harmony, Moonbeam, Ethereum, Aurora...</td>\n",
       "    </tr>\n",
       "    <tr>\n",
       "      <th>...</th>\n",
       "      <td>...</td>\n",
       "      <td>...</td>\n",
       "    </tr>\n",
       "    <tr>\n",
       "      <th>350</th>\n",
       "      <td>sashimiswap</td>\n",
       "      <td>[Binance-borrowed, Binance, Ethereum, Heco, Et...</td>\n",
       "    </tr>\n",
       "    <tr>\n",
       "      <th>351</th>\n",
       "      <td>idex</td>\n",
       "      <td>[Ethereum, Polygon]</td>\n",
       "    </tr>\n",
       "    <tr>\n",
       "      <th>352</th>\n",
       "      <td>guard(helmet)</td>\n",
       "      <td>[Binance, Polygon]</td>\n",
       "    </tr>\n",
       "    <tr>\n",
       "      <th>353</th>\n",
       "      <td>aavegotchi</td>\n",
       "      <td>[pool2, Polygon-pool2, Ethereum, Polygon, Poly...</td>\n",
       "    </tr>\n",
       "    <tr>\n",
       "      <th>354</th>\n",
       "      <td>truefi</td>\n",
       "      <td>[Ethereum, Ethereum-staking, Ethereum-borrowed...</td>\n",
       "    </tr>\n",
       "  </tbody>\n",
       "</table>\n",
       "<p>355 rows × 2 columns</p>\n",
       "</div>"
      ],
      "text/plain": [
       "                         slug  \\\n",
       "0                    makerdao   \n",
       "1    polygon-bridge-&-staking   \n",
       "2                        lido   \n",
       "3                     uniswap   \n",
       "4                       curve   \n",
       "..                        ...   \n",
       "350               sashimiswap   \n",
       "351                      idex   \n",
       "352             guard(helmet)   \n",
       "353                aavegotchi   \n",
       "354                    truefi   \n",
       "\n",
       "                                             chainTvls  \n",
       "0                                           [Ethereum]  \n",
       "1                                            [Polygon]  \n",
       "2       [Ethereum, Moonriver, Solana, Terra, Moonbeam]  \n",
       "3        [Optimism, Ethereum, Polygon, Celo, Arbitrum]  \n",
       "4    [Optimism, Harmony, Moonbeam, Ethereum, Aurora...  \n",
       "..                                                 ...  \n",
       "350  [Binance-borrowed, Binance, Ethereum, Heco, Et...  \n",
       "351                                [Ethereum, Polygon]  \n",
       "352                                 [Binance, Polygon]  \n",
       "353  [pool2, Polygon-pool2, Ethereum, Polygon, Poly...  \n",
       "354  [Ethereum, Ethereum-staking, Ethereum-borrowed...  \n",
       "\n",
       "[355 rows x 2 columns]"
      ]
     },
     "execution_count": 5,
     "metadata": {},
     "output_type": "execute_result"
    }
   ],
   "source": [
    "\n",
    "protocols = res[['slug','chainTvls']]\n",
    "re = res['chainTvls']\n",
    "# r[1].keys()\n",
    "protocols['chainTvls'] = protocols['chainTvls'].apply(lambda x: list(x.keys()) )\n",
    "protocols"
   ]
  },
  {
   "cell_type": "code",
   "execution_count": 6,
   "id": "c84c9ef1",
   "metadata": {},
   "outputs": [],
   "source": [
    "# protocols = protocols[ protocols['slug'] == 'uniswap-v3' ]\n",
    "# api_str = 'https://api.llama.fi/protocol/'\n",
    "# ad = pd.DataFrame( r.get(api_str).json()['chainTvls'] ).T[['tokens']]\n",
    "# ad"
   ]
  },
  {
   "cell_type": "code",
   "execution_count": 7,
   "id": "9717e4df",
   "metadata": {},
   "outputs": [],
   "source": [
    "# api_str = 'https://api.llama.fi/protocol/uniswap'\n",
    "# prot_req = r.get(api_str, headers=header).json()['chainTvls']\n",
    "# # prot_req['Ethereum']\n",
    "# prot_req"
   ]
  },
  {
   "cell_type": "code",
   "execution_count": 8,
   "id": "d3399236",
   "metadata": {},
   "outputs": [
    {
     "name": "stderr",
     "output_type": "stream",
     "text": [
      "DEBUG:urllib3.connectionpool:Starting new HTTPS connection (1): api.llama.fi:443\n",
      "DEBUG:urllib3.connectionpool:https://api.llama.fi:443 \"GET /protocol/makerdao HTTP/1.1\" 200 1006048\n",
      "DEBUG:urllib3.connectionpool:https://api.llama.fi:443 \"GET /protocol/polygon-bridge-&-staking HTTP/1.1\" 307 0\n",
      "DEBUG:urllib3.connectionpool:Starting new HTTPS connection (1): defillama-datasets.s3.eu-central-1.amazonaws.com:443\n",
      "DEBUG:urllib3.connectionpool:https://defillama-datasets.s3.eu-central-1.amazonaws.com:443 \"GET /temp/protocol-Polygon%20Bridge%20&%20Staking.json HTTP/1.1\" 200 14129465\n",
      "DEBUG:urllib3.connectionpool:https://api.llama.fi:443 \"GET /protocol/lido HTTP/1.1\" 200 444624\n",
      "DEBUG:urllib3.connectionpool:https://api.llama.fi:443 \"GET /protocol/uniswap HTTP/1.1\" 307 0\n",
      "DEBUG:urllib3.connectionpool:https://defillama-datasets.s3.eu-central-1.amazonaws.com:443 \"GET /temp/protocol-Uniswap.json HTTP/1.1\" 200 13728129\n",
      "DEBUG:urllib3.connectionpool:https://api.llama.fi:443 \"GET /protocol/curve HTTP/1.1\" 200 1488388\n",
      "DEBUG:urllib3.connectionpool:https://api.llama.fi:443 \"GET /protocol/wbtc HTTP/1.1\" 200 89459\n",
      "DEBUG:urllib3.connectionpool:https://api.llama.fi:443 \"GET /protocol/aave-v2 HTTP/1.1\" 200 4500552\n",
      "DEBUG:urllib3.connectionpool:https://api.llama.fi:443 \"GET /protocol/convex-finance HTTP/1.1\" 200 1724342\n",
      "DEBUG:urllib3.connectionpool:https://api.llama.fi:443 \"GET /protocol/justlend HTTP/1.1\" 200 155229\n",
      "DEBUG:urllib3.connectionpool:https://api.llama.fi:443 \"GET /protocol/pancakeswap HTTP/1.1\" 200 316826\n",
      "DEBUG:urllib3.connectionpool:https://api.llama.fi:443 \"GET /protocol/compound HTTP/1.1\" 200 2292018\n",
      "DEBUG:urllib3.connectionpool:https://api.llama.fi:443 \"GET /protocol/instadapp HTTP/1.1\" 200 96730\n",
      "DEBUG:urllib3.connectionpool:https://api.llama.fi:443 \"GET /protocol/multichain HTTP/1.1\" 200 327974\n",
      "DEBUG:urllib3.connectionpool:https://api.llama.fi:443 \"GET /protocol/arrakis-finance HTTP/1.1\" 200 1098506\n",
      "DEBUG:urllib3.connectionpool:https://api.llama.fi:443 \"GET /protocol/aave-v3 HTTP/1.1\" 200 1102988\n",
      "DEBUG:urllib3.connectionpool:https://api.llama.fi:443 \"GET /protocol/balancer HTTP/1.1\" 200 409026\n",
      "DEBUG:urllib3.connectionpool:https://api.llama.fi:443 \"GET /protocol/justcryptos HTTP/1.1\" 502 36\n",
      "DEBUG:urllib3.connectionpool:https://api.llama.fi:443 \"GET /protocol/juststables HTTP/1.1\" 200 274175\n",
      "DEBUG:urllib3.connectionpool:https://api.llama.fi:443 \"GET /protocol/frax HTTP/1.1\" 200 839237\n"
     ]
    },
    {
     "name": "stdout",
     "output_type": "stream",
     "text": [
      "err\n"
     ]
    },
    {
     "name": "stderr",
     "output_type": "stream",
     "text": [
      "DEBUG:urllib3.connectionpool:https://api.llama.fi:443 \"GET /protocol/hbtc HTTP/1.1\" 200 87867\n",
      "DEBUG:urllib3.connectionpool:https://api.llama.fi:443 \"GET /protocol/sunswap HTTP/1.1\" 200 238817\n",
      "DEBUG:urllib3.connectionpool:https://api.llama.fi:443 \"GET /protocol/sushiswap HTTP/1.1\" 307 0\n",
      "DEBUG:urllib3.connectionpool:Resetting dropped connection: defillama-datasets.s3.eu-central-1.amazonaws.com\n",
      "DEBUG:urllib3.connectionpool:https://defillama-datasets.s3.eu-central-1.amazonaws.com:443 \"GET /temp/protocol-SushiSwap.json HTTP/1.1\" 200 80073419\n",
      "DEBUG:urllib3.connectionpool:https://api.llama.fi:443 \"GET /protocol/venus HTTP/1.1\" 200 2358694\n",
      "DEBUG:urllib3.connectionpool:https://api.llama.fi:443 \"GET /protocol/vvs-finance HTTP/1.1\" 200 104218\n",
      "DEBUG:urllib3.connectionpool:https://api.llama.fi:443 \"GET /protocol/synthetix HTTP/1.1\" 200 367416\n",
      "DEBUG:urllib3.connectionpool:https://api.llama.fi:443 \"GET /protocol/yearn-finance HTTP/1.1\" 200 317587\n",
      "DEBUG:urllib3.connectionpool:https://api.llama.fi:443 \"GET /protocol/liquity HTTP/1.1\" 200 160452\n",
      "DEBUG:urllib3.connectionpool:https://api.llama.fi:443 \"GET /protocol/keep3r-network HTTP/1.1\" 200 322549\n",
      "DEBUG:urllib3.connectionpool:https://api.llama.fi:443 \"GET /protocol/iron-bank HTTP/1.1\" 200 898958\n",
      "DEBUG:urllib3.connectionpool:https://api.llama.fi:443 \"GET /protocol/rocket-pool HTTP/1.1\" 200 114271\n",
      "DEBUG:urllib3.connectionpool:https://api.llama.fi:443 \"GET /protocol/alpaca-finance HTTP/1.1\" 200 1302795\n",
      "DEBUG:urllib3.connectionpool:https://api.llama.fi:443 \"GET /protocol/portal HTTP/1.1\" 200 87723\n",
      "DEBUG:urllib3.connectionpool:https://api.llama.fi:443 \"GET /protocol/dydx HTTP/1.1\" 200 202234\n",
      "DEBUG:urllib3.connectionpool:https://api.llama.fi:443 \"GET /protocol/sun.io HTTP/1.1\" 200 501444\n",
      "DEBUG:urllib3.connectionpool:https://api.llama.fi:443 \"GET /protocol/stargate HTTP/1.1\" 200 238463\n",
      "DEBUG:urllib3.connectionpool:https://api.llama.fi:443 \"GET /protocol/abracadabra HTTP/1.1\" 200 196845\n",
      "DEBUG:urllib3.connectionpool:https://api.llama.fi:443 \"GET /protocol/tornado-cash HTTP/1.1\" 200 438034\n",
      "DEBUG:urllib3.connectionpool:https://api.llama.fi:443 \"GET /protocol/defichain-dex HTTP/1.1\" 200 24886\n",
      "DEBUG:urllib3.connectionpool:https://api.llama.fi:443 \"GET /protocol/quickswap HTTP/1.1\" 307 0\n",
      "DEBUG:urllib3.connectionpool:Resetting dropped connection: defillama-datasets.s3.eu-central-1.amazonaws.com\n",
      "DEBUG:urllib3.connectionpool:https://defillama-datasets.s3.eu-central-1.amazonaws.com:443 \"GET /temp/protocol-Quickswap.json HTTP/1.1\" 200 9081486\n",
      "DEBUG:urllib3.connectionpool:https://api.llama.fi:443 \"GET /protocol/poly-network HTTP/1.1\" 200 84565\n",
      "DEBUG:urllib3.connectionpool:https://api.llama.fi:443 \"GET /protocol/sushiswap-kashi HTTP/1.1\" 200 3220718\n",
      "DEBUG:urllib3.connectionpool:https://api.llama.fi:443 \"GET /protocol/gmx HTTP/1.1\" 200 530411\n",
      "DEBUG:urllib3.connectionpool:https://api.llama.fi:443 \"GET /protocol/marinade-finance HTTP/1.1\" 200 117544\n",
      "DEBUG:urllib3.connectionpool:https://api.llama.fi:443 \"GET /protocol/beefy HTTP/1.1\" 200 1059574\n",
      "DEBUG:urllib3.connectionpool:https://api.llama.fi:443 \"GET /protocol/biswap HTTP/1.1\" 307 0\n",
      "DEBUG:urllib3.connectionpool:https://defillama-datasets.s3.eu-central-1.amazonaws.com:443 \"GET /temp/protocol-BiSwap.json HTTP/1.1\" 200 6183956\n",
      "DEBUG:urllib3.connectionpool:https://api.llama.fi:443 \"GET /protocol/olympus-dao HTTP/1.1\" 200 352524\n",
      "DEBUG:urllib3.connectionpool:https://api.llama.fi:443 \"GET /protocol/pando HTTP/1.1\" 502 36\n",
      "DEBUG:urllib3.connectionpool:https://api.llama.fi:443 \"GET /protocol/aura HTTP/1.1\" 200 10970\n",
      "DEBUG:urllib3.connectionpool:https://api.llama.fi:443 \"GET /protocol/unicrypt HTTP/1.1\" 200 303820\n"
     ]
    },
    {
     "name": "stdout",
     "output_type": "stream",
     "text": [
      "err\n"
     ]
    },
    {
     "name": "stderr",
     "output_type": "stream",
     "text": [
      "DEBUG:urllib3.connectionpool:https://api.llama.fi:443 \"GET /protocol/solend HTTP/1.1\" 200 1439307\n",
      "DEBUG:urllib3.connectionpool:https://api.llama.fi:443 \"GET /protocol/benqi-lending HTTP/1.1\" 200 794895\n",
      "DEBUG:urllib3.connectionpool:https://api.llama.fi:443 \"GET /protocol/armor HTTP/1.1\" 200 472493\n",
      "DEBUG:urllib3.connectionpool:https://api.llama.fi:443 \"GET /protocol/parallel-liquid-crowdloan HTTP/1.1\" 502 36\n",
      "DEBUG:urllib3.connectionpool:https://api.llama.fi:443 \"GET /protocol/tectonic HTTP/1.1\" 200 327236\n",
      "DEBUG:urllib3.connectionpool:https://api.llama.fi:443 \"GET /protocol/nexus-mutual HTTP/1.1\" 200 396498\n"
     ]
    },
    {
     "name": "stdout",
     "output_type": "stream",
     "text": [
      "err\n"
     ]
    },
    {
     "name": "stderr",
     "output_type": "stream",
     "text": [
      "DEBUG:urllib3.connectionpool:https://api.llama.fi:443 \"GET /protocol/xdai-stake-bridge HTTP/1.1\" 307 0\n",
      "DEBUG:urllib3.connectionpool:https://defillama-datasets.s3.eu-central-1.amazonaws.com:443 \"GET /temp/protocol-xDAI%20Stake%20Bridge.json HTTP/1.1\" 200 8610658\n",
      "DEBUG:urllib3.connectionpool:https://api.llama.fi:443 \"GET /protocol/ref-finance HTTP/1.1\" 200 110653\n",
      "DEBUG:urllib3.connectionpool:https://api.llama.fi:443 \"GET /protocol/serum HTTP/1.1\" 200 54413\n",
      "DEBUG:urllib3.connectionpool:https://api.llama.fi:443 \"GET /protocol/pinksale HTTP/1.1\" 200 118059\n",
      "DEBUG:urllib3.connectionpool:https://api.llama.fi:443 \"GET /protocol/synapse HTTP/1.1\" 200 1591462\n",
      "DEBUG:urllib3.connectionpool:https://api.llama.fi:443 \"GET /protocol/trader-joe HTTP/1.1\" 200 2901160\n",
      "DEBUG:urllib3.connectionpool:https://api.llama.fi:443 \"GET /protocol/raydium HTTP/1.1\" 200 57490\n",
      "DEBUG:urllib3.connectionpool:https://api.llama.fi:443 \"GET /protocol/acala-lcdot HTTP/1.1\" 200 13398\n",
      "DEBUG:urllib3.connectionpool:https://api.llama.fi:443 \"GET /protocol/coinwind HTTP/1.1\" 200 2286299\n",
      "DEBUG:urllib3.connectionpool:https://api.llama.fi:443 \"GET /protocol/cbridge HTTP/1.1\" 200 2488500\n",
      "DEBUG:urllib3.connectionpool:https://api.llama.fi:443 \"GET /protocol/euler HTTP/1.1\" 200 751682\n",
      "DEBUG:urllib3.connectionpool:https://api.llama.fi:443 \"GET /protocol/klayswap HTTP/1.1\" 200 170263\n",
      "DEBUG:urllib3.connectionpool:https://api.llama.fi:443 \"GET /protocol/osmosis HTTP/1.1\" 200 97885\n",
      "DEBUG:urllib3.connectionpool:https://api.llama.fi:443 \"GET /protocol/bwatch HTTP/1.1\" 502 36\n",
      "DEBUG:urllib3.connectionpool:https://api.llama.fi:443 \"GET /protocol/stacks-staking HTTP/1.1\" 200 163861\n",
      "DEBUG:urllib3.connectionpool:https://api.llama.fi:443 \"GET /protocol/loopring HTTP/1.1\" 200 361117\n"
     ]
    },
    {
     "name": "stdout",
     "output_type": "stream",
     "text": [
      "err\n"
     ]
    },
    {
     "name": "stderr",
     "output_type": "stream",
     "text": [
      "DEBUG:urllib3.connectionpool:https://api.llama.fi:443 \"GET /protocol/atrix HTTP/1.1\" 200 34258\n",
      "DEBUG:urllib3.connectionpool:https://api.llama.fi:443 \"GET /protocol/flexa HTTP/1.1\" 200 85985\n",
      "DEBUG:urllib3.connectionpool:https://api.llama.fi:443 \"GET /protocol/platypus-finance HTTP/1.1\" 200 384771\n",
      "DEBUG:urllib3.connectionpool:https://api.llama.fi:443 \"GET /protocol/team-finance HTTP/1.1\" 200 324792\n",
      "DEBUG:urllib3.connectionpool:https://api.llama.fi:443 \"GET /protocol/vires-finance HTTP/1.1\" 200 175769\n",
      "DEBUG:urllib3.connectionpool:https://api.llama.fi:443 \"GET /protocol/bancor HTTP/1.1\" 200 4280403\n",
      "DEBUG:urllib3.connectionpool:https://api.llama.fi:443 \"GET /protocol/maiar-exchange HTTP/1.1\" 200 178228\n",
      "DEBUG:urllib3.connectionpool:https://api.llama.fi:443 \"GET /protocol/thorchain HTTP/1.1\" 200 139319\n",
      "DEBUG:urllib3.connectionpool:https://api.llama.fi:443 \"GET /protocol/renvm HTTP/1.1\" 200 1128596\n",
      "DEBUG:urllib3.connectionpool:https://api.llama.fi:443 \"GET /protocol/mdex HTTP/1.1\" 200 186957\n",
      "DEBUG:urllib3.connectionpool:https://api.llama.fi:443 \"GET /protocol/kava-mint HTTP/1.1\" 200 201308\n",
      "DEBUG:urllib3.connectionpool:https://api.llama.fi:443 \"GET /protocol/tulip-protocol HTTP/1.1\" 502 36\n"
     ]
    },
    {
     "name": "stdout",
     "output_type": "stream",
     "text": [
      "err\n"
     ]
    },
    {
     "name": "stderr",
     "output_type": "stream",
     "text": [
      "DEBUG:urllib3.connectionpool:https://api.llama.fi:443 \"GET /protocol/spookyswap HTTP/1.1\" 307 0\n",
      "DEBUG:urllib3.connectionpool:Resetting dropped connection: defillama-datasets.s3.eu-central-1.amazonaws.com\n",
      "DEBUG:urllib3.connectionpool:https://defillama-datasets.s3.eu-central-1.amazonaws.com:443 \"GET /temp/protocol-SpookySwap.json HTTP/1.1\" 200 9521117\n",
      "DEBUG:urllib3.connectionpool:https://api.llama.fi:443 \"GET /protocol/chainge-finance HTTP/1.1\" 200 30610\n",
      "DEBUG:urllib3.connectionpool:https://api.llama.fi:443 \"GET /protocol/defisaver HTTP/1.1\" 200 74029\n",
      "DEBUG:urllib3.connectionpool:https://api.llama.fi:443 \"GET /protocol/stakewise HTTP/1.1\" 200 201969\n",
      "DEBUG:urllib3.connectionpool:https://api.llama.fi:443 \"GET /protocol/quarry HTTP/1.1\" 200 740962\n",
      "DEBUG:urllib3.connectionpool:https://api.llama.fi:443 \"GET /protocol/mango-markets HTTP/1.1\" 200 558674\n",
      "DEBUG:urllib3.connectionpool:https://api.llama.fi:443 \"GET /protocol/mento HTTP/1.1\" 200 181759\n",
      "DEBUG:urllib3.connectionpool:https://api.llama.fi:443 \"GET /protocol/alchemix HTTP/1.1\" 200 307881\n",
      "DEBUG:urllib3.connectionpool:https://api.llama.fi:443 \"GET /protocol/stakedao HTTP/1.1\" 200 1042130\n",
      "DEBUG:urllib3.connectionpool:https://api.llama.fi:443 \"GET /protocol/velodrome HTTP/1.1\" 200 140981\n",
      "DEBUG:urllib3.connectionpool:https://api.llama.fi:443 \"GET /protocol/dodo HTTP/1.1\" 307 0\n",
      "DEBUG:urllib3.connectionpool:https://defillama-datasets.s3.eu-central-1.amazonaws.com:443 \"GET /temp/protocol-DODO.json HTTP/1.1\" 200 5727121\n",
      "DEBUG:urllib3.connectionpool:https://api.llama.fi:443 \"GET /protocol/benqi-staked-avax HTTP/1.1\" 200 57829\n",
      "DEBUG:urllib3.connectionpool:https://api.llama.fi:443 \"GET /protocol/neutrino HTTP/1.1\" 200 99798\n",
      "DEBUG:urllib3.connectionpool:https://api.llama.fi:443 \"GET /protocol/kava-lend HTTP/1.1\" 200 551988\n",
      "DEBUG:urllib3.connectionpool:https://api.llama.fi:443 \"GET /protocol/set-protocol HTTP/1.1\" 307 0\n",
      "DEBUG:urllib3.connectionpool:https://defillama-datasets.s3.eu-central-1.amazonaws.com:443 \"GET /temp/protocol-Set%20Protocol.json HTTP/1.1\" 200 8434301\n",
      "DEBUG:urllib3.connectionpool:https://api.llama.fi:443 \"GET /protocol/stakehound HTTP/1.1\" 200 180614\n",
      "DEBUG:urllib3.connectionpool:https://api.llama.fi:443 \"GET /protocol/allbridge HTTP/1.1\" 200 1799638\n",
      "DEBUG:urllib3.connectionpool:https://api.llama.fi:443 \"GET /protocol/ankr HTTP/1.1\" 200 325135\n",
      "DEBUG:urllib3.connectionpool:https://api.llama.fi:443 \"GET /protocol/sablier-finance HTTP/1.1\" 200 2124573\n",
      "DEBUG:urllib3.connectionpool:https://api.llama.fi:443 \"GET /protocol/ferro HTTP/1.1\" 200 49333\n",
      "DEBUG:urllib3.connectionpool:https://api.llama.fi:443 \"GET /protocol/badger-dao HTTP/1.1\" 200 100736\n",
      "DEBUG:urllib3.connectionpool:https://api.llama.fi:443 \"GET /protocol/notional HTTP/1.1\" 200 353156\n",
      "DEBUG:urllib3.connectionpool:https://api.llama.fi:443 \"GET /protocol/dxsale HTTP/1.1\" 200 231698\n",
      "DEBUG:urllib3.connectionpool:https://api.llama.fi:443 \"GET /protocol/lightning-network HTTP/1.1\" 200 114212\n",
      "DEBUG:urllib3.connectionpool:https://api.llama.fi:443 \"GET /protocol/vector-finance HTTP/1.1\" 200 317217\n",
      "DEBUG:urllib3.connectionpool:https://api.llama.fi:443 \"GET /protocol/bastion HTTP/1.1\" 200 285898\n",
      "DEBUG:urllib3.connectionpool:https://api.llama.fi:443 \"GET /protocol/tranchess HTTP/1.1\" 200 247242\n",
      "DEBUG:urllib3.connectionpool:https://api.llama.fi:443 \"GET /protocol/terra-bridge HTTP/1.1\" 200 258038\n",
      "DEBUG:urllib3.connectionpool:https://api.llama.fi:443 \"GET /protocol/opyn HTTP/1.1\" 200 541644\n",
      "DEBUG:urllib3.connectionpool:https://api.llama.fi:443 \"GET /protocol/concentrator HTTP/1.1\" 200 251188\n",
      "DEBUG:urllib3.connectionpool:https://api.llama.fi:443 \"GET /protocol/radiant HTTP/1.1\" 200 35741\n",
      "DEBUG:urllib3.connectionpool:https://api.llama.fi:443 \"GET /protocol/tokemak HTTP/1.1\" 200 725098\n",
      "DEBUG:urllib3.connectionpool:https://api.llama.fi:443 \"GET /protocol/mm-finance HTTP/1.1\" 200 425294\n",
      "DEBUG:urllib3.connectionpool:https://api.llama.fi:443 \"GET /protocol/algofi HTTP/1.1\" 200 217033\n",
      "DEBUG:urllib3.connectionpool:https://api.llama.fi:443 \"GET /protocol/acala-dollar HTTP/1.1\" 200 17246\n",
      "DEBUG:urllib3.connectionpool:https://api.llama.fi:443 \"GET /protocol/temple-dao HTTP/1.1\" 200 249491\n",
      "DEBUG:urllib3.connectionpool:https://api.llama.fi:443 \"GET /protocol/folks-finance HTTP/1.1\" 200 77316\n",
      "DEBUG:urllib3.connectionpool:https://api.llama.fi:443 \"GET /protocol/wrapped-bnb HTTP/1.1\" 200 49166\n",
      "DEBUG:urllib3.connectionpool:https://api.llama.fi:443 \"GET /protocol/index-coop HTTP/1.1\" 200 368785\n",
      "DEBUG:urllib3.connectionpool:https://api.llama.fi:443 \"GET /protocol/idle-finance HTTP/1.1\" 200 405634\n",
      "DEBUG:urllib3.connectionpool:https://api.llama.fi:443 \"GET /protocol/orca HTTP/1.1\" 200 195111\n",
      "DEBUG:urllib3.connectionpool:https://api.llama.fi:443 \"GET /protocol/ellipsis-finance HTTP/1.1\" 200 203250\n",
      "DEBUG:urllib3.connectionpool:https://api.llama.fi:443 \"GET /protocol/chainport HTTP/1.1\" 200 29020\n",
      "DEBUG:urllib3.connectionpool:https://api.llama.fi:443 \"GET /protocol/katana-dex HTTP/1.1\" 200 138276\n",
      "DEBUG:urllib3.connectionpool:https://api.llama.fi:443 \"GET /protocol/ribbon-finance HTTP/1.1\" 200 413317\n",
      "DEBUG:urllib3.connectionpool:https://api.llama.fi:443 \"GET /protocol/yeti-finance HTTP/1.1\" 200 105084\n",
      "DEBUG:urllib3.connectionpool:https://api.llama.fi:443 \"GET /protocol/saber HTTP/1.1\" 200 689012\n",
      "DEBUG:urllib3.connectionpool:https://api.llama.fi:443 \"GET /protocol/qidao HTTP/1.1\" 200 1340193\n",
      "DEBUG:urllib3.connectionpool:https://api.llama.fi:443 \"GET /protocol/angle HTTP/1.1\" 200 224444\n",
      "DEBUG:urllib3.connectionpool:https://api.llama.fi:443 \"GET /protocol/benddao HTTP/1.1\" 200 62203\n",
      "DEBUG:urllib3.connectionpool:https://api.llama.fi:443 \"GET /protocol/parallel-daofi HTTP/1.1\" 502 36\n",
      "DEBUG:urllib3.connectionpool:https://api.llama.fi:443 \"GET /protocol/stader HTTP/1.1\" 200 153686\n",
      "DEBUG:urllib3.connectionpool:https://api.llama.fi:443 \"GET /protocol/meshswap HTTP/1.1\" 200 64192\n"
     ]
    },
    {
     "name": "stdout",
     "output_type": "stream",
     "text": [
      "err\n"
     ]
    },
    {
     "name": "stderr",
     "output_type": "stream",
     "text": [
      "DEBUG:urllib3.connectionpool:https://api.llama.fi:443 \"GET /protocol/francium HTTP/1.1\" 200 35106\n",
      "DEBUG:urllib3.connectionpool:https://api.llama.fi:443 \"GET /protocol/apeswap-amm HTTP/1.1\" 307 0\n",
      "DEBUG:urllib3.connectionpool:Resetting dropped connection: defillama-datasets.s3.eu-central-1.amazonaws.com\n",
      "DEBUG:urllib3.connectionpool:https://defillama-datasets.s3.eu-central-1.amazonaws.com:443 \"GET /temp/protocol-ApeSwap%20AMM.json HTTP/1.1\" 200 15332748\n",
      "DEBUG:urllib3.connectionpool:https://api.llama.fi:443 \"GET /protocol/bifrost HTTP/1.1\" 200 87870\n",
      "DEBUG:urllib3.connectionpool:https://api.llama.fi:443 \"GET /protocol/yield-yak HTTP/1.1\" 200 1708524\n",
      "DEBUG:urllib3.connectionpool:https://api.llama.fi:443 \"GET /protocol/pnetwork HTTP/1.1\" 200 469794\n",
      "DEBUG:urllib3.connectionpool:https://api.llama.fi:443 \"GET /protocol/beethoven-x HTTP/1.1\" 200 110105\n",
      "DEBUG:urllib3.connectionpool:https://api.llama.fi:443 \"GET /protocol/homora HTTP/1.1\" 200 588267\n",
      "DEBUG:urllib3.connectionpool:https://api.llama.fi:443 \"GET /protocol/parallel-lending HTTP/1.1\" 502 36\n",
      "DEBUG:urllib3.connectionpool:https://api.llama.fi:443 \"GET /protocol/burrow HTTP/1.1\" 200 325673\n",
      "DEBUG:urllib3.connectionpool:https://api.llama.fi:443 \"GET /protocol/acala-liquid-staking HTTP/1.1\" 200 17229\n",
      "DEBUG:urllib3.connectionpool:https://api.llama.fi:443 \"GET /protocol/shibaswap HTTP/1.1\" 200 3159231\n"
     ]
    },
    {
     "name": "stdout",
     "output_type": "stream",
     "text": [
      "err\n"
     ]
    },
    {
     "name": "stderr",
     "output_type": "stream",
     "text": [
      "DEBUG:urllib3.connectionpool:https://api.llama.fi:443 \"GET /protocol/eos-rex HTTP/1.1\" 200 54371\n",
      "DEBUG:urllib3.connectionpool:https://api.llama.fi:443 \"GET /protocol/pooltogether HTTP/1.1\" 200 1565943\n",
      "DEBUG:urllib3.connectionpool:https://api.llama.fi:443 \"GET /protocol/nomiswap HTTP/1.1\" 200 247221\n",
      "DEBUG:urllib3.connectionpool:https://api.llama.fi:443 \"GET /protocol/autofarm HTTP/1.1\" 200 255835\n",
      "DEBUG:urllib3.connectionpool:https://api.llama.fi:443 \"GET /protocol/bunny HTTP/1.1\" 200 211061\n",
      "DEBUG:urllib3.connectionpool:https://api.llama.fi:443 \"GET /protocol/injective HTTP/1.1\" 200 162001\n",
      "DEBUG:urllib3.connectionpool:https://api.llama.fi:443 \"GET /protocol/fei-protocol HTTP/1.1\" 200 393786\n",
      "DEBUG:urllib3.connectionpool:https://api.llama.fi:443 \"GET /protocol/across HTTP/1.1\" 200 159872\n",
      "DEBUG:urllib3.connectionpool:https://api.llama.fi:443 \"GET /protocol/flamincome HTTP/1.1\" 200 88302\n",
      "DEBUG:urllib3.connectionpool:https://api.llama.fi:443 \"GET /protocol/cream-finance HTTP/1.1\" 200 4143063\n",
      "DEBUG:urllib3.connectionpool:https://api.llama.fi:443 \"GET /protocol/geist-finance HTTP/1.1\" 200 707079\n",
      "DEBUG:urllib3.connectionpool:https://api.llama.fi:443 \"GET /protocol/kyberswap HTTP/1.1\" 200 4019934\n",
      "DEBUG:urllib3.connectionpool:https://api.llama.fi:443 \"GET /protocol/flamingo-finance HTTP/1.1\" 200 61134\n",
      "DEBUG:urllib3.connectionpool:https://api.llama.fi:443 \"GET /protocol/iotube HTTP/1.1\" 200 54437\n",
      "DEBUG:urllib3.connectionpool:https://api.llama.fi:443 \"GET /protocol/hop-protocol HTTP/1.1\" 200 732566\n",
      "DEBUG:urllib3.connectionpool:https://api.llama.fi:443 \"GET /protocol/klima-dao HTTP/1.1\" 200 243975\n",
      "DEBUG:urllib3.connectionpool:https://api.llama.fi:443 \"GET /protocol/defichain-loans HTTP/1.1\" 502 36\n",
      "DEBUG:urllib3.connectionpool:https://api.llama.fi:443 \"GET /protocol/reflexer HTTP/1.1\" 200 168614\n",
      "DEBUG:urllib3.connectionpool:https://api.llama.fi:443 \"GET /protocol/tomb-finance HTTP/1.1\" 200 1443821\n"
     ]
    },
    {
     "name": "stdout",
     "output_type": "stream",
     "text": [
      "err\n"
     ]
    },
    {
     "name": "stderr",
     "output_type": "stream",
     "text": [
      "DEBUG:urllib3.connectionpool:https://api.llama.fi:443 \"GET /protocol/kokonut-swap HTTP/1.1\" 200 51329\n",
      "DEBUG:urllib3.connectionpool:https://api.llama.fi:443 \"GET /protocol/friktion HTTP/1.1\" 200 389825\n",
      "DEBUG:urllib3.connectionpool:https://api.llama.fi:443 \"GET /protocol/realt HTTP/1.1\" 200 85525\n",
      "DEBUG:urllib3.connectionpool:https://api.llama.fi:443 \"GET /protocol/minswap HTTP/1.1\" 200 55090\n",
      "DEBUG:urllib3.connectionpool:https://api.llama.fi:443 \"GET /protocol/enzyme-finance HTTP/1.1\" 200 2707230\n",
      "DEBUG:urllib3.connectionpool:https://api.llama.fi:443 \"GET /protocol/rari-capital HTTP/1.1\" 200 1759813\n",
      "DEBUG:urllib3.connectionpool:https://api.llama.fi:443 \"GET /protocol/meta-pool HTTP/1.1\" 200 105005\n",
      "DEBUG:urllib3.connectionpool:https://api.llama.fi:443 \"GET /protocol/mstable HTTP/1.1\" 200 677550\n",
      "DEBUG:urllib3.connectionpool:https://api.llama.fi:443 \"GET /protocol/origin-dollar HTTP/1.1\" 200 230553\n",
      "DEBUG:urllib3.connectionpool:https://api.llama.fi:443 \"GET /protocol/pangolin HTTP/1.1\" 200 179116\n",
      "DEBUG:urllib3.connectionpool:https://api.llama.fi:443 \"GET /protocol/wing-finance HTTP/1.1\" 200 332777\n",
      "DEBUG:urllib3.connectionpool:https://api.llama.fi:443 \"GET /protocol/trisolaris HTTP/1.1\" 200 154698\n",
      "DEBUG:urllib3.connectionpool:https://api.llama.fi:443 \"GET /protocol/klap HTTP/1.1\" 200 70416\n",
      "DEBUG:urllib3.connectionpool:https://api.llama.fi:443 \"GET /protocol/mojitoswap HTTP/1.1\" 200 150311\n",
      "DEBUG:urllib3.connectionpool:https://api.llama.fi:443 \"GET /protocol/element-finance HTTP/1.1\" 200 794930\n",
      "DEBUG:urllib3.connectionpool:https://api.llama.fi:443 \"GET /protocol/saddle-finance HTTP/1.1\" 200 645652\n",
      "DEBUG:urllib3.connectionpool:https://api.llama.fi:443 \"GET /protocol/octus-bridge HTTP/1.1\" 200 339221\n",
      "DEBUG:urllib3.connectionpool:https://api.llama.fi:443 \"GET /protocol/jpool HTTP/1.1\" 200 72528\n",
      "DEBUG:urllib3.connectionpool:https://api.llama.fi:443 \"GET /protocol/puddingswap HTTP/1.1\" 200 35542\n",
      "DEBUG:urllib3.connectionpool:https://api.llama.fi:443 \"GET /protocol/moonwell-apollo HTTP/1.1\" 200 132536\n",
      "DEBUG:urllib3.connectionpool:https://api.llama.fi:443 \"GET /protocol/belt-finance HTTP/1.1\" 200 561770\n",
      "DEBUG:urllib3.connectionpool:https://api.llama.fi:443 \"GET /protocol/toucan-protocol HTTP/1.1\" 200 3705\n",
      "DEBUG:urllib3.connectionpool:https://api.llama.fi:443 \"GET /protocol/spool-protocol HTTP/1.1\" 200 87329\n",
      "DEBUG:urllib3.connectionpool:https://api.llama.fi:443 \"GET /protocol/dot-dot-finance HTTP/1.1\" 200 43022\n",
      "DEBUG:urllib3.connectionpool:https://api.llama.fi:443 \"GET /protocol/valas-finance HTTP/1.1\" 200 353176\n",
      "DEBUG:urllib3.connectionpool:https://api.llama.fi:443 \"GET /protocol/flatqube HTTP/1.1\" 502 36\n",
      "DEBUG:urllib3.connectionpool:https://api.llama.fi:443 \"GET /protocol/vesper HTTP/1.1\" 200 491356\n",
      "DEBUG:urllib3.connectionpool:https://api.llama.fi:443 \"GET /protocol/babyswap HTTP/1.1\" 200 1468908\n"
     ]
    },
    {
     "name": "stdout",
     "output_type": "stream",
     "text": [
      "err\n"
     ]
    },
    {
     "name": "stderr",
     "output_type": "stream",
     "text": [
      "DEBUG:urllib3.connectionpool:https://api.llama.fi:443 \"GET /protocol/larix HTTP/1.1\" 200 350036\n",
      "DEBUG:urllib3.connectionpool:https://api.llama.fi:443 \"GET /protocol/moneyonchain HTTP/1.1\" 200 61864\n",
      "DEBUG:urllib3.connectionpool:https://api.llama.fi:443 \"GET /protocol/swim-protocol HTTP/1.1\" 200 85091\n",
      "DEBUG:urllib3.connectionpool:https://api.llama.fi:443 \"GET /protocol/knightswap-finance HTTP/1.1\" 200 1008434\n",
      "DEBUG:urllib3.connectionpool:https://api.llama.fi:443 \"GET /protocol/spiritswap HTTP/1.1\" 307 0\n",
      "DEBUG:urllib3.connectionpool:Resetting dropped connection: defillama-datasets.s3.eu-central-1.amazonaws.com\n",
      "DEBUG:urllib3.connectionpool:https://defillama-datasets.s3.eu-central-1.amazonaws.com:443 \"GET /temp/protocol-SpiritSwap.json HTTP/1.1\" 200 69955369\n",
      "DEBUG:urllib3.connectionpool:https://api.llama.fi:443 \"GET /protocol/tokensfarm HTTP/1.1\" 200 104120\n",
      "DEBUG:urllib3.connectionpool:https://api.llama.fi:443 \"GET /protocol/aave-v1 HTTP/1.1\" 200 3173397\n",
      "DEBUG:urllib3.connectionpool:https://api.llama.fi:443 \"GET /protocol/liquid-driver HTTP/1.1\" 200 1034671\n",
      "DEBUG:urllib3.connectionpool:https://api.llama.fi:443 \"GET /protocol/dforce HTTP/1.1\" 200 940104\n",
      "DEBUG:urllib3.connectionpool:https://api.llama.fi:443 \"GET /protocol/parrot-protocol HTTP/1.1\" 200 330321\n",
      "DEBUG:urllib3.connectionpool:https://api.llama.fi:443 \"GET /protocol/klaystation HTTP/1.1\" 200 16321\n",
      "DEBUG:urllib3.connectionpool:https://api.llama.fi:443 \"GET /protocol/spartacus HTTP/1.1\" 200 215894\n",
      "DEBUG:urllib3.connectionpool:https://api.llama.fi:443 \"GET /protocol/metronome HTTP/1.1\" 200 134767\n",
      "DEBUG:urllib3.connectionpool:https://api.llama.fi:443 \"GET /protocol/waves-exchange HTTP/1.1\" 200 822146\n",
      "DEBUG:urllib3.connectionpool:https://api.llama.fi:443 \"GET /protocol/keep-network HTTP/1.1\" 200 123970\n",
      "DEBUG:urllib3.connectionpool:https://api.llama.fi:443 \"GET /protocol/harvest-finance HTTP/1.1\" 200 111376\n",
      "DEBUG:urllib3.connectionpool:https://api.llama.fi:443 \"GET /protocol/sicx HTTP/1.1\" 200 38670\n",
      "DEBUG:urllib3.connectionpool:https://api.llama.fi:443 \"GET /protocol/hashflow HTTP/1.1\" 200 155863\n",
      "DEBUG:urllib3.connectionpool:https://api.llama.fi:443 \"GET /protocol/xdao HTTP/1.1\" 200 1703002\n",
      "DEBUG:urllib3.connectionpool:https://api.llama.fi:443 \"GET /protocol/stafi HTTP/1.1\" 200 510098\n",
      "DEBUG:urllib3.connectionpool:https://api.llama.fi:443 \"GET /protocol/hector-network HTTP/1.1\" 200 274557\n",
      "DEBUG:urllib3.connectionpool:https://api.llama.fi:443 \"GET /protocol/solarbeam HTTP/1.1\" 200 238633\n",
      "DEBUG:urllib3.connectionpool:https://api.llama.fi:443 \"GET /protocol/dopex HTTP/1.1\" 200 622973\n",
      "DEBUG:urllib3.connectionpool:https://api.llama.fi:443 \"GET /protocol/liqee HTTP/1.1\" 200 156461\n",
      "DEBUG:urllib3.connectionpool:https://api.llama.fi:443 \"GET /protocol/rex-staking HTTP/1.1\" 200 80763\n",
      "DEBUG:urllib3.connectionpool:https://api.llama.fi:443 \"GET /protocol/nftx HTTP/1.1\" 200 207984\n",
      "DEBUG:urllib3.connectionpool:https://api.llama.fi:443 \"GET /protocol/hubble HTTP/1.1\" 200 94449\n",
      "DEBUG:urllib3.connectionpool:https://api.llama.fi:443 \"GET /protocol/thetaswap HTTP/1.1\" 200 73989\n",
      "DEBUG:urllib3.connectionpool:https://api.llama.fi:443 \"GET /protocol/unslashed HTTP/1.1\" 200 106325\n",
      "DEBUG:urllib3.connectionpool:https://api.llama.fi:443 \"GET /protocol/filda HTTP/1.1\" 200 2098668\n",
      "DEBUG:urllib3.connectionpool:https://api.llama.fi:443 \"GET /protocol/astroport HTTP/1.1\" 200 77794\n",
      "DEBUG:urllib3.connectionpool:https://api.llama.fi:443 \"GET /protocol/linear-protocol HTTP/1.1\" 200 31622\n",
      "DEBUG:urllib3.connectionpool:https://api.llama.fi:443 \"GET /protocol/sharedstake HTTP/1.1\" 200 279282\n",
      "DEBUG:urllib3.connectionpool:https://api.llama.fi:443 \"GET /protocol/tarot HTTP/1.1\" 200 1808324\n",
      "DEBUG:urllib3.connectionpool:https://api.llama.fi:443 \"GET /protocol/acryptos HTTP/1.1\" 200 79332\n",
      "DEBUG:urllib3.connectionpool:https://api.llama.fi:443 \"GET /protocol/sovryn HTTP/1.1\" 200 48308\n",
      "DEBUG:urllib3.connectionpool:https://api.llama.fi:443 \"GET /protocol/reserve HTTP/1.1\" 200 153021\n",
      "DEBUG:urllib3.connectionpool:https://api.llama.fi:443 \"GET /protocol/rook HTTP/1.1\" 200 539375\n",
      "DEBUG:urllib3.connectionpool:https://api.llama.fi:443 \"GET /protocol/aldrin HTTP/1.1\" 200 82898\n",
      "DEBUG:urllib3.connectionpool:https://api.llama.fi:443 \"GET /protocol/iziswap HTTP/1.1\" 200 88331\n",
      "DEBUG:urllib3.connectionpool:https://api.llama.fi:443 \"GET /protocol/solo-top HTTP/1.1\" 200 223653\n",
      "DEBUG:urllib3.connectionpool:https://api.llama.fi:443 \"GET /protocol/echidna-finance HTTP/1.1\" 200 282246\n",
      "DEBUG:urllib3.connectionpool:https://api.llama.fi:443 \"GET /protocol/ooki HTTP/1.1\" 200 478943\n",
      "DEBUG:urllib3.connectionpool:https://api.llama.fi:443 \"GET /protocol/connext HTTP/1.1\" 200 1070234\n",
      "DEBUG:urllib3.connectionpool:https://api.llama.fi:443 \"GET /protocol/sturdy HTTP/1.1\" 200 108155\n",
      "DEBUG:urllib3.connectionpool:https://api.llama.fi:443 \"GET /protocol/maple HTTP/1.1\" 200 543045\n",
      "DEBUG:urllib3.connectionpool:https://api.llama.fi:443 \"GET /protocol/neoburger HTTP/1.1\" 200 63049\n",
      "DEBUG:urllib3.connectionpool:https://api.llama.fi:443 \"GET /protocol/defi-swap HTTP/1.1\" 200 1045676\n",
      "DEBUG:urllib3.connectionpool:https://api.llama.fi:443 \"GET /protocol/mimo-defi HTTP/1.1\" 200 295838\n",
      "DEBUG:urllib3.connectionpool:https://api.llama.fi:443 \"GET /protocol/parallel-liquid-staking HTTP/1.1\" 200 157\n",
      "DEBUG:urllib3.connectionpool:https://api.llama.fi:443 \"GET /protocol/lofty HTTP/1.1\" 200 2760\n"
     ]
    },
    {
     "name": "stdout",
     "output_type": "stream",
     "text": [
      "err\n"
     ]
    },
    {
     "name": "stderr",
     "output_type": "stream",
     "text": [
      "DEBUG:urllib3.connectionpool:https://api.llama.fi:443 \"GET /protocol/radioshack HTTP/1.1\" 200 600974\n",
      "DEBUG:urllib3.connectionpool:https://api.llama.fi:443 \"GET /protocol/valleyswap HTTP/1.1\" 200 56518\n",
      "DEBUG:urllib3.connectionpool:https://api.llama.fi:443 \"GET /protocol/mm-optimizer HTTP/1.1\" 200 149024\n",
      "DEBUG:urllib3.connectionpool:https://api.llama.fi:443 \"GET /protocol/aurigami HTTP/1.1\" 200 301203\n",
      "DEBUG:urllib3.connectionpool:https://api.llama.fi:443 \"GET /protocol/moonwell-artemis HTTP/1.1\" 200 49009\n",
      "DEBUG:urllib3.connectionpool:https://api.llama.fi:443 \"GET /protocol/perpetual-protocol HTTP/1.1\" 200 211734\n",
      "DEBUG:urllib3.connectionpool:https://api.llama.fi:443 \"GET /protocol/superfluid HTTP/1.1\" 200 738736\n",
      "DEBUG:urllib3.connectionpool:https://api.llama.fi:443 \"GET /protocol/lyra HTTP/1.1\" 200 286513\n",
      "DEBUG:urllib3.connectionpool:https://api.llama.fi:443 \"GET /protocol/defibox HTTP/1.1\" 200 92241\n",
      "DEBUG:urllib3.connectionpool:https://api.llama.fi:443 \"GET /protocol/sherlock HTTP/1.1\" 200 116722\n",
      "DEBUG:urllib3.connectionpool:https://api.llama.fi:443 \"GET /protocol/fantohm HTTP/1.1\" 200 582371\n",
      "DEBUG:urllib3.connectionpool:https://api.llama.fi:443 \"GET /protocol/thetanuts-finance HTTP/1.1\" 200 496270\n",
      "DEBUG:urllib3.connectionpool:https://api.llama.fi:443 \"GET /protocol/bifi HTTP/1.1\" 200 1051374\n",
      "DEBUG:urllib3.connectionpool:https://api.llama.fi:443 \"GET /protocol/vesta-finance HTTP/1.1\" 200 169628\n",
      "DEBUG:urllib3.connectionpool:https://api.llama.fi:443 \"GET /protocol/sundaeswap HTTP/1.1\" 200 68209\n",
      "DEBUG:urllib3.connectionpool:https://api.llama.fi:443 \"GET /protocol/wingriders HTTP/1.1\" 200 43587\n",
      "DEBUG:urllib3.connectionpool:https://api.llama.fi:443 \"GET /protocol/insurace HTTP/1.1\" 200 758832\n",
      "DEBUG:urllib3.connectionpool:https://api.llama.fi:443 \"GET /protocol/wanswap-dex HTTP/1.1\" 200 54072\n",
      "DEBUG:urllib3.connectionpool:https://api.llama.fi:443 \"GET /protocol/uxd HTTP/1.1\" 200 54342\n",
      "DEBUG:urllib3.connectionpool:https://api.llama.fi:443 \"GET /protocol/apeswap-lending HTTP/1.1\" 200 10907\n",
      "DEBUG:urllib3.connectionpool:https://api.llama.fi:443 \"GET /protocol/dfx-finance HTTP/1.1\" 200 437046\n",
      "DEBUG:urllib3.connectionpool:https://api.llama.fi:443 \"GET /protocol/the-tokenized-bitcoin HTTP/1.1\" 200 85973\n",
      "DEBUG:urllib3.connectionpool:https://api.llama.fi:443 \"GET /protocol/dystopia HTTP/1.1\" 200 195137\n",
      "DEBUG:urllib3.connectionpool:https://api.llama.fi:443 \"GET /protocol/kokoa-finance HTTP/1.1\" 200 90333\n",
      "DEBUG:urllib3.connectionpool:https://api.llama.fi:443 \"GET /protocol/reaper-farm HTTP/1.1\" 200 52860\n",
      "DEBUG:urllib3.connectionpool:https://api.llama.fi:443 \"GET /protocol/tezos-liquidity-baking HTTP/1.1\" 200 139605\n",
      "DEBUG:urllib3.connectionpool:https://api.llama.fi:443 \"GET /protocol/single-finance HTTP/1.1\" 200 398557\n",
      "DEBUG:urllib3.connectionpool:https://api.llama.fi:443 \"GET /protocol/rhino.fi HTTP/1.1\" 200 783297\n",
      "DEBUG:urllib3.connectionpool:https://api.llama.fi:443 \"GET /protocol/mercurial-finance HTTP/1.1\" 200 310285\n",
      "DEBUG:urllib3.connectionpool:https://api.llama.fi:443 \"GET /protocol/llama-airforce HTTP/1.1\" 200 79341\n",
      "DEBUG:urllib3.connectionpool:https://api.llama.fi:443 \"GET /protocol/youves HTTP/1.1\" 200 167312\n",
      "DEBUG:urllib3.connectionpool:https://api.llama.fi:443 \"GET /protocol/stellaswap HTTP/1.1\" 200 121253\n",
      "DEBUG:urllib3.connectionpool:https://api.llama.fi:443 \"GET /protocol/karura-dollar-(kusd) HTTP/1.1\" 200 93744\n",
      "DEBUG:urllib3.connectionpool:https://api.llama.fi:443 \"GET /protocol/outcome-finance HTTP/1.1\" 200 1086593\n",
      "DEBUG:urllib3.connectionpool:https://api.llama.fi:443 \"GET /protocol/flrfarm HTTP/1.1\" 200 183163\n",
      "DEBUG:urllib3.connectionpool:https://api.llama.fi:443 \"GET /protocol/b.protocol HTTP/1.1\" 200 606222\n",
      "DEBUG:urllib3.connectionpool:https://api.llama.fi:443 \"GET /protocol/arthswap HTTP/1.1\" 200 213683\n",
      "DEBUG:urllib3.connectionpool:https://api.llama.fi:443 \"GET /protocol/valuedefi HTTP/1.1\" 200 91813\n",
      "DEBUG:urllib3.connectionpool:https://api.llama.fi:443 \"GET /protocol/yoshi-exchange HTTP/1.1\" 200 1469145\n",
      "DEBUG:urllib3.connectionpool:https://api.llama.fi:443 \"GET /protocol/wrapped HTTP/1.1\" 200 387128\n",
      "DEBUG:urllib3.connectionpool:https://api.llama.fi:443 \"GET /protocol/alex HTTP/1.1\" 200 176570\n",
      "DEBUG:urllib3.connectionpool:https://api.llama.fi:443 \"GET /protocol/stellarx HTTP/1.1\" 502 36\n"
     ]
    },
    {
     "name": "stdout",
     "output_type": "stream",
     "text": [
      "err\n"
     ]
    },
    {
     "name": "stderr",
     "output_type": "stream",
     "text": [
      "DEBUG:urllib3.connectionpool:https://api.llama.fi:443 \"GET /protocol/sunny HTTP/1.1\" 200 518302\n",
      "DEBUG:urllib3.connectionpool:https://api.llama.fi:443 \"GET /protocol/netswap HTTP/1.1\" 200 79071\n",
      "DEBUG:urllib3.connectionpool:https://api.llama.fi:443 \"GET /protocol/paycash HTTP/1.1\" 200 18723\n",
      "DEBUG:urllib3.connectionpool:https://api.llama.fi:443 \"GET /protocol/strike HTTP/1.1\" 200 572716\n",
      "DEBUG:urllib3.connectionpool:https://api.llama.fi:443 \"GET /protocol/defidollar-dao HTTP/1.1\" 200 205596\n",
      "DEBUG:urllib3.connectionpool:https://api.llama.fi:443 \"GET /protocol/claimswap HTTP/1.1\" 200 105007\n",
      "DEBUG:urllib3.connectionpool:https://api.llama.fi:443 \"GET /protocol/planet HTTP/1.1\" 200 1140435\n",
      "DEBUG:urllib3.connectionpool:https://api.llama.fi:443 \"GET /protocol/balanced HTTP/1.1\" 502 36\n"
     ]
    },
    {
     "name": "stdout",
     "output_type": "stream",
     "text": [
      "err\n"
     ]
    },
    {
     "name": "stderr",
     "output_type": "stream",
     "text": [
      "DEBUG:urllib3.connectionpool:https://api.llama.fi:443 \"GET /protocol/01 HTTP/1.1\" 200 124368\n",
      "DEBUG:urllib3.connectionpool:https://api.llama.fi:443 \"GET /protocol/dfyn-network HTTP/1.1\" 200 4665922\n",
      "DEBUG:urllib3.connectionpool:https://api.llama.fi:443 \"GET /protocol/bella-protocol HTTP/1.1\" 200 156805\n",
      "DEBUG:urllib3.connectionpool:https://api.llama.fi:443 \"GET /protocol/deeplock HTTP/1.1\" 200 70132\n",
      "DEBUG:urllib3.connectionpool:https://api.llama.fi:443 \"GET /protocol/omm HTTP/1.1\" 200 34580\n",
      "DEBUG:urllib3.connectionpool:https://api.llama.fi:443 \"GET /protocol/nereus-finance HTTP/1.1\" 200 119119\n",
      "DEBUG:urllib3.connectionpool:https://api.llama.fi:443 \"GET /protocol/thetacash HTTP/1.1\" 200 63972\n",
      "DEBUG:urllib3.connectionpool:https://api.llama.fi:443 \"GET /protocol/pstake HTTP/1.1\" 200 186492\n",
      "DEBUG:urllib3.connectionpool:https://api.llama.fi:443 \"GET /protocol/defrost HTTP/1.1\" 200 154465\n",
      "DEBUG:urllib3.connectionpool:https://api.llama.fi:443 \"GET /protocol/secret-network HTTP/1.1\" 200 55550\n",
      "DEBUG:urllib3.connectionpool:https://api.llama.fi:443 \"GET /protocol/karura-liquid-staking HTTP/1.1\" 200 77853\n",
      "DEBUG:urllib3.connectionpool:https://api.llama.fi:443 \"GET /protocol/izumi-finance HTTP/1.1\" 200 512935\n",
      "DEBUG:urllib3.connectionpool:https://api.llama.fi:443 \"GET /protocol/kava-swap HTTP/1.1\" 200 313494\n",
      "DEBUG:urllib3.connectionpool:https://api.llama.fi:443 \"GET /protocol/penrose HTTP/1.1\" 200 137128\n",
      "DEBUG:urllib3.connectionpool:https://api.llama.fi:443 \"GET /protocol/mimo HTTP/1.1\" 200 69893\n",
      "DEBUG:urllib3.connectionpool:https://api.llama.fi:443 \"GET /protocol/clipper HTTP/1.1\" 200 573328\n",
      "DEBUG:urllib3.connectionpool:https://api.llama.fi:443 \"GET /protocol/pickle HTTP/1.1\" 200 1168448\n",
      "DEBUG:urllib3.connectionpool:https://api.llama.fi:443 \"GET /protocol/zeta HTTP/1.1\" 200 102890\n",
      "DEBUG:urllib3.connectionpool:https://api.llama.fi:443 \"GET /protocol/tinyman HTTP/1.1\" 200 95980\n",
      "DEBUG:urllib3.connectionpool:https://api.llama.fi:443 \"GET /protocol/onx-finance HTTP/1.1\" 200 295163\n",
      "DEBUG:urllib3.connectionpool:https://api.llama.fi:443 \"GET /protocol/swapr HTTP/1.1\" 200 268880\n",
      "DEBUG:urllib3.connectionpool:https://api.llama.fi:443 \"GET /protocol/apollox HTTP/1.1\" 200 112403\n",
      "DEBUG:urllib3.connectionpool:https://api.llama.fi:443 \"GET /protocol/wepiggy HTTP/1.1\" 200 950854\n",
      "DEBUG:urllib3.connectionpool:https://api.llama.fi:443 \"GET /protocol/inverse-finance HTTP/1.1\" 200 459202\n",
      "DEBUG:urllib3.connectionpool:https://api.llama.fi:443 \"GET /protocol/moola-market HTTP/1.1\" 200 351619\n",
      "DEBUG:urllib3.connectionpool:https://api.llama.fi:443 \"GET /protocol/socialswap HTTP/1.1\" 200 24688\n",
      "DEBUG:urllib3.connectionpool:https://api.llama.fi:443 \"GET /protocol/gearbox HTTP/1.1\" 200 179475\n",
      "DEBUG:urllib3.connectionpool:https://api.llama.fi:443 \"GET /protocol/dhedge HTTP/1.1\" 200 126307\n",
      "DEBUG:urllib3.connectionpool:https://api.llama.fi:443 \"GET /protocol/solv-protocol HTTP/1.1\" 200 417529\n",
      "DEBUG:urllib3.connectionpool:https://api.llama.fi:443 \"GET /protocol/yield-protocol HTTP/1.1\" 200 249721\n",
      "DEBUG:urllib3.connectionpool:https://api.llama.fi:443 \"GET /protocol/ocp-finance HTTP/1.1\" 502 36\n"
     ]
    },
    {
     "name": "stdout",
     "output_type": "stream",
     "text": [
      "err\n"
     ]
    },
    {
     "name": "stderr",
     "output_type": "stream",
     "text": [
      "DEBUG:urllib3.connectionpool:https://api.llama.fi:443 \"GET /protocol/port-finance HTTP/1.1\" 200 293469\n",
      "DEBUG:urllib3.connectionpool:https://api.llama.fi:443 \"GET /protocol/risk-harbor HTTP/1.1\" 200 123517\n",
      "DEBUG:urllib3.connectionpool:https://api.llama.fi:443 \"GET /protocol/concave HTTP/1.1\" 200 87965\n",
      "DEBUG:urllib3.connectionpool:https://api.llama.fi:443 \"GET /protocol/gro HTTP/1.1\" 200 475385\n",
      "DEBUG:urllib3.connectionpool:https://api.llama.fi:443 \"GET /protocol/crystalvale HTTP/1.1\" 200 96828\n",
      "DEBUG:urllib3.connectionpool:https://api.llama.fi:443 \"GET /protocol/gains-network HTTP/1.1\" 200 187865\n",
      "DEBUG:urllib3.connectionpool:https://api.llama.fi:443 \"GET /protocol/defi-kingdoms HTTP/1.1\" 307 0\n",
      "DEBUG:urllib3.connectionpool:Resetting dropped connection: defillama-datasets.s3.eu-central-1.amazonaws.com\n",
      "DEBUG:urllib3.connectionpool:https://defillama-datasets.s3.eu-central-1.amazonaws.com:443 \"GET /temp/protocol-Defi%20Kingdoms.json HTTP/1.1\" 200 27769413\n",
      "DEBUG:urllib3.connectionpool:https://api.llama.fi:443 \"GET /protocol/proton-loan HTTP/1.1\" 200 147009\n",
      "DEBUG:urllib3.connectionpool:https://api.llama.fi:443 \"GET /protocol/moonfarm HTTP/1.1\" 200 66090\n",
      "DEBUG:urllib3.connectionpool:https://api.llama.fi:443 \"GET /protocol/hundred-finance HTTP/1.1\" 200 1848594\n",
      "DEBUG:urllib3.connectionpool:https://api.llama.fi:443 \"GET /protocol/orion-protocol HTTP/1.1\" 200 2015493\n",
      "DEBUG:urllib3.connectionpool:https://api.llama.fi:443 \"GET /protocol/wombat-exchange HTTP/1.1\" 200 65615\n",
      "DEBUG:urllib3.connectionpool:https://api.llama.fi:443 \"GET /protocol/beta-finance HTTP/1.1\" 200 751734\n",
      "DEBUG:urllib3.connectionpool:https://api.llama.fi:443 \"GET /protocol/starlay-finance HTTP/1.1\" 200 356569\n",
      "DEBUG:urllib3.connectionpool:https://api.llama.fi:443 \"GET /protocol/tetu HTTP/1.1\" 200 152821\n",
      "DEBUG:urllib3.connectionpool:https://api.llama.fi:443 \"GET /protocol/kaidex HTTP/1.1\" 200 144146\n",
      "DEBUG:urllib3.connectionpool:https://api.llama.fi:443 \"GET /protocol/nuls HTTP/1.1\" 200 32814\n",
      "DEBUG:urllib3.connectionpool:https://api.llama.fi:443 \"GET /protocol/katana HTTP/1.1\" 200 251716\n",
      "DEBUG:urllib3.connectionpool:https://api.llama.fi:443 \"GET /protocol/o3-swap HTTP/1.1\" 502 36\n"
     ]
    },
    {
     "name": "stdout",
     "output_type": "stream",
     "text": [
      "err\n"
     ]
    },
    {
     "name": "stderr",
     "output_type": "stream",
     "text": [
      "DEBUG:urllib3.connectionpool:https://api.llama.fi:443 \"GET /protocol/acala-swap HTTP/1.1\" 200 16960\n",
      "DEBUG:urllib3.connectionpool:https://api.llama.fi:443 \"GET /protocol/ouchi-finance HTTP/1.1\" 200 53200\n",
      "DEBUG:urllib3.connectionpool:https://api.llama.fi:443 \"GET /protocol/position-exchange HTTP/1.1\" 200 290137\n",
      "DEBUG:urllib3.connectionpool:https://api.llama.fi:443 \"GET /protocol/88mph HTTP/1.1\" 200 1178645\n",
      "DEBUG:urllib3.connectionpool:https://api.llama.fi:443 \"GET /protocol/zookeeper HTTP/1.1\" 200 59286\n",
      "DEBUG:urllib3.connectionpool:https://api.llama.fi:443 \"GET /protocol/sashimiswap HTTP/1.1\" 200 1391913\n",
      "DEBUG:urllib3.connectionpool:https://api.llama.fi:443 \"GET /protocol/idex HTTP/1.1\" 200 2273165\n",
      "DEBUG:urllib3.connectionpool:https://api.llama.fi:443 \"GET /protocol/guard(helmet) HTTP/1.1\" 200 844844\n",
      "DEBUG:urllib3.connectionpool:https://api.llama.fi:443 \"GET /protocol/aavegotchi HTTP/1.1\" 200 663496\n",
      "DEBUG:urllib3.connectionpool:https://api.llama.fi:443 \"GET /protocol/truefi HTTP/1.1\" 200 589583\n"
     ]
    }
   ],
   "source": [
    "#get by app\n",
    "api_str = 'https://api.llama.fi/protocol/'\n",
    "# print(protocols)\n",
    "prod = []\n",
    "for index,proto in protocols.iterrows():\n",
    "#     print(proto)\n",
    "    prot = proto['slug']\n",
    "    chains = proto['chainTvls']\n",
    "    apic = api_str + prot\n",
    "#     time.sleep(0.1)\n",
    "    try:\n",
    "        prot_req = s.get(apic, headers=header).json()['chainTvls']\n",
    "#         print(apic)\n",
    "        for ch in chains:\n",
    "            ad = pd.json_normalize( prot_req[ch]['tokens'] )\n",
    "            ad_usd = pd.json_normalize( prot_req[ch]['tokensInUsd'] )\n",
    "#             ad = ad.merge(how='left')\n",
    "            if not ad.empty:\n",
    "                ad = pd.melt(ad,id_vars = ['date'])\n",
    "                ad = ad.rename(columns={'variable':'token','value':'token_value'})\n",
    "                ad_usd = pd.melt(ad_usd,id_vars = ['date'])\n",
    "                ad_usd = ad_usd.rename(columns={'variable':'token','value':'usd_value'})\n",
    "                ad = ad.merge(ad_usd,on=['date','token'])\n",
    "                \n",
    "                ad['date'] = pd.to_datetime(ad['date'], unit ='s') #convert to days\n",
    "                ad['token'] = ad['token'].str.replace('tokens.','', regex=False)\n",
    "                ad['protocol'] = prot\n",
    "                ad['chain'] = ch\n",
    "        #         ad['start_date'] = pd.to_datetime(prot[1])\n",
    "                ad['date'] = ad['date'] - timedelta(days=1) #change to eod vs sod\n",
    "                prod.append(ad)\n",
    "    except:\n",
    "        print('err')\n"
   ]
  },
  {
   "cell_type": "code",
   "execution_count": 23,
   "id": "c7c1ddad",
   "metadata": {},
   "outputs": [
    {
     "name": "stdout",
     "output_type": "stream",
     "text": [
      "done api\n"
     ]
    }
   ],
   "source": [
    "df_df_all = pd.concat(prod)\n",
    "# df_df_all\n",
    "print(\"done api\")"
   ]
  },
  {
   "cell_type": "code",
   "execution_count": 24,
   "id": "53c381e8",
   "metadata": {},
   "outputs": [
    {
     "name": "stderr",
     "output_type": "stream",
     "text": [
      "/var/folders/by/kltjc8yd0yz_7_wrtrzhrm9m0000gn/T/ipykernel_81514/3961758486.py:6: SettingWithCopyWarning: \n",
      "A value is trying to be set on a copy of a slice from a DataFrame.\n",
      "Try using .loc[row_indexer,col_indexer] = value instead\n",
      "\n",
      "See the caveats in the documentation: https://pandas.pydata.org/pandas-docs/stable/user_guide/indexing.html#returning-a-view-versus-a-copy\n",
      "  df_df['last_token_value'] = df_df.groupby(['token','protocol','chain'])['token_value'].shift(1)\n"
     ]
    }
   ],
   "source": [
    "# df_df[df_df['protocol']=='perpetual-protocol']\n",
    "#filter down a bit so we can do trailing comp w/o doing every row\n",
    "df_df = df_df_all[df_df_all['date'].dt.date >= start_date-timedelta(days=1) ]\n",
    "# display(df_df['date'].drop_duplicates())\n",
    "#trailing comp\n",
    "df_df['last_token_value'] = df_df.groupby(['token','protocol','chain'])['token_value'].shift(1)\n",
    "#now actually filter\n",
    "df_df = df_df[df_df['date'].dt.date >= start_date ]\n",
    "# display(df_df['date'].drop_duplicates())\n",
    "# df_df[(df_df['protocol'] == 'uniswap') & (df_df['token'] != 'USDT') & (df_df['token_value'] > 0)]"
   ]
  },
  {
   "cell_type": "code",
   "execution_count": null,
   "id": "d277a590",
   "metadata": {},
   "outputs": [],
   "source": []
  },
  {
   "cell_type": "code",
   "execution_count": 25,
   "id": "840e7c2d",
   "metadata": {},
   "outputs": [],
   "source": [
    "# # DISTINCT TOKENS\n",
    "\n",
    "# token_list = df_df.groupby(['token']).count()\n",
    "# token_list = token_list[token_list['token_value']>=1000]\n",
    "# token_list.sort_values(by='token_value',inplace=True, ascending=False)\n",
    "# token_list.reset_index(inplace=True)\n",
    "# missing_token_list = token_list[~token_list['token'].isin(cg_token_list)]\n",
    "# missing_token_list\n",
    "# missing_token_list"
   ]
  },
  {
   "cell_type": "code",
   "execution_count": 26,
   "id": "8f9eb8e5",
   "metadata": {},
   "outputs": [],
   "source": [
    "# data_df = df_df.merge(cg_df, on=['date','token'],how='inner')\n",
    "data_df = df_df.copy()\n",
    "data_df['token_value'] = data_df['token_value'].replace(0, np.nan)\n",
    "data_df['price_usd'] = data_df['usd_value']/data_df['token_value']\n",
    "\n",
    "# print(len(data_df))\n",
    "data_df.sort_values(by='date',inplace=True)\n",
    "# print(len(data_df))\n",
    "# data_df['net_token_flow'] = data_df.groupby(['token','protocol','chain'])['token_value'].apply(lambda x: x- x.shift(1))\n",
    "data_df['net_token_flow'] = data_df['token_value'] - data_df['last_token_value']\n",
    "\n",
    "# print(len(data_df))\n",
    "data_df['net_dollar_flow'] = data_df['net_token_flow'] * data_df['price_usd']\n",
    "\n",
    "\n",
    "# data_df = data_df[data_df['token'] != 'RVRS'] #Harmony error\n",
    "# data_df = data_df[data_df['token'] != 'usn'] #Harmony error\n",
    "# data_df = data_df[data_df['protocol'] != 'shibaswap'] #Harmony error\n",
    "data_df = data_df[abs(data_df['net_dollar_flow']) < 50_000_000_000] #50 bil error bar\n",
    "data_df = data_df[~data_df['net_dollar_flow'].isna()] #50 bil error bar\n",
    "# display(data_df[\n",
    "# #         (data_df['protocol'] == 'sushiswap') & (data_df['chain'] == 'Harmony')\n",
    "#         (data_df['net_dollar_flow'].notna()) & (data_df['net_dollar_flow'] != 0)\n",
    "#         ].sort_values('net_dollar_flow'))\n",
    "\n",
    "\n",
    "# data_df.sort_values('net_dollar_flow')\n"
   ]
  },
  {
   "cell_type": "code",
   "execution_count": 27,
   "id": "1083af8c",
   "metadata": {},
   "outputs": [],
   "source": [
    "# data_df[['date']].drop_duplicates().sort_values('date')\n",
    "# data_df[data_df['date'].dt.date != data_df['date']].sort_values('date')"
   ]
  },
  {
   "cell_type": "code",
   "execution_count": 28,
   "id": "d1ae7150",
   "metadata": {},
   "outputs": [],
   "source": [
    "# data_df[data_df['protocol']=='perpetual-protocol'].sort_values(by='date')\n",
    "\n",
    "# segment_cols = ['date','protocol','chain','token']"
   ]
  },
  {
   "cell_type": "code",
   "execution_count": 29,
   "id": "59f3f879",
   "metadata": {},
   "outputs": [],
   "source": [
    "netdf_df = data_df[['date','protocol','chain','net_dollar_flow','usd_value']]\n",
    "netdf_df = netdf_df.fillna(0)\n",
    "netdf_df = netdf_df.groupby(['date','protocol','chain']).sum(['net_dollar_flow','usd_value']) ##agg by app\n",
    "# display(netdf_df)\n",
    "#usd_value is the TVL on a given day\n",
    "netdf_df = netdf_df.groupby(['date','protocol','chain','usd_value']).sum(['net_dollar_flow'])\n",
    "netdf_df.reset_index(inplace=True)\n",
    "# display(netdf_df)\n",
    "netdf_df['cumul_net_dollar_flow'] = netdf_df[['protocol','chain','net_dollar_flow']]\\\n",
    "                                    .groupby(['protocol','chain']).cumsum()\n",
    "netdf_df.reset_index(inplace=True)\n",
    "netdf_df.drop(columns=['index'],inplace=True)\n"
   ]
  },
  {
   "cell_type": "code",
   "execution_count": 30,
   "id": "18ccf06e",
   "metadata": {},
   "outputs": [],
   "source": [
    "#get latest\n",
    "netdf_df['rank_desc'] = netdf_df.groupby(['protocol', 'chain'])['date'].\\\n",
    "                            rank(method='dense',ascending=False).astype(int)\n",
    "# netdf_df[netdf_df['chain'] == 'Klaytn']"
   ]
  },
  {
   "cell_type": "code",
   "execution_count": null,
   "id": "a5a501b0",
   "metadata": {},
   "outputs": [],
   "source": []
  },
  {
   "cell_type": "code",
   "execution_count": 41,
   "id": "c0bdf6d8",
   "metadata": {
    "scrolled": false
   },
   "outputs": [
    {
     "name": "stderr",
     "output_type": "stream",
     "text": [
      "/Users/michaelsilberling/opt/anaconda3/lib/python3.9/site-packages/plotly/express/_core.py:1616: FutureWarning:\n",
      "\n",
      "The frame.append method is deprecated and will be removed from pandas in a future version. Use pandas.concat instead.\n",
      "\n",
      "/Users/michaelsilberling/opt/anaconda3/lib/python3.9/site-packages/plotly/express/_core.py:1616: FutureWarning:\n",
      "\n",
      "The frame.append method is deprecated and will be removed from pandas in a future version. Use pandas.concat instead.\n",
      "\n",
      "/Users/michaelsilberling/opt/anaconda3/lib/python3.9/site-packages/plotly/express/_core.py:1616: FutureWarning:\n",
      "\n",
      "The frame.append method is deprecated and will be removed from pandas in a future version. Use pandas.concat instead.\n",
      "\n"
     ]
    },
    {
     "data": {
      "application/vnd.plotly.v1+json": {
       "config": {
        "plotlyServerURL": "https://plot.ly"
       },
       "data": [
        {
         "branchvalues": "total",
         "customdata": [
          [
           -1
          ],
          [
           -1
          ],
          [
           -1
          ],
          [
           -1
          ],
          [
           -1
          ],
          [
           -1
          ],
          [
           1
          ],
          [
           1
          ],
          [
           1
          ],
          [
           -1
          ],
          [
           -1
          ],
          [
           1
          ],
          [
           1
          ],
          [
           1
          ],
          [
           1
          ],
          [
           -1
          ],
          [
           -1
          ],
          [
           1
          ],
          [
           1
          ],
          [
           1
          ],
          [
           1
          ],
          [
           1
          ],
          [
           1
          ],
          [
           1
          ],
          [
           -1
          ],
          [
           1
          ],
          [
           -1
          ],
          [
           1
          ],
          [
           1
          ],
          [
           1
          ],
          [
           -1
          ],
          [
           1
          ],
          [
           1
          ],
          [
           1
          ],
          [
           1
          ],
          [
           -1
          ],
          [
           -1
          ],
          [
           1
          ],
          [
           -1
          ],
          [
           -1
          ],
          [
           -1
          ],
          [
           -1
          ],
          [
           1
          ],
          [
           1
          ],
          [
           1
          ],
          [
           -1
          ],
          [
           1
          ],
          [
           1
          ],
          [
           1
          ],
          [
           -1
          ],
          [
           1
          ],
          [
           1
          ],
          [
           -1
          ],
          [
           -1
          ],
          [
           1
          ],
          [
           1
          ],
          [
           1
          ],
          [
           -1
          ],
          [
           -1
          ],
          [
           1
          ],
          [
           1
          ],
          [
           1
          ],
          [
           1
          ],
          [
           1
          ],
          [
           1
          ],
          [
           -1
          ],
          [
           -1
          ],
          [
           1
          ],
          [
           1
          ],
          [
           1
          ],
          [
           -1
          ],
          [
           -1
          ],
          [
           -1
          ],
          [
           1
          ],
          [
           -1
          ],
          [
           1
          ],
          [
           1
          ],
          [
           1
          ],
          [
           -1
          ],
          [
           1
          ],
          [
           1
          ],
          [
           1
          ],
          [
           1
          ],
          [
           1
          ],
          [
           1
          ],
          [
           1
          ],
          [
           1
          ],
          [
           -1
          ],
          [
           -1
          ],
          [
           1
          ],
          [
           -1
          ],
          [
           1
          ],
          [
           1
          ],
          [
           1
          ],
          [
           1
          ],
          [
           1
          ],
          [
           1
          ],
          [
           -1
          ],
          [
           -1
          ],
          [
           -1
          ],
          [
           -1
          ],
          [
           1
          ],
          [
           1
          ],
          [
           1
          ],
          [
           1
          ],
          [
           1
          ],
          [
           -1
          ],
          [
           1
          ],
          [
           1
          ],
          [
           1
          ],
          [
           -1
          ],
          [
           1
          ],
          [
           1
          ],
          [
           1
          ],
          [
           1
          ],
          [
           1
          ],
          [
           -1
          ],
          [
           -1
          ],
          [
           1
          ],
          [
           1
          ],
          [
           1
          ],
          [
           -1
          ],
          [
           1
          ],
          [
           -1
          ],
          [
           -1
          ],
          [
           -1
          ],
          [
           1
          ],
          [
           1
          ],
          [
           -1
          ],
          [
           -1
          ],
          [
           1
          ],
          [
           -1
          ],
          [
           -1
          ],
          [
           1
          ],
          [
           -1
          ],
          [
           -1
          ],
          [
           -1
          ],
          [
           -1
          ],
          [
           1
          ],
          [
           -1
          ],
          [
           -1
          ],
          [
           -1
          ],
          [
           -1
          ],
          [
           -1
          ],
          [
           -1
          ],
          [
           -1
          ],
          [
           1
          ],
          [
           -1
          ],
          [
           -1
          ],
          [
           -1
          ],
          [
           -1
          ],
          [
           -1
          ],
          [
           -1
          ],
          [
           1
          ],
          [
           -1
          ],
          [
           -1
          ],
          [
           1
          ],
          [
           1
          ],
          [
           1
          ],
          [
           -1
          ],
          [
           -1
          ],
          [
           -1
          ],
          [
           -1
          ],
          [
           1
          ],
          [
           1
          ],
          [
           -1
          ],
          [
           1
          ],
          [
           1
          ],
          [
           -1
          ],
          [
           -1
          ],
          [
           -1
          ],
          [
           -1
          ],
          [
           -1
          ],
          [
           -1
          ],
          [
           1
          ],
          [
           -1
          ],
          [
           1
          ],
          [
           1
          ],
          [
           1
          ],
          [
           1
          ],
          [
           -1
          ],
          [
           -1
          ],
          [
           -1
          ],
          [
           1
          ],
          [
           1
          ],
          [
           -1
          ],
          [
           1
          ],
          [
           -1
          ],
          [
           -1
          ],
          [
           1
          ],
          [
           1
          ],
          [
           -1
          ],
          [
           -1
          ],
          [
           -1
          ],
          [
           1
          ],
          [
           -1
          ],
          [
           -1
          ],
          [
           -1
          ],
          [
           1
          ],
          [
           -1
          ],
          [
           -1
          ],
          [
           -1
          ],
          [
           -1
          ],
          [
           1
          ],
          [
           -1
          ],
          [
           1
          ],
          [
           1
          ],
          [
           -1
          ],
          [
           1
          ],
          [
           1
          ],
          [
           -1
          ],
          [
           1
          ],
          [
           -1
          ],
          [
           -1
          ],
          [
           1
          ],
          [
           1
          ],
          [
           -1
          ],
          [
           1
          ],
          [
           -1
          ],
          [
           -1
          ],
          [
           -1
          ],
          [
           -1
          ],
          [
           1
          ],
          [
           1
          ],
          [
           1
          ],
          [
           -1
          ],
          [
           -1
          ],
          [
           1
          ],
          [
           -1
          ],
          [
           -1
          ],
          [
           -1
          ],
          [
           -1
          ],
          [
           1
          ],
          [
           1
          ],
          [
           1
          ],
          [
           -1
          ],
          [
           1
          ],
          [
           1
          ],
          [
           1
          ],
          [
           -1
          ],
          [
           1
          ],
          [
           -1
          ],
          [
           -1
          ],
          [
           -1
          ],
          [
           1
          ],
          [
           1
          ],
          [
           1
          ],
          [
           -1
          ],
          [
           1
          ],
          [
           -1
          ],
          [
           -1
          ],
          [
           1
          ],
          [
           -1
          ],
          [
           -1
          ],
          [
           1
          ],
          [
           -1
          ],
          [
           -1
          ],
          [
           1
          ],
          [
           -1
          ],
          [
           -1
          ],
          [
           -1
          ],
          [
           -1
          ],
          [
           1
          ],
          [
           -1
          ],
          [
           -1
          ],
          [
           -1
          ],
          [
           -1
          ],
          [
           -1
          ],
          [
           1
          ],
          [
           -1
          ],
          [
           1
          ],
          [
           -1
          ],
          [
           -1
          ],
          [
           1
          ],
          [
           -1
          ],
          [
           -1
          ],
          [
           -1
          ],
          [
           1
          ],
          [
           -1
          ],
          [
           1
          ],
          [
           -1
          ],
          [
           1
          ],
          [
           -1
          ],
          [
           1
          ],
          [
           -1
          ],
          [
           -1
          ],
          [
           1
          ],
          [
           1
          ],
          [
           1
          ],
          [
           1
          ],
          [
           1
          ],
          [
           -1
          ],
          [
           -1
          ],
          [
           -1
          ],
          [
           1
          ],
          [
           -1
          ],
          [
           1
          ],
          [
           1
          ],
          [
           1
          ],
          [
           1
          ],
          [
           -1
          ],
          [
           -1
          ],
          [
           -1
          ],
          [
           1
          ],
          [
           1
          ],
          [
           1
          ],
          [
           1
          ],
          [
           -1
          ],
          [
           1
          ],
          [
           -1
          ],
          [
           1
          ],
          [
           -1
          ],
          [
           1
          ],
          [
           -1
          ],
          [
           1
          ],
          [
           1
          ],
          [
           -1
          ],
          [
           1
          ],
          [
           1
          ],
          [
           1
          ],
          [
           -1
          ],
          [
           1
          ],
          [
           1
          ],
          [
           1
          ],
          [
           1
          ],
          [
           1
          ],
          [
           1
          ],
          [
           1
          ],
          [
           1
          ],
          [
           1
          ],
          [
           1
          ],
          [
           -1
          ],
          [
           -1
          ],
          [
           1
          ],
          [
           1
          ],
          [
           1
          ],
          [
           1
          ],
          [
           1
          ],
          [
           1
          ],
          [
           1
          ],
          [
           -1
          ],
          [
           -1
          ],
          [
           1
          ],
          [
           1
          ],
          [
           -1
          ],
          [
           1
          ],
          [
           1
          ],
          [
           1
          ],
          [
           1
          ],
          [
           1
          ],
          [
           1
          ],
          [
           -1
          ],
          [
           -1
          ],
          [
           1
          ],
          [
           -1
          ],
          [
           1
          ],
          [
           1
          ],
          [
           -1
          ],
          [
           -1
          ],
          [
           -1
          ],
          [
           -1
          ],
          [
           -1
          ],
          [
           1
          ],
          [
           1
          ],
          [
           1
          ],
          [
           1
          ],
          [
           1
          ],
          [
           -1
          ],
          [
           -1
          ],
          [
           -1
          ],
          [
           -1
          ],
          [
           1
          ],
          [
           1
          ],
          [
           -1
          ],
          [
           1
          ],
          [
           1
          ],
          [
           -1
          ],
          [
           -1
          ],
          [
           -1
          ],
          [
           -1
          ],
          [
           1
          ],
          [
           -1
          ],
          [
           1
          ],
          [
           1
          ],
          [
           1
          ],
          [
           1
          ],
          [
           -1
          ],
          [
           1
          ],
          [
           1
          ],
          [
           -1
          ],
          [
           -1
          ],
          [
           1
          ],
          [
           -1
          ],
          [
           1
          ],
          [
           1
          ],
          [
           -1
          ],
          [
           1
          ],
          [
           1
          ],
          [
           1
          ],
          [
           1
          ],
          [
           1
          ],
          [
           1
          ],
          [
           1
          ],
          [
           1
          ],
          [
           1
          ],
          [
           1
          ],
          [
           -1
          ],
          [
           1
          ],
          [
           -1
          ],
          [
           1
          ],
          [
           1
          ],
          [
           1
          ],
          [
           1
          ],
          [
           1
          ],
          [
           1
          ],
          [
           1
          ],
          [
           1
          ],
          [
           1
          ],
          [
           1
          ],
          [
           1
          ],
          [
           1
          ],
          [
           1
          ],
          [
           -1
          ],
          [
           -1
          ],
          [
           -1
          ],
          [
           1
          ],
          [
           -1
          ],
          [
           -1
          ],
          [
           -1
          ],
          [
           -1
          ],
          [
           1
          ],
          [
           1
          ],
          [
           1
          ],
          [
           1
          ],
          [
           -1
          ],
          [
           1
          ],
          [
           -1
          ],
          [
           -1
          ],
          [
           -1
          ],
          [
           -1
          ],
          [
           1
          ],
          [
           -1
          ],
          [
           1
          ],
          [
           -1
          ],
          [
           -1
          ],
          [
           -1
          ],
          [
           1
          ],
          [
           1
          ],
          [
           -1
          ],
          [
           1
          ],
          [
           1
          ],
          [
           1
          ],
          [
           1
          ],
          [
           -1
          ],
          [
           -1
          ],
          [
           -1
          ],
          [
           1
          ],
          [
           -1
          ],
          [
           1
          ],
          [
           1
          ],
          [
           1
          ],
          [
           -1
          ],
          [
           1
          ],
          [
           -1
          ],
          [
           -1
          ],
          [
           -1
          ],
          [
           1
          ],
          [
           -1
          ],
          [
           -1
          ],
          [
           1
          ],
          [
           -1
          ],
          [
           1
          ],
          [
           -1
          ],
          [
           1
          ],
          [
           -1
          ],
          [
           -1
          ],
          [
           -1
          ],
          [
           -1
          ],
          [
           1
          ],
          [
           1
          ],
          [
           -1
          ],
          [
           -1
          ],
          [
           -1
          ],
          [
           -1
          ],
          [
           -1
          ],
          [
           1
          ],
          [
           -1
          ],
          [
           -1
          ],
          [
           1
          ],
          [
           -1
          ],
          [
           1
          ],
          [
           1
          ],
          [
           1
          ],
          [
           -1
          ],
          [
           1
          ],
          [
           -1
          ],
          [
           -1
          ],
          [
           -1
          ],
          [
           1
          ],
          [
           -1
          ],
          [
           1
          ],
          [
           1
          ],
          [
           1
          ],
          [
           -1
          ],
          [
           1
          ],
          [
           1
          ],
          [
           1
          ],
          [
           1
          ],
          [
           1
          ],
          [
           -1
          ],
          [
           1
          ],
          [
           -1
          ],
          [
           1
          ],
          [
           -1
          ],
          [
           -1
          ],
          [
           1
          ],
          [
           1
          ],
          [
           -1
          ],
          [
           -1
          ],
          [
           -1
          ],
          [
           1
          ],
          [
           1
          ],
          [
           -1
          ],
          [
           -1
          ],
          [
           -1
          ],
          [
           1
          ],
          [
           1
          ],
          [
           -1
          ],
          [
           -1
          ],
          [
           1
          ],
          [
           -1
          ],
          [
           1
          ],
          [
           1
          ],
          [
           -1
          ],
          [
           -1
          ],
          [
           1
          ],
          [
           -1
          ],
          [
           -1
          ],
          [
           1
          ],
          [
           -1
          ],
          [
           -1
          ],
          [
           1
          ],
          [
           -1
          ],
          [
           1
          ],
          [
           1
          ],
          [
           -1
          ],
          [
           -1
          ],
          [
           -1
          ],
          [
           -1
          ],
          [
           -1
          ],
          [
           -1
          ],
          [
           -1
          ],
          [
           -1
          ],
          [
           -1
          ],
          [
           -1
          ],
          [
           1
          ],
          [
           -1
          ],
          [
           -1
          ],
          [
           1
          ],
          [
           1
          ],
          [
           1
          ],
          [
           -1
          ],
          [
           -1
          ],
          [
           -1
          ],
          [
           1
          ],
          [
           1
          ],
          [
           1
          ],
          [
           1
          ],
          [
           1
          ],
          [
           -1
          ],
          [
           1
          ],
          [
           1
          ],
          [
           -1
          ],
          [
           -1
          ],
          [
           1
          ],
          [
           1
          ],
          [
           1
          ],
          [
           -1
          ],
          [
           1
          ],
          [
           -1
          ],
          [
           -1
          ],
          [
           -1
          ],
          [
           -1
          ],
          [
           -1
          ],
          [
           1
          ],
          [
           1
          ],
          [
           1
          ],
          [
           1
          ],
          [
           1
          ],
          [
           1
          ],
          [
           -1
          ],
          [
           1
          ],
          [
           1
          ],
          [
           -1
          ],
          [
           -1
          ],
          [
           1
          ],
          [
           1
          ],
          [
           -1
          ],
          [
           -1
          ],
          [
           1
          ],
          [
           -1
          ],
          [
           1
          ],
          [
           1
          ],
          [
           -1
          ],
          [
           1
          ],
          [
           1
          ],
          [
           -1
          ],
          [
           1
          ],
          [
           -1
          ],
          [
           -1
          ],
          [
           1
          ],
          [
           1
          ],
          [
           -1
          ],
          [
           1
          ],
          [
           -1
          ],
          [
           1
          ],
          [
           -1
          ],
          [
           1
          ],
          [
           1
          ],
          [
           -1
          ],
          [
           -1
          ],
          [
           -1
          ],
          [
           -1
          ],
          [
           -1
          ],
          [
           -1
          ],
          [
           1
          ],
          [
           1
          ],
          [
           1
          ],
          [
           1
          ],
          [
           1
          ],
          [
           -1
          ],
          [
           -1
          ],
          [
           1
          ],
          [
           1
          ],
          [
           1
          ],
          [
           -1
          ],
          [
           1
          ],
          [
           1
          ],
          [
           1
          ],
          [
           -1
          ],
          [
           -1
          ],
          [
           -1
          ],
          [
           1
          ],
          [
           1
          ],
          [
           -1
          ],
          [
           -1
          ],
          [
           -1
          ],
          [
           1
          ],
          [
           1
          ],
          [
           1
          ],
          [
           1
          ],
          [
           -1
          ],
          [
           1
          ],
          [
           1
          ],
          [
           1
          ],
          [
           1
          ],
          [
           1
          ],
          [
           1
          ],
          [
           1
          ],
          [
           1
          ],
          [
           -1
          ],
          [
           -1
          ],
          [
           1
          ],
          [
           -1
          ],
          [
           -1
          ],
          [
           1
          ],
          [
           -1
          ],
          [
           -1
          ],
          [
           1
          ],
          [
           1
          ],
          [
           -1
          ],
          [
           1
          ],
          [
           1
          ],
          [
           1
          ],
          [
           1
          ],
          [
           -1
          ],
          [
           1
          ],
          [
           -1
          ],
          [
           1
          ],
          [
           1
          ],
          [
           -1
          ],
          [
           -1
          ],
          [
           1
          ],
          [
           1
          ],
          [
           0.6857334859974624
          ],
          [
           -0.9527522190195067
          ],
          [
           -0.9484224139076719
          ],
          [
           -0.3941401229400529
          ],
          [
           1
          ],
          [
           0.5900698637082894
          ],
          [
           -1
          ],
          [
           1
          ],
          [
           -0.20191376058309232
          ],
          [
           -0.8240883734037528
          ],
          [
           -0.13813472895143847
          ],
          [
           1
          ],
          [
           -0.5791255033196202
          ],
          [
           1
          ],
          [
           1
          ],
          [
           1
          ],
          [
           -1
          ],
          [
           1
          ],
          [
           -1
          ],
          [
           1
          ],
          [
           -1
          ],
          [
           -0.08238294712138554
          ],
          [
           0.9160635857843529
          ],
          [
           -0.8389979847348918
          ],
          [
           -0.3473467537104452
          ],
          [
           1
          ],
          [
           -1
          ],
          [
           -1
          ],
          [
           -1
          ],
          [
           -1
          ],
          [
           1
          ],
          [
           -0.3844764363724855
          ],
          [
           0.6245082258371731
          ],
          [
           1
          ],
          [
           1
          ],
          [
           1
          ],
          [
           1
          ],
          [
           -0.5096290246867484
          ],
          [
           -1
          ],
          [
           -0.8329600194289815
          ],
          [
           -0.777459774028322
          ],
          [
           0.9979468048963988
          ],
          [
           0.5407418090328439
          ],
          [
           0.5506189107116669
          ],
          [
           1
          ],
          [
           0.9468484140589404
          ],
          [
           0.9644868964377505
          ],
          [
           1
          ],
          [
           -1
          ],
          [
           1
          ],
          [
           0.6667733067887714
          ],
          [
           1
          ],
          [
           1
          ],
          [
           1
          ],
          [
           1
          ],
          [
           1
          ],
          [
           -1
          ],
          [
           -0.3226072303367121
          ],
          [
           1
          ],
          [
           -1
          ],
          [
           1
          ],
          [
           0.9977208701509319
          ],
          [
           0.9994276629843004
          ],
          [
           1
          ],
          [
           1
          ],
          [
           -1
          ],
          [
           0.8178116309307911
          ],
          [
           -0.9867989190284738
          ],
          [
           -1
          ],
          [
           -0.2035585041260953
          ],
          [
           0.8392259701415807
          ],
          [
           0.837275823666103
          ],
          [
           0.2637968839524741
          ]
         ],
         "domain": {
          "x": [
           0,
           1
          ],
          "y": [
           0,
           1
          ]
         },
         "hovertemplate": "labels=%{label}<br>abs_cumul_net_dollar_flow=%{value}<br>parent=%{parent}<br>id=%{id}<br>flow_direction=%{color}<extra></extra>",
         "ids": [
          "all/Solana/01",
          "all/Fantom/88mph",
          "all/Polygon/88mph",
          "all/staking/88mph",
          "all/Avalanche/aave-v2",
          "all/Polygon/aave-v2",
          "all/pool2/aave-v2",
          "all/staking/aave-v2",
          "all/Arbitrum/aave-v3",
          "all/Avalanche/aave-v3",
          "all/Fantom/aave-v3",
          "all/Harmony/aave-v3",
          "all/Optimism/aave-v3",
          "all/Polygon/aave-v3",
          "all/Polygon/aavegotchi",
          "all/pool2/aavegotchi",
          "all/staking/aavegotchi",
          "all/Acala/acala-dollar",
          "all/Acala/acala-lcdot",
          "all/Acala/acala-liquid-staking",
          "all/Acala/acala-swap",
          "all/Astar/acryptos",
          "all/Avalanche/acryptos",
          "all/Binance/acryptos",
          "all/Cronos/acryptos",
          "all/Fantom/acryptos",
          "all/Harmony/acryptos",
          "all/Moonbeam/acryptos",
          "all/Moonriver/acryptos",
          "all/xDai/acryptos",
          "all/Fantom/alchemix",
          "all/staking/alchemix",
          "all/Solana/aldrin",
          "all/Algorand/algofi",
          "all/staking/algofi",
          "all/Avalanche/allbridge",
          "all/Binance/allbridge",
          "all/Celo/allbridge",
          "all/Fantom/allbridge",
          "all/Heco/allbridge",
          "all/Near/allbridge",
          "all/Polygon/allbridge",
          "all/Solana/allbridge",
          "all/Terra/allbridge",
          "all/staking/allbridge",
          "all/Binance/alpaca-finance",
          "all/Fantom/alpaca-finance",
          "all/staking/alpaca-finance",
          "all/Arbitrum/angle",
          "all/Optimism/angle",
          "all/Polygon/angle",
          "all/staking/angle",
          "all/Avalanche/ankr",
          "all/Binance/ankr",
          "all/Fantom/ankr",
          "all/Kusama/ankr",
          "all/Polkadot/ankr",
          "all/Binance/apeswap-amm",
          "all/Polygon/apeswap-amm",
          "all/staking/apeswap-amm",
          "all/Binance/apeswap-lending",
          "all/Binance/apollox",
          "all/pool2/apollox",
          "all/staking/apollox",
          "all/Optimism/arrakis-finance",
          "all/Polygon/arrakis-finance",
          "all/Astar/arthswap",
          "all/staking/arthswap",
          "all/Terra/astroport",
          "all/Terra2/astroport",
          "all/Aurora/aurigami",
          "all/Arbitrum/b.protocol",
          "all/Fantom/b.protocol",
          "all/Polygon/b.protocol",
          "all/Binance/babyswap",
          "all/staking/babyswap",
          "all/Arbitrum/balancer",
          "all/Polygon/balancer",
          "all/Aurora/bastion",
          "all/Arbitrum/beefy",
          "all/Aurora/beefy",
          "all/Avalanche/beefy",
          "all/Binance/beefy",
          "all/Celo/beefy",
          "all/Cronos/beefy",
          "all/Fantom/beefy",
          "all/Fuse/beefy",
          "all/Harmony/beefy",
          "all/Heco/beefy",
          "all/Metis/beefy",
          "all/Moonbeam/beefy",
          "all/Moonriver/beefy",
          "all/Oasis/beefy",
          "all/Optimism/beefy",
          "all/Polygon/beefy",
          "all/staking/beefy",
          "all/Fantom/beethoven-x",
          "all/Optimism/beethoven-x",
          "all/pool2/bella-protocol",
          "all/Binance/belt-finance",
          "all/Heco/belt-finance",
          "all/Klaytn/belt-finance",
          "all/staking/belt-finance",
          "all/Avalanche/benqi-lending",
          "all/pool2/benqi-lending",
          "all/Avalanche/benqi-staked-avax",
          "all/Avalanche/beta-finance",
          "all/Avalanche/bifi",
          "all/Binance/bifi",
          "all/Klaytn/bifi",
          "all/staking/bifi",
          "all/Bifrost/bifrost",
          "all/Binance/biswap",
          "all/staking/biswap",
          "all/Binance/bunny",
          "all/Polygon/bunny",
          "all/Near/burrow",
          "all/Arbitrum/cbridge",
          "all/Aurora/cbridge",
          "all/Avalanche/cbridge",
          "all/Binance/cbridge",
          "all/Boba/cbridge",
          "all/Fantom/cbridge",
          "all/Harmony/cbridge",
          "all/Metis/cbridge",
          "all/Moonriver/cbridge",
          "all/Optimism/cbridge",
          "all/Polygon/cbridge",
          "all/Shiden/cbridge",
          "all/Binance/chainport",
          "all/Klaytn/claimswap",
          "all/staking/claimswap",
          "all/Moonbeam/clipper",
          "all/Optimism/clipper",
          "all/Polygon/clipper",
          "all/Binance/coinwind",
          "all/Heco/coinwind",
          "all/pool2/coinwind",
          "all/staking/coinwind",
          "all/Arbitrum/connext",
          "all/Avalanche/connext",
          "all/Binance/connext",
          "all/Boba/connext",
          "all/Cronos/connext",
          "all/Evmos/connext",
          "all/Fantom/connext",
          "all/Fuse/connext",
          "all/Milkomeda/connext",
          "all/Moonbeam/connext",
          "all/Moonriver/connext",
          "all/Optimism/connext",
          "all/Polygon/connext",
          "all/xDai/connext",
          "all/staking/convex-finance",
          "all/Arbitrum/cream-finance",
          "all/Binance/cream-finance",
          "all/Polygon/cream-finance",
          "all/DFK/crystalvale",
          "all/staking/crystalvale",
          "all/Arbitrum/curve",
          "all/Aurora/curve",
          "all/Avalanche/curve",
          "all/Fantom/curve",
          "all/Moonbeam/curve",
          "all/Optimism/curve",
          "all/Polygon/curve",
          "all/staking/curve",
          "all/xDai/curve",
          "all/Binance/deeplock",
          "all/pool2/deeplock",
          "all/Harmony/defi-kingdoms",
          "all/staking/defi-kingdoms",
          "all/Wax/defibox",
          "all/Avalanche/defrost",
          "all/staking/defrost",
          "all/Arbitrum/dforce",
          "all/Binance/dforce",
          "all/Optimism/dforce",
          "all/Polygon/dforce",
          "all/staking/dforce",
          "all/Polygon/dfx-finance",
          "all/Fantom/dfyn-network",
          "all/OKExChain/dfyn-network",
          "all/Polygon/dfyn-network",
          "all/staking/dhedge",
          "all/Arbitrum/dodo",
          "all/Aurora/dodo",
          "all/Binance/dodo",
          "all/Polygon/dodo",
          "all/Arbitrum/dopex",
          "all/Binance/dopex",
          "all/pool2/dopex",
          "all/staking/dopex",
          "all/Binance/dot-dot-finance",
          "all/staking/dot-dot-finance",
          "all/Avalanche/dxsale",
          "all/Binance/dxsale",
          "all/Celo/dxsale",
          "all/Cronos/dxsale",
          "all/Fantom/dxsale",
          "all/Harmony/dxsale",
          "all/Heco/dxsale",
          "all/Milkomeda/dxsale",
          "all/OKExChain/dxsale",
          "all/Polygon/dxsale",
          "all/Polygon/dystopia",
          "all/Avalanche/echidna-finance",
          "all/pool2/echidna-finance",
          "all/staking/echidna-finance",
          "all/Binance/ellipsis-finance",
          "all/staking/ellipsis-finance",
          "all/EOS/eos-rex",
          "all/Fantom/fantohm",
          "all/Moonriver/fantohm",
          "all/staking/fantohm",
          "all/Cronos/ferro",
          "all/Arbitrum/filda",
          "all/Binance/filda",
          "all/Elastos/filda",
          "all/Heco/filda",
          "all/IoTeX/filda",
          "all/Polygon/filda",
          "all/REI/filda",
          "all/NEO/flamingo-finance",
          "all/Songbird/flrfarm",
          "all/pool2/flrfarm",
          "all/staking/flrfarm",
          "all/Algorand/folks-finance",
          "all/Ethereum-treasury/frax",
          "all/Fantom/frax",
          "all/pool2/frax",
          "all/staking/frax",
          "all/Solana/friktion",
          "all/Polygon/gains-network",
          "all/pool2/gains-network",
          "all/Fantom/geist-finance",
          "all/pool2/geist-finance",
          "all/staking/geist-finance",
          "all/Arbitrum/gmx",
          "all/Avalanche/gmx",
          "all/staking/gmx",
          "all/Avalanche/gro",
          "all/pool2/gro",
          "all/staking/gro",
          "all/Binance/guard(helmet)",
          "all/Polygon/guard(helmet)",
          "all/Binance/harvest-finance",
          "all/Polygon/harvest-finance",
          "all/Arbitrum/hashflow",
          "all/Avalanche/hashflow",
          "all/Binance/hashflow",
          "all/Polygon/hashflow",
          "all/Binance/hector-network",
          "all/Fantom/hector-network",
          "all/staking/hector-network",
          "all/Avalanche/homora",
          "all/Binance/homora",
          "all/Fantom/homora",
          "all/Arbitrum/hop-protocol",
          "all/Optimism/hop-protocol",
          "all/Polygon/hop-protocol",
          "all/xDai/hop-protocol",
          "all/Solana/hubble",
          "all/staking/hubble",
          "all/Arbitrum/hundred-finance",
          "all/Fantom/hundred-finance",
          "all/Harmony/hundred-finance",
          "all/Moonriver/hundred-finance",
          "all/Optimism/hundred-finance",
          "all/Polygon/hundred-finance",
          "all/Polygon/idex",
          "all/Polygon/idle-finance",
          "all/Avalanche/insurace",
          "all/Binance/insurace",
          "all/Polygon/insurace",
          "all/Avalanche/iron-bank",
          "all/Fantom/iron-bank",
          "all/Binance/iziswap",
          "all/Arbitrum/izumi-finance",
          "all/Polygon/izumi-finance",
          "all/pool2/izumi-finance",
          "all/staking/izumi-finance",
          "all/Solana/jpool",
          "all/Tron/justlend",
          "all/Tron/juststables",
          "all/Kardia/kaidex",
          "all/Karura/karura-dollar-(kusd)",
          "all/Karura/karura-liquid-staking",
          "all/Solana/katana",
          "all/Ronin/katana-dex",
          "all/Kava/kava-lend",
          "all/Kava/kava-mint",
          "all/Kava/kava-swap",
          "all/staking/keep-network",
          "all/staking/keep3r-network",
          "all/Klaytn/klap",
          "all/Klaytn/klayswap",
          "all/staking/klayswap",
          "all/Polygon/klima-dao",
          "all/staking/klima-dao",
          "all/Binance/knightswap-finance",
          "all/Fantom/knightswap-finance",
          "all/staking/knightswap-finance",
          "all/Klaytn/kokoa-finance",
          "all/pool2/kokoa-finance",
          "all/staking/kokoa-finance",
          "all/Klaytn/kokonut-swap",
          "all/staking/kokonut-swap",
          "all/Arbitrum/kyberswap",
          "all/Avalanche/kyberswap",
          "all/Binance/kyberswap",
          "all/Cronos/kyberswap",
          "all/Fantom/kyberswap",
          "all/Oasis/kyberswap",
          "all/Optimism/kyberswap",
          "all/Polygon/kyberswap",
          "all/Solana/larix",
          "all/Moonbeam/lido",
          "all/Moonriver/lido",
          "all/Solana/lido",
          "all/Terra/lido",
          "all/Bitcoin/lightning-network",
          "all/Near/linear-protocol",
          "all/Binance/liqee",
          "all/Fantom/liquid-driver",
          "all/staking/liquid-driver",
          "all/Algorand/lofty",
          "all/Optimism/lyra",
          "all/staking/lyra",
          "all/Elrond/maiar-exchange",
          "all/staking/maiar-exchange",
          "all/Solana/mango-markets",
          "all/Solana/maple",
          "all/staking/maple",
          "all/Solana/marinade-finance",
          "all/Celo/mento",
          "all/Solana/mercurial-finance",
          "all/Polygon/meshswap",
          "all/staking/meshswap",
          "all/Near/meta-pool",
          "all/IoTeX/mimo",
          "all/Fantom/mimo-defi",
          "all/Polygon/mimo-defi",
          "all/Cardano/minswap",
          "all/Cronos/mm-finance",
          "all/staking/mm-finance",
          "all/Cronos/mm-optimizer",
          "all/staking/mm-optimizer",
          "all/Kucoin/mojitoswap",
          "all/staking/mojitoswap",
          "all/RSK/moneyonchain",
          "all/Celo/moola-market",
          "all/Moonriver/moonwell-apollo",
          "all/staking/moonwell-apollo",
          "all/Moonbeam/moonwell-artemis",
          "all/staking/moonwell-artemis",
          "all/Polygon/mstable",
          "all/NEO/neoburger",
          "all/Avalanche/nereus-finance",
          "all/Metis/netswap",
          "all/Waves/neutrino",
          "all/Binance/nomiswap",
          "all/staking/nomiswap",
          "all/Avalanche/octus-bridge",
          "all/Binance/octus-bridge",
          "all/Everscale/octus-bridge",
          "all/Polygon/octus-bridge",
          "all/staking/olympus-dao",
          "all/Avalanche/onx-finance",
          "all/Fantom/onx-finance",
          "all/Polygon/onx-finance",
          "all/pool2/onx-finance",
          "all/staking/onx-finance",
          "all/Arbitrum/ooki",
          "all/Binance/ooki",
          "all/Optimism/ooki",
          "all/Polygon/ooki",
          "all/Avalanche/opyn",
          "all/Polygon/opyn",
          "all/Binance/orion-protocol",
          "all/Osmosis/osmosis",
          "all/Boba/outcome-finance",
          "all/Polygon/outcome-finance",
          "all/Binance/pancakeswap",
          "all/staking/pancakeswap",
          "all/Avalanche/pangolin",
          "all/Solana/parrot-protocol",
          "all/Polygon/penrose",
          "all/staking/penrose",
          "all/Optimism/perpetual-protocol",
          "all/staking/perpetual-protocol",
          "all/Arbitrum/pickle",
          "all/Aurora/pickle",
          "all/Cronos/pickle",
          "all/Metis/pickle",
          "all/Moonbeam/pickle",
          "all/Moonriver/pickle",
          "all/OKExChain/pickle",
          "all/Optimism/pickle",
          "all/Polygon/pickle",
          "all/pool2/pickle",
          "all/staking/pickle",
          "all/Avalanche/pinksale",
          "all/Binance/pinksale",
          "all/Cronos/pinksale",
          "all/Fantom/pinksale",
          "all/Polygon/pinksale",
          "all/Binance/planet",
          "all/staking/planet",
          "all/Avalanche/platypus-finance",
          "all/staking/platypus-finance",
          "all/Binance/pnetwork",
          "all/Bitcoin/pnetwork",
          "all/Doge/pnetwork",
          "all/EOS/pnetwork",
          "all/Fantom/pnetwork",
          "all/LBRY/pnetwork",
          "all/Litecoin/pnetwork",
          "all/ORE/pnetwork",
          "all/Ravencoin/pnetwork",
          "all/Telos/pnetwork",
          "all/Polygon/polygon-bridge-&-staking",
          "all/Avalanche/pooltogether",
          "all/Binance/pooltogether",
          "all/Celo/pooltogether",
          "all/Optimism/pooltogether",
          "all/Polygon/pooltogether",
          "all/Solana/port-finance",
          "all/Binance/position-exchange",
          "all/Binance-treasury/position-exchange",
          "all/staking/position-exchange",
          "all/Proton/proton-loan",
          "all/staking/proton-loan",
          "all/pool2/pstake",
          "all/Hoo/puddingswap",
          "all/Arbitrum/qidao",
          "all/Avalanche/qidao",
          "all/Binance/qidao",
          "all/Fantom/qidao",
          "all/Harmony/qidao",
          "all/Metis/qidao",
          "all/Moonriver/qidao",
          "all/Optimism/qidao",
          "all/Polygon/qidao",
          "all/xDai/qidao",
          "all/Solana/quarry",
          "all/Polygon/quickswap",
          "all/Arbitrum/radiant",
          "all/pool2/radiant",
          "all/staking/radiant",
          "all/Avalanche/radioshack",
          "all/Binance/radioshack",
          "all/Polygon/radioshack",
          "all/staking/radioshack",
          "all/Arbitrum/rari-capital",
          "all/pool2/rari-capital",
          "all/xDai/realt",
          "all/Fantom/reaper-farm",
          "all/Optimism/reaper-farm",
          "all/Near/ref-finance",
          "all/Arbitrum/renvm",
          "all/Avalanche/renvm",
          "all/Binance/renvm",
          "all/Fantom/renvm",
          "all/Polygon/renvm",
          "all/Solana/renvm",
          "all/Telos/rex-staking",
          "all/Avalanche/ribbon-finance",
          "all/Solana/ribbon-finance",
          "all/staking/ribbon-finance",
          "all/Arbitrum/risk-harbor",
          "all/Aurora/risk-harbor",
          "all/Avalanche/risk-harbor",
          "all/Fantom/risk-harbor",
          "all/Solana/saber",
          "all/Arbitrum/saddle-finance",
          "all/Evmos/saddle-finance",
          "all/Fantom/saddle-finance",
          "all/Kava/saddle-finance",
          "all/Optimism/saddle-finance",
          "all/Binance/sashimiswap",
          "all/Heco/sashimiswap",
          "all/staking/sashimiswap",
          "all/pool2/sharedstake",
          "all/Icon/sicx",
          "all/Cronos/single-finance",
          "all/Fantom/single-finance",
          "all/pool2/single-finance",
          "all/staking/single-finance",
          "all/Moonriver/solarbeam",
          "all/Solana/solend",
          "all/Binance/solo-top",
          "all/Heco/solo-top",
          "all/OKExChain/solo-top",
          "all/Polygon/solo-top",
          "all/Binance/solv-protocol",
          "all/Polygon/solv-protocol",
          "all/Fantom/spartacus",
          "all/staking/spartacus",
          "all/Fantom/spiritswap",
          "all/staking/spiritswap",
          "all/Fantom/spookyswap",
          "all/staking/spool-protocol",
          "all/Stacks/stacks-staking",
          "all/Binance/stader",
          "all/Fantom/stader",
          "all/Hedera/stader",
          "all/Near/stader",
          "all/Polygon/stader",
          "all/Terra/stader",
          "all/Terra2/stader",
          "all/Binance/stafi",
          "all/Cosmos/stafi",
          "all/Polygon/stafi",
          "all/Solana/stafi",
          "all/Stafi/stafi",
          "all/staking/stafi",
          "all/Avalanche/stakedao",
          "all/Harmony/stakedao",
          "all/Polygon/stakedao",
          "all/staking/stakedao",
          "all/xDai/stakewise",
          "all/Arbitrum/stargate",
          "all/Avalanche/stargate",
          "all/Binance/stargate",
          "all/Fantom/stargate",
          "all/Optimism/stargate",
          "all/Polygon/stargate",
          "all/Astar/starlay-finance",
          "all/staking/starlay-finance",
          "all/Moonbeam/stellaswap",
          "all/staking/stellaswap",
          "all/Fantom/sturdy",
          "all/Tron/sun.io",
          "all/pool2/sun.io",
          "all/staking/sun.io",
          "all/Cardano/sundaeswap",
          "all/Solana/sunny",
          "all/Tron/sunswap",
          "all/Polygon/superfluid",
          "all/xDai/superfluid",
          "all/Arbitrum/sushiswap",
          "all/Avalanche/sushiswap",
          "all/Binance/sushiswap",
          "all/Celo/sushiswap",
          "all/Fantom/sushiswap",
          "all/Fuse/sushiswap",
          "all/Harmony/sushiswap",
          "all/Heco/sushiswap",
          "all/Moonriver/sushiswap",
          "all/OKExChain/sushiswap",
          "all/Palm/sushiswap",
          "all/Polygon/sushiswap",
          "all/Telos/sushiswap",
          "all/staking/sushiswap",
          "all/xDai/sushiswap",
          "all/Arbitrum/sushiswap-kashi",
          "all/Binance/sushiswap-kashi",
          "all/Fantom/sushiswap-kashi",
          "all/Arbitrum/swapr",
          "all/xDai/swapr",
          "all/Solana/swim-protocol",
          "all/Arbitrum/synapse",
          "all/Aurora/synapse",
          "all/Avalanche/synapse",
          "all/Binance/synapse",
          "all/Boba/synapse",
          "all/Cronos/synapse",
          "all/Fantom/synapse",
          "all/Harmony/synapse",
          "all/Klaytn/synapse",
          "all/Metis/synapse",
          "all/Moonriver/synapse",
          "all/Optimism/synapse",
          "all/Polygon/synapse",
          "all/pool2/synapse",
          "all/Optimism/synthetix",
          "all/Fantom/tarot",
          "all/Optimism/tarot",
          "all/Avalanche/team-finance",
          "all/Binance/team-finance",
          "all/Polygon/team-finance",
          "all/Cronos/tectonic",
          "all/pool2/temple-dao",
          "all/staking/temple-dao",
          "all/Binance/terra-bridge",
          "all/Harmony/terra-bridge",
          "all/Fantom/tetu",
          "all/Polygon/tetu",
          "all/Tezos/tezos-liquidity-baking",
          "all/Theta/thetacash",
          "all/Aurora/thetanuts-finance",
          "all/Avalanche/thetanuts-finance",
          "all/Binance/thetanuts-finance",
          "all/Boba/thetanuts-finance",
          "all/Fantom/thetanuts-finance",
          "all/Polygon/thetanuts-finance",
          "all/Theta/thetaswap",
          "all/staking/thorchain",
          "all/Algorand/tinyman",
          "all/pool2/tokemak",
          "all/staking/tokemak",
          "all/Binance/tokensfarm",
          "all/Fantom/tokensfarm",
          "all/Polygon/tokensfarm",
          "all/Fantom/tomb-finance",
          "all/pool2/tomb-finance",
          "all/staking/tomb-finance",
          "all/Arbitrum/tornado-cash",
          "all/Avalanche/tornado-cash",
          "all/Binance/tornado-cash",
          "all/Optimism/tornado-cash",
          "all/Polygon/tornado-cash",
          "all/xDai/tornado-cash",
          "all/Polygon/toucan-protocol",
          "all/Avalanche/trader-joe",
          "all/staking/trader-joe",
          "all/Binance/tranchess",
          "all/staking/tranchess",
          "all/Aurora/trisolaris",
          "all/staking/truefi",
          "all/Avalanche/unicrypt",
          "all/Binance/unicrypt",
          "all/Polygon/unicrypt",
          "all/pool2/unicrypt",
          "all/staking/unicrypt",
          "all/Arbitrum/uniswap",
          "all/Celo/uniswap",
          "all/Optimism/uniswap",
          "all/Polygon/uniswap",
          "all/Solana/uxd",
          "all/Binance/valas-finance",
          "all/pool2/valas-finance",
          "all/staking/valas-finance",
          "all/Oasis/valleyswap",
          "all/Avalanche/vector-finance",
          "all/pool2/vector-finance",
          "all/staking/vector-finance",
          "all/Optimism/velodrome",
          "all/Binance/venus",
          "all/Avalanche/vesper",
          "all/Polygon/vesper",
          "all/staking/vesper",
          "all/Arbitrum/vesta-finance",
          "all/pool2/vesta-finance",
          "all/Waves/vires-finance",
          "all/Cronos/vvs-finance",
          "all/Waves/waves-exchange",
          "all/Arbitrum/wepiggy",
          "all/Aurora/wepiggy",
          "all/Binance/wepiggy",
          "all/Harmony/wepiggy",
          "all/Heco/wepiggy",
          "all/Moonbeam/wepiggy",
          "all/Moonriver/wepiggy",
          "all/OKExChain/wepiggy",
          "all/Oasis/wepiggy",
          "all/Optimism/wepiggy",
          "all/Polygon/wepiggy",
          "all/staking/wing-finance",
          "all/Cardano/wingriders",
          "all/Binance/wombat-exchange",
          "all/Binance/wrapped-bnb",
          "all/Astar/xdao",
          "all/Avalanche/xdao",
          "all/Binance/xdao",
          "all/Fantom/xdao",
          "all/Polygon/xdao",
          "all/Arbitrum/yearn-finance",
          "all/Fantom/yearn-finance",
          "all/Avalanche/yeti-finance",
          "all/pool2/yeti-finance",
          "all/staking/yeti-finance",
          "all/Arbitrum/yield-protocol",
          "all/Avalanche/yield-yak",
          "all/pool2/yield-yak",
          "all/staking/yield-yak",
          "all/Binance/yoshi-exchange",
          "all/Fantom/yoshi-exchange",
          "all/Tezos/youves",
          "all/pool2/youves",
          "all/Solana/zeta",
          "all/Acala",
          "all/Algorand",
          "all/Arbitrum",
          "all/Astar",
          "all/Aurora",
          "all/Avalanche",
          "all/Bifrost",
          "all/Binance",
          "all/Binance-treasury",
          "all/Bitcoin",
          "all/Boba",
          "all/Cardano",
          "all/Celo",
          "all/Cosmos",
          "all/Cronos",
          "all/DFK",
          "all/Doge",
          "all/EOS",
          "all/Elastos",
          "all/Elrond",
          "all/Ethereum-treasury",
          "all/Everscale",
          "all/Evmos",
          "all/Fantom",
          "all/Fuse",
          "all/Harmony",
          "all/Heco",
          "all/Hedera",
          "all/Hoo",
          "all/Icon",
          "all/IoTeX",
          "all/Kardia",
          "all/Karura",
          "all/Kava",
          "all/Klaytn",
          "all/Kucoin",
          "all/Kusama",
          "all/LBRY",
          "all/Litecoin",
          "all/Metis",
          "all/Milkomeda",
          "all/Moonbeam",
          "all/Moonriver",
          "all/NEO",
          "all/Near",
          "all/OKExChain",
          "all/ORE",
          "all/Oasis",
          "all/Optimism",
          "all/Osmosis",
          "all/Palm",
          "all/Polkadot",
          "all/Polygon",
          "all/Proton",
          "all/REI",
          "all/RSK",
          "all/Ravencoin",
          "all/Ronin",
          "all/Shiden",
          "all/Solana",
          "all/Songbird",
          "all/Stacks",
          "all/Stafi",
          "all/Telos",
          "all/Terra",
          "all/Terra2",
          "all/Tezos",
          "all/Theta",
          "all/Tron",
          "all/Waves",
          "all/Wax",
          "all/pool2",
          "all/staking",
          "all/xDai",
          "all"
         ],
         "labels": [
          "01",
          "88mph",
          "88mph",
          "88mph",
          "aave-v2",
          "aave-v2",
          "aave-v2",
          "aave-v2",
          "aave-v3",
          "aave-v3",
          "aave-v3",
          "aave-v3",
          "aave-v3",
          "aave-v3",
          "aavegotchi",
          "aavegotchi",
          "aavegotchi",
          "acala-dollar",
          "acala-lcdot",
          "acala-liquid-staking",
          "acala-swap",
          "acryptos",
          "acryptos",
          "acryptos",
          "acryptos",
          "acryptos",
          "acryptos",
          "acryptos",
          "acryptos",
          "acryptos",
          "alchemix",
          "alchemix",
          "aldrin",
          "algofi",
          "algofi",
          "allbridge",
          "allbridge",
          "allbridge",
          "allbridge",
          "allbridge",
          "allbridge",
          "allbridge",
          "allbridge",
          "allbridge",
          "allbridge",
          "alpaca-finance",
          "alpaca-finance",
          "alpaca-finance",
          "angle",
          "angle",
          "angle",
          "angle",
          "ankr",
          "ankr",
          "ankr",
          "ankr",
          "ankr",
          "apeswap-amm",
          "apeswap-amm",
          "apeswap-amm",
          "apeswap-lending",
          "apollox",
          "apollox",
          "apollox",
          "arrakis-finance",
          "arrakis-finance",
          "arthswap",
          "arthswap",
          "astroport",
          "astroport",
          "aurigami",
          "b.protocol",
          "b.protocol",
          "b.protocol",
          "babyswap",
          "babyswap",
          "balancer",
          "balancer",
          "bastion",
          "beefy",
          "beefy",
          "beefy",
          "beefy",
          "beefy",
          "beefy",
          "beefy",
          "beefy",
          "beefy",
          "beefy",
          "beefy",
          "beefy",
          "beefy",
          "beefy",
          "beefy",
          "beefy",
          "beefy",
          "beethoven-x",
          "beethoven-x",
          "bella-protocol",
          "belt-finance",
          "belt-finance",
          "belt-finance",
          "belt-finance",
          "benqi-lending",
          "benqi-lending",
          "benqi-staked-avax",
          "beta-finance",
          "bifi",
          "bifi",
          "bifi",
          "bifi",
          "bifrost",
          "biswap",
          "biswap",
          "bunny",
          "bunny",
          "burrow",
          "cbridge",
          "cbridge",
          "cbridge",
          "cbridge",
          "cbridge",
          "cbridge",
          "cbridge",
          "cbridge",
          "cbridge",
          "cbridge",
          "cbridge",
          "cbridge",
          "chainport",
          "claimswap",
          "claimswap",
          "clipper",
          "clipper",
          "clipper",
          "coinwind",
          "coinwind",
          "coinwind",
          "coinwind",
          "connext",
          "connext",
          "connext",
          "connext",
          "connext",
          "connext",
          "connext",
          "connext",
          "connext",
          "connext",
          "connext",
          "connext",
          "connext",
          "connext",
          "convex-finance",
          "cream-finance",
          "cream-finance",
          "cream-finance",
          "crystalvale",
          "crystalvale",
          "curve",
          "curve",
          "curve",
          "curve",
          "curve",
          "curve",
          "curve",
          "curve",
          "curve",
          "deeplock",
          "deeplock",
          "defi-kingdoms",
          "defi-kingdoms",
          "defibox",
          "defrost",
          "defrost",
          "dforce",
          "dforce",
          "dforce",
          "dforce",
          "dforce",
          "dfx-finance",
          "dfyn-network",
          "dfyn-network",
          "dfyn-network",
          "dhedge",
          "dodo",
          "dodo",
          "dodo",
          "dodo",
          "dopex",
          "dopex",
          "dopex",
          "dopex",
          "dot-dot-finance",
          "dot-dot-finance",
          "dxsale",
          "dxsale",
          "dxsale",
          "dxsale",
          "dxsale",
          "dxsale",
          "dxsale",
          "dxsale",
          "dxsale",
          "dxsale",
          "dystopia",
          "echidna-finance",
          "echidna-finance",
          "echidna-finance",
          "ellipsis-finance",
          "ellipsis-finance",
          "eos-rex",
          "fantohm",
          "fantohm",
          "fantohm",
          "ferro",
          "filda",
          "filda",
          "filda",
          "filda",
          "filda",
          "filda",
          "filda",
          "flamingo-finance",
          "flrfarm",
          "flrfarm",
          "flrfarm",
          "folks-finance",
          "frax",
          "frax",
          "frax",
          "frax",
          "friktion",
          "gains-network",
          "gains-network",
          "geist-finance",
          "geist-finance",
          "geist-finance",
          "gmx",
          "gmx",
          "gmx",
          "gro",
          "gro",
          "gro",
          "guard(helmet)",
          "guard(helmet)",
          "harvest-finance",
          "harvest-finance",
          "hashflow",
          "hashflow",
          "hashflow",
          "hashflow",
          "hector-network",
          "hector-network",
          "hector-network",
          "homora",
          "homora",
          "homora",
          "hop-protocol",
          "hop-protocol",
          "hop-protocol",
          "hop-protocol",
          "hubble",
          "hubble",
          "hundred-finance",
          "hundred-finance",
          "hundred-finance",
          "hundred-finance",
          "hundred-finance",
          "hundred-finance",
          "idex",
          "idle-finance",
          "insurace",
          "insurace",
          "insurace",
          "iron-bank",
          "iron-bank",
          "iziswap",
          "izumi-finance",
          "izumi-finance",
          "izumi-finance",
          "izumi-finance",
          "jpool",
          "justlend",
          "juststables",
          "kaidex",
          "karura-dollar-(kusd)",
          "karura-liquid-staking",
          "katana",
          "katana-dex",
          "kava-lend",
          "kava-mint",
          "kava-swap",
          "keep-network",
          "keep3r-network",
          "klap",
          "klayswap",
          "klayswap",
          "klima-dao",
          "klima-dao",
          "knightswap-finance",
          "knightswap-finance",
          "knightswap-finance",
          "kokoa-finance",
          "kokoa-finance",
          "kokoa-finance",
          "kokonut-swap",
          "kokonut-swap",
          "kyberswap",
          "kyberswap",
          "kyberswap",
          "kyberswap",
          "kyberswap",
          "kyberswap",
          "kyberswap",
          "kyberswap",
          "larix",
          "lido",
          "lido",
          "lido",
          "lido",
          "lightning-network",
          "linear-protocol",
          "liqee",
          "liquid-driver",
          "liquid-driver",
          "lofty",
          "lyra",
          "lyra",
          "maiar-exchange",
          "maiar-exchange",
          "mango-markets",
          "maple",
          "maple",
          "marinade-finance",
          "mento",
          "mercurial-finance",
          "meshswap",
          "meshswap",
          "meta-pool",
          "mimo",
          "mimo-defi",
          "mimo-defi",
          "minswap",
          "mm-finance",
          "mm-finance",
          "mm-optimizer",
          "mm-optimizer",
          "mojitoswap",
          "mojitoswap",
          "moneyonchain",
          "moola-market",
          "moonwell-apollo",
          "moonwell-apollo",
          "moonwell-artemis",
          "moonwell-artemis",
          "mstable",
          "neoburger",
          "nereus-finance",
          "netswap",
          "neutrino",
          "nomiswap",
          "nomiswap",
          "octus-bridge",
          "octus-bridge",
          "octus-bridge",
          "octus-bridge",
          "olympus-dao",
          "onx-finance",
          "onx-finance",
          "onx-finance",
          "onx-finance",
          "onx-finance",
          "ooki",
          "ooki",
          "ooki",
          "ooki",
          "opyn",
          "opyn",
          "orion-protocol",
          "osmosis",
          "outcome-finance",
          "outcome-finance",
          "pancakeswap",
          "pancakeswap",
          "pangolin",
          "parrot-protocol",
          "penrose",
          "penrose",
          "perpetual-protocol",
          "perpetual-protocol",
          "pickle",
          "pickle",
          "pickle",
          "pickle",
          "pickle",
          "pickle",
          "pickle",
          "pickle",
          "pickle",
          "pickle",
          "pickle",
          "pinksale",
          "pinksale",
          "pinksale",
          "pinksale",
          "pinksale",
          "planet",
          "planet",
          "platypus-finance",
          "platypus-finance",
          "pnetwork",
          "pnetwork",
          "pnetwork",
          "pnetwork",
          "pnetwork",
          "pnetwork",
          "pnetwork",
          "pnetwork",
          "pnetwork",
          "pnetwork",
          "polygon-bridge-&-staking",
          "pooltogether",
          "pooltogether",
          "pooltogether",
          "pooltogether",
          "pooltogether",
          "port-finance",
          "position-exchange",
          "position-exchange",
          "position-exchange",
          "proton-loan",
          "proton-loan",
          "pstake",
          "puddingswap",
          "qidao",
          "qidao",
          "qidao",
          "qidao",
          "qidao",
          "qidao",
          "qidao",
          "qidao",
          "qidao",
          "qidao",
          "quarry",
          "quickswap",
          "radiant",
          "radiant",
          "radiant",
          "radioshack",
          "radioshack",
          "radioshack",
          "radioshack",
          "rari-capital",
          "rari-capital",
          "realt",
          "reaper-farm",
          "reaper-farm",
          "ref-finance",
          "renvm",
          "renvm",
          "renvm",
          "renvm",
          "renvm",
          "renvm",
          "rex-staking",
          "ribbon-finance",
          "ribbon-finance",
          "ribbon-finance",
          "risk-harbor",
          "risk-harbor",
          "risk-harbor",
          "risk-harbor",
          "saber",
          "saddle-finance",
          "saddle-finance",
          "saddle-finance",
          "saddle-finance",
          "saddle-finance",
          "sashimiswap",
          "sashimiswap",
          "sashimiswap",
          "sharedstake",
          "sicx",
          "single-finance",
          "single-finance",
          "single-finance",
          "single-finance",
          "solarbeam",
          "solend",
          "solo-top",
          "solo-top",
          "solo-top",
          "solo-top",
          "solv-protocol",
          "solv-protocol",
          "spartacus",
          "spartacus",
          "spiritswap",
          "spiritswap",
          "spookyswap",
          "spool-protocol",
          "stacks-staking",
          "stader",
          "stader",
          "stader",
          "stader",
          "stader",
          "stader",
          "stader",
          "stafi",
          "stafi",
          "stafi",
          "stafi",
          "stafi",
          "stafi",
          "stakedao",
          "stakedao",
          "stakedao",
          "stakedao",
          "stakewise",
          "stargate",
          "stargate",
          "stargate",
          "stargate",
          "stargate",
          "stargate",
          "starlay-finance",
          "starlay-finance",
          "stellaswap",
          "stellaswap",
          "sturdy",
          "sun.io",
          "sun.io",
          "sun.io",
          "sundaeswap",
          "sunny",
          "sunswap",
          "superfluid",
          "superfluid",
          "sushiswap",
          "sushiswap",
          "sushiswap",
          "sushiswap",
          "sushiswap",
          "sushiswap",
          "sushiswap",
          "sushiswap",
          "sushiswap",
          "sushiswap",
          "sushiswap",
          "sushiswap",
          "sushiswap",
          "sushiswap",
          "sushiswap",
          "sushiswap-kashi",
          "sushiswap-kashi",
          "sushiswap-kashi",
          "swapr",
          "swapr",
          "swim-protocol",
          "synapse",
          "synapse",
          "synapse",
          "synapse",
          "synapse",
          "synapse",
          "synapse",
          "synapse",
          "synapse",
          "synapse",
          "synapse",
          "synapse",
          "synapse",
          "synapse",
          "synthetix",
          "tarot",
          "tarot",
          "team-finance",
          "team-finance",
          "team-finance",
          "tectonic",
          "temple-dao",
          "temple-dao",
          "terra-bridge",
          "terra-bridge",
          "tetu",
          "tetu",
          "tezos-liquidity-baking",
          "thetacash",
          "thetanuts-finance",
          "thetanuts-finance",
          "thetanuts-finance",
          "thetanuts-finance",
          "thetanuts-finance",
          "thetanuts-finance",
          "thetaswap",
          "thorchain",
          "tinyman",
          "tokemak",
          "tokemak",
          "tokensfarm",
          "tokensfarm",
          "tokensfarm",
          "tomb-finance",
          "tomb-finance",
          "tomb-finance",
          "tornado-cash",
          "tornado-cash",
          "tornado-cash",
          "tornado-cash",
          "tornado-cash",
          "tornado-cash",
          "toucan-protocol",
          "trader-joe",
          "trader-joe",
          "tranchess",
          "tranchess",
          "trisolaris",
          "truefi",
          "unicrypt",
          "unicrypt",
          "unicrypt",
          "unicrypt",
          "unicrypt",
          "uniswap",
          "uniswap",
          "uniswap",
          "uniswap",
          "uxd",
          "valas-finance",
          "valas-finance",
          "valas-finance",
          "valleyswap",
          "vector-finance",
          "vector-finance",
          "vector-finance",
          "velodrome",
          "venus",
          "vesper",
          "vesper",
          "vesper",
          "vesta-finance",
          "vesta-finance",
          "vires-finance",
          "vvs-finance",
          "waves-exchange",
          "wepiggy",
          "wepiggy",
          "wepiggy",
          "wepiggy",
          "wepiggy",
          "wepiggy",
          "wepiggy",
          "wepiggy",
          "wepiggy",
          "wepiggy",
          "wepiggy",
          "wing-finance",
          "wingriders",
          "wombat-exchange",
          "wrapped-bnb",
          "xdao",
          "xdao",
          "xdao",
          "xdao",
          "xdao",
          "yearn-finance",
          "yearn-finance",
          "yeti-finance",
          "yeti-finance",
          "yeti-finance",
          "yield-protocol",
          "yield-yak",
          "yield-yak",
          "yield-yak",
          "yoshi-exchange",
          "yoshi-exchange",
          "youves",
          "youves",
          "zeta",
          "Acala",
          "Algorand",
          "Arbitrum",
          "Astar",
          "Aurora",
          "Avalanche",
          "Bifrost",
          "Binance",
          "Binance-treasury",
          "Bitcoin",
          "Boba",
          "Cardano",
          "Celo",
          "Cosmos",
          "Cronos",
          "DFK",
          "Doge",
          "EOS",
          "Elastos",
          "Elrond",
          "Ethereum-treasury",
          "Everscale",
          "Evmos",
          "Fantom",
          "Fuse",
          "Harmony",
          "Heco",
          "Hedera",
          "Hoo",
          "Icon",
          "IoTeX",
          "Kardia",
          "Karura",
          "Kava",
          "Klaytn",
          "Kucoin",
          "Kusama",
          "LBRY",
          "Litecoin",
          "Metis",
          "Milkomeda",
          "Moonbeam",
          "Moonriver",
          "NEO",
          "Near",
          "OKExChain",
          "ORE",
          "Oasis",
          "Optimism",
          "Osmosis",
          "Palm",
          "Polkadot",
          "Polygon",
          "Proton",
          "REI",
          "RSK",
          "Ravencoin",
          "Ronin",
          "Shiden",
          "Solana",
          "Songbird",
          "Stacks",
          "Stafi",
          "Telos",
          "Terra",
          "Terra2",
          "Tezos",
          "Theta",
          "Tron",
          "Waves",
          "Wax",
          "pool2",
          "staking",
          "xDai",
          "all"
         ],
         "marker": {
          "coloraxis": "coloraxis",
          "colors": [
           -1,
           -1,
           -1,
           -1,
           -1,
           -1,
           1,
           1,
           1,
           -1,
           -1,
           1,
           1,
           1,
           1,
           -1,
           -1,
           1,
           1,
           1,
           1,
           1,
           1,
           1,
           -1,
           1,
           -1,
           1,
           1,
           1,
           -1,
           1,
           1,
           1,
           1,
           -1,
           -1,
           1,
           -1,
           -1,
           -1,
           -1,
           1,
           1,
           1,
           -1,
           1,
           1,
           1,
           -1,
           1,
           1,
           -1,
           -1,
           1,
           1,
           1,
           -1,
           -1,
           1,
           1,
           1,
           1,
           1,
           1,
           -1,
           -1,
           1,
           1,
           1,
           -1,
           -1,
           -1,
           1,
           -1,
           1,
           1,
           1,
           -1,
           1,
           1,
           1,
           1,
           1,
           1,
           1,
           1,
           -1,
           -1,
           1,
           -1,
           1,
           1,
           1,
           1,
           1,
           1,
           -1,
           -1,
           -1,
           -1,
           1,
           1,
           1,
           1,
           1,
           -1,
           1,
           1,
           1,
           -1,
           1,
           1,
           1,
           1,
           1,
           -1,
           -1,
           1,
           1,
           1,
           -1,
           1,
           -1,
           -1,
           -1,
           1,
           1,
           -1,
           -1,
           1,
           -1,
           -1,
           1,
           -1,
           -1,
           -1,
           -1,
           1,
           -1,
           -1,
           -1,
           -1,
           -1,
           -1,
           -1,
           1,
           -1,
           -1,
           -1,
           -1,
           -1,
           -1,
           1,
           -1,
           -1,
           1,
           1,
           1,
           -1,
           -1,
           -1,
           -1,
           1,
           1,
           -1,
           1,
           1,
           -1,
           -1,
           -1,
           -1,
           -1,
           -1,
           1,
           -1,
           1,
           1,
           1,
           1,
           -1,
           -1,
           -1,
           1,
           1,
           -1,
           1,
           -1,
           -1,
           1,
           1,
           -1,
           -1,
           -1,
           1,
           -1,
           -1,
           -1,
           1,
           -1,
           -1,
           -1,
           -1,
           1,
           -1,
           1,
           1,
           -1,
           1,
           1,
           -1,
           1,
           -1,
           -1,
           1,
           1,
           -1,
           1,
           -1,
           -1,
           -1,
           -1,
           1,
           1,
           1,
           -1,
           -1,
           1,
           -1,
           -1,
           -1,
           -1,
           1,
           1,
           1,
           -1,
           1,
           1,
           1,
           -1,
           1,
           -1,
           -1,
           -1,
           1,
           1,
           1,
           -1,
           1,
           -1,
           -1,
           1,
           -1,
           -1,
           1,
           -1,
           -1,
           1,
           -1,
           -1,
           -1,
           -1,
           1,
           -1,
           -1,
           -1,
           -1,
           -1,
           1,
           -1,
           1,
           -1,
           -1,
           1,
           -1,
           -1,
           -1,
           1,
           -1,
           1,
           -1,
           1,
           -1,
           1,
           -1,
           -1,
           1,
           1,
           1,
           1,
           1,
           -1,
           -1,
           -1,
           1,
           -1,
           1,
           1,
           1,
           1,
           -1,
           -1,
           -1,
           1,
           1,
           1,
           1,
           -1,
           1,
           -1,
           1,
           -1,
           1,
           -1,
           1,
           1,
           -1,
           1,
           1,
           1,
           -1,
           1,
           1,
           1,
           1,
           1,
           1,
           1,
           1,
           1,
           1,
           -1,
           -1,
           1,
           1,
           1,
           1,
           1,
           1,
           1,
           -1,
           -1,
           1,
           1,
           -1,
           1,
           1,
           1,
           1,
           1,
           1,
           -1,
           -1,
           1,
           -1,
           1,
           1,
           -1,
           -1,
           -1,
           -1,
           -1,
           1,
           1,
           1,
           1,
           1,
           -1,
           -1,
           -1,
           -1,
           1,
           1,
           -1,
           1,
           1,
           -1,
           -1,
           -1,
           -1,
           1,
           -1,
           1,
           1,
           1,
           1,
           -1,
           1,
           1,
           -1,
           -1,
           1,
           -1,
           1,
           1,
           -1,
           1,
           1,
           1,
           1,
           1,
           1,
           1,
           1,
           1,
           1,
           -1,
           1,
           -1,
           1,
           1,
           1,
           1,
           1,
           1,
           1,
           1,
           1,
           1,
           1,
           1,
           1,
           -1,
           -1,
           -1,
           1,
           -1,
           -1,
           -1,
           -1,
           1,
           1,
           1,
           1,
           -1,
           1,
           -1,
           -1,
           -1,
           -1,
           1,
           -1,
           1,
           -1,
           -1,
           -1,
           1,
           1,
           -1,
           1,
           1,
           1,
           1,
           -1,
           -1,
           -1,
           1,
           -1,
           1,
           1,
           1,
           -1,
           1,
           -1,
           -1,
           -1,
           1,
           -1,
           -1,
           1,
           -1,
           1,
           -1,
           1,
           -1,
           -1,
           -1,
           -1,
           1,
           1,
           -1,
           -1,
           -1,
           -1,
           -1,
           1,
           -1,
           -1,
           1,
           -1,
           1,
           1,
           1,
           -1,
           1,
           -1,
           -1,
           -1,
           1,
           -1,
           1,
           1,
           1,
           -1,
           1,
           1,
           1,
           1,
           1,
           -1,
           1,
           -1,
           1,
           -1,
           -1,
           1,
           1,
           -1,
           -1,
           -1,
           1,
           1,
           -1,
           -1,
           -1,
           1,
           1,
           -1,
           -1,
           1,
           -1,
           1,
           1,
           -1,
           -1,
           1,
           -1,
           -1,
           1,
           -1,
           -1,
           1,
           -1,
           1,
           1,
           -1,
           -1,
           -1,
           -1,
           -1,
           -1,
           -1,
           -1,
           -1,
           -1,
           1,
           -1,
           -1,
           1,
           1,
           1,
           -1,
           -1,
           -1,
           1,
           1,
           1,
           1,
           1,
           -1,
           1,
           1,
           -1,
           -1,
           1,
           1,
           1,
           -1,
           1,
           -1,
           -1,
           -1,
           -1,
           -1,
           1,
           1,
           1,
           1,
           1,
           1,
           -1,
           1,
           1,
           -1,
           -1,
           1,
           1,
           -1,
           -1,
           1,
           -1,
           1,
           1,
           -1,
           1,
           1,
           -1,
           1,
           -1,
           -1,
           1,
           1,
           -1,
           1,
           -1,
           1,
           -1,
           1,
           1,
           -1,
           -1,
           -1,
           -1,
           -1,
           -1,
           1,
           1,
           1,
           1,
           1,
           -1,
           -1,
           1,
           1,
           1,
           -1,
           1,
           1,
           1,
           -1,
           -1,
           -1,
           1,
           1,
           -1,
           -1,
           -1,
           1,
           1,
           1,
           1,
           -1,
           1,
           1,
           1,
           1,
           1,
           1,
           1,
           1,
           -1,
           -1,
           1,
           -1,
           -1,
           1,
           -1,
           -1,
           1,
           1,
           -1,
           1,
           1,
           1,
           1,
           -1,
           1,
           -1,
           1,
           1,
           -1,
           -1,
           1,
           1,
           0.6857334859974624,
           -0.9527522190195067,
           -0.9484224139076719,
           -0.3941401229400529,
           1,
           0.5900698637082894,
           -1,
           1,
           -0.20191376058309232,
           -0.8240883734037528,
           -0.13813472895143847,
           1,
           -0.5791255033196202,
           1,
           1,
           1,
           -1,
           1,
           -1,
           1,
           -1,
           -0.08238294712138554,
           0.9160635857843529,
           -0.8389979847348918,
           -0.3473467537104452,
           1,
           -1,
           -1,
           -1,
           -1,
           1,
           -0.3844764363724855,
           0.6245082258371731,
           1,
           1,
           1,
           1,
           -0.5096290246867484,
           -1,
           -0.8329600194289815,
           -0.777459774028322,
           0.9979468048963988,
           0.5407418090328439,
           0.5506189107116669,
           1,
           0.9468484140589404,
           0.9644868964377505,
           1,
           -1,
           1,
           0.6667733067887714,
           1,
           1,
           1,
           1,
           1,
           -1,
           -0.3226072303367121,
           1,
           -1,
           1,
           0.9977208701509319,
           0.9994276629843004,
           1,
           1,
           -1,
           0.8178116309307911,
           -0.9867989190284738,
           -1,
           -0.2035585041260953,
           0.8392259701415807,
           0.837275823666103,
           0.2637968839524741
          ]
         },
         "name": "",
         "parents": [
          "all/Solana",
          "all/Fantom",
          "all/Polygon",
          "all/staking",
          "all/Avalanche",
          "all/Polygon",
          "all/pool2",
          "all/staking",
          "all/Arbitrum",
          "all/Avalanche",
          "all/Fantom",
          "all/Harmony",
          "all/Optimism",
          "all/Polygon",
          "all/Polygon",
          "all/pool2",
          "all/staking",
          "all/Acala",
          "all/Acala",
          "all/Acala",
          "all/Acala",
          "all/Astar",
          "all/Avalanche",
          "all/Binance",
          "all/Cronos",
          "all/Fantom",
          "all/Harmony",
          "all/Moonbeam",
          "all/Moonriver",
          "all/xDai",
          "all/Fantom",
          "all/staking",
          "all/Solana",
          "all/Algorand",
          "all/staking",
          "all/Avalanche",
          "all/Binance",
          "all/Celo",
          "all/Fantom",
          "all/Heco",
          "all/Near",
          "all/Polygon",
          "all/Solana",
          "all/Terra",
          "all/staking",
          "all/Binance",
          "all/Fantom",
          "all/staking",
          "all/Arbitrum",
          "all/Optimism",
          "all/Polygon",
          "all/staking",
          "all/Avalanche",
          "all/Binance",
          "all/Fantom",
          "all/Kusama",
          "all/Polkadot",
          "all/Binance",
          "all/Polygon",
          "all/staking",
          "all/Binance",
          "all/Binance",
          "all/pool2",
          "all/staking",
          "all/Optimism",
          "all/Polygon",
          "all/Astar",
          "all/staking",
          "all/Terra",
          "all/Terra2",
          "all/Aurora",
          "all/Arbitrum",
          "all/Fantom",
          "all/Polygon",
          "all/Binance",
          "all/staking",
          "all/Arbitrum",
          "all/Polygon",
          "all/Aurora",
          "all/Arbitrum",
          "all/Aurora",
          "all/Avalanche",
          "all/Binance",
          "all/Celo",
          "all/Cronos",
          "all/Fantom",
          "all/Fuse",
          "all/Harmony",
          "all/Heco",
          "all/Metis",
          "all/Moonbeam",
          "all/Moonriver",
          "all/Oasis",
          "all/Optimism",
          "all/Polygon",
          "all/staking",
          "all/Fantom",
          "all/Optimism",
          "all/pool2",
          "all/Binance",
          "all/Heco",
          "all/Klaytn",
          "all/staking",
          "all/Avalanche",
          "all/pool2",
          "all/Avalanche",
          "all/Avalanche",
          "all/Avalanche",
          "all/Binance",
          "all/Klaytn",
          "all/staking",
          "all/Bifrost",
          "all/Binance",
          "all/staking",
          "all/Binance",
          "all/Polygon",
          "all/Near",
          "all/Arbitrum",
          "all/Aurora",
          "all/Avalanche",
          "all/Binance",
          "all/Boba",
          "all/Fantom",
          "all/Harmony",
          "all/Metis",
          "all/Moonriver",
          "all/Optimism",
          "all/Polygon",
          "all/Shiden",
          "all/Binance",
          "all/Klaytn",
          "all/staking",
          "all/Moonbeam",
          "all/Optimism",
          "all/Polygon",
          "all/Binance",
          "all/Heco",
          "all/pool2",
          "all/staking",
          "all/Arbitrum",
          "all/Avalanche",
          "all/Binance",
          "all/Boba",
          "all/Cronos",
          "all/Evmos",
          "all/Fantom",
          "all/Fuse",
          "all/Milkomeda",
          "all/Moonbeam",
          "all/Moonriver",
          "all/Optimism",
          "all/Polygon",
          "all/xDai",
          "all/staking",
          "all/Arbitrum",
          "all/Binance",
          "all/Polygon",
          "all/DFK",
          "all/staking",
          "all/Arbitrum",
          "all/Aurora",
          "all/Avalanche",
          "all/Fantom",
          "all/Moonbeam",
          "all/Optimism",
          "all/Polygon",
          "all/staking",
          "all/xDai",
          "all/Binance",
          "all/pool2",
          "all/Harmony",
          "all/staking",
          "all/Wax",
          "all/Avalanche",
          "all/staking",
          "all/Arbitrum",
          "all/Binance",
          "all/Optimism",
          "all/Polygon",
          "all/staking",
          "all/Polygon",
          "all/Fantom",
          "all/OKExChain",
          "all/Polygon",
          "all/staking",
          "all/Arbitrum",
          "all/Aurora",
          "all/Binance",
          "all/Polygon",
          "all/Arbitrum",
          "all/Binance",
          "all/pool2",
          "all/staking",
          "all/Binance",
          "all/staking",
          "all/Avalanche",
          "all/Binance",
          "all/Celo",
          "all/Cronos",
          "all/Fantom",
          "all/Harmony",
          "all/Heco",
          "all/Milkomeda",
          "all/OKExChain",
          "all/Polygon",
          "all/Polygon",
          "all/Avalanche",
          "all/pool2",
          "all/staking",
          "all/Binance",
          "all/staking",
          "all/EOS",
          "all/Fantom",
          "all/Moonriver",
          "all/staking",
          "all/Cronos",
          "all/Arbitrum",
          "all/Binance",
          "all/Elastos",
          "all/Heco",
          "all/IoTeX",
          "all/Polygon",
          "all/REI",
          "all/NEO",
          "all/Songbird",
          "all/pool2",
          "all/staking",
          "all/Algorand",
          "all/Ethereum-treasury",
          "all/Fantom",
          "all/pool2",
          "all/staking",
          "all/Solana",
          "all/Polygon",
          "all/pool2",
          "all/Fantom",
          "all/pool2",
          "all/staking",
          "all/Arbitrum",
          "all/Avalanche",
          "all/staking",
          "all/Avalanche",
          "all/pool2",
          "all/staking",
          "all/Binance",
          "all/Polygon",
          "all/Binance",
          "all/Polygon",
          "all/Arbitrum",
          "all/Avalanche",
          "all/Binance",
          "all/Polygon",
          "all/Binance",
          "all/Fantom",
          "all/staking",
          "all/Avalanche",
          "all/Binance",
          "all/Fantom",
          "all/Arbitrum",
          "all/Optimism",
          "all/Polygon",
          "all/xDai",
          "all/Solana",
          "all/staking",
          "all/Arbitrum",
          "all/Fantom",
          "all/Harmony",
          "all/Moonriver",
          "all/Optimism",
          "all/Polygon",
          "all/Polygon",
          "all/Polygon",
          "all/Avalanche",
          "all/Binance",
          "all/Polygon",
          "all/Avalanche",
          "all/Fantom",
          "all/Binance",
          "all/Arbitrum",
          "all/Polygon",
          "all/pool2",
          "all/staking",
          "all/Solana",
          "all/Tron",
          "all/Tron",
          "all/Kardia",
          "all/Karura",
          "all/Karura",
          "all/Solana",
          "all/Ronin",
          "all/Kava",
          "all/Kava",
          "all/Kava",
          "all/staking",
          "all/staking",
          "all/Klaytn",
          "all/Klaytn",
          "all/staking",
          "all/Polygon",
          "all/staking",
          "all/Binance",
          "all/Fantom",
          "all/staking",
          "all/Klaytn",
          "all/pool2",
          "all/staking",
          "all/Klaytn",
          "all/staking",
          "all/Arbitrum",
          "all/Avalanche",
          "all/Binance",
          "all/Cronos",
          "all/Fantom",
          "all/Oasis",
          "all/Optimism",
          "all/Polygon",
          "all/Solana",
          "all/Moonbeam",
          "all/Moonriver",
          "all/Solana",
          "all/Terra",
          "all/Bitcoin",
          "all/Near",
          "all/Binance",
          "all/Fantom",
          "all/staking",
          "all/Algorand",
          "all/Optimism",
          "all/staking",
          "all/Elrond",
          "all/staking",
          "all/Solana",
          "all/Solana",
          "all/staking",
          "all/Solana",
          "all/Celo",
          "all/Solana",
          "all/Polygon",
          "all/staking",
          "all/Near",
          "all/IoTeX",
          "all/Fantom",
          "all/Polygon",
          "all/Cardano",
          "all/Cronos",
          "all/staking",
          "all/Cronos",
          "all/staking",
          "all/Kucoin",
          "all/staking",
          "all/RSK",
          "all/Celo",
          "all/Moonriver",
          "all/staking",
          "all/Moonbeam",
          "all/staking",
          "all/Polygon",
          "all/NEO",
          "all/Avalanche",
          "all/Metis",
          "all/Waves",
          "all/Binance",
          "all/staking",
          "all/Avalanche",
          "all/Binance",
          "all/Everscale",
          "all/Polygon",
          "all/staking",
          "all/Avalanche",
          "all/Fantom",
          "all/Polygon",
          "all/pool2",
          "all/staking",
          "all/Arbitrum",
          "all/Binance",
          "all/Optimism",
          "all/Polygon",
          "all/Avalanche",
          "all/Polygon",
          "all/Binance",
          "all/Osmosis",
          "all/Boba",
          "all/Polygon",
          "all/Binance",
          "all/staking",
          "all/Avalanche",
          "all/Solana",
          "all/Polygon",
          "all/staking",
          "all/Optimism",
          "all/staking",
          "all/Arbitrum",
          "all/Aurora",
          "all/Cronos",
          "all/Metis",
          "all/Moonbeam",
          "all/Moonriver",
          "all/OKExChain",
          "all/Optimism",
          "all/Polygon",
          "all/pool2",
          "all/staking",
          "all/Avalanche",
          "all/Binance",
          "all/Cronos",
          "all/Fantom",
          "all/Polygon",
          "all/Binance",
          "all/staking",
          "all/Avalanche",
          "all/staking",
          "all/Binance",
          "all/Bitcoin",
          "all/Doge",
          "all/EOS",
          "all/Fantom",
          "all/LBRY",
          "all/Litecoin",
          "all/ORE",
          "all/Ravencoin",
          "all/Telos",
          "all/Polygon",
          "all/Avalanche",
          "all/Binance",
          "all/Celo",
          "all/Optimism",
          "all/Polygon",
          "all/Solana",
          "all/Binance",
          "all/Binance-treasury",
          "all/staking",
          "all/Proton",
          "all/staking",
          "all/pool2",
          "all/Hoo",
          "all/Arbitrum",
          "all/Avalanche",
          "all/Binance",
          "all/Fantom",
          "all/Harmony",
          "all/Metis",
          "all/Moonriver",
          "all/Optimism",
          "all/Polygon",
          "all/xDai",
          "all/Solana",
          "all/Polygon",
          "all/Arbitrum",
          "all/pool2",
          "all/staking",
          "all/Avalanche",
          "all/Binance",
          "all/Polygon",
          "all/staking",
          "all/Arbitrum",
          "all/pool2",
          "all/xDai",
          "all/Fantom",
          "all/Optimism",
          "all/Near",
          "all/Arbitrum",
          "all/Avalanche",
          "all/Binance",
          "all/Fantom",
          "all/Polygon",
          "all/Solana",
          "all/Telos",
          "all/Avalanche",
          "all/Solana",
          "all/staking",
          "all/Arbitrum",
          "all/Aurora",
          "all/Avalanche",
          "all/Fantom",
          "all/Solana",
          "all/Arbitrum",
          "all/Evmos",
          "all/Fantom",
          "all/Kava",
          "all/Optimism",
          "all/Binance",
          "all/Heco",
          "all/staking",
          "all/pool2",
          "all/Icon",
          "all/Cronos",
          "all/Fantom",
          "all/pool2",
          "all/staking",
          "all/Moonriver",
          "all/Solana",
          "all/Binance",
          "all/Heco",
          "all/OKExChain",
          "all/Polygon",
          "all/Binance",
          "all/Polygon",
          "all/Fantom",
          "all/staking",
          "all/Fantom",
          "all/staking",
          "all/Fantom",
          "all/staking",
          "all/Stacks",
          "all/Binance",
          "all/Fantom",
          "all/Hedera",
          "all/Near",
          "all/Polygon",
          "all/Terra",
          "all/Terra2",
          "all/Binance",
          "all/Cosmos",
          "all/Polygon",
          "all/Solana",
          "all/Stafi",
          "all/staking",
          "all/Avalanche",
          "all/Harmony",
          "all/Polygon",
          "all/staking",
          "all/xDai",
          "all/Arbitrum",
          "all/Avalanche",
          "all/Binance",
          "all/Fantom",
          "all/Optimism",
          "all/Polygon",
          "all/Astar",
          "all/staking",
          "all/Moonbeam",
          "all/staking",
          "all/Fantom",
          "all/Tron",
          "all/pool2",
          "all/staking",
          "all/Cardano",
          "all/Solana",
          "all/Tron",
          "all/Polygon",
          "all/xDai",
          "all/Arbitrum",
          "all/Avalanche",
          "all/Binance",
          "all/Celo",
          "all/Fantom",
          "all/Fuse",
          "all/Harmony",
          "all/Heco",
          "all/Moonriver",
          "all/OKExChain",
          "all/Palm",
          "all/Polygon",
          "all/Telos",
          "all/staking",
          "all/xDai",
          "all/Arbitrum",
          "all/Binance",
          "all/Fantom",
          "all/Arbitrum",
          "all/xDai",
          "all/Solana",
          "all/Arbitrum",
          "all/Aurora",
          "all/Avalanche",
          "all/Binance",
          "all/Boba",
          "all/Cronos",
          "all/Fantom",
          "all/Harmony",
          "all/Klaytn",
          "all/Metis",
          "all/Moonriver",
          "all/Optimism",
          "all/Polygon",
          "all/pool2",
          "all/Optimism",
          "all/Fantom",
          "all/Optimism",
          "all/Avalanche",
          "all/Binance",
          "all/Polygon",
          "all/Cronos",
          "all/pool2",
          "all/staking",
          "all/Binance",
          "all/Harmony",
          "all/Fantom",
          "all/Polygon",
          "all/Tezos",
          "all/Theta",
          "all/Aurora",
          "all/Avalanche",
          "all/Binance",
          "all/Boba",
          "all/Fantom",
          "all/Polygon",
          "all/Theta",
          "all/staking",
          "all/Algorand",
          "all/pool2",
          "all/staking",
          "all/Binance",
          "all/Fantom",
          "all/Polygon",
          "all/Fantom",
          "all/pool2",
          "all/staking",
          "all/Arbitrum",
          "all/Avalanche",
          "all/Binance",
          "all/Optimism",
          "all/Polygon",
          "all/xDai",
          "all/Polygon",
          "all/Avalanche",
          "all/staking",
          "all/Binance",
          "all/staking",
          "all/Aurora",
          "all/staking",
          "all/Avalanche",
          "all/Binance",
          "all/Polygon",
          "all/pool2",
          "all/staking",
          "all/Arbitrum",
          "all/Celo",
          "all/Optimism",
          "all/Polygon",
          "all/Solana",
          "all/Binance",
          "all/pool2",
          "all/staking",
          "all/Oasis",
          "all/Avalanche",
          "all/pool2",
          "all/staking",
          "all/Optimism",
          "all/Binance",
          "all/Avalanche",
          "all/Polygon",
          "all/staking",
          "all/Arbitrum",
          "all/pool2",
          "all/Waves",
          "all/Cronos",
          "all/Waves",
          "all/Arbitrum",
          "all/Aurora",
          "all/Binance",
          "all/Harmony",
          "all/Heco",
          "all/Moonbeam",
          "all/Moonriver",
          "all/OKExChain",
          "all/Oasis",
          "all/Optimism",
          "all/Polygon",
          "all/staking",
          "all/Cardano",
          "all/Binance",
          "all/Binance",
          "all/Astar",
          "all/Avalanche",
          "all/Binance",
          "all/Fantom",
          "all/Polygon",
          "all/Arbitrum",
          "all/Fantom",
          "all/Avalanche",
          "all/pool2",
          "all/staking",
          "all/Arbitrum",
          "all/Avalanche",
          "all/pool2",
          "all/staking",
          "all/Binance",
          "all/Fantom",
          "all/Tezos",
          "all/pool2",
          "all/Solana",
          "all",
          "all",
          "all",
          "all",
          "all",
          "all",
          "all",
          "all",
          "all",
          "all",
          "all",
          "all",
          "all",
          "all",
          "all",
          "all",
          "all",
          "all",
          "all",
          "all",
          "all",
          "all",
          "all",
          "all",
          "all",
          "all",
          "all",
          "all",
          "all",
          "all",
          "all",
          "all",
          "all",
          "all",
          "all",
          "all",
          "all",
          "all",
          "all",
          "all",
          "all",
          "all",
          "all",
          "all",
          "all",
          "all",
          "all",
          "all",
          "all",
          "all",
          "all",
          "all",
          "all",
          "all",
          "all",
          "all",
          "all",
          "all",
          "all",
          "all",
          "all",
          "all",
          "all",
          "all",
          "all",
          "all",
          "all",
          "all",
          "all",
          "all",
          "all",
          "all",
          "all",
          "all",
          ""
         ],
         "root": {
          "color": "lightgrey"
         },
         "type": "treemap",
         "values": [
          724462.5051668435,
          3.268833737253214,
          69.14055004388752,
          79307.04496002049,
          24706511.32027376,
          17736909.06907939,
          975841.9637460647,
          8844401.487732602,
          161076.29123585403,
          140879604.84756547,
          304371.1956714849,
          408270.3156970971,
          529450686.2835612,
          14229062.388067644,
          13684.098581937302,
          363065.675135919,
          1097780.8361468518,
          35954686.22859841,
          42992916.2355602,
          25529908.251191545,
          2823512.143269415,
          164811.53871022156,
          130274.71069382496,
          556556.0160974017,
          1356188.1851934555,
          283502.3260022828,
          9945.630162485837,
          9486.459628949875,
          68352.7666198336,
          73287.86862711173,
          25468.516288013918,
          2621000.7360385535,
          4662734.304076992,
          16512445.116452627,
          4418901.702468701,
          141556.06138080606,
          25310.295634567534,
          87860.70550181696,
          38160.887876205554,
          25621.665780058327,
          38939.938729029745,
          55307.17781020084,
          23189.132126081815,
          9763.217396344271,
          18710.123151518826,
          19483022.20484306,
          503668.5153086787,
          260678.07772957048,
          11.078699343394641,
          157035.3581156747,
          8392.121149643905,
          263946.83391921094,
          1711.6364037213289,
          1020565.5095722001,
          2574.7794692648654,
          947.4227096344312,
          8635.503972554112,
          11678738.76040694,
          292668.22672359634,
          242592.84182885435,
          78652.57522252796,
          432853.34194195474,
          1063704.616717261,
          2743029.523600668,
          306900.2908749804,
          850511.9973214814,
          4136904.61247771,
          3866.9352170525462,
          499575.2871544286,
          12664744.621795606,
          8298179.085721153,
          7203.753197627315,
          20798.488251749222,
          81341.56223325197,
          1509236.682868555,
          420511.51429207483,
          2264641.310647659,
          19622758.908999577,
          61880095.77770648,
          7442519.071347234,
          314662.6725177925,
          3754440.387069581,
          11664883.881976666,
          13935.262255648007,
          2774616.4533053176,
          11287795.317634946,
          291864.9751437071,
          181858.26003255678,
          265079.12531377346,
          907431.3298450633,
          975776.226194681,
          539492.2392926231,
          145061.34170201968,
          20656431.04236778,
          28255979.195540942,
          4498300.349870213,
          1781839.983179924,
          4403390.692738174,
          8326.478510206805,
          768499.8784759152,
          238641.2836815559,
          331493.108463419,
          717842.0295860309,
          33627862.24639963,
          256680.52836141599,
          16882187.839122877,
          152217.90623671838,
          162791.06590069638,
          403986.78934528347,
          3838.6837547208743,
          8819.558153314889,
          12848789.436030736,
          9540314.75070444,
          4123443.8484910442,
          14391037.850882793,
          27632.12800782085,
          15506556.446067179,
          1926136.2663411037,
          1234071.71615916,
          373200.409230836,
          2153367.4745059544,
          11830.029441082106,
          3682091.4923510537,
          351658.2781851328,
          9744.527612689199,
          425.33255558200096,
          2471986.3062385265,
          3651776.6211669995,
          30920.823859883465,
          9916.092435996374,
          5720957.546983193,
          157313.1148081962,
          264564.772165539,
          387598.53810330876,
          52374.12057572622,
          3162705.9640071564,
          1774756.9930331106,
          695.5902019850279,
          7014.078715044035,
          1306691.2128005063,
          900629.1590644482,
          496170.5411000616,
          51407.95864012873,
          442830.091235991,
          914259.5613191301,
          128723.78079668894,
          59385.101806440536,
          700028.1119268925,
          1207847.2945020609,
          895554.061688896,
          1598351.3674107397,
          563920.465605438,
          162419.65854539385,
          5629371.558222195,
          5161.4840068520025,
          3923250.255878442,
          13725.390557481798,
          855257.7257811656,
          273434.44771106844,
          10101355.82595196,
          1813.9388587160229,
          21844975.546754047,
          32608915.461205468,
          6647463.431450888,
          6732158.211860817,
          16918154.06485961,
          7802034.1331576435,
          15458737.244518943,
          1245261.2750759379,
          1.6187346238423101,
          1956443.3391727854,
          96397.70039142075,
          12561.285024312958,
          1614511.771345346,
          7513.611582102665,
          620707.7717721894,
          5174109.606694056,
          221441.46796071564,
          78717.50317127735,
          230277.48936028517,
          2610085.436415087,
          2994.834577419984,
          0.23498252719993074,
          989115.3118552084,
          16194.040410711472,
          171431.68613221316,
          613794.4452909405,
          336559.9512509606,
          12637190.796127653,
          16.54193469780208,
          0.4800791406665334,
          3108107.219971921,
          231939.6150507326,
          871277.5812118277,
          67988.86284663994,
          15000.71199671763,
          13209923.865250032,
          3286.4359834321804,
          10081.89134453653,
          60465.42499846651,
          118.71541602439808,
          5440.653976495363,
          0.42255709603742087,
          3993.3806473465174,
          11416.850050178205,
          3687146.548832874,
          7593649.941807941,
          2847.6496783879534,
          44846.1105609831,
          224046.42577513732,
          94857.53438924672,
          203403.39499789395,
          540941.3699940415,
          77.5072970866445,
          24468.552347042867,
          39510404.975322396,
          673.9710207672977,
          1.0009998733493757,
          441492.5268417828,
          2073771.6676852128,
          70830.1410739274,
          264.4042676149016,
          122985.08110887819,
          17938271.282865167,
          1270002.5576700317,
          164934.90277159124,
          34610.404084805414,
          27168752.462877415,
          1641838.1654650318,
          16014838.624789042,
          821721.2152898414,
          2366403.906074745,
          78570.6048613973,
          4049782.125600704,
          83836.01132005616,
          3527016.793466713,
          61384.08376756126,
          40657.304159632164,
          43908988.69361525,
          5117903.211229157,
          4254254.202000501,
          95136.5660124495,
          9640.195510178344,
          2110.4628699998516,
          77.10927461035598,
          3313.628646787221,
          18531.806183682726,
          93650.28537482095,
          139667.9899187902,
          187755.72653904624,
          24610.969772384407,
          258997.22295574957,
          32275.74962456256,
          8760682.376557289,
          18926725.579477813,
          12186620.9663025,
          328396.0983117271,
          1046667.2255119471,
          2584318.4529526634,
          1468723.3589949694,
          225386.39403472646,
          872924.8241336052,
          1300956.383647919,
          56936.413941479914,
          42468.015759473485,
          990953.7459073288,
          106233.10624177662,
          39485.959080295,
          250022.40708229836,
          123028.37774132931,
          194454.76810060878,
          956.1290545984994,
          1311776.9109702834,
          5102.667835181147,
          799280.6442213634,
          1879549.15693511,
          1356472.8575861005,
          5851583.817969298,
          20610.31155676351,
          69794.04019360148,
          110826.49879640464,
          246449.05173270183,
          358140.4378351398,
          220383538.4615821,
          299.22401300000035,
          8493907.900086058,
          5004922.80886704,
          5024716.64480423,
          218476.6584483017,
          1853553.7122695663,
          1801454.1233897842,
          1103536.3671836392,
          2948413.8776351716,
          206078.2136679936,
          92726.32798783341,
          13670800.185508586,
          42533268.12169592,
          9807223.996545184,
          11107260.018646345,
          2100654.4980571517,
          5141515.550488995,
          925725.5548377256,
          485286.0576752184,
          7057878.734896466,
          1206885.3882389858,
          1081733.3948864846,
          3497060.212023499,
          496312.6218831486,
          370929.25718738727,
          9122640.271484913,
          162287.90990710858,
          101.09593782178092,
          19855.546972312786,
          27972.426116127466,
          488044.25949130487,
          705501.0630660949,
          3687216.6284592175,
          2538712.492613607,
          1793141.1059107594,
          34499445.97271809,
          91.71128691866723,
          5732992.094048869,
          8627541.705633711,
          3489336.584936223,
          725827.4032693927,
          405817.33542826754,
          23636.272660000148,
          15693640.425384624,
          9872269.956892544,
          39434230.640864745,
          7997381.826788946,
          12844881.437291648,
          410441.60381959984,
          697588.8845267985,
          15091602.642826915,
          2913945.132938472,
          1935514.5781002275,
          8285453.040924269,
          1460041.6983265944,
          859470.2622008056,
          1225463.6868291036,
          567541.5943459484,
          1284848.8858589428,
          4256057.63927644,
          16785369.324519318,
          550626.6597651987,
          6473049.585931389,
          1331272.8826917247,
          5170503.668104942,
          684271.6369401305,
          1204845.556670388,
          5720094.370236484,
          4322230.201450972,
          46468.02506853536,
          63904189.09483017,
          260691.9341034098,
          502653.610587183,
          18434.310000038648,
          965907.6771729173,
          8928168.48201682,
          5120556.464108917,
          18088060.688544612,
          471413.8337822538,
          2.514583722943723,
          12726.146724333872,
          410426.90022531094,
          0.3090939814651607,
          2415.386389090534,
          184.84955713672662,
          114.64403290616477,
          18.85999570793188,
          43015.73994825838,
          20229.03903273772,
          13301.139652845954,
          0.47812193957066074,
          6412.85349799866,
          10878.588116445486,
          861617.4334957094,
          798233.5681898852,
          36770.493174114374,
          64422188.65889506,
          50765.76453717655,
          3599.0877206270434,
          556769256.0661291,
          43862187.21069255,
          11795530.552876469,
          120608.34899316015,
          3628256.8013969297,
          154912.47368504276,
          5647970.728040531,
          6023720.455455014,
          198907.37756539014,
          35800.07667904327,
          447.56597616050783,
          74901.73030242711,
          138682.73716559602,
          72552.95743469533,
          105.51965965920223,
          225767.1930622817,
          188619.83932625572,
          179254.0996560098,
          27538.04658658452,
          16310.427573213581,
          2413244.373557866,
          22812.746938686952,
          803.9682746620412,
          75308.4945007075,
          3460316.5986914537,
          180198.54244871213,
          1888219.6313714397,
          182002.5670755088,
          265109.23614213336,
          1016386.3870169572,
          5353.889420038842,
          1401255.3815038933,
          0.6271478928120663,
          13099.035601877067,
          84136.93011285679,
          515313.718068554,
          660.4094611982598,
          1780476.6673638248,
          257391528.92510888,
          528863.6115834231,
          1367.134510761558,
          65614.69400652543,
          32325920.027150035,
          5572761.269673207,
          1023765.339148129,
          525893.7378405285,
          757.738306041756,
          183457.19827537177,
          1594257.5116739955,
          647710.5188537701,
          21490.44507536404,
          755459.9585319858,
          585187.7390682178,
          18229.703654110283,
          260369.86543425254,
          2274988.0447309576,
          9431.172986617059,
          1151429.7419237355,
          0.5142788831516052,
          861391.9839729298,
          7980786.099228831,
          849634.8986790269,
          15037024.965634638,
          82031772.4003971,
          81640568.6438182,
          134245.8396465659,
          3472374.0569249694,
          1181634.5050026434,
          1876054.7203671087,
          937647.3853314348,
          392523.2004097126,
          28773.92411887141,
          24812.145397117998,
          1259123.8342359827,
          1479628.152360132,
          792222.4532375694,
          42665604.83936267,
          417868.8875506165,
          1136628.2895901597,
          112479.44689026118,
          24740.57576447223,
          1807088.3174228263,
          825622.2965524615,
          613083.6910245222,
          2737338.3244876885,
          1242839.7886539972,
          306640.8557378923,
          730.9469475557294,
          97.85063466778367,
          1611.0796203717475,
          1542.1668195381014,
          16821781.34367462,
          195978.5407544888,
          159054.6838713636,
          3011725.3924795645,
          0.05005,
          1365766.8637185784,
          84.2273019376773,
          9.439009625653675,
          1150.4059716978115,
          1.9288733738236958,
          29426.88314496878,
          289176.6289548721,
          93936.49312312772,
          480101.4729620299,
          197423.77280090644,
          13990518.431816997,
          25587661.576227497,
          3316328.1640133723,
          2122656.246081251,
          9370.179316637368,
          21492.835081916153,
          18135.82515440542,
          28.567008811049966,
          364994.35342568555,
          902815.9713371906,
          2059303.6083655425,
          83332.32931898096,
          36320219.82090464,
          384503.5731702773,
          51366889.25796441,
          1048285.9201418739,
          184828.17548918122,
          2925403.7862608754,
          173.7,
          101875.74737664755,
          54.08707581898286,
          162045.76992864156,
          683.2955999999928,
          65352.73619999997,
          6678.816223259728,
          1572.6470999999988,
          2320.3706999999977,
          71162.30010853757,
          134597.30026980888,
          127506.07245911358,
          384754.70606205217,
          329390.1050914347,
          32750.643188932798,
          17163574.205915637,
          25105665.75175208,
          4184355.427958093,
          2566112.667146084,
          15162264.730603464,
          15323982.767309166,
          2552577.2346508745,
          46361.595756500705,
          34519617.97386472,
          132441.24671361427,
          2457898.6120367954,
          22351936.930601615,
          171368.0484927091,
          71973.78604446947,
          6251001.898820722,
          105544707.02142836,
          2639232.2386432756,
          5287.428784728663,
          124762.82868876403,
          19990305.4395225,
          12056513.49771884,
          216643.38186664257,
          73803.1357615917,
          695178.7476251303,
          15387.105193639261,
          1131882.9435200745,
          100.09321428343162,
          515466.8176673664,
          840.2748755089302,
          252.50969879486436,
          4918395.451481828,
          2730.7292724718022,
          3226047.855264394,
          3040713.2129264,
          234385.79442847264,
          10047.633591733225,
          26630.598676765476,
          288528.7854455029,
          2806882.988466227,
          764434.708673284,
          287850.65523116547,
          4343062.532316844,
          2267921.2838333575,
          5464243.077690312,
          80870.62401756592,
          7542.098206577966,
          1734126.1969944253,
          828565.6368240372,
          147.7182741010545,
          769528.7007577443,
          27700.041114122097,
          173024.408401913,
          2412773.156310155,
          1101989.7243688584,
          4577514.86241103,
          2341391.290449037,
          1960550.2269751057,
          130536.38335306938,
          1704350.421711497,
          49163.63260082376,
          4122468.291085117,
          1053986.861583228,
          37090924.301682524,
          348655.1100405684,
          5408.596587811094,
          1993087.3669418958,
          791862.7512451764,
          885676.0822168201,
          1325245.3236391963,
          6307.353556740266,
          90463.20445297065,
          12748.706224417587,
          7786.990077125372,
          16993.598261839266,
          797935.9896579022,
          2594955.809223746,
          1014023.4064720118,
          615596.8103106122,
          191063.44767818088,
          780861.328537338,
          286484.7690053991,
          634.4392859585059,
          773825.1433624249,
          1073644.4932836744,
          611610.9861862368,
          596560.9934003642,
          290923.2100000001,
          14907.699999999997,
          3881155.5230000033,
          5345.372999999999,
          150554.3927,
          19974.261900000005,
          4671.991122790907,
          40295870.3042513,
          121438.31167712736,
          7666026.447421206,
          220541.48417238775,
          7584019.65942205,
          656223.5307291328,
          16332.48735560089,
          3019400.547367099,
          8548.987945729958,
          2211.566654392843,
          45954.00450484708,
          27987988.63160851,
          1294237.4450822568,
          18074555.724889662,
          25404152.762568682,
          2959663.902756059,
          3834839.0213282653,
          2647.392616881262,
          68421.25874090267,
          857864.4031812014,
          1754267.1798825539,
          104259.03215044615,
          523876.74994072743,
          87924541.85065587,
          68520537.1229376,
          116246.14131282496,
          123117.13587588034,
          45169.4202824366,
          2245024.562040279,
          22022.951906069044,
          472286120.3387484,
          161472226.30210745,
          3172079.537824333,
          38322.216734075606,
          5510.339013437215,
          164799.57866506634,
          21482.084994678735,
          667.8993317531696,
          9569.333435013428,
          4376.770479167772,
          31133.75211884857,
          21654.659583971043,
          3992521.635545436,
          27056.18764283692,
          639954.2322623137,
          37881528.77329349,
          1939158.360822638,
          127844.19981846318,
          122184.03976836677,
          2.1837139563987193,
          114790.12384755888,
          0.06417206623256977,
          4099115.102561133,
          39145.77161980713,
          365513.26195641456,
          12493243.768735176,
          167199.8944314171,
          58399.18588458174,
          33396.87061333282,
          852074.7838000266,
          252711.34315421697,
          86051.55262210367,
          8031.014367120195,
          238327.92130947352,
          1061154.2691736536,
          426825.47195438936,
          467463.5183454827,
          107301022.85861957,
          44320430.662300654,
          222755372.3287138,
          6976477.425607173,
          84317415.44787702,
          399143228.9417205,
          12848789.436030736,
          807123244.2025445,
          757.738306041756,
          6749378.4810658265,
          202661.36671307866,
          48388588.31139065,
          10172777.181766227,
          65352.73619999997,
          233267315.2360591,
          855257.7257811656,
          5353.889420038842,
          1604658.7765017874,
          441492.5268417828,
          39434230.640864745,
          1641838.1654650318,
          410426.90022531094,
          1073314.2451904938,
          144534262.6467411,
          366637.1821437869,
          5138804.152280191,
          6506745.06710712,
          2925403.7862608754,
          755459.9585319858,
          29426.88314496878,
          1296293.827903031,
          8493907.900086058,
          10029639.45367127,
          5853404.418258595,
          72815444.31159991,
          5170503.668104942,
          947.4227096344312,
          13099.035601877067,
          84136.93011285679,
          11841204.51245848,
          700028.5344839885,
          110215909.81585123,
          22269374.70668728,
          17956705.592865206,
          67698286.8919934,
          45443.34160052779,
          515313.718068554,
          1052552.8305833195,
          757382180.9253476,
          64422188.65889506,
          252.50969879486436,
          8635.503972554112,
          565924337.2609825,
          1594257.5116739955,
          122985.08110887819,
          1204845.556670388,
          660.4094611982598,
          1853553.7122695663,
          30920.823859883465,
          246232778.34656608,
          1270002.5576700317,
          51366889.25796441,
          2320.3706999999977,
          2396291.087660819,
          509484.30291351053,
          12826790.391724247,
          1946830.3513904735,
          3920201.1328629423,
          245375006.85483998,
          480578756.3406817,
          12561.285024312958,
          13229318.02948815,
          211873703.65615246,
          24701212.263910387,
          5214195285.997545
         ]
        }
       ],
       "layout": {
        "coloraxis": {
         "colorbar": {
          "title": {
           "text": "flow_direction"
          }
         },
         "colorscale": [
          [
           0,
           "rgb(158,1,66)"
          ],
          [
           0.1,
           "rgb(213,62,79)"
          ],
          [
           0.2,
           "rgb(244,109,67)"
          ],
          [
           0.3,
           "rgb(253,174,97)"
          ],
          [
           0.4,
           "rgb(254,224,139)"
          ],
          [
           0.5,
           "rgb(255,255,191)"
          ],
          [
           0.6,
           "rgb(230,245,152)"
          ],
          [
           0.7,
           "rgb(171,221,164)"
          ],
          [
           0.8,
           "rgb(102,194,165)"
          ],
          [
           0.9,
           "rgb(50,136,189)"
          ],
          [
           1,
           "rgb(94,79,162)"
          ]
         ]
        },
        "legend": {
         "tracegroupgap": 0
        },
        "margin": {
         "b": 25,
         "l": 25,
         "r": 25,
         "t": 50
        },
        "template": {
         "data": {
          "bar": [
           {
            "error_x": {
             "color": "#2a3f5f"
            },
            "error_y": {
             "color": "#2a3f5f"
            },
            "marker": {
             "line": {
              "color": "#E5ECF6",
              "width": 0.5
             },
             "pattern": {
              "fillmode": "overlay",
              "size": 10,
              "solidity": 0.2
             }
            },
            "type": "bar"
           }
          ],
          "barpolar": [
           {
            "marker": {
             "line": {
              "color": "#E5ECF6",
              "width": 0.5
             },
             "pattern": {
              "fillmode": "overlay",
              "size": 10,
              "solidity": 0.2
             }
            },
            "type": "barpolar"
           }
          ],
          "carpet": [
           {
            "aaxis": {
             "endlinecolor": "#2a3f5f",
             "gridcolor": "white",
             "linecolor": "white",
             "minorgridcolor": "white",
             "startlinecolor": "#2a3f5f"
            },
            "baxis": {
             "endlinecolor": "#2a3f5f",
             "gridcolor": "white",
             "linecolor": "white",
             "minorgridcolor": "white",
             "startlinecolor": "#2a3f5f"
            },
            "type": "carpet"
           }
          ],
          "choropleth": [
           {
            "colorbar": {
             "outlinewidth": 0,
             "ticks": ""
            },
            "type": "choropleth"
           }
          ],
          "contour": [
           {
            "colorbar": {
             "outlinewidth": 0,
             "ticks": ""
            },
            "colorscale": [
             [
              0,
              "#0d0887"
             ],
             [
              0.1111111111111111,
              "#46039f"
             ],
             [
              0.2222222222222222,
              "#7201a8"
             ],
             [
              0.3333333333333333,
              "#9c179e"
             ],
             [
              0.4444444444444444,
              "#bd3786"
             ],
             [
              0.5555555555555556,
              "#d8576b"
             ],
             [
              0.6666666666666666,
              "#ed7953"
             ],
             [
              0.7777777777777778,
              "#fb9f3a"
             ],
             [
              0.8888888888888888,
              "#fdca26"
             ],
             [
              1,
              "#f0f921"
             ]
            ],
            "type": "contour"
           }
          ],
          "contourcarpet": [
           {
            "colorbar": {
             "outlinewidth": 0,
             "ticks": ""
            },
            "type": "contourcarpet"
           }
          ],
          "heatmap": [
           {
            "colorbar": {
             "outlinewidth": 0,
             "ticks": ""
            },
            "colorscale": [
             [
              0,
              "#0d0887"
             ],
             [
              0.1111111111111111,
              "#46039f"
             ],
             [
              0.2222222222222222,
              "#7201a8"
             ],
             [
              0.3333333333333333,
              "#9c179e"
             ],
             [
              0.4444444444444444,
              "#bd3786"
             ],
             [
              0.5555555555555556,
              "#d8576b"
             ],
             [
              0.6666666666666666,
              "#ed7953"
             ],
             [
              0.7777777777777778,
              "#fb9f3a"
             ],
             [
              0.8888888888888888,
              "#fdca26"
             ],
             [
              1,
              "#f0f921"
             ]
            ],
            "type": "heatmap"
           }
          ],
          "heatmapgl": [
           {
            "colorbar": {
             "outlinewidth": 0,
             "ticks": ""
            },
            "colorscale": [
             [
              0,
              "#0d0887"
             ],
             [
              0.1111111111111111,
              "#46039f"
             ],
             [
              0.2222222222222222,
              "#7201a8"
             ],
             [
              0.3333333333333333,
              "#9c179e"
             ],
             [
              0.4444444444444444,
              "#bd3786"
             ],
             [
              0.5555555555555556,
              "#d8576b"
             ],
             [
              0.6666666666666666,
              "#ed7953"
             ],
             [
              0.7777777777777778,
              "#fb9f3a"
             ],
             [
              0.8888888888888888,
              "#fdca26"
             ],
             [
              1,
              "#f0f921"
             ]
            ],
            "type": "heatmapgl"
           }
          ],
          "histogram": [
           {
            "marker": {
             "pattern": {
              "fillmode": "overlay",
              "size": 10,
              "solidity": 0.2
             }
            },
            "type": "histogram"
           }
          ],
          "histogram2d": [
           {
            "colorbar": {
             "outlinewidth": 0,
             "ticks": ""
            },
            "colorscale": [
             [
              0,
              "#0d0887"
             ],
             [
              0.1111111111111111,
              "#46039f"
             ],
             [
              0.2222222222222222,
              "#7201a8"
             ],
             [
              0.3333333333333333,
              "#9c179e"
             ],
             [
              0.4444444444444444,
              "#bd3786"
             ],
             [
              0.5555555555555556,
              "#d8576b"
             ],
             [
              0.6666666666666666,
              "#ed7953"
             ],
             [
              0.7777777777777778,
              "#fb9f3a"
             ],
             [
              0.8888888888888888,
              "#fdca26"
             ],
             [
              1,
              "#f0f921"
             ]
            ],
            "type": "histogram2d"
           }
          ],
          "histogram2dcontour": [
           {
            "colorbar": {
             "outlinewidth": 0,
             "ticks": ""
            },
            "colorscale": [
             [
              0,
              "#0d0887"
             ],
             [
              0.1111111111111111,
              "#46039f"
             ],
             [
              0.2222222222222222,
              "#7201a8"
             ],
             [
              0.3333333333333333,
              "#9c179e"
             ],
             [
              0.4444444444444444,
              "#bd3786"
             ],
             [
              0.5555555555555556,
              "#d8576b"
             ],
             [
              0.6666666666666666,
              "#ed7953"
             ],
             [
              0.7777777777777778,
              "#fb9f3a"
             ],
             [
              0.8888888888888888,
              "#fdca26"
             ],
             [
              1,
              "#f0f921"
             ]
            ],
            "type": "histogram2dcontour"
           }
          ],
          "mesh3d": [
           {
            "colorbar": {
             "outlinewidth": 0,
             "ticks": ""
            },
            "type": "mesh3d"
           }
          ],
          "parcoords": [
           {
            "line": {
             "colorbar": {
              "outlinewidth": 0,
              "ticks": ""
             }
            },
            "type": "parcoords"
           }
          ],
          "pie": [
           {
            "automargin": true,
            "type": "pie"
           }
          ],
          "scatter": [
           {
            "marker": {
             "colorbar": {
              "outlinewidth": 0,
              "ticks": ""
             }
            },
            "type": "scatter"
           }
          ],
          "scatter3d": [
           {
            "line": {
             "colorbar": {
              "outlinewidth": 0,
              "ticks": ""
             }
            },
            "marker": {
             "colorbar": {
              "outlinewidth": 0,
              "ticks": ""
             }
            },
            "type": "scatter3d"
           }
          ],
          "scattercarpet": [
           {
            "marker": {
             "colorbar": {
              "outlinewidth": 0,
              "ticks": ""
             }
            },
            "type": "scattercarpet"
           }
          ],
          "scattergeo": [
           {
            "marker": {
             "colorbar": {
              "outlinewidth": 0,
              "ticks": ""
             }
            },
            "type": "scattergeo"
           }
          ],
          "scattergl": [
           {
            "marker": {
             "colorbar": {
              "outlinewidth": 0,
              "ticks": ""
             }
            },
            "type": "scattergl"
           }
          ],
          "scattermapbox": [
           {
            "marker": {
             "colorbar": {
              "outlinewidth": 0,
              "ticks": ""
             }
            },
            "type": "scattermapbox"
           }
          ],
          "scatterpolar": [
           {
            "marker": {
             "colorbar": {
              "outlinewidth": 0,
              "ticks": ""
             }
            },
            "type": "scatterpolar"
           }
          ],
          "scatterpolargl": [
           {
            "marker": {
             "colorbar": {
              "outlinewidth": 0,
              "ticks": ""
             }
            },
            "type": "scatterpolargl"
           }
          ],
          "scatterternary": [
           {
            "marker": {
             "colorbar": {
              "outlinewidth": 0,
              "ticks": ""
             }
            },
            "type": "scatterternary"
           }
          ],
          "surface": [
           {
            "colorbar": {
             "outlinewidth": 0,
             "ticks": ""
            },
            "colorscale": [
             [
              0,
              "#0d0887"
             ],
             [
              0.1111111111111111,
              "#46039f"
             ],
             [
              0.2222222222222222,
              "#7201a8"
             ],
             [
              0.3333333333333333,
              "#9c179e"
             ],
             [
              0.4444444444444444,
              "#bd3786"
             ],
             [
              0.5555555555555556,
              "#d8576b"
             ],
             [
              0.6666666666666666,
              "#ed7953"
             ],
             [
              0.7777777777777778,
              "#fb9f3a"
             ],
             [
              0.8888888888888888,
              "#fdca26"
             ],
             [
              1,
              "#f0f921"
             ]
            ],
            "type": "surface"
           }
          ],
          "table": [
           {
            "cells": {
             "fill": {
              "color": "#EBF0F8"
             },
             "line": {
              "color": "white"
             }
            },
            "header": {
             "fill": {
              "color": "#C8D4E3"
             },
             "line": {
              "color": "white"
             }
            },
            "type": "table"
           }
          ]
         },
         "layout": {
          "annotationdefaults": {
           "arrowcolor": "#2a3f5f",
           "arrowhead": 0,
           "arrowwidth": 1
          },
          "autotypenumbers": "strict",
          "coloraxis": {
           "colorbar": {
            "outlinewidth": 0,
            "ticks": ""
           }
          },
          "colorscale": {
           "diverging": [
            [
             0,
             "#8e0152"
            ],
            [
             0.1,
             "#c51b7d"
            ],
            [
             0.2,
             "#de77ae"
            ],
            [
             0.3,
             "#f1b6da"
            ],
            [
             0.4,
             "#fde0ef"
            ],
            [
             0.5,
             "#f7f7f7"
            ],
            [
             0.6,
             "#e6f5d0"
            ],
            [
             0.7,
             "#b8e186"
            ],
            [
             0.8,
             "#7fbc41"
            ],
            [
             0.9,
             "#4d9221"
            ],
            [
             1,
             "#276419"
            ]
           ],
           "sequential": [
            [
             0,
             "#0d0887"
            ],
            [
             0.1111111111111111,
             "#46039f"
            ],
            [
             0.2222222222222222,
             "#7201a8"
            ],
            [
             0.3333333333333333,
             "#9c179e"
            ],
            [
             0.4444444444444444,
             "#bd3786"
            ],
            [
             0.5555555555555556,
             "#d8576b"
            ],
            [
             0.6666666666666666,
             "#ed7953"
            ],
            [
             0.7777777777777778,
             "#fb9f3a"
            ],
            [
             0.8888888888888888,
             "#fdca26"
            ],
            [
             1,
             "#f0f921"
            ]
           ],
           "sequentialminus": [
            [
             0,
             "#0d0887"
            ],
            [
             0.1111111111111111,
             "#46039f"
            ],
            [
             0.2222222222222222,
             "#7201a8"
            ],
            [
             0.3333333333333333,
             "#9c179e"
            ],
            [
             0.4444444444444444,
             "#bd3786"
            ],
            [
             0.5555555555555556,
             "#d8576b"
            ],
            [
             0.6666666666666666,
             "#ed7953"
            ],
            [
             0.7777777777777778,
             "#fb9f3a"
            ],
            [
             0.8888888888888888,
             "#fdca26"
            ],
            [
             1,
             "#f0f921"
            ]
           ]
          },
          "colorway": [
           "#636efa",
           "#EF553B",
           "#00cc96",
           "#ab63fa",
           "#FFA15A",
           "#19d3f3",
           "#FF6692",
           "#B6E880",
           "#FF97FF",
           "#FECB52"
          ],
          "font": {
           "color": "#2a3f5f"
          },
          "geo": {
           "bgcolor": "white",
           "lakecolor": "white",
           "landcolor": "#E5ECF6",
           "showlakes": true,
           "showland": true,
           "subunitcolor": "white"
          },
          "hoverlabel": {
           "align": "left"
          },
          "hovermode": "closest",
          "mapbox": {
           "style": "light"
          },
          "paper_bgcolor": "white",
          "plot_bgcolor": "#E5ECF6",
          "polar": {
           "angularaxis": {
            "gridcolor": "white",
            "linecolor": "white",
            "ticks": ""
           },
           "bgcolor": "#E5ECF6",
           "radialaxis": {
            "gridcolor": "white",
            "linecolor": "white",
            "ticks": ""
           }
          },
          "scene": {
           "xaxis": {
            "backgroundcolor": "#E5ECF6",
            "gridcolor": "white",
            "gridwidth": 2,
            "linecolor": "white",
            "showbackground": true,
            "ticks": "",
            "zerolinecolor": "white"
           },
           "yaxis": {
            "backgroundcolor": "#E5ECF6",
            "gridcolor": "white",
            "gridwidth": 2,
            "linecolor": "white",
            "showbackground": true,
            "ticks": "",
            "zerolinecolor": "white"
           },
           "zaxis": {
            "backgroundcolor": "#E5ECF6",
            "gridcolor": "white",
            "gridwidth": 2,
            "linecolor": "white",
            "showbackground": true,
            "ticks": "",
            "zerolinecolor": "white"
           }
          },
          "shapedefaults": {
           "line": {
            "color": "#2a3f5f"
           }
          },
          "ternary": {
           "aaxis": {
            "gridcolor": "white",
            "linecolor": "white",
            "ticks": ""
           },
           "baxis": {
            "gridcolor": "white",
            "linecolor": "white",
            "ticks": ""
           },
           "bgcolor": "#E5ECF6",
           "caxis": {
            "gridcolor": "white",
            "linecolor": "white",
            "ticks": ""
           }
          },
          "title": {
           "x": 0.05
          },
          "xaxis": {
           "automargin": true,
           "gridcolor": "white",
           "linecolor": "white",
           "ticks": "",
           "title": {
            "standoff": 15
           },
           "zerolinecolor": "white",
           "zerolinewidth": 2
          },
          "yaxis": {
           "automargin": true,
           "gridcolor": "white",
           "linecolor": "white",
           "ticks": "",
           "title": {
            "standoff": 15
           },
           "zerolinecolor": "white",
           "zerolinewidth": 2
          }
         }
        }
       }
      },
      "text/html": [
       "<div>                            <div id=\"0918cf31-00ea-483d-9bb6-fd087a1bb4e3\" class=\"plotly-graph-div\" style=\"height:525px; width:100%;\"></div>            <script type=\"text/javascript\">                require([\"plotly\"], function(Plotly) {                    window.PLOTLYENV=window.PLOTLYENV || {};                                    if (document.getElementById(\"0918cf31-00ea-483d-9bb6-fd087a1bb4e3\")) {                    Plotly.newPlot(                        \"0918cf31-00ea-483d-9bb6-fd087a1bb4e3\",                        [{\"branchvalues\":\"total\",\"customdata\":[[-1.0],[-1.0],[-1.0],[-1.0],[-1.0],[-1.0],[1.0],[1.0],[1.0],[-1.0],[-1.0],[1.0],[1.0],[1.0],[1.0],[-1.0],[-1.0],[1.0],[1.0],[1.0],[1.0],[1.0],[1.0],[1.0],[-1.0],[1.0],[-1.0],[1.0],[1.0],[1.0],[-1.0],[1.0],[1.0],[1.0],[1.0],[-1.0],[-1.0],[1.0],[-1.0],[-1.0],[-1.0],[-1.0],[1.0],[1.0],[1.0],[-1.0],[1.0],[1.0],[1.0],[-1.0],[1.0],[1.0],[-1.0],[-1.0],[1.0],[1.0],[1.0],[-1.0],[-1.0],[1.0],[1.0],[1.0],[1.0],[1.0],[1.0],[-1.0],[-1.0],[1.0],[1.0],[1.0],[-1.0],[-1.0],[-1.0],[1.0],[-1.0],[1.0],[1.0],[1.0],[-1.0],[1.0],[1.0],[1.0],[1.0],[1.0],[1.0],[1.0],[1.0],[-1.0],[-1.0],[1.0],[-1.0],[1.0],[1.0],[1.0],[1.0],[1.0],[1.0],[-1.0],[-1.0],[-1.0],[-1.0],[1.0],[1.0],[1.0],[1.0],[1.0],[-1.0],[1.0],[1.0],[1.0],[-1.0],[1.0],[1.0],[1.0],[1.0],[1.0],[-1.0],[-1.0],[1.0],[1.0],[1.0],[-1.0],[1.0],[-1.0],[-1.0],[-1.0],[1.0],[1.0],[-1.0],[-1.0],[1.0],[-1.0],[-1.0],[1.0],[-1.0],[-1.0],[-1.0],[-1.0],[1.0],[-1.0],[-1.0],[-1.0],[-1.0],[-1.0],[-1.0],[-1.0],[1.0],[-1.0],[-1.0],[-1.0],[-1.0],[-1.0],[-1.0],[1.0],[-1.0],[-1.0],[1.0],[1.0],[1.0],[-1.0],[-1.0],[-1.0],[-1.0],[1.0],[1.0],[-1.0],[1.0],[1.0],[-1.0],[-1.0],[-1.0],[-1.0],[-1.0],[-1.0],[1.0],[-1.0],[1.0],[1.0],[1.0],[1.0],[-1.0],[-1.0],[-1.0],[1.0],[1.0],[-1.0],[1.0],[-1.0],[-1.0],[1.0],[1.0],[-1.0],[-1.0],[-1.0],[1.0],[-1.0],[-1.0],[-1.0],[1.0],[-1.0],[-1.0],[-1.0],[-1.0],[1.0],[-1.0],[1.0],[1.0],[-1.0],[1.0],[1.0],[-1.0],[1.0],[-1.0],[-1.0],[1.0],[1.0],[-1.0],[1.0],[-1.0],[-1.0],[-1.0],[-1.0],[1.0],[1.0],[1.0],[-1.0],[-1.0],[1.0],[-1.0],[-1.0],[-1.0],[-1.0],[1.0],[1.0],[1.0],[-1.0],[1.0],[1.0],[1.0],[-1.0],[1.0],[-1.0],[-1.0],[-1.0],[1.0],[1.0],[1.0],[-1.0],[1.0],[-1.0],[-1.0],[1.0],[-1.0],[-1.0],[1.0],[-1.0],[-1.0],[1.0],[-1.0],[-1.0],[-1.0],[-1.0],[1.0],[-1.0],[-1.0],[-1.0],[-1.0],[-1.0],[1.0],[-1.0],[1.0],[-1.0],[-1.0],[1.0],[-1.0],[-1.0],[-1.0],[1.0],[-1.0],[1.0],[-1.0],[1.0],[-1.0],[1.0],[-1.0],[-1.0],[1.0],[1.0],[1.0],[1.0],[1.0],[-1.0],[-1.0],[-1.0],[1.0],[-1.0],[1.0],[1.0],[1.0],[1.0],[-1.0],[-1.0],[-1.0],[1.0],[1.0],[1.0],[1.0],[-1.0],[1.0],[-1.0],[1.0],[-1.0],[1.0],[-1.0],[1.0],[1.0],[-1.0],[1.0],[1.0],[1.0],[-1.0],[1.0],[1.0],[1.0],[1.0],[1.0],[1.0],[1.0],[1.0],[1.0],[1.0],[-1.0],[-1.0],[1.0],[1.0],[1.0],[1.0],[1.0],[1.0],[1.0],[-1.0],[-1.0],[1.0],[1.0],[-1.0],[1.0],[1.0],[1.0],[1.0],[1.0],[1.0],[-1.0],[-1.0],[1.0],[-1.0],[1.0],[1.0],[-1.0],[-1.0],[-1.0],[-1.0],[-1.0],[1.0],[1.0],[1.0],[1.0],[1.0],[-1.0],[-1.0],[-1.0],[-1.0],[1.0],[1.0],[-1.0],[1.0],[1.0],[-1.0],[-1.0],[-1.0],[-1.0],[1.0],[-1.0],[1.0],[1.0],[1.0],[1.0],[-1.0],[1.0],[1.0],[-1.0],[-1.0],[1.0],[-1.0],[1.0],[1.0],[-1.0],[1.0],[1.0],[1.0],[1.0],[1.0],[1.0],[1.0],[1.0],[1.0],[1.0],[-1.0],[1.0],[-1.0],[1.0],[1.0],[1.0],[1.0],[1.0],[1.0],[1.0],[1.0],[1.0],[1.0],[1.0],[1.0],[1.0],[-1.0],[-1.0],[-1.0],[1.0],[-1.0],[-1.0],[-1.0],[-1.0],[1.0],[1.0],[1.0],[1.0],[-1.0],[1.0],[-1.0],[-1.0],[-1.0],[-1.0],[1.0],[-1.0],[1.0],[-1.0],[-1.0],[-1.0],[1.0],[1.0],[-1.0],[1.0],[1.0],[1.0],[1.0],[-1.0],[-1.0],[-1.0],[1.0],[-1.0],[1.0],[1.0],[1.0],[-1.0],[1.0],[-1.0],[-1.0],[-1.0],[1.0],[-1.0],[-1.0],[1.0],[-1.0],[1.0],[-1.0],[1.0],[-1.0],[-1.0],[-1.0],[-1.0],[1.0],[1.0],[-1.0],[-1.0],[-1.0],[-1.0],[-1.0],[1.0],[-1.0],[-1.0],[1.0],[-1.0],[1.0],[1.0],[1.0],[-1.0],[1.0],[-1.0],[-1.0],[-1.0],[1.0],[-1.0],[1.0],[1.0],[1.0],[-1.0],[1.0],[1.0],[1.0],[1.0],[1.0],[-1.0],[1.0],[-1.0],[1.0],[-1.0],[-1.0],[1.0],[1.0],[-1.0],[-1.0],[-1.0],[1.0],[1.0],[-1.0],[-1.0],[-1.0],[1.0],[1.0],[-1.0],[-1.0],[1.0],[-1.0],[1.0],[1.0],[-1.0],[-1.0],[1.0],[-1.0],[-1.0],[1.0],[-1.0],[-1.0],[1.0],[-1.0],[1.0],[1.0],[-1.0],[-1.0],[-1.0],[-1.0],[-1.0],[-1.0],[-1.0],[-1.0],[-1.0],[-1.0],[1.0],[-1.0],[-1.0],[1.0],[1.0],[1.0],[-1.0],[-1.0],[-1.0],[1.0],[1.0],[1.0],[1.0],[1.0],[-1.0],[1.0],[1.0],[-1.0],[-1.0],[1.0],[1.0],[1.0],[-1.0],[1.0],[-1.0],[-1.0],[-1.0],[-1.0],[-1.0],[1.0],[1.0],[1.0],[1.0],[1.0],[1.0],[-1.0],[1.0],[1.0],[-1.0],[-1.0],[1.0],[1.0],[-1.0],[-1.0],[1.0],[-1.0],[1.0],[1.0],[-1.0],[1.0],[1.0],[-1.0],[1.0],[-1.0],[-1.0],[1.0],[1.0],[-1.0],[1.0],[-1.0],[1.0],[-1.0],[1.0],[1.0],[-1.0],[-1.0],[-1.0],[-1.0],[-1.0],[-1.0],[1.0],[1.0],[1.0],[1.0],[1.0],[-1.0],[-1.0],[1.0],[1.0],[1.0],[-1.0],[1.0],[1.0],[1.0],[-1.0],[-1.0],[-1.0],[1.0],[1.0],[-1.0],[-1.0],[-1.0],[1.0],[1.0],[1.0],[1.0],[-1.0],[1.0],[1.0],[1.0],[1.0],[1.0],[1.0],[1.0],[1.0],[-1.0],[-1.0],[1.0],[-1.0],[-1.0],[1.0],[-1.0],[-1.0],[1.0],[1.0],[-1.0],[1.0],[1.0],[1.0],[1.0],[-1.0],[1.0],[-1.0],[1.0],[1.0],[-1.0],[-1.0],[1.0],[1.0],[0.6857334859974624],[-0.9527522190195067],[-0.9484224139076719],[-0.3941401229400529],[1.0],[0.5900698637082894],[-1.0],[1.0],[-0.20191376058309232],[-0.8240883734037528],[-0.13813472895143847],[1.0],[-0.5791255033196202],[1.0],[1.0],[1.0],[-1.0],[1.0],[-1.0],[1.0],[-1.0],[-0.08238294712138554],[0.9160635857843529],[-0.8389979847348918],[-0.3473467537104452],[1.0],[-1.0],[-1.0],[-1.0],[-1.0],[1.0],[-0.3844764363724855],[0.6245082258371731],[1.0],[1.0],[1.0],[1.0],[-0.5096290246867484],[-1.0],[-0.8329600194289815],[-0.777459774028322],[0.9979468048963988],[0.5407418090328439],[0.5506189107116669],[1.0],[0.9468484140589404],[0.9644868964377505],[1.0],[-1.0],[1.0],[0.6667733067887714],[1.0],[1.0],[1.0],[1.0],[1.0],[-1.0],[-0.3226072303367121],[1.0],[-1.0],[1.0],[0.9977208701509319],[0.9994276629843004],[1.0],[1.0],[-1.0],[0.8178116309307911],[-0.9867989190284738],[-1.0],[-0.2035585041260953],[0.8392259701415807],[0.837275823666103],[0.2637968839524741]],\"domain\":{\"x\":[0.0,1.0],\"y\":[0.0,1.0]},\"hovertemplate\":\"labels=%{label}<br>abs_cumul_net_dollar_flow=%{value}<br>parent=%{parent}<br>id=%{id}<br>flow_direction=%{color}<extra></extra>\",\"ids\":[\"all/Solana/01\",\"all/Fantom/88mph\",\"all/Polygon/88mph\",\"all/staking/88mph\",\"all/Avalanche/aave-v2\",\"all/Polygon/aave-v2\",\"all/pool2/aave-v2\",\"all/staking/aave-v2\",\"all/Arbitrum/aave-v3\",\"all/Avalanche/aave-v3\",\"all/Fantom/aave-v3\",\"all/Harmony/aave-v3\",\"all/Optimism/aave-v3\",\"all/Polygon/aave-v3\",\"all/Polygon/aavegotchi\",\"all/pool2/aavegotchi\",\"all/staking/aavegotchi\",\"all/Acala/acala-dollar\",\"all/Acala/acala-lcdot\",\"all/Acala/acala-liquid-staking\",\"all/Acala/acala-swap\",\"all/Astar/acryptos\",\"all/Avalanche/acryptos\",\"all/Binance/acryptos\",\"all/Cronos/acryptos\",\"all/Fantom/acryptos\",\"all/Harmony/acryptos\",\"all/Moonbeam/acryptos\",\"all/Moonriver/acryptos\",\"all/xDai/acryptos\",\"all/Fantom/alchemix\",\"all/staking/alchemix\",\"all/Solana/aldrin\",\"all/Algorand/algofi\",\"all/staking/algofi\",\"all/Avalanche/allbridge\",\"all/Binance/allbridge\",\"all/Celo/allbridge\",\"all/Fantom/allbridge\",\"all/Heco/allbridge\",\"all/Near/allbridge\",\"all/Polygon/allbridge\",\"all/Solana/allbridge\",\"all/Terra/allbridge\",\"all/staking/allbridge\",\"all/Binance/alpaca-finance\",\"all/Fantom/alpaca-finance\",\"all/staking/alpaca-finance\",\"all/Arbitrum/angle\",\"all/Optimism/angle\",\"all/Polygon/angle\",\"all/staking/angle\",\"all/Avalanche/ankr\",\"all/Binance/ankr\",\"all/Fantom/ankr\",\"all/Kusama/ankr\",\"all/Polkadot/ankr\",\"all/Binance/apeswap-amm\",\"all/Polygon/apeswap-amm\",\"all/staking/apeswap-amm\",\"all/Binance/apeswap-lending\",\"all/Binance/apollox\",\"all/pool2/apollox\",\"all/staking/apollox\",\"all/Optimism/arrakis-finance\",\"all/Polygon/arrakis-finance\",\"all/Astar/arthswap\",\"all/staking/arthswap\",\"all/Terra/astroport\",\"all/Terra2/astroport\",\"all/Aurora/aurigami\",\"all/Arbitrum/b.protocol\",\"all/Fantom/b.protocol\",\"all/Polygon/b.protocol\",\"all/Binance/babyswap\",\"all/staking/babyswap\",\"all/Arbitrum/balancer\",\"all/Polygon/balancer\",\"all/Aurora/bastion\",\"all/Arbitrum/beefy\",\"all/Aurora/beefy\",\"all/Avalanche/beefy\",\"all/Binance/beefy\",\"all/Celo/beefy\",\"all/Cronos/beefy\",\"all/Fantom/beefy\",\"all/Fuse/beefy\",\"all/Harmony/beefy\",\"all/Heco/beefy\",\"all/Metis/beefy\",\"all/Moonbeam/beefy\",\"all/Moonriver/beefy\",\"all/Oasis/beefy\",\"all/Optimism/beefy\",\"all/Polygon/beefy\",\"all/staking/beefy\",\"all/Fantom/beethoven-x\",\"all/Optimism/beethoven-x\",\"all/pool2/bella-protocol\",\"all/Binance/belt-finance\",\"all/Heco/belt-finance\",\"all/Klaytn/belt-finance\",\"all/staking/belt-finance\",\"all/Avalanche/benqi-lending\",\"all/pool2/benqi-lending\",\"all/Avalanche/benqi-staked-avax\",\"all/Avalanche/beta-finance\",\"all/Avalanche/bifi\",\"all/Binance/bifi\",\"all/Klaytn/bifi\",\"all/staking/bifi\",\"all/Bifrost/bifrost\",\"all/Binance/biswap\",\"all/staking/biswap\",\"all/Binance/bunny\",\"all/Polygon/bunny\",\"all/Near/burrow\",\"all/Arbitrum/cbridge\",\"all/Aurora/cbridge\",\"all/Avalanche/cbridge\",\"all/Binance/cbridge\",\"all/Boba/cbridge\",\"all/Fantom/cbridge\",\"all/Harmony/cbridge\",\"all/Metis/cbridge\",\"all/Moonriver/cbridge\",\"all/Optimism/cbridge\",\"all/Polygon/cbridge\",\"all/Shiden/cbridge\",\"all/Binance/chainport\",\"all/Klaytn/claimswap\",\"all/staking/claimswap\",\"all/Moonbeam/clipper\",\"all/Optimism/clipper\",\"all/Polygon/clipper\",\"all/Binance/coinwind\",\"all/Heco/coinwind\",\"all/pool2/coinwind\",\"all/staking/coinwind\",\"all/Arbitrum/connext\",\"all/Avalanche/connext\",\"all/Binance/connext\",\"all/Boba/connext\",\"all/Cronos/connext\",\"all/Evmos/connext\",\"all/Fantom/connext\",\"all/Fuse/connext\",\"all/Milkomeda/connext\",\"all/Moonbeam/connext\",\"all/Moonriver/connext\",\"all/Optimism/connext\",\"all/Polygon/connext\",\"all/xDai/connext\",\"all/staking/convex-finance\",\"all/Arbitrum/cream-finance\",\"all/Binance/cream-finance\",\"all/Polygon/cream-finance\",\"all/DFK/crystalvale\",\"all/staking/crystalvale\",\"all/Arbitrum/curve\",\"all/Aurora/curve\",\"all/Avalanche/curve\",\"all/Fantom/curve\",\"all/Moonbeam/curve\",\"all/Optimism/curve\",\"all/Polygon/curve\",\"all/staking/curve\",\"all/xDai/curve\",\"all/Binance/deeplock\",\"all/pool2/deeplock\",\"all/Harmony/defi-kingdoms\",\"all/staking/defi-kingdoms\",\"all/Wax/defibox\",\"all/Avalanche/defrost\",\"all/staking/defrost\",\"all/Arbitrum/dforce\",\"all/Binance/dforce\",\"all/Optimism/dforce\",\"all/Polygon/dforce\",\"all/staking/dforce\",\"all/Polygon/dfx-finance\",\"all/Fantom/dfyn-network\",\"all/OKExChain/dfyn-network\",\"all/Polygon/dfyn-network\",\"all/staking/dhedge\",\"all/Arbitrum/dodo\",\"all/Aurora/dodo\",\"all/Binance/dodo\",\"all/Polygon/dodo\",\"all/Arbitrum/dopex\",\"all/Binance/dopex\",\"all/pool2/dopex\",\"all/staking/dopex\",\"all/Binance/dot-dot-finance\",\"all/staking/dot-dot-finance\",\"all/Avalanche/dxsale\",\"all/Binance/dxsale\",\"all/Celo/dxsale\",\"all/Cronos/dxsale\",\"all/Fantom/dxsale\",\"all/Harmony/dxsale\",\"all/Heco/dxsale\",\"all/Milkomeda/dxsale\",\"all/OKExChain/dxsale\",\"all/Polygon/dxsale\",\"all/Polygon/dystopia\",\"all/Avalanche/echidna-finance\",\"all/pool2/echidna-finance\",\"all/staking/echidna-finance\",\"all/Binance/ellipsis-finance\",\"all/staking/ellipsis-finance\",\"all/EOS/eos-rex\",\"all/Fantom/fantohm\",\"all/Moonriver/fantohm\",\"all/staking/fantohm\",\"all/Cronos/ferro\",\"all/Arbitrum/filda\",\"all/Binance/filda\",\"all/Elastos/filda\",\"all/Heco/filda\",\"all/IoTeX/filda\",\"all/Polygon/filda\",\"all/REI/filda\",\"all/NEO/flamingo-finance\",\"all/Songbird/flrfarm\",\"all/pool2/flrfarm\",\"all/staking/flrfarm\",\"all/Algorand/folks-finance\",\"all/Ethereum-treasury/frax\",\"all/Fantom/frax\",\"all/pool2/frax\",\"all/staking/frax\",\"all/Solana/friktion\",\"all/Polygon/gains-network\",\"all/pool2/gains-network\",\"all/Fantom/geist-finance\",\"all/pool2/geist-finance\",\"all/staking/geist-finance\",\"all/Arbitrum/gmx\",\"all/Avalanche/gmx\",\"all/staking/gmx\",\"all/Avalanche/gro\",\"all/pool2/gro\",\"all/staking/gro\",\"all/Binance/guard(helmet)\",\"all/Polygon/guard(helmet)\",\"all/Binance/harvest-finance\",\"all/Polygon/harvest-finance\",\"all/Arbitrum/hashflow\",\"all/Avalanche/hashflow\",\"all/Binance/hashflow\",\"all/Polygon/hashflow\",\"all/Binance/hector-network\",\"all/Fantom/hector-network\",\"all/staking/hector-network\",\"all/Avalanche/homora\",\"all/Binance/homora\",\"all/Fantom/homora\",\"all/Arbitrum/hop-protocol\",\"all/Optimism/hop-protocol\",\"all/Polygon/hop-protocol\",\"all/xDai/hop-protocol\",\"all/Solana/hubble\",\"all/staking/hubble\",\"all/Arbitrum/hundred-finance\",\"all/Fantom/hundred-finance\",\"all/Harmony/hundred-finance\",\"all/Moonriver/hundred-finance\",\"all/Optimism/hundred-finance\",\"all/Polygon/hundred-finance\",\"all/Polygon/idex\",\"all/Polygon/idle-finance\",\"all/Avalanche/insurace\",\"all/Binance/insurace\",\"all/Polygon/insurace\",\"all/Avalanche/iron-bank\",\"all/Fantom/iron-bank\",\"all/Binance/iziswap\",\"all/Arbitrum/izumi-finance\",\"all/Polygon/izumi-finance\",\"all/pool2/izumi-finance\",\"all/staking/izumi-finance\",\"all/Solana/jpool\",\"all/Tron/justlend\",\"all/Tron/juststables\",\"all/Kardia/kaidex\",\"all/Karura/karura-dollar-(kusd)\",\"all/Karura/karura-liquid-staking\",\"all/Solana/katana\",\"all/Ronin/katana-dex\",\"all/Kava/kava-lend\",\"all/Kava/kava-mint\",\"all/Kava/kava-swap\",\"all/staking/keep-network\",\"all/staking/keep3r-network\",\"all/Klaytn/klap\",\"all/Klaytn/klayswap\",\"all/staking/klayswap\",\"all/Polygon/klima-dao\",\"all/staking/klima-dao\",\"all/Binance/knightswap-finance\",\"all/Fantom/knightswap-finance\",\"all/staking/knightswap-finance\",\"all/Klaytn/kokoa-finance\",\"all/pool2/kokoa-finance\",\"all/staking/kokoa-finance\",\"all/Klaytn/kokonut-swap\",\"all/staking/kokonut-swap\",\"all/Arbitrum/kyberswap\",\"all/Avalanche/kyberswap\",\"all/Binance/kyberswap\",\"all/Cronos/kyberswap\",\"all/Fantom/kyberswap\",\"all/Oasis/kyberswap\",\"all/Optimism/kyberswap\",\"all/Polygon/kyberswap\",\"all/Solana/larix\",\"all/Moonbeam/lido\",\"all/Moonriver/lido\",\"all/Solana/lido\",\"all/Terra/lido\",\"all/Bitcoin/lightning-network\",\"all/Near/linear-protocol\",\"all/Binance/liqee\",\"all/Fantom/liquid-driver\",\"all/staking/liquid-driver\",\"all/Algorand/lofty\",\"all/Optimism/lyra\",\"all/staking/lyra\",\"all/Elrond/maiar-exchange\",\"all/staking/maiar-exchange\",\"all/Solana/mango-markets\",\"all/Solana/maple\",\"all/staking/maple\",\"all/Solana/marinade-finance\",\"all/Celo/mento\",\"all/Solana/mercurial-finance\",\"all/Polygon/meshswap\",\"all/staking/meshswap\",\"all/Near/meta-pool\",\"all/IoTeX/mimo\",\"all/Fantom/mimo-defi\",\"all/Polygon/mimo-defi\",\"all/Cardano/minswap\",\"all/Cronos/mm-finance\",\"all/staking/mm-finance\",\"all/Cronos/mm-optimizer\",\"all/staking/mm-optimizer\",\"all/Kucoin/mojitoswap\",\"all/staking/mojitoswap\",\"all/RSK/moneyonchain\",\"all/Celo/moola-market\",\"all/Moonriver/moonwell-apollo\",\"all/staking/moonwell-apollo\",\"all/Moonbeam/moonwell-artemis\",\"all/staking/moonwell-artemis\",\"all/Polygon/mstable\",\"all/NEO/neoburger\",\"all/Avalanche/nereus-finance\",\"all/Metis/netswap\",\"all/Waves/neutrino\",\"all/Binance/nomiswap\",\"all/staking/nomiswap\",\"all/Avalanche/octus-bridge\",\"all/Binance/octus-bridge\",\"all/Everscale/octus-bridge\",\"all/Polygon/octus-bridge\",\"all/staking/olympus-dao\",\"all/Avalanche/onx-finance\",\"all/Fantom/onx-finance\",\"all/Polygon/onx-finance\",\"all/pool2/onx-finance\",\"all/staking/onx-finance\",\"all/Arbitrum/ooki\",\"all/Binance/ooki\",\"all/Optimism/ooki\",\"all/Polygon/ooki\",\"all/Avalanche/opyn\",\"all/Polygon/opyn\",\"all/Binance/orion-protocol\",\"all/Osmosis/osmosis\",\"all/Boba/outcome-finance\",\"all/Polygon/outcome-finance\",\"all/Binance/pancakeswap\",\"all/staking/pancakeswap\",\"all/Avalanche/pangolin\",\"all/Solana/parrot-protocol\",\"all/Polygon/penrose\",\"all/staking/penrose\",\"all/Optimism/perpetual-protocol\",\"all/staking/perpetual-protocol\",\"all/Arbitrum/pickle\",\"all/Aurora/pickle\",\"all/Cronos/pickle\",\"all/Metis/pickle\",\"all/Moonbeam/pickle\",\"all/Moonriver/pickle\",\"all/OKExChain/pickle\",\"all/Optimism/pickle\",\"all/Polygon/pickle\",\"all/pool2/pickle\",\"all/staking/pickle\",\"all/Avalanche/pinksale\",\"all/Binance/pinksale\",\"all/Cronos/pinksale\",\"all/Fantom/pinksale\",\"all/Polygon/pinksale\",\"all/Binance/planet\",\"all/staking/planet\",\"all/Avalanche/platypus-finance\",\"all/staking/platypus-finance\",\"all/Binance/pnetwork\",\"all/Bitcoin/pnetwork\",\"all/Doge/pnetwork\",\"all/EOS/pnetwork\",\"all/Fantom/pnetwork\",\"all/LBRY/pnetwork\",\"all/Litecoin/pnetwork\",\"all/ORE/pnetwork\",\"all/Ravencoin/pnetwork\",\"all/Telos/pnetwork\",\"all/Polygon/polygon-bridge-&-staking\",\"all/Avalanche/pooltogether\",\"all/Binance/pooltogether\",\"all/Celo/pooltogether\",\"all/Optimism/pooltogether\",\"all/Polygon/pooltogether\",\"all/Solana/port-finance\",\"all/Binance/position-exchange\",\"all/Binance-treasury/position-exchange\",\"all/staking/position-exchange\",\"all/Proton/proton-loan\",\"all/staking/proton-loan\",\"all/pool2/pstake\",\"all/Hoo/puddingswap\",\"all/Arbitrum/qidao\",\"all/Avalanche/qidao\",\"all/Binance/qidao\",\"all/Fantom/qidao\",\"all/Harmony/qidao\",\"all/Metis/qidao\",\"all/Moonriver/qidao\",\"all/Optimism/qidao\",\"all/Polygon/qidao\",\"all/xDai/qidao\",\"all/Solana/quarry\",\"all/Polygon/quickswap\",\"all/Arbitrum/radiant\",\"all/pool2/radiant\",\"all/staking/radiant\",\"all/Avalanche/radioshack\",\"all/Binance/radioshack\",\"all/Polygon/radioshack\",\"all/staking/radioshack\",\"all/Arbitrum/rari-capital\",\"all/pool2/rari-capital\",\"all/xDai/realt\",\"all/Fantom/reaper-farm\",\"all/Optimism/reaper-farm\",\"all/Near/ref-finance\",\"all/Arbitrum/renvm\",\"all/Avalanche/renvm\",\"all/Binance/renvm\",\"all/Fantom/renvm\",\"all/Polygon/renvm\",\"all/Solana/renvm\",\"all/Telos/rex-staking\",\"all/Avalanche/ribbon-finance\",\"all/Solana/ribbon-finance\",\"all/staking/ribbon-finance\",\"all/Arbitrum/risk-harbor\",\"all/Aurora/risk-harbor\",\"all/Avalanche/risk-harbor\",\"all/Fantom/risk-harbor\",\"all/Solana/saber\",\"all/Arbitrum/saddle-finance\",\"all/Evmos/saddle-finance\",\"all/Fantom/saddle-finance\",\"all/Kava/saddle-finance\",\"all/Optimism/saddle-finance\",\"all/Binance/sashimiswap\",\"all/Heco/sashimiswap\",\"all/staking/sashimiswap\",\"all/pool2/sharedstake\",\"all/Icon/sicx\",\"all/Cronos/single-finance\",\"all/Fantom/single-finance\",\"all/pool2/single-finance\",\"all/staking/single-finance\",\"all/Moonriver/solarbeam\",\"all/Solana/solend\",\"all/Binance/solo-top\",\"all/Heco/solo-top\",\"all/OKExChain/solo-top\",\"all/Polygon/solo-top\",\"all/Binance/solv-protocol\",\"all/Polygon/solv-protocol\",\"all/Fantom/spartacus\",\"all/staking/spartacus\",\"all/Fantom/spiritswap\",\"all/staking/spiritswap\",\"all/Fantom/spookyswap\",\"all/staking/spool-protocol\",\"all/Stacks/stacks-staking\",\"all/Binance/stader\",\"all/Fantom/stader\",\"all/Hedera/stader\",\"all/Near/stader\",\"all/Polygon/stader\",\"all/Terra/stader\",\"all/Terra2/stader\",\"all/Binance/stafi\",\"all/Cosmos/stafi\",\"all/Polygon/stafi\",\"all/Solana/stafi\",\"all/Stafi/stafi\",\"all/staking/stafi\",\"all/Avalanche/stakedao\",\"all/Harmony/stakedao\",\"all/Polygon/stakedao\",\"all/staking/stakedao\",\"all/xDai/stakewise\",\"all/Arbitrum/stargate\",\"all/Avalanche/stargate\",\"all/Binance/stargate\",\"all/Fantom/stargate\",\"all/Optimism/stargate\",\"all/Polygon/stargate\",\"all/Astar/starlay-finance\",\"all/staking/starlay-finance\",\"all/Moonbeam/stellaswap\",\"all/staking/stellaswap\",\"all/Fantom/sturdy\",\"all/Tron/sun.io\",\"all/pool2/sun.io\",\"all/staking/sun.io\",\"all/Cardano/sundaeswap\",\"all/Solana/sunny\",\"all/Tron/sunswap\",\"all/Polygon/superfluid\",\"all/xDai/superfluid\",\"all/Arbitrum/sushiswap\",\"all/Avalanche/sushiswap\",\"all/Binance/sushiswap\",\"all/Celo/sushiswap\",\"all/Fantom/sushiswap\",\"all/Fuse/sushiswap\",\"all/Harmony/sushiswap\",\"all/Heco/sushiswap\",\"all/Moonriver/sushiswap\",\"all/OKExChain/sushiswap\",\"all/Palm/sushiswap\",\"all/Polygon/sushiswap\",\"all/Telos/sushiswap\",\"all/staking/sushiswap\",\"all/xDai/sushiswap\",\"all/Arbitrum/sushiswap-kashi\",\"all/Binance/sushiswap-kashi\",\"all/Fantom/sushiswap-kashi\",\"all/Arbitrum/swapr\",\"all/xDai/swapr\",\"all/Solana/swim-protocol\",\"all/Arbitrum/synapse\",\"all/Aurora/synapse\",\"all/Avalanche/synapse\",\"all/Binance/synapse\",\"all/Boba/synapse\",\"all/Cronos/synapse\",\"all/Fantom/synapse\",\"all/Harmony/synapse\",\"all/Klaytn/synapse\",\"all/Metis/synapse\",\"all/Moonriver/synapse\",\"all/Optimism/synapse\",\"all/Polygon/synapse\",\"all/pool2/synapse\",\"all/Optimism/synthetix\",\"all/Fantom/tarot\",\"all/Optimism/tarot\",\"all/Avalanche/team-finance\",\"all/Binance/team-finance\",\"all/Polygon/team-finance\",\"all/Cronos/tectonic\",\"all/pool2/temple-dao\",\"all/staking/temple-dao\",\"all/Binance/terra-bridge\",\"all/Harmony/terra-bridge\",\"all/Fantom/tetu\",\"all/Polygon/tetu\",\"all/Tezos/tezos-liquidity-baking\",\"all/Theta/thetacash\",\"all/Aurora/thetanuts-finance\",\"all/Avalanche/thetanuts-finance\",\"all/Binance/thetanuts-finance\",\"all/Boba/thetanuts-finance\",\"all/Fantom/thetanuts-finance\",\"all/Polygon/thetanuts-finance\",\"all/Theta/thetaswap\",\"all/staking/thorchain\",\"all/Algorand/tinyman\",\"all/pool2/tokemak\",\"all/staking/tokemak\",\"all/Binance/tokensfarm\",\"all/Fantom/tokensfarm\",\"all/Polygon/tokensfarm\",\"all/Fantom/tomb-finance\",\"all/pool2/tomb-finance\",\"all/staking/tomb-finance\",\"all/Arbitrum/tornado-cash\",\"all/Avalanche/tornado-cash\",\"all/Binance/tornado-cash\",\"all/Optimism/tornado-cash\",\"all/Polygon/tornado-cash\",\"all/xDai/tornado-cash\",\"all/Polygon/toucan-protocol\",\"all/Avalanche/trader-joe\",\"all/staking/trader-joe\",\"all/Binance/tranchess\",\"all/staking/tranchess\",\"all/Aurora/trisolaris\",\"all/staking/truefi\",\"all/Avalanche/unicrypt\",\"all/Binance/unicrypt\",\"all/Polygon/unicrypt\",\"all/pool2/unicrypt\",\"all/staking/unicrypt\",\"all/Arbitrum/uniswap\",\"all/Celo/uniswap\",\"all/Optimism/uniswap\",\"all/Polygon/uniswap\",\"all/Solana/uxd\",\"all/Binance/valas-finance\",\"all/pool2/valas-finance\",\"all/staking/valas-finance\",\"all/Oasis/valleyswap\",\"all/Avalanche/vector-finance\",\"all/pool2/vector-finance\",\"all/staking/vector-finance\",\"all/Optimism/velodrome\",\"all/Binance/venus\",\"all/Avalanche/vesper\",\"all/Polygon/vesper\",\"all/staking/vesper\",\"all/Arbitrum/vesta-finance\",\"all/pool2/vesta-finance\",\"all/Waves/vires-finance\",\"all/Cronos/vvs-finance\",\"all/Waves/waves-exchange\",\"all/Arbitrum/wepiggy\",\"all/Aurora/wepiggy\",\"all/Binance/wepiggy\",\"all/Harmony/wepiggy\",\"all/Heco/wepiggy\",\"all/Moonbeam/wepiggy\",\"all/Moonriver/wepiggy\",\"all/OKExChain/wepiggy\",\"all/Oasis/wepiggy\",\"all/Optimism/wepiggy\",\"all/Polygon/wepiggy\",\"all/staking/wing-finance\",\"all/Cardano/wingriders\",\"all/Binance/wombat-exchange\",\"all/Binance/wrapped-bnb\",\"all/Astar/xdao\",\"all/Avalanche/xdao\",\"all/Binance/xdao\",\"all/Fantom/xdao\",\"all/Polygon/xdao\",\"all/Arbitrum/yearn-finance\",\"all/Fantom/yearn-finance\",\"all/Avalanche/yeti-finance\",\"all/pool2/yeti-finance\",\"all/staking/yeti-finance\",\"all/Arbitrum/yield-protocol\",\"all/Avalanche/yield-yak\",\"all/pool2/yield-yak\",\"all/staking/yield-yak\",\"all/Binance/yoshi-exchange\",\"all/Fantom/yoshi-exchange\",\"all/Tezos/youves\",\"all/pool2/youves\",\"all/Solana/zeta\",\"all/Acala\",\"all/Algorand\",\"all/Arbitrum\",\"all/Astar\",\"all/Aurora\",\"all/Avalanche\",\"all/Bifrost\",\"all/Binance\",\"all/Binance-treasury\",\"all/Bitcoin\",\"all/Boba\",\"all/Cardano\",\"all/Celo\",\"all/Cosmos\",\"all/Cronos\",\"all/DFK\",\"all/Doge\",\"all/EOS\",\"all/Elastos\",\"all/Elrond\",\"all/Ethereum-treasury\",\"all/Everscale\",\"all/Evmos\",\"all/Fantom\",\"all/Fuse\",\"all/Harmony\",\"all/Heco\",\"all/Hedera\",\"all/Hoo\",\"all/Icon\",\"all/IoTeX\",\"all/Kardia\",\"all/Karura\",\"all/Kava\",\"all/Klaytn\",\"all/Kucoin\",\"all/Kusama\",\"all/LBRY\",\"all/Litecoin\",\"all/Metis\",\"all/Milkomeda\",\"all/Moonbeam\",\"all/Moonriver\",\"all/NEO\",\"all/Near\",\"all/OKExChain\",\"all/ORE\",\"all/Oasis\",\"all/Optimism\",\"all/Osmosis\",\"all/Palm\",\"all/Polkadot\",\"all/Polygon\",\"all/Proton\",\"all/REI\",\"all/RSK\",\"all/Ravencoin\",\"all/Ronin\",\"all/Shiden\",\"all/Solana\",\"all/Songbird\",\"all/Stacks\",\"all/Stafi\",\"all/Telos\",\"all/Terra\",\"all/Terra2\",\"all/Tezos\",\"all/Theta\",\"all/Tron\",\"all/Waves\",\"all/Wax\",\"all/pool2\",\"all/staking\",\"all/xDai\",\"all\"],\"labels\":[\"01\",\"88mph\",\"88mph\",\"88mph\",\"aave-v2\",\"aave-v2\",\"aave-v2\",\"aave-v2\",\"aave-v3\",\"aave-v3\",\"aave-v3\",\"aave-v3\",\"aave-v3\",\"aave-v3\",\"aavegotchi\",\"aavegotchi\",\"aavegotchi\",\"acala-dollar\",\"acala-lcdot\",\"acala-liquid-staking\",\"acala-swap\",\"acryptos\",\"acryptos\",\"acryptos\",\"acryptos\",\"acryptos\",\"acryptos\",\"acryptos\",\"acryptos\",\"acryptos\",\"alchemix\",\"alchemix\",\"aldrin\",\"algofi\",\"algofi\",\"allbridge\",\"allbridge\",\"allbridge\",\"allbridge\",\"allbridge\",\"allbridge\",\"allbridge\",\"allbridge\",\"allbridge\",\"allbridge\",\"alpaca-finance\",\"alpaca-finance\",\"alpaca-finance\",\"angle\",\"angle\",\"angle\",\"angle\",\"ankr\",\"ankr\",\"ankr\",\"ankr\",\"ankr\",\"apeswap-amm\",\"apeswap-amm\",\"apeswap-amm\",\"apeswap-lending\",\"apollox\",\"apollox\",\"apollox\",\"arrakis-finance\",\"arrakis-finance\",\"arthswap\",\"arthswap\",\"astroport\",\"astroport\",\"aurigami\",\"b.protocol\",\"b.protocol\",\"b.protocol\",\"babyswap\",\"babyswap\",\"balancer\",\"balancer\",\"bastion\",\"beefy\",\"beefy\",\"beefy\",\"beefy\",\"beefy\",\"beefy\",\"beefy\",\"beefy\",\"beefy\",\"beefy\",\"beefy\",\"beefy\",\"beefy\",\"beefy\",\"beefy\",\"beefy\",\"beefy\",\"beethoven-x\",\"beethoven-x\",\"bella-protocol\",\"belt-finance\",\"belt-finance\",\"belt-finance\",\"belt-finance\",\"benqi-lending\",\"benqi-lending\",\"benqi-staked-avax\",\"beta-finance\",\"bifi\",\"bifi\",\"bifi\",\"bifi\",\"bifrost\",\"biswap\",\"biswap\",\"bunny\",\"bunny\",\"burrow\",\"cbridge\",\"cbridge\",\"cbridge\",\"cbridge\",\"cbridge\",\"cbridge\",\"cbridge\",\"cbridge\",\"cbridge\",\"cbridge\",\"cbridge\",\"cbridge\",\"chainport\",\"claimswap\",\"claimswap\",\"clipper\",\"clipper\",\"clipper\",\"coinwind\",\"coinwind\",\"coinwind\",\"coinwind\",\"connext\",\"connext\",\"connext\",\"connext\",\"connext\",\"connext\",\"connext\",\"connext\",\"connext\",\"connext\",\"connext\",\"connext\",\"connext\",\"connext\",\"convex-finance\",\"cream-finance\",\"cream-finance\",\"cream-finance\",\"crystalvale\",\"crystalvale\",\"curve\",\"curve\",\"curve\",\"curve\",\"curve\",\"curve\",\"curve\",\"curve\",\"curve\",\"deeplock\",\"deeplock\",\"defi-kingdoms\",\"defi-kingdoms\",\"defibox\",\"defrost\",\"defrost\",\"dforce\",\"dforce\",\"dforce\",\"dforce\",\"dforce\",\"dfx-finance\",\"dfyn-network\",\"dfyn-network\",\"dfyn-network\",\"dhedge\",\"dodo\",\"dodo\",\"dodo\",\"dodo\",\"dopex\",\"dopex\",\"dopex\",\"dopex\",\"dot-dot-finance\",\"dot-dot-finance\",\"dxsale\",\"dxsale\",\"dxsale\",\"dxsale\",\"dxsale\",\"dxsale\",\"dxsale\",\"dxsale\",\"dxsale\",\"dxsale\",\"dystopia\",\"echidna-finance\",\"echidna-finance\",\"echidna-finance\",\"ellipsis-finance\",\"ellipsis-finance\",\"eos-rex\",\"fantohm\",\"fantohm\",\"fantohm\",\"ferro\",\"filda\",\"filda\",\"filda\",\"filda\",\"filda\",\"filda\",\"filda\",\"flamingo-finance\",\"flrfarm\",\"flrfarm\",\"flrfarm\",\"folks-finance\",\"frax\",\"frax\",\"frax\",\"frax\",\"friktion\",\"gains-network\",\"gains-network\",\"geist-finance\",\"geist-finance\",\"geist-finance\",\"gmx\",\"gmx\",\"gmx\",\"gro\",\"gro\",\"gro\",\"guard(helmet)\",\"guard(helmet)\",\"harvest-finance\",\"harvest-finance\",\"hashflow\",\"hashflow\",\"hashflow\",\"hashflow\",\"hector-network\",\"hector-network\",\"hector-network\",\"homora\",\"homora\",\"homora\",\"hop-protocol\",\"hop-protocol\",\"hop-protocol\",\"hop-protocol\",\"hubble\",\"hubble\",\"hundred-finance\",\"hundred-finance\",\"hundred-finance\",\"hundred-finance\",\"hundred-finance\",\"hundred-finance\",\"idex\",\"idle-finance\",\"insurace\",\"insurace\",\"insurace\",\"iron-bank\",\"iron-bank\",\"iziswap\",\"izumi-finance\",\"izumi-finance\",\"izumi-finance\",\"izumi-finance\",\"jpool\",\"justlend\",\"juststables\",\"kaidex\",\"karura-dollar-(kusd)\",\"karura-liquid-staking\",\"katana\",\"katana-dex\",\"kava-lend\",\"kava-mint\",\"kava-swap\",\"keep-network\",\"keep3r-network\",\"klap\",\"klayswap\",\"klayswap\",\"klima-dao\",\"klima-dao\",\"knightswap-finance\",\"knightswap-finance\",\"knightswap-finance\",\"kokoa-finance\",\"kokoa-finance\",\"kokoa-finance\",\"kokonut-swap\",\"kokonut-swap\",\"kyberswap\",\"kyberswap\",\"kyberswap\",\"kyberswap\",\"kyberswap\",\"kyberswap\",\"kyberswap\",\"kyberswap\",\"larix\",\"lido\",\"lido\",\"lido\",\"lido\",\"lightning-network\",\"linear-protocol\",\"liqee\",\"liquid-driver\",\"liquid-driver\",\"lofty\",\"lyra\",\"lyra\",\"maiar-exchange\",\"maiar-exchange\",\"mango-markets\",\"maple\",\"maple\",\"marinade-finance\",\"mento\",\"mercurial-finance\",\"meshswap\",\"meshswap\",\"meta-pool\",\"mimo\",\"mimo-defi\",\"mimo-defi\",\"minswap\",\"mm-finance\",\"mm-finance\",\"mm-optimizer\",\"mm-optimizer\",\"mojitoswap\",\"mojitoswap\",\"moneyonchain\",\"moola-market\",\"moonwell-apollo\",\"moonwell-apollo\",\"moonwell-artemis\",\"moonwell-artemis\",\"mstable\",\"neoburger\",\"nereus-finance\",\"netswap\",\"neutrino\",\"nomiswap\",\"nomiswap\",\"octus-bridge\",\"octus-bridge\",\"octus-bridge\",\"octus-bridge\",\"olympus-dao\",\"onx-finance\",\"onx-finance\",\"onx-finance\",\"onx-finance\",\"onx-finance\",\"ooki\",\"ooki\",\"ooki\",\"ooki\",\"opyn\",\"opyn\",\"orion-protocol\",\"osmosis\",\"outcome-finance\",\"outcome-finance\",\"pancakeswap\",\"pancakeswap\",\"pangolin\",\"parrot-protocol\",\"penrose\",\"penrose\",\"perpetual-protocol\",\"perpetual-protocol\",\"pickle\",\"pickle\",\"pickle\",\"pickle\",\"pickle\",\"pickle\",\"pickle\",\"pickle\",\"pickle\",\"pickle\",\"pickle\",\"pinksale\",\"pinksale\",\"pinksale\",\"pinksale\",\"pinksale\",\"planet\",\"planet\",\"platypus-finance\",\"platypus-finance\",\"pnetwork\",\"pnetwork\",\"pnetwork\",\"pnetwork\",\"pnetwork\",\"pnetwork\",\"pnetwork\",\"pnetwork\",\"pnetwork\",\"pnetwork\",\"polygon-bridge-&-staking\",\"pooltogether\",\"pooltogether\",\"pooltogether\",\"pooltogether\",\"pooltogether\",\"port-finance\",\"position-exchange\",\"position-exchange\",\"position-exchange\",\"proton-loan\",\"proton-loan\",\"pstake\",\"puddingswap\",\"qidao\",\"qidao\",\"qidao\",\"qidao\",\"qidao\",\"qidao\",\"qidao\",\"qidao\",\"qidao\",\"qidao\",\"quarry\",\"quickswap\",\"radiant\",\"radiant\",\"radiant\",\"radioshack\",\"radioshack\",\"radioshack\",\"radioshack\",\"rari-capital\",\"rari-capital\",\"realt\",\"reaper-farm\",\"reaper-farm\",\"ref-finance\",\"renvm\",\"renvm\",\"renvm\",\"renvm\",\"renvm\",\"renvm\",\"rex-staking\",\"ribbon-finance\",\"ribbon-finance\",\"ribbon-finance\",\"risk-harbor\",\"risk-harbor\",\"risk-harbor\",\"risk-harbor\",\"saber\",\"saddle-finance\",\"saddle-finance\",\"saddle-finance\",\"saddle-finance\",\"saddle-finance\",\"sashimiswap\",\"sashimiswap\",\"sashimiswap\",\"sharedstake\",\"sicx\",\"single-finance\",\"single-finance\",\"single-finance\",\"single-finance\",\"solarbeam\",\"solend\",\"solo-top\",\"solo-top\",\"solo-top\",\"solo-top\",\"solv-protocol\",\"solv-protocol\",\"spartacus\",\"spartacus\",\"spiritswap\",\"spiritswap\",\"spookyswap\",\"spool-protocol\",\"stacks-staking\",\"stader\",\"stader\",\"stader\",\"stader\",\"stader\",\"stader\",\"stader\",\"stafi\",\"stafi\",\"stafi\",\"stafi\",\"stafi\",\"stafi\",\"stakedao\",\"stakedao\",\"stakedao\",\"stakedao\",\"stakewise\",\"stargate\",\"stargate\",\"stargate\",\"stargate\",\"stargate\",\"stargate\",\"starlay-finance\",\"starlay-finance\",\"stellaswap\",\"stellaswap\",\"sturdy\",\"sun.io\",\"sun.io\",\"sun.io\",\"sundaeswap\",\"sunny\",\"sunswap\",\"superfluid\",\"superfluid\",\"sushiswap\",\"sushiswap\",\"sushiswap\",\"sushiswap\",\"sushiswap\",\"sushiswap\",\"sushiswap\",\"sushiswap\",\"sushiswap\",\"sushiswap\",\"sushiswap\",\"sushiswap\",\"sushiswap\",\"sushiswap\",\"sushiswap\",\"sushiswap-kashi\",\"sushiswap-kashi\",\"sushiswap-kashi\",\"swapr\",\"swapr\",\"swim-protocol\",\"synapse\",\"synapse\",\"synapse\",\"synapse\",\"synapse\",\"synapse\",\"synapse\",\"synapse\",\"synapse\",\"synapse\",\"synapse\",\"synapse\",\"synapse\",\"synapse\",\"synthetix\",\"tarot\",\"tarot\",\"team-finance\",\"team-finance\",\"team-finance\",\"tectonic\",\"temple-dao\",\"temple-dao\",\"terra-bridge\",\"terra-bridge\",\"tetu\",\"tetu\",\"tezos-liquidity-baking\",\"thetacash\",\"thetanuts-finance\",\"thetanuts-finance\",\"thetanuts-finance\",\"thetanuts-finance\",\"thetanuts-finance\",\"thetanuts-finance\",\"thetaswap\",\"thorchain\",\"tinyman\",\"tokemak\",\"tokemak\",\"tokensfarm\",\"tokensfarm\",\"tokensfarm\",\"tomb-finance\",\"tomb-finance\",\"tomb-finance\",\"tornado-cash\",\"tornado-cash\",\"tornado-cash\",\"tornado-cash\",\"tornado-cash\",\"tornado-cash\",\"toucan-protocol\",\"trader-joe\",\"trader-joe\",\"tranchess\",\"tranchess\",\"trisolaris\",\"truefi\",\"unicrypt\",\"unicrypt\",\"unicrypt\",\"unicrypt\",\"unicrypt\",\"uniswap\",\"uniswap\",\"uniswap\",\"uniswap\",\"uxd\",\"valas-finance\",\"valas-finance\",\"valas-finance\",\"valleyswap\",\"vector-finance\",\"vector-finance\",\"vector-finance\",\"velodrome\",\"venus\",\"vesper\",\"vesper\",\"vesper\",\"vesta-finance\",\"vesta-finance\",\"vires-finance\",\"vvs-finance\",\"waves-exchange\",\"wepiggy\",\"wepiggy\",\"wepiggy\",\"wepiggy\",\"wepiggy\",\"wepiggy\",\"wepiggy\",\"wepiggy\",\"wepiggy\",\"wepiggy\",\"wepiggy\",\"wing-finance\",\"wingriders\",\"wombat-exchange\",\"wrapped-bnb\",\"xdao\",\"xdao\",\"xdao\",\"xdao\",\"xdao\",\"yearn-finance\",\"yearn-finance\",\"yeti-finance\",\"yeti-finance\",\"yeti-finance\",\"yield-protocol\",\"yield-yak\",\"yield-yak\",\"yield-yak\",\"yoshi-exchange\",\"yoshi-exchange\",\"youves\",\"youves\",\"zeta\",\"Acala\",\"Algorand\",\"Arbitrum\",\"Astar\",\"Aurora\",\"Avalanche\",\"Bifrost\",\"Binance\",\"Binance-treasury\",\"Bitcoin\",\"Boba\",\"Cardano\",\"Celo\",\"Cosmos\",\"Cronos\",\"DFK\",\"Doge\",\"EOS\",\"Elastos\",\"Elrond\",\"Ethereum-treasury\",\"Everscale\",\"Evmos\",\"Fantom\",\"Fuse\",\"Harmony\",\"Heco\",\"Hedera\",\"Hoo\",\"Icon\",\"IoTeX\",\"Kardia\",\"Karura\",\"Kava\",\"Klaytn\",\"Kucoin\",\"Kusama\",\"LBRY\",\"Litecoin\",\"Metis\",\"Milkomeda\",\"Moonbeam\",\"Moonriver\",\"NEO\",\"Near\",\"OKExChain\",\"ORE\",\"Oasis\",\"Optimism\",\"Osmosis\",\"Palm\",\"Polkadot\",\"Polygon\",\"Proton\",\"REI\",\"RSK\",\"Ravencoin\",\"Ronin\",\"Shiden\",\"Solana\",\"Songbird\",\"Stacks\",\"Stafi\",\"Telos\",\"Terra\",\"Terra2\",\"Tezos\",\"Theta\",\"Tron\",\"Waves\",\"Wax\",\"pool2\",\"staking\",\"xDai\",\"all\"],\"marker\":{\"coloraxis\":\"coloraxis\",\"colors\":[-1.0,-1.0,-1.0,-1.0,-1.0,-1.0,1.0,1.0,1.0,-1.0,-1.0,1.0,1.0,1.0,1.0,-1.0,-1.0,1.0,1.0,1.0,1.0,1.0,1.0,1.0,-1.0,1.0,-1.0,1.0,1.0,1.0,-1.0,1.0,1.0,1.0,1.0,-1.0,-1.0,1.0,-1.0,-1.0,-1.0,-1.0,1.0,1.0,1.0,-1.0,1.0,1.0,1.0,-1.0,1.0,1.0,-1.0,-1.0,1.0,1.0,1.0,-1.0,-1.0,1.0,1.0,1.0,1.0,1.0,1.0,-1.0,-1.0,1.0,1.0,1.0,-1.0,-1.0,-1.0,1.0,-1.0,1.0,1.0,1.0,-1.0,1.0,1.0,1.0,1.0,1.0,1.0,1.0,1.0,-1.0,-1.0,1.0,-1.0,1.0,1.0,1.0,1.0,1.0,1.0,-1.0,-1.0,-1.0,-1.0,1.0,1.0,1.0,1.0,1.0,-1.0,1.0,1.0,1.0,-1.0,1.0,1.0,1.0,1.0,1.0,-1.0,-1.0,1.0,1.0,1.0,-1.0,1.0,-1.0,-1.0,-1.0,1.0,1.0,-1.0,-1.0,1.0,-1.0,-1.0,1.0,-1.0,-1.0,-1.0,-1.0,1.0,-1.0,-1.0,-1.0,-1.0,-1.0,-1.0,-1.0,1.0,-1.0,-1.0,-1.0,-1.0,-1.0,-1.0,1.0,-1.0,-1.0,1.0,1.0,1.0,-1.0,-1.0,-1.0,-1.0,1.0,1.0,-1.0,1.0,1.0,-1.0,-1.0,-1.0,-1.0,-1.0,-1.0,1.0,-1.0,1.0,1.0,1.0,1.0,-1.0,-1.0,-1.0,1.0,1.0,-1.0,1.0,-1.0,-1.0,1.0,1.0,-1.0,-1.0,-1.0,1.0,-1.0,-1.0,-1.0,1.0,-1.0,-1.0,-1.0,-1.0,1.0,-1.0,1.0,1.0,-1.0,1.0,1.0,-1.0,1.0,-1.0,-1.0,1.0,1.0,-1.0,1.0,-1.0,-1.0,-1.0,-1.0,1.0,1.0,1.0,-1.0,-1.0,1.0,-1.0,-1.0,-1.0,-1.0,1.0,1.0,1.0,-1.0,1.0,1.0,1.0,-1.0,1.0,-1.0,-1.0,-1.0,1.0,1.0,1.0,-1.0,1.0,-1.0,-1.0,1.0,-1.0,-1.0,1.0,-1.0,-1.0,1.0,-1.0,-1.0,-1.0,-1.0,1.0,-1.0,-1.0,-1.0,-1.0,-1.0,1.0,-1.0,1.0,-1.0,-1.0,1.0,-1.0,-1.0,-1.0,1.0,-1.0,1.0,-1.0,1.0,-1.0,1.0,-1.0,-1.0,1.0,1.0,1.0,1.0,1.0,-1.0,-1.0,-1.0,1.0,-1.0,1.0,1.0,1.0,1.0,-1.0,-1.0,-1.0,1.0,1.0,1.0,1.0,-1.0,1.0,-1.0,1.0,-1.0,1.0,-1.0,1.0,1.0,-1.0,1.0,1.0,1.0,-1.0,1.0,1.0,1.0,1.0,1.0,1.0,1.0,1.0,1.0,1.0,-1.0,-1.0,1.0,1.0,1.0,1.0,1.0,1.0,1.0,-1.0,-1.0,1.0,1.0,-1.0,1.0,1.0,1.0,1.0,1.0,1.0,-1.0,-1.0,1.0,-1.0,1.0,1.0,-1.0,-1.0,-1.0,-1.0,-1.0,1.0,1.0,1.0,1.0,1.0,-1.0,-1.0,-1.0,-1.0,1.0,1.0,-1.0,1.0,1.0,-1.0,-1.0,-1.0,-1.0,1.0,-1.0,1.0,1.0,1.0,1.0,-1.0,1.0,1.0,-1.0,-1.0,1.0,-1.0,1.0,1.0,-1.0,1.0,1.0,1.0,1.0,1.0,1.0,1.0,1.0,1.0,1.0,-1.0,1.0,-1.0,1.0,1.0,1.0,1.0,1.0,1.0,1.0,1.0,1.0,1.0,1.0,1.0,1.0,-1.0,-1.0,-1.0,1.0,-1.0,-1.0,-1.0,-1.0,1.0,1.0,1.0,1.0,-1.0,1.0,-1.0,-1.0,-1.0,-1.0,1.0,-1.0,1.0,-1.0,-1.0,-1.0,1.0,1.0,-1.0,1.0,1.0,1.0,1.0,-1.0,-1.0,-1.0,1.0,-1.0,1.0,1.0,1.0,-1.0,1.0,-1.0,-1.0,-1.0,1.0,-1.0,-1.0,1.0,-1.0,1.0,-1.0,1.0,-1.0,-1.0,-1.0,-1.0,1.0,1.0,-1.0,-1.0,-1.0,-1.0,-1.0,1.0,-1.0,-1.0,1.0,-1.0,1.0,1.0,1.0,-1.0,1.0,-1.0,-1.0,-1.0,1.0,-1.0,1.0,1.0,1.0,-1.0,1.0,1.0,1.0,1.0,1.0,-1.0,1.0,-1.0,1.0,-1.0,-1.0,1.0,1.0,-1.0,-1.0,-1.0,1.0,1.0,-1.0,-1.0,-1.0,1.0,1.0,-1.0,-1.0,1.0,-1.0,1.0,1.0,-1.0,-1.0,1.0,-1.0,-1.0,1.0,-1.0,-1.0,1.0,-1.0,1.0,1.0,-1.0,-1.0,-1.0,-1.0,-1.0,-1.0,-1.0,-1.0,-1.0,-1.0,1.0,-1.0,-1.0,1.0,1.0,1.0,-1.0,-1.0,-1.0,1.0,1.0,1.0,1.0,1.0,-1.0,1.0,1.0,-1.0,-1.0,1.0,1.0,1.0,-1.0,1.0,-1.0,-1.0,-1.0,-1.0,-1.0,1.0,1.0,1.0,1.0,1.0,1.0,-1.0,1.0,1.0,-1.0,-1.0,1.0,1.0,-1.0,-1.0,1.0,-1.0,1.0,1.0,-1.0,1.0,1.0,-1.0,1.0,-1.0,-1.0,1.0,1.0,-1.0,1.0,-1.0,1.0,-1.0,1.0,1.0,-1.0,-1.0,-1.0,-1.0,-1.0,-1.0,1.0,1.0,1.0,1.0,1.0,-1.0,-1.0,1.0,1.0,1.0,-1.0,1.0,1.0,1.0,-1.0,-1.0,-1.0,1.0,1.0,-1.0,-1.0,-1.0,1.0,1.0,1.0,1.0,-1.0,1.0,1.0,1.0,1.0,1.0,1.0,1.0,1.0,-1.0,-1.0,1.0,-1.0,-1.0,1.0,-1.0,-1.0,1.0,1.0,-1.0,1.0,1.0,1.0,1.0,-1.0,1.0,-1.0,1.0,1.0,-1.0,-1.0,1.0,1.0,0.6857334859974624,-0.9527522190195067,-0.9484224139076719,-0.3941401229400529,1.0,0.5900698637082894,-1.0,1.0,-0.20191376058309232,-0.8240883734037528,-0.13813472895143847,1.0,-0.5791255033196202,1.0,1.0,1.0,-1.0,1.0,-1.0,1.0,-1.0,-0.08238294712138554,0.9160635857843529,-0.8389979847348918,-0.3473467537104452,1.0,-1.0,-1.0,-1.0,-1.0,1.0,-0.3844764363724855,0.6245082258371731,1.0,1.0,1.0,1.0,-0.5096290246867484,-1.0,-0.8329600194289815,-0.777459774028322,0.9979468048963988,0.5407418090328439,0.5506189107116669,1.0,0.9468484140589404,0.9644868964377505,1.0,-1.0,1.0,0.6667733067887714,1.0,1.0,1.0,1.0,1.0,-1.0,-0.3226072303367121,1.0,-1.0,1.0,0.9977208701509319,0.9994276629843004,1.0,1.0,-1.0,0.8178116309307911,-0.9867989190284738,-1.0,-0.2035585041260953,0.8392259701415807,0.837275823666103,0.2637968839524741]},\"name\":\"\",\"parents\":[\"all/Solana\",\"all/Fantom\",\"all/Polygon\",\"all/staking\",\"all/Avalanche\",\"all/Polygon\",\"all/pool2\",\"all/staking\",\"all/Arbitrum\",\"all/Avalanche\",\"all/Fantom\",\"all/Harmony\",\"all/Optimism\",\"all/Polygon\",\"all/Polygon\",\"all/pool2\",\"all/staking\",\"all/Acala\",\"all/Acala\",\"all/Acala\",\"all/Acala\",\"all/Astar\",\"all/Avalanche\",\"all/Binance\",\"all/Cronos\",\"all/Fantom\",\"all/Harmony\",\"all/Moonbeam\",\"all/Moonriver\",\"all/xDai\",\"all/Fantom\",\"all/staking\",\"all/Solana\",\"all/Algorand\",\"all/staking\",\"all/Avalanche\",\"all/Binance\",\"all/Celo\",\"all/Fantom\",\"all/Heco\",\"all/Near\",\"all/Polygon\",\"all/Solana\",\"all/Terra\",\"all/staking\",\"all/Binance\",\"all/Fantom\",\"all/staking\",\"all/Arbitrum\",\"all/Optimism\",\"all/Polygon\",\"all/staking\",\"all/Avalanche\",\"all/Binance\",\"all/Fantom\",\"all/Kusama\",\"all/Polkadot\",\"all/Binance\",\"all/Polygon\",\"all/staking\",\"all/Binance\",\"all/Binance\",\"all/pool2\",\"all/staking\",\"all/Optimism\",\"all/Polygon\",\"all/Astar\",\"all/staking\",\"all/Terra\",\"all/Terra2\",\"all/Aurora\",\"all/Arbitrum\",\"all/Fantom\",\"all/Polygon\",\"all/Binance\",\"all/staking\",\"all/Arbitrum\",\"all/Polygon\",\"all/Aurora\",\"all/Arbitrum\",\"all/Aurora\",\"all/Avalanche\",\"all/Binance\",\"all/Celo\",\"all/Cronos\",\"all/Fantom\",\"all/Fuse\",\"all/Harmony\",\"all/Heco\",\"all/Metis\",\"all/Moonbeam\",\"all/Moonriver\",\"all/Oasis\",\"all/Optimism\",\"all/Polygon\",\"all/staking\",\"all/Fantom\",\"all/Optimism\",\"all/pool2\",\"all/Binance\",\"all/Heco\",\"all/Klaytn\",\"all/staking\",\"all/Avalanche\",\"all/pool2\",\"all/Avalanche\",\"all/Avalanche\",\"all/Avalanche\",\"all/Binance\",\"all/Klaytn\",\"all/staking\",\"all/Bifrost\",\"all/Binance\",\"all/staking\",\"all/Binance\",\"all/Polygon\",\"all/Near\",\"all/Arbitrum\",\"all/Aurora\",\"all/Avalanche\",\"all/Binance\",\"all/Boba\",\"all/Fantom\",\"all/Harmony\",\"all/Metis\",\"all/Moonriver\",\"all/Optimism\",\"all/Polygon\",\"all/Shiden\",\"all/Binance\",\"all/Klaytn\",\"all/staking\",\"all/Moonbeam\",\"all/Optimism\",\"all/Polygon\",\"all/Binance\",\"all/Heco\",\"all/pool2\",\"all/staking\",\"all/Arbitrum\",\"all/Avalanche\",\"all/Binance\",\"all/Boba\",\"all/Cronos\",\"all/Evmos\",\"all/Fantom\",\"all/Fuse\",\"all/Milkomeda\",\"all/Moonbeam\",\"all/Moonriver\",\"all/Optimism\",\"all/Polygon\",\"all/xDai\",\"all/staking\",\"all/Arbitrum\",\"all/Binance\",\"all/Polygon\",\"all/DFK\",\"all/staking\",\"all/Arbitrum\",\"all/Aurora\",\"all/Avalanche\",\"all/Fantom\",\"all/Moonbeam\",\"all/Optimism\",\"all/Polygon\",\"all/staking\",\"all/xDai\",\"all/Binance\",\"all/pool2\",\"all/Harmony\",\"all/staking\",\"all/Wax\",\"all/Avalanche\",\"all/staking\",\"all/Arbitrum\",\"all/Binance\",\"all/Optimism\",\"all/Polygon\",\"all/staking\",\"all/Polygon\",\"all/Fantom\",\"all/OKExChain\",\"all/Polygon\",\"all/staking\",\"all/Arbitrum\",\"all/Aurora\",\"all/Binance\",\"all/Polygon\",\"all/Arbitrum\",\"all/Binance\",\"all/pool2\",\"all/staking\",\"all/Binance\",\"all/staking\",\"all/Avalanche\",\"all/Binance\",\"all/Celo\",\"all/Cronos\",\"all/Fantom\",\"all/Harmony\",\"all/Heco\",\"all/Milkomeda\",\"all/OKExChain\",\"all/Polygon\",\"all/Polygon\",\"all/Avalanche\",\"all/pool2\",\"all/staking\",\"all/Binance\",\"all/staking\",\"all/EOS\",\"all/Fantom\",\"all/Moonriver\",\"all/staking\",\"all/Cronos\",\"all/Arbitrum\",\"all/Binance\",\"all/Elastos\",\"all/Heco\",\"all/IoTeX\",\"all/Polygon\",\"all/REI\",\"all/NEO\",\"all/Songbird\",\"all/pool2\",\"all/staking\",\"all/Algorand\",\"all/Ethereum-treasury\",\"all/Fantom\",\"all/pool2\",\"all/staking\",\"all/Solana\",\"all/Polygon\",\"all/pool2\",\"all/Fantom\",\"all/pool2\",\"all/staking\",\"all/Arbitrum\",\"all/Avalanche\",\"all/staking\",\"all/Avalanche\",\"all/pool2\",\"all/staking\",\"all/Binance\",\"all/Polygon\",\"all/Binance\",\"all/Polygon\",\"all/Arbitrum\",\"all/Avalanche\",\"all/Binance\",\"all/Polygon\",\"all/Binance\",\"all/Fantom\",\"all/staking\",\"all/Avalanche\",\"all/Binance\",\"all/Fantom\",\"all/Arbitrum\",\"all/Optimism\",\"all/Polygon\",\"all/xDai\",\"all/Solana\",\"all/staking\",\"all/Arbitrum\",\"all/Fantom\",\"all/Harmony\",\"all/Moonriver\",\"all/Optimism\",\"all/Polygon\",\"all/Polygon\",\"all/Polygon\",\"all/Avalanche\",\"all/Binance\",\"all/Polygon\",\"all/Avalanche\",\"all/Fantom\",\"all/Binance\",\"all/Arbitrum\",\"all/Polygon\",\"all/pool2\",\"all/staking\",\"all/Solana\",\"all/Tron\",\"all/Tron\",\"all/Kardia\",\"all/Karura\",\"all/Karura\",\"all/Solana\",\"all/Ronin\",\"all/Kava\",\"all/Kava\",\"all/Kava\",\"all/staking\",\"all/staking\",\"all/Klaytn\",\"all/Klaytn\",\"all/staking\",\"all/Polygon\",\"all/staking\",\"all/Binance\",\"all/Fantom\",\"all/staking\",\"all/Klaytn\",\"all/pool2\",\"all/staking\",\"all/Klaytn\",\"all/staking\",\"all/Arbitrum\",\"all/Avalanche\",\"all/Binance\",\"all/Cronos\",\"all/Fantom\",\"all/Oasis\",\"all/Optimism\",\"all/Polygon\",\"all/Solana\",\"all/Moonbeam\",\"all/Moonriver\",\"all/Solana\",\"all/Terra\",\"all/Bitcoin\",\"all/Near\",\"all/Binance\",\"all/Fantom\",\"all/staking\",\"all/Algorand\",\"all/Optimism\",\"all/staking\",\"all/Elrond\",\"all/staking\",\"all/Solana\",\"all/Solana\",\"all/staking\",\"all/Solana\",\"all/Celo\",\"all/Solana\",\"all/Polygon\",\"all/staking\",\"all/Near\",\"all/IoTeX\",\"all/Fantom\",\"all/Polygon\",\"all/Cardano\",\"all/Cronos\",\"all/staking\",\"all/Cronos\",\"all/staking\",\"all/Kucoin\",\"all/staking\",\"all/RSK\",\"all/Celo\",\"all/Moonriver\",\"all/staking\",\"all/Moonbeam\",\"all/staking\",\"all/Polygon\",\"all/NEO\",\"all/Avalanche\",\"all/Metis\",\"all/Waves\",\"all/Binance\",\"all/staking\",\"all/Avalanche\",\"all/Binance\",\"all/Everscale\",\"all/Polygon\",\"all/staking\",\"all/Avalanche\",\"all/Fantom\",\"all/Polygon\",\"all/pool2\",\"all/staking\",\"all/Arbitrum\",\"all/Binance\",\"all/Optimism\",\"all/Polygon\",\"all/Avalanche\",\"all/Polygon\",\"all/Binance\",\"all/Osmosis\",\"all/Boba\",\"all/Polygon\",\"all/Binance\",\"all/staking\",\"all/Avalanche\",\"all/Solana\",\"all/Polygon\",\"all/staking\",\"all/Optimism\",\"all/staking\",\"all/Arbitrum\",\"all/Aurora\",\"all/Cronos\",\"all/Metis\",\"all/Moonbeam\",\"all/Moonriver\",\"all/OKExChain\",\"all/Optimism\",\"all/Polygon\",\"all/pool2\",\"all/staking\",\"all/Avalanche\",\"all/Binance\",\"all/Cronos\",\"all/Fantom\",\"all/Polygon\",\"all/Binance\",\"all/staking\",\"all/Avalanche\",\"all/staking\",\"all/Binance\",\"all/Bitcoin\",\"all/Doge\",\"all/EOS\",\"all/Fantom\",\"all/LBRY\",\"all/Litecoin\",\"all/ORE\",\"all/Ravencoin\",\"all/Telos\",\"all/Polygon\",\"all/Avalanche\",\"all/Binance\",\"all/Celo\",\"all/Optimism\",\"all/Polygon\",\"all/Solana\",\"all/Binance\",\"all/Binance-treasury\",\"all/staking\",\"all/Proton\",\"all/staking\",\"all/pool2\",\"all/Hoo\",\"all/Arbitrum\",\"all/Avalanche\",\"all/Binance\",\"all/Fantom\",\"all/Harmony\",\"all/Metis\",\"all/Moonriver\",\"all/Optimism\",\"all/Polygon\",\"all/xDai\",\"all/Solana\",\"all/Polygon\",\"all/Arbitrum\",\"all/pool2\",\"all/staking\",\"all/Avalanche\",\"all/Binance\",\"all/Polygon\",\"all/staking\",\"all/Arbitrum\",\"all/pool2\",\"all/xDai\",\"all/Fantom\",\"all/Optimism\",\"all/Near\",\"all/Arbitrum\",\"all/Avalanche\",\"all/Binance\",\"all/Fantom\",\"all/Polygon\",\"all/Solana\",\"all/Telos\",\"all/Avalanche\",\"all/Solana\",\"all/staking\",\"all/Arbitrum\",\"all/Aurora\",\"all/Avalanche\",\"all/Fantom\",\"all/Solana\",\"all/Arbitrum\",\"all/Evmos\",\"all/Fantom\",\"all/Kava\",\"all/Optimism\",\"all/Binance\",\"all/Heco\",\"all/staking\",\"all/pool2\",\"all/Icon\",\"all/Cronos\",\"all/Fantom\",\"all/pool2\",\"all/staking\",\"all/Moonriver\",\"all/Solana\",\"all/Binance\",\"all/Heco\",\"all/OKExChain\",\"all/Polygon\",\"all/Binance\",\"all/Polygon\",\"all/Fantom\",\"all/staking\",\"all/Fantom\",\"all/staking\",\"all/Fantom\",\"all/staking\",\"all/Stacks\",\"all/Binance\",\"all/Fantom\",\"all/Hedera\",\"all/Near\",\"all/Polygon\",\"all/Terra\",\"all/Terra2\",\"all/Binance\",\"all/Cosmos\",\"all/Polygon\",\"all/Solana\",\"all/Stafi\",\"all/staking\",\"all/Avalanche\",\"all/Harmony\",\"all/Polygon\",\"all/staking\",\"all/xDai\",\"all/Arbitrum\",\"all/Avalanche\",\"all/Binance\",\"all/Fantom\",\"all/Optimism\",\"all/Polygon\",\"all/Astar\",\"all/staking\",\"all/Moonbeam\",\"all/staking\",\"all/Fantom\",\"all/Tron\",\"all/pool2\",\"all/staking\",\"all/Cardano\",\"all/Solana\",\"all/Tron\",\"all/Polygon\",\"all/xDai\",\"all/Arbitrum\",\"all/Avalanche\",\"all/Binance\",\"all/Celo\",\"all/Fantom\",\"all/Fuse\",\"all/Harmony\",\"all/Heco\",\"all/Moonriver\",\"all/OKExChain\",\"all/Palm\",\"all/Polygon\",\"all/Telos\",\"all/staking\",\"all/xDai\",\"all/Arbitrum\",\"all/Binance\",\"all/Fantom\",\"all/Arbitrum\",\"all/xDai\",\"all/Solana\",\"all/Arbitrum\",\"all/Aurora\",\"all/Avalanche\",\"all/Binance\",\"all/Boba\",\"all/Cronos\",\"all/Fantom\",\"all/Harmony\",\"all/Klaytn\",\"all/Metis\",\"all/Moonriver\",\"all/Optimism\",\"all/Polygon\",\"all/pool2\",\"all/Optimism\",\"all/Fantom\",\"all/Optimism\",\"all/Avalanche\",\"all/Binance\",\"all/Polygon\",\"all/Cronos\",\"all/pool2\",\"all/staking\",\"all/Binance\",\"all/Harmony\",\"all/Fantom\",\"all/Polygon\",\"all/Tezos\",\"all/Theta\",\"all/Aurora\",\"all/Avalanche\",\"all/Binance\",\"all/Boba\",\"all/Fantom\",\"all/Polygon\",\"all/Theta\",\"all/staking\",\"all/Algorand\",\"all/pool2\",\"all/staking\",\"all/Binance\",\"all/Fantom\",\"all/Polygon\",\"all/Fantom\",\"all/pool2\",\"all/staking\",\"all/Arbitrum\",\"all/Avalanche\",\"all/Binance\",\"all/Optimism\",\"all/Polygon\",\"all/xDai\",\"all/Polygon\",\"all/Avalanche\",\"all/staking\",\"all/Binance\",\"all/staking\",\"all/Aurora\",\"all/staking\",\"all/Avalanche\",\"all/Binance\",\"all/Polygon\",\"all/pool2\",\"all/staking\",\"all/Arbitrum\",\"all/Celo\",\"all/Optimism\",\"all/Polygon\",\"all/Solana\",\"all/Binance\",\"all/pool2\",\"all/staking\",\"all/Oasis\",\"all/Avalanche\",\"all/pool2\",\"all/staking\",\"all/Optimism\",\"all/Binance\",\"all/Avalanche\",\"all/Polygon\",\"all/staking\",\"all/Arbitrum\",\"all/pool2\",\"all/Waves\",\"all/Cronos\",\"all/Waves\",\"all/Arbitrum\",\"all/Aurora\",\"all/Binance\",\"all/Harmony\",\"all/Heco\",\"all/Moonbeam\",\"all/Moonriver\",\"all/OKExChain\",\"all/Oasis\",\"all/Optimism\",\"all/Polygon\",\"all/staking\",\"all/Cardano\",\"all/Binance\",\"all/Binance\",\"all/Astar\",\"all/Avalanche\",\"all/Binance\",\"all/Fantom\",\"all/Polygon\",\"all/Arbitrum\",\"all/Fantom\",\"all/Avalanche\",\"all/pool2\",\"all/staking\",\"all/Arbitrum\",\"all/Avalanche\",\"all/pool2\",\"all/staking\",\"all/Binance\",\"all/Fantom\",\"all/Tezos\",\"all/pool2\",\"all/Solana\",\"all\",\"all\",\"all\",\"all\",\"all\",\"all\",\"all\",\"all\",\"all\",\"all\",\"all\",\"all\",\"all\",\"all\",\"all\",\"all\",\"all\",\"all\",\"all\",\"all\",\"all\",\"all\",\"all\",\"all\",\"all\",\"all\",\"all\",\"all\",\"all\",\"all\",\"all\",\"all\",\"all\",\"all\",\"all\",\"all\",\"all\",\"all\",\"all\",\"all\",\"all\",\"all\",\"all\",\"all\",\"all\",\"all\",\"all\",\"all\",\"all\",\"all\",\"all\",\"all\",\"all\",\"all\",\"all\",\"all\",\"all\",\"all\",\"all\",\"all\",\"all\",\"all\",\"all\",\"all\",\"all\",\"all\",\"all\",\"all\",\"all\",\"all\",\"all\",\"all\",\"all\",\"all\",\"\"],\"root\":{\"color\":\"lightgrey\"},\"type\":\"treemap\",\"values\":[724462.5051668435,3.268833737253214,69.14055004388752,79307.04496002049,24706511.32027376,17736909.06907939,975841.9637460647,8844401.487732602,161076.29123585403,140879604.84756547,304371.1956714849,408270.3156970971,529450686.2835612,14229062.388067644,13684.098581937302,363065.675135919,1097780.8361468518,35954686.22859841,42992916.2355602,25529908.251191545,2823512.143269415,164811.53871022156,130274.71069382496,556556.0160974017,1356188.1851934555,283502.3260022828,9945.630162485837,9486.459628949875,68352.7666198336,73287.86862711173,25468.516288013918,2621000.7360385535,4662734.304076992,16512445.116452627,4418901.702468701,141556.06138080606,25310.295634567534,87860.70550181696,38160.887876205554,25621.665780058327,38939.938729029745,55307.17781020084,23189.132126081815,9763.217396344271,18710.123151518826,19483022.20484306,503668.5153086787,260678.07772957048,11.078699343394641,157035.3581156747,8392.121149643905,263946.83391921094,1711.6364037213289,1020565.5095722001,2574.7794692648654,947.4227096344312,8635.503972554112,11678738.76040694,292668.22672359634,242592.84182885435,78652.57522252796,432853.34194195474,1063704.616717261,2743029.523600668,306900.2908749804,850511.9973214814,4136904.61247771,3866.9352170525462,499575.2871544286,12664744.621795606,8298179.085721153,7203.753197627315,20798.488251749222,81341.56223325197,1509236.682868555,420511.51429207483,2264641.310647659,19622758.908999577,61880095.77770648,7442519.071347234,314662.6725177925,3754440.387069581,11664883.881976666,13935.262255648007,2774616.4533053176,11287795.317634946,291864.9751437071,181858.26003255678,265079.12531377346,907431.3298450633,975776.226194681,539492.2392926231,145061.34170201968,20656431.04236778,28255979.195540942,4498300.349870213,1781839.983179924,4403390.692738174,8326.478510206805,768499.8784759152,238641.2836815559,331493.108463419,717842.0295860309,33627862.24639963,256680.52836141599,16882187.839122877,152217.90623671838,162791.06590069638,403986.78934528347,3838.6837547208743,8819.558153314889,12848789.436030736,9540314.75070444,4123443.8484910442,14391037.850882793,27632.12800782085,15506556.446067179,1926136.2663411037,1234071.71615916,373200.409230836,2153367.4745059544,11830.029441082106,3682091.4923510537,351658.2781851328,9744.527612689199,425.33255558200096,2471986.3062385265,3651776.6211669995,30920.823859883465,9916.092435996374,5720957.546983193,157313.1148081962,264564.772165539,387598.53810330876,52374.12057572622,3162705.9640071564,1774756.9930331106,695.5902019850279,7014.078715044035,1306691.2128005063,900629.1590644482,496170.5411000616,51407.95864012873,442830.091235991,914259.5613191301,128723.78079668894,59385.101806440536,700028.1119268925,1207847.2945020609,895554.061688896,1598351.3674107397,563920.465605438,162419.65854539385,5629371.558222195,5161.4840068520025,3923250.255878442,13725.390557481798,855257.7257811656,273434.44771106844,10101355.82595196,1813.9388587160229,21844975.546754047,32608915.461205468,6647463.431450888,6732158.211860817,16918154.06485961,7802034.1331576435,15458737.244518943,1245261.2750759379,1.6187346238423101,1956443.3391727854,96397.70039142075,12561.285024312958,1614511.771345346,7513.611582102665,620707.7717721894,5174109.606694056,221441.46796071564,78717.50317127735,230277.48936028517,2610085.436415087,2994.834577419984,0.23498252719993074,989115.3118552084,16194.040410711472,171431.68613221316,613794.4452909405,336559.9512509606,12637190.796127653,16.54193469780208,0.4800791406665334,3108107.219971921,231939.6150507326,871277.5812118277,67988.86284663994,15000.71199671763,13209923.865250032,3286.4359834321804,10081.89134453653,60465.42499846651,118.71541602439808,5440.653976495363,0.42255709603742087,3993.3806473465174,11416.850050178205,3687146.548832874,7593649.941807941,2847.6496783879534,44846.1105609831,224046.42577513732,94857.53438924672,203403.39499789395,540941.3699940415,77.5072970866445,24468.552347042867,39510404.975322396,673.9710207672977,1.0009998733493757,441492.5268417828,2073771.6676852128,70830.1410739274,264.4042676149016,122985.08110887819,17938271.282865167,1270002.5576700317,164934.90277159124,34610.404084805414,27168752.462877415,1641838.1654650318,16014838.624789042,821721.2152898414,2366403.906074745,78570.6048613973,4049782.125600704,83836.01132005616,3527016.793466713,61384.08376756126,40657.304159632164,43908988.69361525,5117903.211229157,4254254.202000501,95136.5660124495,9640.195510178344,2110.4628699998516,77.10927461035598,3313.628646787221,18531.806183682726,93650.28537482095,139667.9899187902,187755.72653904624,24610.969772384407,258997.22295574957,32275.74962456256,8760682.376557289,18926725.579477813,12186620.9663025,328396.0983117271,1046667.2255119471,2584318.4529526634,1468723.3589949694,225386.39403472646,872924.8241336052,1300956.383647919,56936.413941479914,42468.015759473485,990953.7459073288,106233.10624177662,39485.959080295,250022.40708229836,123028.37774132931,194454.76810060878,956.1290545984994,1311776.9109702834,5102.667835181147,799280.6442213634,1879549.15693511,1356472.8575861005,5851583.817969298,20610.31155676351,69794.04019360148,110826.49879640464,246449.05173270183,358140.4378351398,220383538.4615821,299.22401300000035,8493907.900086058,5004922.80886704,5024716.64480423,218476.6584483017,1853553.7122695663,1801454.1233897842,1103536.3671836392,2948413.8776351716,206078.2136679936,92726.32798783341,13670800.185508586,42533268.12169592,9807223.996545184,11107260.018646345,2100654.4980571517,5141515.550488995,925725.5548377256,485286.0576752184,7057878.734896466,1206885.3882389858,1081733.3948864846,3497060.212023499,496312.6218831486,370929.25718738727,9122640.271484913,162287.90990710858,101.09593782178092,19855.546972312786,27972.426116127466,488044.25949130487,705501.0630660949,3687216.6284592175,2538712.492613607,1793141.1059107594,34499445.97271809,91.71128691866723,5732992.094048869,8627541.705633711,3489336.584936223,725827.4032693927,405817.33542826754,23636.272660000148,15693640.425384624,9872269.956892544,39434230.640864745,7997381.826788946,12844881.437291648,410441.60381959984,697588.8845267985,15091602.642826915,2913945.132938472,1935514.5781002275,8285453.040924269,1460041.6983265944,859470.2622008056,1225463.6868291036,567541.5943459484,1284848.8858589428,4256057.63927644,16785369.324519318,550626.6597651987,6473049.585931389,1331272.8826917247,5170503.668104942,684271.6369401305,1204845.556670388,5720094.370236484,4322230.201450972,46468.02506853536,63904189.09483017,260691.9341034098,502653.610587183,18434.310000038648,965907.6771729173,8928168.48201682,5120556.464108917,18088060.688544612,471413.8337822538,2.514583722943723,12726.146724333872,410426.90022531094,0.3090939814651607,2415.386389090534,184.84955713672662,114.64403290616477,18.85999570793188,43015.73994825838,20229.03903273772,13301.139652845954,0.47812193957066074,6412.85349799866,10878.588116445486,861617.4334957094,798233.5681898852,36770.493174114374,64422188.65889506,50765.76453717655,3599.0877206270434,556769256.0661291,43862187.21069255,11795530.552876469,120608.34899316015,3628256.8013969297,154912.47368504276,5647970.728040531,6023720.455455014,198907.37756539014,35800.07667904327,447.56597616050783,74901.73030242711,138682.73716559602,72552.95743469533,105.51965965920223,225767.1930622817,188619.83932625572,179254.0996560098,27538.04658658452,16310.427573213581,2413244.373557866,22812.746938686952,803.9682746620412,75308.4945007075,3460316.5986914537,180198.54244871213,1888219.6313714397,182002.5670755088,265109.23614213336,1016386.3870169572,5353.889420038842,1401255.3815038933,0.6271478928120663,13099.035601877067,84136.93011285679,515313.718068554,660.4094611982598,1780476.6673638248,257391528.92510888,528863.6115834231,1367.134510761558,65614.69400652543,32325920.027150035,5572761.269673207,1023765.339148129,525893.7378405285,757.738306041756,183457.19827537177,1594257.5116739955,647710.5188537701,21490.44507536404,755459.9585319858,585187.7390682178,18229.703654110283,260369.86543425254,2274988.0447309576,9431.172986617059,1151429.7419237355,0.5142788831516052,861391.9839729298,7980786.099228831,849634.8986790269,15037024.965634638,82031772.4003971,81640568.6438182,134245.8396465659,3472374.0569249694,1181634.5050026434,1876054.7203671087,937647.3853314348,392523.2004097126,28773.92411887141,24812.145397117998,1259123.8342359827,1479628.152360132,792222.4532375694,42665604.83936267,417868.8875506165,1136628.2895901597,112479.44689026118,24740.57576447223,1807088.3174228263,825622.2965524615,613083.6910245222,2737338.3244876885,1242839.7886539972,306640.8557378923,730.9469475557294,97.85063466778367,1611.0796203717475,1542.1668195381014,16821781.34367462,195978.5407544888,159054.6838713636,3011725.3924795645,0.05005,1365766.8637185784,84.2273019376773,9.439009625653675,1150.4059716978115,1.9288733738236958,29426.88314496878,289176.6289548721,93936.49312312772,480101.4729620299,197423.77280090644,13990518.431816997,25587661.576227497,3316328.1640133723,2122656.246081251,9370.179316637368,21492.835081916153,18135.82515440542,28.567008811049966,364994.35342568555,902815.9713371906,2059303.6083655425,83332.32931898096,36320219.82090464,384503.5731702773,51366889.25796441,1048285.9201418739,184828.17548918122,2925403.7862608754,173.7,101875.74737664755,54.08707581898286,162045.76992864156,683.2955999999928,65352.73619999997,6678.816223259728,1572.6470999999988,2320.3706999999977,71162.30010853757,134597.30026980888,127506.07245911358,384754.70606205217,329390.1050914347,32750.643188932798,17163574.205915637,25105665.75175208,4184355.427958093,2566112.667146084,15162264.730603464,15323982.767309166,2552577.2346508745,46361.595756500705,34519617.97386472,132441.24671361427,2457898.6120367954,22351936.930601615,171368.0484927091,71973.78604446947,6251001.898820722,105544707.02142836,2639232.2386432756,5287.428784728663,124762.82868876403,19990305.4395225,12056513.49771884,216643.38186664257,73803.1357615917,695178.7476251303,15387.105193639261,1131882.9435200745,100.09321428343162,515466.8176673664,840.2748755089302,252.50969879486436,4918395.451481828,2730.7292724718022,3226047.855264394,3040713.2129264,234385.79442847264,10047.633591733225,26630.598676765476,288528.7854455029,2806882.988466227,764434.708673284,287850.65523116547,4343062.532316844,2267921.2838333575,5464243.077690312,80870.62401756592,7542.098206577966,1734126.1969944253,828565.6368240372,147.7182741010545,769528.7007577443,27700.041114122097,173024.408401913,2412773.156310155,1101989.7243688584,4577514.86241103,2341391.290449037,1960550.2269751057,130536.38335306938,1704350.421711497,49163.63260082376,4122468.291085117,1053986.861583228,37090924.301682524,348655.1100405684,5408.596587811094,1993087.3669418958,791862.7512451764,885676.0822168201,1325245.3236391963,6307.353556740266,90463.20445297065,12748.706224417587,7786.990077125372,16993.598261839266,797935.9896579022,2594955.809223746,1014023.4064720118,615596.8103106122,191063.44767818088,780861.328537338,286484.7690053991,634.4392859585059,773825.1433624249,1073644.4932836744,611610.9861862368,596560.9934003642,290923.2100000001,14907.699999999997,3881155.5230000033,5345.372999999999,150554.3927,19974.261900000005,4671.991122790907,40295870.3042513,121438.31167712736,7666026.447421206,220541.48417238775,7584019.65942205,656223.5307291328,16332.48735560089,3019400.547367099,8548.987945729958,2211.566654392843,45954.00450484708,27987988.63160851,1294237.4450822568,18074555.724889662,25404152.762568682,2959663.902756059,3834839.0213282653,2647.392616881262,68421.25874090267,857864.4031812014,1754267.1798825539,104259.03215044615,523876.74994072743,87924541.85065587,68520537.1229376,116246.14131282496,123117.13587588034,45169.4202824366,2245024.562040279,22022.951906069044,472286120.3387484,161472226.30210745,3172079.537824333,38322.216734075606,5510.339013437215,164799.57866506634,21482.084994678735,667.8993317531696,9569.333435013428,4376.770479167772,31133.75211884857,21654.659583971043,3992521.635545436,27056.18764283692,639954.2322623137,37881528.77329349,1939158.360822638,127844.19981846318,122184.03976836677,2.1837139563987193,114790.12384755888,0.06417206623256977,4099115.102561133,39145.77161980713,365513.26195641456,12493243.768735176,167199.8944314171,58399.18588458174,33396.87061333282,852074.7838000266,252711.34315421697,86051.55262210367,8031.014367120195,238327.92130947352,1061154.2691736536,426825.47195438936,467463.5183454827,107301022.85861957,44320430.662300654,222755372.3287138,6976477.425607173,84317415.44787702,399143228.9417205,12848789.436030736,807123244.2025445,757.738306041756,6749378.4810658265,202661.36671307866,48388588.31139065,10172777.181766227,65352.73619999997,233267315.2360591,855257.7257811656,5353.889420038842,1604658.7765017874,441492.5268417828,39434230.640864745,1641838.1654650318,410426.90022531094,1073314.2451904938,144534262.6467411,366637.1821437869,5138804.152280191,6506745.06710712,2925403.7862608754,755459.9585319858,29426.88314496878,1296293.827903031,8493907.900086058,10029639.45367127,5853404.418258595,72815444.31159991,5170503.668104942,947.4227096344312,13099.035601877067,84136.93011285679,11841204.51245848,700028.5344839885,110215909.81585123,22269374.70668728,17956705.592865206,67698286.8919934,45443.34160052779,515313.718068554,1052552.8305833195,757382180.9253476,64422188.65889506,252.50969879486436,8635.503972554112,565924337.2609825,1594257.5116739955,122985.08110887819,1204845.556670388,660.4094611982598,1853553.7122695663,30920.823859883465,246232778.34656608,1270002.5576700317,51366889.25796441,2320.3706999999977,2396291.087660819,509484.30291351053,12826790.391724247,1946830.3513904735,3920201.1328629423,245375006.85483998,480578756.3406817,12561.285024312958,13229318.02948815,211873703.65615246,24701212.263910387,5214195285.997545]}],                        {\"coloraxis\":{\"colorbar\":{\"title\":{\"text\":\"flow_direction\"}},\"colorscale\":[[0.0,\"rgb(158,1,66)\"],[0.1,\"rgb(213,62,79)\"],[0.2,\"rgb(244,109,67)\"],[0.3,\"rgb(253,174,97)\"],[0.4,\"rgb(254,224,139)\"],[0.5,\"rgb(255,255,191)\"],[0.6,\"rgb(230,245,152)\"],[0.7,\"rgb(171,221,164)\"],[0.8,\"rgb(102,194,165)\"],[0.9,\"rgb(50,136,189)\"],[1.0,\"rgb(94,79,162)\"]]},\"legend\":{\"tracegroupgap\":0},\"margin\":{\"b\":25,\"l\":25,\"r\":25,\"t\":50},\"template\":{\"data\":{\"bar\":[{\"error_x\":{\"color\":\"#2a3f5f\"},\"error_y\":{\"color\":\"#2a3f5f\"},\"marker\":{\"line\":{\"color\":\"#E5ECF6\",\"width\":0.5},\"pattern\":{\"fillmode\":\"overlay\",\"size\":10,\"solidity\":0.2}},\"type\":\"bar\"}],\"barpolar\":[{\"marker\":{\"line\":{\"color\":\"#E5ECF6\",\"width\":0.5},\"pattern\":{\"fillmode\":\"overlay\",\"size\":10,\"solidity\":0.2}},\"type\":\"barpolar\"}],\"carpet\":[{\"aaxis\":{\"endlinecolor\":\"#2a3f5f\",\"gridcolor\":\"white\",\"linecolor\":\"white\",\"minorgridcolor\":\"white\",\"startlinecolor\":\"#2a3f5f\"},\"baxis\":{\"endlinecolor\":\"#2a3f5f\",\"gridcolor\":\"white\",\"linecolor\":\"white\",\"minorgridcolor\":\"white\",\"startlinecolor\":\"#2a3f5f\"},\"type\":\"carpet\"}],\"choropleth\":[{\"colorbar\":{\"outlinewidth\":0,\"ticks\":\"\"},\"type\":\"choropleth\"}],\"contour\":[{\"colorbar\":{\"outlinewidth\":0,\"ticks\":\"\"},\"colorscale\":[[0.0,\"#0d0887\"],[0.1111111111111111,\"#46039f\"],[0.2222222222222222,\"#7201a8\"],[0.3333333333333333,\"#9c179e\"],[0.4444444444444444,\"#bd3786\"],[0.5555555555555556,\"#d8576b\"],[0.6666666666666666,\"#ed7953\"],[0.7777777777777778,\"#fb9f3a\"],[0.8888888888888888,\"#fdca26\"],[1.0,\"#f0f921\"]],\"type\":\"contour\"}],\"contourcarpet\":[{\"colorbar\":{\"outlinewidth\":0,\"ticks\":\"\"},\"type\":\"contourcarpet\"}],\"heatmap\":[{\"colorbar\":{\"outlinewidth\":0,\"ticks\":\"\"},\"colorscale\":[[0.0,\"#0d0887\"],[0.1111111111111111,\"#46039f\"],[0.2222222222222222,\"#7201a8\"],[0.3333333333333333,\"#9c179e\"],[0.4444444444444444,\"#bd3786\"],[0.5555555555555556,\"#d8576b\"],[0.6666666666666666,\"#ed7953\"],[0.7777777777777778,\"#fb9f3a\"],[0.8888888888888888,\"#fdca26\"],[1.0,\"#f0f921\"]],\"type\":\"heatmap\"}],\"heatmapgl\":[{\"colorbar\":{\"outlinewidth\":0,\"ticks\":\"\"},\"colorscale\":[[0.0,\"#0d0887\"],[0.1111111111111111,\"#46039f\"],[0.2222222222222222,\"#7201a8\"],[0.3333333333333333,\"#9c179e\"],[0.4444444444444444,\"#bd3786\"],[0.5555555555555556,\"#d8576b\"],[0.6666666666666666,\"#ed7953\"],[0.7777777777777778,\"#fb9f3a\"],[0.8888888888888888,\"#fdca26\"],[1.0,\"#f0f921\"]],\"type\":\"heatmapgl\"}],\"histogram\":[{\"marker\":{\"pattern\":{\"fillmode\":\"overlay\",\"size\":10,\"solidity\":0.2}},\"type\":\"histogram\"}],\"histogram2d\":[{\"colorbar\":{\"outlinewidth\":0,\"ticks\":\"\"},\"colorscale\":[[0.0,\"#0d0887\"],[0.1111111111111111,\"#46039f\"],[0.2222222222222222,\"#7201a8\"],[0.3333333333333333,\"#9c179e\"],[0.4444444444444444,\"#bd3786\"],[0.5555555555555556,\"#d8576b\"],[0.6666666666666666,\"#ed7953\"],[0.7777777777777778,\"#fb9f3a\"],[0.8888888888888888,\"#fdca26\"],[1.0,\"#f0f921\"]],\"type\":\"histogram2d\"}],\"histogram2dcontour\":[{\"colorbar\":{\"outlinewidth\":0,\"ticks\":\"\"},\"colorscale\":[[0.0,\"#0d0887\"],[0.1111111111111111,\"#46039f\"],[0.2222222222222222,\"#7201a8\"],[0.3333333333333333,\"#9c179e\"],[0.4444444444444444,\"#bd3786\"],[0.5555555555555556,\"#d8576b\"],[0.6666666666666666,\"#ed7953\"],[0.7777777777777778,\"#fb9f3a\"],[0.8888888888888888,\"#fdca26\"],[1.0,\"#f0f921\"]],\"type\":\"histogram2dcontour\"}],\"mesh3d\":[{\"colorbar\":{\"outlinewidth\":0,\"ticks\":\"\"},\"type\":\"mesh3d\"}],\"parcoords\":[{\"line\":{\"colorbar\":{\"outlinewidth\":0,\"ticks\":\"\"}},\"type\":\"parcoords\"}],\"pie\":[{\"automargin\":true,\"type\":\"pie\"}],\"scatter\":[{\"marker\":{\"colorbar\":{\"outlinewidth\":0,\"ticks\":\"\"}},\"type\":\"scatter\"}],\"scatter3d\":[{\"line\":{\"colorbar\":{\"outlinewidth\":0,\"ticks\":\"\"}},\"marker\":{\"colorbar\":{\"outlinewidth\":0,\"ticks\":\"\"}},\"type\":\"scatter3d\"}],\"scattercarpet\":[{\"marker\":{\"colorbar\":{\"outlinewidth\":0,\"ticks\":\"\"}},\"type\":\"scattercarpet\"}],\"scattergeo\":[{\"marker\":{\"colorbar\":{\"outlinewidth\":0,\"ticks\":\"\"}},\"type\":\"scattergeo\"}],\"scattergl\":[{\"marker\":{\"colorbar\":{\"outlinewidth\":0,\"ticks\":\"\"}},\"type\":\"scattergl\"}],\"scattermapbox\":[{\"marker\":{\"colorbar\":{\"outlinewidth\":0,\"ticks\":\"\"}},\"type\":\"scattermapbox\"}],\"scatterpolar\":[{\"marker\":{\"colorbar\":{\"outlinewidth\":0,\"ticks\":\"\"}},\"type\":\"scatterpolar\"}],\"scatterpolargl\":[{\"marker\":{\"colorbar\":{\"outlinewidth\":0,\"ticks\":\"\"}},\"type\":\"scatterpolargl\"}],\"scatterternary\":[{\"marker\":{\"colorbar\":{\"outlinewidth\":0,\"ticks\":\"\"}},\"type\":\"scatterternary\"}],\"surface\":[{\"colorbar\":{\"outlinewidth\":0,\"ticks\":\"\"},\"colorscale\":[[0.0,\"#0d0887\"],[0.1111111111111111,\"#46039f\"],[0.2222222222222222,\"#7201a8\"],[0.3333333333333333,\"#9c179e\"],[0.4444444444444444,\"#bd3786\"],[0.5555555555555556,\"#d8576b\"],[0.6666666666666666,\"#ed7953\"],[0.7777777777777778,\"#fb9f3a\"],[0.8888888888888888,\"#fdca26\"],[1.0,\"#f0f921\"]],\"type\":\"surface\"}],\"table\":[{\"cells\":{\"fill\":{\"color\":\"#EBF0F8\"},\"line\":{\"color\":\"white\"}},\"header\":{\"fill\":{\"color\":\"#C8D4E3\"},\"line\":{\"color\":\"white\"}},\"type\":\"table\"}]},\"layout\":{\"annotationdefaults\":{\"arrowcolor\":\"#2a3f5f\",\"arrowhead\":0,\"arrowwidth\":1},\"autotypenumbers\":\"strict\",\"coloraxis\":{\"colorbar\":{\"outlinewidth\":0,\"ticks\":\"\"}},\"colorscale\":{\"diverging\":[[0,\"#8e0152\"],[0.1,\"#c51b7d\"],[0.2,\"#de77ae\"],[0.3,\"#f1b6da\"],[0.4,\"#fde0ef\"],[0.5,\"#f7f7f7\"],[0.6,\"#e6f5d0\"],[0.7,\"#b8e186\"],[0.8,\"#7fbc41\"],[0.9,\"#4d9221\"],[1,\"#276419\"]],\"sequential\":[[0.0,\"#0d0887\"],[0.1111111111111111,\"#46039f\"],[0.2222222222222222,\"#7201a8\"],[0.3333333333333333,\"#9c179e\"],[0.4444444444444444,\"#bd3786\"],[0.5555555555555556,\"#d8576b\"],[0.6666666666666666,\"#ed7953\"],[0.7777777777777778,\"#fb9f3a\"],[0.8888888888888888,\"#fdca26\"],[1.0,\"#f0f921\"]],\"sequentialminus\":[[0.0,\"#0d0887\"],[0.1111111111111111,\"#46039f\"],[0.2222222222222222,\"#7201a8\"],[0.3333333333333333,\"#9c179e\"],[0.4444444444444444,\"#bd3786\"],[0.5555555555555556,\"#d8576b\"],[0.6666666666666666,\"#ed7953\"],[0.7777777777777778,\"#fb9f3a\"],[0.8888888888888888,\"#fdca26\"],[1.0,\"#f0f921\"]]},\"colorway\":[\"#636efa\",\"#EF553B\",\"#00cc96\",\"#ab63fa\",\"#FFA15A\",\"#19d3f3\",\"#FF6692\",\"#B6E880\",\"#FF97FF\",\"#FECB52\"],\"font\":{\"color\":\"#2a3f5f\"},\"geo\":{\"bgcolor\":\"white\",\"lakecolor\":\"white\",\"landcolor\":\"#E5ECF6\",\"showlakes\":true,\"showland\":true,\"subunitcolor\":\"white\"},\"hoverlabel\":{\"align\":\"left\"},\"hovermode\":\"closest\",\"mapbox\":{\"style\":\"light\"},\"paper_bgcolor\":\"white\",\"plot_bgcolor\":\"#E5ECF6\",\"polar\":{\"angularaxis\":{\"gridcolor\":\"white\",\"linecolor\":\"white\",\"ticks\":\"\"},\"bgcolor\":\"#E5ECF6\",\"radialaxis\":{\"gridcolor\":\"white\",\"linecolor\":\"white\",\"ticks\":\"\"}},\"scene\":{\"xaxis\":{\"backgroundcolor\":\"#E5ECF6\",\"gridcolor\":\"white\",\"gridwidth\":2,\"linecolor\":\"white\",\"showbackground\":true,\"ticks\":\"\",\"zerolinecolor\":\"white\"},\"yaxis\":{\"backgroundcolor\":\"#E5ECF6\",\"gridcolor\":\"white\",\"gridwidth\":2,\"linecolor\":\"white\",\"showbackground\":true,\"ticks\":\"\",\"zerolinecolor\":\"white\"},\"zaxis\":{\"backgroundcolor\":\"#E5ECF6\",\"gridcolor\":\"white\",\"gridwidth\":2,\"linecolor\":\"white\",\"showbackground\":true,\"ticks\":\"\",\"zerolinecolor\":\"white\"}},\"shapedefaults\":{\"line\":{\"color\":\"#2a3f5f\"}},\"ternary\":{\"aaxis\":{\"gridcolor\":\"white\",\"linecolor\":\"white\",\"ticks\":\"\"},\"baxis\":{\"gridcolor\":\"white\",\"linecolor\":\"white\",\"ticks\":\"\"},\"bgcolor\":\"#E5ECF6\",\"caxis\":{\"gridcolor\":\"white\",\"linecolor\":\"white\",\"ticks\":\"\"}},\"title\":{\"x\":0.05},\"xaxis\":{\"automargin\":true,\"gridcolor\":\"white\",\"linecolor\":\"white\",\"ticks\":\"\",\"title\":{\"standoff\":15},\"zerolinecolor\":\"white\",\"zerolinewidth\":2},\"yaxis\":{\"automargin\":true,\"gridcolor\":\"white\",\"linecolor\":\"white\",\"ticks\":\"\",\"title\":{\"standoff\":15},\"zerolinecolor\":\"white\",\"zerolinewidth\":2}}}},                        {\"responsive\": true}                    ).then(function(){\n",
       "                            \n",
       "var gd = document.getElementById('0918cf31-00ea-483d-9bb6-fd087a1bb4e3');\n",
       "var x = new MutationObserver(function (mutations, observer) {{\n",
       "        var display = window.getComputedStyle(gd).display;\n",
       "        if (!display || display === 'none') {{\n",
       "            console.log([gd, 'removed!']);\n",
       "            Plotly.purge(gd);\n",
       "            observer.disconnect();\n",
       "        }}\n",
       "}});\n",
       "\n",
       "// Listen for the removal of the full notebook cells\n",
       "var notebookContainer = gd.closest('#notebook-container');\n",
       "if (notebookContainer) {{\n",
       "    x.observe(notebookContainer, {childList: true});\n",
       "}}\n",
       "\n",
       "// Listen for the clearing of the current output cell\n",
       "var outputEl = gd.closest('.output');\n",
       "if (outputEl) {{\n",
       "    x.observe(outputEl, {childList: true});\n",
       "}}\n",
       "\n",
       "                        })                };                });            </script>        </div>"
      ]
     },
     "metadata": {},
     "output_type": "display_data"
    }
   ],
   "source": [
    "summary_df = netdf_df[  ( netdf_df['rank_desc'] == 1 ) &\\\n",
    "                        (~netdf_df['chain'].str.contains('-borrowed')) &\\\n",
    "                        (~netdf_df['chain'].str.contains('-staking')) &\\\n",
    "                        (~netdf_df['chain'].str.contains('-pool2')) &\\\n",
    "                        (~( netdf_df['chain'] == 'treasury') ) &\\\n",
    "                        (~( netdf_df['chain'] == 'borrowed') )\n",
    "#                         & (~( netdf_df['chain'] == 'Ethereum') )\n",
    "                        ]\n",
    "summary_df = summary_df.sort_values(by='cumul_net_dollar_flow',ascending=False)\n",
    "summary_df['pct_of_tvl'] = 100* summary_df['net_dollar_flow'] / summary_df['usd_value']\n",
    "summary_df['flow_direction'] = np.where(summary_df['cumul_net_dollar_flow']>=0,1,-1)\n",
    "summary_df['abs_cumul_net_dollar_flow'] = abs(summary_df['cumul_net_dollar_flow'])\n",
    "# display(summary_df)\n",
    "fig = px.treemap(summary_df[summary_df['abs_cumul_net_dollar_flow'] !=0], \\\n",
    "                 path=[px.Constant(\"all\"), 'chain', 'protocol'], \\\n",
    "#                  path=[px.Constant(\"all\"), 'token', 'chain', 'protocol'], \\\n",
    "                 values='abs_cumul_net_dollar_flow', color='flow_direction'\n",
    "#                 ,color_discrete_map={'-1':'red', '1':'green'})\n",
    "                ,color_continuous_scale='Spectral'\n",
    "                )\n",
    "# fig.data[0].textinfo = 'label+text+value'\n",
    "fig.update_traces(root_color=\"lightgrey\")\n",
    "fig.update_layout(margin = dict(t=50, l=25, r=25, b=25))\n",
    "# fig.update_layout(tickprefix = '$')\n",
    "\n",
    "# fig.show()\n"
   ]
  },
  {
   "cell_type": "code",
   "execution_count": 42,
   "id": "638928f4",
   "metadata": {},
   "outputs": [],
   "source": [
    "fig.write_image(prepend + \"img_outputs/svg/net_app_flows.svg\") #prepend + \n",
    "fig.write_image(prepend + \"img_outputs/png/net_app_flows.png\") #prepend + \n",
    "fig.write_html(prepend + \"img_outputs/net_app_flows.html\", include_plotlyjs='cdn')"
   ]
  },
  {
   "cell_type": "code",
   "execution_count": 43,
   "id": "546e13b8",
   "metadata": {},
   "outputs": [],
   "source": [
    "# netdf_df_plot = netdf_df[netdf_df['chain']=='Ethereum']\n",
    "\n",
    "# fig = px.line(netdf_df_plot, x=\"date\", y=\"net_dollar_flow\", color=\"protocol\", \\\n",
    "#              title=\"Daily Net Dollar Flow since Program Announcement\",\\\n",
    "#             labels={\n",
    "#                      \"date\": \"Day\",\n",
    "#                      \"net_dollar_flow\": \"Net Dollar Flow (N$F)\"\n",
    "#                  }\n",
    "#             )\n",
    "# fig.update_layout(\n",
    "#     legend_title=\"App Name\"\n",
    "# )\n",
    "# fig.update_layout(yaxis_tickprefix = '$')\n",
    "# fig.show()\n",
    "\n",
    "# # cumul_fig = px.area(netdf_df, x=\"date\", y=\"cumul_net_dollar_flow\", color=\"protocol\", \\\n",
    "# #              title=\"Cumulative Dollar Flow since Program Announcement\",\\\n",
    "# #                    labels={\n",
    "# #                      \"date\": \"Day\",\n",
    "# #                      \"cumul_net_dollar_flow\": \"Cumulative Net Dollar Flow (N$F)\"\n",
    "# #                  }\n",
    "# #             ,areamode='group')\n",
    "# # cumul_fig.update_layout(yaxis_tickprefix = '$')\n",
    "# # cumul_fig.show()\n",
    "\n",
    "\n",
    "# cumul_fig = go.Figure()\n",
    "# proto_names = netdf_df_plot['protocol'].drop_duplicates()\n",
    "# print(proto_names)\n",
    "# for p in proto_names:\n",
    "#     cumul_fig.add_trace(go.Scatter(x=netdf_df_plot[netdf_df_plot['protocol'] == p]['date'] \\\n",
    "#                                    , y=netdf_df_plot[netdf_df_plot['protocol'] == p]['cumul_net_dollar_flow'] \\\n",
    "#                                     ,name = p\\\n",
    "#                                   ,fill='tozeroy')) # fill down to xaxis\n",
    "\n",
    "# cumul_fig.update_layout(yaxis_tickprefix = '$')\n",
    "# cumul_fig.update_layout(\n",
    "#     title=\"Cumulative Dollar Flow since Program Announcement\",\n",
    "#     xaxis_title=\"Day\",\n",
    "#     yaxis_title=\"Cumulative Net Dollar Flow (N$F)\",\n",
    "#     legend_title=\"App Name\",\n",
    "# #     color_discrete_map=px.colors.qualitative.G10\n",
    "# )\n",
    "# cumul_fig.show()"
   ]
  },
  {
   "cell_type": "code",
   "execution_count": null,
   "id": "349db240",
   "metadata": {},
   "outputs": [],
   "source": [
    "! jupyter nbconvert --to python total_app_net_flows.ipynb"
   ]
  }
 ],
 "metadata": {
  "kernelspec": {
   "display_name": "Python 3 (ipykernel)",
   "language": "python",
   "name": "python3"
  },
  "language_info": {
   "codemirror_mode": {
    "name": "ipython",
    "version": 3
   },
   "file_extension": ".py",
   "mimetype": "text/x-python",
   "name": "python",
   "nbconvert_exporter": "python",
   "pygments_lexer": "ipython3",
   "version": "3.9.7"
  }
 },
 "nbformat": 4,
 "nbformat_minor": 5
}
