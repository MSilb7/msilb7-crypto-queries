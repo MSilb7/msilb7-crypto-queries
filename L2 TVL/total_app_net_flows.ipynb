{
 "cells": [
  {
   "cell_type": "code",
   "execution_count": 77,
   "id": "ffefb42a",
   "metadata": {},
   "outputs": [],
   "source": [
    "import pandas as pd\n",
    "import requests as r\n",
    "import plotly.express as px\n",
    "import plotly.graph_objects as go\n",
    "from datetime import datetime, timedelta, date\n",
    "import numpy as np\n",
    "import time\n",
    "import os\n",
    "header = {'User-Agent': 'Mozilla/5.0 (Windows NT 10.0; Win64; x64; rv:71.0) Gecko/20100101 Firefox/71.0'}"
   ]
  },
  {
   "cell_type": "code",
   "execution_count": 78,
   "id": "539f29a0",
   "metadata": {},
   "outputs": [],
   "source": [
    "#https://stackoverflow.com/questions/23267409/how-to-implement-retry-mechanism-into-python-requests-library\n",
    "\n",
    "import logging\n",
    "import requests\n",
    "\n",
    "from requests.adapters import HTTPAdapter, Retry\n",
    "\n",
    "logging.basicConfig(level=logging.DEBUG)\n",
    "\n",
    "s = requests.Session()\n",
    "retries = Retry(total=5, backoff_factor=1, status_forcelist=[ 502, 503, 504 ])\n",
    "s.mount('http://', HTTPAdapter(max_retries=retries))\n",
    "\n",
    "pwd = os.getcwd()\n",
    "if 'L2 TVL' in pwd:\n",
    "    prepend = ''\n",
    "else:\n",
    "    prepend = 'L2 TVL/'"
   ]
  },
  {
   "cell_type": "code",
   "execution_count": 79,
   "id": "bbc56e12",
   "metadata": {},
   "outputs": [],
   "source": [
    "trailing_num_days = 7"
   ]
  },
  {
   "cell_type": "code",
   "execution_count": 80,
   "id": "d984f9ab",
   "metadata": {},
   "outputs": [
    {
     "name": "stderr",
     "output_type": "stream",
     "text": [
      "DEBUG:urllib3.connectionpool:Starting new HTTPS connection (1): api.llama.fi:443\n",
      "DEBUG:urllib3.connectionpool:https://api.llama.fi:443 \"GET /protocols HTTP/1.1\" 200 1594244\n"
     ]
    },
    {
     "name": "stdout",
     "output_type": "stream",
     "text": [
      "355\n"
     ]
    }
   ],
   "source": [
    "#get all apps > 10 m tvl\n",
    "all_api = 'https://api.llama.fi/protocols'\n",
    "res = pd.DataFrame( r.get(all_api, headers=header).json() )\n",
    "res = res[res['tvl'] > 10_000_000] ##greater than 10mil\n",
    "print(len(res))\n",
    "# print(res.columns)\n"
   ]
  },
  {
   "cell_type": "code",
   "execution_count": 81,
   "id": "beebc582",
   "metadata": {},
   "outputs": [
    {
     "name": "stderr",
     "output_type": "stream",
     "text": [
      "/var/folders/by/kltjc8yd0yz_7_wrtrzhrm9m0000gn/T/ipykernel_65434/1800157470.py:4: SettingWithCopyWarning:\n",
      "\n",
      "\n",
      "A value is trying to be set on a copy of a slice from a DataFrame.\n",
      "Try using .loc[row_indexer,col_indexer] = value instead\n",
      "\n",
      "See the caveats in the documentation: https://pandas.pydata.org/pandas-docs/stable/user_guide/indexing.html#returning-a-view-versus-a-copy\n",
      "\n"
     ]
    },
    {
     "data": {
      "text/html": [
       "<div>\n",
       "<style scoped>\n",
       "    .dataframe tbody tr th:only-of-type {\n",
       "        vertical-align: middle;\n",
       "    }\n",
       "\n",
       "    .dataframe tbody tr th {\n",
       "        vertical-align: top;\n",
       "    }\n",
       "\n",
       "    .dataframe thead th {\n",
       "        text-align: right;\n",
       "    }\n",
       "</style>\n",
       "<table border=\"1\" class=\"dataframe\">\n",
       "  <thead>\n",
       "    <tr style=\"text-align: right;\">\n",
       "      <th></th>\n",
       "      <th>slug</th>\n",
       "      <th>chainTvls</th>\n",
       "    </tr>\n",
       "  </thead>\n",
       "  <tbody>\n",
       "    <tr>\n",
       "      <th>0</th>\n",
       "      <td>makerdao</td>\n",
       "      <td>[Ethereum]</td>\n",
       "    </tr>\n",
       "    <tr>\n",
       "      <th>1</th>\n",
       "      <td>polygon-bridge-&amp;-staking</td>\n",
       "      <td>[Polygon]</td>\n",
       "    </tr>\n",
       "    <tr>\n",
       "      <th>2</th>\n",
       "      <td>lido</td>\n",
       "      <td>[Ethereum, Moonriver, Solana, Terra, Moonbeam]</td>\n",
       "    </tr>\n",
       "    <tr>\n",
       "      <th>3</th>\n",
       "      <td>uniswap</td>\n",
       "      <td>[Optimism, Ethereum, Polygon, Celo, Arbitrum]</td>\n",
       "    </tr>\n",
       "    <tr>\n",
       "      <th>4</th>\n",
       "      <td>curve</td>\n",
       "      <td>[Optimism, Harmony, Moonbeam, Ethereum, Aurora...</td>\n",
       "    </tr>\n",
       "    <tr>\n",
       "      <th>...</th>\n",
       "      <td>...</td>\n",
       "      <td>...</td>\n",
       "    </tr>\n",
       "    <tr>\n",
       "      <th>350</th>\n",
       "      <td>sashimiswap</td>\n",
       "      <td>[Binance-borrowed, Binance, Ethereum, Heco, Et...</td>\n",
       "    </tr>\n",
       "    <tr>\n",
       "      <th>351</th>\n",
       "      <td>aavegotchi</td>\n",
       "      <td>[pool2, Polygon-pool2, Ethereum, Polygon, Poly...</td>\n",
       "    </tr>\n",
       "    <tr>\n",
       "      <th>352</th>\n",
       "      <td>idex</td>\n",
       "      <td>[Ethereum, Polygon]</td>\n",
       "    </tr>\n",
       "    <tr>\n",
       "      <th>353</th>\n",
       "      <td>guard(helmet)</td>\n",
       "      <td>[Binance, Polygon]</td>\n",
       "    </tr>\n",
       "    <tr>\n",
       "      <th>354</th>\n",
       "      <td>truefi</td>\n",
       "      <td>[Ethereum, Ethereum-staking, Ethereum-borrowed...</td>\n",
       "    </tr>\n",
       "  </tbody>\n",
       "</table>\n",
       "<p>355 rows × 2 columns</p>\n",
       "</div>"
      ],
      "text/plain": [
       "                         slug  \\\n",
       "0                    makerdao   \n",
       "1    polygon-bridge-&-staking   \n",
       "2                        lido   \n",
       "3                     uniswap   \n",
       "4                       curve   \n",
       "..                        ...   \n",
       "350               sashimiswap   \n",
       "351                aavegotchi   \n",
       "352                      idex   \n",
       "353             guard(helmet)   \n",
       "354                    truefi   \n",
       "\n",
       "                                             chainTvls  \n",
       "0                                           [Ethereum]  \n",
       "1                                            [Polygon]  \n",
       "2       [Ethereum, Moonriver, Solana, Terra, Moonbeam]  \n",
       "3        [Optimism, Ethereum, Polygon, Celo, Arbitrum]  \n",
       "4    [Optimism, Harmony, Moonbeam, Ethereum, Aurora...  \n",
       "..                                                 ...  \n",
       "350  [Binance-borrowed, Binance, Ethereum, Heco, Et...  \n",
       "351  [pool2, Polygon-pool2, Ethereum, Polygon, Poly...  \n",
       "352                                [Ethereum, Polygon]  \n",
       "353                                 [Binance, Polygon]  \n",
       "354  [Ethereum, Ethereum-staking, Ethereum-borrowed...  \n",
       "\n",
       "[355 rows x 2 columns]"
      ]
     },
     "execution_count": 81,
     "metadata": {},
     "output_type": "execute_result"
    }
   ],
   "source": [
    "\n",
    "protocols = res[['slug','chainTvls']]\n",
    "re = res['chainTvls']\n",
    "# r[1].keys()\n",
    "protocols['chainTvls'] = protocols['chainTvls'].apply(lambda x: list(x.keys()) )\n",
    "protocols"
   ]
  },
  {
   "cell_type": "code",
   "execution_count": 82,
   "id": "c84c9ef1",
   "metadata": {},
   "outputs": [],
   "source": [
    "# protocols = protocols[ protocols['slug'] == 'uniswap-v3' ]\n",
    "# api_str = 'https://api.llama.fi/protocol/'\n",
    "# ad = pd.DataFrame( r.get(api_str).json()['chainTvls'] ).T[['tokens']]\n",
    "# ad"
   ]
  },
  {
   "cell_type": "code",
   "execution_count": 83,
   "id": "9717e4df",
   "metadata": {},
   "outputs": [],
   "source": [
    "# api_str = 'https://api.llama.fi/protocol/uniswap'\n",
    "# prot_req = r.get(api_str, headers=header).json()['chainTvls']\n",
    "# # prot_req['Ethereum']\n",
    "# prot_req"
   ]
  },
  {
   "cell_type": "code",
   "execution_count": 84,
   "id": "d3399236",
   "metadata": {},
   "outputs": [
    {
     "name": "stderr",
     "output_type": "stream",
     "text": [
      "DEBUG:urllib3.connectionpool:Starting new HTTPS connection (1): api.llama.fi:443\n",
      "DEBUG:urllib3.connectionpool:https://api.llama.fi:443 \"GET /protocol/makerdao HTTP/1.1\" 200 1003982\n",
      "DEBUG:urllib3.connectionpool:https://api.llama.fi:443 \"GET /protocol/polygon-bridge-&-staking HTTP/1.1\" 307 0\n",
      "DEBUG:urllib3.connectionpool:Starting new HTTPS connection (1): defillama-datasets.s3.eu-central-1.amazonaws.com:443\n",
      "DEBUG:urllib3.connectionpool:https://defillama-datasets.s3.eu-central-1.amazonaws.com:443 \"GET /temp/protocol-Polygon%20Bridge%20&%20Staking.json HTTP/1.1\" 200 14069079\n",
      "DEBUG:urllib3.connectionpool:https://api.llama.fi:443 \"GET /protocol/lido HTTP/1.1\" 200 443352\n",
      "DEBUG:urllib3.connectionpool:https://api.llama.fi:443 \"GET /protocol/uniswap HTTP/1.1\" 307 0\n",
      "DEBUG:urllib3.connectionpool:https://defillama-datasets.s3.eu-central-1.amazonaws.com:443 \"GET /temp/protocol-Uniswap.json HTTP/1.1\" 200 13728133\n",
      "DEBUG:urllib3.connectionpool:https://api.llama.fi:443 \"GET /protocol/curve HTTP/1.1\" 200 1468983\n",
      "DEBUG:urllib3.connectionpool:https://api.llama.fi:443 \"GET /protocol/wbtc HTTP/1.1\" 200 89135\n",
      "DEBUG:urllib3.connectionpool:https://api.llama.fi:443 \"GET /protocol/aave-v2 HTTP/1.1\" 200 4490688\n",
      "DEBUG:urllib3.connectionpool:https://api.llama.fi:443 \"GET /protocol/convex-finance HTTP/1.1\" 200 1718670\n",
      "DEBUG:urllib3.connectionpool:https://api.llama.fi:443 \"GET /protocol/justlend HTTP/1.1\" 200 154683\n",
      "DEBUG:urllib3.connectionpool:https://api.llama.fi:443 \"GET /protocol/pancakeswap HTTP/1.1\" 200 316160\n",
      "DEBUG:urllib3.connectionpool:https://api.llama.fi:443 \"GET /protocol/compound HTTP/1.1\" 200 2288769\n",
      "DEBUG:urllib3.connectionpool:https://api.llama.fi:443 \"GET /protocol/instadapp HTTP/1.1\" 200 96396\n",
      "DEBUG:urllib3.connectionpool:https://api.llama.fi:443 \"GET /protocol/multichain HTTP/1.1\" 200 327974\n",
      "DEBUG:urllib3.connectionpool:https://api.llama.fi:443 \"GET /protocol/arrakis-finance HTTP/1.1\" 200 1093336\n",
      "DEBUG:urllib3.connectionpool:https://api.llama.fi:443 \"GET /protocol/aave-v3 HTTP/1.1\" 200 1094296\n",
      "DEBUG:urllib3.connectionpool:https://api.llama.fi:443 \"GET /protocol/balancer HTTP/1.1\" 200 408368\n",
      "DEBUG:urllib3.connectionpool:https://api.llama.fi:443 \"GET /protocol/justcryptos HTTP/1.1\" 502 36\n",
      "DEBUG:urllib3.connectionpool:https://api.llama.fi:443 \"GET /protocol/juststables HTTP/1.1\" 200 273846\n",
      "DEBUG:urllib3.connectionpool:https://api.llama.fi:443 \"GET /protocol/frax HTTP/1.1\" 200 837489\n"
     ]
    },
    {
     "name": "stdout",
     "output_type": "stream",
     "text": [
      "err\n"
     ]
    },
    {
     "name": "stderr",
     "output_type": "stream",
     "text": [
      "DEBUG:urllib3.connectionpool:https://api.llama.fi:443 \"GET /protocol/hbtc HTTP/1.1\" 200 87549\n",
      "DEBUG:urllib3.connectionpool:https://api.llama.fi:443 \"GET /protocol/sunswap HTTP/1.1\" 200 238489\n",
      "DEBUG:urllib3.connectionpool:https://api.llama.fi:443 \"GET /protocol/sushiswap HTTP/1.1\" 307 0\n",
      "DEBUG:urllib3.connectionpool:Resetting dropped connection: defillama-datasets.s3.eu-central-1.amazonaws.com\n",
      "DEBUG:urllib3.connectionpool:https://defillama-datasets.s3.eu-central-1.amazonaws.com:443 \"GET /temp/protocol-SushiSwap.json HTTP/1.1\" 200 80035667\n",
      "DEBUG:urllib3.connectionpool:https://api.llama.fi:443 \"GET /protocol/venus HTTP/1.1\" 200 2354274\n",
      "DEBUG:urllib3.connectionpool:https://api.llama.fi:443 \"GET /protocol/vvs-finance HTTP/1.1\" 200 103838\n",
      "DEBUG:urllib3.connectionpool:https://api.llama.fi:443 \"GET /protocol/synthetix HTTP/1.1\" 200 366868\n",
      "DEBUG:urllib3.connectionpool:https://api.llama.fi:443 \"GET /protocol/yearn-finance HTTP/1.1\" 200 316941\n",
      "DEBUG:urllib3.connectionpool:https://api.llama.fi:443 \"GET /protocol/liquity HTTP/1.1\" 200 160130\n",
      "DEBUG:urllib3.connectionpool:https://api.llama.fi:443 \"GET /protocol/keep3r-network HTTP/1.1\" 200 321859\n",
      "DEBUG:urllib3.connectionpool:https://api.llama.fi:443 \"GET /protocol/iron-bank HTTP/1.1\" 200 895008\n",
      "DEBUG:urllib3.connectionpool:https://api.llama.fi:443 \"GET /protocol/rocket-pool HTTP/1.1\" 200 113867\n",
      "DEBUG:urllib3.connectionpool:https://api.llama.fi:443 \"GET /protocol/alpaca-finance HTTP/1.1\" 200 1297850\n",
      "DEBUG:urllib3.connectionpool:https://api.llama.fi:443 \"GET /protocol/portal HTTP/1.1\" 200 86976\n",
      "DEBUG:urllib3.connectionpool:https://api.llama.fi:443 \"GET /protocol/dydx HTTP/1.1\" 200 201747\n",
      "DEBUG:urllib3.connectionpool:https://api.llama.fi:443 \"GET /protocol/stargate HTTP/1.1\" 200 236609\n",
      "DEBUG:urllib3.connectionpool:https://api.llama.fi:443 \"GET /protocol/sun.io HTTP/1.1\" 200 499910\n",
      "DEBUG:urllib3.connectionpool:https://api.llama.fi:443 \"GET /protocol/abracadabra HTTP/1.1\" 200 196572\n",
      "DEBUG:urllib3.connectionpool:https://api.llama.fi:443 \"GET /protocol/tornado-cash HTTP/1.1\" 200 436471\n",
      "DEBUG:urllib3.connectionpool:https://api.llama.fi:443 \"GET /protocol/defichain-dex HTTP/1.1\" 200 24886\n",
      "DEBUG:urllib3.connectionpool:https://api.llama.fi:443 \"GET /protocol/poly-network HTTP/1.1\" 200 84565\n",
      "DEBUG:urllib3.connectionpool:https://api.llama.fi:443 \"GET /protocol/quickswap HTTP/1.1\" 307 0\n",
      "DEBUG:urllib3.connectionpool:Resetting dropped connection: defillama-datasets.s3.eu-central-1.amazonaws.com\n",
      "DEBUG:urllib3.connectionpool:https://defillama-datasets.s3.eu-central-1.amazonaws.com:443 \"GET /temp/protocol-Quickswap.json HTTP/1.1\" 200 9081158\n",
      "DEBUG:urllib3.connectionpool:https://api.llama.fi:443 \"GET /protocol/sushiswap-kashi HTTP/1.1\" 200 3183660\n",
      "DEBUG:urllib3.connectionpool:https://api.llama.fi:443 \"GET /protocol/gmx HTTP/1.1\" 200 528616\n",
      "DEBUG:urllib3.connectionpool:https://api.llama.fi:443 \"GET /protocol/marinade-finance HTTP/1.1\" 200 117212\n",
      "DEBUG:urllib3.connectionpool:https://api.llama.fi:443 \"GET /protocol/beefy HTTP/1.1\" 200 1054402\n",
      "DEBUG:urllib3.connectionpool:https://api.llama.fi:443 \"GET /protocol/biswap HTTP/1.1\" 307 0\n",
      "DEBUG:urllib3.connectionpool:https://defillama-datasets.s3.eu-central-1.amazonaws.com:443 \"GET /temp/protocol-BiSwap.json HTTP/1.1\" 200 6161302\n",
      "DEBUG:urllib3.connectionpool:https://api.llama.fi:443 \"GET /protocol/olympus-dao HTTP/1.1\" 200 351886\n",
      "DEBUG:urllib3.connectionpool:https://api.llama.fi:443 \"GET /protocol/pando HTTP/1.1\" 502 36\n",
      "DEBUG:urllib3.connectionpool:https://api.llama.fi:443 \"GET /protocol/aura HTTP/1.1\" 200 10478\n",
      "DEBUG:urllib3.connectionpool:https://api.llama.fi:443 \"GET /protocol/unicrypt HTTP/1.1\" 200 299568\n"
     ]
    },
    {
     "name": "stdout",
     "output_type": "stream",
     "text": [
      "err\n"
     ]
    },
    {
     "name": "stderr",
     "output_type": "stream",
     "text": [
      "DEBUG:urllib3.connectionpool:https://api.llama.fi:443 \"GET /protocol/solend HTTP/1.1\" 200 1431327\n",
      "DEBUG:urllib3.connectionpool:https://api.llama.fi:443 \"GET /protocol/benqi-lending HTTP/1.1\" 200 792419\n",
      "DEBUG:urllib3.connectionpool:https://api.llama.fi:443 \"GET /protocol/armor HTTP/1.1\" 200 471639\n",
      "DEBUG:urllib3.connectionpool:https://api.llama.fi:443 \"GET /protocol/parallel-liquid-crowdloan HTTP/1.1\" 502 36\n",
      "DEBUG:urllib3.connectionpool:https://api.llama.fi:443 \"GET /protocol/tectonic HTTP/1.1\" 200 325347\n",
      "DEBUG:urllib3.connectionpool:https://api.llama.fi:443 \"GET /protocol/nexus-mutual HTTP/1.1\" 200 396010\n"
     ]
    },
    {
     "name": "stdout",
     "output_type": "stream",
     "text": [
      "err\n"
     ]
    },
    {
     "name": "stderr",
     "output_type": "stream",
     "text": [
      "DEBUG:urllib3.connectionpool:https://api.llama.fi:443 \"GET /protocol/xdai-stake-bridge HTTP/1.1\" 307 0\n",
      "DEBUG:urllib3.connectionpool:https://defillama-datasets.s3.eu-central-1.amazonaws.com:443 \"GET /temp/protocol-xDAI%20Stake%20Bridge.json HTTP/1.1\" 200 8590008\n",
      "DEBUG:urllib3.connectionpool:https://api.llama.fi:443 \"GET /protocol/serum HTTP/1.1\" 200 54413\n",
      "DEBUG:urllib3.connectionpool:https://api.llama.fi:443 \"GET /protocol/ref-finance HTTP/1.1\" 200 110325\n",
      "DEBUG:urllib3.connectionpool:https://api.llama.fi:443 \"GET /protocol/synapse HTTP/1.1\" 200 1585267\n",
      "DEBUG:urllib3.connectionpool:https://api.llama.fi:443 \"GET /protocol/pinksale HTTP/1.1\" 200 115569\n",
      "DEBUG:urllib3.connectionpool:https://api.llama.fi:443 \"GET /protocol/trader-joe HTTP/1.1\" 200 2898684\n",
      "DEBUG:urllib3.connectionpool:https://api.llama.fi:443 \"GET /protocol/raydium HTTP/1.1\" 200 57376\n",
      "DEBUG:urllib3.connectionpool:https://api.llama.fi:443 \"GET /protocol/acala-lcdot HTTP/1.1\" 200 13056\n",
      "DEBUG:urllib3.connectionpool:https://api.llama.fi:443 \"GET /protocol/coinwind HTTP/1.1\" 200 2281993\n",
      "DEBUG:urllib3.connectionpool:https://api.llama.fi:443 \"GET /protocol/cbridge HTTP/1.1\" 200 2478028\n",
      "DEBUG:urllib3.connectionpool:https://api.llama.fi:443 \"GET /protocol/euler HTTP/1.1\" 200 743295\n",
      "DEBUG:urllib3.connectionpool:https://api.llama.fi:443 \"GET /protocol/klayswap HTTP/1.1\" 200 169618\n",
      "DEBUG:urllib3.connectionpool:https://api.llama.fi:443 \"GET /protocol/stacks-staking HTTP/1.1\" 200 163509\n",
      "DEBUG:urllib3.connectionpool:https://api.llama.fi:443 \"GET /protocol/bwatch HTTP/1.1\" 502 36\n",
      "DEBUG:urllib3.connectionpool:https://api.llama.fi:443 \"GET /protocol/osmosis HTTP/1.1\" 200 97561\n",
      "DEBUG:urllib3.connectionpool:https://api.llama.fi:443 \"GET /protocol/loopring HTTP/1.1\" 200 360247\n"
     ]
    },
    {
     "name": "stdout",
     "output_type": "stream",
     "text": [
      "err\n"
     ]
    },
    {
     "name": "stderr",
     "output_type": "stream",
     "text": [
      "DEBUG:urllib3.connectionpool:https://api.llama.fi:443 \"GET /protocol/atrix HTTP/1.1\" 200 34258\n",
      "DEBUG:urllib3.connectionpool:https://api.llama.fi:443 \"GET /protocol/flexa HTTP/1.1\" 200 85657\n",
      "DEBUG:urllib3.connectionpool:https://api.llama.fi:443 \"GET /protocol/platypus-finance HTTP/1.1\" 200 382196\n",
      "DEBUG:urllib3.connectionpool:https://api.llama.fi:443 \"GET /protocol/team-finance HTTP/1.1\" 200 321589\n",
      "DEBUG:urllib3.connectionpool:https://api.llama.fi:443 \"GET /protocol/vires-finance HTTP/1.1\" 200 175113\n",
      "DEBUG:urllib3.connectionpool:https://api.llama.fi:443 \"GET /protocol/bancor HTTP/1.1\" 200 4264925\n",
      "DEBUG:urllib3.connectionpool:https://api.llama.fi:443 \"GET /protocol/maiar-exchange HTTP/1.1\" 200 177553\n",
      "DEBUG:urllib3.connectionpool:https://api.llama.fi:443 \"GET /protocol/thorchain HTTP/1.1\" 200 138861\n",
      "DEBUG:urllib3.connectionpool:https://api.llama.fi:443 \"GET /protocol/mdex HTTP/1.1\" 200 186789\n",
      "DEBUG:urllib3.connectionpool:https://api.llama.fi:443 \"GET /protocol/renvm HTTP/1.1\" 200 1125606\n",
      "DEBUG:urllib3.connectionpool:https://api.llama.fi:443 \"GET /protocol/kava-mint HTTP/1.1\" 200 200384\n",
      "DEBUG:urllib3.connectionpool:https://api.llama.fi:443 \"GET /protocol/tulip-protocol HTTP/1.1\" 502 36\n"
     ]
    },
    {
     "name": "stdout",
     "output_type": "stream",
     "text": [
      "err\n"
     ]
    },
    {
     "name": "stderr",
     "output_type": "stream",
     "text": [
      "DEBUG:urllib3.connectionpool:https://api.llama.fi:443 \"GET /protocol/chainge-finance HTTP/1.1\" 200 30610\n",
      "DEBUG:urllib3.connectionpool:https://api.llama.fi:443 \"GET /protocol/spookyswap HTTP/1.1\" 307 0\n",
      "DEBUG:urllib3.connectionpool:Resetting dropped connection: defillama-datasets.s3.eu-central-1.amazonaws.com\n",
      "DEBUG:urllib3.connectionpool:https://defillama-datasets.s3.eu-central-1.amazonaws.com:443 \"GET /temp/protocol-SpookySwap.json HTTP/1.1\" 200 9520782\n",
      "DEBUG:urllib3.connectionpool:https://api.llama.fi:443 \"GET /protocol/defisaver HTTP/1.1\" 200 73701\n",
      "DEBUG:urllib3.connectionpool:https://api.llama.fi:443 \"GET /protocol/stakewise HTTP/1.1\" 200 201459\n",
      "DEBUG:urllib3.connectionpool:https://api.llama.fi:443 \"GET /protocol/quarry HTTP/1.1\" 200 737324\n",
      "DEBUG:urllib3.connectionpool:https://api.llama.fi:443 \"GET /protocol/mango-markets HTTP/1.1\" 200 557306\n",
      "DEBUG:urllib3.connectionpool:https://api.llama.fi:443 \"GET /protocol/alchemix HTTP/1.1\" 200 306607\n",
      "DEBUG:urllib3.connectionpool:https://api.llama.fi:443 \"GET /protocol/mento HTTP/1.1\" 200 181431\n",
      "DEBUG:urllib3.connectionpool:https://api.llama.fi:443 \"GET /protocol/stakedao HTTP/1.1\" 200 1038924\n",
      "DEBUG:urllib3.connectionpool:https://api.llama.fi:443 \"GET /protocol/velodrome HTTP/1.1\" 200 138667\n",
      "DEBUG:urllib3.connectionpool:https://api.llama.fi:443 \"GET /protocol/dodo HTTP/1.1\" 307 0\n",
      "DEBUG:urllib3.connectionpool:Resetting dropped connection: defillama-datasets.s3.eu-central-1.amazonaws.com\n",
      "DEBUG:urllib3.connectionpool:https://defillama-datasets.s3.eu-central-1.amazonaws.com:443 \"GET /temp/protocol-DODO.json HTTP/1.1\" 200 5726792\n",
      "DEBUG:urllib3.connectionpool:https://api.llama.fi:443 \"GET /protocol/benqi-staked-avax HTTP/1.1\" 200 57501\n",
      "DEBUG:urllib3.connectionpool:https://api.llama.fi:443 \"GET /protocol/neutrino HTTP/1.1\" 200 99479\n",
      "DEBUG:urllib3.connectionpool:https://api.llama.fi:443 \"GET /protocol/kava-lend HTTP/1.1\" 200 549930\n",
      "DEBUG:urllib3.connectionpool:https://api.llama.fi:443 \"GET /protocol/allbridge HTTP/1.1\" 200 1791328\n",
      "DEBUG:urllib3.connectionpool:https://api.llama.fi:443 \"GET /protocol/stakehound HTTP/1.1\" 200 180294\n",
      "DEBUG:urllib3.connectionpool:https://api.llama.fi:443 \"GET /protocol/set-protocol HTTP/1.1\" 307 0\n",
      "DEBUG:urllib3.connectionpool:Resetting dropped connection: defillama-datasets.s3.eu-central-1.amazonaws.com\n",
      "DEBUG:urllib3.connectionpool:https://defillama-datasets.s3.eu-central-1.amazonaws.com:443 \"GET /temp/protocol-Set%20Protocol.json HTTP/1.1\" 200 8397283\n",
      "DEBUG:urllib3.connectionpool:https://api.llama.fi:443 \"GET /protocol/sablier-finance HTTP/1.1\" 200 2119997\n",
      "DEBUG:urllib3.connectionpool:https://api.llama.fi:443 \"GET /protocol/ankr HTTP/1.1\" 200 323682\n",
      "DEBUG:urllib3.connectionpool:https://api.llama.fi:443 \"GET /protocol/ferro HTTP/1.1\" 200 48835\n",
      "DEBUG:urllib3.connectionpool:https://api.llama.fi:443 \"GET /protocol/badger-dao HTTP/1.1\" 200 100536\n",
      "DEBUG:urllib3.connectionpool:https://api.llama.fi:443 \"GET /protocol/notional HTTP/1.1\" 200 352282\n",
      "DEBUG:urllib3.connectionpool:https://api.llama.fi:443 \"GET /protocol/dxsale HTTP/1.1\" 200 226515\n",
      "DEBUG:urllib3.connectionpool:https://api.llama.fi:443 \"GET /protocol/lightning-network HTTP/1.1\" 200 113882\n",
      "DEBUG:urllib3.connectionpool:https://api.llama.fi:443 \"GET /protocol/bastion HTTP/1.1\" 200 283992\n",
      "DEBUG:urllib3.connectionpool:https://api.llama.fi:443 \"GET /protocol/vector-finance HTTP/1.1\" 200 314769\n",
      "DEBUG:urllib3.connectionpool:https://api.llama.fi:443 \"GET /protocol/tranchess HTTP/1.1\" 200 246366\n",
      "DEBUG:urllib3.connectionpool:https://api.llama.fi:443 \"GET /protocol/terra-bridge HTTP/1.1\" 200 257098\n",
      "DEBUG:urllib3.connectionpool:https://api.llama.fi:443 \"GET /protocol/opyn HTTP/1.1\" 200 539887\n",
      "DEBUG:urllib3.connectionpool:https://api.llama.fi:443 \"GET /protocol/concentrator HTTP/1.1\" 200 248618\n",
      "DEBUG:urllib3.connectionpool:https://api.llama.fi:443 \"GET /protocol/radiant HTTP/1.1\" 200 33733\n",
      "DEBUG:urllib3.connectionpool:https://api.llama.fi:443 \"GET /protocol/tokemak HTTP/1.1\" 200 722540\n",
      "DEBUG:urllib3.connectionpool:https://api.llama.fi:443 \"GET /protocol/mm-finance HTTP/1.1\" 200 421302\n",
      "DEBUG:urllib3.connectionpool:https://api.llama.fi:443 \"GET /protocol/acala-dollar HTTP/1.1\" 200 16916\n",
      "DEBUG:urllib3.connectionpool:https://api.llama.fi:443 \"GET /protocol/temple-dao HTTP/1.1\" 200 248021\n",
      "DEBUG:urllib3.connectionpool:https://api.llama.fi:443 \"GET /protocol/algofi HTTP/1.1\" 200 216059\n",
      "DEBUG:urllib3.connectionpool:https://api.llama.fi:443 \"GET /protocol/wrapped-bnb HTTP/1.1\" 200 48820\n",
      "DEBUG:urllib3.connectionpool:https://api.llama.fi:443 \"GET /protocol/index-coop HTTP/1.1\" 200 367879\n",
      "DEBUG:urllib3.connectionpool:https://api.llama.fi:443 \"GET /protocol/idle-finance HTTP/1.1\" 200 404030\n",
      "DEBUG:urllib3.connectionpool:https://api.llama.fi:443 \"GET /protocol/orca HTTP/1.1\" 200 194999\n",
      "DEBUG:urllib3.connectionpool:https://api.llama.fi:443 \"GET /protocol/ellipsis-finance HTTP/1.1\" 200 202607\n",
      "DEBUG:urllib3.connectionpool:https://api.llama.fi:443 \"GET /protocol/folks-finance HTTP/1.1\" 200 76678\n",
      "DEBUG:urllib3.connectionpool:https://api.llama.fi:443 \"GET /protocol/chainport HTTP/1.1\" 200 28309\n",
      "DEBUG:urllib3.connectionpool:https://api.llama.fi:443 \"GET /protocol/ribbon-finance HTTP/1.1\" 200 411594\n",
      "DEBUG:urllib3.connectionpool:https://api.llama.fi:443 \"GET /protocol/katana-dex HTTP/1.1\" 200 137637\n",
      "DEBUG:urllib3.connectionpool:https://api.llama.fi:443 \"GET /protocol/saber HTTP/1.1\" 200 685590\n",
      "DEBUG:urllib3.connectionpool:https://api.llama.fi:443 \"GET /protocol/yeti-finance HTTP/1.1\" 200 104135\n",
      "DEBUG:urllib3.connectionpool:https://api.llama.fi:443 \"GET /protocol/qidao HTTP/1.1\" 200 1334679\n",
      "DEBUG:urllib3.connectionpool:https://api.llama.fi:443 \"GET /protocol/angle HTTP/1.1\" 200 222864\n",
      "DEBUG:urllib3.connectionpool:https://api.llama.fi:443 \"GET /protocol/benddao HTTP/1.1\" 200 61471\n",
      "DEBUG:urllib3.connectionpool:https://api.llama.fi:443 \"GET /protocol/parallel-daofi HTTP/1.1\" 502 36\n"
     ]
    },
    {
     "name": "stdout",
     "output_type": "stream",
     "text": [
      "err\n"
     ]
    },
    {
     "name": "stderr",
     "output_type": "stream",
     "text": [
      "DEBUG:urllib3.connectionpool:https://api.llama.fi:443 \"GET /protocol/meshswap HTTP/1.1\" 200 63554\n",
      "DEBUG:urllib3.connectionpool:https://api.llama.fi:443 \"GET /protocol/stader HTTP/1.1\" 200 152072\n",
      "DEBUG:urllib3.connectionpool:https://api.llama.fi:443 \"GET /protocol/francium HTTP/1.1\" 200 35106\n",
      "DEBUG:urllib3.connectionpool:https://api.llama.fi:443 \"GET /protocol/apeswap-amm HTTP/1.1\" 307 0\n",
      "DEBUG:urllib3.connectionpool:Resetting dropped connection: defillama-datasets.s3.eu-central-1.amazonaws.com\n",
      "DEBUG:urllib3.connectionpool:https://defillama-datasets.s3.eu-central-1.amazonaws.com:443 \"GET /temp/protocol-ApeSwap%20AMM.json HTTP/1.1\" 200 15281122\n",
      "DEBUG:urllib3.connectionpool:https://api.llama.fi:443 \"GET /protocol/beethoven-x HTTP/1.1\" 200 109629\n",
      "DEBUG:urllib3.connectionpool:https://api.llama.fi:443 \"GET /protocol/yield-yak HTTP/1.1\" 200 1700256\n",
      "DEBUG:urllib3.connectionpool:https://api.llama.fi:443 \"GET /protocol/bifrost HTTP/1.1\" 200 86886\n",
      "DEBUG:urllib3.connectionpool:https://api.llama.fi:443 \"GET /protocol/pnetwork HTTP/1.1\" 200 467574\n",
      "DEBUG:urllib3.connectionpool:https://api.llama.fi:443 \"GET /protocol/parallel-lending HTTP/1.1\" 502 36\n"
     ]
    },
    {
     "name": "stdout",
     "output_type": "stream",
     "text": [
      "err\n"
     ]
    },
    {
     "name": "stderr",
     "output_type": "stream",
     "text": [
      "DEBUG:urllib3.connectionpool:https://api.llama.fi:443 \"GET /protocol/homora HTTP/1.1\" 200 586121\n",
      "DEBUG:urllib3.connectionpool:https://api.llama.fi:443 \"GET /protocol/burrow HTTP/1.1\" 200 323147\n",
      "DEBUG:urllib3.connectionpool:https://api.llama.fi:443 \"GET /protocol/acala-liquid-staking HTTP/1.1\" 200 16899\n",
      "DEBUG:urllib3.connectionpool:https://api.llama.fi:443 \"GET /protocol/nomiswap HTTP/1.1\" 200 245891\n",
      "DEBUG:urllib3.connectionpool:https://api.llama.fi:443 \"GET /protocol/eos-rex HTTP/1.1\" 200 54055\n",
      "DEBUG:urllib3.connectionpool:https://api.llama.fi:443 \"GET /protocol/shibaswap HTTP/1.1\" 200 3152147\n",
      "DEBUG:urllib3.connectionpool:https://api.llama.fi:443 \"GET /protocol/pooltogether HTTP/1.1\" 200 1562346\n",
      "DEBUG:urllib3.connectionpool:https://api.llama.fi:443 \"GET /protocol/autofarm HTTP/1.1\" 200 254981\n",
      "DEBUG:urllib3.connectionpool:https://api.llama.fi:443 \"GET /protocol/bunny HTTP/1.1\" 200 210573\n",
      "DEBUG:urllib3.connectionpool:https://api.llama.fi:443 \"GET /protocol/injective HTTP/1.1\" 200 161683\n",
      "DEBUG:urllib3.connectionpool:https://api.llama.fi:443 \"GET /protocol/fei-protocol HTTP/1.1\" 200 393080\n",
      "DEBUG:urllib3.connectionpool:https://api.llama.fi:443 \"GET /protocol/across HTTP/1.1\" 200 159086\n",
      "DEBUG:urllib3.connectionpool:https://api.llama.fi:443 \"GET /protocol/flamincome HTTP/1.1\" 200 87822\n",
      "DEBUG:urllib3.connectionpool:https://api.llama.fi:443 \"GET /protocol/cream-finance HTTP/1.1\" 200 4133476\n",
      "DEBUG:urllib3.connectionpool:https://api.llama.fi:443 \"GET /protocol/flamingo-finance HTTP/1.1\" 200 60804\n",
      "DEBUG:urllib3.connectionpool:https://api.llama.fi:443 \"GET /protocol/kyberswap HTTP/1.1\" 200 4006390\n",
      "DEBUG:urllib3.connectionpool:https://api.llama.fi:443 \"GET /protocol/geist-finance HTTP/1.1\" 200 704459\n",
      "DEBUG:urllib3.connectionpool:https://api.llama.fi:443 \"GET /protocol/iotube HTTP/1.1\" 200 54437\n",
      "DEBUG:urllib3.connectionpool:https://api.llama.fi:443 \"GET /protocol/hop-protocol HTTP/1.1\" 200 730561\n",
      "DEBUG:urllib3.connectionpool:https://api.llama.fi:443 \"GET /protocol/klima-dao HTTP/1.1\" 200 242943\n",
      "DEBUG:urllib3.connectionpool:https://api.llama.fi:443 \"GET /protocol/defichain-loans HTTP/1.1\" 502 36\n"
     ]
    },
    {
     "name": "stdout",
     "output_type": "stream",
     "text": [
      "err\n"
     ]
    },
    {
     "name": "stderr",
     "output_type": "stream",
     "text": [
      "DEBUG:urllib3.connectionpool:https://api.llama.fi:443 \"GET /protocol/reflexer HTTP/1.1\" 200 168300\n",
      "DEBUG:urllib3.connectionpool:https://api.llama.fi:443 \"GET /protocol/kokonut-swap HTTP/1.1\" 200 50669\n",
      "DEBUG:urllib3.connectionpool:https://api.llama.fi:443 \"GET /protocol/tomb-finance HTTP/1.1\" 200 1440559\n",
      "DEBUG:urllib3.connectionpool:https://api.llama.fi:443 \"GET /protocol/realt HTTP/1.1\" 200 85215\n",
      "DEBUG:urllib3.connectionpool:https://api.llama.fi:443 \"GET /protocol/friktion HTTP/1.1\" 200 387865\n",
      "DEBUG:urllib3.connectionpool:https://api.llama.fi:443 \"GET /protocol/minswap HTTP/1.1\" 200 54756\n",
      "DEBUG:urllib3.connectionpool:https://api.llama.fi:443 \"GET /protocol/enzyme-finance HTTP/1.1\" 200 2697574\n",
      "DEBUG:urllib3.connectionpool:https://api.llama.fi:443 \"GET /protocol/meta-pool HTTP/1.1\" 200 104687\n",
      "DEBUG:urllib3.connectionpool:https://api.llama.fi:443 \"GET /protocol/rari-capital HTTP/1.1\" 200 1753275\n",
      "DEBUG:urllib3.connectionpool:https://api.llama.fi:443 \"GET /protocol/mstable HTTP/1.1\" 200 676008\n",
      "DEBUG:urllib3.connectionpool:https://api.llama.fi:443 \"GET /protocol/origin-dollar HTTP/1.1\" 200 230071\n",
      "DEBUG:urllib3.connectionpool:https://api.llama.fi:443 \"GET /protocol/pangolin HTTP/1.1\" 200 178794\n",
      "DEBUG:urllib3.connectionpool:https://api.llama.fi:443 \"GET /protocol/trisolaris HTTP/1.1\" 200 152833\n",
      "DEBUG:urllib3.connectionpool:https://api.llama.fi:443 \"GET /protocol/wing-finance HTTP/1.1\" 200 331524\n",
      "DEBUG:urllib3.connectionpool:https://api.llama.fi:443 \"GET /protocol/klap HTTP/1.1\" 200 68942\n",
      "DEBUG:urllib3.connectionpool:https://api.llama.fi:443 \"GET /protocol/mojitoswap HTTP/1.1\" 200 149647\n",
      "DEBUG:urllib3.connectionpool:https://api.llama.fi:443 \"GET /protocol/element-finance HTTP/1.1\" 200 793102\n",
      "DEBUG:urllib3.connectionpool:https://api.llama.fi:443 \"GET /protocol/saddle-finance HTTP/1.1\" 200 642742\n",
      "DEBUG:urllib3.connectionpool:https://api.llama.fi:443 \"GET /protocol/puddingswap HTTP/1.1\" 200 35220\n",
      "DEBUG:urllib3.connectionpool:https://api.llama.fi:443 \"GET /protocol/octus-bridge HTTP/1.1\" 200 336778\n",
      "DEBUG:urllib3.connectionpool:https://api.llama.fi:443 \"GET /protocol/moonwell-apollo HTTP/1.1\" 200 131578\n",
      "DEBUG:urllib3.connectionpool:https://api.llama.fi:443 \"GET /protocol/belt-finance HTTP/1.1\" 200 560080\n",
      "DEBUG:urllib3.connectionpool:https://api.llama.fi:443 \"GET /protocol/jpool HTTP/1.1\" 200 72213\n",
      "DEBUG:urllib3.connectionpool:https://api.llama.fi:443 \"GET /protocol/toucan-protocol HTTP/1.1\" 200 3307\n",
      "DEBUG:urllib3.connectionpool:https://api.llama.fi:443 \"GET /protocol/spool-protocol HTTP/1.1\" 200 86513\n",
      "DEBUG:urllib3.connectionpool:https://api.llama.fi:443 \"GET /protocol/dot-dot-finance HTTP/1.1\" 200 42392\n",
      "DEBUG:urllib3.connectionpool:https://api.llama.fi:443 \"GET /protocol/valas-finance HTTP/1.1\" 200 350581\n",
      "DEBUG:urllib3.connectionpool:https://api.llama.fi:443 \"GET /protocol/flatqube HTTP/1.1\" 502 36\n"
     ]
    },
    {
     "name": "stdout",
     "output_type": "stream",
     "text": [
      "err\n"
     ]
    },
    {
     "name": "stderr",
     "output_type": "stream",
     "text": [
      "DEBUG:urllib3.connectionpool:https://api.llama.fi:443 \"GET /protocol/vesper HTTP/1.1\" 200 489062\n",
      "DEBUG:urllib3.connectionpool:https://api.llama.fi:443 \"GET /protocol/babyswap HTTP/1.1\" 200 1468258\n",
      "DEBUG:urllib3.connectionpool:https://api.llama.fi:443 \"GET /protocol/larix HTTP/1.1\" 200 347792\n",
      "DEBUG:urllib3.connectionpool:https://api.llama.fi:443 \"GET /protocol/moneyonchain HTTP/1.1\" 200 61530\n",
      "DEBUG:urllib3.connectionpool:https://api.llama.fi:443 \"GET /protocol/swim-protocol HTTP/1.1\" 200 84188\n",
      "DEBUG:urllib3.connectionpool:https://api.llama.fi:443 \"GET /protocol/knightswap-finance HTTP/1.1\" 200 1003579\n",
      "DEBUG:urllib3.connectionpool:https://api.llama.fi:443 \"GET /protocol/tokensfarm HTTP/1.1\" 200 103214\n",
      "DEBUG:urllib3.connectionpool:https://api.llama.fi:443 \"GET /protocol/spiritswap HTTP/1.1\" 307 0\n",
      "DEBUG:urllib3.connectionpool:Resetting dropped connection: defillama-datasets.s3.eu-central-1.amazonaws.com\n",
      "DEBUG:urllib3.connectionpool:https://defillama-datasets.s3.eu-central-1.amazonaws.com:443 \"GET /temp/protocol-SpiritSwap.json HTTP/1.1\" 200 69942505\n",
      "DEBUG:urllib3.connectionpool:https://api.llama.fi:443 \"GET /protocol/aave-v1 HTTP/1.1\" 200 3169791\n",
      "DEBUG:urllib3.connectionpool:https://api.llama.fi:443 \"GET /protocol/parrot-protocol HTTP/1.1\" 200 329521\n",
      "DEBUG:urllib3.connectionpool:https://api.llama.fi:443 \"GET /protocol/dforce HTTP/1.1\" 200 937146\n",
      "DEBUG:urllib3.connectionpool:https://api.llama.fi:443 \"GET /protocol/liquid-driver HTTP/1.1\" 200 1031953\n",
      "DEBUG:urllib3.connectionpool:https://api.llama.fi:443 \"GET /protocol/klaystation HTTP/1.1\" 200 16321\n",
      "DEBUG:urllib3.connectionpool:https://api.llama.fi:443 \"GET /protocol/spartacus HTTP/1.1\" 200 215102\n",
      "DEBUG:urllib3.connectionpool:https://api.llama.fi:443 \"GET /protocol/waves-exchange HTTP/1.1\" 200 818050\n",
      "DEBUG:urllib3.connectionpool:https://api.llama.fi:443 \"GET /protocol/metronome HTTP/1.1\" 200 134367\n",
      "DEBUG:urllib3.connectionpool:https://api.llama.fi:443 \"GET /protocol/harvest-finance HTTP/1.1\" 200 110729\n",
      "DEBUG:urllib3.connectionpool:https://api.llama.fi:443 \"GET /protocol/keep-network HTTP/1.1\" 200 123246\n",
      "DEBUG:urllib3.connectionpool:https://api.llama.fi:443 \"GET /protocol/sicx HTTP/1.1\" 200 38348\n",
      "DEBUG:urllib3.connectionpool:https://api.llama.fi:443 \"GET /protocol/xdao HTTP/1.1\" 200 1691414\n",
      "DEBUG:urllib3.connectionpool:https://api.llama.fi:443 \"GET /protocol/hashflow HTTP/1.1\" 200 153765\n",
      "DEBUG:urllib3.connectionpool:https://api.llama.fi:443 \"GET /protocol/hector-network HTTP/1.1\" 200 271415\n",
      "DEBUG:urllib3.connectionpool:https://api.llama.fi:443 \"GET /protocol/stafi HTTP/1.1\" 200 508394\n",
      "DEBUG:urllib3.connectionpool:https://api.llama.fi:443 \"GET /protocol/ooki HTTP/1.1\" 200 475961\n",
      "DEBUG:urllib3.connectionpool:https://api.llama.fi:443 \"GET /protocol/solarbeam HTTP/1.1\" 200 236437\n",
      "DEBUG:urllib3.connectionpool:https://api.llama.fi:443 \"GET /protocol/rex-staking HTTP/1.1\" 200 80445\n",
      "DEBUG:urllib3.connectionpool:https://api.llama.fi:443 \"GET /protocol/nftx HTTP/1.1\" 200 206614\n",
      "DEBUG:urllib3.connectionpool:https://api.llama.fi:443 \"GET /protocol/liqee HTTP/1.1\" 200 155978\n",
      "DEBUG:urllib3.connectionpool:https://api.llama.fi:443 \"GET /protocol/hubble HTTP/1.1\" 200 93826\n",
      "DEBUG:urllib3.connectionpool:https://api.llama.fi:443 \"GET /protocol/dopex HTTP/1.1\" 200 620794\n",
      "DEBUG:urllib3.connectionpool:https://api.llama.fi:443 \"GET /protocol/thetaswap HTTP/1.1\" 200 73641\n",
      "DEBUG:urllib3.connectionpool:https://api.llama.fi:443 \"GET /protocol/unslashed HTTP/1.1\" 200 105893\n",
      "DEBUG:urllib3.connectionpool:https://api.llama.fi:443 \"GET /protocol/maple HTTP/1.1\" 200 541326\n",
      "DEBUG:urllib3.connectionpool:https://api.llama.fi:443 \"GET /protocol/linear-protocol HTTP/1.1\" 200 31302\n",
      "DEBUG:urllib3.connectionpool:https://api.llama.fi:443 \"GET /protocol/filda HTTP/1.1\" 200 2091187\n",
      "DEBUG:urllib3.connectionpool:https://api.llama.fi:443 \"GET /protocol/acryptos HTTP/1.1\" 200 77814\n",
      "DEBUG:urllib3.connectionpool:https://api.llama.fi:443 \"GET /protocol/sharedstake HTTP/1.1\" 200 278697\n",
      "DEBUG:urllib3.connectionpool:https://api.llama.fi:443 \"GET /protocol/tarot HTTP/1.1\" 200 1796070\n",
      "DEBUG:urllib3.connectionpool:https://api.llama.fi:443 \"GET /protocol/sovryn HTTP/1.1\" 200 48308\n",
      "DEBUG:urllib3.connectionpool:https://api.llama.fi:443 \"GET /protocol/reserve HTTP/1.1\" 200 152537\n",
      "DEBUG:urllib3.connectionpool:https://api.llama.fi:443 \"GET /protocol/rook HTTP/1.1\" 200 538023\n",
      "DEBUG:urllib3.connectionpool:https://api.llama.fi:443 \"GET /protocol/aldrin HTTP/1.1\" 200 82576\n",
      "DEBUG:urllib3.connectionpool:https://api.llama.fi:443 \"GET /protocol/iziswap HTTP/1.1\" 200 85943\n",
      "DEBUG:urllib3.connectionpool:https://api.llama.fi:443 \"GET /protocol/solo-top HTTP/1.1\" 200 222867\n",
      "DEBUG:urllib3.connectionpool:https://api.llama.fi:443 \"GET /protocol/echidna-finance HTTP/1.1\" 200 280300\n",
      "DEBUG:urllib3.connectionpool:https://api.llama.fi:443 \"GET /protocol/connext HTTP/1.1\" 200 1065538\n",
      "DEBUG:urllib3.connectionpool:https://api.llama.fi:443 \"GET /protocol/sturdy HTTP/1.1\" 200 107210\n",
      "DEBUG:urllib3.connectionpool:https://api.llama.fi:443 \"GET /protocol/defi-swap HTTP/1.1\" 200 1043494\n",
      "DEBUG:urllib3.connectionpool:https://api.llama.fi:443 \"GET /protocol/neoburger HTTP/1.1\" 200 62733\n",
      "DEBUG:urllib3.connectionpool:https://api.llama.fi:443 \"GET /protocol/mimo-defi HTTP/1.1\" 200 294748\n",
      "DEBUG:urllib3.connectionpool:https://api.llama.fi:443 \"GET /protocol/parallel-liquid-staking HTTP/1.1\" 200 157\n"
     ]
    },
    {
     "name": "stdout",
     "output_type": "stream",
     "text": [
      "err\n"
     ]
    },
    {
     "name": "stderr",
     "output_type": "stream",
     "text": [
      "DEBUG:urllib3.connectionpool:https://api.llama.fi:443 \"GET /protocol/lofty HTTP/1.1\" 200 2444\n",
      "DEBUG:urllib3.connectionpool:https://api.llama.fi:443 \"GET /protocol/radioshack HTTP/1.1\" 200 591476\n",
      "DEBUG:urllib3.connectionpool:https://api.llama.fi:443 \"GET /protocol/valleyswap HTTP/1.1\" 200 56188\n",
      "DEBUG:urllib3.connectionpool:https://api.llama.fi:443 \"GET /protocol/aurigami HTTP/1.1\" 200 299245\n",
      "DEBUG:urllib3.connectionpool:https://api.llama.fi:443 \"GET /protocol/mm-optimizer HTTP/1.1\" 200 148374\n",
      "DEBUG:urllib3.connectionpool:https://api.llama.fi:443 \"GET /protocol/moonwell-artemis HTTP/1.1\" 200 48053\n",
      "DEBUG:urllib3.connectionpool:https://api.llama.fi:443 \"GET /protocol/perpetual-protocol HTTP/1.1\" 200 211090\n",
      "DEBUG:urllib3.connectionpool:https://api.llama.fi:443 \"GET /protocol/dfx-finance HTTP/1.1\" 200 435874\n",
      "DEBUG:urllib3.connectionpool:https://api.llama.fi:443 \"GET /protocol/superfluid HTTP/1.1\" 200 735695\n",
      "DEBUG:urllib3.connectionpool:https://api.llama.fi:443 \"GET /protocol/lyra HTTP/1.1\" 200 285307\n",
      "DEBUG:urllib3.connectionpool:https://api.llama.fi:443 \"GET /protocol/defibox HTTP/1.1\" 200 91874\n",
      "DEBUG:urllib3.connectionpool:https://api.llama.fi:443 \"GET /protocol/sherlock HTTP/1.1\" 200 116400\n",
      "DEBUG:urllib3.connectionpool:https://api.llama.fi:443 \"GET /protocol/fantohm HTTP/1.1\" 200 580095\n",
      "DEBUG:urllib3.connectionpool:https://api.llama.fi:443 \"GET /protocol/thetanuts-finance HTTP/1.1\" 200 493965\n",
      "DEBUG:urllib3.connectionpool:https://api.llama.fi:443 \"GET /protocol/bifi HTTP/1.1\" 200 1048955\n",
      "DEBUG:urllib3.connectionpool:https://api.llama.fi:443 \"GET /protocol/sundaeswap HTTP/1.1\" 200 67875\n",
      "DEBUG:urllib3.connectionpool:https://api.llama.fi:443 \"GET /protocol/insurace HTTP/1.1\" 200 756657\n",
      "DEBUG:urllib3.connectionpool:https://api.llama.fi:443 \"GET /protocol/wanswap-dex HTTP/1.1\" 200 53972\n",
      "DEBUG:urllib3.connectionpool:https://api.llama.fi:443 \"GET /protocol/vesta-finance HTTP/1.1\" 200 168547\n",
      "DEBUG:urllib3.connectionpool:https://api.llama.fi:443 \"GET /protocol/wingriders HTTP/1.1\" 200 43253\n",
      "DEBUG:urllib3.connectionpool:https://api.llama.fi:443 \"GET /protocol/uxd HTTP/1.1\" 200 54020\n",
      "DEBUG:urllib3.connectionpool:https://api.llama.fi:443 \"GET /protocol/apeswap-lending HTTP/1.1\" 200 10258\n",
      "DEBUG:urllib3.connectionpool:https://api.llama.fi:443 \"GET /protocol/astroport HTTP/1.1\" 200 77218\n",
      "DEBUG:urllib3.connectionpool:https://api.llama.fi:443 \"GET /protocol/the-tokenized-bitcoin HTTP/1.1\" 200 85649\n",
      "DEBUG:urllib3.connectionpool:https://api.llama.fi:443 \"GET /protocol/kokoa-finance HTTP/1.1\" 200 90333\n",
      "DEBUG:urllib3.connectionpool:https://api.llama.fi:443 \"GET /protocol/dystopia HTTP/1.1\" 200 192435\n",
      "DEBUG:urllib3.connectionpool:https://api.llama.fi:443 \"GET /protocol/tezos-liquidity-baking HTTP/1.1\" 200 139193\n",
      "DEBUG:urllib3.connectionpool:https://api.llama.fi:443 \"GET /protocol/reaper-farm HTTP/1.1\" 200 52368\n",
      "DEBUG:urllib3.connectionpool:https://api.llama.fi:443 \"GET /protocol/single-finance HTTP/1.1\" 200 395225\n",
      "DEBUG:urllib3.connectionpool:https://api.llama.fi:443 \"GET /protocol/mercurial-finance HTTP/1.1\" 200 309357\n",
      "DEBUG:urllib3.connectionpool:https://api.llama.fi:443 \"GET /protocol/rhino.fi HTTP/1.1\" 200 780365\n",
      "DEBUG:urllib3.connectionpool:https://api.llama.fi:443 \"GET /protocol/youves HTTP/1.1\" 200 166114\n",
      "DEBUG:urllib3.connectionpool:https://api.llama.fi:443 \"GET /protocol/karura-dollar-(kusd) HTTP/1.1\" 200 93418\n",
      "DEBUG:urllib3.connectionpool:https://api.llama.fi:443 \"GET /protocol/flrfarm HTTP/1.1\" 200 181887\n",
      "DEBUG:urllib3.connectionpool:https://api.llama.fi:443 \"GET /protocol/stellaswap HTTP/1.1\" 200 119777\n",
      "DEBUG:urllib3.connectionpool:https://api.llama.fi:443 \"GET /protocol/b.protocol HTTP/1.1\" 200 604167\n",
      "DEBUG:urllib3.connectionpool:https://api.llama.fi:443 \"GET /protocol/llama-airforce HTTP/1.1\" 200 78937\n",
      "DEBUG:urllib3.connectionpool:https://api.llama.fi:443 \"GET /protocol/outcome-finance HTTP/1.1\" 200 1083274\n",
      "DEBUG:urllib3.connectionpool:https://api.llama.fi:443 \"GET /protocol/valuedefi HTTP/1.1\" 200 91813\n",
      "DEBUG:urllib3.connectionpool:https://api.llama.fi:443 \"GET /protocol/arthswap HTTP/1.1\" 200 211895\n",
      "DEBUG:urllib3.connectionpool:https://api.llama.fi:443 \"GET /protocol/yoshi-exchange HTTP/1.1\" 200 1464085\n",
      "DEBUG:urllib3.connectionpool:https://api.llama.fi:443 \"GET /protocol/alex HTTP/1.1\" 200 176402\n",
      "DEBUG:urllib3.connectionpool:https://api.llama.fi:443 \"GET /protocol/wrapped HTTP/1.1\" 200 386156\n",
      "DEBUG:urllib3.connectionpool:https://api.llama.fi:443 \"GET /protocol/stellarx HTTP/1.1\" 502 36\n"
     ]
    },
    {
     "name": "stdout",
     "output_type": "stream",
     "text": [
      "err\n"
     ]
    },
    {
     "name": "stderr",
     "output_type": "stream",
     "text": [
      "DEBUG:urllib3.connectionpool:https://api.llama.fi:443 \"GET /protocol/sunny HTTP/1.1\" 200 515152\n",
      "DEBUG:urllib3.connectionpool:https://api.llama.fi:443 \"GET /protocol/claimswap HTTP/1.1\" 200 104387\n",
      "DEBUG:urllib3.connectionpool:https://api.llama.fi:443 \"GET /protocol/netswap HTTP/1.1\" 200 78729\n",
      "DEBUG:urllib3.connectionpool:https://api.llama.fi:443 \"GET /protocol/strike HTTP/1.1\" 200 570424\n",
      "DEBUG:urllib3.connectionpool:https://api.llama.fi:443 \"GET /protocol/paycash HTTP/1.1\" 200 18723\n",
      "DEBUG:urllib3.connectionpool:https://api.llama.fi:443 \"GET /protocol/defidollar-dao HTTP/1.1\" 200 205120\n",
      "DEBUG:urllib3.connectionpool:https://api.llama.fi:443 \"GET /protocol/planet HTTP/1.1\" 200 1135748\n",
      "DEBUG:urllib3.connectionpool:https://api.llama.fi:443 \"GET /protocol/01 HTTP/1.1\" 200 123554\n",
      "DEBUG:urllib3.connectionpool:https://api.llama.fi:443 \"GET /protocol/balanced HTTP/1.1\" 502 36\n"
     ]
    },
    {
     "name": "stdout",
     "output_type": "stream",
     "text": [
      "err\n"
     ]
    },
    {
     "name": "stderr",
     "output_type": "stream",
     "text": [
      "DEBUG:urllib3.connectionpool:https://api.llama.fi:443 \"GET /protocol/dfyn-network HTTP/1.1\" 200 4656380\n",
      "DEBUG:urllib3.connectionpool:https://api.llama.fi:443 \"GET /protocol/bella-protocol HTTP/1.1\" 200 155539\n",
      "DEBUG:urllib3.connectionpool:https://api.llama.fi:443 \"GET /protocol/deeplock HTTP/1.1\" 200 68315\n",
      "DEBUG:urllib3.connectionpool:https://api.llama.fi:443 \"GET /protocol/omm HTTP/1.1\" 200 34580\n",
      "DEBUG:urllib3.connectionpool:https://api.llama.fi:443 \"GET /protocol/thetacash HTTP/1.1\" 200 63645\n",
      "DEBUG:urllib3.connectionpool:https://api.llama.fi:443 \"GET /protocol/nereus-finance HTTP/1.1\" 200 118381\n",
      "DEBUG:urllib3.connectionpool:https://api.llama.fi:443 \"GET /protocol/defrost HTTP/1.1\" 200 153831\n",
      "DEBUG:urllib3.connectionpool:https://api.llama.fi:443 \"GET /protocol/pstake HTTP/1.1\" 200 185662\n",
      "DEBUG:urllib3.connectionpool:https://api.llama.fi:443 \"GET /protocol/karura-liquid-staking HTTP/1.1\" 200 77523\n",
      "DEBUG:urllib3.connectionpool:https://api.llama.fi:443 \"GET /protocol/izumi-finance HTTP/1.1\" 200 510288\n",
      "DEBUG:urllib3.connectionpool:https://api.llama.fi:443 \"GET /protocol/kava-swap HTTP/1.1\" 200 312014\n",
      "DEBUG:urllib3.connectionpool:https://api.llama.fi:443 \"GET /protocol/penrose HTTP/1.1\" 200 134799\n",
      "DEBUG:urllib3.connectionpool:https://api.llama.fi:443 \"GET /protocol/secret-network HTTP/1.1\" 200 55444\n",
      "DEBUG:urllib3.connectionpool:https://api.llama.fi:443 \"GET /protocol/mimo HTTP/1.1\" 200 69565\n",
      "DEBUG:urllib3.connectionpool:https://api.llama.fi:443 \"GET /protocol/clipper HTTP/1.1\" 200 571427\n",
      "DEBUG:urllib3.connectionpool:https://api.llama.fi:443 \"GET /protocol/pickle HTTP/1.1\" 200 1165701\n",
      "DEBUG:urllib3.connectionpool:https://api.llama.fi:443 \"GET /protocol/zeta HTTP/1.1\" 200 102116\n",
      "DEBUG:urllib3.connectionpool:https://api.llama.fi:443 \"GET /protocol/onx-finance HTTP/1.1\" 200 293486\n",
      "DEBUG:urllib3.connectionpool:https://api.llama.fi:443 \"GET /protocol/apollox HTTP/1.1\" 200 111075\n",
      "DEBUG:urllib3.connectionpool:https://api.llama.fi:443 \"GET /protocol/swapr HTTP/1.1\" 200 268242\n",
      "DEBUG:urllib3.connectionpool:https://api.llama.fi:443 \"GET /protocol/tinyman HTTP/1.1\" 200 95658\n",
      "DEBUG:urllib3.connectionpool:https://api.llama.fi:443 \"GET /protocol/wepiggy HTTP/1.1\" 200 946856\n",
      "DEBUG:urllib3.connectionpool:https://api.llama.fi:443 \"GET /protocol/inverse-finance HTTP/1.1\" 200 457698\n",
      "DEBUG:urllib3.connectionpool:https://api.llama.fi:443 \"GET /protocol/moola-market HTTP/1.1\" 200 350522\n",
      "DEBUG:urllib3.connectionpool:https://api.llama.fi:443 \"GET /protocol/socialswap HTTP/1.1\" 200 24688\n",
      "DEBUG:urllib3.connectionpool:https://api.llama.fi:443 \"GET /protocol/gearbox HTTP/1.1\" 200 178396\n",
      "DEBUG:urllib3.connectionpool:https://api.llama.fi:443 \"GET /protocol/dhedge HTTP/1.1\" 200 125756\n",
      "DEBUG:urllib3.connectionpool:https://api.llama.fi:443 \"GET /protocol/yield-protocol HTTP/1.1\" 200 248656\n",
      "DEBUG:urllib3.connectionpool:https://api.llama.fi:443 \"GET /protocol/ocp-finance HTTP/1.1\" 502 36\n"
     ]
    },
    {
     "name": "stdout",
     "output_type": "stream",
     "text": [
      "err\n"
     ]
    },
    {
     "name": "stderr",
     "output_type": "stream",
     "text": [
      "DEBUG:urllib3.connectionpool:https://api.llama.fi:443 \"GET /protocol/solv-protocol HTTP/1.1\" 200 413779\n",
      "DEBUG:urllib3.connectionpool:https://api.llama.fi:443 \"GET /protocol/port-finance HTTP/1.1\" 200 292159\n",
      "DEBUG:urllib3.connectionpool:https://api.llama.fi:443 \"GET /protocol/concave HTTP/1.1\" 200 87285\n",
      "DEBUG:urllib3.connectionpool:https://api.llama.fi:443 \"GET /protocol/gro HTTP/1.1\" 200 473898\n",
      "DEBUG:urllib3.connectionpool:https://api.llama.fi:443 \"GET /protocol/risk-harbor HTTP/1.1\" 200 122008\n",
      "DEBUG:urllib3.connectionpool:https://api.llama.fi:443 \"GET /protocol/gains-network HTTP/1.1\" 200 187079\n",
      "DEBUG:urllib3.connectionpool:https://api.llama.fi:443 \"GET /protocol/crystalvale HTTP/1.1\" 200 96088\n",
      "DEBUG:urllib3.connectionpool:https://api.llama.fi:443 \"GET /protocol/proton-loan HTTP/1.1\" 200 146053\n",
      "DEBUG:urllib3.connectionpool:https://api.llama.fi:443 \"GET /protocol/defi-kingdoms HTTP/1.1\" 307 0\n",
      "DEBUG:urllib3.connectionpool:Resetting dropped connection: defillama-datasets.s3.eu-central-1.amazonaws.com\n",
      "DEBUG:urllib3.connectionpool:https://defillama-datasets.s3.eu-central-1.amazonaws.com:443 \"GET /temp/protocol-Defi%20Kingdoms.json HTTP/1.1\" 200 27764329\n",
      "DEBUG:urllib3.connectionpool:https://api.llama.fi:443 \"GET /protocol/moonfarm HTTP/1.1\" 200 66090\n",
      "DEBUG:urllib3.connectionpool:https://api.llama.fi:443 \"GET /protocol/hundred-finance HTTP/1.1\" 200 1839802\n",
      "DEBUG:urllib3.connectionpool:https://api.llama.fi:443 \"GET /protocol/orion-protocol HTTP/1.1\" 200 2009381\n",
      "DEBUG:urllib3.connectionpool:https://api.llama.fi:443 \"GET /protocol/wombat-exchange HTTP/1.1\" 200 64999\n",
      "DEBUG:urllib3.connectionpool:https://api.llama.fi:443 \"GET /protocol/beta-finance HTTP/1.1\" 200 749293\n",
      "DEBUG:urllib3.connectionpool:https://api.llama.fi:443 \"GET /protocol/starlay-finance HTTP/1.1\" 200 353677\n",
      "DEBUG:urllib3.connectionpool:https://api.llama.fi:443 \"GET /protocol/kaidex HTTP/1.1\" 200 143222\n",
      "DEBUG:urllib3.connectionpool:https://api.llama.fi:443 \"GET /protocol/tetu HTTP/1.1\" 200 152343\n",
      "DEBUG:urllib3.connectionpool:https://api.llama.fi:443 \"GET /protocol/nuls HTTP/1.1\" 200 32814\n",
      "DEBUG:urllib3.connectionpool:https://api.llama.fi:443 \"GET /protocol/katana HTTP/1.1\" 200 250328\n",
      "DEBUG:urllib3.connectionpool:https://api.llama.fi:443 \"GET /protocol/o3-swap HTTP/1.1\" 502 36\n"
     ]
    },
    {
     "name": "stdout",
     "output_type": "stream",
     "text": [
      "err\n"
     ]
    },
    {
     "name": "stderr",
     "output_type": "stream",
     "text": [
      "DEBUG:urllib3.connectionpool:https://api.llama.fi:443 \"GET /protocol/acala-swap HTTP/1.1\" 200 16630\n",
      "DEBUG:urllib3.connectionpool:https://api.llama.fi:443 \"GET /protocol/ouchi-finance HTTP/1.1\" 200 52881\n",
      "DEBUG:urllib3.connectionpool:https://api.llama.fi:443 \"GET /protocol/position-exchange HTTP/1.1\" 200 289043\n",
      "DEBUG:urllib3.connectionpool:https://api.llama.fi:443 \"GET /protocol/zookeeper HTTP/1.1\" 200 59123\n",
      "DEBUG:urllib3.connectionpool:https://api.llama.fi:443 \"GET /protocol/88mph HTTP/1.1\" 200 1175088\n",
      "DEBUG:urllib3.connectionpool:https://api.llama.fi:443 \"GET /protocol/sashimiswap HTTP/1.1\" 200 1387195\n",
      "DEBUG:urllib3.connectionpool:https://api.llama.fi:443 \"GET /protocol/aavegotchi HTTP/1.1\" 200 661337\n",
      "DEBUG:urllib3.connectionpool:https://api.llama.fi:443 \"GET /protocol/idex HTTP/1.1\" 200 2261810\n",
      "DEBUG:urllib3.connectionpool:https://api.llama.fi:443 \"GET /protocol/guard(helmet) HTTP/1.1\" 200 842461\n",
      "DEBUG:urllib3.connectionpool:https://api.llama.fi:443 \"GET /protocol/truefi HTTP/1.1\" 200 588029\n"
     ]
    }
   ],
   "source": [
    "#get by app\n",
    "api_str = 'https://api.llama.fi/protocol/'\n",
    "# print(protocols)\n",
    "prod = []\n",
    "for index,proto in protocols.iterrows():\n",
    "#     print(proto)\n",
    "    prot = proto['slug']\n",
    "    chains = proto['chainTvls']\n",
    "    apic = api_str + prot\n",
    "#     time.sleep(0.1)\n",
    "    try:\n",
    "        prot_req = s.get(apic, headers=header).json()['chainTvls']\n",
    "#         print(apic)\n",
    "        for ch in chains:\n",
    "            ad = pd.json_normalize( prot_req[ch]['tokens'] )\n",
    "            ad_usd = pd.json_normalize( prot_req[ch]['tokensInUsd'] )\n",
    "#             ad = ad.merge(how='left')\n",
    "            if not ad.empty:\n",
    "                ad = pd.melt(ad,id_vars = ['date'])\n",
    "                ad = ad.rename(columns={'variable':'token','value':'token_value'})\n",
    "                ad_usd = pd.melt(ad_usd,id_vars = ['date'])\n",
    "                ad_usd = ad_usd.rename(columns={'variable':'token','value':'usd_value'})\n",
    "                ad = ad.merge(ad_usd,on=['date','token'])\n",
    "                \n",
    "                ad['date'] = pd.to_datetime(ad['date'], unit ='s') #convert to days\n",
    "                ad['token'] = ad['token'].str.replace('tokens.','', regex=False)\n",
    "                ad['protocol'] = prot\n",
    "                ad['chain'] = ch\n",
    "        #         ad['start_date'] = pd.to_datetime(prot[1])\n",
    "                ad['date'] = ad['date'] - timedelta(days=1) #change to eod vs sod\n",
    "                prod.append(ad)\n",
    "    except:\n",
    "        print('err')\n"
   ]
  },
  {
   "cell_type": "code",
   "execution_count": 85,
   "id": "c7c1ddad",
   "metadata": {},
   "outputs": [
    {
     "name": "stdout",
     "output_type": "stream",
     "text": [
      "done api\n"
     ]
    }
   ],
   "source": [
    "df_df_all = pd.concat(prod)\n",
    "# df_df_all\n",
    "print(\"done api\")"
   ]
  },
  {
   "cell_type": "code",
   "execution_count": 86,
   "id": "53c381e8",
   "metadata": {},
   "outputs": [
    {
     "name": "stderr",
     "output_type": "stream",
     "text": [
      "/var/folders/by/kltjc8yd0yz_7_wrtrzhrm9m0000gn/T/ipykernel_65434/3395394319.py:6: SettingWithCopyWarning:\n",
      "\n",
      "\n",
      "A value is trying to be set on a copy of a slice from a DataFrame.\n",
      "Try using .loc[row_indexer,col_indexer] = value instead\n",
      "\n",
      "See the caveats in the documentation: https://pandas.pydata.org/pandas-docs/stable/user_guide/indexing.html#returning-a-view-versus-a-copy\n",
      "\n"
     ]
    }
   ],
   "source": [
    "# df_df[df_df['protocol']=='perpetual-protocol']\n",
    "#filter down a bit so we can do trailing comp w/o doing every row\n",
    "df_df = df_df_all[df_df_all['date'].dt.date >= date.today()-timedelta(days=trailing_num_days +2) ]\n",
    "# display(df_df['date'].drop_duplicates())\n",
    "#trailing comp\n",
    "df_df['last_token_value'] = df_df.groupby(['token','protocol','chain'])['token_value'].shift(1)\n",
    "#now actually filter\n",
    "df_df = df_df[df_df['date'].dt.date >= date.today()-timedelta(days=trailing_num_days +1) ]\n",
    "# display(df_df['date'].drop_duplicates())\n",
    "# df_df[(df_df['protocol'] == 'uniswap') & (df_df['token'] != 'USDT') & (df_df['token_value'] > 0)]"
   ]
  },
  {
   "cell_type": "code",
   "execution_count": null,
   "id": "d277a590",
   "metadata": {},
   "outputs": [],
   "source": []
  },
  {
   "cell_type": "code",
   "execution_count": 87,
   "id": "840e7c2d",
   "metadata": {},
   "outputs": [],
   "source": [
    "# # DISTINCT TOKENS\n",
    "\n",
    "# token_list = df_df.groupby(['token']).count()\n",
    "# token_list = token_list[token_list['token_value']>=1000]\n",
    "# token_list.sort_values(by='token_value',inplace=True, ascending=False)\n",
    "# token_list.reset_index(inplace=True)\n",
    "# missing_token_list = token_list[~token_list['token'].isin(cg_token_list)]\n",
    "# missing_token_list\n",
    "# missing_token_list"
   ]
  },
  {
   "cell_type": "code",
   "execution_count": 88,
   "id": "8f9eb8e5",
   "metadata": {},
   "outputs": [],
   "source": [
    "# data_df = df_df.merge(cg_df, on=['date','token'],how='inner')\n",
    "data_df = df_df.copy()\n",
    "data_df['token_value'] = data_df['token_value'].replace(0, np.nan)\n",
    "data_df['price_usd'] = data_df['usd_value']/data_df['token_value']\n",
    "\n",
    "# print(len(data_df))\n",
    "data_df.sort_values(by='date',inplace=True)\n",
    "# print(len(data_df))\n",
    "# data_df['net_token_flow'] = data_df.groupby(['token','protocol','chain'])['token_value'].apply(lambda x: x- x.shift(1))\n",
    "data_df['net_token_flow'] = data_df['token_value'] - data_df['last_token_value']\n",
    "\n",
    "# print(len(data_df))\n",
    "data_df['net_dollar_flow'] = data_df['net_token_flow'] * data_df['price_usd']\n",
    "\n",
    "\n",
    "# data_df = data_df[data_df['token'] != 'RVRS'] #Harmony error\n",
    "# data_df = data_df[data_df['token'] != 'usn'] #Harmony error\n",
    "# data_df = data_df[data_df['protocol'] != 'shibaswap'] #Harmony error\n",
    "data_df = data_df[abs(data_df['net_dollar_flow']) < 50_000_000_000] #50 bil error bar\n",
    "data_df = data_df[~data_df['net_dollar_flow'].isna()] #50 bil error bar\n",
    "# display(data_df[\n",
    "# #         (data_df['protocol'] == 'sushiswap') & (data_df['chain'] == 'Harmony')\n",
    "#         (data_df['net_dollar_flow'].notna()) & (data_df['net_dollar_flow'] != 0)\n",
    "#         ].sort_values('net_dollar_flow'))\n",
    "\n",
    "\n",
    "# data_df.sort_values('net_dollar_flow')\n"
   ]
  },
  {
   "cell_type": "code",
   "execution_count": 89,
   "id": "1083af8c",
   "metadata": {},
   "outputs": [],
   "source": [
    "# data_df[['date']].drop_duplicates().sort_values('date')\n",
    "# data_df[data_df['date'].dt.date != data_df['date']].sort_values('date')"
   ]
  },
  {
   "cell_type": "code",
   "execution_count": 90,
   "id": "d1ae7150",
   "metadata": {},
   "outputs": [],
   "source": [
    "# data_df[data_df['protocol']=='perpetual-protocol'].sort_values(by='date')\n",
    "\n",
    "# segment_cols = ['date','protocol','chain','token']"
   ]
  },
  {
   "cell_type": "code",
   "execution_count": 91,
   "id": "59f3f879",
   "metadata": {},
   "outputs": [],
   "source": [
    "netdf_df = data_df[['date','protocol','chain','net_dollar_flow','usd_value']]\n",
    "netdf_df = netdf_df.fillna(0)\n",
    "netdf_df = netdf_df.groupby(['date','protocol','chain']).sum(['net_dollar_flow','usd_value']) ##agg by app\n",
    "# display(netdf_df)\n",
    "#usd_value is the TVL on a given day\n",
    "netdf_df = netdf_df.groupby(['date','protocol','chain','usd_value']).sum(['net_dollar_flow'])\n",
    "netdf_df.reset_index(inplace=True)\n",
    "# display(netdf_df)\n",
    "netdf_df['cumul_net_dollar_flow'] = netdf_df[['protocol','chain','net_dollar_flow']]\\\n",
    "                                    .groupby(['protocol','chain']).cumsum()\n",
    "netdf_df.reset_index(inplace=True)\n",
    "netdf_df.drop(columns=['index'],inplace=True)\n"
   ]
  },
  {
   "cell_type": "code",
   "execution_count": 92,
   "id": "18ccf06e",
   "metadata": {},
   "outputs": [],
   "source": [
    "#get latest\n",
    "netdf_df['rank_desc'] = netdf_df.groupby(['protocol', 'chain'])['date'].\\\n",
    "                            rank(method='dense',ascending=False).astype(int)\n",
    "# netdf_df[netdf_df['chain'] == 'Klaytn']"
   ]
  },
  {
   "cell_type": "code",
   "execution_count": null,
   "id": "744ec17f",
   "metadata": {},
   "outputs": [],
   "source": []
  },
  {
   "cell_type": "code",
   "execution_count": 98,
   "id": "c0bdf6d8",
   "metadata": {
    "scrolled": false
   },
   "outputs": [
    {
     "name": "stderr",
     "output_type": "stream",
     "text": [
      "/Users/michaelsilberling/opt/anaconda3/lib/python3.9/site-packages/plotly/express/_core.py:1616: FutureWarning:\n",
      "\n",
      "The frame.append method is deprecated and will be removed from pandas in a future version. Use pandas.concat instead.\n",
      "\n",
      "/Users/michaelsilberling/opt/anaconda3/lib/python3.9/site-packages/plotly/express/_core.py:1616: FutureWarning:\n",
      "\n",
      "The frame.append method is deprecated and will be removed from pandas in a future version. Use pandas.concat instead.\n",
      "\n",
      "/Users/michaelsilberling/opt/anaconda3/lib/python3.9/site-packages/plotly/express/_core.py:1616: FutureWarning:\n",
      "\n",
      "The frame.append method is deprecated and will be removed from pandas in a future version. Use pandas.concat instead.\n",
      "\n"
     ]
    }
   ],
   "source": [
    "summary_df = netdf_df[  ( netdf_df['rank_desc'] == 1 ) &\\\n",
    "                        (~netdf_df['chain'].str.contains('-borrowed')) &\\\n",
    "                        (~netdf_df['chain'].str.contains('-staking')) &\\\n",
    "                        (~netdf_df['chain'].str.contains('-pool2')) &\\\n",
    "                        (~( netdf_df['chain'] == 'treasury') )\n",
    "                        ]\n",
    "summary_df = summary_df.sort_values(by='cumul_net_dollar_flow',ascending=False)\n",
    "summary_df['pct_of_tvl'] = 100* summary_df['net_dollar_flow'] / summary_df['usd_value']\n",
    "summary_df['flow_direction'] = np.where(summary_df['cumul_net_dollar_flow']>=0,1,-1)\n",
    "summary_df['abs_cumul_net_dollar_flow'] = abs(summary_df['cumul_net_dollar_flow'])\n",
    "# display(summary_df)\n",
    "fig = px.treemap(summary_df[summary_df['abs_cumul_net_dollar_flow'] !=0], \\\n",
    "                 path=[px.Constant(\"all\"), 'chain', 'protocol'], \\\n",
    "#                  path=[px.Constant(\"all\"), 'token', 'chain', 'protocol'], \\\n",
    "                 values='abs_cumul_net_dollar_flow', color='flow_direction'\n",
    "#                 ,color_discrete_map={'-1':'red', '1':'green'})\n",
    "                ,color_continuous_scale='Spectral'\n",
    "                )\n",
    "# fig.data[0].textinfo = 'label+text+value'\n",
    "fig.update_traces(root_color=\"lightgrey\")\n",
    "fig.update_layout(margin = dict(t=50, l=25, r=25, b=25))\n",
    "# fig.update_layout(tickprefix = '$')\n",
    "\n",
    "# fig.show()\n",
    "fig.write_image(prepend + \"img_outputs/svg/net_app_flows.svg\") #prepend + \n",
    "fig.write_image(prepend + \"img_outputs/png/net_app_flows.png\") #prepend + \n",
    "fig.write_html(prepend + \"img_outputs/net_app_flows.html\", include_plotlyjs='cdn')"
   ]
  },
  {
   "cell_type": "code",
   "execution_count": 99,
   "id": "546e13b8",
   "metadata": {},
   "outputs": [],
   "source": [
    "# netdf_df_plot = netdf_df[netdf_df['chain']=='Ethereum']\n",
    "\n",
    "# fig = px.line(netdf_df_plot, x=\"date\", y=\"net_dollar_flow\", color=\"protocol\", \\\n",
    "#              title=\"Daily Net Dollar Flow since Program Announcement\",\\\n",
    "#             labels={\n",
    "#                      \"date\": \"Day\",\n",
    "#                      \"net_dollar_flow\": \"Net Dollar Flow (N$F)\"\n",
    "#                  }\n",
    "#             )\n",
    "# fig.update_layout(\n",
    "#     legend_title=\"App Name\"\n",
    "# )\n",
    "# fig.update_layout(yaxis_tickprefix = '$')\n",
    "# fig.show()\n",
    "\n",
    "# # cumul_fig = px.area(netdf_df, x=\"date\", y=\"cumul_net_dollar_flow\", color=\"protocol\", \\\n",
    "# #              title=\"Cumulative Dollar Flow since Program Announcement\",\\\n",
    "# #                    labels={\n",
    "# #                      \"date\": \"Day\",\n",
    "# #                      \"cumul_net_dollar_flow\": \"Cumulative Net Dollar Flow (N$F)\"\n",
    "# #                  }\n",
    "# #             ,areamode='group')\n",
    "# # cumul_fig.update_layout(yaxis_tickprefix = '$')\n",
    "# # cumul_fig.show()\n",
    "\n",
    "\n",
    "# cumul_fig = go.Figure()\n",
    "# proto_names = netdf_df_plot['protocol'].drop_duplicates()\n",
    "# print(proto_names)\n",
    "# for p in proto_names:\n",
    "#     cumul_fig.add_trace(go.Scatter(x=netdf_df_plot[netdf_df_plot['protocol'] == p]['date'] \\\n",
    "#                                    , y=netdf_df_plot[netdf_df_plot['protocol'] == p]['cumul_net_dollar_flow'] \\\n",
    "#                                     ,name = p\\\n",
    "#                                   ,fill='tozeroy')) # fill down to xaxis\n",
    "\n",
    "# cumul_fig.update_layout(yaxis_tickprefix = '$')\n",
    "# cumul_fig.update_layout(\n",
    "#     title=\"Cumulative Dollar Flow since Program Announcement\",\n",
    "#     xaxis_title=\"Day\",\n",
    "#     yaxis_title=\"Cumulative Net Dollar Flow (N$F)\",\n",
    "#     legend_title=\"App Name\",\n",
    "# #     color_discrete_map=px.colors.qualitative.G10\n",
    "# )\n",
    "# cumul_fig.show()"
   ]
  },
  {
   "cell_type": "code",
   "execution_count": 101,
   "id": "2e102411",
   "metadata": {},
   "outputs": [
    {
     "name": "stdout",
     "output_type": "stream",
     "text": [
      "[NbConvertApp] Converting notebook total_app_net_flows.ipynb to python\n",
      "[NbConvertApp] Writing 10005 bytes to total_app_net_flows.py\n"
     ]
    }
   ],
   "source": [
    "# ! jupyter nbconvert --to python total_app_net_flows.ipynb"
   ]
  }
 ],
 "metadata": {
  "kernelspec": {
   "display_name": "Python 3 (ipykernel)",
   "language": "python",
   "name": "python3"
  },
  "language_info": {
   "codemirror_mode": {
    "name": "ipython",
    "version": 3
   },
   "file_extension": ".py",
   "mimetype": "text/x-python",
   "name": "python",
   "nbconvert_exporter": "python",
   "pygments_lexer": "ipython3",
   "version": "3.9.7"
  }
 },
 "nbformat": 4,
 "nbformat_minor": 5
}
