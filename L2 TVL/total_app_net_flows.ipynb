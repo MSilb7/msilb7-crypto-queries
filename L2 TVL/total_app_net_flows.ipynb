{
 "cells": [
  {
   "cell_type": "code",
   "execution_count": 50,
   "id": "ffefb42a",
   "metadata": {},
   "outputs": [],
   "source": [
    "import pandas as pd\n",
    "import requests as r\n",
    "import plotly.express as px\n",
    "import plotly.graph_objects as go\n",
    "from datetime import datetime, timedelta, date\n",
    "import numpy as np\n",
    "import time\n",
    "import os\n",
    "header = {'User-Agent': 'Mozilla/5.0 (Windows NT 10.0; Win64; x64; rv:71.0) Gecko/20100101 Firefox/71.0'}"
   ]
  },
  {
   "cell_type": "code",
   "execution_count": 51,
   "id": "539f29a0",
   "metadata": {},
   "outputs": [],
   "source": [
    "#https://stackoverflow.com/questions/23267409/how-to-implement-retry-mechanism-into-python-requests-library\n",
    "\n",
    "import logging\n",
    "import requests\n",
    "\n",
    "from requests.adapters import HTTPAdapter, Retry\n",
    "\n",
    "logging.basicConfig(level=logging.DEBUG)\n",
    "\n",
    "s = requests.Session()\n",
    "retries = Retry(total=5, backoff_factor=1, status_forcelist=[ 502, 503, 504 ])\n",
    "s.mount('http://', HTTPAdapter(max_retries=retries))\n",
    "\n",
    "pwd = os.getcwd()\n",
    "if 'L2 TVL' in pwd:\n",
    "    prepend = ''\n",
    "else:\n",
    "    prepend = 'L2 TVL/'"
   ]
  },
  {
   "cell_type": "code",
   "execution_count": 52,
   "id": "bbc56e12",
   "metadata": {},
   "outputs": [],
   "source": [
    "trailing_num_days = 7"
   ]
  },
  {
   "cell_type": "code",
   "execution_count": 53,
   "id": "d984f9ab",
   "metadata": {},
   "outputs": [
    {
     "name": "stderr",
     "output_type": "stream",
     "text": [
      "DEBUG:urllib3.connectionpool:Starting new HTTPS connection (1): api.llama.fi:443\n",
      "DEBUG:urllib3.connectionpool:https://api.llama.fi:443 \"GET /protocols HTTP/1.1\" 200 1594379\n"
     ]
    },
    {
     "name": "stdout",
     "output_type": "stream",
     "text": [
      "356\n"
     ]
    }
   ],
   "source": [
    "#get all apps > 10 m tvl\n",
    "all_api = 'https://api.llama.fi/protocols'\n",
    "res = pd.DataFrame( r.get(all_api, headers=header).json() )\n",
    "res = res[res['tvl'] > 100_000_000] ##greater than 10mil\n",
    "print(len(res))\n",
    "# print(res.columns)\n"
   ]
  },
  {
   "cell_type": "code",
   "execution_count": 54,
   "id": "beebc582",
   "metadata": {},
   "outputs": [
    {
     "name": "stderr",
     "output_type": "stream",
     "text": [
      "/var/folders/by/kltjc8yd0yz_7_wrtrzhrm9m0000gn/T/ipykernel_65434/1800157470.py:4: SettingWithCopyWarning:\n",
      "\n",
      "\n",
      "A value is trying to be set on a copy of a slice from a DataFrame.\n",
      "Try using .loc[row_indexer,col_indexer] = value instead\n",
      "\n",
      "See the caveats in the documentation: https://pandas.pydata.org/pandas-docs/stable/user_guide/indexing.html#returning-a-view-versus-a-copy\n",
      "\n"
     ]
    },
    {
     "data": {
      "text/html": [
       "<div>\n",
       "<style scoped>\n",
       "    .dataframe tbody tr th:only-of-type {\n",
       "        vertical-align: middle;\n",
       "    }\n",
       "\n",
       "    .dataframe tbody tr th {\n",
       "        vertical-align: top;\n",
       "    }\n",
       "\n",
       "    .dataframe thead th {\n",
       "        text-align: right;\n",
       "    }\n",
       "</style>\n",
       "<table border=\"1\" class=\"dataframe\">\n",
       "  <thead>\n",
       "    <tr style=\"text-align: right;\">\n",
       "      <th></th>\n",
       "      <th>slug</th>\n",
       "      <th>chainTvls</th>\n",
       "    </tr>\n",
       "  </thead>\n",
       "  <tbody>\n",
       "    <tr>\n",
       "      <th>0</th>\n",
       "      <td>makerdao</td>\n",
       "      <td>[Ethereum]</td>\n",
       "    </tr>\n",
       "    <tr>\n",
       "      <th>1</th>\n",
       "      <td>polygon-bridge-&amp;-staking</td>\n",
       "      <td>[Polygon]</td>\n",
       "    </tr>\n",
       "    <tr>\n",
       "      <th>2</th>\n",
       "      <td>lido</td>\n",
       "      <td>[Ethereum, Moonriver, Solana, Terra, Moonbeam]</td>\n",
       "    </tr>\n",
       "    <tr>\n",
       "      <th>3</th>\n",
       "      <td>uniswap</td>\n",
       "      <td>[Optimism, Ethereum, Polygon, Celo, Arbitrum]</td>\n",
       "    </tr>\n",
       "    <tr>\n",
       "      <th>4</th>\n",
       "      <td>curve</td>\n",
       "      <td>[Optimism, Harmony, Moonbeam, Ethereum, Aurora...</td>\n",
       "    </tr>\n",
       "    <tr>\n",
       "      <th>...</th>\n",
       "      <td>...</td>\n",
       "      <td>...</td>\n",
       "    </tr>\n",
       "    <tr>\n",
       "      <th>351</th>\n",
       "      <td>sashimiswap</td>\n",
       "      <td>[Binance-borrowed, Binance, Ethereum, Heco, Et...</td>\n",
       "    </tr>\n",
       "    <tr>\n",
       "      <th>352</th>\n",
       "      <td>guard(helmet)</td>\n",
       "      <td>[Binance, Polygon]</td>\n",
       "    </tr>\n",
       "    <tr>\n",
       "      <th>353</th>\n",
       "      <td>aavegotchi</td>\n",
       "      <td>[pool2, Polygon-pool2, Ethereum, Polygon, Poly...</td>\n",
       "    </tr>\n",
       "    <tr>\n",
       "      <th>354</th>\n",
       "      <td>idex</td>\n",
       "      <td>[Ethereum, Polygon]</td>\n",
       "    </tr>\n",
       "    <tr>\n",
       "      <th>355</th>\n",
       "      <td>truefi</td>\n",
       "      <td>[Ethereum, Ethereum-staking, Ethereum-borrowed...</td>\n",
       "    </tr>\n",
       "  </tbody>\n",
       "</table>\n",
       "<p>356 rows × 2 columns</p>\n",
       "</div>"
      ],
      "text/plain": [
       "                         slug  \\\n",
       "0                    makerdao   \n",
       "1    polygon-bridge-&-staking   \n",
       "2                        lido   \n",
       "3                     uniswap   \n",
       "4                       curve   \n",
       "..                        ...   \n",
       "351               sashimiswap   \n",
       "352             guard(helmet)   \n",
       "353                aavegotchi   \n",
       "354                      idex   \n",
       "355                    truefi   \n",
       "\n",
       "                                             chainTvls  \n",
       "0                                           [Ethereum]  \n",
       "1                                            [Polygon]  \n",
       "2       [Ethereum, Moonriver, Solana, Terra, Moonbeam]  \n",
       "3        [Optimism, Ethereum, Polygon, Celo, Arbitrum]  \n",
       "4    [Optimism, Harmony, Moonbeam, Ethereum, Aurora...  \n",
       "..                                                 ...  \n",
       "351  [Binance-borrowed, Binance, Ethereum, Heco, Et...  \n",
       "352                                 [Binance, Polygon]  \n",
       "353  [pool2, Polygon-pool2, Ethereum, Polygon, Poly...  \n",
       "354                                [Ethereum, Polygon]  \n",
       "355  [Ethereum, Ethereum-staking, Ethereum-borrowed...  \n",
       "\n",
       "[356 rows x 2 columns]"
      ]
     },
     "execution_count": 54,
     "metadata": {},
     "output_type": "execute_result"
    }
   ],
   "source": [
    "\n",
    "protocols = res[['slug','chainTvls']]\n",
    "re = res['chainTvls']\n",
    "# r[1].keys()\n",
    "protocols['chainTvls'] = protocols['chainTvls'].apply(lambda x: list(x.keys()) )\n",
    "protocols"
   ]
  },
  {
   "cell_type": "code",
   "execution_count": 55,
   "id": "c84c9ef1",
   "metadata": {},
   "outputs": [],
   "source": [
    "# protocols = protocols[ protocols['slug'] == 'uniswap-v3' ]\n",
    "# api_str = 'https://api.llama.fi/protocol/'\n",
    "# ad = pd.DataFrame( r.get(api_str).json()['chainTvls'] ).T[['tokens']]\n",
    "# ad"
   ]
  },
  {
   "cell_type": "code",
   "execution_count": 56,
   "id": "9717e4df",
   "metadata": {},
   "outputs": [],
   "source": [
    "# api_str = 'https://api.llama.fi/protocol/uniswap'\n",
    "# prot_req = r.get(api_str, headers=header).json()['chainTvls']\n",
    "# # prot_req['Ethereum']\n",
    "# prot_req"
   ]
  },
  {
   "cell_type": "code",
   "execution_count": 57,
   "id": "d3399236",
   "metadata": {},
   "outputs": [
    {
     "name": "stderr",
     "output_type": "stream",
     "text": [
      "DEBUG:urllib3.connectionpool:Starting new HTTPS connection (1): api.llama.fi:443\n",
      "DEBUG:urllib3.connectionpool:https://api.llama.fi:443 \"GET /protocol/makerdao HTTP/1.1\" 200 1003983\n"
     ]
    },
    {
     "name": "stdout",
     "output_type": "stream",
     "text": [
      "https://api.llama.fi/protocol/makerdao\n"
     ]
    },
    {
     "name": "stderr",
     "output_type": "stream",
     "text": [
      "DEBUG:urllib3.connectionpool:https://api.llama.fi:443 \"GET /protocol/polygon-bridge-&-staking HTTP/1.1\" 307 0\n",
      "DEBUG:urllib3.connectionpool:Starting new HTTPS connection (1): defillama-datasets.s3.eu-central-1.amazonaws.com:443\n",
      "DEBUG:urllib3.connectionpool:https://defillama-datasets.s3.eu-central-1.amazonaws.com:443 \"GET /temp/protocol-Polygon%20Bridge%20&%20Staking.json HTTP/1.1\" 200 14069119\n"
     ]
    },
    {
     "name": "stdout",
     "output_type": "stream",
     "text": [
      "https://api.llama.fi/protocol/polygon-bridge-&-staking\n"
     ]
    },
    {
     "name": "stderr",
     "output_type": "stream",
     "text": [
      "DEBUG:urllib3.connectionpool:https://api.llama.fi:443 \"GET /protocol/lido HTTP/1.1\" 200 443350\n"
     ]
    },
    {
     "name": "stdout",
     "output_type": "stream",
     "text": [
      "https://api.llama.fi/protocol/lido\n"
     ]
    },
    {
     "name": "stderr",
     "output_type": "stream",
     "text": [
      "DEBUG:urllib3.connectionpool:https://api.llama.fi:443 \"GET /protocol/uniswap HTTP/1.1\" 307 0\n",
      "DEBUG:urllib3.connectionpool:https://defillama-datasets.s3.eu-central-1.amazonaws.com:443 \"GET /temp/protocol-Uniswap.json HTTP/1.1\" 200 13728133\n"
     ]
    },
    {
     "name": "stdout",
     "output_type": "stream",
     "text": [
      "https://api.llama.fi/protocol/uniswap\n"
     ]
    },
    {
     "name": "stderr",
     "output_type": "stream",
     "text": [
      "DEBUG:urllib3.connectionpool:https://api.llama.fi:443 \"GET /protocol/curve HTTP/1.1\" 200 1466829\n",
      "DEBUG:urllib3.connectionpool:https://api.llama.fi:443 \"GET /protocol/wbtc HTTP/1.1\" 200 89137\n",
      "DEBUG:urllib3.connectionpool:https://api.llama.fi:443 \"GET /protocol/aave-v2 HTTP/1.1\" 200 4490635\n"
     ]
    },
    {
     "name": "stdout",
     "output_type": "stream",
     "text": [
      "https://api.llama.fi/protocol/curve\n",
      "https://api.llama.fi/protocol/wbtc\n",
      "https://api.llama.fi/protocol/aave-v2\n"
     ]
    },
    {
     "name": "stderr",
     "output_type": "stream",
     "text": [
      "DEBUG:urllib3.connectionpool:https://api.llama.fi:443 \"GET /protocol/convex-finance HTTP/1.1\" 200 1718680\n",
      "DEBUG:urllib3.connectionpool:https://api.llama.fi:443 \"GET /protocol/justlend HTTP/1.1\" 200 154683\n",
      "DEBUG:urllib3.connectionpool:https://api.llama.fi:443 \"GET /protocol/pancakeswap HTTP/1.1\" 200 316158\n",
      "DEBUG:urllib3.connectionpool:https://api.llama.fi:443 \"GET /protocol/compound HTTP/1.1\" 200 2288763\n"
     ]
    },
    {
     "name": "stdout",
     "output_type": "stream",
     "text": [
      "https://api.llama.fi/protocol/convex-finance\n",
      "https://api.llama.fi/protocol/justlend\n",
      "https://api.llama.fi/protocol/pancakeswap\n"
     ]
    },
    {
     "name": "stderr",
     "output_type": "stream",
     "text": [
      "DEBUG:urllib3.connectionpool:https://api.llama.fi:443 \"GET /protocol/instadapp HTTP/1.1\" 200 96396\n"
     ]
    },
    {
     "name": "stdout",
     "output_type": "stream",
     "text": [
      "https://api.llama.fi/protocol/compound\n",
      "https://api.llama.fi/protocol/instadapp\n"
     ]
    },
    {
     "name": "stderr",
     "output_type": "stream",
     "text": [
      "DEBUG:urllib3.connectionpool:https://api.llama.fi:443 \"GET /protocol/multichain HTTP/1.1\" 200 327974\n",
      "DEBUG:urllib3.connectionpool:https://api.llama.fi:443 \"GET /protocol/arrakis-finance HTTP/1.1\" 200 1093327\n"
     ]
    },
    {
     "name": "stdout",
     "output_type": "stream",
     "text": [
      "https://api.llama.fi/protocol/multichain\n",
      "https://api.llama.fi/protocol/arrakis-finance\n"
     ]
    },
    {
     "name": "stderr",
     "output_type": "stream",
     "text": [
      "DEBUG:urllib3.connectionpool:https://api.llama.fi:443 \"GET /protocol/aave-v3 HTTP/1.1\" 200 1094297\n",
      "DEBUG:urllib3.connectionpool:https://api.llama.fi:443 \"GET /protocol/balancer HTTP/1.1\" 200 408371\n"
     ]
    },
    {
     "name": "stdout",
     "output_type": "stream",
     "text": [
      "https://api.llama.fi/protocol/aave-v3\n",
      "https://api.llama.fi/protocol/balancer\n"
     ]
    },
    {
     "name": "stderr",
     "output_type": "stream",
     "text": [
      "DEBUG:urllib3.connectionpool:https://api.llama.fi:443 \"GET /protocol/justcryptos HTTP/1.1\" 502 36\n",
      "DEBUG:urllib3.connectionpool:https://api.llama.fi:443 \"GET /protocol/juststables HTTP/1.1\" 200 273851\n",
      "DEBUG:urllib3.connectionpool:https://api.llama.fi:443 \"GET /protocol/frax HTTP/1.1\" 200 837489\n"
     ]
    },
    {
     "name": "stdout",
     "output_type": "stream",
     "text": [
      "err\n",
      "https://api.llama.fi/protocol/juststables\n",
      "https://api.llama.fi/protocol/frax\n"
     ]
    },
    {
     "name": "stderr",
     "output_type": "stream",
     "text": [
      "DEBUG:urllib3.connectionpool:https://api.llama.fi:443 \"GET /protocol/hbtc HTTP/1.1\" 200 87549\n",
      "DEBUG:urllib3.connectionpool:https://api.llama.fi:443 \"GET /protocol/sunswap HTTP/1.1\" 200 238489\n"
     ]
    },
    {
     "name": "stdout",
     "output_type": "stream",
     "text": [
      "https://api.llama.fi/protocol/hbtc\n",
      "https://api.llama.fi/protocol/sunswap\n"
     ]
    },
    {
     "name": "stderr",
     "output_type": "stream",
     "text": [
      "DEBUG:urllib3.connectionpool:https://api.llama.fi:443 \"GET /protocol/sushiswap HTTP/1.1\" 307 0\n",
      "DEBUG:urllib3.connectionpool:Resetting dropped connection: defillama-datasets.s3.eu-central-1.amazonaws.com\n",
      "DEBUG:urllib3.connectionpool:https://defillama-datasets.s3.eu-central-1.amazonaws.com:443 \"GET /temp/protocol-SushiSwap.json HTTP/1.1\" 200 80035799\n"
     ]
    },
    {
     "name": "stdout",
     "output_type": "stream",
     "text": [
      "https://api.llama.fi/protocol/sushiswap\n"
     ]
    },
    {
     "name": "stderr",
     "output_type": "stream",
     "text": [
      "DEBUG:urllib3.connectionpool:https://api.llama.fi:443 \"GET /protocol/venus HTTP/1.1\" 200 2354272\n",
      "DEBUG:urllib3.connectionpool:https://api.llama.fi:443 \"GET /protocol/vvs-finance HTTP/1.1\" 200 103840\n",
      "DEBUG:urllib3.connectionpool:https://api.llama.fi:443 \"GET /protocol/synthetix HTTP/1.1\" 200 366869\n"
     ]
    },
    {
     "name": "stdout",
     "output_type": "stream",
     "text": [
      "https://api.llama.fi/protocol/venus\n",
      "https://api.llama.fi/protocol/vvs-finance\n",
      "https://api.llama.fi/protocol/synthetix\n"
     ]
    },
    {
     "name": "stderr",
     "output_type": "stream",
     "text": [
      "DEBUG:urllib3.connectionpool:https://api.llama.fi:443 \"GET /protocol/yearn-finance HTTP/1.1\" 200 316943\n",
      "DEBUG:urllib3.connectionpool:https://api.llama.fi:443 \"GET /protocol/liquity HTTP/1.1\" 200 160127\n",
      "DEBUG:urllib3.connectionpool:https://api.llama.fi:443 \"GET /protocol/rocket-pool HTTP/1.1\" 200 113867\n",
      "DEBUG:urllib3.connectionpool:https://api.llama.fi:443 \"GET /protocol/keep3r-network HTTP/1.1\" 200 321865\n"
     ]
    },
    {
     "name": "stdout",
     "output_type": "stream",
     "text": [
      "https://api.llama.fi/protocol/yearn-finance\n",
      "https://api.llama.fi/protocol/liquity\n",
      "https://api.llama.fi/protocol/rocket-pool\n",
      "https://api.llama.fi/protocol/keep3r-network\n"
     ]
    },
    {
     "name": "stderr",
     "output_type": "stream",
     "text": [
      "DEBUG:urllib3.connectionpool:https://api.llama.fi:443 \"GET /protocol/iron-bank HTTP/1.1\" 200 895008\n",
      "DEBUG:urllib3.connectionpool:https://api.llama.fi:443 \"GET /protocol/portal HTTP/1.1\" 200 86995\n",
      "DEBUG:urllib3.connectionpool:https://api.llama.fi:443 \"GET /protocol/alpaca-finance HTTP/1.1\" 200 1297854\n"
     ]
    },
    {
     "name": "stdout",
     "output_type": "stream",
     "text": [
      "https://api.llama.fi/protocol/iron-bank\n",
      "https://api.llama.fi/protocol/portal\n"
     ]
    },
    {
     "name": "stderr",
     "output_type": "stream",
     "text": [
      "DEBUG:urllib3.connectionpool:https://api.llama.fi:443 \"GET /protocol/dydx HTTP/1.1\" 200 201744\n",
      "DEBUG:urllib3.connectionpool:https://api.llama.fi:443 \"GET /protocol/tornado-cash HTTP/1.1\" 200 436477\n"
     ]
    },
    {
     "name": "stdout",
     "output_type": "stream",
     "text": [
      "https://api.llama.fi/protocol/alpaca-finance\n",
      "https://api.llama.fi/protocol/dydx\n",
      "https://api.llama.fi/protocol/tornado-cash\n"
     ]
    },
    {
     "name": "stderr",
     "output_type": "stream",
     "text": [
      "DEBUG:urllib3.connectionpool:https://api.llama.fi:443 \"GET /protocol/stargate HTTP/1.1\" 200 236610\n",
      "DEBUG:urllib3.connectionpool:https://api.llama.fi:443 \"GET /protocol/sun.io HTTP/1.1\" 200 499910\n",
      "DEBUG:urllib3.connectionpool:https://api.llama.fi:443 \"GET /protocol/abracadabra HTTP/1.1\" 200 196568\n"
     ]
    },
    {
     "name": "stdout",
     "output_type": "stream",
     "text": [
      "https://api.llama.fi/protocol/stargate\n",
      "https://api.llama.fi/protocol/sun.io\n",
      "https://api.llama.fi/protocol/abracadabra\n"
     ]
    },
    {
     "name": "stderr",
     "output_type": "stream",
     "text": [
      "DEBUG:urllib3.connectionpool:https://api.llama.fi:443 \"GET /protocol/defichain-dex HTTP/1.1\" 200 24886\n"
     ]
    },
    {
     "name": "stdout",
     "output_type": "stream",
     "text": [
      "https://api.llama.fi/protocol/defichain-dex\n"
     ]
    },
    {
     "name": "stderr",
     "output_type": "stream",
     "text": [
      "DEBUG:urllib3.connectionpool:https://api.llama.fi:443 \"GET /protocol/quickswap HTTP/1.1\" 307 0\n",
      "DEBUG:urllib3.connectionpool:Resetting dropped connection: defillama-datasets.s3.eu-central-1.amazonaws.com\n",
      "DEBUG:urllib3.connectionpool:https://defillama-datasets.s3.eu-central-1.amazonaws.com:443 \"GET /temp/protocol-Quickswap.json HTTP/1.1\" 200 9081151\n"
     ]
    },
    {
     "name": "stdout",
     "output_type": "stream",
     "text": [
      "https://api.llama.fi/protocol/quickswap\n"
     ]
    },
    {
     "name": "stderr",
     "output_type": "stream",
     "text": [
      "DEBUG:urllib3.connectionpool:https://api.llama.fi:443 \"GET /protocol/poly-network HTTP/1.1\" 200 84565\n",
      "DEBUG:urllib3.connectionpool:https://api.llama.fi:443 \"GET /protocol/sushiswap-kashi HTTP/1.1\" 200 3183565\n"
     ]
    },
    {
     "name": "stdout",
     "output_type": "stream",
     "text": [
      "https://api.llama.fi/protocol/poly-network\n",
      "https://api.llama.fi/protocol/sushiswap-kashi\n"
     ]
    },
    {
     "name": "stderr",
     "output_type": "stream",
     "text": [
      "DEBUG:urllib3.connectionpool:https://api.llama.fi:443 \"GET /protocol/gmx HTTP/1.1\" 200 528619\n",
      "DEBUG:urllib3.connectionpool:https://api.llama.fi:443 \"GET /protocol/beefy HTTP/1.1\" 200 1054133\n"
     ]
    },
    {
     "name": "stdout",
     "output_type": "stream",
     "text": [
      "https://api.llama.fi/protocol/gmx\n",
      "https://api.llama.fi/protocol/beefy\n"
     ]
    },
    {
     "name": "stderr",
     "output_type": "stream",
     "text": [
      "DEBUG:urllib3.connectionpool:https://api.llama.fi:443 \"GET /protocol/marinade-finance HTTP/1.1\" 200 117212\n"
     ]
    },
    {
     "name": "stdout",
     "output_type": "stream",
     "text": [
      "https://api.llama.fi/protocol/marinade-finance\n"
     ]
    },
    {
     "name": "stderr",
     "output_type": "stream",
     "text": [
      "DEBUG:urllib3.connectionpool:https://api.llama.fi:443 \"GET /protocol/biswap HTTP/1.1\" 307 0\n",
      "DEBUG:urllib3.connectionpool:https://defillama-datasets.s3.eu-central-1.amazonaws.com:443 \"GET /temp/protocol-BiSwap.json HTTP/1.1\" 200 6161304\n"
     ]
    },
    {
     "name": "stdout",
     "output_type": "stream",
     "text": [
      "https://api.llama.fi/protocol/biswap\n"
     ]
    },
    {
     "name": "stderr",
     "output_type": "stream",
     "text": [
      "DEBUG:urllib3.connectionpool:https://api.llama.fi:443 \"GET /protocol/olympus-dao HTTP/1.1\" 200 351886\n"
     ]
    },
    {
     "name": "stdout",
     "output_type": "stream",
     "text": [
      "https://api.llama.fi/protocol/olympus-dao\n"
     ]
    },
    {
     "name": "stderr",
     "output_type": "stream",
     "text": [
      "DEBUG:urllib3.connectionpool:https://api.llama.fi:443 \"GET /protocol/pando HTTP/1.1\" 502 36\n",
      "DEBUG:urllib3.connectionpool:https://api.llama.fi:443 \"GET /protocol/unicrypt HTTP/1.1\" 200 299615\n",
      "DEBUG:urllib3.connectionpool:https://api.llama.fi:443 \"GET /protocol/solend HTTP/1.1\" 200 1431326\n"
     ]
    },
    {
     "name": "stdout",
     "output_type": "stream",
     "text": [
      "err\n",
      "https://api.llama.fi/protocol/unicrypt\n"
     ]
    },
    {
     "name": "stderr",
     "output_type": "stream",
     "text": [
      "DEBUG:urllib3.connectionpool:https://api.llama.fi:443 \"GET /protocol/aura HTTP/1.1\" 200 10474\n",
      "DEBUG:urllib3.connectionpool:https://api.llama.fi:443 \"GET /protocol/benqi-lending HTTP/1.1\" 200 792431\n"
     ]
    },
    {
     "name": "stdout",
     "output_type": "stream",
     "text": [
      "https://api.llama.fi/protocol/solend\n",
      "https://api.llama.fi/protocol/aura\n"
     ]
    },
    {
     "name": "stderr",
     "output_type": "stream",
     "text": [
      "DEBUG:urllib3.connectionpool:https://api.llama.fi:443 \"GET /protocol/armor HTTP/1.1\" 200 471641\n"
     ]
    },
    {
     "name": "stdout",
     "output_type": "stream",
     "text": [
      "https://api.llama.fi/protocol/benqi-lending\n",
      "https://api.llama.fi/protocol/armor\n"
     ]
    },
    {
     "name": "stderr",
     "output_type": "stream",
     "text": [
      "DEBUG:urllib3.connectionpool:https://api.llama.fi:443 \"GET /protocol/parallel-liquid-crowdloan HTTP/1.1\" 502 36\n",
      "DEBUG:urllib3.connectionpool:https://api.llama.fi:443 \"GET /protocol/tectonic HTTP/1.1\" 200 325353\n",
      "DEBUG:urllib3.connectionpool:https://api.llama.fi:443 \"GET /protocol/nexus-mutual HTTP/1.1\" 200 396010\n"
     ]
    },
    {
     "name": "stdout",
     "output_type": "stream",
     "text": [
      "err\n",
      "https://api.llama.fi/protocol/tectonic\n",
      "https://api.llama.fi/protocol/nexus-mutual\n"
     ]
    },
    {
     "name": "stderr",
     "output_type": "stream",
     "text": [
      "DEBUG:urllib3.connectionpool:https://api.llama.fi:443 \"GET /protocol/xdai-stake-bridge HTTP/1.1\" 307 0\n",
      "DEBUG:urllib3.connectionpool:https://defillama-datasets.s3.eu-central-1.amazonaws.com:443 \"GET /temp/protocol-xDAI%20Stake%20Bridge.json HTTP/1.1\" 200 8589974\n"
     ]
    },
    {
     "name": "stdout",
     "output_type": "stream",
     "text": [
      "https://api.llama.fi/protocol/xdai-stake-bridge\n"
     ]
    },
    {
     "name": "stderr",
     "output_type": "stream",
     "text": [
      "DEBUG:urllib3.connectionpool:https://api.llama.fi:443 \"GET /protocol/ref-finance HTTP/1.1\" 200 110319\n"
     ]
    },
    {
     "name": "stdout",
     "output_type": "stream",
     "text": [
      "https://api.llama.fi/protocol/ref-finance\n"
     ]
    },
    {
     "name": "stderr",
     "output_type": "stream",
     "text": [
      "DEBUG:urllib3.connectionpool:https://api.llama.fi:443 \"GET /protocol/serum HTTP/1.1\" 200 54413\n",
      "DEBUG:urllib3.connectionpool:https://api.llama.fi:443 \"GET /protocol/pinksale HTTP/1.1\" 200 115580\n"
     ]
    },
    {
     "name": "stdout",
     "output_type": "stream",
     "text": [
      "https://api.llama.fi/protocol/serum\n",
      "https://api.llama.fi/protocol/pinksale\n"
     ]
    },
    {
     "name": "stderr",
     "output_type": "stream",
     "text": [
      "DEBUG:urllib3.connectionpool:https://api.llama.fi:443 \"GET /protocol/synapse HTTP/1.1\" 200 1585276\n",
      "DEBUG:urllib3.connectionpool:https://api.llama.fi:443 \"GET /protocol/trader-joe HTTP/1.1\" 200 2898676\n"
     ]
    },
    {
     "name": "stdout",
     "output_type": "stream",
     "text": [
      "https://api.llama.fi/protocol/synapse\n"
     ]
    },
    {
     "name": "stderr",
     "output_type": "stream",
     "text": [
      "DEBUG:urllib3.connectionpool:https://api.llama.fi:443 \"GET /protocol/raydium HTTP/1.1\" 200 57378\n"
     ]
    },
    {
     "name": "stdout",
     "output_type": "stream",
     "text": [
      "https://api.llama.fi/protocol/trader-joe\n",
      "https://api.llama.fi/protocol/raydium\n"
     ]
    },
    {
     "name": "stderr",
     "output_type": "stream",
     "text": [
      "DEBUG:urllib3.connectionpool:https://api.llama.fi:443 \"GET /protocol/coinwind HTTP/1.1\" 200 2282000\n",
      "DEBUG:urllib3.connectionpool:https://api.llama.fi:443 \"GET /protocol/acala-lcdot HTTP/1.1\" 200 13056\n",
      "DEBUG:urllib3.connectionpool:https://api.llama.fi:443 \"GET /protocol/euler HTTP/1.1\" 200 743305\n"
     ]
    },
    {
     "name": "stdout",
     "output_type": "stream",
     "text": [
      "https://api.llama.fi/protocol/coinwind\n",
      "https://api.llama.fi/protocol/acala-lcdot\n"
     ]
    },
    {
     "name": "stderr",
     "output_type": "stream",
     "text": [
      "DEBUG:urllib3.connectionpool:https://api.llama.fi:443 \"GET /protocol/cbridge HTTP/1.1\" 200 2478029\n"
     ]
    },
    {
     "name": "stdout",
     "output_type": "stream",
     "text": [
      "https://api.llama.fi/protocol/euler\n",
      "https://api.llama.fi/protocol/cbridge\n"
     ]
    },
    {
     "name": "stderr",
     "output_type": "stream",
     "text": [
      "DEBUG:urllib3.connectionpool:https://api.llama.fi:443 \"GET /protocol/flexa HTTP/1.1\" 200 85657\n",
      "DEBUG:urllib3.connectionpool:https://api.llama.fi:443 \"GET /protocol/klayswap HTTP/1.1\" 200 169592\n"
     ]
    },
    {
     "name": "stdout",
     "output_type": "stream",
     "text": [
      "https://api.llama.fi/protocol/flexa\n",
      "https://api.llama.fi/protocol/klayswap\n"
     ]
    },
    {
     "name": "stderr",
     "output_type": "stream",
     "text": [
      "DEBUG:urllib3.connectionpool:https://api.llama.fi:443 \"GET /protocol/bwatch HTTP/1.1\" 502 36\n",
      "DEBUG:urllib3.connectionpool:https://api.llama.fi:443 \"GET /protocol/stacks-staking HTTP/1.1\" 200 163509\n",
      "DEBUG:urllib3.connectionpool:https://api.llama.fi:443 \"GET /protocol/osmosis HTTP/1.1\" 200 97561\n",
      "DEBUG:urllib3.connectionpool:https://api.llama.fi:443 \"GET /protocol/loopring HTTP/1.1\" 200 360243\n"
     ]
    },
    {
     "name": "stdout",
     "output_type": "stream",
     "text": [
      "err\n",
      "https://api.llama.fi/protocol/stacks-staking\n",
      "https://api.llama.fi/protocol/osmosis\n",
      "https://api.llama.fi/protocol/loopring\n"
     ]
    },
    {
     "name": "stderr",
     "output_type": "stream",
     "text": [
      "DEBUG:urllib3.connectionpool:https://api.llama.fi:443 \"GET /protocol/atrix HTTP/1.1\" 200 34258\n",
      "DEBUG:urllib3.connectionpool:https://api.llama.fi:443 \"GET /protocol/platypus-finance HTTP/1.1\" 200 382193\n",
      "DEBUG:urllib3.connectionpool:https://api.llama.fi:443 \"GET /protocol/team-finance HTTP/1.1\" 200 321593\n",
      "DEBUG:urllib3.connectionpool:https://api.llama.fi:443 \"GET /protocol/bancor HTTP/1.1\" 200 4264919\n"
     ]
    },
    {
     "name": "stdout",
     "output_type": "stream",
     "text": [
      "https://api.llama.fi/protocol/atrix\n",
      "https://api.llama.fi/protocol/platypus-finance\n",
      "https://api.llama.fi/protocol/team-finance\n"
     ]
    },
    {
     "name": "stderr",
     "output_type": "stream",
     "text": [
      "DEBUG:urllib3.connectionpool:https://api.llama.fi:443 \"GET /protocol/vires-finance HTTP/1.1\" 200 175106\n",
      "DEBUG:urllib3.connectionpool:https://api.llama.fi:443 \"GET /protocol/maiar-exchange HTTP/1.1\" 200 177553\n",
      "DEBUG:urllib3.connectionpool:https://api.llama.fi:443 \"GET /protocol/thorchain HTTP/1.1\" 200 138861\n"
     ]
    },
    {
     "name": "stdout",
     "output_type": "stream",
     "text": [
      "https://api.llama.fi/protocol/bancor\n",
      "https://api.llama.fi/protocol/vires-finance\n",
      "https://api.llama.fi/protocol/maiar-exchange\n",
      "https://api.llama.fi/protocol/thorchain\n"
     ]
    },
    {
     "name": "stderr",
     "output_type": "stream",
     "text": [
      "DEBUG:urllib3.connectionpool:https://api.llama.fi:443 \"GET /protocol/mdex HTTP/1.1\" 200 186789\n",
      "DEBUG:urllib3.connectionpool:https://api.llama.fi:443 \"GET /protocol/renvm HTTP/1.1\" 200 1125607\n"
     ]
    },
    {
     "name": "stdout",
     "output_type": "stream",
     "text": [
      "https://api.llama.fi/protocol/mdex\n",
      "https://api.llama.fi/protocol/renvm\n"
     ]
    },
    {
     "name": "stderr",
     "output_type": "stream",
     "text": [
      "DEBUG:urllib3.connectionpool:https://api.llama.fi:443 \"GET /protocol/kava-mint HTTP/1.1\" 200 200380\n"
     ]
    },
    {
     "name": "stdout",
     "output_type": "stream",
     "text": [
      "https://api.llama.fi/protocol/kava-mint\n"
     ]
    },
    {
     "name": "stderr",
     "output_type": "stream",
     "text": [
      "DEBUG:urllib3.connectionpool:https://api.llama.fi:443 \"GET /protocol/tulip-protocol HTTP/1.1\" 502 36\n"
     ]
    },
    {
     "name": "stdout",
     "output_type": "stream",
     "text": [
      "err\n"
     ]
    },
    {
     "name": "stderr",
     "output_type": "stream",
     "text": [
      "DEBUG:urllib3.connectionpool:https://api.llama.fi:443 \"GET /protocol/spookyswap HTTP/1.1\" 307 0\n",
      "DEBUG:urllib3.connectionpool:Resetting dropped connection: defillama-datasets.s3.eu-central-1.amazonaws.com\n",
      "DEBUG:urllib3.connectionpool:https://defillama-datasets.s3.eu-central-1.amazonaws.com:443 \"GET /temp/protocol-SpookySwap.json HTTP/1.1\" 200 9520789\n"
     ]
    },
    {
     "name": "stdout",
     "output_type": "stream",
     "text": [
      "https://api.llama.fi/protocol/spookyswap\n"
     ]
    },
    {
     "name": "stderr",
     "output_type": "stream",
     "text": [
      "DEBUG:urllib3.connectionpool:https://api.llama.fi:443 \"GET /protocol/chainge-finance HTTP/1.1\" 200 30610\n",
      "DEBUG:urllib3.connectionpool:https://api.llama.fi:443 \"GET /protocol/defisaver HTTP/1.1\" 200 73701\n",
      "DEBUG:urllib3.connectionpool:https://api.llama.fi:443 \"GET /protocol/stakewise HTTP/1.1\" 200 201459\n",
      "DEBUG:urllib3.connectionpool:https://api.llama.fi:443 \"GET /protocol/quarry HTTP/1.1\" 200 737320\n"
     ]
    },
    {
     "name": "stdout",
     "output_type": "stream",
     "text": [
      "https://api.llama.fi/protocol/chainge-finance\n",
      "https://api.llama.fi/protocol/defisaver\n",
      "https://api.llama.fi/protocol/stakewise\n"
     ]
    },
    {
     "name": "stderr",
     "output_type": "stream",
     "text": [
      "DEBUG:urllib3.connectionpool:https://api.llama.fi:443 \"GET /protocol/mango-markets HTTP/1.1\" 200 557308\n",
      "DEBUG:urllib3.connectionpool:https://api.llama.fi:443 \"GET /protocol/alchemix HTTP/1.1\" 200 306611\n"
     ]
    },
    {
     "name": "stdout",
     "output_type": "stream",
     "text": [
      "https://api.llama.fi/protocol/quarry\n",
      "https://api.llama.fi/protocol/mango-markets\n",
      "https://api.llama.fi/protocol/alchemix\n"
     ]
    },
    {
     "name": "stderr",
     "output_type": "stream",
     "text": [
      "DEBUG:urllib3.connectionpool:https://api.llama.fi:443 \"GET /protocol/mento HTTP/1.1\" 200 181427\n",
      "DEBUG:urllib3.connectionpool:https://api.llama.fi:443 \"GET /protocol/velodrome HTTP/1.1\" 200 138669\n",
      "DEBUG:urllib3.connectionpool:https://api.llama.fi:443 \"GET /protocol/stakedao HTTP/1.1\" 200 1038937\n"
     ]
    },
    {
     "name": "stdout",
     "output_type": "stream",
     "text": [
      "https://api.llama.fi/protocol/mento\n",
      "https://api.llama.fi/protocol/velodrome\n",
      "https://api.llama.fi/protocol/stakedao\n"
     ]
    },
    {
     "name": "stderr",
     "output_type": "stream",
     "text": [
      "DEBUG:urllib3.connectionpool:https://api.llama.fi:443 \"GET /protocol/benqi-staked-avax HTTP/1.1\" 200 57497\n"
     ]
    },
    {
     "name": "stdout",
     "output_type": "stream",
     "text": [
      "https://api.llama.fi/protocol/benqi-staked-avax\n"
     ]
    },
    {
     "name": "stderr",
     "output_type": "stream",
     "text": [
      "DEBUG:urllib3.connectionpool:https://api.llama.fi:443 \"GET /protocol/dodo HTTP/1.1\" 307 0\n",
      "DEBUG:urllib3.connectionpool:https://defillama-datasets.s3.eu-central-1.amazonaws.com:443 \"GET /temp/protocol-DODO.json HTTP/1.1\" 200 5726788\n"
     ]
    },
    {
     "name": "stdout",
     "output_type": "stream",
     "text": [
      "https://api.llama.fi/protocol/dodo\n"
     ]
    },
    {
     "name": "stderr",
     "output_type": "stream",
     "text": [
      "DEBUG:urllib3.connectionpool:https://api.llama.fi:443 \"GET /protocol/neutrino HTTP/1.1\" 200 99479\n",
      "DEBUG:urllib3.connectionpool:https://api.llama.fi:443 \"GET /protocol/kava-lend HTTP/1.1\" 200 549916\n"
     ]
    },
    {
     "name": "stdout",
     "output_type": "stream",
     "text": [
      "https://api.llama.fi/protocol/neutrino\n",
      "https://api.llama.fi/protocol/kava-lend\n"
     ]
    },
    {
     "name": "stderr",
     "output_type": "stream",
     "text": [
      "DEBUG:urllib3.connectionpool:https://api.llama.fi:443 \"GET /protocol/set-protocol HTTP/1.1\" 307 0\n",
      "DEBUG:urllib3.connectionpool:https://defillama-datasets.s3.eu-central-1.amazonaws.com:443 \"GET /temp/protocol-Set%20Protocol.json HTTP/1.1\" 200 8397263\n",
      "DEBUG:urllib3.connectionpool:https://api.llama.fi:443 \"GET /protocol/stakehound HTTP/1.1\" 200 180294\n"
     ]
    },
    {
     "name": "stdout",
     "output_type": "stream",
     "text": [
      "https://api.llama.fi/protocol/set-protocol\n",
      "https://api.llama.fi/protocol/stakehound\n"
     ]
    },
    {
     "name": "stderr",
     "output_type": "stream",
     "text": [
      "DEBUG:urllib3.connectionpool:https://api.llama.fi:443 \"GET /protocol/sunny HTTP/1.1\" 200 514376\n",
      "DEBUG:urllib3.connectionpool:https://api.llama.fi:443 \"GET /protocol/allbridge HTTP/1.1\" 200 1791336\n"
     ]
    },
    {
     "name": "stdout",
     "output_type": "stream",
     "text": [
      "https://api.llama.fi/protocol/sunny\n",
      "https://api.llama.fi/protocol/allbridge\n"
     ]
    },
    {
     "name": "stderr",
     "output_type": "stream",
     "text": [
      "DEBUG:urllib3.connectionpool:https://api.llama.fi:443 \"GET /protocol/ankr HTTP/1.1\" 200 323686\n",
      "DEBUG:urllib3.connectionpool:https://api.llama.fi:443 \"GET /protocol/badger-dao HTTP/1.1\" 200 100537\n",
      "DEBUG:urllib3.connectionpool:https://api.llama.fi:443 \"GET /protocol/dxsale HTTP/1.1\" 200 226513\n"
     ]
    },
    {
     "name": "stdout",
     "output_type": "stream",
     "text": [
      "https://api.llama.fi/protocol/ankr\n",
      "https://api.llama.fi/protocol/badger-dao\n",
      "https://api.llama.fi/protocol/dxsale\n"
     ]
    },
    {
     "name": "stderr",
     "output_type": "stream",
     "text": [
      "DEBUG:urllib3.connectionpool:https://api.llama.fi:443 \"GET /protocol/ferro HTTP/1.1\" 200 48834\n",
      "DEBUG:urllib3.connectionpool:https://api.llama.fi:443 \"GET /protocol/terra-bridge HTTP/1.1\" 200 257099\n",
      "DEBUG:urllib3.connectionpool:https://api.llama.fi:443 \"GET /protocol/lightning-network HTTP/1.1\" 200 113882\n",
      "DEBUG:urllib3.connectionpool:https://api.llama.fi:443 \"GET /protocol/notional HTTP/1.1\" 200 352286\n",
      "DEBUG:urllib3.connectionpool:https://api.llama.fi:443 \"GET /protocol/vector-finance HTTP/1.1\" 200 314763\n"
     ]
    },
    {
     "name": "stdout",
     "output_type": "stream",
     "text": [
      "https://api.llama.fi/protocol/ferro\n",
      "https://api.llama.fi/protocol/terra-bridge\n",
      "https://api.llama.fi/protocol/lightning-network\n",
      "https://api.llama.fi/protocol/notional\n"
     ]
    },
    {
     "name": "stderr",
     "output_type": "stream",
     "text": [
      "DEBUG:urllib3.connectionpool:https://api.llama.fi:443 \"GET /protocol/sablier-finance HTTP/1.1\" 200 2120005\n"
     ]
    },
    {
     "name": "stdout",
     "output_type": "stream",
     "text": [
      "https://api.llama.fi/protocol/vector-finance\n"
     ]
    },
    {
     "name": "stderr",
     "output_type": "stream",
     "text": [
      "DEBUG:urllib3.connectionpool:https://api.llama.fi:443 \"GET /protocol/bastion HTTP/1.1\" 200 283991\n",
      "DEBUG:urllib3.connectionpool:https://api.llama.fi:443 \"GET /protocol/tranchess HTTP/1.1\" 200 246366\n",
      "DEBUG:urllib3.connectionpool:https://api.llama.fi:443 \"GET /protocol/opyn HTTP/1.1\" 200 539886\n"
     ]
    },
    {
     "name": "stdout",
     "output_type": "stream",
     "text": [
      "https://api.llama.fi/protocol/sablier-finance\n",
      "https://api.llama.fi/protocol/bastion\n",
      "https://api.llama.fi/protocol/tranchess\n"
     ]
    },
    {
     "name": "stderr",
     "output_type": "stream",
     "text": [
      "DEBUG:urllib3.connectionpool:https://api.llama.fi:443 \"GET /protocol/concentrator HTTP/1.1\" 200 248626\n",
      "DEBUG:urllib3.connectionpool:https://api.llama.fi:443 \"GET /protocol/tokemak HTTP/1.1\" 200 722537\n"
     ]
    },
    {
     "name": "stdout",
     "output_type": "stream",
     "text": [
      "https://api.llama.fi/protocol/opyn\n",
      "https://api.llama.fi/protocol/concentrator\n",
      "https://api.llama.fi/protocol/tokemak\n"
     ]
    },
    {
     "name": "stderr",
     "output_type": "stream",
     "text": [
      "DEBUG:urllib3.connectionpool:https://api.llama.fi:443 \"GET /protocol/radiant HTTP/1.1\" 200 33741\n",
      "DEBUG:urllib3.connectionpool:https://api.llama.fi:443 \"GET /protocol/mm-finance HTTP/1.1\" 200 421295\n",
      "DEBUG:urllib3.connectionpool:https://api.llama.fi:443 \"GET /protocol/acala-dollar HTTP/1.1\" 200 16916\n",
      "DEBUG:urllib3.connectionpool:https://api.llama.fi:443 \"GET /protocol/algofi HTTP/1.1\" 200 216062\n",
      "DEBUG:urllib3.connectionpool:https://api.llama.fi:443 \"GET /protocol/temple-dao HTTP/1.1\" 200 248025\n"
     ]
    },
    {
     "name": "stdout",
     "output_type": "stream",
     "text": [
      "https://api.llama.fi/protocol/radiant\n",
      "https://api.llama.fi/protocol/mm-finance\n",
      "https://api.llama.fi/protocol/acala-dollar\n",
      "https://api.llama.fi/protocol/algofi\n"
     ]
    },
    {
     "name": "stderr",
     "output_type": "stream",
     "text": [
      "DEBUG:urllib3.connectionpool:https://api.llama.fi:443 \"GET /protocol/index-coop HTTP/1.1\" 200 367880\n",
      "DEBUG:urllib3.connectionpool:https://api.llama.fi:443 \"GET /protocol/wrapped-bnb HTTP/1.1\" 200 48818\n",
      "DEBUG:urllib3.connectionpool:https://api.llama.fi:443 \"GET /protocol/idle-finance HTTP/1.1\" 200 404024\n"
     ]
    },
    {
     "name": "stdout",
     "output_type": "stream",
     "text": [
      "https://api.llama.fi/protocol/temple-dao\n",
      "https://api.llama.fi/protocol/index-coop\n",
      "https://api.llama.fi/protocol/wrapped-bnb\n",
      "https://api.llama.fi/protocol/idle-finance\n"
     ]
    },
    {
     "name": "stderr",
     "output_type": "stream",
     "text": [
      "DEBUG:urllib3.connectionpool:https://api.llama.fi:443 \"GET /protocol/chainport HTTP/1.1\" 200 28280\n",
      "DEBUG:urllib3.connectionpool:https://api.llama.fi:443 \"GET /protocol/folks-finance HTTP/1.1\" 200 76678\n",
      "DEBUG:urllib3.connectionpool:https://api.llama.fi:443 \"GET /protocol/ellipsis-finance HTTP/1.1\" 200 202618\n"
     ]
    },
    {
     "name": "stdout",
     "output_type": "stream",
     "text": [
      "https://api.llama.fi/protocol/chainport\n",
      "https://api.llama.fi/protocol/folks-finance\n",
      "https://api.llama.fi/protocol/ellipsis-finance\n"
     ]
    },
    {
     "name": "stderr",
     "output_type": "stream",
     "text": [
      "DEBUG:urllib3.connectionpool:https://api.llama.fi:443 \"GET /protocol/orca HTTP/1.1\" 200 195001\n",
      "DEBUG:urllib3.connectionpool:https://api.llama.fi:443 \"GET /protocol/ribbon-finance HTTP/1.1\" 200 411599\n",
      "DEBUG:urllib3.connectionpool:https://api.llama.fi:443 \"GET /protocol/katana-dex HTTP/1.1\" 200 137637\n",
      "DEBUG:urllib3.connectionpool:https://api.llama.fi:443 \"GET /protocol/saber HTTP/1.1\" 200 685579\n"
     ]
    },
    {
     "name": "stdout",
     "output_type": "stream",
     "text": [
      "https://api.llama.fi/protocol/orca\n",
      "https://api.llama.fi/protocol/ribbon-finance\n",
      "https://api.llama.fi/protocol/katana-dex\n"
     ]
    },
    {
     "name": "stderr",
     "output_type": "stream",
     "text": [
      "DEBUG:urllib3.connectionpool:https://api.llama.fi:443 \"GET /protocol/qidao HTTP/1.1\" 200 1334666\n"
     ]
    },
    {
     "name": "stdout",
     "output_type": "stream",
     "text": [
      "https://api.llama.fi/protocol/saber\n",
      "https://api.llama.fi/protocol/qidao\n"
     ]
    },
    {
     "name": "stderr",
     "output_type": "stream",
     "text": [
      "DEBUG:urllib3.connectionpool:https://api.llama.fi:443 \"GET /protocol/angle HTTP/1.1\" 200 222868\n",
      "DEBUG:urllib3.connectionpool:https://api.llama.fi:443 \"GET /protocol/yeti-finance HTTP/1.1\" 200 104142\n",
      "DEBUG:urllib3.connectionpool:https://api.llama.fi:443 \"GET /protocol/benddao HTTP/1.1\" 200 61467\n"
     ]
    },
    {
     "name": "stdout",
     "output_type": "stream",
     "text": [
      "https://api.llama.fi/protocol/angle\n",
      "https://api.llama.fi/protocol/yeti-finance\n",
      "https://api.llama.fi/protocol/benddao\n"
     ]
    },
    {
     "name": "stderr",
     "output_type": "stream",
     "text": [
      "DEBUG:urllib3.connectionpool:https://api.llama.fi:443 \"GET /protocol/parallel-daofi HTTP/1.1\" 502 36\n",
      "DEBUG:urllib3.connectionpool:https://api.llama.fi:443 \"GET /protocol/meshswap HTTP/1.1\" 200 63554\n"
     ]
    },
    {
     "name": "stdout",
     "output_type": "stream",
     "text": [
      "err\n",
      "https://api.llama.fi/protocol/meshswap\n"
     ]
    },
    {
     "name": "stderr",
     "output_type": "stream",
     "text": [
      "DEBUG:urllib3.connectionpool:https://api.llama.fi:443 \"GET /protocol/parallel-lending HTTP/1.1\" 502 36\n",
      "DEBUG:urllib3.connectionpool:https://api.llama.fi:443 \"GET /protocol/stader HTTP/1.1\" 200 152068\n",
      "DEBUG:urllib3.connectionpool:https://api.llama.fi:443 \"GET /protocol/yield-yak HTTP/1.1\" 200 1700266\n"
     ]
    },
    {
     "name": "stdout",
     "output_type": "stream",
     "text": [
      "err\n",
      "https://api.llama.fi/protocol/stader\n"
     ]
    },
    {
     "name": "stderr",
     "output_type": "stream",
     "text": [
      "DEBUG:urllib3.connectionpool:https://api.llama.fi:443 \"GET /protocol/beethoven-x HTTP/1.1\" 200 109629\n",
      "DEBUG:urllib3.connectionpool:https://api.llama.fi:443 \"GET /protocol/bifrost HTTP/1.1\" 200 86896\n"
     ]
    },
    {
     "name": "stdout",
     "output_type": "stream",
     "text": [
      "https://api.llama.fi/protocol/yield-yak\n",
      "https://api.llama.fi/protocol/beethoven-x\n",
      "https://api.llama.fi/protocol/bifrost\n"
     ]
    },
    {
     "name": "stderr",
     "output_type": "stream",
     "text": [
      "DEBUG:urllib3.connectionpool:https://api.llama.fi:443 \"GET /protocol/apeswap-amm HTTP/1.1\" 307 0\n",
      "DEBUG:urllib3.connectionpool:Resetting dropped connection: defillama-datasets.s3.eu-central-1.amazonaws.com\n",
      "DEBUG:urllib3.connectionpool:https://defillama-datasets.s3.eu-central-1.amazonaws.com:443 \"GET /temp/protocol-ApeSwap%20AMM.json HTTP/1.1\" 200 15281148\n"
     ]
    },
    {
     "name": "stdout",
     "output_type": "stream",
     "text": [
      "https://api.llama.fi/protocol/apeswap-amm\n"
     ]
    },
    {
     "name": "stderr",
     "output_type": "stream",
     "text": [
      "DEBUG:urllib3.connectionpool:https://api.llama.fi:443 \"GET /protocol/francium HTTP/1.1\" 200 35106\n",
      "DEBUG:urllib3.connectionpool:https://api.llama.fi:443 \"GET /protocol/pnetwork HTTP/1.1\" 200 467573\n"
     ]
    },
    {
     "name": "stdout",
     "output_type": "stream",
     "text": [
      "https://api.llama.fi/protocol/francium\n",
      "https://api.llama.fi/protocol/pnetwork\n"
     ]
    },
    {
     "name": "stderr",
     "output_type": "stream",
     "text": [
      "DEBUG:urllib3.connectionpool:https://api.llama.fi:443 \"GET /protocol/homora HTTP/1.1\" 200 586118\n",
      "DEBUG:urllib3.connectionpool:https://api.llama.fi:443 \"GET /protocol/burrow HTTP/1.1\" 200 323133\n",
      "DEBUG:urllib3.connectionpool:https://api.llama.fi:443 \"GET /protocol/eos-rex HTTP/1.1\" 200 54055\n"
     ]
    },
    {
     "name": "stdout",
     "output_type": "stream",
     "text": [
      "https://api.llama.fi/protocol/homora\n",
      "https://api.llama.fi/protocol/burrow\n",
      "https://api.llama.fi/protocol/eos-rex\n"
     ]
    },
    {
     "name": "stderr",
     "output_type": "stream",
     "text": [
      "DEBUG:urllib3.connectionpool:https://api.llama.fi:443 \"GET /protocol/shibaswap HTTP/1.1\" 200 3152128\n",
      "DEBUG:urllib3.connectionpool:https://api.llama.fi:443 \"GET /protocol/acala-liquid-staking HTTP/1.1\" 200 16899\n",
      "DEBUG:urllib3.connectionpool:https://api.llama.fi:443 \"GET /protocol/nomiswap HTTP/1.1\" 200 245893\n",
      "DEBUG:urllib3.connectionpool:https://api.llama.fi:443 \"GET /protocol/pooltogether HTTP/1.1\" 200 1562337\n"
     ]
    },
    {
     "name": "stdout",
     "output_type": "stream",
     "text": [
      "https://api.llama.fi/protocol/shibaswap\n",
      "https://api.llama.fi/protocol/acala-liquid-staking\n",
      "https://api.llama.fi/protocol/nomiswap\n"
     ]
    },
    {
     "name": "stderr",
     "output_type": "stream",
     "text": [
      "DEBUG:urllib3.connectionpool:https://api.llama.fi:443 \"GET /protocol/autofarm HTTP/1.1\" 200 254983\n",
      "DEBUG:urllib3.connectionpool:https://api.llama.fi:443 \"GET /protocol/bunny HTTP/1.1\" 200 210577\n"
     ]
    },
    {
     "name": "stdout",
     "output_type": "stream",
     "text": [
      "https://api.llama.fi/protocol/pooltogether\n",
      "https://api.llama.fi/protocol/autofarm\n",
      "https://api.llama.fi/protocol/bunny\n"
     ]
    },
    {
     "name": "stderr",
     "output_type": "stream",
     "text": [
      "DEBUG:urllib3.connectionpool:https://api.llama.fi:443 \"GET /protocol/injective HTTP/1.1\" 200 161683\n",
      "DEBUG:urllib3.connectionpool:https://api.llama.fi:443 \"GET /protocol/across HTTP/1.1\" 200 159084\n",
      "DEBUG:urllib3.connectionpool:https://api.llama.fi:443 \"GET /protocol/fei-protocol HTTP/1.1\" 200 393076\n",
      "DEBUG:urllib3.connectionpool:https://api.llama.fi:443 \"GET /protocol/flamincome HTTP/1.1\" 200 87822\n",
      "DEBUG:urllib3.connectionpool:https://api.llama.fi:443 \"GET /protocol/cream-finance HTTP/1.1\" 200 4133469\n"
     ]
    },
    {
     "name": "stdout",
     "output_type": "stream",
     "text": [
      "https://api.llama.fi/protocol/injective\n",
      "https://api.llama.fi/protocol/across\n",
      "https://api.llama.fi/protocol/fei-protocol\n",
      "https://api.llama.fi/protocol/flamincome\n",
      "https://api.llama.fi/protocol/cream-finance\n"
     ]
    },
    {
     "name": "stderr",
     "output_type": "stream",
     "text": [
      "DEBUG:urllib3.connectionpool:https://api.llama.fi:443 \"GET /protocol/geist-finance HTTP/1.1\" 200 704463\n",
      "DEBUG:urllib3.connectionpool:https://api.llama.fi:443 \"GET /protocol/kyberswap HTTP/1.1\" 200 4006401\n"
     ]
    },
    {
     "name": "stdout",
     "output_type": "stream",
     "text": [
      "https://api.llama.fi/protocol/geist-finance\n",
      "https://api.llama.fi/protocol/kyberswap\n"
     ]
    },
    {
     "name": "stderr",
     "output_type": "stream",
     "text": [
      "DEBUG:urllib3.connectionpool:https://api.llama.fi:443 \"GET /protocol/flamingo-finance HTTP/1.1\" 200 60804\n"
     ]
    },
    {
     "name": "stdout",
     "output_type": "stream",
     "text": [
      "https://api.llama.fi/protocol/flamingo-finance\n"
     ]
    },
    {
     "name": "stderr",
     "output_type": "stream",
     "text": [
      "DEBUG:urllib3.connectionpool:https://api.llama.fi:443 \"GET /protocol/iotube HTTP/1.1\" 200 54437\n",
      "DEBUG:urllib3.connectionpool:https://api.llama.fi:443 \"GET /protocol/hop-protocol HTTP/1.1\" 200 730562\n",
      "DEBUG:urllib3.connectionpool:https://api.llama.fi:443 \"GET /protocol/klima-dao HTTP/1.1\" 200 242945\n"
     ]
    },
    {
     "name": "stdout",
     "output_type": "stream",
     "text": [
      "https://api.llama.fi/protocol/iotube\n",
      "https://api.llama.fi/protocol/hop-protocol\n"
     ]
    },
    {
     "name": "stderr",
     "output_type": "stream",
     "text": [
      "DEBUG:urllib3.connectionpool:https://api.llama.fi:443 \"GET /protocol/reflexer HTTP/1.1\" 200 168300\n"
     ]
    },
    {
     "name": "stdout",
     "output_type": "stream",
     "text": [
      "https://api.llama.fi/protocol/klima-dao\n",
      "https://api.llama.fi/protocol/reflexer\n"
     ]
    },
    {
     "name": "stderr",
     "output_type": "stream",
     "text": [
      "DEBUG:urllib3.connectionpool:https://api.llama.fi:443 \"GET /protocol/defichain-loans HTTP/1.1\" 502 36\n",
      "DEBUG:urllib3.connectionpool:https://api.llama.fi:443 \"GET /protocol/tomb-finance HTTP/1.1\" 200 1440553\n"
     ]
    },
    {
     "name": "stdout",
     "output_type": "stream",
     "text": [
      "err\n",
      "https://api.llama.fi/protocol/tomb-finance\n"
     ]
    },
    {
     "name": "stderr",
     "output_type": "stream",
     "text": [
      "DEBUG:urllib3.connectionpool:https://api.llama.fi:443 \"GET /protocol/friktion HTTP/1.1\" 200 387861\n",
      "DEBUG:urllib3.connectionpool:https://api.llama.fi:443 \"GET /protocol/kokonut-swap HTTP/1.1\" 200 50661\n",
      "DEBUG:urllib3.connectionpool:https://api.llama.fi:443 \"GET /protocol/minswap HTTP/1.1\" 200 54756\n",
      "DEBUG:urllib3.connectionpool:https://api.llama.fi:443 \"GET /protocol/realt HTTP/1.1\" 200 85215\n",
      "DEBUG:urllib3.connectionpool:https://api.llama.fi:443 \"GET /protocol/enzyme-finance HTTP/1.1\" 200 2697572\n"
     ]
    },
    {
     "name": "stdout",
     "output_type": "stream",
     "text": [
      "https://api.llama.fi/protocol/friktion\n",
      "https://api.llama.fi/protocol/kokonut-swap\n",
      "https://api.llama.fi/protocol/minswap\n",
      "https://api.llama.fi/protocol/realt\n"
     ]
    },
    {
     "name": "stderr",
     "output_type": "stream",
     "text": [
      "DEBUG:urllib3.connectionpool:https://api.llama.fi:443 \"GET /protocol/meta-pool HTTP/1.1\" 200 104687\n",
      "DEBUG:urllib3.connectionpool:https://api.llama.fi:443 \"GET /protocol/rari-capital HTTP/1.1\" 200 1753285\n"
     ]
    },
    {
     "name": "stdout",
     "output_type": "stream",
     "text": [
      "https://api.llama.fi/protocol/enzyme-finance\n",
      "https://api.llama.fi/protocol/meta-pool\n",
      "https://api.llama.fi/protocol/rari-capital\n"
     ]
    },
    {
     "name": "stderr",
     "output_type": "stream",
     "text": [
      "DEBUG:urllib3.connectionpool:https://api.llama.fi:443 \"GET /protocol/mstable HTTP/1.1\" 200 676011\n",
      "DEBUG:urllib3.connectionpool:https://api.llama.fi:443 \"GET /protocol/origin-dollar HTTP/1.1\" 200 230069\n",
      "DEBUG:urllib3.connectionpool:https://api.llama.fi:443 \"GET /protocol/pangolin HTTP/1.1\" 200 178794\n",
      "DEBUG:urllib3.connectionpool:https://api.llama.fi:443 \"GET /protocol/trisolaris HTTP/1.1\" 200 152830\n",
      "DEBUG:urllib3.connectionpool:https://api.llama.fi:443 \"GET /protocol/wing-finance HTTP/1.1\" 200 331528\n"
     ]
    },
    {
     "name": "stdout",
     "output_type": "stream",
     "text": [
      "https://api.llama.fi/protocol/mstable\n",
      "https://api.llama.fi/protocol/origin-dollar\n",
      "https://api.llama.fi/protocol/pangolin\n",
      "https://api.llama.fi/protocol/trisolaris\n"
     ]
    },
    {
     "name": "stderr",
     "output_type": "stream",
     "text": [
      "DEBUG:urllib3.connectionpool:https://api.llama.fi:443 \"GET /protocol/element-finance HTTP/1.1\" 200 793102\n",
      "DEBUG:urllib3.connectionpool:https://api.llama.fi:443 \"GET /protocol/klap HTTP/1.1\" 200 68948\n"
     ]
    },
    {
     "name": "stdout",
     "output_type": "stream",
     "text": [
      "https://api.llama.fi/protocol/wing-finance\n",
      "https://api.llama.fi/protocol/element-finance\n",
      "https://api.llama.fi/protocol/klap\n"
     ]
    },
    {
     "name": "stderr",
     "output_type": "stream",
     "text": [
      "DEBUG:urllib3.connectionpool:https://api.llama.fi:443 \"GET /protocol/mojitoswap HTTP/1.1\" 200 149641\n",
      "DEBUG:urllib3.connectionpool:https://api.llama.fi:443 \"GET /protocol/saddle-finance HTTP/1.1\" 200 642737\n",
      "DEBUG:urllib3.connectionpool:https://api.llama.fi:443 \"GET /protocol/jpool HTTP/1.1\" 200 72213\n",
      "DEBUG:urllib3.connectionpool:https://api.llama.fi:443 \"GET /protocol/octus-bridge HTTP/1.1\" 200 336777\n"
     ]
    },
    {
     "name": "stdout",
     "output_type": "stream",
     "text": [
      "https://api.llama.fi/protocol/mojitoswap\n",
      "https://api.llama.fi/protocol/saddle-finance\n",
      "https://api.llama.fi/protocol/jpool\n"
     ]
    },
    {
     "name": "stderr",
     "output_type": "stream",
     "text": [
      "DEBUG:urllib3.connectionpool:https://api.llama.fi:443 \"GET /protocol/puddingswap HTTP/1.1\" 200 35220\n",
      "DEBUG:urllib3.connectionpool:https://api.llama.fi:443 \"GET /protocol/moonwell-apollo HTTP/1.1\" 200 131578\n",
      "DEBUG:urllib3.connectionpool:https://api.llama.fi:443 \"GET /protocol/belt-finance HTTP/1.1\" 200 560080\n"
     ]
    },
    {
     "name": "stdout",
     "output_type": "stream",
     "text": [
      "https://api.llama.fi/protocol/octus-bridge\n",
      "https://api.llama.fi/protocol/puddingswap\n",
      "https://api.llama.fi/protocol/moonwell-apollo\n",
      "https://api.llama.fi/protocol/belt-finance\n"
     ]
    },
    {
     "name": "stderr",
     "output_type": "stream",
     "text": [
      "DEBUG:urllib3.connectionpool:https://api.llama.fi:443 \"GET /protocol/toucan-protocol HTTP/1.1\" 200 3305\n",
      "DEBUG:urllib3.connectionpool:https://api.llama.fi:443 \"GET /protocol/spool-protocol HTTP/1.1\" 200 86515\n"
     ]
    },
    {
     "name": "stdout",
     "output_type": "stream",
     "text": [
      "https://api.llama.fi/protocol/toucan-protocol\n",
      "https://api.llama.fi/protocol/spool-protocol\n"
     ]
    },
    {
     "name": "stderr",
     "output_type": "stream",
     "text": [
      "DEBUG:urllib3.connectionpool:https://api.llama.fi:443 \"GET /protocol/flatqube HTTP/1.1\" 502 36\n",
      "DEBUG:urllib3.connectionpool:https://api.llama.fi:443 \"GET /protocol/dot-dot-finance HTTP/1.1\" 200 42400\n",
      "DEBUG:urllib3.connectionpool:https://api.llama.fi:443 \"GET /protocol/valas-finance HTTP/1.1\" 200 350569\n",
      "DEBUG:urllib3.connectionpool:https://api.llama.fi:443 \"GET /protocol/vesper HTTP/1.1\" 200 489053\n"
     ]
    },
    {
     "name": "stdout",
     "output_type": "stream",
     "text": [
      "err\n",
      "https://api.llama.fi/protocol/dot-dot-finance\n",
      "https://api.llama.fi/protocol/valas-finance\n"
     ]
    },
    {
     "name": "stderr",
     "output_type": "stream",
     "text": [
      "DEBUG:urllib3.connectionpool:https://api.llama.fi:443 \"GET /protocol/babyswap HTTP/1.1\" 200 1468258\n"
     ]
    },
    {
     "name": "stdout",
     "output_type": "stream",
     "text": [
      "https://api.llama.fi/protocol/vesper\n",
      "https://api.llama.fi/protocol/babyswap\n"
     ]
    },
    {
     "name": "stderr",
     "output_type": "stream",
     "text": [
      "DEBUG:urllib3.connectionpool:https://api.llama.fi:443 \"GET /protocol/larix HTTP/1.1\" 200 347800\n",
      "DEBUG:urllib3.connectionpool:https://api.llama.fi:443 \"GET /protocol/moneyonchain HTTP/1.1\" 200 61528\n",
      "DEBUG:urllib3.connectionpool:https://api.llama.fi:443 \"GET /protocol/knightswap-finance HTTP/1.1\" 200 1003571\n"
     ]
    },
    {
     "name": "stdout",
     "output_type": "stream",
     "text": [
      "https://api.llama.fi/protocol/larix\n",
      "https://api.llama.fi/protocol/moneyonchain\n",
      "https://api.llama.fi/protocol/knightswap-finance\n"
     ]
    },
    {
     "name": "stderr",
     "output_type": "stream",
     "text": [
      "DEBUG:urllib3.connectionpool:https://api.llama.fi:443 \"GET /protocol/swim-protocol HTTP/1.1\" 200 84188\n"
     ]
    },
    {
     "name": "stdout",
     "output_type": "stream",
     "text": [
      "https://api.llama.fi/protocol/swim-protocol\n"
     ]
    },
    {
     "name": "stderr",
     "output_type": "stream",
     "text": [
      "DEBUG:urllib3.connectionpool:https://api.llama.fi:443 \"GET /protocol/spiritswap HTTP/1.1\" 307 0\n",
      "DEBUG:urllib3.connectionpool:Resetting dropped connection: defillama-datasets.s3.eu-central-1.amazonaws.com\n",
      "DEBUG:urllib3.connectionpool:https://defillama-datasets.s3.eu-central-1.amazonaws.com:443 \"GET /temp/protocol-SpiritSwap.json HTTP/1.1\" 200 69942503\n"
     ]
    },
    {
     "name": "stdout",
     "output_type": "stream",
     "text": [
      "https://api.llama.fi/protocol/spiritswap\n"
     ]
    },
    {
     "name": "stderr",
     "output_type": "stream",
     "text": [
      "DEBUG:urllib3.connectionpool:https://api.llama.fi:443 \"GET /protocol/tokensfarm HTTP/1.1\" 200 103216\n",
      "DEBUG:urllib3.connectionpool:https://api.llama.fi:443 \"GET /protocol/aave-v1 HTTP/1.1\" 200 3169795\n"
     ]
    },
    {
     "name": "stdout",
     "output_type": "stream",
     "text": [
      "https://api.llama.fi/protocol/tokensfarm\n"
     ]
    },
    {
     "name": "stderr",
     "output_type": "stream",
     "text": [
      "DEBUG:urllib3.connectionpool:https://api.llama.fi:443 \"GET /protocol/parrot-protocol HTTP/1.1\" 200 329529\n",
      "DEBUG:urllib3.connectionpool:https://api.llama.fi:443 \"GET /protocol/dforce HTTP/1.1\" 200 937142\n"
     ]
    },
    {
     "name": "stdout",
     "output_type": "stream",
     "text": [
      "https://api.llama.fi/protocol/aave-v1\n",
      "https://api.llama.fi/protocol/parrot-protocol\n"
     ]
    },
    {
     "name": "stderr",
     "output_type": "stream",
     "text": [
      "DEBUG:urllib3.connectionpool:https://api.llama.fi:443 \"GET /protocol/liquid-driver HTTP/1.1\" 200 1031940\n"
     ]
    },
    {
     "name": "stdout",
     "output_type": "stream",
     "text": [
      "https://api.llama.fi/protocol/dforce\n",
      "https://api.llama.fi/protocol/liquid-driver\n"
     ]
    },
    {
     "name": "stderr",
     "output_type": "stream",
     "text": [
      "DEBUG:urllib3.connectionpool:https://api.llama.fi:443 \"GET /protocol/klaystation HTTP/1.1\" 200 16321\n",
      "DEBUG:urllib3.connectionpool:https://api.llama.fi:443 \"GET /protocol/spartacus HTTP/1.1\" 200 215106\n",
      "DEBUG:urllib3.connectionpool:https://api.llama.fi:443 \"GET /protocol/waves-exchange HTTP/1.1\" 200 818048\n"
     ]
    },
    {
     "name": "stdout",
     "output_type": "stream",
     "text": [
      "https://api.llama.fi/protocol/klaystation\n",
      "https://api.llama.fi/protocol/spartacus\n",
      "https://api.llama.fi/protocol/waves-exchange\n"
     ]
    },
    {
     "name": "stderr",
     "output_type": "stream",
     "text": [
      "DEBUG:urllib3.connectionpool:https://api.llama.fi:443 \"GET /protocol/keep-network HTTP/1.1\" 200 123246\n",
      "DEBUG:urllib3.connectionpool:https://api.llama.fi:443 \"GET /protocol/metronome HTTP/1.1\" 200 134367\n",
      "DEBUG:urllib3.connectionpool:https://api.llama.fi:443 \"GET /protocol/dopex HTTP/1.1\" 200 620794\n"
     ]
    },
    {
     "name": "stdout",
     "output_type": "stream",
     "text": [
      "https://api.llama.fi/protocol/keep-network\n",
      "https://api.llama.fi/protocol/metronome\n",
      "https://api.llama.fi/protocol/dopex\n"
     ]
    },
    {
     "name": "stderr",
     "output_type": "stream",
     "text": [
      "DEBUG:urllib3.connectionpool:https://api.llama.fi:443 \"GET /protocol/sicx HTTP/1.1\" 200 38348\n",
      "DEBUG:urllib3.connectionpool:https://api.llama.fi:443 \"GET /protocol/hashflow HTTP/1.1\" 200 153765\n",
      "DEBUG:urllib3.connectionpool:https://api.llama.fi:443 \"GET /protocol/stafi HTTP/1.1\" 200 508392\n",
      "DEBUG:urllib3.connectionpool:https://api.llama.fi:443 \"GET /protocol/hector-network HTTP/1.1\" 200 271400\n"
     ]
    },
    {
     "name": "stdout",
     "output_type": "stream",
     "text": [
      "https://api.llama.fi/protocol/sicx\n",
      "https://api.llama.fi/protocol/hashflow\n",
      "https://api.llama.fi/protocol/stafi\n"
     ]
    },
    {
     "name": "stderr",
     "output_type": "stream",
     "text": [
      "DEBUG:urllib3.connectionpool:https://api.llama.fi:443 \"GET /protocol/nftx HTTP/1.1\" 200 206614\n",
      "DEBUG:urllib3.connectionpool:https://api.llama.fi:443 \"GET /protocol/solarbeam HTTP/1.1\" 200 236443\n",
      "DEBUG:urllib3.connectionpool:https://api.llama.fi:443 \"GET /protocol/xdao HTTP/1.1\" 200 1691432\n"
     ]
    },
    {
     "name": "stdout",
     "output_type": "stream",
     "text": [
      "https://api.llama.fi/protocol/hector-network\n",
      "https://api.llama.fi/protocol/nftx\n",
      "https://api.llama.fi/protocol/solarbeam\n"
     ]
    },
    {
     "name": "stderr",
     "output_type": "stream",
     "text": [
      "DEBUG:urllib3.connectionpool:https://api.llama.fi:443 \"GET /protocol/harvest-finance HTTP/1.1\" 200 110730\n",
      "DEBUG:urllib3.connectionpool:https://api.llama.fi:443 \"GET /protocol/liqee HTTP/1.1\" 200 155977\n",
      "DEBUG:urllib3.connectionpool:https://api.llama.fi:443 \"GET /protocol/rex-staking HTTP/1.1\" 200 80445\n"
     ]
    },
    {
     "name": "stdout",
     "output_type": "stream",
     "text": [
      "https://api.llama.fi/protocol/xdao\n",
      "https://api.llama.fi/protocol/harvest-finance\n",
      "https://api.llama.fi/protocol/liqee\n"
     ]
    },
    {
     "name": "stderr",
     "output_type": "stream",
     "text": [
      "DEBUG:urllib3.connectionpool:https://api.llama.fi:443 \"GET /protocol/hubble HTTP/1.1\" 200 93826\n",
      "DEBUG:urllib3.connectionpool:https://api.llama.fi:443 \"GET /protocol/thetaswap HTTP/1.1\" 200 73641\n",
      "DEBUG:urllib3.connectionpool:https://api.llama.fi:443 \"GET /protocol/unslashed HTTP/1.1\" 200 105893\n",
      "DEBUG:urllib3.connectionpool:https://api.llama.fi:443 \"GET /protocol/linear-protocol HTTP/1.1\" 200 31302\n"
     ]
    },
    {
     "name": "stdout",
     "output_type": "stream",
     "text": [
      "https://api.llama.fi/protocol/rex-staking\n",
      "https://api.llama.fi/protocol/hubble\n",
      "https://api.llama.fi/protocol/thetaswap\n",
      "https://api.llama.fi/protocol/unslashed\n",
      "https://api.llama.fi/protocol/linear-protocol\n"
     ]
    },
    {
     "name": "stderr",
     "output_type": "stream",
     "text": [
      "DEBUG:urllib3.connectionpool:https://api.llama.fi:443 \"GET /protocol/filda HTTP/1.1\" 200 2091176\n",
      "DEBUG:urllib3.connectionpool:https://api.llama.fi:443 \"GET /protocol/tarot HTTP/1.1\" 200 1796041\n"
     ]
    },
    {
     "name": "stdout",
     "output_type": "stream",
     "text": [
      "https://api.llama.fi/protocol/filda\n"
     ]
    },
    {
     "name": "stderr",
     "output_type": "stream",
     "text": [
      "DEBUG:urllib3.connectionpool:https://api.llama.fi:443 \"GET /protocol/acryptos HTTP/1.1\" 200 77736\n",
      "DEBUG:urllib3.connectionpool:https://api.llama.fi:443 \"GET /protocol/sharedstake HTTP/1.1\" 200 278697\n"
     ]
    },
    {
     "name": "stdout",
     "output_type": "stream",
     "text": [
      "https://api.llama.fi/protocol/tarot\n",
      "https://api.llama.fi/protocol/acryptos\n"
     ]
    },
    {
     "name": "stderr",
     "output_type": "stream",
     "text": [
      "DEBUG:urllib3.connectionpool:https://api.llama.fi:443 \"GET /protocol/rook HTTP/1.1\" 200 538019\n"
     ]
    },
    {
     "name": "stdout",
     "output_type": "stream",
     "text": [
      "https://api.llama.fi/protocol/sharedstake\n",
      "https://api.llama.fi/protocol/rook\n"
     ]
    },
    {
     "name": "stderr",
     "output_type": "stream",
     "text": [
      "DEBUG:urllib3.connectionpool:https://api.llama.fi:443 \"GET /protocol/sovryn HTTP/1.1\" 200 48308\n",
      "DEBUG:urllib3.connectionpool:https://api.llama.fi:443 \"GET /protocol/reserve HTTP/1.1\" 200 152537\n",
      "DEBUG:urllib3.connectionpool:https://api.llama.fi:443 \"GET /protocol/maple HTTP/1.1\" 200 541326\n"
     ]
    },
    {
     "name": "stdout",
     "output_type": "stream",
     "text": [
      "https://api.llama.fi/protocol/sovryn\n",
      "https://api.llama.fi/protocol/reserve\n",
      "https://api.llama.fi/protocol/maple\n"
     ]
    },
    {
     "name": "stderr",
     "output_type": "stream",
     "text": [
      "DEBUG:urllib3.connectionpool:https://api.llama.fi:443 \"GET /protocol/aldrin HTTP/1.1\" 200 82569\n",
      "DEBUG:urllib3.connectionpool:https://api.llama.fi:443 \"GET /protocol/iziswap HTTP/1.1\" 200 85861\n",
      "DEBUG:urllib3.connectionpool:https://api.llama.fi:443 \"GET /protocol/solo-top HTTP/1.1\" 200 222871\n",
      "DEBUG:urllib3.connectionpool:https://api.llama.fi:443 \"GET /protocol/echidna-finance HTTP/1.1\" 200 280292\n"
     ]
    },
    {
     "name": "stdout",
     "output_type": "stream",
     "text": [
      "https://api.llama.fi/protocol/aldrin\n",
      "https://api.llama.fi/protocol/iziswap\n",
      "https://api.llama.fi/protocol/solo-top\n"
     ]
    },
    {
     "name": "stderr",
     "output_type": "stream",
     "text": [
      "DEBUG:urllib3.connectionpool:https://api.llama.fi:443 \"GET /protocol/ooki HTTP/1.1\" 200 475964\n",
      "DEBUG:urllib3.connectionpool:https://api.llama.fi:443 \"GET /protocol/connext HTTP/1.1\" 200 1065542\n"
     ]
    },
    {
     "name": "stdout",
     "output_type": "stream",
     "text": [
      "https://api.llama.fi/protocol/echidna-finance\n",
      "https://api.llama.fi/protocol/ooki\n"
     ]
    },
    {
     "name": "stderr",
     "output_type": "stream",
     "text": [
      "DEBUG:urllib3.connectionpool:https://api.llama.fi:443 \"GET /protocol/sturdy HTTP/1.1\" 200 107188\n",
      "DEBUG:urllib3.connectionpool:https://api.llama.fi:443 \"GET /protocol/neoburger HTTP/1.1\" 200 62733\n"
     ]
    },
    {
     "name": "stdout",
     "output_type": "stream",
     "text": [
      "https://api.llama.fi/protocol/connext\n",
      "https://api.llama.fi/protocol/sturdy\n",
      "https://api.llama.fi/protocol/neoburger\n"
     ]
    },
    {
     "name": "stderr",
     "output_type": "stream",
     "text": [
      "DEBUG:urllib3.connectionpool:https://api.llama.fi:443 \"GET /protocol/defi-swap HTTP/1.1\" 200 1043496\n",
      "DEBUG:urllib3.connectionpool:https://api.llama.fi:443 \"GET /protocol/mimo-defi HTTP/1.1\" 200 294753\n"
     ]
    },
    {
     "name": "stdout",
     "output_type": "stream",
     "text": [
      "https://api.llama.fi/protocol/defi-swap\n",
      "https://api.llama.fi/protocol/mimo-defi\n"
     ]
    },
    {
     "name": "stderr",
     "output_type": "stream",
     "text": [
      "DEBUG:urllib3.connectionpool:https://api.llama.fi:443 \"GET /protocol/parallel-liquid-staking HTTP/1.1\" 200 157\n",
      "DEBUG:urllib3.connectionpool:https://api.llama.fi:443 \"GET /protocol/radioshack HTTP/1.1\" 200 591483\n",
      "DEBUG:urllib3.connectionpool:https://api.llama.fi:443 \"GET /protocol/lofty HTTP/1.1\" 200 2429\n"
     ]
    },
    {
     "name": "stdout",
     "output_type": "stream",
     "text": [
      "err\n",
      "https://api.llama.fi/protocol/radioshack\n",
      "https://api.llama.fi/protocol/lofty\n"
     ]
    },
    {
     "name": "stderr",
     "output_type": "stream",
     "text": [
      "DEBUG:urllib3.connectionpool:https://api.llama.fi:443 \"GET /protocol/aurigami HTTP/1.1\" 200 299237\n",
      "DEBUG:urllib3.connectionpool:https://api.llama.fi:443 \"GET /protocol/valleyswap HTTP/1.1\" 200 56188\n",
      "DEBUG:urllib3.connectionpool:https://api.llama.fi:443 \"GET /protocol/mm-optimizer HTTP/1.1\" 200 148374\n",
      "DEBUG:urllib3.connectionpool:https://api.llama.fi:443 \"GET /protocol/perpetual-protocol HTTP/1.1\" 200 211090\n",
      "DEBUG:urllib3.connectionpool:https://api.llama.fi:443 \"GET /protocol/moonwell-artemis HTTP/1.1\" 200 48065\n"
     ]
    },
    {
     "name": "stdout",
     "output_type": "stream",
     "text": [
      "https://api.llama.fi/protocol/aurigami\n",
      "https://api.llama.fi/protocol/valleyswap\n",
      "https://api.llama.fi/protocol/mm-optimizer\n",
      "https://api.llama.fi/protocol/perpetual-protocol\n",
      "https://api.llama.fi/protocol/moonwell-artemis\n"
     ]
    },
    {
     "name": "stderr",
     "output_type": "stream",
     "text": [
      "DEBUG:urllib3.connectionpool:https://api.llama.fi:443 \"GET /protocol/dfx-finance HTTP/1.1\" 200 435879\n",
      "DEBUG:urllib3.connectionpool:https://api.llama.fi:443 \"GET /protocol/defibox HTTP/1.1\" 200 91872\n",
      "DEBUG:urllib3.connectionpool:https://api.llama.fi:443 \"GET /protocol/superfluid HTTP/1.1\" 200 735691\n"
     ]
    },
    {
     "name": "stdout",
     "output_type": "stream",
     "text": [
      "https://api.llama.fi/protocol/dfx-finance\n",
      "https://api.llama.fi/protocol/defibox\n"
     ]
    },
    {
     "name": "stderr",
     "output_type": "stream",
     "text": [
      "DEBUG:urllib3.connectionpool:https://api.llama.fi:443 \"GET /protocol/vesta-finance HTTP/1.1\" 200 168552\n",
      "DEBUG:urllib3.connectionpool:https://api.llama.fi:443 \"GET /protocol/thetanuts-finance HTTP/1.1\" 200 493973\n"
     ]
    },
    {
     "name": "stdout",
     "output_type": "stream",
     "text": [
      "https://api.llama.fi/protocol/superfluid\n",
      "https://api.llama.fi/protocol/vesta-finance\n",
      "https://api.llama.fi/protocol/thetanuts-finance\n"
     ]
    },
    {
     "name": "stderr",
     "output_type": "stream",
     "text": [
      "DEBUG:urllib3.connectionpool:https://api.llama.fi:443 \"GET /protocol/sherlock HTTP/1.1\" 200 116400\n",
      "DEBUG:urllib3.connectionpool:https://api.llama.fi:443 \"GET /protocol/lyra HTTP/1.1\" 200 285310\n",
      "DEBUG:urllib3.connectionpool:https://api.llama.fi:443 \"GET /protocol/fantohm HTTP/1.1\" 200 580093\n"
     ]
    },
    {
     "name": "stdout",
     "output_type": "stream",
     "text": [
      "https://api.llama.fi/protocol/sherlock\n",
      "https://api.llama.fi/protocol/lyra\n",
      "https://api.llama.fi/protocol/fantohm\n"
     ]
    },
    {
     "name": "stderr",
     "output_type": "stream",
     "text": [
      "DEBUG:urllib3.connectionpool:https://api.llama.fi:443 \"GET /protocol/bifi HTTP/1.1\" 200 1048943\n",
      "DEBUG:urllib3.connectionpool:https://api.llama.fi:443 \"GET /protocol/sundaeswap HTTP/1.1\" 200 67875\n",
      "DEBUG:urllib3.connectionpool:https://api.llama.fi:443 \"GET /protocol/insurace HTTP/1.1\" 200 756657\n"
     ]
    },
    {
     "name": "stdout",
     "output_type": "stream",
     "text": [
      "https://api.llama.fi/protocol/bifi\n",
      "https://api.llama.fi/protocol/sundaeswap\n",
      "https://api.llama.fi/protocol/insurace\n"
     ]
    },
    {
     "name": "stderr",
     "output_type": "stream",
     "text": [
      "DEBUG:urllib3.connectionpool:https://api.llama.fi:443 \"GET /protocol/wanswap-dex HTTP/1.1\" 200 53972\n",
      "DEBUG:urllib3.connectionpool:https://api.llama.fi:443 \"GET /protocol/uxd HTTP/1.1\" 200 54020\n",
      "DEBUG:urllib3.connectionpool:https://api.llama.fi:443 \"GET /protocol/wingriders HTTP/1.1\" 200 43253\n",
      "DEBUG:urllib3.connectionpool:https://api.llama.fi:443 \"GET /protocol/apeswap-lending HTTP/1.1\" 200 10255\n",
      "DEBUG:urllib3.connectionpool:https://api.llama.fi:443 \"GET /protocol/the-tokenized-bitcoin HTTP/1.1\" 200 85647\n"
     ]
    },
    {
     "name": "stdout",
     "output_type": "stream",
     "text": [
      "https://api.llama.fi/protocol/wanswap-dex\n",
      "https://api.llama.fi/protocol/uxd\n",
      "https://api.llama.fi/protocol/wingriders\n",
      "https://api.llama.fi/protocol/apeswap-lending\n",
      "https://api.llama.fi/protocol/the-tokenized-bitcoin\n"
     ]
    },
    {
     "name": "stderr",
     "output_type": "stream",
     "text": [
      "DEBUG:urllib3.connectionpool:https://api.llama.fi:443 \"GET /protocol/astroport HTTP/1.1\" 200 77218\n",
      "DEBUG:urllib3.connectionpool:https://api.llama.fi:443 \"GET /protocol/kokoa-finance HTTP/1.1\" 200 90333\n",
      "DEBUG:urllib3.connectionpool:https://api.llama.fi:443 \"GET /protocol/dystopia HTTP/1.1\" 200 192427\n",
      "DEBUG:urllib3.connectionpool:https://api.llama.fi:443 \"GET /protocol/tezos-liquidity-baking HTTP/1.1\" 200 139193\n"
     ]
    },
    {
     "name": "stdout",
     "output_type": "stream",
     "text": [
      "https://api.llama.fi/protocol/astroport\n",
      "https://api.llama.fi/protocol/kokoa-finance\n",
      "https://api.llama.fi/protocol/dystopia\n",
      "https://api.llama.fi/protocol/tezos-liquidity-baking\n"
     ]
    },
    {
     "name": "stderr",
     "output_type": "stream",
     "text": [
      "DEBUG:urllib3.connectionpool:https://api.llama.fi:443 \"GET /protocol/reaper-farm HTTP/1.1\" 200 52368\n",
      "DEBUG:urllib3.connectionpool:https://api.llama.fi:443 \"GET /protocol/single-finance HTTP/1.1\" 200 395225\n",
      "DEBUG:urllib3.connectionpool:https://api.llama.fi:443 \"GET /protocol/llama-airforce HTTP/1.1\" 200 78939\n"
     ]
    },
    {
     "name": "stdout",
     "output_type": "stream",
     "text": [
      "https://api.llama.fi/protocol/reaper-farm\n",
      "https://api.llama.fi/protocol/single-finance\n",
      "https://api.llama.fi/protocol/llama-airforce\n"
     ]
    },
    {
     "name": "stderr",
     "output_type": "stream",
     "text": [
      "DEBUG:urllib3.connectionpool:https://api.llama.fi:443 \"GET /protocol/mercurial-finance HTTP/1.1\" 200 309359\n",
      "DEBUG:urllib3.connectionpool:https://api.llama.fi:443 \"GET /protocol/youves HTTP/1.1\" 200 166114\n",
      "DEBUG:urllib3.connectionpool:https://api.llama.fi:443 \"GET /protocol/stellaswap HTTP/1.1\" 200 119789\n"
     ]
    },
    {
     "name": "stdout",
     "output_type": "stream",
     "text": [
      "https://api.llama.fi/protocol/mercurial-finance\n",
      "https://api.llama.fi/protocol/youves\n",
      "https://api.llama.fi/protocol/stellaswap\n"
     ]
    },
    {
     "name": "stderr",
     "output_type": "stream",
     "text": [
      "DEBUG:urllib3.connectionpool:https://api.llama.fi:443 \"GET /protocol/karura-dollar-(kusd) HTTP/1.1\" 200 93423\n",
      "DEBUG:urllib3.connectionpool:https://api.llama.fi:443 \"GET /protocol/rhino.fi HTTP/1.1\" 200 780369\n"
     ]
    },
    {
     "name": "stdout",
     "output_type": "stream",
     "text": [
      "https://api.llama.fi/protocol/karura-dollar-(kusd)\n",
      "https://api.llama.fi/protocol/rhino.fi\n"
     ]
    },
    {
     "name": "stderr",
     "output_type": "stream",
     "text": [
      "DEBUG:urllib3.connectionpool:https://api.llama.fi:443 \"GET /protocol/outcome-finance HTTP/1.1\" 200 1083262\n",
      "DEBUG:urllib3.connectionpool:https://api.llama.fi:443 \"GET /protocol/arthswap HTTP/1.1\" 200 211899\n",
      "DEBUG:urllib3.connectionpool:https://api.llama.fi:443 \"GET /protocol/flrfarm HTTP/1.1\" 200 181885\n"
     ]
    },
    {
     "name": "stdout",
     "output_type": "stream",
     "text": [
      "https://api.llama.fi/protocol/outcome-finance\n",
      "https://api.llama.fi/protocol/arthswap\n",
      "https://api.llama.fi/protocol/flrfarm\n"
     ]
    },
    {
     "name": "stderr",
     "output_type": "stream",
     "text": [
      "DEBUG:urllib3.connectionpool:https://api.llama.fi:443 \"GET /protocol/b.protocol HTTP/1.1\" 200 604167\n",
      "DEBUG:urllib3.connectionpool:https://api.llama.fi:443 \"GET /protocol/valuedefi HTTP/1.1\" 200 91813\n",
      "DEBUG:urllib3.connectionpool:https://api.llama.fi:443 \"GET /protocol/yoshi-exchange HTTP/1.1\" 200 1464079\n"
     ]
    },
    {
     "name": "stdout",
     "output_type": "stream",
     "text": [
      "https://api.llama.fi/protocol/b.protocol\n",
      "https://api.llama.fi/protocol/valuedefi\n",
      "https://api.llama.fi/protocol/yoshi-exchange\n"
     ]
    },
    {
     "name": "stderr",
     "output_type": "stream",
     "text": [
      "DEBUG:urllib3.connectionpool:https://api.llama.fi:443 \"GET /protocol/paycash HTTP/1.1\" 200 18723\n",
      "DEBUG:urllib3.connectionpool:https://api.llama.fi:443 \"GET /protocol/alex HTTP/1.1\" 200 176402\n",
      "DEBUG:urllib3.connectionpool:https://api.llama.fi:443 \"GET /protocol/wrapped HTTP/1.1\" 200 386154\n",
      "DEBUG:urllib3.connectionpool:https://api.llama.fi:443 \"GET /protocol/netswap HTTP/1.1\" 200 78729\n"
     ]
    },
    {
     "name": "stdout",
     "output_type": "stream",
     "text": [
      "https://api.llama.fi/protocol/paycash\n",
      "https://api.llama.fi/protocol/alex\n",
      "https://api.llama.fi/protocol/wrapped\n",
      "https://api.llama.fi/protocol/netswap\n"
     ]
    },
    {
     "name": "stderr",
     "output_type": "stream",
     "text": [
      "DEBUG:urllib3.connectionpool:https://api.llama.fi:443 \"GET /protocol/defidollar-dao HTTP/1.1\" 200 205122\n",
      "DEBUG:urllib3.connectionpool:https://api.llama.fi:443 \"GET /protocol/planet HTTP/1.1\" 200 1135757\n"
     ]
    },
    {
     "name": "stdout",
     "output_type": "stream",
     "text": [
      "https://api.llama.fi/protocol/defidollar-dao\n"
     ]
    },
    {
     "name": "stderr",
     "output_type": "stream",
     "text": [
      "DEBUG:urllib3.connectionpool:https://api.llama.fi:443 \"GET /protocol/claimswap HTTP/1.1\" 200 104347\n",
      "DEBUG:urllib3.connectionpool:https://api.llama.fi:443 \"GET /protocol/strike HTTP/1.1\" 200 570420\n"
     ]
    },
    {
     "name": "stdout",
     "output_type": "stream",
     "text": [
      "https://api.llama.fi/protocol/planet\n",
      "https://api.llama.fi/protocol/claimswap\n",
      "https://api.llama.fi/protocol/strike\n"
     ]
    },
    {
     "name": "stderr",
     "output_type": "stream",
     "text": [
      "DEBUG:urllib3.connectionpool:https://api.llama.fi:443 \"GET /protocol/stellarx HTTP/1.1\" 502 36\n"
     ]
    },
    {
     "name": "stdout",
     "output_type": "stream",
     "text": [
      "err\n"
     ]
    },
    {
     "name": "stderr",
     "output_type": "stream",
     "text": [
      "DEBUG:urllib3.connectionpool:https://api.llama.fi:443 \"GET /protocol/01 HTTP/1.1\" 200 123560\n"
     ]
    },
    {
     "name": "stdout",
     "output_type": "stream",
     "text": [
      "https://api.llama.fi/protocol/01\n"
     ]
    },
    {
     "name": "stderr",
     "output_type": "stream",
     "text": [
      "DEBUG:urllib3.connectionpool:https://api.llama.fi:443 \"GET /protocol/balanced HTTP/1.1\" 502 36\n"
     ]
    },
    {
     "name": "stdout",
     "output_type": "stream",
     "text": [
      "err\n"
     ]
    },
    {
     "name": "stderr",
     "output_type": "stream",
     "text": [
      "DEBUG:urllib3.connectionpool:https://api.llama.fi:443 \"GET /protocol/deeplock HTTP/1.1\" 200 68320\n"
     ]
    },
    {
     "name": "stdout",
     "output_type": "stream",
     "text": [
      "https://api.llama.fi/protocol/deeplock\n"
     ]
    },
    {
     "name": "stderr",
     "output_type": "stream",
     "text": [
      "DEBUG:urllib3.connectionpool:https://api.llama.fi:443 \"GET /protocol/bella-protocol HTTP/1.1\" 200 155545\n"
     ]
    },
    {
     "name": "stdout",
     "output_type": "stream",
     "text": [
      "https://api.llama.fi/protocol/bella-protocol\n"
     ]
    },
    {
     "name": "stderr",
     "output_type": "stream",
     "text": [
      "DEBUG:urllib3.connectionpool:https://api.llama.fi:443 \"GET /protocol/dfyn-network HTTP/1.1\" 200 4656366\n"
     ]
    },
    {
     "name": "stdout",
     "output_type": "stream",
     "text": [
      "https://api.llama.fi/protocol/dfyn-network\n"
     ]
    },
    {
     "name": "stderr",
     "output_type": "stream",
     "text": [
      "DEBUG:urllib3.connectionpool:https://api.llama.fi:443 \"GET /protocol/omm HTTP/1.1\" 200 34580\n"
     ]
    },
    {
     "name": "stdout",
     "output_type": "stream",
     "text": [
      "https://api.llama.fi/protocol/omm\n"
     ]
    },
    {
     "name": "stderr",
     "output_type": "stream",
     "text": [
      "DEBUG:urllib3.connectionpool:https://api.llama.fi:443 \"GET /protocol/nereus-finance HTTP/1.1\" 200 118381\n"
     ]
    },
    {
     "name": "stdout",
     "output_type": "stream",
     "text": [
      "https://api.llama.fi/protocol/nereus-finance\n"
     ]
    },
    {
     "name": "stderr",
     "output_type": "stream",
     "text": [
      "DEBUG:urllib3.connectionpool:https://api.llama.fi:443 \"GET /protocol/pstake HTTP/1.1\" 200 185653\n"
     ]
    },
    {
     "name": "stdout",
     "output_type": "stream",
     "text": [
      "https://api.llama.fi/protocol/pstake\n"
     ]
    },
    {
     "name": "stderr",
     "output_type": "stream",
     "text": [
      "DEBUG:urllib3.connectionpool:https://api.llama.fi:443 \"GET /protocol/thetacash HTTP/1.1\" 200 63645\n"
     ]
    },
    {
     "name": "stdout",
     "output_type": "stream",
     "text": [
      "https://api.llama.fi/protocol/thetacash\n"
     ]
    },
    {
     "name": "stderr",
     "output_type": "stream",
     "text": [
      "DEBUG:urllib3.connectionpool:https://api.llama.fi:443 \"GET /protocol/defrost HTTP/1.1\" 200 153819\n"
     ]
    },
    {
     "name": "stdout",
     "output_type": "stream",
     "text": [
      "https://api.llama.fi/protocol/defrost\n"
     ]
    },
    {
     "name": "stderr",
     "output_type": "stream",
     "text": [
      "DEBUG:urllib3.connectionpool:https://api.llama.fi:443 \"GET /protocol/karura-liquid-staking HTTP/1.1\" 200 77523\n"
     ]
    },
    {
     "name": "stdout",
     "output_type": "stream",
     "text": [
      "https://api.llama.fi/protocol/karura-liquid-staking\n"
     ]
    },
    {
     "name": "stderr",
     "output_type": "stream",
     "text": [
      "DEBUG:urllib3.connectionpool:https://api.llama.fi:443 \"GET /protocol/izumi-finance HTTP/1.1\" 200 510309\n"
     ]
    },
    {
     "name": "stdout",
     "output_type": "stream",
     "text": [
      "https://api.llama.fi/protocol/izumi-finance\n"
     ]
    },
    {
     "name": "stderr",
     "output_type": "stream",
     "text": [
      "DEBUG:urllib3.connectionpool:https://api.llama.fi:443 \"GET /protocol/kava-swap HTTP/1.1\" 200 312018\n"
     ]
    },
    {
     "name": "stdout",
     "output_type": "stream",
     "text": [
      "https://api.llama.fi/protocol/kava-swap\n"
     ]
    },
    {
     "name": "stderr",
     "output_type": "stream",
     "text": [
      "DEBUG:urllib3.connectionpool:https://api.llama.fi:443 \"GET /protocol/secret-network HTTP/1.1\" 200 55444\n"
     ]
    },
    {
     "name": "stdout",
     "output_type": "stream",
     "text": [
      "https://api.llama.fi/protocol/secret-network\n"
     ]
    },
    {
     "name": "stderr",
     "output_type": "stream",
     "text": [
      "DEBUG:urllib3.connectionpool:https://api.llama.fi:443 \"GET /protocol/mimo HTTP/1.1\" 200 69565\n"
     ]
    },
    {
     "name": "stdout",
     "output_type": "stream",
     "text": [
      "https://api.llama.fi/protocol/mimo\n"
     ]
    },
    {
     "name": "stderr",
     "output_type": "stream",
     "text": [
      "DEBUG:urllib3.connectionpool:https://api.llama.fi:443 \"GET /protocol/penrose HTTP/1.1\" 200 134816\n"
     ]
    },
    {
     "name": "stdout",
     "output_type": "stream",
     "text": [
      "https://api.llama.fi/protocol/penrose\n"
     ]
    },
    {
     "name": "stderr",
     "output_type": "stream",
     "text": [
      "DEBUG:urllib3.connectionpool:https://api.llama.fi:443 \"GET /protocol/clipper HTTP/1.1\" 200 571432\n"
     ]
    },
    {
     "name": "stdout",
     "output_type": "stream",
     "text": [
      "https://api.llama.fi/protocol/clipper\n"
     ]
    },
    {
     "name": "stderr",
     "output_type": "stream",
     "text": [
      "DEBUG:urllib3.connectionpool:https://api.llama.fi:443 \"GET /protocol/pickle HTTP/1.1\" 200 1165635\n"
     ]
    },
    {
     "name": "stdout",
     "output_type": "stream",
     "text": [
      "https://api.llama.fi/protocol/pickle\n"
     ]
    },
    {
     "name": "stderr",
     "output_type": "stream",
     "text": [
      "DEBUG:urllib3.connectionpool:https://api.llama.fi:443 \"GET /protocol/zeta HTTP/1.1\" 200 102114\n"
     ]
    },
    {
     "name": "stdout",
     "output_type": "stream",
     "text": [
      "https://api.llama.fi/protocol/zeta\n"
     ]
    },
    {
     "name": "stderr",
     "output_type": "stream",
     "text": [
      "DEBUG:urllib3.connectionpool:https://api.llama.fi:443 \"GET /protocol/onx-finance HTTP/1.1\" 200 293492\n"
     ]
    },
    {
     "name": "stdout",
     "output_type": "stream",
     "text": [
      "https://api.llama.fi/protocol/onx-finance\n"
     ]
    },
    {
     "name": "stderr",
     "output_type": "stream",
     "text": [
      "DEBUG:urllib3.connectionpool:https://api.llama.fi:443 \"GET /protocol/swapr HTTP/1.1\" 200 268245\n"
     ]
    },
    {
     "name": "stdout",
     "output_type": "stream",
     "text": [
      "https://api.llama.fi/protocol/swapr\n"
     ]
    },
    {
     "name": "stderr",
     "output_type": "stream",
     "text": [
      "DEBUG:urllib3.connectionpool:https://api.llama.fi:443 \"GET /protocol/apollox HTTP/1.1\" 200 111075\n"
     ]
    },
    {
     "name": "stdout",
     "output_type": "stream",
     "text": [
      "https://api.llama.fi/protocol/apollox\n"
     ]
    },
    {
     "name": "stderr",
     "output_type": "stream",
     "text": [
      "DEBUG:urllib3.connectionpool:https://api.llama.fi:443 \"GET /protocol/inverse-finance HTTP/1.1\" 200 457698\n"
     ]
    },
    {
     "name": "stdout",
     "output_type": "stream",
     "text": [
      "https://api.llama.fi/protocol/inverse-finance\n"
     ]
    },
    {
     "name": "stderr",
     "output_type": "stream",
     "text": [
      "DEBUG:urllib3.connectionpool:https://api.llama.fi:443 \"GET /protocol/wepiggy HTTP/1.1\" 200 946849\n"
     ]
    },
    {
     "name": "stdout",
     "output_type": "stream",
     "text": [
      "https://api.llama.fi/protocol/wepiggy\n"
     ]
    },
    {
     "name": "stderr",
     "output_type": "stream",
     "text": [
      "DEBUG:urllib3.connectionpool:https://api.llama.fi:443 \"GET /protocol/moola-market HTTP/1.1\" 200 350518\n",
      "DEBUG:urllib3.connectionpool:https://api.llama.fi:443 \"GET /protocol/tinyman HTTP/1.1\" 200 95658\n"
     ]
    },
    {
     "name": "stdout",
     "output_type": "stream",
     "text": [
      "https://api.llama.fi/protocol/moola-market\n",
      "https://api.llama.fi/protocol/tinyman\n"
     ]
    },
    {
     "name": "stderr",
     "output_type": "stream",
     "text": [
      "DEBUG:urllib3.connectionpool:https://api.llama.fi:443 \"GET /protocol/socialswap HTTP/1.1\" 200 24688\n"
     ]
    },
    {
     "name": "stdout",
     "output_type": "stream",
     "text": [
      "https://api.llama.fi/protocol/socialswap\n"
     ]
    },
    {
     "name": "stderr",
     "output_type": "stream",
     "text": [
      "DEBUG:urllib3.connectionpool:https://api.llama.fi:443 \"GET /protocol/gearbox HTTP/1.1\" 200 178392\n"
     ]
    },
    {
     "name": "stdout",
     "output_type": "stream",
     "text": [
      "https://api.llama.fi/protocol/gearbox\n"
     ]
    },
    {
     "name": "stderr",
     "output_type": "stream",
     "text": [
      "DEBUG:urllib3.connectionpool:https://api.llama.fi:443 \"GET /protocol/dhedge HTTP/1.1\" 200 125758\n"
     ]
    },
    {
     "name": "stdout",
     "output_type": "stream",
     "text": [
      "https://api.llama.fi/protocol/dhedge\n"
     ]
    },
    {
     "name": "stderr",
     "output_type": "stream",
     "text": [
      "DEBUG:urllib3.connectionpool:https://api.llama.fi:443 \"GET /protocol/yield-protocol HTTP/1.1\" 200 248651\n"
     ]
    },
    {
     "name": "stdout",
     "output_type": "stream",
     "text": [
      "https://api.llama.fi/protocol/yield-protocol\n"
     ]
    },
    {
     "name": "stderr",
     "output_type": "stream",
     "text": [
      "DEBUG:urllib3.connectionpool:https://api.llama.fi:443 \"GET /protocol/solv-protocol HTTP/1.1\" 200 413784\n"
     ]
    },
    {
     "name": "stdout",
     "output_type": "stream",
     "text": [
      "https://api.llama.fi/protocol/solv-protocol\n"
     ]
    },
    {
     "name": "stderr",
     "output_type": "stream",
     "text": [
      "DEBUG:urllib3.connectionpool:https://api.llama.fi:443 \"GET /protocol/port-finance HTTP/1.1\" 200 292165\n"
     ]
    },
    {
     "name": "stdout",
     "output_type": "stream",
     "text": [
      "https://api.llama.fi/protocol/port-finance\n"
     ]
    },
    {
     "name": "stderr",
     "output_type": "stream",
     "text": [
      "DEBUG:urllib3.connectionpool:https://api.llama.fi:443 \"GET /protocol/ocp-finance HTTP/1.1\" 502 36\n"
     ]
    },
    {
     "name": "stdout",
     "output_type": "stream",
     "text": [
      "err\n"
     ]
    },
    {
     "name": "stderr",
     "output_type": "stream",
     "text": [
      "DEBUG:urllib3.connectionpool:https://api.llama.fi:443 \"GET /protocol/risk-harbor HTTP/1.1\" 200 122004\n"
     ]
    },
    {
     "name": "stdout",
     "output_type": "stream",
     "text": [
      "https://api.llama.fi/protocol/risk-harbor\n"
     ]
    },
    {
     "name": "stderr",
     "output_type": "stream",
     "text": [
      "DEBUG:urllib3.connectionpool:https://api.llama.fi:443 \"GET /protocol/concave HTTP/1.1\" 200 87285\n"
     ]
    },
    {
     "name": "stdout",
     "output_type": "stream",
     "text": [
      "https://api.llama.fi/protocol/concave\n"
     ]
    },
    {
     "name": "stderr",
     "output_type": "stream",
     "text": [
      "DEBUG:urllib3.connectionpool:https://api.llama.fi:443 \"GET /protocol/gro HTTP/1.1\" 200 473898\n"
     ]
    },
    {
     "name": "stdout",
     "output_type": "stream",
     "text": [
      "https://api.llama.fi/protocol/gro\n"
     ]
    },
    {
     "name": "stderr",
     "output_type": "stream",
     "text": [
      "DEBUG:urllib3.connectionpool:https://api.llama.fi:443 \"GET /protocol/crystalvale HTTP/1.1\" 200 96090\n"
     ]
    },
    {
     "name": "stdout",
     "output_type": "stream",
     "text": [
      "https://api.llama.fi/protocol/crystalvale\n"
     ]
    },
    {
     "name": "stderr",
     "output_type": "stream",
     "text": [
      "DEBUG:urllib3.connectionpool:https://api.llama.fi:443 \"GET /protocol/proton-loan HTTP/1.1\" 200 146047\n"
     ]
    },
    {
     "name": "stdout",
     "output_type": "stream",
     "text": [
      "https://api.llama.fi/protocol/proton-loan\n"
     ]
    },
    {
     "name": "stderr",
     "output_type": "stream",
     "text": [
      "DEBUG:urllib3.connectionpool:https://api.llama.fi:443 \"GET /protocol/defi-kingdoms HTTP/1.1\" 307 0\n",
      "DEBUG:urllib3.connectionpool:Resetting dropped connection: defillama-datasets.s3.eu-central-1.amazonaws.com\n",
      "DEBUG:urllib3.connectionpool:https://defillama-datasets.s3.eu-central-1.amazonaws.com:443 \"GET /temp/protocol-Defi%20Kingdoms.json HTTP/1.1\" 200 27764341\n"
     ]
    },
    {
     "name": "stdout",
     "output_type": "stream",
     "text": [
      "https://api.llama.fi/protocol/defi-kingdoms\n"
     ]
    },
    {
     "name": "stderr",
     "output_type": "stream",
     "text": [
      "DEBUG:urllib3.connectionpool:https://api.llama.fi:443 \"GET /protocol/gains-network HTTP/1.1\" 200 187075\n"
     ]
    },
    {
     "name": "stdout",
     "output_type": "stream",
     "text": [
      "https://api.llama.fi/protocol/gains-network\n"
     ]
    },
    {
     "name": "stderr",
     "output_type": "stream",
     "text": [
      "DEBUG:urllib3.connectionpool:https://api.llama.fi:443 \"GET /protocol/moonfarm HTTP/1.1\" 200 66090\n"
     ]
    },
    {
     "name": "stdout",
     "output_type": "stream",
     "text": [
      "https://api.llama.fi/protocol/moonfarm\n"
     ]
    },
    {
     "name": "stderr",
     "output_type": "stream",
     "text": [
      "DEBUG:urllib3.connectionpool:https://api.llama.fi:443 \"GET /protocol/hundred-finance HTTP/1.1\" 200 1839806\n"
     ]
    },
    {
     "name": "stdout",
     "output_type": "stream",
     "text": [
      "https://api.llama.fi/protocol/hundred-finance\n"
     ]
    },
    {
     "name": "stderr",
     "output_type": "stream",
     "text": [
      "DEBUG:urllib3.connectionpool:https://api.llama.fi:443 \"GET /protocol/orion-protocol HTTP/1.1\" 200 2009398\n"
     ]
    },
    {
     "name": "stdout",
     "output_type": "stream",
     "text": [
      "https://api.llama.fi/protocol/orion-protocol\n"
     ]
    },
    {
     "name": "stderr",
     "output_type": "stream",
     "text": [
      "DEBUG:urllib3.connectionpool:https://api.llama.fi:443 \"GET /protocol/wombat-exchange HTTP/1.1\" 200 64994\n"
     ]
    },
    {
     "name": "stdout",
     "output_type": "stream",
     "text": [
      "https://api.llama.fi/protocol/wombat-exchange\n"
     ]
    },
    {
     "name": "stderr",
     "output_type": "stream",
     "text": [
      "DEBUG:urllib3.connectionpool:https://api.llama.fi:443 \"GET /protocol/beta-finance HTTP/1.1\" 200 749290\n",
      "DEBUG:urllib3.connectionpool:https://api.llama.fi:443 \"GET /protocol/starlay-finance HTTP/1.1\" 200 353681\n"
     ]
    },
    {
     "name": "stdout",
     "output_type": "stream",
     "text": [
      "https://api.llama.fi/protocol/beta-finance\n",
      "https://api.llama.fi/protocol/starlay-finance\n"
     ]
    },
    {
     "name": "stderr",
     "output_type": "stream",
     "text": [
      "DEBUG:urllib3.connectionpool:https://api.llama.fi:443 \"GET /protocol/nuls HTTP/1.1\" 200 32814\n"
     ]
    },
    {
     "name": "stdout",
     "output_type": "stream",
     "text": [
      "https://api.llama.fi/protocol/nuls\n"
     ]
    },
    {
     "name": "stderr",
     "output_type": "stream",
     "text": [
      "DEBUG:urllib3.connectionpool:https://api.llama.fi:443 \"GET /protocol/1inch-network HTTP/1.1\" 200 435031\n"
     ]
    },
    {
     "name": "stdout",
     "output_type": "stream",
     "text": [
      "https://api.llama.fi/protocol/1inch-network\n"
     ]
    },
    {
     "name": "stderr",
     "output_type": "stream",
     "text": [
      "DEBUG:urllib3.connectionpool:https://api.llama.fi:443 \"GET /protocol/tetu HTTP/1.1\" 200 152341\n"
     ]
    },
    {
     "name": "stdout",
     "output_type": "stream",
     "text": [
      "https://api.llama.fi/protocol/tetu\n"
     ]
    },
    {
     "name": "stderr",
     "output_type": "stream",
     "text": [
      "DEBUG:urllib3.connectionpool:https://api.llama.fi:443 \"GET /protocol/kaidex HTTP/1.1\" 200 143220\n"
     ]
    },
    {
     "name": "stdout",
     "output_type": "stream",
     "text": [
      "https://api.llama.fi/protocol/kaidex\n"
     ]
    },
    {
     "name": "stderr",
     "output_type": "stream",
     "text": [
      "DEBUG:urllib3.connectionpool:https://api.llama.fi:443 \"GET /protocol/katana HTTP/1.1\" 200 250328\n"
     ]
    },
    {
     "name": "stdout",
     "output_type": "stream",
     "text": [
      "https://api.llama.fi/protocol/katana\n"
     ]
    },
    {
     "name": "stderr",
     "output_type": "stream",
     "text": [
      "DEBUG:urllib3.connectionpool:https://api.llama.fi:443 \"GET /protocol/o3-swap HTTP/1.1\" 502 36\n"
     ]
    },
    {
     "name": "stdout",
     "output_type": "stream",
     "text": [
      "err\n"
     ]
    },
    {
     "name": "stderr",
     "output_type": "stream",
     "text": [
      "DEBUG:urllib3.connectionpool:https://api.llama.fi:443 \"GET /protocol/ouchi-finance HTTP/1.1\" 200 52886\n"
     ]
    },
    {
     "name": "stdout",
     "output_type": "stream",
     "text": [
      "https://api.llama.fi/protocol/ouchi-finance\n"
     ]
    },
    {
     "name": "stderr",
     "output_type": "stream",
     "text": [
      "DEBUG:urllib3.connectionpool:https://api.llama.fi:443 \"GET /protocol/88mph HTTP/1.1\" 200 1175088\n"
     ]
    },
    {
     "name": "stdout",
     "output_type": "stream",
     "text": [
      "https://api.llama.fi/protocol/88mph\n"
     ]
    },
    {
     "name": "stderr",
     "output_type": "stream",
     "text": [
      "DEBUG:urllib3.connectionpool:https://api.llama.fi:443 \"GET /protocol/acala-swap HTTP/1.1\" 200 16630\n"
     ]
    },
    {
     "name": "stdout",
     "output_type": "stream",
     "text": [
      "https://api.llama.fi/protocol/acala-swap\n"
     ]
    },
    {
     "name": "stderr",
     "output_type": "stream",
     "text": [
      "DEBUG:urllib3.connectionpool:https://api.llama.fi:443 \"GET /protocol/zookeeper HTTP/1.1\" 200 59123\n"
     ]
    },
    {
     "name": "stdout",
     "output_type": "stream",
     "text": [
      "https://api.llama.fi/protocol/zookeeper\n"
     ]
    },
    {
     "name": "stderr",
     "output_type": "stream",
     "text": [
      "DEBUG:urllib3.connectionpool:https://api.llama.fi:443 \"GET /protocol/position-exchange HTTP/1.1\" 200 289045\n"
     ]
    },
    {
     "name": "stdout",
     "output_type": "stream",
     "text": [
      "https://api.llama.fi/protocol/position-exchange\n"
     ]
    },
    {
     "name": "stderr",
     "output_type": "stream",
     "text": [
      "DEBUG:urllib3.connectionpool:https://api.llama.fi:443 \"GET /protocol/sashimiswap HTTP/1.1\" 200 1387202\n"
     ]
    },
    {
     "name": "stdout",
     "output_type": "stream",
     "text": [
      "https://api.llama.fi/protocol/sashimiswap\n"
     ]
    },
    {
     "name": "stderr",
     "output_type": "stream",
     "text": [
      "DEBUG:urllib3.connectionpool:https://api.llama.fi:443 \"GET /protocol/guard(helmet) HTTP/1.1\" 200 842449\n"
     ]
    },
    {
     "name": "stdout",
     "output_type": "stream",
     "text": [
      "https://api.llama.fi/protocol/guard(helmet)\n"
     ]
    },
    {
     "name": "stderr",
     "output_type": "stream",
     "text": [
      "DEBUG:urllib3.connectionpool:https://api.llama.fi:443 \"GET /protocol/aavegotchi HTTP/1.1\" 200 661345\n"
     ]
    },
    {
     "name": "stdout",
     "output_type": "stream",
     "text": [
      "https://api.llama.fi/protocol/aavegotchi\n"
     ]
    },
    {
     "name": "stderr",
     "output_type": "stream",
     "text": [
      "DEBUG:urllib3.connectionpool:https://api.llama.fi:443 \"GET /protocol/idex HTTP/1.1\" 200 2261812\n"
     ]
    },
    {
     "name": "stdout",
     "output_type": "stream",
     "text": [
      "https://api.llama.fi/protocol/idex\n"
     ]
    },
    {
     "name": "stderr",
     "output_type": "stream",
     "text": [
      "DEBUG:urllib3.connectionpool:https://api.llama.fi:443 \"GET /protocol/truefi HTTP/1.1\" 200 588029\n"
     ]
    },
    {
     "name": "stdout",
     "output_type": "stream",
     "text": [
      "https://api.llama.fi/protocol/truefi\n"
     ]
    }
   ],
   "source": [
    "#get by app\n",
    "api_str = 'https://api.llama.fi/protocol/'\n",
    "# print(protocols)\n",
    "prod = []\n",
    "for index,proto in protocols.iterrows():\n",
    "#     print(proto)\n",
    "    prot = proto['slug']\n",
    "    chains = proto['chainTvls']\n",
    "    apic = api_str + prot\n",
    "#     time.sleep(0.1)\n",
    "    try:\n",
    "        prot_req = s.get(apic, headers=header).json()['chainTvls']\n",
    "#         print(apic)\n",
    "        for ch in chains:\n",
    "            ad = pd.json_normalize( prot_req[ch]['tokens'] )\n",
    "            ad_usd = pd.json_normalize( prot_req[ch]['tokensInUsd'] )\n",
    "#             ad = ad.merge(how='left')\n",
    "            if not ad.empty:\n",
    "                ad = pd.melt(ad,id_vars = ['date'])\n",
    "                ad = ad.rename(columns={'variable':'token','value':'token_value'})\n",
    "                ad_usd = pd.melt(ad_usd,id_vars = ['date'])\n",
    "                ad_usd = ad_usd.rename(columns={'variable':'token','value':'usd_value'})\n",
    "                ad = ad.merge(ad_usd,on=['date','token'])\n",
    "                \n",
    "                ad['date'] = pd.to_datetime(ad['date'], unit ='s') #convert to days\n",
    "                ad['token'] = ad['token'].str.replace('tokens.','', regex=False)\n",
    "                ad['protocol'] = prot\n",
    "                ad['chain'] = ch\n",
    "        #         ad['start_date'] = pd.to_datetime(prot[1])\n",
    "                ad['date'] = ad['date'] - timedelta(days=1) #change to eod vs sod\n",
    "                prod.append(ad)\n",
    "    except:\n",
    "        print('err')\n"
   ]
  },
  {
   "cell_type": "code",
   "execution_count": 58,
   "id": "c7c1ddad",
   "metadata": {},
   "outputs": [
    {
     "data": {
      "text/html": [
       "<div>\n",
       "<style scoped>\n",
       "    .dataframe tbody tr th:only-of-type {\n",
       "        vertical-align: middle;\n",
       "    }\n",
       "\n",
       "    .dataframe tbody tr th {\n",
       "        vertical-align: top;\n",
       "    }\n",
       "\n",
       "    .dataframe thead th {\n",
       "        text-align: right;\n",
       "    }\n",
       "</style>\n",
       "<table border=\"1\" class=\"dataframe\">\n",
       "  <thead>\n",
       "    <tr style=\"text-align: right;\">\n",
       "      <th></th>\n",
       "      <th>date</th>\n",
       "      <th>token</th>\n",
       "      <th>token_value</th>\n",
       "      <th>usd_value</th>\n",
       "      <th>protocol</th>\n",
       "      <th>chain</th>\n",
       "    </tr>\n",
       "  </thead>\n",
       "  <tbody>\n",
       "    <tr>\n",
       "      <th>0</th>\n",
       "      <td>2022-05-09 00:00:00</td>\n",
       "      <td>MATIC</td>\n",
       "      <td>61211089.17387</td>\n",
       "      <td>5.060529e+07</td>\n",
       "      <td>makerdao</td>\n",
       "      <td>Ethereum</td>\n",
       "    </tr>\n",
       "    <tr>\n",
       "      <th>1</th>\n",
       "      <td>2022-05-10 00:00:00</td>\n",
       "      <td>MATIC</td>\n",
       "      <td>61211089.17387</td>\n",
       "      <td>5.437283e+07</td>\n",
       "      <td>makerdao</td>\n",
       "      <td>Ethereum</td>\n",
       "    </tr>\n",
       "    <tr>\n",
       "      <th>2</th>\n",
       "      <td>2022-05-11 00:00:00</td>\n",
       "      <td>MATIC</td>\n",
       "      <td>131231089.17387</td>\n",
       "      <td>8.719886e+07</td>\n",
       "      <td>makerdao</td>\n",
       "      <td>Ethereum</td>\n",
       "    </tr>\n",
       "    <tr>\n",
       "      <th>3</th>\n",
       "      <td>2022-05-12 00:00:00</td>\n",
       "      <td>MATIC</td>\n",
       "      <td>131264317.97387</td>\n",
       "      <td>7.932946e+07</td>\n",
       "      <td>makerdao</td>\n",
       "      <td>Ethereum</td>\n",
       "    </tr>\n",
       "    <tr>\n",
       "      <th>4</th>\n",
       "      <td>2022-05-13 00:00:00</td>\n",
       "      <td>MATIC</td>\n",
       "      <td>131264317.97387</td>\n",
       "      <td>9.167802e+07</td>\n",
       "      <td>makerdao</td>\n",
       "      <td>Ethereum</td>\n",
       "    </tr>\n",
       "    <tr>\n",
       "      <th>...</th>\n",
       "      <td>...</td>\n",
       "      <td>...</td>\n",
       "      <td>...</td>\n",
       "      <td>...</td>\n",
       "      <td>...</td>\n",
       "      <td>...</td>\n",
       "    </tr>\n",
       "    <tr>\n",
       "      <th>559</th>\n",
       "      <td>2022-08-04 00:00:00</td>\n",
       "      <td>TRU</td>\n",
       "      <td>240180051.00025</td>\n",
       "      <td>2.023925e+07</td>\n",
       "      <td>truefi</td>\n",
       "      <td>staking</td>\n",
       "    </tr>\n",
       "    <tr>\n",
       "      <th>560</th>\n",
       "      <td>2022-08-05 00:00:00</td>\n",
       "      <td>TRU</td>\n",
       "      <td>235743792.07384</td>\n",
       "      <td>2.043333e+07</td>\n",
       "      <td>truefi</td>\n",
       "      <td>staking</td>\n",
       "    </tr>\n",
       "    <tr>\n",
       "      <th>561</th>\n",
       "      <td>2022-08-06 00:00:00</td>\n",
       "      <td>TRU</td>\n",
       "      <td>235883822.467</td>\n",
       "      <td>2.002512e+07</td>\n",
       "      <td>truefi</td>\n",
       "      <td>staking</td>\n",
       "    </tr>\n",
       "    <tr>\n",
       "      <th>562</th>\n",
       "      <td>2022-08-07 00:00:00</td>\n",
       "      <td>TRU</td>\n",
       "      <td>235937812.2135</td>\n",
       "      <td>2.031708e+07</td>\n",
       "      <td>truefi</td>\n",
       "      <td>staking</td>\n",
       "    </tr>\n",
       "    <tr>\n",
       "      <th>563</th>\n",
       "      <td>2022-08-07 15:58:33</td>\n",
       "      <td>TRU</td>\n",
       "      <td>236104700.4379</td>\n",
       "      <td>2.064263e+07</td>\n",
       "      <td>truefi</td>\n",
       "      <td>staking</td>\n",
       "    </tr>\n",
       "  </tbody>\n",
       "</table>\n",
       "<p>9490138 rows × 6 columns</p>\n",
       "</div>"
      ],
      "text/plain": [
       "                   date  token      token_value     usd_value  protocol  \\\n",
       "0   2022-05-09 00:00:00  MATIC   61211089.17387  5.060529e+07  makerdao   \n",
       "1   2022-05-10 00:00:00  MATIC   61211089.17387  5.437283e+07  makerdao   \n",
       "2   2022-05-11 00:00:00  MATIC  131231089.17387  8.719886e+07  makerdao   \n",
       "3   2022-05-12 00:00:00  MATIC  131264317.97387  7.932946e+07  makerdao   \n",
       "4   2022-05-13 00:00:00  MATIC  131264317.97387  9.167802e+07  makerdao   \n",
       "..                  ...    ...              ...           ...       ...   \n",
       "559 2022-08-04 00:00:00    TRU  240180051.00025  2.023925e+07    truefi   \n",
       "560 2022-08-05 00:00:00    TRU  235743792.07384  2.043333e+07    truefi   \n",
       "561 2022-08-06 00:00:00    TRU    235883822.467  2.002512e+07    truefi   \n",
       "562 2022-08-07 00:00:00    TRU   235937812.2135  2.031708e+07    truefi   \n",
       "563 2022-08-07 15:58:33    TRU   236104700.4379  2.064263e+07    truefi   \n",
       "\n",
       "        chain  \n",
       "0    Ethereum  \n",
       "1    Ethereum  \n",
       "2    Ethereum  \n",
       "3    Ethereum  \n",
       "4    Ethereum  \n",
       "..        ...  \n",
       "559   staking  \n",
       "560   staking  \n",
       "561   staking  \n",
       "562   staking  \n",
       "563   staking  \n",
       "\n",
       "[9490138 rows x 6 columns]"
      ]
     },
     "execution_count": 58,
     "metadata": {},
     "output_type": "execute_result"
    }
   ],
   "source": [
    "df_df_all = pd.concat(prod)\n",
    "# df_df_all\n",
    "print(\"done api\")"
   ]
  },
  {
   "cell_type": "code",
   "execution_count": 59,
   "id": "53c381e8",
   "metadata": {},
   "outputs": [
    {
     "name": "stderr",
     "output_type": "stream",
     "text": [
      "/var/folders/by/kltjc8yd0yz_7_wrtrzhrm9m0000gn/T/ipykernel_65434/3937920575.py:6: SettingWithCopyWarning:\n",
      "\n",
      "\n",
      "A value is trying to be set on a copy of a slice from a DataFrame.\n",
      "Try using .loc[row_indexer,col_indexer] = value instead\n",
      "\n",
      "See the caveats in the documentation: https://pandas.pydata.org/pandas-docs/stable/user_guide/indexing.html#returning-a-view-versus-a-copy\n",
      "\n"
     ]
    },
    {
     "data": {
      "text/plain": [
       "83     2022-07-31 00:00:00\n",
       "84     2022-08-01 00:00:00\n",
       "85     2022-08-02 00:00:00\n",
       "86     2022-08-03 00:00:00\n",
       "87     2022-08-04 00:00:00\n",
       "88     2022-08-05 00:00:00\n",
       "89     2022-08-06 00:00:00\n",
       "90     2022-08-07 00:00:00\n",
       "91     2022-08-07 14:59:28\n",
       "138    2022-08-07 15:58:33\n",
       "23     2022-08-07 10:59:05\n",
       "1161   2022-08-07 15:32:45\n",
       "259    2022-08-07 12:59:47\n",
       "384    2022-08-07 09:59:08\n",
       "40     2022-08-07 08:59:28\n",
       "25     2022-08-07 12:59:44\n",
       "191    2022-08-07 13:59:27\n",
       "95     2022-08-04 06:59:34\n",
       "18     2022-08-07 15:01:46\n",
       "Name: date, dtype: datetime64[ns]"
      ]
     },
     "metadata": {},
     "output_type": "display_data"
    },
    {
     "data": {
      "text/html": [
       "<div>\n",
       "<style scoped>\n",
       "    .dataframe tbody tr th:only-of-type {\n",
       "        vertical-align: middle;\n",
       "    }\n",
       "\n",
       "    .dataframe tbody tr th {\n",
       "        vertical-align: top;\n",
       "    }\n",
       "\n",
       "    .dataframe thead th {\n",
       "        text-align: right;\n",
       "    }\n",
       "</style>\n",
       "<table border=\"1\" class=\"dataframe\">\n",
       "  <thead>\n",
       "    <tr style=\"text-align: right;\">\n",
       "      <th></th>\n",
       "      <th>date</th>\n",
       "      <th>token</th>\n",
       "      <th>token_value</th>\n",
       "      <th>usd_value</th>\n",
       "      <th>protocol</th>\n",
       "      <th>chain</th>\n",
       "      <th>last_token_value</th>\n",
       "    </tr>\n",
       "  </thead>\n",
       "  <tbody>\n",
       "  </tbody>\n",
       "</table>\n",
       "</div>"
      ],
      "text/plain": [
       "Empty DataFrame\n",
       "Columns: [date, token, token_value, usd_value, protocol, chain, last_token_value]\n",
       "Index: []"
      ]
     },
     "execution_count": 59,
     "metadata": {},
     "output_type": "execute_result"
    }
   ],
   "source": [
    "# df_df[df_df['protocol']=='perpetual-protocol']\n",
    "#filter down a bit so we can do trailing comp w/o doing every row\n",
    "df_df = df_df_all[df_df_all['date'].dt.date >= date.today()-timedelta(days=trailing_num_days +2) ]\n",
    "# display(df_df['date'].drop_duplicates())\n",
    "#trailing comp\n",
    "df_df['last_token_value'] = df_df.groupby(['token','protocol','chain'])['token_value'].shift(1)\n",
    "#now actually filter\n",
    "df_df = df_df[df_df['date'].dt.date >= date.today()-timedelta(days=trailing_num_days +1) ]\n",
    "# display(df_df['date'].drop_duplicates())\n",
    "# df_df[(df_df['protocol'] == 'uniswap') & (df_df['token'] != 'USDT') & (df_df['token_value'] > 0)]"
   ]
  },
  {
   "cell_type": "code",
   "execution_count": null,
   "id": "d277a590",
   "metadata": {},
   "outputs": [],
   "source": []
  },
  {
   "cell_type": "code",
   "execution_count": 60,
   "id": "840e7c2d",
   "metadata": {},
   "outputs": [],
   "source": [
    "# # DISTINCT TOKENS\n",
    "\n",
    "# token_list = df_df.groupby(['token']).count()\n",
    "# token_list = token_list[token_list['token_value']>=1000]\n",
    "# token_list.sort_values(by='token_value',inplace=True, ascending=False)\n",
    "# token_list.reset_index(inplace=True)\n",
    "# missing_token_list = token_list[~token_list['token'].isin(cg_token_list)]\n",
    "# missing_token_list\n",
    "# missing_token_list"
   ]
  },
  {
   "cell_type": "code",
   "execution_count": 61,
   "id": "8f9eb8e5",
   "metadata": {},
   "outputs": [
    {
     "data": {
      "text/html": [
       "<div>\n",
       "<style scoped>\n",
       "    .dataframe tbody tr th:only-of-type {\n",
       "        vertical-align: middle;\n",
       "    }\n",
       "\n",
       "    .dataframe tbody tr th {\n",
       "        vertical-align: top;\n",
       "    }\n",
       "\n",
       "    .dataframe thead th {\n",
       "        text-align: right;\n",
       "    }\n",
       "</style>\n",
       "<table border=\"1\" class=\"dataframe\">\n",
       "  <thead>\n",
       "    <tr style=\"text-align: right;\">\n",
       "      <th></th>\n",
       "      <th>date</th>\n",
       "      <th>token</th>\n",
       "      <th>token_value</th>\n",
       "      <th>usd_value</th>\n",
       "      <th>protocol</th>\n",
       "      <th>chain</th>\n",
       "      <th>last_token_value</th>\n",
       "      <th>price_usd</th>\n",
       "      <th>net_token_flow</th>\n",
       "      <th>net_dollar_flow</th>\n",
       "    </tr>\n",
       "  </thead>\n",
       "  <tbody>\n",
       "    <tr>\n",
       "      <th>1337</th>\n",
       "      <td>2022-08-02 00:00:00</td>\n",
       "      <td>USDT</td>\n",
       "      <td>5.948906e+09</td>\n",
       "      <td>5.960804e+09</td>\n",
       "      <td>uniswap</td>\n",
       "      <td>Ethereum</td>\n",
       "      <td>6131967304.31522</td>\n",
       "      <td>1.002000</td>\n",
       "      <td>-183061485.037889</td>\n",
       "      <td>-183427608.007965</td>\n",
       "    </tr>\n",
       "    <tr>\n",
       "      <th>1341</th>\n",
       "      <td>2022-08-06 00:00:00</td>\n",
       "      <td>USDT</td>\n",
       "      <td>6.174989e+09</td>\n",
       "      <td>6.174427e+09</td>\n",
       "      <td>uniswap</td>\n",
       "      <td>Ethereum</td>\n",
       "      <td>6293563981.69229</td>\n",
       "      <td>0.999909</td>\n",
       "      <td>-118574703.973881</td>\n",
       "      <td>-118563913.675819</td>\n",
       "    </tr>\n",
       "    <tr>\n",
       "      <th>3094</th>\n",
       "      <td>2022-08-07 14:59:28</td>\n",
       "      <td>WETH</td>\n",
       "      <td>3.999561e+05</td>\n",
       "      <td>7.192811e+08</td>\n",
       "      <td>aave-v2</td>\n",
       "      <td>Ethereum</td>\n",
       "      <td>463883.84492</td>\n",
       "      <td>1798.400000</td>\n",
       "      <td>-63927.71114</td>\n",
       "      <td>-114967595.713469</td>\n",
       "    </tr>\n",
       "    <tr>\n",
       "      <th>591</th>\n",
       "      <td>2022-08-04 00:00:00</td>\n",
       "      <td>USDC</td>\n",
       "      <td>5.562704e+08</td>\n",
       "      <td>5.568266e+08</td>\n",
       "      <td>aave-v3</td>\n",
       "      <td>Avalanche-borrowed</td>\n",
       "      <td>644464803.18427</td>\n",
       "      <td>1.001000</td>\n",
       "      <td>-88194448.30609</td>\n",
       "      <td>-88282642.754396</td>\n",
       "    </tr>\n",
       "    <tr>\n",
       "      <th>393</th>\n",
       "      <td>2022-07-31 00:00:00</td>\n",
       "      <td>USDC</td>\n",
       "      <td>6.226075e+07</td>\n",
       "      <td>6.232301e+07</td>\n",
       "      <td>truefi</td>\n",
       "      <td>borrowed</td>\n",
       "      <td>149038163.93211</td>\n",
       "      <td>1.001000</td>\n",
       "      <td>-86777410.31695</td>\n",
       "      <td>-86864187.72726</td>\n",
       "    </tr>\n",
       "    <tr>\n",
       "      <th>...</th>\n",
       "      <td>...</td>\n",
       "      <td>...</td>\n",
       "      <td>...</td>\n",
       "      <td>...</td>\n",
       "      <td>...</td>\n",
       "      <td>...</td>\n",
       "      <td>...</td>\n",
       "      <td>...</td>\n",
       "      <td>...</td>\n",
       "      <td>...</td>\n",
       "    </tr>\n",
       "    <tr>\n",
       "      <th>2678</th>\n",
       "      <td>2022-08-05 00:00:00</td>\n",
       "      <td>USDC</td>\n",
       "      <td>1.352260e+09</td>\n",
       "      <td>1.350531e+09</td>\n",
       "      <td>aave-v3</td>\n",
       "      <td>borrowed</td>\n",
       "      <td>1069565788.49479</td>\n",
       "      <td>0.998722</td>\n",
       "      <td>282693801.30422</td>\n",
       "      <td>282332518.626154</td>\n",
       "    </tr>\n",
       "    <tr>\n",
       "      <th>741</th>\n",
       "      <td>2022-08-05 00:00:00</td>\n",
       "      <td>USDC</td>\n",
       "      <td>8.096524e+08</td>\n",
       "      <td>8.086176e+08</td>\n",
       "      <td>aave-v3</td>\n",
       "      <td>Optimism-borrowed</td>\n",
       "      <td>498635772.33436</td>\n",
       "      <td>0.998722</td>\n",
       "      <td>311016598.83937</td>\n",
       "      <td>310619119.626053</td>\n",
       "    </tr>\n",
       "    <tr>\n",
       "      <th>125</th>\n",
       "      <td>2022-07-31 00:00:00</td>\n",
       "      <td>USDT</td>\n",
       "      <td>2.413396e+09</td>\n",
       "      <td>2.418223e+09</td>\n",
       "      <td>instadapp</td>\n",
       "      <td>Ethereum</td>\n",
       "      <td>2095690377.2075</td>\n",
       "      <td>1.002000</td>\n",
       "      <td>317705704.61725</td>\n",
       "      <td>318341116.026485</td>\n",
       "    </tr>\n",
       "    <tr>\n",
       "      <th>2677</th>\n",
       "      <td>2022-08-04 00:00:00</td>\n",
       "      <td>USDC</td>\n",
       "      <td>1.069566e+09</td>\n",
       "      <td>1.070635e+09</td>\n",
       "      <td>aave-v3</td>\n",
       "      <td>borrowed</td>\n",
       "      <td>663186989.34406</td>\n",
       "      <td>1.001000</td>\n",
       "      <td>406378799.15073</td>\n",
       "      <td>406785177.949879</td>\n",
       "    </tr>\n",
       "    <tr>\n",
       "      <th>740</th>\n",
       "      <td>2022-08-04 00:00:00</td>\n",
       "      <td>USDC</td>\n",
       "      <td>4.986358e+08</td>\n",
       "      <td>4.991344e+08</td>\n",
       "      <td>aave-v3</td>\n",
       "      <td>Optimism-borrowed</td>\n",
       "      <td>3697107.95958</td>\n",
       "      <td>1.001000</td>\n",
       "      <td>494938664.37478</td>\n",
       "      <td>495433603.03916</td>\n",
       "    </tr>\n",
       "  </tbody>\n",
       "</table>\n",
       "<p>100212 rows × 10 columns</p>\n",
       "</div>"
      ],
      "text/plain": [
       "                    date token   token_value     usd_value   protocol  \\\n",
       "1337 2022-08-02 00:00:00  USDT  5.948906e+09  5.960804e+09    uniswap   \n",
       "1341 2022-08-06 00:00:00  USDT  6.174989e+09  6.174427e+09    uniswap   \n",
       "3094 2022-08-07 14:59:28  WETH  3.999561e+05  7.192811e+08    aave-v2   \n",
       "591  2022-08-04 00:00:00  USDC  5.562704e+08  5.568266e+08    aave-v3   \n",
       "393  2022-07-31 00:00:00  USDC  6.226075e+07  6.232301e+07     truefi   \n",
       "...                  ...   ...           ...           ...        ...   \n",
       "2678 2022-08-05 00:00:00  USDC  1.352260e+09  1.350531e+09    aave-v3   \n",
       "741  2022-08-05 00:00:00  USDC  8.096524e+08  8.086176e+08    aave-v3   \n",
       "125  2022-07-31 00:00:00  USDT  2.413396e+09  2.418223e+09  instadapp   \n",
       "2677 2022-08-04 00:00:00  USDC  1.069566e+09  1.070635e+09    aave-v3   \n",
       "740  2022-08-04 00:00:00  USDC  4.986358e+08  4.991344e+08    aave-v3   \n",
       "\n",
       "                   chain  last_token_value    price_usd    net_token_flow  \\\n",
       "1337            Ethereum  6131967304.31522     1.002000 -183061485.037889   \n",
       "1341            Ethereum  6293563981.69229     0.999909 -118574703.973881   \n",
       "3094            Ethereum      463883.84492  1798.400000      -63927.71114   \n",
       "591   Avalanche-borrowed   644464803.18427     1.001000   -88194448.30609   \n",
       "393             borrowed   149038163.93211     1.001000   -86777410.31695   \n",
       "...                  ...               ...          ...               ...   \n",
       "2678            borrowed  1069565788.49479     0.998722   282693801.30422   \n",
       "741    Optimism-borrowed   498635772.33436     0.998722   311016598.83937   \n",
       "125             Ethereum   2095690377.2075     1.002000   317705704.61725   \n",
       "2677            borrowed   663186989.34406     1.001000   406378799.15073   \n",
       "740    Optimism-borrowed     3697107.95958     1.001000   494938664.37478   \n",
       "\n",
       "       net_dollar_flow  \n",
       "1337 -183427608.007965  \n",
       "1341 -118563913.675819  \n",
       "3094 -114967595.713469  \n",
       "591   -88282642.754396  \n",
       "393    -86864187.72726  \n",
       "...                ...  \n",
       "2678  282332518.626154  \n",
       "741   310619119.626053  \n",
       "125   318341116.026485  \n",
       "2677  406785177.949879  \n",
       "740    495433603.03916  \n",
       "\n",
       "[100212 rows x 10 columns]"
      ]
     },
     "execution_count": 61,
     "metadata": {},
     "output_type": "execute_result"
    }
   ],
   "source": [
    "# data_df = df_df.merge(cg_df, on=['date','token'],how='inner')\n",
    "data_df = df_df.copy()\n",
    "data_df['token_value'] = data_df['token_value'].replace(0, np.nan)\n",
    "data_df['price_usd'] = data_df['usd_value']/data_df['token_value']\n",
    "\n",
    "# print(len(data_df))\n",
    "data_df.sort_values(by='date',inplace=True)\n",
    "# print(len(data_df))\n",
    "# data_df['net_token_flow'] = data_df.groupby(['token','protocol','chain'])['token_value'].apply(lambda x: x- x.shift(1))\n",
    "data_df['net_token_flow'] = data_df['token_value'] - data_df['last_token_value']\n",
    "\n",
    "# print(len(data_df))\n",
    "data_df['net_dollar_flow'] = data_df['net_token_flow'] * data_df['price_usd']\n",
    "\n",
    "\n",
    "# data_df = data_df[data_df['token'] != 'RVRS'] #Harmony error\n",
    "# data_df = data_df[data_df['token'] != 'usn'] #Harmony error\n",
    "# data_df = data_df[data_df['protocol'] != 'shibaswap'] #Harmony error\n",
    "data_df = data_df[abs(data_df['net_dollar_flow']) < 50_000_000_000] #50 bil error bar\n",
    "data_df = data_df[~data_df['net_dollar_flow'].isna()] #50 bil error bar\n",
    "# display(data_df[\n",
    "# #         (data_df['protocol'] == 'sushiswap') & (data_df['chain'] == 'Harmony')\n",
    "#         (data_df['net_dollar_flow'].notna()) & (data_df['net_dollar_flow'] != 0)\n",
    "#         ].sort_values('net_dollar_flow'))\n",
    "\n",
    "\n",
    "# data_df.sort_values('net_dollar_flow')\n"
   ]
  },
  {
   "cell_type": "code",
   "execution_count": 62,
   "id": "1083af8c",
   "metadata": {},
   "outputs": [
    {
     "data": {
      "text/html": [
       "<div>\n",
       "<style scoped>\n",
       "    .dataframe tbody tr th:only-of-type {\n",
       "        vertical-align: middle;\n",
       "    }\n",
       "\n",
       "    .dataframe tbody tr th {\n",
       "        vertical-align: top;\n",
       "    }\n",
       "\n",
       "    .dataframe thead th {\n",
       "        text-align: right;\n",
       "    }\n",
       "</style>\n",
       "<table border=\"1\" class=\"dataframe\">\n",
       "  <thead>\n",
       "    <tr style=\"text-align: right;\">\n",
       "      <th></th>\n",
       "      <th>date</th>\n",
       "    </tr>\n",
       "  </thead>\n",
       "  <tbody>\n",
       "    <tr>\n",
       "      <th>83</th>\n",
       "      <td>2022-07-31 00:00:00</td>\n",
       "    </tr>\n",
       "    <tr>\n",
       "      <th>206056</th>\n",
       "      <td>2022-08-01 00:00:00</td>\n",
       "    </tr>\n",
       "    <tr>\n",
       "      <th>3568</th>\n",
       "      <td>2022-08-02 00:00:00</td>\n",
       "    </tr>\n",
       "    <tr>\n",
       "      <th>10109</th>\n",
       "      <td>2022-08-03 00:00:00</td>\n",
       "    </tr>\n",
       "    <tr>\n",
       "      <th>9235</th>\n",
       "      <td>2022-08-04 00:00:00</td>\n",
       "    </tr>\n",
       "    <tr>\n",
       "      <th>95</th>\n",
       "      <td>2022-08-04 06:59:34</td>\n",
       "    </tr>\n",
       "    <tr>\n",
       "      <th>1049</th>\n",
       "      <td>2022-08-05 00:00:00</td>\n",
       "    </tr>\n",
       "    <tr>\n",
       "      <th>25305</th>\n",
       "      <td>2022-08-06 00:00:00</td>\n",
       "    </tr>\n",
       "    <tr>\n",
       "      <th>154</th>\n",
       "      <td>2022-08-07 00:00:00</td>\n",
       "    </tr>\n",
       "    <tr>\n",
       "      <th>163</th>\n",
       "      <td>2022-08-07 08:59:28</td>\n",
       "    </tr>\n",
       "    <tr>\n",
       "      <th>332</th>\n",
       "      <td>2022-08-07 09:59:08</td>\n",
       "    </tr>\n",
       "    <tr>\n",
       "      <th>671</th>\n",
       "      <td>2022-08-07 10:59:05</td>\n",
       "    </tr>\n",
       "    <tr>\n",
       "      <th>597</th>\n",
       "      <td>2022-08-07 12:59:44</td>\n",
       "    </tr>\n",
       "    <tr>\n",
       "      <th>106649</th>\n",
       "      <td>2022-08-07 12:59:47</td>\n",
       "    </tr>\n",
       "    <tr>\n",
       "      <th>12095</th>\n",
       "      <td>2022-08-07 13:59:27</td>\n",
       "    </tr>\n",
       "    <tr>\n",
       "      <th>5224</th>\n",
       "      <td>2022-08-07 14:59:28</td>\n",
       "    </tr>\n",
       "    <tr>\n",
       "      <th>1671</th>\n",
       "      <td>2022-08-07 15:01:46</td>\n",
       "    </tr>\n",
       "    <tr>\n",
       "      <th>987</th>\n",
       "      <td>2022-08-07 15:32:45</td>\n",
       "    </tr>\n",
       "    <tr>\n",
       "      <th>15984</th>\n",
       "      <td>2022-08-07 15:58:33</td>\n",
       "    </tr>\n",
       "  </tbody>\n",
       "</table>\n",
       "</div>"
      ],
      "text/plain": [
       "                      date\n",
       "83     2022-07-31 00:00:00\n",
       "206056 2022-08-01 00:00:00\n",
       "3568   2022-08-02 00:00:00\n",
       "10109  2022-08-03 00:00:00\n",
       "9235   2022-08-04 00:00:00\n",
       "95     2022-08-04 06:59:34\n",
       "1049   2022-08-05 00:00:00\n",
       "25305  2022-08-06 00:00:00\n",
       "154    2022-08-07 00:00:00\n",
       "163    2022-08-07 08:59:28\n",
       "332    2022-08-07 09:59:08\n",
       "671    2022-08-07 10:59:05\n",
       "597    2022-08-07 12:59:44\n",
       "106649 2022-08-07 12:59:47\n",
       "12095  2022-08-07 13:59:27\n",
       "5224   2022-08-07 14:59:28\n",
       "1671   2022-08-07 15:01:46\n",
       "987    2022-08-07 15:32:45\n",
       "15984  2022-08-07 15:58:33"
      ]
     },
     "execution_count": 62,
     "metadata": {},
     "output_type": "execute_result"
    }
   ],
   "source": [
    "# data_df[['date']].drop_duplicates().sort_values('date')\n",
    "# data_df[data_df['date'].dt.date != data_df['date']].sort_values('date')"
   ]
  },
  {
   "cell_type": "code",
   "execution_count": 63,
   "id": "d1ae7150",
   "metadata": {},
   "outputs": [],
   "source": [
    "# data_df[data_df['protocol']=='perpetual-protocol'].sort_values(by='date')\n",
    "\n",
    "# segment_cols = ['date','protocol','chain','token']"
   ]
  },
  {
   "cell_type": "code",
   "execution_count": 64,
   "id": "59f3f879",
   "metadata": {},
   "outputs": [],
   "source": [
    "netdf_df = data_df[['date','protocol','chain','net_dollar_flow','usd_value']]\n",
    "netdf_df = netdf_df.fillna(0)\n",
    "netdf_df = netdf_df.groupby(['date','protocol','chain']).sum(['net_dollar_flow','usd_value']) ##agg by app\n",
    "# display(netdf_df)\n",
    "#usd_value is the TVL on a given day\n",
    "netdf_df = netdf_df.groupby(['date','protocol','chain','usd_value']).sum(['net_dollar_flow'])\n",
    "netdf_df.reset_index(inplace=True)\n",
    "# display(netdf_df)\n",
    "netdf_df['cumul_net_dollar_flow'] = netdf_df[['protocol','chain','net_dollar_flow']]\\\n",
    "                                    .groupby(['protocol','chain']).cumsum()\n",
    "netdf_df.reset_index(inplace=True)\n",
    "netdf_df.drop(columns=['index'],inplace=True)\n"
   ]
  },
  {
   "cell_type": "code",
   "execution_count": 65,
   "id": "18ccf06e",
   "metadata": {},
   "outputs": [],
   "source": [
    "#get latest\n",
    "netdf_df['rank_desc'] = netdf_df.groupby(['protocol', 'chain'])['date'].\\\n",
    "                            rank(method='dense',ascending=False).astype(int)\n",
    "# netdf_df[netdf_df['chain'] == 'Klaytn']"
   ]
  },
  {
   "cell_type": "code",
   "execution_count": null,
   "id": "0f09ff92",
   "metadata": {},
   "outputs": [],
   "source": []
  },
  {
   "cell_type": "code",
   "execution_count": 71,
   "id": "c0bdf6d8",
   "metadata": {
    "scrolled": false
   },
   "outputs": [
    {
     "name": "stderr",
     "output_type": "stream",
     "text": [
      "/Users/michaelsilberling/opt/anaconda3/lib/python3.9/site-packages/plotly/express/_core.py:1616: FutureWarning:\n",
      "\n",
      "The frame.append method is deprecated and will be removed from pandas in a future version. Use pandas.concat instead.\n",
      "\n",
      "/Users/michaelsilberling/opt/anaconda3/lib/python3.9/site-packages/plotly/express/_core.py:1616: FutureWarning:\n",
      "\n",
      "The frame.append method is deprecated and will be removed from pandas in a future version. Use pandas.concat instead.\n",
      "\n",
      "/Users/michaelsilberling/opt/anaconda3/lib/python3.9/site-packages/plotly/express/_core.py:1616: FutureWarning:\n",
      "\n",
      "The frame.append method is deprecated and will be removed from pandas in a future version. Use pandas.concat instead.\n",
      "\n"
     ]
    },
    {
     "data": {
      "application/vnd.plotly.v1+json": {
       "config": {
        "plotlyServerURL": "https://plot.ly"
       },
       "data": [
        {
         "branchvalues": "total",
         "customdata": [
          [
           1
          ],
          [
           -1
          ],
          [
           -1
          ],
          [
           -1
          ],
          [
           -1
          ],
          [
           -1
          ],
          [
           -1
          ],
          [
           1
          ],
          [
           1
          ],
          [
           -1
          ],
          [
           1
          ],
          [
           -1
          ],
          [
           -1
          ],
          [
           -1
          ],
          [
           -1
          ],
          [
           1
          ],
          [
           1
          ],
          [
           1
          ],
          [
           1
          ],
          [
           -1
          ],
          [
           -1
          ],
          [
           1
          ],
          [
           -1
          ],
          [
           1
          ],
          [
           1
          ],
          [
           -1
          ],
          [
           -1
          ],
          [
           1
          ],
          [
           1
          ],
          [
           -1
          ],
          [
           1
          ],
          [
           1
          ],
          [
           -1
          ],
          [
           1
          ],
          [
           1
          ],
          [
           -1
          ],
          [
           -1
          ],
          [
           1
          ],
          [
           1
          ],
          [
           -1
          ],
          [
           1
          ],
          [
           -1
          ],
          [
           -1
          ],
          [
           -1
          ],
          [
           -1
          ],
          [
           -1
          ],
          [
           -1
          ],
          [
           -1
          ],
          [
           1
          ],
          [
           -1
          ],
          [
           -1
          ],
          [
           1
          ],
          [
           1
          ],
          [
           -1
          ],
          [
           1
          ],
          [
           1
          ],
          [
           -1
          ],
          [
           1
          ],
          [
           1
          ],
          [
           1
          ],
          [
           1
          ],
          [
           1
          ],
          [
           -1
          ],
          [
           1
          ],
          [
           1
          ],
          [
           1
          ],
          [
           1
          ],
          [
           1
          ],
          [
           1
          ],
          [
           -1
          ],
          [
           1
          ],
          [
           -1
          ],
          [
           -1
          ],
          [
           1
          ],
          [
           -1
          ],
          [
           1
          ],
          [
           -1
          ],
          [
           -1
          ],
          [
           -1
          ],
          [
           1
          ],
          [
           -1
          ],
          [
           1
          ],
          [
           1
          ],
          [
           -1
          ],
          [
           -1
          ],
          [
           -1
          ],
          [
           1
          ],
          [
           1
          ],
          [
           1
          ],
          [
           1
          ],
          [
           -1
          ],
          [
           1
          ],
          [
           1
          ],
          [
           -1
          ],
          [
           -1
          ],
          [
           1
          ],
          [
           1
          ],
          [
           -1
          ],
          [
           1
          ],
          [
           1
          ],
          [
           -1
          ],
          [
           1
          ],
          [
           1
          ],
          [
           -1
          ],
          [
           -1
          ],
          [
           -1
          ],
          [
           -1
          ],
          [
           -1
          ],
          [
           -1
          ],
          [
           1
          ],
          [
           -1
          ],
          [
           1
          ],
          [
           1
          ],
          [
           1
          ],
          [
           1
          ],
          [
           -1
          ],
          [
           -1
          ],
          [
           -1
          ],
          [
           1
          ],
          [
           1
          ],
          [
           -1
          ],
          [
           1
          ],
          [
           -1
          ],
          [
           1
          ],
          [
           -1
          ],
          [
           1
          ],
          [
           -1
          ],
          [
           1
          ],
          [
           -1
          ],
          [
           -1
          ],
          [
           -1
          ],
          [
           -1
          ],
          [
           1
          ],
          [
           -1
          ],
          [
           -1
          ],
          [
           1
          ],
          [
           1
          ],
          [
           1
          ],
          [
           -1
          ],
          [
           1
          ],
          [
           -1
          ],
          [
           -1
          ],
          [
           -1
          ],
          [
           1
          ],
          [
           -1
          ],
          [
           -1
          ],
          [
           1
          ],
          [
           -1
          ],
          [
           -1
          ],
          [
           1
          ],
          [
           1
          ],
          [
           -1
          ],
          [
           -1
          ],
          [
           -1
          ],
          [
           -1
          ],
          [
           -1
          ],
          [
           -1
          ],
          [
           -1
          ],
          [
           -1
          ],
          [
           -1
          ],
          [
           -1
          ],
          [
           1
          ],
          [
           -1
          ],
          [
           -1
          ],
          [
           -1
          ],
          [
           -1
          ],
          [
           -1
          ],
          [
           -1
          ],
          [
           1
          ],
          [
           -1
          ],
          [
           -1
          ],
          [
           1
          ],
          [
           -1
          ],
          [
           1
          ],
          [
           -1
          ],
          [
           1
          ],
          [
           -1
          ],
          [
           1
          ],
          [
           -1
          ],
          [
           1
          ],
          [
           -1
          ],
          [
           -1
          ],
          [
           1
          ],
          [
           -1
          ],
          [
           -1
          ],
          [
           -1
          ],
          [
           -1
          ],
          [
           -1
          ],
          [
           -1
          ],
          [
           1
          ],
          [
           1
          ],
          [
           -1
          ],
          [
           -1
          ],
          [
           1
          ],
          [
           -1
          ],
          [
           -1
          ],
          [
           -1
          ],
          [
           -1
          ],
          [
           -1
          ],
          [
           1
          ],
          [
           -1
          ],
          [
           -1
          ],
          [
           1
          ],
          [
           -1
          ],
          [
           1
          ],
          [
           -1
          ],
          [
           -1
          ],
          [
           -1
          ],
          [
           -1
          ],
          [
           -1
          ],
          [
           -1
          ],
          [
           -1
          ],
          [
           -1
          ],
          [
           -1
          ],
          [
           -1
          ],
          [
           -1
          ],
          [
           -1
          ],
          [
           -1
          ],
          [
           -1
          ],
          [
           -1
          ],
          [
           1
          ],
          [
           1
          ],
          [
           -1
          ],
          [
           -1
          ],
          [
           1
          ],
          [
           -1
          ],
          [
           -1
          ],
          [
           -1
          ],
          [
           -1
          ],
          [
           -1
          ],
          [
           -1
          ],
          [
           1
          ],
          [
           -1
          ],
          [
           1
          ],
          [
           -1
          ],
          [
           -1
          ],
          [
           -1
          ],
          [
           -1
          ],
          [
           1
          ],
          [
           1
          ],
          [
           -1
          ],
          [
           1
          ],
          [
           -1
          ],
          [
           -1
          ],
          [
           1
          ],
          [
           -1
          ],
          [
           1
          ],
          [
           -1
          ],
          [
           -1
          ],
          [
           1
          ],
          [
           -1
          ],
          [
           1
          ],
          [
           1
          ],
          [
           -1
          ],
          [
           -1
          ],
          [
           1
          ],
          [
           -1
          ],
          [
           -1
          ],
          [
           -1
          ],
          [
           1
          ],
          [
           -1
          ],
          [
           -1
          ],
          [
           -1
          ],
          [
           -1
          ],
          [
           -1
          ],
          [
           1
          ],
          [
           1
          ],
          [
           -1
          ],
          [
           -1
          ],
          [
           1
          ],
          [
           1
          ],
          [
           -1
          ],
          [
           1
          ],
          [
           -1
          ],
          [
           1
          ],
          [
           -1
          ],
          [
           -1
          ],
          [
           1
          ],
          [
           -1
          ],
          [
           1
          ],
          [
           -1
          ],
          [
           -1
          ],
          [
           -1
          ],
          [
           1
          ],
          [
           1
          ],
          [
           -1
          ],
          [
           1
          ],
          [
           -1
          ],
          [
           1
          ],
          [
           -1
          ],
          [
           -1
          ],
          [
           -1
          ],
          [
           1
          ],
          [
           1
          ],
          [
           -1
          ],
          [
           1
          ],
          [
           -1
          ],
          [
           -1
          ],
          [
           1
          ],
          [
           1
          ],
          [
           1
          ],
          [
           -1
          ],
          [
           -1
          ],
          [
           -1
          ],
          [
           1
          ],
          [
           -1
          ],
          [
           1
          ],
          [
           -1
          ],
          [
           1
          ],
          [
           -1
          ],
          [
           1
          ],
          [
           -1
          ],
          [
           -1
          ],
          [
           -1
          ],
          [
           1
          ],
          [
           -1
          ],
          [
           1
          ],
          [
           1
          ],
          [
           1
          ],
          [
           1
          ],
          [
           -1
          ],
          [
           -1
          ],
          [
           -1
          ],
          [
           -1
          ],
          [
           -1
          ],
          [
           -1
          ],
          [
           1
          ],
          [
           -1
          ],
          [
           -1
          ],
          [
           -1
          ],
          [
           1
          ],
          [
           1
          ],
          [
           1
          ],
          [
           -1
          ],
          [
           1
          ],
          [
           -1
          ],
          [
           -1
          ],
          [
           -1
          ],
          [
           -1
          ],
          [
           1
          ],
          [
           -1
          ],
          [
           1
          ],
          [
           1
          ],
          [
           -1
          ],
          [
           1
          ],
          [
           1
          ],
          [
           1
          ],
          [
           1
          ],
          [
           -1
          ],
          [
           1
          ],
          [
           1
          ],
          [
           1
          ],
          [
           1
          ],
          [
           1
          ],
          [
           -1
          ],
          [
           1
          ],
          [
           -1
          ],
          [
           1
          ],
          [
           1
          ],
          [
           1
          ],
          [
           1
          ],
          [
           -1
          ],
          [
           1
          ],
          [
           -1
          ],
          [
           -1
          ],
          [
           1
          ],
          [
           1
          ],
          [
           1
          ],
          [
           1
          ],
          [
           1
          ],
          [
           -1
          ],
          [
           -1
          ],
          [
           -1
          ],
          [
           -1
          ],
          [
           1
          ],
          [
           1
          ],
          [
           1
          ],
          [
           1
          ],
          [
           1
          ],
          [
           -1
          ],
          [
           -1
          ],
          [
           -1
          ],
          [
           -1
          ],
          [
           1
          ],
          [
           -1
          ],
          [
           -1
          ],
          [
           -1
          ],
          [
           -1
          ],
          [
           1
          ],
          [
           1
          ],
          [
           -1
          ],
          [
           1
          ],
          [
           1
          ],
          [
           1
          ],
          [
           1
          ],
          [
           1
          ],
          [
           -1
          ],
          [
           1
          ],
          [
           1
          ],
          [
           1
          ],
          [
           1
          ],
          [
           1
          ],
          [
           1
          ],
          [
           -1
          ],
          [
           1
          ],
          [
           -1
          ],
          [
           -1
          ],
          [
           -1
          ],
          [
           1
          ],
          [
           1
          ],
          [
           1
          ],
          [
           -1
          ],
          [
           -1
          ],
          [
           -1
          ],
          [
           1
          ],
          [
           1
          ],
          [
           -1
          ],
          [
           -1
          ],
          [
           1
          ],
          [
           1
          ],
          [
           1
          ],
          [
           -1
          ],
          [
           1
          ],
          [
           1
          ],
          [
           1
          ],
          [
           1
          ],
          [
           -1
          ],
          [
           1
          ],
          [
           1
          ],
          [
           1
          ],
          [
           1
          ],
          [
           -1
          ],
          [
           1
          ],
          [
           -1
          ],
          [
           1
          ],
          [
           1
          ],
          [
           1
          ],
          [
           1
          ],
          [
           -1
          ],
          [
           -1
          ],
          [
           1
          ],
          [
           1
          ],
          [
           1
          ],
          [
           1
          ],
          [
           1
          ],
          [
           -1
          ],
          [
           1
          ],
          [
           1
          ],
          [
           1
          ],
          [
           1
          ],
          [
           1
          ],
          [
           1
          ],
          [
           1
          ],
          [
           1
          ],
          [
           1
          ],
          [
           -1
          ],
          [
           1
          ],
          [
           1
          ],
          [
           -1
          ],
          [
           -1
          ],
          [
           -1
          ],
          [
           -1
          ],
          [
           1
          ],
          [
           -1
          ],
          [
           -1
          ],
          [
           -1
          ],
          [
           1
          ],
          [
           1
          ],
          [
           1
          ],
          [
           -1
          ],
          [
           1
          ],
          [
           1
          ],
          [
           -1
          ],
          [
           1
          ],
          [
           -1
          ],
          [
           -1
          ],
          [
           -1
          ],
          [
           1
          ],
          [
           1
          ],
          [
           1
          ],
          [
           1
          ],
          [
           -1
          ],
          [
           -1
          ],
          [
           -1
          ],
          [
           -1
          ],
          [
           1
          ],
          [
           -1
          ],
          [
           -1
          ],
          [
           1
          ],
          [
           1
          ],
          [
           1
          ],
          [
           1
          ],
          [
           -1
          ],
          [
           -1
          ],
          [
           -1
          ],
          [
           -1
          ],
          [
           1
          ],
          [
           -1
          ],
          [
           -1
          ],
          [
           -1
          ],
          [
           -1
          ],
          [
           1
          ],
          [
           -1
          ],
          [
           1
          ],
          [
           1
          ],
          [
           1
          ],
          [
           -1
          ],
          [
           -1
          ],
          [
           1
          ],
          [
           -1
          ],
          [
           -1
          ],
          [
           -1
          ],
          [
           -1
          ],
          [
           -1
          ],
          [
           -1
          ],
          [
           1
          ],
          [
           1
          ],
          [
           -1
          ],
          [
           -1
          ],
          [
           1
          ],
          [
           -1
          ],
          [
           -1
          ],
          [
           1
          ],
          [
           1
          ],
          [
           1
          ],
          [
           -1
          ],
          [
           1
          ],
          [
           -1
          ],
          [
           -1
          ],
          [
           1
          ],
          [
           1
          ],
          [
           -1
          ],
          [
           1
          ],
          [
           1
          ],
          [
           -1
          ],
          [
           1
          ],
          [
           1
          ],
          [
           1
          ],
          [
           -1
          ],
          [
           -1
          ],
          [
           -1
          ],
          [
           -1
          ],
          [
           -1
          ],
          [
           -1
          ],
          [
           -1
          ],
          [
           -1
          ],
          [
           -1
          ],
          [
           -1
          ],
          [
           1
          ],
          [
           1
          ],
          [
           -1
          ],
          [
           1
          ],
          [
           1
          ],
          [
           1
          ],
          [
           1
          ],
          [
           1
          ],
          [
           -1
          ],
          [
           1
          ],
          [
           -1
          ],
          [
           -1
          ],
          [
           1
          ],
          [
           -1
          ],
          [
           1
          ],
          [
           1
          ],
          [
           -1
          ],
          [
           1
          ],
          [
           -1
          ],
          [
           -1
          ],
          [
           1
          ],
          [
           1
          ],
          [
           -1
          ],
          [
           -1
          ],
          [
           -1
          ],
          [
           1
          ],
          [
           -1
          ],
          [
           -1
          ],
          [
           -1
          ],
          [
           -1
          ],
          [
           -1
          ],
          [
           1
          ],
          [
           1
          ],
          [
           1
          ],
          [
           -1
          ],
          [
           -1
          ],
          [
           -1
          ],
          [
           -1
          ],
          [
           -1
          ],
          [
           1
          ],
          [
           1
          ],
          [
           -1
          ],
          [
           1
          ],
          [
           -1
          ],
          [
           1
          ],
          [
           -1
          ],
          [
           1
          ],
          [
           -1
          ],
          [
           1
          ],
          [
           -1
          ],
          [
           1
          ],
          [
           -1
          ],
          [
           -1
          ],
          [
           -1
          ],
          [
           1
          ],
          [
           1
          ],
          [
           1
          ],
          [
           1
          ],
          [
           1
          ],
          [
           -1
          ],
          [
           -1
          ],
          [
           1
          ],
          [
           1
          ],
          [
           -1
          ],
          [
           -1
          ],
          [
           1
          ],
          [
           -1
          ],
          [
           1
          ],
          [
           -1
          ],
          [
           -1
          ],
          [
           -1
          ],
          [
           1
          ],
          [
           -1
          ],
          [
           -1
          ],
          [
           1
          ],
          [
           -1
          ],
          [
           -1
          ],
          [
           -1
          ],
          [
           -1
          ],
          [
           1
          ],
          [
           -1
          ],
          [
           -1
          ],
          [
           -1
          ],
          [
           -1
          ],
          [
           -1
          ],
          [
           -1
          ],
          [
           -1
          ],
          [
           1
          ],
          [
           1
          ],
          [
           1
          ],
          [
           -1
          ],
          [
           -1
          ],
          [
           1
          ],
          [
           -1
          ],
          [
           -1
          ],
          [
           1
          ],
          [
           1
          ],
          [
           1
          ],
          [
           1
          ],
          [
           -1
          ],
          [
           -1
          ],
          [
           1
          ],
          [
           -1
          ],
          [
           -1
          ],
          [
           1
          ],
          [
           1
          ],
          [
           1
          ],
          [
           -1
          ],
          [
           -1
          ],
          [
           -1
          ],
          [
           -1
          ],
          [
           -1
          ],
          [
           1
          ],
          [
           1
          ],
          [
           -1
          ],
          [
           1
          ],
          [
           1
          ],
          [
           -1
          ],
          [
           -1
          ],
          [
           -1
          ],
          [
           -1
          ],
          [
           -1
          ],
          [
           1
          ],
          [
           1
          ],
          [
           -1
          ],
          [
           1
          ],
          [
           -1
          ],
          [
           1
          ],
          [
           -1
          ],
          [
           -1
          ],
          [
           1
          ],
          [
           -1
          ],
          [
           -1
          ],
          [
           -1
          ],
          [
           -1
          ],
          [
           -1
          ],
          [
           -1
          ],
          [
           -1
          ],
          [
           -1
          ],
          [
           1
          ],
          [
           1
          ],
          [
           1
          ],
          [
           1
          ],
          [
           1
          ],
          [
           1
          ],
          [
           -1
          ],
          [
           -1
          ],
          [
           1
          ],
          [
           1
          ],
          [
           -1
          ],
          [
           -1
          ],
          [
           1
          ],
          [
           1
          ],
          [
           -1
          ],
          [
           1
          ],
          [
           -1
          ],
          [
           -1
          ],
          [
           -1
          ],
          [
           1
          ],
          [
           1
          ],
          [
           1
          ],
          [
           -1
          ],
          [
           -1
          ],
          [
           -1
          ],
          [
           1
          ],
          [
           -1
          ],
          [
           1
          ],
          [
           -1
          ],
          [
           -1
          ],
          [
           -1
          ],
          [
           1
          ],
          [
           -1
          ],
          [
           1
          ],
          [
           -1
          ],
          [
           1
          ],
          [
           1
          ],
          [
           1
          ],
          [
           -1
          ],
          [
           -1
          ],
          [
           -1
          ],
          [
           -1
          ],
          [
           1
          ],
          [
           -1
          ],
          [
           1
          ],
          [
           -1
          ],
          [
           1
          ],
          [
           -1
          ],
          [
           1
          ],
          [
           1
          ],
          [
           -1
          ],
          [
           -1
          ],
          [
           1
          ],
          [
           1
          ],
          [
           -1
          ],
          [
           -1
          ],
          [
           -1
          ],
          [
           -1
          ],
          [
           -1
          ],
          [
           1
          ],
          [
           1
          ],
          [
           1
          ],
          [
           -1
          ],
          [
           -1
          ],
          [
           -1
          ],
          [
           0.7725488568210367
          ],
          [
           0.9811226256707821
          ],
          [
           0.49020122240066893
          ],
          [
           -0.9598057703032453
          ],
          [
           -0.9999439653486589
          ],
          [
           -0.9868185334274806
          ],
          [
           -0.7417646377199766
          ],
          [
           -0.3882148174281626
          ],
          [
           1
          ],
          [
           0.49941973156828096
          ],
          [
           0.9979944585946708
          ],
          [
           1
          ],
          [
           1
          ],
          [
           -1
          ],
          [
           -0.9972144943090921
          ],
          [
           0.7860276854381137
          ],
          [
           -1
          ],
          [
           -0.7874361089246853
          ],
          [
           1
          ],
          [
           1
          ],
          [
           1
          ],
          [
           0.9191257216639651
          ],
          [
           -1
          ],
          [
           1
          ],
          [
           0.5830480825219212
          ],
          [
           0.3230420515437755
          ],
          [
           -1
          ],
          [
           1
          ],
          [
           -1
          ],
          [
           -0.5764444093761668
          ],
          [
           -0.7793248027385755
          ],
          [
           -0.7248587543641551
          ],
          [
           -0.9991491426106699
          ],
          [
           -0.9973298454056062
          ],
          [
           -1
          ],
          [
           1
          ],
          [
           -1
          ],
          [
           -1
          ],
          [
           -1
          ],
          [
           1
          ],
          [
           1
          ],
          [
           -0.9999999939164425
          ],
          [
           -0.4757214892315563
          ],
          [
           1
          ],
          [
           1
          ],
          [
           1
          ],
          [
           1
          ],
          [
           1
          ],
          [
           -0.4391366671177064
          ],
          [
           -1
          ],
          [
           -0.9605368081075311
          ],
          [
           -0.7184577057005826
          ],
          [
           0.7164116045710216
          ],
          [
           0.8606122097099099
          ],
          [
           -1
          ],
          [
           1
          ],
          [
           -0.5812582945879234
          ],
          [
           0.902730639746865
          ],
          [
           1
          ],
          [
           1
          ],
          [
           -0.22522561105956562
          ],
          [
           -0.9767322910622378
          ],
          [
           1
          ],
          [
           1
          ],
          [
           1
          ],
          [
           -1
          ],
          [
           -1
          ],
          [
           1
          ],
          [
           -0.6059906073086935
          ],
          [
           1
          ],
          [
           -1
          ],
          [
           -1
          ],
          [
           1
          ],
          [
           1
          ],
          [
           0.9997567226571827
          ],
          [
           -0.9773309429506353
          ],
          [
           1
          ],
          [
           -1
          ],
          [
           -1
          ],
          [
           -0.22375995797695902
          ],
          [
           -1
          ],
          [
           -1
          ],
          [
           -1
          ],
          [
           -0.0939554305121947
          ],
          [
           -0.9924368352701013
          ],
          [
           0.1213366113374239
          ],
          [
           -1
          ],
          [
           0.26191491843522763
          ]
         ],
         "domain": {
          "x": [
           0,
           1
          ],
          "y": [
           0,
           1
          ]
         },
         "hovertemplate": "labels=%{label}<br>abs_cumul_net_dollar_flow=%{value}<br>parent=%{parent}<br>id=%{id}<br>flow_direction=%{color}<extra></extra>",
         "ids": [
          "all/Solana/01",
          "all/Binance/1inch-network",
          "all/Ethereum/1inch-network",
          "all/Ethereum/88mph",
          "all/Fantom/88mph",
          "all/Ethereum/aave-v1",
          "all/Avalanche/aave-v2",
          "all/Ethereum/aave-v2",
          "all/Ethereum-pool2/aave-v2",
          "all/Polygon/aave-v2",
          "all/pool2/aave-v2",
          "all/Arbitrum/aave-v3",
          "all/Avalanche/aave-v3",
          "all/Fantom/aave-v3",
          "all/Harmony/aave-v3",
          "all/Optimism/aave-v3",
          "all/Polygon/aave-v3",
          "all/Ethereum/aavegotchi",
          "all/Polygon/aavegotchi",
          "all/Polygon-pool2/aavegotchi",
          "all/pool2/aavegotchi",
          "all/Acala/acala-dollar",
          "all/Acala/acala-lcdot",
          "all/Acala/acala-liquid-staking",
          "all/Acala/acala-swap",
          "all/Ethereum/across",
          "all/Astar/acryptos",
          "all/Avalanche/acryptos",
          "all/Binance/acryptos",
          "all/Cronos/acryptos",
          "all/Fantom/acryptos",
          "all/Harmony/acryptos",
          "all/Moonbeam/acryptos",
          "all/Moonriver/acryptos",
          "all/xDai/acryptos",
          "all/Ethereum/alchemix",
          "all/Fantom/alchemix",
          "all/Solana/aldrin",
          "all/Algorand/algofi",
          "all/Avalanche/allbridge",
          "all/Binance/allbridge",
          "all/Celo/allbridge",
          "all/Ethereum/allbridge",
          "all/Fantom/allbridge",
          "all/Heco/allbridge",
          "all/Near/allbridge",
          "all/Polygon/allbridge",
          "all/Solana/allbridge",
          "all/Terra/allbridge",
          "all/Binance/alpaca-finance",
          "all/Fantom/alpaca-finance",
          "all/Arbitrum/angle",
          "all/Ethereum/angle",
          "all/Optimism/angle",
          "all/Polygon/angle",
          "all/Avalanche/ankr",
          "all/Binance/ankr",
          "all/Ethereum/ankr",
          "all/Fantom/ankr",
          "all/Kusama/ankr",
          "all/Polkadot/ankr",
          "all/Binance/apeswap-amm",
          "all/Ethereum/apeswap-amm",
          "all/Polygon/apeswap-amm",
          "all/Binance/apeswap-lending",
          "all/Binance/apollox",
          "all/Binance-pool2/apollox",
          "all/pool2/apollox",
          "all/Ethereum/armor",
          "all/Ethereum/arrakis-finance",
          "all/Optimism/arrakis-finance",
          "all/Polygon/arrakis-finance",
          "all/Astar/arthswap",
          "all/Terra/astroport",
          "all/Terra2/astroport",
          "all/Ethereum/aura",
          "all/Aurora/aurigami",
          "all/Arbitrum/b.protocol",
          "all/Ethereum/b.protocol",
          "all/Polygon/b.protocol",
          "all/Binance/babyswap",
          "all/Arbitrum/balancer",
          "all/Ethereum/balancer",
          "all/Polygon/balancer",
          "all/Ethereum/bancor",
          "all/Aurora/bastion",
          "all/Arbitrum/beefy",
          "all/Aurora/beefy",
          "all/Avalanche/beefy",
          "all/Binance/beefy",
          "all/Celo/beefy",
          "all/Cronos/beefy",
          "all/Fantom/beefy",
          "all/Fuse/beefy",
          "all/Harmony/beefy",
          "all/Heco/beefy",
          "all/Metis/beefy",
          "all/Moonbeam/beefy",
          "all/Moonriver/beefy",
          "all/Oasis/beefy",
          "all/Optimism/beefy",
          "all/Polygon/beefy",
          "all/Fantom/beethoven-x",
          "all/Optimism/beethoven-x",
          "all/Ethereum/bella-protocol",
          "all/Ethereum-pool2/bella-protocol",
          "all/pool2/bella-protocol",
          "all/Binance/belt-finance",
          "all/Heco/belt-finance",
          "all/Klaytn/belt-finance",
          "all/Ethereum/benddao",
          "all/Avalanche/benqi-lending",
          "all/Avalanche-pool2/benqi-lending",
          "all/pool2/benqi-lending",
          "all/Avalanche/benqi-staked-avax",
          "all/Avalanche/beta-finance",
          "all/Ethereum/beta-finance",
          "all/Avalanche/bifi",
          "all/Binance/bifi",
          "all/Ethereum/bifi",
          "all/Klaytn/bifi",
          "all/Bifrost/bifrost",
          "all/Binance/biswap",
          "all/Binance/bunny",
          "all/Polygon/bunny",
          "all/Near/burrow",
          "all/Arbitrum/cbridge",
          "all/Aurora/cbridge",
          "all/Avalanche/cbridge",
          "all/Binance/cbridge",
          "all/Boba/cbridge",
          "all/Ethereum/cbridge",
          "all/Fantom/cbridge",
          "all/Harmony/cbridge",
          "all/Metis/cbridge",
          "all/Optimism/cbridge",
          "all/Polygon/cbridge",
          "all/Shiden/cbridge",
          "all/Binance/chainport",
          "all/Ethereum/chainport",
          "all/Klaytn/claimswap",
          "all/Ethereum/clipper",
          "all/Moonbeam/clipper",
          "all/Optimism/clipper",
          "all/Polygon/clipper",
          "all/Binance/coinwind",
          "all/Binance-pool2/coinwind",
          "all/Heco/coinwind",
          "all/Heco-pool2/coinwind",
          "all/pool2/coinwind",
          "all/Ethereum/compound",
          "all/Ethereum/concave",
          "all/Ethereum/concentrator",
          "all/Arbitrum/connext",
          "all/Avalanche/connext",
          "all/Binance/connext",
          "all/Boba/connext",
          "all/Cronos/connext",
          "all/Ethereum/connext",
          "all/Evmos/connext",
          "all/Fantom/connext",
          "all/Fuse/connext",
          "all/Milkomeda/connext",
          "all/Moonbeam/connext",
          "all/Moonriver/connext",
          "all/Optimism/connext",
          "all/Polygon/connext",
          "all/xDai/connext",
          "all/Ethereum/convex-finance",
          "all/Arbitrum/cream-finance",
          "all/Binance/cream-finance",
          "all/Ethereum/cream-finance",
          "all/Polygon/cream-finance",
          "all/DFK/crystalvale",
          "all/Arbitrum/curve",
          "all/Aurora/curve",
          "all/Avalanche/curve",
          "all/Ethereum/curve",
          "all/Fantom/curve",
          "all/Moonbeam/curve",
          "all/Optimism/curve",
          "all/Polygon/curve",
          "all/xDai/curve",
          "all/Binance/deeplock",
          "all/Binance-pool2/deeplock",
          "all/pool2/deeplock",
          "all/Harmony/defi-kingdoms",
          "all/Ethereum/defi-swap",
          "all/Wax/defibox",
          "all/Ethereum/defidollar-dao",
          "all/Ethereum/defisaver",
          "all/Avalanche/defrost",
          "all/Arbitrum/dforce",
          "all/Binance/dforce",
          "all/Ethereum/dforce",
          "all/Optimism/dforce",
          "all/Polygon/dforce",
          "all/Ethereum/dfx-finance",
          "all/Polygon/dfx-finance",
          "all/Fantom/dfyn-network",
          "all/OKExChain/dfyn-network",
          "all/Polygon/dfyn-network",
          "all/Arbitrum/dopex",
          "all/Arbitrum-pool2/dopex",
          "all/Binance/dopex",
          "all/Ethereum-pool2/dopex",
          "all/pool2/dopex",
          "all/Binance/dot-dot-finance",
          "all/Avalanche/dxsale",
          "all/Binance/dxsale",
          "all/Celo/dxsale",
          "all/Cronos/dxsale",
          "all/Ethereum/dxsale",
          "all/Fantom/dxsale",
          "all/Harmony/dxsale",
          "all/Heco/dxsale",
          "all/Milkomeda/dxsale",
          "all/OKExChain/dxsale",
          "all/Polygon/dxsale",
          "all/Ethereum/dydx",
          "all/Polygon/dystopia",
          "all/Avalanche/echidna-finance",
          "all/Avalanche-pool2/echidna-finance",
          "all/pool2/echidna-finance",
          "all/Ethereum/element-finance",
          "all/Binance/ellipsis-finance",
          "all/Ethereum/enzyme-finance",
          "all/EOS/eos-rex",
          "all/Ethereum/euler",
          "all/Fantom/fantohm",
          "all/Moonriver/fantohm",
          "all/Ethereum/fei-protocol",
          "all/Cronos/ferro",
          "all/Binance/filda",
          "all/Elastos/filda",
          "all/Heco/filda",
          "all/IoTeX/filda",
          "all/Polygon/filda",
          "all/REI/filda",
          "all/NEO/flamingo-finance",
          "all/Ethereum/flexa",
          "all/Songbird/flrfarm",
          "all/Songbird-pool2/flrfarm",
          "all/pool2/flrfarm",
          "all/Algorand/folks-finance",
          "all/Ethereum/frax",
          "all/Ethereum-pool2/frax",
          "all/Ethereum-treasury/frax",
          "all/Fantom/frax",
          "all/pool2/frax",
          "all/treasury/frax",
          "all/Solana/friktion",
          "all/Polygon/gains-network",
          "all/Polygon-pool2/gains-network",
          "all/pool2/gains-network",
          "all/Ethereum/gearbox",
          "all/Fantom/geist-finance",
          "all/Fantom-pool2/geist-finance",
          "all/pool2/geist-finance",
          "all/Arbitrum/gmx",
          "all/Avalanche/gmx",
          "all/Avalanche/gro",
          "all/Ethereum/gro",
          "all/Ethereum-pool2/gro",
          "all/pool2/gro",
          "all/Polygon/guard(helmet)",
          "all/Binance/harvest-finance",
          "all/Ethereum/harvest-finance",
          "all/Polygon/harvest-finance",
          "all/Arbitrum/hashflow",
          "all/Avalanche/hashflow",
          "all/Binance/hashflow",
          "all/Ethereum/hashflow",
          "all/Polygon/hashflow",
          "all/Binance/hector-network",
          "all/Ethereum/hector-network",
          "all/Fantom/hector-network",
          "all/Avalanche/homora",
          "all/Binance/homora",
          "all/Ethereum/homora",
          "all/Fantom/homora",
          "all/Arbitrum/hop-protocol",
          "all/Ethereum/hop-protocol",
          "all/Optimism/hop-protocol",
          "all/Polygon/hop-protocol",
          "all/xDai/hop-protocol",
          "all/Solana/hubble",
          "all/Arbitrum/hundred-finance",
          "all/Ethereum/hundred-finance",
          "all/Fantom/hundred-finance",
          "all/Harmony/hundred-finance",
          "all/Moonriver/hundred-finance",
          "all/Optimism/hundred-finance",
          "all/Polygon/hundred-finance",
          "all/Polygon/idex",
          "all/Ethereum/idle-finance",
          "all/Polygon/idle-finance",
          "all/Ethereum/index-coop",
          "all/Ethereum/injective",
          "all/Ethereum/instadapp",
          "all/Avalanche/insurace",
          "all/Binance/insurace",
          "all/Ethereum/insurace",
          "all/Polygon/insurace",
          "all/Ethereum/inverse-finance",
          "all/Avalanche/iron-bank",
          "all/Ethereum/iron-bank",
          "all/Fantom/iron-bank",
          "all/Binance/iziswap",
          "all/Arbitrum/izumi-finance",
          "all/Ethereum/izumi-finance",
          "all/Ethereum-pool2/izumi-finance",
          "all/Polygon/izumi-finance",
          "all/pool2/izumi-finance",
          "all/Solana/jpool",
          "all/Tron/justlend",
          "all/Tron/juststables",
          "all/Kardia/kaidex",
          "all/Karura/karura-dollar-(kusd)",
          "all/Karura/karura-liquid-staking",
          "all/Solana/katana",
          "all/Ronin/katana-dex",
          "all/Kava/kava-lend",
          "all/Kava/kava-mint",
          "all/Kava/kava-swap",
          "all/Klaytn/klap",
          "all/Klaytn/klayswap",
          "all/Polygon/klima-dao",
          "all/Binance/knightswap-finance",
          "all/Fantom/knightswap-finance",
          "all/Klaytn/kokoa-finance",
          "all/Klaytn-pool2/kokoa-finance",
          "all/pool2/kokoa-finance",
          "all/Klaytn/kokonut-swap",
          "all/Arbitrum/kyberswap",
          "all/Avalanche/kyberswap",
          "all/Binance/kyberswap",
          "all/Cronos/kyberswap",
          "all/Ethereum/kyberswap",
          "all/Fantom/kyberswap",
          "all/Oasis/kyberswap",
          "all/Optimism/kyberswap",
          "all/Polygon/kyberswap",
          "all/Solana/larix",
          "all/Ethereum/lido",
          "all/Moonbeam/lido",
          "all/Moonriver/lido",
          "all/Solana/lido",
          "all/Terra/lido",
          "all/Bitcoin/lightning-network",
          "all/Near/linear-protocol",
          "all/Binance/liqee",
          "all/Ethereum/liqee",
          "all/Fantom/liquid-driver",
          "all/Ethereum/liquity",
          "all/Ethereum/llama-airforce",
          "all/Ethereum/loopring",
          "all/Ethereum/lyra",
          "all/Optimism/lyra",
          "all/Elrond/maiar-exchange",
          "all/Ethereum/makerdao",
          "all/Solana/mango-markets",
          "all/Ethereum/maple",
          "all/Solana/maple",
          "all/Solana/marinade-finance",
          "all/Celo/mento",
          "all/Solana/mercurial-finance",
          "all/Polygon/meshswap",
          "all/Near/meta-pool",
          "all/Ethereum/metronome",
          "all/IoTeX/mimo",
          "all/Ethereum/mimo-defi",
          "all/Fantom/mimo-defi",
          "all/Polygon/mimo-defi",
          "all/Cardano/minswap",
          "all/Cronos/mm-finance",
          "all/Cronos/mm-optimizer",
          "all/Kucoin/mojitoswap",
          "all/RSK/moneyonchain",
          "all/Celo/moola-market",
          "all/Moonriver/moonwell-apollo",
          "all/Moonbeam/moonwell-artemis",
          "all/Ethereum/mstable",
          "all/Polygon/mstable",
          "all/NEO/neoburger",
          "all/Avalanche/nereus-finance",
          "all/Metis/netswap",
          "all/Waves/neutrino",
          "all/Ethereum/nexus-mutual",
          "all/Ethereum/nftx",
          "all/Binance/nomiswap",
          "all/Ethereum/notional",
          "all/Binance/octus-bridge",
          "all/Ethereum/octus-bridge",
          "all/Everscale/octus-bridge",
          "all/Polygon/octus-bridge",
          "all/Ethereum/olympus-dao",
          "all/Avalanche/onx-finance",
          "all/Ethereum/onx-finance",
          "all/Ethereum-pool2/onx-finance",
          "all/Fantom/onx-finance",
          "all/Polygon/onx-finance",
          "all/pool2/onx-finance",
          "all/Arbitrum/ooki",
          "all/Binance/ooki",
          "all/Ethereum/ooki",
          "all/Optimism/ooki",
          "all/Polygon/ooki",
          "all/Avalanche/opyn",
          "all/Ethereum/opyn",
          "all/Polygon/opyn",
          "all/Ethereum/origin-dollar",
          "all/Binance/orion-protocol",
          "all/Ethereum/orion-protocol",
          "all/Osmosis/osmosis",
          "all/Ethereum/ouchi-finance",
          "all/Boba/outcome-finance",
          "all/Ethereum/outcome-finance",
          "all/Polygon/outcome-finance",
          "all/Binance/pancakeswap",
          "all/Avalanche/pangolin",
          "all/Solana/parrot-protocol",
          "all/Polygon/penrose",
          "all/Optimism/perpetual-protocol",
          "all/Arbitrum/pickle",
          "all/Arbitrum-pool2/pickle",
          "all/Aurora/pickle",
          "all/Cronos/pickle",
          "all/Ethereum/pickle",
          "all/Ethereum-pool2/pickle",
          "all/Metis/pickle",
          "all/Moonbeam/pickle",
          "all/Moonriver/pickle",
          "all/OKExChain/pickle",
          "all/Optimism/pickle",
          "all/Polygon/pickle",
          "all/Polygon-pool2/pickle",
          "all/pool2/pickle",
          "all/Avalanche/pinksale",
          "all/Binance/pinksale",
          "all/Cronos/pinksale",
          "all/Ethereum/pinksale",
          "all/Fantom/pinksale",
          "all/Polygon/pinksale",
          "all/Binance/planet",
          "all/Avalanche/platypus-finance",
          "all/Binance/pnetwork",
          "all/Bitcoin/pnetwork",
          "all/Doge/pnetwork",
          "all/EOS/pnetwork",
          "all/Ethereum/pnetwork",
          "all/Fantom/pnetwork",
          "all/LBRY/pnetwork",
          "all/Litecoin/pnetwork",
          "all/ORE/pnetwork",
          "all/Ravencoin/pnetwork",
          "all/Telos/pnetwork",
          "all/Polygon/polygon-bridge-&-staking",
          "all/Avalanche/pooltogether",
          "all/Binance/pooltogether",
          "all/Celo/pooltogether",
          "all/Ethereum/pooltogether",
          "all/Optimism/pooltogether",
          "all/Polygon/pooltogether",
          "all/Solana/port-finance",
          "all/Binance/position-exchange",
          "all/Binance-treasury/position-exchange",
          "all/treasury/position-exchange",
          "all/Proton/proton-loan",
          "all/Ethereum/pstake",
          "all/Ethereum-pool2/pstake",
          "all/pool2/pstake",
          "all/Hoo/puddingswap",
          "all/Arbitrum/qidao",
          "all/Avalanche/qidao",
          "all/Binance/qidao",
          "all/Fantom/qidao",
          "all/Harmony/qidao",
          "all/Metis/qidao",
          "all/Moonriver/qidao",
          "all/Optimism/qidao",
          "all/Polygon/qidao",
          "all/xDai/qidao",
          "all/Solana/quarry",
          "all/Polygon/quickswap",
          "all/Arbitrum/radiant",
          "all/Arbitrum-pool2/radiant",
          "all/pool2/radiant",
          "all/Avalanche/radioshack",
          "all/Binance/radioshack",
          "all/Ethereum/radioshack",
          "all/Polygon/radioshack",
          "all/Arbitrum/rari-capital",
          "all/Ethereum/rari-capital",
          "all/Ethereum-pool2/rari-capital",
          "all/pool2/rari-capital",
          "all/xDai/realt",
          "all/Fantom/reaper-farm",
          "all/Optimism/reaper-farm",
          "all/Near/ref-finance",
          "all/Ethereum/reflexer",
          "all/Arbitrum/renvm",
          "all/Avalanche/renvm",
          "all/Binance/renvm",
          "all/Ethereum/renvm",
          "all/Fantom/renvm",
          "all/Polygon/renvm",
          "all/Solana/renvm",
          "all/Telos/rex-staking",
          "all/Ethereum/rhino.fi",
          "all/Avalanche/ribbon-finance",
          "all/Ethereum/ribbon-finance",
          "all/Solana/ribbon-finance",
          "all/Avalanche/risk-harbor",
          "all/Ethereum/risk-harbor",
          "all/Ethereum/rocket-pool",
          "all/Ethereum/rook",
          "all/Solana/saber",
          "all/Ethereum/sablier-finance",
          "all/Arbitrum/saddle-finance",
          "all/Ethereum/saddle-finance",
          "all/Evmos/saddle-finance",
          "all/Fantom/saddle-finance",
          "all/Kava/saddle-finance",
          "all/Optimism/saddle-finance",
          "all/Binance/sashimiswap",
          "all/Ethereum/sashimiswap",
          "all/Heco/sashimiswap",
          "all/Ethereum/set-protocol",
          "all/Ethereum/sherlock",
          "all/Ethereum/shibaswap",
          "all/Icon/sicx",
          "all/Cronos/single-finance",
          "all/Cronos-pool2/single-finance",
          "all/Fantom/single-finance",
          "all/Fantom-pool2/single-finance",
          "all/pool2/single-finance",
          "all/Moonriver/solarbeam",
          "all/Solana/solend",
          "all/Binance/solo-top",
          "all/Heco/solo-top",
          "all/OKExChain/solo-top",
          "all/Polygon/solo-top",
          "all/Binance/solv-protocol",
          "all/Ethereum/solv-protocol",
          "all/Polygon/solv-protocol",
          "all/Fantom/spartacus",
          "all/Fantom/spiritswap",
          "all/Fantom/spookyswap",
          "all/Ethereum/spool-protocol",
          "all/Stacks/stacks-staking",
          "all/Binance/stader",
          "all/Fantom/stader",
          "all/Hedera/stader",
          "all/Near/stader",
          "all/Polygon/stader",
          "all/Terra/stader",
          "all/Terra2/stader",
          "all/Binance/stafi",
          "all/Cosmos/stafi",
          "all/Ethereum/stafi",
          "all/Polygon/stafi",
          "all/Solana/stafi",
          "all/Stafi/stafi",
          "all/Avalanche/stakedao",
          "all/Ethereum/stakedao",
          "all/Harmony/stakedao",
          "all/Polygon/stakedao",
          "all/Ethereum/stakewise",
          "all/xDai/stakewise",
          "all/Arbitrum/stargate",
          "all/Avalanche/stargate",
          "all/Binance/stargate",
          "all/Ethereum/stargate",
          "all/Fantom/stargate",
          "all/Optimism/stargate",
          "all/Polygon/stargate",
          "all/Astar/starlay-finance",
          "all/Moonbeam/stellaswap",
          "all/Ethereum/strike",
          "all/Ethereum/sturdy",
          "all/Fantom/sturdy",
          "all/Tron/sun.io",
          "all/Tron-pool2/sun.io",
          "all/pool2/sun.io",
          "all/Cardano/sundaeswap",
          "all/Solana/sunny",
          "all/Tron/sunswap",
          "all/Polygon/superfluid",
          "all/xDai/superfluid",
          "all/Arbitrum/sushiswap",
          "all/Avalanche/sushiswap",
          "all/Binance/sushiswap",
          "all/Celo/sushiswap",
          "all/Ethereum/sushiswap",
          "all/Fantom/sushiswap",
          "all/Fuse/sushiswap",
          "all/Harmony/sushiswap",
          "all/Heco/sushiswap",
          "all/Moonriver/sushiswap",
          "all/OKExChain/sushiswap",
          "all/Polygon/sushiswap",
          "all/Telos/sushiswap",
          "all/xDai/sushiswap",
          "all/Arbitrum/sushiswap-kashi",
          "all/Binance/sushiswap-kashi",
          "all/Ethereum/sushiswap-kashi",
          "all/Fantom/sushiswap-kashi",
          "all/Arbitrum/swapr",
          "all/Ethereum/swapr",
          "all/xDai/swapr",
          "all/Solana/swim-protocol",
          "all/Arbitrum/synapse",
          "all/Aurora/synapse",
          "all/Avalanche/synapse",
          "all/Binance/synapse",
          "all/Boba/synapse",
          "all/Cronos/synapse",
          "all/Ethereum/synapse",
          "all/Ethereum-pool2/synapse",
          "all/Fantom/synapse",
          "all/Harmony/synapse",
          "all/Klaytn/synapse",
          "all/Metis/synapse",
          "all/Moonriver/synapse",
          "all/Optimism/synapse",
          "all/Polygon/synapse",
          "all/pool2/synapse",
          "all/Ethereum/synthetix",
          "all/Optimism/synthetix",
          "all/Fantom/tarot",
          "all/Optimism/tarot",
          "all/Avalanche/team-finance",
          "all/Binance/team-finance",
          "all/Ethereum/team-finance",
          "all/Polygon/team-finance",
          "all/Cronos/tectonic",
          "all/Ethereum/temple-dao",
          "all/Ethereum-pool2/temple-dao",
          "all/pool2/temple-dao",
          "all/Binance/terra-bridge",
          "all/Ethereum/terra-bridge",
          "all/Harmony/terra-bridge",
          "all/Fantom/tetu",
          "all/Polygon/tetu",
          "all/Tezos/tezos-liquidity-baking",
          "all/Ethereum/the-tokenized-bitcoin",
          "all/Theta/thetacash",
          "all/Aurora/thetanuts-finance",
          "all/Avalanche/thetanuts-finance",
          "all/Binance/thetanuts-finance",
          "all/Boba/thetanuts-finance",
          "all/Ethereum/thetanuts-finance",
          "all/Fantom/thetanuts-finance",
          "all/Polygon/thetanuts-finance",
          "all/Theta/thetaswap",
          "all/Algorand/tinyman",
          "all/Ethereum/tokemak",
          "all/Ethereum-pool2/tokemak",
          "all/pool2/tokemak",
          "all/Binance/tokensfarm",
          "all/Ethereum/tokensfarm",
          "all/Fantom/tokensfarm",
          "all/Polygon/tokensfarm",
          "all/Fantom/tomb-finance",
          "all/Fantom-pool2/tomb-finance",
          "all/pool2/tomb-finance",
          "all/Arbitrum/tornado-cash",
          "all/Avalanche/tornado-cash",
          "all/Binance/tornado-cash",
          "all/Ethereum/tornado-cash",
          "all/Optimism/tornado-cash",
          "all/Polygon/tornado-cash",
          "all/xDai/tornado-cash",
          "all/Polygon/toucan-protocol",
          "all/Avalanche/trader-joe",
          "all/Binance/tranchess",
          "all/Aurora/trisolaris",
          "all/Ethereum/truefi",
          "all/Avalanche/unicrypt",
          "all/Binance/unicrypt",
          "all/Binance-pool2/unicrypt",
          "all/Ethereum/unicrypt",
          "all/Ethereum-pool2/unicrypt",
          "all/Polygon/unicrypt",
          "all/pool2/unicrypt",
          "all/xDai-pool2/unicrypt",
          "all/Arbitrum/uniswap",
          "all/Celo/uniswap",
          "all/Ethereum/uniswap",
          "all/Optimism/uniswap",
          "all/Polygon/uniswap",
          "all/Ethereum/unslashed",
          "all/Solana/uxd",
          "all/Binance/valas-finance",
          "all/Binance-pool2/valas-finance",
          "all/pool2/valas-finance",
          "all/Oasis/valleyswap",
          "all/Avalanche/vector-finance",
          "all/Avalanche-pool2/vector-finance",
          "all/pool2/vector-finance",
          "all/Optimism/velodrome",
          "all/Binance/venus",
          "all/Avalanche/vesper",
          "all/Ethereum/vesper",
          "all/Polygon/vesper",
          "all/Arbitrum/vesta-finance",
          "all/Arbitrum-pool2/vesta-finance",
          "all/pool2/vesta-finance",
          "all/Waves/vires-finance",
          "all/Cronos/vvs-finance",
          "all/Waves/waves-exchange",
          "all/Ethereum/wbtc",
          "all/Arbitrum/wepiggy",
          "all/Aurora/wepiggy",
          "all/Binance/wepiggy",
          "all/Ethereum/wepiggy",
          "all/Harmony/wepiggy",
          "all/Heco/wepiggy",
          "all/Moonbeam/wepiggy",
          "all/Moonriver/wepiggy",
          "all/OKExChain/wepiggy",
          "all/Oasis/wepiggy",
          "all/Optimism/wepiggy",
          "all/Polygon/wepiggy",
          "all/Cardano/wingriders",
          "all/Binance/wombat-exchange",
          "all/Binance/wrapped-bnb",
          "all/Ethereum/xdai-stake-bridge",
          "all/Astar/xdao",
          "all/Avalanche/xdao",
          "all/Binance/xdao",
          "all/Ethereum/xdao",
          "all/Fantom/xdao",
          "all/Polygon/xdao",
          "all/Arbitrum/yearn-finance",
          "all/Ethereum/yearn-finance",
          "all/Fantom/yearn-finance",
          "all/Avalanche/yeti-finance",
          "all/Avalanche-pool2/yeti-finance",
          "all/pool2/yeti-finance",
          "all/Arbitrum/yield-protocol",
          "all/Ethereum/yield-protocol",
          "all/Avalanche/yield-yak",
          "all/Avalanche-pool2/yield-yak",
          "all/pool2/yield-yak",
          "all/Binance/yoshi-exchange",
          "all/Fantom/yoshi-exchange",
          "all/Tezos/youves",
          "all/Tezos-pool2/youves",
          "all/pool2/youves",
          "all/Solana/zeta",
          "all/Acala",
          "all/Algorand",
          "all/Arbitrum",
          "all/Arbitrum-pool2",
          "all/Astar",
          "all/Aurora",
          "all/Avalanche",
          "all/Avalanche-pool2",
          "all/Bifrost",
          "all/Binance",
          "all/Binance-pool2",
          "all/Binance-treasury",
          "all/Bitcoin",
          "all/Boba",
          "all/Cardano",
          "all/Celo",
          "all/Cosmos",
          "all/Cronos",
          "all/Cronos-pool2",
          "all/DFK",
          "all/Doge",
          "all/EOS",
          "all/Elastos",
          "all/Elrond",
          "all/Ethereum",
          "all/Ethereum-pool2",
          "all/Ethereum-treasury",
          "all/Everscale",
          "all/Evmos",
          "all/Fantom",
          "all/Fantom-pool2",
          "all/Fuse",
          "all/Harmony",
          "all/Heco",
          "all/Heco-pool2",
          "all/Hedera",
          "all/Hoo",
          "all/Icon",
          "all/IoTeX",
          "all/Kardia",
          "all/Karura",
          "all/Kava",
          "all/Klaytn",
          "all/Klaytn-pool2",
          "all/Kucoin",
          "all/Kusama",
          "all/LBRY",
          "all/Litecoin",
          "all/Metis",
          "all/Milkomeda",
          "all/Moonbeam",
          "all/Moonriver",
          "all/NEO",
          "all/Near",
          "all/OKExChain",
          "all/ORE",
          "all/Oasis",
          "all/Optimism",
          "all/Osmosis",
          "all/Polkadot",
          "all/Polygon",
          "all/Polygon-pool2",
          "all/Proton",
          "all/REI",
          "all/RSK",
          "all/Ravencoin",
          "all/Ronin",
          "all/Shiden",
          "all/Solana",
          "all/Songbird",
          "all/Songbird-pool2",
          "all/Stacks",
          "all/Stafi",
          "all/Telos",
          "all/Terra",
          "all/Terra2",
          "all/Tezos",
          "all/Tezos-pool2",
          "all/Theta",
          "all/Tron",
          "all/Tron-pool2",
          "all/Waves",
          "all/Wax",
          "all/pool2",
          "all/treasury",
          "all/xDai",
          "all/xDai-pool2",
          "all"
         ],
         "labels": [
          "01",
          "1inch-network",
          "1inch-network",
          "88mph",
          "88mph",
          "aave-v1",
          "aave-v2",
          "aave-v2",
          "aave-v2",
          "aave-v2",
          "aave-v2",
          "aave-v3",
          "aave-v3",
          "aave-v3",
          "aave-v3",
          "aave-v3",
          "aave-v3",
          "aavegotchi",
          "aavegotchi",
          "aavegotchi",
          "aavegotchi",
          "acala-dollar",
          "acala-lcdot",
          "acala-liquid-staking",
          "acala-swap",
          "across",
          "acryptos",
          "acryptos",
          "acryptos",
          "acryptos",
          "acryptos",
          "acryptos",
          "acryptos",
          "acryptos",
          "acryptos",
          "alchemix",
          "alchemix",
          "aldrin",
          "algofi",
          "allbridge",
          "allbridge",
          "allbridge",
          "allbridge",
          "allbridge",
          "allbridge",
          "allbridge",
          "allbridge",
          "allbridge",
          "allbridge",
          "alpaca-finance",
          "alpaca-finance",
          "angle",
          "angle",
          "angle",
          "angle",
          "ankr",
          "ankr",
          "ankr",
          "ankr",
          "ankr",
          "ankr",
          "apeswap-amm",
          "apeswap-amm",
          "apeswap-amm",
          "apeswap-lending",
          "apollox",
          "apollox",
          "apollox",
          "armor",
          "arrakis-finance",
          "arrakis-finance",
          "arrakis-finance",
          "arthswap",
          "astroport",
          "astroport",
          "aura",
          "aurigami",
          "b.protocol",
          "b.protocol",
          "b.protocol",
          "babyswap",
          "balancer",
          "balancer",
          "balancer",
          "bancor",
          "bastion",
          "beefy",
          "beefy",
          "beefy",
          "beefy",
          "beefy",
          "beefy",
          "beefy",
          "beefy",
          "beefy",
          "beefy",
          "beefy",
          "beefy",
          "beefy",
          "beefy",
          "beefy",
          "beefy",
          "beethoven-x",
          "beethoven-x",
          "bella-protocol",
          "bella-protocol",
          "bella-protocol",
          "belt-finance",
          "belt-finance",
          "belt-finance",
          "benddao",
          "benqi-lending",
          "benqi-lending",
          "benqi-lending",
          "benqi-staked-avax",
          "beta-finance",
          "beta-finance",
          "bifi",
          "bifi",
          "bifi",
          "bifi",
          "bifrost",
          "biswap",
          "bunny",
          "bunny",
          "burrow",
          "cbridge",
          "cbridge",
          "cbridge",
          "cbridge",
          "cbridge",
          "cbridge",
          "cbridge",
          "cbridge",
          "cbridge",
          "cbridge",
          "cbridge",
          "cbridge",
          "chainport",
          "chainport",
          "claimswap",
          "clipper",
          "clipper",
          "clipper",
          "clipper",
          "coinwind",
          "coinwind",
          "coinwind",
          "coinwind",
          "coinwind",
          "compound",
          "concave",
          "concentrator",
          "connext",
          "connext",
          "connext",
          "connext",
          "connext",
          "connext",
          "connext",
          "connext",
          "connext",
          "connext",
          "connext",
          "connext",
          "connext",
          "connext",
          "connext",
          "convex-finance",
          "cream-finance",
          "cream-finance",
          "cream-finance",
          "cream-finance",
          "crystalvale",
          "curve",
          "curve",
          "curve",
          "curve",
          "curve",
          "curve",
          "curve",
          "curve",
          "curve",
          "deeplock",
          "deeplock",
          "deeplock",
          "defi-kingdoms",
          "defi-swap",
          "defibox",
          "defidollar-dao",
          "defisaver",
          "defrost",
          "dforce",
          "dforce",
          "dforce",
          "dforce",
          "dforce",
          "dfx-finance",
          "dfx-finance",
          "dfyn-network",
          "dfyn-network",
          "dfyn-network",
          "dopex",
          "dopex",
          "dopex",
          "dopex",
          "dopex",
          "dot-dot-finance",
          "dxsale",
          "dxsale",
          "dxsale",
          "dxsale",
          "dxsale",
          "dxsale",
          "dxsale",
          "dxsale",
          "dxsale",
          "dxsale",
          "dxsale",
          "dydx",
          "dystopia",
          "echidna-finance",
          "echidna-finance",
          "echidna-finance",
          "element-finance",
          "ellipsis-finance",
          "enzyme-finance",
          "eos-rex",
          "euler",
          "fantohm",
          "fantohm",
          "fei-protocol",
          "ferro",
          "filda",
          "filda",
          "filda",
          "filda",
          "filda",
          "filda",
          "flamingo-finance",
          "flexa",
          "flrfarm",
          "flrfarm",
          "flrfarm",
          "folks-finance",
          "frax",
          "frax",
          "frax",
          "frax",
          "frax",
          "frax",
          "friktion",
          "gains-network",
          "gains-network",
          "gains-network",
          "gearbox",
          "geist-finance",
          "geist-finance",
          "geist-finance",
          "gmx",
          "gmx",
          "gro",
          "gro",
          "gro",
          "gro",
          "guard(helmet)",
          "harvest-finance",
          "harvest-finance",
          "harvest-finance",
          "hashflow",
          "hashflow",
          "hashflow",
          "hashflow",
          "hashflow",
          "hector-network",
          "hector-network",
          "hector-network",
          "homora",
          "homora",
          "homora",
          "homora",
          "hop-protocol",
          "hop-protocol",
          "hop-protocol",
          "hop-protocol",
          "hop-protocol",
          "hubble",
          "hundred-finance",
          "hundred-finance",
          "hundred-finance",
          "hundred-finance",
          "hundred-finance",
          "hundred-finance",
          "hundred-finance",
          "idex",
          "idle-finance",
          "idle-finance",
          "index-coop",
          "injective",
          "instadapp",
          "insurace",
          "insurace",
          "insurace",
          "insurace",
          "inverse-finance",
          "iron-bank",
          "iron-bank",
          "iron-bank",
          "iziswap",
          "izumi-finance",
          "izumi-finance",
          "izumi-finance",
          "izumi-finance",
          "izumi-finance",
          "jpool",
          "justlend",
          "juststables",
          "kaidex",
          "karura-dollar-(kusd)",
          "karura-liquid-staking",
          "katana",
          "katana-dex",
          "kava-lend",
          "kava-mint",
          "kava-swap",
          "klap",
          "klayswap",
          "klima-dao",
          "knightswap-finance",
          "knightswap-finance",
          "kokoa-finance",
          "kokoa-finance",
          "kokoa-finance",
          "kokonut-swap",
          "kyberswap",
          "kyberswap",
          "kyberswap",
          "kyberswap",
          "kyberswap",
          "kyberswap",
          "kyberswap",
          "kyberswap",
          "kyberswap",
          "larix",
          "lido",
          "lido",
          "lido",
          "lido",
          "lido",
          "lightning-network",
          "linear-protocol",
          "liqee",
          "liqee",
          "liquid-driver",
          "liquity",
          "llama-airforce",
          "loopring",
          "lyra",
          "lyra",
          "maiar-exchange",
          "makerdao",
          "mango-markets",
          "maple",
          "maple",
          "marinade-finance",
          "mento",
          "mercurial-finance",
          "meshswap",
          "meta-pool",
          "metronome",
          "mimo",
          "mimo-defi",
          "mimo-defi",
          "mimo-defi",
          "minswap",
          "mm-finance",
          "mm-optimizer",
          "mojitoswap",
          "moneyonchain",
          "moola-market",
          "moonwell-apollo",
          "moonwell-artemis",
          "mstable",
          "mstable",
          "neoburger",
          "nereus-finance",
          "netswap",
          "neutrino",
          "nexus-mutual",
          "nftx",
          "nomiswap",
          "notional",
          "octus-bridge",
          "octus-bridge",
          "octus-bridge",
          "octus-bridge",
          "olympus-dao",
          "onx-finance",
          "onx-finance",
          "onx-finance",
          "onx-finance",
          "onx-finance",
          "onx-finance",
          "ooki",
          "ooki",
          "ooki",
          "ooki",
          "ooki",
          "opyn",
          "opyn",
          "opyn",
          "origin-dollar",
          "orion-protocol",
          "orion-protocol",
          "osmosis",
          "ouchi-finance",
          "outcome-finance",
          "outcome-finance",
          "outcome-finance",
          "pancakeswap",
          "pangolin",
          "parrot-protocol",
          "penrose",
          "perpetual-protocol",
          "pickle",
          "pickle",
          "pickle",
          "pickle",
          "pickle",
          "pickle",
          "pickle",
          "pickle",
          "pickle",
          "pickle",
          "pickle",
          "pickle",
          "pickle",
          "pickle",
          "pinksale",
          "pinksale",
          "pinksale",
          "pinksale",
          "pinksale",
          "pinksale",
          "planet",
          "platypus-finance",
          "pnetwork",
          "pnetwork",
          "pnetwork",
          "pnetwork",
          "pnetwork",
          "pnetwork",
          "pnetwork",
          "pnetwork",
          "pnetwork",
          "pnetwork",
          "pnetwork",
          "polygon-bridge-&-staking",
          "pooltogether",
          "pooltogether",
          "pooltogether",
          "pooltogether",
          "pooltogether",
          "pooltogether",
          "port-finance",
          "position-exchange",
          "position-exchange",
          "position-exchange",
          "proton-loan",
          "pstake",
          "pstake",
          "pstake",
          "puddingswap",
          "qidao",
          "qidao",
          "qidao",
          "qidao",
          "qidao",
          "qidao",
          "qidao",
          "qidao",
          "qidao",
          "qidao",
          "quarry",
          "quickswap",
          "radiant",
          "radiant",
          "radiant",
          "radioshack",
          "radioshack",
          "radioshack",
          "radioshack",
          "rari-capital",
          "rari-capital",
          "rari-capital",
          "rari-capital",
          "realt",
          "reaper-farm",
          "reaper-farm",
          "ref-finance",
          "reflexer",
          "renvm",
          "renvm",
          "renvm",
          "renvm",
          "renvm",
          "renvm",
          "renvm",
          "rex-staking",
          "rhino.fi",
          "ribbon-finance",
          "ribbon-finance",
          "ribbon-finance",
          "risk-harbor",
          "risk-harbor",
          "rocket-pool",
          "rook",
          "saber",
          "sablier-finance",
          "saddle-finance",
          "saddle-finance",
          "saddle-finance",
          "saddle-finance",
          "saddle-finance",
          "saddle-finance",
          "sashimiswap",
          "sashimiswap",
          "sashimiswap",
          "set-protocol",
          "sherlock",
          "shibaswap",
          "sicx",
          "single-finance",
          "single-finance",
          "single-finance",
          "single-finance",
          "single-finance",
          "solarbeam",
          "solend",
          "solo-top",
          "solo-top",
          "solo-top",
          "solo-top",
          "solv-protocol",
          "solv-protocol",
          "solv-protocol",
          "spartacus",
          "spiritswap",
          "spookyswap",
          "spool-protocol",
          "stacks-staking",
          "stader",
          "stader",
          "stader",
          "stader",
          "stader",
          "stader",
          "stader",
          "stafi",
          "stafi",
          "stafi",
          "stafi",
          "stafi",
          "stafi",
          "stakedao",
          "stakedao",
          "stakedao",
          "stakedao",
          "stakewise",
          "stakewise",
          "stargate",
          "stargate",
          "stargate",
          "stargate",
          "stargate",
          "stargate",
          "stargate",
          "starlay-finance",
          "stellaswap",
          "strike",
          "sturdy",
          "sturdy",
          "sun.io",
          "sun.io",
          "sun.io",
          "sundaeswap",
          "sunny",
          "sunswap",
          "superfluid",
          "superfluid",
          "sushiswap",
          "sushiswap",
          "sushiswap",
          "sushiswap",
          "sushiswap",
          "sushiswap",
          "sushiswap",
          "sushiswap",
          "sushiswap",
          "sushiswap",
          "sushiswap",
          "sushiswap",
          "sushiswap",
          "sushiswap",
          "sushiswap-kashi",
          "sushiswap-kashi",
          "sushiswap-kashi",
          "sushiswap-kashi",
          "swapr",
          "swapr",
          "swapr",
          "swim-protocol",
          "synapse",
          "synapse",
          "synapse",
          "synapse",
          "synapse",
          "synapse",
          "synapse",
          "synapse",
          "synapse",
          "synapse",
          "synapse",
          "synapse",
          "synapse",
          "synapse",
          "synapse",
          "synapse",
          "synthetix",
          "synthetix",
          "tarot",
          "tarot",
          "team-finance",
          "team-finance",
          "team-finance",
          "team-finance",
          "tectonic",
          "temple-dao",
          "temple-dao",
          "temple-dao",
          "terra-bridge",
          "terra-bridge",
          "terra-bridge",
          "tetu",
          "tetu",
          "tezos-liquidity-baking",
          "the-tokenized-bitcoin",
          "thetacash",
          "thetanuts-finance",
          "thetanuts-finance",
          "thetanuts-finance",
          "thetanuts-finance",
          "thetanuts-finance",
          "thetanuts-finance",
          "thetanuts-finance",
          "thetaswap",
          "tinyman",
          "tokemak",
          "tokemak",
          "tokemak",
          "tokensfarm",
          "tokensfarm",
          "tokensfarm",
          "tokensfarm",
          "tomb-finance",
          "tomb-finance",
          "tomb-finance",
          "tornado-cash",
          "tornado-cash",
          "tornado-cash",
          "tornado-cash",
          "tornado-cash",
          "tornado-cash",
          "tornado-cash",
          "toucan-protocol",
          "trader-joe",
          "tranchess",
          "trisolaris",
          "truefi",
          "unicrypt",
          "unicrypt",
          "unicrypt",
          "unicrypt",
          "unicrypt",
          "unicrypt",
          "unicrypt",
          "unicrypt",
          "uniswap",
          "uniswap",
          "uniswap",
          "uniswap",
          "uniswap",
          "unslashed",
          "uxd",
          "valas-finance",
          "valas-finance",
          "valas-finance",
          "valleyswap",
          "vector-finance",
          "vector-finance",
          "vector-finance",
          "velodrome",
          "venus",
          "vesper",
          "vesper",
          "vesper",
          "vesta-finance",
          "vesta-finance",
          "vesta-finance",
          "vires-finance",
          "vvs-finance",
          "waves-exchange",
          "wbtc",
          "wepiggy",
          "wepiggy",
          "wepiggy",
          "wepiggy",
          "wepiggy",
          "wepiggy",
          "wepiggy",
          "wepiggy",
          "wepiggy",
          "wepiggy",
          "wepiggy",
          "wepiggy",
          "wingriders",
          "wombat-exchange",
          "wrapped-bnb",
          "xdai-stake-bridge",
          "xdao",
          "xdao",
          "xdao",
          "xdao",
          "xdao",
          "xdao",
          "yearn-finance",
          "yearn-finance",
          "yearn-finance",
          "yeti-finance",
          "yeti-finance",
          "yeti-finance",
          "yield-protocol",
          "yield-protocol",
          "yield-yak",
          "yield-yak",
          "yield-yak",
          "yoshi-exchange",
          "yoshi-exchange",
          "youves",
          "youves",
          "youves",
          "zeta",
          "Acala",
          "Algorand",
          "Arbitrum",
          "Arbitrum-pool2",
          "Astar",
          "Aurora",
          "Avalanche",
          "Avalanche-pool2",
          "Bifrost",
          "Binance",
          "Binance-pool2",
          "Binance-treasury",
          "Bitcoin",
          "Boba",
          "Cardano",
          "Celo",
          "Cosmos",
          "Cronos",
          "Cronos-pool2",
          "DFK",
          "Doge",
          "EOS",
          "Elastos",
          "Elrond",
          "Ethereum",
          "Ethereum-pool2",
          "Ethereum-treasury",
          "Everscale",
          "Evmos",
          "Fantom",
          "Fantom-pool2",
          "Fuse",
          "Harmony",
          "Heco",
          "Heco-pool2",
          "Hedera",
          "Hoo",
          "Icon",
          "IoTeX",
          "Kardia",
          "Karura",
          "Kava",
          "Klaytn",
          "Klaytn-pool2",
          "Kucoin",
          "Kusama",
          "LBRY",
          "Litecoin",
          "Metis",
          "Milkomeda",
          "Moonbeam",
          "Moonriver",
          "NEO",
          "Near",
          "OKExChain",
          "ORE",
          "Oasis",
          "Optimism",
          "Osmosis",
          "Polkadot",
          "Polygon",
          "Polygon-pool2",
          "Proton",
          "REI",
          "RSK",
          "Ravencoin",
          "Ronin",
          "Shiden",
          "Solana",
          "Songbird",
          "Songbird-pool2",
          "Stacks",
          "Stafi",
          "Telos",
          "Terra",
          "Terra2",
          "Tezos",
          "Tezos-pool2",
          "Theta",
          "Tron",
          "Tron-pool2",
          "Waves",
          "Wax",
          "pool2",
          "treasury",
          "xDai",
          "xDai-pool2",
          "all"
         ],
         "marker": {
          "coloraxis": "coloraxis",
          "colors": [
           1,
           -1,
           -1,
           -1,
           -1,
           -1,
           -1,
           1,
           1,
           -1,
           1,
           -1,
           -1,
           -1,
           -1,
           1,
           1,
           1,
           1,
           -1,
           -1,
           1,
           -1,
           1,
           1,
           -1,
           -1,
           1,
           1,
           -1,
           1,
           1,
           -1,
           1,
           1,
           -1,
           -1,
           1,
           1,
           -1,
           1,
           -1,
           -1,
           -1,
           -1,
           -1,
           -1,
           -1,
           1,
           -1,
           -1,
           1,
           1,
           -1,
           1,
           1,
           -1,
           1,
           1,
           1,
           1,
           1,
           -1,
           1,
           1,
           1,
           1,
           1,
           1,
           -1,
           1,
           -1,
           -1,
           1,
           -1,
           1,
           -1,
           -1,
           -1,
           1,
           -1,
           1,
           1,
           -1,
           -1,
           -1,
           1,
           1,
           1,
           1,
           -1,
           1,
           1,
           -1,
           -1,
           1,
           1,
           -1,
           1,
           1,
           -1,
           1,
           1,
           -1,
           -1,
           -1,
           -1,
           -1,
           -1,
           1,
           -1,
           1,
           1,
           1,
           1,
           -1,
           -1,
           -1,
           1,
           1,
           -1,
           1,
           -1,
           1,
           -1,
           1,
           -1,
           1,
           -1,
           -1,
           -1,
           -1,
           1,
           -1,
           -1,
           1,
           1,
           1,
           -1,
           1,
           -1,
           -1,
           -1,
           1,
           -1,
           -1,
           1,
           -1,
           -1,
           1,
           1,
           -1,
           -1,
           -1,
           -1,
           -1,
           -1,
           -1,
           -1,
           -1,
           -1,
           1,
           -1,
           -1,
           -1,
           -1,
           -1,
           -1,
           1,
           -1,
           -1,
           1,
           -1,
           1,
           -1,
           1,
           -1,
           1,
           -1,
           1,
           -1,
           -1,
           1,
           -1,
           -1,
           -1,
           -1,
           -1,
           -1,
           1,
           1,
           -1,
           -1,
           1,
           -1,
           -1,
           -1,
           -1,
           -1,
           1,
           -1,
           -1,
           1,
           -1,
           1,
           -1,
           -1,
           -1,
           -1,
           -1,
           -1,
           -1,
           -1,
           -1,
           -1,
           -1,
           -1,
           -1,
           -1,
           -1,
           1,
           1,
           -1,
           -1,
           1,
           -1,
           -1,
           -1,
           -1,
           -1,
           -1,
           1,
           -1,
           1,
           -1,
           -1,
           -1,
           -1,
           1,
           1,
           -1,
           1,
           -1,
           -1,
           1,
           -1,
           1,
           -1,
           -1,
           1,
           -1,
           1,
           1,
           -1,
           -1,
           1,
           -1,
           -1,
           -1,
           1,
           -1,
           -1,
           -1,
           -1,
           -1,
           1,
           1,
           -1,
           -1,
           1,
           1,
           -1,
           1,
           -1,
           1,
           -1,
           -1,
           1,
           -1,
           1,
           -1,
           -1,
           -1,
           1,
           1,
           -1,
           1,
           -1,
           1,
           -1,
           -1,
           -1,
           1,
           1,
           -1,
           1,
           -1,
           -1,
           1,
           1,
           1,
           -1,
           -1,
           -1,
           1,
           -1,
           1,
           -1,
           1,
           -1,
           1,
           -1,
           -1,
           -1,
           1,
           -1,
           1,
           1,
           1,
           1,
           -1,
           -1,
           -1,
           -1,
           -1,
           -1,
           1,
           -1,
           -1,
           -1,
           1,
           1,
           1,
           -1,
           1,
           -1,
           -1,
           -1,
           -1,
           1,
           -1,
           1,
           1,
           -1,
           1,
           1,
           1,
           1,
           -1,
           1,
           1,
           1,
           1,
           1,
           -1,
           1,
           -1,
           1,
           1,
           1,
           1,
           -1,
           1,
           -1,
           -1,
           1,
           1,
           1,
           1,
           1,
           -1,
           -1,
           -1,
           -1,
           1,
           1,
           1,
           1,
           1,
           -1,
           -1,
           -1,
           -1,
           1,
           -1,
           -1,
           -1,
           -1,
           1,
           1,
           -1,
           1,
           1,
           1,
           1,
           1,
           -1,
           1,
           1,
           1,
           1,
           1,
           1,
           -1,
           1,
           -1,
           -1,
           -1,
           1,
           1,
           1,
           -1,
           -1,
           -1,
           1,
           1,
           -1,
           -1,
           1,
           1,
           1,
           -1,
           1,
           1,
           1,
           1,
           -1,
           1,
           1,
           1,
           1,
           -1,
           1,
           -1,
           1,
           1,
           1,
           1,
           -1,
           -1,
           1,
           1,
           1,
           1,
           1,
           -1,
           1,
           1,
           1,
           1,
           1,
           1,
           1,
           1,
           1,
           -1,
           1,
           1,
           -1,
           -1,
           -1,
           -1,
           1,
           -1,
           -1,
           -1,
           1,
           1,
           1,
           -1,
           1,
           1,
           -1,
           1,
           -1,
           -1,
           -1,
           1,
           1,
           1,
           1,
           -1,
           -1,
           -1,
           -1,
           1,
           -1,
           -1,
           1,
           1,
           1,
           1,
           -1,
           -1,
           -1,
           -1,
           1,
           -1,
           -1,
           -1,
           -1,
           1,
           -1,
           1,
           1,
           1,
           -1,
           -1,
           1,
           -1,
           -1,
           -1,
           -1,
           -1,
           -1,
           1,
           1,
           -1,
           -1,
           1,
           -1,
           -1,
           1,
           1,
           1,
           -1,
           1,
           -1,
           -1,
           1,
           1,
           -1,
           1,
           1,
           -1,
           1,
           1,
           1,
           -1,
           -1,
           -1,
           -1,
           -1,
           -1,
           -1,
           -1,
           -1,
           -1,
           1,
           1,
           -1,
           1,
           1,
           1,
           1,
           1,
           -1,
           1,
           -1,
           -1,
           1,
           -1,
           1,
           1,
           -1,
           1,
           -1,
           -1,
           1,
           1,
           -1,
           -1,
           -1,
           1,
           -1,
           -1,
           -1,
           -1,
           -1,
           1,
           1,
           1,
           -1,
           -1,
           -1,
           -1,
           -1,
           1,
           1,
           -1,
           1,
           -1,
           1,
           -1,
           1,
           -1,
           1,
           -1,
           1,
           -1,
           -1,
           -1,
           1,
           1,
           1,
           1,
           1,
           -1,
           -1,
           1,
           1,
           -1,
           -1,
           1,
           -1,
           1,
           -1,
           -1,
           -1,
           1,
           -1,
           -1,
           1,
           -1,
           -1,
           -1,
           -1,
           1,
           -1,
           -1,
           -1,
           -1,
           -1,
           -1,
           -1,
           1,
           1,
           1,
           -1,
           -1,
           1,
           -1,
           -1,
           1,
           1,
           1,
           1,
           -1,
           -1,
           1,
           -1,
           -1,
           1,
           1,
           1,
           -1,
           -1,
           -1,
           -1,
           -1,
           1,
           1,
           -1,
           1,
           1,
           -1,
           -1,
           -1,
           -1,
           -1,
           1,
           1,
           -1,
           1,
           -1,
           1,
           -1,
           -1,
           1,
           -1,
           -1,
           -1,
           -1,
           -1,
           -1,
           -1,
           -1,
           1,
           1,
           1,
           1,
           1,
           1,
           -1,
           -1,
           1,
           1,
           -1,
           -1,
           1,
           1,
           -1,
           1,
           -1,
           -1,
           -1,
           1,
           1,
           1,
           -1,
           -1,
           -1,
           1,
           -1,
           1,
           -1,
           -1,
           -1,
           1,
           -1,
           1,
           -1,
           1,
           1,
           1,
           -1,
           -1,
           -1,
           -1,
           1,
           -1,
           1,
           -1,
           1,
           -1,
           1,
           1,
           -1,
           -1,
           1,
           1,
           -1,
           -1,
           -1,
           -1,
           -1,
           1,
           1,
           1,
           -1,
           -1,
           -1,
           0.7725488568210367,
           0.9811226256707821,
           0.49020122240066893,
           -0.9598057703032453,
           -0.9999439653486589,
           -0.9868185334274806,
           -0.7417646377199766,
           -0.3882148174281626,
           1,
           0.49941973156828096,
           0.9979944585946708,
           1,
           1,
           -1,
           -0.9972144943090921,
           0.7860276854381137,
           -1,
           -0.7874361089246853,
           1,
           1,
           1,
           0.9191257216639651,
           -1,
           1,
           0.5830480825219212,
           0.3230420515437755,
           -1,
           1,
           -1,
           -0.5764444093761668,
           -0.7793248027385755,
           -0.7248587543641551,
           -0.9991491426106699,
           -0.9973298454056062,
           -1,
           1,
           -1,
           -1,
           -1,
           1,
           1,
           -0.9999999939164425,
           -0.4757214892315563,
           1,
           1,
           1,
           1,
           1,
           -0.4391366671177064,
           -1,
           -0.9605368081075311,
           -0.7184577057005826,
           0.7164116045710216,
           0.8606122097099099,
           -1,
           1,
           -0.5812582945879234,
           0.902730639746865,
           1,
           1,
           -0.22522561105956562,
           -0.9767322910622378,
           1,
           1,
           1,
           -1,
           -1,
           1,
           -0.6059906073086935,
           1,
           -1,
           -1,
           1,
           1,
           0.9997567226571827,
           -0.9773309429506353,
           1,
           -1,
           -1,
           -0.22375995797695902,
           -1,
           -1,
           -1,
           -0.0939554305121947,
           -0.9924368352701013,
           0.1213366113374239,
           -1,
           0.26191491843522763
          ]
         },
         "name": "",
         "parents": [
          "all/Solana",
          "all/Binance",
          "all/Ethereum",
          "all/Ethereum",
          "all/Fantom",
          "all/Ethereum",
          "all/Avalanche",
          "all/Ethereum",
          "all/Ethereum-pool2",
          "all/Polygon",
          "all/pool2",
          "all/Arbitrum",
          "all/Avalanche",
          "all/Fantom",
          "all/Harmony",
          "all/Optimism",
          "all/Polygon",
          "all/Ethereum",
          "all/Polygon",
          "all/Polygon-pool2",
          "all/pool2",
          "all/Acala",
          "all/Acala",
          "all/Acala",
          "all/Acala",
          "all/Ethereum",
          "all/Astar",
          "all/Avalanche",
          "all/Binance",
          "all/Cronos",
          "all/Fantom",
          "all/Harmony",
          "all/Moonbeam",
          "all/Moonriver",
          "all/xDai",
          "all/Ethereum",
          "all/Fantom",
          "all/Solana",
          "all/Algorand",
          "all/Avalanche",
          "all/Binance",
          "all/Celo",
          "all/Ethereum",
          "all/Fantom",
          "all/Heco",
          "all/Near",
          "all/Polygon",
          "all/Solana",
          "all/Terra",
          "all/Binance",
          "all/Fantom",
          "all/Arbitrum",
          "all/Ethereum",
          "all/Optimism",
          "all/Polygon",
          "all/Avalanche",
          "all/Binance",
          "all/Ethereum",
          "all/Fantom",
          "all/Kusama",
          "all/Polkadot",
          "all/Binance",
          "all/Ethereum",
          "all/Polygon",
          "all/Binance",
          "all/Binance",
          "all/Binance-pool2",
          "all/pool2",
          "all/Ethereum",
          "all/Ethereum",
          "all/Optimism",
          "all/Polygon",
          "all/Astar",
          "all/Terra",
          "all/Terra2",
          "all/Ethereum",
          "all/Aurora",
          "all/Arbitrum",
          "all/Ethereum",
          "all/Polygon",
          "all/Binance",
          "all/Arbitrum",
          "all/Ethereum",
          "all/Polygon",
          "all/Ethereum",
          "all/Aurora",
          "all/Arbitrum",
          "all/Aurora",
          "all/Avalanche",
          "all/Binance",
          "all/Celo",
          "all/Cronos",
          "all/Fantom",
          "all/Fuse",
          "all/Harmony",
          "all/Heco",
          "all/Metis",
          "all/Moonbeam",
          "all/Moonriver",
          "all/Oasis",
          "all/Optimism",
          "all/Polygon",
          "all/Fantom",
          "all/Optimism",
          "all/Ethereum",
          "all/Ethereum-pool2",
          "all/pool2",
          "all/Binance",
          "all/Heco",
          "all/Klaytn",
          "all/Ethereum",
          "all/Avalanche",
          "all/Avalanche-pool2",
          "all/pool2",
          "all/Avalanche",
          "all/Avalanche",
          "all/Ethereum",
          "all/Avalanche",
          "all/Binance",
          "all/Ethereum",
          "all/Klaytn",
          "all/Bifrost",
          "all/Binance",
          "all/Binance",
          "all/Polygon",
          "all/Near",
          "all/Arbitrum",
          "all/Aurora",
          "all/Avalanche",
          "all/Binance",
          "all/Boba",
          "all/Ethereum",
          "all/Fantom",
          "all/Harmony",
          "all/Metis",
          "all/Optimism",
          "all/Polygon",
          "all/Shiden",
          "all/Binance",
          "all/Ethereum",
          "all/Klaytn",
          "all/Ethereum",
          "all/Moonbeam",
          "all/Optimism",
          "all/Polygon",
          "all/Binance",
          "all/Binance-pool2",
          "all/Heco",
          "all/Heco-pool2",
          "all/pool2",
          "all/Ethereum",
          "all/Ethereum",
          "all/Ethereum",
          "all/Arbitrum",
          "all/Avalanche",
          "all/Binance",
          "all/Boba",
          "all/Cronos",
          "all/Ethereum",
          "all/Evmos",
          "all/Fantom",
          "all/Fuse",
          "all/Milkomeda",
          "all/Moonbeam",
          "all/Moonriver",
          "all/Optimism",
          "all/Polygon",
          "all/xDai",
          "all/Ethereum",
          "all/Arbitrum",
          "all/Binance",
          "all/Ethereum",
          "all/Polygon",
          "all/DFK",
          "all/Arbitrum",
          "all/Aurora",
          "all/Avalanche",
          "all/Ethereum",
          "all/Fantom",
          "all/Moonbeam",
          "all/Optimism",
          "all/Polygon",
          "all/xDai",
          "all/Binance",
          "all/Binance-pool2",
          "all/pool2",
          "all/Harmony",
          "all/Ethereum",
          "all/Wax",
          "all/Ethereum",
          "all/Ethereum",
          "all/Avalanche",
          "all/Arbitrum",
          "all/Binance",
          "all/Ethereum",
          "all/Optimism",
          "all/Polygon",
          "all/Ethereum",
          "all/Polygon",
          "all/Fantom",
          "all/OKExChain",
          "all/Polygon",
          "all/Arbitrum",
          "all/Arbitrum-pool2",
          "all/Binance",
          "all/Ethereum-pool2",
          "all/pool2",
          "all/Binance",
          "all/Avalanche",
          "all/Binance",
          "all/Celo",
          "all/Cronos",
          "all/Ethereum",
          "all/Fantom",
          "all/Harmony",
          "all/Heco",
          "all/Milkomeda",
          "all/OKExChain",
          "all/Polygon",
          "all/Ethereum",
          "all/Polygon",
          "all/Avalanche",
          "all/Avalanche-pool2",
          "all/pool2",
          "all/Ethereum",
          "all/Binance",
          "all/Ethereum",
          "all/EOS",
          "all/Ethereum",
          "all/Fantom",
          "all/Moonriver",
          "all/Ethereum",
          "all/Cronos",
          "all/Binance",
          "all/Elastos",
          "all/Heco",
          "all/IoTeX",
          "all/Polygon",
          "all/REI",
          "all/NEO",
          "all/Ethereum",
          "all/Songbird",
          "all/Songbird-pool2",
          "all/pool2",
          "all/Algorand",
          "all/Ethereum",
          "all/Ethereum-pool2",
          "all/Ethereum-treasury",
          "all/Fantom",
          "all/pool2",
          "all/treasury",
          "all/Solana",
          "all/Polygon",
          "all/Polygon-pool2",
          "all/pool2",
          "all/Ethereum",
          "all/Fantom",
          "all/Fantom-pool2",
          "all/pool2",
          "all/Arbitrum",
          "all/Avalanche",
          "all/Avalanche",
          "all/Ethereum",
          "all/Ethereum-pool2",
          "all/pool2",
          "all/Polygon",
          "all/Binance",
          "all/Ethereum",
          "all/Polygon",
          "all/Arbitrum",
          "all/Avalanche",
          "all/Binance",
          "all/Ethereum",
          "all/Polygon",
          "all/Binance",
          "all/Ethereum",
          "all/Fantom",
          "all/Avalanche",
          "all/Binance",
          "all/Ethereum",
          "all/Fantom",
          "all/Arbitrum",
          "all/Ethereum",
          "all/Optimism",
          "all/Polygon",
          "all/xDai",
          "all/Solana",
          "all/Arbitrum",
          "all/Ethereum",
          "all/Fantom",
          "all/Harmony",
          "all/Moonriver",
          "all/Optimism",
          "all/Polygon",
          "all/Polygon",
          "all/Ethereum",
          "all/Polygon",
          "all/Ethereum",
          "all/Ethereum",
          "all/Ethereum",
          "all/Avalanche",
          "all/Binance",
          "all/Ethereum",
          "all/Polygon",
          "all/Ethereum",
          "all/Avalanche",
          "all/Ethereum",
          "all/Fantom",
          "all/Binance",
          "all/Arbitrum",
          "all/Ethereum",
          "all/Ethereum-pool2",
          "all/Polygon",
          "all/pool2",
          "all/Solana",
          "all/Tron",
          "all/Tron",
          "all/Kardia",
          "all/Karura",
          "all/Karura",
          "all/Solana",
          "all/Ronin",
          "all/Kava",
          "all/Kava",
          "all/Kava",
          "all/Klaytn",
          "all/Klaytn",
          "all/Polygon",
          "all/Binance",
          "all/Fantom",
          "all/Klaytn",
          "all/Klaytn-pool2",
          "all/pool2",
          "all/Klaytn",
          "all/Arbitrum",
          "all/Avalanche",
          "all/Binance",
          "all/Cronos",
          "all/Ethereum",
          "all/Fantom",
          "all/Oasis",
          "all/Optimism",
          "all/Polygon",
          "all/Solana",
          "all/Ethereum",
          "all/Moonbeam",
          "all/Moonriver",
          "all/Solana",
          "all/Terra",
          "all/Bitcoin",
          "all/Near",
          "all/Binance",
          "all/Ethereum",
          "all/Fantom",
          "all/Ethereum",
          "all/Ethereum",
          "all/Ethereum",
          "all/Ethereum",
          "all/Optimism",
          "all/Elrond",
          "all/Ethereum",
          "all/Solana",
          "all/Ethereum",
          "all/Solana",
          "all/Solana",
          "all/Celo",
          "all/Solana",
          "all/Polygon",
          "all/Near",
          "all/Ethereum",
          "all/IoTeX",
          "all/Ethereum",
          "all/Fantom",
          "all/Polygon",
          "all/Cardano",
          "all/Cronos",
          "all/Cronos",
          "all/Kucoin",
          "all/RSK",
          "all/Celo",
          "all/Moonriver",
          "all/Moonbeam",
          "all/Ethereum",
          "all/Polygon",
          "all/NEO",
          "all/Avalanche",
          "all/Metis",
          "all/Waves",
          "all/Ethereum",
          "all/Ethereum",
          "all/Binance",
          "all/Ethereum",
          "all/Binance",
          "all/Ethereum",
          "all/Everscale",
          "all/Polygon",
          "all/Ethereum",
          "all/Avalanche",
          "all/Ethereum",
          "all/Ethereum-pool2",
          "all/Fantom",
          "all/Polygon",
          "all/pool2",
          "all/Arbitrum",
          "all/Binance",
          "all/Ethereum",
          "all/Optimism",
          "all/Polygon",
          "all/Avalanche",
          "all/Ethereum",
          "all/Polygon",
          "all/Ethereum",
          "all/Binance",
          "all/Ethereum",
          "all/Osmosis",
          "all/Ethereum",
          "all/Boba",
          "all/Ethereum",
          "all/Polygon",
          "all/Binance",
          "all/Avalanche",
          "all/Solana",
          "all/Polygon",
          "all/Optimism",
          "all/Arbitrum",
          "all/Arbitrum-pool2",
          "all/Aurora",
          "all/Cronos",
          "all/Ethereum",
          "all/Ethereum-pool2",
          "all/Metis",
          "all/Moonbeam",
          "all/Moonriver",
          "all/OKExChain",
          "all/Optimism",
          "all/Polygon",
          "all/Polygon-pool2",
          "all/pool2",
          "all/Avalanche",
          "all/Binance",
          "all/Cronos",
          "all/Ethereum",
          "all/Fantom",
          "all/Polygon",
          "all/Binance",
          "all/Avalanche",
          "all/Binance",
          "all/Bitcoin",
          "all/Doge",
          "all/EOS",
          "all/Ethereum",
          "all/Fantom",
          "all/LBRY",
          "all/Litecoin",
          "all/ORE",
          "all/Ravencoin",
          "all/Telos",
          "all/Polygon",
          "all/Avalanche",
          "all/Binance",
          "all/Celo",
          "all/Ethereum",
          "all/Optimism",
          "all/Polygon",
          "all/Solana",
          "all/Binance",
          "all/Binance-treasury",
          "all/treasury",
          "all/Proton",
          "all/Ethereum",
          "all/Ethereum-pool2",
          "all/pool2",
          "all/Hoo",
          "all/Arbitrum",
          "all/Avalanche",
          "all/Binance",
          "all/Fantom",
          "all/Harmony",
          "all/Metis",
          "all/Moonriver",
          "all/Optimism",
          "all/Polygon",
          "all/xDai",
          "all/Solana",
          "all/Polygon",
          "all/Arbitrum",
          "all/Arbitrum-pool2",
          "all/pool2",
          "all/Avalanche",
          "all/Binance",
          "all/Ethereum",
          "all/Polygon",
          "all/Arbitrum",
          "all/Ethereum",
          "all/Ethereum-pool2",
          "all/pool2",
          "all/xDai",
          "all/Fantom",
          "all/Optimism",
          "all/Near",
          "all/Ethereum",
          "all/Arbitrum",
          "all/Avalanche",
          "all/Binance",
          "all/Ethereum",
          "all/Fantom",
          "all/Polygon",
          "all/Solana",
          "all/Telos",
          "all/Ethereum",
          "all/Avalanche",
          "all/Ethereum",
          "all/Solana",
          "all/Avalanche",
          "all/Ethereum",
          "all/Ethereum",
          "all/Ethereum",
          "all/Solana",
          "all/Ethereum",
          "all/Arbitrum",
          "all/Ethereum",
          "all/Evmos",
          "all/Fantom",
          "all/Kava",
          "all/Optimism",
          "all/Binance",
          "all/Ethereum",
          "all/Heco",
          "all/Ethereum",
          "all/Ethereum",
          "all/Ethereum",
          "all/Icon",
          "all/Cronos",
          "all/Cronos-pool2",
          "all/Fantom",
          "all/Fantom-pool2",
          "all/pool2",
          "all/Moonriver",
          "all/Solana",
          "all/Binance",
          "all/Heco",
          "all/OKExChain",
          "all/Polygon",
          "all/Binance",
          "all/Ethereum",
          "all/Polygon",
          "all/Fantom",
          "all/Fantom",
          "all/Fantom",
          "all/Ethereum",
          "all/Stacks",
          "all/Binance",
          "all/Fantom",
          "all/Hedera",
          "all/Near",
          "all/Polygon",
          "all/Terra",
          "all/Terra2",
          "all/Binance",
          "all/Cosmos",
          "all/Ethereum",
          "all/Polygon",
          "all/Solana",
          "all/Stafi",
          "all/Avalanche",
          "all/Ethereum",
          "all/Harmony",
          "all/Polygon",
          "all/Ethereum",
          "all/xDai",
          "all/Arbitrum",
          "all/Avalanche",
          "all/Binance",
          "all/Ethereum",
          "all/Fantom",
          "all/Optimism",
          "all/Polygon",
          "all/Astar",
          "all/Moonbeam",
          "all/Ethereum",
          "all/Ethereum",
          "all/Fantom",
          "all/Tron",
          "all/Tron-pool2",
          "all/pool2",
          "all/Cardano",
          "all/Solana",
          "all/Tron",
          "all/Polygon",
          "all/xDai",
          "all/Arbitrum",
          "all/Avalanche",
          "all/Binance",
          "all/Celo",
          "all/Ethereum",
          "all/Fantom",
          "all/Fuse",
          "all/Harmony",
          "all/Heco",
          "all/Moonriver",
          "all/OKExChain",
          "all/Polygon",
          "all/Telos",
          "all/xDai",
          "all/Arbitrum",
          "all/Binance",
          "all/Ethereum",
          "all/Fantom",
          "all/Arbitrum",
          "all/Ethereum",
          "all/xDai",
          "all/Solana",
          "all/Arbitrum",
          "all/Aurora",
          "all/Avalanche",
          "all/Binance",
          "all/Boba",
          "all/Cronos",
          "all/Ethereum",
          "all/Ethereum-pool2",
          "all/Fantom",
          "all/Harmony",
          "all/Klaytn",
          "all/Metis",
          "all/Moonriver",
          "all/Optimism",
          "all/Polygon",
          "all/pool2",
          "all/Ethereum",
          "all/Optimism",
          "all/Fantom",
          "all/Optimism",
          "all/Avalanche",
          "all/Binance",
          "all/Ethereum",
          "all/Polygon",
          "all/Cronos",
          "all/Ethereum",
          "all/Ethereum-pool2",
          "all/pool2",
          "all/Binance",
          "all/Ethereum",
          "all/Harmony",
          "all/Fantom",
          "all/Polygon",
          "all/Tezos",
          "all/Ethereum",
          "all/Theta",
          "all/Aurora",
          "all/Avalanche",
          "all/Binance",
          "all/Boba",
          "all/Ethereum",
          "all/Fantom",
          "all/Polygon",
          "all/Theta",
          "all/Algorand",
          "all/Ethereum",
          "all/Ethereum-pool2",
          "all/pool2",
          "all/Binance",
          "all/Ethereum",
          "all/Fantom",
          "all/Polygon",
          "all/Fantom",
          "all/Fantom-pool2",
          "all/pool2",
          "all/Arbitrum",
          "all/Avalanche",
          "all/Binance",
          "all/Ethereum",
          "all/Optimism",
          "all/Polygon",
          "all/xDai",
          "all/Polygon",
          "all/Avalanche",
          "all/Binance",
          "all/Aurora",
          "all/Ethereum",
          "all/Avalanche",
          "all/Binance",
          "all/Binance-pool2",
          "all/Ethereum",
          "all/Ethereum-pool2",
          "all/Polygon",
          "all/pool2",
          "all/xDai-pool2",
          "all/Arbitrum",
          "all/Celo",
          "all/Ethereum",
          "all/Optimism",
          "all/Polygon",
          "all/Ethereum",
          "all/Solana",
          "all/Binance",
          "all/Binance-pool2",
          "all/pool2",
          "all/Oasis",
          "all/Avalanche",
          "all/Avalanche-pool2",
          "all/pool2",
          "all/Optimism",
          "all/Binance",
          "all/Avalanche",
          "all/Ethereum",
          "all/Polygon",
          "all/Arbitrum",
          "all/Arbitrum-pool2",
          "all/pool2",
          "all/Waves",
          "all/Cronos",
          "all/Waves",
          "all/Ethereum",
          "all/Arbitrum",
          "all/Aurora",
          "all/Binance",
          "all/Ethereum",
          "all/Harmony",
          "all/Heco",
          "all/Moonbeam",
          "all/Moonriver",
          "all/OKExChain",
          "all/Oasis",
          "all/Optimism",
          "all/Polygon",
          "all/Cardano",
          "all/Binance",
          "all/Binance",
          "all/Ethereum",
          "all/Astar",
          "all/Avalanche",
          "all/Binance",
          "all/Ethereum",
          "all/Fantom",
          "all/Polygon",
          "all/Arbitrum",
          "all/Ethereum",
          "all/Fantom",
          "all/Avalanche",
          "all/Avalanche-pool2",
          "all/pool2",
          "all/Arbitrum",
          "all/Ethereum",
          "all/Avalanche",
          "all/Avalanche-pool2",
          "all/pool2",
          "all/Binance",
          "all/Fantom",
          "all/Tezos",
          "all/Tezos-pool2",
          "all/pool2",
          "all/Solana",
          "all",
          "all",
          "all",
          "all",
          "all",
          "all",
          "all",
          "all",
          "all",
          "all",
          "all",
          "all",
          "all",
          "all",
          "all",
          "all",
          "all",
          "all",
          "all",
          "all",
          "all",
          "all",
          "all",
          "all",
          "all",
          "all",
          "all",
          "all",
          "all",
          "all",
          "all",
          "all",
          "all",
          "all",
          "all",
          "all",
          "all",
          "all",
          "all",
          "all",
          "all",
          "all",
          "all",
          "all",
          "all",
          "all",
          "all",
          "all",
          "all",
          "all",
          "all",
          "all",
          "all",
          "all",
          "all",
          "all",
          "all",
          "all",
          "all",
          "all",
          "all",
          "all",
          "all",
          "all",
          "all",
          "all",
          "all",
          "all",
          "all",
          "all",
          "all",
          "all",
          "all",
          "all",
          "all",
          "all",
          "all",
          "all",
          "all",
          "all",
          "all",
          "all",
          "all",
          "all",
          "all",
          "all",
          "all",
          ""
         ],
         "root": {
          "color": "lightgrey"
         },
         "type": "treemap",
         "values": [
          3229072.81697275,
          176721.21595460703,
          480370.90905991854,
          259478.6892308503,
          4.9387319666845935,
          302604.1235891583,
          18135702.153307766,
          110789677.84602237,
          572918.0591585822,
          27988890.026621275,
          572918.0591585822,
          1935135.0521749766,
          156954406.39753395,
          822581.1896531035,
          13777.844492088923,
          495536675.8544139,
          8480594.649926301,
          1830.224996898433,
          5553.274832648645,
          70416.35939366042,
          70416.35939366042,
          14859212.223058008,
          3073781.2944146637,
          7887762.154334984,
          1207301.883358343,
          11076585.014056064,
          12264.879057447222,
          70007.54310413415,
          194020.51205825259,
          134460.01402817233,
          61434.44955030498,
          1702.141476673044,
          57126.11370838763,
          13664.684470486523,
          20022.51776799839,
          3827768.309590008,
          3655.198048234403,
          709529.513563646,
          8350188.558483741,
          237979.4634506565,
          147702.60286080232,
          54041.2396165797,
          643044.9285456381,
          81079.63257670868,
          4977.941626966909,
          45890.839591974975,
          126669.5255467388,
          43986.34265876242,
          3948.7584323017672,
          4712032.072134944,
          197982.7162683882,
          10.523148576597634,
          12574.174159160379,
          181960.25811568307,
          5999.697544050257,
          4570.545761693268,
          196135.34220816207,
          1926.8644083251545,
          438.3777302905312,
          13.594132882638132,
          190.8618581960676,
          1350389.5568365965,
          51.84149830442419,
          180942.94767975016,
          26166.816917106975,
          515716.87611659523,
          830316.3713741801,
          830316.3713741801,
          55855.329770741926,
          71206073.89707164,
          655142.7673036644,
          378604.1395654275,
          2431994.353505288,
          259724.5849811613,
          7513653.880735049,
          22102654.285452377,
          927556.0978972331,
          11342.422053690547,
          1019425.3625082655,
          65265.68167061132,
          1217767.4527874687,
          1248948.9361501366,
          53868121.03806203,
          4586871.2173508005,
          2672826.7049865765,
          32793052.166863598,
          767264.6422784817,
          172895.47486214383,
          1979787.444712918,
          2694558.568876611,
          5582.362251633395,
          814913.596519954,
          829239.1835353323,
          96081.74099753718,
          1707.1158281278895,
          333.8623669440808,
          400685.7369251721,
          1178333.0846838385,
          185725.91872208903,
          21984.411969917906,
          686399.0600572507,
          1248820.5290461525,
          1307501.321121944,
          3056002.0805834257,
          6979.5862890617545,
          3649.9441549253042,
          3649.9441549253042,
          185656.9598179103,
          245576.18380941928,
          124686.44442417083,
          7137762.817908989,
          8684068.782692347,
          31951.259891387308,
          31951.259891387308,
          9719235.171029735,
          1468.3778695174874,
          163021.84302076985,
          238.6640645083961,
          302603.5299676317,
          41315.50369544981,
          65922.67222177169,
          2070091.8738148427,
          829580.601658036,
          2380349.3536778605,
          18537.867578184345,
          2245110.902612303,
          1447820.4951926577,
          53919.191289529495,
          1253882.0296113482,
          3594988.0688949977,
          1613.8770573617974,
          23947022.594930314,
          379095.70178506477,
          253858.5154216699,
          44042.898562553695,
          924036.03444257,
          885477.5466600076,
          7413.224671170288,
          11689.223435996373,
          4556634.385115918,
          847059.7555492895,
          933661.5253860783,
          259551.05418437405,
          71636.92180157188,
          24463.441672848814,
          3211719.9986533932,
          0.3381179397816254,
          56203.09163763664,
          0.08095272048355617,
          0.2571752830603149,
          31307097.950058267,
          261118.70972995283,
          4460339.03496486,
          400548.4344139469,
          1291539.6170915165,
          552881.8744787233,
          239.39762846954545,
          154768.6190982955,
          840588.4198619372,
          811643.8596178293,
          716941.0742471337,
          12992.476137916296,
          961643.3650033275,
          80786.67510810948,
          1416543.0692963458,
          966184.4200199392,
          207674.8419742316,
          768492.494255928,
          86822441.63312349,
          4733.06542683563,
          664172.3580820387,
          0.2624511975551257,
          20904.837047131074,
          1164727.7838801523,
          21346849.406904027,
          79.72422452097362,
          16944707.78211605,
          137116561.9123677,
          31632410.319653664,
          1071969.0301303335,
          1982580.4474944966,
          19491735.90849306,
          634684.0319916783,
          622782.0854589621,
          0.11964667265261975,
          0.11964667265261975,
          2271024.1121443757,
          24079.247212860828,
          3118.050430152678,
          1253.2407649611214,
          13508437.412821207,
          1452445.3881161907,
          2303579.4499029936,
          1204881.8027244783,
          38643.6265684246,
          503342.60051529325,
          405144.86752248893,
          59145.598609830406,
          60307.37426626661,
          1377.875812043575,
          0.019851777762592088,
          63608.1966632892,
          3.9749224907951843,
          832511.524883043,
          0.1455784654004083,
          138.755731213802,
          832650.2803527608,
          3114012.1217192933,
          6353.844868385982,
          1863691.4984000253,
          380.52179425333094,
          8502.146766509877,
          32844.98547484403,
          7098.091222267996,
          3.5082916723620277,
          1918.2188811548892,
          0.05029379634445378,
          25.592651738846445,
          1225.835632278045,
          36859035.14575346,
          1405435.5881771445,
          6491167.352350485,
          1418.4436349482032,
          1418.4436349482032,
          782572.9643292567,
          2351442.9549679873,
          115598.08220657991,
          52335.43077301136,
          26428351.933985993,
          143.06791041657706,
          71.85411982432025,
          1025766.4069756282,
          11106682.536475783,
          1.0009998733493757,
          262899.8306373813,
          150456.6224230643,
          254048.47368348518,
          75.81682384060338,
          100791.12721139255,
          2067766.9916175567,
          272798.90984883625,
          669658.8541482672,
          143848.97823341278,
          143848.97823341278,
          6659961.748909347,
          61777141.948758096,
          41913.954502979366,
          2506996.739999612,
          14622605.809146756,
          41913.95450297935,
          2506996.739999612,
          190948.33269937822,
          1221519.972931336,
          917936.5322037828,
          917936.5322037828,
          133140.7011108097,
          1864662.627764505,
          3061.3212792810755,
          3061.3212792810755,
          37413741.03419862,
          4553196.415198312,
          1946.4159900175716,
          127889.50037819897,
          2303.799090653218,
          2303.799090653218,
          826.0172498699245,
          17624.93553719348,
          686631.3516228442,
          182938.38369509124,
          92053.88606443431,
          23401.953367809634,
          63616.9200069395,
          122941.33456914488,
          46179.850167351986,
          2480.9772122302816,
          4881854.98137571,
          7051959.972671633,
          194343.16275798975,
          78927.2627148341,
          882248.4141467938,
          356773.3505313195,
          892213.3738237394,
          1157931.7575223567,
          3188.284688987478,
          31794.562726722448,
          1042553.4241911185,
          961656.4726645123,
          30430.242491237615,
          17.394600000000015,
          163882.32524435406,
          684.2939269672514,
          23875.448435914306,
          189529.16944410247,
          431505.27908069035,
          31224.029424299253,
          22122598.807379413,
          805.202985028384,
          4333358.047021711,
          224555.9642999923,
          553332104.3860556,
          2731.4795075805814,
          37708.47763070298,
          6267.935424161282,
          677783.7906192031,
          401629.26065343665,
          989817.7568244613,
          253626.48263788782,
          91162.81841473348,
          708464.2078042682,
          18278.557985689626,
          943709.2653700372,
          24646.006277250443,
          14666.081083281415,
          24646.006294250146,
          30480.224040906898,
          2236305.3391986415,
          0.14449299999996157,
          272788.4609791213,
          2133317.26082279,
          1803438.1905314834,
          12941.208689716474,
          2062814.835642659,
          5086452.335887812,
          9056384.070276659,
          2311351.852626675,
          5702598.313054765,
          1318187.4123600111,
          127137.61785331556,
          1230664.997246511,
          98110.21952813273,
          1124582.8171700002,
          919563.52061,
          919563.52061,
          611268.914610656,
          70590.25734741328,
          68396.18587003744,
          6806.398107031824,
          17.71595565649527,
          410573.894605434,
          11963.456421212064,
          71.77857883650871,
          487500.9893572781,
          734469.383411594,
          2836485.020975856,
          14467623.783727951,
          1306629.580484619,
          1352704.5194877163,
          10396539.957651785,
          20.92568029452474,
          1320718.1306806344,
          6881840.696240235,
          798676.8856141281,
          42465.912249028115,
          540955.8921205447,
          3940378.887044687,
          321133.8285411177,
          2942612.935987751,
          266239.77778352145,
          11301168.824220771,
          18110160.06436599,
          56863934.63014905,
          4373437.186531321,
          17645775.877877105,
          1884687.3299320766,
          13459895.029589541,
          1760736.496471406,
          214349.76766372938,
          5362624.371213523,
          2386897.3286078167,
          11622.932880672468,
          606790.862144665,
          7326.212226016307,
          212640.475688571,
          64374.04488575452,
          56849.12540152023,
          1134892.8375053538,
          4082529.399021256,
          488500.34234103846,
          46237.529642573005,
          91112.73309685345,
          13248214.403083079,
          81888287.14895678,
          3892312.344929559,
          88755.63831224438,
          341639.9200006487,
          337234.1953034032,
          3139954.7146702637,
          8108349.363717,
          49298.12430378769,
          816415.0913353086,
          11264336.807777807,
          3427712.33660643,
          12187.0709154312,
          66757.42695796589,
          766536.4294720192,
          0.2234359752225077,
          15493145.983871374,
          2.4110689112448984,
          291670.0339368199,
          47733.37538855697,
          16.60008272264786,
          3.1157733734146715,
          47733.37538855697,
          12184.016699473068,
          0.29094048255836624,
          1104969.9249684822,
          480.0951618880076,
          956.391743065572,
          48025.628145404175,
          11050071.556211237,
          9827.340266392417,
          2949558.715996936,
          2882.2944405301696,
          16154.277018697107,
          20660327.603817478,
          456429.46202414704,
          46147.30024933134,
          29.40299999974819,
          13572.345790293657,
          158625945.48192057,
          4949047.180222994,
          248581.87020114873,
          1048826.0762711382,
          676036.5503502752,
          40477.23815283943,
          12048.751760422878,
          80366.65007459273,
          93.73805976247525,
          136151.68632862583,
          105996.54121672758,
          62488.77084614352,
          169712.80423414463,
          25667.703709272046,
          192.92390885524446,
          116314.86164559731,
          85719.16749903097,
          11633.698459555817,
          129678.99143668296,
          46144.00957542684,
          29210.073434974678,
          17910.394268715274,
          151450.50769783187,
          869.0796509286607,
          2158.4140859890567,
          696093.6927029352,
          1922255.594110295,
          196788.24757333886,
          74866.01876930964,
          4.605522752030083,
          1241906.2453148107,
          3287412.760358013,
          0.17923815656118092,
          4569.370651495765,
          9644.871977247916,
          164224.34528904784,
          89.78677589312498,
          737870.4765153845,
          34128116.444341905,
          361875.28930120514,
          737.6791536245169,
          5590.974708018768,
          363258.02994664176,
          12471816.089271132,
          1781738.5510797424,
          979954.2567363859,
          83694.83580872555,
          9516.401717882309,
          9516.401717882309,
          798248.9332930876,
          6589.561913576135,
          4878.8799325570835,
          4878.8799325570835,
          502.909463901328,
          350733.7425236457,
          68978.59423864723,
          170396.69089780486,
          1237624.4525515307,
          143.6392710238838,
          866550.976542964,
          0.4990050007201414,
          788450.0971483167,
          6822513.601700568,
          199326.09288594383,
          7610998.7085386515,
          22213602.78312624,
          46325638.08335489,
          953815.1730406381,
          953815.1730406381,
          607576.9490487666,
          696376.7350080209,
          483533.3754688149,
          703069.0228577942,
          24258.03445009703,
          5240328.495903813,
          15858.175151497735,
          15858.175151497735,
          1191854.838567978,
          2324358.641687339,
          742396.8856720687,
          816681.575007569,
          333940.35286883655,
          310286.4887120115,
          44099.60851003551,
          13380.269274293405,
          1989755.7505922085,
          7446.6096066127475,
          451653.23338143626,
          891126.1982813658,
          186491.75833747396,
          969450.2192157072,
          2292438.8644872913,
          833456.5000327859,
          88629.84486969991,
          1796.7951810672312,
          5052.712067675798,
          6056251.37264284,
          16754.607324145567,
          10527693.384031305,
          218815.1411804606,
          218137.60670865473,
          328582.136301512,
          101236.66542887161,
          11.182546754899564,
          0.05005,
          1041.7341120655349,
          23.271598231554425,
          824.3215926965463,
          2.173396849511952,
          4770433.1960841045,
          13998.77556562968,
          3569588.726115574,
          124999.29952297031,
          281830.28795699374,
          42049.13310887753,
          60508.60915135983,
          26852.038339788753,
          68901.33007038843,
          915810.9097472137,
          15588694.614944598,
          73867.22707024215,
          206592.03366113547,
          25359.14434802849,
          33118.579648669074,
          4731.304465059838,
          126603.12965407205,
          28.381588221231482,
          116969.85272271687,
          329661.76187053253,
          8989567.197872445,
          9785994.851843206,
          51967994.28358423,
          1005984.2764840908,
          107766.80463811208,
          1625440.4937440252,
          163.62,
          779040.2599341141,
          11.15109666069442,
          86140.08144605072,
          1508.9208000000015,
          5986.135400000025,
          28.653206999800584,
          1061.3188354213653,
          35.752199999998595,
          540.9227000000101,
          46951.17721340023,
          210573.9819291419,
          93375.12603228167,
          58692.39958256669,
          38493.779806885155,
          14.690758800322138,
          7276674.083563039,
          21252197.827640243,
          10796132.02019797,
          153518.4710443057,
          1999544.4152036826,
          4108825.5556372833,
          9140989.342524752,
          1138247.0386165003,
          34532153.10702884,
          31789.985402012233,
          2087553.3589049035,
          700277.206836935,
          5693281.894733768,
          72871.9061744139,
          72871.9061744139,
          3409850.005161954,
          4217111.7433722885,
          5029796.007579623,
          37314.0753640114,
          464.8600252182768,
          16676165.289853992,
          1280870.211278787,
          198382.50049584545,
          56642.41555008723,
          9356501.647626944,
          271955.2241084627,
          2334.025138803194,
          1416379.258259562,
          33.47591490156183,
          512296.9098736011,
          50.159806959998164,
          221571.64664488324,
          5.399901282873429,
          340373.2119220759,
          138036.4265747094,
          1.819088942396528,
          308739.24250316125,
          149108.70492413835,
          30323.60298534234,
          22341.598515896512,
          356854.8357066257,
          824571.7514752521,
          3072348.398568796,
          515.8422044527222,
          3262491.719923251,
          462772.2432528171,
          13982.224964423553,
          1841.3297744451484,
          6728707.346690134,
          918137.6771508729,
          1106413.068495157,
          285828.2798921789,
          20.99886377054174,
          227986.35769855184,
          22379.899640666918,
          2029895.5473383444,
          1508145.9663194995,
          918137.6771508729,
          2333565.834367559,
          2709778.929302918,
          97242.84863555914,
          2683675.8626983287,
          23451.01383314725,
          605234.260753054,
          1039947.5830145627,
          6268.039918616773,
          329463.8515235676,
          280034.2095839847,
          679990.6432341344,
          679990.6432341344,
          72518.64220190088,
          70208.49017954228,
          152.99737307410686,
          474494.8514353467,
          381190.4186185688,
          485804.39803607814,
          2616310.3669786197,
          554175.9479181222,
          6.073864500558527,
          216203.60486609137,
          4397.068460588353,
          9990.915337094826,
          6843931.123023612,
          11181.89143422839,
          92525.6644493623,
          1051587.6594477782,
          143026.09158004308,
          2460477.584360755,
          138735.3455431647,
          138735.3455431647,
          110834.43069804374,
          339395.6521789062,
          405.1190209003464,
          84151.2535139631,
          4797068.682064074,
          213449.18110161016,
          213449.18110161016,
          64479.439,
          33522,
          1269400.9219999993,
          3219007.7568999995,
          11663.918999999998,
          50152.25959999999,
          22394.7526,
          4664.803792291064,
          3275058.4884864604,
          378522.9534835119,
          779199.06603295,
          4573649.436968125,
          16136.336543055682,
          7472639.330941186,
          833.4180090521215,
          1329931.2593736495,
          203.48783775416445,
          620502.0032049968,
          1187.4161672988694,
          150.51323861724376,
          11304280.121798068,
          20098.788917694932,
          31556699.70026526,
          4504606.940681645,
          4180159.7788672065,
          27074.677355471766,
          93735.62285882072,
          3277079.3878447968,
          84.30478899496843,
          84.30478899496843,
          98627.3040652901,
          6377330.967354314,
          24620.137639271263,
          24620.137639271263,
          7527046.832853779,
          8767296.666557152,
          31757.201553945546,
          1545489.1559110684,
          3544.9528760857697,
          214198.59413787303,
          24587.544906200324,
          24587.544906200324,
          38037452.41861923,
          44610981.006885394,
          323757.2627652748,
          22.74800041825472,
          526733.51763884,
          2010.562421111157,
          103172.07824263815,
          909454.2379328948,
          0.33721036775007107,
          522.645939014055,
          3156.5691856007147,
          537.6444020135419,
          87679.055779132,
          4152.634918920412,
          3913656.2234463557,
          21101.664657246576,
          37351114.013440914,
          209823.04846684262,
          55527.86812919951,
          1086013.0226431296,
          100.37505715716041,
          1005.0129489400001,
          95656.393061377,
          2676.67654879923,
          0.24026031747626708,
          175197.7754744674,
          5377.681831149268,
          10389867.63458879,
          2424872.1009194497,
          2794573.8624832705,
          58818.08110472152,
          58818.08110472152,
          3831.6360613698434,
          81612.5749558405,
          2517152.427356045,
          260414.28553242696,
          260414.28553242696,
          444.86911998087976,
          60763.355079813606,
          55377.74869462976,
          99847.66755821845,
          99847.6675582184,
          443932.133306057,
          27028057.555166,
          15153176.398973132,
          154577707.75709474,
          1822962.9945903043,
          3582606.6462363927,
          34809600.849734634,
          280869570.89787185,
          377222.20780275523,
          2070091.8738148427,
          241824617.33040267,
          831234.5519368396,
          9516.401717882309,
          1395584.149449944,
          71973.71523668106,
          40817813.14400439,
          1994185.5324065269,
          5986.135400000025,
          62678887.473839864,
          42049.13310887753,
          1164727.7838801523,
          4.605522752030083,
          1294241.676087822,
          262899.8306373813,
          18110160.06436599,
          1571317648.1650836,
          2557104.6443708697,
          2506996.739999612,
          766536.4294720192,
          912880.525046701,
          86323828.7654159,
          243362.54072067997,
          111408.24227425667,
          4338637.169620063,
          666616.2496570867,
          0.08095272048355617,
          1625440.4937440252,
          502.909463901328,
          124999.29952297031,
          860839.3358281502,
          272788.4609791213,
          3936755.4513542736,
          16454188.308841147,
          9794327.328254435,
          919563.52061,
          488500.34234103846,
          13.594132882638132,
          4569.370651495765,
          9644.871977247916,
          4741709.455245649,
          961643.4152971238,
          120547705.16770503,
          17717493.46399322,
          2409406.9116182053,
          12376584.962059898,
          113306.89634649234,
          164224.34528904784,
          124836.12953296493,
          558831033.836779,
          20660327.603817478,
          190.8618581960676,
          159330585.33470172,
          999986.590056999,
          798248.9332930876,
          100791.12721139255,
          46237.529642573005,
          89.78677589312498,
          2062814.835642659,
          7413.224671170288,
          79859075.08444956,
          669658.8541482672,
          143848.97823341278,
          51967994.28358423,
          540.9227000000101,
          924367.6347541413,
          263705.42019041826,
          7599793.9621811,
          541182.146730708,
          99847.66755821845,
          1605763.6073659004,
          12959383.386005033,
          72871.9061744139,
          46469559.04510151,
          3118.050430152678,
          8110205.3229184095,
          2516513.141717494,
          4577035.750673365,
          150.51323861724376,
          3715411277.6392894
         ]
        }
       ],
       "layout": {
        "coloraxis": {
         "colorbar": {
          "title": {
           "text": "flow_direction"
          }
         },
         "colorscale": [
          [
           0,
           "rgb(158,1,66)"
          ],
          [
           0.1,
           "rgb(213,62,79)"
          ],
          [
           0.2,
           "rgb(244,109,67)"
          ],
          [
           0.3,
           "rgb(253,174,97)"
          ],
          [
           0.4,
           "rgb(254,224,139)"
          ],
          [
           0.5,
           "rgb(255,255,191)"
          ],
          [
           0.6,
           "rgb(230,245,152)"
          ],
          [
           0.7,
           "rgb(171,221,164)"
          ],
          [
           0.8,
           "rgb(102,194,165)"
          ],
          [
           0.9,
           "rgb(50,136,189)"
          ],
          [
           1,
           "rgb(94,79,162)"
          ]
         ]
        },
        "legend": {
         "tracegroupgap": 0
        },
        "margin": {
         "b": 25,
         "l": 25,
         "r": 25,
         "t": 50
        },
        "template": {
         "data": {
          "bar": [
           {
            "error_x": {
             "color": "#2a3f5f"
            },
            "error_y": {
             "color": "#2a3f5f"
            },
            "marker": {
             "line": {
              "color": "#E5ECF6",
              "width": 0.5
             },
             "pattern": {
              "fillmode": "overlay",
              "size": 10,
              "solidity": 0.2
             }
            },
            "type": "bar"
           }
          ],
          "barpolar": [
           {
            "marker": {
             "line": {
              "color": "#E5ECF6",
              "width": 0.5
             },
             "pattern": {
              "fillmode": "overlay",
              "size": 10,
              "solidity": 0.2
             }
            },
            "type": "barpolar"
           }
          ],
          "carpet": [
           {
            "aaxis": {
             "endlinecolor": "#2a3f5f",
             "gridcolor": "white",
             "linecolor": "white",
             "minorgridcolor": "white",
             "startlinecolor": "#2a3f5f"
            },
            "baxis": {
             "endlinecolor": "#2a3f5f",
             "gridcolor": "white",
             "linecolor": "white",
             "minorgridcolor": "white",
             "startlinecolor": "#2a3f5f"
            },
            "type": "carpet"
           }
          ],
          "choropleth": [
           {
            "colorbar": {
             "outlinewidth": 0,
             "ticks": ""
            },
            "type": "choropleth"
           }
          ],
          "contour": [
           {
            "colorbar": {
             "outlinewidth": 0,
             "ticks": ""
            },
            "colorscale": [
             [
              0,
              "#0d0887"
             ],
             [
              0.1111111111111111,
              "#46039f"
             ],
             [
              0.2222222222222222,
              "#7201a8"
             ],
             [
              0.3333333333333333,
              "#9c179e"
             ],
             [
              0.4444444444444444,
              "#bd3786"
             ],
             [
              0.5555555555555556,
              "#d8576b"
             ],
             [
              0.6666666666666666,
              "#ed7953"
             ],
             [
              0.7777777777777778,
              "#fb9f3a"
             ],
             [
              0.8888888888888888,
              "#fdca26"
             ],
             [
              1,
              "#f0f921"
             ]
            ],
            "type": "contour"
           }
          ],
          "contourcarpet": [
           {
            "colorbar": {
             "outlinewidth": 0,
             "ticks": ""
            },
            "type": "contourcarpet"
           }
          ],
          "heatmap": [
           {
            "colorbar": {
             "outlinewidth": 0,
             "ticks": ""
            },
            "colorscale": [
             [
              0,
              "#0d0887"
             ],
             [
              0.1111111111111111,
              "#46039f"
             ],
             [
              0.2222222222222222,
              "#7201a8"
             ],
             [
              0.3333333333333333,
              "#9c179e"
             ],
             [
              0.4444444444444444,
              "#bd3786"
             ],
             [
              0.5555555555555556,
              "#d8576b"
             ],
             [
              0.6666666666666666,
              "#ed7953"
             ],
             [
              0.7777777777777778,
              "#fb9f3a"
             ],
             [
              0.8888888888888888,
              "#fdca26"
             ],
             [
              1,
              "#f0f921"
             ]
            ],
            "type": "heatmap"
           }
          ],
          "heatmapgl": [
           {
            "colorbar": {
             "outlinewidth": 0,
             "ticks": ""
            },
            "colorscale": [
             [
              0,
              "#0d0887"
             ],
             [
              0.1111111111111111,
              "#46039f"
             ],
             [
              0.2222222222222222,
              "#7201a8"
             ],
             [
              0.3333333333333333,
              "#9c179e"
             ],
             [
              0.4444444444444444,
              "#bd3786"
             ],
             [
              0.5555555555555556,
              "#d8576b"
             ],
             [
              0.6666666666666666,
              "#ed7953"
             ],
             [
              0.7777777777777778,
              "#fb9f3a"
             ],
             [
              0.8888888888888888,
              "#fdca26"
             ],
             [
              1,
              "#f0f921"
             ]
            ],
            "type": "heatmapgl"
           }
          ],
          "histogram": [
           {
            "marker": {
             "pattern": {
              "fillmode": "overlay",
              "size": 10,
              "solidity": 0.2
             }
            },
            "type": "histogram"
           }
          ],
          "histogram2d": [
           {
            "colorbar": {
             "outlinewidth": 0,
             "ticks": ""
            },
            "colorscale": [
             [
              0,
              "#0d0887"
             ],
             [
              0.1111111111111111,
              "#46039f"
             ],
             [
              0.2222222222222222,
              "#7201a8"
             ],
             [
              0.3333333333333333,
              "#9c179e"
             ],
             [
              0.4444444444444444,
              "#bd3786"
             ],
             [
              0.5555555555555556,
              "#d8576b"
             ],
             [
              0.6666666666666666,
              "#ed7953"
             ],
             [
              0.7777777777777778,
              "#fb9f3a"
             ],
             [
              0.8888888888888888,
              "#fdca26"
             ],
             [
              1,
              "#f0f921"
             ]
            ],
            "type": "histogram2d"
           }
          ],
          "histogram2dcontour": [
           {
            "colorbar": {
             "outlinewidth": 0,
             "ticks": ""
            },
            "colorscale": [
             [
              0,
              "#0d0887"
             ],
             [
              0.1111111111111111,
              "#46039f"
             ],
             [
              0.2222222222222222,
              "#7201a8"
             ],
             [
              0.3333333333333333,
              "#9c179e"
             ],
             [
              0.4444444444444444,
              "#bd3786"
             ],
             [
              0.5555555555555556,
              "#d8576b"
             ],
             [
              0.6666666666666666,
              "#ed7953"
             ],
             [
              0.7777777777777778,
              "#fb9f3a"
             ],
             [
              0.8888888888888888,
              "#fdca26"
             ],
             [
              1,
              "#f0f921"
             ]
            ],
            "type": "histogram2dcontour"
           }
          ],
          "mesh3d": [
           {
            "colorbar": {
             "outlinewidth": 0,
             "ticks": ""
            },
            "type": "mesh3d"
           }
          ],
          "parcoords": [
           {
            "line": {
             "colorbar": {
              "outlinewidth": 0,
              "ticks": ""
             }
            },
            "type": "parcoords"
           }
          ],
          "pie": [
           {
            "automargin": true,
            "type": "pie"
           }
          ],
          "scatter": [
           {
            "marker": {
             "colorbar": {
              "outlinewidth": 0,
              "ticks": ""
             }
            },
            "type": "scatter"
           }
          ],
          "scatter3d": [
           {
            "line": {
             "colorbar": {
              "outlinewidth": 0,
              "ticks": ""
             }
            },
            "marker": {
             "colorbar": {
              "outlinewidth": 0,
              "ticks": ""
             }
            },
            "type": "scatter3d"
           }
          ],
          "scattercarpet": [
           {
            "marker": {
             "colorbar": {
              "outlinewidth": 0,
              "ticks": ""
             }
            },
            "type": "scattercarpet"
           }
          ],
          "scattergeo": [
           {
            "marker": {
             "colorbar": {
              "outlinewidth": 0,
              "ticks": ""
             }
            },
            "type": "scattergeo"
           }
          ],
          "scattergl": [
           {
            "marker": {
             "colorbar": {
              "outlinewidth": 0,
              "ticks": ""
             }
            },
            "type": "scattergl"
           }
          ],
          "scattermapbox": [
           {
            "marker": {
             "colorbar": {
              "outlinewidth": 0,
              "ticks": ""
             }
            },
            "type": "scattermapbox"
           }
          ],
          "scatterpolar": [
           {
            "marker": {
             "colorbar": {
              "outlinewidth": 0,
              "ticks": ""
             }
            },
            "type": "scatterpolar"
           }
          ],
          "scatterpolargl": [
           {
            "marker": {
             "colorbar": {
              "outlinewidth": 0,
              "ticks": ""
             }
            },
            "type": "scatterpolargl"
           }
          ],
          "scatterternary": [
           {
            "marker": {
             "colorbar": {
              "outlinewidth": 0,
              "ticks": ""
             }
            },
            "type": "scatterternary"
           }
          ],
          "surface": [
           {
            "colorbar": {
             "outlinewidth": 0,
             "ticks": ""
            },
            "colorscale": [
             [
              0,
              "#0d0887"
             ],
             [
              0.1111111111111111,
              "#46039f"
             ],
             [
              0.2222222222222222,
              "#7201a8"
             ],
             [
              0.3333333333333333,
              "#9c179e"
             ],
             [
              0.4444444444444444,
              "#bd3786"
             ],
             [
              0.5555555555555556,
              "#d8576b"
             ],
             [
              0.6666666666666666,
              "#ed7953"
             ],
             [
              0.7777777777777778,
              "#fb9f3a"
             ],
             [
              0.8888888888888888,
              "#fdca26"
             ],
             [
              1,
              "#f0f921"
             ]
            ],
            "type": "surface"
           }
          ],
          "table": [
           {
            "cells": {
             "fill": {
              "color": "#EBF0F8"
             },
             "line": {
              "color": "white"
             }
            },
            "header": {
             "fill": {
              "color": "#C8D4E3"
             },
             "line": {
              "color": "white"
             }
            },
            "type": "table"
           }
          ]
         },
         "layout": {
          "annotationdefaults": {
           "arrowcolor": "#2a3f5f",
           "arrowhead": 0,
           "arrowwidth": 1
          },
          "autotypenumbers": "strict",
          "coloraxis": {
           "colorbar": {
            "outlinewidth": 0,
            "ticks": ""
           }
          },
          "colorscale": {
           "diverging": [
            [
             0,
             "#8e0152"
            ],
            [
             0.1,
             "#c51b7d"
            ],
            [
             0.2,
             "#de77ae"
            ],
            [
             0.3,
             "#f1b6da"
            ],
            [
             0.4,
             "#fde0ef"
            ],
            [
             0.5,
             "#f7f7f7"
            ],
            [
             0.6,
             "#e6f5d0"
            ],
            [
             0.7,
             "#b8e186"
            ],
            [
             0.8,
             "#7fbc41"
            ],
            [
             0.9,
             "#4d9221"
            ],
            [
             1,
             "#276419"
            ]
           ],
           "sequential": [
            [
             0,
             "#0d0887"
            ],
            [
             0.1111111111111111,
             "#46039f"
            ],
            [
             0.2222222222222222,
             "#7201a8"
            ],
            [
             0.3333333333333333,
             "#9c179e"
            ],
            [
             0.4444444444444444,
             "#bd3786"
            ],
            [
             0.5555555555555556,
             "#d8576b"
            ],
            [
             0.6666666666666666,
             "#ed7953"
            ],
            [
             0.7777777777777778,
             "#fb9f3a"
            ],
            [
             0.8888888888888888,
             "#fdca26"
            ],
            [
             1,
             "#f0f921"
            ]
           ],
           "sequentialminus": [
            [
             0,
             "#0d0887"
            ],
            [
             0.1111111111111111,
             "#46039f"
            ],
            [
             0.2222222222222222,
             "#7201a8"
            ],
            [
             0.3333333333333333,
             "#9c179e"
            ],
            [
             0.4444444444444444,
             "#bd3786"
            ],
            [
             0.5555555555555556,
             "#d8576b"
            ],
            [
             0.6666666666666666,
             "#ed7953"
            ],
            [
             0.7777777777777778,
             "#fb9f3a"
            ],
            [
             0.8888888888888888,
             "#fdca26"
            ],
            [
             1,
             "#f0f921"
            ]
           ]
          },
          "colorway": [
           "#636efa",
           "#EF553B",
           "#00cc96",
           "#ab63fa",
           "#FFA15A",
           "#19d3f3",
           "#FF6692",
           "#B6E880",
           "#FF97FF",
           "#FECB52"
          ],
          "font": {
           "color": "#2a3f5f"
          },
          "geo": {
           "bgcolor": "white",
           "lakecolor": "white",
           "landcolor": "#E5ECF6",
           "showlakes": true,
           "showland": true,
           "subunitcolor": "white"
          },
          "hoverlabel": {
           "align": "left"
          },
          "hovermode": "closest",
          "mapbox": {
           "style": "light"
          },
          "paper_bgcolor": "white",
          "plot_bgcolor": "#E5ECF6",
          "polar": {
           "angularaxis": {
            "gridcolor": "white",
            "linecolor": "white",
            "ticks": ""
           },
           "bgcolor": "#E5ECF6",
           "radialaxis": {
            "gridcolor": "white",
            "linecolor": "white",
            "ticks": ""
           }
          },
          "scene": {
           "xaxis": {
            "backgroundcolor": "#E5ECF6",
            "gridcolor": "white",
            "gridwidth": 2,
            "linecolor": "white",
            "showbackground": true,
            "ticks": "",
            "zerolinecolor": "white"
           },
           "yaxis": {
            "backgroundcolor": "#E5ECF6",
            "gridcolor": "white",
            "gridwidth": 2,
            "linecolor": "white",
            "showbackground": true,
            "ticks": "",
            "zerolinecolor": "white"
           },
           "zaxis": {
            "backgroundcolor": "#E5ECF6",
            "gridcolor": "white",
            "gridwidth": 2,
            "linecolor": "white",
            "showbackground": true,
            "ticks": "",
            "zerolinecolor": "white"
           }
          },
          "shapedefaults": {
           "line": {
            "color": "#2a3f5f"
           }
          },
          "ternary": {
           "aaxis": {
            "gridcolor": "white",
            "linecolor": "white",
            "ticks": ""
           },
           "baxis": {
            "gridcolor": "white",
            "linecolor": "white",
            "ticks": ""
           },
           "bgcolor": "#E5ECF6",
           "caxis": {
            "gridcolor": "white",
            "linecolor": "white",
            "ticks": ""
           }
          },
          "title": {
           "x": 0.05
          },
          "xaxis": {
           "automargin": true,
           "gridcolor": "white",
           "linecolor": "white",
           "ticks": "",
           "title": {
            "standoff": 15
           },
           "zerolinecolor": "white",
           "zerolinewidth": 2
          },
          "yaxis": {
           "automargin": true,
           "gridcolor": "white",
           "linecolor": "white",
           "ticks": "",
           "title": {
            "standoff": 15
           },
           "zerolinecolor": "white",
           "zerolinewidth": 2
          }
         }
        }
       }
      },
      "text/html": [
       "<div>                            <div id=\"658f5f7b-36b2-4841-bbbb-6fcc23df9795\" class=\"plotly-graph-div\" style=\"height:525px; width:100%;\"></div>            <script type=\"text/javascript\">                require([\"plotly\"], function(Plotly) {                    window.PLOTLYENV=window.PLOTLYENV || {};                                    if (document.getElementById(\"658f5f7b-36b2-4841-bbbb-6fcc23df9795\")) {                    Plotly.newPlot(                        \"658f5f7b-36b2-4841-bbbb-6fcc23df9795\",                        [{\"branchvalues\":\"total\",\"customdata\":[[1.0],[-1.0],[-1.0],[-1.0],[-1.0],[-1.0],[-1.0],[1.0],[1.0],[-1.0],[1.0],[-1.0],[-1.0],[-1.0],[-1.0],[1.0],[1.0],[1.0],[1.0],[-1.0],[-1.0],[1.0],[-1.0],[1.0],[1.0],[-1.0],[-1.0],[1.0],[1.0],[-1.0],[1.0],[1.0],[-1.0],[1.0],[1.0],[-1.0],[-1.0],[1.0],[1.0],[-1.0],[1.0],[-1.0],[-1.0],[-1.0],[-1.0],[-1.0],[-1.0],[-1.0],[1.0],[-1.0],[-1.0],[1.0],[1.0],[-1.0],[1.0],[1.0],[-1.0],[1.0],[1.0],[1.0],[1.0],[1.0],[-1.0],[1.0],[1.0],[1.0],[1.0],[1.0],[1.0],[-1.0],[1.0],[-1.0],[-1.0],[1.0],[-1.0],[1.0],[-1.0],[-1.0],[-1.0],[1.0],[-1.0],[1.0],[1.0],[-1.0],[-1.0],[-1.0],[1.0],[1.0],[1.0],[1.0],[-1.0],[1.0],[1.0],[-1.0],[-1.0],[1.0],[1.0],[-1.0],[1.0],[1.0],[-1.0],[1.0],[1.0],[-1.0],[-1.0],[-1.0],[-1.0],[-1.0],[-1.0],[1.0],[-1.0],[1.0],[1.0],[1.0],[1.0],[-1.0],[-1.0],[-1.0],[1.0],[1.0],[-1.0],[1.0],[-1.0],[1.0],[-1.0],[1.0],[-1.0],[1.0],[-1.0],[-1.0],[-1.0],[-1.0],[1.0],[-1.0],[-1.0],[1.0],[1.0],[1.0],[-1.0],[1.0],[-1.0],[-1.0],[-1.0],[1.0],[-1.0],[-1.0],[1.0],[-1.0],[-1.0],[1.0],[1.0],[-1.0],[-1.0],[-1.0],[-1.0],[-1.0],[-1.0],[-1.0],[-1.0],[-1.0],[-1.0],[1.0],[-1.0],[-1.0],[-1.0],[-1.0],[-1.0],[-1.0],[1.0],[-1.0],[-1.0],[1.0],[-1.0],[1.0],[-1.0],[1.0],[-1.0],[1.0],[-1.0],[1.0],[-1.0],[-1.0],[1.0],[-1.0],[-1.0],[-1.0],[-1.0],[-1.0],[-1.0],[1.0],[1.0],[-1.0],[-1.0],[1.0],[-1.0],[-1.0],[-1.0],[-1.0],[-1.0],[1.0],[-1.0],[-1.0],[1.0],[-1.0],[1.0],[-1.0],[-1.0],[-1.0],[-1.0],[-1.0],[-1.0],[-1.0],[-1.0],[-1.0],[-1.0],[-1.0],[-1.0],[-1.0],[-1.0],[-1.0],[1.0],[1.0],[-1.0],[-1.0],[1.0],[-1.0],[-1.0],[-1.0],[-1.0],[-1.0],[-1.0],[1.0],[-1.0],[1.0],[-1.0],[-1.0],[-1.0],[-1.0],[1.0],[1.0],[-1.0],[1.0],[-1.0],[-1.0],[1.0],[-1.0],[1.0],[-1.0],[-1.0],[1.0],[-1.0],[1.0],[1.0],[-1.0],[-1.0],[1.0],[-1.0],[-1.0],[-1.0],[1.0],[-1.0],[-1.0],[-1.0],[-1.0],[-1.0],[1.0],[1.0],[-1.0],[-1.0],[1.0],[1.0],[-1.0],[1.0],[-1.0],[1.0],[-1.0],[-1.0],[1.0],[-1.0],[1.0],[-1.0],[-1.0],[-1.0],[1.0],[1.0],[-1.0],[1.0],[-1.0],[1.0],[-1.0],[-1.0],[-1.0],[1.0],[1.0],[-1.0],[1.0],[-1.0],[-1.0],[1.0],[1.0],[1.0],[-1.0],[-1.0],[-1.0],[1.0],[-1.0],[1.0],[-1.0],[1.0],[-1.0],[1.0],[-1.0],[-1.0],[-1.0],[1.0],[-1.0],[1.0],[1.0],[1.0],[1.0],[-1.0],[-1.0],[-1.0],[-1.0],[-1.0],[-1.0],[1.0],[-1.0],[-1.0],[-1.0],[1.0],[1.0],[1.0],[-1.0],[1.0],[-1.0],[-1.0],[-1.0],[-1.0],[1.0],[-1.0],[1.0],[1.0],[-1.0],[1.0],[1.0],[1.0],[1.0],[-1.0],[1.0],[1.0],[1.0],[1.0],[1.0],[-1.0],[1.0],[-1.0],[1.0],[1.0],[1.0],[1.0],[-1.0],[1.0],[-1.0],[-1.0],[1.0],[1.0],[1.0],[1.0],[1.0],[-1.0],[-1.0],[-1.0],[-1.0],[1.0],[1.0],[1.0],[1.0],[1.0],[-1.0],[-1.0],[-1.0],[-1.0],[1.0],[-1.0],[-1.0],[-1.0],[-1.0],[1.0],[1.0],[-1.0],[1.0],[1.0],[1.0],[1.0],[1.0],[-1.0],[1.0],[1.0],[1.0],[1.0],[1.0],[1.0],[-1.0],[1.0],[-1.0],[-1.0],[-1.0],[1.0],[1.0],[1.0],[-1.0],[-1.0],[-1.0],[1.0],[1.0],[-1.0],[-1.0],[1.0],[1.0],[1.0],[-1.0],[1.0],[1.0],[1.0],[1.0],[-1.0],[1.0],[1.0],[1.0],[1.0],[-1.0],[1.0],[-1.0],[1.0],[1.0],[1.0],[1.0],[-1.0],[-1.0],[1.0],[1.0],[1.0],[1.0],[1.0],[-1.0],[1.0],[1.0],[1.0],[1.0],[1.0],[1.0],[1.0],[1.0],[1.0],[-1.0],[1.0],[1.0],[-1.0],[-1.0],[-1.0],[-1.0],[1.0],[-1.0],[-1.0],[-1.0],[1.0],[1.0],[1.0],[-1.0],[1.0],[1.0],[-1.0],[1.0],[-1.0],[-1.0],[-1.0],[1.0],[1.0],[1.0],[1.0],[-1.0],[-1.0],[-1.0],[-1.0],[1.0],[-1.0],[-1.0],[1.0],[1.0],[1.0],[1.0],[-1.0],[-1.0],[-1.0],[-1.0],[1.0],[-1.0],[-1.0],[-1.0],[-1.0],[1.0],[-1.0],[1.0],[1.0],[1.0],[-1.0],[-1.0],[1.0],[-1.0],[-1.0],[-1.0],[-1.0],[-1.0],[-1.0],[1.0],[1.0],[-1.0],[-1.0],[1.0],[-1.0],[-1.0],[1.0],[1.0],[1.0],[-1.0],[1.0],[-1.0],[-1.0],[1.0],[1.0],[-1.0],[1.0],[1.0],[-1.0],[1.0],[1.0],[1.0],[-1.0],[-1.0],[-1.0],[-1.0],[-1.0],[-1.0],[-1.0],[-1.0],[-1.0],[-1.0],[1.0],[1.0],[-1.0],[1.0],[1.0],[1.0],[1.0],[1.0],[-1.0],[1.0],[-1.0],[-1.0],[1.0],[-1.0],[1.0],[1.0],[-1.0],[1.0],[-1.0],[-1.0],[1.0],[1.0],[-1.0],[-1.0],[-1.0],[1.0],[-1.0],[-1.0],[-1.0],[-1.0],[-1.0],[1.0],[1.0],[1.0],[-1.0],[-1.0],[-1.0],[-1.0],[-1.0],[1.0],[1.0],[-1.0],[1.0],[-1.0],[1.0],[-1.0],[1.0],[-1.0],[1.0],[-1.0],[1.0],[-1.0],[-1.0],[-1.0],[1.0],[1.0],[1.0],[1.0],[1.0],[-1.0],[-1.0],[1.0],[1.0],[-1.0],[-1.0],[1.0],[-1.0],[1.0],[-1.0],[-1.0],[-1.0],[1.0],[-1.0],[-1.0],[1.0],[-1.0],[-1.0],[-1.0],[-1.0],[1.0],[-1.0],[-1.0],[-1.0],[-1.0],[-1.0],[-1.0],[-1.0],[1.0],[1.0],[1.0],[-1.0],[-1.0],[1.0],[-1.0],[-1.0],[1.0],[1.0],[1.0],[1.0],[-1.0],[-1.0],[1.0],[-1.0],[-1.0],[1.0],[1.0],[1.0],[-1.0],[-1.0],[-1.0],[-1.0],[-1.0],[1.0],[1.0],[-1.0],[1.0],[1.0],[-1.0],[-1.0],[-1.0],[-1.0],[-1.0],[1.0],[1.0],[-1.0],[1.0],[-1.0],[1.0],[-1.0],[-1.0],[1.0],[-1.0],[-1.0],[-1.0],[-1.0],[-1.0],[-1.0],[-1.0],[-1.0],[1.0],[1.0],[1.0],[1.0],[1.0],[1.0],[-1.0],[-1.0],[1.0],[1.0],[-1.0],[-1.0],[1.0],[1.0],[-1.0],[1.0],[-1.0],[-1.0],[-1.0],[1.0],[1.0],[1.0],[-1.0],[-1.0],[-1.0],[1.0],[-1.0],[1.0],[-1.0],[-1.0],[-1.0],[1.0],[-1.0],[1.0],[-1.0],[1.0],[1.0],[1.0],[-1.0],[-1.0],[-1.0],[-1.0],[1.0],[-1.0],[1.0],[-1.0],[1.0],[-1.0],[1.0],[1.0],[-1.0],[-1.0],[1.0],[1.0],[-1.0],[-1.0],[-1.0],[-1.0],[-1.0],[1.0],[1.0],[1.0],[-1.0],[-1.0],[-1.0],[0.7725488568210367],[0.9811226256707821],[0.49020122240066893],[-0.9598057703032453],[-0.9999439653486589],[-0.9868185334274806],[-0.7417646377199766],[-0.3882148174281626],[1.0],[0.49941973156828096],[0.9979944585946708],[1.0],[1.0],[-1.0],[-0.9972144943090921],[0.7860276854381137],[-1.0],[-0.7874361089246853],[1.0],[1.0],[1.0],[0.9191257216639651],[-1.0],[1.0],[0.5830480825219212],[0.3230420515437755],[-1.0],[1.0],[-1.0],[-0.5764444093761668],[-0.7793248027385755],[-0.7248587543641551],[-0.9991491426106699],[-0.9973298454056062],[-1.0],[1.0],[-1.0],[-1.0],[-1.0],[1.0],[1.0],[-0.9999999939164425],[-0.4757214892315563],[1.0],[1.0],[1.0],[1.0],[1.0],[-0.4391366671177064],[-1.0],[-0.9605368081075311],[-0.7184577057005826],[0.7164116045710216],[0.8606122097099099],[-1.0],[1.0],[-0.5812582945879234],[0.902730639746865],[1.0],[1.0],[-0.22522561105956562],[-0.9767322910622378],[1.0],[1.0],[1.0],[-1.0],[-1.0],[1.0],[-0.6059906073086935],[1.0],[-1.0],[-1.0],[1.0],[1.0],[0.9997567226571827],[-0.9773309429506353],[1.0],[-1.0],[-1.0],[-0.22375995797695902],[-1.0],[-1.0],[-1.0],[-0.0939554305121947],[-0.9924368352701013],[0.1213366113374239],[-1.0],[0.26191491843522763]],\"domain\":{\"x\":[0.0,1.0],\"y\":[0.0,1.0]},\"hovertemplate\":\"labels=%{label}<br>abs_cumul_net_dollar_flow=%{value}<br>parent=%{parent}<br>id=%{id}<br>flow_direction=%{color}<extra></extra>\",\"ids\":[\"all/Solana/01\",\"all/Binance/1inch-network\",\"all/Ethereum/1inch-network\",\"all/Ethereum/88mph\",\"all/Fantom/88mph\",\"all/Ethereum/aave-v1\",\"all/Avalanche/aave-v2\",\"all/Ethereum/aave-v2\",\"all/Ethereum-pool2/aave-v2\",\"all/Polygon/aave-v2\",\"all/pool2/aave-v2\",\"all/Arbitrum/aave-v3\",\"all/Avalanche/aave-v3\",\"all/Fantom/aave-v3\",\"all/Harmony/aave-v3\",\"all/Optimism/aave-v3\",\"all/Polygon/aave-v3\",\"all/Ethereum/aavegotchi\",\"all/Polygon/aavegotchi\",\"all/Polygon-pool2/aavegotchi\",\"all/pool2/aavegotchi\",\"all/Acala/acala-dollar\",\"all/Acala/acala-lcdot\",\"all/Acala/acala-liquid-staking\",\"all/Acala/acala-swap\",\"all/Ethereum/across\",\"all/Astar/acryptos\",\"all/Avalanche/acryptos\",\"all/Binance/acryptos\",\"all/Cronos/acryptos\",\"all/Fantom/acryptos\",\"all/Harmony/acryptos\",\"all/Moonbeam/acryptos\",\"all/Moonriver/acryptos\",\"all/xDai/acryptos\",\"all/Ethereum/alchemix\",\"all/Fantom/alchemix\",\"all/Solana/aldrin\",\"all/Algorand/algofi\",\"all/Avalanche/allbridge\",\"all/Binance/allbridge\",\"all/Celo/allbridge\",\"all/Ethereum/allbridge\",\"all/Fantom/allbridge\",\"all/Heco/allbridge\",\"all/Near/allbridge\",\"all/Polygon/allbridge\",\"all/Solana/allbridge\",\"all/Terra/allbridge\",\"all/Binance/alpaca-finance\",\"all/Fantom/alpaca-finance\",\"all/Arbitrum/angle\",\"all/Ethereum/angle\",\"all/Optimism/angle\",\"all/Polygon/angle\",\"all/Avalanche/ankr\",\"all/Binance/ankr\",\"all/Ethereum/ankr\",\"all/Fantom/ankr\",\"all/Kusama/ankr\",\"all/Polkadot/ankr\",\"all/Binance/apeswap-amm\",\"all/Ethereum/apeswap-amm\",\"all/Polygon/apeswap-amm\",\"all/Binance/apeswap-lending\",\"all/Binance/apollox\",\"all/Binance-pool2/apollox\",\"all/pool2/apollox\",\"all/Ethereum/armor\",\"all/Ethereum/arrakis-finance\",\"all/Optimism/arrakis-finance\",\"all/Polygon/arrakis-finance\",\"all/Astar/arthswap\",\"all/Terra/astroport\",\"all/Terra2/astroport\",\"all/Ethereum/aura\",\"all/Aurora/aurigami\",\"all/Arbitrum/b.protocol\",\"all/Ethereum/b.protocol\",\"all/Polygon/b.protocol\",\"all/Binance/babyswap\",\"all/Arbitrum/balancer\",\"all/Ethereum/balancer\",\"all/Polygon/balancer\",\"all/Ethereum/bancor\",\"all/Aurora/bastion\",\"all/Arbitrum/beefy\",\"all/Aurora/beefy\",\"all/Avalanche/beefy\",\"all/Binance/beefy\",\"all/Celo/beefy\",\"all/Cronos/beefy\",\"all/Fantom/beefy\",\"all/Fuse/beefy\",\"all/Harmony/beefy\",\"all/Heco/beefy\",\"all/Metis/beefy\",\"all/Moonbeam/beefy\",\"all/Moonriver/beefy\",\"all/Oasis/beefy\",\"all/Optimism/beefy\",\"all/Polygon/beefy\",\"all/Fantom/beethoven-x\",\"all/Optimism/beethoven-x\",\"all/Ethereum/bella-protocol\",\"all/Ethereum-pool2/bella-protocol\",\"all/pool2/bella-protocol\",\"all/Binance/belt-finance\",\"all/Heco/belt-finance\",\"all/Klaytn/belt-finance\",\"all/Ethereum/benddao\",\"all/Avalanche/benqi-lending\",\"all/Avalanche-pool2/benqi-lending\",\"all/pool2/benqi-lending\",\"all/Avalanche/benqi-staked-avax\",\"all/Avalanche/beta-finance\",\"all/Ethereum/beta-finance\",\"all/Avalanche/bifi\",\"all/Binance/bifi\",\"all/Ethereum/bifi\",\"all/Klaytn/bifi\",\"all/Bifrost/bifrost\",\"all/Binance/biswap\",\"all/Binance/bunny\",\"all/Polygon/bunny\",\"all/Near/burrow\",\"all/Arbitrum/cbridge\",\"all/Aurora/cbridge\",\"all/Avalanche/cbridge\",\"all/Binance/cbridge\",\"all/Boba/cbridge\",\"all/Ethereum/cbridge\",\"all/Fantom/cbridge\",\"all/Harmony/cbridge\",\"all/Metis/cbridge\",\"all/Optimism/cbridge\",\"all/Polygon/cbridge\",\"all/Shiden/cbridge\",\"all/Binance/chainport\",\"all/Ethereum/chainport\",\"all/Klaytn/claimswap\",\"all/Ethereum/clipper\",\"all/Moonbeam/clipper\",\"all/Optimism/clipper\",\"all/Polygon/clipper\",\"all/Binance/coinwind\",\"all/Binance-pool2/coinwind\",\"all/Heco/coinwind\",\"all/Heco-pool2/coinwind\",\"all/pool2/coinwind\",\"all/Ethereum/compound\",\"all/Ethereum/concave\",\"all/Ethereum/concentrator\",\"all/Arbitrum/connext\",\"all/Avalanche/connext\",\"all/Binance/connext\",\"all/Boba/connext\",\"all/Cronos/connext\",\"all/Ethereum/connext\",\"all/Evmos/connext\",\"all/Fantom/connext\",\"all/Fuse/connext\",\"all/Milkomeda/connext\",\"all/Moonbeam/connext\",\"all/Moonriver/connext\",\"all/Optimism/connext\",\"all/Polygon/connext\",\"all/xDai/connext\",\"all/Ethereum/convex-finance\",\"all/Arbitrum/cream-finance\",\"all/Binance/cream-finance\",\"all/Ethereum/cream-finance\",\"all/Polygon/cream-finance\",\"all/DFK/crystalvale\",\"all/Arbitrum/curve\",\"all/Aurora/curve\",\"all/Avalanche/curve\",\"all/Ethereum/curve\",\"all/Fantom/curve\",\"all/Moonbeam/curve\",\"all/Optimism/curve\",\"all/Polygon/curve\",\"all/xDai/curve\",\"all/Binance/deeplock\",\"all/Binance-pool2/deeplock\",\"all/pool2/deeplock\",\"all/Harmony/defi-kingdoms\",\"all/Ethereum/defi-swap\",\"all/Wax/defibox\",\"all/Ethereum/defidollar-dao\",\"all/Ethereum/defisaver\",\"all/Avalanche/defrost\",\"all/Arbitrum/dforce\",\"all/Binance/dforce\",\"all/Ethereum/dforce\",\"all/Optimism/dforce\",\"all/Polygon/dforce\",\"all/Ethereum/dfx-finance\",\"all/Polygon/dfx-finance\",\"all/Fantom/dfyn-network\",\"all/OKExChain/dfyn-network\",\"all/Polygon/dfyn-network\",\"all/Arbitrum/dopex\",\"all/Arbitrum-pool2/dopex\",\"all/Binance/dopex\",\"all/Ethereum-pool2/dopex\",\"all/pool2/dopex\",\"all/Binance/dot-dot-finance\",\"all/Avalanche/dxsale\",\"all/Binance/dxsale\",\"all/Celo/dxsale\",\"all/Cronos/dxsale\",\"all/Ethereum/dxsale\",\"all/Fantom/dxsale\",\"all/Harmony/dxsale\",\"all/Heco/dxsale\",\"all/Milkomeda/dxsale\",\"all/OKExChain/dxsale\",\"all/Polygon/dxsale\",\"all/Ethereum/dydx\",\"all/Polygon/dystopia\",\"all/Avalanche/echidna-finance\",\"all/Avalanche-pool2/echidna-finance\",\"all/pool2/echidna-finance\",\"all/Ethereum/element-finance\",\"all/Binance/ellipsis-finance\",\"all/Ethereum/enzyme-finance\",\"all/EOS/eos-rex\",\"all/Ethereum/euler\",\"all/Fantom/fantohm\",\"all/Moonriver/fantohm\",\"all/Ethereum/fei-protocol\",\"all/Cronos/ferro\",\"all/Binance/filda\",\"all/Elastos/filda\",\"all/Heco/filda\",\"all/IoTeX/filda\",\"all/Polygon/filda\",\"all/REI/filda\",\"all/NEO/flamingo-finance\",\"all/Ethereum/flexa\",\"all/Songbird/flrfarm\",\"all/Songbird-pool2/flrfarm\",\"all/pool2/flrfarm\",\"all/Algorand/folks-finance\",\"all/Ethereum/frax\",\"all/Ethereum-pool2/frax\",\"all/Ethereum-treasury/frax\",\"all/Fantom/frax\",\"all/pool2/frax\",\"all/treasury/frax\",\"all/Solana/friktion\",\"all/Polygon/gains-network\",\"all/Polygon-pool2/gains-network\",\"all/pool2/gains-network\",\"all/Ethereum/gearbox\",\"all/Fantom/geist-finance\",\"all/Fantom-pool2/geist-finance\",\"all/pool2/geist-finance\",\"all/Arbitrum/gmx\",\"all/Avalanche/gmx\",\"all/Avalanche/gro\",\"all/Ethereum/gro\",\"all/Ethereum-pool2/gro\",\"all/pool2/gro\",\"all/Polygon/guard(helmet)\",\"all/Binance/harvest-finance\",\"all/Ethereum/harvest-finance\",\"all/Polygon/harvest-finance\",\"all/Arbitrum/hashflow\",\"all/Avalanche/hashflow\",\"all/Binance/hashflow\",\"all/Ethereum/hashflow\",\"all/Polygon/hashflow\",\"all/Binance/hector-network\",\"all/Ethereum/hector-network\",\"all/Fantom/hector-network\",\"all/Avalanche/homora\",\"all/Binance/homora\",\"all/Ethereum/homora\",\"all/Fantom/homora\",\"all/Arbitrum/hop-protocol\",\"all/Ethereum/hop-protocol\",\"all/Optimism/hop-protocol\",\"all/Polygon/hop-protocol\",\"all/xDai/hop-protocol\",\"all/Solana/hubble\",\"all/Arbitrum/hundred-finance\",\"all/Ethereum/hundred-finance\",\"all/Fantom/hundred-finance\",\"all/Harmony/hundred-finance\",\"all/Moonriver/hundred-finance\",\"all/Optimism/hundred-finance\",\"all/Polygon/hundred-finance\",\"all/Polygon/idex\",\"all/Ethereum/idle-finance\",\"all/Polygon/idle-finance\",\"all/Ethereum/index-coop\",\"all/Ethereum/injective\",\"all/Ethereum/instadapp\",\"all/Avalanche/insurace\",\"all/Binance/insurace\",\"all/Ethereum/insurace\",\"all/Polygon/insurace\",\"all/Ethereum/inverse-finance\",\"all/Avalanche/iron-bank\",\"all/Ethereum/iron-bank\",\"all/Fantom/iron-bank\",\"all/Binance/iziswap\",\"all/Arbitrum/izumi-finance\",\"all/Ethereum/izumi-finance\",\"all/Ethereum-pool2/izumi-finance\",\"all/Polygon/izumi-finance\",\"all/pool2/izumi-finance\",\"all/Solana/jpool\",\"all/Tron/justlend\",\"all/Tron/juststables\",\"all/Kardia/kaidex\",\"all/Karura/karura-dollar-(kusd)\",\"all/Karura/karura-liquid-staking\",\"all/Solana/katana\",\"all/Ronin/katana-dex\",\"all/Kava/kava-lend\",\"all/Kava/kava-mint\",\"all/Kava/kava-swap\",\"all/Klaytn/klap\",\"all/Klaytn/klayswap\",\"all/Polygon/klima-dao\",\"all/Binance/knightswap-finance\",\"all/Fantom/knightswap-finance\",\"all/Klaytn/kokoa-finance\",\"all/Klaytn-pool2/kokoa-finance\",\"all/pool2/kokoa-finance\",\"all/Klaytn/kokonut-swap\",\"all/Arbitrum/kyberswap\",\"all/Avalanche/kyberswap\",\"all/Binance/kyberswap\",\"all/Cronos/kyberswap\",\"all/Ethereum/kyberswap\",\"all/Fantom/kyberswap\",\"all/Oasis/kyberswap\",\"all/Optimism/kyberswap\",\"all/Polygon/kyberswap\",\"all/Solana/larix\",\"all/Ethereum/lido\",\"all/Moonbeam/lido\",\"all/Moonriver/lido\",\"all/Solana/lido\",\"all/Terra/lido\",\"all/Bitcoin/lightning-network\",\"all/Near/linear-protocol\",\"all/Binance/liqee\",\"all/Ethereum/liqee\",\"all/Fantom/liquid-driver\",\"all/Ethereum/liquity\",\"all/Ethereum/llama-airforce\",\"all/Ethereum/loopring\",\"all/Ethereum/lyra\",\"all/Optimism/lyra\",\"all/Elrond/maiar-exchange\",\"all/Ethereum/makerdao\",\"all/Solana/mango-markets\",\"all/Ethereum/maple\",\"all/Solana/maple\",\"all/Solana/marinade-finance\",\"all/Celo/mento\",\"all/Solana/mercurial-finance\",\"all/Polygon/meshswap\",\"all/Near/meta-pool\",\"all/Ethereum/metronome\",\"all/IoTeX/mimo\",\"all/Ethereum/mimo-defi\",\"all/Fantom/mimo-defi\",\"all/Polygon/mimo-defi\",\"all/Cardano/minswap\",\"all/Cronos/mm-finance\",\"all/Cronos/mm-optimizer\",\"all/Kucoin/mojitoswap\",\"all/RSK/moneyonchain\",\"all/Celo/moola-market\",\"all/Moonriver/moonwell-apollo\",\"all/Moonbeam/moonwell-artemis\",\"all/Ethereum/mstable\",\"all/Polygon/mstable\",\"all/NEO/neoburger\",\"all/Avalanche/nereus-finance\",\"all/Metis/netswap\",\"all/Waves/neutrino\",\"all/Ethereum/nexus-mutual\",\"all/Ethereum/nftx\",\"all/Binance/nomiswap\",\"all/Ethereum/notional\",\"all/Binance/octus-bridge\",\"all/Ethereum/octus-bridge\",\"all/Everscale/octus-bridge\",\"all/Polygon/octus-bridge\",\"all/Ethereum/olympus-dao\",\"all/Avalanche/onx-finance\",\"all/Ethereum/onx-finance\",\"all/Ethereum-pool2/onx-finance\",\"all/Fantom/onx-finance\",\"all/Polygon/onx-finance\",\"all/pool2/onx-finance\",\"all/Arbitrum/ooki\",\"all/Binance/ooki\",\"all/Ethereum/ooki\",\"all/Optimism/ooki\",\"all/Polygon/ooki\",\"all/Avalanche/opyn\",\"all/Ethereum/opyn\",\"all/Polygon/opyn\",\"all/Ethereum/origin-dollar\",\"all/Binance/orion-protocol\",\"all/Ethereum/orion-protocol\",\"all/Osmosis/osmosis\",\"all/Ethereum/ouchi-finance\",\"all/Boba/outcome-finance\",\"all/Ethereum/outcome-finance\",\"all/Polygon/outcome-finance\",\"all/Binance/pancakeswap\",\"all/Avalanche/pangolin\",\"all/Solana/parrot-protocol\",\"all/Polygon/penrose\",\"all/Optimism/perpetual-protocol\",\"all/Arbitrum/pickle\",\"all/Arbitrum-pool2/pickle\",\"all/Aurora/pickle\",\"all/Cronos/pickle\",\"all/Ethereum/pickle\",\"all/Ethereum-pool2/pickle\",\"all/Metis/pickle\",\"all/Moonbeam/pickle\",\"all/Moonriver/pickle\",\"all/OKExChain/pickle\",\"all/Optimism/pickle\",\"all/Polygon/pickle\",\"all/Polygon-pool2/pickle\",\"all/pool2/pickle\",\"all/Avalanche/pinksale\",\"all/Binance/pinksale\",\"all/Cronos/pinksale\",\"all/Ethereum/pinksale\",\"all/Fantom/pinksale\",\"all/Polygon/pinksale\",\"all/Binance/planet\",\"all/Avalanche/platypus-finance\",\"all/Binance/pnetwork\",\"all/Bitcoin/pnetwork\",\"all/Doge/pnetwork\",\"all/EOS/pnetwork\",\"all/Ethereum/pnetwork\",\"all/Fantom/pnetwork\",\"all/LBRY/pnetwork\",\"all/Litecoin/pnetwork\",\"all/ORE/pnetwork\",\"all/Ravencoin/pnetwork\",\"all/Telos/pnetwork\",\"all/Polygon/polygon-bridge-&-staking\",\"all/Avalanche/pooltogether\",\"all/Binance/pooltogether\",\"all/Celo/pooltogether\",\"all/Ethereum/pooltogether\",\"all/Optimism/pooltogether\",\"all/Polygon/pooltogether\",\"all/Solana/port-finance\",\"all/Binance/position-exchange\",\"all/Binance-treasury/position-exchange\",\"all/treasury/position-exchange\",\"all/Proton/proton-loan\",\"all/Ethereum/pstake\",\"all/Ethereum-pool2/pstake\",\"all/pool2/pstake\",\"all/Hoo/puddingswap\",\"all/Arbitrum/qidao\",\"all/Avalanche/qidao\",\"all/Binance/qidao\",\"all/Fantom/qidao\",\"all/Harmony/qidao\",\"all/Metis/qidao\",\"all/Moonriver/qidao\",\"all/Optimism/qidao\",\"all/Polygon/qidao\",\"all/xDai/qidao\",\"all/Solana/quarry\",\"all/Polygon/quickswap\",\"all/Arbitrum/radiant\",\"all/Arbitrum-pool2/radiant\",\"all/pool2/radiant\",\"all/Avalanche/radioshack\",\"all/Binance/radioshack\",\"all/Ethereum/radioshack\",\"all/Polygon/radioshack\",\"all/Arbitrum/rari-capital\",\"all/Ethereum/rari-capital\",\"all/Ethereum-pool2/rari-capital\",\"all/pool2/rari-capital\",\"all/xDai/realt\",\"all/Fantom/reaper-farm\",\"all/Optimism/reaper-farm\",\"all/Near/ref-finance\",\"all/Ethereum/reflexer\",\"all/Arbitrum/renvm\",\"all/Avalanche/renvm\",\"all/Binance/renvm\",\"all/Ethereum/renvm\",\"all/Fantom/renvm\",\"all/Polygon/renvm\",\"all/Solana/renvm\",\"all/Telos/rex-staking\",\"all/Ethereum/rhino.fi\",\"all/Avalanche/ribbon-finance\",\"all/Ethereum/ribbon-finance\",\"all/Solana/ribbon-finance\",\"all/Avalanche/risk-harbor\",\"all/Ethereum/risk-harbor\",\"all/Ethereum/rocket-pool\",\"all/Ethereum/rook\",\"all/Solana/saber\",\"all/Ethereum/sablier-finance\",\"all/Arbitrum/saddle-finance\",\"all/Ethereum/saddle-finance\",\"all/Evmos/saddle-finance\",\"all/Fantom/saddle-finance\",\"all/Kava/saddle-finance\",\"all/Optimism/saddle-finance\",\"all/Binance/sashimiswap\",\"all/Ethereum/sashimiswap\",\"all/Heco/sashimiswap\",\"all/Ethereum/set-protocol\",\"all/Ethereum/sherlock\",\"all/Ethereum/shibaswap\",\"all/Icon/sicx\",\"all/Cronos/single-finance\",\"all/Cronos-pool2/single-finance\",\"all/Fantom/single-finance\",\"all/Fantom-pool2/single-finance\",\"all/pool2/single-finance\",\"all/Moonriver/solarbeam\",\"all/Solana/solend\",\"all/Binance/solo-top\",\"all/Heco/solo-top\",\"all/OKExChain/solo-top\",\"all/Polygon/solo-top\",\"all/Binance/solv-protocol\",\"all/Ethereum/solv-protocol\",\"all/Polygon/solv-protocol\",\"all/Fantom/spartacus\",\"all/Fantom/spiritswap\",\"all/Fantom/spookyswap\",\"all/Ethereum/spool-protocol\",\"all/Stacks/stacks-staking\",\"all/Binance/stader\",\"all/Fantom/stader\",\"all/Hedera/stader\",\"all/Near/stader\",\"all/Polygon/stader\",\"all/Terra/stader\",\"all/Terra2/stader\",\"all/Binance/stafi\",\"all/Cosmos/stafi\",\"all/Ethereum/stafi\",\"all/Polygon/stafi\",\"all/Solana/stafi\",\"all/Stafi/stafi\",\"all/Avalanche/stakedao\",\"all/Ethereum/stakedao\",\"all/Harmony/stakedao\",\"all/Polygon/stakedao\",\"all/Ethereum/stakewise\",\"all/xDai/stakewise\",\"all/Arbitrum/stargate\",\"all/Avalanche/stargate\",\"all/Binance/stargate\",\"all/Ethereum/stargate\",\"all/Fantom/stargate\",\"all/Optimism/stargate\",\"all/Polygon/stargate\",\"all/Astar/starlay-finance\",\"all/Moonbeam/stellaswap\",\"all/Ethereum/strike\",\"all/Ethereum/sturdy\",\"all/Fantom/sturdy\",\"all/Tron/sun.io\",\"all/Tron-pool2/sun.io\",\"all/pool2/sun.io\",\"all/Cardano/sundaeswap\",\"all/Solana/sunny\",\"all/Tron/sunswap\",\"all/Polygon/superfluid\",\"all/xDai/superfluid\",\"all/Arbitrum/sushiswap\",\"all/Avalanche/sushiswap\",\"all/Binance/sushiswap\",\"all/Celo/sushiswap\",\"all/Ethereum/sushiswap\",\"all/Fantom/sushiswap\",\"all/Fuse/sushiswap\",\"all/Harmony/sushiswap\",\"all/Heco/sushiswap\",\"all/Moonriver/sushiswap\",\"all/OKExChain/sushiswap\",\"all/Polygon/sushiswap\",\"all/Telos/sushiswap\",\"all/xDai/sushiswap\",\"all/Arbitrum/sushiswap-kashi\",\"all/Binance/sushiswap-kashi\",\"all/Ethereum/sushiswap-kashi\",\"all/Fantom/sushiswap-kashi\",\"all/Arbitrum/swapr\",\"all/Ethereum/swapr\",\"all/xDai/swapr\",\"all/Solana/swim-protocol\",\"all/Arbitrum/synapse\",\"all/Aurora/synapse\",\"all/Avalanche/synapse\",\"all/Binance/synapse\",\"all/Boba/synapse\",\"all/Cronos/synapse\",\"all/Ethereum/synapse\",\"all/Ethereum-pool2/synapse\",\"all/Fantom/synapse\",\"all/Harmony/synapse\",\"all/Klaytn/synapse\",\"all/Metis/synapse\",\"all/Moonriver/synapse\",\"all/Optimism/synapse\",\"all/Polygon/synapse\",\"all/pool2/synapse\",\"all/Ethereum/synthetix\",\"all/Optimism/synthetix\",\"all/Fantom/tarot\",\"all/Optimism/tarot\",\"all/Avalanche/team-finance\",\"all/Binance/team-finance\",\"all/Ethereum/team-finance\",\"all/Polygon/team-finance\",\"all/Cronos/tectonic\",\"all/Ethereum/temple-dao\",\"all/Ethereum-pool2/temple-dao\",\"all/pool2/temple-dao\",\"all/Binance/terra-bridge\",\"all/Ethereum/terra-bridge\",\"all/Harmony/terra-bridge\",\"all/Fantom/tetu\",\"all/Polygon/tetu\",\"all/Tezos/tezos-liquidity-baking\",\"all/Ethereum/the-tokenized-bitcoin\",\"all/Theta/thetacash\",\"all/Aurora/thetanuts-finance\",\"all/Avalanche/thetanuts-finance\",\"all/Binance/thetanuts-finance\",\"all/Boba/thetanuts-finance\",\"all/Ethereum/thetanuts-finance\",\"all/Fantom/thetanuts-finance\",\"all/Polygon/thetanuts-finance\",\"all/Theta/thetaswap\",\"all/Algorand/tinyman\",\"all/Ethereum/tokemak\",\"all/Ethereum-pool2/tokemak\",\"all/pool2/tokemak\",\"all/Binance/tokensfarm\",\"all/Ethereum/tokensfarm\",\"all/Fantom/tokensfarm\",\"all/Polygon/tokensfarm\",\"all/Fantom/tomb-finance\",\"all/Fantom-pool2/tomb-finance\",\"all/pool2/tomb-finance\",\"all/Arbitrum/tornado-cash\",\"all/Avalanche/tornado-cash\",\"all/Binance/tornado-cash\",\"all/Ethereum/tornado-cash\",\"all/Optimism/tornado-cash\",\"all/Polygon/tornado-cash\",\"all/xDai/tornado-cash\",\"all/Polygon/toucan-protocol\",\"all/Avalanche/trader-joe\",\"all/Binance/tranchess\",\"all/Aurora/trisolaris\",\"all/Ethereum/truefi\",\"all/Avalanche/unicrypt\",\"all/Binance/unicrypt\",\"all/Binance-pool2/unicrypt\",\"all/Ethereum/unicrypt\",\"all/Ethereum-pool2/unicrypt\",\"all/Polygon/unicrypt\",\"all/pool2/unicrypt\",\"all/xDai-pool2/unicrypt\",\"all/Arbitrum/uniswap\",\"all/Celo/uniswap\",\"all/Ethereum/uniswap\",\"all/Optimism/uniswap\",\"all/Polygon/uniswap\",\"all/Ethereum/unslashed\",\"all/Solana/uxd\",\"all/Binance/valas-finance\",\"all/Binance-pool2/valas-finance\",\"all/pool2/valas-finance\",\"all/Oasis/valleyswap\",\"all/Avalanche/vector-finance\",\"all/Avalanche-pool2/vector-finance\",\"all/pool2/vector-finance\",\"all/Optimism/velodrome\",\"all/Binance/venus\",\"all/Avalanche/vesper\",\"all/Ethereum/vesper\",\"all/Polygon/vesper\",\"all/Arbitrum/vesta-finance\",\"all/Arbitrum-pool2/vesta-finance\",\"all/pool2/vesta-finance\",\"all/Waves/vires-finance\",\"all/Cronos/vvs-finance\",\"all/Waves/waves-exchange\",\"all/Ethereum/wbtc\",\"all/Arbitrum/wepiggy\",\"all/Aurora/wepiggy\",\"all/Binance/wepiggy\",\"all/Ethereum/wepiggy\",\"all/Harmony/wepiggy\",\"all/Heco/wepiggy\",\"all/Moonbeam/wepiggy\",\"all/Moonriver/wepiggy\",\"all/OKExChain/wepiggy\",\"all/Oasis/wepiggy\",\"all/Optimism/wepiggy\",\"all/Polygon/wepiggy\",\"all/Cardano/wingriders\",\"all/Binance/wombat-exchange\",\"all/Binance/wrapped-bnb\",\"all/Ethereum/xdai-stake-bridge\",\"all/Astar/xdao\",\"all/Avalanche/xdao\",\"all/Binance/xdao\",\"all/Ethereum/xdao\",\"all/Fantom/xdao\",\"all/Polygon/xdao\",\"all/Arbitrum/yearn-finance\",\"all/Ethereum/yearn-finance\",\"all/Fantom/yearn-finance\",\"all/Avalanche/yeti-finance\",\"all/Avalanche-pool2/yeti-finance\",\"all/pool2/yeti-finance\",\"all/Arbitrum/yield-protocol\",\"all/Ethereum/yield-protocol\",\"all/Avalanche/yield-yak\",\"all/Avalanche-pool2/yield-yak\",\"all/pool2/yield-yak\",\"all/Binance/yoshi-exchange\",\"all/Fantom/yoshi-exchange\",\"all/Tezos/youves\",\"all/Tezos-pool2/youves\",\"all/pool2/youves\",\"all/Solana/zeta\",\"all/Acala\",\"all/Algorand\",\"all/Arbitrum\",\"all/Arbitrum-pool2\",\"all/Astar\",\"all/Aurora\",\"all/Avalanche\",\"all/Avalanche-pool2\",\"all/Bifrost\",\"all/Binance\",\"all/Binance-pool2\",\"all/Binance-treasury\",\"all/Bitcoin\",\"all/Boba\",\"all/Cardano\",\"all/Celo\",\"all/Cosmos\",\"all/Cronos\",\"all/Cronos-pool2\",\"all/DFK\",\"all/Doge\",\"all/EOS\",\"all/Elastos\",\"all/Elrond\",\"all/Ethereum\",\"all/Ethereum-pool2\",\"all/Ethereum-treasury\",\"all/Everscale\",\"all/Evmos\",\"all/Fantom\",\"all/Fantom-pool2\",\"all/Fuse\",\"all/Harmony\",\"all/Heco\",\"all/Heco-pool2\",\"all/Hedera\",\"all/Hoo\",\"all/Icon\",\"all/IoTeX\",\"all/Kardia\",\"all/Karura\",\"all/Kava\",\"all/Klaytn\",\"all/Klaytn-pool2\",\"all/Kucoin\",\"all/Kusama\",\"all/LBRY\",\"all/Litecoin\",\"all/Metis\",\"all/Milkomeda\",\"all/Moonbeam\",\"all/Moonriver\",\"all/NEO\",\"all/Near\",\"all/OKExChain\",\"all/ORE\",\"all/Oasis\",\"all/Optimism\",\"all/Osmosis\",\"all/Polkadot\",\"all/Polygon\",\"all/Polygon-pool2\",\"all/Proton\",\"all/REI\",\"all/RSK\",\"all/Ravencoin\",\"all/Ronin\",\"all/Shiden\",\"all/Solana\",\"all/Songbird\",\"all/Songbird-pool2\",\"all/Stacks\",\"all/Stafi\",\"all/Telos\",\"all/Terra\",\"all/Terra2\",\"all/Tezos\",\"all/Tezos-pool2\",\"all/Theta\",\"all/Tron\",\"all/Tron-pool2\",\"all/Waves\",\"all/Wax\",\"all/pool2\",\"all/treasury\",\"all/xDai\",\"all/xDai-pool2\",\"all\"],\"labels\":[\"01\",\"1inch-network\",\"1inch-network\",\"88mph\",\"88mph\",\"aave-v1\",\"aave-v2\",\"aave-v2\",\"aave-v2\",\"aave-v2\",\"aave-v2\",\"aave-v3\",\"aave-v3\",\"aave-v3\",\"aave-v3\",\"aave-v3\",\"aave-v3\",\"aavegotchi\",\"aavegotchi\",\"aavegotchi\",\"aavegotchi\",\"acala-dollar\",\"acala-lcdot\",\"acala-liquid-staking\",\"acala-swap\",\"across\",\"acryptos\",\"acryptos\",\"acryptos\",\"acryptos\",\"acryptos\",\"acryptos\",\"acryptos\",\"acryptos\",\"acryptos\",\"alchemix\",\"alchemix\",\"aldrin\",\"algofi\",\"allbridge\",\"allbridge\",\"allbridge\",\"allbridge\",\"allbridge\",\"allbridge\",\"allbridge\",\"allbridge\",\"allbridge\",\"allbridge\",\"alpaca-finance\",\"alpaca-finance\",\"angle\",\"angle\",\"angle\",\"angle\",\"ankr\",\"ankr\",\"ankr\",\"ankr\",\"ankr\",\"ankr\",\"apeswap-amm\",\"apeswap-amm\",\"apeswap-amm\",\"apeswap-lending\",\"apollox\",\"apollox\",\"apollox\",\"armor\",\"arrakis-finance\",\"arrakis-finance\",\"arrakis-finance\",\"arthswap\",\"astroport\",\"astroport\",\"aura\",\"aurigami\",\"b.protocol\",\"b.protocol\",\"b.protocol\",\"babyswap\",\"balancer\",\"balancer\",\"balancer\",\"bancor\",\"bastion\",\"beefy\",\"beefy\",\"beefy\",\"beefy\",\"beefy\",\"beefy\",\"beefy\",\"beefy\",\"beefy\",\"beefy\",\"beefy\",\"beefy\",\"beefy\",\"beefy\",\"beefy\",\"beefy\",\"beethoven-x\",\"beethoven-x\",\"bella-protocol\",\"bella-protocol\",\"bella-protocol\",\"belt-finance\",\"belt-finance\",\"belt-finance\",\"benddao\",\"benqi-lending\",\"benqi-lending\",\"benqi-lending\",\"benqi-staked-avax\",\"beta-finance\",\"beta-finance\",\"bifi\",\"bifi\",\"bifi\",\"bifi\",\"bifrost\",\"biswap\",\"bunny\",\"bunny\",\"burrow\",\"cbridge\",\"cbridge\",\"cbridge\",\"cbridge\",\"cbridge\",\"cbridge\",\"cbridge\",\"cbridge\",\"cbridge\",\"cbridge\",\"cbridge\",\"cbridge\",\"chainport\",\"chainport\",\"claimswap\",\"clipper\",\"clipper\",\"clipper\",\"clipper\",\"coinwind\",\"coinwind\",\"coinwind\",\"coinwind\",\"coinwind\",\"compound\",\"concave\",\"concentrator\",\"connext\",\"connext\",\"connext\",\"connext\",\"connext\",\"connext\",\"connext\",\"connext\",\"connext\",\"connext\",\"connext\",\"connext\",\"connext\",\"connext\",\"connext\",\"convex-finance\",\"cream-finance\",\"cream-finance\",\"cream-finance\",\"cream-finance\",\"crystalvale\",\"curve\",\"curve\",\"curve\",\"curve\",\"curve\",\"curve\",\"curve\",\"curve\",\"curve\",\"deeplock\",\"deeplock\",\"deeplock\",\"defi-kingdoms\",\"defi-swap\",\"defibox\",\"defidollar-dao\",\"defisaver\",\"defrost\",\"dforce\",\"dforce\",\"dforce\",\"dforce\",\"dforce\",\"dfx-finance\",\"dfx-finance\",\"dfyn-network\",\"dfyn-network\",\"dfyn-network\",\"dopex\",\"dopex\",\"dopex\",\"dopex\",\"dopex\",\"dot-dot-finance\",\"dxsale\",\"dxsale\",\"dxsale\",\"dxsale\",\"dxsale\",\"dxsale\",\"dxsale\",\"dxsale\",\"dxsale\",\"dxsale\",\"dxsale\",\"dydx\",\"dystopia\",\"echidna-finance\",\"echidna-finance\",\"echidna-finance\",\"element-finance\",\"ellipsis-finance\",\"enzyme-finance\",\"eos-rex\",\"euler\",\"fantohm\",\"fantohm\",\"fei-protocol\",\"ferro\",\"filda\",\"filda\",\"filda\",\"filda\",\"filda\",\"filda\",\"flamingo-finance\",\"flexa\",\"flrfarm\",\"flrfarm\",\"flrfarm\",\"folks-finance\",\"frax\",\"frax\",\"frax\",\"frax\",\"frax\",\"frax\",\"friktion\",\"gains-network\",\"gains-network\",\"gains-network\",\"gearbox\",\"geist-finance\",\"geist-finance\",\"geist-finance\",\"gmx\",\"gmx\",\"gro\",\"gro\",\"gro\",\"gro\",\"guard(helmet)\",\"harvest-finance\",\"harvest-finance\",\"harvest-finance\",\"hashflow\",\"hashflow\",\"hashflow\",\"hashflow\",\"hashflow\",\"hector-network\",\"hector-network\",\"hector-network\",\"homora\",\"homora\",\"homora\",\"homora\",\"hop-protocol\",\"hop-protocol\",\"hop-protocol\",\"hop-protocol\",\"hop-protocol\",\"hubble\",\"hundred-finance\",\"hundred-finance\",\"hundred-finance\",\"hundred-finance\",\"hundred-finance\",\"hundred-finance\",\"hundred-finance\",\"idex\",\"idle-finance\",\"idle-finance\",\"index-coop\",\"injective\",\"instadapp\",\"insurace\",\"insurace\",\"insurace\",\"insurace\",\"inverse-finance\",\"iron-bank\",\"iron-bank\",\"iron-bank\",\"iziswap\",\"izumi-finance\",\"izumi-finance\",\"izumi-finance\",\"izumi-finance\",\"izumi-finance\",\"jpool\",\"justlend\",\"juststables\",\"kaidex\",\"karura-dollar-(kusd)\",\"karura-liquid-staking\",\"katana\",\"katana-dex\",\"kava-lend\",\"kava-mint\",\"kava-swap\",\"klap\",\"klayswap\",\"klima-dao\",\"knightswap-finance\",\"knightswap-finance\",\"kokoa-finance\",\"kokoa-finance\",\"kokoa-finance\",\"kokonut-swap\",\"kyberswap\",\"kyberswap\",\"kyberswap\",\"kyberswap\",\"kyberswap\",\"kyberswap\",\"kyberswap\",\"kyberswap\",\"kyberswap\",\"larix\",\"lido\",\"lido\",\"lido\",\"lido\",\"lido\",\"lightning-network\",\"linear-protocol\",\"liqee\",\"liqee\",\"liquid-driver\",\"liquity\",\"llama-airforce\",\"loopring\",\"lyra\",\"lyra\",\"maiar-exchange\",\"makerdao\",\"mango-markets\",\"maple\",\"maple\",\"marinade-finance\",\"mento\",\"mercurial-finance\",\"meshswap\",\"meta-pool\",\"metronome\",\"mimo\",\"mimo-defi\",\"mimo-defi\",\"mimo-defi\",\"minswap\",\"mm-finance\",\"mm-optimizer\",\"mojitoswap\",\"moneyonchain\",\"moola-market\",\"moonwell-apollo\",\"moonwell-artemis\",\"mstable\",\"mstable\",\"neoburger\",\"nereus-finance\",\"netswap\",\"neutrino\",\"nexus-mutual\",\"nftx\",\"nomiswap\",\"notional\",\"octus-bridge\",\"octus-bridge\",\"octus-bridge\",\"octus-bridge\",\"olympus-dao\",\"onx-finance\",\"onx-finance\",\"onx-finance\",\"onx-finance\",\"onx-finance\",\"onx-finance\",\"ooki\",\"ooki\",\"ooki\",\"ooki\",\"ooki\",\"opyn\",\"opyn\",\"opyn\",\"origin-dollar\",\"orion-protocol\",\"orion-protocol\",\"osmosis\",\"ouchi-finance\",\"outcome-finance\",\"outcome-finance\",\"outcome-finance\",\"pancakeswap\",\"pangolin\",\"parrot-protocol\",\"penrose\",\"perpetual-protocol\",\"pickle\",\"pickle\",\"pickle\",\"pickle\",\"pickle\",\"pickle\",\"pickle\",\"pickle\",\"pickle\",\"pickle\",\"pickle\",\"pickle\",\"pickle\",\"pickle\",\"pinksale\",\"pinksale\",\"pinksale\",\"pinksale\",\"pinksale\",\"pinksale\",\"planet\",\"platypus-finance\",\"pnetwork\",\"pnetwork\",\"pnetwork\",\"pnetwork\",\"pnetwork\",\"pnetwork\",\"pnetwork\",\"pnetwork\",\"pnetwork\",\"pnetwork\",\"pnetwork\",\"polygon-bridge-&-staking\",\"pooltogether\",\"pooltogether\",\"pooltogether\",\"pooltogether\",\"pooltogether\",\"pooltogether\",\"port-finance\",\"position-exchange\",\"position-exchange\",\"position-exchange\",\"proton-loan\",\"pstake\",\"pstake\",\"pstake\",\"puddingswap\",\"qidao\",\"qidao\",\"qidao\",\"qidao\",\"qidao\",\"qidao\",\"qidao\",\"qidao\",\"qidao\",\"qidao\",\"quarry\",\"quickswap\",\"radiant\",\"radiant\",\"radiant\",\"radioshack\",\"radioshack\",\"radioshack\",\"radioshack\",\"rari-capital\",\"rari-capital\",\"rari-capital\",\"rari-capital\",\"realt\",\"reaper-farm\",\"reaper-farm\",\"ref-finance\",\"reflexer\",\"renvm\",\"renvm\",\"renvm\",\"renvm\",\"renvm\",\"renvm\",\"renvm\",\"rex-staking\",\"rhino.fi\",\"ribbon-finance\",\"ribbon-finance\",\"ribbon-finance\",\"risk-harbor\",\"risk-harbor\",\"rocket-pool\",\"rook\",\"saber\",\"sablier-finance\",\"saddle-finance\",\"saddle-finance\",\"saddle-finance\",\"saddle-finance\",\"saddle-finance\",\"saddle-finance\",\"sashimiswap\",\"sashimiswap\",\"sashimiswap\",\"set-protocol\",\"sherlock\",\"shibaswap\",\"sicx\",\"single-finance\",\"single-finance\",\"single-finance\",\"single-finance\",\"single-finance\",\"solarbeam\",\"solend\",\"solo-top\",\"solo-top\",\"solo-top\",\"solo-top\",\"solv-protocol\",\"solv-protocol\",\"solv-protocol\",\"spartacus\",\"spiritswap\",\"spookyswap\",\"spool-protocol\",\"stacks-staking\",\"stader\",\"stader\",\"stader\",\"stader\",\"stader\",\"stader\",\"stader\",\"stafi\",\"stafi\",\"stafi\",\"stafi\",\"stafi\",\"stafi\",\"stakedao\",\"stakedao\",\"stakedao\",\"stakedao\",\"stakewise\",\"stakewise\",\"stargate\",\"stargate\",\"stargate\",\"stargate\",\"stargate\",\"stargate\",\"stargate\",\"starlay-finance\",\"stellaswap\",\"strike\",\"sturdy\",\"sturdy\",\"sun.io\",\"sun.io\",\"sun.io\",\"sundaeswap\",\"sunny\",\"sunswap\",\"superfluid\",\"superfluid\",\"sushiswap\",\"sushiswap\",\"sushiswap\",\"sushiswap\",\"sushiswap\",\"sushiswap\",\"sushiswap\",\"sushiswap\",\"sushiswap\",\"sushiswap\",\"sushiswap\",\"sushiswap\",\"sushiswap\",\"sushiswap\",\"sushiswap-kashi\",\"sushiswap-kashi\",\"sushiswap-kashi\",\"sushiswap-kashi\",\"swapr\",\"swapr\",\"swapr\",\"swim-protocol\",\"synapse\",\"synapse\",\"synapse\",\"synapse\",\"synapse\",\"synapse\",\"synapse\",\"synapse\",\"synapse\",\"synapse\",\"synapse\",\"synapse\",\"synapse\",\"synapse\",\"synapse\",\"synapse\",\"synthetix\",\"synthetix\",\"tarot\",\"tarot\",\"team-finance\",\"team-finance\",\"team-finance\",\"team-finance\",\"tectonic\",\"temple-dao\",\"temple-dao\",\"temple-dao\",\"terra-bridge\",\"terra-bridge\",\"terra-bridge\",\"tetu\",\"tetu\",\"tezos-liquidity-baking\",\"the-tokenized-bitcoin\",\"thetacash\",\"thetanuts-finance\",\"thetanuts-finance\",\"thetanuts-finance\",\"thetanuts-finance\",\"thetanuts-finance\",\"thetanuts-finance\",\"thetanuts-finance\",\"thetaswap\",\"tinyman\",\"tokemak\",\"tokemak\",\"tokemak\",\"tokensfarm\",\"tokensfarm\",\"tokensfarm\",\"tokensfarm\",\"tomb-finance\",\"tomb-finance\",\"tomb-finance\",\"tornado-cash\",\"tornado-cash\",\"tornado-cash\",\"tornado-cash\",\"tornado-cash\",\"tornado-cash\",\"tornado-cash\",\"toucan-protocol\",\"trader-joe\",\"tranchess\",\"trisolaris\",\"truefi\",\"unicrypt\",\"unicrypt\",\"unicrypt\",\"unicrypt\",\"unicrypt\",\"unicrypt\",\"unicrypt\",\"unicrypt\",\"uniswap\",\"uniswap\",\"uniswap\",\"uniswap\",\"uniswap\",\"unslashed\",\"uxd\",\"valas-finance\",\"valas-finance\",\"valas-finance\",\"valleyswap\",\"vector-finance\",\"vector-finance\",\"vector-finance\",\"velodrome\",\"venus\",\"vesper\",\"vesper\",\"vesper\",\"vesta-finance\",\"vesta-finance\",\"vesta-finance\",\"vires-finance\",\"vvs-finance\",\"waves-exchange\",\"wbtc\",\"wepiggy\",\"wepiggy\",\"wepiggy\",\"wepiggy\",\"wepiggy\",\"wepiggy\",\"wepiggy\",\"wepiggy\",\"wepiggy\",\"wepiggy\",\"wepiggy\",\"wepiggy\",\"wingriders\",\"wombat-exchange\",\"wrapped-bnb\",\"xdai-stake-bridge\",\"xdao\",\"xdao\",\"xdao\",\"xdao\",\"xdao\",\"xdao\",\"yearn-finance\",\"yearn-finance\",\"yearn-finance\",\"yeti-finance\",\"yeti-finance\",\"yeti-finance\",\"yield-protocol\",\"yield-protocol\",\"yield-yak\",\"yield-yak\",\"yield-yak\",\"yoshi-exchange\",\"yoshi-exchange\",\"youves\",\"youves\",\"youves\",\"zeta\",\"Acala\",\"Algorand\",\"Arbitrum\",\"Arbitrum-pool2\",\"Astar\",\"Aurora\",\"Avalanche\",\"Avalanche-pool2\",\"Bifrost\",\"Binance\",\"Binance-pool2\",\"Binance-treasury\",\"Bitcoin\",\"Boba\",\"Cardano\",\"Celo\",\"Cosmos\",\"Cronos\",\"Cronos-pool2\",\"DFK\",\"Doge\",\"EOS\",\"Elastos\",\"Elrond\",\"Ethereum\",\"Ethereum-pool2\",\"Ethereum-treasury\",\"Everscale\",\"Evmos\",\"Fantom\",\"Fantom-pool2\",\"Fuse\",\"Harmony\",\"Heco\",\"Heco-pool2\",\"Hedera\",\"Hoo\",\"Icon\",\"IoTeX\",\"Kardia\",\"Karura\",\"Kava\",\"Klaytn\",\"Klaytn-pool2\",\"Kucoin\",\"Kusama\",\"LBRY\",\"Litecoin\",\"Metis\",\"Milkomeda\",\"Moonbeam\",\"Moonriver\",\"NEO\",\"Near\",\"OKExChain\",\"ORE\",\"Oasis\",\"Optimism\",\"Osmosis\",\"Polkadot\",\"Polygon\",\"Polygon-pool2\",\"Proton\",\"REI\",\"RSK\",\"Ravencoin\",\"Ronin\",\"Shiden\",\"Solana\",\"Songbird\",\"Songbird-pool2\",\"Stacks\",\"Stafi\",\"Telos\",\"Terra\",\"Terra2\",\"Tezos\",\"Tezos-pool2\",\"Theta\",\"Tron\",\"Tron-pool2\",\"Waves\",\"Wax\",\"pool2\",\"treasury\",\"xDai\",\"xDai-pool2\",\"all\"],\"marker\":{\"coloraxis\":\"coloraxis\",\"colors\":[1.0,-1.0,-1.0,-1.0,-1.0,-1.0,-1.0,1.0,1.0,-1.0,1.0,-1.0,-1.0,-1.0,-1.0,1.0,1.0,1.0,1.0,-1.0,-1.0,1.0,-1.0,1.0,1.0,-1.0,-1.0,1.0,1.0,-1.0,1.0,1.0,-1.0,1.0,1.0,-1.0,-1.0,1.0,1.0,-1.0,1.0,-1.0,-1.0,-1.0,-1.0,-1.0,-1.0,-1.0,1.0,-1.0,-1.0,1.0,1.0,-1.0,1.0,1.0,-1.0,1.0,1.0,1.0,1.0,1.0,-1.0,1.0,1.0,1.0,1.0,1.0,1.0,-1.0,1.0,-1.0,-1.0,1.0,-1.0,1.0,-1.0,-1.0,-1.0,1.0,-1.0,1.0,1.0,-1.0,-1.0,-1.0,1.0,1.0,1.0,1.0,-1.0,1.0,1.0,-1.0,-1.0,1.0,1.0,-1.0,1.0,1.0,-1.0,1.0,1.0,-1.0,-1.0,-1.0,-1.0,-1.0,-1.0,1.0,-1.0,1.0,1.0,1.0,1.0,-1.0,-1.0,-1.0,1.0,1.0,-1.0,1.0,-1.0,1.0,-1.0,1.0,-1.0,1.0,-1.0,-1.0,-1.0,-1.0,1.0,-1.0,-1.0,1.0,1.0,1.0,-1.0,1.0,-1.0,-1.0,-1.0,1.0,-1.0,-1.0,1.0,-1.0,-1.0,1.0,1.0,-1.0,-1.0,-1.0,-1.0,-1.0,-1.0,-1.0,-1.0,-1.0,-1.0,1.0,-1.0,-1.0,-1.0,-1.0,-1.0,-1.0,1.0,-1.0,-1.0,1.0,-1.0,1.0,-1.0,1.0,-1.0,1.0,-1.0,1.0,-1.0,-1.0,1.0,-1.0,-1.0,-1.0,-1.0,-1.0,-1.0,1.0,1.0,-1.0,-1.0,1.0,-1.0,-1.0,-1.0,-1.0,-1.0,1.0,-1.0,-1.0,1.0,-1.0,1.0,-1.0,-1.0,-1.0,-1.0,-1.0,-1.0,-1.0,-1.0,-1.0,-1.0,-1.0,-1.0,-1.0,-1.0,-1.0,1.0,1.0,-1.0,-1.0,1.0,-1.0,-1.0,-1.0,-1.0,-1.0,-1.0,1.0,-1.0,1.0,-1.0,-1.0,-1.0,-1.0,1.0,1.0,-1.0,1.0,-1.0,-1.0,1.0,-1.0,1.0,-1.0,-1.0,1.0,-1.0,1.0,1.0,-1.0,-1.0,1.0,-1.0,-1.0,-1.0,1.0,-1.0,-1.0,-1.0,-1.0,-1.0,1.0,1.0,-1.0,-1.0,1.0,1.0,-1.0,1.0,-1.0,1.0,-1.0,-1.0,1.0,-1.0,1.0,-1.0,-1.0,-1.0,1.0,1.0,-1.0,1.0,-1.0,1.0,-1.0,-1.0,-1.0,1.0,1.0,-1.0,1.0,-1.0,-1.0,1.0,1.0,1.0,-1.0,-1.0,-1.0,1.0,-1.0,1.0,-1.0,1.0,-1.0,1.0,-1.0,-1.0,-1.0,1.0,-1.0,1.0,1.0,1.0,1.0,-1.0,-1.0,-1.0,-1.0,-1.0,-1.0,1.0,-1.0,-1.0,-1.0,1.0,1.0,1.0,-1.0,1.0,-1.0,-1.0,-1.0,-1.0,1.0,-1.0,1.0,1.0,-1.0,1.0,1.0,1.0,1.0,-1.0,1.0,1.0,1.0,1.0,1.0,-1.0,1.0,-1.0,1.0,1.0,1.0,1.0,-1.0,1.0,-1.0,-1.0,1.0,1.0,1.0,1.0,1.0,-1.0,-1.0,-1.0,-1.0,1.0,1.0,1.0,1.0,1.0,-1.0,-1.0,-1.0,-1.0,1.0,-1.0,-1.0,-1.0,-1.0,1.0,1.0,-1.0,1.0,1.0,1.0,1.0,1.0,-1.0,1.0,1.0,1.0,1.0,1.0,1.0,-1.0,1.0,-1.0,-1.0,-1.0,1.0,1.0,1.0,-1.0,-1.0,-1.0,1.0,1.0,-1.0,-1.0,1.0,1.0,1.0,-1.0,1.0,1.0,1.0,1.0,-1.0,1.0,1.0,1.0,1.0,-1.0,1.0,-1.0,1.0,1.0,1.0,1.0,-1.0,-1.0,1.0,1.0,1.0,1.0,1.0,-1.0,1.0,1.0,1.0,1.0,1.0,1.0,1.0,1.0,1.0,-1.0,1.0,1.0,-1.0,-1.0,-1.0,-1.0,1.0,-1.0,-1.0,-1.0,1.0,1.0,1.0,-1.0,1.0,1.0,-1.0,1.0,-1.0,-1.0,-1.0,1.0,1.0,1.0,1.0,-1.0,-1.0,-1.0,-1.0,1.0,-1.0,-1.0,1.0,1.0,1.0,1.0,-1.0,-1.0,-1.0,-1.0,1.0,-1.0,-1.0,-1.0,-1.0,1.0,-1.0,1.0,1.0,1.0,-1.0,-1.0,1.0,-1.0,-1.0,-1.0,-1.0,-1.0,-1.0,1.0,1.0,-1.0,-1.0,1.0,-1.0,-1.0,1.0,1.0,1.0,-1.0,1.0,-1.0,-1.0,1.0,1.0,-1.0,1.0,1.0,-1.0,1.0,1.0,1.0,-1.0,-1.0,-1.0,-1.0,-1.0,-1.0,-1.0,-1.0,-1.0,-1.0,1.0,1.0,-1.0,1.0,1.0,1.0,1.0,1.0,-1.0,1.0,-1.0,-1.0,1.0,-1.0,1.0,1.0,-1.0,1.0,-1.0,-1.0,1.0,1.0,-1.0,-1.0,-1.0,1.0,-1.0,-1.0,-1.0,-1.0,-1.0,1.0,1.0,1.0,-1.0,-1.0,-1.0,-1.0,-1.0,1.0,1.0,-1.0,1.0,-1.0,1.0,-1.0,1.0,-1.0,1.0,-1.0,1.0,-1.0,-1.0,-1.0,1.0,1.0,1.0,1.0,1.0,-1.0,-1.0,1.0,1.0,-1.0,-1.0,1.0,-1.0,1.0,-1.0,-1.0,-1.0,1.0,-1.0,-1.0,1.0,-1.0,-1.0,-1.0,-1.0,1.0,-1.0,-1.0,-1.0,-1.0,-1.0,-1.0,-1.0,1.0,1.0,1.0,-1.0,-1.0,1.0,-1.0,-1.0,1.0,1.0,1.0,1.0,-1.0,-1.0,1.0,-1.0,-1.0,1.0,1.0,1.0,-1.0,-1.0,-1.0,-1.0,-1.0,1.0,1.0,-1.0,1.0,1.0,-1.0,-1.0,-1.0,-1.0,-1.0,1.0,1.0,-1.0,1.0,-1.0,1.0,-1.0,-1.0,1.0,-1.0,-1.0,-1.0,-1.0,-1.0,-1.0,-1.0,-1.0,1.0,1.0,1.0,1.0,1.0,1.0,-1.0,-1.0,1.0,1.0,-1.0,-1.0,1.0,1.0,-1.0,1.0,-1.0,-1.0,-1.0,1.0,1.0,1.0,-1.0,-1.0,-1.0,1.0,-1.0,1.0,-1.0,-1.0,-1.0,1.0,-1.0,1.0,-1.0,1.0,1.0,1.0,-1.0,-1.0,-1.0,-1.0,1.0,-1.0,1.0,-1.0,1.0,-1.0,1.0,1.0,-1.0,-1.0,1.0,1.0,-1.0,-1.0,-1.0,-1.0,-1.0,1.0,1.0,1.0,-1.0,-1.0,-1.0,0.7725488568210367,0.9811226256707821,0.49020122240066893,-0.9598057703032453,-0.9999439653486589,-0.9868185334274806,-0.7417646377199766,-0.3882148174281626,1.0,0.49941973156828096,0.9979944585946708,1.0,1.0,-1.0,-0.9972144943090921,0.7860276854381137,-1.0,-0.7874361089246853,1.0,1.0,1.0,0.9191257216639651,-1.0,1.0,0.5830480825219212,0.3230420515437755,-1.0,1.0,-1.0,-0.5764444093761668,-0.7793248027385755,-0.7248587543641551,-0.9991491426106699,-0.9973298454056062,-1.0,1.0,-1.0,-1.0,-1.0,1.0,1.0,-0.9999999939164425,-0.4757214892315563,1.0,1.0,1.0,1.0,1.0,-0.4391366671177064,-1.0,-0.9605368081075311,-0.7184577057005826,0.7164116045710216,0.8606122097099099,-1.0,1.0,-0.5812582945879234,0.902730639746865,1.0,1.0,-0.22522561105956562,-0.9767322910622378,1.0,1.0,1.0,-1.0,-1.0,1.0,-0.6059906073086935,1.0,-1.0,-1.0,1.0,1.0,0.9997567226571827,-0.9773309429506353,1.0,-1.0,-1.0,-0.22375995797695902,-1.0,-1.0,-1.0,-0.0939554305121947,-0.9924368352701013,0.1213366113374239,-1.0,0.26191491843522763]},\"name\":\"\",\"parents\":[\"all/Solana\",\"all/Binance\",\"all/Ethereum\",\"all/Ethereum\",\"all/Fantom\",\"all/Ethereum\",\"all/Avalanche\",\"all/Ethereum\",\"all/Ethereum-pool2\",\"all/Polygon\",\"all/pool2\",\"all/Arbitrum\",\"all/Avalanche\",\"all/Fantom\",\"all/Harmony\",\"all/Optimism\",\"all/Polygon\",\"all/Ethereum\",\"all/Polygon\",\"all/Polygon-pool2\",\"all/pool2\",\"all/Acala\",\"all/Acala\",\"all/Acala\",\"all/Acala\",\"all/Ethereum\",\"all/Astar\",\"all/Avalanche\",\"all/Binance\",\"all/Cronos\",\"all/Fantom\",\"all/Harmony\",\"all/Moonbeam\",\"all/Moonriver\",\"all/xDai\",\"all/Ethereum\",\"all/Fantom\",\"all/Solana\",\"all/Algorand\",\"all/Avalanche\",\"all/Binance\",\"all/Celo\",\"all/Ethereum\",\"all/Fantom\",\"all/Heco\",\"all/Near\",\"all/Polygon\",\"all/Solana\",\"all/Terra\",\"all/Binance\",\"all/Fantom\",\"all/Arbitrum\",\"all/Ethereum\",\"all/Optimism\",\"all/Polygon\",\"all/Avalanche\",\"all/Binance\",\"all/Ethereum\",\"all/Fantom\",\"all/Kusama\",\"all/Polkadot\",\"all/Binance\",\"all/Ethereum\",\"all/Polygon\",\"all/Binance\",\"all/Binance\",\"all/Binance-pool2\",\"all/pool2\",\"all/Ethereum\",\"all/Ethereum\",\"all/Optimism\",\"all/Polygon\",\"all/Astar\",\"all/Terra\",\"all/Terra2\",\"all/Ethereum\",\"all/Aurora\",\"all/Arbitrum\",\"all/Ethereum\",\"all/Polygon\",\"all/Binance\",\"all/Arbitrum\",\"all/Ethereum\",\"all/Polygon\",\"all/Ethereum\",\"all/Aurora\",\"all/Arbitrum\",\"all/Aurora\",\"all/Avalanche\",\"all/Binance\",\"all/Celo\",\"all/Cronos\",\"all/Fantom\",\"all/Fuse\",\"all/Harmony\",\"all/Heco\",\"all/Metis\",\"all/Moonbeam\",\"all/Moonriver\",\"all/Oasis\",\"all/Optimism\",\"all/Polygon\",\"all/Fantom\",\"all/Optimism\",\"all/Ethereum\",\"all/Ethereum-pool2\",\"all/pool2\",\"all/Binance\",\"all/Heco\",\"all/Klaytn\",\"all/Ethereum\",\"all/Avalanche\",\"all/Avalanche-pool2\",\"all/pool2\",\"all/Avalanche\",\"all/Avalanche\",\"all/Ethereum\",\"all/Avalanche\",\"all/Binance\",\"all/Ethereum\",\"all/Klaytn\",\"all/Bifrost\",\"all/Binance\",\"all/Binance\",\"all/Polygon\",\"all/Near\",\"all/Arbitrum\",\"all/Aurora\",\"all/Avalanche\",\"all/Binance\",\"all/Boba\",\"all/Ethereum\",\"all/Fantom\",\"all/Harmony\",\"all/Metis\",\"all/Optimism\",\"all/Polygon\",\"all/Shiden\",\"all/Binance\",\"all/Ethereum\",\"all/Klaytn\",\"all/Ethereum\",\"all/Moonbeam\",\"all/Optimism\",\"all/Polygon\",\"all/Binance\",\"all/Binance-pool2\",\"all/Heco\",\"all/Heco-pool2\",\"all/pool2\",\"all/Ethereum\",\"all/Ethereum\",\"all/Ethereum\",\"all/Arbitrum\",\"all/Avalanche\",\"all/Binance\",\"all/Boba\",\"all/Cronos\",\"all/Ethereum\",\"all/Evmos\",\"all/Fantom\",\"all/Fuse\",\"all/Milkomeda\",\"all/Moonbeam\",\"all/Moonriver\",\"all/Optimism\",\"all/Polygon\",\"all/xDai\",\"all/Ethereum\",\"all/Arbitrum\",\"all/Binance\",\"all/Ethereum\",\"all/Polygon\",\"all/DFK\",\"all/Arbitrum\",\"all/Aurora\",\"all/Avalanche\",\"all/Ethereum\",\"all/Fantom\",\"all/Moonbeam\",\"all/Optimism\",\"all/Polygon\",\"all/xDai\",\"all/Binance\",\"all/Binance-pool2\",\"all/pool2\",\"all/Harmony\",\"all/Ethereum\",\"all/Wax\",\"all/Ethereum\",\"all/Ethereum\",\"all/Avalanche\",\"all/Arbitrum\",\"all/Binance\",\"all/Ethereum\",\"all/Optimism\",\"all/Polygon\",\"all/Ethereum\",\"all/Polygon\",\"all/Fantom\",\"all/OKExChain\",\"all/Polygon\",\"all/Arbitrum\",\"all/Arbitrum-pool2\",\"all/Binance\",\"all/Ethereum-pool2\",\"all/pool2\",\"all/Binance\",\"all/Avalanche\",\"all/Binance\",\"all/Celo\",\"all/Cronos\",\"all/Ethereum\",\"all/Fantom\",\"all/Harmony\",\"all/Heco\",\"all/Milkomeda\",\"all/OKExChain\",\"all/Polygon\",\"all/Ethereum\",\"all/Polygon\",\"all/Avalanche\",\"all/Avalanche-pool2\",\"all/pool2\",\"all/Ethereum\",\"all/Binance\",\"all/Ethereum\",\"all/EOS\",\"all/Ethereum\",\"all/Fantom\",\"all/Moonriver\",\"all/Ethereum\",\"all/Cronos\",\"all/Binance\",\"all/Elastos\",\"all/Heco\",\"all/IoTeX\",\"all/Polygon\",\"all/REI\",\"all/NEO\",\"all/Ethereum\",\"all/Songbird\",\"all/Songbird-pool2\",\"all/pool2\",\"all/Algorand\",\"all/Ethereum\",\"all/Ethereum-pool2\",\"all/Ethereum-treasury\",\"all/Fantom\",\"all/pool2\",\"all/treasury\",\"all/Solana\",\"all/Polygon\",\"all/Polygon-pool2\",\"all/pool2\",\"all/Ethereum\",\"all/Fantom\",\"all/Fantom-pool2\",\"all/pool2\",\"all/Arbitrum\",\"all/Avalanche\",\"all/Avalanche\",\"all/Ethereum\",\"all/Ethereum-pool2\",\"all/pool2\",\"all/Polygon\",\"all/Binance\",\"all/Ethereum\",\"all/Polygon\",\"all/Arbitrum\",\"all/Avalanche\",\"all/Binance\",\"all/Ethereum\",\"all/Polygon\",\"all/Binance\",\"all/Ethereum\",\"all/Fantom\",\"all/Avalanche\",\"all/Binance\",\"all/Ethereum\",\"all/Fantom\",\"all/Arbitrum\",\"all/Ethereum\",\"all/Optimism\",\"all/Polygon\",\"all/xDai\",\"all/Solana\",\"all/Arbitrum\",\"all/Ethereum\",\"all/Fantom\",\"all/Harmony\",\"all/Moonriver\",\"all/Optimism\",\"all/Polygon\",\"all/Polygon\",\"all/Ethereum\",\"all/Polygon\",\"all/Ethereum\",\"all/Ethereum\",\"all/Ethereum\",\"all/Avalanche\",\"all/Binance\",\"all/Ethereum\",\"all/Polygon\",\"all/Ethereum\",\"all/Avalanche\",\"all/Ethereum\",\"all/Fantom\",\"all/Binance\",\"all/Arbitrum\",\"all/Ethereum\",\"all/Ethereum-pool2\",\"all/Polygon\",\"all/pool2\",\"all/Solana\",\"all/Tron\",\"all/Tron\",\"all/Kardia\",\"all/Karura\",\"all/Karura\",\"all/Solana\",\"all/Ronin\",\"all/Kava\",\"all/Kava\",\"all/Kava\",\"all/Klaytn\",\"all/Klaytn\",\"all/Polygon\",\"all/Binance\",\"all/Fantom\",\"all/Klaytn\",\"all/Klaytn-pool2\",\"all/pool2\",\"all/Klaytn\",\"all/Arbitrum\",\"all/Avalanche\",\"all/Binance\",\"all/Cronos\",\"all/Ethereum\",\"all/Fantom\",\"all/Oasis\",\"all/Optimism\",\"all/Polygon\",\"all/Solana\",\"all/Ethereum\",\"all/Moonbeam\",\"all/Moonriver\",\"all/Solana\",\"all/Terra\",\"all/Bitcoin\",\"all/Near\",\"all/Binance\",\"all/Ethereum\",\"all/Fantom\",\"all/Ethereum\",\"all/Ethereum\",\"all/Ethereum\",\"all/Ethereum\",\"all/Optimism\",\"all/Elrond\",\"all/Ethereum\",\"all/Solana\",\"all/Ethereum\",\"all/Solana\",\"all/Solana\",\"all/Celo\",\"all/Solana\",\"all/Polygon\",\"all/Near\",\"all/Ethereum\",\"all/IoTeX\",\"all/Ethereum\",\"all/Fantom\",\"all/Polygon\",\"all/Cardano\",\"all/Cronos\",\"all/Cronos\",\"all/Kucoin\",\"all/RSK\",\"all/Celo\",\"all/Moonriver\",\"all/Moonbeam\",\"all/Ethereum\",\"all/Polygon\",\"all/NEO\",\"all/Avalanche\",\"all/Metis\",\"all/Waves\",\"all/Ethereum\",\"all/Ethereum\",\"all/Binance\",\"all/Ethereum\",\"all/Binance\",\"all/Ethereum\",\"all/Everscale\",\"all/Polygon\",\"all/Ethereum\",\"all/Avalanche\",\"all/Ethereum\",\"all/Ethereum-pool2\",\"all/Fantom\",\"all/Polygon\",\"all/pool2\",\"all/Arbitrum\",\"all/Binance\",\"all/Ethereum\",\"all/Optimism\",\"all/Polygon\",\"all/Avalanche\",\"all/Ethereum\",\"all/Polygon\",\"all/Ethereum\",\"all/Binance\",\"all/Ethereum\",\"all/Osmosis\",\"all/Ethereum\",\"all/Boba\",\"all/Ethereum\",\"all/Polygon\",\"all/Binance\",\"all/Avalanche\",\"all/Solana\",\"all/Polygon\",\"all/Optimism\",\"all/Arbitrum\",\"all/Arbitrum-pool2\",\"all/Aurora\",\"all/Cronos\",\"all/Ethereum\",\"all/Ethereum-pool2\",\"all/Metis\",\"all/Moonbeam\",\"all/Moonriver\",\"all/OKExChain\",\"all/Optimism\",\"all/Polygon\",\"all/Polygon-pool2\",\"all/pool2\",\"all/Avalanche\",\"all/Binance\",\"all/Cronos\",\"all/Ethereum\",\"all/Fantom\",\"all/Polygon\",\"all/Binance\",\"all/Avalanche\",\"all/Binance\",\"all/Bitcoin\",\"all/Doge\",\"all/EOS\",\"all/Ethereum\",\"all/Fantom\",\"all/LBRY\",\"all/Litecoin\",\"all/ORE\",\"all/Ravencoin\",\"all/Telos\",\"all/Polygon\",\"all/Avalanche\",\"all/Binance\",\"all/Celo\",\"all/Ethereum\",\"all/Optimism\",\"all/Polygon\",\"all/Solana\",\"all/Binance\",\"all/Binance-treasury\",\"all/treasury\",\"all/Proton\",\"all/Ethereum\",\"all/Ethereum-pool2\",\"all/pool2\",\"all/Hoo\",\"all/Arbitrum\",\"all/Avalanche\",\"all/Binance\",\"all/Fantom\",\"all/Harmony\",\"all/Metis\",\"all/Moonriver\",\"all/Optimism\",\"all/Polygon\",\"all/xDai\",\"all/Solana\",\"all/Polygon\",\"all/Arbitrum\",\"all/Arbitrum-pool2\",\"all/pool2\",\"all/Avalanche\",\"all/Binance\",\"all/Ethereum\",\"all/Polygon\",\"all/Arbitrum\",\"all/Ethereum\",\"all/Ethereum-pool2\",\"all/pool2\",\"all/xDai\",\"all/Fantom\",\"all/Optimism\",\"all/Near\",\"all/Ethereum\",\"all/Arbitrum\",\"all/Avalanche\",\"all/Binance\",\"all/Ethereum\",\"all/Fantom\",\"all/Polygon\",\"all/Solana\",\"all/Telos\",\"all/Ethereum\",\"all/Avalanche\",\"all/Ethereum\",\"all/Solana\",\"all/Avalanche\",\"all/Ethereum\",\"all/Ethereum\",\"all/Ethereum\",\"all/Solana\",\"all/Ethereum\",\"all/Arbitrum\",\"all/Ethereum\",\"all/Evmos\",\"all/Fantom\",\"all/Kava\",\"all/Optimism\",\"all/Binance\",\"all/Ethereum\",\"all/Heco\",\"all/Ethereum\",\"all/Ethereum\",\"all/Ethereum\",\"all/Icon\",\"all/Cronos\",\"all/Cronos-pool2\",\"all/Fantom\",\"all/Fantom-pool2\",\"all/pool2\",\"all/Moonriver\",\"all/Solana\",\"all/Binance\",\"all/Heco\",\"all/OKExChain\",\"all/Polygon\",\"all/Binance\",\"all/Ethereum\",\"all/Polygon\",\"all/Fantom\",\"all/Fantom\",\"all/Fantom\",\"all/Ethereum\",\"all/Stacks\",\"all/Binance\",\"all/Fantom\",\"all/Hedera\",\"all/Near\",\"all/Polygon\",\"all/Terra\",\"all/Terra2\",\"all/Binance\",\"all/Cosmos\",\"all/Ethereum\",\"all/Polygon\",\"all/Solana\",\"all/Stafi\",\"all/Avalanche\",\"all/Ethereum\",\"all/Harmony\",\"all/Polygon\",\"all/Ethereum\",\"all/xDai\",\"all/Arbitrum\",\"all/Avalanche\",\"all/Binance\",\"all/Ethereum\",\"all/Fantom\",\"all/Optimism\",\"all/Polygon\",\"all/Astar\",\"all/Moonbeam\",\"all/Ethereum\",\"all/Ethereum\",\"all/Fantom\",\"all/Tron\",\"all/Tron-pool2\",\"all/pool2\",\"all/Cardano\",\"all/Solana\",\"all/Tron\",\"all/Polygon\",\"all/xDai\",\"all/Arbitrum\",\"all/Avalanche\",\"all/Binance\",\"all/Celo\",\"all/Ethereum\",\"all/Fantom\",\"all/Fuse\",\"all/Harmony\",\"all/Heco\",\"all/Moonriver\",\"all/OKExChain\",\"all/Polygon\",\"all/Telos\",\"all/xDai\",\"all/Arbitrum\",\"all/Binance\",\"all/Ethereum\",\"all/Fantom\",\"all/Arbitrum\",\"all/Ethereum\",\"all/xDai\",\"all/Solana\",\"all/Arbitrum\",\"all/Aurora\",\"all/Avalanche\",\"all/Binance\",\"all/Boba\",\"all/Cronos\",\"all/Ethereum\",\"all/Ethereum-pool2\",\"all/Fantom\",\"all/Harmony\",\"all/Klaytn\",\"all/Metis\",\"all/Moonriver\",\"all/Optimism\",\"all/Polygon\",\"all/pool2\",\"all/Ethereum\",\"all/Optimism\",\"all/Fantom\",\"all/Optimism\",\"all/Avalanche\",\"all/Binance\",\"all/Ethereum\",\"all/Polygon\",\"all/Cronos\",\"all/Ethereum\",\"all/Ethereum-pool2\",\"all/pool2\",\"all/Binance\",\"all/Ethereum\",\"all/Harmony\",\"all/Fantom\",\"all/Polygon\",\"all/Tezos\",\"all/Ethereum\",\"all/Theta\",\"all/Aurora\",\"all/Avalanche\",\"all/Binance\",\"all/Boba\",\"all/Ethereum\",\"all/Fantom\",\"all/Polygon\",\"all/Theta\",\"all/Algorand\",\"all/Ethereum\",\"all/Ethereum-pool2\",\"all/pool2\",\"all/Binance\",\"all/Ethereum\",\"all/Fantom\",\"all/Polygon\",\"all/Fantom\",\"all/Fantom-pool2\",\"all/pool2\",\"all/Arbitrum\",\"all/Avalanche\",\"all/Binance\",\"all/Ethereum\",\"all/Optimism\",\"all/Polygon\",\"all/xDai\",\"all/Polygon\",\"all/Avalanche\",\"all/Binance\",\"all/Aurora\",\"all/Ethereum\",\"all/Avalanche\",\"all/Binance\",\"all/Binance-pool2\",\"all/Ethereum\",\"all/Ethereum-pool2\",\"all/Polygon\",\"all/pool2\",\"all/xDai-pool2\",\"all/Arbitrum\",\"all/Celo\",\"all/Ethereum\",\"all/Optimism\",\"all/Polygon\",\"all/Ethereum\",\"all/Solana\",\"all/Binance\",\"all/Binance-pool2\",\"all/pool2\",\"all/Oasis\",\"all/Avalanche\",\"all/Avalanche-pool2\",\"all/pool2\",\"all/Optimism\",\"all/Binance\",\"all/Avalanche\",\"all/Ethereum\",\"all/Polygon\",\"all/Arbitrum\",\"all/Arbitrum-pool2\",\"all/pool2\",\"all/Waves\",\"all/Cronos\",\"all/Waves\",\"all/Ethereum\",\"all/Arbitrum\",\"all/Aurora\",\"all/Binance\",\"all/Ethereum\",\"all/Harmony\",\"all/Heco\",\"all/Moonbeam\",\"all/Moonriver\",\"all/OKExChain\",\"all/Oasis\",\"all/Optimism\",\"all/Polygon\",\"all/Cardano\",\"all/Binance\",\"all/Binance\",\"all/Ethereum\",\"all/Astar\",\"all/Avalanche\",\"all/Binance\",\"all/Ethereum\",\"all/Fantom\",\"all/Polygon\",\"all/Arbitrum\",\"all/Ethereum\",\"all/Fantom\",\"all/Avalanche\",\"all/Avalanche-pool2\",\"all/pool2\",\"all/Arbitrum\",\"all/Ethereum\",\"all/Avalanche\",\"all/Avalanche-pool2\",\"all/pool2\",\"all/Binance\",\"all/Fantom\",\"all/Tezos\",\"all/Tezos-pool2\",\"all/pool2\",\"all/Solana\",\"all\",\"all\",\"all\",\"all\",\"all\",\"all\",\"all\",\"all\",\"all\",\"all\",\"all\",\"all\",\"all\",\"all\",\"all\",\"all\",\"all\",\"all\",\"all\",\"all\",\"all\",\"all\",\"all\",\"all\",\"all\",\"all\",\"all\",\"all\",\"all\",\"all\",\"all\",\"all\",\"all\",\"all\",\"all\",\"all\",\"all\",\"all\",\"all\",\"all\",\"all\",\"all\",\"all\",\"all\",\"all\",\"all\",\"all\",\"all\",\"all\",\"all\",\"all\",\"all\",\"all\",\"all\",\"all\",\"all\",\"all\",\"all\",\"all\",\"all\",\"all\",\"all\",\"all\",\"all\",\"all\",\"all\",\"all\",\"all\",\"all\",\"all\",\"all\",\"all\",\"all\",\"all\",\"all\",\"all\",\"all\",\"all\",\"all\",\"all\",\"all\",\"all\",\"all\",\"all\",\"all\",\"all\",\"all\",\"\"],\"root\":{\"color\":\"lightgrey\"},\"type\":\"treemap\",\"values\":[3229072.81697275,176721.21595460703,480370.90905991854,259478.6892308503,4.9387319666845935,302604.1235891583,18135702.153307766,110789677.84602237,572918.0591585822,27988890.026621275,572918.0591585822,1935135.0521749766,156954406.39753395,822581.1896531035,13777.844492088923,495536675.8544139,8480594.649926301,1830.224996898433,5553.274832648645,70416.35939366042,70416.35939366042,14859212.223058008,3073781.2944146637,7887762.154334984,1207301.883358343,11076585.014056064,12264.879057447222,70007.54310413415,194020.51205825259,134460.01402817233,61434.44955030498,1702.141476673044,57126.11370838763,13664.684470486523,20022.51776799839,3827768.309590008,3655.198048234403,709529.513563646,8350188.558483741,237979.4634506565,147702.60286080232,54041.2396165797,643044.9285456381,81079.63257670868,4977.941626966909,45890.839591974975,126669.5255467388,43986.34265876242,3948.7584323017672,4712032.072134944,197982.7162683882,10.523148576597634,12574.174159160379,181960.25811568307,5999.697544050257,4570.545761693268,196135.34220816207,1926.8644083251545,438.3777302905312,13.594132882638132,190.8618581960676,1350389.5568365965,51.84149830442419,180942.94767975016,26166.816917106975,515716.87611659523,830316.3713741801,830316.3713741801,55855.329770741926,71206073.89707164,655142.7673036644,378604.1395654275,2431994.353505288,259724.5849811613,7513653.880735049,22102654.285452377,927556.0978972331,11342.422053690547,1019425.3625082655,65265.68167061132,1217767.4527874687,1248948.9361501366,53868121.03806203,4586871.2173508005,2672826.7049865765,32793052.166863598,767264.6422784817,172895.47486214383,1979787.444712918,2694558.568876611,5582.362251633395,814913.596519954,829239.1835353323,96081.74099753718,1707.1158281278895,333.8623669440808,400685.7369251721,1178333.0846838385,185725.91872208903,21984.411969917906,686399.0600572507,1248820.5290461525,1307501.321121944,3056002.0805834257,6979.5862890617545,3649.9441549253042,3649.9441549253042,185656.9598179103,245576.18380941928,124686.44442417083,7137762.817908989,8684068.782692347,31951.259891387308,31951.259891387308,9719235.171029735,1468.3778695174874,163021.84302076985,238.6640645083961,302603.5299676317,41315.50369544981,65922.67222177169,2070091.8738148427,829580.601658036,2380349.3536778605,18537.867578184345,2245110.902612303,1447820.4951926577,53919.191289529495,1253882.0296113482,3594988.0688949977,1613.8770573617974,23947022.594930314,379095.70178506477,253858.5154216699,44042.898562553695,924036.03444257,885477.5466600076,7413.224671170288,11689.223435996373,4556634.385115918,847059.7555492895,933661.5253860783,259551.05418437405,71636.92180157188,24463.441672848814,3211719.9986533932,0.3381179397816254,56203.09163763664,0.08095272048355617,0.2571752830603149,31307097.950058267,261118.70972995283,4460339.03496486,400548.4344139469,1291539.6170915165,552881.8744787233,239.39762846954545,154768.6190982955,840588.4198619372,811643.8596178293,716941.0742471337,12992.476137916296,961643.3650033275,80786.67510810948,1416543.0692963458,966184.4200199392,207674.8419742316,768492.494255928,86822441.63312349,4733.06542683563,664172.3580820387,0.2624511975551257,20904.837047131074,1164727.7838801523,21346849.406904027,79.72422452097362,16944707.78211605,137116561.9123677,31632410.319653664,1071969.0301303335,1982580.4474944966,19491735.90849306,634684.0319916783,622782.0854589621,0.11964667265261975,0.11964667265261975,2271024.1121443757,24079.247212860828,3118.050430152678,1253.2407649611214,13508437.412821207,1452445.3881161907,2303579.4499029936,1204881.8027244783,38643.6265684246,503342.60051529325,405144.86752248893,59145.598609830406,60307.37426626661,1377.875812043575,0.019851777762592088,63608.1966632892,3.9749224907951843,832511.524883043,0.1455784654004083,138.755731213802,832650.2803527608,3114012.1217192933,6353.844868385982,1863691.4984000253,380.52179425333094,8502.146766509877,32844.98547484403,7098.091222267996,3.5082916723620277,1918.2188811548892,0.05029379634445378,25.592651738846445,1225.835632278045,36859035.14575346,1405435.5881771445,6491167.352350485,1418.4436349482032,1418.4436349482032,782572.9643292567,2351442.9549679873,115598.08220657991,52335.43077301136,26428351.933985993,143.06791041657706,71.85411982432025,1025766.4069756282,11106682.536475783,1.0009998733493757,262899.8306373813,150456.6224230643,254048.47368348518,75.81682384060338,100791.12721139255,2067766.9916175567,272798.90984883625,669658.8541482672,143848.97823341278,143848.97823341278,6659961.748909347,61777141.948758096,41913.954502979366,2506996.739999612,14622605.809146756,41913.95450297935,2506996.739999612,190948.33269937822,1221519.972931336,917936.5322037828,917936.5322037828,133140.7011108097,1864662.627764505,3061.3212792810755,3061.3212792810755,37413741.03419862,4553196.415198312,1946.4159900175716,127889.50037819897,2303.799090653218,2303.799090653218,826.0172498699245,17624.93553719348,686631.3516228442,182938.38369509124,92053.88606443431,23401.953367809634,63616.9200069395,122941.33456914488,46179.850167351986,2480.9772122302816,4881854.98137571,7051959.972671633,194343.16275798975,78927.2627148341,882248.4141467938,356773.3505313195,892213.3738237394,1157931.7575223567,3188.284688987478,31794.562726722448,1042553.4241911185,961656.4726645123,30430.242491237615,17.394600000000015,163882.32524435406,684.2939269672514,23875.448435914306,189529.16944410247,431505.27908069035,31224.029424299253,22122598.807379413,805.202985028384,4333358.047021711,224555.9642999923,553332104.3860556,2731.4795075805814,37708.47763070298,6267.935424161282,677783.7906192031,401629.26065343665,989817.7568244613,253626.48263788782,91162.81841473348,708464.2078042682,18278.557985689626,943709.2653700372,24646.006277250443,14666.081083281415,24646.006294250146,30480.224040906898,2236305.3391986415,0.14449299999996157,272788.4609791213,2133317.26082279,1803438.1905314834,12941.208689716474,2062814.835642659,5086452.335887812,9056384.070276659,2311351.852626675,5702598.313054765,1318187.4123600111,127137.61785331556,1230664.997246511,98110.21952813273,1124582.8171700002,919563.52061,919563.52061,611268.914610656,70590.25734741328,68396.18587003744,6806.398107031824,17.71595565649527,410573.894605434,11963.456421212064,71.77857883650871,487500.9893572781,734469.383411594,2836485.020975856,14467623.783727951,1306629.580484619,1352704.5194877163,10396539.957651785,20.92568029452474,1320718.1306806344,6881840.696240235,798676.8856141281,42465.912249028115,540955.8921205447,3940378.887044687,321133.8285411177,2942612.935987751,266239.77778352145,11301168.824220771,18110160.06436599,56863934.63014905,4373437.186531321,17645775.877877105,1884687.3299320766,13459895.029589541,1760736.496471406,214349.76766372938,5362624.371213523,2386897.3286078167,11622.932880672468,606790.862144665,7326.212226016307,212640.475688571,64374.04488575452,56849.12540152023,1134892.8375053538,4082529.399021256,488500.34234103846,46237.529642573005,91112.73309685345,13248214.403083079,81888287.14895678,3892312.344929559,88755.63831224438,341639.9200006487,337234.1953034032,3139954.7146702637,8108349.363717,49298.12430378769,816415.0913353086,11264336.807777807,3427712.33660643,12187.0709154312,66757.42695796589,766536.4294720192,0.2234359752225077,15493145.983871374,2.4110689112448984,291670.0339368199,47733.37538855697,16.60008272264786,3.1157733734146715,47733.37538855697,12184.016699473068,0.29094048255836624,1104969.9249684822,480.0951618880076,956.391743065572,48025.628145404175,11050071.556211237,9827.340266392417,2949558.715996936,2882.2944405301696,16154.277018697107,20660327.603817478,456429.46202414704,46147.30024933134,29.40299999974819,13572.345790293657,158625945.48192057,4949047.180222994,248581.87020114873,1048826.0762711382,676036.5503502752,40477.23815283943,12048.751760422878,80366.65007459273,93.73805976247525,136151.68632862583,105996.54121672758,62488.77084614352,169712.80423414463,25667.703709272046,192.92390885524446,116314.86164559731,85719.16749903097,11633.698459555817,129678.99143668296,46144.00957542684,29210.073434974678,17910.394268715274,151450.50769783187,869.0796509286607,2158.4140859890567,696093.6927029352,1922255.594110295,196788.24757333886,74866.01876930964,4.605522752030083,1241906.2453148107,3287412.760358013,0.17923815656118092,4569.370651495765,9644.871977247916,164224.34528904784,89.78677589312498,737870.4765153845,34128116.444341905,361875.28930120514,737.6791536245169,5590.974708018768,363258.02994664176,12471816.089271132,1781738.5510797424,979954.2567363859,83694.83580872555,9516.401717882309,9516.401717882309,798248.9332930876,6589.561913576135,4878.8799325570835,4878.8799325570835,502.909463901328,350733.7425236457,68978.59423864723,170396.69089780486,1237624.4525515307,143.6392710238838,866550.976542964,0.4990050007201414,788450.0971483167,6822513.601700568,199326.09288594383,7610998.7085386515,22213602.78312624,46325638.08335489,953815.1730406381,953815.1730406381,607576.9490487666,696376.7350080209,483533.3754688149,703069.0228577942,24258.03445009703,5240328.495903813,15858.175151497735,15858.175151497735,1191854.838567978,2324358.641687339,742396.8856720687,816681.575007569,333940.35286883655,310286.4887120115,44099.60851003551,13380.269274293405,1989755.7505922085,7446.6096066127475,451653.23338143626,891126.1982813658,186491.75833747396,969450.2192157072,2292438.8644872913,833456.5000327859,88629.84486969991,1796.7951810672312,5052.712067675798,6056251.37264284,16754.607324145567,10527693.384031305,218815.1411804606,218137.60670865473,328582.136301512,101236.66542887161,11.182546754899564,0.05005,1041.7341120655349,23.271598231554425,824.3215926965463,2.173396849511952,4770433.1960841045,13998.77556562968,3569588.726115574,124999.29952297031,281830.28795699374,42049.13310887753,60508.60915135983,26852.038339788753,68901.33007038843,915810.9097472137,15588694.614944598,73867.22707024215,206592.03366113547,25359.14434802849,33118.579648669074,4731.304465059838,126603.12965407205,28.381588221231482,116969.85272271687,329661.76187053253,8989567.197872445,9785994.851843206,51967994.28358423,1005984.2764840908,107766.80463811208,1625440.4937440252,163.62,779040.2599341141,11.15109666069442,86140.08144605072,1508.9208000000015,5986.135400000025,28.653206999800584,1061.3188354213653,35.752199999998595,540.9227000000101,46951.17721340023,210573.9819291419,93375.12603228167,58692.39958256669,38493.779806885155,14.690758800322138,7276674.083563039,21252197.827640243,10796132.02019797,153518.4710443057,1999544.4152036826,4108825.5556372833,9140989.342524752,1138247.0386165003,34532153.10702884,31789.985402012233,2087553.3589049035,700277.206836935,5693281.894733768,72871.9061744139,72871.9061744139,3409850.005161954,4217111.7433722885,5029796.007579623,37314.0753640114,464.8600252182768,16676165.289853992,1280870.211278787,198382.50049584545,56642.41555008723,9356501.647626944,271955.2241084627,2334.025138803194,1416379.258259562,33.47591490156183,512296.9098736011,50.159806959998164,221571.64664488324,5.399901282873429,340373.2119220759,138036.4265747094,1.819088942396528,308739.24250316125,149108.70492413835,30323.60298534234,22341.598515896512,356854.8357066257,824571.7514752521,3072348.398568796,515.8422044527222,3262491.719923251,462772.2432528171,13982.224964423553,1841.3297744451484,6728707.346690134,918137.6771508729,1106413.068495157,285828.2798921789,20.99886377054174,227986.35769855184,22379.899640666918,2029895.5473383444,1508145.9663194995,918137.6771508729,2333565.834367559,2709778.929302918,97242.84863555914,2683675.8626983287,23451.01383314725,605234.260753054,1039947.5830145627,6268.039918616773,329463.8515235676,280034.2095839847,679990.6432341344,679990.6432341344,72518.64220190088,70208.49017954228,152.99737307410686,474494.8514353467,381190.4186185688,485804.39803607814,2616310.3669786197,554175.9479181222,6.073864500558527,216203.60486609137,4397.068460588353,9990.915337094826,6843931.123023612,11181.89143422839,92525.6644493623,1051587.6594477782,143026.09158004308,2460477.584360755,138735.3455431647,138735.3455431647,110834.43069804374,339395.6521789062,405.1190209003464,84151.2535139631,4797068.682064074,213449.18110161016,213449.18110161016,64479.439,33522.0,1269400.9219999993,3219007.7568999995,11663.918999999998,50152.25959999999,22394.7526,4664.803792291064,3275058.4884864604,378522.9534835119,779199.06603295,4573649.436968125,16136.336543055682,7472639.330941186,833.4180090521215,1329931.2593736495,203.48783775416445,620502.0032049968,1187.4161672988694,150.51323861724376,11304280.121798068,20098.788917694932,31556699.70026526,4504606.940681645,4180159.7788672065,27074.677355471766,93735.62285882072,3277079.3878447968,84.30478899496843,84.30478899496843,98627.3040652901,6377330.967354314,24620.137639271263,24620.137639271263,7527046.832853779,8767296.666557152,31757.201553945546,1545489.1559110684,3544.9528760857697,214198.59413787303,24587.544906200324,24587.544906200324,38037452.41861923,44610981.006885394,323757.2627652748,22.74800041825472,526733.51763884,2010.562421111157,103172.07824263815,909454.2379328948,0.33721036775007107,522.645939014055,3156.5691856007147,537.6444020135419,87679.055779132,4152.634918920412,3913656.2234463557,21101.664657246576,37351114.013440914,209823.04846684262,55527.86812919951,1086013.0226431296,100.37505715716041,1005.0129489400001,95656.393061377,2676.67654879923,0.24026031747626708,175197.7754744674,5377.681831149268,10389867.63458879,2424872.1009194497,2794573.8624832705,58818.08110472152,58818.08110472152,3831.6360613698434,81612.5749558405,2517152.427356045,260414.28553242696,260414.28553242696,444.86911998087976,60763.355079813606,55377.74869462976,99847.66755821845,99847.6675582184,443932.133306057,27028057.555166,15153176.398973132,154577707.75709474,1822962.9945903043,3582606.6462363927,34809600.849734634,280869570.89787185,377222.20780275523,2070091.8738148427,241824617.33040267,831234.5519368396,9516.401717882309,1395584.149449944,71973.71523668106,40817813.14400439,1994185.5324065269,5986.135400000025,62678887.473839864,42049.13310887753,1164727.7838801523,4.605522752030083,1294241.676087822,262899.8306373813,18110160.06436599,1571317648.1650836,2557104.6443708697,2506996.739999612,766536.4294720192,912880.525046701,86323828.7654159,243362.54072067997,111408.24227425667,4338637.169620063,666616.2496570867,0.08095272048355617,1625440.4937440252,502.909463901328,124999.29952297031,860839.3358281502,272788.4609791213,3936755.4513542736,16454188.308841147,9794327.328254435,919563.52061,488500.34234103846,13.594132882638132,4569.370651495765,9644.871977247916,4741709.455245649,961643.4152971238,120547705.16770503,17717493.46399322,2409406.9116182053,12376584.962059898,113306.89634649234,164224.34528904784,124836.12953296493,558831033.836779,20660327.603817478,190.8618581960676,159330585.33470172,999986.590056999,798248.9332930876,100791.12721139255,46237.529642573005,89.78677589312498,2062814.835642659,7413.224671170288,79859075.08444956,669658.8541482672,143848.97823341278,51967994.28358423,540.9227000000101,924367.6347541413,263705.42019041826,7599793.9621811,541182.146730708,99847.66755821845,1605763.6073659004,12959383.386005033,72871.9061744139,46469559.04510151,3118.050430152678,8110205.3229184095,2516513.141717494,4577035.750673365,150.51323861724376,3715411277.6392894]}],                        {\"coloraxis\":{\"colorbar\":{\"title\":{\"text\":\"flow_direction\"}},\"colorscale\":[[0.0,\"rgb(158,1,66)\"],[0.1,\"rgb(213,62,79)\"],[0.2,\"rgb(244,109,67)\"],[0.3,\"rgb(253,174,97)\"],[0.4,\"rgb(254,224,139)\"],[0.5,\"rgb(255,255,191)\"],[0.6,\"rgb(230,245,152)\"],[0.7,\"rgb(171,221,164)\"],[0.8,\"rgb(102,194,165)\"],[0.9,\"rgb(50,136,189)\"],[1.0,\"rgb(94,79,162)\"]]},\"legend\":{\"tracegroupgap\":0},\"margin\":{\"b\":25,\"l\":25,\"r\":25,\"t\":50},\"template\":{\"data\":{\"bar\":[{\"error_x\":{\"color\":\"#2a3f5f\"},\"error_y\":{\"color\":\"#2a3f5f\"},\"marker\":{\"line\":{\"color\":\"#E5ECF6\",\"width\":0.5},\"pattern\":{\"fillmode\":\"overlay\",\"size\":10,\"solidity\":0.2}},\"type\":\"bar\"}],\"barpolar\":[{\"marker\":{\"line\":{\"color\":\"#E5ECF6\",\"width\":0.5},\"pattern\":{\"fillmode\":\"overlay\",\"size\":10,\"solidity\":0.2}},\"type\":\"barpolar\"}],\"carpet\":[{\"aaxis\":{\"endlinecolor\":\"#2a3f5f\",\"gridcolor\":\"white\",\"linecolor\":\"white\",\"minorgridcolor\":\"white\",\"startlinecolor\":\"#2a3f5f\"},\"baxis\":{\"endlinecolor\":\"#2a3f5f\",\"gridcolor\":\"white\",\"linecolor\":\"white\",\"minorgridcolor\":\"white\",\"startlinecolor\":\"#2a3f5f\"},\"type\":\"carpet\"}],\"choropleth\":[{\"colorbar\":{\"outlinewidth\":0,\"ticks\":\"\"},\"type\":\"choropleth\"}],\"contour\":[{\"colorbar\":{\"outlinewidth\":0,\"ticks\":\"\"},\"colorscale\":[[0.0,\"#0d0887\"],[0.1111111111111111,\"#46039f\"],[0.2222222222222222,\"#7201a8\"],[0.3333333333333333,\"#9c179e\"],[0.4444444444444444,\"#bd3786\"],[0.5555555555555556,\"#d8576b\"],[0.6666666666666666,\"#ed7953\"],[0.7777777777777778,\"#fb9f3a\"],[0.8888888888888888,\"#fdca26\"],[1.0,\"#f0f921\"]],\"type\":\"contour\"}],\"contourcarpet\":[{\"colorbar\":{\"outlinewidth\":0,\"ticks\":\"\"},\"type\":\"contourcarpet\"}],\"heatmap\":[{\"colorbar\":{\"outlinewidth\":0,\"ticks\":\"\"},\"colorscale\":[[0.0,\"#0d0887\"],[0.1111111111111111,\"#46039f\"],[0.2222222222222222,\"#7201a8\"],[0.3333333333333333,\"#9c179e\"],[0.4444444444444444,\"#bd3786\"],[0.5555555555555556,\"#d8576b\"],[0.6666666666666666,\"#ed7953\"],[0.7777777777777778,\"#fb9f3a\"],[0.8888888888888888,\"#fdca26\"],[1.0,\"#f0f921\"]],\"type\":\"heatmap\"}],\"heatmapgl\":[{\"colorbar\":{\"outlinewidth\":0,\"ticks\":\"\"},\"colorscale\":[[0.0,\"#0d0887\"],[0.1111111111111111,\"#46039f\"],[0.2222222222222222,\"#7201a8\"],[0.3333333333333333,\"#9c179e\"],[0.4444444444444444,\"#bd3786\"],[0.5555555555555556,\"#d8576b\"],[0.6666666666666666,\"#ed7953\"],[0.7777777777777778,\"#fb9f3a\"],[0.8888888888888888,\"#fdca26\"],[1.0,\"#f0f921\"]],\"type\":\"heatmapgl\"}],\"histogram\":[{\"marker\":{\"pattern\":{\"fillmode\":\"overlay\",\"size\":10,\"solidity\":0.2}},\"type\":\"histogram\"}],\"histogram2d\":[{\"colorbar\":{\"outlinewidth\":0,\"ticks\":\"\"},\"colorscale\":[[0.0,\"#0d0887\"],[0.1111111111111111,\"#46039f\"],[0.2222222222222222,\"#7201a8\"],[0.3333333333333333,\"#9c179e\"],[0.4444444444444444,\"#bd3786\"],[0.5555555555555556,\"#d8576b\"],[0.6666666666666666,\"#ed7953\"],[0.7777777777777778,\"#fb9f3a\"],[0.8888888888888888,\"#fdca26\"],[1.0,\"#f0f921\"]],\"type\":\"histogram2d\"}],\"histogram2dcontour\":[{\"colorbar\":{\"outlinewidth\":0,\"ticks\":\"\"},\"colorscale\":[[0.0,\"#0d0887\"],[0.1111111111111111,\"#46039f\"],[0.2222222222222222,\"#7201a8\"],[0.3333333333333333,\"#9c179e\"],[0.4444444444444444,\"#bd3786\"],[0.5555555555555556,\"#d8576b\"],[0.6666666666666666,\"#ed7953\"],[0.7777777777777778,\"#fb9f3a\"],[0.8888888888888888,\"#fdca26\"],[1.0,\"#f0f921\"]],\"type\":\"histogram2dcontour\"}],\"mesh3d\":[{\"colorbar\":{\"outlinewidth\":0,\"ticks\":\"\"},\"type\":\"mesh3d\"}],\"parcoords\":[{\"line\":{\"colorbar\":{\"outlinewidth\":0,\"ticks\":\"\"}},\"type\":\"parcoords\"}],\"pie\":[{\"automargin\":true,\"type\":\"pie\"}],\"scatter\":[{\"marker\":{\"colorbar\":{\"outlinewidth\":0,\"ticks\":\"\"}},\"type\":\"scatter\"}],\"scatter3d\":[{\"line\":{\"colorbar\":{\"outlinewidth\":0,\"ticks\":\"\"}},\"marker\":{\"colorbar\":{\"outlinewidth\":0,\"ticks\":\"\"}},\"type\":\"scatter3d\"}],\"scattercarpet\":[{\"marker\":{\"colorbar\":{\"outlinewidth\":0,\"ticks\":\"\"}},\"type\":\"scattercarpet\"}],\"scattergeo\":[{\"marker\":{\"colorbar\":{\"outlinewidth\":0,\"ticks\":\"\"}},\"type\":\"scattergeo\"}],\"scattergl\":[{\"marker\":{\"colorbar\":{\"outlinewidth\":0,\"ticks\":\"\"}},\"type\":\"scattergl\"}],\"scattermapbox\":[{\"marker\":{\"colorbar\":{\"outlinewidth\":0,\"ticks\":\"\"}},\"type\":\"scattermapbox\"}],\"scatterpolar\":[{\"marker\":{\"colorbar\":{\"outlinewidth\":0,\"ticks\":\"\"}},\"type\":\"scatterpolar\"}],\"scatterpolargl\":[{\"marker\":{\"colorbar\":{\"outlinewidth\":0,\"ticks\":\"\"}},\"type\":\"scatterpolargl\"}],\"scatterternary\":[{\"marker\":{\"colorbar\":{\"outlinewidth\":0,\"ticks\":\"\"}},\"type\":\"scatterternary\"}],\"surface\":[{\"colorbar\":{\"outlinewidth\":0,\"ticks\":\"\"},\"colorscale\":[[0.0,\"#0d0887\"],[0.1111111111111111,\"#46039f\"],[0.2222222222222222,\"#7201a8\"],[0.3333333333333333,\"#9c179e\"],[0.4444444444444444,\"#bd3786\"],[0.5555555555555556,\"#d8576b\"],[0.6666666666666666,\"#ed7953\"],[0.7777777777777778,\"#fb9f3a\"],[0.8888888888888888,\"#fdca26\"],[1.0,\"#f0f921\"]],\"type\":\"surface\"}],\"table\":[{\"cells\":{\"fill\":{\"color\":\"#EBF0F8\"},\"line\":{\"color\":\"white\"}},\"header\":{\"fill\":{\"color\":\"#C8D4E3\"},\"line\":{\"color\":\"white\"}},\"type\":\"table\"}]},\"layout\":{\"annotationdefaults\":{\"arrowcolor\":\"#2a3f5f\",\"arrowhead\":0,\"arrowwidth\":1},\"autotypenumbers\":\"strict\",\"coloraxis\":{\"colorbar\":{\"outlinewidth\":0,\"ticks\":\"\"}},\"colorscale\":{\"diverging\":[[0,\"#8e0152\"],[0.1,\"#c51b7d\"],[0.2,\"#de77ae\"],[0.3,\"#f1b6da\"],[0.4,\"#fde0ef\"],[0.5,\"#f7f7f7\"],[0.6,\"#e6f5d0\"],[0.7,\"#b8e186\"],[0.8,\"#7fbc41\"],[0.9,\"#4d9221\"],[1,\"#276419\"]],\"sequential\":[[0.0,\"#0d0887\"],[0.1111111111111111,\"#46039f\"],[0.2222222222222222,\"#7201a8\"],[0.3333333333333333,\"#9c179e\"],[0.4444444444444444,\"#bd3786\"],[0.5555555555555556,\"#d8576b\"],[0.6666666666666666,\"#ed7953\"],[0.7777777777777778,\"#fb9f3a\"],[0.8888888888888888,\"#fdca26\"],[1.0,\"#f0f921\"]],\"sequentialminus\":[[0.0,\"#0d0887\"],[0.1111111111111111,\"#46039f\"],[0.2222222222222222,\"#7201a8\"],[0.3333333333333333,\"#9c179e\"],[0.4444444444444444,\"#bd3786\"],[0.5555555555555556,\"#d8576b\"],[0.6666666666666666,\"#ed7953\"],[0.7777777777777778,\"#fb9f3a\"],[0.8888888888888888,\"#fdca26\"],[1.0,\"#f0f921\"]]},\"colorway\":[\"#636efa\",\"#EF553B\",\"#00cc96\",\"#ab63fa\",\"#FFA15A\",\"#19d3f3\",\"#FF6692\",\"#B6E880\",\"#FF97FF\",\"#FECB52\"],\"font\":{\"color\":\"#2a3f5f\"},\"geo\":{\"bgcolor\":\"white\",\"lakecolor\":\"white\",\"landcolor\":\"#E5ECF6\",\"showlakes\":true,\"showland\":true,\"subunitcolor\":\"white\"},\"hoverlabel\":{\"align\":\"left\"},\"hovermode\":\"closest\",\"mapbox\":{\"style\":\"light\"},\"paper_bgcolor\":\"white\",\"plot_bgcolor\":\"#E5ECF6\",\"polar\":{\"angularaxis\":{\"gridcolor\":\"white\",\"linecolor\":\"white\",\"ticks\":\"\"},\"bgcolor\":\"#E5ECF6\",\"radialaxis\":{\"gridcolor\":\"white\",\"linecolor\":\"white\",\"ticks\":\"\"}},\"scene\":{\"xaxis\":{\"backgroundcolor\":\"#E5ECF6\",\"gridcolor\":\"white\",\"gridwidth\":2,\"linecolor\":\"white\",\"showbackground\":true,\"ticks\":\"\",\"zerolinecolor\":\"white\"},\"yaxis\":{\"backgroundcolor\":\"#E5ECF6\",\"gridcolor\":\"white\",\"gridwidth\":2,\"linecolor\":\"white\",\"showbackground\":true,\"ticks\":\"\",\"zerolinecolor\":\"white\"},\"zaxis\":{\"backgroundcolor\":\"#E5ECF6\",\"gridcolor\":\"white\",\"gridwidth\":2,\"linecolor\":\"white\",\"showbackground\":true,\"ticks\":\"\",\"zerolinecolor\":\"white\"}},\"shapedefaults\":{\"line\":{\"color\":\"#2a3f5f\"}},\"ternary\":{\"aaxis\":{\"gridcolor\":\"white\",\"linecolor\":\"white\",\"ticks\":\"\"},\"baxis\":{\"gridcolor\":\"white\",\"linecolor\":\"white\",\"ticks\":\"\"},\"bgcolor\":\"#E5ECF6\",\"caxis\":{\"gridcolor\":\"white\",\"linecolor\":\"white\",\"ticks\":\"\"}},\"title\":{\"x\":0.05},\"xaxis\":{\"automargin\":true,\"gridcolor\":\"white\",\"linecolor\":\"white\",\"ticks\":\"\",\"title\":{\"standoff\":15},\"zerolinecolor\":\"white\",\"zerolinewidth\":2},\"yaxis\":{\"automargin\":true,\"gridcolor\":\"white\",\"linecolor\":\"white\",\"ticks\":\"\",\"title\":{\"standoff\":15},\"zerolinecolor\":\"white\",\"zerolinewidth\":2}}}},                        {\"responsive\": true}                    ).then(function(){\n",
       "                            \n",
       "var gd = document.getElementById('658f5f7b-36b2-4841-bbbb-6fcc23df9795');\n",
       "var x = new MutationObserver(function (mutations, observer) {{\n",
       "        var display = window.getComputedStyle(gd).display;\n",
       "        if (!display || display === 'none') {{\n",
       "            console.log([gd, 'removed!']);\n",
       "            Plotly.purge(gd);\n",
       "            observer.disconnect();\n",
       "        }}\n",
       "}});\n",
       "\n",
       "// Listen for the removal of the full notebook cells\n",
       "var notebookContainer = gd.closest('#notebook-container');\n",
       "if (notebookContainer) {{\n",
       "    x.observe(notebookContainer, {childList: true});\n",
       "}}\n",
       "\n",
       "// Listen for the clearing of the current output cell\n",
       "var outputEl = gd.closest('.output');\n",
       "if (outputEl) {{\n",
       "    x.observe(outputEl, {childList: true});\n",
       "}}\n",
       "\n",
       "                        })                };                });            </script>        </div>"
      ]
     },
     "metadata": {},
     "output_type": "display_data"
    }
   ],
   "source": [
    "summary_df = netdf_df[( netdf_df['rank_desc'] == 1 ) &\\\n",
    "                        (~netdf_df['chain'].str.contains('borrowed')) &\\\n",
    "                        (~netdf_df['chain'].str.contains('staking'))  \n",
    "                        ]\n",
    "summary_df = summary_df.sort_values(by='cumul_net_dollar_flow',ascending=False)\n",
    "summary_df['pct_of_tvl'] = 100* summary_df['net_dollar_flow'] / summary_df['usd_value']\n",
    "summary_df['flow_direction'] = np.where(summary_df['cumul_net_dollar_flow']>=0,1,-1)\n",
    "summary_df['abs_cumul_net_dollar_flow'] = abs(summary_df['cumul_net_dollar_flow'])\n",
    "# display(summary_df)\n",
    "fig = px.treemap(summary_df[summary_df['abs_cumul_net_dollar_flow'] !=0], \\\n",
    "                 path=[px.Constant(\"all\"), 'chain', 'protocol'], \\\n",
    "#                  path=[px.Constant(\"all\"), 'token', 'chain', 'protocol'], \\\n",
    "                 values='abs_cumul_net_dollar_flow', color='flow_direction'\n",
    "#                 ,color_discrete_map={'-1':'red', '1':'green'})\n",
    "                ,color_continuous_scale='Spectral'\n",
    "                )\n",
    "# fig.data[0].textinfo = 'label+text+value'\n",
    "fig.update_traces(root_color=\"lightgrey\")\n",
    "fig.update_layout(margin = dict(t=50, l=25, r=25, b=25))\n",
    "# fig.update_layout(tickprefix = '$')\n",
    "\n",
    "# fig.show()\n",
    "fig.write_image(prepend + \"img_outputs/svg/net_app_flows.svg\") #prepend + \n",
    "fig.write_image(prepend + \"img_outputs/png/net_app_flows.png\") #prepend + \n",
    "fig.write_html(prepend + \"img_outputs/net_app_flows.html\", include_plotlyjs='cdn')"
   ]
  },
  {
   "cell_type": "code",
   "execution_count": 67,
   "id": "546e13b8",
   "metadata": {},
   "outputs": [],
   "source": [
    "# netdf_df_plot = netdf_df[netdf_df['chain']=='Ethereum']\n",
    "\n",
    "# fig = px.line(netdf_df_plot, x=\"date\", y=\"net_dollar_flow\", color=\"protocol\", \\\n",
    "#              title=\"Daily Net Dollar Flow since Program Announcement\",\\\n",
    "#             labels={\n",
    "#                      \"date\": \"Day\",\n",
    "#                      \"net_dollar_flow\": \"Net Dollar Flow (N$F)\"\n",
    "#                  }\n",
    "#             )\n",
    "# fig.update_layout(\n",
    "#     legend_title=\"App Name\"\n",
    "# )\n",
    "# fig.update_layout(yaxis_tickprefix = '$')\n",
    "# fig.show()\n",
    "\n",
    "# # cumul_fig = px.area(netdf_df, x=\"date\", y=\"cumul_net_dollar_flow\", color=\"protocol\", \\\n",
    "# #              title=\"Cumulative Dollar Flow since Program Announcement\",\\\n",
    "# #                    labels={\n",
    "# #                      \"date\": \"Day\",\n",
    "# #                      \"cumul_net_dollar_flow\": \"Cumulative Net Dollar Flow (N$F)\"\n",
    "# #                  }\n",
    "# #             ,areamode='group')\n",
    "# # cumul_fig.update_layout(yaxis_tickprefix = '$')\n",
    "# # cumul_fig.show()\n",
    "\n",
    "\n",
    "# cumul_fig = go.Figure()\n",
    "# proto_names = netdf_df_plot['protocol'].drop_duplicates()\n",
    "# print(proto_names)\n",
    "# for p in proto_names:\n",
    "#     cumul_fig.add_trace(go.Scatter(x=netdf_df_plot[netdf_df_plot['protocol'] == p]['date'] \\\n",
    "#                                    , y=netdf_df_plot[netdf_df_plot['protocol'] == p]['cumul_net_dollar_flow'] \\\n",
    "#                                     ,name = p\\\n",
    "#                                   ,fill='tozeroy')) # fill down to xaxis\n",
    "\n",
    "# cumul_fig.update_layout(yaxis_tickprefix = '$')\n",
    "# cumul_fig.update_layout(\n",
    "#     title=\"Cumulative Dollar Flow since Program Announcement\",\n",
    "#     xaxis_title=\"Day\",\n",
    "#     yaxis_title=\"Cumulative Net Dollar Flow (N$F)\",\n",
    "#     legend_title=\"App Name\",\n",
    "# #     color_discrete_map=px.colors.qualitative.G10\n",
    "# )\n",
    "# cumul_fig.show()"
   ]
  },
  {
   "cell_type": "code",
   "execution_count": 75,
   "id": "27f367fd",
   "metadata": {},
   "outputs": [
    {
     "name": "stdout",
     "output_type": "stream",
     "text": [
      "[NbConvertApp] Converting notebook total_app_net_flows.ipynb to python\n",
      "[NbConvertApp] Writing 9870 bytes to total_app_net_flows.py\n"
     ]
    }
   ],
   "source": [
    "# ! jupyter nbconvert --to python total_app_net_flows.ipynb"
   ]
  }
 ],
 "metadata": {
  "kernelspec": {
   "display_name": "Python 3 (ipykernel)",
   "language": "python",
   "name": "python3"
  },
  "language_info": {
   "codemirror_mode": {
    "name": "ipython",
    "version": 3
   },
   "file_extension": ".py",
   "mimetype": "text/x-python",
   "name": "python",
   "nbconvert_exporter": "python",
   "pygments_lexer": "ipython3",
   "version": "3.9.7"
  }
 },
 "nbformat": 4,
 "nbformat_minor": 5
}
