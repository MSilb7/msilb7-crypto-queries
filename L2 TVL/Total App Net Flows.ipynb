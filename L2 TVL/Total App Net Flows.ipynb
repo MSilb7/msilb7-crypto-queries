{
 "cells": [
  {
   "cell_type": "code",
   "execution_count": 20,
   "id": "ffefb42a",
   "metadata": {},
   "outputs": [],
   "source": [
    "import pandas as pd\n",
    "import requests as r\n",
    "import plotly.express as px\n",
    "import plotly.graph_objects as go\n",
    "from datetime import datetime, timedelta, date\n",
    "import numpy as np\n",
    "import time\n",
    "header = {'User-Agent': 'Mozilla/5.0 (Windows NT 10.0; Win64; x64; rv:71.0) Gecko/20100101 Firefox/71.0'}"
   ]
  },
  {
   "cell_type": "code",
   "execution_count": 21,
   "id": "539f29a0",
   "metadata": {},
   "outputs": [],
   "source": [
    "#https://stackoverflow.com/questions/23267409/how-to-implement-retry-mechanism-into-python-requests-library\n",
    "\n",
    "import logging\n",
    "import requests\n",
    "\n",
    "from requests.adapters import HTTPAdapter, Retry\n",
    "\n",
    "logging.basicConfig(level=logging.DEBUG)\n",
    "\n",
    "s = requests.Session()\n",
    "retries = Retry(total=5, backoff_factor=1, status_forcelist=[ 502, 503, 504 ])\n",
    "s.mount('http://', HTTPAdapter(max_retries=retries))"
   ]
  },
  {
   "cell_type": "code",
   "execution_count": 22,
   "id": "bbc56e12",
   "metadata": {},
   "outputs": [],
   "source": [
    "trailing_num_days = 0"
   ]
  },
  {
   "cell_type": "code",
   "execution_count": 23,
   "id": "d984f9ab",
   "metadata": {},
   "outputs": [
    {
     "name": "stderr",
     "output_type": "stream",
     "text": [
      "DEBUG:urllib3.connectionpool:Starting new HTTPS connection (1): api.llama.fi:443\n",
      "DEBUG:urllib3.connectionpool:https://api.llama.fi:443 \"GET /protocols HTTP/1.1\" 200 1593379\n"
     ]
    },
    {
     "name": "stdout",
     "output_type": "stream",
     "text": [
      "356\n"
     ]
    }
   ],
   "source": [
    "#get all apps > 10 m tvl\n",
    "all_api = 'https://api.llama.fi/protocols'\n",
    "res = pd.DataFrame( r.get(all_api, headers=header).json() )\n",
    "res = res[res['tvl'] > 10_000_000] ##greater than 10mil\n",
    "print(len(res))\n",
    "# print(res.columns)\n"
   ]
  },
  {
   "cell_type": "code",
   "execution_count": 24,
   "id": "beebc582",
   "metadata": {},
   "outputs": [
    {
     "name": "stderr",
     "output_type": "stream",
     "text": [
      "/var/folders/by/kltjc8yd0yz_7_wrtrzhrm9m0000gn/T/ipykernel_65434/1800157470.py:4: SettingWithCopyWarning:\n",
      "\n",
      "\n",
      "A value is trying to be set on a copy of a slice from a DataFrame.\n",
      "Try using .loc[row_indexer,col_indexer] = value instead\n",
      "\n",
      "See the caveats in the documentation: https://pandas.pydata.org/pandas-docs/stable/user_guide/indexing.html#returning-a-view-versus-a-copy\n",
      "\n"
     ]
    },
    {
     "data": {
      "text/html": [
       "<div>\n",
       "<style scoped>\n",
       "    .dataframe tbody tr th:only-of-type {\n",
       "        vertical-align: middle;\n",
       "    }\n",
       "\n",
       "    .dataframe tbody tr th {\n",
       "        vertical-align: top;\n",
       "    }\n",
       "\n",
       "    .dataframe thead th {\n",
       "        text-align: right;\n",
       "    }\n",
       "</style>\n",
       "<table border=\"1\" class=\"dataframe\">\n",
       "  <thead>\n",
       "    <tr style=\"text-align: right;\">\n",
       "      <th></th>\n",
       "      <th>slug</th>\n",
       "      <th>chainTvls</th>\n",
       "    </tr>\n",
       "  </thead>\n",
       "  <tbody>\n",
       "    <tr>\n",
       "      <th>0</th>\n",
       "      <td>makerdao</td>\n",
       "      <td>[Ethereum]</td>\n",
       "    </tr>\n",
       "    <tr>\n",
       "      <th>1</th>\n",
       "      <td>polygon-bridge-&amp;-staking</td>\n",
       "      <td>[Polygon]</td>\n",
       "    </tr>\n",
       "    <tr>\n",
       "      <th>2</th>\n",
       "      <td>lido</td>\n",
       "      <td>[Ethereum, Moonriver, Solana, Terra, Moonbeam]</td>\n",
       "    </tr>\n",
       "    <tr>\n",
       "      <th>3</th>\n",
       "      <td>uniswap</td>\n",
       "      <td>[Optimism, Ethereum, Polygon, Celo, Arbitrum]</td>\n",
       "    </tr>\n",
       "    <tr>\n",
       "      <th>4</th>\n",
       "      <td>curve</td>\n",
       "      <td>[Optimism, Harmony, Moonbeam, Ethereum, Aurora...</td>\n",
       "    </tr>\n",
       "    <tr>\n",
       "      <th>...</th>\n",
       "      <td>...</td>\n",
       "      <td>...</td>\n",
       "    </tr>\n",
       "    <tr>\n",
       "      <th>351</th>\n",
       "      <td>guard(helmet)</td>\n",
       "      <td>[Binance, Polygon]</td>\n",
       "    </tr>\n",
       "    <tr>\n",
       "      <th>352</th>\n",
       "      <td>aavegotchi</td>\n",
       "      <td>[pool2, Polygon-pool2, Ethereum, Polygon, Poly...</td>\n",
       "    </tr>\n",
       "    <tr>\n",
       "      <th>353</th>\n",
       "      <td>idex</td>\n",
       "      <td>[Ethereum, Polygon]</td>\n",
       "    </tr>\n",
       "    <tr>\n",
       "      <th>354</th>\n",
       "      <td>truefi</td>\n",
       "      <td>[Ethereum, Ethereum-staking, Ethereum-borrowed...</td>\n",
       "    </tr>\n",
       "    <tr>\n",
       "      <th>355</th>\n",
       "      <td>gnosis-protocol-v1</td>\n",
       "      <td>[Ethereum]</td>\n",
       "    </tr>\n",
       "  </tbody>\n",
       "</table>\n",
       "<p>356 rows × 2 columns</p>\n",
       "</div>"
      ],
      "text/plain": [
       "                         slug  \\\n",
       "0                    makerdao   \n",
       "1    polygon-bridge-&-staking   \n",
       "2                        lido   \n",
       "3                     uniswap   \n",
       "4                       curve   \n",
       "..                        ...   \n",
       "351             guard(helmet)   \n",
       "352                aavegotchi   \n",
       "353                      idex   \n",
       "354                    truefi   \n",
       "355        gnosis-protocol-v1   \n",
       "\n",
       "                                             chainTvls  \n",
       "0                                           [Ethereum]  \n",
       "1                                            [Polygon]  \n",
       "2       [Ethereum, Moonriver, Solana, Terra, Moonbeam]  \n",
       "3        [Optimism, Ethereum, Polygon, Celo, Arbitrum]  \n",
       "4    [Optimism, Harmony, Moonbeam, Ethereum, Aurora...  \n",
       "..                                                 ...  \n",
       "351                                 [Binance, Polygon]  \n",
       "352  [pool2, Polygon-pool2, Ethereum, Polygon, Poly...  \n",
       "353                                [Ethereum, Polygon]  \n",
       "354  [Ethereum, Ethereum-staking, Ethereum-borrowed...  \n",
       "355                                         [Ethereum]  \n",
       "\n",
       "[356 rows x 2 columns]"
      ]
     },
     "execution_count": 24,
     "metadata": {},
     "output_type": "execute_result"
    }
   ],
   "source": [
    "\n",
    "protocols = res[['slug','chainTvls']]\n",
    "re = res['chainTvls']\n",
    "# r[1].keys()\n",
    "protocols['chainTvls'] = protocols['chainTvls'].apply(lambda x: list(x.keys()) )\n",
    "protocols"
   ]
  },
  {
   "cell_type": "code",
   "execution_count": 25,
   "id": "c84c9ef1",
   "metadata": {},
   "outputs": [],
   "source": [
    "# protocols = protocols[ protocols['slug'] == 'uniswap-v3' ]\n",
    "# api_str = 'https://api.llama.fi/protocol/'\n",
    "# ad = pd.DataFrame( r.get(api_str).json()['chainTvls'] ).T[['tokens']]\n",
    "# ad"
   ]
  },
  {
   "cell_type": "code",
   "execution_count": 26,
   "id": "9717e4df",
   "metadata": {},
   "outputs": [],
   "source": [
    "# api_str = 'https://api.llama.fi/protocol/uniswap'\n",
    "# prot_req = r.get(api_str, headers=header).json()['chainTvls']\n",
    "# # prot_req['Ethereum']\n",
    "# prot_req"
   ]
  },
  {
   "cell_type": "code",
   "execution_count": 27,
   "id": "d3399236",
   "metadata": {},
   "outputs": [
    {
     "name": "stderr",
     "output_type": "stream",
     "text": [
      "DEBUG:urllib3.connectionpool:Starting new HTTPS connection (1): api.llama.fi:443\n",
      "DEBUG:urllib3.connectionpool:https://api.llama.fi:443 \"GET /protocol/makerdao HTTP/1.1\" 200 1003980\n"
     ]
    },
    {
     "name": "stdout",
     "output_type": "stream",
     "text": [
      "https://api.llama.fi/protocol/makerdao\n"
     ]
    },
    {
     "name": "stderr",
     "output_type": "stream",
     "text": [
      "DEBUG:urllib3.connectionpool:https://api.llama.fi:443 \"GET /protocol/polygon-bridge-&-staking HTTP/1.1\" 307 0\n",
      "DEBUG:urllib3.connectionpool:Starting new HTTPS connection (1): defillama-datasets.s3.eu-central-1.amazonaws.com:443\n",
      "DEBUG:urllib3.connectionpool:https://defillama-datasets.s3.eu-central-1.amazonaws.com:443 \"GET /temp/protocol-Polygon%20Bridge%20&%20Staking.json HTTP/1.1\" 200 14069111\n"
     ]
    },
    {
     "name": "stdout",
     "output_type": "stream",
     "text": [
      "https://api.llama.fi/protocol/polygon-bridge-&-staking\n"
     ]
    },
    {
     "name": "stderr",
     "output_type": "stream",
     "text": [
      "DEBUG:urllib3.connectionpool:https://api.llama.fi:443 \"GET /protocol/lido HTTP/1.1\" 200 443342\n"
     ]
    },
    {
     "name": "stdout",
     "output_type": "stream",
     "text": [
      "https://api.llama.fi/protocol/lido\n"
     ]
    },
    {
     "name": "stderr",
     "output_type": "stream",
     "text": [
      "DEBUG:urllib3.connectionpool:https://api.llama.fi:443 \"GET /protocol/uniswap HTTP/1.1\" 307 0\n",
      "DEBUG:urllib3.connectionpool:Resetting dropped connection: defillama-datasets.s3.eu-central-1.amazonaws.com\n",
      "DEBUG:urllib3.connectionpool:https://defillama-datasets.s3.eu-central-1.amazonaws.com:443 \"GET /temp/protocol-Uniswap.json HTTP/1.1\" 200 13728130\n"
     ]
    },
    {
     "name": "stdout",
     "output_type": "stream",
     "text": [
      "https://api.llama.fi/protocol/uniswap\n"
     ]
    },
    {
     "name": "stderr",
     "output_type": "stream",
     "text": [
      "DEBUG:urllib3.connectionpool:https://api.llama.fi:443 \"GET /protocol/curve HTTP/1.1\" 200 1466829\n"
     ]
    },
    {
     "name": "stdout",
     "output_type": "stream",
     "text": [
      "https://api.llama.fi/protocol/curve\n"
     ]
    },
    {
     "name": "stderr",
     "output_type": "stream",
     "text": [
      "DEBUG:urllib3.connectionpool:https://api.llama.fi:443 \"GET /protocol/wbtc HTTP/1.1\" 200 89137\n"
     ]
    },
    {
     "name": "stdout",
     "output_type": "stream",
     "text": [
      "https://api.llama.fi/protocol/wbtc\n"
     ]
    },
    {
     "name": "stderr",
     "output_type": "stream",
     "text": [
      "DEBUG:urllib3.connectionpool:https://api.llama.fi:443 \"GET /protocol/aave-v2 HTTP/1.1\" 200 4490705\n"
     ]
    },
    {
     "name": "stdout",
     "output_type": "stream",
     "text": [
      "https://api.llama.fi/protocol/aave-v2\n"
     ]
    },
    {
     "name": "stderr",
     "output_type": "stream",
     "text": [
      "DEBUG:urllib3.connectionpool:https://api.llama.fi:443 \"GET /protocol/convex-finance HTTP/1.1\" 200 1718672\n"
     ]
    },
    {
     "name": "stdout",
     "output_type": "stream",
     "text": [
      "https://api.llama.fi/protocol/convex-finance\n"
     ]
    },
    {
     "name": "stderr",
     "output_type": "stream",
     "text": [
      "DEBUG:urllib3.connectionpool:https://api.llama.fi:443 \"GET /protocol/justlend HTTP/1.1\" 200 154681\n"
     ]
    },
    {
     "name": "stdout",
     "output_type": "stream",
     "text": [
      "https://api.llama.fi/protocol/justlend\n"
     ]
    },
    {
     "name": "stderr",
     "output_type": "stream",
     "text": [
      "DEBUG:urllib3.connectionpool:https://api.llama.fi:443 \"GET /protocol/pancakeswap HTTP/1.1\" 200 316147\n"
     ]
    },
    {
     "name": "stdout",
     "output_type": "stream",
     "text": [
      "https://api.llama.fi/protocol/pancakeswap\n"
     ]
    },
    {
     "name": "stderr",
     "output_type": "stream",
     "text": [
      "DEBUG:urllib3.connectionpool:https://api.llama.fi:443 \"GET /protocol/compound HTTP/1.1\" 200 2288767\n"
     ]
    },
    {
     "name": "stdout",
     "output_type": "stream",
     "text": [
      "https://api.llama.fi/protocol/compound\n"
     ]
    },
    {
     "name": "stderr",
     "output_type": "stream",
     "text": [
      "DEBUG:urllib3.connectionpool:https://api.llama.fi:443 \"GET /protocol/instadapp HTTP/1.1\" 200 96396\n"
     ]
    },
    {
     "name": "stdout",
     "output_type": "stream",
     "text": [
      "https://api.llama.fi/protocol/instadapp\n"
     ]
    },
    {
     "name": "stderr",
     "output_type": "stream",
     "text": [
      "DEBUG:urllib3.connectionpool:https://api.llama.fi:443 \"GET /protocol/multichain HTTP/1.1\" 200 327974\n"
     ]
    },
    {
     "name": "stdout",
     "output_type": "stream",
     "text": [
      "https://api.llama.fi/protocol/multichain\n"
     ]
    },
    {
     "name": "stderr",
     "output_type": "stream",
     "text": [
      "DEBUG:urllib3.connectionpool:https://api.llama.fi:443 \"GET /protocol/arrakis-finance HTTP/1.1\" 200 1093343\n"
     ]
    },
    {
     "name": "stdout",
     "output_type": "stream",
     "text": [
      "https://api.llama.fi/protocol/arrakis-finance\n"
     ]
    },
    {
     "name": "stderr",
     "output_type": "stream",
     "text": [
      "DEBUG:urllib3.connectionpool:https://api.llama.fi:443 \"GET /protocol/aave-v3 HTTP/1.1\" 200 1094298\n"
     ]
    },
    {
     "name": "stdout",
     "output_type": "stream",
     "text": [
      "https://api.llama.fi/protocol/aave-v3\n"
     ]
    },
    {
     "name": "stderr",
     "output_type": "stream",
     "text": [
      "DEBUG:urllib3.connectionpool:https://api.llama.fi:443 \"GET /protocol/balancer HTTP/1.1\" 200 408367\n"
     ]
    },
    {
     "name": "stdout",
     "output_type": "stream",
     "text": [
      "https://api.llama.fi/protocol/balancer\n"
     ]
    },
    {
     "name": "stderr",
     "output_type": "stream",
     "text": [
      "DEBUG:urllib3.connectionpool:https://api.llama.fi:443 \"GET /protocol/justcryptos HTTP/1.1\" 502 36\n"
     ]
    },
    {
     "name": "stdout",
     "output_type": "stream",
     "text": [
      "err\n"
     ]
    },
    {
     "name": "stderr",
     "output_type": "stream",
     "text": [
      "DEBUG:urllib3.connectionpool:https://api.llama.fi:443 \"GET /protocol/juststables HTTP/1.1\" 200 273851\n"
     ]
    },
    {
     "name": "stdout",
     "output_type": "stream",
     "text": [
      "https://api.llama.fi/protocol/juststables\n"
     ]
    },
    {
     "name": "stderr",
     "output_type": "stream",
     "text": [
      "DEBUG:urllib3.connectionpool:https://api.llama.fi:443 \"GET /protocol/frax HTTP/1.1\" 200 837498\n"
     ]
    },
    {
     "name": "stdout",
     "output_type": "stream",
     "text": [
      "https://api.llama.fi/protocol/frax\n"
     ]
    },
    {
     "name": "stderr",
     "output_type": "stream",
     "text": [
      "DEBUG:urllib3.connectionpool:https://api.llama.fi:443 \"GET /protocol/hbtc HTTP/1.1\" 200 87549\n"
     ]
    },
    {
     "name": "stdout",
     "output_type": "stream",
     "text": [
      "https://api.llama.fi/protocol/hbtc\n"
     ]
    },
    {
     "name": "stderr",
     "output_type": "stream",
     "text": [
      "DEBUG:urllib3.connectionpool:https://api.llama.fi:443 \"GET /protocol/sunswap HTTP/1.1\" 200 238489\n"
     ]
    },
    {
     "name": "stdout",
     "output_type": "stream",
     "text": [
      "https://api.llama.fi/protocol/sunswap\n"
     ]
    },
    {
     "name": "stderr",
     "output_type": "stream",
     "text": [
      "DEBUG:urllib3.connectionpool:https://api.llama.fi:443 \"GET /protocol/sushiswap HTTP/1.1\" 307 0\n",
      "DEBUG:urllib3.connectionpool:Resetting dropped connection: defillama-datasets.s3.eu-central-1.amazonaws.com\n",
      "DEBUG:urllib3.connectionpool:https://defillama-datasets.s3.eu-central-1.amazonaws.com:443 \"GET /temp/protocol-SushiSwap.json HTTP/1.1\" 200 80035799\n"
     ]
    },
    {
     "name": "stdout",
     "output_type": "stream",
     "text": [
      "https://api.llama.fi/protocol/sushiswap\n"
     ]
    },
    {
     "name": "stderr",
     "output_type": "stream",
     "text": [
      "DEBUG:urllib3.connectionpool:https://api.llama.fi:443 \"GET /protocol/venus HTTP/1.1\" 200 2354274\n"
     ]
    },
    {
     "name": "stdout",
     "output_type": "stream",
     "text": [
      "https://api.llama.fi/protocol/venus\n"
     ]
    },
    {
     "name": "stderr",
     "output_type": "stream",
     "text": [
      "DEBUG:urllib3.connectionpool:https://api.llama.fi:443 \"GET /protocol/vvs-finance HTTP/1.1\" 200 103840\n"
     ]
    },
    {
     "name": "stdout",
     "output_type": "stream",
     "text": [
      "https://api.llama.fi/protocol/vvs-finance\n"
     ]
    },
    {
     "name": "stderr",
     "output_type": "stream",
     "text": [
      "DEBUG:urllib3.connectionpool:https://api.llama.fi:443 \"GET /protocol/synthetix HTTP/1.1\" 200 366869\n"
     ]
    },
    {
     "name": "stdout",
     "output_type": "stream",
     "text": [
      "https://api.llama.fi/protocol/synthetix\n"
     ]
    },
    {
     "name": "stderr",
     "output_type": "stream",
     "text": [
      "DEBUG:urllib3.connectionpool:https://api.llama.fi:443 \"GET /protocol/yearn-finance HTTP/1.1\" 200 316943\n"
     ]
    },
    {
     "name": "stdout",
     "output_type": "stream",
     "text": [
      "https://api.llama.fi/protocol/yearn-finance\n"
     ]
    },
    {
     "name": "stderr",
     "output_type": "stream",
     "text": [
      "DEBUG:urllib3.connectionpool:https://api.llama.fi:443 \"GET /protocol/liquity HTTP/1.1\" 200 160130\n"
     ]
    },
    {
     "name": "stdout",
     "output_type": "stream",
     "text": [
      "https://api.llama.fi/protocol/liquity\n"
     ]
    },
    {
     "name": "stderr",
     "output_type": "stream",
     "text": [
      "DEBUG:urllib3.connectionpool:https://api.llama.fi:443 \"GET /protocol/rocket-pool HTTP/1.1\" 200 113869\n"
     ]
    },
    {
     "name": "stdout",
     "output_type": "stream",
     "text": [
      "https://api.llama.fi/protocol/rocket-pool\n"
     ]
    },
    {
     "name": "stderr",
     "output_type": "stream",
     "text": [
      "DEBUG:urllib3.connectionpool:https://api.llama.fi:443 \"GET /protocol/iron-bank HTTP/1.1\" 200 895006\n"
     ]
    },
    {
     "name": "stdout",
     "output_type": "stream",
     "text": [
      "https://api.llama.fi/protocol/iron-bank\n"
     ]
    },
    {
     "name": "stderr",
     "output_type": "stream",
     "text": [
      "DEBUG:urllib3.connectionpool:https://api.llama.fi:443 \"GET /protocol/keep3r-network HTTP/1.1\" 200 321865\n"
     ]
    },
    {
     "name": "stdout",
     "output_type": "stream",
     "text": [
      "https://api.llama.fi/protocol/keep3r-network\n"
     ]
    },
    {
     "name": "stderr",
     "output_type": "stream",
     "text": [
      "DEBUG:urllib3.connectionpool:https://api.llama.fi:443 \"GET /protocol/alpaca-finance HTTP/1.1\" 200 1297856\n",
      "DEBUG:urllib3.connectionpool:https://api.llama.fi:443 \"GET /protocol/portal HTTP/1.1\" 200 86999\n"
     ]
    },
    {
     "name": "stdout",
     "output_type": "stream",
     "text": [
      "https://api.llama.fi/protocol/alpaca-finance\n",
      "https://api.llama.fi/protocol/portal\n"
     ]
    },
    {
     "name": "stderr",
     "output_type": "stream",
     "text": [
      "DEBUG:urllib3.connectionpool:https://api.llama.fi:443 \"GET /protocol/dydx HTTP/1.1\" 200 201752\n"
     ]
    },
    {
     "name": "stdout",
     "output_type": "stream",
     "text": [
      "https://api.llama.fi/protocol/dydx\n"
     ]
    },
    {
     "name": "stderr",
     "output_type": "stream",
     "text": [
      "DEBUG:urllib3.connectionpool:https://api.llama.fi:443 \"GET /protocol/tornado-cash HTTP/1.1\" 200 436492\n",
      "DEBUG:urllib3.connectionpool:https://api.llama.fi:443 \"GET /protocol/stargate HTTP/1.1\" 200 236620\n"
     ]
    },
    {
     "name": "stdout",
     "output_type": "stream",
     "text": [
      "https://api.llama.fi/protocol/tornado-cash\n",
      "https://api.llama.fi/protocol/stargate\n"
     ]
    },
    {
     "name": "stderr",
     "output_type": "stream",
     "text": [
      "DEBUG:urllib3.connectionpool:https://api.llama.fi:443 \"GET /protocol/sun.io HTTP/1.1\" 200 499914\n"
     ]
    },
    {
     "name": "stdout",
     "output_type": "stream",
     "text": [
      "https://api.llama.fi/protocol/sun.io\n"
     ]
    },
    {
     "name": "stderr",
     "output_type": "stream",
     "text": [
      "DEBUG:urllib3.connectionpool:https://api.llama.fi:443 \"GET /protocol/abracadabra HTTP/1.1\" 200 196571\n"
     ]
    },
    {
     "name": "stdout",
     "output_type": "stream",
     "text": [
      "https://api.llama.fi/protocol/abracadabra\n"
     ]
    },
    {
     "name": "stderr",
     "output_type": "stream",
     "text": [
      "DEBUG:urllib3.connectionpool:https://api.llama.fi:443 \"GET /protocol/defichain-dex HTTP/1.1\" 200 24886\n"
     ]
    },
    {
     "name": "stdout",
     "output_type": "stream",
     "text": [
      "https://api.llama.fi/protocol/defichain-dex\n"
     ]
    },
    {
     "name": "stderr",
     "output_type": "stream",
     "text": [
      "DEBUG:urllib3.connectionpool:https://api.llama.fi:443 \"GET /protocol/quickswap HTTP/1.1\" 307 0\n",
      "DEBUG:urllib3.connectionpool:Resetting dropped connection: defillama-datasets.s3.eu-central-1.amazonaws.com\n",
      "DEBUG:urllib3.connectionpool:https://defillama-datasets.s3.eu-central-1.amazonaws.com:443 \"GET /temp/protocol-Quickswap.json HTTP/1.1\" 200 9081153\n"
     ]
    },
    {
     "name": "stdout",
     "output_type": "stream",
     "text": [
      "https://api.llama.fi/protocol/quickswap\n"
     ]
    },
    {
     "name": "stderr",
     "output_type": "stream",
     "text": [
      "DEBUG:urllib3.connectionpool:https://api.llama.fi:443 \"GET /protocol/poly-network HTTP/1.1\" 200 84565\n"
     ]
    },
    {
     "name": "stdout",
     "output_type": "stream",
     "text": [
      "https://api.llama.fi/protocol/poly-network\n"
     ]
    },
    {
     "name": "stderr",
     "output_type": "stream",
     "text": [
      "DEBUG:urllib3.connectionpool:https://api.llama.fi:443 \"GET /protocol/sushiswap-kashi HTTP/1.1\" 200 3183588\n"
     ]
    },
    {
     "name": "stdout",
     "output_type": "stream",
     "text": [
      "https://api.llama.fi/protocol/sushiswap-kashi\n"
     ]
    },
    {
     "name": "stderr",
     "output_type": "stream",
     "text": [
      "DEBUG:urllib3.connectionpool:https://api.llama.fi:443 \"GET /protocol/gmx HTTP/1.1\" 200 528616\n"
     ]
    },
    {
     "name": "stdout",
     "output_type": "stream",
     "text": [
      "https://api.llama.fi/protocol/gmx\n"
     ]
    },
    {
     "name": "stderr",
     "output_type": "stream",
     "text": [
      "DEBUG:urllib3.connectionpool:https://api.llama.fi:443 \"GET /protocol/marinade-finance HTTP/1.1\" 200 117212\n"
     ]
    },
    {
     "name": "stdout",
     "output_type": "stream",
     "text": [
      "https://api.llama.fi/protocol/marinade-finance\n"
     ]
    },
    {
     "name": "stderr",
     "output_type": "stream",
     "text": [
      "DEBUG:urllib3.connectionpool:https://api.llama.fi:443 \"GET /protocol/beefy HTTP/1.1\" 200 1054394\n"
     ]
    },
    {
     "name": "stdout",
     "output_type": "stream",
     "text": [
      "https://api.llama.fi/protocol/beefy\n"
     ]
    },
    {
     "name": "stderr",
     "output_type": "stream",
     "text": [
      "DEBUG:urllib3.connectionpool:https://api.llama.fi:443 \"GET /protocol/biswap HTTP/1.1\" 307 0\n",
      "DEBUG:urllib3.connectionpool:Resetting dropped connection: defillama-datasets.s3.eu-central-1.amazonaws.com\n",
      "DEBUG:urllib3.connectionpool:https://defillama-datasets.s3.eu-central-1.amazonaws.com:443 \"GET /temp/protocol-BiSwap.json HTTP/1.1\" 200 6161300\n"
     ]
    },
    {
     "name": "stdout",
     "output_type": "stream",
     "text": [
      "https://api.llama.fi/protocol/biswap\n"
     ]
    },
    {
     "name": "stderr",
     "output_type": "stream",
     "text": [
      "DEBUG:urllib3.connectionpool:https://api.llama.fi:443 \"GET /protocol/olympus-dao HTTP/1.1\" 200 351886\n"
     ]
    },
    {
     "name": "stdout",
     "output_type": "stream",
     "text": [
      "https://api.llama.fi/protocol/olympus-dao\n"
     ]
    },
    {
     "name": "stderr",
     "output_type": "stream",
     "text": [
      "DEBUG:urllib3.connectionpool:https://api.llama.fi:443 \"GET /protocol/pando HTTP/1.1\" 502 36\n"
     ]
    },
    {
     "name": "stdout",
     "output_type": "stream",
     "text": [
      "err\n"
     ]
    },
    {
     "name": "stderr",
     "output_type": "stream",
     "text": [
      "DEBUG:urllib3.connectionpool:https://api.llama.fi:443 \"GET /protocol/unicrypt HTTP/1.1\" 200 299615\n"
     ]
    },
    {
     "name": "stdout",
     "output_type": "stream",
     "text": [
      "https://api.llama.fi/protocol/unicrypt\n"
     ]
    },
    {
     "name": "stderr",
     "output_type": "stream",
     "text": [
      "DEBUG:urllib3.connectionpool:https://api.llama.fi:443 \"GET /protocol/aura HTTP/1.1\" 200 10478\n"
     ]
    },
    {
     "name": "stdout",
     "output_type": "stream",
     "text": [
      "https://api.llama.fi/protocol/aura\n"
     ]
    },
    {
     "name": "stderr",
     "output_type": "stream",
     "text": [
      "DEBUG:urllib3.connectionpool:https://api.llama.fi:443 \"GET /protocol/solend HTTP/1.1\" 200 1431319\n"
     ]
    },
    {
     "name": "stdout",
     "output_type": "stream",
     "text": [
      "https://api.llama.fi/protocol/solend\n"
     ]
    },
    {
     "name": "stderr",
     "output_type": "stream",
     "text": [
      "DEBUG:urllib3.connectionpool:https://api.llama.fi:443 \"GET /protocol/benqi-lending HTTP/1.1\" 200 792425\n"
     ]
    },
    {
     "name": "stdout",
     "output_type": "stream",
     "text": [
      "https://api.llama.fi/protocol/benqi-lending\n"
     ]
    },
    {
     "name": "stderr",
     "output_type": "stream",
     "text": [
      "DEBUG:urllib3.connectionpool:https://api.llama.fi:443 \"GET /protocol/armor HTTP/1.1\" 200 471634\n"
     ]
    },
    {
     "name": "stdout",
     "output_type": "stream",
     "text": [
      "https://api.llama.fi/protocol/armor\n"
     ]
    },
    {
     "name": "stderr",
     "output_type": "stream",
     "text": [
      "DEBUG:urllib3.connectionpool:https://api.llama.fi:443 \"GET /protocol/parallel-liquid-crowdloan HTTP/1.1\" 502 36\n"
     ]
    },
    {
     "name": "stdout",
     "output_type": "stream",
     "text": [
      "err\n"
     ]
    },
    {
     "name": "stderr",
     "output_type": "stream",
     "text": [
      "DEBUG:urllib3.connectionpool:https://api.llama.fi:443 \"GET /protocol/tectonic HTTP/1.1\" 200 325353\n"
     ]
    },
    {
     "name": "stdout",
     "output_type": "stream",
     "text": [
      "https://api.llama.fi/protocol/tectonic\n"
     ]
    },
    {
     "name": "stderr",
     "output_type": "stream",
     "text": [
      "DEBUG:urllib3.connectionpool:https://api.llama.fi:443 \"GET /protocol/nexus-mutual HTTP/1.1\" 200 396010\n"
     ]
    },
    {
     "name": "stdout",
     "output_type": "stream",
     "text": [
      "https://api.llama.fi/protocol/nexus-mutual\n"
     ]
    },
    {
     "name": "stderr",
     "output_type": "stream",
     "text": [
      "DEBUG:urllib3.connectionpool:https://api.llama.fi:443 \"GET /protocol/xdai-stake-bridge HTTP/1.1\" 307 0\n",
      "DEBUG:urllib3.connectionpool:Resetting dropped connection: defillama-datasets.s3.eu-central-1.amazonaws.com\n",
      "DEBUG:urllib3.connectionpool:https://defillama-datasets.s3.eu-central-1.amazonaws.com:443 \"GET /temp/protocol-xDAI%20Stake%20Bridge.json HTTP/1.1\" 200 8590001\n"
     ]
    },
    {
     "name": "stdout",
     "output_type": "stream",
     "text": [
      "https://api.llama.fi/protocol/xdai-stake-bridge\n"
     ]
    },
    {
     "name": "stderr",
     "output_type": "stream",
     "text": [
      "DEBUG:urllib3.connectionpool:https://api.llama.fi:443 \"GET /protocol/ref-finance HTTP/1.1\" 200 110325\n"
     ]
    },
    {
     "name": "stdout",
     "output_type": "stream",
     "text": [
      "https://api.llama.fi/protocol/ref-finance\n"
     ]
    },
    {
     "name": "stderr",
     "output_type": "stream",
     "text": [
      "DEBUG:urllib3.connectionpool:https://api.llama.fi:443 \"GET /protocol/trader-joe HTTP/1.1\" 200 2898681\n"
     ]
    },
    {
     "name": "stdout",
     "output_type": "stream",
     "text": [
      "https://api.llama.fi/protocol/trader-joe\n"
     ]
    },
    {
     "name": "stderr",
     "output_type": "stream",
     "text": [
      "DEBUG:urllib3.connectionpool:https://api.llama.fi:443 \"GET /protocol/serum HTTP/1.1\" 200 54413\n",
      "DEBUG:urllib3.connectionpool:https://api.llama.fi:443 \"GET /protocol/synapse HTTP/1.1\" 200 1585274\n"
     ]
    },
    {
     "name": "stdout",
     "output_type": "stream",
     "text": [
      "https://api.llama.fi/protocol/serum\n",
      "https://api.llama.fi/protocol/synapse\n"
     ]
    },
    {
     "name": "stderr",
     "output_type": "stream",
     "text": [
      "DEBUG:urllib3.connectionpool:https://api.llama.fi:443 \"GET /protocol/pinksale HTTP/1.1\" 200 115580\n"
     ]
    },
    {
     "name": "stdout",
     "output_type": "stream",
     "text": [
      "https://api.llama.fi/protocol/pinksale\n"
     ]
    },
    {
     "name": "stderr",
     "output_type": "stream",
     "text": [
      "DEBUG:urllib3.connectionpool:https://api.llama.fi:443 \"GET /protocol/raydium HTTP/1.1\" 200 57378\n"
     ]
    },
    {
     "name": "stdout",
     "output_type": "stream",
     "text": [
      "https://api.llama.fi/protocol/raydium\n"
     ]
    },
    {
     "name": "stderr",
     "output_type": "stream",
     "text": [
      "DEBUG:urllib3.connectionpool:https://api.llama.fi:443 \"GET /protocol/acala-lcdot HTTP/1.1\" 200 13056\n"
     ]
    },
    {
     "name": "stdout",
     "output_type": "stream",
     "text": [
      "https://api.llama.fi/protocol/acala-lcdot\n"
     ]
    },
    {
     "name": "stderr",
     "output_type": "stream",
     "text": [
      "DEBUG:urllib3.connectionpool:https://api.llama.fi:443 \"GET /protocol/coinwind HTTP/1.1\" 200 2281997\n"
     ]
    },
    {
     "name": "stdout",
     "output_type": "stream",
     "text": [
      "https://api.llama.fi/protocol/coinwind\n"
     ]
    },
    {
     "name": "stderr",
     "output_type": "stream",
     "text": [
      "DEBUG:urllib3.connectionpool:https://api.llama.fi:443 \"GET /protocol/euler HTTP/1.1\" 200 743363\n"
     ]
    },
    {
     "name": "stdout",
     "output_type": "stream",
     "text": [
      "https://api.llama.fi/protocol/euler\n"
     ]
    },
    {
     "name": "stderr",
     "output_type": "stream",
     "text": [
      "DEBUG:urllib3.connectionpool:https://api.llama.fi:443 \"GET /protocol/cbridge HTTP/1.1\" 200 2478028\n"
     ]
    },
    {
     "name": "stdout",
     "output_type": "stream",
     "text": [
      "https://api.llama.fi/protocol/cbridge\n"
     ]
    },
    {
     "name": "stderr",
     "output_type": "stream",
     "text": [
      "DEBUG:urllib3.connectionpool:https://api.llama.fi:443 \"GET /protocol/flexa HTTP/1.1\" 200 85657\n"
     ]
    },
    {
     "name": "stdout",
     "output_type": "stream",
     "text": [
      "https://api.llama.fi/protocol/flexa\n"
     ]
    },
    {
     "name": "stderr",
     "output_type": "stream",
     "text": [
      "DEBUG:urllib3.connectionpool:https://api.llama.fi:443 \"GET /protocol/klayswap HTTP/1.1\" 200 169625\n"
     ]
    },
    {
     "name": "stdout",
     "output_type": "stream",
     "text": [
      "https://api.llama.fi/protocol/klayswap\n"
     ]
    },
    {
     "name": "stderr",
     "output_type": "stream",
     "text": [
      "DEBUG:urllib3.connectionpool:https://api.llama.fi:443 \"GET /protocol/stacks-staking HTTP/1.1\" 200 163509\n"
     ]
    },
    {
     "name": "stdout",
     "output_type": "stream",
     "text": [
      "https://api.llama.fi/protocol/stacks-staking\n"
     ]
    },
    {
     "name": "stderr",
     "output_type": "stream",
     "text": [
      "DEBUG:urllib3.connectionpool:https://api.llama.fi:443 \"GET /protocol/bwatch HTTP/1.1\" 502 36\n"
     ]
    },
    {
     "name": "stdout",
     "output_type": "stream",
     "text": [
      "err\n"
     ]
    },
    {
     "name": "stderr",
     "output_type": "stream",
     "text": [
      "DEBUG:urllib3.connectionpool:https://api.llama.fi:443 \"GET /protocol/loopring HTTP/1.1\" 200 360243\n"
     ]
    },
    {
     "name": "stdout",
     "output_type": "stream",
     "text": [
      "https://api.llama.fi/protocol/loopring\n"
     ]
    },
    {
     "name": "stderr",
     "output_type": "stream",
     "text": [
      "DEBUG:urllib3.connectionpool:https://api.llama.fi:443 \"GET /protocol/osmosis HTTP/1.1\" 200 97561\n"
     ]
    },
    {
     "name": "stdout",
     "output_type": "stream",
     "text": [
      "https://api.llama.fi/protocol/osmosis\n"
     ]
    },
    {
     "name": "stderr",
     "output_type": "stream",
     "text": [
      "DEBUG:urllib3.connectionpool:https://api.llama.fi:443 \"GET /protocol/atrix HTTP/1.1\" 200 34258\n"
     ]
    },
    {
     "name": "stdout",
     "output_type": "stream",
     "text": [
      "https://api.llama.fi/protocol/atrix\n"
     ]
    },
    {
     "name": "stderr",
     "output_type": "stream",
     "text": [
      "DEBUG:urllib3.connectionpool:https://api.llama.fi:443 \"GET /protocol/platypus-finance HTTP/1.1\" 200 382197\n"
     ]
    },
    {
     "name": "stdout",
     "output_type": "stream",
     "text": [
      "https://api.llama.fi/protocol/platypus-finance\n"
     ]
    },
    {
     "name": "stderr",
     "output_type": "stream",
     "text": [
      "DEBUG:urllib3.connectionpool:https://api.llama.fi:443 \"GET /protocol/team-finance HTTP/1.1\" 200 321593\n"
     ]
    },
    {
     "name": "stdout",
     "output_type": "stream",
     "text": [
      "https://api.llama.fi/protocol/team-finance\n"
     ]
    },
    {
     "name": "stderr",
     "output_type": "stream",
     "text": [
      "DEBUG:urllib3.connectionpool:https://api.llama.fi:443 \"GET /protocol/vires-finance HTTP/1.1\" 200 175107\n"
     ]
    },
    {
     "name": "stdout",
     "output_type": "stream",
     "text": [
      "https://api.llama.fi/protocol/vires-finance\n"
     ]
    },
    {
     "name": "stderr",
     "output_type": "stream",
     "text": [
      "DEBUG:urllib3.connectionpool:https://api.llama.fi:443 \"GET /protocol/bancor HTTP/1.1\" 200 4264911\n"
     ]
    },
    {
     "name": "stdout",
     "output_type": "stream",
     "text": [
      "https://api.llama.fi/protocol/bancor\n"
     ]
    },
    {
     "name": "stderr",
     "output_type": "stream",
     "text": [
      "DEBUG:urllib3.connectionpool:https://api.llama.fi:443 \"GET /protocol/maiar-exchange HTTP/1.1\" 200 177555\n"
     ]
    },
    {
     "name": "stdout",
     "output_type": "stream",
     "text": [
      "https://api.llama.fi/protocol/maiar-exchange\n"
     ]
    },
    {
     "name": "stderr",
     "output_type": "stream",
     "text": [
      "DEBUG:urllib3.connectionpool:https://api.llama.fi:443 \"GET /protocol/thorchain HTTP/1.1\" 200 138861\n"
     ]
    },
    {
     "name": "stdout",
     "output_type": "stream",
     "text": [
      "https://api.llama.fi/protocol/thorchain\n"
     ]
    },
    {
     "name": "stderr",
     "output_type": "stream",
     "text": [
      "DEBUG:urllib3.connectionpool:https://api.llama.fi:443 \"GET /protocol/mdex HTTP/1.1\" 200 186791\n"
     ]
    },
    {
     "name": "stdout",
     "output_type": "stream",
     "text": [
      "https://api.llama.fi/protocol/mdex\n"
     ]
    },
    {
     "name": "stderr",
     "output_type": "stream",
     "text": [
      "DEBUG:urllib3.connectionpool:https://api.llama.fi:443 \"GET /protocol/renvm HTTP/1.1\" 200 1125612\n"
     ]
    },
    {
     "name": "stdout",
     "output_type": "stream",
     "text": [
      "https://api.llama.fi/protocol/renvm\n"
     ]
    },
    {
     "name": "stderr",
     "output_type": "stream",
     "text": [
      "DEBUG:urllib3.connectionpool:https://api.llama.fi:443 \"GET /protocol/kava-mint HTTP/1.1\" 200 200384\n"
     ]
    },
    {
     "name": "stdout",
     "output_type": "stream",
     "text": [
      "https://api.llama.fi/protocol/kava-mint\n"
     ]
    },
    {
     "name": "stderr",
     "output_type": "stream",
     "text": [
      "DEBUG:urllib3.connectionpool:https://api.llama.fi:443 \"GET /protocol/tulip-protocol HTTP/1.1\" 502 36\n"
     ]
    },
    {
     "name": "stdout",
     "output_type": "stream",
     "text": [
      "err\n"
     ]
    },
    {
     "name": "stderr",
     "output_type": "stream",
     "text": [
      "DEBUG:urllib3.connectionpool:https://api.llama.fi:443 \"GET /protocol/spookyswap HTTP/1.1\" 307 0\n",
      "DEBUG:urllib3.connectionpool:Resetting dropped connection: defillama-datasets.s3.eu-central-1.amazonaws.com\n",
      "DEBUG:urllib3.connectionpool:https://defillama-datasets.s3.eu-central-1.amazonaws.com:443 \"GET /temp/protocol-SpookySwap.json HTTP/1.1\" 200 9520789\n"
     ]
    },
    {
     "name": "stdout",
     "output_type": "stream",
     "text": [
      "https://api.llama.fi/protocol/spookyswap\n"
     ]
    },
    {
     "name": "stderr",
     "output_type": "stream",
     "text": [
      "DEBUG:urllib3.connectionpool:https://api.llama.fi:443 \"GET /protocol/chainge-finance HTTP/1.1\" 200 30610\n"
     ]
    },
    {
     "name": "stdout",
     "output_type": "stream",
     "text": [
      "https://api.llama.fi/protocol/chainge-finance\n"
     ]
    },
    {
     "name": "stderr",
     "output_type": "stream",
     "text": [
      "DEBUG:urllib3.connectionpool:https://api.llama.fi:443 \"GET /protocol/defisaver HTTP/1.1\" 200 73701\n"
     ]
    },
    {
     "name": "stdout",
     "output_type": "stream",
     "text": [
      "https://api.llama.fi/protocol/defisaver\n"
     ]
    },
    {
     "name": "stderr",
     "output_type": "stream",
     "text": [
      "DEBUG:urllib3.connectionpool:https://api.llama.fi:443 \"GET /protocol/stakewise HTTP/1.1\" 200 201459\n"
     ]
    },
    {
     "name": "stdout",
     "output_type": "stream",
     "text": [
      "https://api.llama.fi/protocol/stakewise\n"
     ]
    },
    {
     "name": "stderr",
     "output_type": "stream",
     "text": [
      "DEBUG:urllib3.connectionpool:https://api.llama.fi:443 \"GET /protocol/quarry HTTP/1.1\" 200 737330\n"
     ]
    },
    {
     "name": "stdout",
     "output_type": "stream",
     "text": [
      "https://api.llama.fi/protocol/quarry\n"
     ]
    },
    {
     "name": "stderr",
     "output_type": "stream",
     "text": [
      "DEBUG:urllib3.connectionpool:https://api.llama.fi:443 \"GET /protocol/mango-markets HTTP/1.1\" 200 557324\n"
     ]
    },
    {
     "name": "stdout",
     "output_type": "stream",
     "text": [
      "https://api.llama.fi/protocol/mango-markets\n"
     ]
    },
    {
     "name": "stderr",
     "output_type": "stream",
     "text": [
      "DEBUG:urllib3.connectionpool:https://api.llama.fi:443 \"GET /protocol/mento HTTP/1.1\" 200 181431\n"
     ]
    },
    {
     "name": "stdout",
     "output_type": "stream",
     "text": [
      "https://api.llama.fi/protocol/mento\n"
     ]
    },
    {
     "name": "stderr",
     "output_type": "stream",
     "text": [
      "DEBUG:urllib3.connectionpool:https://api.llama.fi:443 \"GET /protocol/alchemix HTTP/1.1\" 200 306612\n"
     ]
    },
    {
     "name": "stdout",
     "output_type": "stream",
     "text": [
      "https://api.llama.fi/protocol/alchemix\n"
     ]
    },
    {
     "name": "stderr",
     "output_type": "stream",
     "text": [
      "DEBUG:urllib3.connectionpool:https://api.llama.fi:443 \"GET /protocol/stakedao HTTP/1.1\" 200 1038930\n"
     ]
    },
    {
     "name": "stdout",
     "output_type": "stream",
     "text": [
      "https://api.llama.fi/protocol/stakedao\n"
     ]
    },
    {
     "name": "stderr",
     "output_type": "stream",
     "text": [
      "DEBUG:urllib3.connectionpool:https://api.llama.fi:443 \"GET /protocol/velodrome HTTP/1.1\" 200 138652\n"
     ]
    },
    {
     "name": "stdout",
     "output_type": "stream",
     "text": [
      "https://api.llama.fi/protocol/velodrome\n"
     ]
    },
    {
     "name": "stderr",
     "output_type": "stream",
     "text": [
      "DEBUG:urllib3.connectionpool:https://api.llama.fi:443 \"GET /protocol/benqi-staked-avax HTTP/1.1\" 200 57496\n"
     ]
    },
    {
     "name": "stdout",
     "output_type": "stream",
     "text": [
      "https://api.llama.fi/protocol/benqi-staked-avax\n"
     ]
    },
    {
     "name": "stderr",
     "output_type": "stream",
     "text": [
      "DEBUG:urllib3.connectionpool:https://api.llama.fi:443 \"GET /protocol/dodo HTTP/1.1\" 307 0\n",
      "DEBUG:urllib3.connectionpool:Resetting dropped connection: defillama-datasets.s3.eu-central-1.amazonaws.com\n",
      "DEBUG:urllib3.connectionpool:https://defillama-datasets.s3.eu-central-1.amazonaws.com:443 \"GET /temp/protocol-DODO.json HTTP/1.1\" 200 5726792\n"
     ]
    },
    {
     "name": "stdout",
     "output_type": "stream",
     "text": [
      "https://api.llama.fi/protocol/dodo\n"
     ]
    },
    {
     "name": "stderr",
     "output_type": "stream",
     "text": [
      "DEBUG:urllib3.connectionpool:https://api.llama.fi:443 \"GET /protocol/neutrino HTTP/1.1\" 200 99479\n"
     ]
    },
    {
     "name": "stdout",
     "output_type": "stream",
     "text": [
      "https://api.llama.fi/protocol/neutrino\n"
     ]
    },
    {
     "name": "stderr",
     "output_type": "stream",
     "text": [
      "DEBUG:urllib3.connectionpool:https://api.llama.fi:443 \"GET /protocol/kava-lend HTTP/1.1\" 200 549930\n"
     ]
    },
    {
     "name": "stdout",
     "output_type": "stream",
     "text": [
      "https://api.llama.fi/protocol/kava-lend\n"
     ]
    },
    {
     "name": "stderr",
     "output_type": "stream",
     "text": [
      "DEBUG:urllib3.connectionpool:https://api.llama.fi:443 \"GET /protocol/set-protocol HTTP/1.1\" 307 0\n",
      "DEBUG:urllib3.connectionpool:https://defillama-datasets.s3.eu-central-1.amazonaws.com:443 \"GET /temp/protocol-Set%20Protocol.json HTTP/1.1\" 200 8397263\n"
     ]
    },
    {
     "name": "stdout",
     "output_type": "stream",
     "text": [
      "https://api.llama.fi/protocol/set-protocol\n"
     ]
    },
    {
     "name": "stderr",
     "output_type": "stream",
     "text": [
      "DEBUG:urllib3.connectionpool:https://api.llama.fi:443 \"GET /protocol/stakehound HTTP/1.1\" 200 180294\n"
     ]
    },
    {
     "name": "stdout",
     "output_type": "stream",
     "text": [
      "https://api.llama.fi/protocol/stakehound\n"
     ]
    },
    {
     "name": "stderr",
     "output_type": "stream",
     "text": [
      "DEBUG:urllib3.connectionpool:https://api.llama.fi:443 \"GET /protocol/sunny HTTP/1.1\" 200 514383\n"
     ]
    },
    {
     "name": "stdout",
     "output_type": "stream",
     "text": [
      "https://api.llama.fi/protocol/sunny\n"
     ]
    },
    {
     "name": "stderr",
     "output_type": "stream",
     "text": [
      "DEBUG:urllib3.connectionpool:https://api.llama.fi:443 \"GET /protocol/allbridge HTTP/1.1\" 200 1791328\n"
     ]
    },
    {
     "name": "stdout",
     "output_type": "stream",
     "text": [
      "https://api.llama.fi/protocol/allbridge\n"
     ]
    },
    {
     "name": "stderr",
     "output_type": "stream",
     "text": [
      "DEBUG:urllib3.connectionpool:https://api.llama.fi:443 \"GET /protocol/ankr HTTP/1.1\" 200 323688\n"
     ]
    },
    {
     "name": "stdout",
     "output_type": "stream",
     "text": [
      "https://api.llama.fi/protocol/ankr\n"
     ]
    },
    {
     "name": "stderr",
     "output_type": "stream",
     "text": [
      "DEBUG:urllib3.connectionpool:https://api.llama.fi:443 \"GET /protocol/badger-dao HTTP/1.1\" 200 100537\n"
     ]
    },
    {
     "name": "stdout",
     "output_type": "stream",
     "text": [
      "https://api.llama.fi/protocol/badger-dao\n"
     ]
    },
    {
     "name": "stderr",
     "output_type": "stream",
     "text": [
      "DEBUG:urllib3.connectionpool:https://api.llama.fi:443 \"GET /protocol/dxsale HTTP/1.1\" 200 226513\n"
     ]
    },
    {
     "name": "stdout",
     "output_type": "stream",
     "text": [
      "https://api.llama.fi/protocol/dxsale\n"
     ]
    },
    {
     "name": "stderr",
     "output_type": "stream",
     "text": [
      "DEBUG:urllib3.connectionpool:https://api.llama.fi:443 \"GET /protocol/ferro HTTP/1.1\" 200 48833\n"
     ]
    },
    {
     "name": "stdout",
     "output_type": "stream",
     "text": [
      "https://api.llama.fi/protocol/ferro\n"
     ]
    },
    {
     "name": "stderr",
     "output_type": "stream",
     "text": [
      "DEBUG:urllib3.connectionpool:https://api.llama.fi:443 \"GET /protocol/vector-finance HTTP/1.1\" 200 314763\n"
     ]
    },
    {
     "name": "stdout",
     "output_type": "stream",
     "text": [
      "https://api.llama.fi/protocol/vector-finance\n"
     ]
    },
    {
     "name": "stderr",
     "output_type": "stream",
     "text": [
      "DEBUG:urllib3.connectionpool:https://api.llama.fi:443 \"GET /protocol/notional HTTP/1.1\" 200 352286\n"
     ]
    },
    {
     "name": "stdout",
     "output_type": "stream",
     "text": [
      "https://api.llama.fi/protocol/notional\n"
     ]
    },
    {
     "name": "stderr",
     "output_type": "stream",
     "text": [
      "DEBUG:urllib3.connectionpool:https://api.llama.fi:443 \"GET /protocol/lightning-network HTTP/1.1\" 200 113882\n"
     ]
    },
    {
     "name": "stdout",
     "output_type": "stream",
     "text": [
      "https://api.llama.fi/protocol/lightning-network\n"
     ]
    },
    {
     "name": "stderr",
     "output_type": "stream",
     "text": [
      "DEBUG:urllib3.connectionpool:https://api.llama.fi:443 \"GET /protocol/sablier-finance HTTP/1.1\" 200 2119996\n"
     ]
    },
    {
     "name": "stdout",
     "output_type": "stream",
     "text": [
      "https://api.llama.fi/protocol/sablier-finance\n"
     ]
    },
    {
     "name": "stderr",
     "output_type": "stream",
     "text": [
      "DEBUG:urllib3.connectionpool:https://api.llama.fi:443 \"GET /protocol/terra-bridge HTTP/1.1\" 200 257097\n"
     ]
    },
    {
     "name": "stdout",
     "output_type": "stream",
     "text": [
      "https://api.llama.fi/protocol/terra-bridge\n"
     ]
    },
    {
     "name": "stderr",
     "output_type": "stream",
     "text": [
      "DEBUG:urllib3.connectionpool:https://api.llama.fi:443 \"GET /protocol/bastion HTTP/1.1\" 200 283990\n"
     ]
    },
    {
     "name": "stdout",
     "output_type": "stream",
     "text": [
      "https://api.llama.fi/protocol/bastion\n"
     ]
    },
    {
     "name": "stderr",
     "output_type": "stream",
     "text": [
      "DEBUG:urllib3.connectionpool:https://api.llama.fi:443 \"GET /protocol/tranchess HTTP/1.1\" 200 246358\n"
     ]
    },
    {
     "name": "stdout",
     "output_type": "stream",
     "text": [
      "https://api.llama.fi/protocol/tranchess\n"
     ]
    },
    {
     "name": "stderr",
     "output_type": "stream",
     "text": [
      "DEBUG:urllib3.connectionpool:https://api.llama.fi:443 \"GET /protocol/concentrator HTTP/1.1\" 200 248618\n"
     ]
    },
    {
     "name": "stdout",
     "output_type": "stream",
     "text": [
      "https://api.llama.fi/protocol/concentrator\n"
     ]
    },
    {
     "name": "stderr",
     "output_type": "stream",
     "text": [
      "DEBUG:urllib3.connectionpool:https://api.llama.fi:443 \"GET /protocol/opyn HTTP/1.1\" 200 539890\n"
     ]
    },
    {
     "name": "stdout",
     "output_type": "stream",
     "text": [
      "https://api.llama.fi/protocol/opyn\n"
     ]
    },
    {
     "name": "stderr",
     "output_type": "stream",
     "text": [
      "DEBUG:urllib3.connectionpool:https://api.llama.fi:443 \"GET /protocol/tokemak HTTP/1.1\" 200 722545\n"
     ]
    },
    {
     "name": "stdout",
     "output_type": "stream",
     "text": [
      "https://api.llama.fi/protocol/tokemak\n"
     ]
    },
    {
     "name": "stderr",
     "output_type": "stream",
     "text": [
      "DEBUG:urllib3.connectionpool:https://api.llama.fi:443 \"GET /protocol/radiant HTTP/1.1\" 200 33743\n"
     ]
    },
    {
     "name": "stdout",
     "output_type": "stream",
     "text": [
      "https://api.llama.fi/protocol/radiant\n"
     ]
    },
    {
     "name": "stderr",
     "output_type": "stream",
     "text": [
      "DEBUG:urllib3.connectionpool:https://api.llama.fi:443 \"GET /protocol/acala-dollar HTTP/1.1\" 200 16916\n"
     ]
    },
    {
     "name": "stdout",
     "output_type": "stream",
     "text": [
      "https://api.llama.fi/protocol/acala-dollar\n"
     ]
    },
    {
     "name": "stderr",
     "output_type": "stream",
     "text": [
      "DEBUG:urllib3.connectionpool:https://api.llama.fi:443 \"GET /protocol/mm-finance HTTP/1.1\" 200 421296\n"
     ]
    },
    {
     "name": "stdout",
     "output_type": "stream",
     "text": [
      "https://api.llama.fi/protocol/mm-finance\n"
     ]
    },
    {
     "name": "stderr",
     "output_type": "stream",
     "text": [
      "DEBUG:urllib3.connectionpool:https://api.llama.fi:443 \"GET /protocol/algofi HTTP/1.1\" 200 216065\n"
     ]
    },
    {
     "name": "stdout",
     "output_type": "stream",
     "text": [
      "https://api.llama.fi/protocol/algofi\n"
     ]
    },
    {
     "name": "stderr",
     "output_type": "stream",
     "text": [
      "DEBUG:urllib3.connectionpool:https://api.llama.fi:443 \"GET /protocol/temple-dao HTTP/1.1\" 200 248022\n"
     ]
    },
    {
     "name": "stdout",
     "output_type": "stream",
     "text": [
      "https://api.llama.fi/protocol/temple-dao\n"
     ]
    },
    {
     "name": "stderr",
     "output_type": "stream",
     "text": [
      "DEBUG:urllib3.connectionpool:https://api.llama.fi:443 \"GET /protocol/index-coop HTTP/1.1\" 200 367885\n"
     ]
    },
    {
     "name": "stdout",
     "output_type": "stream",
     "text": [
      "https://api.llama.fi/protocol/index-coop\n"
     ]
    },
    {
     "name": "stderr",
     "output_type": "stream",
     "text": [
      "DEBUG:urllib3.connectionpool:https://api.llama.fi:443 \"GET /protocol/wrapped-bnb HTTP/1.1\" 200 48820\n"
     ]
    },
    {
     "name": "stdout",
     "output_type": "stream",
     "text": [
      "https://api.llama.fi/protocol/wrapped-bnb\n"
     ]
    },
    {
     "name": "stderr",
     "output_type": "stream",
     "text": [
      "DEBUG:urllib3.connectionpool:https://api.llama.fi:443 \"GET /protocol/idle-finance HTTP/1.1\" 200 404028\n"
     ]
    },
    {
     "name": "stdout",
     "output_type": "stream",
     "text": [
      "https://api.llama.fi/protocol/idle-finance\n"
     ]
    },
    {
     "name": "stderr",
     "output_type": "stream",
     "text": [
      "DEBUG:urllib3.connectionpool:https://api.llama.fi:443 \"GET /protocol/chainport HTTP/1.1\" 200 28312\n"
     ]
    },
    {
     "name": "stdout",
     "output_type": "stream",
     "text": [
      "https://api.llama.fi/protocol/chainport\n"
     ]
    },
    {
     "name": "stderr",
     "output_type": "stream",
     "text": [
      "DEBUG:urllib3.connectionpool:https://api.llama.fi:443 \"GET /protocol/folks-finance HTTP/1.1\" 200 76666\n"
     ]
    },
    {
     "name": "stdout",
     "output_type": "stream",
     "text": [
      "https://api.llama.fi/protocol/folks-finance\n"
     ]
    },
    {
     "name": "stderr",
     "output_type": "stream",
     "text": [
      "DEBUG:urllib3.connectionpool:https://api.llama.fi:443 \"GET /protocol/ellipsis-finance HTTP/1.1\" 200 202613\n"
     ]
    },
    {
     "name": "stdout",
     "output_type": "stream",
     "text": [
      "https://api.llama.fi/protocol/ellipsis-finance\n"
     ]
    },
    {
     "name": "stderr",
     "output_type": "stream",
     "text": [
      "DEBUG:urllib3.connectionpool:https://api.llama.fi:443 \"GET /protocol/orca HTTP/1.1\" 200 195001\n"
     ]
    },
    {
     "name": "stdout",
     "output_type": "stream",
     "text": [
      "https://api.llama.fi/protocol/orca\n"
     ]
    },
    {
     "name": "stderr",
     "output_type": "stream",
     "text": [
      "DEBUG:urllib3.connectionpool:https://api.llama.fi:443 \"GET /protocol/ribbon-finance HTTP/1.1\" 200 411628\n"
     ]
    },
    {
     "name": "stdout",
     "output_type": "stream",
     "text": [
      "https://api.llama.fi/protocol/ribbon-finance\n"
     ]
    },
    {
     "name": "stderr",
     "output_type": "stream",
     "text": [
      "DEBUG:urllib3.connectionpool:https://api.llama.fi:443 \"GET /protocol/katana-dex HTTP/1.1\" 200 137635\n"
     ]
    },
    {
     "name": "stdout",
     "output_type": "stream",
     "text": [
      "https://api.llama.fi/protocol/katana-dex\n"
     ]
    },
    {
     "name": "stderr",
     "output_type": "stream",
     "text": [
      "DEBUG:urllib3.connectionpool:https://api.llama.fi:443 \"GET /protocol/qidao HTTP/1.1\" 200 1334672\n"
     ]
    },
    {
     "name": "stdout",
     "output_type": "stream",
     "text": [
      "https://api.llama.fi/protocol/qidao\n"
     ]
    },
    {
     "name": "stderr",
     "output_type": "stream",
     "text": [
      "DEBUG:urllib3.connectionpool:https://api.llama.fi:443 \"GET /protocol/saber HTTP/1.1\" 200 685590\n"
     ]
    },
    {
     "name": "stdout",
     "output_type": "stream",
     "text": [
      "https://api.llama.fi/protocol/saber\n"
     ]
    },
    {
     "name": "stderr",
     "output_type": "stream",
     "text": [
      "DEBUG:urllib3.connectionpool:https://api.llama.fi:443 \"GET /protocol/angle HTTP/1.1\" 200 222868\n"
     ]
    },
    {
     "name": "stdout",
     "output_type": "stream",
     "text": [
      "https://api.llama.fi/protocol/angle\n"
     ]
    },
    {
     "name": "stderr",
     "output_type": "stream",
     "text": [
      "DEBUG:urllib3.connectionpool:https://api.llama.fi:443 \"GET /protocol/yeti-finance HTTP/1.1\" 200 104130\n"
     ]
    },
    {
     "name": "stdout",
     "output_type": "stream",
     "text": [
      "https://api.llama.fi/protocol/yeti-finance\n"
     ]
    },
    {
     "name": "stderr",
     "output_type": "stream",
     "text": [
      "DEBUG:urllib3.connectionpool:https://api.llama.fi:443 \"GET /protocol/benddao HTTP/1.1\" 200 61473\n"
     ]
    },
    {
     "name": "stdout",
     "output_type": "stream",
     "text": [
      "https://api.llama.fi/protocol/benddao\n"
     ]
    },
    {
     "name": "stderr",
     "output_type": "stream",
     "text": [
      "DEBUG:urllib3.connectionpool:https://api.llama.fi:443 \"GET /protocol/parallel-daofi HTTP/1.1\" 502 36\n"
     ]
    },
    {
     "name": "stdout",
     "output_type": "stream",
     "text": [
      "err\n"
     ]
    },
    {
     "name": "stderr",
     "output_type": "stream",
     "text": [
      "DEBUG:urllib3.connectionpool:https://api.llama.fi:443 \"GET /protocol/meshswap HTTP/1.1\" 200 63547\n"
     ]
    },
    {
     "name": "stdout",
     "output_type": "stream",
     "text": [
      "https://api.llama.fi/protocol/meshswap\n"
     ]
    },
    {
     "name": "stderr",
     "output_type": "stream",
     "text": [
      "DEBUG:urllib3.connectionpool:https://api.llama.fi:443 \"GET /protocol/parallel-lending HTTP/1.1\" 502 36\n"
     ]
    },
    {
     "name": "stdout",
     "output_type": "stream",
     "text": [
      "err\n"
     ]
    },
    {
     "name": "stderr",
     "output_type": "stream",
     "text": [
      "DEBUG:urllib3.connectionpool:https://api.llama.fi:443 \"GET /protocol/stader HTTP/1.1\" 200 152074\n"
     ]
    },
    {
     "name": "stdout",
     "output_type": "stream",
     "text": [
      "https://api.llama.fi/protocol/stader\n"
     ]
    },
    {
     "name": "stderr",
     "output_type": "stream",
     "text": [
      "DEBUG:urllib3.connectionpool:https://api.llama.fi:443 \"GET /protocol/yield-yak HTTP/1.1\" 200 1700300\n"
     ]
    },
    {
     "name": "stdout",
     "output_type": "stream",
     "text": [
      "https://api.llama.fi/protocol/yield-yak\n"
     ]
    },
    {
     "name": "stderr",
     "output_type": "stream",
     "text": [
      "DEBUG:urllib3.connectionpool:https://api.llama.fi:443 \"GET /protocol/bifrost HTTP/1.1\" 200 86894\n"
     ]
    },
    {
     "name": "stdout",
     "output_type": "stream",
     "text": [
      "https://api.llama.fi/protocol/bifrost\n"
     ]
    },
    {
     "name": "stderr",
     "output_type": "stream",
     "text": [
      "DEBUG:urllib3.connectionpool:https://api.llama.fi:443 \"GET /protocol/apeswap-amm HTTP/1.1\" 307 0\n",
      "DEBUG:urllib3.connectionpool:Resetting dropped connection: defillama-datasets.s3.eu-central-1.amazonaws.com\n",
      "DEBUG:urllib3.connectionpool:https://defillama-datasets.s3.eu-central-1.amazonaws.com:443 \"GET /temp/protocol-ApeSwap%20AMM.json HTTP/1.1\" 200 15281113\n"
     ]
    },
    {
     "name": "stdout",
     "output_type": "stream",
     "text": [
      "https://api.llama.fi/protocol/apeswap-amm\n"
     ]
    },
    {
     "name": "stderr",
     "output_type": "stream",
     "text": [
      "DEBUG:urllib3.connectionpool:https://api.llama.fi:443 \"GET /protocol/francium HTTP/1.1\" 200 35106\n"
     ]
    },
    {
     "name": "stdout",
     "output_type": "stream",
     "text": [
      "https://api.llama.fi/protocol/francium\n"
     ]
    },
    {
     "name": "stderr",
     "output_type": "stream",
     "text": [
      "DEBUG:urllib3.connectionpool:https://api.llama.fi:443 \"GET /protocol/pnetwork HTTP/1.1\" 200 467574\n"
     ]
    },
    {
     "name": "stdout",
     "output_type": "stream",
     "text": [
      "https://api.llama.fi/protocol/pnetwork\n"
     ]
    },
    {
     "name": "stderr",
     "output_type": "stream",
     "text": [
      "DEBUG:urllib3.connectionpool:https://api.llama.fi:443 \"GET /protocol/homora HTTP/1.1\" 200 586112\n"
     ]
    },
    {
     "name": "stdout",
     "output_type": "stream",
     "text": [
      "https://api.llama.fi/protocol/homora\n"
     ]
    },
    {
     "name": "stderr",
     "output_type": "stream",
     "text": [
      "DEBUG:urllib3.connectionpool:https://api.llama.fi:443 \"GET /protocol/burrow HTTP/1.1\" 200 323129\n"
     ]
    },
    {
     "name": "stdout",
     "output_type": "stream",
     "text": [
      "https://api.llama.fi/protocol/burrow\n"
     ]
    },
    {
     "name": "stderr",
     "output_type": "stream",
     "text": [
      "DEBUG:urllib3.connectionpool:https://api.llama.fi:443 \"GET /protocol/beethoven-x HTTP/1.1\" 200 109629\n"
     ]
    },
    {
     "name": "stdout",
     "output_type": "stream",
     "text": [
      "https://api.llama.fi/protocol/beethoven-x\n"
     ]
    },
    {
     "name": "stderr",
     "output_type": "stream",
     "text": [
      "DEBUG:urllib3.connectionpool:https://api.llama.fi:443 \"GET /protocol/shibaswap HTTP/1.1\" 200 3152147\n"
     ]
    },
    {
     "name": "stdout",
     "output_type": "stream",
     "text": [
      "https://api.llama.fi/protocol/shibaswap\n"
     ]
    },
    {
     "name": "stderr",
     "output_type": "stream",
     "text": [
      "DEBUG:urllib3.connectionpool:https://api.llama.fi:443 \"GET /protocol/acala-liquid-staking HTTP/1.1\" 200 16899\n"
     ]
    },
    {
     "name": "stdout",
     "output_type": "stream",
     "text": [
      "https://api.llama.fi/protocol/acala-liquid-staking\n"
     ]
    },
    {
     "name": "stderr",
     "output_type": "stream",
     "text": [
      "DEBUG:urllib3.connectionpool:https://api.llama.fi:443 \"GET /protocol/eos-rex HTTP/1.1\" 200 54055\n"
     ]
    },
    {
     "name": "stdout",
     "output_type": "stream",
     "text": [
      "https://api.llama.fi/protocol/eos-rex\n"
     ]
    },
    {
     "name": "stderr",
     "output_type": "stream",
     "text": [
      "DEBUG:urllib3.connectionpool:https://api.llama.fi:443 \"GET /protocol/nomiswap HTTP/1.1\" 200 245893\n"
     ]
    },
    {
     "name": "stdout",
     "output_type": "stream",
     "text": [
      "https://api.llama.fi/protocol/nomiswap\n"
     ]
    },
    {
     "name": "stderr",
     "output_type": "stream",
     "text": [
      "DEBUG:urllib3.connectionpool:https://api.llama.fi:443 \"GET /protocol/autofarm HTTP/1.1\" 200 254981\n"
     ]
    },
    {
     "name": "stdout",
     "output_type": "stream",
     "text": [
      "https://api.llama.fi/protocol/autofarm\n"
     ]
    },
    {
     "name": "stderr",
     "output_type": "stream",
     "text": [
      "DEBUG:urllib3.connectionpool:https://api.llama.fi:443 \"GET /protocol/pooltogether HTTP/1.1\" 200 1562291\n"
     ]
    },
    {
     "name": "stdout",
     "output_type": "stream",
     "text": [
      "https://api.llama.fi/protocol/pooltogether\n"
     ]
    },
    {
     "name": "stderr",
     "output_type": "stream",
     "text": [
      "DEBUG:urllib3.connectionpool:https://api.llama.fi:443 \"GET /protocol/injective HTTP/1.1\" 200 161683\n"
     ]
    },
    {
     "name": "stdout",
     "output_type": "stream",
     "text": [
      "https://api.llama.fi/protocol/injective\n"
     ]
    },
    {
     "name": "stderr",
     "output_type": "stream",
     "text": [
      "DEBUG:urllib3.connectionpool:https://api.llama.fi:443 \"GET /protocol/bunny HTTP/1.1\" 200 210577\n"
     ]
    },
    {
     "name": "stdout",
     "output_type": "stream",
     "text": [
      "https://api.llama.fi/protocol/bunny\n"
     ]
    },
    {
     "name": "stderr",
     "output_type": "stream",
     "text": [
      "DEBUG:urllib3.connectionpool:https://api.llama.fi:443 \"GET /protocol/across HTTP/1.1\" 200 159082\n"
     ]
    },
    {
     "name": "stdout",
     "output_type": "stream",
     "text": [
      "https://api.llama.fi/protocol/across\n"
     ]
    },
    {
     "name": "stderr",
     "output_type": "stream",
     "text": [
      "DEBUG:urllib3.connectionpool:https://api.llama.fi:443 \"GET /protocol/fei-protocol HTTP/1.1\" 200 393078\n"
     ]
    },
    {
     "name": "stdout",
     "output_type": "stream",
     "text": [
      "https://api.llama.fi/protocol/fei-protocol\n"
     ]
    },
    {
     "name": "stderr",
     "output_type": "stream",
     "text": [
      "DEBUG:urllib3.connectionpool:https://api.llama.fi:443 \"GET /protocol/flamincome HTTP/1.1\" 200 87817\n"
     ]
    },
    {
     "name": "stdout",
     "output_type": "stream",
     "text": [
      "https://api.llama.fi/protocol/flamincome\n"
     ]
    },
    {
     "name": "stderr",
     "output_type": "stream",
     "text": [
      "DEBUG:urllib3.connectionpool:https://api.llama.fi:443 \"GET /protocol/cream-finance HTTP/1.1\" 200 4133480\n"
     ]
    },
    {
     "name": "stdout",
     "output_type": "stream",
     "text": [
      "https://api.llama.fi/protocol/cream-finance\n"
     ]
    },
    {
     "name": "stderr",
     "output_type": "stream",
     "text": [
      "DEBUG:urllib3.connectionpool:https://api.llama.fi:443 \"GET /protocol/kyberswap HTTP/1.1\" 200 4006330\n"
     ]
    },
    {
     "name": "stdout",
     "output_type": "stream",
     "text": [
      "https://api.llama.fi/protocol/kyberswap\n"
     ]
    },
    {
     "name": "stderr",
     "output_type": "stream",
     "text": [
      "DEBUG:urllib3.connectionpool:https://api.llama.fi:443 \"GET /protocol/geist-finance HTTP/1.1\" 200 704463\n"
     ]
    },
    {
     "name": "stdout",
     "output_type": "stream",
     "text": [
      "https://api.llama.fi/protocol/geist-finance\n"
     ]
    },
    {
     "name": "stderr",
     "output_type": "stream",
     "text": [
      "DEBUG:urllib3.connectionpool:https://api.llama.fi:443 \"GET /protocol/flamingo-finance HTTP/1.1\" 200 60804\n"
     ]
    },
    {
     "name": "stdout",
     "output_type": "stream",
     "text": [
      "https://api.llama.fi/protocol/flamingo-finance\n"
     ]
    },
    {
     "name": "stderr",
     "output_type": "stream",
     "text": [
      "DEBUG:urllib3.connectionpool:https://api.llama.fi:443 \"GET /protocol/iotube HTTP/1.1\" 200 54437\n"
     ]
    },
    {
     "name": "stdout",
     "output_type": "stream",
     "text": [
      "https://api.llama.fi/protocol/iotube\n"
     ]
    },
    {
     "name": "stderr",
     "output_type": "stream",
     "text": [
      "DEBUG:urllib3.connectionpool:https://api.llama.fi:443 \"GET /protocol/hop-protocol HTTP/1.1\" 200 730569\n"
     ]
    },
    {
     "name": "stdout",
     "output_type": "stream",
     "text": [
      "https://api.llama.fi/protocol/hop-protocol\n"
     ]
    },
    {
     "name": "stderr",
     "output_type": "stream",
     "text": [
      "DEBUG:urllib3.connectionpool:https://api.llama.fi:443 \"GET /protocol/klima-dao HTTP/1.1\" 200 242939\n"
     ]
    },
    {
     "name": "stdout",
     "output_type": "stream",
     "text": [
      "https://api.llama.fi/protocol/klima-dao\n"
     ]
    },
    {
     "name": "stderr",
     "output_type": "stream",
     "text": [
      "DEBUG:urllib3.connectionpool:https://api.llama.fi:443 \"GET /protocol/reflexer HTTP/1.1\" 200 168296\n"
     ]
    },
    {
     "name": "stdout",
     "output_type": "stream",
     "text": [
      "https://api.llama.fi/protocol/reflexer\n"
     ]
    },
    {
     "name": "stderr",
     "output_type": "stream",
     "text": [
      "DEBUG:urllib3.connectionpool:https://api.llama.fi:443 \"GET /protocol/defichain-loans HTTP/1.1\" 502 36\n"
     ]
    },
    {
     "name": "stdout",
     "output_type": "stream",
     "text": [
      "err\n"
     ]
    },
    {
     "name": "stderr",
     "output_type": "stream",
     "text": [
      "DEBUG:urllib3.connectionpool:https://api.llama.fi:443 \"GET /protocol/tomb-finance HTTP/1.1\" 200 1440551\n"
     ]
    },
    {
     "name": "stdout",
     "output_type": "stream",
     "text": [
      "https://api.llama.fi/protocol/tomb-finance\n"
     ]
    },
    {
     "name": "stderr",
     "output_type": "stream",
     "text": [
      "DEBUG:urllib3.connectionpool:https://api.llama.fi:443 \"GET /protocol/friktion HTTP/1.1\" 200 387863\n"
     ]
    },
    {
     "name": "stdout",
     "output_type": "stream",
     "text": [
      "https://api.llama.fi/protocol/friktion\n"
     ]
    },
    {
     "name": "stderr",
     "output_type": "stream",
     "text": [
      "DEBUG:urllib3.connectionpool:https://api.llama.fi:443 \"GET /protocol/kokonut-swap HTTP/1.1\" 200 50664\n"
     ]
    },
    {
     "name": "stdout",
     "output_type": "stream",
     "text": [
      "https://api.llama.fi/protocol/kokonut-swap\n"
     ]
    },
    {
     "name": "stderr",
     "output_type": "stream",
     "text": [
      "DEBUG:urllib3.connectionpool:https://api.llama.fi:443 \"GET /protocol/minswap HTTP/1.1\" 200 54751\n"
     ]
    },
    {
     "name": "stdout",
     "output_type": "stream",
     "text": [
      "https://api.llama.fi/protocol/minswap\n"
     ]
    },
    {
     "name": "stderr",
     "output_type": "stream",
     "text": [
      "DEBUG:urllib3.connectionpool:https://api.llama.fi:443 \"GET /protocol/realt HTTP/1.1\" 200 85215\n"
     ]
    },
    {
     "name": "stdout",
     "output_type": "stream",
     "text": [
      "https://api.llama.fi/protocol/realt\n"
     ]
    },
    {
     "name": "stderr",
     "output_type": "stream",
     "text": [
      "DEBUG:urllib3.connectionpool:https://api.llama.fi:443 \"GET /protocol/meta-pool HTTP/1.1\" 200 104687\n"
     ]
    },
    {
     "name": "stdout",
     "output_type": "stream",
     "text": [
      "https://api.llama.fi/protocol/meta-pool\n"
     ]
    },
    {
     "name": "stderr",
     "output_type": "stream",
     "text": [
      "DEBUG:urllib3.connectionpool:https://api.llama.fi:443 \"GET /protocol/enzyme-finance HTTP/1.1\" 200 2697574\n"
     ]
    },
    {
     "name": "stdout",
     "output_type": "stream",
     "text": [
      "https://api.llama.fi/protocol/enzyme-finance\n"
     ]
    },
    {
     "name": "stderr",
     "output_type": "stream",
     "text": [
      "DEBUG:urllib3.connectionpool:https://api.llama.fi:443 \"GET /protocol/rari-capital HTTP/1.1\" 200 1753285\n"
     ]
    },
    {
     "name": "stdout",
     "output_type": "stream",
     "text": [
      "https://api.llama.fi/protocol/rari-capital\n"
     ]
    },
    {
     "name": "stderr",
     "output_type": "stream",
     "text": [
      "DEBUG:urllib3.connectionpool:https://api.llama.fi:443 \"GET /protocol/pangolin HTTP/1.1\" 200 178794\n"
     ]
    },
    {
     "name": "stdout",
     "output_type": "stream",
     "text": [
      "https://api.llama.fi/protocol/pangolin\n"
     ]
    },
    {
     "name": "stderr",
     "output_type": "stream",
     "text": [
      "DEBUG:urllib3.connectionpool:https://api.llama.fi:443 \"GET /protocol/mstable HTTP/1.1\" 200 676010\n"
     ]
    },
    {
     "name": "stdout",
     "output_type": "stream",
     "text": [
      "https://api.llama.fi/protocol/mstable\n"
     ]
    },
    {
     "name": "stderr",
     "output_type": "stream",
     "text": [
      "DEBUG:urllib3.connectionpool:https://api.llama.fi:443 \"GET /protocol/origin-dollar HTTP/1.1\" 200 230071\n"
     ]
    },
    {
     "name": "stdout",
     "output_type": "stream",
     "text": [
      "https://api.llama.fi/protocol/origin-dollar\n"
     ]
    },
    {
     "name": "stderr",
     "output_type": "stream",
     "text": [
      "DEBUG:urllib3.connectionpool:https://api.llama.fi:443 \"GET /protocol/wing-finance HTTP/1.1\" 200 331528\n"
     ]
    },
    {
     "name": "stdout",
     "output_type": "stream",
     "text": [
      "https://api.llama.fi/protocol/wing-finance\n"
     ]
    },
    {
     "name": "stderr",
     "output_type": "stream",
     "text": [
      "DEBUG:urllib3.connectionpool:https://api.llama.fi:443 \"GET /protocol/trisolaris HTTP/1.1\" 200 152834\n"
     ]
    },
    {
     "name": "stdout",
     "output_type": "stream",
     "text": [
      "https://api.llama.fi/protocol/trisolaris\n"
     ]
    },
    {
     "name": "stderr",
     "output_type": "stream",
     "text": [
      "DEBUG:urllib3.connectionpool:https://api.llama.fi:443 \"GET /protocol/element-finance HTTP/1.1\" 200 793104\n"
     ]
    },
    {
     "name": "stdout",
     "output_type": "stream",
     "text": [
      "https://api.llama.fi/protocol/element-finance\n"
     ]
    },
    {
     "name": "stderr",
     "output_type": "stream",
     "text": [
      "DEBUG:urllib3.connectionpool:https://api.llama.fi:443 \"GET /protocol/klap HTTP/1.1\" 200 68950\n"
     ]
    },
    {
     "name": "stdout",
     "output_type": "stream",
     "text": [
      "https://api.llama.fi/protocol/klap\n"
     ]
    },
    {
     "name": "stderr",
     "output_type": "stream",
     "text": [
      "DEBUG:urllib3.connectionpool:https://api.llama.fi:443 \"GET /protocol/mojitoswap HTTP/1.1\" 200 149645\n"
     ]
    },
    {
     "name": "stdout",
     "output_type": "stream",
     "text": [
      "https://api.llama.fi/protocol/mojitoswap\n"
     ]
    },
    {
     "name": "stderr",
     "output_type": "stream",
     "text": [
      "DEBUG:urllib3.connectionpool:https://api.llama.fi:443 \"GET /protocol/saddle-finance HTTP/1.1\" 200 642743\n"
     ]
    },
    {
     "name": "stdout",
     "output_type": "stream",
     "text": [
      "https://api.llama.fi/protocol/saddle-finance\n"
     ]
    },
    {
     "name": "stderr",
     "output_type": "stream",
     "text": [
      "DEBUG:urllib3.connectionpool:https://api.llama.fi:443 \"GET /protocol/jpool HTTP/1.1\" 200 72213\n"
     ]
    },
    {
     "name": "stdout",
     "output_type": "stream",
     "text": [
      "https://api.llama.fi/protocol/jpool\n"
     ]
    },
    {
     "name": "stderr",
     "output_type": "stream",
     "text": [
      "DEBUG:urllib3.connectionpool:https://api.llama.fi:443 \"GET /protocol/octus-bridge HTTP/1.1\" 200 336773\n"
     ]
    },
    {
     "name": "stdout",
     "output_type": "stream",
     "text": [
      "https://api.llama.fi/protocol/octus-bridge\n"
     ]
    },
    {
     "name": "stderr",
     "output_type": "stream",
     "text": [
      "DEBUG:urllib3.connectionpool:https://api.llama.fi:443 \"GET /protocol/puddingswap HTTP/1.1\" 200 35220\n"
     ]
    },
    {
     "name": "stdout",
     "output_type": "stream",
     "text": [
      "https://api.llama.fi/protocol/puddingswap\n"
     ]
    },
    {
     "name": "stderr",
     "output_type": "stream",
     "text": [
      "DEBUG:urllib3.connectionpool:https://api.llama.fi:443 \"GET /protocol/moonwell-apollo HTTP/1.1\" 200 131567\n"
     ]
    },
    {
     "name": "stdout",
     "output_type": "stream",
     "text": [
      "https://api.llama.fi/protocol/moonwell-apollo\n"
     ]
    },
    {
     "name": "stderr",
     "output_type": "stream",
     "text": [
      "DEBUG:urllib3.connectionpool:https://api.llama.fi:443 \"GET /protocol/belt-finance HTTP/1.1\" 200 560087\n"
     ]
    },
    {
     "name": "stdout",
     "output_type": "stream",
     "text": [
      "https://api.llama.fi/protocol/belt-finance\n"
     ]
    },
    {
     "name": "stderr",
     "output_type": "stream",
     "text": [
      "DEBUG:urllib3.connectionpool:https://api.llama.fi:443 \"GET /protocol/toucan-protocol HTTP/1.1\" 200 3307\n"
     ]
    },
    {
     "name": "stdout",
     "output_type": "stream",
     "text": [
      "https://api.llama.fi/protocol/toucan-protocol\n"
     ]
    },
    {
     "name": "stderr",
     "output_type": "stream",
     "text": [
      "DEBUG:urllib3.connectionpool:https://api.llama.fi:443 \"GET /protocol/flatqube HTTP/1.1\" 502 36\n"
     ]
    },
    {
     "name": "stdout",
     "output_type": "stream",
     "text": [
      "err\n"
     ]
    },
    {
     "name": "stderr",
     "output_type": "stream",
     "text": [
      "DEBUG:urllib3.connectionpool:https://api.llama.fi:443 \"GET /protocol/spool-protocol HTTP/1.1\" 200 86517\n"
     ]
    },
    {
     "name": "stdout",
     "output_type": "stream",
     "text": [
      "https://api.llama.fi/protocol/spool-protocol\n"
     ]
    },
    {
     "name": "stderr",
     "output_type": "stream",
     "text": [
      "DEBUG:urllib3.connectionpool:https://api.llama.fi:443 \"GET /protocol/valas-finance HTTP/1.1\" 200 350577\n"
     ]
    },
    {
     "name": "stdout",
     "output_type": "stream",
     "text": [
      "https://api.llama.fi/protocol/valas-finance\n"
     ]
    },
    {
     "name": "stderr",
     "output_type": "stream",
     "text": [
      "DEBUG:urllib3.connectionpool:https://api.llama.fi:443 \"GET /protocol/dot-dot-finance HTTP/1.1\" 200 42398\n"
     ]
    },
    {
     "name": "stdout",
     "output_type": "stream",
     "text": [
      "https://api.llama.fi/protocol/dot-dot-finance\n"
     ]
    },
    {
     "name": "stderr",
     "output_type": "stream",
     "text": [
      "DEBUG:urllib3.connectionpool:https://api.llama.fi:443 \"GET /protocol/vesper HTTP/1.1\" 200 489047\n"
     ]
    },
    {
     "name": "stdout",
     "output_type": "stream",
     "text": [
      "https://api.llama.fi/protocol/vesper\n"
     ]
    },
    {
     "name": "stderr",
     "output_type": "stream",
     "text": [
      "DEBUG:urllib3.connectionpool:https://api.llama.fi:443 \"GET /protocol/babyswap HTTP/1.1\" 200 1468258\n"
     ]
    },
    {
     "name": "stdout",
     "output_type": "stream",
     "text": [
      "https://api.llama.fi/protocol/babyswap\n"
     ]
    },
    {
     "name": "stderr",
     "output_type": "stream",
     "text": [
      "DEBUG:urllib3.connectionpool:https://api.llama.fi:443 \"GET /protocol/larix HTTP/1.1\" 200 347783\n"
     ]
    },
    {
     "name": "stdout",
     "output_type": "stream",
     "text": [
      "https://api.llama.fi/protocol/larix\n"
     ]
    },
    {
     "name": "stderr",
     "output_type": "stream",
     "text": [
      "DEBUG:urllib3.connectionpool:https://api.llama.fi:443 \"GET /protocol/moneyonchain HTTP/1.1\" 200 61530\n"
     ]
    },
    {
     "name": "stdout",
     "output_type": "stream",
     "text": [
      "https://api.llama.fi/protocol/moneyonchain\n"
     ]
    },
    {
     "name": "stderr",
     "output_type": "stream",
     "text": [
      "DEBUG:urllib3.connectionpool:https://api.llama.fi:443 \"GET /protocol/knightswap-finance HTTP/1.1\" 200 1003583\n"
     ]
    },
    {
     "name": "stdout",
     "output_type": "stream",
     "text": [
      "https://api.llama.fi/protocol/knightswap-finance\n"
     ]
    },
    {
     "name": "stderr",
     "output_type": "stream",
     "text": [
      "DEBUG:urllib3.connectionpool:https://api.llama.fi:443 \"GET /protocol/swim-protocol HTTP/1.1\" 200 84181\n"
     ]
    },
    {
     "name": "stdout",
     "output_type": "stream",
     "text": [
      "https://api.llama.fi/protocol/swim-protocol\n"
     ]
    },
    {
     "name": "stderr",
     "output_type": "stream",
     "text": [
      "DEBUG:urllib3.connectionpool:https://api.llama.fi:443 \"GET /protocol/tokensfarm HTTP/1.1\" 200 103214\n"
     ]
    },
    {
     "name": "stdout",
     "output_type": "stream",
     "text": [
      "https://api.llama.fi/protocol/tokensfarm\n"
     ]
    },
    {
     "name": "stderr",
     "output_type": "stream",
     "text": [
      "DEBUG:urllib3.connectionpool:https://api.llama.fi:443 \"GET /protocol/spiritswap HTTP/1.1\" 307 0\n",
      "DEBUG:urllib3.connectionpool:Resetting dropped connection: defillama-datasets.s3.eu-central-1.amazonaws.com\n",
      "DEBUG:urllib3.connectionpool:https://defillama-datasets.s3.eu-central-1.amazonaws.com:443 \"GET /temp/protocol-SpiritSwap.json HTTP/1.1\" 200 69942509\n"
     ]
    },
    {
     "name": "stdout",
     "output_type": "stream",
     "text": [
      "https://api.llama.fi/protocol/spiritswap\n"
     ]
    },
    {
     "name": "stderr",
     "output_type": "stream",
     "text": [
      "DEBUG:urllib3.connectionpool:https://api.llama.fi:443 \"GET /protocol/aave-v1 HTTP/1.1\" 200 3169801\n"
     ]
    },
    {
     "name": "stdout",
     "output_type": "stream",
     "text": [
      "https://api.llama.fi/protocol/aave-v1\n"
     ]
    },
    {
     "name": "stderr",
     "output_type": "stream",
     "text": [
      "DEBUG:urllib3.connectionpool:https://api.llama.fi:443 \"GET /protocol/parrot-protocol HTTP/1.1\" 200 329529\n"
     ]
    },
    {
     "name": "stdout",
     "output_type": "stream",
     "text": [
      "https://api.llama.fi/protocol/parrot-protocol\n"
     ]
    },
    {
     "name": "stderr",
     "output_type": "stream",
     "text": [
      "DEBUG:urllib3.connectionpool:https://api.llama.fi:443 \"GET /protocol/dforce HTTP/1.1\" 200 937144\n"
     ]
    },
    {
     "name": "stdout",
     "output_type": "stream",
     "text": [
      "https://api.llama.fi/protocol/dforce\n"
     ]
    },
    {
     "name": "stderr",
     "output_type": "stream",
     "text": [
      "DEBUG:urllib3.connectionpool:https://api.llama.fi:443 \"GET /protocol/liquid-driver HTTP/1.1\" 200 1031943\n"
     ]
    },
    {
     "name": "stdout",
     "output_type": "stream",
     "text": [
      "https://api.llama.fi/protocol/liquid-driver\n"
     ]
    },
    {
     "name": "stderr",
     "output_type": "stream",
     "text": [
      "DEBUG:urllib3.connectionpool:https://api.llama.fi:443 \"GET /protocol/klaystation HTTP/1.1\" 200 16321\n"
     ]
    },
    {
     "name": "stdout",
     "output_type": "stream",
     "text": [
      "https://api.llama.fi/protocol/klaystation\n"
     ]
    },
    {
     "name": "stderr",
     "output_type": "stream",
     "text": [
      "DEBUG:urllib3.connectionpool:https://api.llama.fi:443 \"GET /protocol/spartacus HTTP/1.1\" 200 215104\n"
     ]
    },
    {
     "name": "stdout",
     "output_type": "stream",
     "text": [
      "https://api.llama.fi/protocol/spartacus\n"
     ]
    },
    {
     "name": "stderr",
     "output_type": "stream",
     "text": [
      "DEBUG:urllib3.connectionpool:https://api.llama.fi:443 \"GET /protocol/waves-exchange HTTP/1.1\" 200 818032\n"
     ]
    },
    {
     "name": "stdout",
     "output_type": "stream",
     "text": [
      "https://api.llama.fi/protocol/waves-exchange\n"
     ]
    },
    {
     "name": "stderr",
     "output_type": "stream",
     "text": [
      "DEBUG:urllib3.connectionpool:https://api.llama.fi:443 \"GET /protocol/keep-network HTTP/1.1\" 200 123246\n"
     ]
    },
    {
     "name": "stdout",
     "output_type": "stream",
     "text": [
      "https://api.llama.fi/protocol/keep-network\n"
     ]
    },
    {
     "name": "stderr",
     "output_type": "stream",
     "text": [
      "DEBUG:urllib3.connectionpool:https://api.llama.fi:443 \"GET /protocol/metronome HTTP/1.1\" 200 134367\n"
     ]
    },
    {
     "name": "stdout",
     "output_type": "stream",
     "text": [
      "https://api.llama.fi/protocol/metronome\n"
     ]
    },
    {
     "name": "stderr",
     "output_type": "stream",
     "text": [
      "DEBUG:urllib3.connectionpool:https://api.llama.fi:443 \"GET /protocol/sicx HTTP/1.1\" 200 38348\n"
     ]
    },
    {
     "name": "stdout",
     "output_type": "stream",
     "text": [
      "https://api.llama.fi/protocol/sicx\n"
     ]
    },
    {
     "name": "stderr",
     "output_type": "stream",
     "text": [
      "DEBUG:urllib3.connectionpool:https://api.llama.fi:443 \"GET /protocol/dopex HTTP/1.1\" 200 620796\n"
     ]
    },
    {
     "name": "stdout",
     "output_type": "stream",
     "text": [
      "https://api.llama.fi/protocol/dopex\n"
     ]
    },
    {
     "name": "stderr",
     "output_type": "stream",
     "text": [
      "DEBUG:urllib3.connectionpool:https://api.llama.fi:443 \"GET /protocol/hashflow HTTP/1.1\" 200 153771\n"
     ]
    },
    {
     "name": "stdout",
     "output_type": "stream",
     "text": [
      "https://api.llama.fi/protocol/hashflow\n"
     ]
    },
    {
     "name": "stderr",
     "output_type": "stream",
     "text": [
      "DEBUG:urllib3.connectionpool:https://api.llama.fi:443 \"GET /protocol/stafi HTTP/1.1\" 200 508394\n"
     ]
    },
    {
     "name": "stdout",
     "output_type": "stream",
     "text": [
      "https://api.llama.fi/protocol/stafi\n"
     ]
    },
    {
     "name": "stderr",
     "output_type": "stream",
     "text": [
      "DEBUG:urllib3.connectionpool:https://api.llama.fi:443 \"GET /protocol/rex-staking HTTP/1.1\" 200 80445\n"
     ]
    },
    {
     "name": "stdout",
     "output_type": "stream",
     "text": [
      "https://api.llama.fi/protocol/rex-staking\n"
     ]
    },
    {
     "name": "stderr",
     "output_type": "stream",
     "text": [
      "DEBUG:urllib3.connectionpool:https://api.llama.fi:443 \"GET /protocol/hector-network HTTP/1.1\" 200 271408\n"
     ]
    },
    {
     "name": "stdout",
     "output_type": "stream",
     "text": [
      "https://api.llama.fi/protocol/hector-network\n"
     ]
    },
    {
     "name": "stderr",
     "output_type": "stream",
     "text": [
      "DEBUG:urllib3.connectionpool:https://api.llama.fi:443 \"GET /protocol/nftx HTTP/1.1\" 200 206609\n"
     ]
    },
    {
     "name": "stdout",
     "output_type": "stream",
     "text": [
      "https://api.llama.fi/protocol/nftx\n"
     ]
    },
    {
     "name": "stderr",
     "output_type": "stream",
     "text": [
      "DEBUG:urllib3.connectionpool:https://api.llama.fi:443 \"GET /protocol/xdao HTTP/1.1\" 200 1691423\n"
     ]
    },
    {
     "name": "stdout",
     "output_type": "stream",
     "text": [
      "https://api.llama.fi/protocol/xdao\n"
     ]
    },
    {
     "name": "stderr",
     "output_type": "stream",
     "text": [
      "DEBUG:urllib3.connectionpool:https://api.llama.fi:443 \"GET /protocol/solarbeam HTTP/1.1\" 200 236433\n"
     ]
    },
    {
     "name": "stdout",
     "output_type": "stream",
     "text": [
      "https://api.llama.fi/protocol/solarbeam\n"
     ]
    },
    {
     "name": "stderr",
     "output_type": "stream",
     "text": [
      "DEBUG:urllib3.connectionpool:https://api.llama.fi:443 \"GET /protocol/harvest-finance HTTP/1.1\" 200 110728\n"
     ]
    },
    {
     "name": "stdout",
     "output_type": "stream",
     "text": [
      "https://api.llama.fi/protocol/harvest-finance\n"
     ]
    },
    {
     "name": "stderr",
     "output_type": "stream",
     "text": [
      "DEBUG:urllib3.connectionpool:https://api.llama.fi:443 \"GET /protocol/liqee HTTP/1.1\" 200 155975\n"
     ]
    },
    {
     "name": "stdout",
     "output_type": "stream",
     "text": [
      "https://api.llama.fi/protocol/liqee\n"
     ]
    },
    {
     "name": "stderr",
     "output_type": "stream",
     "text": [
      "DEBUG:urllib3.connectionpool:https://api.llama.fi:443 \"GET /protocol/hubble HTTP/1.1\" 200 93824\n"
     ]
    },
    {
     "name": "stdout",
     "output_type": "stream",
     "text": [
      "https://api.llama.fi/protocol/hubble\n"
     ]
    },
    {
     "name": "stderr",
     "output_type": "stream",
     "text": [
      "DEBUG:urllib3.connectionpool:https://api.llama.fi:443 \"GET /protocol/thetaswap HTTP/1.1\" 200 73641\n"
     ]
    },
    {
     "name": "stdout",
     "output_type": "stream",
     "text": [
      "https://api.llama.fi/protocol/thetaswap\n"
     ]
    },
    {
     "name": "stderr",
     "output_type": "stream",
     "text": [
      "DEBUG:urllib3.connectionpool:https://api.llama.fi:443 \"GET /protocol/unslashed HTTP/1.1\" 200 105893\n"
     ]
    },
    {
     "name": "stdout",
     "output_type": "stream",
     "text": [
      "https://api.llama.fi/protocol/unslashed\n"
     ]
    },
    {
     "name": "stderr",
     "output_type": "stream",
     "text": [
      "DEBUG:urllib3.connectionpool:https://api.llama.fi:443 \"GET /protocol/linear-protocol HTTP/1.1\" 200 31302\n"
     ]
    },
    {
     "name": "stdout",
     "output_type": "stream",
     "text": [
      "https://api.llama.fi/protocol/linear-protocol\n"
     ]
    },
    {
     "name": "stderr",
     "output_type": "stream",
     "text": [
      "DEBUG:urllib3.connectionpool:https://api.llama.fi:443 \"GET /protocol/filda HTTP/1.1\" 200 2091189\n"
     ]
    },
    {
     "name": "stdout",
     "output_type": "stream",
     "text": [
      "https://api.llama.fi/protocol/filda\n"
     ]
    },
    {
     "name": "stderr",
     "output_type": "stream",
     "text": [
      "DEBUG:urllib3.connectionpool:https://api.llama.fi:443 \"GET /protocol/sharedstake HTTP/1.1\" 200 278692\n"
     ]
    },
    {
     "name": "stdout",
     "output_type": "stream",
     "text": [
      "https://api.llama.fi/protocol/sharedstake\n"
     ]
    },
    {
     "name": "stderr",
     "output_type": "stream",
     "text": [
      "DEBUG:urllib3.connectionpool:https://api.llama.fi:443 \"GET /protocol/acryptos HTTP/1.1\" 200 77823\n"
     ]
    },
    {
     "name": "stdout",
     "output_type": "stream",
     "text": [
      "https://api.llama.fi/protocol/acryptos\n"
     ]
    },
    {
     "name": "stderr",
     "output_type": "stream",
     "text": [
      "DEBUG:urllib3.connectionpool:https://api.llama.fi:443 \"GET /protocol/tarot HTTP/1.1\" 200 1796037\n"
     ]
    },
    {
     "name": "stdout",
     "output_type": "stream",
     "text": [
      "https://api.llama.fi/protocol/tarot\n"
     ]
    },
    {
     "name": "stderr",
     "output_type": "stream",
     "text": [
      "DEBUG:urllib3.connectionpool:https://api.llama.fi:443 \"GET /protocol/sovryn HTTP/1.1\" 200 48308\n"
     ]
    },
    {
     "name": "stdout",
     "output_type": "stream",
     "text": [
      "https://api.llama.fi/protocol/sovryn\n"
     ]
    },
    {
     "name": "stderr",
     "output_type": "stream",
     "text": [
      "DEBUG:urllib3.connectionpool:https://api.llama.fi:443 \"GET /protocol/rook HTTP/1.1\" 200 538017\n"
     ]
    },
    {
     "name": "stdout",
     "output_type": "stream",
     "text": [
      "https://api.llama.fi/protocol/rook\n"
     ]
    },
    {
     "name": "stderr",
     "output_type": "stream",
     "text": [
      "DEBUG:urllib3.connectionpool:https://api.llama.fi:443 \"GET /protocol/reserve HTTP/1.1\" 200 152537\n"
     ]
    },
    {
     "name": "stdout",
     "output_type": "stream",
     "text": [
      "https://api.llama.fi/protocol/reserve\n"
     ]
    },
    {
     "name": "stderr",
     "output_type": "stream",
     "text": [
      "DEBUG:urllib3.connectionpool:https://api.llama.fi:443 \"GET /protocol/maple HTTP/1.1\" 200 541325\n"
     ]
    },
    {
     "name": "stdout",
     "output_type": "stream",
     "text": [
      "https://api.llama.fi/protocol/maple\n"
     ]
    },
    {
     "name": "stderr",
     "output_type": "stream",
     "text": [
      "DEBUG:urllib3.connectionpool:https://api.llama.fi:443 \"GET /protocol/aldrin HTTP/1.1\" 200 82576\n"
     ]
    },
    {
     "name": "stdout",
     "output_type": "stream",
     "text": [
      "https://api.llama.fi/protocol/aldrin\n"
     ]
    },
    {
     "name": "stderr",
     "output_type": "stream",
     "text": [
      "DEBUG:urllib3.connectionpool:https://api.llama.fi:443 \"GET /protocol/solo-top HTTP/1.1\" 200 222868\n"
     ]
    },
    {
     "name": "stdout",
     "output_type": "stream",
     "text": [
      "https://api.llama.fi/protocol/solo-top\n"
     ]
    },
    {
     "name": "stderr",
     "output_type": "stream",
     "text": [
      "DEBUG:urllib3.connectionpool:https://api.llama.fi:443 \"GET /protocol/iziswap HTTP/1.1\" 200 85877\n"
     ]
    },
    {
     "name": "stdout",
     "output_type": "stream",
     "text": [
      "https://api.llama.fi/protocol/iziswap\n"
     ]
    },
    {
     "name": "stderr",
     "output_type": "stream",
     "text": [
      "DEBUG:urllib3.connectionpool:https://api.llama.fi:443 \"GET /protocol/echidna-finance HTTP/1.1\" 200 280292\n"
     ]
    },
    {
     "name": "stdout",
     "output_type": "stream",
     "text": [
      "https://api.llama.fi/protocol/echidna-finance\n"
     ]
    },
    {
     "name": "stderr",
     "output_type": "stream",
     "text": [
      "DEBUG:urllib3.connectionpool:https://api.llama.fi:443 \"GET /protocol/ooki HTTP/1.1\" 200 475958\n"
     ]
    },
    {
     "name": "stdout",
     "output_type": "stream",
     "text": [
      "https://api.llama.fi/protocol/ooki\n"
     ]
    },
    {
     "name": "stderr",
     "output_type": "stream",
     "text": [
      "DEBUG:urllib3.connectionpool:https://api.llama.fi:443 \"GET /protocol/connext HTTP/1.1\" 200 1065548\n"
     ]
    },
    {
     "name": "stdout",
     "output_type": "stream",
     "text": [
      "https://api.llama.fi/protocol/connext\n"
     ]
    },
    {
     "name": "stderr",
     "output_type": "stream",
     "text": [
      "DEBUG:urllib3.connectionpool:https://api.llama.fi:443 \"GET /protocol/sturdy HTTP/1.1\" 200 107210\n"
     ]
    },
    {
     "name": "stdout",
     "output_type": "stream",
     "text": [
      "https://api.llama.fi/protocol/sturdy\n"
     ]
    },
    {
     "name": "stderr",
     "output_type": "stream",
     "text": [
      "DEBUG:urllib3.connectionpool:https://api.llama.fi:443 \"GET /protocol/neoburger HTTP/1.1\" 200 62733\n"
     ]
    },
    {
     "name": "stdout",
     "output_type": "stream",
     "text": [
      "https://api.llama.fi/protocol/neoburger\n"
     ]
    },
    {
     "name": "stderr",
     "output_type": "stream",
     "text": [
      "DEBUG:urllib3.connectionpool:https://api.llama.fi:443 \"GET /protocol/defi-swap HTTP/1.1\" 200 1043494\n"
     ]
    },
    {
     "name": "stdout",
     "output_type": "stream",
     "text": [
      "https://api.llama.fi/protocol/defi-swap\n"
     ]
    },
    {
     "name": "stderr",
     "output_type": "stream",
     "text": [
      "DEBUG:urllib3.connectionpool:https://api.llama.fi:443 \"GET /protocol/mimo-defi HTTP/1.1\" 200 294754\n"
     ]
    },
    {
     "name": "stdout",
     "output_type": "stream",
     "text": [
      "https://api.llama.fi/protocol/mimo-defi\n"
     ]
    },
    {
     "name": "stderr",
     "output_type": "stream",
     "text": [
      "DEBUG:urllib3.connectionpool:https://api.llama.fi:443 \"GET /protocol/parallel-liquid-staking HTTP/1.1\" 200 157\n"
     ]
    },
    {
     "name": "stdout",
     "output_type": "stream",
     "text": [
      "err\n"
     ]
    },
    {
     "name": "stderr",
     "output_type": "stream",
     "text": [
      "DEBUG:urllib3.connectionpool:https://api.llama.fi:443 \"GET /protocol/radioshack HTTP/1.1\" 200 591494\n"
     ]
    },
    {
     "name": "stdout",
     "output_type": "stream",
     "text": [
      "https://api.llama.fi/protocol/radioshack\n"
     ]
    },
    {
     "name": "stderr",
     "output_type": "stream",
     "text": [
      "DEBUG:urllib3.connectionpool:https://api.llama.fi:443 \"GET /protocol/lofty HTTP/1.1\" 200 2444\n"
     ]
    },
    {
     "name": "stdout",
     "output_type": "stream",
     "text": [
      "https://api.llama.fi/protocol/lofty\n"
     ]
    },
    {
     "name": "stderr",
     "output_type": "stream",
     "text": [
      "DEBUG:urllib3.connectionpool:https://api.llama.fi:443 \"GET /protocol/aurigami HTTP/1.1\" 200 299243\n"
     ]
    },
    {
     "name": "stdout",
     "output_type": "stream",
     "text": [
      "https://api.llama.fi/protocol/aurigami\n"
     ]
    },
    {
     "name": "stderr",
     "output_type": "stream",
     "text": [
      "DEBUG:urllib3.connectionpool:https://api.llama.fi:443 \"GET /protocol/valleyswap HTTP/1.1\" 200 56186\n"
     ]
    },
    {
     "name": "stdout",
     "output_type": "stream",
     "text": [
      "https://api.llama.fi/protocol/valleyswap\n"
     ]
    },
    {
     "name": "stderr",
     "output_type": "stream",
     "text": [
      "DEBUG:urllib3.connectionpool:https://api.llama.fi:443 \"GET /protocol/perpetual-protocol HTTP/1.1\" 200 211084\n"
     ]
    },
    {
     "name": "stdout",
     "output_type": "stream",
     "text": [
      "https://api.llama.fi/protocol/perpetual-protocol\n"
     ]
    },
    {
     "name": "stderr",
     "output_type": "stream",
     "text": [
      "DEBUG:urllib3.connectionpool:https://api.llama.fi:443 \"GET /protocol/moonwell-artemis HTTP/1.1\" 200 48065\n"
     ]
    },
    {
     "name": "stdout",
     "output_type": "stream",
     "text": [
      "https://api.llama.fi/protocol/moonwell-artemis\n"
     ]
    },
    {
     "name": "stderr",
     "output_type": "stream",
     "text": [
      "DEBUG:urllib3.connectionpool:https://api.llama.fi:443 \"GET /protocol/mm-optimizer HTTP/1.1\" 200 148374\n"
     ]
    },
    {
     "name": "stdout",
     "output_type": "stream",
     "text": [
      "https://api.llama.fi/protocol/mm-optimizer\n"
     ]
    },
    {
     "name": "stderr",
     "output_type": "stream",
     "text": [
      "DEBUG:urllib3.connectionpool:https://api.llama.fi:443 \"GET /protocol/dfx-finance HTTP/1.1\" 200 435882\n"
     ]
    },
    {
     "name": "stdout",
     "output_type": "stream",
     "text": [
      "https://api.llama.fi/protocol/dfx-finance\n"
     ]
    },
    {
     "name": "stderr",
     "output_type": "stream",
     "text": [
      "DEBUG:urllib3.connectionpool:https://api.llama.fi:443 \"GET /protocol/defibox HTTP/1.1\" 200 91872\n"
     ]
    },
    {
     "name": "stdout",
     "output_type": "stream",
     "text": [
      "https://api.llama.fi/protocol/defibox\n"
     ]
    },
    {
     "name": "stderr",
     "output_type": "stream",
     "text": [
      "DEBUG:urllib3.connectionpool:https://api.llama.fi:443 \"GET /protocol/superfluid HTTP/1.1\" 200 735690\n"
     ]
    },
    {
     "name": "stdout",
     "output_type": "stream",
     "text": [
      "https://api.llama.fi/protocol/superfluid\n"
     ]
    },
    {
     "name": "stderr",
     "output_type": "stream",
     "text": [
      "DEBUG:urllib3.connectionpool:https://api.llama.fi:443 \"GET /protocol/vesta-finance HTTP/1.1\" 200 168552\n"
     ]
    },
    {
     "name": "stdout",
     "output_type": "stream",
     "text": [
      "https://api.llama.fi/protocol/vesta-finance\n"
     ]
    },
    {
     "name": "stderr",
     "output_type": "stream",
     "text": [
      "DEBUG:urllib3.connectionpool:https://api.llama.fi:443 \"GET /protocol/sherlock HTTP/1.1\" 200 116400\n"
     ]
    },
    {
     "name": "stdout",
     "output_type": "stream",
     "text": [
      "https://api.llama.fi/protocol/sherlock\n"
     ]
    },
    {
     "name": "stderr",
     "output_type": "stream",
     "text": [
      "DEBUG:urllib3.connectionpool:https://api.llama.fi:443 \"GET /protocol/lyra HTTP/1.1\" 200 285307\n"
     ]
    },
    {
     "name": "stdout",
     "output_type": "stream",
     "text": [
      "https://api.llama.fi/protocol/lyra\n"
     ]
    },
    {
     "name": "stderr",
     "output_type": "stream",
     "text": [
      "DEBUG:urllib3.connectionpool:https://api.llama.fi:443 \"GET /protocol/fantohm HTTP/1.1\" 200 580094\n"
     ]
    },
    {
     "name": "stdout",
     "output_type": "stream",
     "text": [
      "https://api.llama.fi/protocol/fantohm\n"
     ]
    },
    {
     "name": "stderr",
     "output_type": "stream",
     "text": [
      "DEBUG:urllib3.connectionpool:https://api.llama.fi:443 \"GET /protocol/bifi HTTP/1.1\" 200 1048957\n"
     ]
    },
    {
     "name": "stdout",
     "output_type": "stream",
     "text": [
      "https://api.llama.fi/protocol/bifi\n"
     ]
    },
    {
     "name": "stderr",
     "output_type": "stream",
     "text": [
      "DEBUG:urllib3.connectionpool:https://api.llama.fi:443 \"GET /protocol/sundaeswap HTTP/1.1\" 200 67875\n"
     ]
    },
    {
     "name": "stdout",
     "output_type": "stream",
     "text": [
      "https://api.llama.fi/protocol/sundaeswap\n"
     ]
    },
    {
     "name": "stderr",
     "output_type": "stream",
     "text": [
      "DEBUG:urllib3.connectionpool:https://api.llama.fi:443 \"GET /protocol/insurace HTTP/1.1\" 200 756659\n"
     ]
    },
    {
     "name": "stdout",
     "output_type": "stream",
     "text": [
      "https://api.llama.fi/protocol/insurace\n"
     ]
    },
    {
     "name": "stderr",
     "output_type": "stream",
     "text": [
      "DEBUG:urllib3.connectionpool:https://api.llama.fi:443 \"GET /protocol/wanswap-dex HTTP/1.1\" 200 53972\n"
     ]
    },
    {
     "name": "stdout",
     "output_type": "stream",
     "text": [
      "https://api.llama.fi/protocol/wanswap-dex\n"
     ]
    },
    {
     "name": "stderr",
     "output_type": "stream",
     "text": [
      "DEBUG:urllib3.connectionpool:https://api.llama.fi:443 \"GET /protocol/wingriders HTTP/1.1\" 200 43253\n"
     ]
    },
    {
     "name": "stdout",
     "output_type": "stream",
     "text": [
      "https://api.llama.fi/protocol/wingriders\n"
     ]
    },
    {
     "name": "stderr",
     "output_type": "stream",
     "text": [
      "DEBUG:urllib3.connectionpool:https://api.llama.fi:443 \"GET /protocol/uxd HTTP/1.1\" 200 54020\n"
     ]
    },
    {
     "name": "stdout",
     "output_type": "stream",
     "text": [
      "https://api.llama.fi/protocol/uxd\n"
     ]
    },
    {
     "name": "stderr",
     "output_type": "stream",
     "text": [
      "DEBUG:urllib3.connectionpool:https://api.llama.fi:443 \"GET /protocol/apeswap-lending HTTP/1.1\" 200 10263\n"
     ]
    },
    {
     "name": "stdout",
     "output_type": "stream",
     "text": [
      "https://api.llama.fi/protocol/apeswap-lending\n"
     ]
    },
    {
     "name": "stderr",
     "output_type": "stream",
     "text": [
      "DEBUG:urllib3.connectionpool:https://api.llama.fi:443 \"GET /protocol/the-tokenized-bitcoin HTTP/1.1\" 200 85642\n"
     ]
    },
    {
     "name": "stdout",
     "output_type": "stream",
     "text": [
      "https://api.llama.fi/protocol/the-tokenized-bitcoin\n"
     ]
    },
    {
     "name": "stderr",
     "output_type": "stream",
     "text": [
      "DEBUG:urllib3.connectionpool:https://api.llama.fi:443 \"GET /protocol/astroport HTTP/1.1\" 200 77212\n"
     ]
    },
    {
     "name": "stdout",
     "output_type": "stream",
     "text": [
      "https://api.llama.fi/protocol/astroport\n"
     ]
    },
    {
     "name": "stderr",
     "output_type": "stream",
     "text": [
      "DEBUG:urllib3.connectionpool:https://api.llama.fi:443 \"GET /protocol/llama-airforce HTTP/1.1\" 200 78937\n"
     ]
    },
    {
     "name": "stdout",
     "output_type": "stream",
     "text": [
      "https://api.llama.fi/protocol/llama-airforce\n"
     ]
    },
    {
     "name": "stderr",
     "output_type": "stream",
     "text": [
      "DEBUG:urllib3.connectionpool:https://api.llama.fi:443 \"GET /protocol/dystopia HTTP/1.1\" 200 192431\n"
     ]
    },
    {
     "name": "stdout",
     "output_type": "stream",
     "text": [
      "https://api.llama.fi/protocol/dystopia\n"
     ]
    },
    {
     "name": "stderr",
     "output_type": "stream",
     "text": [
      "DEBUG:urllib3.connectionpool:https://api.llama.fi:443 \"GET /protocol/kokoa-finance HTTP/1.1\" 200 90333\n"
     ]
    },
    {
     "name": "stdout",
     "output_type": "stream",
     "text": [
      "https://api.llama.fi/protocol/kokoa-finance\n"
     ]
    },
    {
     "name": "stderr",
     "output_type": "stream",
     "text": [
      "DEBUG:urllib3.connectionpool:https://api.llama.fi:443 \"GET /protocol/tezos-liquidity-baking HTTP/1.1\" 200 139193\n"
     ]
    },
    {
     "name": "stdout",
     "output_type": "stream",
     "text": [
      "https://api.llama.fi/protocol/tezos-liquidity-baking\n"
     ]
    },
    {
     "name": "stderr",
     "output_type": "stream",
     "text": [
      "DEBUG:urllib3.connectionpool:https://api.llama.fi:443 \"GET /protocol/reaper-farm HTTP/1.1\" 200 52364\n"
     ]
    },
    {
     "name": "stdout",
     "output_type": "stream",
     "text": [
      "https://api.llama.fi/protocol/reaper-farm\n"
     ]
    },
    {
     "name": "stderr",
     "output_type": "stream",
     "text": [
      "DEBUG:urllib3.connectionpool:https://api.llama.fi:443 \"GET /protocol/single-finance HTTP/1.1\" 200 395220\n"
     ]
    },
    {
     "name": "stdout",
     "output_type": "stream",
     "text": [
      "https://api.llama.fi/protocol/single-finance\n"
     ]
    },
    {
     "name": "stderr",
     "output_type": "stream",
     "text": [
      "DEBUG:urllib3.connectionpool:https://api.llama.fi:443 \"GET /protocol/mercurial-finance HTTP/1.1\" 200 309363\n"
     ]
    },
    {
     "name": "stdout",
     "output_type": "stream",
     "text": [
      "https://api.llama.fi/protocol/mercurial-finance\n"
     ]
    },
    {
     "name": "stderr",
     "output_type": "stream",
     "text": [
      "DEBUG:urllib3.connectionpool:https://api.llama.fi:443 \"GET /protocol/stellaswap HTTP/1.1\" 200 119793\n"
     ]
    },
    {
     "name": "stdout",
     "output_type": "stream",
     "text": [
      "https://api.llama.fi/protocol/stellaswap\n"
     ]
    },
    {
     "name": "stderr",
     "output_type": "stream",
     "text": [
      "DEBUG:urllib3.connectionpool:https://api.llama.fi:443 \"GET /protocol/youves HTTP/1.1\" 200 166111\n"
     ]
    },
    {
     "name": "stdout",
     "output_type": "stream",
     "text": [
      "https://api.llama.fi/protocol/youves\n"
     ]
    },
    {
     "name": "stderr",
     "output_type": "stream",
     "text": [
      "DEBUG:urllib3.connectionpool:https://api.llama.fi:443 \"GET /protocol/rhino.fi HTTP/1.1\" 200 780364\n"
     ]
    },
    {
     "name": "stdout",
     "output_type": "stream",
     "text": [
      "https://api.llama.fi/protocol/rhino.fi\n"
     ]
    },
    {
     "name": "stderr",
     "output_type": "stream",
     "text": [
      "DEBUG:urllib3.connectionpool:https://api.llama.fi:443 \"GET /protocol/outcome-finance HTTP/1.1\" 200 1083274\n"
     ]
    },
    {
     "name": "stdout",
     "output_type": "stream",
     "text": [
      "https://api.llama.fi/protocol/outcome-finance\n"
     ]
    },
    {
     "name": "stderr",
     "output_type": "stream",
     "text": [
      "DEBUG:urllib3.connectionpool:https://api.llama.fi:443 \"GET /protocol/arthswap HTTP/1.1\" 200 211901\n"
     ]
    },
    {
     "name": "stdout",
     "output_type": "stream",
     "text": [
      "https://api.llama.fi/protocol/arthswap\n"
     ]
    },
    {
     "name": "stderr",
     "output_type": "stream",
     "text": [
      "DEBUG:urllib3.connectionpool:https://api.llama.fi:443 \"GET /protocol/paycash HTTP/1.1\" 200 18723\n"
     ]
    },
    {
     "name": "stdout",
     "output_type": "stream",
     "text": [
      "https://api.llama.fi/protocol/paycash\n"
     ]
    },
    {
     "name": "stderr",
     "output_type": "stream",
     "text": [
      "DEBUG:urllib3.connectionpool:https://api.llama.fi:443 \"GET /protocol/b.protocol HTTP/1.1\" 200 604168\n"
     ]
    },
    {
     "name": "stdout",
     "output_type": "stream",
     "text": [
      "https://api.llama.fi/protocol/b.protocol\n"
     ]
    },
    {
     "name": "stderr",
     "output_type": "stream",
     "text": [
      "DEBUG:urllib3.connectionpool:https://api.llama.fi:443 \"GET /protocol/flrfarm HTTP/1.1\" 200 181883\n"
     ]
    },
    {
     "name": "stdout",
     "output_type": "stream",
     "text": [
      "https://api.llama.fi/protocol/flrfarm\n"
     ]
    },
    {
     "name": "stderr",
     "output_type": "stream",
     "text": [
      "DEBUG:urllib3.connectionpool:https://api.llama.fi:443 \"GET /protocol/yoshi-exchange HTTP/1.1\" 200 1464084\n"
     ]
    },
    {
     "name": "stdout",
     "output_type": "stream",
     "text": [
      "https://api.llama.fi/protocol/yoshi-exchange\n"
     ]
    },
    {
     "name": "stderr",
     "output_type": "stream",
     "text": [
      "DEBUG:urllib3.connectionpool:https://api.llama.fi:443 \"GET /protocol/valuedefi HTTP/1.1\" 200 91813\n"
     ]
    },
    {
     "name": "stdout",
     "output_type": "stream",
     "text": [
      "https://api.llama.fi/protocol/valuedefi\n"
     ]
    },
    {
     "name": "stderr",
     "output_type": "stream",
     "text": [
      "DEBUG:urllib3.connectionpool:https://api.llama.fi:443 \"GET /protocol/karura-dollar-(kusd) HTTP/1.1\" 200 93423\n"
     ]
    },
    {
     "name": "stdout",
     "output_type": "stream",
     "text": [
      "https://api.llama.fi/protocol/karura-dollar-(kusd)\n"
     ]
    },
    {
     "name": "stderr",
     "output_type": "stream",
     "text": [
      "DEBUG:urllib3.connectionpool:https://api.llama.fi:443 \"GET /protocol/alex HTTP/1.1\" 200 176405\n"
     ]
    },
    {
     "name": "stdout",
     "output_type": "stream",
     "text": [
      "https://api.llama.fi/protocol/alex\n"
     ]
    },
    {
     "name": "stderr",
     "output_type": "stream",
     "text": [
      "DEBUG:urllib3.connectionpool:https://api.llama.fi:443 \"GET /protocol/wrapped HTTP/1.1\" 200 386154\n"
     ]
    },
    {
     "name": "stdout",
     "output_type": "stream",
     "text": [
      "https://api.llama.fi/protocol/wrapped\n"
     ]
    },
    {
     "name": "stderr",
     "output_type": "stream",
     "text": [
      "DEBUG:urllib3.connectionpool:https://api.llama.fi:443 \"GET /protocol/netswap HTTP/1.1\" 200 78729\n"
     ]
    },
    {
     "name": "stdout",
     "output_type": "stream",
     "text": [
      "https://api.llama.fi/protocol/netswap\n"
     ]
    },
    {
     "name": "stderr",
     "output_type": "stream",
     "text": [
      "DEBUG:urllib3.connectionpool:https://api.llama.fi:443 \"GET /protocol/planet HTTP/1.1\" 200 1135749\n"
     ]
    },
    {
     "name": "stdout",
     "output_type": "stream",
     "text": [
      "https://api.llama.fi/protocol/planet\n"
     ]
    },
    {
     "name": "stderr",
     "output_type": "stream",
     "text": [
      "DEBUG:urllib3.connectionpool:https://api.llama.fi:443 \"GET /protocol/claimswap HTTP/1.1\" 200 104380\n"
     ]
    },
    {
     "name": "stdout",
     "output_type": "stream",
     "text": [
      "https://api.llama.fi/protocol/claimswap\n"
     ]
    },
    {
     "name": "stderr",
     "output_type": "stream",
     "text": [
      "DEBUG:urllib3.connectionpool:https://api.llama.fi:443 \"GET /protocol/defidollar-dao HTTP/1.1\" 200 205122\n"
     ]
    },
    {
     "name": "stdout",
     "output_type": "stream",
     "text": [
      "https://api.llama.fi/protocol/defidollar-dao\n"
     ]
    },
    {
     "name": "stderr",
     "output_type": "stream",
     "text": [
      "DEBUG:urllib3.connectionpool:https://api.llama.fi:443 \"GET /protocol/strike HTTP/1.1\" 200 570426\n"
     ]
    },
    {
     "name": "stdout",
     "output_type": "stream",
     "text": [
      "https://api.llama.fi/protocol/strike\n"
     ]
    },
    {
     "name": "stderr",
     "output_type": "stream",
     "text": [
      "DEBUG:urllib3.connectionpool:https://api.llama.fi:443 \"GET /protocol/balanced HTTP/1.1\" 502 36\n"
     ]
    },
    {
     "name": "stdout",
     "output_type": "stream",
     "text": [
      "err\n"
     ]
    },
    {
     "name": "stderr",
     "output_type": "stream",
     "text": [
      "DEBUG:urllib3.connectionpool:https://api.llama.fi:443 \"GET /protocol/stellarx HTTP/1.1\" 502 36\n"
     ]
    },
    {
     "name": "stdout",
     "output_type": "stream",
     "text": [
      "err\n"
     ]
    },
    {
     "name": "stderr",
     "output_type": "stream",
     "text": [
      "DEBUG:urllib3.connectionpool:https://api.llama.fi:443 \"GET /protocol/01 HTTP/1.1\" 200 123556\n"
     ]
    },
    {
     "name": "stdout",
     "output_type": "stream",
     "text": [
      "https://api.llama.fi/protocol/01\n"
     ]
    },
    {
     "name": "stderr",
     "output_type": "stream",
     "text": [
      "DEBUG:urllib3.connectionpool:https://api.llama.fi:443 \"GET /protocol/bella-protocol HTTP/1.1\" 200 155544\n"
     ]
    },
    {
     "name": "stdout",
     "output_type": "stream",
     "text": [
      "https://api.llama.fi/protocol/bella-protocol\n"
     ]
    },
    {
     "name": "stderr",
     "output_type": "stream",
     "text": [
      "DEBUG:urllib3.connectionpool:https://api.llama.fi:443 \"GET /protocol/deeplock HTTP/1.1\" 200 68320\n"
     ]
    },
    {
     "name": "stdout",
     "output_type": "stream",
     "text": [
      "https://api.llama.fi/protocol/deeplock\n"
     ]
    },
    {
     "name": "stderr",
     "output_type": "stream",
     "text": [
      "DEBUG:urllib3.connectionpool:https://api.llama.fi:443 \"GET /protocol/dfyn-network HTTP/1.1\" 200 4656373\n"
     ]
    },
    {
     "name": "stdout",
     "output_type": "stream",
     "text": [
      "https://api.llama.fi/protocol/dfyn-network\n"
     ]
    },
    {
     "name": "stderr",
     "output_type": "stream",
     "text": [
      "DEBUG:urllib3.connectionpool:https://api.llama.fi:443 \"GET /protocol/omm HTTP/1.1\" 200 34580\n"
     ]
    },
    {
     "name": "stdout",
     "output_type": "stream",
     "text": [
      "https://api.llama.fi/protocol/omm\n"
     ]
    },
    {
     "name": "stderr",
     "output_type": "stream",
     "text": [
      "DEBUG:urllib3.connectionpool:https://api.llama.fi:443 \"GET /protocol/nereus-finance HTTP/1.1\" 200 118375\n",
      "DEBUG:urllib3.connectionpool:https://api.llama.fi:443 \"GET /protocol/pstake HTTP/1.1\" 200 185658\n"
     ]
    },
    {
     "name": "stdout",
     "output_type": "stream",
     "text": [
      "https://api.llama.fi/protocol/nereus-finance\n",
      "https://api.llama.fi/protocol/pstake\n"
     ]
    },
    {
     "name": "stderr",
     "output_type": "stream",
     "text": [
      "DEBUG:urllib3.connectionpool:https://api.llama.fi:443 \"GET /protocol/thetacash HTTP/1.1\" 200 63645\n"
     ]
    },
    {
     "name": "stdout",
     "output_type": "stream",
     "text": [
      "https://api.llama.fi/protocol/thetacash\n"
     ]
    },
    {
     "name": "stderr",
     "output_type": "stream",
     "text": [
      "DEBUG:urllib3.connectionpool:https://api.llama.fi:443 \"GET /protocol/defrost HTTP/1.1\" 200 153831\n"
     ]
    },
    {
     "name": "stdout",
     "output_type": "stream",
     "text": [
      "https://api.llama.fi/protocol/defrost\n"
     ]
    },
    {
     "name": "stderr",
     "output_type": "stream",
     "text": [
      "DEBUG:urllib3.connectionpool:https://api.llama.fi:443 \"GET /protocol/izumi-finance HTTP/1.1\" 200 510310\n"
     ]
    },
    {
     "name": "stdout",
     "output_type": "stream",
     "text": [
      "https://api.llama.fi/protocol/izumi-finance\n"
     ]
    },
    {
     "name": "stderr",
     "output_type": "stream",
     "text": [
      "DEBUG:urllib3.connectionpool:https://api.llama.fi:443 \"GET /protocol/kava-swap HTTP/1.1\" 200 312022\n"
     ]
    },
    {
     "name": "stdout",
     "output_type": "stream",
     "text": [
      "https://api.llama.fi/protocol/kava-swap\n"
     ]
    },
    {
     "name": "stderr",
     "output_type": "stream",
     "text": [
      "DEBUG:urllib3.connectionpool:https://api.llama.fi:443 \"GET /protocol/mimo HTTP/1.1\" 200 69565\n"
     ]
    },
    {
     "name": "stdout",
     "output_type": "stream",
     "text": [
      "https://api.llama.fi/protocol/mimo\n"
     ]
    },
    {
     "name": "stderr",
     "output_type": "stream",
     "text": [
      "DEBUG:urllib3.connectionpool:https://api.llama.fi:443 \"GET /protocol/secret-network HTTP/1.1\" 200 55444\n"
     ]
    },
    {
     "name": "stdout",
     "output_type": "stream",
     "text": [
      "https://api.llama.fi/protocol/secret-network\n"
     ]
    },
    {
     "name": "stderr",
     "output_type": "stream",
     "text": [
      "DEBUG:urllib3.connectionpool:https://api.llama.fi:443 \"GET /protocol/penrose HTTP/1.1\" 200 134806\n"
     ]
    },
    {
     "name": "stdout",
     "output_type": "stream",
     "text": [
      "https://api.llama.fi/protocol/penrose\n"
     ]
    },
    {
     "name": "stderr",
     "output_type": "stream",
     "text": [
      "DEBUG:urllib3.connectionpool:https://api.llama.fi:443 \"GET /protocol/karura-liquid-staking HTTP/1.1\" 200 77523\n"
     ]
    },
    {
     "name": "stdout",
     "output_type": "stream",
     "text": [
      "https://api.llama.fi/protocol/karura-liquid-staking\n"
     ]
    },
    {
     "name": "stderr",
     "output_type": "stream",
     "text": [
      "DEBUG:urllib3.connectionpool:https://api.llama.fi:443 \"GET /protocol/clipper HTTP/1.1\" 200 571432\n"
     ]
    },
    {
     "name": "stdout",
     "output_type": "stream",
     "text": [
      "https://api.llama.fi/protocol/clipper\n"
     ]
    },
    {
     "name": "stderr",
     "output_type": "stream",
     "text": [
      "DEBUG:urllib3.connectionpool:https://api.llama.fi:443 \"GET /protocol/pickle HTTP/1.1\" 200 1165704\n"
     ]
    },
    {
     "name": "stdout",
     "output_type": "stream",
     "text": [
      "https://api.llama.fi/protocol/pickle\n"
     ]
    },
    {
     "name": "stderr",
     "output_type": "stream",
     "text": [
      "DEBUG:urllib3.connectionpool:https://api.llama.fi:443 \"GET /protocol/zeta HTTP/1.1\" 200 102116\n"
     ]
    },
    {
     "name": "stdout",
     "output_type": "stream",
     "text": [
      "https://api.llama.fi/protocol/zeta\n"
     ]
    },
    {
     "name": "stderr",
     "output_type": "stream",
     "text": [
      "DEBUG:urllib3.connectionpool:https://api.llama.fi:443 \"GET /protocol/onx-finance HTTP/1.1\" 200 293486\n"
     ]
    },
    {
     "name": "stdout",
     "output_type": "stream",
     "text": [
      "https://api.llama.fi/protocol/onx-finance\n"
     ]
    },
    {
     "name": "stderr",
     "output_type": "stream",
     "text": [
      "DEBUG:urllib3.connectionpool:https://api.llama.fi:443 \"GET /protocol/swapr HTTP/1.1\" 200 268242\n"
     ]
    },
    {
     "name": "stdout",
     "output_type": "stream",
     "text": [
      "https://api.llama.fi/protocol/swapr\n"
     ]
    },
    {
     "name": "stderr",
     "output_type": "stream",
     "text": [
      "DEBUG:urllib3.connectionpool:https://api.llama.fi:443 \"GET /protocol/apollox HTTP/1.1\" 200 111077\n"
     ]
    },
    {
     "name": "stdout",
     "output_type": "stream",
     "text": [
      "https://api.llama.fi/protocol/apollox\n"
     ]
    },
    {
     "name": "stderr",
     "output_type": "stream",
     "text": [
      "DEBUG:urllib3.connectionpool:https://api.llama.fi:443 \"GET /protocol/inverse-finance HTTP/1.1\" 200 457700\n"
     ]
    },
    {
     "name": "stdout",
     "output_type": "stream",
     "text": [
      "https://api.llama.fi/protocol/inverse-finance\n"
     ]
    },
    {
     "name": "stderr",
     "output_type": "stream",
     "text": [
      "DEBUG:urllib3.connectionpool:https://api.llama.fi:443 \"GET /protocol/wepiggy HTTP/1.1\" 200 946857\n",
      "DEBUG:urllib3.connectionpool:https://api.llama.fi:443 \"GET /protocol/tinyman HTTP/1.1\" 200 95658\n"
     ]
    },
    {
     "name": "stdout",
     "output_type": "stream",
     "text": [
      "https://api.llama.fi/protocol/wepiggy\n",
      "https://api.llama.fi/protocol/tinyman\n"
     ]
    },
    {
     "name": "stderr",
     "output_type": "stream",
     "text": [
      "DEBUG:urllib3.connectionpool:https://api.llama.fi:443 \"GET /protocol/moola-market HTTP/1.1\" 200 350514\n"
     ]
    },
    {
     "name": "stdout",
     "output_type": "stream",
     "text": [
      "https://api.llama.fi/protocol/moola-market\n"
     ]
    },
    {
     "name": "stderr",
     "output_type": "stream",
     "text": [
      "DEBUG:urllib3.connectionpool:https://api.llama.fi:443 \"GET /protocol/socialswap HTTP/1.1\" 200 24688\n"
     ]
    },
    {
     "name": "stdout",
     "output_type": "stream",
     "text": [
      "https://api.llama.fi/protocol/socialswap\n"
     ]
    },
    {
     "name": "stderr",
     "output_type": "stream",
     "text": [
      "DEBUG:urllib3.connectionpool:https://api.llama.fi:443 \"GET /protocol/gearbox HTTP/1.1\" 200 178394\n"
     ]
    },
    {
     "name": "stdout",
     "output_type": "stream",
     "text": [
      "https://api.llama.fi/protocol/gearbox\n"
     ]
    },
    {
     "name": "stderr",
     "output_type": "stream",
     "text": [
      "DEBUG:urllib3.connectionpool:https://api.llama.fi:443 \"GET /protocol/solv-protocol HTTP/1.1\" 200 413786\n"
     ]
    },
    {
     "name": "stdout",
     "output_type": "stream",
     "text": [
      "https://api.llama.fi/protocol/solv-protocol\n"
     ]
    },
    {
     "name": "stderr",
     "output_type": "stream",
     "text": [
      "DEBUG:urllib3.connectionpool:https://api.llama.fi:443 \"GET /protocol/dhedge HTTP/1.1\" 200 125758\n"
     ]
    },
    {
     "name": "stdout",
     "output_type": "stream",
     "text": [
      "https://api.llama.fi/protocol/dhedge\n"
     ]
    },
    {
     "name": "stderr",
     "output_type": "stream",
     "text": [
      "DEBUG:urllib3.connectionpool:https://api.llama.fi:443 \"GET /protocol/port-finance HTTP/1.1\" 200 292153\n"
     ]
    },
    {
     "name": "stdout",
     "output_type": "stream",
     "text": [
      "https://api.llama.fi/protocol/port-finance\n"
     ]
    },
    {
     "name": "stderr",
     "output_type": "stream",
     "text": [
      "DEBUG:urllib3.connectionpool:https://api.llama.fi:443 \"GET /protocol/yield-protocol HTTP/1.1\" 200 248655\n"
     ]
    },
    {
     "name": "stdout",
     "output_type": "stream",
     "text": [
      "https://api.llama.fi/protocol/yield-protocol\n"
     ]
    },
    {
     "name": "stderr",
     "output_type": "stream",
     "text": [
      "DEBUG:urllib3.connectionpool:https://api.llama.fi:443 \"GET /protocol/ocp-finance HTTP/1.1\" 502 36\n"
     ]
    },
    {
     "name": "stdout",
     "output_type": "stream",
     "text": [
      "err\n"
     ]
    },
    {
     "name": "stderr",
     "output_type": "stream",
     "text": [
      "DEBUG:urllib3.connectionpool:https://api.llama.fi:443 \"GET /protocol/risk-harbor HTTP/1.1\" 200 122004\n"
     ]
    },
    {
     "name": "stdout",
     "output_type": "stream",
     "text": [
      "https://api.llama.fi/protocol/risk-harbor\n"
     ]
    },
    {
     "name": "stderr",
     "output_type": "stream",
     "text": [
      "DEBUG:urllib3.connectionpool:https://api.llama.fi:443 \"GET /protocol/thetanuts-finance HTTP/1.1\" 200 493970\n"
     ]
    },
    {
     "name": "stdout",
     "output_type": "stream",
     "text": [
      "https://api.llama.fi/protocol/thetanuts-finance\n"
     ]
    },
    {
     "name": "stderr",
     "output_type": "stream",
     "text": [
      "DEBUG:urllib3.connectionpool:https://api.llama.fi:443 \"GET /protocol/concave HTTP/1.1\" 200 87287\n"
     ]
    },
    {
     "name": "stdout",
     "output_type": "stream",
     "text": [
      "https://api.llama.fi/protocol/concave\n"
     ]
    },
    {
     "name": "stderr",
     "output_type": "stream",
     "text": [
      "DEBUG:urllib3.connectionpool:https://api.llama.fi:443 \"GET /protocol/gro HTTP/1.1\" 200 473892\n"
     ]
    },
    {
     "name": "stdout",
     "output_type": "stream",
     "text": [
      "https://api.llama.fi/protocol/gro\n"
     ]
    },
    {
     "name": "stderr",
     "output_type": "stream",
     "text": [
      "DEBUG:urllib3.connectionpool:https://api.llama.fi:443 \"GET /protocol/crystalvale HTTP/1.1\" 200 96090\n"
     ]
    },
    {
     "name": "stdout",
     "output_type": "stream",
     "text": [
      "https://api.llama.fi/protocol/crystalvale\n"
     ]
    },
    {
     "name": "stderr",
     "output_type": "stream",
     "text": [
      "DEBUG:urllib3.connectionpool:https://api.llama.fi:443 \"GET /protocol/proton-loan HTTP/1.1\" 200 146055\n"
     ]
    },
    {
     "name": "stdout",
     "output_type": "stream",
     "text": [
      "https://api.llama.fi/protocol/proton-loan\n"
     ]
    },
    {
     "name": "stderr",
     "output_type": "stream",
     "text": [
      "DEBUG:urllib3.connectionpool:https://api.llama.fi:443 \"GET /protocol/defi-kingdoms HTTP/1.1\" 307 0\n",
      "DEBUG:urllib3.connectionpool:Resetting dropped connection: defillama-datasets.s3.eu-central-1.amazonaws.com\n",
      "DEBUG:urllib3.connectionpool:https://defillama-datasets.s3.eu-central-1.amazonaws.com:443 \"GET /temp/protocol-Defi%20Kingdoms.json HTTP/1.1\" 200 27764339\n"
     ]
    },
    {
     "name": "stdout",
     "output_type": "stream",
     "text": [
      "https://api.llama.fi/protocol/defi-kingdoms\n"
     ]
    },
    {
     "name": "stderr",
     "output_type": "stream",
     "text": [
      "DEBUG:urllib3.connectionpool:https://api.llama.fi:443 \"GET /protocol/moonfarm HTTP/1.1\" 200 66090\n"
     ]
    },
    {
     "name": "stdout",
     "output_type": "stream",
     "text": [
      "https://api.llama.fi/protocol/moonfarm\n"
     ]
    },
    {
     "name": "stderr",
     "output_type": "stream",
     "text": [
      "DEBUG:urllib3.connectionpool:https://api.llama.fi:443 \"GET /protocol/gains-network HTTP/1.1\" 200 187077\n"
     ]
    },
    {
     "name": "stdout",
     "output_type": "stream",
     "text": [
      "https://api.llama.fi/protocol/gains-network\n"
     ]
    },
    {
     "name": "stderr",
     "output_type": "stream",
     "text": [
      "DEBUG:urllib3.connectionpool:https://api.llama.fi:443 \"GET /protocol/hundred-finance HTTP/1.1\" 200 1839805\n"
     ]
    },
    {
     "name": "stdout",
     "output_type": "stream",
     "text": [
      "https://api.llama.fi/protocol/hundred-finance\n"
     ]
    },
    {
     "name": "stderr",
     "output_type": "stream",
     "text": [
      "DEBUG:urllib3.connectionpool:https://api.llama.fi:443 \"GET /protocol/orion-protocol HTTP/1.1\" 200 2009391\n"
     ]
    },
    {
     "name": "stdout",
     "output_type": "stream",
     "text": [
      "https://api.llama.fi/protocol/orion-protocol\n"
     ]
    },
    {
     "name": "stderr",
     "output_type": "stream",
     "text": [
      "DEBUG:urllib3.connectionpool:https://api.llama.fi:443 \"GET /protocol/nuls HTTP/1.1\" 200 32814\n"
     ]
    },
    {
     "name": "stdout",
     "output_type": "stream",
     "text": [
      "https://api.llama.fi/protocol/nuls\n"
     ]
    },
    {
     "name": "stderr",
     "output_type": "stream",
     "text": [
      "DEBUG:urllib3.connectionpool:https://api.llama.fi:443 \"GET /protocol/beta-finance HTTP/1.1\" 200 749292\n"
     ]
    },
    {
     "name": "stdout",
     "output_type": "stream",
     "text": [
      "https://api.llama.fi/protocol/beta-finance\n"
     ]
    },
    {
     "name": "stderr",
     "output_type": "stream",
     "text": [
      "DEBUG:urllib3.connectionpool:https://api.llama.fi:443 \"GET /protocol/wombat-exchange HTTP/1.1\" 200 64999\n",
      "DEBUG:urllib3.connectionpool:https://api.llama.fi:443 \"GET /protocol/starlay-finance HTTP/1.1\" 200 353679\n"
     ]
    },
    {
     "name": "stdout",
     "output_type": "stream",
     "text": [
      "https://api.llama.fi/protocol/wombat-exchange\n",
      "https://api.llama.fi/protocol/starlay-finance\n"
     ]
    },
    {
     "name": "stderr",
     "output_type": "stream",
     "text": [
      "DEBUG:urllib3.connectionpool:https://api.llama.fi:443 \"GET /protocol/tetu HTTP/1.1\" 200 152344\n"
     ]
    },
    {
     "name": "stdout",
     "output_type": "stream",
     "text": [
      "https://api.llama.fi/protocol/tetu\n"
     ]
    },
    {
     "name": "stderr",
     "output_type": "stream",
     "text": [
      "DEBUG:urllib3.connectionpool:https://api.llama.fi:443 \"GET /protocol/katana HTTP/1.1\" 200 250332\n"
     ]
    },
    {
     "name": "stdout",
     "output_type": "stream",
     "text": [
      "https://api.llama.fi/protocol/katana\n"
     ]
    },
    {
     "name": "stderr",
     "output_type": "stream",
     "text": [
      "DEBUG:urllib3.connectionpool:https://api.llama.fi:443 \"GET /protocol/kaidex HTTP/1.1\" 200 143228\n"
     ]
    },
    {
     "name": "stdout",
     "output_type": "stream",
     "text": [
      "https://api.llama.fi/protocol/kaidex\n"
     ]
    },
    {
     "name": "stderr",
     "output_type": "stream",
     "text": [
      "DEBUG:urllib3.connectionpool:https://api.llama.fi:443 \"GET /protocol/zookeeper HTTP/1.1\" 200 59123\n"
     ]
    },
    {
     "name": "stdout",
     "output_type": "stream",
     "text": [
      "https://api.llama.fi/protocol/zookeeper\n"
     ]
    },
    {
     "name": "stderr",
     "output_type": "stream",
     "text": [
      "DEBUG:urllib3.connectionpool:https://api.llama.fi:443 \"GET /protocol/88mph HTTP/1.1\" 200 1175093\n"
     ]
    },
    {
     "name": "stdout",
     "output_type": "stream",
     "text": [
      "https://api.llama.fi/protocol/88mph\n"
     ]
    },
    {
     "name": "stderr",
     "output_type": "stream",
     "text": [
      "DEBUG:urllib3.connectionpool:https://api.llama.fi:443 \"GET /protocol/ouchi-finance HTTP/1.1\" 200 52886\n"
     ]
    },
    {
     "name": "stdout",
     "output_type": "stream",
     "text": [
      "https://api.llama.fi/protocol/ouchi-finance\n"
     ]
    },
    {
     "name": "stderr",
     "output_type": "stream",
     "text": [
      "DEBUG:urllib3.connectionpool:https://api.llama.fi:443 \"GET /protocol/o3-swap HTTP/1.1\" 502 36\n"
     ]
    },
    {
     "name": "stdout",
     "output_type": "stream",
     "text": [
      "err\n"
     ]
    },
    {
     "name": "stderr",
     "output_type": "stream",
     "text": [
      "DEBUG:urllib3.connectionpool:https://api.llama.fi:443 \"GET /protocol/acala-swap HTTP/1.1\" 200 16630\n"
     ]
    },
    {
     "name": "stdout",
     "output_type": "stream",
     "text": [
      "https://api.llama.fi/protocol/acala-swap\n"
     ]
    },
    {
     "name": "stderr",
     "output_type": "stream",
     "text": [
      "DEBUG:urllib3.connectionpool:https://api.llama.fi:443 \"GET /protocol/position-exchange HTTP/1.1\" 200 289049\n"
     ]
    },
    {
     "name": "stdout",
     "output_type": "stream",
     "text": [
      "https://api.llama.fi/protocol/position-exchange\n"
     ]
    },
    {
     "name": "stderr",
     "output_type": "stream",
     "text": [
      "DEBUG:urllib3.connectionpool:https://api.llama.fi:443 \"GET /protocol/sashimiswap HTTP/1.1\" 200 1387202\n"
     ]
    },
    {
     "name": "stdout",
     "output_type": "stream",
     "text": [
      "https://api.llama.fi/protocol/sashimiswap\n"
     ]
    },
    {
     "name": "stderr",
     "output_type": "stream",
     "text": [
      "DEBUG:urllib3.connectionpool:https://api.llama.fi:443 \"GET /protocol/guard(helmet) HTTP/1.1\" 200 842455\n"
     ]
    },
    {
     "name": "stdout",
     "output_type": "stream",
     "text": [
      "https://api.llama.fi/protocol/guard(helmet)\n"
     ]
    },
    {
     "name": "stderr",
     "output_type": "stream",
     "text": [
      "DEBUG:urllib3.connectionpool:https://api.llama.fi:443 \"GET /protocol/aavegotchi HTTP/1.1\" 200 661347\n"
     ]
    },
    {
     "name": "stdout",
     "output_type": "stream",
     "text": [
      "https://api.llama.fi/protocol/aavegotchi\n"
     ]
    },
    {
     "name": "stderr",
     "output_type": "stream",
     "text": [
      "DEBUG:urllib3.connectionpool:https://api.llama.fi:443 \"GET /protocol/idex HTTP/1.1\" 200 2261805\n"
     ]
    },
    {
     "name": "stdout",
     "output_type": "stream",
     "text": [
      "https://api.llama.fi/protocol/idex\n"
     ]
    },
    {
     "name": "stderr",
     "output_type": "stream",
     "text": [
      "DEBUG:urllib3.connectionpool:https://api.llama.fi:443 \"GET /protocol/truefi HTTP/1.1\" 200 588021\n"
     ]
    },
    {
     "name": "stdout",
     "output_type": "stream",
     "text": [
      "https://api.llama.fi/protocol/truefi\n"
     ]
    },
    {
     "name": "stderr",
     "output_type": "stream",
     "text": [
      "DEBUG:urllib3.connectionpool:https://api.llama.fi:443 \"GET /protocol/gnosis-protocol-v1 HTTP/1.1\" 200 2194555\n"
     ]
    },
    {
     "name": "stdout",
     "output_type": "stream",
     "text": [
      "https://api.llama.fi/protocol/gnosis-protocol-v1\n"
     ]
    }
   ],
   "source": [
    "#get by app\n",
    "api_str = 'https://api.llama.fi/protocol/'\n",
    "# print(protocols)\n",
    "prod = []\n",
    "for index,proto in protocols.iterrows():\n",
    "#     print(proto)\n",
    "    prot = proto['slug']\n",
    "    chains = proto['chainTvls']\n",
    "    apic = api_str + prot\n",
    "#     time.sleep(0.1)\n",
    "    try:\n",
    "        prot_req = s.get(apic, headers=header).json()['chainTvls']\n",
    "        print(apic)\n",
    "        for ch in chains:\n",
    "            ad = pd.json_normalize( prot_req[ch]['tokens'] )\n",
    "            ad_usd = pd.json_normalize( prot_req[ch]['tokensInUsd'] )\n",
    "#             ad = ad.merge(how='left')\n",
    "            if not ad.empty:\n",
    "                ad = pd.melt(ad,id_vars = ['date'])\n",
    "                ad = ad.rename(columns={'variable':'token','value':'token_value'})\n",
    "                ad_usd = pd.melt(ad_usd,id_vars = ['date'])\n",
    "                ad_usd = ad_usd.rename(columns={'variable':'token','value':'usd_value'})\n",
    "                ad = ad.merge(ad_usd,on=['date','token'])\n",
    "                \n",
    "                ad['date'] = pd.to_datetime(ad['date'], unit ='s') #convert to days\n",
    "                ad['token'] = ad['token'].str.replace('tokens.','', regex=False)\n",
    "                ad['protocol'] = prot\n",
    "                ad['chain'] = ch\n",
    "        #         ad['start_date'] = pd.to_datetime(prot[1])\n",
    "                ad['date'] = ad['date'] - timedelta(days=1) #change to eod vs sod\n",
    "                prod.append(ad)\n",
    "    except:\n",
    "        print('err')\n"
   ]
  },
  {
   "cell_type": "code",
   "execution_count": 28,
   "id": "c7c1ddad",
   "metadata": {},
   "outputs": [
    {
     "data": {
      "text/html": [
       "<div>\n",
       "<style scoped>\n",
       "    .dataframe tbody tr th:only-of-type {\n",
       "        vertical-align: middle;\n",
       "    }\n",
       "\n",
       "    .dataframe tbody tr th {\n",
       "        vertical-align: top;\n",
       "    }\n",
       "\n",
       "    .dataframe thead th {\n",
       "        text-align: right;\n",
       "    }\n",
       "</style>\n",
       "<table border=\"1\" class=\"dataframe\">\n",
       "  <thead>\n",
       "    <tr style=\"text-align: right;\">\n",
       "      <th></th>\n",
       "      <th>date</th>\n",
       "      <th>token</th>\n",
       "      <th>token_value</th>\n",
       "      <th>usd_value</th>\n",
       "      <th>protocol</th>\n",
       "      <th>chain</th>\n",
       "    </tr>\n",
       "  </thead>\n",
       "  <tbody>\n",
       "    <tr>\n",
       "      <th>0</th>\n",
       "      <td>2022-05-09 00:00:00</td>\n",
       "      <td>MATIC</td>\n",
       "      <td>61211089.17387</td>\n",
       "      <td>5.060529e+07</td>\n",
       "      <td>makerdao</td>\n",
       "      <td>Ethereum</td>\n",
       "    </tr>\n",
       "    <tr>\n",
       "      <th>1</th>\n",
       "      <td>2022-05-10 00:00:00</td>\n",
       "      <td>MATIC</td>\n",
       "      <td>61211089.17387</td>\n",
       "      <td>5.437283e+07</td>\n",
       "      <td>makerdao</td>\n",
       "      <td>Ethereum</td>\n",
       "    </tr>\n",
       "    <tr>\n",
       "      <th>2</th>\n",
       "      <td>2022-05-11 00:00:00</td>\n",
       "      <td>MATIC</td>\n",
       "      <td>131231089.17387</td>\n",
       "      <td>8.719886e+07</td>\n",
       "      <td>makerdao</td>\n",
       "      <td>Ethereum</td>\n",
       "    </tr>\n",
       "    <tr>\n",
       "      <th>3</th>\n",
       "      <td>2022-05-12 00:00:00</td>\n",
       "      <td>MATIC</td>\n",
       "      <td>131264317.97387</td>\n",
       "      <td>7.932946e+07</td>\n",
       "      <td>makerdao</td>\n",
       "      <td>Ethereum</td>\n",
       "    </tr>\n",
       "    <tr>\n",
       "      <th>4</th>\n",
       "      <td>2022-05-13 00:00:00</td>\n",
       "      <td>MATIC</td>\n",
       "      <td>131264317.97387</td>\n",
       "      <td>9.167802e+07</td>\n",
       "      <td>makerdao</td>\n",
       "      <td>Ethereum</td>\n",
       "    </tr>\n",
       "    <tr>\n",
       "      <th>...</th>\n",
       "      <td>...</td>\n",
       "      <td>...</td>\n",
       "      <td>...</td>\n",
       "      <td>...</td>\n",
       "      <td>...</td>\n",
       "      <td>...</td>\n",
       "    </tr>\n",
       "    <tr>\n",
       "      <th>67579</th>\n",
       "      <td>2022-08-04 00:00:00</td>\n",
       "      <td>UNKNOWN (0xb6728900c317d41b8fdbd624879b02901f0...</td>\n",
       "      <td>NaN</td>\n",
       "      <td>NaN</td>\n",
       "      <td>gnosis-protocol-v1</td>\n",
       "      <td>Ethereum</td>\n",
       "    </tr>\n",
       "    <tr>\n",
       "      <th>67580</th>\n",
       "      <td>2022-08-05 00:00:00</td>\n",
       "      <td>UNKNOWN (0xb6728900c317d41b8fdbd624879b02901f0...</td>\n",
       "      <td>NaN</td>\n",
       "      <td>NaN</td>\n",
       "      <td>gnosis-protocol-v1</td>\n",
       "      <td>Ethereum</td>\n",
       "    </tr>\n",
       "    <tr>\n",
       "      <th>67581</th>\n",
       "      <td>2022-08-06 00:00:00</td>\n",
       "      <td>UNKNOWN (0xb6728900c317d41b8fdbd624879b02901f0...</td>\n",
       "      <td>NaN</td>\n",
       "      <td>NaN</td>\n",
       "      <td>gnosis-protocol-v1</td>\n",
       "      <td>Ethereum</td>\n",
       "    </tr>\n",
       "    <tr>\n",
       "      <th>67582</th>\n",
       "      <td>2022-08-07 00:00:00</td>\n",
       "      <td>UNKNOWN (0xb6728900c317d41b8fdbd624879b02901f0...</td>\n",
       "      <td>NaN</td>\n",
       "      <td>NaN</td>\n",
       "      <td>gnosis-protocol-v1</td>\n",
       "      <td>Ethereum</td>\n",
       "    </tr>\n",
       "    <tr>\n",
       "      <th>67583</th>\n",
       "      <td>2022-08-07 12:59:47</td>\n",
       "      <td>UNKNOWN (0xb6728900c317d41b8fdbd624879b02901f0...</td>\n",
       "      <td>NaN</td>\n",
       "      <td>NaN</td>\n",
       "      <td>gnosis-protocol-v1</td>\n",
       "      <td>Ethereum</td>\n",
       "    </tr>\n",
       "  </tbody>\n",
       "</table>\n",
       "<p>9549957 rows × 6 columns</p>\n",
       "</div>"
      ],
      "text/plain": [
       "                     date                                              token  \\\n",
       "0     2022-05-09 00:00:00                                              MATIC   \n",
       "1     2022-05-10 00:00:00                                              MATIC   \n",
       "2     2022-05-11 00:00:00                                              MATIC   \n",
       "3     2022-05-12 00:00:00                                              MATIC   \n",
       "4     2022-05-13 00:00:00                                              MATIC   \n",
       "...                   ...                                                ...   \n",
       "67579 2022-08-04 00:00:00  UNKNOWN (0xb6728900c317d41b8fdbd624879b02901f0...   \n",
       "67580 2022-08-05 00:00:00  UNKNOWN (0xb6728900c317d41b8fdbd624879b02901f0...   \n",
       "67581 2022-08-06 00:00:00  UNKNOWN (0xb6728900c317d41b8fdbd624879b02901f0...   \n",
       "67582 2022-08-07 00:00:00  UNKNOWN (0xb6728900c317d41b8fdbd624879b02901f0...   \n",
       "67583 2022-08-07 12:59:47  UNKNOWN (0xb6728900c317d41b8fdbd624879b02901f0...   \n",
       "\n",
       "           token_value     usd_value            protocol     chain  \n",
       "0       61211089.17387  5.060529e+07            makerdao  Ethereum  \n",
       "1       61211089.17387  5.437283e+07            makerdao  Ethereum  \n",
       "2      131231089.17387  8.719886e+07            makerdao  Ethereum  \n",
       "3      131264317.97387  7.932946e+07            makerdao  Ethereum  \n",
       "4      131264317.97387  9.167802e+07            makerdao  Ethereum  \n",
       "...                ...           ...                 ...       ...  \n",
       "67579              NaN           NaN  gnosis-protocol-v1  Ethereum  \n",
       "67580              NaN           NaN  gnosis-protocol-v1  Ethereum  \n",
       "67581              NaN           NaN  gnosis-protocol-v1  Ethereum  \n",
       "67582              NaN           NaN  gnosis-protocol-v1  Ethereum  \n",
       "67583              NaN           NaN  gnosis-protocol-v1  Ethereum  \n",
       "\n",
       "[9549957 rows x 6 columns]"
      ]
     },
     "execution_count": 28,
     "metadata": {},
     "output_type": "execute_result"
    }
   ],
   "source": [
    "df_df_all = pd.concat(prod)\n",
    "df_df_all"
   ]
  },
  {
   "cell_type": "code",
   "execution_count": 29,
   "id": "53c381e8",
   "metadata": {},
   "outputs": [
    {
     "data": {
      "text/plain": [
       "89    2022-08-06 00:00:00\n",
       "90    2022-08-07 00:00:00\n",
       "91    2022-08-07 12:59:47\n",
       "597   2022-08-07 12:59:44\n",
       "23    2022-08-07 10:59:05\n",
       "384   2022-08-07 09:59:08\n",
       "40    2022-08-07 08:59:28\n",
       "133   2022-08-07 13:15:15\n",
       "468   2022-08-07 11:59:35\n",
       "262   2022-08-07 10:58:53\n",
       "Name: date, dtype: datetime64[ns]"
      ]
     },
     "metadata": {},
     "output_type": "display_data"
    },
    {
     "name": "stderr",
     "output_type": "stream",
     "text": [
      "/var/folders/by/kltjc8yd0yz_7_wrtrzhrm9m0000gn/T/ipykernel_65434/3806388026.py:6: SettingWithCopyWarning:\n",
      "\n",
      "\n",
      "A value is trying to be set on a copy of a slice from a DataFrame.\n",
      "Try using .loc[row_indexer,col_indexer] = value instead\n",
      "\n",
      "See the caveats in the documentation: https://pandas.pydata.org/pandas-docs/stable/user_guide/indexing.html#returning-a-view-versus-a-copy\n",
      "\n"
     ]
    },
    {
     "data": {
      "text/plain": [
       "90    2022-08-07 00:00:00\n",
       "91    2022-08-07 12:59:47\n",
       "597   2022-08-07 12:59:44\n",
       "23    2022-08-07 10:59:05\n",
       "384   2022-08-07 09:59:08\n",
       "40    2022-08-07 08:59:28\n",
       "133   2022-08-07 13:15:15\n",
       "468   2022-08-07 11:59:35\n",
       "262   2022-08-07 10:58:53\n",
       "Name: date, dtype: datetime64[ns]"
      ]
     },
     "metadata": {},
     "output_type": "display_data"
    },
    {
     "data": {
      "text/html": [
       "<div>\n",
       "<style scoped>\n",
       "    .dataframe tbody tr th:only-of-type {\n",
       "        vertical-align: middle;\n",
       "    }\n",
       "\n",
       "    .dataframe tbody tr th {\n",
       "        vertical-align: top;\n",
       "    }\n",
       "\n",
       "    .dataframe thead th {\n",
       "        text-align: right;\n",
       "    }\n",
       "</style>\n",
       "<table border=\"1\" class=\"dataframe\">\n",
       "  <thead>\n",
       "    <tr style=\"text-align: right;\">\n",
       "      <th></th>\n",
       "      <th>date</th>\n",
       "      <th>token</th>\n",
       "      <th>token_value</th>\n",
       "      <th>usd_value</th>\n",
       "      <th>protocol</th>\n",
       "      <th>chain</th>\n",
       "      <th>last_token_value</th>\n",
       "    </tr>\n",
       "  </thead>\n",
       "  <tbody>\n",
       "  </tbody>\n",
       "</table>\n",
       "</div>"
      ],
      "text/plain": [
       "Empty DataFrame\n",
       "Columns: [date, token, token_value, usd_value, protocol, chain, last_token_value]\n",
       "Index: []"
      ]
     },
     "execution_count": 29,
     "metadata": {},
     "output_type": "execute_result"
    }
   ],
   "source": [
    "# df_df[df_df['protocol']=='perpetual-protocol']\n",
    "#filter down a bit so we can do trailing comp w/o doing every row\n",
    "df_df = df_df_all[df_df_all['date'].dt.date >= date.today()-timedelta(days=trailing_num_days +2) ]\n",
    "display(df_df['date'].drop_duplicates())\n",
    "#trailing comp\n",
    "df_df['last_token_value'] = df_df.groupby(['token','protocol','chain'])['token_value'].shift(1)\n",
    "#now actually filter\n",
    "df_df = df_df[df_df['date'].dt.date >= date.today()-timedelta(days=trailing_num_days +1) ]\n",
    "display(df_df['date'].drop_duplicates())\n",
    "df_df[(df_df['protocol'] == 'uniswap') & (df_df['token'] != 'USDT') & (df_df['token_value'] > 0)]"
   ]
  },
  {
   "cell_type": "code",
   "execution_count": null,
   "id": "d277a590",
   "metadata": {},
   "outputs": [],
   "source": []
  },
  {
   "cell_type": "code",
   "execution_count": 30,
   "id": "840e7c2d",
   "metadata": {},
   "outputs": [],
   "source": [
    "# # DISTINCT TOKENS\n",
    "\n",
    "# token_list = df_df.groupby(['token']).count()\n",
    "# token_list = token_list[token_list['token_value']>=1000]\n",
    "# token_list.sort_values(by='token_value',inplace=True, ascending=False)\n",
    "# token_list.reset_index(inplace=True)\n",
    "# missing_token_list = token_list[~token_list['token'].isin(cg_token_list)]\n",
    "# missing_token_list\n",
    "# missing_token_list"
   ]
  },
  {
   "cell_type": "code",
   "execution_count": 31,
   "id": "8f9eb8e5",
   "metadata": {},
   "outputs": [
    {
     "data": {
      "text/html": [
       "<div>\n",
       "<style scoped>\n",
       "    .dataframe tbody tr th:only-of-type {\n",
       "        vertical-align: middle;\n",
       "    }\n",
       "\n",
       "    .dataframe tbody tr th {\n",
       "        vertical-align: top;\n",
       "    }\n",
       "\n",
       "    .dataframe thead th {\n",
       "        text-align: right;\n",
       "    }\n",
       "</style>\n",
       "<table border=\"1\" class=\"dataframe\">\n",
       "  <thead>\n",
       "    <tr style=\"text-align: right;\">\n",
       "      <th></th>\n",
       "      <th>date</th>\n",
       "      <th>token</th>\n",
       "      <th>token_value</th>\n",
       "      <th>usd_value</th>\n",
       "      <th>protocol</th>\n",
       "      <th>chain</th>\n",
       "      <th>last_token_value</th>\n",
       "      <th>price_usd</th>\n",
       "      <th>net_token_flow</th>\n",
       "      <th>net_dollar_flow</th>\n",
       "    </tr>\n",
       "  </thead>\n",
       "  <tbody>\n",
       "    <tr>\n",
       "      <th>3094</th>\n",
       "      <td>2022-08-07 12:59:47</td>\n",
       "      <td>WETH</td>\n",
       "      <td>4.126229e+05</td>\n",
       "      <td>7.460923e+08</td>\n",
       "      <td>aave-v2</td>\n",
       "      <td>Ethereum</td>\n",
       "      <td>463883.84492</td>\n",
       "      <td>1808.170</td>\n",
       "      <td>-51260.98422</td>\n",
       "      <td>-92688573.836962</td>\n",
       "    </tr>\n",
       "    <tr>\n",
       "      <th>809</th>\n",
       "      <td>2022-08-07 12:59:47</td>\n",
       "      <td>USDC</td>\n",
       "      <td>7.897567e+08</td>\n",
       "      <td>7.905465e+08</td>\n",
       "      <td>arrakis-finance</td>\n",
       "      <td>Ethereum</td>\n",
       "      <td>817700412.60739</td>\n",
       "      <td>1.001</td>\n",
       "      <td>-27943715.10742</td>\n",
       "      <td>-27971658.822528</td>\n",
       "    </tr>\n",
       "    <tr>\n",
       "      <th>404</th>\n",
       "      <td>2022-08-07 12:59:47</td>\n",
       "      <td>DAI</td>\n",
       "      <td>9.250450e+08</td>\n",
       "      <td>9.259701e+08</td>\n",
       "      <td>arrakis-finance</td>\n",
       "      <td>Ethereum</td>\n",
       "      <td>952785621.5319</td>\n",
       "      <td>1.001</td>\n",
       "      <td>-27740603.29238</td>\n",
       "      <td>-27768343.895672</td>\n",
       "    </tr>\n",
       "    <tr>\n",
       "      <th>595</th>\n",
       "      <td>2022-08-07 12:59:44</td>\n",
       "      <td>USDC</td>\n",
       "      <td>1.689407e+08</td>\n",
       "      <td>1.691097e+08</td>\n",
       "      <td>aave-v3</td>\n",
       "      <td>Optimism</td>\n",
       "      <td>193634769.65423</td>\n",
       "      <td>1.001</td>\n",
       "      <td>-24694042.67894</td>\n",
       "      <td>-24718736.72162</td>\n",
       "    </tr>\n",
       "    <tr>\n",
       "      <th>31826</th>\n",
       "      <td>2022-08-07 00:00:00</td>\n",
       "      <td>WETH</td>\n",
       "      <td>2.827280e+05</td>\n",
       "      <td>4.825686e+08</td>\n",
       "      <td>curve</td>\n",
       "      <td>Ethereum</td>\n",
       "      <td>292888.91286</td>\n",
       "      <td>1706.830</td>\n",
       "      <td>-10160.91489</td>\n",
       "      <td>-17342954.36183</td>\n",
       "    </tr>\n",
       "    <tr>\n",
       "      <th>...</th>\n",
       "      <td>...</td>\n",
       "      <td>...</td>\n",
       "      <td>...</td>\n",
       "      <td>...</td>\n",
       "      <td>...</td>\n",
       "      <td>...</td>\n",
       "      <td>...</td>\n",
       "      <td>...</td>\n",
       "      <td>...</td>\n",
       "      <td>...</td>\n",
       "    </tr>\n",
       "    <tr>\n",
       "      <th>3094</th>\n",
       "      <td>2022-08-07 12:59:47</td>\n",
       "      <td>WETH</td>\n",
       "      <td>4.128449e+05</td>\n",
       "      <td>7.464938e+08</td>\n",
       "      <td>aave-v2</td>\n",
       "      <td>Ethereum-borrowed</td>\n",
       "      <td>359581.72313</td>\n",
       "      <td>1808.170</td>\n",
       "      <td>53263.17428</td>\n",
       "      <td>96308873.83842</td>\n",
       "    </tr>\n",
       "    <tr>\n",
       "      <th>744</th>\n",
       "      <td>2022-08-07 12:59:44</td>\n",
       "      <td>USDC</td>\n",
       "      <td>9.173887e+08</td>\n",
       "      <td>9.183061e+08</td>\n",
       "      <td>aave-v3</td>\n",
       "      <td>Optimism-borrowed</td>\n",
       "      <td>809319900.479</td>\n",
       "      <td>1.001</td>\n",
       "      <td>108068841.13133</td>\n",
       "      <td>108176909.972461</td>\n",
       "    </tr>\n",
       "    <tr>\n",
       "      <th>2681</th>\n",
       "      <td>2022-08-07 12:59:44</td>\n",
       "      <td>USDC</td>\n",
       "      <td>1.654799e+09</td>\n",
       "      <td>1.656454e+09</td>\n",
       "      <td>aave-v3</td>\n",
       "      <td>borrowed</td>\n",
       "      <td>1545163401.46484</td>\n",
       "      <td>1.001</td>\n",
       "      <td>109635590.35699</td>\n",
       "      <td>109745225.947348</td>\n",
       "    </tr>\n",
       "    <tr>\n",
       "      <th>19807</th>\n",
       "      <td>2022-08-07 12:59:47</td>\n",
       "      <td>STETH</td>\n",
       "      <td>9.240958e+05</td>\n",
       "      <td>1.609137e+09</td>\n",
       "      <td>aave-v2</td>\n",
       "      <td>Ethereum</td>\n",
       "      <td>839423.32643</td>\n",
       "      <td>1741.310</td>\n",
       "      <td>84672.48895</td>\n",
       "      <td>147441051.734105</td>\n",
       "    </tr>\n",
       "    <tr>\n",
       "      <th>133</th>\n",
       "      <td>2022-08-07 12:59:44</td>\n",
       "      <td>USDT</td>\n",
       "      <td>2.668508e+09</td>\n",
       "      <td>2.671176e+09</td>\n",
       "      <td>instadapp</td>\n",
       "      <td>Ethereum</td>\n",
       "      <td>2511791923.91755</td>\n",
       "      <td>1.001</td>\n",
       "      <td>156715637.43159</td>\n",
       "      <td>156872353.069022</td>\n",
       "    </tr>\n",
       "  </tbody>\n",
       "</table>\n",
       "<p>22187 rows × 10 columns</p>\n",
       "</div>"
      ],
      "text/plain": [
       "                     date  token   token_value     usd_value         protocol  \\\n",
       "3094  2022-08-07 12:59:47   WETH  4.126229e+05  7.460923e+08          aave-v2   \n",
       "809   2022-08-07 12:59:47   USDC  7.897567e+08  7.905465e+08  arrakis-finance   \n",
       "404   2022-08-07 12:59:47    DAI  9.250450e+08  9.259701e+08  arrakis-finance   \n",
       "595   2022-08-07 12:59:44   USDC  1.689407e+08  1.691097e+08          aave-v3   \n",
       "31826 2022-08-07 00:00:00   WETH  2.827280e+05  4.825686e+08            curve   \n",
       "...                   ...    ...           ...           ...              ...   \n",
       "3094  2022-08-07 12:59:47   WETH  4.128449e+05  7.464938e+08          aave-v2   \n",
       "744   2022-08-07 12:59:44   USDC  9.173887e+08  9.183061e+08          aave-v3   \n",
       "2681  2022-08-07 12:59:44   USDC  1.654799e+09  1.656454e+09          aave-v3   \n",
       "19807 2022-08-07 12:59:47  STETH  9.240958e+05  1.609137e+09          aave-v2   \n",
       "133   2022-08-07 12:59:44   USDT  2.668508e+09  2.671176e+09        instadapp   \n",
       "\n",
       "                   chain  last_token_value  price_usd   net_token_flow  \\\n",
       "3094            Ethereum      463883.84492   1808.170     -51260.98422   \n",
       "809             Ethereum   817700412.60739      1.001  -27943715.10742   \n",
       "404             Ethereum    952785621.5319      1.001  -27740603.29238   \n",
       "595             Optimism   193634769.65423      1.001  -24694042.67894   \n",
       "31826           Ethereum      292888.91286   1706.830     -10160.91489   \n",
       "...                  ...               ...        ...              ...   \n",
       "3094   Ethereum-borrowed      359581.72313   1808.170      53263.17428   \n",
       "744    Optimism-borrowed     809319900.479      1.001  108068841.13133   \n",
       "2681            borrowed  1545163401.46484      1.001  109635590.35699   \n",
       "19807           Ethereum      839423.32643   1741.310      84672.48895   \n",
       "133             Ethereum  2511791923.91755      1.001  156715637.43159   \n",
       "\n",
       "        net_dollar_flow  \n",
       "3094   -92688573.836962  \n",
       "809    -27971658.822528  \n",
       "404    -27768343.895672  \n",
       "595     -24718736.72162  \n",
       "31826   -17342954.36183  \n",
       "...                 ...  \n",
       "3094     96308873.83842  \n",
       "744    108176909.972461  \n",
       "2681   109745225.947348  \n",
       "19807  147441051.734105  \n",
       "133    156872353.069022  \n",
       "\n",
       "[22187 rows x 10 columns]"
      ]
     },
     "execution_count": 31,
     "metadata": {},
     "output_type": "execute_result"
    }
   ],
   "source": [
    "# data_df = df_df.merge(cg_df, on=['date','token'],how='inner')\n",
    "data_df = df_df.copy()\n",
    "data_df['token_value'] = data_df['token_value'].replace(0, np.nan)\n",
    "data_df['price_usd'] = data_df['usd_value']/data_df['token_value']\n",
    "\n",
    "# print(len(data_df))\n",
    "data_df.sort_values(by='date',inplace=True)\n",
    "# print(len(data_df))\n",
    "# data_df['net_token_flow'] = data_df.groupby(['token','protocol','chain'])['token_value'].apply(lambda x: x- x.shift(1))\n",
    "data_df['net_token_flow'] = data_df['token_value'] - data_df['last_token_value']\n",
    "\n",
    "# print(len(data_df))\n",
    "data_df['net_dollar_flow'] = data_df['net_token_flow'] * data_df['price_usd']\n",
    "\n",
    "\n",
    "# data_df = data_df[data_df['token'] != 'RVRS'] #Harmony error\n",
    "# data_df = data_df[data_df['token'] != 'usn'] #Harmony error\n",
    "# data_df = data_df[data_df['protocol'] != 'shibaswap'] #Harmony error\n",
    "data_df = data_df[abs(data_df['net_dollar_flow']) < 50_000_000_000] #50 bil error bar\n",
    "data_df = data_df[~data_df['net_dollar_flow'].isna()] #50 bil error bar\n",
    "# display(data_df[\n",
    "# #         (data_df['protocol'] == 'sushiswap') & (data_df['chain'] == 'Harmony')\n",
    "#         (data_df['net_dollar_flow'].notna()) & (data_df['net_dollar_flow'] != 0)\n",
    "#         ].sort_values('net_dollar_flow'))\n",
    "\n",
    "\n",
    "data_df.sort_values('net_dollar_flow')\n"
   ]
  },
  {
   "cell_type": "code",
   "execution_count": 32,
   "id": "1083af8c",
   "metadata": {},
   "outputs": [
    {
     "data": {
      "text/html": [
       "<div>\n",
       "<style scoped>\n",
       "    .dataframe tbody tr th:only-of-type {\n",
       "        vertical-align: middle;\n",
       "    }\n",
       "\n",
       "    .dataframe tbody tr th {\n",
       "        vertical-align: top;\n",
       "    }\n",
       "\n",
       "    .dataframe thead th {\n",
       "        text-align: right;\n",
       "    }\n",
       "</style>\n",
       "<table border=\"1\" class=\"dataframe\">\n",
       "  <thead>\n",
       "    <tr style=\"text-align: right;\">\n",
       "      <th></th>\n",
       "      <th>date</th>\n",
       "    </tr>\n",
       "  </thead>\n",
       "  <tbody>\n",
       "    <tr>\n",
       "      <th>90</th>\n",
       "      <td>2022-08-07 00:00:00</td>\n",
       "    </tr>\n",
       "    <tr>\n",
       "      <th>409</th>\n",
       "      <td>2022-08-07 08:59:28</td>\n",
       "    </tr>\n",
       "    <tr>\n",
       "      <th>384</th>\n",
       "      <td>2022-08-07 09:59:08</td>\n",
       "    </tr>\n",
       "    <tr>\n",
       "      <th>3944</th>\n",
       "      <td>2022-08-07 10:58:53</td>\n",
       "    </tr>\n",
       "    <tr>\n",
       "      <th>239</th>\n",
       "      <td>2022-08-07 10:59:05</td>\n",
       "    </tr>\n",
       "    <tr>\n",
       "      <th>468</th>\n",
       "      <td>2022-08-07 11:59:35</td>\n",
       "    </tr>\n",
       "    <tr>\n",
       "      <th>471941</th>\n",
       "      <td>2022-08-07 12:59:44</td>\n",
       "    </tr>\n",
       "    <tr>\n",
       "      <th>839</th>\n",
       "      <td>2022-08-07 12:59:47</td>\n",
       "    </tr>\n",
       "    <tr>\n",
       "      <th>401</th>\n",
       "      <td>2022-08-07 13:15:15</td>\n",
       "    </tr>\n",
       "  </tbody>\n",
       "</table>\n",
       "</div>"
      ],
      "text/plain": [
       "                      date\n",
       "90     2022-08-07 00:00:00\n",
       "409    2022-08-07 08:59:28\n",
       "384    2022-08-07 09:59:08\n",
       "3944   2022-08-07 10:58:53\n",
       "239    2022-08-07 10:59:05\n",
       "468    2022-08-07 11:59:35\n",
       "471941 2022-08-07 12:59:44\n",
       "839    2022-08-07 12:59:47\n",
       "401    2022-08-07 13:15:15"
      ]
     },
     "execution_count": 32,
     "metadata": {},
     "output_type": "execute_result"
    }
   ],
   "source": [
    "data_df[['date']].drop_duplicates().sort_values('date')\n",
    "# data_df[data_df['date'].dt.date != data_df['date']].sort_values('date')"
   ]
  },
  {
   "cell_type": "code",
   "execution_count": 33,
   "id": "d1ae7150",
   "metadata": {},
   "outputs": [],
   "source": [
    "# data_df[data_df['protocol']=='perpetual-protocol'].sort_values(by='date')\n",
    "\n",
    "# segment_cols = ['date','protocol','chain','token']"
   ]
  },
  {
   "cell_type": "code",
   "execution_count": 34,
   "id": "59f3f879",
   "metadata": {},
   "outputs": [],
   "source": [
    "netdf_df = data_df[['date','protocol','chain','net_dollar_flow','usd_value']]\n",
    "netdf_df = netdf_df.fillna(0)\n",
    "netdf_df = netdf_df.groupby(['date','protocol','chain']).sum(['net_dollar_flow','usd_value']) ##agg by app\n",
    "# display(netdf_df)\n",
    "#usd_value is the TVL on a given day\n",
    "netdf_df = netdf_df.groupby(['date','protocol','chain','usd_value']).sum(['net_dollar_flow'])\n",
    "netdf_df.reset_index(inplace=True)\n",
    "# display(netdf_df)\n",
    "netdf_df['cumul_net_dollar_flow'] = netdf_df[['protocol','chain','net_dollar_flow']]\\\n",
    "                                    .groupby(['protocol','chain']).cumsum()\n",
    "netdf_df.reset_index(inplace=True)\n",
    "netdf_df.drop(columns=['index'],inplace=True)\n"
   ]
  },
  {
   "cell_type": "code",
   "execution_count": 35,
   "id": "18ccf06e",
   "metadata": {},
   "outputs": [],
   "source": [
    "#get latest\n",
    "netdf_df['rank_desc'] = netdf_df.groupby(['protocol', 'chain'])['date'].\\\n",
    "                            rank(method='dense',ascending=False).astype(int)\n",
    "# netdf_df[netdf_df['chain'] == 'Klaytn']"
   ]
  },
  {
   "cell_type": "code",
   "execution_count": 36,
   "id": "c0bdf6d8",
   "metadata": {},
   "outputs": [
    {
     "name": "stderr",
     "output_type": "stream",
     "text": [
      "/Users/michaelsilberling/opt/anaconda3/lib/python3.9/site-packages/plotly/express/_core.py:1616: FutureWarning:\n",
      "\n",
      "The frame.append method is deprecated and will be removed from pandas in a future version. Use pandas.concat instead.\n",
      "\n",
      "/Users/michaelsilberling/opt/anaconda3/lib/python3.9/site-packages/plotly/express/_core.py:1616: FutureWarning:\n",
      "\n",
      "The frame.append method is deprecated and will be removed from pandas in a future version. Use pandas.concat instead.\n",
      "\n",
      "/Users/michaelsilberling/opt/anaconda3/lib/python3.9/site-packages/plotly/express/_core.py:1616: FutureWarning:\n",
      "\n",
      "The frame.append method is deprecated and will be removed from pandas in a future version. Use pandas.concat instead.\n",
      "\n"
     ]
    },
    {
     "data": {
      "application/vnd.plotly.v1+json": {
       "config": {
        "plotlyServerURL": "https://plot.ly"
       },
       "data": [
        {
         "branchvalues": "total",
         "customdata": [
          [
           -1
          ],
          [
           -1
          ],
          [
           -1
          ],
          [
           -1
          ],
          [
           -1
          ],
          [
           1
          ],
          [
           -1
          ],
          [
           -1
          ],
          [
           -1
          ],
          [
           -1
          ],
          [
           -1
          ],
          [
           -1
          ],
          [
           -1
          ],
          [
           1
          ],
          [
           1
          ],
          [
           1
          ],
          [
           -1
          ],
          [
           -1
          ],
          [
           1
          ],
          [
           1
          ],
          [
           1
          ],
          [
           -1
          ],
          [
           1
          ],
          [
           1
          ],
          [
           1
          ],
          [
           1
          ],
          [
           1
          ],
          [
           1
          ],
          [
           1
          ],
          [
           1
          ],
          [
           1
          ],
          [
           -1
          ],
          [
           -1
          ],
          [
           1
          ],
          [
           1
          ],
          [
           -1
          ],
          [
           1
          ],
          [
           1
          ],
          [
           1
          ],
          [
           1
          ],
          [
           1
          ],
          [
           1
          ],
          [
           -1
          ],
          [
           1
          ],
          [
           1
          ],
          [
           -1
          ],
          [
           1
          ],
          [
           1
          ],
          [
           -1
          ],
          [
           -1
          ],
          [
           -1
          ],
          [
           -1
          ],
          [
           -1
          ],
          [
           1
          ],
          [
           1
          ],
          [
           1
          ],
          [
           -1
          ],
          [
           -1
          ],
          [
           -1
          ],
          [
           1
          ],
          [
           -1
          ],
          [
           -1
          ],
          [
           -1
          ],
          [
           1
          ],
          [
           -1
          ],
          [
           1
          ],
          [
           1
          ],
          [
           -1
          ],
          [
           1
          ],
          [
           -1
          ],
          [
           1
          ],
          [
           -1
          ],
          [
           -1
          ],
          [
           -1
          ],
          [
           1
          ],
          [
           1
          ],
          [
           1
          ],
          [
           1
          ],
          [
           -1
          ],
          [
           1
          ],
          [
           1
          ],
          [
           1
          ],
          [
           1
          ],
          [
           1
          ],
          [
           1
          ],
          [
           1
          ],
          [
           1
          ],
          [
           1
          ],
          [
           1
          ],
          [
           1
          ],
          [
           1
          ],
          [
           1
          ],
          [
           1
          ],
          [
           1
          ],
          [
           -1
          ],
          [
           1
          ],
          [
           -1
          ],
          [
           -1
          ],
          [
           -1
          ],
          [
           -1
          ],
          [
           -1
          ],
          [
           -1
          ],
          [
           1
          ],
          [
           1
          ],
          [
           1
          ],
          [
           1
          ],
          [
           -1
          ],
          [
           -1
          ],
          [
           1
          ],
          [
           -1
          ],
          [
           -1
          ],
          [
           1
          ],
          [
           1
          ],
          [
           -1
          ],
          [
           1
          ],
          [
           1
          ],
          [
           1
          ],
          [
           1
          ],
          [
           1
          ],
          [
           -1
          ],
          [
           -1
          ],
          [
           -1
          ],
          [
           -1
          ],
          [
           1
          ],
          [
           -1
          ],
          [
           -1
          ],
          [
           1
          ],
          [
           1
          ],
          [
           1
          ],
          [
           -1
          ],
          [
           -1
          ],
          [
           1
          ],
          [
           1
          ],
          [
           1
          ],
          [
           -1
          ],
          [
           1
          ],
          [
           -1
          ],
          [
           -1
          ],
          [
           1
          ],
          [
           -1
          ],
          [
           -1
          ],
          [
           1
          ],
          [
           1
          ],
          [
           1
          ],
          [
           1
          ],
          [
           -1
          ],
          [
           -1
          ],
          [
           -1
          ],
          [
           1
          ],
          [
           1
          ],
          [
           -1
          ],
          [
           1
          ],
          [
           1
          ],
          [
           -1
          ],
          [
           1
          ],
          [
           1
          ],
          [
           -1
          ],
          [
           -1
          ],
          [
           -1
          ],
          [
           -1
          ],
          [
           -1
          ],
          [
           -1
          ],
          [
           1
          ],
          [
           -1
          ],
          [
           -1
          ],
          [
           -1
          ],
          [
           -1
          ],
          [
           1
          ],
          [
           1
          ],
          [
           -1
          ],
          [
           -1
          ],
          [
           1
          ],
          [
           -1
          ],
          [
           -1
          ],
          [
           -1
          ],
          [
           1
          ],
          [
           -1
          ],
          [
           -1
          ],
          [
           1
          ],
          [
           1
          ],
          [
           -1
          ],
          [
           -1
          ],
          [
           1
          ],
          [
           1
          ],
          [
           -1
          ],
          [
           -1
          ],
          [
           -1
          ],
          [
           1
          ],
          [
           1
          ],
          [
           -1
          ],
          [
           1
          ],
          [
           1
          ],
          [
           -1
          ],
          [
           1
          ],
          [
           1
          ],
          [
           -1
          ],
          [
           1
          ],
          [
           -1
          ],
          [
           -1
          ],
          [
           -1
          ],
          [
           1
          ],
          [
           1
          ],
          [
           -1
          ],
          [
           -1
          ],
          [
           -1
          ],
          [
           -1
          ],
          [
           -1
          ],
          [
           1
          ],
          [
           1
          ],
          [
           1
          ],
          [
           1
          ],
          [
           1
          ],
          [
           1
          ],
          [
           1
          ],
          [
           1
          ],
          [
           1
          ],
          [
           1
          ],
          [
           1
          ],
          [
           -1
          ],
          [
           1
          ],
          [
           -1
          ],
          [
           1
          ],
          [
           -1
          ],
          [
           1
          ],
          [
           1
          ],
          [
           1
          ],
          [
           -1
          ],
          [
           1
          ],
          [
           -1
          ],
          [
           -1
          ],
          [
           1
          ],
          [
           -1
          ],
          [
           1
          ],
          [
           -1
          ],
          [
           1
          ],
          [
           1
          ],
          [
           -1
          ],
          [
           1
          ],
          [
           1
          ],
          [
           -1
          ],
          [
           -1
          ],
          [
           -1
          ],
          [
           -1
          ],
          [
           -1
          ],
          [
           -1
          ],
          [
           1
          ],
          [
           -1
          ],
          [
           -1
          ],
          [
           -1
          ],
          [
           -1
          ],
          [
           1
          ],
          [
           1
          ],
          [
           1
          ],
          [
           1
          ],
          [
           1
          ],
          [
           1
          ],
          [
           -1
          ],
          [
           1
          ],
          [
           1
          ],
          [
           -1
          ],
          [
           1
          ],
          [
           -1
          ],
          [
           1
          ],
          [
           1
          ],
          [
           -1
          ],
          [
           -1
          ],
          [
           1
          ],
          [
           1
          ],
          [
           -1
          ],
          [
           1
          ],
          [
           1
          ],
          [
           -1
          ],
          [
           1
          ],
          [
           1
          ],
          [
           -1
          ],
          [
           1
          ],
          [
           1
          ],
          [
           1
          ],
          [
           1
          ],
          [
           1
          ],
          [
           1
          ],
          [
           1
          ],
          [
           -1
          ],
          [
           -1
          ],
          [
           -1
          ],
          [
           1
          ],
          [
           -1
          ],
          [
           1
          ],
          [
           -1
          ],
          [
           -1
          ],
          [
           -1
          ],
          [
           -1
          ],
          [
           -1
          ],
          [
           -1
          ],
          [
           -1
          ],
          [
           -1
          ],
          [
           1
          ],
          [
           1
          ],
          [
           1
          ],
          [
           1
          ],
          [
           1
          ],
          [
           1
          ],
          [
           -1
          ],
          [
           -1
          ],
          [
           -1
          ],
          [
           -1
          ],
          [
           -1
          ],
          [
           1
          ],
          [
           1
          ],
          [
           -1
          ],
          [
           1
          ],
          [
           -1
          ],
          [
           1
          ],
          [
           -1
          ],
          [
           -1
          ],
          [
           -1
          ],
          [
           -1
          ],
          [
           -1
          ],
          [
           -1
          ],
          [
           1
          ],
          [
           -1
          ],
          [
           -1
          ],
          [
           1
          ],
          [
           1
          ],
          [
           1
          ],
          [
           1
          ],
          [
           1
          ],
          [
           1
          ],
          [
           1
          ],
          [
           1
          ],
          [
           1
          ],
          [
           1
          ],
          [
           -1
          ],
          [
           1
          ],
          [
           -1
          ],
          [
           -1
          ],
          [
           1
          ],
          [
           1
          ],
          [
           1
          ],
          [
           1
          ],
          [
           -1
          ],
          [
           -1
          ],
          [
           -1
          ],
          [
           -1
          ],
          [
           1
          ],
          [
           1
          ],
          [
           -1
          ],
          [
           1
          ],
          [
           -1
          ],
          [
           1
          ],
          [
           -1
          ],
          [
           -1
          ],
          [
           -1
          ],
          [
           -1
          ],
          [
           1
          ],
          [
           1
          ],
          [
           1
          ],
          [
           1
          ],
          [
           1
          ],
          [
           -1
          ],
          [
           -1
          ],
          [
           -1
          ],
          [
           1
          ],
          [
           -1
          ],
          [
           1
          ],
          [
           1
          ],
          [
           -1
          ],
          [
           -1
          ],
          [
           1
          ],
          [
           1
          ],
          [
           -1
          ],
          [
           -1
          ],
          [
           1
          ],
          [
           1
          ],
          [
           1
          ],
          [
           1
          ],
          [
           -1
          ],
          [
           1
          ],
          [
           1
          ],
          [
           -1
          ],
          [
           -1
          ],
          [
           -1
          ],
          [
           1
          ],
          [
           -1
          ],
          [
           1
          ],
          [
           1
          ],
          [
           1
          ],
          [
           -1
          ],
          [
           -1
          ],
          [
           1
          ],
          [
           -1
          ],
          [
           1
          ],
          [
           1
          ],
          [
           1
          ],
          [
           1
          ],
          [
           1
          ],
          [
           1
          ],
          [
           1
          ],
          [
           1
          ],
          [
           1
          ],
          [
           1
          ],
          [
           1
          ],
          [
           1
          ],
          [
           1
          ],
          [
           1
          ],
          [
           -1
          ],
          [
           1
          ],
          [
           1
          ],
          [
           1
          ],
          [
           1
          ],
          [
           1
          ],
          [
           1
          ],
          [
           -1
          ],
          [
           1
          ],
          [
           1
          ],
          [
           1
          ],
          [
           1
          ],
          [
           1
          ],
          [
           1
          ],
          [
           1
          ],
          [
           1
          ],
          [
           1
          ],
          [
           1
          ],
          [
           1
          ],
          [
           1
          ],
          [
           1
          ],
          [
           1
          ],
          [
           1
          ],
          [
           1
          ],
          [
           1
          ],
          [
           1
          ],
          [
           -1
          ],
          [
           -1
          ],
          [
           -1
          ],
          [
           1
          ],
          [
           -1
          ],
          [
           -1
          ],
          [
           -1
          ],
          [
           1
          ],
          [
           1
          ],
          [
           1
          ],
          [
           -1
          ],
          [
           -1
          ],
          [
           -1
          ],
          [
           -1
          ],
          [
           -1
          ],
          [
           -1
          ],
          [
           -1
          ],
          [
           -1
          ],
          [
           -1
          ],
          [
           1
          ],
          [
           -1
          ],
          [
           1
          ],
          [
           -1
          ],
          [
           -1
          ],
          [
           1
          ],
          [
           1
          ],
          [
           1
          ],
          [
           1
          ],
          [
           1
          ],
          [
           -1
          ],
          [
           1
          ],
          [
           -1
          ],
          [
           1
          ],
          [
           -1
          ],
          [
           -1
          ],
          [
           -1
          ],
          [
           -1
          ],
          [
           -1
          ],
          [
           1
          ],
          [
           1
          ],
          [
           -1
          ],
          [
           -1
          ],
          [
           -1
          ],
          [
           1
          ],
          [
           -1
          ],
          [
           -1
          ],
          [
           -1
          ],
          [
           -1
          ],
          [
           1
          ],
          [
           1
          ],
          [
           -1
          ],
          [
           -1
          ],
          [
           -1
          ],
          [
           1
          ],
          [
           1
          ],
          [
           1
          ],
          [
           -1
          ],
          [
           1
          ],
          [
           -1
          ],
          [
           1
          ],
          [
           1
          ],
          [
           1
          ],
          [
           1
          ],
          [
           -1
          ],
          [
           -1
          ],
          [
           1
          ],
          [
           1
          ],
          [
           1
          ],
          [
           1
          ],
          [
           -1
          ],
          [
           -1
          ],
          [
           -1
          ],
          [
           -1
          ],
          [
           -1
          ],
          [
           1
          ],
          [
           1
          ],
          [
           -1
          ],
          [
           1
          ],
          [
           -1
          ],
          [
           1
          ],
          [
           -1
          ],
          [
           -1
          ],
          [
           -1
          ],
          [
           1
          ],
          [
           1
          ],
          [
           1
          ],
          [
           1
          ],
          [
           1
          ],
          [
           -1
          ],
          [
           1
          ],
          [
           1
          ],
          [
           -1
          ],
          [
           1
          ],
          [
           1
          ],
          [
           -1
          ],
          [
           1
          ],
          [
           -1
          ],
          [
           1
          ],
          [
           1
          ],
          [
           1
          ],
          [
           1
          ],
          [
           1
          ],
          [
           -1
          ],
          [
           -1
          ],
          [
           -1
          ],
          [
           -1
          ],
          [
           -1
          ],
          [
           -1
          ],
          [
           -1
          ],
          [
           -1
          ],
          [
           -1
          ],
          [
           1
          ],
          [
           1
          ],
          [
           1
          ],
          [
           -1
          ],
          [
           -1
          ],
          [
           -1
          ],
          [
           -1
          ],
          [
           1
          ],
          [
           -1
          ],
          [
           -1
          ],
          [
           1
          ],
          [
           -1
          ],
          [
           1
          ],
          [
           -1
          ],
          [
           1
          ],
          [
           -1
          ],
          [
           1
          ],
          [
           -1
          ],
          [
           1
          ],
          [
           -1
          ],
          [
           -1
          ],
          [
           -1
          ],
          [
           -1
          ],
          [
           1
          ],
          [
           1
          ],
          [
           1
          ],
          [
           -1
          ],
          [
           -1
          ],
          [
           1
          ],
          [
           1
          ],
          [
           1
          ],
          [
           -1
          ],
          [
           -1
          ],
          [
           1
          ],
          [
           -1
          ],
          [
           1
          ],
          [
           1
          ],
          [
           -1
          ],
          [
           -1
          ],
          [
           1
          ],
          [
           -1
          ],
          [
           -1
          ],
          [
           1
          ],
          [
           -1
          ],
          [
           1
          ],
          [
           -1
          ],
          [
           -1
          ],
          [
           1
          ],
          [
           1
          ],
          [
           1
          ],
          [
           -1
          ],
          [
           -1
          ],
          [
           -1
          ],
          [
           -1
          ],
          [
           1
          ],
          [
           -1
          ],
          [
           -1
          ],
          [
           -1
          ],
          [
           1
          ],
          [
           1
          ],
          [
           1
          ],
          [
           -1
          ],
          [
           -1
          ],
          [
           1
          ],
          [
           1
          ],
          [
           1
          ],
          [
           1
          ],
          [
           -1
          ],
          [
           -1
          ],
          [
           -1
          ],
          [
           1
          ],
          [
           1
          ],
          [
           -1
          ],
          [
           -1
          ],
          [
           1
          ],
          [
           1
          ],
          [
           -1
          ],
          [
           -1
          ],
          [
           1
          ],
          [
           1
          ],
          [
           -1
          ],
          [
           -1
          ],
          [
           1
          ],
          [
           -1
          ],
          [
           -1
          ],
          [
           1
          ],
          [
           -1
          ],
          [
           -1
          ],
          [
           1
          ],
          [
           1
          ],
          [
           -1
          ],
          [
           -1
          ],
          [
           -1
          ],
          [
           1
          ],
          [
           -1
          ],
          [
           1
          ],
          [
           1
          ],
          [
           -1
          ],
          [
           -1
          ],
          [
           -1
          ],
          [
           -1
          ],
          [
           -1
          ],
          [
           -1
          ],
          [
           -1
          ],
          [
           -1
          ],
          [
           1
          ],
          [
           -1
          ],
          [
           1
          ],
          [
           1
          ],
          [
           1
          ],
          [
           1
          ],
          [
           -1
          ],
          [
           -1
          ],
          [
           1
          ],
          [
           1
          ],
          [
           -1
          ],
          [
           -1
          ],
          [
           1
          ],
          [
           1
          ],
          [
           -1
          ],
          [
           1
          ],
          [
           1
          ],
          [
           1
          ],
          [
           -1
          ],
          [
           -1
          ],
          [
           1
          ],
          [
           1
          ],
          [
           -1
          ],
          [
           -1
          ],
          [
           1
          ],
          [
           1
          ],
          [
           1
          ],
          [
           1
          ],
          [
           1
          ],
          [
           1
          ],
          [
           1
          ],
          [
           1
          ],
          [
           1
          ],
          [
           1
          ],
          [
           1
          ],
          [
           1
          ],
          [
           1
          ],
          [
           1
          ],
          [
           -1
          ],
          [
           -1
          ],
          [
           -1
          ],
          [
           1
          ],
          [
           -1
          ],
          [
           1
          ],
          [
           -1
          ],
          [
           1
          ],
          [
           1
          ],
          [
           1
          ],
          [
           -1
          ],
          [
           1
          ],
          [
           1
          ],
          [
           -1
          ],
          [
           -1
          ],
          [
           -1
          ],
          [
           -1
          ],
          [
           -1
          ],
          [
           -1
          ],
          [
           1
          ],
          [
           1
          ],
          [
           -1
          ],
          [
           -1
          ],
          [
           1
          ],
          [
           1
          ],
          [
           1
          ],
          [
           0.4891182080094589
          ],
          [
           -0.3952804852354656
          ],
          [
           -0.898923987721536
          ],
          [
           0.3960883594998843
          ],
          [
           0.0754080669154013
          ],
          [
           -0.10709236707478581
          ],
          [
           1
          ],
          [
           0.8653859249828466
          ],
          [
           -0.9559100995552096
          ],
          [
           1
          ],
          [
           1
          ],
          [
           1
          ],
          [
           -0.5418079404147185
          ],
          [
           -0.25032911242340505
          ],
          [
           1
          ],
          [
           -0.9604157934173051
          ],
          [
           -1
          ],
          [
           1
          ],
          [
           1
          ],
          [
           1
          ],
          [
           1
          ],
          [
           1
          ],
          [
           0.6679386831032501
          ],
          [
           0.6935073276453197
          ],
          [
           -1
          ],
          [
           -1
          ],
          [
           1
          ],
          [
           0.30717878682487215
          ],
          [
           -1
          ],
          [
           1
          ],
          [
           0.3010177137610584
          ],
          [
           0.7748627313712643
          ],
          [
           -1
          ],
          [
           -1
          ],
          [
           -1
          ],
          [
           1
          ],
          [
           -0.9470731446463996
          ],
          [
           1
          ],
          [
           1
          ],
          [
           -0.9999999954777596
          ],
          [
           0.7835074765312718
          ],
          [
           1
          ],
          [
           1
          ],
          [
           1
          ],
          [
           1
          ],
          [
           -0.6851081554728652
          ],
          [
           -1
          ],
          [
           0.7830971063577044
          ],
          [
           0.9921591724996047
          ],
          [
           0.46411751247815053
          ],
          [
           0.9557818389693775
          ],
          [
           0.6245634302343107
          ],
          [
           1
          ],
          [
           0.010843971326927238
          ],
          [
           0.5530813444094076
          ],
          [
           1
          ],
          [
           1
          ],
          [
           0.7359646670709924
          ],
          [
           -0.8651927564915521
          ],
          [
           1
          ],
          [
           1
          ],
          [
           1
          ],
          [
           1
          ],
          [
           -1
          ],
          [
           -1
          ],
          [
           0.04400713805351006
          ],
          [
           1
          ],
          [
           -1
          ],
          [
           1
          ],
          [
           0.9961099078196829
          ],
          [
           0.9997454089099514
          ],
          [
           -0.8455323013653802
          ],
          [
           1
          ],
          [
           -1
          ],
          [
           -1
          ],
          [
           1
          ],
          [
           -1
          ],
          [
           -0.4027001008355092
          ],
          [
           -1
          ],
          [
           -0.5404195525145936
          ],
          [
           -0.99558064261663
          ],
          [
           0.37040087582334197
          ],
          [
           -1
          ],
          [
           0.6045819512802775
          ]
         ],
         "domain": {
          "x": [
           0,
           1
          ],
          "y": [
           0,
           1
          ]
         },
         "hovertemplate": "labels=%{label}<br>abs_cumul_net_dollar_flow=%{value}<br>parent=%{parent}<br>id=%{id}<br>flow_direction=%{color}<extra></extra>",
         "ids": [
          "all/Solana/01",
          "all/Ethereum/88mph",
          "all/Fantom/88mph",
          "all/Ethereum/aave-v1",
          "all/Avalanche/aave-v2",
          "all/Ethereum/aave-v2",
          "all/Ethereum-pool2/aave-v2",
          "all/Polygon/aave-v2",
          "all/pool2/aave-v2",
          "all/Arbitrum/aave-v3",
          "all/Avalanche/aave-v3",
          "all/Fantom/aave-v3",
          "all/Harmony/aave-v3",
          "all/Optimism/aave-v3",
          "all/Polygon/aave-v3",
          "all/Polygon/aavegotchi",
          "all/Polygon-pool2/aavegotchi",
          "all/pool2/aavegotchi",
          "all/Acala/acala-dollar",
          "all/Acala/acala-liquid-staking",
          "all/Acala/acala-swap",
          "all/Ethereum/across",
          "all/Astar/acryptos",
          "all/Avalanche/acryptos",
          "all/Binance/acryptos",
          "all/Cronos/acryptos",
          "all/Fantom/acryptos",
          "all/Harmony/acryptos",
          "all/Moonbeam/acryptos",
          "all/Moonriver/acryptos",
          "all/xDai/acryptos",
          "all/Ethereum/alchemix",
          "all/Fantom/alchemix",
          "all/Solana/aldrin",
          "all/Algorand/algofi",
          "all/Avalanche/allbridge",
          "all/Binance/allbridge",
          "all/Celo/allbridge",
          "all/Ethereum/allbridge",
          "all/Fantom/allbridge",
          "all/Heco/allbridge",
          "all/Near/allbridge",
          "all/Polygon/allbridge",
          "all/Solana/allbridge",
          "all/Terra/allbridge",
          "all/Binance/alpaca-finance",
          "all/Fantom/alpaca-finance",
          "all/Arbitrum/angle",
          "all/Ethereum/angle",
          "all/Optimism/angle",
          "all/Polygon/angle",
          "all/Binance/ankr",
          "all/Ethereum/ankr",
          "all/Fantom/ankr",
          "all/Kusama/ankr",
          "all/Polkadot/ankr",
          "all/Binance/apeswap-amm",
          "all/Ethereum/apeswap-amm",
          "all/Polygon/apeswap-amm",
          "all/Binance/apeswap-lending",
          "all/Binance/apollox",
          "all/Binance-pool2/apollox",
          "all/pool2/apollox",
          "all/Ethereum/armor",
          "all/Ethereum/arrakis-finance",
          "all/Optimism/arrakis-finance",
          "all/Polygon/arrakis-finance",
          "all/Astar/arthswap",
          "all/Terra/astroport",
          "all/Terra2/astroport",
          "all/Ethereum/aura",
          "all/Aurora/aurigami",
          "all/Ethereum/b.protocol",
          "all/Polygon/b.protocol",
          "all/Binance/babyswap",
          "all/Arbitrum/balancer",
          "all/Ethereum/balancer",
          "all/Polygon/balancer",
          "all/Ethereum/bancor",
          "all/Aurora/bastion",
          "all/Arbitrum/beefy",
          "all/Aurora/beefy",
          "all/Avalanche/beefy",
          "all/Binance/beefy",
          "all/Celo/beefy",
          "all/Cronos/beefy",
          "all/Fantom/beefy",
          "all/Fuse/beefy",
          "all/Harmony/beefy",
          "all/Heco/beefy",
          "all/Metis/beefy",
          "all/Moonbeam/beefy",
          "all/Moonriver/beefy",
          "all/Oasis/beefy",
          "all/Optimism/beefy",
          "all/Polygon/beefy",
          "all/Fantom/beethoven-x",
          "all/Optimism/beethoven-x",
          "all/Ethereum/bella-protocol",
          "all/Ethereum-pool2/bella-protocol",
          "all/pool2/bella-protocol",
          "all/Binance/belt-finance",
          "all/Heco/belt-finance",
          "all/Klaytn/belt-finance",
          "all/Ethereum/benddao",
          "all/Avalanche/benqi-lending",
          "all/Avalanche-pool2/benqi-lending",
          "all/pool2/benqi-lending",
          "all/Avalanche/benqi-staked-avax",
          "all/Avalanche/beta-finance",
          "all/Ethereum/beta-finance",
          "all/Avalanche/bifi",
          "all/Binance/bifi",
          "all/Ethereum/bifi",
          "all/Klaytn/bifi",
          "all/Bifrost/bifrost",
          "all/Binance/biswap",
          "all/Binance/bunny",
          "all/Polygon/bunny",
          "all/Near/burrow",
          "all/Arbitrum/cbridge",
          "all/Aurora/cbridge",
          "all/Avalanche/cbridge",
          "all/Binance/cbridge",
          "all/Ethereum/cbridge",
          "all/Fantom/cbridge",
          "all/Metis/cbridge",
          "all/Optimism/cbridge",
          "all/Polygon/cbridge",
          "all/Shiden/cbridge",
          "all/Binance/chainport",
          "all/Ethereum/chainport",
          "all/Klaytn/claimswap",
          "all/Ethereum/clipper",
          "all/Moonbeam/clipper",
          "all/Optimism/clipper",
          "all/Polygon/clipper",
          "all/Binance/coinwind",
          "all/Binance-pool2/coinwind",
          "all/Heco/coinwind",
          "all/Heco-pool2/coinwind",
          "all/pool2/coinwind",
          "all/Ethereum/compound",
          "all/Ethereum/concave",
          "all/Ethereum/concentrator",
          "all/Arbitrum/connext",
          "all/Avalanche/connext",
          "all/Binance/connext",
          "all/Boba/connext",
          "all/Cronos/connext",
          "all/Ethereum/connext",
          "all/Fantom/connext",
          "all/Fuse/connext",
          "all/Moonriver/connext",
          "all/Optimism/connext",
          "all/Polygon/connext",
          "all/xDai/connext",
          "all/Ethereum/convex-finance",
          "all/Arbitrum/cream-finance",
          "all/Binance/cream-finance",
          "all/Ethereum/cream-finance",
          "all/Polygon/cream-finance",
          "all/DFK/crystalvale",
          "all/Arbitrum/curve",
          "all/Aurora/curve",
          "all/Avalanche/curve",
          "all/Ethereum/curve",
          "all/Fantom/curve",
          "all/Moonbeam/curve",
          "all/Optimism/curve",
          "all/Polygon/curve",
          "all/xDai/curve",
          "all/Binance/deeplock",
          "all/Binance-pool2/deeplock",
          "all/pool2/deeplock",
          "all/Harmony/defi-kingdoms",
          "all/Ethereum/defi-swap",
          "all/Wax/defibox",
          "all/Ethereum/defidollar-dao",
          "all/Ethereum/defisaver",
          "all/Avalanche/defrost",
          "all/Arbitrum/dforce",
          "all/Binance/dforce",
          "all/Ethereum/dforce",
          "all/Optimism/dforce",
          "all/Polygon/dforce",
          "all/Ethereum/dfx-finance",
          "all/Polygon/dfx-finance",
          "all/Fantom/dfyn-network",
          "all/OKExChain/dfyn-network",
          "all/Polygon/dfyn-network",
          "all/Arbitrum/dopex",
          "all/Arbitrum-pool2/dopex",
          "all/Binance/dopex",
          "all/Ethereum-pool2/dopex",
          "all/pool2/dopex",
          "all/Binance/dot-dot-finance",
          "all/Avalanche/dxsale",
          "all/Binance/dxsale",
          "all/Celo/dxsale",
          "all/Cronos/dxsale",
          "all/Ethereum/dxsale",
          "all/Fantom/dxsale",
          "all/Heco/dxsale",
          "all/Milkomeda/dxsale",
          "all/OKExChain/dxsale",
          "all/Polygon/dxsale",
          "all/Ethereum/dydx",
          "all/Polygon/dystopia",
          "all/Avalanche/echidna-finance",
          "all/Avalanche-pool2/echidna-finance",
          "all/pool2/echidna-finance",
          "all/Ethereum/element-finance",
          "all/Binance/ellipsis-finance",
          "all/Ethereum/enzyme-finance",
          "all/EOS/eos-rex",
          "all/Ethereum/euler",
          "all/Fantom/fantohm",
          "all/Moonriver/fantohm",
          "all/Ethereum/fei-protocol",
          "all/Cronos/ferro",
          "all/Elastos/filda",
          "all/Heco/filda",
          "all/IoTeX/filda",
          "all/REI/filda",
          "all/NEO/flamingo-finance",
          "all/Ethereum/flexa",
          "all/Songbird/flrfarm",
          "all/Songbird-pool2/flrfarm",
          "all/pool2/flrfarm",
          "all/Algorand/folks-finance",
          "all/Ethereum/frax",
          "all/Ethereum-pool2/frax",
          "all/Ethereum-treasury/frax",
          "all/Fantom/frax",
          "all/pool2/frax",
          "all/treasury/frax",
          "all/Solana/friktion",
          "all/Polygon/gains-network",
          "all/Polygon-pool2/gains-network",
          "all/pool2/gains-network",
          "all/Ethereum/gearbox",
          "all/Fantom/geist-finance",
          "all/Fantom-pool2/geist-finance",
          "all/pool2/geist-finance",
          "all/Arbitrum/gmx",
          "all/Avalanche/gmx",
          "all/Ethereum/gro",
          "all/Ethereum-pool2/gro",
          "all/pool2/gro",
          "all/Binance/harvest-finance",
          "all/Ethereum/harvest-finance",
          "all/Polygon/harvest-finance",
          "all/Arbitrum/hashflow",
          "all/Avalanche/hashflow",
          "all/Binance/hashflow",
          "all/Ethereum/hashflow",
          "all/Polygon/hashflow",
          "all/Ethereum/hector-network",
          "all/Fantom/hector-network",
          "all/Avalanche/homora",
          "all/Binance/homora",
          "all/Ethereum/homora",
          "all/Fantom/homora",
          "all/Arbitrum/hop-protocol",
          "all/Ethereum/hop-protocol",
          "all/Optimism/hop-protocol",
          "all/Polygon/hop-protocol",
          "all/xDai/hop-protocol",
          "all/Solana/hubble",
          "all/Arbitrum/hundred-finance",
          "all/Fantom/hundred-finance",
          "all/Moonriver/hundred-finance",
          "all/Optimism/hundred-finance",
          "all/Polygon/hundred-finance",
          "all/Polygon/idex",
          "all/Ethereum/idle-finance",
          "all/Polygon/idle-finance",
          "all/Ethereum/index-coop",
          "all/Ethereum/injective",
          "all/Ethereum/instadapp",
          "all/Avalanche/insurace",
          "all/Binance/insurace",
          "all/Ethereum/insurace",
          "all/Polygon/insurace",
          "all/Ethereum/inverse-finance",
          "all/Avalanche/iron-bank",
          "all/Ethereum/iron-bank",
          "all/Fantom/iron-bank",
          "all/Binance/iziswap",
          "all/Arbitrum/izumi-finance",
          "all/Ethereum/izumi-finance",
          "all/Ethereum-pool2/izumi-finance",
          "all/Polygon/izumi-finance",
          "all/pool2/izumi-finance",
          "all/Solana/jpool",
          "all/Tron/justlend",
          "all/Tron/juststables",
          "all/Kardia/kaidex",
          "all/Karura/karura-dollar-(kusd)",
          "all/Karura/karura-liquid-staking",
          "all/Solana/katana",
          "all/Ronin/katana-dex",
          "all/Kava/kava-lend",
          "all/Kava/kava-mint",
          "all/Kava/kava-swap",
          "all/Klaytn/klap",
          "all/Klaytn/klayswap",
          "all/Polygon/klima-dao",
          "all/Binance/knightswap-finance",
          "all/Fantom/knightswap-finance",
          "all/Klaytn/kokonut-swap",
          "all/Arbitrum/kyberswap",
          "all/Avalanche/kyberswap",
          "all/Binance/kyberswap",
          "all/Cronos/kyberswap",
          "all/Ethereum/kyberswap",
          "all/Fantom/kyberswap",
          "all/Oasis/kyberswap",
          "all/Optimism/kyberswap",
          "all/Polygon/kyberswap",
          "all/Solana/larix",
          "all/Ethereum/lido",
          "all/Moonbeam/lido",
          "all/Moonriver/lido",
          "all/Solana/lido",
          "all/Terra/lido",
          "all/Bitcoin/lightning-network",
          "all/Near/linear-protocol",
          "all/Binance/liqee",
          "all/Ethereum/liqee",
          "all/Fantom/liquid-driver",
          "all/Ethereum/liquity",
          "all/Ethereum/llama-airforce",
          "all/Ethereum/loopring",
          "all/Ethereum/lyra",
          "all/Optimism/lyra",
          "all/Elrond/maiar-exchange",
          "all/Ethereum/makerdao",
          "all/Solana/mango-markets",
          "all/Ethereum/maple",
          "all/Solana/maple",
          "all/Solana/marinade-finance",
          "all/Celo/mento",
          "all/Solana/mercurial-finance",
          "all/Polygon/meshswap",
          "all/Near/meta-pool",
          "all/Ethereum/metronome",
          "all/IoTeX/mimo",
          "all/Fantom/mimo-defi",
          "all/Polygon/mimo-defi",
          "all/Cardano/minswap",
          "all/Cronos/mm-finance",
          "all/Cronos/mm-optimizer",
          "all/Kucoin/mojitoswap",
          "all/RSK/moneyonchain",
          "all/Celo/moola-market",
          "all/Moonriver/moonwell-apollo",
          "all/Moonbeam/moonwell-artemis",
          "all/Ethereum/mstable",
          "all/Polygon/mstable",
          "all/NEO/neoburger",
          "all/Avalanche/nereus-finance",
          "all/Metis/netswap",
          "all/Waves/neutrino",
          "all/Ethereum/nexus-mutual",
          "all/Ethereum/nftx",
          "all/Binance/nomiswap",
          "all/Ethereum/notional",
          "all/Binance/octus-bridge",
          "all/Ethereum/octus-bridge",
          "all/Everscale/octus-bridge",
          "all/Polygon/octus-bridge",
          "all/Ethereum/olympus-dao",
          "all/Avalanche/onx-finance",
          "all/Ethereum/onx-finance",
          "all/Ethereum-pool2/onx-finance",
          "all/Fantom/onx-finance",
          "all/Polygon/onx-finance",
          "all/pool2/onx-finance",
          "all/Arbitrum/ooki",
          "all/Binance/ooki",
          "all/Ethereum/ooki",
          "all/Polygon/ooki",
          "all/Ethereum/opyn",
          "all/Polygon/opyn",
          "all/Ethereum/origin-dollar",
          "all/Binance/orion-protocol",
          "all/Ethereum/orion-protocol",
          "all/Osmosis/osmosis",
          "all/Polygon/outcome-finance",
          "all/Binance/pancakeswap",
          "all/Avalanche/pangolin",
          "all/Solana/parrot-protocol",
          "all/Polygon/penrose",
          "all/Optimism/perpetual-protocol",
          "all/Arbitrum/pickle",
          "all/Arbitrum-pool2/pickle",
          "all/Aurora/pickle",
          "all/Cronos/pickle",
          "all/Ethereum/pickle",
          "all/Ethereum-pool2/pickle",
          "all/Metis/pickle",
          "all/Moonbeam/pickle",
          "all/Moonriver/pickle",
          "all/OKExChain/pickle",
          "all/Optimism/pickle",
          "all/Polygon/pickle",
          "all/Polygon-pool2/pickle",
          "all/pool2/pickle",
          "all/Avalanche/pinksale",
          "all/Binance/pinksale",
          "all/Cronos/pinksale",
          "all/Ethereum/pinksale",
          "all/Fantom/pinksale",
          "all/Polygon/pinksale",
          "all/Binance/planet",
          "all/Avalanche/platypus-finance",
          "all/Binance/pnetwork",
          "all/Bitcoin/pnetwork",
          "all/Doge/pnetwork",
          "all/EOS/pnetwork",
          "all/Ethereum/pnetwork",
          "all/Fantom/pnetwork",
          "all/LBRY/pnetwork",
          "all/Litecoin/pnetwork",
          "all/ORE/pnetwork",
          "all/Ravencoin/pnetwork",
          "all/Telos/pnetwork",
          "all/Polygon/polygon-bridge-&-staking",
          "all/Avalanche/pooltogether",
          "all/Binance/pooltogether",
          "all/Celo/pooltogether",
          "all/Ethereum/pooltogether",
          "all/Optimism/pooltogether",
          "all/Polygon/pooltogether",
          "all/Solana/port-finance",
          "all/Binance/position-exchange",
          "all/Binance-treasury/position-exchange",
          "all/treasury/position-exchange",
          "all/Proton/proton-loan",
          "all/Ethereum/pstake",
          "all/Ethereum-pool2/pstake",
          "all/pool2/pstake",
          "all/Hoo/puddingswap",
          "all/Arbitrum/qidao",
          "all/Avalanche/qidao",
          "all/Binance/qidao",
          "all/Fantom/qidao",
          "all/Harmony/qidao",
          "all/Metis/qidao",
          "all/Moonriver/qidao",
          "all/Optimism/qidao",
          "all/Polygon/qidao",
          "all/xDai/qidao",
          "all/Solana/quarry",
          "all/Polygon/quickswap",
          "all/Arbitrum/radiant",
          "all/Arbitrum-pool2/radiant",
          "all/pool2/radiant",
          "all/Avalanche/radioshack",
          "all/Binance/radioshack",
          "all/Ethereum/radioshack",
          "all/Polygon/radioshack",
          "all/Arbitrum/rari-capital",
          "all/Ethereum/rari-capital",
          "all/Ethereum-pool2/rari-capital",
          "all/pool2/rari-capital",
          "all/Fantom/reaper-farm",
          "all/Optimism/reaper-farm",
          "all/Near/ref-finance",
          "all/Ethereum/reflexer",
          "all/Arbitrum/renvm",
          "all/Avalanche/renvm",
          "all/Binance/renvm",
          "all/Ethereum/renvm",
          "all/Fantom/renvm",
          "all/Polygon/renvm",
          "all/Solana/renvm",
          "all/Telos/rex-staking",
          "all/Ethereum/rhino.fi",
          "all/Avalanche/ribbon-finance",
          "all/Ethereum/ribbon-finance",
          "all/Avalanche/risk-harbor",
          "all/Ethereum/rocket-pool",
          "all/Ethereum/rook",
          "all/Solana/saber",
          "all/Ethereum/sablier-finance",
          "all/Arbitrum/saddle-finance",
          "all/Ethereum/saddle-finance",
          "all/Evmos/saddle-finance",
          "all/Fantom/saddle-finance",
          "all/Kava/saddle-finance",
          "all/Optimism/saddle-finance",
          "all/Binance/sashimiswap",
          "all/Heco/sashimiswap",
          "all/Ethereum/set-protocol",
          "all/Ethereum/sherlock",
          "all/Ethereum/shibaswap",
          "all/Icon/sicx",
          "all/Cronos/single-finance",
          "all/Cronos-pool2/single-finance",
          "all/Fantom/single-finance",
          "all/Fantom-pool2/single-finance",
          "all/pool2/single-finance",
          "all/Moonriver/solarbeam",
          "all/Solana/solend",
          "all/Binance/solo-top",
          "all/Heco/solo-top",
          "all/OKExChain/solo-top",
          "all/Polygon/solo-top",
          "all/Binance/solv-protocol",
          "all/Ethereum/solv-protocol",
          "all/Fantom/spartacus",
          "all/Fantom/spiritswap",
          "all/Fantom/spookyswap",
          "all/Ethereum/spool-protocol",
          "all/Binance/stader",
          "all/Fantom/stader",
          "all/Hedera/stader",
          "all/Near/stader",
          "all/Polygon/stader",
          "all/Terra/stader",
          "all/Terra2/stader",
          "all/Cosmos/stafi",
          "all/Polygon/stafi",
          "all/Stafi/stafi",
          "all/Avalanche/stakedao",
          "all/Ethereum/stakedao",
          "all/Harmony/stakedao",
          "all/Polygon/stakedao",
          "all/Ethereum/stakewise",
          "all/Arbitrum/stargate",
          "all/Avalanche/stargate",
          "all/Binance/stargate",
          "all/Ethereum/stargate",
          "all/Fantom/stargate",
          "all/Optimism/stargate",
          "all/Polygon/stargate",
          "all/Astar/starlay-finance",
          "all/Moonbeam/stellaswap",
          "all/Ethereum/strike",
          "all/Ethereum/sturdy",
          "all/Fantom/sturdy",
          "all/Tron/sun.io",
          "all/Tron-pool2/sun.io",
          "all/pool2/sun.io",
          "all/Cardano/sundaeswap",
          "all/Solana/sunny",
          "all/Tron/sunswap",
          "all/Polygon/superfluid",
          "all/xDai/superfluid",
          "all/Arbitrum/sushiswap",
          "all/Avalanche/sushiswap",
          "all/Binance/sushiswap",
          "all/Celo/sushiswap",
          "all/Ethereum/sushiswap",
          "all/Fantom/sushiswap",
          "all/Fuse/sushiswap",
          "all/Harmony/sushiswap",
          "all/Heco/sushiswap",
          "all/Moonriver/sushiswap",
          "all/OKExChain/sushiswap",
          "all/Polygon/sushiswap",
          "all/Telos/sushiswap",
          "all/xDai/sushiswap",
          "all/Arbitrum/sushiswap-kashi",
          "all/Binance/sushiswap-kashi",
          "all/Ethereum/sushiswap-kashi",
          "all/Fantom/sushiswap-kashi",
          "all/Arbitrum/swapr",
          "all/Ethereum/swapr",
          "all/xDai/swapr",
          "all/Solana/swim-protocol",
          "all/Arbitrum/synapse",
          "all/Aurora/synapse",
          "all/Avalanche/synapse",
          "all/Binance/synapse",
          "all/Boba/synapse",
          "all/Cronos/synapse",
          "all/Ethereum/synapse",
          "all/Ethereum-pool2/synapse",
          "all/Fantom/synapse",
          "all/Harmony/synapse",
          "all/Klaytn/synapse",
          "all/Metis/synapse",
          "all/Moonriver/synapse",
          "all/Optimism/synapse",
          "all/Polygon/synapse",
          "all/pool2/synapse",
          "all/Ethereum/synthetix",
          "all/Optimism/synthetix",
          "all/Fantom/tarot",
          "all/Optimism/tarot",
          "all/Avalanche/team-finance",
          "all/Binance/team-finance",
          "all/Ethereum/team-finance",
          "all/Polygon/team-finance",
          "all/Cronos/tectonic",
          "all/Ethereum/temple-dao",
          "all/Ethereum-pool2/temple-dao",
          "all/pool2/temple-dao",
          "all/Binance/terra-bridge",
          "all/Ethereum/terra-bridge",
          "all/Harmony/terra-bridge",
          "all/Fantom/tetu",
          "all/Polygon/tetu",
          "all/Tezos/tezos-liquidity-baking",
          "all/Ethereum/the-tokenized-bitcoin",
          "all/Theta/thetacash",
          "all/Aurora/thetanuts-finance",
          "all/Avalanche/thetanuts-finance",
          "all/Boba/thetanuts-finance",
          "all/Fantom/thetanuts-finance",
          "all/Polygon/thetanuts-finance",
          "all/Theta/thetaswap",
          "all/Algorand/tinyman",
          "all/Ethereum/tokemak",
          "all/Ethereum-pool2/tokemak",
          "all/pool2/tokemak",
          "all/Binance/tokensfarm",
          "all/Ethereum/tokensfarm",
          "all/Fantom/tokensfarm",
          "all/Polygon/tokensfarm",
          "all/Fantom/tomb-finance",
          "all/Fantom-pool2/tomb-finance",
          "all/pool2/tomb-finance",
          "all/Arbitrum/tornado-cash",
          "all/Avalanche/tornado-cash",
          "all/Binance/tornado-cash",
          "all/Ethereum/tornado-cash",
          "all/Optimism/tornado-cash",
          "all/Polygon/tornado-cash",
          "all/xDai/tornado-cash",
          "all/Polygon/toucan-protocol",
          "all/Avalanche/trader-joe",
          "all/Binance/tranchess",
          "all/Aurora/trisolaris",
          "all/Ethereum/truefi",
          "all/Avalanche/unicrypt",
          "all/Binance/unicrypt",
          "all/Binance-pool2/unicrypt",
          "all/Ethereum/unicrypt",
          "all/Ethereum-pool2/unicrypt",
          "all/Polygon/unicrypt",
          "all/pool2/unicrypt",
          "all/xDai-pool2/unicrypt",
          "all/Arbitrum/uniswap",
          "all/Celo/uniswap",
          "all/Ethereum/uniswap",
          "all/Optimism/uniswap",
          "all/Polygon/uniswap",
          "all/Ethereum/unslashed",
          "all/Solana/uxd",
          "all/Binance/valas-finance",
          "all/Binance-pool2/valas-finance",
          "all/pool2/valas-finance",
          "all/Oasis/valleyswap",
          "all/Avalanche/vector-finance",
          "all/Avalanche-pool2/vector-finance",
          "all/pool2/vector-finance",
          "all/Optimism/velodrome",
          "all/Binance/venus",
          "all/Avalanche/vesper",
          "all/Ethereum/vesper",
          "all/Polygon/vesper",
          "all/Arbitrum/vesta-finance",
          "all/Arbitrum-pool2/vesta-finance",
          "all/pool2/vesta-finance",
          "all/Waves/vires-finance",
          "all/Cronos/vvs-finance",
          "all/Waves/waves-exchange",
          "all/Arbitrum/wepiggy",
          "all/Aurora/wepiggy",
          "all/Binance/wepiggy",
          "all/Ethereum/wepiggy",
          "all/Harmony/wepiggy",
          "all/Heco/wepiggy",
          "all/Moonbeam/wepiggy",
          "all/Moonriver/wepiggy",
          "all/OKExChain/wepiggy",
          "all/Oasis/wepiggy",
          "all/Optimism/wepiggy",
          "all/Polygon/wepiggy",
          "all/Cardano/wingriders",
          "all/Binance/wombat-exchange",
          "all/Binance/wrapped-bnb",
          "all/Ethereum/xdai-stake-bridge",
          "all/Astar/xdao",
          "all/Binance/xdao",
          "all/Fantom/xdao",
          "all/Polygon/xdao",
          "all/Arbitrum/yearn-finance",
          "all/Ethereum/yearn-finance",
          "all/Fantom/yearn-finance",
          "all/Avalanche/yeti-finance",
          "all/Avalanche-pool2/yeti-finance",
          "all/pool2/yeti-finance",
          "all/Arbitrum/yield-protocol",
          "all/Ethereum/yield-protocol",
          "all/Avalanche/yield-yak",
          "all/Avalanche-pool2/yield-yak",
          "all/pool2/yield-yak",
          "all/Binance/yoshi-exchange",
          "all/Fantom/yoshi-exchange",
          "all/Tezos/youves",
          "all/Tezos-pool2/youves",
          "all/pool2/youves",
          "all/Solana/zeta",
          "all/Acala",
          "all/Algorand",
          "all/Arbitrum",
          "all/Arbitrum-pool2",
          "all/Astar",
          "all/Aurora",
          "all/Avalanche",
          "all/Avalanche-pool2",
          "all/Bifrost",
          "all/Binance",
          "all/Binance-pool2",
          "all/Binance-treasury",
          "all/Bitcoin",
          "all/Boba",
          "all/Cardano",
          "all/Celo",
          "all/Cosmos",
          "all/Cronos",
          "all/Cronos-pool2",
          "all/DFK",
          "all/Doge",
          "all/EOS",
          "all/Elastos",
          "all/Elrond",
          "all/Ethereum",
          "all/Ethereum-pool2",
          "all/Ethereum-treasury",
          "all/Everscale",
          "all/Evmos",
          "all/Fantom",
          "all/Fantom-pool2",
          "all/Fuse",
          "all/Harmony",
          "all/Heco",
          "all/Heco-pool2",
          "all/Hedera",
          "all/Hoo",
          "all/Icon",
          "all/IoTeX",
          "all/Kardia",
          "all/Karura",
          "all/Kava",
          "all/Klaytn",
          "all/Kucoin",
          "all/Kusama",
          "all/LBRY",
          "all/Litecoin",
          "all/Metis",
          "all/Milkomeda",
          "all/Moonbeam",
          "all/Moonriver",
          "all/NEO",
          "all/Near",
          "all/OKExChain",
          "all/ORE",
          "all/Oasis",
          "all/Optimism",
          "all/Osmosis",
          "all/Polkadot",
          "all/Polygon",
          "all/Polygon-pool2",
          "all/Proton",
          "all/REI",
          "all/RSK",
          "all/Ravencoin",
          "all/Ronin",
          "all/Shiden",
          "all/Solana",
          "all/Songbird",
          "all/Songbird-pool2",
          "all/Stafi",
          "all/Telos",
          "all/Terra",
          "all/Terra2",
          "all/Tezos",
          "all/Tezos-pool2",
          "all/Theta",
          "all/Tron",
          "all/Tron-pool2",
          "all/Waves",
          "all/Wax",
          "all/pool2",
          "all/treasury",
          "all/xDai",
          "all/xDai-pool2",
          "all"
         ],
         "labels": [
          "01",
          "88mph",
          "88mph",
          "aave-v1",
          "aave-v2",
          "aave-v2",
          "aave-v2",
          "aave-v2",
          "aave-v2",
          "aave-v3",
          "aave-v3",
          "aave-v3",
          "aave-v3",
          "aave-v3",
          "aave-v3",
          "aavegotchi",
          "aavegotchi",
          "aavegotchi",
          "acala-dollar",
          "acala-liquid-staking",
          "acala-swap",
          "across",
          "acryptos",
          "acryptos",
          "acryptos",
          "acryptos",
          "acryptos",
          "acryptos",
          "acryptos",
          "acryptos",
          "acryptos",
          "alchemix",
          "alchemix",
          "aldrin",
          "algofi",
          "allbridge",
          "allbridge",
          "allbridge",
          "allbridge",
          "allbridge",
          "allbridge",
          "allbridge",
          "allbridge",
          "allbridge",
          "allbridge",
          "alpaca-finance",
          "alpaca-finance",
          "angle",
          "angle",
          "angle",
          "angle",
          "ankr",
          "ankr",
          "ankr",
          "ankr",
          "ankr",
          "apeswap-amm",
          "apeswap-amm",
          "apeswap-amm",
          "apeswap-lending",
          "apollox",
          "apollox",
          "apollox",
          "armor",
          "arrakis-finance",
          "arrakis-finance",
          "arrakis-finance",
          "arthswap",
          "astroport",
          "astroport",
          "aura",
          "aurigami",
          "b.protocol",
          "b.protocol",
          "babyswap",
          "balancer",
          "balancer",
          "balancer",
          "bancor",
          "bastion",
          "beefy",
          "beefy",
          "beefy",
          "beefy",
          "beefy",
          "beefy",
          "beefy",
          "beefy",
          "beefy",
          "beefy",
          "beefy",
          "beefy",
          "beefy",
          "beefy",
          "beefy",
          "beefy",
          "beethoven-x",
          "beethoven-x",
          "bella-protocol",
          "bella-protocol",
          "bella-protocol",
          "belt-finance",
          "belt-finance",
          "belt-finance",
          "benddao",
          "benqi-lending",
          "benqi-lending",
          "benqi-lending",
          "benqi-staked-avax",
          "beta-finance",
          "beta-finance",
          "bifi",
          "bifi",
          "bifi",
          "bifi",
          "bifrost",
          "biswap",
          "bunny",
          "bunny",
          "burrow",
          "cbridge",
          "cbridge",
          "cbridge",
          "cbridge",
          "cbridge",
          "cbridge",
          "cbridge",
          "cbridge",
          "cbridge",
          "cbridge",
          "chainport",
          "chainport",
          "claimswap",
          "clipper",
          "clipper",
          "clipper",
          "clipper",
          "coinwind",
          "coinwind",
          "coinwind",
          "coinwind",
          "coinwind",
          "compound",
          "concave",
          "concentrator",
          "connext",
          "connext",
          "connext",
          "connext",
          "connext",
          "connext",
          "connext",
          "connext",
          "connext",
          "connext",
          "connext",
          "connext",
          "convex-finance",
          "cream-finance",
          "cream-finance",
          "cream-finance",
          "cream-finance",
          "crystalvale",
          "curve",
          "curve",
          "curve",
          "curve",
          "curve",
          "curve",
          "curve",
          "curve",
          "curve",
          "deeplock",
          "deeplock",
          "deeplock",
          "defi-kingdoms",
          "defi-swap",
          "defibox",
          "defidollar-dao",
          "defisaver",
          "defrost",
          "dforce",
          "dforce",
          "dforce",
          "dforce",
          "dforce",
          "dfx-finance",
          "dfx-finance",
          "dfyn-network",
          "dfyn-network",
          "dfyn-network",
          "dopex",
          "dopex",
          "dopex",
          "dopex",
          "dopex",
          "dot-dot-finance",
          "dxsale",
          "dxsale",
          "dxsale",
          "dxsale",
          "dxsale",
          "dxsale",
          "dxsale",
          "dxsale",
          "dxsale",
          "dxsale",
          "dydx",
          "dystopia",
          "echidna-finance",
          "echidna-finance",
          "echidna-finance",
          "element-finance",
          "ellipsis-finance",
          "enzyme-finance",
          "eos-rex",
          "euler",
          "fantohm",
          "fantohm",
          "fei-protocol",
          "ferro",
          "filda",
          "filda",
          "filda",
          "filda",
          "flamingo-finance",
          "flexa",
          "flrfarm",
          "flrfarm",
          "flrfarm",
          "folks-finance",
          "frax",
          "frax",
          "frax",
          "frax",
          "frax",
          "frax",
          "friktion",
          "gains-network",
          "gains-network",
          "gains-network",
          "gearbox",
          "geist-finance",
          "geist-finance",
          "geist-finance",
          "gmx",
          "gmx",
          "gro",
          "gro",
          "gro",
          "harvest-finance",
          "harvest-finance",
          "harvest-finance",
          "hashflow",
          "hashflow",
          "hashflow",
          "hashflow",
          "hashflow",
          "hector-network",
          "hector-network",
          "homora",
          "homora",
          "homora",
          "homora",
          "hop-protocol",
          "hop-protocol",
          "hop-protocol",
          "hop-protocol",
          "hop-protocol",
          "hubble",
          "hundred-finance",
          "hundred-finance",
          "hundred-finance",
          "hundred-finance",
          "hundred-finance",
          "idex",
          "idle-finance",
          "idle-finance",
          "index-coop",
          "injective",
          "instadapp",
          "insurace",
          "insurace",
          "insurace",
          "insurace",
          "inverse-finance",
          "iron-bank",
          "iron-bank",
          "iron-bank",
          "iziswap",
          "izumi-finance",
          "izumi-finance",
          "izumi-finance",
          "izumi-finance",
          "izumi-finance",
          "jpool",
          "justlend",
          "juststables",
          "kaidex",
          "karura-dollar-(kusd)",
          "karura-liquid-staking",
          "katana",
          "katana-dex",
          "kava-lend",
          "kava-mint",
          "kava-swap",
          "klap",
          "klayswap",
          "klima-dao",
          "knightswap-finance",
          "knightswap-finance",
          "kokonut-swap",
          "kyberswap",
          "kyberswap",
          "kyberswap",
          "kyberswap",
          "kyberswap",
          "kyberswap",
          "kyberswap",
          "kyberswap",
          "kyberswap",
          "larix",
          "lido",
          "lido",
          "lido",
          "lido",
          "lido",
          "lightning-network",
          "linear-protocol",
          "liqee",
          "liqee",
          "liquid-driver",
          "liquity",
          "llama-airforce",
          "loopring",
          "lyra",
          "lyra",
          "maiar-exchange",
          "makerdao",
          "mango-markets",
          "maple",
          "maple",
          "marinade-finance",
          "mento",
          "mercurial-finance",
          "meshswap",
          "meta-pool",
          "metronome",
          "mimo",
          "mimo-defi",
          "mimo-defi",
          "minswap",
          "mm-finance",
          "mm-optimizer",
          "mojitoswap",
          "moneyonchain",
          "moola-market",
          "moonwell-apollo",
          "moonwell-artemis",
          "mstable",
          "mstable",
          "neoburger",
          "nereus-finance",
          "netswap",
          "neutrino",
          "nexus-mutual",
          "nftx",
          "nomiswap",
          "notional",
          "octus-bridge",
          "octus-bridge",
          "octus-bridge",
          "octus-bridge",
          "olympus-dao",
          "onx-finance",
          "onx-finance",
          "onx-finance",
          "onx-finance",
          "onx-finance",
          "onx-finance",
          "ooki",
          "ooki",
          "ooki",
          "ooki",
          "opyn",
          "opyn",
          "origin-dollar",
          "orion-protocol",
          "orion-protocol",
          "osmosis",
          "outcome-finance",
          "pancakeswap",
          "pangolin",
          "parrot-protocol",
          "penrose",
          "perpetual-protocol",
          "pickle",
          "pickle",
          "pickle",
          "pickle",
          "pickle",
          "pickle",
          "pickle",
          "pickle",
          "pickle",
          "pickle",
          "pickle",
          "pickle",
          "pickle",
          "pickle",
          "pinksale",
          "pinksale",
          "pinksale",
          "pinksale",
          "pinksale",
          "pinksale",
          "planet",
          "platypus-finance",
          "pnetwork",
          "pnetwork",
          "pnetwork",
          "pnetwork",
          "pnetwork",
          "pnetwork",
          "pnetwork",
          "pnetwork",
          "pnetwork",
          "pnetwork",
          "pnetwork",
          "polygon-bridge-&-staking",
          "pooltogether",
          "pooltogether",
          "pooltogether",
          "pooltogether",
          "pooltogether",
          "pooltogether",
          "port-finance",
          "position-exchange",
          "position-exchange",
          "position-exchange",
          "proton-loan",
          "pstake",
          "pstake",
          "pstake",
          "puddingswap",
          "qidao",
          "qidao",
          "qidao",
          "qidao",
          "qidao",
          "qidao",
          "qidao",
          "qidao",
          "qidao",
          "qidao",
          "quarry",
          "quickswap",
          "radiant",
          "radiant",
          "radiant",
          "radioshack",
          "radioshack",
          "radioshack",
          "radioshack",
          "rari-capital",
          "rari-capital",
          "rari-capital",
          "rari-capital",
          "reaper-farm",
          "reaper-farm",
          "ref-finance",
          "reflexer",
          "renvm",
          "renvm",
          "renvm",
          "renvm",
          "renvm",
          "renvm",
          "renvm",
          "rex-staking",
          "rhino.fi",
          "ribbon-finance",
          "ribbon-finance",
          "risk-harbor",
          "rocket-pool",
          "rook",
          "saber",
          "sablier-finance",
          "saddle-finance",
          "saddle-finance",
          "saddle-finance",
          "saddle-finance",
          "saddle-finance",
          "saddle-finance",
          "sashimiswap",
          "sashimiswap",
          "set-protocol",
          "sherlock",
          "shibaswap",
          "sicx",
          "single-finance",
          "single-finance",
          "single-finance",
          "single-finance",
          "single-finance",
          "solarbeam",
          "solend",
          "solo-top",
          "solo-top",
          "solo-top",
          "solo-top",
          "solv-protocol",
          "solv-protocol",
          "spartacus",
          "spiritswap",
          "spookyswap",
          "spool-protocol",
          "stader",
          "stader",
          "stader",
          "stader",
          "stader",
          "stader",
          "stader",
          "stafi",
          "stafi",
          "stafi",
          "stakedao",
          "stakedao",
          "stakedao",
          "stakedao",
          "stakewise",
          "stargate",
          "stargate",
          "stargate",
          "stargate",
          "stargate",
          "stargate",
          "stargate",
          "starlay-finance",
          "stellaswap",
          "strike",
          "sturdy",
          "sturdy",
          "sun.io",
          "sun.io",
          "sun.io",
          "sundaeswap",
          "sunny",
          "sunswap",
          "superfluid",
          "superfluid",
          "sushiswap",
          "sushiswap",
          "sushiswap",
          "sushiswap",
          "sushiswap",
          "sushiswap",
          "sushiswap",
          "sushiswap",
          "sushiswap",
          "sushiswap",
          "sushiswap",
          "sushiswap",
          "sushiswap",
          "sushiswap",
          "sushiswap-kashi",
          "sushiswap-kashi",
          "sushiswap-kashi",
          "sushiswap-kashi",
          "swapr",
          "swapr",
          "swapr",
          "swim-protocol",
          "synapse",
          "synapse",
          "synapse",
          "synapse",
          "synapse",
          "synapse",
          "synapse",
          "synapse",
          "synapse",
          "synapse",
          "synapse",
          "synapse",
          "synapse",
          "synapse",
          "synapse",
          "synapse",
          "synthetix",
          "synthetix",
          "tarot",
          "tarot",
          "team-finance",
          "team-finance",
          "team-finance",
          "team-finance",
          "tectonic",
          "temple-dao",
          "temple-dao",
          "temple-dao",
          "terra-bridge",
          "terra-bridge",
          "terra-bridge",
          "tetu",
          "tetu",
          "tezos-liquidity-baking",
          "the-tokenized-bitcoin",
          "thetacash",
          "thetanuts-finance",
          "thetanuts-finance",
          "thetanuts-finance",
          "thetanuts-finance",
          "thetanuts-finance",
          "thetaswap",
          "tinyman",
          "tokemak",
          "tokemak",
          "tokemak",
          "tokensfarm",
          "tokensfarm",
          "tokensfarm",
          "tokensfarm",
          "tomb-finance",
          "tomb-finance",
          "tomb-finance",
          "tornado-cash",
          "tornado-cash",
          "tornado-cash",
          "tornado-cash",
          "tornado-cash",
          "tornado-cash",
          "tornado-cash",
          "toucan-protocol",
          "trader-joe",
          "tranchess",
          "trisolaris",
          "truefi",
          "unicrypt",
          "unicrypt",
          "unicrypt",
          "unicrypt",
          "unicrypt",
          "unicrypt",
          "unicrypt",
          "unicrypt",
          "uniswap",
          "uniswap",
          "uniswap",
          "uniswap",
          "uniswap",
          "unslashed",
          "uxd",
          "valas-finance",
          "valas-finance",
          "valas-finance",
          "valleyswap",
          "vector-finance",
          "vector-finance",
          "vector-finance",
          "velodrome",
          "venus",
          "vesper",
          "vesper",
          "vesper",
          "vesta-finance",
          "vesta-finance",
          "vesta-finance",
          "vires-finance",
          "vvs-finance",
          "waves-exchange",
          "wepiggy",
          "wepiggy",
          "wepiggy",
          "wepiggy",
          "wepiggy",
          "wepiggy",
          "wepiggy",
          "wepiggy",
          "wepiggy",
          "wepiggy",
          "wepiggy",
          "wepiggy",
          "wingriders",
          "wombat-exchange",
          "wrapped-bnb",
          "xdai-stake-bridge",
          "xdao",
          "xdao",
          "xdao",
          "xdao",
          "yearn-finance",
          "yearn-finance",
          "yearn-finance",
          "yeti-finance",
          "yeti-finance",
          "yeti-finance",
          "yield-protocol",
          "yield-protocol",
          "yield-yak",
          "yield-yak",
          "yield-yak",
          "yoshi-exchange",
          "yoshi-exchange",
          "youves",
          "youves",
          "youves",
          "zeta",
          "Acala",
          "Algorand",
          "Arbitrum",
          "Arbitrum-pool2",
          "Astar",
          "Aurora",
          "Avalanche",
          "Avalanche-pool2",
          "Bifrost",
          "Binance",
          "Binance-pool2",
          "Binance-treasury",
          "Bitcoin",
          "Boba",
          "Cardano",
          "Celo",
          "Cosmos",
          "Cronos",
          "Cronos-pool2",
          "DFK",
          "Doge",
          "EOS",
          "Elastos",
          "Elrond",
          "Ethereum",
          "Ethereum-pool2",
          "Ethereum-treasury",
          "Everscale",
          "Evmos",
          "Fantom",
          "Fantom-pool2",
          "Fuse",
          "Harmony",
          "Heco",
          "Heco-pool2",
          "Hedera",
          "Hoo",
          "Icon",
          "IoTeX",
          "Kardia",
          "Karura",
          "Kava",
          "Klaytn",
          "Kucoin",
          "Kusama",
          "LBRY",
          "Litecoin",
          "Metis",
          "Milkomeda",
          "Moonbeam",
          "Moonriver",
          "NEO",
          "Near",
          "OKExChain",
          "ORE",
          "Oasis",
          "Optimism",
          "Osmosis",
          "Polkadot",
          "Polygon",
          "Polygon-pool2",
          "Proton",
          "REI",
          "RSK",
          "Ravencoin",
          "Ronin",
          "Shiden",
          "Solana",
          "Songbird",
          "Songbird-pool2",
          "Stafi",
          "Telos",
          "Terra",
          "Terra2",
          "Tezos",
          "Tezos-pool2",
          "Theta",
          "Tron",
          "Tron-pool2",
          "Waves",
          "Wax",
          "pool2",
          "treasury",
          "xDai",
          "xDai-pool2",
          "all"
         ],
         "marker": {
          "coloraxis": "coloraxis",
          "colors": [
           -1,
           -1,
           -1,
           -1,
           -1,
           1,
           -1,
           -1,
           -1,
           -1,
           -1,
           -1,
           -1,
           1,
           1,
           1,
           -1,
           -1,
           1,
           1,
           1,
           -1,
           1,
           1,
           1,
           1,
           1,
           1,
           1,
           1,
           1,
           -1,
           -1,
           1,
           1,
           -1,
           1,
           1,
           1,
           1,
           1,
           1,
           -1,
           1,
           1,
           -1,
           1,
           1,
           -1,
           -1,
           -1,
           -1,
           -1,
           1,
           1,
           1,
           -1,
           -1,
           -1,
           1,
           -1,
           -1,
           -1,
           1,
           -1,
           1,
           1,
           -1,
           1,
           -1,
           1,
           -1,
           -1,
           -1,
           1,
           1,
           1,
           1,
           -1,
           1,
           1,
           1,
           1,
           1,
           1,
           1,
           1,
           1,
           1,
           1,
           1,
           1,
           1,
           1,
           -1,
           1,
           -1,
           -1,
           -1,
           -1,
           -1,
           -1,
           1,
           1,
           1,
           1,
           -1,
           -1,
           1,
           -1,
           -1,
           1,
           1,
           -1,
           1,
           1,
           1,
           1,
           1,
           -1,
           -1,
           -1,
           -1,
           1,
           -1,
           -1,
           1,
           1,
           1,
           -1,
           -1,
           1,
           1,
           1,
           -1,
           1,
           -1,
           -1,
           1,
           -1,
           -1,
           1,
           1,
           1,
           1,
           -1,
           -1,
           -1,
           1,
           1,
           -1,
           1,
           1,
           -1,
           1,
           1,
           -1,
           -1,
           -1,
           -1,
           -1,
           -1,
           1,
           -1,
           -1,
           -1,
           -1,
           1,
           1,
           -1,
           -1,
           1,
           -1,
           -1,
           -1,
           1,
           -1,
           -1,
           1,
           1,
           -1,
           -1,
           1,
           1,
           -1,
           -1,
           -1,
           1,
           1,
           -1,
           1,
           1,
           -1,
           1,
           1,
           -1,
           1,
           -1,
           -1,
           -1,
           1,
           1,
           -1,
           -1,
           -1,
           -1,
           -1,
           1,
           1,
           1,
           1,
           1,
           1,
           1,
           1,
           1,
           1,
           1,
           -1,
           1,
           -1,
           1,
           -1,
           1,
           1,
           1,
           -1,
           1,
           -1,
           -1,
           1,
           -1,
           1,
           -1,
           1,
           1,
           -1,
           1,
           1,
           -1,
           -1,
           -1,
           -1,
           -1,
           -1,
           1,
           -1,
           -1,
           -1,
           -1,
           1,
           1,
           1,
           1,
           1,
           1,
           -1,
           1,
           1,
           -1,
           1,
           -1,
           1,
           1,
           -1,
           -1,
           1,
           1,
           -1,
           1,
           1,
           -1,
           1,
           1,
           -1,
           1,
           1,
           1,
           1,
           1,
           1,
           1,
           -1,
           -1,
           -1,
           1,
           -1,
           1,
           -1,
           -1,
           -1,
           -1,
           -1,
           -1,
           -1,
           -1,
           1,
           1,
           1,
           1,
           1,
           1,
           -1,
           -1,
           -1,
           -1,
           -1,
           1,
           1,
           -1,
           1,
           -1,
           1,
           -1,
           -1,
           -1,
           -1,
           -1,
           -1,
           1,
           -1,
           -1,
           1,
           1,
           1,
           1,
           1,
           1,
           1,
           1,
           1,
           1,
           -1,
           1,
           -1,
           -1,
           1,
           1,
           1,
           1,
           -1,
           -1,
           -1,
           -1,
           1,
           1,
           -1,
           1,
           -1,
           1,
           -1,
           -1,
           -1,
           -1,
           1,
           1,
           1,
           1,
           1,
           -1,
           -1,
           -1,
           1,
           -1,
           1,
           1,
           -1,
           -1,
           1,
           1,
           -1,
           -1,
           1,
           1,
           1,
           1,
           -1,
           1,
           1,
           -1,
           -1,
           -1,
           1,
           -1,
           1,
           1,
           1,
           -1,
           -1,
           1,
           -1,
           1,
           1,
           1,
           1,
           1,
           1,
           1,
           1,
           1,
           1,
           1,
           1,
           1,
           1,
           -1,
           1,
           1,
           1,
           1,
           1,
           1,
           -1,
           1,
           1,
           1,
           1,
           1,
           1,
           1,
           1,
           1,
           1,
           1,
           1,
           1,
           1,
           1,
           1,
           1,
           1,
           -1,
           -1,
           -1,
           1,
           -1,
           -1,
           -1,
           1,
           1,
           1,
           -1,
           -1,
           -1,
           -1,
           -1,
           -1,
           -1,
           -1,
           -1,
           1,
           -1,
           1,
           -1,
           -1,
           1,
           1,
           1,
           1,
           1,
           -1,
           1,
           -1,
           1,
           -1,
           -1,
           -1,
           -1,
           -1,
           1,
           1,
           -1,
           -1,
           -1,
           1,
           -1,
           -1,
           -1,
           -1,
           1,
           1,
           -1,
           -1,
           -1,
           1,
           1,
           1,
           -1,
           1,
           -1,
           1,
           1,
           1,
           1,
           -1,
           -1,
           1,
           1,
           1,
           1,
           -1,
           -1,
           -1,
           -1,
           -1,
           1,
           1,
           -1,
           1,
           -1,
           1,
           -1,
           -1,
           -1,
           1,
           1,
           1,
           1,
           1,
           -1,
           1,
           1,
           -1,
           1,
           1,
           -1,
           1,
           -1,
           1,
           1,
           1,
           1,
           1,
           -1,
           -1,
           -1,
           -1,
           -1,
           -1,
           -1,
           -1,
           -1,
           1,
           1,
           1,
           -1,
           -1,
           -1,
           -1,
           1,
           -1,
           -1,
           1,
           -1,
           1,
           -1,
           1,
           -1,
           1,
           -1,
           1,
           -1,
           -1,
           -1,
           -1,
           1,
           1,
           1,
           -1,
           -1,
           1,
           1,
           1,
           -1,
           -1,
           1,
           -1,
           1,
           1,
           -1,
           -1,
           1,
           -1,
           -1,
           1,
           -1,
           1,
           -1,
           -1,
           1,
           1,
           1,
           -1,
           -1,
           -1,
           -1,
           1,
           -1,
           -1,
           -1,
           1,
           1,
           1,
           -1,
           -1,
           1,
           1,
           1,
           1,
           -1,
           -1,
           -1,
           1,
           1,
           -1,
           -1,
           1,
           1,
           -1,
           -1,
           1,
           1,
           -1,
           -1,
           1,
           -1,
           -1,
           1,
           -1,
           -1,
           1,
           1,
           -1,
           -1,
           -1,
           1,
           -1,
           1,
           1,
           -1,
           -1,
           -1,
           -1,
           -1,
           -1,
           -1,
           -1,
           1,
           -1,
           1,
           1,
           1,
           1,
           -1,
           -1,
           1,
           1,
           -1,
           -1,
           1,
           1,
           -1,
           1,
           1,
           1,
           -1,
           -1,
           1,
           1,
           -1,
           -1,
           1,
           1,
           1,
           1,
           1,
           1,
           1,
           1,
           1,
           1,
           1,
           1,
           1,
           1,
           -1,
           -1,
           -1,
           1,
           -1,
           1,
           -1,
           1,
           1,
           1,
           -1,
           1,
           1,
           -1,
           -1,
           -1,
           -1,
           -1,
           -1,
           1,
           1,
           -1,
           -1,
           1,
           1,
           1,
           0.4891182080094589,
           -0.3952804852354656,
           -0.898923987721536,
           0.3960883594998843,
           0.0754080669154013,
           -0.10709236707478581,
           1,
           0.8653859249828466,
           -0.9559100995552096,
           1,
           1,
           1,
           -0.5418079404147185,
           -0.25032911242340505,
           1,
           -0.9604157934173051,
           -1,
           1,
           1,
           1,
           1,
           1,
           0.6679386831032501,
           0.6935073276453197,
           -1,
           -1,
           1,
           0.30717878682487215,
           -1,
           1,
           0.3010177137610584,
           0.7748627313712643,
           -1,
           -1,
           -1,
           1,
           -0.9470731446463996,
           1,
           1,
           -0.9999999954777596,
           0.7835074765312718,
           1,
           1,
           1,
           1,
           -0.6851081554728652,
           -1,
           0.7830971063577044,
           0.9921591724996047,
           0.46411751247815053,
           0.9557818389693775,
           0.6245634302343107,
           1,
           0.010843971326927238,
           0.5530813444094076,
           1,
           1,
           0.7359646670709924,
           -0.8651927564915521,
           1,
           1,
           1,
           1,
           -1,
           -1,
           0.04400713805351006,
           1,
           -1,
           1,
           0.9961099078196829,
           0.9997454089099514,
           -0.8455323013653802,
           1,
           -1,
           -1,
           1,
           -1,
           -0.4027001008355092,
           -1,
           -0.5404195525145936,
           -0.99558064261663,
           0.37040087582334197,
           -1,
           0.6045819512802775
          ]
         },
         "name": "",
         "parents": [
          "all/Solana",
          "all/Ethereum",
          "all/Fantom",
          "all/Ethereum",
          "all/Avalanche",
          "all/Ethereum",
          "all/Ethereum-pool2",
          "all/Polygon",
          "all/pool2",
          "all/Arbitrum",
          "all/Avalanche",
          "all/Fantom",
          "all/Harmony",
          "all/Optimism",
          "all/Polygon",
          "all/Polygon",
          "all/Polygon-pool2",
          "all/pool2",
          "all/Acala",
          "all/Acala",
          "all/Acala",
          "all/Ethereum",
          "all/Astar",
          "all/Avalanche",
          "all/Binance",
          "all/Cronos",
          "all/Fantom",
          "all/Harmony",
          "all/Moonbeam",
          "all/Moonriver",
          "all/xDai",
          "all/Ethereum",
          "all/Fantom",
          "all/Solana",
          "all/Algorand",
          "all/Avalanche",
          "all/Binance",
          "all/Celo",
          "all/Ethereum",
          "all/Fantom",
          "all/Heco",
          "all/Near",
          "all/Polygon",
          "all/Solana",
          "all/Terra",
          "all/Binance",
          "all/Fantom",
          "all/Arbitrum",
          "all/Ethereum",
          "all/Optimism",
          "all/Polygon",
          "all/Binance",
          "all/Ethereum",
          "all/Fantom",
          "all/Kusama",
          "all/Polkadot",
          "all/Binance",
          "all/Ethereum",
          "all/Polygon",
          "all/Binance",
          "all/Binance",
          "all/Binance-pool2",
          "all/pool2",
          "all/Ethereum",
          "all/Ethereum",
          "all/Optimism",
          "all/Polygon",
          "all/Astar",
          "all/Terra",
          "all/Terra2",
          "all/Ethereum",
          "all/Aurora",
          "all/Ethereum",
          "all/Polygon",
          "all/Binance",
          "all/Arbitrum",
          "all/Ethereum",
          "all/Polygon",
          "all/Ethereum",
          "all/Aurora",
          "all/Arbitrum",
          "all/Aurora",
          "all/Avalanche",
          "all/Binance",
          "all/Celo",
          "all/Cronos",
          "all/Fantom",
          "all/Fuse",
          "all/Harmony",
          "all/Heco",
          "all/Metis",
          "all/Moonbeam",
          "all/Moonriver",
          "all/Oasis",
          "all/Optimism",
          "all/Polygon",
          "all/Fantom",
          "all/Optimism",
          "all/Ethereum",
          "all/Ethereum-pool2",
          "all/pool2",
          "all/Binance",
          "all/Heco",
          "all/Klaytn",
          "all/Ethereum",
          "all/Avalanche",
          "all/Avalanche-pool2",
          "all/pool2",
          "all/Avalanche",
          "all/Avalanche",
          "all/Ethereum",
          "all/Avalanche",
          "all/Binance",
          "all/Ethereum",
          "all/Klaytn",
          "all/Bifrost",
          "all/Binance",
          "all/Binance",
          "all/Polygon",
          "all/Near",
          "all/Arbitrum",
          "all/Aurora",
          "all/Avalanche",
          "all/Binance",
          "all/Ethereum",
          "all/Fantom",
          "all/Metis",
          "all/Optimism",
          "all/Polygon",
          "all/Shiden",
          "all/Binance",
          "all/Ethereum",
          "all/Klaytn",
          "all/Ethereum",
          "all/Moonbeam",
          "all/Optimism",
          "all/Polygon",
          "all/Binance",
          "all/Binance-pool2",
          "all/Heco",
          "all/Heco-pool2",
          "all/pool2",
          "all/Ethereum",
          "all/Ethereum",
          "all/Ethereum",
          "all/Arbitrum",
          "all/Avalanche",
          "all/Binance",
          "all/Boba",
          "all/Cronos",
          "all/Ethereum",
          "all/Fantom",
          "all/Fuse",
          "all/Moonriver",
          "all/Optimism",
          "all/Polygon",
          "all/xDai",
          "all/Ethereum",
          "all/Arbitrum",
          "all/Binance",
          "all/Ethereum",
          "all/Polygon",
          "all/DFK",
          "all/Arbitrum",
          "all/Aurora",
          "all/Avalanche",
          "all/Ethereum",
          "all/Fantom",
          "all/Moonbeam",
          "all/Optimism",
          "all/Polygon",
          "all/xDai",
          "all/Binance",
          "all/Binance-pool2",
          "all/pool2",
          "all/Harmony",
          "all/Ethereum",
          "all/Wax",
          "all/Ethereum",
          "all/Ethereum",
          "all/Avalanche",
          "all/Arbitrum",
          "all/Binance",
          "all/Ethereum",
          "all/Optimism",
          "all/Polygon",
          "all/Ethereum",
          "all/Polygon",
          "all/Fantom",
          "all/OKExChain",
          "all/Polygon",
          "all/Arbitrum",
          "all/Arbitrum-pool2",
          "all/Binance",
          "all/Ethereum-pool2",
          "all/pool2",
          "all/Binance",
          "all/Avalanche",
          "all/Binance",
          "all/Celo",
          "all/Cronos",
          "all/Ethereum",
          "all/Fantom",
          "all/Heco",
          "all/Milkomeda",
          "all/OKExChain",
          "all/Polygon",
          "all/Ethereum",
          "all/Polygon",
          "all/Avalanche",
          "all/Avalanche-pool2",
          "all/pool2",
          "all/Ethereum",
          "all/Binance",
          "all/Ethereum",
          "all/EOS",
          "all/Ethereum",
          "all/Fantom",
          "all/Moonriver",
          "all/Ethereum",
          "all/Cronos",
          "all/Elastos",
          "all/Heco",
          "all/IoTeX",
          "all/REI",
          "all/NEO",
          "all/Ethereum",
          "all/Songbird",
          "all/Songbird-pool2",
          "all/pool2",
          "all/Algorand",
          "all/Ethereum",
          "all/Ethereum-pool2",
          "all/Ethereum-treasury",
          "all/Fantom",
          "all/pool2",
          "all/treasury",
          "all/Solana",
          "all/Polygon",
          "all/Polygon-pool2",
          "all/pool2",
          "all/Ethereum",
          "all/Fantom",
          "all/Fantom-pool2",
          "all/pool2",
          "all/Arbitrum",
          "all/Avalanche",
          "all/Ethereum",
          "all/Ethereum-pool2",
          "all/pool2",
          "all/Binance",
          "all/Ethereum",
          "all/Polygon",
          "all/Arbitrum",
          "all/Avalanche",
          "all/Binance",
          "all/Ethereum",
          "all/Polygon",
          "all/Ethereum",
          "all/Fantom",
          "all/Avalanche",
          "all/Binance",
          "all/Ethereum",
          "all/Fantom",
          "all/Arbitrum",
          "all/Ethereum",
          "all/Optimism",
          "all/Polygon",
          "all/xDai",
          "all/Solana",
          "all/Arbitrum",
          "all/Fantom",
          "all/Moonriver",
          "all/Optimism",
          "all/Polygon",
          "all/Polygon",
          "all/Ethereum",
          "all/Polygon",
          "all/Ethereum",
          "all/Ethereum",
          "all/Ethereum",
          "all/Avalanche",
          "all/Binance",
          "all/Ethereum",
          "all/Polygon",
          "all/Ethereum",
          "all/Avalanche",
          "all/Ethereum",
          "all/Fantom",
          "all/Binance",
          "all/Arbitrum",
          "all/Ethereum",
          "all/Ethereum-pool2",
          "all/Polygon",
          "all/pool2",
          "all/Solana",
          "all/Tron",
          "all/Tron",
          "all/Kardia",
          "all/Karura",
          "all/Karura",
          "all/Solana",
          "all/Ronin",
          "all/Kava",
          "all/Kava",
          "all/Kava",
          "all/Klaytn",
          "all/Klaytn",
          "all/Polygon",
          "all/Binance",
          "all/Fantom",
          "all/Klaytn",
          "all/Arbitrum",
          "all/Avalanche",
          "all/Binance",
          "all/Cronos",
          "all/Ethereum",
          "all/Fantom",
          "all/Oasis",
          "all/Optimism",
          "all/Polygon",
          "all/Solana",
          "all/Ethereum",
          "all/Moonbeam",
          "all/Moonriver",
          "all/Solana",
          "all/Terra",
          "all/Bitcoin",
          "all/Near",
          "all/Binance",
          "all/Ethereum",
          "all/Fantom",
          "all/Ethereum",
          "all/Ethereum",
          "all/Ethereum",
          "all/Ethereum",
          "all/Optimism",
          "all/Elrond",
          "all/Ethereum",
          "all/Solana",
          "all/Ethereum",
          "all/Solana",
          "all/Solana",
          "all/Celo",
          "all/Solana",
          "all/Polygon",
          "all/Near",
          "all/Ethereum",
          "all/IoTeX",
          "all/Fantom",
          "all/Polygon",
          "all/Cardano",
          "all/Cronos",
          "all/Cronos",
          "all/Kucoin",
          "all/RSK",
          "all/Celo",
          "all/Moonriver",
          "all/Moonbeam",
          "all/Ethereum",
          "all/Polygon",
          "all/NEO",
          "all/Avalanche",
          "all/Metis",
          "all/Waves",
          "all/Ethereum",
          "all/Ethereum",
          "all/Binance",
          "all/Ethereum",
          "all/Binance",
          "all/Ethereum",
          "all/Everscale",
          "all/Polygon",
          "all/Ethereum",
          "all/Avalanche",
          "all/Ethereum",
          "all/Ethereum-pool2",
          "all/Fantom",
          "all/Polygon",
          "all/pool2",
          "all/Arbitrum",
          "all/Binance",
          "all/Ethereum",
          "all/Polygon",
          "all/Ethereum",
          "all/Polygon",
          "all/Ethereum",
          "all/Binance",
          "all/Ethereum",
          "all/Osmosis",
          "all/Polygon",
          "all/Binance",
          "all/Avalanche",
          "all/Solana",
          "all/Polygon",
          "all/Optimism",
          "all/Arbitrum",
          "all/Arbitrum-pool2",
          "all/Aurora",
          "all/Cronos",
          "all/Ethereum",
          "all/Ethereum-pool2",
          "all/Metis",
          "all/Moonbeam",
          "all/Moonriver",
          "all/OKExChain",
          "all/Optimism",
          "all/Polygon",
          "all/Polygon-pool2",
          "all/pool2",
          "all/Avalanche",
          "all/Binance",
          "all/Cronos",
          "all/Ethereum",
          "all/Fantom",
          "all/Polygon",
          "all/Binance",
          "all/Avalanche",
          "all/Binance",
          "all/Bitcoin",
          "all/Doge",
          "all/EOS",
          "all/Ethereum",
          "all/Fantom",
          "all/LBRY",
          "all/Litecoin",
          "all/ORE",
          "all/Ravencoin",
          "all/Telos",
          "all/Polygon",
          "all/Avalanche",
          "all/Binance",
          "all/Celo",
          "all/Ethereum",
          "all/Optimism",
          "all/Polygon",
          "all/Solana",
          "all/Binance",
          "all/Binance-treasury",
          "all/treasury",
          "all/Proton",
          "all/Ethereum",
          "all/Ethereum-pool2",
          "all/pool2",
          "all/Hoo",
          "all/Arbitrum",
          "all/Avalanche",
          "all/Binance",
          "all/Fantom",
          "all/Harmony",
          "all/Metis",
          "all/Moonriver",
          "all/Optimism",
          "all/Polygon",
          "all/xDai",
          "all/Solana",
          "all/Polygon",
          "all/Arbitrum",
          "all/Arbitrum-pool2",
          "all/pool2",
          "all/Avalanche",
          "all/Binance",
          "all/Ethereum",
          "all/Polygon",
          "all/Arbitrum",
          "all/Ethereum",
          "all/Ethereum-pool2",
          "all/pool2",
          "all/Fantom",
          "all/Optimism",
          "all/Near",
          "all/Ethereum",
          "all/Arbitrum",
          "all/Avalanche",
          "all/Binance",
          "all/Ethereum",
          "all/Fantom",
          "all/Polygon",
          "all/Solana",
          "all/Telos",
          "all/Ethereum",
          "all/Avalanche",
          "all/Ethereum",
          "all/Avalanche",
          "all/Ethereum",
          "all/Ethereum",
          "all/Solana",
          "all/Ethereum",
          "all/Arbitrum",
          "all/Ethereum",
          "all/Evmos",
          "all/Fantom",
          "all/Kava",
          "all/Optimism",
          "all/Binance",
          "all/Heco",
          "all/Ethereum",
          "all/Ethereum",
          "all/Ethereum",
          "all/Icon",
          "all/Cronos",
          "all/Cronos-pool2",
          "all/Fantom",
          "all/Fantom-pool2",
          "all/pool2",
          "all/Moonriver",
          "all/Solana",
          "all/Binance",
          "all/Heco",
          "all/OKExChain",
          "all/Polygon",
          "all/Binance",
          "all/Ethereum",
          "all/Fantom",
          "all/Fantom",
          "all/Fantom",
          "all/Ethereum",
          "all/Binance",
          "all/Fantom",
          "all/Hedera",
          "all/Near",
          "all/Polygon",
          "all/Terra",
          "all/Terra2",
          "all/Cosmos",
          "all/Polygon",
          "all/Stafi",
          "all/Avalanche",
          "all/Ethereum",
          "all/Harmony",
          "all/Polygon",
          "all/Ethereum",
          "all/Arbitrum",
          "all/Avalanche",
          "all/Binance",
          "all/Ethereum",
          "all/Fantom",
          "all/Optimism",
          "all/Polygon",
          "all/Astar",
          "all/Moonbeam",
          "all/Ethereum",
          "all/Ethereum",
          "all/Fantom",
          "all/Tron",
          "all/Tron-pool2",
          "all/pool2",
          "all/Cardano",
          "all/Solana",
          "all/Tron",
          "all/Polygon",
          "all/xDai",
          "all/Arbitrum",
          "all/Avalanche",
          "all/Binance",
          "all/Celo",
          "all/Ethereum",
          "all/Fantom",
          "all/Fuse",
          "all/Harmony",
          "all/Heco",
          "all/Moonriver",
          "all/OKExChain",
          "all/Polygon",
          "all/Telos",
          "all/xDai",
          "all/Arbitrum",
          "all/Binance",
          "all/Ethereum",
          "all/Fantom",
          "all/Arbitrum",
          "all/Ethereum",
          "all/xDai",
          "all/Solana",
          "all/Arbitrum",
          "all/Aurora",
          "all/Avalanche",
          "all/Binance",
          "all/Boba",
          "all/Cronos",
          "all/Ethereum",
          "all/Ethereum-pool2",
          "all/Fantom",
          "all/Harmony",
          "all/Klaytn",
          "all/Metis",
          "all/Moonriver",
          "all/Optimism",
          "all/Polygon",
          "all/pool2",
          "all/Ethereum",
          "all/Optimism",
          "all/Fantom",
          "all/Optimism",
          "all/Avalanche",
          "all/Binance",
          "all/Ethereum",
          "all/Polygon",
          "all/Cronos",
          "all/Ethereum",
          "all/Ethereum-pool2",
          "all/pool2",
          "all/Binance",
          "all/Ethereum",
          "all/Harmony",
          "all/Fantom",
          "all/Polygon",
          "all/Tezos",
          "all/Ethereum",
          "all/Theta",
          "all/Aurora",
          "all/Avalanche",
          "all/Boba",
          "all/Fantom",
          "all/Polygon",
          "all/Theta",
          "all/Algorand",
          "all/Ethereum",
          "all/Ethereum-pool2",
          "all/pool2",
          "all/Binance",
          "all/Ethereum",
          "all/Fantom",
          "all/Polygon",
          "all/Fantom",
          "all/Fantom-pool2",
          "all/pool2",
          "all/Arbitrum",
          "all/Avalanche",
          "all/Binance",
          "all/Ethereum",
          "all/Optimism",
          "all/Polygon",
          "all/xDai",
          "all/Polygon",
          "all/Avalanche",
          "all/Binance",
          "all/Aurora",
          "all/Ethereum",
          "all/Avalanche",
          "all/Binance",
          "all/Binance-pool2",
          "all/Ethereum",
          "all/Ethereum-pool2",
          "all/Polygon",
          "all/pool2",
          "all/xDai-pool2",
          "all/Arbitrum",
          "all/Celo",
          "all/Ethereum",
          "all/Optimism",
          "all/Polygon",
          "all/Ethereum",
          "all/Solana",
          "all/Binance",
          "all/Binance-pool2",
          "all/pool2",
          "all/Oasis",
          "all/Avalanche",
          "all/Avalanche-pool2",
          "all/pool2",
          "all/Optimism",
          "all/Binance",
          "all/Avalanche",
          "all/Ethereum",
          "all/Polygon",
          "all/Arbitrum",
          "all/Arbitrum-pool2",
          "all/pool2",
          "all/Waves",
          "all/Cronos",
          "all/Waves",
          "all/Arbitrum",
          "all/Aurora",
          "all/Binance",
          "all/Ethereum",
          "all/Harmony",
          "all/Heco",
          "all/Moonbeam",
          "all/Moonriver",
          "all/OKExChain",
          "all/Oasis",
          "all/Optimism",
          "all/Polygon",
          "all/Cardano",
          "all/Binance",
          "all/Binance",
          "all/Ethereum",
          "all/Astar",
          "all/Binance",
          "all/Fantom",
          "all/Polygon",
          "all/Arbitrum",
          "all/Ethereum",
          "all/Fantom",
          "all/Avalanche",
          "all/Avalanche-pool2",
          "all/pool2",
          "all/Arbitrum",
          "all/Ethereum",
          "all/Avalanche",
          "all/Avalanche-pool2",
          "all/pool2",
          "all/Binance",
          "all/Fantom",
          "all/Tezos",
          "all/Tezos-pool2",
          "all/pool2",
          "all/Solana",
          "all",
          "all",
          "all",
          "all",
          "all",
          "all",
          "all",
          "all",
          "all",
          "all",
          "all",
          "all",
          "all",
          "all",
          "all",
          "all",
          "all",
          "all",
          "all",
          "all",
          "all",
          "all",
          "all",
          "all",
          "all",
          "all",
          "all",
          "all",
          "all",
          "all",
          "all",
          "all",
          "all",
          "all",
          "all",
          "all",
          "all",
          "all",
          "all",
          "all",
          "all",
          "all",
          "all",
          "all",
          "all",
          "all",
          "all",
          "all",
          "all",
          "all",
          "all",
          "all",
          "all",
          "all",
          "all",
          "all",
          "all",
          "all",
          "all",
          "all",
          "all",
          "all",
          "all",
          "all",
          "all",
          "all",
          "all",
          "all",
          "all",
          "all",
          "all",
          "all",
          "all",
          "all",
          "all",
          "all",
          "all",
          "all",
          "all",
          "all",
          "all",
          "all",
          "all",
          "all",
          "all",
          ""
         ],
         "root": {
          "color": "lightgrey"
         },
         "type": "treemap",
         "values": [
          5918.169158554081,
          15452.41528437035,
          7.564499971563896,
          233769.55411117483,
          2798740.0244757417,
          36182694.132362306,
          1010.3705249875784,
          669302.232719837,
          1010.3705249875784,
          82162.90863449068,
          701735.7430498637,
          397517.61713112064,
          814.2615077648408,
          19646174.72365835,
          292594.1379384557,
          794.7077878128998,
          718.8079860524656,
          718.8079860524647,
          6945414.386330023,
          5739901.249519203,
          623180.3391354489,
          192525.27422857934,
          4335.0677250866465,
          75682.35363,
          834883.8423351647,
          59749.44759999974,
          7486.519565000033,
          1029.706150000001,
          117.09853500328265,
          13804.549735000002,
          3229.3813600000053,
          1930129.1741693097,
          421.5516026161151,
          910763.8513554051,
          4352215.265128644,
          7130.9283341769715,
          1684.5897852059043,
          15510.766545074735,
          40329.51193660396,
          603.6120950188023,
          1102.1934125861535,
          696.8271871761427,
          8705.404391907769,
          11785.621335981861,
          1648.5667961955805,
          1244723.0596160935,
          130882.42777660227,
          0.5131485765976359,
          75660.66498911784,
          175801.50769961104,
          14244.542700708436,
          40390.31966263251,
          31015.978596828096,
          5.8955073225916,
          1.9434690035918822,
          25.008196393157043,
          14607.325454431666,
          28.473594972424422,
          17895.26986061863,
          583518.350495027,
          23101.894384469648,
          952.5578647305883,
          952.5578647305883,
          14745.51581081422,
          58985518.22105729,
          89921.47447814913,
          1654.1275629569097,
          67516.85334020035,
          77086.5424047613,
          298690.35921165586,
          13794374.85167366,
          10207.45204398685,
          248774.68232844103,
          6649.195999543382,
          490932.65660664585,
          568893.6082469589,
          26329578.525472894,
          5149012.227164673,
          193310.9715195538,
          770038.629394063,
          423647.46528000204,
          106113.32181007139,
          1782567.6600250802,
          3080273.829305094,
          2675.795244920343,
          487767.61226505425,
          1880823.2167349996,
          49230.336739999795,
          962.4608099669532,
          688.8158900449993,
          202563.7008352094,
          81936.91613499244,
          25142.576140081983,
          9382.917854999965,
          1100173.0159498323,
          2046384.7055649876,
          4522011.757575476,
          1235598.2234397368,
          2348.180621202183,
          176.9708072489841,
          176.97080724898422,
          47418.21735528708,
          1274.6005298019963,
          2058.7869500001766,
          3395756.4279178223,
          513270.6166374637,
          143704.37101438013,
          143704.37101438013,
          1328433.3750627863,
          0.5939030413830978,
          1713.2608580917522,
          1852.578786837587,
          4062.2043091816936,
          16658.95087556817,
          33036.549409590705,
          2141211.585446926,
          151013.1541049248,
          3214515.528448782,
          6039.779917017922,
          149895.33872466092,
          653970.9158691609,
          384069.76013033034,
          567606.3250064983,
          3038500.67796331,
          1537841.6361651064,
          35803.68084222835,
          966.853232205116,
          1153613.512105324,
          934905.0145095512,
          11823.083988196238,
          7461.4245,
          2934464.24,
          744772.3200250004,
          16533.7866918085,
          61.98430430834427,
          21411.018644308577,
          447.8458660073279,
          11222.436592309412,
          0.2911444348937664,
          8837.936572956161,
          0.006907025578573478,
          0.28423108945919395,
          15947924.39266549,
          727.1834283929393,
          62020.74773939264,
          48515.306825841646,
          3124.933978308596,
          71237.58499733394,
          59.05899999988197,
          9265.171175260293,
          30146.457138555765,
          21732.39432721886,
          581.789238028677,
          12832.064886305829,
          27092.581009621594,
          117442.79460957594,
          11486.872660604338,
          14192018.190062663,
          1824.9012782109185,
          591332.4696784813,
          0.17935510449396921,
          3972.0409188840213,
          99461.48841803428,
          8428668.962544207,
          975.1155867193306,
          1279606.4470965248,
          2286947.7928501144,
          8111.362251269486,
          197098.96880425845,
          444070.51924567984,
          8038.758405437895,
          215371.0285001327,
          134367.27184323012,
          0.09782362030033336,
          0.09782362030033336,
          76325.64108587815,
          21237.17257952949,
          28.062210599320906,
          206.75856118520926,
          10019173.97134178,
          4595.5443783492265,
          971640.0325285585,
          2260419.2126037804,
          624152.55615825,
          521339.6303020787,
          580139.8270969593,
          219223.29371337424,
          14719.026028344702,
          1537.068844438738,
          0.0006355465372324676,
          92975.08276304298,
          0.4704380099911283,
          119341.34396586928,
          0.022951004965298036,
          7.607233196240031,
          119333.7361831217,
          417720.4832248129,
          740.4391517233241,
          760947.8809279113,
          36.06215632755795,
          1023.0855154915791,
          22222.354182030613,
          3622.0852236679616,
          3.6426719989698695,
          0.12836991716855436,
          2.6894549997185773,
          379.14289899566563,
          2227506.2359660296,
          662953.6721064142,
          1794891.0826081836,
          168.56485919371787,
          168.56485919371784,
          127927.56668294521,
          1107660.8110899113,
          7555.20248174218,
          8761.284626003635,
          97336.32103603554,
          53.239310743800345,
          6.314944383770952,
          0.00017519966704943914,
          281060.90660162154,
          50566.57824260281,
          59242.120661522684,
          10734.376652336075,
          10370.239391765097,
          839015.6839488433,
          32003.86902021274,
          404693.2000286769,
          4426.372815609013,
          4426.372815609013,
          5969879.489653925,
          19704.056237241843,
          4424.898925195797,
          2294159.999999646,
          1081.3093934735944,
          4424.898925195797,
          2294159.999999646,
          107676.08591083635,
          145644.69602279284,
          214494.42486459954,
          214494.42486459954,
          43054.323651887185,
          1403271.2149552035,
          2759.8110787879996,
          2759.8110787879996,
          4856285.163819173,
          59790.36524986295,
          40.8614445916093,
          650.9550993061989,
          650.9550993061989,
          7098.13979371834,
          162167.7259757801,
          2828.3695181322787,
          6013.091822082288,
          5758.66862030889,
          12491.540059255276,
          286368.52817687043,
          13019.382405186014,
          215.56396979385408,
          463031.1170468286,
          17740.952929986597,
          29464.667173753252,
          934873.2977395572,
          30246.988509689305,
          44023.05082955357,
          394756.56703663425,
          307866.37257471355,
          43929.481442901204,
          384967.1234168337,
          1906362.3380357856,
          5001.127900961784,
          21737.584048418634,
          167.43553610428498,
          31933.566999892144,
          38522.98671803465,
          39352.96263310421,
          3150718.3004098297,
          0.8591932515598187,
          146286.84017022152,
          2245.9503999986455,
          220902422.07013643,
          1797.9780160539644,
          10580.781972433027,
          10531.535548782798,
          1412.0918283401015,
          80295.36934058362,
          269798.89202053996,
          3352380.2619341966,
          135665.49419100734,
          16690.357808536428,
          21.6746030084239,
          874.9708442464871,
          45.74838349994793,
          151.64002525963852,
          45.74839351040226,
          8976.764020409913,
          54305811.61109193,
          21.496624999999877,
          45411.93280905754,
          566316.6699425332,
          639338.0829739769,
          9403.79645662766,
          1854867.8945082992,
          8183057.20498701,
          12012273.022608336,
          1939715.705282121,
          25992.436188852123,
          6852954.921780025,
          721.2675589712653,
          457678.6151370922,
          11004.687145140717,
          900524.0389924005,
          263.35421131243356,
          1059.6969362661623,
          2684.2607626084973,
          6.918593113328484,
          104615.0216304118,
          153.232562301786,
          51.17419890483653,
          405056.9062571676,
          303551.76194932335,
          195252.90656840795,
          2878118.9275876107,
          69664.18546948304,
          1018206.9539667305,
          121146.86023292004,
          12.485762005897353,
          49781.21708067661,
          6877306.690169462,
          921619.6463675711,
          80182.03831639118,
          649138.5930376123,
          10058127.932466306,
          24159.170706506626,
          2377175.2276160503,
          150190.63723637842,
          1527846.5769324033,
          9461160.135379238,
          10857538.830149934,
          32257.54582125938,
          6919.915957361776,
          113815.70795906236,
          4955953.64113715,
          113354.41813296267,
          86899.96435500935,
          4521653.34814322,
          147885.85788898807,
          5.783079106387049,
          394896.2462373298,
          39891.128661471856,
          5062.004214103071,
          345417.1068221694,
          5672459.601641954,
          2877127.903762128,
          781303.7132072725,
          71023.50412789715,
          56449.428823557406,
          1793267.4020781294,
          268995.7580620564,
          432947.97482769296,
          1502.406520767045,
          307088.6100005322,
          94252.21131082533,
          1411815.804699625,
          1226263.5522284405,
          11356.962326193312,
          84928.4433040639,
          4570839.82622252,
          291107.7119140124,
          20.883776996934838,
          37839.30299995296,
          520.7063936715931,
          0.23018199152771165,
          1651464.7796661856,
          2.670315518167954,
          993387.0639441778,
          5017.928799949759,
          5.025005697366395,
          18.284805390207634,
          5017.928799949759,
          12172.832152929133,
          1.0010000070928463e-05,
          34688.44183696249,
          544.025232110711,
          10145150.54385864,
          1.822854785478548,
          2742.337755744197,
          20357.538611799373,
          4506.529289369614,
          18671078.04251393,
          3393.592143702274,
          119522170.75820169,
          4774240.768801838,
          24463.56740962317,
          686932.880983734,
          113063.91756414104,
          31574.339650022343,
          17508.685923923225,
          18930.355736559257,
          79.95499691951576,
          509708.404108293,
          120633.721541178,
          5336.800156729138,
          423.61482602629036,
          6257.4297960423755,
          209.03893404968403,
          73498.54684699999,
          33534.097731952745,
          15554.58683085956,
          153696.99429614466,
          1211.9868593656556,
          1402322.827264119,
          5164.314990774545,
          255050.84955020272,
          0.2050282079761516,
          1117.3991333975086,
          23446.435392119794,
          249054.71382013976,
          35733.56241348153,
          289800.9804869689,
          1641.8607604548042,
          7410.039407194528,
          2065192.4487763504,
          0.1274297811693317,
          2122.1506395684114,
          17450.153940764572,
          170109.40043598486,
          38.09278478831456,
          239689.6448696462,
          723273.0210470136,
          550.8987139126928,
          29.825456476954123,
          239.1752247071419,
          7849.337510865069,
          2048205.9172656548,
          467501.21872503974,
          55225.480166313224,
          89629.02287811752,
          5080.582923141986,
          5080.582923141986,
          703346.6979597432,
          390.7244118874979,
          1342.4976298858785,
          1342.4976298858785,
          21.269427197697375,
          21683.070270010114,
          4540.69841609802,
          28536.457953063673,
          106318.07125286415,
          57.56955988786744,
          145371.40086366268,
          0.07128283603609598,
          15623.696685563971,
          1202315.581452571,
          14813.648361909041,
          1131034.588466865,
          9362397.632068915,
          14369534.439817453,
          11077.052267301755,
          11077.052267301755,
          260.1451794228459,
          221565.1214601111,
          9317.633656659282,
          1641.4134428264167,
          2038.8085442630274,
          1608171.2895649916,
          52.69401183378852,
          52.69401183378852,
          94898.79296354769,
          51891.593570064106,
          6292913.324167306,
          113472.80890767346,
          5619.412383749908,
          40076.290481400596,
          121699.57552949291,
          5072873.908884304,
          573.3235104966677,
          9977.758285135673,
          531435.827132067,
          15916.066665438644,
          133999.9918771493,
          1461.9146029864005,
          94276.98391623324,
          1902.8925259539112,
          1274781.261946125,
          6357.742348589241,
          844882.7276902015,
          173796.81282944055,
          79294.17139014947,
          146807.98811361706,
          0.624407780855627,
          0.38951220460309344,
          0.05005,
          281.32009745368595,
          2.182387510083622,
          0.9190081132159271,
          148018.5214771675,
          2359.635398438004,
          3218561.5607824153,
          52147.03046086356,
          117684.6881601036,
          88315.53729027814,
          80318.20653683756,
          4961.773987845954,
          93277.31127862216,
          1166883.5880041271,
          1252038.6796916234,
          24957.579312703274,
          532722.591846201,
          26727.16092665197,
          12480.858771244777,
          524.3608610070919,
          4854.665864254828,
          31893.740474824794,
          459852.53082119214,
          9170452.339968449,
          10579058.715858411,
          600770.1977675208,
          2420.639999997249,
          387775.85725601064,
          30.18,
          158696.49302002875,
          10.025494220912128,
          24999.84007737937,
          533.2439999999922,
          1219.0354998702437,
          69.73020000001561,
          3138.800817644079,
          299668.46897137706,
          1144.1276003206087,
          102574.55654764536,
          4382.576185915301,
          699597.5500052229,
          10476843.541432085,
          166280.93382385815,
          16688666.841707285,
          68489.24427867879,
          1968260.2164559052,
          261531.93787794368,
          14020.968677745579,
          75241.5072494234,
          5550.08915634651,
          1167988.198927611,
          455405.1236049998,
          172106.51463130082,
          11285.251518079567,
          11285.251518079567,
          412392.47279247385,
          19170.550420691936,
          11379726.378206495,
          9022.9380294166,
          19.69216995118015,
          4540363.269183198,
          623869.8457639222,
          40034.809255697444,
          8444.32351822058,
          29555028.570967954,
          164891.40965075794,
          242.87275956394626,
          6764.314730577509,
          0.0008177642638248078,
          3001.586307566279,
          62.04587350104791,
          462229.7579885833,
          498.1337830105367,
          214300.31979204304,
          2756.391498442241,
          0.023319994532255806,
          62547.81691690824,
          6336.666337917701,
          79263.55348129902,
          49497.94210388111,
          464930.9810672356,
          6262.257059498334,
          1033412.5311251436,
          427.5523108695397,
          1345630.3093183246,
          591604.8307553036,
          3880.8522479193057,
          3683.5137783378514,
          2318059.558830303,
          40593.25946255003,
          18299.95469676111,
          35066.55644851968,
          0.18235837092252183,
          483852.9004693295,
          64.38664381187581,
          1814927.167972209,
          146769.81522620245,
          40593.25946255003,
          10395803.581121279,
          2871412.9897559257,
          33353.871562175744,
          951969.2132809686,
          22552.64645794876,
          901740.6470940352,
          425655.9406065239,
          627.6118321704585,
          363396.5599648113,
          64.38729890220566,
          4208.451550308655,
          4208.451550308655,
          14964.785998893547,
          23115.216776382244,
          5.532464467440249,
          419002.6838254379,
          119371.02663001625,
          55875.6028704728,
          74428.1037463289,
          59611.87089599737,
          6.205191300718567,
          323.205303011201,
          2106.487195008304,
          14322.480275058313,
          72.34622606298754,
          118691.46203600187,
          478410.83950276044,
          43985.7717989339,
          22435.761295529,
          22435.761295529,
          124305.92714594502,
          127170.217383463,
          7.994641357246714,
          44082.43508941874,
          235829.5330103669,
          30000.04862547494,
          30000.04862547494,
          863.5490000000023,
          1529.9999999999995,
          101383.01600000195,
          1514097.9409999796,
          4027.0490000000013,
          47769.7718,
          1200.7672000000002,
          39.12726330018329,
          12913984.505138533,
          183411.23831329157,
          16326.826133351424,
          4124238.583829667,
          12261.86291534171,
          799754.5972164657,
          696.0318285813196,
          377902.15150119143,
          9.94513981287551,
          5076.1114270310645,
          751.4292419456896,
          45.452296022645044,
          7429357.672137976,
          2406.7143562525657,
          161508616.52527666,
          3132075.5654434375,
          3131090.019992761,
          6262.318810361105,
          22030.73936714907,
          116285.49044309216,
          36.873379897098914,
          36.873379897098914,
          15993.978036189947,
          1542283.4243277796,
          38019.84624289381,
          38019.84624289381,
          895809.1934049907,
          7135758.511969777,
          164.54971498363875,
          27775.231252788,
          3428.698864883577,
          56262.67598268333,
          23137.223878447265,
          23137.223878447265,
          3061870.161533852,
          18308795.885429133,
          77546.67609448286,
          89906.38613319855,
          1899.3644630163797,
          64495.23054009826,
          230720.5614387368,
          31.02286890097017,
          954.796240057764,
          812.0823397286506,
          765.0552287778338,
          116836.60158723143,
          7014.035644465534,
          129919.48972394828,
          20132.66163015762,
          225204.6593842896,
          25819.017589566683,
          37008.25167622704,
          561757.4160660937,
          5.031169200253138,
          7326.388509153137,
          0.23907867860970758,
          47.8963401706096,
          9179.360879135802,
          15144342.574342947,
          773131.0581341346,
          340441.8406838267,
          77978.8590612011,
          77978.8590612011,
          25315.273255114058,
          870.4822116029837,
          140972.993107567,
          328.3299721315959,
          328.3299721315959,
          2.5359720389032674,
          4797.912547312106,
          136209.74689474472,
          531565.5868385832,
          531565.5868385832,
          19807.60431925917,
          13308495.974984676,
          10800505.59428533,
          44579127.8348701,
          171064.30603554152,
          85877.92091223283,
          1308994.5828002682,
          43807477.91590603,
          260199.97114980035,
          2141211.585446926,
          156563085.64843217,
          1685.852041264201,
          5080.582923141986,
          339582.19756764546,
          6046.3984429274915,
          983014.2389989329,
          199116.68400202302,
          533.2439999999922,
          28187265.564474702,
          88315.53729027814,
          99461.48841803428,
          1641.8607604548042,
          16171.324033198163,
          50566.57824260281,
          9461160.135379238,
          731968742.8289018,
          200610.81040448273,
          2294159.999999646,
          520.7063936715931,
          0.624407780855627,
          21906442.90698658,
          37721.633692108895,
          50054.99873759242,
          122201.19322628403,
          604827.6176510472,
          0.006907025578573478,
          387775.85725601064,
          21.269427197697375,
          52147.03046086356,
          405630.6228896659,
          45411.93280905754,
          1205654.7529165102,
          22135045.982927468,
          8559339.23570424,
          781303.7132072725,
          1.9434690035918822,
          2122.1506395684114,
          17450.153940764572,
          2249907.460256761,
          0.12836991716855436,
          694352.1157252803,
          4040399.4145498974,
          1146104.2939493754,
          13468728.218137592,
          143837.5374119804,
          170109.40043598486,
          32442.105734560282,
          40758865.50636413,
          18671078.04251393,
          25.008196393157043,
          32765514.853130594,
          230767.81968151155,
          703346.6979597432,
          10370.239391765097,
          71023.50412789715,
          38.09278478831456,
          1854867.8945082992,
          11823.083988196238,
          12372565.274070702,
          404693.2000286769,
          4426.372815609013,
          69.73020000001561,
          256103.84531809538,
          78757.6204571837,
          323690.1992890352,
          192085.3497652175,
          531565.5868385832,
          178303.33293199923,
          65857666.000554726,
          11285.251518079567,
          4365680.389856775,
          28.062210599320906,
          1537673.3718222138,
          2299240.582922788,
          1310319.8145287095,
          45.452296022645044,
          1309990671.8489966
         ]
        }
       ],
       "layout": {
        "coloraxis": {
         "colorbar": {
          "title": {
           "text": "flow_direction"
          }
         },
         "colorscale": [
          [
           0,
           "rgb(158,1,66)"
          ],
          [
           0.1,
           "rgb(213,62,79)"
          ],
          [
           0.2,
           "rgb(244,109,67)"
          ],
          [
           0.3,
           "rgb(253,174,97)"
          ],
          [
           0.4,
           "rgb(254,224,139)"
          ],
          [
           0.5,
           "rgb(255,255,191)"
          ],
          [
           0.6,
           "rgb(230,245,152)"
          ],
          [
           0.7,
           "rgb(171,221,164)"
          ],
          [
           0.8,
           "rgb(102,194,165)"
          ],
          [
           0.9,
           "rgb(50,136,189)"
          ],
          [
           1,
           "rgb(94,79,162)"
          ]
         ]
        },
        "legend": {
         "tracegroupgap": 0
        },
        "margin": {
         "b": 25,
         "l": 25,
         "r": 25,
         "t": 50
        },
        "template": {
         "data": {
          "bar": [
           {
            "error_x": {
             "color": "#2a3f5f"
            },
            "error_y": {
             "color": "#2a3f5f"
            },
            "marker": {
             "line": {
              "color": "#E5ECF6",
              "width": 0.5
             },
             "pattern": {
              "fillmode": "overlay",
              "size": 10,
              "solidity": 0.2
             }
            },
            "type": "bar"
           }
          ],
          "barpolar": [
           {
            "marker": {
             "line": {
              "color": "#E5ECF6",
              "width": 0.5
             },
             "pattern": {
              "fillmode": "overlay",
              "size": 10,
              "solidity": 0.2
             }
            },
            "type": "barpolar"
           }
          ],
          "carpet": [
           {
            "aaxis": {
             "endlinecolor": "#2a3f5f",
             "gridcolor": "white",
             "linecolor": "white",
             "minorgridcolor": "white",
             "startlinecolor": "#2a3f5f"
            },
            "baxis": {
             "endlinecolor": "#2a3f5f",
             "gridcolor": "white",
             "linecolor": "white",
             "minorgridcolor": "white",
             "startlinecolor": "#2a3f5f"
            },
            "type": "carpet"
           }
          ],
          "choropleth": [
           {
            "colorbar": {
             "outlinewidth": 0,
             "ticks": ""
            },
            "type": "choropleth"
           }
          ],
          "contour": [
           {
            "colorbar": {
             "outlinewidth": 0,
             "ticks": ""
            },
            "colorscale": [
             [
              0,
              "#0d0887"
             ],
             [
              0.1111111111111111,
              "#46039f"
             ],
             [
              0.2222222222222222,
              "#7201a8"
             ],
             [
              0.3333333333333333,
              "#9c179e"
             ],
             [
              0.4444444444444444,
              "#bd3786"
             ],
             [
              0.5555555555555556,
              "#d8576b"
             ],
             [
              0.6666666666666666,
              "#ed7953"
             ],
             [
              0.7777777777777778,
              "#fb9f3a"
             ],
             [
              0.8888888888888888,
              "#fdca26"
             ],
             [
              1,
              "#f0f921"
             ]
            ],
            "type": "contour"
           }
          ],
          "contourcarpet": [
           {
            "colorbar": {
             "outlinewidth": 0,
             "ticks": ""
            },
            "type": "contourcarpet"
           }
          ],
          "heatmap": [
           {
            "colorbar": {
             "outlinewidth": 0,
             "ticks": ""
            },
            "colorscale": [
             [
              0,
              "#0d0887"
             ],
             [
              0.1111111111111111,
              "#46039f"
             ],
             [
              0.2222222222222222,
              "#7201a8"
             ],
             [
              0.3333333333333333,
              "#9c179e"
             ],
             [
              0.4444444444444444,
              "#bd3786"
             ],
             [
              0.5555555555555556,
              "#d8576b"
             ],
             [
              0.6666666666666666,
              "#ed7953"
             ],
             [
              0.7777777777777778,
              "#fb9f3a"
             ],
             [
              0.8888888888888888,
              "#fdca26"
             ],
             [
              1,
              "#f0f921"
             ]
            ],
            "type": "heatmap"
           }
          ],
          "heatmapgl": [
           {
            "colorbar": {
             "outlinewidth": 0,
             "ticks": ""
            },
            "colorscale": [
             [
              0,
              "#0d0887"
             ],
             [
              0.1111111111111111,
              "#46039f"
             ],
             [
              0.2222222222222222,
              "#7201a8"
             ],
             [
              0.3333333333333333,
              "#9c179e"
             ],
             [
              0.4444444444444444,
              "#bd3786"
             ],
             [
              0.5555555555555556,
              "#d8576b"
             ],
             [
              0.6666666666666666,
              "#ed7953"
             ],
             [
              0.7777777777777778,
              "#fb9f3a"
             ],
             [
              0.8888888888888888,
              "#fdca26"
             ],
             [
              1,
              "#f0f921"
             ]
            ],
            "type": "heatmapgl"
           }
          ],
          "histogram": [
           {
            "marker": {
             "pattern": {
              "fillmode": "overlay",
              "size": 10,
              "solidity": 0.2
             }
            },
            "type": "histogram"
           }
          ],
          "histogram2d": [
           {
            "colorbar": {
             "outlinewidth": 0,
             "ticks": ""
            },
            "colorscale": [
             [
              0,
              "#0d0887"
             ],
             [
              0.1111111111111111,
              "#46039f"
             ],
             [
              0.2222222222222222,
              "#7201a8"
             ],
             [
              0.3333333333333333,
              "#9c179e"
             ],
             [
              0.4444444444444444,
              "#bd3786"
             ],
             [
              0.5555555555555556,
              "#d8576b"
             ],
             [
              0.6666666666666666,
              "#ed7953"
             ],
             [
              0.7777777777777778,
              "#fb9f3a"
             ],
             [
              0.8888888888888888,
              "#fdca26"
             ],
             [
              1,
              "#f0f921"
             ]
            ],
            "type": "histogram2d"
           }
          ],
          "histogram2dcontour": [
           {
            "colorbar": {
             "outlinewidth": 0,
             "ticks": ""
            },
            "colorscale": [
             [
              0,
              "#0d0887"
             ],
             [
              0.1111111111111111,
              "#46039f"
             ],
             [
              0.2222222222222222,
              "#7201a8"
             ],
             [
              0.3333333333333333,
              "#9c179e"
             ],
             [
              0.4444444444444444,
              "#bd3786"
             ],
             [
              0.5555555555555556,
              "#d8576b"
             ],
             [
              0.6666666666666666,
              "#ed7953"
             ],
             [
              0.7777777777777778,
              "#fb9f3a"
             ],
             [
              0.8888888888888888,
              "#fdca26"
             ],
             [
              1,
              "#f0f921"
             ]
            ],
            "type": "histogram2dcontour"
           }
          ],
          "mesh3d": [
           {
            "colorbar": {
             "outlinewidth": 0,
             "ticks": ""
            },
            "type": "mesh3d"
           }
          ],
          "parcoords": [
           {
            "line": {
             "colorbar": {
              "outlinewidth": 0,
              "ticks": ""
             }
            },
            "type": "parcoords"
           }
          ],
          "pie": [
           {
            "automargin": true,
            "type": "pie"
           }
          ],
          "scatter": [
           {
            "marker": {
             "colorbar": {
              "outlinewidth": 0,
              "ticks": ""
             }
            },
            "type": "scatter"
           }
          ],
          "scatter3d": [
           {
            "line": {
             "colorbar": {
              "outlinewidth": 0,
              "ticks": ""
             }
            },
            "marker": {
             "colorbar": {
              "outlinewidth": 0,
              "ticks": ""
             }
            },
            "type": "scatter3d"
           }
          ],
          "scattercarpet": [
           {
            "marker": {
             "colorbar": {
              "outlinewidth": 0,
              "ticks": ""
             }
            },
            "type": "scattercarpet"
           }
          ],
          "scattergeo": [
           {
            "marker": {
             "colorbar": {
              "outlinewidth": 0,
              "ticks": ""
             }
            },
            "type": "scattergeo"
           }
          ],
          "scattergl": [
           {
            "marker": {
             "colorbar": {
              "outlinewidth": 0,
              "ticks": ""
             }
            },
            "type": "scattergl"
           }
          ],
          "scattermapbox": [
           {
            "marker": {
             "colorbar": {
              "outlinewidth": 0,
              "ticks": ""
             }
            },
            "type": "scattermapbox"
           }
          ],
          "scatterpolar": [
           {
            "marker": {
             "colorbar": {
              "outlinewidth": 0,
              "ticks": ""
             }
            },
            "type": "scatterpolar"
           }
          ],
          "scatterpolargl": [
           {
            "marker": {
             "colorbar": {
              "outlinewidth": 0,
              "ticks": ""
             }
            },
            "type": "scatterpolargl"
           }
          ],
          "scatterternary": [
           {
            "marker": {
             "colorbar": {
              "outlinewidth": 0,
              "ticks": ""
             }
            },
            "type": "scatterternary"
           }
          ],
          "surface": [
           {
            "colorbar": {
             "outlinewidth": 0,
             "ticks": ""
            },
            "colorscale": [
             [
              0,
              "#0d0887"
             ],
             [
              0.1111111111111111,
              "#46039f"
             ],
             [
              0.2222222222222222,
              "#7201a8"
             ],
             [
              0.3333333333333333,
              "#9c179e"
             ],
             [
              0.4444444444444444,
              "#bd3786"
             ],
             [
              0.5555555555555556,
              "#d8576b"
             ],
             [
              0.6666666666666666,
              "#ed7953"
             ],
             [
              0.7777777777777778,
              "#fb9f3a"
             ],
             [
              0.8888888888888888,
              "#fdca26"
             ],
             [
              1,
              "#f0f921"
             ]
            ],
            "type": "surface"
           }
          ],
          "table": [
           {
            "cells": {
             "fill": {
              "color": "#EBF0F8"
             },
             "line": {
              "color": "white"
             }
            },
            "header": {
             "fill": {
              "color": "#C8D4E3"
             },
             "line": {
              "color": "white"
             }
            },
            "type": "table"
           }
          ]
         },
         "layout": {
          "annotationdefaults": {
           "arrowcolor": "#2a3f5f",
           "arrowhead": 0,
           "arrowwidth": 1
          },
          "autotypenumbers": "strict",
          "coloraxis": {
           "colorbar": {
            "outlinewidth": 0,
            "ticks": ""
           }
          },
          "colorscale": {
           "diverging": [
            [
             0,
             "#8e0152"
            ],
            [
             0.1,
             "#c51b7d"
            ],
            [
             0.2,
             "#de77ae"
            ],
            [
             0.3,
             "#f1b6da"
            ],
            [
             0.4,
             "#fde0ef"
            ],
            [
             0.5,
             "#f7f7f7"
            ],
            [
             0.6,
             "#e6f5d0"
            ],
            [
             0.7,
             "#b8e186"
            ],
            [
             0.8,
             "#7fbc41"
            ],
            [
             0.9,
             "#4d9221"
            ],
            [
             1,
             "#276419"
            ]
           ],
           "sequential": [
            [
             0,
             "#0d0887"
            ],
            [
             0.1111111111111111,
             "#46039f"
            ],
            [
             0.2222222222222222,
             "#7201a8"
            ],
            [
             0.3333333333333333,
             "#9c179e"
            ],
            [
             0.4444444444444444,
             "#bd3786"
            ],
            [
             0.5555555555555556,
             "#d8576b"
            ],
            [
             0.6666666666666666,
             "#ed7953"
            ],
            [
             0.7777777777777778,
             "#fb9f3a"
            ],
            [
             0.8888888888888888,
             "#fdca26"
            ],
            [
             1,
             "#f0f921"
            ]
           ],
           "sequentialminus": [
            [
             0,
             "#0d0887"
            ],
            [
             0.1111111111111111,
             "#46039f"
            ],
            [
             0.2222222222222222,
             "#7201a8"
            ],
            [
             0.3333333333333333,
             "#9c179e"
            ],
            [
             0.4444444444444444,
             "#bd3786"
            ],
            [
             0.5555555555555556,
             "#d8576b"
            ],
            [
             0.6666666666666666,
             "#ed7953"
            ],
            [
             0.7777777777777778,
             "#fb9f3a"
            ],
            [
             0.8888888888888888,
             "#fdca26"
            ],
            [
             1,
             "#f0f921"
            ]
           ]
          },
          "colorway": [
           "#636efa",
           "#EF553B",
           "#00cc96",
           "#ab63fa",
           "#FFA15A",
           "#19d3f3",
           "#FF6692",
           "#B6E880",
           "#FF97FF",
           "#FECB52"
          ],
          "font": {
           "color": "#2a3f5f"
          },
          "geo": {
           "bgcolor": "white",
           "lakecolor": "white",
           "landcolor": "#E5ECF6",
           "showlakes": true,
           "showland": true,
           "subunitcolor": "white"
          },
          "hoverlabel": {
           "align": "left"
          },
          "hovermode": "closest",
          "mapbox": {
           "style": "light"
          },
          "paper_bgcolor": "white",
          "plot_bgcolor": "#E5ECF6",
          "polar": {
           "angularaxis": {
            "gridcolor": "white",
            "linecolor": "white",
            "ticks": ""
           },
           "bgcolor": "#E5ECF6",
           "radialaxis": {
            "gridcolor": "white",
            "linecolor": "white",
            "ticks": ""
           }
          },
          "scene": {
           "xaxis": {
            "backgroundcolor": "#E5ECF6",
            "gridcolor": "white",
            "gridwidth": 2,
            "linecolor": "white",
            "showbackground": true,
            "ticks": "",
            "zerolinecolor": "white"
           },
           "yaxis": {
            "backgroundcolor": "#E5ECF6",
            "gridcolor": "white",
            "gridwidth": 2,
            "linecolor": "white",
            "showbackground": true,
            "ticks": "",
            "zerolinecolor": "white"
           },
           "zaxis": {
            "backgroundcolor": "#E5ECF6",
            "gridcolor": "white",
            "gridwidth": 2,
            "linecolor": "white",
            "showbackground": true,
            "ticks": "",
            "zerolinecolor": "white"
           }
          },
          "shapedefaults": {
           "line": {
            "color": "#2a3f5f"
           }
          },
          "ternary": {
           "aaxis": {
            "gridcolor": "white",
            "linecolor": "white",
            "ticks": ""
           },
           "baxis": {
            "gridcolor": "white",
            "linecolor": "white",
            "ticks": ""
           },
           "bgcolor": "#E5ECF6",
           "caxis": {
            "gridcolor": "white",
            "linecolor": "white",
            "ticks": ""
           }
          },
          "title": {
           "x": 0.05
          },
          "xaxis": {
           "automargin": true,
           "gridcolor": "white",
           "linecolor": "white",
           "ticks": "",
           "title": {
            "standoff": 15
           },
           "zerolinecolor": "white",
           "zerolinewidth": 2
          },
          "yaxis": {
           "automargin": true,
           "gridcolor": "white",
           "linecolor": "white",
           "ticks": "",
           "title": {
            "standoff": 15
           },
           "zerolinecolor": "white",
           "zerolinewidth": 2
          }
         }
        }
       }
      },
      "text/html": [
       "<div>                            <div id=\"3c09c0a2-d4dd-4dce-9965-061f77c3ca15\" class=\"plotly-graph-div\" style=\"height:525px; width:100%;\"></div>            <script type=\"text/javascript\">                require([\"plotly\"], function(Plotly) {                    window.PLOTLYENV=window.PLOTLYENV || {};                                    if (document.getElementById(\"3c09c0a2-d4dd-4dce-9965-061f77c3ca15\")) {                    Plotly.newPlot(                        \"3c09c0a2-d4dd-4dce-9965-061f77c3ca15\",                        [{\"branchvalues\":\"total\",\"customdata\":[[-1.0],[-1.0],[-1.0],[-1.0],[-1.0],[1.0],[-1.0],[-1.0],[-1.0],[-1.0],[-1.0],[-1.0],[-1.0],[1.0],[1.0],[1.0],[-1.0],[-1.0],[1.0],[1.0],[1.0],[-1.0],[1.0],[1.0],[1.0],[1.0],[1.0],[1.0],[1.0],[1.0],[1.0],[-1.0],[-1.0],[1.0],[1.0],[-1.0],[1.0],[1.0],[1.0],[1.0],[1.0],[1.0],[-1.0],[1.0],[1.0],[-1.0],[1.0],[1.0],[-1.0],[-1.0],[-1.0],[-1.0],[-1.0],[1.0],[1.0],[1.0],[-1.0],[-1.0],[-1.0],[1.0],[-1.0],[-1.0],[-1.0],[1.0],[-1.0],[1.0],[1.0],[-1.0],[1.0],[-1.0],[1.0],[-1.0],[-1.0],[-1.0],[1.0],[1.0],[1.0],[1.0],[-1.0],[1.0],[1.0],[1.0],[1.0],[1.0],[1.0],[1.0],[1.0],[1.0],[1.0],[1.0],[1.0],[1.0],[1.0],[1.0],[-1.0],[1.0],[-1.0],[-1.0],[-1.0],[-1.0],[-1.0],[-1.0],[1.0],[1.0],[1.0],[1.0],[-1.0],[-1.0],[1.0],[-1.0],[-1.0],[1.0],[1.0],[-1.0],[1.0],[1.0],[1.0],[1.0],[1.0],[-1.0],[-1.0],[-1.0],[-1.0],[1.0],[-1.0],[-1.0],[1.0],[1.0],[1.0],[-1.0],[-1.0],[1.0],[1.0],[1.0],[-1.0],[1.0],[-1.0],[-1.0],[1.0],[-1.0],[-1.0],[1.0],[1.0],[1.0],[1.0],[-1.0],[-1.0],[-1.0],[1.0],[1.0],[-1.0],[1.0],[1.0],[-1.0],[1.0],[1.0],[-1.0],[-1.0],[-1.0],[-1.0],[-1.0],[-1.0],[1.0],[-1.0],[-1.0],[-1.0],[-1.0],[1.0],[1.0],[-1.0],[-1.0],[1.0],[-1.0],[-1.0],[-1.0],[1.0],[-1.0],[-1.0],[1.0],[1.0],[-1.0],[-1.0],[1.0],[1.0],[-1.0],[-1.0],[-1.0],[1.0],[1.0],[-1.0],[1.0],[1.0],[-1.0],[1.0],[1.0],[-1.0],[1.0],[-1.0],[-1.0],[-1.0],[1.0],[1.0],[-1.0],[-1.0],[-1.0],[-1.0],[-1.0],[1.0],[1.0],[1.0],[1.0],[1.0],[1.0],[1.0],[1.0],[1.0],[1.0],[1.0],[-1.0],[1.0],[-1.0],[1.0],[-1.0],[1.0],[1.0],[1.0],[-1.0],[1.0],[-1.0],[-1.0],[1.0],[-1.0],[1.0],[-1.0],[1.0],[1.0],[-1.0],[1.0],[1.0],[-1.0],[-1.0],[-1.0],[-1.0],[-1.0],[-1.0],[1.0],[-1.0],[-1.0],[-1.0],[-1.0],[1.0],[1.0],[1.0],[1.0],[1.0],[1.0],[-1.0],[1.0],[1.0],[-1.0],[1.0],[-1.0],[1.0],[1.0],[-1.0],[-1.0],[1.0],[1.0],[-1.0],[1.0],[1.0],[-1.0],[1.0],[1.0],[-1.0],[1.0],[1.0],[1.0],[1.0],[1.0],[1.0],[1.0],[-1.0],[-1.0],[-1.0],[1.0],[-1.0],[1.0],[-1.0],[-1.0],[-1.0],[-1.0],[-1.0],[-1.0],[-1.0],[-1.0],[1.0],[1.0],[1.0],[1.0],[1.0],[1.0],[-1.0],[-1.0],[-1.0],[-1.0],[-1.0],[1.0],[1.0],[-1.0],[1.0],[-1.0],[1.0],[-1.0],[-1.0],[-1.0],[-1.0],[-1.0],[-1.0],[1.0],[-1.0],[-1.0],[1.0],[1.0],[1.0],[1.0],[1.0],[1.0],[1.0],[1.0],[1.0],[1.0],[-1.0],[1.0],[-1.0],[-1.0],[1.0],[1.0],[1.0],[1.0],[-1.0],[-1.0],[-1.0],[-1.0],[1.0],[1.0],[-1.0],[1.0],[-1.0],[1.0],[-1.0],[-1.0],[-1.0],[-1.0],[1.0],[1.0],[1.0],[1.0],[1.0],[-1.0],[-1.0],[-1.0],[1.0],[-1.0],[1.0],[1.0],[-1.0],[-1.0],[1.0],[1.0],[-1.0],[-1.0],[1.0],[1.0],[1.0],[1.0],[-1.0],[1.0],[1.0],[-1.0],[-1.0],[-1.0],[1.0],[-1.0],[1.0],[1.0],[1.0],[-1.0],[-1.0],[1.0],[-1.0],[1.0],[1.0],[1.0],[1.0],[1.0],[1.0],[1.0],[1.0],[1.0],[1.0],[1.0],[1.0],[1.0],[1.0],[-1.0],[1.0],[1.0],[1.0],[1.0],[1.0],[1.0],[-1.0],[1.0],[1.0],[1.0],[1.0],[1.0],[1.0],[1.0],[1.0],[1.0],[1.0],[1.0],[1.0],[1.0],[1.0],[1.0],[1.0],[1.0],[1.0],[-1.0],[-1.0],[-1.0],[1.0],[-1.0],[-1.0],[-1.0],[1.0],[1.0],[1.0],[-1.0],[-1.0],[-1.0],[-1.0],[-1.0],[-1.0],[-1.0],[-1.0],[-1.0],[1.0],[-1.0],[1.0],[-1.0],[-1.0],[1.0],[1.0],[1.0],[1.0],[1.0],[-1.0],[1.0],[-1.0],[1.0],[-1.0],[-1.0],[-1.0],[-1.0],[-1.0],[1.0],[1.0],[-1.0],[-1.0],[-1.0],[1.0],[-1.0],[-1.0],[-1.0],[-1.0],[1.0],[1.0],[-1.0],[-1.0],[-1.0],[1.0],[1.0],[1.0],[-1.0],[1.0],[-1.0],[1.0],[1.0],[1.0],[1.0],[-1.0],[-1.0],[1.0],[1.0],[1.0],[1.0],[-1.0],[-1.0],[-1.0],[-1.0],[-1.0],[1.0],[1.0],[-1.0],[1.0],[-1.0],[1.0],[-1.0],[-1.0],[-1.0],[1.0],[1.0],[1.0],[1.0],[1.0],[-1.0],[1.0],[1.0],[-1.0],[1.0],[1.0],[-1.0],[1.0],[-1.0],[1.0],[1.0],[1.0],[1.0],[1.0],[-1.0],[-1.0],[-1.0],[-1.0],[-1.0],[-1.0],[-1.0],[-1.0],[-1.0],[1.0],[1.0],[1.0],[-1.0],[-1.0],[-1.0],[-1.0],[1.0],[-1.0],[-1.0],[1.0],[-1.0],[1.0],[-1.0],[1.0],[-1.0],[1.0],[-1.0],[1.0],[-1.0],[-1.0],[-1.0],[-1.0],[1.0],[1.0],[1.0],[-1.0],[-1.0],[1.0],[1.0],[1.0],[-1.0],[-1.0],[1.0],[-1.0],[1.0],[1.0],[-1.0],[-1.0],[1.0],[-1.0],[-1.0],[1.0],[-1.0],[1.0],[-1.0],[-1.0],[1.0],[1.0],[1.0],[-1.0],[-1.0],[-1.0],[-1.0],[1.0],[-1.0],[-1.0],[-1.0],[1.0],[1.0],[1.0],[-1.0],[-1.0],[1.0],[1.0],[1.0],[1.0],[-1.0],[-1.0],[-1.0],[1.0],[1.0],[-1.0],[-1.0],[1.0],[1.0],[-1.0],[-1.0],[1.0],[1.0],[-1.0],[-1.0],[1.0],[-1.0],[-1.0],[1.0],[-1.0],[-1.0],[1.0],[1.0],[-1.0],[-1.0],[-1.0],[1.0],[-1.0],[1.0],[1.0],[-1.0],[-1.0],[-1.0],[-1.0],[-1.0],[-1.0],[-1.0],[-1.0],[1.0],[-1.0],[1.0],[1.0],[1.0],[1.0],[-1.0],[-1.0],[1.0],[1.0],[-1.0],[-1.0],[1.0],[1.0],[-1.0],[1.0],[1.0],[1.0],[-1.0],[-1.0],[1.0],[1.0],[-1.0],[-1.0],[1.0],[1.0],[1.0],[1.0],[1.0],[1.0],[1.0],[1.0],[1.0],[1.0],[1.0],[1.0],[1.0],[1.0],[-1.0],[-1.0],[-1.0],[1.0],[-1.0],[1.0],[-1.0],[1.0],[1.0],[1.0],[-1.0],[1.0],[1.0],[-1.0],[-1.0],[-1.0],[-1.0],[-1.0],[-1.0],[1.0],[1.0],[-1.0],[-1.0],[1.0],[1.0],[1.0],[0.4891182080094589],[-0.3952804852354656],[-0.898923987721536],[0.3960883594998843],[0.0754080669154013],[-0.10709236707478581],[1.0],[0.8653859249828466],[-0.9559100995552096],[1.0],[1.0],[1.0],[-0.5418079404147185],[-0.25032911242340505],[1.0],[-0.9604157934173051],[-1.0],[1.0],[1.0],[1.0],[1.0],[1.0],[0.6679386831032501],[0.6935073276453197],[-1.0],[-1.0],[1.0],[0.30717878682487215],[-1.0],[1.0],[0.3010177137610584],[0.7748627313712643],[-1.0],[-1.0],[-1.0],[1.0],[-0.9470731446463996],[1.0],[1.0],[-0.9999999954777596],[0.7835074765312718],[1.0],[1.0],[1.0],[1.0],[-0.6851081554728652],[-1.0],[0.7830971063577044],[0.9921591724996047],[0.46411751247815053],[0.9557818389693775],[0.6245634302343107],[1.0],[0.010843971326927238],[0.5530813444094076],[1.0],[1.0],[0.7359646670709924],[-0.8651927564915521],[1.0],[1.0],[1.0],[1.0],[-1.0],[-1.0],[0.04400713805351006],[1.0],[-1.0],[1.0],[0.9961099078196829],[0.9997454089099514],[-0.8455323013653802],[1.0],[-1.0],[-1.0],[1.0],[-1.0],[-0.4027001008355092],[-1.0],[-0.5404195525145936],[-0.99558064261663],[0.37040087582334197],[-1.0],[0.6045819512802775]],\"domain\":{\"x\":[0.0,1.0],\"y\":[0.0,1.0]},\"hovertemplate\":\"labels=%{label}<br>abs_cumul_net_dollar_flow=%{value}<br>parent=%{parent}<br>id=%{id}<br>flow_direction=%{color}<extra></extra>\",\"ids\":[\"all/Solana/01\",\"all/Ethereum/88mph\",\"all/Fantom/88mph\",\"all/Ethereum/aave-v1\",\"all/Avalanche/aave-v2\",\"all/Ethereum/aave-v2\",\"all/Ethereum-pool2/aave-v2\",\"all/Polygon/aave-v2\",\"all/pool2/aave-v2\",\"all/Arbitrum/aave-v3\",\"all/Avalanche/aave-v3\",\"all/Fantom/aave-v3\",\"all/Harmony/aave-v3\",\"all/Optimism/aave-v3\",\"all/Polygon/aave-v3\",\"all/Polygon/aavegotchi\",\"all/Polygon-pool2/aavegotchi\",\"all/pool2/aavegotchi\",\"all/Acala/acala-dollar\",\"all/Acala/acala-liquid-staking\",\"all/Acala/acala-swap\",\"all/Ethereum/across\",\"all/Astar/acryptos\",\"all/Avalanche/acryptos\",\"all/Binance/acryptos\",\"all/Cronos/acryptos\",\"all/Fantom/acryptos\",\"all/Harmony/acryptos\",\"all/Moonbeam/acryptos\",\"all/Moonriver/acryptos\",\"all/xDai/acryptos\",\"all/Ethereum/alchemix\",\"all/Fantom/alchemix\",\"all/Solana/aldrin\",\"all/Algorand/algofi\",\"all/Avalanche/allbridge\",\"all/Binance/allbridge\",\"all/Celo/allbridge\",\"all/Ethereum/allbridge\",\"all/Fantom/allbridge\",\"all/Heco/allbridge\",\"all/Near/allbridge\",\"all/Polygon/allbridge\",\"all/Solana/allbridge\",\"all/Terra/allbridge\",\"all/Binance/alpaca-finance\",\"all/Fantom/alpaca-finance\",\"all/Arbitrum/angle\",\"all/Ethereum/angle\",\"all/Optimism/angle\",\"all/Polygon/angle\",\"all/Binance/ankr\",\"all/Ethereum/ankr\",\"all/Fantom/ankr\",\"all/Kusama/ankr\",\"all/Polkadot/ankr\",\"all/Binance/apeswap-amm\",\"all/Ethereum/apeswap-amm\",\"all/Polygon/apeswap-amm\",\"all/Binance/apeswap-lending\",\"all/Binance/apollox\",\"all/Binance-pool2/apollox\",\"all/pool2/apollox\",\"all/Ethereum/armor\",\"all/Ethereum/arrakis-finance\",\"all/Optimism/arrakis-finance\",\"all/Polygon/arrakis-finance\",\"all/Astar/arthswap\",\"all/Terra/astroport\",\"all/Terra2/astroport\",\"all/Ethereum/aura\",\"all/Aurora/aurigami\",\"all/Ethereum/b.protocol\",\"all/Polygon/b.protocol\",\"all/Binance/babyswap\",\"all/Arbitrum/balancer\",\"all/Ethereum/balancer\",\"all/Polygon/balancer\",\"all/Ethereum/bancor\",\"all/Aurora/bastion\",\"all/Arbitrum/beefy\",\"all/Aurora/beefy\",\"all/Avalanche/beefy\",\"all/Binance/beefy\",\"all/Celo/beefy\",\"all/Cronos/beefy\",\"all/Fantom/beefy\",\"all/Fuse/beefy\",\"all/Harmony/beefy\",\"all/Heco/beefy\",\"all/Metis/beefy\",\"all/Moonbeam/beefy\",\"all/Moonriver/beefy\",\"all/Oasis/beefy\",\"all/Optimism/beefy\",\"all/Polygon/beefy\",\"all/Fantom/beethoven-x\",\"all/Optimism/beethoven-x\",\"all/Ethereum/bella-protocol\",\"all/Ethereum-pool2/bella-protocol\",\"all/pool2/bella-protocol\",\"all/Binance/belt-finance\",\"all/Heco/belt-finance\",\"all/Klaytn/belt-finance\",\"all/Ethereum/benddao\",\"all/Avalanche/benqi-lending\",\"all/Avalanche-pool2/benqi-lending\",\"all/pool2/benqi-lending\",\"all/Avalanche/benqi-staked-avax\",\"all/Avalanche/beta-finance\",\"all/Ethereum/beta-finance\",\"all/Avalanche/bifi\",\"all/Binance/bifi\",\"all/Ethereum/bifi\",\"all/Klaytn/bifi\",\"all/Bifrost/bifrost\",\"all/Binance/biswap\",\"all/Binance/bunny\",\"all/Polygon/bunny\",\"all/Near/burrow\",\"all/Arbitrum/cbridge\",\"all/Aurora/cbridge\",\"all/Avalanche/cbridge\",\"all/Binance/cbridge\",\"all/Ethereum/cbridge\",\"all/Fantom/cbridge\",\"all/Metis/cbridge\",\"all/Optimism/cbridge\",\"all/Polygon/cbridge\",\"all/Shiden/cbridge\",\"all/Binance/chainport\",\"all/Ethereum/chainport\",\"all/Klaytn/claimswap\",\"all/Ethereum/clipper\",\"all/Moonbeam/clipper\",\"all/Optimism/clipper\",\"all/Polygon/clipper\",\"all/Binance/coinwind\",\"all/Binance-pool2/coinwind\",\"all/Heco/coinwind\",\"all/Heco-pool2/coinwind\",\"all/pool2/coinwind\",\"all/Ethereum/compound\",\"all/Ethereum/concave\",\"all/Ethereum/concentrator\",\"all/Arbitrum/connext\",\"all/Avalanche/connext\",\"all/Binance/connext\",\"all/Boba/connext\",\"all/Cronos/connext\",\"all/Ethereum/connext\",\"all/Fantom/connext\",\"all/Fuse/connext\",\"all/Moonriver/connext\",\"all/Optimism/connext\",\"all/Polygon/connext\",\"all/xDai/connext\",\"all/Ethereum/convex-finance\",\"all/Arbitrum/cream-finance\",\"all/Binance/cream-finance\",\"all/Ethereum/cream-finance\",\"all/Polygon/cream-finance\",\"all/DFK/crystalvale\",\"all/Arbitrum/curve\",\"all/Aurora/curve\",\"all/Avalanche/curve\",\"all/Ethereum/curve\",\"all/Fantom/curve\",\"all/Moonbeam/curve\",\"all/Optimism/curve\",\"all/Polygon/curve\",\"all/xDai/curve\",\"all/Binance/deeplock\",\"all/Binance-pool2/deeplock\",\"all/pool2/deeplock\",\"all/Harmony/defi-kingdoms\",\"all/Ethereum/defi-swap\",\"all/Wax/defibox\",\"all/Ethereum/defidollar-dao\",\"all/Ethereum/defisaver\",\"all/Avalanche/defrost\",\"all/Arbitrum/dforce\",\"all/Binance/dforce\",\"all/Ethereum/dforce\",\"all/Optimism/dforce\",\"all/Polygon/dforce\",\"all/Ethereum/dfx-finance\",\"all/Polygon/dfx-finance\",\"all/Fantom/dfyn-network\",\"all/OKExChain/dfyn-network\",\"all/Polygon/dfyn-network\",\"all/Arbitrum/dopex\",\"all/Arbitrum-pool2/dopex\",\"all/Binance/dopex\",\"all/Ethereum-pool2/dopex\",\"all/pool2/dopex\",\"all/Binance/dot-dot-finance\",\"all/Avalanche/dxsale\",\"all/Binance/dxsale\",\"all/Celo/dxsale\",\"all/Cronos/dxsale\",\"all/Ethereum/dxsale\",\"all/Fantom/dxsale\",\"all/Heco/dxsale\",\"all/Milkomeda/dxsale\",\"all/OKExChain/dxsale\",\"all/Polygon/dxsale\",\"all/Ethereum/dydx\",\"all/Polygon/dystopia\",\"all/Avalanche/echidna-finance\",\"all/Avalanche-pool2/echidna-finance\",\"all/pool2/echidna-finance\",\"all/Ethereum/element-finance\",\"all/Binance/ellipsis-finance\",\"all/Ethereum/enzyme-finance\",\"all/EOS/eos-rex\",\"all/Ethereum/euler\",\"all/Fantom/fantohm\",\"all/Moonriver/fantohm\",\"all/Ethereum/fei-protocol\",\"all/Cronos/ferro\",\"all/Elastos/filda\",\"all/Heco/filda\",\"all/IoTeX/filda\",\"all/REI/filda\",\"all/NEO/flamingo-finance\",\"all/Ethereum/flexa\",\"all/Songbird/flrfarm\",\"all/Songbird-pool2/flrfarm\",\"all/pool2/flrfarm\",\"all/Algorand/folks-finance\",\"all/Ethereum/frax\",\"all/Ethereum-pool2/frax\",\"all/Ethereum-treasury/frax\",\"all/Fantom/frax\",\"all/pool2/frax\",\"all/treasury/frax\",\"all/Solana/friktion\",\"all/Polygon/gains-network\",\"all/Polygon-pool2/gains-network\",\"all/pool2/gains-network\",\"all/Ethereum/gearbox\",\"all/Fantom/geist-finance\",\"all/Fantom-pool2/geist-finance\",\"all/pool2/geist-finance\",\"all/Arbitrum/gmx\",\"all/Avalanche/gmx\",\"all/Ethereum/gro\",\"all/Ethereum-pool2/gro\",\"all/pool2/gro\",\"all/Binance/harvest-finance\",\"all/Ethereum/harvest-finance\",\"all/Polygon/harvest-finance\",\"all/Arbitrum/hashflow\",\"all/Avalanche/hashflow\",\"all/Binance/hashflow\",\"all/Ethereum/hashflow\",\"all/Polygon/hashflow\",\"all/Ethereum/hector-network\",\"all/Fantom/hector-network\",\"all/Avalanche/homora\",\"all/Binance/homora\",\"all/Ethereum/homora\",\"all/Fantom/homora\",\"all/Arbitrum/hop-protocol\",\"all/Ethereum/hop-protocol\",\"all/Optimism/hop-protocol\",\"all/Polygon/hop-protocol\",\"all/xDai/hop-protocol\",\"all/Solana/hubble\",\"all/Arbitrum/hundred-finance\",\"all/Fantom/hundred-finance\",\"all/Moonriver/hundred-finance\",\"all/Optimism/hundred-finance\",\"all/Polygon/hundred-finance\",\"all/Polygon/idex\",\"all/Ethereum/idle-finance\",\"all/Polygon/idle-finance\",\"all/Ethereum/index-coop\",\"all/Ethereum/injective\",\"all/Ethereum/instadapp\",\"all/Avalanche/insurace\",\"all/Binance/insurace\",\"all/Ethereum/insurace\",\"all/Polygon/insurace\",\"all/Ethereum/inverse-finance\",\"all/Avalanche/iron-bank\",\"all/Ethereum/iron-bank\",\"all/Fantom/iron-bank\",\"all/Binance/iziswap\",\"all/Arbitrum/izumi-finance\",\"all/Ethereum/izumi-finance\",\"all/Ethereum-pool2/izumi-finance\",\"all/Polygon/izumi-finance\",\"all/pool2/izumi-finance\",\"all/Solana/jpool\",\"all/Tron/justlend\",\"all/Tron/juststables\",\"all/Kardia/kaidex\",\"all/Karura/karura-dollar-(kusd)\",\"all/Karura/karura-liquid-staking\",\"all/Solana/katana\",\"all/Ronin/katana-dex\",\"all/Kava/kava-lend\",\"all/Kava/kava-mint\",\"all/Kava/kava-swap\",\"all/Klaytn/klap\",\"all/Klaytn/klayswap\",\"all/Polygon/klima-dao\",\"all/Binance/knightswap-finance\",\"all/Fantom/knightswap-finance\",\"all/Klaytn/kokonut-swap\",\"all/Arbitrum/kyberswap\",\"all/Avalanche/kyberswap\",\"all/Binance/kyberswap\",\"all/Cronos/kyberswap\",\"all/Ethereum/kyberswap\",\"all/Fantom/kyberswap\",\"all/Oasis/kyberswap\",\"all/Optimism/kyberswap\",\"all/Polygon/kyberswap\",\"all/Solana/larix\",\"all/Ethereum/lido\",\"all/Moonbeam/lido\",\"all/Moonriver/lido\",\"all/Solana/lido\",\"all/Terra/lido\",\"all/Bitcoin/lightning-network\",\"all/Near/linear-protocol\",\"all/Binance/liqee\",\"all/Ethereum/liqee\",\"all/Fantom/liquid-driver\",\"all/Ethereum/liquity\",\"all/Ethereum/llama-airforce\",\"all/Ethereum/loopring\",\"all/Ethereum/lyra\",\"all/Optimism/lyra\",\"all/Elrond/maiar-exchange\",\"all/Ethereum/makerdao\",\"all/Solana/mango-markets\",\"all/Ethereum/maple\",\"all/Solana/maple\",\"all/Solana/marinade-finance\",\"all/Celo/mento\",\"all/Solana/mercurial-finance\",\"all/Polygon/meshswap\",\"all/Near/meta-pool\",\"all/Ethereum/metronome\",\"all/IoTeX/mimo\",\"all/Fantom/mimo-defi\",\"all/Polygon/mimo-defi\",\"all/Cardano/minswap\",\"all/Cronos/mm-finance\",\"all/Cronos/mm-optimizer\",\"all/Kucoin/mojitoswap\",\"all/RSK/moneyonchain\",\"all/Celo/moola-market\",\"all/Moonriver/moonwell-apollo\",\"all/Moonbeam/moonwell-artemis\",\"all/Ethereum/mstable\",\"all/Polygon/mstable\",\"all/NEO/neoburger\",\"all/Avalanche/nereus-finance\",\"all/Metis/netswap\",\"all/Waves/neutrino\",\"all/Ethereum/nexus-mutual\",\"all/Ethereum/nftx\",\"all/Binance/nomiswap\",\"all/Ethereum/notional\",\"all/Binance/octus-bridge\",\"all/Ethereum/octus-bridge\",\"all/Everscale/octus-bridge\",\"all/Polygon/octus-bridge\",\"all/Ethereum/olympus-dao\",\"all/Avalanche/onx-finance\",\"all/Ethereum/onx-finance\",\"all/Ethereum-pool2/onx-finance\",\"all/Fantom/onx-finance\",\"all/Polygon/onx-finance\",\"all/pool2/onx-finance\",\"all/Arbitrum/ooki\",\"all/Binance/ooki\",\"all/Ethereum/ooki\",\"all/Polygon/ooki\",\"all/Ethereum/opyn\",\"all/Polygon/opyn\",\"all/Ethereum/origin-dollar\",\"all/Binance/orion-protocol\",\"all/Ethereum/orion-protocol\",\"all/Osmosis/osmosis\",\"all/Polygon/outcome-finance\",\"all/Binance/pancakeswap\",\"all/Avalanche/pangolin\",\"all/Solana/parrot-protocol\",\"all/Polygon/penrose\",\"all/Optimism/perpetual-protocol\",\"all/Arbitrum/pickle\",\"all/Arbitrum-pool2/pickle\",\"all/Aurora/pickle\",\"all/Cronos/pickle\",\"all/Ethereum/pickle\",\"all/Ethereum-pool2/pickle\",\"all/Metis/pickle\",\"all/Moonbeam/pickle\",\"all/Moonriver/pickle\",\"all/OKExChain/pickle\",\"all/Optimism/pickle\",\"all/Polygon/pickle\",\"all/Polygon-pool2/pickle\",\"all/pool2/pickle\",\"all/Avalanche/pinksale\",\"all/Binance/pinksale\",\"all/Cronos/pinksale\",\"all/Ethereum/pinksale\",\"all/Fantom/pinksale\",\"all/Polygon/pinksale\",\"all/Binance/planet\",\"all/Avalanche/platypus-finance\",\"all/Binance/pnetwork\",\"all/Bitcoin/pnetwork\",\"all/Doge/pnetwork\",\"all/EOS/pnetwork\",\"all/Ethereum/pnetwork\",\"all/Fantom/pnetwork\",\"all/LBRY/pnetwork\",\"all/Litecoin/pnetwork\",\"all/ORE/pnetwork\",\"all/Ravencoin/pnetwork\",\"all/Telos/pnetwork\",\"all/Polygon/polygon-bridge-&-staking\",\"all/Avalanche/pooltogether\",\"all/Binance/pooltogether\",\"all/Celo/pooltogether\",\"all/Ethereum/pooltogether\",\"all/Optimism/pooltogether\",\"all/Polygon/pooltogether\",\"all/Solana/port-finance\",\"all/Binance/position-exchange\",\"all/Binance-treasury/position-exchange\",\"all/treasury/position-exchange\",\"all/Proton/proton-loan\",\"all/Ethereum/pstake\",\"all/Ethereum-pool2/pstake\",\"all/pool2/pstake\",\"all/Hoo/puddingswap\",\"all/Arbitrum/qidao\",\"all/Avalanche/qidao\",\"all/Binance/qidao\",\"all/Fantom/qidao\",\"all/Harmony/qidao\",\"all/Metis/qidao\",\"all/Moonriver/qidao\",\"all/Optimism/qidao\",\"all/Polygon/qidao\",\"all/xDai/qidao\",\"all/Solana/quarry\",\"all/Polygon/quickswap\",\"all/Arbitrum/radiant\",\"all/Arbitrum-pool2/radiant\",\"all/pool2/radiant\",\"all/Avalanche/radioshack\",\"all/Binance/radioshack\",\"all/Ethereum/radioshack\",\"all/Polygon/radioshack\",\"all/Arbitrum/rari-capital\",\"all/Ethereum/rari-capital\",\"all/Ethereum-pool2/rari-capital\",\"all/pool2/rari-capital\",\"all/Fantom/reaper-farm\",\"all/Optimism/reaper-farm\",\"all/Near/ref-finance\",\"all/Ethereum/reflexer\",\"all/Arbitrum/renvm\",\"all/Avalanche/renvm\",\"all/Binance/renvm\",\"all/Ethereum/renvm\",\"all/Fantom/renvm\",\"all/Polygon/renvm\",\"all/Solana/renvm\",\"all/Telos/rex-staking\",\"all/Ethereum/rhino.fi\",\"all/Avalanche/ribbon-finance\",\"all/Ethereum/ribbon-finance\",\"all/Avalanche/risk-harbor\",\"all/Ethereum/rocket-pool\",\"all/Ethereum/rook\",\"all/Solana/saber\",\"all/Ethereum/sablier-finance\",\"all/Arbitrum/saddle-finance\",\"all/Ethereum/saddle-finance\",\"all/Evmos/saddle-finance\",\"all/Fantom/saddle-finance\",\"all/Kava/saddle-finance\",\"all/Optimism/saddle-finance\",\"all/Binance/sashimiswap\",\"all/Heco/sashimiswap\",\"all/Ethereum/set-protocol\",\"all/Ethereum/sherlock\",\"all/Ethereum/shibaswap\",\"all/Icon/sicx\",\"all/Cronos/single-finance\",\"all/Cronos-pool2/single-finance\",\"all/Fantom/single-finance\",\"all/Fantom-pool2/single-finance\",\"all/pool2/single-finance\",\"all/Moonriver/solarbeam\",\"all/Solana/solend\",\"all/Binance/solo-top\",\"all/Heco/solo-top\",\"all/OKExChain/solo-top\",\"all/Polygon/solo-top\",\"all/Binance/solv-protocol\",\"all/Ethereum/solv-protocol\",\"all/Fantom/spartacus\",\"all/Fantom/spiritswap\",\"all/Fantom/spookyswap\",\"all/Ethereum/spool-protocol\",\"all/Binance/stader\",\"all/Fantom/stader\",\"all/Hedera/stader\",\"all/Near/stader\",\"all/Polygon/stader\",\"all/Terra/stader\",\"all/Terra2/stader\",\"all/Cosmos/stafi\",\"all/Polygon/stafi\",\"all/Stafi/stafi\",\"all/Avalanche/stakedao\",\"all/Ethereum/stakedao\",\"all/Harmony/stakedao\",\"all/Polygon/stakedao\",\"all/Ethereum/stakewise\",\"all/Arbitrum/stargate\",\"all/Avalanche/stargate\",\"all/Binance/stargate\",\"all/Ethereum/stargate\",\"all/Fantom/stargate\",\"all/Optimism/stargate\",\"all/Polygon/stargate\",\"all/Astar/starlay-finance\",\"all/Moonbeam/stellaswap\",\"all/Ethereum/strike\",\"all/Ethereum/sturdy\",\"all/Fantom/sturdy\",\"all/Tron/sun.io\",\"all/Tron-pool2/sun.io\",\"all/pool2/sun.io\",\"all/Cardano/sundaeswap\",\"all/Solana/sunny\",\"all/Tron/sunswap\",\"all/Polygon/superfluid\",\"all/xDai/superfluid\",\"all/Arbitrum/sushiswap\",\"all/Avalanche/sushiswap\",\"all/Binance/sushiswap\",\"all/Celo/sushiswap\",\"all/Ethereum/sushiswap\",\"all/Fantom/sushiswap\",\"all/Fuse/sushiswap\",\"all/Harmony/sushiswap\",\"all/Heco/sushiswap\",\"all/Moonriver/sushiswap\",\"all/OKExChain/sushiswap\",\"all/Polygon/sushiswap\",\"all/Telos/sushiswap\",\"all/xDai/sushiswap\",\"all/Arbitrum/sushiswap-kashi\",\"all/Binance/sushiswap-kashi\",\"all/Ethereum/sushiswap-kashi\",\"all/Fantom/sushiswap-kashi\",\"all/Arbitrum/swapr\",\"all/Ethereum/swapr\",\"all/xDai/swapr\",\"all/Solana/swim-protocol\",\"all/Arbitrum/synapse\",\"all/Aurora/synapse\",\"all/Avalanche/synapse\",\"all/Binance/synapse\",\"all/Boba/synapse\",\"all/Cronos/synapse\",\"all/Ethereum/synapse\",\"all/Ethereum-pool2/synapse\",\"all/Fantom/synapse\",\"all/Harmony/synapse\",\"all/Klaytn/synapse\",\"all/Metis/synapse\",\"all/Moonriver/synapse\",\"all/Optimism/synapse\",\"all/Polygon/synapse\",\"all/pool2/synapse\",\"all/Ethereum/synthetix\",\"all/Optimism/synthetix\",\"all/Fantom/tarot\",\"all/Optimism/tarot\",\"all/Avalanche/team-finance\",\"all/Binance/team-finance\",\"all/Ethereum/team-finance\",\"all/Polygon/team-finance\",\"all/Cronos/tectonic\",\"all/Ethereum/temple-dao\",\"all/Ethereum-pool2/temple-dao\",\"all/pool2/temple-dao\",\"all/Binance/terra-bridge\",\"all/Ethereum/terra-bridge\",\"all/Harmony/terra-bridge\",\"all/Fantom/tetu\",\"all/Polygon/tetu\",\"all/Tezos/tezos-liquidity-baking\",\"all/Ethereum/the-tokenized-bitcoin\",\"all/Theta/thetacash\",\"all/Aurora/thetanuts-finance\",\"all/Avalanche/thetanuts-finance\",\"all/Boba/thetanuts-finance\",\"all/Fantom/thetanuts-finance\",\"all/Polygon/thetanuts-finance\",\"all/Theta/thetaswap\",\"all/Algorand/tinyman\",\"all/Ethereum/tokemak\",\"all/Ethereum-pool2/tokemak\",\"all/pool2/tokemak\",\"all/Binance/tokensfarm\",\"all/Ethereum/tokensfarm\",\"all/Fantom/tokensfarm\",\"all/Polygon/tokensfarm\",\"all/Fantom/tomb-finance\",\"all/Fantom-pool2/tomb-finance\",\"all/pool2/tomb-finance\",\"all/Arbitrum/tornado-cash\",\"all/Avalanche/tornado-cash\",\"all/Binance/tornado-cash\",\"all/Ethereum/tornado-cash\",\"all/Optimism/tornado-cash\",\"all/Polygon/tornado-cash\",\"all/xDai/tornado-cash\",\"all/Polygon/toucan-protocol\",\"all/Avalanche/trader-joe\",\"all/Binance/tranchess\",\"all/Aurora/trisolaris\",\"all/Ethereum/truefi\",\"all/Avalanche/unicrypt\",\"all/Binance/unicrypt\",\"all/Binance-pool2/unicrypt\",\"all/Ethereum/unicrypt\",\"all/Ethereum-pool2/unicrypt\",\"all/Polygon/unicrypt\",\"all/pool2/unicrypt\",\"all/xDai-pool2/unicrypt\",\"all/Arbitrum/uniswap\",\"all/Celo/uniswap\",\"all/Ethereum/uniswap\",\"all/Optimism/uniswap\",\"all/Polygon/uniswap\",\"all/Ethereum/unslashed\",\"all/Solana/uxd\",\"all/Binance/valas-finance\",\"all/Binance-pool2/valas-finance\",\"all/pool2/valas-finance\",\"all/Oasis/valleyswap\",\"all/Avalanche/vector-finance\",\"all/Avalanche-pool2/vector-finance\",\"all/pool2/vector-finance\",\"all/Optimism/velodrome\",\"all/Binance/venus\",\"all/Avalanche/vesper\",\"all/Ethereum/vesper\",\"all/Polygon/vesper\",\"all/Arbitrum/vesta-finance\",\"all/Arbitrum-pool2/vesta-finance\",\"all/pool2/vesta-finance\",\"all/Waves/vires-finance\",\"all/Cronos/vvs-finance\",\"all/Waves/waves-exchange\",\"all/Arbitrum/wepiggy\",\"all/Aurora/wepiggy\",\"all/Binance/wepiggy\",\"all/Ethereum/wepiggy\",\"all/Harmony/wepiggy\",\"all/Heco/wepiggy\",\"all/Moonbeam/wepiggy\",\"all/Moonriver/wepiggy\",\"all/OKExChain/wepiggy\",\"all/Oasis/wepiggy\",\"all/Optimism/wepiggy\",\"all/Polygon/wepiggy\",\"all/Cardano/wingriders\",\"all/Binance/wombat-exchange\",\"all/Binance/wrapped-bnb\",\"all/Ethereum/xdai-stake-bridge\",\"all/Astar/xdao\",\"all/Binance/xdao\",\"all/Fantom/xdao\",\"all/Polygon/xdao\",\"all/Arbitrum/yearn-finance\",\"all/Ethereum/yearn-finance\",\"all/Fantom/yearn-finance\",\"all/Avalanche/yeti-finance\",\"all/Avalanche-pool2/yeti-finance\",\"all/pool2/yeti-finance\",\"all/Arbitrum/yield-protocol\",\"all/Ethereum/yield-protocol\",\"all/Avalanche/yield-yak\",\"all/Avalanche-pool2/yield-yak\",\"all/pool2/yield-yak\",\"all/Binance/yoshi-exchange\",\"all/Fantom/yoshi-exchange\",\"all/Tezos/youves\",\"all/Tezos-pool2/youves\",\"all/pool2/youves\",\"all/Solana/zeta\",\"all/Acala\",\"all/Algorand\",\"all/Arbitrum\",\"all/Arbitrum-pool2\",\"all/Astar\",\"all/Aurora\",\"all/Avalanche\",\"all/Avalanche-pool2\",\"all/Bifrost\",\"all/Binance\",\"all/Binance-pool2\",\"all/Binance-treasury\",\"all/Bitcoin\",\"all/Boba\",\"all/Cardano\",\"all/Celo\",\"all/Cosmos\",\"all/Cronos\",\"all/Cronos-pool2\",\"all/DFK\",\"all/Doge\",\"all/EOS\",\"all/Elastos\",\"all/Elrond\",\"all/Ethereum\",\"all/Ethereum-pool2\",\"all/Ethereum-treasury\",\"all/Everscale\",\"all/Evmos\",\"all/Fantom\",\"all/Fantom-pool2\",\"all/Fuse\",\"all/Harmony\",\"all/Heco\",\"all/Heco-pool2\",\"all/Hedera\",\"all/Hoo\",\"all/Icon\",\"all/IoTeX\",\"all/Kardia\",\"all/Karura\",\"all/Kava\",\"all/Klaytn\",\"all/Kucoin\",\"all/Kusama\",\"all/LBRY\",\"all/Litecoin\",\"all/Metis\",\"all/Milkomeda\",\"all/Moonbeam\",\"all/Moonriver\",\"all/NEO\",\"all/Near\",\"all/OKExChain\",\"all/ORE\",\"all/Oasis\",\"all/Optimism\",\"all/Osmosis\",\"all/Polkadot\",\"all/Polygon\",\"all/Polygon-pool2\",\"all/Proton\",\"all/REI\",\"all/RSK\",\"all/Ravencoin\",\"all/Ronin\",\"all/Shiden\",\"all/Solana\",\"all/Songbird\",\"all/Songbird-pool2\",\"all/Stafi\",\"all/Telos\",\"all/Terra\",\"all/Terra2\",\"all/Tezos\",\"all/Tezos-pool2\",\"all/Theta\",\"all/Tron\",\"all/Tron-pool2\",\"all/Waves\",\"all/Wax\",\"all/pool2\",\"all/treasury\",\"all/xDai\",\"all/xDai-pool2\",\"all\"],\"labels\":[\"01\",\"88mph\",\"88mph\",\"aave-v1\",\"aave-v2\",\"aave-v2\",\"aave-v2\",\"aave-v2\",\"aave-v2\",\"aave-v3\",\"aave-v3\",\"aave-v3\",\"aave-v3\",\"aave-v3\",\"aave-v3\",\"aavegotchi\",\"aavegotchi\",\"aavegotchi\",\"acala-dollar\",\"acala-liquid-staking\",\"acala-swap\",\"across\",\"acryptos\",\"acryptos\",\"acryptos\",\"acryptos\",\"acryptos\",\"acryptos\",\"acryptos\",\"acryptos\",\"acryptos\",\"alchemix\",\"alchemix\",\"aldrin\",\"algofi\",\"allbridge\",\"allbridge\",\"allbridge\",\"allbridge\",\"allbridge\",\"allbridge\",\"allbridge\",\"allbridge\",\"allbridge\",\"allbridge\",\"alpaca-finance\",\"alpaca-finance\",\"angle\",\"angle\",\"angle\",\"angle\",\"ankr\",\"ankr\",\"ankr\",\"ankr\",\"ankr\",\"apeswap-amm\",\"apeswap-amm\",\"apeswap-amm\",\"apeswap-lending\",\"apollox\",\"apollox\",\"apollox\",\"armor\",\"arrakis-finance\",\"arrakis-finance\",\"arrakis-finance\",\"arthswap\",\"astroport\",\"astroport\",\"aura\",\"aurigami\",\"b.protocol\",\"b.protocol\",\"babyswap\",\"balancer\",\"balancer\",\"balancer\",\"bancor\",\"bastion\",\"beefy\",\"beefy\",\"beefy\",\"beefy\",\"beefy\",\"beefy\",\"beefy\",\"beefy\",\"beefy\",\"beefy\",\"beefy\",\"beefy\",\"beefy\",\"beefy\",\"beefy\",\"beefy\",\"beethoven-x\",\"beethoven-x\",\"bella-protocol\",\"bella-protocol\",\"bella-protocol\",\"belt-finance\",\"belt-finance\",\"belt-finance\",\"benddao\",\"benqi-lending\",\"benqi-lending\",\"benqi-lending\",\"benqi-staked-avax\",\"beta-finance\",\"beta-finance\",\"bifi\",\"bifi\",\"bifi\",\"bifi\",\"bifrost\",\"biswap\",\"bunny\",\"bunny\",\"burrow\",\"cbridge\",\"cbridge\",\"cbridge\",\"cbridge\",\"cbridge\",\"cbridge\",\"cbridge\",\"cbridge\",\"cbridge\",\"cbridge\",\"chainport\",\"chainport\",\"claimswap\",\"clipper\",\"clipper\",\"clipper\",\"clipper\",\"coinwind\",\"coinwind\",\"coinwind\",\"coinwind\",\"coinwind\",\"compound\",\"concave\",\"concentrator\",\"connext\",\"connext\",\"connext\",\"connext\",\"connext\",\"connext\",\"connext\",\"connext\",\"connext\",\"connext\",\"connext\",\"connext\",\"convex-finance\",\"cream-finance\",\"cream-finance\",\"cream-finance\",\"cream-finance\",\"crystalvale\",\"curve\",\"curve\",\"curve\",\"curve\",\"curve\",\"curve\",\"curve\",\"curve\",\"curve\",\"deeplock\",\"deeplock\",\"deeplock\",\"defi-kingdoms\",\"defi-swap\",\"defibox\",\"defidollar-dao\",\"defisaver\",\"defrost\",\"dforce\",\"dforce\",\"dforce\",\"dforce\",\"dforce\",\"dfx-finance\",\"dfx-finance\",\"dfyn-network\",\"dfyn-network\",\"dfyn-network\",\"dopex\",\"dopex\",\"dopex\",\"dopex\",\"dopex\",\"dot-dot-finance\",\"dxsale\",\"dxsale\",\"dxsale\",\"dxsale\",\"dxsale\",\"dxsale\",\"dxsale\",\"dxsale\",\"dxsale\",\"dxsale\",\"dydx\",\"dystopia\",\"echidna-finance\",\"echidna-finance\",\"echidna-finance\",\"element-finance\",\"ellipsis-finance\",\"enzyme-finance\",\"eos-rex\",\"euler\",\"fantohm\",\"fantohm\",\"fei-protocol\",\"ferro\",\"filda\",\"filda\",\"filda\",\"filda\",\"flamingo-finance\",\"flexa\",\"flrfarm\",\"flrfarm\",\"flrfarm\",\"folks-finance\",\"frax\",\"frax\",\"frax\",\"frax\",\"frax\",\"frax\",\"friktion\",\"gains-network\",\"gains-network\",\"gains-network\",\"gearbox\",\"geist-finance\",\"geist-finance\",\"geist-finance\",\"gmx\",\"gmx\",\"gro\",\"gro\",\"gro\",\"harvest-finance\",\"harvest-finance\",\"harvest-finance\",\"hashflow\",\"hashflow\",\"hashflow\",\"hashflow\",\"hashflow\",\"hector-network\",\"hector-network\",\"homora\",\"homora\",\"homora\",\"homora\",\"hop-protocol\",\"hop-protocol\",\"hop-protocol\",\"hop-protocol\",\"hop-protocol\",\"hubble\",\"hundred-finance\",\"hundred-finance\",\"hundred-finance\",\"hundred-finance\",\"hundred-finance\",\"idex\",\"idle-finance\",\"idle-finance\",\"index-coop\",\"injective\",\"instadapp\",\"insurace\",\"insurace\",\"insurace\",\"insurace\",\"inverse-finance\",\"iron-bank\",\"iron-bank\",\"iron-bank\",\"iziswap\",\"izumi-finance\",\"izumi-finance\",\"izumi-finance\",\"izumi-finance\",\"izumi-finance\",\"jpool\",\"justlend\",\"juststables\",\"kaidex\",\"karura-dollar-(kusd)\",\"karura-liquid-staking\",\"katana\",\"katana-dex\",\"kava-lend\",\"kava-mint\",\"kava-swap\",\"klap\",\"klayswap\",\"klima-dao\",\"knightswap-finance\",\"knightswap-finance\",\"kokonut-swap\",\"kyberswap\",\"kyberswap\",\"kyberswap\",\"kyberswap\",\"kyberswap\",\"kyberswap\",\"kyberswap\",\"kyberswap\",\"kyberswap\",\"larix\",\"lido\",\"lido\",\"lido\",\"lido\",\"lido\",\"lightning-network\",\"linear-protocol\",\"liqee\",\"liqee\",\"liquid-driver\",\"liquity\",\"llama-airforce\",\"loopring\",\"lyra\",\"lyra\",\"maiar-exchange\",\"makerdao\",\"mango-markets\",\"maple\",\"maple\",\"marinade-finance\",\"mento\",\"mercurial-finance\",\"meshswap\",\"meta-pool\",\"metronome\",\"mimo\",\"mimo-defi\",\"mimo-defi\",\"minswap\",\"mm-finance\",\"mm-optimizer\",\"mojitoswap\",\"moneyonchain\",\"moola-market\",\"moonwell-apollo\",\"moonwell-artemis\",\"mstable\",\"mstable\",\"neoburger\",\"nereus-finance\",\"netswap\",\"neutrino\",\"nexus-mutual\",\"nftx\",\"nomiswap\",\"notional\",\"octus-bridge\",\"octus-bridge\",\"octus-bridge\",\"octus-bridge\",\"olympus-dao\",\"onx-finance\",\"onx-finance\",\"onx-finance\",\"onx-finance\",\"onx-finance\",\"onx-finance\",\"ooki\",\"ooki\",\"ooki\",\"ooki\",\"opyn\",\"opyn\",\"origin-dollar\",\"orion-protocol\",\"orion-protocol\",\"osmosis\",\"outcome-finance\",\"pancakeswap\",\"pangolin\",\"parrot-protocol\",\"penrose\",\"perpetual-protocol\",\"pickle\",\"pickle\",\"pickle\",\"pickle\",\"pickle\",\"pickle\",\"pickle\",\"pickle\",\"pickle\",\"pickle\",\"pickle\",\"pickle\",\"pickle\",\"pickle\",\"pinksale\",\"pinksale\",\"pinksale\",\"pinksale\",\"pinksale\",\"pinksale\",\"planet\",\"platypus-finance\",\"pnetwork\",\"pnetwork\",\"pnetwork\",\"pnetwork\",\"pnetwork\",\"pnetwork\",\"pnetwork\",\"pnetwork\",\"pnetwork\",\"pnetwork\",\"pnetwork\",\"polygon-bridge-&-staking\",\"pooltogether\",\"pooltogether\",\"pooltogether\",\"pooltogether\",\"pooltogether\",\"pooltogether\",\"port-finance\",\"position-exchange\",\"position-exchange\",\"position-exchange\",\"proton-loan\",\"pstake\",\"pstake\",\"pstake\",\"puddingswap\",\"qidao\",\"qidao\",\"qidao\",\"qidao\",\"qidao\",\"qidao\",\"qidao\",\"qidao\",\"qidao\",\"qidao\",\"quarry\",\"quickswap\",\"radiant\",\"radiant\",\"radiant\",\"radioshack\",\"radioshack\",\"radioshack\",\"radioshack\",\"rari-capital\",\"rari-capital\",\"rari-capital\",\"rari-capital\",\"reaper-farm\",\"reaper-farm\",\"ref-finance\",\"reflexer\",\"renvm\",\"renvm\",\"renvm\",\"renvm\",\"renvm\",\"renvm\",\"renvm\",\"rex-staking\",\"rhino.fi\",\"ribbon-finance\",\"ribbon-finance\",\"risk-harbor\",\"rocket-pool\",\"rook\",\"saber\",\"sablier-finance\",\"saddle-finance\",\"saddle-finance\",\"saddle-finance\",\"saddle-finance\",\"saddle-finance\",\"saddle-finance\",\"sashimiswap\",\"sashimiswap\",\"set-protocol\",\"sherlock\",\"shibaswap\",\"sicx\",\"single-finance\",\"single-finance\",\"single-finance\",\"single-finance\",\"single-finance\",\"solarbeam\",\"solend\",\"solo-top\",\"solo-top\",\"solo-top\",\"solo-top\",\"solv-protocol\",\"solv-protocol\",\"spartacus\",\"spiritswap\",\"spookyswap\",\"spool-protocol\",\"stader\",\"stader\",\"stader\",\"stader\",\"stader\",\"stader\",\"stader\",\"stafi\",\"stafi\",\"stafi\",\"stakedao\",\"stakedao\",\"stakedao\",\"stakedao\",\"stakewise\",\"stargate\",\"stargate\",\"stargate\",\"stargate\",\"stargate\",\"stargate\",\"stargate\",\"starlay-finance\",\"stellaswap\",\"strike\",\"sturdy\",\"sturdy\",\"sun.io\",\"sun.io\",\"sun.io\",\"sundaeswap\",\"sunny\",\"sunswap\",\"superfluid\",\"superfluid\",\"sushiswap\",\"sushiswap\",\"sushiswap\",\"sushiswap\",\"sushiswap\",\"sushiswap\",\"sushiswap\",\"sushiswap\",\"sushiswap\",\"sushiswap\",\"sushiswap\",\"sushiswap\",\"sushiswap\",\"sushiswap\",\"sushiswap-kashi\",\"sushiswap-kashi\",\"sushiswap-kashi\",\"sushiswap-kashi\",\"swapr\",\"swapr\",\"swapr\",\"swim-protocol\",\"synapse\",\"synapse\",\"synapse\",\"synapse\",\"synapse\",\"synapse\",\"synapse\",\"synapse\",\"synapse\",\"synapse\",\"synapse\",\"synapse\",\"synapse\",\"synapse\",\"synapse\",\"synapse\",\"synthetix\",\"synthetix\",\"tarot\",\"tarot\",\"team-finance\",\"team-finance\",\"team-finance\",\"team-finance\",\"tectonic\",\"temple-dao\",\"temple-dao\",\"temple-dao\",\"terra-bridge\",\"terra-bridge\",\"terra-bridge\",\"tetu\",\"tetu\",\"tezos-liquidity-baking\",\"the-tokenized-bitcoin\",\"thetacash\",\"thetanuts-finance\",\"thetanuts-finance\",\"thetanuts-finance\",\"thetanuts-finance\",\"thetanuts-finance\",\"thetaswap\",\"tinyman\",\"tokemak\",\"tokemak\",\"tokemak\",\"tokensfarm\",\"tokensfarm\",\"tokensfarm\",\"tokensfarm\",\"tomb-finance\",\"tomb-finance\",\"tomb-finance\",\"tornado-cash\",\"tornado-cash\",\"tornado-cash\",\"tornado-cash\",\"tornado-cash\",\"tornado-cash\",\"tornado-cash\",\"toucan-protocol\",\"trader-joe\",\"tranchess\",\"trisolaris\",\"truefi\",\"unicrypt\",\"unicrypt\",\"unicrypt\",\"unicrypt\",\"unicrypt\",\"unicrypt\",\"unicrypt\",\"unicrypt\",\"uniswap\",\"uniswap\",\"uniswap\",\"uniswap\",\"uniswap\",\"unslashed\",\"uxd\",\"valas-finance\",\"valas-finance\",\"valas-finance\",\"valleyswap\",\"vector-finance\",\"vector-finance\",\"vector-finance\",\"velodrome\",\"venus\",\"vesper\",\"vesper\",\"vesper\",\"vesta-finance\",\"vesta-finance\",\"vesta-finance\",\"vires-finance\",\"vvs-finance\",\"waves-exchange\",\"wepiggy\",\"wepiggy\",\"wepiggy\",\"wepiggy\",\"wepiggy\",\"wepiggy\",\"wepiggy\",\"wepiggy\",\"wepiggy\",\"wepiggy\",\"wepiggy\",\"wepiggy\",\"wingriders\",\"wombat-exchange\",\"wrapped-bnb\",\"xdai-stake-bridge\",\"xdao\",\"xdao\",\"xdao\",\"xdao\",\"yearn-finance\",\"yearn-finance\",\"yearn-finance\",\"yeti-finance\",\"yeti-finance\",\"yeti-finance\",\"yield-protocol\",\"yield-protocol\",\"yield-yak\",\"yield-yak\",\"yield-yak\",\"yoshi-exchange\",\"yoshi-exchange\",\"youves\",\"youves\",\"youves\",\"zeta\",\"Acala\",\"Algorand\",\"Arbitrum\",\"Arbitrum-pool2\",\"Astar\",\"Aurora\",\"Avalanche\",\"Avalanche-pool2\",\"Bifrost\",\"Binance\",\"Binance-pool2\",\"Binance-treasury\",\"Bitcoin\",\"Boba\",\"Cardano\",\"Celo\",\"Cosmos\",\"Cronos\",\"Cronos-pool2\",\"DFK\",\"Doge\",\"EOS\",\"Elastos\",\"Elrond\",\"Ethereum\",\"Ethereum-pool2\",\"Ethereum-treasury\",\"Everscale\",\"Evmos\",\"Fantom\",\"Fantom-pool2\",\"Fuse\",\"Harmony\",\"Heco\",\"Heco-pool2\",\"Hedera\",\"Hoo\",\"Icon\",\"IoTeX\",\"Kardia\",\"Karura\",\"Kava\",\"Klaytn\",\"Kucoin\",\"Kusama\",\"LBRY\",\"Litecoin\",\"Metis\",\"Milkomeda\",\"Moonbeam\",\"Moonriver\",\"NEO\",\"Near\",\"OKExChain\",\"ORE\",\"Oasis\",\"Optimism\",\"Osmosis\",\"Polkadot\",\"Polygon\",\"Polygon-pool2\",\"Proton\",\"REI\",\"RSK\",\"Ravencoin\",\"Ronin\",\"Shiden\",\"Solana\",\"Songbird\",\"Songbird-pool2\",\"Stafi\",\"Telos\",\"Terra\",\"Terra2\",\"Tezos\",\"Tezos-pool2\",\"Theta\",\"Tron\",\"Tron-pool2\",\"Waves\",\"Wax\",\"pool2\",\"treasury\",\"xDai\",\"xDai-pool2\",\"all\"],\"marker\":{\"coloraxis\":\"coloraxis\",\"colors\":[-1.0,-1.0,-1.0,-1.0,-1.0,1.0,-1.0,-1.0,-1.0,-1.0,-1.0,-1.0,-1.0,1.0,1.0,1.0,-1.0,-1.0,1.0,1.0,1.0,-1.0,1.0,1.0,1.0,1.0,1.0,1.0,1.0,1.0,1.0,-1.0,-1.0,1.0,1.0,-1.0,1.0,1.0,1.0,1.0,1.0,1.0,-1.0,1.0,1.0,-1.0,1.0,1.0,-1.0,-1.0,-1.0,-1.0,-1.0,1.0,1.0,1.0,-1.0,-1.0,-1.0,1.0,-1.0,-1.0,-1.0,1.0,-1.0,1.0,1.0,-1.0,1.0,-1.0,1.0,-1.0,-1.0,-1.0,1.0,1.0,1.0,1.0,-1.0,1.0,1.0,1.0,1.0,1.0,1.0,1.0,1.0,1.0,1.0,1.0,1.0,1.0,1.0,1.0,-1.0,1.0,-1.0,-1.0,-1.0,-1.0,-1.0,-1.0,1.0,1.0,1.0,1.0,-1.0,-1.0,1.0,-1.0,-1.0,1.0,1.0,-1.0,1.0,1.0,1.0,1.0,1.0,-1.0,-1.0,-1.0,-1.0,1.0,-1.0,-1.0,1.0,1.0,1.0,-1.0,-1.0,1.0,1.0,1.0,-1.0,1.0,-1.0,-1.0,1.0,-1.0,-1.0,1.0,1.0,1.0,1.0,-1.0,-1.0,-1.0,1.0,1.0,-1.0,1.0,1.0,-1.0,1.0,1.0,-1.0,-1.0,-1.0,-1.0,-1.0,-1.0,1.0,-1.0,-1.0,-1.0,-1.0,1.0,1.0,-1.0,-1.0,1.0,-1.0,-1.0,-1.0,1.0,-1.0,-1.0,1.0,1.0,-1.0,-1.0,1.0,1.0,-1.0,-1.0,-1.0,1.0,1.0,-1.0,1.0,1.0,-1.0,1.0,1.0,-1.0,1.0,-1.0,-1.0,-1.0,1.0,1.0,-1.0,-1.0,-1.0,-1.0,-1.0,1.0,1.0,1.0,1.0,1.0,1.0,1.0,1.0,1.0,1.0,1.0,-1.0,1.0,-1.0,1.0,-1.0,1.0,1.0,1.0,-1.0,1.0,-1.0,-1.0,1.0,-1.0,1.0,-1.0,1.0,1.0,-1.0,1.0,1.0,-1.0,-1.0,-1.0,-1.0,-1.0,-1.0,1.0,-1.0,-1.0,-1.0,-1.0,1.0,1.0,1.0,1.0,1.0,1.0,-1.0,1.0,1.0,-1.0,1.0,-1.0,1.0,1.0,-1.0,-1.0,1.0,1.0,-1.0,1.0,1.0,-1.0,1.0,1.0,-1.0,1.0,1.0,1.0,1.0,1.0,1.0,1.0,-1.0,-1.0,-1.0,1.0,-1.0,1.0,-1.0,-1.0,-1.0,-1.0,-1.0,-1.0,-1.0,-1.0,1.0,1.0,1.0,1.0,1.0,1.0,-1.0,-1.0,-1.0,-1.0,-1.0,1.0,1.0,-1.0,1.0,-1.0,1.0,-1.0,-1.0,-1.0,-1.0,-1.0,-1.0,1.0,-1.0,-1.0,1.0,1.0,1.0,1.0,1.0,1.0,1.0,1.0,1.0,1.0,-1.0,1.0,-1.0,-1.0,1.0,1.0,1.0,1.0,-1.0,-1.0,-1.0,-1.0,1.0,1.0,-1.0,1.0,-1.0,1.0,-1.0,-1.0,-1.0,-1.0,1.0,1.0,1.0,1.0,1.0,-1.0,-1.0,-1.0,1.0,-1.0,1.0,1.0,-1.0,-1.0,1.0,1.0,-1.0,-1.0,1.0,1.0,1.0,1.0,-1.0,1.0,1.0,-1.0,-1.0,-1.0,1.0,-1.0,1.0,1.0,1.0,-1.0,-1.0,1.0,-1.0,1.0,1.0,1.0,1.0,1.0,1.0,1.0,1.0,1.0,1.0,1.0,1.0,1.0,1.0,-1.0,1.0,1.0,1.0,1.0,1.0,1.0,-1.0,1.0,1.0,1.0,1.0,1.0,1.0,1.0,1.0,1.0,1.0,1.0,1.0,1.0,1.0,1.0,1.0,1.0,1.0,-1.0,-1.0,-1.0,1.0,-1.0,-1.0,-1.0,1.0,1.0,1.0,-1.0,-1.0,-1.0,-1.0,-1.0,-1.0,-1.0,-1.0,-1.0,1.0,-1.0,1.0,-1.0,-1.0,1.0,1.0,1.0,1.0,1.0,-1.0,1.0,-1.0,1.0,-1.0,-1.0,-1.0,-1.0,-1.0,1.0,1.0,-1.0,-1.0,-1.0,1.0,-1.0,-1.0,-1.0,-1.0,1.0,1.0,-1.0,-1.0,-1.0,1.0,1.0,1.0,-1.0,1.0,-1.0,1.0,1.0,1.0,1.0,-1.0,-1.0,1.0,1.0,1.0,1.0,-1.0,-1.0,-1.0,-1.0,-1.0,1.0,1.0,-1.0,1.0,-1.0,1.0,-1.0,-1.0,-1.0,1.0,1.0,1.0,1.0,1.0,-1.0,1.0,1.0,-1.0,1.0,1.0,-1.0,1.0,-1.0,1.0,1.0,1.0,1.0,1.0,-1.0,-1.0,-1.0,-1.0,-1.0,-1.0,-1.0,-1.0,-1.0,1.0,1.0,1.0,-1.0,-1.0,-1.0,-1.0,1.0,-1.0,-1.0,1.0,-1.0,1.0,-1.0,1.0,-1.0,1.0,-1.0,1.0,-1.0,-1.0,-1.0,-1.0,1.0,1.0,1.0,-1.0,-1.0,1.0,1.0,1.0,-1.0,-1.0,1.0,-1.0,1.0,1.0,-1.0,-1.0,1.0,-1.0,-1.0,1.0,-1.0,1.0,-1.0,-1.0,1.0,1.0,1.0,-1.0,-1.0,-1.0,-1.0,1.0,-1.0,-1.0,-1.0,1.0,1.0,1.0,-1.0,-1.0,1.0,1.0,1.0,1.0,-1.0,-1.0,-1.0,1.0,1.0,-1.0,-1.0,1.0,1.0,-1.0,-1.0,1.0,1.0,-1.0,-1.0,1.0,-1.0,-1.0,1.0,-1.0,-1.0,1.0,1.0,-1.0,-1.0,-1.0,1.0,-1.0,1.0,1.0,-1.0,-1.0,-1.0,-1.0,-1.0,-1.0,-1.0,-1.0,1.0,-1.0,1.0,1.0,1.0,1.0,-1.0,-1.0,1.0,1.0,-1.0,-1.0,1.0,1.0,-1.0,1.0,1.0,1.0,-1.0,-1.0,1.0,1.0,-1.0,-1.0,1.0,1.0,1.0,1.0,1.0,1.0,1.0,1.0,1.0,1.0,1.0,1.0,1.0,1.0,-1.0,-1.0,-1.0,1.0,-1.0,1.0,-1.0,1.0,1.0,1.0,-1.0,1.0,1.0,-1.0,-1.0,-1.0,-1.0,-1.0,-1.0,1.0,1.0,-1.0,-1.0,1.0,1.0,1.0,0.4891182080094589,-0.3952804852354656,-0.898923987721536,0.3960883594998843,0.0754080669154013,-0.10709236707478581,1.0,0.8653859249828466,-0.9559100995552096,1.0,1.0,1.0,-0.5418079404147185,-0.25032911242340505,1.0,-0.9604157934173051,-1.0,1.0,1.0,1.0,1.0,1.0,0.6679386831032501,0.6935073276453197,-1.0,-1.0,1.0,0.30717878682487215,-1.0,1.0,0.3010177137610584,0.7748627313712643,-1.0,-1.0,-1.0,1.0,-0.9470731446463996,1.0,1.0,-0.9999999954777596,0.7835074765312718,1.0,1.0,1.0,1.0,-0.6851081554728652,-1.0,0.7830971063577044,0.9921591724996047,0.46411751247815053,0.9557818389693775,0.6245634302343107,1.0,0.010843971326927238,0.5530813444094076,1.0,1.0,0.7359646670709924,-0.8651927564915521,1.0,1.0,1.0,1.0,-1.0,-1.0,0.04400713805351006,1.0,-1.0,1.0,0.9961099078196829,0.9997454089099514,-0.8455323013653802,1.0,-1.0,-1.0,1.0,-1.0,-0.4027001008355092,-1.0,-0.5404195525145936,-0.99558064261663,0.37040087582334197,-1.0,0.6045819512802775]},\"name\":\"\",\"parents\":[\"all/Solana\",\"all/Ethereum\",\"all/Fantom\",\"all/Ethereum\",\"all/Avalanche\",\"all/Ethereum\",\"all/Ethereum-pool2\",\"all/Polygon\",\"all/pool2\",\"all/Arbitrum\",\"all/Avalanche\",\"all/Fantom\",\"all/Harmony\",\"all/Optimism\",\"all/Polygon\",\"all/Polygon\",\"all/Polygon-pool2\",\"all/pool2\",\"all/Acala\",\"all/Acala\",\"all/Acala\",\"all/Ethereum\",\"all/Astar\",\"all/Avalanche\",\"all/Binance\",\"all/Cronos\",\"all/Fantom\",\"all/Harmony\",\"all/Moonbeam\",\"all/Moonriver\",\"all/xDai\",\"all/Ethereum\",\"all/Fantom\",\"all/Solana\",\"all/Algorand\",\"all/Avalanche\",\"all/Binance\",\"all/Celo\",\"all/Ethereum\",\"all/Fantom\",\"all/Heco\",\"all/Near\",\"all/Polygon\",\"all/Solana\",\"all/Terra\",\"all/Binance\",\"all/Fantom\",\"all/Arbitrum\",\"all/Ethereum\",\"all/Optimism\",\"all/Polygon\",\"all/Binance\",\"all/Ethereum\",\"all/Fantom\",\"all/Kusama\",\"all/Polkadot\",\"all/Binance\",\"all/Ethereum\",\"all/Polygon\",\"all/Binance\",\"all/Binance\",\"all/Binance-pool2\",\"all/pool2\",\"all/Ethereum\",\"all/Ethereum\",\"all/Optimism\",\"all/Polygon\",\"all/Astar\",\"all/Terra\",\"all/Terra2\",\"all/Ethereum\",\"all/Aurora\",\"all/Ethereum\",\"all/Polygon\",\"all/Binance\",\"all/Arbitrum\",\"all/Ethereum\",\"all/Polygon\",\"all/Ethereum\",\"all/Aurora\",\"all/Arbitrum\",\"all/Aurora\",\"all/Avalanche\",\"all/Binance\",\"all/Celo\",\"all/Cronos\",\"all/Fantom\",\"all/Fuse\",\"all/Harmony\",\"all/Heco\",\"all/Metis\",\"all/Moonbeam\",\"all/Moonriver\",\"all/Oasis\",\"all/Optimism\",\"all/Polygon\",\"all/Fantom\",\"all/Optimism\",\"all/Ethereum\",\"all/Ethereum-pool2\",\"all/pool2\",\"all/Binance\",\"all/Heco\",\"all/Klaytn\",\"all/Ethereum\",\"all/Avalanche\",\"all/Avalanche-pool2\",\"all/pool2\",\"all/Avalanche\",\"all/Avalanche\",\"all/Ethereum\",\"all/Avalanche\",\"all/Binance\",\"all/Ethereum\",\"all/Klaytn\",\"all/Bifrost\",\"all/Binance\",\"all/Binance\",\"all/Polygon\",\"all/Near\",\"all/Arbitrum\",\"all/Aurora\",\"all/Avalanche\",\"all/Binance\",\"all/Ethereum\",\"all/Fantom\",\"all/Metis\",\"all/Optimism\",\"all/Polygon\",\"all/Shiden\",\"all/Binance\",\"all/Ethereum\",\"all/Klaytn\",\"all/Ethereum\",\"all/Moonbeam\",\"all/Optimism\",\"all/Polygon\",\"all/Binance\",\"all/Binance-pool2\",\"all/Heco\",\"all/Heco-pool2\",\"all/pool2\",\"all/Ethereum\",\"all/Ethereum\",\"all/Ethereum\",\"all/Arbitrum\",\"all/Avalanche\",\"all/Binance\",\"all/Boba\",\"all/Cronos\",\"all/Ethereum\",\"all/Fantom\",\"all/Fuse\",\"all/Moonriver\",\"all/Optimism\",\"all/Polygon\",\"all/xDai\",\"all/Ethereum\",\"all/Arbitrum\",\"all/Binance\",\"all/Ethereum\",\"all/Polygon\",\"all/DFK\",\"all/Arbitrum\",\"all/Aurora\",\"all/Avalanche\",\"all/Ethereum\",\"all/Fantom\",\"all/Moonbeam\",\"all/Optimism\",\"all/Polygon\",\"all/xDai\",\"all/Binance\",\"all/Binance-pool2\",\"all/pool2\",\"all/Harmony\",\"all/Ethereum\",\"all/Wax\",\"all/Ethereum\",\"all/Ethereum\",\"all/Avalanche\",\"all/Arbitrum\",\"all/Binance\",\"all/Ethereum\",\"all/Optimism\",\"all/Polygon\",\"all/Ethereum\",\"all/Polygon\",\"all/Fantom\",\"all/OKExChain\",\"all/Polygon\",\"all/Arbitrum\",\"all/Arbitrum-pool2\",\"all/Binance\",\"all/Ethereum-pool2\",\"all/pool2\",\"all/Binance\",\"all/Avalanche\",\"all/Binance\",\"all/Celo\",\"all/Cronos\",\"all/Ethereum\",\"all/Fantom\",\"all/Heco\",\"all/Milkomeda\",\"all/OKExChain\",\"all/Polygon\",\"all/Ethereum\",\"all/Polygon\",\"all/Avalanche\",\"all/Avalanche-pool2\",\"all/pool2\",\"all/Ethereum\",\"all/Binance\",\"all/Ethereum\",\"all/EOS\",\"all/Ethereum\",\"all/Fantom\",\"all/Moonriver\",\"all/Ethereum\",\"all/Cronos\",\"all/Elastos\",\"all/Heco\",\"all/IoTeX\",\"all/REI\",\"all/NEO\",\"all/Ethereum\",\"all/Songbird\",\"all/Songbird-pool2\",\"all/pool2\",\"all/Algorand\",\"all/Ethereum\",\"all/Ethereum-pool2\",\"all/Ethereum-treasury\",\"all/Fantom\",\"all/pool2\",\"all/treasury\",\"all/Solana\",\"all/Polygon\",\"all/Polygon-pool2\",\"all/pool2\",\"all/Ethereum\",\"all/Fantom\",\"all/Fantom-pool2\",\"all/pool2\",\"all/Arbitrum\",\"all/Avalanche\",\"all/Ethereum\",\"all/Ethereum-pool2\",\"all/pool2\",\"all/Binance\",\"all/Ethereum\",\"all/Polygon\",\"all/Arbitrum\",\"all/Avalanche\",\"all/Binance\",\"all/Ethereum\",\"all/Polygon\",\"all/Ethereum\",\"all/Fantom\",\"all/Avalanche\",\"all/Binance\",\"all/Ethereum\",\"all/Fantom\",\"all/Arbitrum\",\"all/Ethereum\",\"all/Optimism\",\"all/Polygon\",\"all/xDai\",\"all/Solana\",\"all/Arbitrum\",\"all/Fantom\",\"all/Moonriver\",\"all/Optimism\",\"all/Polygon\",\"all/Polygon\",\"all/Ethereum\",\"all/Polygon\",\"all/Ethereum\",\"all/Ethereum\",\"all/Ethereum\",\"all/Avalanche\",\"all/Binance\",\"all/Ethereum\",\"all/Polygon\",\"all/Ethereum\",\"all/Avalanche\",\"all/Ethereum\",\"all/Fantom\",\"all/Binance\",\"all/Arbitrum\",\"all/Ethereum\",\"all/Ethereum-pool2\",\"all/Polygon\",\"all/pool2\",\"all/Solana\",\"all/Tron\",\"all/Tron\",\"all/Kardia\",\"all/Karura\",\"all/Karura\",\"all/Solana\",\"all/Ronin\",\"all/Kava\",\"all/Kava\",\"all/Kava\",\"all/Klaytn\",\"all/Klaytn\",\"all/Polygon\",\"all/Binance\",\"all/Fantom\",\"all/Klaytn\",\"all/Arbitrum\",\"all/Avalanche\",\"all/Binance\",\"all/Cronos\",\"all/Ethereum\",\"all/Fantom\",\"all/Oasis\",\"all/Optimism\",\"all/Polygon\",\"all/Solana\",\"all/Ethereum\",\"all/Moonbeam\",\"all/Moonriver\",\"all/Solana\",\"all/Terra\",\"all/Bitcoin\",\"all/Near\",\"all/Binance\",\"all/Ethereum\",\"all/Fantom\",\"all/Ethereum\",\"all/Ethereum\",\"all/Ethereum\",\"all/Ethereum\",\"all/Optimism\",\"all/Elrond\",\"all/Ethereum\",\"all/Solana\",\"all/Ethereum\",\"all/Solana\",\"all/Solana\",\"all/Celo\",\"all/Solana\",\"all/Polygon\",\"all/Near\",\"all/Ethereum\",\"all/IoTeX\",\"all/Fantom\",\"all/Polygon\",\"all/Cardano\",\"all/Cronos\",\"all/Cronos\",\"all/Kucoin\",\"all/RSK\",\"all/Celo\",\"all/Moonriver\",\"all/Moonbeam\",\"all/Ethereum\",\"all/Polygon\",\"all/NEO\",\"all/Avalanche\",\"all/Metis\",\"all/Waves\",\"all/Ethereum\",\"all/Ethereum\",\"all/Binance\",\"all/Ethereum\",\"all/Binance\",\"all/Ethereum\",\"all/Everscale\",\"all/Polygon\",\"all/Ethereum\",\"all/Avalanche\",\"all/Ethereum\",\"all/Ethereum-pool2\",\"all/Fantom\",\"all/Polygon\",\"all/pool2\",\"all/Arbitrum\",\"all/Binance\",\"all/Ethereum\",\"all/Polygon\",\"all/Ethereum\",\"all/Polygon\",\"all/Ethereum\",\"all/Binance\",\"all/Ethereum\",\"all/Osmosis\",\"all/Polygon\",\"all/Binance\",\"all/Avalanche\",\"all/Solana\",\"all/Polygon\",\"all/Optimism\",\"all/Arbitrum\",\"all/Arbitrum-pool2\",\"all/Aurora\",\"all/Cronos\",\"all/Ethereum\",\"all/Ethereum-pool2\",\"all/Metis\",\"all/Moonbeam\",\"all/Moonriver\",\"all/OKExChain\",\"all/Optimism\",\"all/Polygon\",\"all/Polygon-pool2\",\"all/pool2\",\"all/Avalanche\",\"all/Binance\",\"all/Cronos\",\"all/Ethereum\",\"all/Fantom\",\"all/Polygon\",\"all/Binance\",\"all/Avalanche\",\"all/Binance\",\"all/Bitcoin\",\"all/Doge\",\"all/EOS\",\"all/Ethereum\",\"all/Fantom\",\"all/LBRY\",\"all/Litecoin\",\"all/ORE\",\"all/Ravencoin\",\"all/Telos\",\"all/Polygon\",\"all/Avalanche\",\"all/Binance\",\"all/Celo\",\"all/Ethereum\",\"all/Optimism\",\"all/Polygon\",\"all/Solana\",\"all/Binance\",\"all/Binance-treasury\",\"all/treasury\",\"all/Proton\",\"all/Ethereum\",\"all/Ethereum-pool2\",\"all/pool2\",\"all/Hoo\",\"all/Arbitrum\",\"all/Avalanche\",\"all/Binance\",\"all/Fantom\",\"all/Harmony\",\"all/Metis\",\"all/Moonriver\",\"all/Optimism\",\"all/Polygon\",\"all/xDai\",\"all/Solana\",\"all/Polygon\",\"all/Arbitrum\",\"all/Arbitrum-pool2\",\"all/pool2\",\"all/Avalanche\",\"all/Binance\",\"all/Ethereum\",\"all/Polygon\",\"all/Arbitrum\",\"all/Ethereum\",\"all/Ethereum-pool2\",\"all/pool2\",\"all/Fantom\",\"all/Optimism\",\"all/Near\",\"all/Ethereum\",\"all/Arbitrum\",\"all/Avalanche\",\"all/Binance\",\"all/Ethereum\",\"all/Fantom\",\"all/Polygon\",\"all/Solana\",\"all/Telos\",\"all/Ethereum\",\"all/Avalanche\",\"all/Ethereum\",\"all/Avalanche\",\"all/Ethereum\",\"all/Ethereum\",\"all/Solana\",\"all/Ethereum\",\"all/Arbitrum\",\"all/Ethereum\",\"all/Evmos\",\"all/Fantom\",\"all/Kava\",\"all/Optimism\",\"all/Binance\",\"all/Heco\",\"all/Ethereum\",\"all/Ethereum\",\"all/Ethereum\",\"all/Icon\",\"all/Cronos\",\"all/Cronos-pool2\",\"all/Fantom\",\"all/Fantom-pool2\",\"all/pool2\",\"all/Moonriver\",\"all/Solana\",\"all/Binance\",\"all/Heco\",\"all/OKExChain\",\"all/Polygon\",\"all/Binance\",\"all/Ethereum\",\"all/Fantom\",\"all/Fantom\",\"all/Fantom\",\"all/Ethereum\",\"all/Binance\",\"all/Fantom\",\"all/Hedera\",\"all/Near\",\"all/Polygon\",\"all/Terra\",\"all/Terra2\",\"all/Cosmos\",\"all/Polygon\",\"all/Stafi\",\"all/Avalanche\",\"all/Ethereum\",\"all/Harmony\",\"all/Polygon\",\"all/Ethereum\",\"all/Arbitrum\",\"all/Avalanche\",\"all/Binance\",\"all/Ethereum\",\"all/Fantom\",\"all/Optimism\",\"all/Polygon\",\"all/Astar\",\"all/Moonbeam\",\"all/Ethereum\",\"all/Ethereum\",\"all/Fantom\",\"all/Tron\",\"all/Tron-pool2\",\"all/pool2\",\"all/Cardano\",\"all/Solana\",\"all/Tron\",\"all/Polygon\",\"all/xDai\",\"all/Arbitrum\",\"all/Avalanche\",\"all/Binance\",\"all/Celo\",\"all/Ethereum\",\"all/Fantom\",\"all/Fuse\",\"all/Harmony\",\"all/Heco\",\"all/Moonriver\",\"all/OKExChain\",\"all/Polygon\",\"all/Telos\",\"all/xDai\",\"all/Arbitrum\",\"all/Binance\",\"all/Ethereum\",\"all/Fantom\",\"all/Arbitrum\",\"all/Ethereum\",\"all/xDai\",\"all/Solana\",\"all/Arbitrum\",\"all/Aurora\",\"all/Avalanche\",\"all/Binance\",\"all/Boba\",\"all/Cronos\",\"all/Ethereum\",\"all/Ethereum-pool2\",\"all/Fantom\",\"all/Harmony\",\"all/Klaytn\",\"all/Metis\",\"all/Moonriver\",\"all/Optimism\",\"all/Polygon\",\"all/pool2\",\"all/Ethereum\",\"all/Optimism\",\"all/Fantom\",\"all/Optimism\",\"all/Avalanche\",\"all/Binance\",\"all/Ethereum\",\"all/Polygon\",\"all/Cronos\",\"all/Ethereum\",\"all/Ethereum-pool2\",\"all/pool2\",\"all/Binance\",\"all/Ethereum\",\"all/Harmony\",\"all/Fantom\",\"all/Polygon\",\"all/Tezos\",\"all/Ethereum\",\"all/Theta\",\"all/Aurora\",\"all/Avalanche\",\"all/Boba\",\"all/Fantom\",\"all/Polygon\",\"all/Theta\",\"all/Algorand\",\"all/Ethereum\",\"all/Ethereum-pool2\",\"all/pool2\",\"all/Binance\",\"all/Ethereum\",\"all/Fantom\",\"all/Polygon\",\"all/Fantom\",\"all/Fantom-pool2\",\"all/pool2\",\"all/Arbitrum\",\"all/Avalanche\",\"all/Binance\",\"all/Ethereum\",\"all/Optimism\",\"all/Polygon\",\"all/xDai\",\"all/Polygon\",\"all/Avalanche\",\"all/Binance\",\"all/Aurora\",\"all/Ethereum\",\"all/Avalanche\",\"all/Binance\",\"all/Binance-pool2\",\"all/Ethereum\",\"all/Ethereum-pool2\",\"all/Polygon\",\"all/pool2\",\"all/xDai-pool2\",\"all/Arbitrum\",\"all/Celo\",\"all/Ethereum\",\"all/Optimism\",\"all/Polygon\",\"all/Ethereum\",\"all/Solana\",\"all/Binance\",\"all/Binance-pool2\",\"all/pool2\",\"all/Oasis\",\"all/Avalanche\",\"all/Avalanche-pool2\",\"all/pool2\",\"all/Optimism\",\"all/Binance\",\"all/Avalanche\",\"all/Ethereum\",\"all/Polygon\",\"all/Arbitrum\",\"all/Arbitrum-pool2\",\"all/pool2\",\"all/Waves\",\"all/Cronos\",\"all/Waves\",\"all/Arbitrum\",\"all/Aurora\",\"all/Binance\",\"all/Ethereum\",\"all/Harmony\",\"all/Heco\",\"all/Moonbeam\",\"all/Moonriver\",\"all/OKExChain\",\"all/Oasis\",\"all/Optimism\",\"all/Polygon\",\"all/Cardano\",\"all/Binance\",\"all/Binance\",\"all/Ethereum\",\"all/Astar\",\"all/Binance\",\"all/Fantom\",\"all/Polygon\",\"all/Arbitrum\",\"all/Ethereum\",\"all/Fantom\",\"all/Avalanche\",\"all/Avalanche-pool2\",\"all/pool2\",\"all/Arbitrum\",\"all/Ethereum\",\"all/Avalanche\",\"all/Avalanche-pool2\",\"all/pool2\",\"all/Binance\",\"all/Fantom\",\"all/Tezos\",\"all/Tezos-pool2\",\"all/pool2\",\"all/Solana\",\"all\",\"all\",\"all\",\"all\",\"all\",\"all\",\"all\",\"all\",\"all\",\"all\",\"all\",\"all\",\"all\",\"all\",\"all\",\"all\",\"all\",\"all\",\"all\",\"all\",\"all\",\"all\",\"all\",\"all\",\"all\",\"all\",\"all\",\"all\",\"all\",\"all\",\"all\",\"all\",\"all\",\"all\",\"all\",\"all\",\"all\",\"all\",\"all\",\"all\",\"all\",\"all\",\"all\",\"all\",\"all\",\"all\",\"all\",\"all\",\"all\",\"all\",\"all\",\"all\",\"all\",\"all\",\"all\",\"all\",\"all\",\"all\",\"all\",\"all\",\"all\",\"all\",\"all\",\"all\",\"all\",\"all\",\"all\",\"all\",\"all\",\"all\",\"all\",\"all\",\"all\",\"all\",\"all\",\"all\",\"all\",\"all\",\"all\",\"all\",\"all\",\"all\",\"all\",\"all\",\"all\",\"\"],\"root\":{\"color\":\"lightgrey\"},\"type\":\"treemap\",\"values\":[5918.169158554081,15452.41528437035,7.564499971563896,233769.55411117483,2798740.0244757417,36182694.132362306,1010.3705249875784,669302.232719837,1010.3705249875784,82162.90863449068,701735.7430498637,397517.61713112064,814.2615077648408,19646174.72365835,292594.1379384557,794.7077878128998,718.8079860524656,718.8079860524647,6945414.386330023,5739901.249519203,623180.3391354489,192525.27422857934,4335.0677250866465,75682.35363,834883.8423351647,59749.44759999974,7486.519565000033,1029.706150000001,117.09853500328265,13804.549735000002,3229.3813600000053,1930129.1741693097,421.5516026161151,910763.8513554051,4352215.265128644,7130.9283341769715,1684.5897852059043,15510.766545074735,40329.51193660396,603.6120950188023,1102.1934125861535,696.8271871761427,8705.404391907769,11785.621335981861,1648.5667961955805,1244723.0596160935,130882.42777660227,0.5131485765976359,75660.66498911784,175801.50769961104,14244.542700708436,40390.31966263251,31015.978596828096,5.8955073225916,1.9434690035918822,25.008196393157043,14607.325454431666,28.473594972424422,17895.26986061863,583518.350495027,23101.894384469648,952.5578647305883,952.5578647305883,14745.51581081422,58985518.22105729,89921.47447814913,1654.1275629569097,67516.85334020035,77086.5424047613,298690.35921165586,13794374.85167366,10207.45204398685,248774.68232844103,6649.195999543382,490932.65660664585,568893.6082469589,26329578.525472894,5149012.227164673,193310.9715195538,770038.629394063,423647.46528000204,106113.32181007139,1782567.6600250802,3080273.829305094,2675.795244920343,487767.61226505425,1880823.2167349996,49230.336739999795,962.4608099669532,688.8158900449993,202563.7008352094,81936.91613499244,25142.576140081983,9382.917854999965,1100173.0159498323,2046384.7055649876,4522011.757575476,1235598.2234397368,2348.180621202183,176.9708072489841,176.97080724898422,47418.21735528708,1274.6005298019963,2058.7869500001766,3395756.4279178223,513270.6166374637,143704.37101438013,143704.37101438013,1328433.3750627863,0.5939030413830978,1713.2608580917522,1852.578786837587,4062.2043091816936,16658.95087556817,33036.549409590705,2141211.585446926,151013.1541049248,3214515.528448782,6039.779917017922,149895.33872466092,653970.9158691609,384069.76013033034,567606.3250064983,3038500.67796331,1537841.6361651064,35803.68084222835,966.853232205116,1153613.512105324,934905.0145095512,11823.083988196238,7461.4245,2934464.24,744772.3200250004,16533.7866918085,61.98430430834427,21411.018644308577,447.8458660073279,11222.436592309412,0.2911444348937664,8837.936572956161,0.006907025578573478,0.28423108945919395,15947924.39266549,727.1834283929393,62020.74773939264,48515.306825841646,3124.933978308596,71237.58499733394,59.05899999988197,9265.171175260293,30146.457138555765,21732.39432721886,581.789238028677,12832.064886305829,27092.581009621594,117442.79460957594,11486.872660604338,14192018.190062663,1824.9012782109185,591332.4696784813,0.17935510449396921,3972.0409188840213,99461.48841803428,8428668.962544207,975.1155867193306,1279606.4470965248,2286947.7928501144,8111.362251269486,197098.96880425845,444070.51924567984,8038.758405437895,215371.0285001327,134367.27184323012,0.09782362030033336,0.09782362030033336,76325.64108587815,21237.17257952949,28.062210599320906,206.75856118520926,10019173.97134178,4595.5443783492265,971640.0325285585,2260419.2126037804,624152.55615825,521339.6303020787,580139.8270969593,219223.29371337424,14719.026028344702,1537.068844438738,0.0006355465372324676,92975.08276304298,0.4704380099911283,119341.34396586928,0.022951004965298036,7.607233196240031,119333.7361831217,417720.4832248129,740.4391517233241,760947.8809279113,36.06215632755795,1023.0855154915791,22222.354182030613,3622.0852236679616,3.6426719989698695,0.12836991716855436,2.6894549997185773,379.14289899566563,2227506.2359660296,662953.6721064142,1794891.0826081836,168.56485919371787,168.56485919371784,127927.56668294521,1107660.8110899113,7555.20248174218,8761.284626003635,97336.32103603554,53.239310743800345,6.314944383770952,0.00017519966704943914,281060.90660162154,50566.57824260281,59242.120661522684,10734.376652336075,10370.239391765097,839015.6839488433,32003.86902021274,404693.2000286769,4426.372815609013,4426.372815609013,5969879.489653925,19704.056237241843,4424.898925195797,2294159.999999646,1081.3093934735944,4424.898925195797,2294159.999999646,107676.08591083635,145644.69602279284,214494.42486459954,214494.42486459954,43054.323651887185,1403271.2149552035,2759.8110787879996,2759.8110787879996,4856285.163819173,59790.36524986295,40.8614445916093,650.9550993061989,650.9550993061989,7098.13979371834,162167.7259757801,2828.3695181322787,6013.091822082288,5758.66862030889,12491.540059255276,286368.52817687043,13019.382405186014,215.56396979385408,463031.1170468286,17740.952929986597,29464.667173753252,934873.2977395572,30246.988509689305,44023.05082955357,394756.56703663425,307866.37257471355,43929.481442901204,384967.1234168337,1906362.3380357856,5001.127900961784,21737.584048418634,167.43553610428498,31933.566999892144,38522.98671803465,39352.96263310421,3150718.3004098297,0.8591932515598187,146286.84017022152,2245.9503999986455,220902422.07013643,1797.9780160539644,10580.781972433027,10531.535548782798,1412.0918283401015,80295.36934058362,269798.89202053996,3352380.2619341966,135665.49419100734,16690.357808536428,21.6746030084239,874.9708442464871,45.74838349994793,151.64002525963852,45.74839351040226,8976.764020409913,54305811.61109193,21.496624999999877,45411.93280905754,566316.6699425332,639338.0829739769,9403.79645662766,1854867.8945082992,8183057.20498701,12012273.022608336,1939715.705282121,25992.436188852123,6852954.921780025,721.2675589712653,457678.6151370922,11004.687145140717,900524.0389924005,263.35421131243356,1059.6969362661623,2684.2607626084973,6.918593113328484,104615.0216304118,153.232562301786,51.17419890483653,405056.9062571676,303551.76194932335,195252.90656840795,2878118.9275876107,69664.18546948304,1018206.9539667305,121146.86023292004,12.485762005897353,49781.21708067661,6877306.690169462,921619.6463675711,80182.03831639118,649138.5930376123,10058127.932466306,24159.170706506626,2377175.2276160503,150190.63723637842,1527846.5769324033,9461160.135379238,10857538.830149934,32257.54582125938,6919.915957361776,113815.70795906236,4955953.64113715,113354.41813296267,86899.96435500935,4521653.34814322,147885.85788898807,5.783079106387049,394896.2462373298,39891.128661471856,5062.004214103071,345417.1068221694,5672459.601641954,2877127.903762128,781303.7132072725,71023.50412789715,56449.428823557406,1793267.4020781294,268995.7580620564,432947.97482769296,1502.406520767045,307088.6100005322,94252.21131082533,1411815.804699625,1226263.5522284405,11356.962326193312,84928.4433040639,4570839.82622252,291107.7119140124,20.883776996934838,37839.30299995296,520.7063936715931,0.23018199152771165,1651464.7796661856,2.670315518167954,993387.0639441778,5017.928799949759,5.025005697366395,18.284805390207634,5017.928799949759,12172.832152929133,1.0010000070928463e-05,34688.44183696249,544.025232110711,10145150.54385864,1.822854785478548,2742.337755744197,20357.538611799373,4506.529289369614,18671078.04251393,3393.592143702274,119522170.75820169,4774240.768801838,24463.56740962317,686932.880983734,113063.91756414104,31574.339650022343,17508.685923923225,18930.355736559257,79.95499691951576,509708.404108293,120633.721541178,5336.800156729138,423.61482602629036,6257.4297960423755,209.03893404968403,73498.54684699999,33534.097731952745,15554.58683085956,153696.99429614466,1211.9868593656556,1402322.827264119,5164.314990774545,255050.84955020272,0.2050282079761516,1117.3991333975086,23446.435392119794,249054.71382013976,35733.56241348153,289800.9804869689,1641.8607604548042,7410.039407194528,2065192.4487763504,0.1274297811693317,2122.1506395684114,17450.153940764572,170109.40043598486,38.09278478831456,239689.6448696462,723273.0210470136,550.8987139126928,29.825456476954123,239.1752247071419,7849.337510865069,2048205.9172656548,467501.21872503974,55225.480166313224,89629.02287811752,5080.582923141986,5080.582923141986,703346.6979597432,390.7244118874979,1342.4976298858785,1342.4976298858785,21.269427197697375,21683.070270010114,4540.69841609802,28536.457953063673,106318.07125286415,57.56955988786744,145371.40086366268,0.07128283603609598,15623.696685563971,1202315.581452571,14813.648361909041,1131034.588466865,9362397.632068915,14369534.439817453,11077.052267301755,11077.052267301755,260.1451794228459,221565.1214601111,9317.633656659282,1641.4134428264167,2038.8085442630274,1608171.2895649916,52.69401183378852,52.69401183378852,94898.79296354769,51891.593570064106,6292913.324167306,113472.80890767346,5619.412383749908,40076.290481400596,121699.57552949291,5072873.908884304,573.3235104966677,9977.758285135673,531435.827132067,15916.066665438644,133999.9918771493,1461.9146029864005,94276.98391623324,1902.8925259539112,1274781.261946125,6357.742348589241,844882.7276902015,173796.81282944055,79294.17139014947,146807.98811361706,0.624407780855627,0.38951220460309344,0.05005,281.32009745368595,2.182387510083622,0.9190081132159271,148018.5214771675,2359.635398438004,3218561.5607824153,52147.03046086356,117684.6881601036,88315.53729027814,80318.20653683756,4961.773987845954,93277.31127862216,1166883.5880041271,1252038.6796916234,24957.579312703274,532722.591846201,26727.16092665197,12480.858771244777,524.3608610070919,4854.665864254828,31893.740474824794,459852.53082119214,9170452.339968449,10579058.715858411,600770.1977675208,2420.639999997249,387775.85725601064,30.18,158696.49302002875,10.025494220912128,24999.84007737937,533.2439999999922,1219.0354998702437,69.73020000001561,3138.800817644079,299668.46897137706,1144.1276003206087,102574.55654764536,4382.576185915301,699597.5500052229,10476843.541432085,166280.93382385815,16688666.841707285,68489.24427867879,1968260.2164559052,261531.93787794368,14020.968677745579,75241.5072494234,5550.08915634651,1167988.198927611,455405.1236049998,172106.51463130082,11285.251518079567,11285.251518079567,412392.47279247385,19170.550420691936,11379726.378206495,9022.9380294166,19.69216995118015,4540363.269183198,623869.8457639222,40034.809255697444,8444.32351822058,29555028.570967954,164891.40965075794,242.87275956394626,6764.314730577509,0.0008177642638248078,3001.586307566279,62.04587350104791,462229.7579885833,498.1337830105367,214300.31979204304,2756.391498442241,0.023319994532255806,62547.81691690824,6336.666337917701,79263.55348129902,49497.94210388111,464930.9810672356,6262.257059498334,1033412.5311251436,427.5523108695397,1345630.3093183246,591604.8307553036,3880.8522479193057,3683.5137783378514,2318059.558830303,40593.25946255003,18299.95469676111,35066.55644851968,0.18235837092252183,483852.9004693295,64.38664381187581,1814927.167972209,146769.81522620245,40593.25946255003,10395803.581121279,2871412.9897559257,33353.871562175744,951969.2132809686,22552.64645794876,901740.6470940352,425655.9406065239,627.6118321704585,363396.5599648113,64.38729890220566,4208.451550308655,4208.451550308655,14964.785998893547,23115.216776382244,5.532464467440249,419002.6838254379,119371.02663001625,55875.6028704728,74428.1037463289,59611.87089599737,6.205191300718567,323.205303011201,2106.487195008304,14322.480275058313,72.34622606298754,118691.46203600187,478410.83950276044,43985.7717989339,22435.761295529,22435.761295529,124305.92714594502,127170.217383463,7.994641357246714,44082.43508941874,235829.5330103669,30000.04862547494,30000.04862547494,863.5490000000023,1529.9999999999995,101383.01600000195,1514097.9409999796,4027.0490000000013,47769.7718,1200.7672000000002,39.12726330018329,12913984.505138533,183411.23831329157,16326.826133351424,4124238.583829667,12261.86291534171,799754.5972164657,696.0318285813196,377902.15150119143,9.94513981287551,5076.1114270310645,751.4292419456896,45.452296022645044,7429357.672137976,2406.7143562525657,161508616.52527666,3132075.5654434375,3131090.019992761,6262.318810361105,22030.73936714907,116285.49044309216,36.873379897098914,36.873379897098914,15993.978036189947,1542283.4243277796,38019.84624289381,38019.84624289381,895809.1934049907,7135758.511969777,164.54971498363875,27775.231252788,3428.698864883577,56262.67598268333,23137.223878447265,23137.223878447265,3061870.161533852,18308795.885429133,77546.67609448286,89906.38613319855,1899.3644630163797,64495.23054009826,230720.5614387368,31.02286890097017,954.796240057764,812.0823397286506,765.0552287778338,116836.60158723143,7014.035644465534,129919.48972394828,20132.66163015762,225204.6593842896,25819.017589566683,37008.25167622704,561757.4160660937,5.031169200253138,7326.388509153137,0.23907867860970758,47.8963401706096,9179.360879135802,15144342.574342947,773131.0581341346,340441.8406838267,77978.8590612011,77978.8590612011,25315.273255114058,870.4822116029837,140972.993107567,328.3299721315959,328.3299721315959,2.5359720389032674,4797.912547312106,136209.74689474472,531565.5868385832,531565.5868385832,19807.60431925917,13308495.974984676,10800505.59428533,44579127.8348701,171064.30603554152,85877.92091223283,1308994.5828002682,43807477.91590603,260199.97114980035,2141211.585446926,156563085.64843217,1685.852041264201,5080.582923141986,339582.19756764546,6046.3984429274915,983014.2389989329,199116.68400202302,533.2439999999922,28187265.564474702,88315.53729027814,99461.48841803428,1641.8607604548042,16171.324033198163,50566.57824260281,9461160.135379238,731968742.8289018,200610.81040448273,2294159.999999646,520.7063936715931,0.624407780855627,21906442.90698658,37721.633692108895,50054.99873759242,122201.19322628403,604827.6176510472,0.006907025578573478,387775.85725601064,21.269427197697375,52147.03046086356,405630.6228896659,45411.93280905754,1205654.7529165102,22135045.982927468,8559339.23570424,781303.7132072725,1.9434690035918822,2122.1506395684114,17450.153940764572,2249907.460256761,0.12836991716855436,694352.1157252803,4040399.4145498974,1146104.2939493754,13468728.218137592,143837.5374119804,170109.40043598486,32442.105734560282,40758865.50636413,18671078.04251393,25.008196393157043,32765514.853130594,230767.81968151155,703346.6979597432,10370.239391765097,71023.50412789715,38.09278478831456,1854867.8945082992,11823.083988196238,12372565.274070702,404693.2000286769,4426.372815609013,69.73020000001561,256103.84531809538,78757.6204571837,323690.1992890352,192085.3497652175,531565.5868385832,178303.33293199923,65857666.000554726,11285.251518079567,4365680.389856775,28.062210599320906,1537673.3718222138,2299240.582922788,1310319.8145287095,45.452296022645044,1309990671.8489966]}],                        {\"coloraxis\":{\"colorbar\":{\"title\":{\"text\":\"flow_direction\"}},\"colorscale\":[[0.0,\"rgb(158,1,66)\"],[0.1,\"rgb(213,62,79)\"],[0.2,\"rgb(244,109,67)\"],[0.3,\"rgb(253,174,97)\"],[0.4,\"rgb(254,224,139)\"],[0.5,\"rgb(255,255,191)\"],[0.6,\"rgb(230,245,152)\"],[0.7,\"rgb(171,221,164)\"],[0.8,\"rgb(102,194,165)\"],[0.9,\"rgb(50,136,189)\"],[1.0,\"rgb(94,79,162)\"]]},\"legend\":{\"tracegroupgap\":0},\"margin\":{\"b\":25,\"l\":25,\"r\":25,\"t\":50},\"template\":{\"data\":{\"bar\":[{\"error_x\":{\"color\":\"#2a3f5f\"},\"error_y\":{\"color\":\"#2a3f5f\"},\"marker\":{\"line\":{\"color\":\"#E5ECF6\",\"width\":0.5},\"pattern\":{\"fillmode\":\"overlay\",\"size\":10,\"solidity\":0.2}},\"type\":\"bar\"}],\"barpolar\":[{\"marker\":{\"line\":{\"color\":\"#E5ECF6\",\"width\":0.5},\"pattern\":{\"fillmode\":\"overlay\",\"size\":10,\"solidity\":0.2}},\"type\":\"barpolar\"}],\"carpet\":[{\"aaxis\":{\"endlinecolor\":\"#2a3f5f\",\"gridcolor\":\"white\",\"linecolor\":\"white\",\"minorgridcolor\":\"white\",\"startlinecolor\":\"#2a3f5f\"},\"baxis\":{\"endlinecolor\":\"#2a3f5f\",\"gridcolor\":\"white\",\"linecolor\":\"white\",\"minorgridcolor\":\"white\",\"startlinecolor\":\"#2a3f5f\"},\"type\":\"carpet\"}],\"choropleth\":[{\"colorbar\":{\"outlinewidth\":0,\"ticks\":\"\"},\"type\":\"choropleth\"}],\"contour\":[{\"colorbar\":{\"outlinewidth\":0,\"ticks\":\"\"},\"colorscale\":[[0.0,\"#0d0887\"],[0.1111111111111111,\"#46039f\"],[0.2222222222222222,\"#7201a8\"],[0.3333333333333333,\"#9c179e\"],[0.4444444444444444,\"#bd3786\"],[0.5555555555555556,\"#d8576b\"],[0.6666666666666666,\"#ed7953\"],[0.7777777777777778,\"#fb9f3a\"],[0.8888888888888888,\"#fdca26\"],[1.0,\"#f0f921\"]],\"type\":\"contour\"}],\"contourcarpet\":[{\"colorbar\":{\"outlinewidth\":0,\"ticks\":\"\"},\"type\":\"contourcarpet\"}],\"heatmap\":[{\"colorbar\":{\"outlinewidth\":0,\"ticks\":\"\"},\"colorscale\":[[0.0,\"#0d0887\"],[0.1111111111111111,\"#46039f\"],[0.2222222222222222,\"#7201a8\"],[0.3333333333333333,\"#9c179e\"],[0.4444444444444444,\"#bd3786\"],[0.5555555555555556,\"#d8576b\"],[0.6666666666666666,\"#ed7953\"],[0.7777777777777778,\"#fb9f3a\"],[0.8888888888888888,\"#fdca26\"],[1.0,\"#f0f921\"]],\"type\":\"heatmap\"}],\"heatmapgl\":[{\"colorbar\":{\"outlinewidth\":0,\"ticks\":\"\"},\"colorscale\":[[0.0,\"#0d0887\"],[0.1111111111111111,\"#46039f\"],[0.2222222222222222,\"#7201a8\"],[0.3333333333333333,\"#9c179e\"],[0.4444444444444444,\"#bd3786\"],[0.5555555555555556,\"#d8576b\"],[0.6666666666666666,\"#ed7953\"],[0.7777777777777778,\"#fb9f3a\"],[0.8888888888888888,\"#fdca26\"],[1.0,\"#f0f921\"]],\"type\":\"heatmapgl\"}],\"histogram\":[{\"marker\":{\"pattern\":{\"fillmode\":\"overlay\",\"size\":10,\"solidity\":0.2}},\"type\":\"histogram\"}],\"histogram2d\":[{\"colorbar\":{\"outlinewidth\":0,\"ticks\":\"\"},\"colorscale\":[[0.0,\"#0d0887\"],[0.1111111111111111,\"#46039f\"],[0.2222222222222222,\"#7201a8\"],[0.3333333333333333,\"#9c179e\"],[0.4444444444444444,\"#bd3786\"],[0.5555555555555556,\"#d8576b\"],[0.6666666666666666,\"#ed7953\"],[0.7777777777777778,\"#fb9f3a\"],[0.8888888888888888,\"#fdca26\"],[1.0,\"#f0f921\"]],\"type\":\"histogram2d\"}],\"histogram2dcontour\":[{\"colorbar\":{\"outlinewidth\":0,\"ticks\":\"\"},\"colorscale\":[[0.0,\"#0d0887\"],[0.1111111111111111,\"#46039f\"],[0.2222222222222222,\"#7201a8\"],[0.3333333333333333,\"#9c179e\"],[0.4444444444444444,\"#bd3786\"],[0.5555555555555556,\"#d8576b\"],[0.6666666666666666,\"#ed7953\"],[0.7777777777777778,\"#fb9f3a\"],[0.8888888888888888,\"#fdca26\"],[1.0,\"#f0f921\"]],\"type\":\"histogram2dcontour\"}],\"mesh3d\":[{\"colorbar\":{\"outlinewidth\":0,\"ticks\":\"\"},\"type\":\"mesh3d\"}],\"parcoords\":[{\"line\":{\"colorbar\":{\"outlinewidth\":0,\"ticks\":\"\"}},\"type\":\"parcoords\"}],\"pie\":[{\"automargin\":true,\"type\":\"pie\"}],\"scatter\":[{\"marker\":{\"colorbar\":{\"outlinewidth\":0,\"ticks\":\"\"}},\"type\":\"scatter\"}],\"scatter3d\":[{\"line\":{\"colorbar\":{\"outlinewidth\":0,\"ticks\":\"\"}},\"marker\":{\"colorbar\":{\"outlinewidth\":0,\"ticks\":\"\"}},\"type\":\"scatter3d\"}],\"scattercarpet\":[{\"marker\":{\"colorbar\":{\"outlinewidth\":0,\"ticks\":\"\"}},\"type\":\"scattercarpet\"}],\"scattergeo\":[{\"marker\":{\"colorbar\":{\"outlinewidth\":0,\"ticks\":\"\"}},\"type\":\"scattergeo\"}],\"scattergl\":[{\"marker\":{\"colorbar\":{\"outlinewidth\":0,\"ticks\":\"\"}},\"type\":\"scattergl\"}],\"scattermapbox\":[{\"marker\":{\"colorbar\":{\"outlinewidth\":0,\"ticks\":\"\"}},\"type\":\"scattermapbox\"}],\"scatterpolar\":[{\"marker\":{\"colorbar\":{\"outlinewidth\":0,\"ticks\":\"\"}},\"type\":\"scatterpolar\"}],\"scatterpolargl\":[{\"marker\":{\"colorbar\":{\"outlinewidth\":0,\"ticks\":\"\"}},\"type\":\"scatterpolargl\"}],\"scatterternary\":[{\"marker\":{\"colorbar\":{\"outlinewidth\":0,\"ticks\":\"\"}},\"type\":\"scatterternary\"}],\"surface\":[{\"colorbar\":{\"outlinewidth\":0,\"ticks\":\"\"},\"colorscale\":[[0.0,\"#0d0887\"],[0.1111111111111111,\"#46039f\"],[0.2222222222222222,\"#7201a8\"],[0.3333333333333333,\"#9c179e\"],[0.4444444444444444,\"#bd3786\"],[0.5555555555555556,\"#d8576b\"],[0.6666666666666666,\"#ed7953\"],[0.7777777777777778,\"#fb9f3a\"],[0.8888888888888888,\"#fdca26\"],[1.0,\"#f0f921\"]],\"type\":\"surface\"}],\"table\":[{\"cells\":{\"fill\":{\"color\":\"#EBF0F8\"},\"line\":{\"color\":\"white\"}},\"header\":{\"fill\":{\"color\":\"#C8D4E3\"},\"line\":{\"color\":\"white\"}},\"type\":\"table\"}]},\"layout\":{\"annotationdefaults\":{\"arrowcolor\":\"#2a3f5f\",\"arrowhead\":0,\"arrowwidth\":1},\"autotypenumbers\":\"strict\",\"coloraxis\":{\"colorbar\":{\"outlinewidth\":0,\"ticks\":\"\"}},\"colorscale\":{\"diverging\":[[0,\"#8e0152\"],[0.1,\"#c51b7d\"],[0.2,\"#de77ae\"],[0.3,\"#f1b6da\"],[0.4,\"#fde0ef\"],[0.5,\"#f7f7f7\"],[0.6,\"#e6f5d0\"],[0.7,\"#b8e186\"],[0.8,\"#7fbc41\"],[0.9,\"#4d9221\"],[1,\"#276419\"]],\"sequential\":[[0.0,\"#0d0887\"],[0.1111111111111111,\"#46039f\"],[0.2222222222222222,\"#7201a8\"],[0.3333333333333333,\"#9c179e\"],[0.4444444444444444,\"#bd3786\"],[0.5555555555555556,\"#d8576b\"],[0.6666666666666666,\"#ed7953\"],[0.7777777777777778,\"#fb9f3a\"],[0.8888888888888888,\"#fdca26\"],[1.0,\"#f0f921\"]],\"sequentialminus\":[[0.0,\"#0d0887\"],[0.1111111111111111,\"#46039f\"],[0.2222222222222222,\"#7201a8\"],[0.3333333333333333,\"#9c179e\"],[0.4444444444444444,\"#bd3786\"],[0.5555555555555556,\"#d8576b\"],[0.6666666666666666,\"#ed7953\"],[0.7777777777777778,\"#fb9f3a\"],[0.8888888888888888,\"#fdca26\"],[1.0,\"#f0f921\"]]},\"colorway\":[\"#636efa\",\"#EF553B\",\"#00cc96\",\"#ab63fa\",\"#FFA15A\",\"#19d3f3\",\"#FF6692\",\"#B6E880\",\"#FF97FF\",\"#FECB52\"],\"font\":{\"color\":\"#2a3f5f\"},\"geo\":{\"bgcolor\":\"white\",\"lakecolor\":\"white\",\"landcolor\":\"#E5ECF6\",\"showlakes\":true,\"showland\":true,\"subunitcolor\":\"white\"},\"hoverlabel\":{\"align\":\"left\"},\"hovermode\":\"closest\",\"mapbox\":{\"style\":\"light\"},\"paper_bgcolor\":\"white\",\"plot_bgcolor\":\"#E5ECF6\",\"polar\":{\"angularaxis\":{\"gridcolor\":\"white\",\"linecolor\":\"white\",\"ticks\":\"\"},\"bgcolor\":\"#E5ECF6\",\"radialaxis\":{\"gridcolor\":\"white\",\"linecolor\":\"white\",\"ticks\":\"\"}},\"scene\":{\"xaxis\":{\"backgroundcolor\":\"#E5ECF6\",\"gridcolor\":\"white\",\"gridwidth\":2,\"linecolor\":\"white\",\"showbackground\":true,\"ticks\":\"\",\"zerolinecolor\":\"white\"},\"yaxis\":{\"backgroundcolor\":\"#E5ECF6\",\"gridcolor\":\"white\",\"gridwidth\":2,\"linecolor\":\"white\",\"showbackground\":true,\"ticks\":\"\",\"zerolinecolor\":\"white\"},\"zaxis\":{\"backgroundcolor\":\"#E5ECF6\",\"gridcolor\":\"white\",\"gridwidth\":2,\"linecolor\":\"white\",\"showbackground\":true,\"ticks\":\"\",\"zerolinecolor\":\"white\"}},\"shapedefaults\":{\"line\":{\"color\":\"#2a3f5f\"}},\"ternary\":{\"aaxis\":{\"gridcolor\":\"white\",\"linecolor\":\"white\",\"ticks\":\"\"},\"baxis\":{\"gridcolor\":\"white\",\"linecolor\":\"white\",\"ticks\":\"\"},\"bgcolor\":\"#E5ECF6\",\"caxis\":{\"gridcolor\":\"white\",\"linecolor\":\"white\",\"ticks\":\"\"}},\"title\":{\"x\":0.05},\"xaxis\":{\"automargin\":true,\"gridcolor\":\"white\",\"linecolor\":\"white\",\"ticks\":\"\",\"title\":{\"standoff\":15},\"zerolinecolor\":\"white\",\"zerolinewidth\":2},\"yaxis\":{\"automargin\":true,\"gridcolor\":\"white\",\"linecolor\":\"white\",\"ticks\":\"\",\"title\":{\"standoff\":15},\"zerolinecolor\":\"white\",\"zerolinewidth\":2}}}},                        {\"responsive\": true}                    ).then(function(){\n",
       "                            \n",
       "var gd = document.getElementById('3c09c0a2-d4dd-4dce-9965-061f77c3ca15');\n",
       "var x = new MutationObserver(function (mutations, observer) {{\n",
       "        var display = window.getComputedStyle(gd).display;\n",
       "        if (!display || display === 'none') {{\n",
       "            console.log([gd, 'removed!']);\n",
       "            Plotly.purge(gd);\n",
       "            observer.disconnect();\n",
       "        }}\n",
       "}});\n",
       "\n",
       "// Listen for the removal of the full notebook cells\n",
       "var notebookContainer = gd.closest('#notebook-container');\n",
       "if (notebookContainer) {{\n",
       "    x.observe(notebookContainer, {childList: true});\n",
       "}}\n",
       "\n",
       "// Listen for the clearing of the current output cell\n",
       "var outputEl = gd.closest('.output');\n",
       "if (outputEl) {{\n",
       "    x.observe(outputEl, {childList: true});\n",
       "}}\n",
       "\n",
       "                        })                };                });            </script>        </div>"
      ]
     },
     "metadata": {},
     "output_type": "display_data"
    }
   ],
   "source": [
    "summary_df = netdf_df[( netdf_df['rank_desc'] == 1 ) &\\\n",
    "                        (~netdf_df['chain'].str.contains('borrowed')) &\\\n",
    "                        (~netdf_df['chain'].str.contains('staking'))  \n",
    "                        ]\n",
    "summary_df = summary_df.sort_values(by='cumul_net_dollar_flow',ascending=False)\n",
    "summary_df['pct_of_tvl'] = 100* summary_df['net_dollar_flow'] / summary_df['usd_value']\n",
    "summary_df['flow_direction'] = np.where(summary_df['cumul_net_dollar_flow']>=0,1,-1)\n",
    "summary_df['abs_cumul_net_dollar_flow'] = abs(summary_df['cumul_net_dollar_flow'])\n",
    "# display(summary_df)\n",
    "fig = px.treemap(summary_df[summary_df['abs_cumul_net_dollar_flow'] !=0], \\\n",
    "                 path=[px.Constant(\"all\"), 'chain', 'protocol'], \\\n",
    "#                  path=[px.Constant(\"all\"), 'token', 'chain', 'protocol'], \\\n",
    "                 values='abs_cumul_net_dollar_flow', color='flow_direction'\n",
    "#                 ,color_discrete_map={'-1':'red', '1':'green'})\n",
    "                ,color_continuous_scale='Spectral'\n",
    "                )\n",
    "# fig.data[0].textinfo = 'label+text+value'\n",
    "fig.update_traces(root_color=\"lightgrey\")\n",
    "fig.update_layout(margin = dict(t=50, l=25, r=25, b=25))\n",
    "# fig.update_layout(tickprefix = '$')\n",
    "fig.show()"
   ]
  },
  {
   "cell_type": "code",
   "execution_count": 37,
   "id": "546e13b8",
   "metadata": {},
   "outputs": [],
   "source": [
    "# netdf_df_plot = netdf_df[netdf_df['chain']=='Ethereum']\n",
    "\n",
    "# fig = px.line(netdf_df_plot, x=\"date\", y=\"net_dollar_flow\", color=\"protocol\", \\\n",
    "#              title=\"Daily Net Dollar Flow since Program Announcement\",\\\n",
    "#             labels={\n",
    "#                      \"date\": \"Day\",\n",
    "#                      \"net_dollar_flow\": \"Net Dollar Flow (N$F)\"\n",
    "#                  }\n",
    "#             )\n",
    "# fig.update_layout(\n",
    "#     legend_title=\"App Name\"\n",
    "# )\n",
    "# fig.update_layout(yaxis_tickprefix = '$')\n",
    "# fig.show()\n",
    "\n",
    "# # cumul_fig = px.area(netdf_df, x=\"date\", y=\"cumul_net_dollar_flow\", color=\"protocol\", \\\n",
    "# #              title=\"Cumulative Dollar Flow since Program Announcement\",\\\n",
    "# #                    labels={\n",
    "# #                      \"date\": \"Day\",\n",
    "# #                      \"cumul_net_dollar_flow\": \"Cumulative Net Dollar Flow (N$F)\"\n",
    "# #                  }\n",
    "# #             ,areamode='group')\n",
    "# # cumul_fig.update_layout(yaxis_tickprefix = '$')\n",
    "# # cumul_fig.show()\n",
    "\n",
    "\n",
    "# cumul_fig = go.Figure()\n",
    "# proto_names = netdf_df_plot['protocol'].drop_duplicates()\n",
    "# print(proto_names)\n",
    "# for p in proto_names:\n",
    "#     cumul_fig.add_trace(go.Scatter(x=netdf_df_plot[netdf_df_plot['protocol'] == p]['date'] \\\n",
    "#                                    , y=netdf_df_plot[netdf_df_plot['protocol'] == p]['cumul_net_dollar_flow'] \\\n",
    "#                                     ,name = p\\\n",
    "#                                   ,fill='tozeroy')) # fill down to xaxis\n",
    "\n",
    "# cumul_fig.update_layout(yaxis_tickprefix = '$')\n",
    "# cumul_fig.update_layout(\n",
    "#     title=\"Cumulative Dollar Flow since Program Announcement\",\n",
    "#     xaxis_title=\"Day\",\n",
    "#     yaxis_title=\"Cumulative Net Dollar Flow (N$F)\",\n",
    "#     legend_title=\"App Name\",\n",
    "# #     color_discrete_map=px.colors.qualitative.G10\n",
    "# )\n",
    "# cumul_fig.show()"
   ]
  }
 ],
 "metadata": {
  "kernelspec": {
   "display_name": "Python 3 (ipykernel)",
   "language": "python",
   "name": "python3"
  },
  "language_info": {
   "codemirror_mode": {
    "name": "ipython",
    "version": 3
   },
   "file_extension": ".py",
   "mimetype": "text/x-python",
   "name": "python",
   "nbconvert_exporter": "python",
   "pygments_lexer": "ipython3",
   "version": "3.9.7"
  }
 },
 "nbformat": 4,
 "nbformat_minor": 5
}
