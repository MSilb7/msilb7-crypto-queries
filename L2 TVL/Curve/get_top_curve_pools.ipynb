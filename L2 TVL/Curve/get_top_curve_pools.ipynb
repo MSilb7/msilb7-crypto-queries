{
 "cells": [
  {
   "cell_type": "code",
   "execution_count": null,
   "metadata": {},
   "outputs": [],
   "source": [
    "from subgrounds.subgrounds import Subgrounds\n",
    "from subgrounds.pagination import ShallowStrategy\n",
    "import pandas as pd\n",
    "import requests as r\n",
    "import sys\n",
    "sys.path.append('../')\n",
    "import defillama_utils as dfl\n",
    "import optimism_pool_tvls as tvls\n",
    "from datetime import timedelta\n",
    "import time\n",
    "import os"
   ]
  },
  {
   "attachments": {},
   "cell_type": "markdown",
   "metadata": {},
   "source": [
    "### Data Sources\n",
    "- Messari Subgraphs: [https://thegraph.com/hosted-service/subgraph/messari/curve-finance-ethereum](https://thegraph.com/hosted-service/subgraph/messari/curve-finance-ethereum)"
   ]
  },
  {
   "cell_type": "code",
   "execution_count": null,
   "metadata": {},
   "outputs": [],
   "source": [
    "chain_list = ['arbitrum','aurora','avalanche','ethereum',\\\n",
    "        'fantom','gnosis','harmony','moonbeam','optimism','polygon']\n",
    "trailing_num_days = 180\n",
    "start_time = pd.to_datetime(\"today\") - timedelta(days = trailing_num_days)\n",
    "start_time = int( time.mktime(start_time.timetuple()) )\n",
    "\n",
    "# def get_messari_sg_pool_snapshots(slug, chains, min_ts, max_ts):\n",
    "get_curve = tvls.get_messari_sg_pool_snapshots('curve-finance',chain_list,start_time)\n"
   ]
  },
  {
   "attachments": {},
   "cell_type": "markdown",
   "metadata": {},
   "source": [
    "### Export and Show"
   ]
  },
  {
   "cell_type": "code",
   "execution_count": null,
   "metadata": {},
   "outputs": [],
   "source": [
    "if not os.path.exists('csv_outputs'):\n",
    "    os.makedirs('csv_outputs')\n",
    "get_curve.to_csv('csv_outputs/curve_snapshot_data.csv')\n",
    "# display(get_curve)"
   ]
  },
  {
   "cell_type": "code",
   "execution_count": null,
   "metadata": {},
   "outputs": [],
   "source": [
    "# group by the specified columns\n",
    "grouped = get_curve.sort_values(by='timestamp', ascending=False)\\\n",
    "                  .groupby(['protocol_network', 'pool_id', 'pool_name', 'pool_symbol'])\n",
    "\n",
    "# perform the desired aggregations\n",
    "aggregated = grouped.agg({'totalValueLockedUSD': 'first', 'dailyVolumeUSD': 'mean', 'timestamp':'nunique'})\n",
    "\n",
    "aggregated = aggregated.rename(columns={'totalValueLockedUSD':'latest_tvl_usd'\n",
    "                                        ,'dailyVolumeUSD':'avg_daily_volume_usd'\n",
    "                                        ,'timestamp':'days_of_trading'})\n",
    "\n",
    "# reset the index\n",
    "aggregated = aggregated.reset_index()\n",
    "\n",
    "aggregated = aggregated[aggregated['pool_id'] != 0]\n",
    "\n",
    "display(aggregated)\n",
    "aggregated.to_csv('csv_outputs/curve_aggregated_data.csv')"
   ]
  },
  {
   "cell_type": "code",
   "execution_count": null,
   "metadata": {},
   "outputs": [],
   "source": []
  }
 ],
 "metadata": {
  "kernelspec": {
   "display_name": "new-env",
   "language": "python",
   "name": "python3"
  },
  "language_info": {
   "codemirror_mode": {
    "name": "ipython",
    "version": 3
   },
   "file_extension": ".py",
   "mimetype": "text/x-python",
   "name": "python",
   "nbconvert_exporter": "python",
   "pygments_lexer": "ipython3",
   "version": "3.10.9"
  },
  "orig_nbformat": 4,
  "vscode": {
   "interpreter": {
    "hash": "7d537a1638226190f579d6fbb68604c1b09ebc740a69df557abedb49ad78e592"
   }
  }
 },
 "nbformat": 4,
 "nbformat_minor": 2
}
