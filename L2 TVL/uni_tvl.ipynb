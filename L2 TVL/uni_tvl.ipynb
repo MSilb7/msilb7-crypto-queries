{
 "cells": [
  {
   "cell_type": "code",
   "execution_count": null,
   "metadata": {},
   "outputs": [],
   "source": [
    "import requests as r\n",
    "import pandas as pd\n",
    "import numpy as np\n",
    "from datetime import datetime, timedelta, date, timezone\n",
    "import plotly.express as px\n",
    "import plotly.graph_objects as go\n",
    "\n",
    "endpoint_eth = 'https://api.thegraph.com/subgraphs/name/uniswap/uniswap-v3'\n",
    "endpoint_op = 'https://api.thegraph.com/subgraphs/name/ianlapham/optimism-post-regenesis'\n",
    "endpoint_arbi = 'https://api.thegraph.com/subgraphs/name/ianlapham/arbitrum-dev'\n",
    "endpoint_poly = 'https://api.thegraph.com/subgraphs/name/ianlapham/uniswap-v3-polygon'\n",
    "#headers = {'User-Agent': 'Mozilla/5.0 (Macintosh; Intel Mac OS X 10_11_5) AppleWebKit/537.36 (KHTML, like Gecko) Chrome/50.0.2661.102 Safari/537.36'}\n",
    "headers = {'user-agent': 'Mozilla/5.0 (Macintosh; Intel Mac OS X 10.9; rv:32.0) Gecko/20100101 Firefox/32.0',}\n",
    "\n",
    "trailing_days = 365\n",
    "chain = 'optimism'"
   ]
  },
  {
   "cell_type": "code",
   "execution_count": null,
   "metadata": {},
   "outputs": [],
   "source": [
    "\n",
    "\n",
    "if chain =='ethereum':\n",
    "        endpoint = endpoint_eth\n",
    "        strf = 'eth'\n",
    "elif chain =='optimism':\n",
    "        endpoint = endpoint_op\n",
    "        strf = 'op'\n",
    "elif chain =='arbitrum':\n",
    "        endpoint = endpoint_arbi\n",
    "        strf = 'arbi'\n",
    "\n",
    "start_date = date.today()-timedelta(days=trailing_days +1)\n",
    "end_date = date.today()\n",
    "\n",
    "# start_dt = start_date.timestamp()\n",
    "start_dt = int( ( start_date - date(1970,1,1) ) / timedelta(seconds=1) )\n",
    "end_dt = int( ( end_date - date(1970,1,1) ) / timedelta(seconds=1) )\n",
    "\n",
    "print(start_date)\n",
    "print(start_dt)\n",
    "print(end_dt)"
   ]
  },
  {
   "cell_type": "code",
   "execution_count": null,
   "metadata": {},
   "outputs": [],
   "source": [
    "# skip = 0\n",
    "# first = 1000\n",
    "last_id = ''\n",
    "dflist = []\n",
    "is_response = 1\n",
    "\n",
    "while is_response == 1:\n",
    "  qlq = \"\"\"\n",
    "  {\n",
    "    pools(first:1000@id_gt@) {\n",
    "      id\n",
    "      token0 {\n",
    "        symbol\n",
    "      }\n",
    "      token1 {\n",
    "        symbol\n",
    "      }\n",
    "      feeTier\n",
    "      txCount\n",
    "      feesUSD\n",
    "      totalValueLockedUSD\n",
    "      poolDayData(where:{date_gt:@start_dt@, date_lt:@end_dt@}) {\n",
    "        id\n",
    "        date\n",
    "        volumeUSD\n",
    "        feesUSD\n",
    "      }\n",
    "    }\n",
    "\n",
    "  }\n",
    "  \"\"\"\n",
    "  #feesUSD_gt:0, orderBy: totalValueLockedUSD, orderDirection: desc\n",
    "  #, orderBy: id, orderDirection: asc\n",
    "  # qlq = qlq.replace('@first@',str(first))\n",
    "  # qlq = qlq.replace('@skip@',str(skip))\n",
    "  if last_id =='':\n",
    "    qlq = qlq.replace('@id_gt@' , '')\n",
    "  else:\n",
    "    qlq = qlq.replace('@id_gt@' , ', where: {id_gt:\\\"@last_id@\\\"}')\n",
    "    qlq = qlq.replace('@last_id@' , last_id)\n",
    "\n",
    "  qlq = qlq.replace('@start_dt@',str(start_dt))\n",
    "  qlq = qlq.replace('@end_dt@',str(end_dt))\n",
    "\n",
    "  response = r.post(endpoint, json={'query': qlq})\n",
    "  # print(response)\n",
    "    \n",
    "  if response.status_code != 200:\n",
    "    is_response = 0\n",
    "  else:\n",
    "    try:\n",
    "      rjs = pd.DataFrame(response.json()['data']['pools'])\n",
    "      dflist.append(rjs)\n",
    "      last_id = rjs.iloc[-1]['id']\n",
    "      print(last_id)\n",
    "      # print(skip)\n",
    "      # skip = skip + first\n",
    "    except:\n",
    "      break"
   ]
  },
  {
   "cell_type": "code",
   "execution_count": null,
   "metadata": {},
   "outputs": [],
   "source": [
    "print(response)\n",
    "# print(qlq)\n",
    "# print(dflist)"
   ]
  },
  {
   "cell_type": "code",
   "execution_count": null,
   "metadata": {},
   "outputs": [],
   "source": [
    "# data = {\"query\" : qlq}\n",
    "# response = r.post(url=endpoint, headers=headers, data=data)\n",
    "\n",
    "\n",
    "# print(rjs)\n",
    "df = pd.concat(dflist)\n",
    "print(len(df))\n",
    "df.reset_index(inplace=True,drop=True)\n",
    "\n",
    "df['totalValueLockedUSD'] = df['totalValueLockedUSD'].astype(np.float64)\n",
    "df['feesUSD'] = df['feesUSD'].astype(np.float64)\n",
    "df['feeTier'] = df['feeTier'].astype(np.float64)\n",
    "\n",
    "\n"
   ]
  },
  {
   "cell_type": "code",
   "execution_count": null,
   "metadata": {},
   "outputs": [],
   "source": [
    "display(df['poolDayData'])"
   ]
  },
  {
   "cell_type": "code",
   "execution_count": null,
   "metadata": {},
   "outputs": [],
   "source": [
    "# df = pd.DataFrame(df).head(3)\n",
    "\n",
    "for index, row in df.iterrows():\n",
    "    tdf = pd.DataFrame(row['poolDayData'])\n",
    "    try:\n",
    "        # print(tdf)\n",
    "        tdf['feesUSD'] = tdf['feesUSD'].astype(np.float64)\n",
    "        tdf['volumeUSD'] = tdf['volumeUSD'].astype(np.float64)\n",
    "        # print('weee')\n",
    "        fees_90 = tdf['feesUSD'].sum()\n",
    "        volume_90  = tdf['volumeUSD'].sum()\n",
    "        # display(tdf)\n",
    "        # print(fees_90)\n",
    "        df.loc[index,'fees_usd_t90d'] = fees_90\n",
    "        df.loc[index,'volume_usd_t90d'] = volume_90\n",
    "    except:\n",
    "        # print(tdf)\n",
    "        continue\n",
    "\n",
    "# df3 = pd.json_normalize(df3['poolDayData'])\n",
    "print(\"total volume \" + str(df['volume_usd_t90d'].sum()))\n",
    "# df['totalValueLockedUSD'] = df['totalValueLockedUSD'].astype(np.float64)\n",
    "# df['feesUSD'] = df['feesUSD'].astype(np.float64)\n",
    "# df['feeTier'] = df['feeTier'].astype(np.float64)\n",
    "# pd.json_normalize(df['poolDayData'])\n",
    "df = df[df['totalValueLockedUSD'] > 0]\n",
    "display(df.sort_values('totalValueLockedUSD', ascending = False))"
   ]
  },
  {
   "cell_type": "code",
   "execution_count": null,
   "metadata": {},
   "outputs": [],
   "source": [
    "#exclude known spam pair\n",
    "# print(len(df))\n",
    "# print(df['totalValueLockedUSD'].sum())\n",
    "df = df[df['id'] != '0xa850478adaace4c08fc61de44d8cf3b64f359bec'] #UMIIE/UMIIE2\n",
    "# print(df['totalValueLockedUSD'].sum())\n",
    "\n",
    "df = df[df['totalValueLockedUSD'] > 0]\n",
    "# display(df)\n",
    "# print(len(df))\n",
    "\n",
    "total_tvl = df['totalValueLockedUSD'].sum()\n",
    "#filter df to only fee-generating pools\n",
    "df = df[df['feesUSD']>0]\n",
    "# print(len(df))\n",
    "fee_generating_tvl = df['totalValueLockedUSD'].sum()\n",
    "print(total_tvl)\n",
    "print(fee_generating_tvl)\n",
    "df.drop(columns=['poolDayData','txCount','feesUSD'],inplace=True)"
   ]
  },
  {
   "cell_type": "code",
   "execution_count": null,
   "metadata": {},
   "outputs": [],
   "source": [
    "df.reset_index(inplace=True,drop=True)\n",
    "# df['token0'] = df['token0'].apply(lambda x: pd.json_normalize(x))\n",
    "df['token0'] = pd.json_normalize(df['token0'])\n",
    "df['token1'] = pd.json_normalize(df['token1'])\n",
    "df['feeTier'] = df['feeTier'] / 1e6\n",
    "\n",
    "# df = df.json_normalize()\n",
    "\n",
    "# total_tvl = 12_660_000_000 #12.6 bil - eventually find how to actually pull this\n",
    "# total_tvl = 5_520_000_000 #12.6 bil - eventually find how to actually pull this\n",
    "df['tvl_share'] = df['totalValueLockedUSD'] / total_tvl\n",
    "df['pool'] = df['token0'] + '/' + df['token1'] + ' - ' + (df['feeTier'].astype(np.float64)*100).astype(str) + '%'\n",
    "display(df.sort_values('totalValueLockedUSD', ascending = False))\n"
   ]
  },
  {
   "cell_type": "code",
   "execution_count": null,
   "metadata": {},
   "outputs": [],
   "source": [
    "df['fee_apr_plus10m'] = ( df['fees_usd_t90d']*(365/90) ) / (df['totalValueLockedUSD'] + 10_000_000)\n",
    "df.fillna(0,inplace=True)\n",
    "display(df.sort_values('totalValueLockedUSD', ascending = False))\n",
    "df = df.sort_values('totalValueLockedUSD', ascending = False)\n",
    "df.reset_index(inplace=True,drop=True)\n",
    "df.to_csv('uni_tvl_share' + strf + '.csv')"
   ]
  },
  {
   "cell_type": "code",
   "execution_count": null,
   "metadata": {},
   "outputs": [],
   "source": [
    "fig_app = px.treemap(df[df['fees_usd_t90d']>100], \\\n",
    "                        path=[px.Constant(\"all\"), 'pool'], \\\n",
    "                 values='totalValueLockedUSD', color='fee_apr_plus10m'#color='fees_usd_t90d'\n",
    "#                 ,color_discrete_map={'-1':'red', '1':'green'})\n",
    "                ,color_continuous_scale='BuGn'\n",
    "                )\n",
    "# fig.data[0].textinfo = 'label+text+value'\n",
    "fig_app.update_traces(root_color=\"lightgrey\")\n",
    "fig_app.update_layout(margin = dict(t=50, l=25, r=25, b=25))\n",
    "fig_app.show()"
   ]
  }
 ],
 "metadata": {
  "kernelspec": {
   "display_name": "Python 3.9.13 ('base')",
   "language": "python",
   "name": "python3"
  },
  "language_info": {
   "codemirror_mode": {
    "name": "ipython",
    "version": 3
   },
   "file_extension": ".py",
   "mimetype": "text/x-python",
   "name": "python",
   "nbconvert_exporter": "python",
   "pygments_lexer": "ipython3",
   "version": "3.9.13"
  },
  "orig_nbformat": 4,
  "vscode": {
   "interpreter": {
    "hash": "17c021eea7371cec353b12daa8dd7517ddfe82cfa4c2626e1e7d1541ccab7c49"
   }
  }
 },
 "nbformat": 4,
 "nbformat_minor": 2
}
