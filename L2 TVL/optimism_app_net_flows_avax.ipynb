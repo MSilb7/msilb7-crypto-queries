{
 "cells": [
  {
   "cell_type": "code",
   "execution_count": 13,
   "id": "9104321f",
   "metadata": {},
   "outputs": [],
   "source": [
    "# ! pip install pandas\n",
    "# ! pip install requests\n",
    "# ! pip install plotly\n",
    "# ! pip install datetime\n",
    "# ! pip install os\n",
    "# ! pip freeze = requirements.txt"
   ]
  },
  {
   "cell_type": "code",
   "execution_count": 14,
   "id": "ffefb42a",
   "metadata": {},
   "outputs": [],
   "source": [
    "import pandas as pd\n",
    "import requests as r\n",
    "import plotly.express as px\n",
    "import plotly.graph_objects as go\n",
    "from datetime import datetime, timedelta\n",
    "import numpy as np\n",
    "import os\n",
    "import time"
   ]
  },
  {
   "cell_type": "code",
   "execution_count": 15,
   "id": "1015ba20",
   "metadata": {},
   "outputs": [],
   "source": [
    "pwd = os.getcwd()\n",
    "if 'L2 TVL' in pwd:\n",
    "    prepend = ''\n",
    "else:\n",
    "    prepend = 'L2 TVL/'"
   ]
  },
  {
   "cell_type": "code",
   "execution_count": 16,
   "id": "d3399236",
   "metadata": {},
   "outputs": [
    {
     "name": "stdout",
     "output_type": "stream",
     "text": [
      "https://api.llama.fi/protocol/aave-v3\n"
     ]
    }
   ],
   "source": [
    "\n",
    "api_str = 'https://api.llama.fi/protocol/'\n",
    "\n",
    "# Protocol Incentive Start Dates\n",
    "# NOTE: This should be when the in-app incentives began, not any external incentives (i.e. DEX pools)\n",
    "protocols = [\n",
    "    # name, incentive start date\n",
    "        #  ['velodrome',          '2022-07-13']\n",
    "        # ,['pooltogether',       '2022-07-14']\n",
    "        # ,['lyra',               '2022-08-02']\n",
    "        # ,['rubicon',            '2022-07-15']\n",
    "        # ,['perpetual-protocol', '2022-07-14']\n",
    "        # ,['thales',             '2022-07-14'] #TVL not relevant\n",
    "        ['aave-v3',            '2022-01-01']\n",
    "        # ,['wepiggy',            '2022-08-03']\n",
    "        # ,['stargate',           '2022-08-05']\n",
    "        # ,['pika-protocol',      '2022-08-29']\n",
    "        # ,['synthetix',          '2022-08-25'] #This is when Curve incentives started, so not really 1:1\n",
    "        # ,['pickle',             '2022-09-09']\n",
    "        # ,['aelin',              '2022-09-12']\n",
    "        # ,['polynomial-protocol','2022-09-14']\n",
    "        # ,['xtoken',             '2022-09-19']\n",
    "        # ,['hop-protocol',       '2022-09-22']\n",
    "        # ,['beethoven-x',        '2022-09-29']\n",
    "        # ,['uniswap-v3',         '2022-10-26']\n",
    "        # ,['arrakis-finance',    '2022-10-26']\n",
    "        # ,['gamma',              '2022-10-26']\n",
    "        ]\n",
    "# print(protocols[0])\n",
    "prod = []\n",
    "s = r.Session()\n",
    "\n",
    "for prot in protocols:\n",
    "    print(api_str + prot[0])\n",
    "    try:\n",
    "        tp = s.get(api_str + prot[0]).json()['chainTvls']['Avalanche']\n",
    "        ad = pd.json_normalize( tp['tokens'] )\n",
    "        ad_usd = pd.json_normalize( tp['tokensInUsd'] )\n",
    "        if not ad.empty:\n",
    "            ad = pd.melt(ad,id_vars = ['date'])\n",
    "            ad = ad.rename(columns={'variable':'token','value':'token_value'})\n",
    "            ad_usd = pd.melt(ad_usd,id_vars = ['date'])\n",
    "            ad_usd = ad_usd.rename(columns={'variable':'token','value':'usd_value'})\n",
    "            ad = ad.merge(ad_usd,on=['date','token'])\n",
    "            \n",
    "            ad['date'] = pd.to_datetime(ad['date'], unit ='s') #convert to days\n",
    "\n",
    "            ad['token'] = ad['token'].str.replace('tokens.','', regex=False)\n",
    "            ad['protocol'] = prot[0]\n",
    "            ad['start_date'] = pd.to_datetime(prot[1])\n",
    "            # ad['date'] = ad['date'] - timedelta(days=1) #change to eod vs sod\n",
    "            prod.append(ad)\n",
    "            time.sleep(0.5)\n",
    "    except:\n",
    "        continue\n",
    "\n",
    "df_df = pd.concat(prod)"
   ]
  },
  {
   "cell_type": "code",
   "execution_count": 26,
   "id": "d5ccb210",
   "metadata": {},
   "outputs": [
    {
     "data": {
      "text/html": [
       "<div>\n",
       "<style scoped>\n",
       "    .dataframe tbody tr th:only-of-type {\n",
       "        vertical-align: middle;\n",
       "    }\n",
       "\n",
       "    .dataframe tbody tr th {\n",
       "        vertical-align: top;\n",
       "    }\n",
       "\n",
       "    .dataframe thead th {\n",
       "        text-align: right;\n",
       "    }\n",
       "</style>\n",
       "<table border=\"1\" class=\"dataframe\">\n",
       "  <thead>\n",
       "    <tr style=\"text-align: right;\">\n",
       "      <th></th>\n",
       "      <th>date</th>\n",
       "      <th>token</th>\n",
       "      <th>token_value</th>\n",
       "      <th>usd_value</th>\n",
       "      <th>protocol</th>\n",
       "      <th>start_date</th>\n",
       "    </tr>\n",
       "  </thead>\n",
       "  <tbody>\n",
       "    <tr>\n",
       "      <th>0</th>\n",
       "      <td>2022-03-14 00:00:00</td>\n",
       "      <td>DAI</td>\n",
       "      <td>1.00000</td>\n",
       "      <td>1.001000e+00</td>\n",
       "      <td>aave-v3</td>\n",
       "      <td>2022-01-01</td>\n",
       "    </tr>\n",
       "    <tr>\n",
       "      <th>1</th>\n",
       "      <td>2022-03-15 00:00:00</td>\n",
       "      <td>DAI</td>\n",
       "      <td>1.00000</td>\n",
       "      <td>9.988600e-01</td>\n",
       "      <td>aave-v3</td>\n",
       "      <td>2022-01-01</td>\n",
       "    </tr>\n",
       "    <tr>\n",
       "      <th>2</th>\n",
       "      <td>2022-03-16 00:00:00</td>\n",
       "      <td>DAI</td>\n",
       "      <td>1.00000</td>\n",
       "      <td>9.978300e-01</td>\n",
       "      <td>aave-v3</td>\n",
       "      <td>2022-01-01</td>\n",
       "    </tr>\n",
       "    <tr>\n",
       "      <th>3</th>\n",
       "      <td>2022-03-17 00:00:00</td>\n",
       "      <td>DAI</td>\n",
       "      <td>3.00000</td>\n",
       "      <td>2.999670e+00</td>\n",
       "      <td>aave-v3</td>\n",
       "      <td>2022-01-01</td>\n",
       "    </tr>\n",
       "    <tr>\n",
       "      <th>4</th>\n",
       "      <td>2022-03-18 00:00:00</td>\n",
       "      <td>DAI</td>\n",
       "      <td>10722.61585</td>\n",
       "      <td>1.072262e+04</td>\n",
       "      <td>aave-v3</td>\n",
       "      <td>2022-01-01</td>\n",
       "    </tr>\n",
       "    <tr>\n",
       "      <th>...</th>\n",
       "      <td>...</td>\n",
       "      <td>...</td>\n",
       "      <td>...</td>\n",
       "      <td>...</td>\n",
       "      <td>...</td>\n",
       "      <td>...</td>\n",
       "    </tr>\n",
       "    <tr>\n",
       "      <th>4211</th>\n",
       "      <td>2022-11-12 00:00:00</td>\n",
       "      <td>BTC.B</td>\n",
       "      <td>1969.58570</td>\n",
       "      <td>3.319256e+07</td>\n",
       "      <td>aave-v3</td>\n",
       "      <td>2022-01-01</td>\n",
       "    </tr>\n",
       "    <tr>\n",
       "      <th>4212</th>\n",
       "      <td>2022-11-13 00:00:00</td>\n",
       "      <td>BTC.B</td>\n",
       "      <td>2011.92925</td>\n",
       "      <td>3.365610e+07</td>\n",
       "      <td>aave-v3</td>\n",
       "      <td>2022-01-01</td>\n",
       "    </tr>\n",
       "    <tr>\n",
       "      <th>4213</th>\n",
       "      <td>2022-11-14 00:00:00</td>\n",
       "      <td>BTC.B</td>\n",
       "      <td>1980.18380</td>\n",
       "      <td>3.207025e+07</td>\n",
       "      <td>aave-v3</td>\n",
       "      <td>2022-01-01</td>\n",
       "    </tr>\n",
       "    <tr>\n",
       "      <th>4214</th>\n",
       "      <td>2022-11-15 00:00:00</td>\n",
       "      <td>BTC.B</td>\n",
       "      <td>1333.06833</td>\n",
       "      <td>2.217900e+07</td>\n",
       "      <td>aave-v3</td>\n",
       "      <td>2022-01-01</td>\n",
       "    </tr>\n",
       "    <tr>\n",
       "      <th>4215</th>\n",
       "      <td>2022-11-15 22:59:35</td>\n",
       "      <td>BTC.B</td>\n",
       "      <td>1366.18237</td>\n",
       "      <td>2.304511e+07</td>\n",
       "      <td>aave-v3</td>\n",
       "      <td>2022-01-01</td>\n",
       "    </tr>\n",
       "  </tbody>\n",
       "</table>\n",
       "<p>4216 rows × 6 columns</p>\n",
       "</div>"
      ],
      "text/plain": [
       "                    date  token  token_value     usd_value protocol start_date\n",
       "0    2022-03-14 00:00:00    DAI      1.00000  1.001000e+00  aave-v3 2022-01-01\n",
       "1    2022-03-15 00:00:00    DAI      1.00000  9.988600e-01  aave-v3 2022-01-01\n",
       "2    2022-03-16 00:00:00    DAI      1.00000  9.978300e-01  aave-v3 2022-01-01\n",
       "3    2022-03-17 00:00:00    DAI      3.00000  2.999670e+00  aave-v3 2022-01-01\n",
       "4    2022-03-18 00:00:00    DAI  10722.61585  1.072262e+04  aave-v3 2022-01-01\n",
       "...                  ...    ...          ...           ...      ...        ...\n",
       "4211 2022-11-12 00:00:00  BTC.B   1969.58570  3.319256e+07  aave-v3 2022-01-01\n",
       "4212 2022-11-13 00:00:00  BTC.B   2011.92925  3.365610e+07  aave-v3 2022-01-01\n",
       "4213 2022-11-14 00:00:00  BTC.B   1980.18380  3.207025e+07  aave-v3 2022-01-01\n",
       "4214 2022-11-15 00:00:00  BTC.B   1333.06833  2.217900e+07  aave-v3 2022-01-01\n",
       "4215 2022-11-15 22:59:35  BTC.B   1366.18237  2.304511e+07  aave-v3 2022-01-01\n",
       "\n",
       "[4216 rows x 6 columns]"
      ]
     },
     "metadata": {},
     "output_type": "display_data"
    }
   ],
   "source": [
    "# df_df\n",
    "df_df = df_df.fillna(0)\n",
    "display(df_df)\n",
    "# display(df_df)\n",
    "# for prot in protocols:\n",
    "#         print( prot[0] )"
   ]
  },
  {
   "cell_type": "code",
   "execution_count": 18,
   "id": "8f9eb8e5",
   "metadata": {},
   "outputs": [],
   "source": [
    "data_df = df_df.copy()#merge(cg_df, on=['date','token'],how='inner')\n",
    "\n",
    "data_df = data_df[data_df['token_value'] > 0]\n",
    "\n",
    "data_df.sort_values(by='date',inplace=True)\n",
    "data_df['token_value'] = data_df['token_value'].replace(0, np.nan)\n",
    "data_df['price_usd'] = data_df['usd_value']/data_df['token_value']\n",
    "\n",
    "data_df['rank_desc'] = data_df.groupby(['protocol', 'token'])['date'].\\\n",
    "                            rank(method='dense',ascending=False).astype(int)\n",
    "\n",
    "data_df.sort_values(by='date',inplace=True)\n",
    "\n",
    "last_df = data_df[data_df['rank_desc'] == 1]\n",
    "last_df = last_df.rename(columns={'price_usd':'last_price_usd'})\n",
    "last_df = last_df[['token','protocol','last_price_usd']]\n",
    "# display(last_df)"
   ]
  },
  {
   "cell_type": "code",
   "execution_count": 19,
   "id": "97ea7ceb",
   "metadata": {},
   "outputs": [],
   "source": [
    "data_df = data_df.merge(last_df, on=['token','protocol'], how='left')\n",
    "\n",
    "data_df['last_token_value'] = data_df.groupby(['token','protocol'])['token_value'].shift(1)\n",
    "data_df['last_price_usd'] = data_df.groupby(['token','protocol'])['price_usd'].shift(1)\n",
    "data_df['last_token_value'] = data_df['last_token_value'].fillna(0)\n",
    "\n",
    "data_df['net_token_flow'] = data_df['token_value'] - data_df['last_token_value']\n",
    "data_df['net_price_change'] = data_df['price_usd'] - data_df['last_price_usd']\n",
    "\n",
    "data_df['net_dollar_flow'] = data_df['net_token_flow'] * data_df['price_usd']\n",
    "data_df['last_price_flow'] = data_df['net_token_flow'] * data_df['last_price_usd']\n",
    "\n",
    "data_df['net_price_stock_change'] = data_df['last_token_value'] * data_df['net_price_change']\n",
    "\n",
    "\n",
    "# display(data_df)"
   ]
  },
  {
   "cell_type": "code",
   "execution_count": 20,
   "id": "d1ae7150",
   "metadata": {},
   "outputs": [
    {
     "data": {
      "text/html": [
       "<div>\n",
       "<style scoped>\n",
       "    .dataframe tbody tr th:only-of-type {\n",
       "        vertical-align: middle;\n",
       "    }\n",
       "\n",
       "    .dataframe tbody tr th {\n",
       "        vertical-align: top;\n",
       "    }\n",
       "\n",
       "    .dataframe thead th {\n",
       "        text-align: right;\n",
       "    }\n",
       "</style>\n",
       "<table border=\"1\" class=\"dataframe\">\n",
       "  <thead>\n",
       "    <tr style=\"text-align: right;\">\n",
       "      <th></th>\n",
       "      <th>date</th>\n",
       "      <th>token</th>\n",
       "      <th>token_value</th>\n",
       "      <th>usd_value</th>\n",
       "      <th>protocol</th>\n",
       "      <th>start_date</th>\n",
       "      <th>price_usd</th>\n",
       "      <th>rank_desc</th>\n",
       "      <th>last_price_usd</th>\n",
       "      <th>last_token_value</th>\n",
       "      <th>net_token_flow</th>\n",
       "      <th>net_price_change</th>\n",
       "      <th>net_dollar_flow</th>\n",
       "      <th>last_price_flow</th>\n",
       "      <th>net_price_stock_change</th>\n",
       "    </tr>\n",
       "  </thead>\n",
       "  <tbody>\n",
       "    <tr>\n",
       "      <th>2074</th>\n",
       "      <td>2022-11-15 22:59:35</td>\n",
       "      <td>avalanche-2</td>\n",
       "      <td>1.517926e+06</td>\n",
       "      <td>2.049200e+07</td>\n",
       "      <td>aave-v3</td>\n",
       "      <td>2022-01-01</td>\n",
       "      <td>13.500000</td>\n",
       "      <td>1</td>\n",
       "      <td>13.070000</td>\n",
       "      <td>1.523649e+06</td>\n",
       "      <td>-5723.15971</td>\n",
       "      <td>0.430000</td>\n",
       "      <td>-77262.656085</td>\n",
       "      <td>-74801.697410</td>\n",
       "      <td>655169.156705</td>\n",
       "    </tr>\n",
       "    <tr>\n",
       "      <th>2075</th>\n",
       "      <td>2022-11-15 22:59:35</td>\n",
       "      <td>FRAX</td>\n",
       "      <td>3.245648e+05</td>\n",
       "      <td>3.245106e+05</td>\n",
       "      <td>aave-v3</td>\n",
       "      <td>2022-01-01</td>\n",
       "      <td>0.999833</td>\n",
       "      <td>1</td>\n",
       "      <td>0.997232</td>\n",
       "      <td>3.257289e+05</td>\n",
       "      <td>-1164.09885</td>\n",
       "      <td>0.002601</td>\n",
       "      <td>-1163.904445</td>\n",
       "      <td>-1160.876624</td>\n",
       "      <td>847.220915</td>\n",
       "    </tr>\n",
       "    <tr>\n",
       "      <th>2076</th>\n",
       "      <td>2022-11-15 22:59:35</td>\n",
       "      <td>LINK</td>\n",
       "      <td>2.615901e+05</td>\n",
       "      <td>1.676793e+06</td>\n",
       "      <td>aave-v3</td>\n",
       "      <td>2022-01-01</td>\n",
       "      <td>6.410000</td>\n",
       "      <td>1</td>\n",
       "      <td>6.320000</td>\n",
       "      <td>2.241202e+05</td>\n",
       "      <td>37469.95566</td>\n",
       "      <td>0.090000</td>\n",
       "      <td>240182.415779</td>\n",
       "      <td>236810.119769</td>\n",
       "      <td>20170.815701</td>\n",
       "    </tr>\n",
       "    <tr>\n",
       "      <th>2077</th>\n",
       "      <td>2022-11-15 22:59:35</td>\n",
       "      <td>SAVAX</td>\n",
       "      <td>8.863347e+05</td>\n",
       "      <td>1.239096e+07</td>\n",
       "      <td>aave-v3</td>\n",
       "      <td>2022-01-01</td>\n",
       "      <td>13.980000</td>\n",
       "      <td>1</td>\n",
       "      <td>13.550000</td>\n",
       "      <td>8.613609e+05</td>\n",
       "      <td>24973.86101</td>\n",
       "      <td>0.430000</td>\n",
       "      <td>349134.576922</td>\n",
       "      <td>338395.816684</td>\n",
       "      <td>370385.177648</td>\n",
       "    </tr>\n",
       "    <tr>\n",
       "      <th>2078</th>\n",
       "      <td>2022-11-15 22:59:35</td>\n",
       "      <td>BTC.B</td>\n",
       "      <td>1.366182e+03</td>\n",
       "      <td>2.304511e+07</td>\n",
       "      <td>aave-v3</td>\n",
       "      <td>2022-01-01</td>\n",
       "      <td>16868.249959</td>\n",
       "      <td>1</td>\n",
       "      <td>16637.559990</td>\n",
       "      <td>1.333068e+03</td>\n",
       "      <td>33.11404</td>\n",
       "      <td>230.689969</td>\n",
       "      <td>558575.903860</td>\n",
       "      <td>550936.827003</td>\n",
       "      <td>307525.491550</td>\n",
       "    </tr>\n",
       "  </tbody>\n",
       "</table>\n",
       "</div>"
      ],
      "text/plain": [
       "                    date        token   token_value     usd_value protocol  \\\n",
       "2074 2022-11-15 22:59:35  avalanche-2  1.517926e+06  2.049200e+07  aave-v3   \n",
       "2075 2022-11-15 22:59:35         FRAX  3.245648e+05  3.245106e+05  aave-v3   \n",
       "2076 2022-11-15 22:59:35         LINK  2.615901e+05  1.676793e+06  aave-v3   \n",
       "2077 2022-11-15 22:59:35        SAVAX  8.863347e+05  1.239096e+07  aave-v3   \n",
       "2078 2022-11-15 22:59:35        BTC.B  1.366182e+03  2.304511e+07  aave-v3   \n",
       "\n",
       "     start_date     price_usd  rank_desc  last_price_usd  last_token_value  \\\n",
       "2074 2022-01-01     13.500000          1       13.070000      1.523649e+06   \n",
       "2075 2022-01-01      0.999833          1        0.997232      3.257289e+05   \n",
       "2076 2022-01-01      6.410000          1        6.320000      2.241202e+05   \n",
       "2077 2022-01-01     13.980000          1       13.550000      8.613609e+05   \n",
       "2078 2022-01-01  16868.249959          1    16637.559990      1.333068e+03   \n",
       "\n",
       "      net_token_flow  net_price_change  net_dollar_flow  last_price_flow  \\\n",
       "2074     -5723.15971          0.430000    -77262.656085    -74801.697410   \n",
       "2075     -1164.09885          0.002601     -1163.904445     -1160.876624   \n",
       "2076     37469.95566          0.090000    240182.415779    236810.119769   \n",
       "2077     24973.86101          0.430000    349134.576922    338395.816684   \n",
       "2078        33.11404        230.689969    558575.903860    550936.827003   \n",
       "\n",
       "      net_price_stock_change  \n",
       "2074           655169.156705  \n",
       "2075              847.220915  \n",
       "2076            20170.815701  \n",
       "2077           370385.177648  \n",
       "2078           307525.491550  "
      ]
     },
     "execution_count": 20,
     "metadata": {},
     "output_type": "execute_result"
    }
   ],
   "source": [
    "# data_df[data_df['protocol']=='perpetual-protocol'].sort_values(by='date')\n",
    "data_df.tail()\n",
    "# data_df[(data_df['protocol'] == 'pooltogether') & (data_df['date'] >= '2022-10-06') & (data_df['date'] <= '2022-10-12')].tail(10)"
   ]
  },
  {
   "cell_type": "code",
   "execution_count": 21,
   "id": "59f3f879",
   "metadata": {},
   "outputs": [],
   "source": [
    "netdf_df = data_df[data_df['date']>= data_df['start_date']][['date','protocol','net_dollar_flow','net_price_stock_change','last_price_flow','usd_value']]\n",
    "\n",
    "\n",
    "netdf_df = netdf_df.groupby(['date','protocol']).sum(['net_dollar_flow','net_price_stock_change','last_price_flow','usd_value'])\n",
    "\n",
    "\n",
    "netdf_df['tvl_change'] = netdf_df['usd_value'] - netdf_df.groupby(['protocol'])['usd_value'].shift(1)\n",
    "netdf_df['error'] = netdf_df['tvl_change'] - (netdf_df['net_dollar_flow'] + netdf_df['net_price_stock_change'])\n",
    "\n",
    "\n",
    "netdf_df['cumul_net_dollar_flow'] = netdf_df['net_dollar_flow'].groupby(['protocol']).cumsum()\n",
    "netdf_df['cumul_last_price_net_dollar_flow'] = netdf_df['last_price_flow'].groupby(['protocol']).cumsum()\n",
    "netdf_df['cumul_net_price_stock_change'] = netdf_df['net_price_stock_change'].groupby(['protocol']).cumsum()\n",
    "netdf_df.reset_index(inplace=True)\n"
   ]
  },
  {
   "cell_type": "code",
   "execution_count": 22,
   "id": "fb142e82",
   "metadata": {},
   "outputs": [
    {
     "data": {
      "text/html": [
       "<div>\n",
       "<style scoped>\n",
       "    .dataframe tbody tr th:only-of-type {\n",
       "        vertical-align: middle;\n",
       "    }\n",
       "\n",
       "    .dataframe tbody tr th {\n",
       "        vertical-align: top;\n",
       "    }\n",
       "\n",
       "    .dataframe thead th {\n",
       "        text-align: right;\n",
       "    }\n",
       "</style>\n",
       "<table border=\"1\" class=\"dataframe\">\n",
       "  <thead>\n",
       "    <tr style=\"text-align: right;\">\n",
       "      <th></th>\n",
       "      <th>date</th>\n",
       "      <th>protocol</th>\n",
       "      <th>net_dollar_flow</th>\n",
       "      <th>net_price_stock_change</th>\n",
       "      <th>last_price_flow</th>\n",
       "      <th>usd_value</th>\n",
       "      <th>tvl_change</th>\n",
       "      <th>error</th>\n",
       "      <th>cumul_net_dollar_flow</th>\n",
       "      <th>cumul_last_price_net_dollar_flow</th>\n",
       "      <th>cumul_net_price_stock_change</th>\n",
       "    </tr>\n",
       "  </thead>\n",
       "  <tbody>\n",
       "    <tr>\n",
       "      <th>206</th>\n",
       "      <td>2022-10-06</td>\n",
       "      <td>aave-v3</td>\n",
       "      <td>-1.269088e+07</td>\n",
       "      <td>8.067335e+05</td>\n",
       "      <td>-1.272697e+07</td>\n",
       "      <td>6.422966e+08</td>\n",
       "      <td>-1.188415e+07</td>\n",
       "      <td>7.823110e-08</td>\n",
       "      <td>1.518087e+09</td>\n",
       "      <td>1.048173e+09</td>\n",
       "      <td>-6.380618e+08</td>\n",
       "    </tr>\n",
       "    <tr>\n",
       "      <th>207</th>\n",
       "      <td>2022-10-07</td>\n",
       "      <td>aave-v3</td>\n",
       "      <td>-9.874048e+06</td>\n",
       "      <td>-1.200617e+06</td>\n",
       "      <td>-9.895215e+06</td>\n",
       "      <td>6.312220e+08</td>\n",
       "      <td>-1.107466e+07</td>\n",
       "      <td>5.587935e-08</td>\n",
       "      <td>1.508213e+09</td>\n",
       "      <td>1.038278e+09</td>\n",
       "      <td>-6.392624e+08</td>\n",
       "    </tr>\n",
       "    <tr>\n",
       "      <th>208</th>\n",
       "      <td>2022-10-08</td>\n",
       "      <td>aave-v3</td>\n",
       "      <td>3.857679e+05</td>\n",
       "      <td>-3.174785e+06</td>\n",
       "      <td>4.320806e+05</td>\n",
       "      <td>6.284330e+08</td>\n",
       "      <td>-2.789018e+06</td>\n",
       "      <td>-1.336448e-07</td>\n",
       "      <td>1.508599e+09</td>\n",
       "      <td>1.038710e+09</td>\n",
       "      <td>-6.424372e+08</td>\n",
       "    </tr>\n",
       "    <tr>\n",
       "      <th>209</th>\n",
       "      <td>2022-10-09</td>\n",
       "      <td>aave-v3</td>\n",
       "      <td>1.899556e+06</td>\n",
       "      <td>-1.554213e+06</td>\n",
       "      <td>1.896401e+06</td>\n",
       "      <td>6.287783e+08</td>\n",
       "      <td>3.453437e+05</td>\n",
       "      <td>1.082662e-07</td>\n",
       "      <td>1.510499e+09</td>\n",
       "      <td>1.040607e+09</td>\n",
       "      <td>-6.439914e+08</td>\n",
       "    </tr>\n",
       "    <tr>\n",
       "      <th>210</th>\n",
       "      <td>2022-10-10</td>\n",
       "      <td>aave-v3</td>\n",
       "      <td>-8.934544e+05</td>\n",
       "      <td>-5.491511e+04</td>\n",
       "      <td>-8.939770e+05</td>\n",
       "      <td>6.278299e+08</td>\n",
       "      <td>-9.483695e+05</td>\n",
       "      <td>-6.821938e-08</td>\n",
       "      <td>1.509605e+09</td>\n",
       "      <td>1.039713e+09</td>\n",
       "      <td>-6.440463e+08</td>\n",
       "    </tr>\n",
       "    <tr>\n",
       "      <th>211</th>\n",
       "      <td>2022-10-11</td>\n",
       "      <td>aave-v3</td>\n",
       "      <td>1.716499e+05</td>\n",
       "      <td>-3.839944e+06</td>\n",
       "      <td>2.236054e+05</td>\n",
       "      <td>6.241616e+08</td>\n",
       "      <td>-3.668294e+06</td>\n",
       "      <td>-9.313226e-09</td>\n",
       "      <td>1.509777e+09</td>\n",
       "      <td>1.039936e+09</td>\n",
       "      <td>-6.478862e+08</td>\n",
       "    </tr>\n",
       "    <tr>\n",
       "      <th>212</th>\n",
       "      <td>2022-10-12</td>\n",
       "      <td>aave-v3</td>\n",
       "      <td>4.551290e+06</td>\n",
       "      <td>4.550434e+05</td>\n",
       "      <td>4.521049e+06</td>\n",
       "      <td>6.291680e+08</td>\n",
       "      <td>5.006333e+06</td>\n",
       "      <td>9.126961e-08</td>\n",
       "      <td>1.514328e+09</td>\n",
       "      <td>1.044457e+09</td>\n",
       "      <td>-6.474312e+08</td>\n",
       "    </tr>\n",
       "  </tbody>\n",
       "</table>\n",
       "</div>"
      ],
      "text/plain": [
       "          date protocol  net_dollar_flow  net_price_stock_change  \\\n",
       "206 2022-10-06  aave-v3    -1.269088e+07            8.067335e+05   \n",
       "207 2022-10-07  aave-v3    -9.874048e+06           -1.200617e+06   \n",
       "208 2022-10-08  aave-v3     3.857679e+05           -3.174785e+06   \n",
       "209 2022-10-09  aave-v3     1.899556e+06           -1.554213e+06   \n",
       "210 2022-10-10  aave-v3    -8.934544e+05           -5.491511e+04   \n",
       "211 2022-10-11  aave-v3     1.716499e+05           -3.839944e+06   \n",
       "212 2022-10-12  aave-v3     4.551290e+06            4.550434e+05   \n",
       "\n",
       "     last_price_flow     usd_value    tvl_change         error  \\\n",
       "206    -1.272697e+07  6.422966e+08 -1.188415e+07  7.823110e-08   \n",
       "207    -9.895215e+06  6.312220e+08 -1.107466e+07  5.587935e-08   \n",
       "208     4.320806e+05  6.284330e+08 -2.789018e+06 -1.336448e-07   \n",
       "209     1.896401e+06  6.287783e+08  3.453437e+05  1.082662e-07   \n",
       "210    -8.939770e+05  6.278299e+08 -9.483695e+05 -6.821938e-08   \n",
       "211     2.236054e+05  6.241616e+08 -3.668294e+06 -9.313226e-09   \n",
       "212     4.521049e+06  6.291680e+08  5.006333e+06  9.126961e-08   \n",
       "\n",
       "     cumul_net_dollar_flow  cumul_last_price_net_dollar_flow  \\\n",
       "206           1.518087e+09                      1.048173e+09   \n",
       "207           1.508213e+09                      1.038278e+09   \n",
       "208           1.508599e+09                      1.038710e+09   \n",
       "209           1.510499e+09                      1.040607e+09   \n",
       "210           1.509605e+09                      1.039713e+09   \n",
       "211           1.509777e+09                      1.039936e+09   \n",
       "212           1.514328e+09                      1.044457e+09   \n",
       "\n",
       "     cumul_net_price_stock_change  \n",
       "206                 -6.380618e+08  \n",
       "207                 -6.392624e+08  \n",
       "208                 -6.424372e+08  \n",
       "209                 -6.439914e+08  \n",
       "210                 -6.440463e+08  \n",
       "211                 -6.478862e+08  \n",
       "212                 -6.474312e+08  "
      ]
     },
     "execution_count": 22,
     "metadata": {},
     "output_type": "execute_result"
    }
   ],
   "source": [
    "netdf_df[(netdf_df['date'] >= '2022-10-06') & (netdf_df['date'] <= '2022-10-12')].tail(10)"
   ]
  },
  {
   "cell_type": "code",
   "execution_count": 23,
   "id": "546e13b8",
   "metadata": {},
   "outputs": [
    {
     "name": "stdout",
     "output_type": "stream",
     "text": [
      "0    aave-v3\n",
      "Name: protocol, dtype: object\n"
     ]
    },
    {
     "data": {
      "application/vnd.plotly.v1+json": {
       "config": {
        "plotlyServerURL": "https://plot.ly"
       },
       "data": [
        {
         "fill": "tozeroy",
         "name": "aave-v3",
         "type": "scatter",
         "x": [
          "2022-03-14T00:00:00",
          "2022-03-15T00:00:00",
          "2022-03-16T00:00:00",
          "2022-03-17T00:00:00",
          "2022-03-18T00:00:00",
          "2022-03-19T00:00:00",
          "2022-03-20T00:00:00",
          "2022-03-21T00:00:00",
          "2022-03-22T00:00:00",
          "2022-03-23T00:00:00",
          "2022-03-24T00:00:00",
          "2022-03-25T00:00:00",
          "2022-03-26T00:00:00",
          "2022-03-27T00:00:00",
          "2022-03-28T00:00:00",
          "2022-03-29T00:00:00",
          "2022-03-30T00:00:00",
          "2022-03-31T00:00:00",
          "2022-04-01T00:00:00",
          "2022-04-02T00:00:00",
          "2022-04-03T00:00:00",
          "2022-04-04T00:00:00",
          "2022-04-05T00:00:00",
          "2022-04-06T00:00:00",
          "2022-04-07T00:00:00",
          "2022-04-08T00:00:00",
          "2022-04-09T00:00:00",
          "2022-04-10T00:00:00",
          "2022-04-11T00:00:00",
          "2022-04-12T00:00:00",
          "2022-04-13T00:00:00",
          "2022-04-14T00:00:00",
          "2022-04-15T00:00:00",
          "2022-04-16T00:00:00",
          "2022-04-17T00:00:00",
          "2022-04-18T00:00:00",
          "2022-04-19T00:00:00",
          "2022-04-20T00:00:00",
          "2022-04-21T00:00:00",
          "2022-04-22T00:00:00",
          "2022-04-23T00:00:00",
          "2022-04-24T00:00:00",
          "2022-04-25T00:00:00",
          "2022-04-26T00:00:00",
          "2022-04-27T00:00:00",
          "2022-04-28T00:00:00",
          "2022-04-29T00:00:00",
          "2022-04-30T00:00:00",
          "2022-05-01T00:00:00",
          "2022-05-02T00:00:00",
          "2022-05-03T00:00:00",
          "2022-05-04T00:00:00",
          "2022-05-05T00:00:00",
          "2022-05-06T00:00:00",
          "2022-05-07T00:00:00",
          "2022-05-08T00:00:00",
          "2022-05-09T00:00:00",
          "2022-05-10T00:00:00",
          "2022-05-11T00:00:00",
          "2022-05-12T00:00:00",
          "2022-05-13T00:00:00",
          "2022-05-14T00:00:00",
          "2022-05-15T00:00:00",
          "2022-05-16T00:00:00",
          "2022-05-17T00:00:00",
          "2022-05-18T00:00:00",
          "2022-05-19T00:00:00",
          "2022-05-20T00:00:00",
          "2022-05-21T00:00:00",
          "2022-05-22T00:00:00",
          "2022-05-23T00:00:00",
          "2022-05-24T00:00:00",
          "2022-05-25T00:00:00",
          "2022-05-26T00:00:00",
          "2022-05-27T00:00:00",
          "2022-05-28T00:00:00",
          "2022-05-29T00:00:00",
          "2022-05-30T00:00:00",
          "2022-05-31T00:00:00",
          "2022-06-01T00:00:00",
          "2022-06-02T00:00:00",
          "2022-06-03T00:00:00",
          "2022-06-04T00:00:00",
          "2022-06-05T00:00:00",
          "2022-06-06T00:00:00",
          "2022-06-07T00:00:00",
          "2022-06-08T00:00:00",
          "2022-06-09T00:00:00",
          "2022-06-10T00:00:00",
          "2022-06-11T00:00:00",
          "2022-06-12T00:00:00",
          "2022-06-13T00:00:00",
          "2022-06-14T00:00:00",
          "2022-06-15T00:00:00",
          "2022-06-16T00:00:00",
          "2022-06-17T00:00:00",
          "2022-06-18T00:00:00",
          "2022-06-19T00:00:00",
          "2022-06-20T00:00:00",
          "2022-06-21T00:00:00",
          "2022-06-22T00:00:00",
          "2022-06-23T00:00:00",
          "2022-06-24T00:00:00",
          "2022-06-25T00:00:00",
          "2022-06-26T00:00:00",
          "2022-06-27T00:00:00",
          "2022-06-28T00:00:00",
          "2022-06-29T00:00:00",
          "2022-06-30T00:00:00",
          "2022-07-01T00:00:00",
          "2022-07-02T00:00:00",
          "2022-07-03T00:00:00",
          "2022-07-04T00:00:00",
          "2022-07-05T00:00:00",
          "2022-07-06T00:00:00",
          "2022-07-07T00:00:00",
          "2022-07-08T00:00:00",
          "2022-07-09T00:00:00",
          "2022-07-10T00:00:00",
          "2022-07-11T00:00:00",
          "2022-07-12T00:00:00",
          "2022-07-13T00:00:00",
          "2022-07-14T00:00:00",
          "2022-07-15T00:00:00",
          "2022-07-16T00:00:00",
          "2022-07-17T00:00:00",
          "2022-07-18T00:00:00",
          "2022-07-19T00:00:00",
          "2022-07-20T00:00:00",
          "2022-07-21T00:00:00",
          "2022-07-22T00:00:00",
          "2022-07-23T00:00:00",
          "2022-07-24T00:00:00",
          "2022-07-25T00:00:00",
          "2022-07-26T00:00:00",
          "2022-07-27T00:00:00",
          "2022-07-28T00:00:00",
          "2022-07-29T00:00:00",
          "2022-07-30T00:00:00",
          "2022-07-31T00:00:00",
          "2022-08-01T00:00:00",
          "2022-08-02T00:00:00",
          "2022-08-03T00:00:00",
          "2022-08-04T00:00:00",
          "2022-08-05T00:00:00",
          "2022-08-06T00:00:00",
          "2022-08-07T00:00:00",
          "2022-08-08T00:00:00",
          "2022-08-09T00:00:00",
          "2022-08-10T00:00:00",
          "2022-08-11T00:00:00",
          "2022-08-12T00:00:00",
          "2022-08-13T00:00:00",
          "2022-08-14T00:00:00",
          "2022-08-15T00:00:00",
          "2022-08-16T00:00:00",
          "2022-08-17T00:00:00",
          "2022-08-18T00:00:00",
          "2022-08-19T00:00:00",
          "2022-08-20T00:00:00",
          "2022-08-21T00:00:00",
          "2022-08-22T00:00:00",
          "2022-08-23T00:00:00",
          "2022-08-24T00:00:00",
          "2022-08-25T00:00:00",
          "2022-08-26T00:00:00",
          "2022-08-27T00:00:00",
          "2022-08-28T00:00:00",
          "2022-08-29T00:00:00",
          "2022-08-30T00:00:00",
          "2022-08-31T00:00:00",
          "2022-09-01T00:00:00",
          "2022-09-02T00:00:00",
          "2022-09-03T00:00:00",
          "2022-09-04T00:00:00",
          "2022-09-05T00:00:00",
          "2022-09-06T00:00:00",
          "2022-09-07T00:00:00",
          "2022-09-08T00:00:00",
          "2022-09-09T00:00:00",
          "2022-09-10T00:00:00",
          "2022-09-11T00:00:00",
          "2022-09-12T00:00:00",
          "2022-09-13T00:00:00",
          "2022-09-14T00:00:00",
          "2022-09-15T00:00:00",
          "2022-09-16T00:00:00",
          "2022-09-17T00:00:00",
          "2022-09-18T00:00:00",
          "2022-09-19T00:00:00",
          "2022-09-20T00:00:00",
          "2022-09-21T00:00:00",
          "2022-09-22T00:00:00",
          "2022-09-23T00:00:00",
          "2022-09-24T00:00:00",
          "2022-09-25T00:00:00",
          "2022-09-26T00:00:00",
          "2022-09-27T00:00:00",
          "2022-09-28T00:00:00",
          "2022-09-29T00:00:00",
          "2022-09-30T00:00:00",
          "2022-10-01T00:00:00",
          "2022-10-02T00:00:00",
          "2022-10-03T00:00:00",
          "2022-10-04T00:00:00",
          "2022-10-05T00:00:00",
          "2022-10-06T00:00:00",
          "2022-10-07T00:00:00",
          "2022-10-08T00:00:00",
          "2022-10-09T00:00:00",
          "2022-10-10T00:00:00",
          "2022-10-11T00:00:00",
          "2022-10-12T00:00:00",
          "2022-10-13T00:00:00",
          "2022-10-14T00:00:00",
          "2022-10-15T00:00:00",
          "2022-10-16T00:00:00",
          "2022-10-17T00:00:00",
          "2022-10-18T00:00:00",
          "2022-10-19T00:00:00",
          "2022-10-20T00:00:00",
          "2022-10-21T00:00:00",
          "2022-10-22T00:00:00",
          "2022-10-23T00:00:00",
          "2022-10-24T00:00:00",
          "2022-10-25T00:00:00",
          "2022-10-26T00:00:00",
          "2022-10-27T00:00:00",
          "2022-10-28T00:00:00",
          "2022-10-29T00:00:00",
          "2022-10-30T00:00:00",
          "2022-10-31T00:00:00",
          "2022-11-01T00:00:00",
          "2022-11-02T00:00:00",
          "2022-11-03T00:00:00",
          "2022-11-04T00:00:00",
          "2022-11-05T00:00:00",
          "2022-11-06T00:00:00",
          "2022-11-07T00:00:00",
          "2022-11-08T00:00:00",
          "2022-11-09T00:00:00",
          "2022-11-10T00:00:00",
          "2022-11-11T00:00:00",
          "2022-11-12T00:00:00",
          "2022-11-13T00:00:00",
          "2022-11-14T00:00:00",
          "2022-11-15T00:00:00",
          "2022-11-15T22:59:35"
         ],
         "y": [
          1.001,
          1.001,
          1.001,
          544043.09386,
          603653.8609247513,
          1949611.991887542,
          2033836.2982800466,
          2028151.28302511,
          2204099.503958698,
          2239725.6416123398,
          2980646.0315342816,
          2690223.975183046,
          2298838.8906513695,
          2675131.4662883123,
          2797635.338422539,
          2671553.0509459334,
          2991730.2543815756,
          3319777.634613748,
          4476466.27341539,
          4623511.28174041,
          5134043.729588985,
          5296046.692625083,
          5070175.804473076,
          5212468.423746294,
          4753595.824730459,
          4898807.551902373,
          5150807.220659836,
          5078319.343361314,
          5685389.125856066,
          5603194.081545023,
          5947331.795443014,
          5930735.873313759,
          5722600.573741957,
          5714435.457033633,
          5749618.597107179,
          6049280.888968574,
          6753757.284199644,
          57957876.628880665,
          996363309.8871742,
          1152505371.1452842,
          1223484169.3526661,
          1266861806.7332232,
          1313330332.8126984,
          1396754021.3461003,
          1398223536.468022,
          1381227085.1040654,
          1377777175.6473522,
          1419121098.8084824,
          1430858510.08369,
          1445884131.1372862,
          1444306519.4799392,
          1446764743.7078753,
          1448192789.0853686,
          1461364110.4260507,
          1447441416.037319,
          1443186176.8870218,
          1453046583.8605525,
          1439135347.6086147,
          1477751637.1846228,
          1421322964.0121737,
          1236480383.3324358,
          1230059260.6056392,
          1261024686.6683369,
          1265196719.458739,
          1263859455.9241788,
          1288438909.5529602,
          1335832457.8769662,
          1354332383.6321285,
          1393472949.391505,
          1390054068.522997,
          1398292960.6971977,
          1398148811.9354174,
          1402974874.923405,
          1415875130.1849277,
          1320524641.8900914,
          1337927545.9087894,
          1339710683.0906014,
          1352256179.7945287,
          1375790476.3896043,
          1441423590.3581245,
          1525276900.5373223,
          1634391670.7346015,
          1718787683.3876822,
          1747965509.1689453,
          1762071920.4654725,
          1816252798.3721406,
          1833925458.1524909,
          1843671482.0357156,
          1867526188.3396826,
          1832399782.590879,
          1835427973.6548297,
          1823653866.3754091,
          1600150037.256558,
          1555330907.6220918,
          1518918544.735242,
          1537265390.72924,
          1557388528.7594192,
          1573064663.8621044,
          1577215587.1246552,
          1585698123.7194462,
          1626134857.8137262,
          1636158023.4734654,
          1639718969.319032,
          1635922015.940229,
          1640180514.4285746,
          1634832982.477068,
          1641503960.1003923,
          1647487777.8282428,
          1615569664.1082995,
          1629641500.206187,
          1657369620.3701477,
          1649300514.215521,
          1660853056.8958101,
          1670714791.0468032,
          1613263197.0285578,
          1618334494.55997,
          1631600331.733826,
          1624882017.2736635,
          1641022717.9843447,
          1636714195.7179856,
          1633064247.3092778,
          1612605654.2763727,
          1655539346.4363527,
          1642837981.3462505,
          1655501246.0996523,
          1660463433.3736176,
          1659653507.7063189,
          1683905030.3913007,
          1704042489.860839,
          1717094967.9967308,
          1700224749.56033,
          1699574427.037785,
          2072682868.9668713,
          2070240407.8501778,
          2064522275.6281192,
          2080095087.798643,
          2073746323.8219104,
          2068192782.2669222,
          2012426914.5561507,
          2039818620.0021813,
          2036581863.1843085,
          1993358447.1026416,
          1992631033.2799213,
          1989968439.8492653,
          1955890360.8281295,
          1941129509.2061055,
          1894193382.2275848,
          1869228706.4730809,
          1893209483.9705672,
          1906973275.011329,
          1873845832.9517546,
          1877919550.5292132,
          1878572340.4485512,
          1873658405.1942816,
          1867023818.0797658,
          1847162961.84039,
          1818785715.337651,
          1837713999.9756503,
          1833982041.793085,
          1783607393.450121,
          1781033608.0610583,
          1780052484.9041064,
          1783178951.4442406,
          1784621663.645879,
          1790987064.871393,
          1798460416.5315406,
          1791117367.8103645,
          1794939136.0934715,
          1794146979.7005568,
          1671909450.5340571,
          1548441378.560704,
          1544897864.8555422,
          1540496326.5477254,
          1533627770.333278,
          1531388856.774837,
          1532383265.8176353,
          1518460595.8460073,
          1511249599.509353,
          1505977065.8227677,
          1491591068.8575733,
          1483577714.182173,
          1479484243.3501163,
          1476682689.5805771,
          1464115810.236854,
          1453287720.182836,
          1474967162.420856,
          1459027671.3908176,
          1456467530.4501317,
          1470914837.546817,
          1545478513.3242981,
          1548878248.0852284,
          1545403130.826809,
          1550866529.4632142,
          1540465272.4225175,
          1536889094.3763773,
          1532108220.9848728,
          1531775750.832105,
          1533721994.08544,
          1536419106.2923834,
          1549537819.13077,
          1537918864.6112828,
          1534066578.4263911,
          1533703981.2394757,
          1534061805.362028,
          1531441646.6332011,
          1530778120.207204,
          1518087237.360256,
          1508213189.6381316,
          1508598957.5030973,
          1510498513.6717815,
          1509605059.3018963,
          1509776709.2442434,
          1514327998.8418462,
          1428712229.9170246,
          1441298035.1804264,
          1426874345.2288961,
          1427173263.4443624,
          1426206794.306924,
          1428252584.8235936,
          1425790084.6624959,
          1427136866.0254886,
          1426493873.3436196,
          1422543562.7340424,
          1420051749.7328281,
          1417502607.2388577,
          1419726281.54254,
          1417023654.4945424,
          1408807289.6138518,
          1400953217.3352058,
          1404043130.1884189,
          1400369617.2832727,
          1398633538.0955799,
          1395824916.0826428,
          1390993687.3145747,
          1394897542.6831007,
          1388556430.800048,
          1373004109.025514,
          1368608646.9547744,
          1366887893.0622401,
          1361198402.9188998,
          1361357399.893973,
          1333632338.5768082,
          1320929903.1175082,
          1325553683.4031117,
          1338005967.6222935,
          1329870215.058501,
          1302311498.8179667,
          1300469830.6553087
         ]
        }
       ],
       "layout": {
        "legend": {
         "title": {
          "text": "App Name"
         }
        },
        "template": {
         "data": {
          "bar": [
           {
            "error_x": {
             "color": "#2a3f5f"
            },
            "error_y": {
             "color": "#2a3f5f"
            },
            "marker": {
             "line": {
              "color": "#E5ECF6",
              "width": 0.5
             },
             "pattern": {
              "fillmode": "overlay",
              "size": 10,
              "solidity": 0.2
             }
            },
            "type": "bar"
           }
          ],
          "barpolar": [
           {
            "marker": {
             "line": {
              "color": "#E5ECF6",
              "width": 0.5
             },
             "pattern": {
              "fillmode": "overlay",
              "size": 10,
              "solidity": 0.2
             }
            },
            "type": "barpolar"
           }
          ],
          "carpet": [
           {
            "aaxis": {
             "endlinecolor": "#2a3f5f",
             "gridcolor": "white",
             "linecolor": "white",
             "minorgridcolor": "white",
             "startlinecolor": "#2a3f5f"
            },
            "baxis": {
             "endlinecolor": "#2a3f5f",
             "gridcolor": "white",
             "linecolor": "white",
             "minorgridcolor": "white",
             "startlinecolor": "#2a3f5f"
            },
            "type": "carpet"
           }
          ],
          "choropleth": [
           {
            "colorbar": {
             "outlinewidth": 0,
             "ticks": ""
            },
            "type": "choropleth"
           }
          ],
          "contour": [
           {
            "colorbar": {
             "outlinewidth": 0,
             "ticks": ""
            },
            "colorscale": [
             [
              0,
              "#0d0887"
             ],
             [
              0.1111111111111111,
              "#46039f"
             ],
             [
              0.2222222222222222,
              "#7201a8"
             ],
             [
              0.3333333333333333,
              "#9c179e"
             ],
             [
              0.4444444444444444,
              "#bd3786"
             ],
             [
              0.5555555555555556,
              "#d8576b"
             ],
             [
              0.6666666666666666,
              "#ed7953"
             ],
             [
              0.7777777777777778,
              "#fb9f3a"
             ],
             [
              0.8888888888888888,
              "#fdca26"
             ],
             [
              1,
              "#f0f921"
             ]
            ],
            "type": "contour"
           }
          ],
          "contourcarpet": [
           {
            "colorbar": {
             "outlinewidth": 0,
             "ticks": ""
            },
            "type": "contourcarpet"
           }
          ],
          "heatmap": [
           {
            "colorbar": {
             "outlinewidth": 0,
             "ticks": ""
            },
            "colorscale": [
             [
              0,
              "#0d0887"
             ],
             [
              0.1111111111111111,
              "#46039f"
             ],
             [
              0.2222222222222222,
              "#7201a8"
             ],
             [
              0.3333333333333333,
              "#9c179e"
             ],
             [
              0.4444444444444444,
              "#bd3786"
             ],
             [
              0.5555555555555556,
              "#d8576b"
             ],
             [
              0.6666666666666666,
              "#ed7953"
             ],
             [
              0.7777777777777778,
              "#fb9f3a"
             ],
             [
              0.8888888888888888,
              "#fdca26"
             ],
             [
              1,
              "#f0f921"
             ]
            ],
            "type": "heatmap"
           }
          ],
          "heatmapgl": [
           {
            "colorbar": {
             "outlinewidth": 0,
             "ticks": ""
            },
            "colorscale": [
             [
              0,
              "#0d0887"
             ],
             [
              0.1111111111111111,
              "#46039f"
             ],
             [
              0.2222222222222222,
              "#7201a8"
             ],
             [
              0.3333333333333333,
              "#9c179e"
             ],
             [
              0.4444444444444444,
              "#bd3786"
             ],
             [
              0.5555555555555556,
              "#d8576b"
             ],
             [
              0.6666666666666666,
              "#ed7953"
             ],
             [
              0.7777777777777778,
              "#fb9f3a"
             ],
             [
              0.8888888888888888,
              "#fdca26"
             ],
             [
              1,
              "#f0f921"
             ]
            ],
            "type": "heatmapgl"
           }
          ],
          "histogram": [
           {
            "marker": {
             "pattern": {
              "fillmode": "overlay",
              "size": 10,
              "solidity": 0.2
             }
            },
            "type": "histogram"
           }
          ],
          "histogram2d": [
           {
            "colorbar": {
             "outlinewidth": 0,
             "ticks": ""
            },
            "colorscale": [
             [
              0,
              "#0d0887"
             ],
             [
              0.1111111111111111,
              "#46039f"
             ],
             [
              0.2222222222222222,
              "#7201a8"
             ],
             [
              0.3333333333333333,
              "#9c179e"
             ],
             [
              0.4444444444444444,
              "#bd3786"
             ],
             [
              0.5555555555555556,
              "#d8576b"
             ],
             [
              0.6666666666666666,
              "#ed7953"
             ],
             [
              0.7777777777777778,
              "#fb9f3a"
             ],
             [
              0.8888888888888888,
              "#fdca26"
             ],
             [
              1,
              "#f0f921"
             ]
            ],
            "type": "histogram2d"
           }
          ],
          "histogram2dcontour": [
           {
            "colorbar": {
             "outlinewidth": 0,
             "ticks": ""
            },
            "colorscale": [
             [
              0,
              "#0d0887"
             ],
             [
              0.1111111111111111,
              "#46039f"
             ],
             [
              0.2222222222222222,
              "#7201a8"
             ],
             [
              0.3333333333333333,
              "#9c179e"
             ],
             [
              0.4444444444444444,
              "#bd3786"
             ],
             [
              0.5555555555555556,
              "#d8576b"
             ],
             [
              0.6666666666666666,
              "#ed7953"
             ],
             [
              0.7777777777777778,
              "#fb9f3a"
             ],
             [
              0.8888888888888888,
              "#fdca26"
             ],
             [
              1,
              "#f0f921"
             ]
            ],
            "type": "histogram2dcontour"
           }
          ],
          "mesh3d": [
           {
            "colorbar": {
             "outlinewidth": 0,
             "ticks": ""
            },
            "type": "mesh3d"
           }
          ],
          "parcoords": [
           {
            "line": {
             "colorbar": {
              "outlinewidth": 0,
              "ticks": ""
             }
            },
            "type": "parcoords"
           }
          ],
          "pie": [
           {
            "automargin": true,
            "type": "pie"
           }
          ],
          "scatter": [
           {
            "fillpattern": {
             "fillmode": "overlay",
             "size": 10,
             "solidity": 0.2
            },
            "type": "scatter"
           }
          ],
          "scatter3d": [
           {
            "line": {
             "colorbar": {
              "outlinewidth": 0,
              "ticks": ""
             }
            },
            "marker": {
             "colorbar": {
              "outlinewidth": 0,
              "ticks": ""
             }
            },
            "type": "scatter3d"
           }
          ],
          "scattercarpet": [
           {
            "marker": {
             "colorbar": {
              "outlinewidth": 0,
              "ticks": ""
             }
            },
            "type": "scattercarpet"
           }
          ],
          "scattergeo": [
           {
            "marker": {
             "colorbar": {
              "outlinewidth": 0,
              "ticks": ""
             }
            },
            "type": "scattergeo"
           }
          ],
          "scattergl": [
           {
            "marker": {
             "colorbar": {
              "outlinewidth": 0,
              "ticks": ""
             }
            },
            "type": "scattergl"
           }
          ],
          "scattermapbox": [
           {
            "marker": {
             "colorbar": {
              "outlinewidth": 0,
              "ticks": ""
             }
            },
            "type": "scattermapbox"
           }
          ],
          "scatterpolar": [
           {
            "marker": {
             "colorbar": {
              "outlinewidth": 0,
              "ticks": ""
             }
            },
            "type": "scatterpolar"
           }
          ],
          "scatterpolargl": [
           {
            "marker": {
             "colorbar": {
              "outlinewidth": 0,
              "ticks": ""
             }
            },
            "type": "scatterpolargl"
           }
          ],
          "scatterternary": [
           {
            "marker": {
             "colorbar": {
              "outlinewidth": 0,
              "ticks": ""
             }
            },
            "type": "scatterternary"
           }
          ],
          "surface": [
           {
            "colorbar": {
             "outlinewidth": 0,
             "ticks": ""
            },
            "colorscale": [
             [
              0,
              "#0d0887"
             ],
             [
              0.1111111111111111,
              "#46039f"
             ],
             [
              0.2222222222222222,
              "#7201a8"
             ],
             [
              0.3333333333333333,
              "#9c179e"
             ],
             [
              0.4444444444444444,
              "#bd3786"
             ],
             [
              0.5555555555555556,
              "#d8576b"
             ],
             [
              0.6666666666666666,
              "#ed7953"
             ],
             [
              0.7777777777777778,
              "#fb9f3a"
             ],
             [
              0.8888888888888888,
              "#fdca26"
             ],
             [
              1,
              "#f0f921"
             ]
            ],
            "type": "surface"
           }
          ],
          "table": [
           {
            "cells": {
             "fill": {
              "color": "#EBF0F8"
             },
             "line": {
              "color": "white"
             }
            },
            "header": {
             "fill": {
              "color": "#C8D4E3"
             },
             "line": {
              "color": "white"
             }
            },
            "type": "table"
           }
          ]
         },
         "layout": {
          "annotationdefaults": {
           "arrowcolor": "#2a3f5f",
           "arrowhead": 0,
           "arrowwidth": 1
          },
          "autotypenumbers": "strict",
          "coloraxis": {
           "colorbar": {
            "outlinewidth": 0,
            "ticks": ""
           }
          },
          "colorscale": {
           "diverging": [
            [
             0,
             "#8e0152"
            ],
            [
             0.1,
             "#c51b7d"
            ],
            [
             0.2,
             "#de77ae"
            ],
            [
             0.3,
             "#f1b6da"
            ],
            [
             0.4,
             "#fde0ef"
            ],
            [
             0.5,
             "#f7f7f7"
            ],
            [
             0.6,
             "#e6f5d0"
            ],
            [
             0.7,
             "#b8e186"
            ],
            [
             0.8,
             "#7fbc41"
            ],
            [
             0.9,
             "#4d9221"
            ],
            [
             1,
             "#276419"
            ]
           ],
           "sequential": [
            [
             0,
             "#0d0887"
            ],
            [
             0.1111111111111111,
             "#46039f"
            ],
            [
             0.2222222222222222,
             "#7201a8"
            ],
            [
             0.3333333333333333,
             "#9c179e"
            ],
            [
             0.4444444444444444,
             "#bd3786"
            ],
            [
             0.5555555555555556,
             "#d8576b"
            ],
            [
             0.6666666666666666,
             "#ed7953"
            ],
            [
             0.7777777777777778,
             "#fb9f3a"
            ],
            [
             0.8888888888888888,
             "#fdca26"
            ],
            [
             1,
             "#f0f921"
            ]
           ],
           "sequentialminus": [
            [
             0,
             "#0d0887"
            ],
            [
             0.1111111111111111,
             "#46039f"
            ],
            [
             0.2222222222222222,
             "#7201a8"
            ],
            [
             0.3333333333333333,
             "#9c179e"
            ],
            [
             0.4444444444444444,
             "#bd3786"
            ],
            [
             0.5555555555555556,
             "#d8576b"
            ],
            [
             0.6666666666666666,
             "#ed7953"
            ],
            [
             0.7777777777777778,
             "#fb9f3a"
            ],
            [
             0.8888888888888888,
             "#fdca26"
            ],
            [
             1,
             "#f0f921"
            ]
           ]
          },
          "colorway": [
           "#636efa",
           "#EF553B",
           "#00cc96",
           "#ab63fa",
           "#FFA15A",
           "#19d3f3",
           "#FF6692",
           "#B6E880",
           "#FF97FF",
           "#FECB52"
          ],
          "font": {
           "color": "#2a3f5f"
          },
          "geo": {
           "bgcolor": "white",
           "lakecolor": "white",
           "landcolor": "#E5ECF6",
           "showlakes": true,
           "showland": true,
           "subunitcolor": "white"
          },
          "hoverlabel": {
           "align": "left"
          },
          "hovermode": "closest",
          "mapbox": {
           "style": "light"
          },
          "paper_bgcolor": "white",
          "plot_bgcolor": "#E5ECF6",
          "polar": {
           "angularaxis": {
            "gridcolor": "white",
            "linecolor": "white",
            "ticks": ""
           },
           "bgcolor": "#E5ECF6",
           "radialaxis": {
            "gridcolor": "white",
            "linecolor": "white",
            "ticks": ""
           }
          },
          "scene": {
           "xaxis": {
            "backgroundcolor": "#E5ECF6",
            "gridcolor": "white",
            "gridwidth": 2,
            "linecolor": "white",
            "showbackground": true,
            "ticks": "",
            "zerolinecolor": "white"
           },
           "yaxis": {
            "backgroundcolor": "#E5ECF6",
            "gridcolor": "white",
            "gridwidth": 2,
            "linecolor": "white",
            "showbackground": true,
            "ticks": "",
            "zerolinecolor": "white"
           },
           "zaxis": {
            "backgroundcolor": "#E5ECF6",
            "gridcolor": "white",
            "gridwidth": 2,
            "linecolor": "white",
            "showbackground": true,
            "ticks": "",
            "zerolinecolor": "white"
           }
          },
          "shapedefaults": {
           "line": {
            "color": "#2a3f5f"
           }
          },
          "ternary": {
           "aaxis": {
            "gridcolor": "white",
            "linecolor": "white",
            "ticks": ""
           },
           "baxis": {
            "gridcolor": "white",
            "linecolor": "white",
            "ticks": ""
           },
           "bgcolor": "#E5ECF6",
           "caxis": {
            "gridcolor": "white",
            "linecolor": "white",
            "ticks": ""
           }
          },
          "title": {
           "x": 0.05
          },
          "xaxis": {
           "automargin": true,
           "gridcolor": "white",
           "linecolor": "white",
           "ticks": "",
           "title": {
            "standoff": 15
           },
           "zerolinecolor": "white",
           "zerolinewidth": 2
          },
          "yaxis": {
           "automargin": true,
           "gridcolor": "white",
           "linecolor": "white",
           "ticks": "",
           "title": {
            "standoff": 15
           },
           "zerolinecolor": "white",
           "zerolinewidth": 2
          }
         }
        },
        "title": {
         "text": "Cumulative Net Dollar Flow since Program Announcement"
        },
        "xaxis": {
         "title": {
          "text": "Day"
         }
        },
        "yaxis": {
         "tickprefix": "$",
         "title": {
          "text": "Cumulative Net Dollar Flow (N$F)"
         }
        }
       }
      }
     },
     "metadata": {},
     "output_type": "display_data"
    },
    {
     "data": {
      "application/vnd.plotly.v1+json": {
       "config": {
        "plotlyServerURL": "https://plot.ly"
       },
       "data": [
        {
         "fill": "tozeroy",
         "name": "aave-v3",
         "type": "scatter",
         "x": [
          "2022-03-14T00:00:00",
          "2022-03-15T00:00:00",
          "2022-03-16T00:00:00",
          "2022-03-17T00:00:00",
          "2022-03-18T00:00:00",
          "2022-03-19T00:00:00",
          "2022-03-20T00:00:00",
          "2022-03-21T00:00:00",
          "2022-03-22T00:00:00",
          "2022-03-23T00:00:00",
          "2022-03-24T00:00:00",
          "2022-03-25T00:00:00",
          "2022-03-26T00:00:00",
          "2022-03-27T00:00:00",
          "2022-03-28T00:00:00",
          "2022-03-29T00:00:00",
          "2022-03-30T00:00:00",
          "2022-03-31T00:00:00",
          "2022-04-01T00:00:00",
          "2022-04-02T00:00:00",
          "2022-04-03T00:00:00",
          "2022-04-04T00:00:00",
          "2022-04-05T00:00:00",
          "2022-04-06T00:00:00",
          "2022-04-07T00:00:00",
          "2022-04-08T00:00:00",
          "2022-04-09T00:00:00",
          "2022-04-10T00:00:00",
          "2022-04-11T00:00:00",
          "2022-04-12T00:00:00",
          "2022-04-13T00:00:00",
          "2022-04-14T00:00:00",
          "2022-04-15T00:00:00",
          "2022-04-16T00:00:00",
          "2022-04-17T00:00:00",
          "2022-04-18T00:00:00",
          "2022-04-19T00:00:00",
          "2022-04-20T00:00:00",
          "2022-04-21T00:00:00",
          "2022-04-22T00:00:00",
          "2022-04-23T00:00:00",
          "2022-04-24T00:00:00",
          "2022-04-25T00:00:00",
          "2022-04-26T00:00:00",
          "2022-04-27T00:00:00",
          "2022-04-28T00:00:00",
          "2022-04-29T00:00:00",
          "2022-04-30T00:00:00",
          "2022-05-01T00:00:00",
          "2022-05-02T00:00:00",
          "2022-05-03T00:00:00",
          "2022-05-04T00:00:00",
          "2022-05-05T00:00:00",
          "2022-05-06T00:00:00",
          "2022-05-07T00:00:00",
          "2022-05-08T00:00:00",
          "2022-05-09T00:00:00",
          "2022-05-10T00:00:00",
          "2022-05-11T00:00:00",
          "2022-05-12T00:00:00",
          "2022-05-13T00:00:00",
          "2022-05-14T00:00:00",
          "2022-05-15T00:00:00",
          "2022-05-16T00:00:00",
          "2022-05-17T00:00:00",
          "2022-05-18T00:00:00",
          "2022-05-19T00:00:00",
          "2022-05-20T00:00:00",
          "2022-05-21T00:00:00",
          "2022-05-22T00:00:00",
          "2022-05-23T00:00:00",
          "2022-05-24T00:00:00",
          "2022-05-25T00:00:00",
          "2022-05-26T00:00:00",
          "2022-05-27T00:00:00",
          "2022-05-28T00:00:00",
          "2022-05-29T00:00:00",
          "2022-05-30T00:00:00",
          "2022-05-31T00:00:00",
          "2022-06-01T00:00:00",
          "2022-06-02T00:00:00",
          "2022-06-03T00:00:00",
          "2022-06-04T00:00:00",
          "2022-06-05T00:00:00",
          "2022-06-06T00:00:00",
          "2022-06-07T00:00:00",
          "2022-06-08T00:00:00",
          "2022-06-09T00:00:00",
          "2022-06-10T00:00:00",
          "2022-06-11T00:00:00",
          "2022-06-12T00:00:00",
          "2022-06-13T00:00:00",
          "2022-06-14T00:00:00",
          "2022-06-15T00:00:00",
          "2022-06-16T00:00:00",
          "2022-06-17T00:00:00",
          "2022-06-18T00:00:00",
          "2022-06-19T00:00:00",
          "2022-06-20T00:00:00",
          "2022-06-21T00:00:00",
          "2022-06-22T00:00:00",
          "2022-06-23T00:00:00",
          "2022-06-24T00:00:00",
          "2022-06-25T00:00:00",
          "2022-06-26T00:00:00",
          "2022-06-27T00:00:00",
          "2022-06-28T00:00:00",
          "2022-06-29T00:00:00",
          "2022-06-30T00:00:00",
          "2022-07-01T00:00:00",
          "2022-07-02T00:00:00",
          "2022-07-03T00:00:00",
          "2022-07-04T00:00:00",
          "2022-07-05T00:00:00",
          "2022-07-06T00:00:00",
          "2022-07-07T00:00:00",
          "2022-07-08T00:00:00",
          "2022-07-09T00:00:00",
          "2022-07-10T00:00:00",
          "2022-07-11T00:00:00",
          "2022-07-12T00:00:00",
          "2022-07-13T00:00:00",
          "2022-07-14T00:00:00",
          "2022-07-15T00:00:00",
          "2022-07-16T00:00:00",
          "2022-07-17T00:00:00",
          "2022-07-18T00:00:00",
          "2022-07-19T00:00:00",
          "2022-07-20T00:00:00",
          "2022-07-21T00:00:00",
          "2022-07-22T00:00:00",
          "2022-07-23T00:00:00",
          "2022-07-24T00:00:00",
          "2022-07-25T00:00:00",
          "2022-07-26T00:00:00",
          "2022-07-27T00:00:00",
          "2022-07-28T00:00:00",
          "2022-07-29T00:00:00",
          "2022-07-30T00:00:00",
          "2022-07-31T00:00:00",
          "2022-08-01T00:00:00",
          "2022-08-02T00:00:00",
          "2022-08-03T00:00:00",
          "2022-08-04T00:00:00",
          "2022-08-05T00:00:00",
          "2022-08-06T00:00:00",
          "2022-08-07T00:00:00",
          "2022-08-08T00:00:00",
          "2022-08-09T00:00:00",
          "2022-08-10T00:00:00",
          "2022-08-11T00:00:00",
          "2022-08-12T00:00:00",
          "2022-08-13T00:00:00",
          "2022-08-14T00:00:00",
          "2022-08-15T00:00:00",
          "2022-08-16T00:00:00",
          "2022-08-17T00:00:00",
          "2022-08-18T00:00:00",
          "2022-08-19T00:00:00",
          "2022-08-20T00:00:00",
          "2022-08-21T00:00:00",
          "2022-08-22T00:00:00",
          "2022-08-23T00:00:00",
          "2022-08-24T00:00:00",
          "2022-08-25T00:00:00",
          "2022-08-26T00:00:00",
          "2022-08-27T00:00:00",
          "2022-08-28T00:00:00",
          "2022-08-29T00:00:00",
          "2022-08-30T00:00:00",
          "2022-08-31T00:00:00",
          "2022-09-01T00:00:00",
          "2022-09-02T00:00:00",
          "2022-09-03T00:00:00",
          "2022-09-04T00:00:00",
          "2022-09-05T00:00:00",
          "2022-09-06T00:00:00",
          "2022-09-07T00:00:00",
          "2022-09-08T00:00:00",
          "2022-09-09T00:00:00",
          "2022-09-10T00:00:00",
          "2022-09-11T00:00:00",
          "2022-09-12T00:00:00",
          "2022-09-13T00:00:00",
          "2022-09-14T00:00:00",
          "2022-09-15T00:00:00",
          "2022-09-16T00:00:00",
          "2022-09-17T00:00:00",
          "2022-09-18T00:00:00",
          "2022-09-19T00:00:00",
          "2022-09-20T00:00:00",
          "2022-09-21T00:00:00",
          "2022-09-22T00:00:00",
          "2022-09-23T00:00:00",
          "2022-09-24T00:00:00",
          "2022-09-25T00:00:00",
          "2022-09-26T00:00:00",
          "2022-09-27T00:00:00",
          "2022-09-28T00:00:00",
          "2022-09-29T00:00:00",
          "2022-09-30T00:00:00",
          "2022-10-01T00:00:00",
          "2022-10-02T00:00:00",
          "2022-10-03T00:00:00",
          "2022-10-04T00:00:00",
          "2022-10-05T00:00:00",
          "2022-10-06T00:00:00",
          "2022-10-07T00:00:00",
          "2022-10-08T00:00:00",
          "2022-10-09T00:00:00",
          "2022-10-10T00:00:00",
          "2022-10-11T00:00:00",
          "2022-10-12T00:00:00",
          "2022-10-13T00:00:00",
          "2022-10-14T00:00:00",
          "2022-10-15T00:00:00",
          "2022-10-16T00:00:00",
          "2022-10-17T00:00:00",
          "2022-10-18T00:00:00",
          "2022-10-19T00:00:00",
          "2022-10-20T00:00:00",
          "2022-10-21T00:00:00",
          "2022-10-22T00:00:00",
          "2022-10-23T00:00:00",
          "2022-10-24T00:00:00",
          "2022-10-25T00:00:00",
          "2022-10-26T00:00:00",
          "2022-10-27T00:00:00",
          "2022-10-28T00:00:00",
          "2022-10-29T00:00:00",
          "2022-10-30T00:00:00",
          "2022-10-31T00:00:00",
          "2022-11-01T00:00:00",
          "2022-11-02T00:00:00",
          "2022-11-03T00:00:00",
          "2022-11-04T00:00:00",
          "2022-11-05T00:00:00",
          "2022-11-06T00:00:00",
          "2022-11-07T00:00:00",
          "2022-11-08T00:00:00",
          "2022-11-09T00:00:00",
          "2022-11-10T00:00:00",
          "2022-11-11T00:00:00",
          "2022-11-12T00:00:00",
          "2022-11-13T00:00:00",
          "2022-11-14T00:00:00",
          "2022-11-15T00:00:00",
          "2022-11-15T22:59:35"
         ],
         "y": [
          0,
          0,
          0,
          1.99566,
          -134219.93414169288,
          1155732.8454719258,
          1235830.228946005,
          1230095.2099083036,
          1403297.3257509016,
          1433441.6974528357,
          2162668.933865266,
          1872503.103722793,
          1484079.3799243735,
          1862923.0615716816,
          1977208.979664865,
          1858961.6621314853,
          2175929.752600201,
          2503352.682382279,
          3696153.4935095804,
          3836958.3177411794,
          4349268.093946943,
          4507128.785385993,
          4282679.589138782,
          4428492.025415056,
          3936803.135271628,
          4077974.231458971,
          4329755.106067871,
          4257188.368046036,
          4868136.4120800095,
          4782710.7522594035,
          5122751.044268991,
          5104791.743329638,
          4880171.147451729,
          4872260.427638519,
          4906496.9932508245,
          5218050.546492864,
          5906704.536297857,
          56636828.33099509,
          1000340261.8977636,
          1161761368.1958103,
          1233368524.1003,
          1277237769.9876223,
          1323845819.5396268,
          1406329753.3887215,
          1408037084.931734,
          1391782209.4104385,
          1388731366.6919386,
          1431383705.6369796,
          1443794234.6593516,
          1458451022.3828495,
          1456788833.5811472,
          1460053828.3105357,
          1460653550.8103716,
          1476414975.3807411,
          1462552557.4839208,
          1458464637.957644,
          1468400409.9615686,
          1455038435.23087,
          1493220406.7168336,
          1435920703.5382538,
          1248088200.2366655,
          1241872806.6927292,
          1272564913.2019267,
          1276792930.572028,
          1274876330.1095192,
          1299319399.579893,
          1347859663.955665,
          1367326564.5777433,
          1406767965.3036585,
          1403267076.3838391,
          1411649603.3968072,
          1411917337.7157478,
          1416695201.2639441,
          1429751863.9154506,
          1332362962.22822,
          1349789106.6242363,
          1351512120.1208906,
          1363829707.358587,
          1387623517.744798,
          1453918249.246931,
          1540264417.6922243,
          1649251655.383098,
          1734667746.8570123,
          1763544324.1505003,
          1777627393.0190182,
          1829541732.739367,
          1847165125.533637,
          1856945207.6041172,
          1880826453.2251012,
          1841622869.65732,
          1844689401.1323924,
          1832475775.4547403,
          1599270502.464909,
          1554875929.9405103,
          1517980259.7533424,
          1535740277.666042,
          1555971706.5254097,
          1571445131.1946251,
          1575525267.0545473,
          1583848257.2941906,
          1624307021.1808372,
          1634316092.514227,
          1637771608.4349215,
          1633980104.851832,
          1638429796.9893,
          1633358329.2239685,
          1640060366.5508676,
          1645861083.7837996,
          1613830383.3830853,
          1627935062.9544804,
          1655593535.2782538,
          1647511276.3233032,
          1659127653.1924167,
          1669141174.96085,
          1611547830.2968109,
          1616604917.4959798,
          1629946593.0160685,
          1623204234.8573902,
          1639361831.4564433,
          1635051857.3264143,
          1631099767.5068882,
          1609492203.2492912,
          1610704223.8490217,
          1597779369.8294985,
          1610462009.442989,
          1615285990.336472,
          1614474951.8423817,
          1638278827.7240295,
          1658211134.5859241,
          1671351713.0282247,
          1654493334.263544,
          1653858929.813826,
          1647268167.8433735,
          1644797298.832985,
          1639426557.5721753,
          1655070338.2683191,
          1648312333.9712932,
          1642982563.6040683,
          1587511644.944141,
          1614912444.3414972,
          1611721347.4247446,
          1568571125.0706046,
          1567814505.2450159,
          1565255174.9496245,
          1531083787.3852305,
          1516325332.3292015,
          1468972631.0468216,
          1444725568.0577216,
          1468429848.200919,
          1481702834.3222604,
          1448527153.773733,
          1452606128.4985194,
          1453243069.7341218,
          1448405207.3055418,
          1441730092.1321845,
          1421588808.0001612,
          1393216992.2330186,
          1412106676.1251822,
          1408340354.3204556,
          1356736034.5925384,
          1354126952.7698896,
          1353195975.684557,
          1356285459.3112733,
          1357728871.873308,
          1364083980.2284417,
          1371543362.4427679,
          1362847984.1410623,
          1366683094.8792896,
          1365776173.241531,
          1243760257.5747833,
          1078899347.9022098,
          1075357978.9139948,
          1071170636.2690006,
          1064300014.6735852,
          1062081167.863428,
          1063074796.7552866,
          1049197577.7715292,
          1041626697.017034,
          1036563681.1465036,
          1022212233.1077905,
          1014833464.2053463,
          1010744138.8959465,
          1007918348.8726926,
          995283211.3982078,
          984182206.0152878,
          1006303005.2263919,
          992080556.5729918,
          989640850.6062809,
          1003882353.5643021,
          1078636606.3856416,
          1081984933.3183591,
          1078486964.2142022,
          1084113440.1516922,
          1073785277.5904276,
          1070170974.3925232,
          1065389631.7460732,
          1065043589.2278621,
          1066986285.7355398,
          1067129175.7044812,
          1079686642.2649553,
          1068020611.3855743,
          1064169139.1215616,
          1063810468.3698349,
          1064214781.3881744,
          1061598869.1214275,
          1060900422.3987638,
          1048173455.9554464,
          1038278240.9340419,
          1038710321.551167,
          1040606722.3479254,
          1039712745.373205,
          1039936350.7639892,
          1044457400.0556586,
          958798031.2501594,
          971325854.8995312,
          956914530.2760128,
          957215228.8458959,
          956248022.6722919,
          958277182.042788,
          955962720.4766082,
          957343075.2369175,
          956675802.831952,
          952721019.6874299,
          950226985.7715138,
          947682112.4045866,
          949898055.9794319,
          947142409.1763418,
          938693775.6208746,
          930843153.1374929,
          933901804.8244236,
          930230545.8741412,
          928502735.2817684,
          925688078.5876131,
          920767957.4642342,
          924721694.6169013,
          918381496.012684,
          902755467.2640426,
          898385960.0503252,
          896877543.9125075,
          891195700.4775785,
          891371889.1336677,
          860622693.3351594,
          847645586.4114051,
          851790744.1136345,
          864360413.2214932,
          856142311.7215677,
          829264640.3565086,
          827412435.2481138
         ]
        }
       ],
       "layout": {
        "legend": {
         "title": {
          "text": "App Name"
         }
        },
        "template": {
         "data": {
          "bar": [
           {
            "error_x": {
             "color": "#2a3f5f"
            },
            "error_y": {
             "color": "#2a3f5f"
            },
            "marker": {
             "line": {
              "color": "#E5ECF6",
              "width": 0.5
             },
             "pattern": {
              "fillmode": "overlay",
              "size": 10,
              "solidity": 0.2
             }
            },
            "type": "bar"
           }
          ],
          "barpolar": [
           {
            "marker": {
             "line": {
              "color": "#E5ECF6",
              "width": 0.5
             },
             "pattern": {
              "fillmode": "overlay",
              "size": 10,
              "solidity": 0.2
             }
            },
            "type": "barpolar"
           }
          ],
          "carpet": [
           {
            "aaxis": {
             "endlinecolor": "#2a3f5f",
             "gridcolor": "white",
             "linecolor": "white",
             "minorgridcolor": "white",
             "startlinecolor": "#2a3f5f"
            },
            "baxis": {
             "endlinecolor": "#2a3f5f",
             "gridcolor": "white",
             "linecolor": "white",
             "minorgridcolor": "white",
             "startlinecolor": "#2a3f5f"
            },
            "type": "carpet"
           }
          ],
          "choropleth": [
           {
            "colorbar": {
             "outlinewidth": 0,
             "ticks": ""
            },
            "type": "choropleth"
           }
          ],
          "contour": [
           {
            "colorbar": {
             "outlinewidth": 0,
             "ticks": ""
            },
            "colorscale": [
             [
              0,
              "#0d0887"
             ],
             [
              0.1111111111111111,
              "#46039f"
             ],
             [
              0.2222222222222222,
              "#7201a8"
             ],
             [
              0.3333333333333333,
              "#9c179e"
             ],
             [
              0.4444444444444444,
              "#bd3786"
             ],
             [
              0.5555555555555556,
              "#d8576b"
             ],
             [
              0.6666666666666666,
              "#ed7953"
             ],
             [
              0.7777777777777778,
              "#fb9f3a"
             ],
             [
              0.8888888888888888,
              "#fdca26"
             ],
             [
              1,
              "#f0f921"
             ]
            ],
            "type": "contour"
           }
          ],
          "contourcarpet": [
           {
            "colorbar": {
             "outlinewidth": 0,
             "ticks": ""
            },
            "type": "contourcarpet"
           }
          ],
          "heatmap": [
           {
            "colorbar": {
             "outlinewidth": 0,
             "ticks": ""
            },
            "colorscale": [
             [
              0,
              "#0d0887"
             ],
             [
              0.1111111111111111,
              "#46039f"
             ],
             [
              0.2222222222222222,
              "#7201a8"
             ],
             [
              0.3333333333333333,
              "#9c179e"
             ],
             [
              0.4444444444444444,
              "#bd3786"
             ],
             [
              0.5555555555555556,
              "#d8576b"
             ],
             [
              0.6666666666666666,
              "#ed7953"
             ],
             [
              0.7777777777777778,
              "#fb9f3a"
             ],
             [
              0.8888888888888888,
              "#fdca26"
             ],
             [
              1,
              "#f0f921"
             ]
            ],
            "type": "heatmap"
           }
          ],
          "heatmapgl": [
           {
            "colorbar": {
             "outlinewidth": 0,
             "ticks": ""
            },
            "colorscale": [
             [
              0,
              "#0d0887"
             ],
             [
              0.1111111111111111,
              "#46039f"
             ],
             [
              0.2222222222222222,
              "#7201a8"
             ],
             [
              0.3333333333333333,
              "#9c179e"
             ],
             [
              0.4444444444444444,
              "#bd3786"
             ],
             [
              0.5555555555555556,
              "#d8576b"
             ],
             [
              0.6666666666666666,
              "#ed7953"
             ],
             [
              0.7777777777777778,
              "#fb9f3a"
             ],
             [
              0.8888888888888888,
              "#fdca26"
             ],
             [
              1,
              "#f0f921"
             ]
            ],
            "type": "heatmapgl"
           }
          ],
          "histogram": [
           {
            "marker": {
             "pattern": {
              "fillmode": "overlay",
              "size": 10,
              "solidity": 0.2
             }
            },
            "type": "histogram"
           }
          ],
          "histogram2d": [
           {
            "colorbar": {
             "outlinewidth": 0,
             "ticks": ""
            },
            "colorscale": [
             [
              0,
              "#0d0887"
             ],
             [
              0.1111111111111111,
              "#46039f"
             ],
             [
              0.2222222222222222,
              "#7201a8"
             ],
             [
              0.3333333333333333,
              "#9c179e"
             ],
             [
              0.4444444444444444,
              "#bd3786"
             ],
             [
              0.5555555555555556,
              "#d8576b"
             ],
             [
              0.6666666666666666,
              "#ed7953"
             ],
             [
              0.7777777777777778,
              "#fb9f3a"
             ],
             [
              0.8888888888888888,
              "#fdca26"
             ],
             [
              1,
              "#f0f921"
             ]
            ],
            "type": "histogram2d"
           }
          ],
          "histogram2dcontour": [
           {
            "colorbar": {
             "outlinewidth": 0,
             "ticks": ""
            },
            "colorscale": [
             [
              0,
              "#0d0887"
             ],
             [
              0.1111111111111111,
              "#46039f"
             ],
             [
              0.2222222222222222,
              "#7201a8"
             ],
             [
              0.3333333333333333,
              "#9c179e"
             ],
             [
              0.4444444444444444,
              "#bd3786"
             ],
             [
              0.5555555555555556,
              "#d8576b"
             ],
             [
              0.6666666666666666,
              "#ed7953"
             ],
             [
              0.7777777777777778,
              "#fb9f3a"
             ],
             [
              0.8888888888888888,
              "#fdca26"
             ],
             [
              1,
              "#f0f921"
             ]
            ],
            "type": "histogram2dcontour"
           }
          ],
          "mesh3d": [
           {
            "colorbar": {
             "outlinewidth": 0,
             "ticks": ""
            },
            "type": "mesh3d"
           }
          ],
          "parcoords": [
           {
            "line": {
             "colorbar": {
              "outlinewidth": 0,
              "ticks": ""
             }
            },
            "type": "parcoords"
           }
          ],
          "pie": [
           {
            "automargin": true,
            "type": "pie"
           }
          ],
          "scatter": [
           {
            "fillpattern": {
             "fillmode": "overlay",
             "size": 10,
             "solidity": 0.2
            },
            "type": "scatter"
           }
          ],
          "scatter3d": [
           {
            "line": {
             "colorbar": {
              "outlinewidth": 0,
              "ticks": ""
             }
            },
            "marker": {
             "colorbar": {
              "outlinewidth": 0,
              "ticks": ""
             }
            },
            "type": "scatter3d"
           }
          ],
          "scattercarpet": [
           {
            "marker": {
             "colorbar": {
              "outlinewidth": 0,
              "ticks": ""
             }
            },
            "type": "scattercarpet"
           }
          ],
          "scattergeo": [
           {
            "marker": {
             "colorbar": {
              "outlinewidth": 0,
              "ticks": ""
             }
            },
            "type": "scattergeo"
           }
          ],
          "scattergl": [
           {
            "marker": {
             "colorbar": {
              "outlinewidth": 0,
              "ticks": ""
             }
            },
            "type": "scattergl"
           }
          ],
          "scattermapbox": [
           {
            "marker": {
             "colorbar": {
              "outlinewidth": 0,
              "ticks": ""
             }
            },
            "type": "scattermapbox"
           }
          ],
          "scatterpolar": [
           {
            "marker": {
             "colorbar": {
              "outlinewidth": 0,
              "ticks": ""
             }
            },
            "type": "scatterpolar"
           }
          ],
          "scatterpolargl": [
           {
            "marker": {
             "colorbar": {
              "outlinewidth": 0,
              "ticks": ""
             }
            },
            "type": "scatterpolargl"
           }
          ],
          "scatterternary": [
           {
            "marker": {
             "colorbar": {
              "outlinewidth": 0,
              "ticks": ""
             }
            },
            "type": "scatterternary"
           }
          ],
          "surface": [
           {
            "colorbar": {
             "outlinewidth": 0,
             "ticks": ""
            },
            "colorscale": [
             [
              0,
              "#0d0887"
             ],
             [
              0.1111111111111111,
              "#46039f"
             ],
             [
              0.2222222222222222,
              "#7201a8"
             ],
             [
              0.3333333333333333,
              "#9c179e"
             ],
             [
              0.4444444444444444,
              "#bd3786"
             ],
             [
              0.5555555555555556,
              "#d8576b"
             ],
             [
              0.6666666666666666,
              "#ed7953"
             ],
             [
              0.7777777777777778,
              "#fb9f3a"
             ],
             [
              0.8888888888888888,
              "#fdca26"
             ],
             [
              1,
              "#f0f921"
             ]
            ],
            "type": "surface"
           }
          ],
          "table": [
           {
            "cells": {
             "fill": {
              "color": "#EBF0F8"
             },
             "line": {
              "color": "white"
             }
            },
            "header": {
             "fill": {
              "color": "#C8D4E3"
             },
             "line": {
              "color": "white"
             }
            },
            "type": "table"
           }
          ]
         },
         "layout": {
          "annotationdefaults": {
           "arrowcolor": "#2a3f5f",
           "arrowhead": 0,
           "arrowwidth": 1
          },
          "autotypenumbers": "strict",
          "coloraxis": {
           "colorbar": {
            "outlinewidth": 0,
            "ticks": ""
           }
          },
          "colorscale": {
           "diverging": [
            [
             0,
             "#8e0152"
            ],
            [
             0.1,
             "#c51b7d"
            ],
            [
             0.2,
             "#de77ae"
            ],
            [
             0.3,
             "#f1b6da"
            ],
            [
             0.4,
             "#fde0ef"
            ],
            [
             0.5,
             "#f7f7f7"
            ],
            [
             0.6,
             "#e6f5d0"
            ],
            [
             0.7,
             "#b8e186"
            ],
            [
             0.8,
             "#7fbc41"
            ],
            [
             0.9,
             "#4d9221"
            ],
            [
             1,
             "#276419"
            ]
           ],
           "sequential": [
            [
             0,
             "#0d0887"
            ],
            [
             0.1111111111111111,
             "#46039f"
            ],
            [
             0.2222222222222222,
             "#7201a8"
            ],
            [
             0.3333333333333333,
             "#9c179e"
            ],
            [
             0.4444444444444444,
             "#bd3786"
            ],
            [
             0.5555555555555556,
             "#d8576b"
            ],
            [
             0.6666666666666666,
             "#ed7953"
            ],
            [
             0.7777777777777778,
             "#fb9f3a"
            ],
            [
             0.8888888888888888,
             "#fdca26"
            ],
            [
             1,
             "#f0f921"
            ]
           ],
           "sequentialminus": [
            [
             0,
             "#0d0887"
            ],
            [
             0.1111111111111111,
             "#46039f"
            ],
            [
             0.2222222222222222,
             "#7201a8"
            ],
            [
             0.3333333333333333,
             "#9c179e"
            ],
            [
             0.4444444444444444,
             "#bd3786"
            ],
            [
             0.5555555555555556,
             "#d8576b"
            ],
            [
             0.6666666666666666,
             "#ed7953"
            ],
            [
             0.7777777777777778,
             "#fb9f3a"
            ],
            [
             0.8888888888888888,
             "#fdca26"
            ],
            [
             1,
             "#f0f921"
            ]
           ]
          },
          "colorway": [
           "#636efa",
           "#EF553B",
           "#00cc96",
           "#ab63fa",
           "#FFA15A",
           "#19d3f3",
           "#FF6692",
           "#B6E880",
           "#FF97FF",
           "#FECB52"
          ],
          "font": {
           "color": "#2a3f5f"
          },
          "geo": {
           "bgcolor": "white",
           "lakecolor": "white",
           "landcolor": "#E5ECF6",
           "showlakes": true,
           "showland": true,
           "subunitcolor": "white"
          },
          "hoverlabel": {
           "align": "left"
          },
          "hovermode": "closest",
          "mapbox": {
           "style": "light"
          },
          "paper_bgcolor": "white",
          "plot_bgcolor": "#E5ECF6",
          "polar": {
           "angularaxis": {
            "gridcolor": "white",
            "linecolor": "white",
            "ticks": ""
           },
           "bgcolor": "#E5ECF6",
           "radialaxis": {
            "gridcolor": "white",
            "linecolor": "white",
            "ticks": ""
           }
          },
          "scene": {
           "xaxis": {
            "backgroundcolor": "#E5ECF6",
            "gridcolor": "white",
            "gridwidth": 2,
            "linecolor": "white",
            "showbackground": true,
            "ticks": "",
            "zerolinecolor": "white"
           },
           "yaxis": {
            "backgroundcolor": "#E5ECF6",
            "gridcolor": "white",
            "gridwidth": 2,
            "linecolor": "white",
            "showbackground": true,
            "ticks": "",
            "zerolinecolor": "white"
           },
           "zaxis": {
            "backgroundcolor": "#E5ECF6",
            "gridcolor": "white",
            "gridwidth": 2,
            "linecolor": "white",
            "showbackground": true,
            "ticks": "",
            "zerolinecolor": "white"
           }
          },
          "shapedefaults": {
           "line": {
            "color": "#2a3f5f"
           }
          },
          "ternary": {
           "aaxis": {
            "gridcolor": "white",
            "linecolor": "white",
            "ticks": ""
           },
           "baxis": {
            "gridcolor": "white",
            "linecolor": "white",
            "ticks": ""
           },
           "bgcolor": "#E5ECF6",
           "caxis": {
            "gridcolor": "white",
            "linecolor": "white",
            "ticks": ""
           }
          },
          "title": {
           "x": 0.05
          },
          "xaxis": {
           "automargin": true,
           "gridcolor": "white",
           "linecolor": "white",
           "ticks": "",
           "title": {
            "standoff": 15
           },
           "zerolinecolor": "white",
           "zerolinewidth": 2
          },
          "yaxis": {
           "automargin": true,
           "gridcolor": "white",
           "linecolor": "white",
           "ticks": "",
           "title": {
            "standoff": 15
           },
           "zerolinecolor": "white",
           "zerolinewidth": 2
          }
         }
        },
        "title": {
         "text": "Cumulative Net Dollar Flow since Program Announcement (At Most Recent Token Price)"
        },
        "xaxis": {
         "title": {
          "text": "Day"
         }
        },
        "yaxis": {
         "tickprefix": "$",
         "title": {
          "text": "Cumulative Net Dollar Flow (N$F) - At Most Recent Price"
         }
        }
       }
      }
     },
     "metadata": {},
     "output_type": "display_data"
    }
   ],
   "source": [
    "fig = px.line(netdf_df, x=\"date\", y=\"net_dollar_flow\", color=\"protocol\", \\\n",
    "             title=\"Daily Net Dollar Flow since Program Announcement\",\\\n",
    "            labels={\n",
    "                     \"date\": \"Day\",\n",
    "                     \"net_dollar_flow\": \"Net Dollar Flow (N$F)\"\n",
    "                 }\n",
    "            )\n",
    "fig.update_layout(\n",
    "    legend_title=\"App Name\"\n",
    ")\n",
    "fig.update_layout(yaxis_tickprefix = '$')\n",
    "fig.write_image(prepend + \"img_outputs/svg/daily_ndf.svg\")\n",
    "fig.write_image(prepend + \"img_outputs/png/daily_ndf.png\")\n",
    "fig.write_html(prepend + \"img_outputs/daily_ndf.html\", include_plotlyjs='cdn')\n",
    "\n",
    "# cumul_fig = px.area(netdf_df, x=\"date\", y=\"cumul_net_dollar_flow\", color=\"protocol\", \\\n",
    "#              title=\"Cumulative Dollar Flow since Program Announcement\",\\\n",
    "#                    labels={\n",
    "#                      \"date\": \"Day\",\n",
    "#                      \"cumul_net_dollar_flow\": \"Cumulative Net Dollar Flow (N$F)\"\n",
    "#                  }\n",
    "#             ,areamode='group')\n",
    "# cumul_fig.update_layout(yaxis_tickprefix = '$')\n",
    "# cumul_fig.show()\n",
    "\n",
    "\n",
    "cumul_fig = go.Figure()\n",
    "proto_names = netdf_df['protocol'].drop_duplicates()\n",
    "print(proto_names)\n",
    "for p in proto_names:\n",
    "    cumul_fig.add_trace(go.Scatter(x=netdf_df[netdf_df['protocol'] == p]['date'] \\\n",
    "                                   , y=netdf_df[netdf_df['protocol'] == p]['cumul_net_dollar_flow'] \\\n",
    "                                    ,name = p\\\n",
    "                                  ,fill='tozeroy')) # fill down to xaxis\n",
    "\n",
    "cumul_fig.update_layout(yaxis_tickprefix = '$')\n",
    "cumul_fig.update_layout(\n",
    "    title=\"Cumulative Net Dollar Flow since Program Announcement\",\n",
    "    xaxis_title=\"Day\",\n",
    "    yaxis_title=\"Cumulative Net Dollar Flow (N$F)\",\n",
    "    legend_title=\"App Name\",\n",
    "#     color_discrete_map=px.colors.qualitative.G10\n",
    ")\n",
    "# cumul_fig.write_image(prepend + \"img_outputs/svg/cumul_ndf.svg\") #prepend + \n",
    "# cumul_fig.write_image(prepend + \"img_outputs/png/cumul_ndf.png\") #prepend + \n",
    "# cumul_fig.write_html(prepend + \"img_outputs/cumul_ndf.html\", include_plotlyjs='cdn')\n",
    "cumul_fig.show()\n",
    "\n",
    "fig_last = go.Figure()\n",
    "proto_names = netdf_df['protocol'].drop_duplicates()\n",
    "# print(proto_names)\n",
    "for p in proto_names:\n",
    "    fig_last.add_trace(go.Scatter(x=netdf_df[netdf_df['protocol'] == p]['date'] \\\n",
    "                                   , y=netdf_df[netdf_df['protocol'] == p]['cumul_last_price_net_dollar_flow'] \\\n",
    "                                    ,name = p\\\n",
    "                                  ,fill='tozeroy')) # fill down to xaxis\n",
    "\n",
    "fig_last.update_layout(yaxis_tickprefix = '$')\n",
    "fig_last.update_layout(\n",
    "    title=\"Cumulative Net Dollar Flow since Program Announcement (At Most Recent Token Price)\",\n",
    "    xaxis_title=\"Day\",\n",
    "    yaxis_title=\"Cumulative Net Dollar Flow (N$F) - At Most Recent Price\",\n",
    "    legend_title=\"App Name\",\n",
    "#     color_discrete_map=px.colors.qualitative.G10\n",
    ")\n",
    "# fig_last.write_image(prepend + \"img_outputs/svg/cumul_ndf_last_price.svg\")\n",
    "# fig_last.write_image(prepend + \"img_outputs/png/cumul_ndf_last_price.png\")\n",
    "# fig_last.write_html(prepend + \"img_outputs/cumul_ndf_last_price.html\", include_plotlyjs='cdn')\n",
    "# cumul_fig.show()\n"
   ]
  },
  {
   "cell_type": "code",
   "execution_count": 24,
   "id": "bc60f2fa",
   "metadata": {},
   "outputs": [
    {
     "name": "stdout",
     "output_type": "stream",
     "text": [
      "yay\n"
     ]
    }
   ],
   "source": [
    "# fig.show()\n",
    "# cumul_fig.show()\n",
    "print(\"yay\")"
   ]
  },
  {
   "cell_type": "code",
   "execution_count": 25,
   "id": "def0cbf6",
   "metadata": {},
   "outputs": [],
   "source": [
    "# ! jupyter nbconvert --to python optimism_app_net_flows.ipynb"
   ]
  }
 ],
 "metadata": {
  "kernelspec": {
   "display_name": "Python 3 (ipykernel)",
   "language": "python",
   "name": "python3"
  },
  "language_info": {
   "codemirror_mode": {
    "name": "ipython",
    "version": 3
   },
   "file_extension": ".py",
   "mimetype": "text/x-python",
   "name": "python",
   "nbconvert_exporter": "python",
   "pygments_lexer": "ipython3",
   "version": "3.9.13"
  },
  "vscode": {
   "interpreter": {
    "hash": "17c021eea7371cec353b12daa8dd7517ddfe82cfa4c2626e1e7d1541ccab7c49"
   }
  }
 },
 "nbformat": 4,
 "nbformat_minor": 5
}
