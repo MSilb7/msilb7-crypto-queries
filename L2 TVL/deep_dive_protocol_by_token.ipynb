{
 "cells": [
  {
   "cell_type": "code",
   "execution_count": 38,
   "metadata": {},
   "outputs": [],
   "source": [
    "import pandas as pd\n",
    "\n",
    "df = pd.read_csv('csv_outputs/latest_tvl_app_trends_by_token.csv')"
   ]
  },
  {
   "cell_type": "code",
   "execution_count": 39,
   "metadata": {},
   "outputs": [],
   "source": [
    "name = 'Radiant'\n",
    "chain = 'Arbitrum'\n",
    "trailing_num_days = 30"
   ]
  },
  {
   "cell_type": "code",
   "execution_count": 40,
   "metadata": {},
   "outputs": [
    {
     "name": "stderr",
     "output_type": "stream",
     "text": [
      "/var/folders/by/kltjc8yd0yz_7_wrtrzhrm9m0000gn/T/ipykernel_81505/3393162191.py:7: SettingWithCopyWarning: \n",
      "A value is trying to be set on a copy of a slice from a DataFrame.\n",
      "Try using .loc[row_indexer,col_indexer] = value instead\n",
      "\n",
      "See the caveats in the documentation: https://pandas.pydata.org/pandas-docs/stable/user_guide/indexing.html#returning-a-view-versus-a-copy\n",
      "  ndf['date_rank'] = ndf['date'].rank(method='min', ascending=False)\n"
     ]
    }
   ],
   "source": [
    "ndf = df[\n",
    "        (df['name'].str.lower() == name.lower())\n",
    "        & (df['chain'].str.lower() == chain.lower())\n",
    "        # & (df['chain'].str.lower() == chain.lower())\n",
    "]\n",
    "# create a new column with ranks of \"dt\"\n",
    "ndf['date_rank'] = ndf['date'].rank(method='min', ascending=False)\n",
    "\n",
    "ndf = ndf[ndf['date_rank'] <= trailing_num_days]\n",
    "# display(ndf)\n",
    "# print(ndf.columns)"
   ]
  },
  {
   "cell_type": "code",
   "execution_count": 42,
   "metadata": {},
   "outputs": [
    {
     "data": {
      "text/html": [
       "<div>\n",
       "<style scoped>\n",
       "    .dataframe tbody tr th:only-of-type {\n",
       "        vertical-align: middle;\n",
       "    }\n",
       "\n",
       "    .dataframe tbody tr th {\n",
       "        vertical-align: top;\n",
       "    }\n",
       "\n",
       "    .dataframe thead th {\n",
       "        text-align: right;\n",
       "    }\n",
       "</style>\n",
       "<table border=\"1\" class=\"dataframe\">\n",
       "  <thead>\n",
       "    <tr style=\"text-align: right;\">\n",
       "      <th></th>\n",
       "      <th></th>\n",
       "      <th></th>\n",
       "      <th>net_dollar_flow_latest_price</th>\n",
       "      <th>share_of_total</th>\n",
       "    </tr>\n",
       "    <tr>\n",
       "      <th>chain</th>\n",
       "      <th>protocol</th>\n",
       "      <th>token</th>\n",
       "      <th></th>\n",
       "      <th></th>\n",
       "    </tr>\n",
       "  </thead>\n",
       "  <tbody>\n",
       "    <tr>\n",
       "      <th rowspan=\"5\" valign=\"top\">Arbitrum</th>\n",
       "      <th rowspan=\"5\" valign=\"top\">radiant</th>\n",
       "      <th>DAI</th>\n",
       "      <td>5.141380e+06</td>\n",
       "      <td>0.169288</td>\n",
       "    </tr>\n",
       "    <tr>\n",
       "      <th>USDC</th>\n",
       "      <td>1.112935e+07</td>\n",
       "      <td>0.366451</td>\n",
       "    </tr>\n",
       "    <tr>\n",
       "      <th>USDT</th>\n",
       "      <td>2.485402e+06</td>\n",
       "      <td>0.081836</td>\n",
       "    </tr>\n",
       "    <tr>\n",
       "      <th>WBTC</th>\n",
       "      <td>2.121401e+06</td>\n",
       "      <td>0.069850</td>\n",
       "    </tr>\n",
       "    <tr>\n",
       "      <th>WETH</th>\n",
       "      <td>9.493130e+06</td>\n",
       "      <td>0.312576</td>\n",
       "    </tr>\n",
       "  </tbody>\n",
       "</table>\n",
       "</div>"
      ],
      "text/plain": [
       "                         net_dollar_flow_latest_price  share_of_total\n",
       "chain    protocol token                                              \n",
       "Arbitrum radiant  DAI                    5.141380e+06        0.169288\n",
       "                  USDC                   1.112935e+07        0.366451\n",
       "                  USDT                   2.485402e+06        0.081836\n",
       "                  WBTC                   2.121401e+06        0.069850\n",
       "                  WETH                   9.493130e+06        0.312576"
      ]
     },
     "metadata": {},
     "output_type": "display_data"
    }
   ],
   "source": [
    "piv_df = ndf.groupby(['chain','protocol','token']).agg({'net_dollar_flow_latest_price':'sum'})\n",
    "piv_df['share_of_total'] = piv_df['net_dollar_flow_latest_price'] / piv_df.groupby(['chain','protocol'])['net_dollar_flow_latest_price'].transform('sum')\n",
    "\n",
    "\n",
    "display(piv_df)"
   ]
  }
 ],
 "metadata": {
  "kernelspec": {
   "display_name": "new-env",
   "language": "python",
   "name": "python3"
  },
  "language_info": {
   "codemirror_mode": {
    "name": "ipython",
    "version": 3
   },
   "file_extension": ".py",
   "mimetype": "text/x-python",
   "name": "python",
   "nbconvert_exporter": "python",
   "pygments_lexer": "ipython3",
   "version": "3.10.9 (main, Jan 11 2023, 09:18:20) [Clang 14.0.6 ]"
  },
  "orig_nbformat": 4,
  "vscode": {
   "interpreter": {
    "hash": "7d537a1638226190f579d6fbb68604c1b09ebc740a69df557abedb49ad78e592"
   }
  }
 },
 "nbformat": 4,
 "nbformat_minor": 2
}
