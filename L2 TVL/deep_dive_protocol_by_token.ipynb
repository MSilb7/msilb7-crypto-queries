{
 "cells": [
  {
   "cell_type": "code",
   "execution_count": 26,
   "metadata": {},
   "outputs": [],
   "source": [
    "import pandas as pd\n",
    "\n",
    "df = pd.read_csv('csv_outputs/latest_tvl_app_trends_by_token.csv')\n",
    "\n"
   ]
  },
  {
   "cell_type": "code",
   "execution_count": 30,
   "metadata": {},
   "outputs": [],
   "source": [
    "name = 'SushiSwap'\n",
    "chain = 'Arbitrum'\n",
    "trailing_num_days = 30"
   ]
  },
  {
   "cell_type": "code",
   "execution_count": 31,
   "metadata": {},
   "outputs": [
    {
     "name": "stdout",
     "output_type": "stream",
     "text": [
      "Index(['Unnamed: 0', 'date', 'token', 'chain', 'protocol', 'name', 'category',\n",
      "       'parent_protocol', 'token_value', 'usd_value', 'total_app_tvl',\n",
      "       'last_token_value', 'price_usd', 'last_price_usd', 'token_rank_desc',\n",
      "       'token_rank_desc_prot', 'token_rank_desc_prot_gt0', 'latest_price_usd',\n",
      "       'net_token_flow', 'net_dollar_flow', 'net_dollar_flow_latest_price',\n",
      "       'date_rank'],\n",
      "      dtype='object')\n"
     ]
    },
    {
     "name": "stderr",
     "output_type": "stream",
     "text": [
      "/var/folders/by/kltjc8yd0yz_7_wrtrzhrm9m0000gn/T/ipykernel_81505/166213775.py:7: SettingWithCopyWarning: \n",
      "A value is trying to be set on a copy of a slice from a DataFrame.\n",
      "Try using .loc[row_indexer,col_indexer] = value instead\n",
      "\n",
      "See the caveats in the documentation: https://pandas.pydata.org/pandas-docs/stable/user_guide/indexing.html#returning-a-view-versus-a-copy\n",
      "  ndf['date_rank'] = ndf['date'].rank(method='min', ascending=False)\n"
     ]
    }
   ],
   "source": [
    "ndf = df[\n",
    "        (df['name'].str.lower() == name.lower())\n",
    "        & (df['chain'].str.lower() == chain.lower())\n",
    "        # & (df['chain'].str.lower() == chain.lower())\n",
    "]\n",
    "# create a new column with ranks of \"dt\"\n",
    "ndf['date_rank'] = ndf['date'].rank(method='min', ascending=False)\n",
    "\n",
    "ndf = ndf[ndf['date_rank'] <= trailing_num_days]\n",
    "# display(ndf)\n",
    "# print(ndf.columns)"
   ]
  },
  {
   "cell_type": "code",
   "execution_count": 33,
   "metadata": {},
   "outputs": [
    {
     "data": {
      "text/html": [
       "<div>\n",
       "<style scoped>\n",
       "    .dataframe tbody tr th:only-of-type {\n",
       "        vertical-align: middle;\n",
       "    }\n",
       "\n",
       "    .dataframe tbody tr th {\n",
       "        vertical-align: top;\n",
       "    }\n",
       "\n",
       "    .dataframe thead th {\n",
       "        text-align: right;\n",
       "    }\n",
       "</style>\n",
       "<table border=\"1\" class=\"dataframe\">\n",
       "  <thead>\n",
       "    <tr style=\"text-align: right;\">\n",
       "      <th></th>\n",
       "      <th></th>\n",
       "      <th></th>\n",
       "      <th>net_dollar_flow_latest_price</th>\n",
       "    </tr>\n",
       "    <tr>\n",
       "      <th>chain</th>\n",
       "      <th>protocol</th>\n",
       "      <th>token</th>\n",
       "      <th></th>\n",
       "    </tr>\n",
       "  </thead>\n",
       "  <tbody>\n",
       "    <tr>\n",
       "      <th>Arbitrum</th>\n",
       "      <th>sushiswap*</th>\n",
       "      <th>totalLiquidityUSD</th>\n",
       "      <td>4.511007e+07</td>\n",
       "    </tr>\n",
       "  </tbody>\n",
       "</table>\n",
       "</div>"
      ],
      "text/plain": [
       "                                       net_dollar_flow_latest_price\n",
       "chain    protocol   token                                          \n",
       "Arbitrum sushiswap* totalLiquidityUSD                  4.511007e+07"
      ]
     },
     "metadata": {},
     "output_type": "display_data"
    }
   ],
   "source": [
    "piv_df = ndf.groupby(['chain','protocol','token']).agg({'net_dollar_flow_latest_price':'sum'})\n",
    "\n",
    "display(piv_df)"
   ]
  }
 ],
 "metadata": {
  "kernelspec": {
   "display_name": "new-env",
   "language": "python",
   "name": "python3"
  },
  "language_info": {
   "codemirror_mode": {
    "name": "ipython",
    "version": 3
   },
   "file_extension": ".py",
   "mimetype": "text/x-python",
   "name": "python",
   "nbconvert_exporter": "python",
   "pygments_lexer": "ipython3",
   "version": "3.10.9"
  },
  "orig_nbformat": 4,
  "vscode": {
   "interpreter": {
    "hash": "7d537a1638226190f579d6fbb68604c1b09ebc740a69df557abedb49ad78e592"
   }
  }
 },
 "nbformat": 4,
 "nbformat_minor": 2
}
